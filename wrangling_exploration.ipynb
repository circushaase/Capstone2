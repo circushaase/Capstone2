{
 "cells": [
  {
   "cell_type": "code",
   "execution_count": 1,
   "metadata": {},
   "outputs": [
    {
     "name": "stdout",
     "output_type": "stream",
     "text": [
      "Populating the interactive namespace from numpy and matplotlib\n"
     ]
    },
    {
     "data": {
      "text/html": [
       "\n",
       "    <div class=\"bk-root\">\n",
       "        <a href=\"https://bokeh.pydata.org\" target=\"_blank\" class=\"bk-logo bk-logo-small bk-logo-notebook\"></a>\n",
       "        <span id=\"46a4df4f-b914-4180-9426-b69167f6e947\">Loading BokehJS ...</span>\n",
       "    </div>"
      ]
     },
     "metadata": {},
     "output_type": "display_data"
    },
    {
     "data": {
      "application/javascript": [
       "\n",
       "(function(root) {\n",
       "  function now() {\n",
       "    return new Date();\n",
       "  }\n",
       "\n",
       "  var force = true;\n",
       "\n",
       "  if (typeof (root._bokeh_onload_callbacks) === \"undefined\" || force === true) {\n",
       "    root._bokeh_onload_callbacks = [];\n",
       "    root._bokeh_is_loading = undefined;\n",
       "  }\n",
       "\n",
       "  var JS_MIME_TYPE = 'application/javascript';\n",
       "  var HTML_MIME_TYPE = 'text/html';\n",
       "  var EXEC_MIME_TYPE = 'application/vnd.bokehjs_exec.v0+json';\n",
       "  var CLASS_NAME = 'output_bokeh rendered_html';\n",
       "\n",
       "  /**\n",
       "   * Render data to the DOM node\n",
       "   */\n",
       "  function render(props, node) {\n",
       "    var script = document.createElement(\"script\");\n",
       "    node.appendChild(script);\n",
       "  }\n",
       "\n",
       "  /**\n",
       "   * Handle when an output is cleared or removed\n",
       "   */\n",
       "  function handleClearOutput(event, handle) {\n",
       "    var cell = handle.cell;\n",
       "\n",
       "    var id = cell.output_area._bokeh_element_id;\n",
       "    var server_id = cell.output_area._bokeh_server_id;\n",
       "    // Clean up Bokeh references\n",
       "    if (id !== undefined) {\n",
       "      Bokeh.index[id].model.document.clear();\n",
       "      delete Bokeh.index[id];\n",
       "    }\n",
       "\n",
       "    if (server_id !== undefined) {\n",
       "      // Clean up Bokeh references\n",
       "      var cmd = \"from bokeh.io.state import curstate; print(curstate().uuid_to_server['\" + server_id + \"'].get_sessions()[0].document.roots[0]._id)\";\n",
       "      cell.notebook.kernel.execute(cmd, {\n",
       "        iopub: {\n",
       "          output: function(msg) {\n",
       "            var element_id = msg.content.text.trim();\n",
       "            Bokeh.index[element_id].model.document.clear();\n",
       "            delete Bokeh.index[element_id];\n",
       "          }\n",
       "        }\n",
       "      });\n",
       "      // Destroy server and session\n",
       "      var cmd = \"import bokeh.io.notebook as ion; ion.destroy_server('\" + server_id + \"')\";\n",
       "      cell.notebook.kernel.execute(cmd);\n",
       "    }\n",
       "  }\n",
       "\n",
       "  /**\n",
       "   * Handle when a new output is added\n",
       "   */\n",
       "  function handleAddOutput(event, handle) {\n",
       "    var output_area = handle.output_area;\n",
       "    var output = handle.output;\n",
       "\n",
       "    // limit handleAddOutput to display_data with EXEC_MIME_TYPE content only\n",
       "    if ((output.output_type != \"display_data\") || (!output.data.hasOwnProperty(EXEC_MIME_TYPE))) {\n",
       "      return\n",
       "    }\n",
       "\n",
       "    var toinsert = output_area.element.find(\".\" + CLASS_NAME.split(' ')[0]);\n",
       "\n",
       "    if (output.metadata[EXEC_MIME_TYPE][\"id\"] !== undefined) {\n",
       "      toinsert[0].firstChild.textContent = output.data[JS_MIME_TYPE];\n",
       "      // store reference to embed id on output_area\n",
       "      output_area._bokeh_element_id = output.metadata[EXEC_MIME_TYPE][\"id\"];\n",
       "    }\n",
       "    if (output.metadata[EXEC_MIME_TYPE][\"server_id\"] !== undefined) {\n",
       "      var bk_div = document.createElement(\"div\");\n",
       "      bk_div.innerHTML = output.data[HTML_MIME_TYPE];\n",
       "      var script_attrs = bk_div.children[0].attributes;\n",
       "      for (var i = 0; i < script_attrs.length; i++) {\n",
       "        toinsert[0].firstChild.setAttribute(script_attrs[i].name, script_attrs[i].value);\n",
       "      }\n",
       "      // store reference to server id on output_area\n",
       "      output_area._bokeh_server_id = output.metadata[EXEC_MIME_TYPE][\"server_id\"];\n",
       "    }\n",
       "  }\n",
       "\n",
       "  function register_renderer(events, OutputArea) {\n",
       "\n",
       "    function append_mime(data, metadata, element) {\n",
       "      // create a DOM node to render to\n",
       "      var toinsert = this.create_output_subarea(\n",
       "        metadata,\n",
       "        CLASS_NAME,\n",
       "        EXEC_MIME_TYPE\n",
       "      );\n",
       "      this.keyboard_manager.register_events(toinsert);\n",
       "      // Render to node\n",
       "      var props = {data: data, metadata: metadata[EXEC_MIME_TYPE]};\n",
       "      render(props, toinsert[0]);\n",
       "      element.append(toinsert);\n",
       "      return toinsert\n",
       "    }\n",
       "\n",
       "    /* Handle when an output is cleared or removed */\n",
       "    events.on('clear_output.CodeCell', handleClearOutput);\n",
       "    events.on('delete.Cell', handleClearOutput);\n",
       "\n",
       "    /* Handle when a new output is added */\n",
       "    events.on('output_added.OutputArea', handleAddOutput);\n",
       "\n",
       "    /**\n",
       "     * Register the mime type and append_mime function with output_area\n",
       "     */\n",
       "    OutputArea.prototype.register_mime_type(EXEC_MIME_TYPE, append_mime, {\n",
       "      /* Is output safe? */\n",
       "      safe: true,\n",
       "      /* Index of renderer in `output_area.display_order` */\n",
       "      index: 0\n",
       "    });\n",
       "  }\n",
       "\n",
       "  // register the mime type if in Jupyter Notebook environment and previously unregistered\n",
       "  if (root.Jupyter !== undefined) {\n",
       "    var events = require('base/js/events');\n",
       "    var OutputArea = require('notebook/js/outputarea').OutputArea;\n",
       "\n",
       "    if (OutputArea.prototype.mime_types().indexOf(EXEC_MIME_TYPE) == -1) {\n",
       "      register_renderer(events, OutputArea);\n",
       "    }\n",
       "  }\n",
       "\n",
       "  \n",
       "  if (typeof (root._bokeh_timeout) === \"undefined\" || force === true) {\n",
       "    root._bokeh_timeout = Date.now() + 5000;\n",
       "    root._bokeh_failed_load = false;\n",
       "  }\n",
       "\n",
       "  var NB_LOAD_WARNING = {'data': {'text/html':\n",
       "     \"<div style='background-color: #fdd'>\\n\"+\n",
       "     \"<p>\\n\"+\n",
       "     \"BokehJS does not appear to have successfully loaded. If loading BokehJS from CDN, this \\n\"+\n",
       "     \"may be due to a slow or bad network connection. Possible fixes:\\n\"+\n",
       "     \"</p>\\n\"+\n",
       "     \"<ul>\\n\"+\n",
       "     \"<li>re-rerun `output_notebook()` to attempt to load from CDN again, or</li>\\n\"+\n",
       "     \"<li>use INLINE resources instead, as so:</li>\\n\"+\n",
       "     \"</ul>\\n\"+\n",
       "     \"<code>\\n\"+\n",
       "     \"from bokeh.resources import INLINE\\n\"+\n",
       "     \"output_notebook(resources=INLINE)\\n\"+\n",
       "     \"</code>\\n\"+\n",
       "     \"</div>\"}};\n",
       "\n",
       "  function display_loaded() {\n",
       "    var el = document.getElementById(\"46a4df4f-b914-4180-9426-b69167f6e947\");\n",
       "    if (el != null) {\n",
       "      el.textContent = \"BokehJS is loading...\";\n",
       "    }\n",
       "    if (root.Bokeh !== undefined) {\n",
       "      if (el != null) {\n",
       "        el.textContent = \"BokehJS \" + root.Bokeh.version + \" successfully loaded.\";\n",
       "      }\n",
       "    } else if (Date.now() < root._bokeh_timeout) {\n",
       "      setTimeout(display_loaded, 100)\n",
       "    }\n",
       "  }\n",
       "\n",
       "\n",
       "  function run_callbacks() {\n",
       "    try {\n",
       "      root._bokeh_onload_callbacks.forEach(function(callback) { callback() });\n",
       "    }\n",
       "    finally {\n",
       "      delete root._bokeh_onload_callbacks\n",
       "    }\n",
       "    console.info(\"Bokeh: all callbacks have finished\");\n",
       "  }\n",
       "\n",
       "  function load_libs(js_urls, callback) {\n",
       "    root._bokeh_onload_callbacks.push(callback);\n",
       "    if (root._bokeh_is_loading > 0) {\n",
       "      console.log(\"Bokeh: BokehJS is being loaded, scheduling callback at\", now());\n",
       "      return null;\n",
       "    }\n",
       "    if (js_urls == null || js_urls.length === 0) {\n",
       "      run_callbacks();\n",
       "      return null;\n",
       "    }\n",
       "    console.log(\"Bokeh: BokehJS not loaded, scheduling load and callback at\", now());\n",
       "    root._bokeh_is_loading = js_urls.length;\n",
       "    for (var i = 0; i < js_urls.length; i++) {\n",
       "      var url = js_urls[i];\n",
       "      var s = document.createElement('script');\n",
       "      s.src = url;\n",
       "      s.async = false;\n",
       "      s.onreadystatechange = s.onload = function() {\n",
       "        root._bokeh_is_loading--;\n",
       "        if (root._bokeh_is_loading === 0) {\n",
       "          console.log(\"Bokeh: all BokehJS libraries loaded\");\n",
       "          run_callbacks()\n",
       "        }\n",
       "      };\n",
       "      s.onerror = function() {\n",
       "        console.warn(\"failed to load library \" + url);\n",
       "      };\n",
       "      console.log(\"Bokeh: injecting script tag for BokehJS library: \", url);\n",
       "      document.getElementsByTagName(\"head\")[0].appendChild(s);\n",
       "    }\n",
       "  };var element = document.getElementById(\"46a4df4f-b914-4180-9426-b69167f6e947\");\n",
       "  if (element == null) {\n",
       "    console.log(\"Bokeh: ERROR: autoload.js configured with elementid '46a4df4f-b914-4180-9426-b69167f6e947' but no matching script tag was found. \")\n",
       "    return false;\n",
       "  }\n",
       "\n",
       "  var js_urls = [\"https://cdn.pydata.org/bokeh/release/bokeh-0.12.13.min.js\", \"https://cdn.pydata.org/bokeh/release/bokeh-widgets-0.12.13.min.js\", \"https://cdn.pydata.org/bokeh/release/bokeh-tables-0.12.13.min.js\", \"https://cdn.pydata.org/bokeh/release/bokeh-gl-0.12.13.min.js\"];\n",
       "\n",
       "  var inline_js = [\n",
       "    function(Bokeh) {\n",
       "      Bokeh.set_log_level(\"info\");\n",
       "    },\n",
       "    \n",
       "    function(Bokeh) {\n",
       "      \n",
       "    },\n",
       "    function(Bokeh) {\n",
       "      console.log(\"Bokeh: injecting CSS: https://cdn.pydata.org/bokeh/release/bokeh-0.12.13.min.css\");\n",
       "      Bokeh.embed.inject_css(\"https://cdn.pydata.org/bokeh/release/bokeh-0.12.13.min.css\");\n",
       "      console.log(\"Bokeh: injecting CSS: https://cdn.pydata.org/bokeh/release/bokeh-widgets-0.12.13.min.css\");\n",
       "      Bokeh.embed.inject_css(\"https://cdn.pydata.org/bokeh/release/bokeh-widgets-0.12.13.min.css\");\n",
       "      console.log(\"Bokeh: injecting CSS: https://cdn.pydata.org/bokeh/release/bokeh-tables-0.12.13.min.css\");\n",
       "      Bokeh.embed.inject_css(\"https://cdn.pydata.org/bokeh/release/bokeh-tables-0.12.13.min.css\");\n",
       "    }\n",
       "  ];\n",
       "\n",
       "  function run_inline_js() {\n",
       "    \n",
       "    if ((root.Bokeh !== undefined) || (force === true)) {\n",
       "      for (var i = 0; i < inline_js.length; i++) {\n",
       "        inline_js[i].call(root, root.Bokeh);\n",
       "      }if (force === true) {\n",
       "        display_loaded();\n",
       "      }} else if (Date.now() < root._bokeh_timeout) {\n",
       "      setTimeout(run_inline_js, 100);\n",
       "    } else if (!root._bokeh_failed_load) {\n",
       "      console.log(\"Bokeh: BokehJS failed to load within specified timeout.\");\n",
       "      root._bokeh_failed_load = true;\n",
       "    } else if (force !== true) {\n",
       "      var cell = $(document.getElementById(\"46a4df4f-b914-4180-9426-b69167f6e947\")).parents('.cell').data().cell;\n",
       "      cell.output_area.append_execute_result(NB_LOAD_WARNING)\n",
       "    }\n",
       "\n",
       "  }\n",
       "\n",
       "  if (root._bokeh_is_loading === 0) {\n",
       "    console.log(\"Bokeh: BokehJS loaded, going straight to plotting\");\n",
       "    run_inline_js();\n",
       "  } else {\n",
       "    load_libs(js_urls, function() {\n",
       "      console.log(\"Bokeh: BokehJS plotting callback run at\", now());\n",
       "      run_inline_js();\n",
       "    });\n",
       "  }\n",
       "}(window));"
      ],
      "application/vnd.bokehjs_load.v0+json": "\n(function(root) {\n  function now() {\n    return new Date();\n  }\n\n  var force = true;\n\n  if (typeof (root._bokeh_onload_callbacks) === \"undefined\" || force === true) {\n    root._bokeh_onload_callbacks = [];\n    root._bokeh_is_loading = undefined;\n  }\n\n  \n\n  \n  if (typeof (root._bokeh_timeout) === \"undefined\" || force === true) {\n    root._bokeh_timeout = Date.now() + 5000;\n    root._bokeh_failed_load = false;\n  }\n\n  var NB_LOAD_WARNING = {'data': {'text/html':\n     \"<div style='background-color: #fdd'>\\n\"+\n     \"<p>\\n\"+\n     \"BokehJS does not appear to have successfully loaded. If loading BokehJS from CDN, this \\n\"+\n     \"may be due to a slow or bad network connection. Possible fixes:\\n\"+\n     \"</p>\\n\"+\n     \"<ul>\\n\"+\n     \"<li>re-rerun `output_notebook()` to attempt to load from CDN again, or</li>\\n\"+\n     \"<li>use INLINE resources instead, as so:</li>\\n\"+\n     \"</ul>\\n\"+\n     \"<code>\\n\"+\n     \"from bokeh.resources import INLINE\\n\"+\n     \"output_notebook(resources=INLINE)\\n\"+\n     \"</code>\\n\"+\n     \"</div>\"}};\n\n  function display_loaded() {\n    var el = document.getElementById(\"46a4df4f-b914-4180-9426-b69167f6e947\");\n    if (el != null) {\n      el.textContent = \"BokehJS is loading...\";\n    }\n    if (root.Bokeh !== undefined) {\n      if (el != null) {\n        el.textContent = \"BokehJS \" + root.Bokeh.version + \" successfully loaded.\";\n      }\n    } else if (Date.now() < root._bokeh_timeout) {\n      setTimeout(display_loaded, 100)\n    }\n  }\n\n\n  function run_callbacks() {\n    try {\n      root._bokeh_onload_callbacks.forEach(function(callback) { callback() });\n    }\n    finally {\n      delete root._bokeh_onload_callbacks\n    }\n    console.info(\"Bokeh: all callbacks have finished\");\n  }\n\n  function load_libs(js_urls, callback) {\n    root._bokeh_onload_callbacks.push(callback);\n    if (root._bokeh_is_loading > 0) {\n      console.log(\"Bokeh: BokehJS is being loaded, scheduling callback at\", now());\n      return null;\n    }\n    if (js_urls == null || js_urls.length === 0) {\n      run_callbacks();\n      return null;\n    }\n    console.log(\"Bokeh: BokehJS not loaded, scheduling load and callback at\", now());\n    root._bokeh_is_loading = js_urls.length;\n    for (var i = 0; i < js_urls.length; i++) {\n      var url = js_urls[i];\n      var s = document.createElement('script');\n      s.src = url;\n      s.async = false;\n      s.onreadystatechange = s.onload = function() {\n        root._bokeh_is_loading--;\n        if (root._bokeh_is_loading === 0) {\n          console.log(\"Bokeh: all BokehJS libraries loaded\");\n          run_callbacks()\n        }\n      };\n      s.onerror = function() {\n        console.warn(\"failed to load library \" + url);\n      };\n      console.log(\"Bokeh: injecting script tag for BokehJS library: \", url);\n      document.getElementsByTagName(\"head\")[0].appendChild(s);\n    }\n  };var element = document.getElementById(\"46a4df4f-b914-4180-9426-b69167f6e947\");\n  if (element == null) {\n    console.log(\"Bokeh: ERROR: autoload.js configured with elementid '46a4df4f-b914-4180-9426-b69167f6e947' but no matching script tag was found. \")\n    return false;\n  }\n\n  var js_urls = [\"https://cdn.pydata.org/bokeh/release/bokeh-0.12.13.min.js\", \"https://cdn.pydata.org/bokeh/release/bokeh-widgets-0.12.13.min.js\", \"https://cdn.pydata.org/bokeh/release/bokeh-tables-0.12.13.min.js\", \"https://cdn.pydata.org/bokeh/release/bokeh-gl-0.12.13.min.js\"];\n\n  var inline_js = [\n    function(Bokeh) {\n      Bokeh.set_log_level(\"info\");\n    },\n    \n    function(Bokeh) {\n      \n    },\n    function(Bokeh) {\n      console.log(\"Bokeh: injecting CSS: https://cdn.pydata.org/bokeh/release/bokeh-0.12.13.min.css\");\n      Bokeh.embed.inject_css(\"https://cdn.pydata.org/bokeh/release/bokeh-0.12.13.min.css\");\n      console.log(\"Bokeh: injecting CSS: https://cdn.pydata.org/bokeh/release/bokeh-widgets-0.12.13.min.css\");\n      Bokeh.embed.inject_css(\"https://cdn.pydata.org/bokeh/release/bokeh-widgets-0.12.13.min.css\");\n      console.log(\"Bokeh: injecting CSS: https://cdn.pydata.org/bokeh/release/bokeh-tables-0.12.13.min.css\");\n      Bokeh.embed.inject_css(\"https://cdn.pydata.org/bokeh/release/bokeh-tables-0.12.13.min.css\");\n    }\n  ];\n\n  function run_inline_js() {\n    \n    if ((root.Bokeh !== undefined) || (force === true)) {\n      for (var i = 0; i < inline_js.length; i++) {\n        inline_js[i].call(root, root.Bokeh);\n      }if (force === true) {\n        display_loaded();\n      }} else if (Date.now() < root._bokeh_timeout) {\n      setTimeout(run_inline_js, 100);\n    } else if (!root._bokeh_failed_load) {\n      console.log(\"Bokeh: BokehJS failed to load within specified timeout.\");\n      root._bokeh_failed_load = true;\n    } else if (force !== true) {\n      var cell = $(document.getElementById(\"46a4df4f-b914-4180-9426-b69167f6e947\")).parents('.cell').data().cell;\n      cell.output_area.append_execute_result(NB_LOAD_WARNING)\n    }\n\n  }\n\n  if (root._bokeh_is_loading === 0) {\n    console.log(\"Bokeh: BokehJS loaded, going straight to plotting\");\n    run_inline_js();\n  } else {\n    load_libs(js_urls, function() {\n      console.log(\"Bokeh: BokehJS plotting callback run at\", now());\n      run_inline_js();\n    });\n  }\n}(window));"
     },
     "metadata": {},
     "output_type": "display_data"
    }
   ],
   "source": [
    "import pandas as pd\n",
    "import numpy as np\n",
    "import matplotlib.pyplot as plt\n",
    "%pylab inline\n",
    "import seaborn as sns\n",
    "\n",
    "from bokeh.core.properties import value\n",
    "from bokeh.io import show, output_notebook\n",
    "from bokeh.plotting import *\n",
    "from bokeh.models import ColumnDataSource, FactorRange, Legend#, LabelSet\n",
    "from bokeh.palettes import Spectral6, Spectral8, Category20, Spectral3\n",
    "from bokeh.transform import factor_cmap\n",
    "\n",
    "output_notebook()\n",
    "\n",
    "from sklearn.preprocessing import LabelEncoder\n",
    "\n",
    "cust = pd.read_csv('custodial-deaths.csv')\n",
    "shoot = pd.read_csv('officer_shootings.csv')"
   ]
  },
  {
   "cell_type": "code",
   "execution_count": 2,
   "metadata": {},
   "outputs": [],
   "source": [
    "#Forward fill state abbreviation that were manually added to csv\n",
    "shoot['state'] = shoot['state'].ffill()"
   ]
  },
  {
   "cell_type": "code",
   "execution_count": 3,
   "metadata": {},
   "outputs": [],
   "source": [
    "#restrict Shooting df to only Texas departments\n",
    "shoot = shoot[shoot.state == 'TX']"
   ]
  },
  {
   "cell_type": "code",
   "execution_count": 4,
   "metadata": {},
   "outputs": [],
   "source": [
    "#add columns of years and months extracted from \"Death Date\"\n",
    "cust['year'] = pd.DatetimeIndex(cust['Death Date']).year\n",
    "cust['month'] = pd.DatetimeIndex(cust['Death Date']).month"
   ]
  },
  {
   "cell_type": "code",
   "execution_count": null,
   "metadata": {},
   "outputs": [],
   "source": []
  },
  {
   "cell_type": "code",
   "execution_count": 5,
   "metadata": {},
   "outputs": [
    {
     "name": "stderr",
     "output_type": "stream",
     "text": [
      "C:\\Users\\Lara\\Miniconda3\\lib\\site-packages\\bokeh\\models\\mappers.py:82: UserWarning: Palette length does not match number of factors. ['Homicide by Other', 'Accidental injury caused by others'] will be assigned to `nan_color` gray\n",
      "  warnings.warn(\"Palette length does not match number of factors. %s will be assigned to `nan_color` %s\" % (extra_factors, self.nan_color))\n"
     ]
    },
    {
     "data": {
      "text/html": [
       "\n",
       "<div class=\"bk-root\">\n",
       "    <div class=\"bk-plotdiv\" id=\"52e6063d-a9c8-4453-9c11-8b42d0868634\"></div>\n",
       "</div>"
      ]
     },
     "metadata": {},
     "output_type": "display_data"
    },
    {
     "data": {
      "application/javascript": [
       "(function(root) {\n",
       "  function embed_document(root) {\n",
       "    \n",
       "  var docs_json = {\"e67019bd-e1ae-4ef3-a59e-ca0b5d4f2913\":{\"roots\":{\"references\":[{\"attributes\":{\"factors\":[\"Natural Causes/Illness\",\"Homicide by Law Enforcement/Correctional Staff\",\"Suicide\",\"Alcohol/Drug Intoxication\",\"Other\",\"Accidental injury to self\",\"Homicide by Other\",\"Accidental injury caused by others\"],\"palette\":[\"#3288bd\",\"#66c2a5\",\"#abdda4\",\"#e6f598\",\"#fee08b\",\"#fdae61\",\"#f46d43\",\"#d53e4f\"]},\"id\":\"7dfb40f9-629b-48f4-a742-a7605a65ed6b\",\"type\":\"CategoricalColorMapper\"},{\"attributes\":{\"axis_label\":\"Number of Deaths from 2005-2016\",\"formatter\":{\"id\":\"fd73b537-5346-40cb-ae25-64de42e43a94\",\"type\":\"BasicTickFormatter\"},\"plot\":{\"id\":\"e6ebf315-ecb7-433c-83b2-189ad94d3837\",\"subtype\":\"Figure\",\"type\":\"Plot\"},\"ticker\":{\"id\":\"9828ace9-8ff8-4b68-97cf-3a02df1c5853\",\"type\":\"BasicTicker\"}},\"id\":\"b5c8e3fb-4e69-47e0-9286-f03b1da4d8e8\",\"type\":\"LinearAxis\"},{\"attributes\":{\"items\":[{\"id\":\"6bc3b6a4-51cc-46f2-9e85-8c177c3bce58\",\"type\":\"LegendItem\"}],\"plot\":{\"id\":\"e6ebf315-ecb7-433c-83b2-189ad94d3837\",\"subtype\":\"Figure\",\"type\":\"Plot\"}},\"id\":\"96cd9e3a-b35a-453c-98c8-277690c5953e\",\"type\":\"Legend\"},{\"attributes\":{\"source\":{\"id\":\"a03a9c49-03c8-4856-897d-e8f7795366fb\",\"type\":\"ColumnDataSource\"}},\"id\":\"201c3b0b-7b71-464c-8d67-f356c564ffde\",\"type\":\"CDSView\"},{\"attributes\":{},\"id\":\"fd73b537-5346-40cb-ae25-64de42e43a94\",\"type\":\"BasicTickFormatter\"},{\"attributes\":{},\"id\":\"8b6c9618-5f01-4735-b725-ecd8787e7f6c\",\"type\":\"CategoricalTickFormatter\"},{\"attributes\":{\"fill_alpha\":{\"value\":0.1},\"fill_color\":{\"value\":\"#1f77b4\"},\"height\":{\"value\":0.5},\"line_alpha\":{\"value\":0.1},\"line_color\":{\"value\":\"#1f77b4\"},\"right\":{\"field\":\"mdcounts\"},\"y\":{\"field\":\"deathtype\"}},\"id\":\"15e36b66-8c08-4449-9242-112d5a8ae474\",\"type\":\"HBar\"},{\"attributes\":{\"callback\":null,\"end\":6000,\"start\":0},\"id\":\"d935d6f1-c351-47f4-978f-900b50893b8c\",\"type\":\"DataRange1d\"},{\"attributes\":{\"data_source\":{\"id\":\"a03a9c49-03c8-4856-897d-e8f7795366fb\",\"type\":\"ColumnDataSource\"},\"glyph\":{\"id\":\"600cf4ad-29ed-4ddc-b12e-e97a226db49f\",\"type\":\"HBar\"},\"hover_glyph\":null,\"muted_glyph\":null,\"nonselection_glyph\":{\"id\":\"15e36b66-8c08-4449-9242-112d5a8ae474\",\"type\":\"HBar\"},\"selection_glyph\":null,\"view\":{\"id\":\"201c3b0b-7b71-464c-8d67-f356c564ffde\",\"type\":\"CDSView\"}},\"id\":\"16bf083f-e8f8-45df-a701-a7521cfffcf3\",\"type\":\"GlyphRenderer\"},{\"attributes\":{},\"id\":\"66c9fd2f-7112-4ceb-991d-8a7f769ecff9\",\"type\":\"CategoricalTicker\"},{\"attributes\":{\"fill_color\":{\"field\":\"deathtype\",\"transform\":{\"id\":\"7dfb40f9-629b-48f4-a742-a7605a65ed6b\",\"type\":\"CategoricalColorMapper\"}},\"height\":{\"value\":0.5},\"line_color\":{\"value\":\"white\"},\"right\":{\"field\":\"mdcounts\"},\"y\":{\"field\":\"deathtype\"}},\"id\":\"600cf4ad-29ed-4ddc-b12e-e97a226db49f\",\"type\":\"HBar\"},{\"attributes\":{\"dimension\":1,\"plot\":{\"id\":\"e6ebf315-ecb7-433c-83b2-189ad94d3837\",\"subtype\":\"Figure\",\"type\":\"Plot\"},\"ticker\":{\"id\":\"66c9fd2f-7112-4ceb-991d-8a7f769ecff9\",\"type\":\"CategoricalTicker\"}},\"id\":\"064718d3-3fbc-4002-b271-ddcee1050255\",\"type\":\"Grid\"},{\"attributes\":{\"callback\":null,\"factors\":[\"Natural Causes/Illness\",\"Homicide by Law Enforcement/Correctional Staff\",\"Suicide\",\"Alcohol/Drug Intoxication\",\"Other\",\"Accidental injury to self\",\"Homicide by Other\",\"Accidental injury caused by others\"]},\"id\":\"0d552a92-cdfe-46bf-92fe-f1831cf323fe\",\"type\":\"FactorRange\"},{\"attributes\":{\"plot\":null,\"text\":\"Manner of Death in Custody from 2005-2016\"},\"id\":\"dfc1936b-5fc9-4a42-9c72-517cc88111d0\",\"type\":\"Title\"},{\"attributes\":{\"formatter\":{\"id\":\"8b6c9618-5f01-4735-b725-ecd8787e7f6c\",\"type\":\"CategoricalTickFormatter\"},\"plot\":{\"id\":\"e6ebf315-ecb7-433c-83b2-189ad94d3837\",\"subtype\":\"Figure\",\"type\":\"Plot\"},\"ticker\":{\"id\":\"66c9fd2f-7112-4ceb-991d-8a7f769ecff9\",\"type\":\"CategoricalTicker\"}},\"id\":\"588171cb-e981-453f-99d0-014052d7df9f\",\"type\":\"CategoricalAxis\"},{\"attributes\":{\"callback\":null,\"column_names\":[\"deathtype\",\"mdcounts\"],\"data\":{\"deathtype\":[\"Natural Causes/Illness\",\"Homicide by Law Enforcement/Correctional Staff\",\"Suicide\",\"Alcohol/Drug Intoxication\",\"Other\",\"Accidental injury to self\",\"Homicide by Other\",\"Accidental injury caused by others\"],\"mdcounts\":[5266,884,844,284,203,155,72,21]}},\"id\":\"a03a9c49-03c8-4856-897d-e8f7795366fb\",\"type\":\"ColumnDataSource\"},{\"attributes\":{},\"id\":\"a6d4fc1b-6a02-4e6f-b677-4de28424872a\",\"type\":\"LinearScale\"},{\"attributes\":{\"grid_line_color\":{\"value\":null},\"plot\":{\"id\":\"e6ebf315-ecb7-433c-83b2-189ad94d3837\",\"subtype\":\"Figure\",\"type\":\"Plot\"},\"ticker\":{\"id\":\"9828ace9-8ff8-4b68-97cf-3a02df1c5853\",\"type\":\"BasicTicker\"}},\"id\":\"9b071404-d8e7-4693-a3d9-bdd56ac432e6\",\"type\":\"Grid\"},{\"attributes\":{\"label\":{\"field\":\"deathtype\"},\"renderers\":[{\"id\":\"16bf083f-e8f8-45df-a701-a7521cfffcf3\",\"type\":\"GlyphRenderer\"}]},\"id\":\"6bc3b6a4-51cc-46f2-9e85-8c177c3bce58\",\"type\":\"LegendItem\"},{\"attributes\":{},\"id\":\"9828ace9-8ff8-4b68-97cf-3a02df1c5853\",\"type\":\"BasicTicker\"},{\"attributes\":{\"below\":[{\"id\":\"b5c8e3fb-4e69-47e0-9286-f03b1da4d8e8\",\"type\":\"LinearAxis\"}],\"left\":[{\"id\":\"588171cb-e981-453f-99d0-014052d7df9f\",\"type\":\"CategoricalAxis\"}],\"plot_height\":500,\"plot_width\":900,\"renderers\":[{\"id\":\"b5c8e3fb-4e69-47e0-9286-f03b1da4d8e8\",\"type\":\"LinearAxis\"},{\"id\":\"9b071404-d8e7-4693-a3d9-bdd56ac432e6\",\"type\":\"Grid\"},{\"id\":\"588171cb-e981-453f-99d0-014052d7df9f\",\"type\":\"CategoricalAxis\"},{\"id\":\"064718d3-3fbc-4002-b271-ddcee1050255\",\"type\":\"Grid\"},{\"id\":\"96cd9e3a-b35a-453c-98c8-277690c5953e\",\"type\":\"Legend\"},{\"id\":\"16bf083f-e8f8-45df-a701-a7521cfffcf3\",\"type\":\"GlyphRenderer\"}],\"title\":{\"id\":\"dfc1936b-5fc9-4a42-9c72-517cc88111d0\",\"type\":\"Title\"},\"toolbar\":{\"id\":\"abb6c9e4-de18-448d-b871-c643b6dc4feb\",\"type\":\"Toolbar\"},\"toolbar_location\":null,\"x_range\":{\"id\":\"d935d6f1-c351-47f4-978f-900b50893b8c\",\"type\":\"DataRange1d\"},\"x_scale\":{\"id\":\"a6d4fc1b-6a02-4e6f-b677-4de28424872a\",\"type\":\"LinearScale\"},\"y_range\":{\"id\":\"0d552a92-cdfe-46bf-92fe-f1831cf323fe\",\"type\":\"FactorRange\"},\"y_scale\":{\"id\":\"d123eb82-f4cd-47a7-9938-774cf88ff80f\",\"type\":\"CategoricalScale\"}},\"id\":\"e6ebf315-ecb7-433c-83b2-189ad94d3837\",\"subtype\":\"Figure\",\"type\":\"Plot\"},{\"attributes\":{\"active_drag\":\"auto\",\"active_inspect\":\"auto\",\"active_scroll\":\"auto\",\"active_tap\":\"auto\"},\"id\":\"abb6c9e4-de18-448d-b871-c643b6dc4feb\",\"type\":\"Toolbar\"},{\"attributes\":{},\"id\":\"d123eb82-f4cd-47a7-9938-774cf88ff80f\",\"type\":\"CategoricalScale\"}],\"root_ids\":[\"e6ebf315-ecb7-433c-83b2-189ad94d3837\"]},\"title\":\"Bokeh Application\",\"version\":\"0.12.13\"}};\n",
       "  var render_items = [{\"docid\":\"e67019bd-e1ae-4ef3-a59e-ca0b5d4f2913\",\"elementid\":\"52e6063d-a9c8-4453-9c11-8b42d0868634\",\"modelid\":\"e6ebf315-ecb7-433c-83b2-189ad94d3837\"}];\n",
       "  root.Bokeh.embed.embed_items_notebook(docs_json, render_items);\n",
       "\n",
       "  }\n",
       "  if (root.Bokeh !== undefined) {\n",
       "    embed_document(root);\n",
       "  } else {\n",
       "    var attempts = 0;\n",
       "    var timer = setInterval(function(root) {\n",
       "      if (root.Bokeh !== undefined) {\n",
       "        embed_document(root);\n",
       "        clearInterval(timer);\n",
       "      }\n",
       "      attempts++;\n",
       "      if (attempts > 100) {\n",
       "        console.log(\"Bokeh: ERROR: Unable to run BokehJS code because BokehJS library is missing\")\n",
       "        clearInterval(timer);\n",
       "      }\n",
       "    }, 10, root)\n",
       "  }\n",
       "})(window);"
      ],
      "application/vnd.bokehjs_exec.v0+json": ""
     },
     "metadata": {
      "application/vnd.bokehjs_exec.v0+json": {
       "id": "e6ebf315-ecb7-433c-83b2-189ad94d3837"
      }
     },
     "output_type": "display_data"
    }
   ],
   "source": [
    "#Horizontal bar graph (using Bokeh) of the numbers of occurances of each Manner of Death\n",
    "mdcounts = cust['Manner Death'].value_counts()\n",
    "deathtype = list(mdcounts.index)\n",
    "\n",
    "source = ColumnDataSource(data=dict(deathtype=deathtype, mdcounts=mdcounts))\n",
    "\n",
    "p = figure(y_range=deathtype, plot_height=500, plot_width=900, title=\"Manner of Death in Custody from 2005-2016\",x_axis_label='Number of Deaths from 2005-2016',\n",
    "           toolbar_location=None, tools=\"\")\n",
    "\n",
    "p.hbar(y='deathtype', right='mdcounts', height=0.5, color='color', legend=\"deathtype\", source=source, \n",
    "       line_color='white', fill_color=factor_cmap('deathtype', palette=Spectral8, factors=deathtype))\n",
    "\n",
    "factor_cmap('deathtype', palette=Spectral6, factors=deathtype)\n",
    "\n",
    "p.xgrid.grid_line_color = None\n",
    "p.x_range.start = 0\n",
    "p.x_range.end = 6000\n",
    "p.legend.orientation = \"vertical\"\n",
    "p.legend.location = \"top_right\"\n",
    "\n",
    "show(p)"
   ]
  },
  {
   "cell_type": "code",
   "execution_count": 7,
   "metadata": {},
   "outputs": [
    {
     "data": {
      "text/plain": [
       "Natural Causes/Illness                            5266\n",
       "Homicide by Law Enforcement/Correctional Staff     884\n",
       "Suicide                                            844\n",
       "Alcohol/Drug Intoxication                          284\n",
       "Other                                              203\n",
       "Accidental injury to self                          155\n",
       "Homicide by Other                                   72\n",
       "Accidental injury caused by others                  21\n",
       "Name: Manner Death, dtype: int64"
      ]
     },
     "execution_count": 7,
     "metadata": {},
     "output_type": "execute_result"
    }
   ],
   "source": [
    "mdcounts"
   ]
  },
  {
   "cell_type": "code",
   "execution_count": 10,
   "metadata": {},
   "outputs": [
    {
     "name": "stdout",
     "output_type": "stream",
     "text": [
      "Percentage of Deaths caused by Homicide by Law Enforcement/Correctional Staff: 0.11437443395 %\n"
     ]
    }
   ],
   "source": [
    "homicide = mdcounts['Homicide by Law Enforcement/Correctional Staff']/mdcounts.sum()\n",
    "print(\"Percentage of Deaths caused by Homicide by Law Enforcement/Correctional Staff:\", homicide, '%')"
   ]
  },
  {
   "cell_type": "code",
   "execution_count": 6,
   "metadata": {},
   "outputs": [
    {
     "name": "stderr",
     "output_type": "stream",
     "text": [
      "C:\\Users\\Lara\\Miniconda3\\lib\\site-packages\\bokeh\\models\\mappers.py:82: UserWarning: Palette length does not match number of factors. ['Middle East', 'Native Hawaiian/Pacific Islander'] will be assigned to `nan_color` gray\n",
      "  warnings.warn(\"Palette length does not match number of factors. %s will be assigned to `nan_color` %s\" % (extra_factors, self.nan_color))\n"
     ]
    },
    {
     "data": {
      "text/html": [
       "\n",
       "<div class=\"bk-root\">\n",
       "    <div class=\"bk-plotdiv\" id=\"67e011df-0f84-4e0c-8faf-20c6ae0f76fa\"></div>\n",
       "</div>"
      ]
     },
     "metadata": {},
     "output_type": "display_data"
    },
    {
     "data": {
      "application/javascript": [
       "(function(root) {\n",
       "  function embed_document(root) {\n",
       "    \n",
       "  var docs_json = {\"63de36f8-5b45-43ab-90cc-625a30688854\":{\"roots\":{\"references\":[{\"attributes\":{\"callback\":null,\"column_names\":[\"eth\",\"counts\"],\"data\":{\"counts\":[3228,2274,2117,46,34,13,12,5],\"eth\":[\"Anglo or White\",\"Black or African American\",\"Hispanic or Latino\",\"Other/Don't Know\",\"Asian\",\"American Indian/Alaska Native\",\"Middle East\",\"Native Hawaiian/Pacific Islander\"]}},\"id\":\"b242b826-0055-4210-ad3b-d8570277fcfe\",\"type\":\"ColumnDataSource\"},{\"attributes\":{\"active_drag\":\"auto\",\"active_inspect\":\"auto\",\"active_scroll\":\"auto\",\"active_tap\":\"auto\"},\"id\":\"5538a5eb-0c1c-458a-88af-46c963855a00\",\"type\":\"Toolbar\"},{\"attributes\":{\"source\":{\"id\":\"b242b826-0055-4210-ad3b-d8570277fcfe\",\"type\":\"ColumnDataSource\"}},\"id\":\"d21d3d2b-a19f-42a8-a21a-0a745b6722d6\",\"type\":\"CDSView\"},{\"attributes\":{\"callback\":null,\"factors\":[\"Anglo or White\",\"Black or African American\",\"Hispanic or Latino\",\"Other/Don't Know\",\"Asian\",\"American Indian/Alaska Native\",\"Middle East\",\"Native Hawaiian/Pacific Islander\"]},\"id\":\"4066a63b-3067-46d4-ab47-84776e87dc9c\",\"type\":\"FactorRange\"},{\"attributes\":{\"below\":[{\"id\":\"925c90e9-1a0a-487f-928e-dfb50d517de8\",\"type\":\"LinearAxis\"}],\"left\":[{\"id\":\"3bfb17c0-2cc6-486b-81e4-ee0188e1f1fa\",\"type\":\"CategoricalAxis\"}],\"plot_height\":500,\"plot_width\":900,\"renderers\":[{\"id\":\"925c90e9-1a0a-487f-928e-dfb50d517de8\",\"type\":\"LinearAxis\"},{\"id\":\"39ef9375-10c8-478b-a509-55f2a0873e67\",\"type\":\"Grid\"},{\"id\":\"3bfb17c0-2cc6-486b-81e4-ee0188e1f1fa\",\"type\":\"CategoricalAxis\"},{\"id\":\"5f12641e-f4cf-47ea-8fc1-209b6631f25f\",\"type\":\"Grid\"},{\"id\":\"10c90c06-27e3-4539-b333-fe6c01365b57\",\"type\":\"Legend\"},{\"id\":\"506920df-769b-4b3a-931f-7d7332256eba\",\"type\":\"GlyphRenderer\"}],\"title\":{\"id\":\"33d66581-196f-4793-a98c-f206fbc312ff\",\"type\":\"Title\"},\"toolbar\":{\"id\":\"5538a5eb-0c1c-458a-88af-46c963855a00\",\"type\":\"Toolbar\"},\"toolbar_location\":null,\"x_range\":{\"id\":\"8dce26ba-5e3f-4110-b829-58e4b8ac3b26\",\"type\":\"DataRange1d\"},\"x_scale\":{\"id\":\"82310849-0286-44c4-82de-6e18665b5a95\",\"type\":\"LinearScale\"},\"y_range\":{\"id\":\"4066a63b-3067-46d4-ab47-84776e87dc9c\",\"type\":\"FactorRange\"},\"y_scale\":{\"id\":\"32d63afd-8859-4565-885e-cb57b5dab269\",\"type\":\"CategoricalScale\"}},\"id\":\"042ae44f-3521-45af-9db3-70a982529ad5\",\"subtype\":\"Figure\",\"type\":\"Plot\"},{\"attributes\":{\"callback\":null,\"end\":4000,\"start\":0},\"id\":\"8dce26ba-5e3f-4110-b829-58e4b8ac3b26\",\"type\":\"DataRange1d\"},{\"attributes\":{},\"id\":\"32d63afd-8859-4565-885e-cb57b5dab269\",\"type\":\"CategoricalScale\"},{\"attributes\":{\"fill_alpha\":{\"value\":0.1},\"fill_color\":{\"value\":\"#1f77b4\"},\"height\":{\"value\":0.5},\"line_alpha\":{\"value\":0.1},\"line_color\":{\"value\":\"#1f77b4\"},\"right\":{\"field\":\"counts\"},\"y\":{\"field\":\"eth\"}},\"id\":\"9eeb1fdf-fa90-4323-b62e-9051b7f31600\",\"type\":\"HBar\"},{\"attributes\":{},\"id\":\"82310849-0286-44c4-82de-6e18665b5a95\",\"type\":\"LinearScale\"},{\"attributes\":{\"factors\":[\"Anglo or White\",\"Black or African American\",\"Hispanic or Latino\",\"Other/Don't Know\",\"Asian\",\"American Indian/Alaska Native\",\"Middle East\",\"Native Hawaiian/Pacific Islander\"],\"palette\":[\"#3288bd\",\"#66c2a5\",\"#abdda4\",\"#e6f598\",\"#fee08b\",\"#fdae61\",\"#f46d43\",\"#d53e4f\"]},\"id\":\"6b9caa69-e01b-443c-a909-bbf52f8b43a4\",\"type\":\"CategoricalColorMapper\"},{\"attributes\":{\"axis_label\":\"Number of Deaths from 2005-2016\",\"formatter\":{\"id\":\"c5a8081d-00c9-4b6b-bf99-c98eaad02a2a\",\"type\":\"BasicTickFormatter\"},\"plot\":{\"id\":\"042ae44f-3521-45af-9db3-70a982529ad5\",\"subtype\":\"Figure\",\"type\":\"Plot\"},\"ticker\":{\"id\":\"11a4435a-07a6-43d9-9de4-8afe4f58a794\",\"type\":\"BasicTicker\"}},\"id\":\"925c90e9-1a0a-487f-928e-dfb50d517de8\",\"type\":\"LinearAxis\"},{\"attributes\":{\"grid_line_color\":{\"value\":null},\"plot\":{\"id\":\"042ae44f-3521-45af-9db3-70a982529ad5\",\"subtype\":\"Figure\",\"type\":\"Plot\"},\"ticker\":{\"id\":\"11a4435a-07a6-43d9-9de4-8afe4f58a794\",\"type\":\"BasicTicker\"}},\"id\":\"39ef9375-10c8-478b-a509-55f2a0873e67\",\"type\":\"Grid\"},{\"attributes\":{\"label\":{\"field\":\"eth\"},\"renderers\":[{\"id\":\"506920df-769b-4b3a-931f-7d7332256eba\",\"type\":\"GlyphRenderer\"}]},\"id\":\"b2fd8a93-1b5d-4d6e-a77a-f1c909c9e980\",\"type\":\"LegendItem\"},{\"attributes\":{},\"id\":\"708657f9-7c88-4c3e-b4f2-3897910b2d11\",\"type\":\"CategoricalTicker\"},{\"attributes\":{\"items\":[{\"id\":\"b2fd8a93-1b5d-4d6e-a77a-f1c909c9e980\",\"type\":\"LegendItem\"}],\"plot\":{\"id\":\"042ae44f-3521-45af-9db3-70a982529ad5\",\"subtype\":\"Figure\",\"type\":\"Plot\"}},\"id\":\"10c90c06-27e3-4539-b333-fe6c01365b57\",\"type\":\"Legend\"},{\"attributes\":{\"formatter\":{\"id\":\"2e5ca161-88d9-47a3-9f4d-8af6e0e151b9\",\"type\":\"CategoricalTickFormatter\"},\"plot\":{\"id\":\"042ae44f-3521-45af-9db3-70a982529ad5\",\"subtype\":\"Figure\",\"type\":\"Plot\"},\"ticker\":{\"id\":\"708657f9-7c88-4c3e-b4f2-3897910b2d11\",\"type\":\"CategoricalTicker\"}},\"id\":\"3bfb17c0-2cc6-486b-81e4-ee0188e1f1fa\",\"type\":\"CategoricalAxis\"},{\"attributes\":{},\"id\":\"2e5ca161-88d9-47a3-9f4d-8af6e0e151b9\",\"type\":\"CategoricalTickFormatter\"},{\"attributes\":{},\"id\":\"11a4435a-07a6-43d9-9de4-8afe4f58a794\",\"type\":\"BasicTicker\"},{\"attributes\":{\"fill_color\":{\"field\":\"eth\",\"transform\":{\"id\":\"6b9caa69-e01b-443c-a909-bbf52f8b43a4\",\"type\":\"CategoricalColorMapper\"}},\"height\":{\"value\":0.5},\"line_color\":{\"value\":\"white\"},\"right\":{\"field\":\"counts\"},\"y\":{\"field\":\"eth\"}},\"id\":\"8dc006a8-2a6f-4594-89e9-ccedaf431bcd\",\"type\":\"HBar\"},{\"attributes\":{},\"id\":\"c5a8081d-00c9-4b6b-bf99-c98eaad02a2a\",\"type\":\"BasicTickFormatter\"},{\"attributes\":{\"dimension\":1,\"plot\":{\"id\":\"042ae44f-3521-45af-9db3-70a982529ad5\",\"subtype\":\"Figure\",\"type\":\"Plot\"},\"ticker\":{\"id\":\"708657f9-7c88-4c3e-b4f2-3897910b2d11\",\"type\":\"CategoricalTicker\"}},\"id\":\"5f12641e-f4cf-47ea-8fc1-209b6631f25f\",\"type\":\"Grid\"},{\"attributes\":{\"data_source\":{\"id\":\"b242b826-0055-4210-ad3b-d8570277fcfe\",\"type\":\"ColumnDataSource\"},\"glyph\":{\"id\":\"8dc006a8-2a6f-4594-89e9-ccedaf431bcd\",\"type\":\"HBar\"},\"hover_glyph\":null,\"muted_glyph\":null,\"nonselection_glyph\":{\"id\":\"9eeb1fdf-fa90-4323-b62e-9051b7f31600\",\"type\":\"HBar\"},\"selection_glyph\":null,\"view\":{\"id\":\"d21d3d2b-a19f-42a8-a21a-0a745b6722d6\",\"type\":\"CDSView\"}},\"id\":\"506920df-769b-4b3a-931f-7d7332256eba\",\"type\":\"GlyphRenderer\"},{\"attributes\":{\"plot\":null,\"text\":\"Ethnicity of Deaths in Custody\"},\"id\":\"33d66581-196f-4793-a98c-f206fbc312ff\",\"type\":\"Title\"}],\"root_ids\":[\"042ae44f-3521-45af-9db3-70a982529ad5\"]},\"title\":\"Bokeh Application\",\"version\":\"0.12.13\"}};\n",
       "  var render_items = [{\"docid\":\"63de36f8-5b45-43ab-90cc-625a30688854\",\"elementid\":\"67e011df-0f84-4e0c-8faf-20c6ae0f76fa\",\"modelid\":\"042ae44f-3521-45af-9db3-70a982529ad5\"}];\n",
       "  root.Bokeh.embed.embed_items_notebook(docs_json, render_items);\n",
       "\n",
       "  }\n",
       "  if (root.Bokeh !== undefined) {\n",
       "    embed_document(root);\n",
       "  } else {\n",
       "    var attempts = 0;\n",
       "    var timer = setInterval(function(root) {\n",
       "      if (root.Bokeh !== undefined) {\n",
       "        embed_document(root);\n",
       "        clearInterval(timer);\n",
       "      }\n",
       "      attempts++;\n",
       "      if (attempts > 100) {\n",
       "        console.log(\"Bokeh: ERROR: Unable to run BokehJS code because BokehJS library is missing\")\n",
       "        clearInterval(timer);\n",
       "      }\n",
       "    }, 10, root)\n",
       "  }\n",
       "})(window);"
      ],
      "application/vnd.bokehjs_exec.v0+json": ""
     },
     "metadata": {
      "application/vnd.bokehjs_exec.v0+json": {
       "id": "042ae44f-3521-45af-9db3-70a982529ad5"
      }
     },
     "output_type": "display_data"
    }
   ],
   "source": [
    "#Bar graph showing the Ethnicity of each death in custody\n",
    "counts = cust['Ethnicity'].value_counts()\n",
    "eth = list(counts.index)\n",
    "\n",
    "source = ColumnDataSource(data=dict(eth=eth, counts=counts))\n",
    "\n",
    "t = figure(y_range=eth, plot_height=500, plot_width=900, title=\"Ethnicity of Deaths in Custody\",x_axis_label='Number of Deaths from 2005-2016',\n",
    "           toolbar_location=None, tools=\"\")\n",
    "\n",
    "t.hbar(y='eth', right='counts', height=0.5, color='color', legend=\"eth\", source=source, \n",
    "       line_color='white', fill_color=factor_cmap('eth', palette=Spectral8, factors=eth))\n",
    "\n",
    "factor_cmap('eth', palette=Spectral6, factors=eth)\n",
    "\n",
    "t.xgrid.grid_line_color = None\n",
    "t.x_range.start = 0\n",
    "t.x_range.end = 4000\n",
    "t.legend.orientation = \"vertical\"\n",
    "t.legend.location = \"top_right\"\n",
    "\n",
    "show(t)"
   ]
  },
  {
   "cell_type": "code",
   "execution_count": null,
   "metadata": {},
   "outputs": [],
   "source": []
  },
  {
   "cell_type": "code",
   "execution_count": 7,
   "metadata": {},
   "outputs": [],
   "source": [
    "#create small df counting deaths grouped by Cause and Ethnicity\n",
    "breakdown = cust.groupby(['Ethnicity', 'Manner Death'])['Last Name'].count()\n",
    "death_eth_df = breakdown.unstack()\n",
    "death_eth_df = death_eth_df.fillna(0).astype(int)"
   ]
  },
  {
   "cell_type": "code",
   "execution_count": 8,
   "metadata": {
    "scrolled": true
   },
   "outputs": [
    {
     "data": {
      "text/html": [
       "<div>\n",
       "<style scoped>\n",
       "    .dataframe tbody tr th:only-of-type {\n",
       "        vertical-align: middle;\n",
       "    }\n",
       "\n",
       "    .dataframe tbody tr th {\n",
       "        vertical-align: top;\n",
       "    }\n",
       "\n",
       "    .dataframe thead th {\n",
       "        text-align: right;\n",
       "    }\n",
       "</style>\n",
       "<table border=\"1\" class=\"dataframe\">\n",
       "  <thead>\n",
       "    <tr style=\"text-align: right;\">\n",
       "      <th>Manner Death</th>\n",
       "      <th>Accidental injury caused by others</th>\n",
       "      <th>Accidental injury to self</th>\n",
       "      <th>Alcohol/Drug Intoxication</th>\n",
       "      <th>Homicide by Law Enforcement/Correctional Staff</th>\n",
       "      <th>Homicide by Other</th>\n",
       "      <th>Natural Causes/Illness</th>\n",
       "      <th>Other</th>\n",
       "      <th>Suicide</th>\n",
       "    </tr>\n",
       "    <tr>\n",
       "      <th>Ethnicity</th>\n",
       "      <th></th>\n",
       "      <th></th>\n",
       "      <th></th>\n",
       "      <th></th>\n",
       "      <th></th>\n",
       "      <th></th>\n",
       "      <th></th>\n",
       "      <th></th>\n",
       "    </tr>\n",
       "  </thead>\n",
       "  <tbody>\n",
       "    <tr>\n",
       "      <th>American Indian/Alaska Native</th>\n",
       "      <td>0</td>\n",
       "      <td>0</td>\n",
       "      <td>0</td>\n",
       "      <td>5</td>\n",
       "      <td>0</td>\n",
       "      <td>5</td>\n",
       "      <td>1</td>\n",
       "      <td>2</td>\n",
       "    </tr>\n",
       "    <tr>\n",
       "      <th>Anglo or White</th>\n",
       "      <td>3</td>\n",
       "      <td>63</td>\n",
       "      <td>99</td>\n",
       "      <td>321</td>\n",
       "      <td>25</td>\n",
       "      <td>2183</td>\n",
       "      <td>77</td>\n",
       "      <td>455</td>\n",
       "    </tr>\n",
       "    <tr>\n",
       "      <th>Asian</th>\n",
       "      <td>0</td>\n",
       "      <td>0</td>\n",
       "      <td>3</td>\n",
       "      <td>5</td>\n",
       "      <td>1</td>\n",
       "      <td>19</td>\n",
       "      <td>0</td>\n",
       "      <td>6</td>\n",
       "    </tr>\n",
       "    <tr>\n",
       "      <th>Black or African American</th>\n",
       "      <td>6</td>\n",
       "      <td>36</td>\n",
       "      <td>93</td>\n",
       "      <td>213</td>\n",
       "      <td>22</td>\n",
       "      <td>1687</td>\n",
       "      <td>68</td>\n",
       "      <td>147</td>\n",
       "    </tr>\n",
       "    <tr>\n",
       "      <th>Hispanic or Latino</th>\n",
       "      <td>11</td>\n",
       "      <td>54</td>\n",
       "      <td>88</td>\n",
       "      <td>291</td>\n",
       "      <td>24</td>\n",
       "      <td>1363</td>\n",
       "      <td>56</td>\n",
       "      <td>229</td>\n",
       "    </tr>\n",
       "    <tr>\n",
       "      <th>Middle East</th>\n",
       "      <td>0</td>\n",
       "      <td>1</td>\n",
       "      <td>0</td>\n",
       "      <td>7</td>\n",
       "      <td>0</td>\n",
       "      <td>2</td>\n",
       "      <td>0</td>\n",
       "      <td>2</td>\n",
       "    </tr>\n",
       "    <tr>\n",
       "      <th>Native Hawaiian/Pacific Islander</th>\n",
       "      <td>1</td>\n",
       "      <td>0</td>\n",
       "      <td>1</td>\n",
       "      <td>1</td>\n",
       "      <td>0</td>\n",
       "      <td>1</td>\n",
       "      <td>0</td>\n",
       "      <td>1</td>\n",
       "    </tr>\n",
       "    <tr>\n",
       "      <th>Other/Don't Know</th>\n",
       "      <td>0</td>\n",
       "      <td>1</td>\n",
       "      <td>0</td>\n",
       "      <td>35</td>\n",
       "      <td>0</td>\n",
       "      <td>6</td>\n",
       "      <td>1</td>\n",
       "      <td>2</td>\n",
       "    </tr>\n",
       "  </tbody>\n",
       "</table>\n",
       "</div>"
      ],
      "text/plain": [
       "Manner Death                      Accidental injury caused by others  \\\n",
       "Ethnicity                                                              \n",
       "American Indian/Alaska Native                                      0   \n",
       "Anglo or White                                                     3   \n",
       "Asian                                                              0   \n",
       "Black or African American                                          6   \n",
       "Hispanic or Latino                                                11   \n",
       "Middle East                                                        0   \n",
       "Native Hawaiian/Pacific Islander                                   1   \n",
       "Other/Don't Know                                                   0   \n",
       "\n",
       "Manner Death                      Accidental injury to self  \\\n",
       "Ethnicity                                                     \n",
       "American Indian/Alaska Native                             0   \n",
       "Anglo or White                                           63   \n",
       "Asian                                                     0   \n",
       "Black or African American                                36   \n",
       "Hispanic or Latino                                       54   \n",
       "Middle East                                               1   \n",
       "Native Hawaiian/Pacific Islander                          0   \n",
       "Other/Don't Know                                          1   \n",
       "\n",
       "Manner Death                      Alcohol/Drug Intoxication  \\\n",
       "Ethnicity                                                     \n",
       "American Indian/Alaska Native                             0   \n",
       "Anglo or White                                           99   \n",
       "Asian                                                     3   \n",
       "Black or African American                                93   \n",
       "Hispanic or Latino                                       88   \n",
       "Middle East                                               0   \n",
       "Native Hawaiian/Pacific Islander                          1   \n",
       "Other/Don't Know                                          0   \n",
       "\n",
       "Manner Death                      Homicide by Law Enforcement/Correctional Staff  \\\n",
       "Ethnicity                                                                          \n",
       "American Indian/Alaska Native                                                  5   \n",
       "Anglo or White                                                               321   \n",
       "Asian                                                                          5   \n",
       "Black or African American                                                    213   \n",
       "Hispanic or Latino                                                           291   \n",
       "Middle East                                                                    7   \n",
       "Native Hawaiian/Pacific Islander                                               1   \n",
       "Other/Don't Know                                                              35   \n",
       "\n",
       "Manner Death                      Homicide by Other  Natural Causes/Illness  \\\n",
       "Ethnicity                                                                     \n",
       "American Indian/Alaska Native                     0                       5   \n",
       "Anglo or White                                   25                    2183   \n",
       "Asian                                             1                      19   \n",
       "Black or African American                        22                    1687   \n",
       "Hispanic or Latino                               24                    1363   \n",
       "Middle East                                       0                       2   \n",
       "Native Hawaiian/Pacific Islander                  0                       1   \n",
       "Other/Don't Know                                  0                       6   \n",
       "\n",
       "Manner Death                      Other  Suicide  \n",
       "Ethnicity                                         \n",
       "American Indian/Alaska Native         1        2  \n",
       "Anglo or White                       77      455  \n",
       "Asian                                 0        6  \n",
       "Black or African American            68      147  \n",
       "Hispanic or Latino                   56      229  \n",
       "Middle East                           0        2  \n",
       "Native Hawaiian/Pacific Islander      0        1  \n",
       "Other/Don't Know                      1        2  "
      ]
     },
     "execution_count": 8,
     "metadata": {},
     "output_type": "execute_result"
    }
   ],
   "source": [
    "death_eth_df"
   ]
  },
  {
   "cell_type": "code",
   "execution_count": 9,
   "metadata": {},
   "outputs": [
    {
     "data": {
      "text/html": [
       "\n",
       "<div class=\"bk-root\">\n",
       "    <div class=\"bk-plotdiv\" id=\"0611a30b-bf0e-43d4-8d2b-7b16bafd6c82\"></div>\n",
       "</div>"
      ]
     },
     "metadata": {},
     "output_type": "display_data"
    },
    {
     "data": {
      "application/javascript": [
       "(function(root) {\n",
       "  function embed_document(root) {\n",
       "    \n",
       "  var docs_json = {\"eb7aadc7-e003-4ef3-89d0-bfe3ac5a89be\":{\"roots\":{\"references\":[{\"attributes\":{\"data_source\":{\"id\":\"cf0387c9-d2b7-48dc-84d0-76f00ba951ea\",\"type\":\"ColumnDataSource\"},\"glyph\":{\"id\":\"b505cc39-9199-4087-be38-f72d65281a3a\",\"type\":\"HBar\"},\"hover_glyph\":null,\"muted_glyph\":null,\"nonselection_glyph\":{\"id\":\"8335575b-23a9-402b-a399-50be30b02b0e\",\"type\":\"HBar\"},\"selection_glyph\":null,\"view\":{\"id\":\"b3bccb63-9ec2-4795-b7ab-80d71bb00bd6\",\"type\":\"CDSView\"}},\"id\":\"c716a559-046a-4c89-a222-106937217033\",\"type\":\"GlyphRenderer\"},{\"attributes\":{\"fill_alpha\":{\"value\":0.1},\"fill_color\":{\"value\":\"#1f77b4\"},\"height\":{\"value\":0.9},\"left\":{\"expr\":{\"id\":\"7e7b5c70-f7e1-4a3b-90c6-5147292f2f0b\",\"type\":\"Stack\"}},\"line_alpha\":{\"value\":0.1},\"line_color\":{\"value\":\"#1f77b4\"},\"right\":{\"expr\":{\"id\":\"075ccd5a-dc5c-486c-91b2-cd145b2b885e\",\"type\":\"Stack\"}},\"y\":{\"field\":\"Ethnicity\"}},\"id\":\"4490a28e-3ea6-4421-a015-e585a8782254\",\"type\":\"HBar\"},{\"attributes\":{\"fill_alpha\":{\"value\":0.1},\"fill_color\":{\"value\":\"#1f77b4\"},\"height\":{\"value\":0.9},\"left\":{\"expr\":{\"id\":\"8b9d0170-fc18-48cc-a0bc-42c01db0e1b9\",\"type\":\"Stack\"}},\"line_alpha\":{\"value\":0.1},\"line_color\":{\"value\":\"#1f77b4\"},\"right\":{\"expr\":{\"id\":\"ca483e05-ddfa-4f15-9be0-5d95bd7f06d3\",\"type\":\"Stack\"}},\"y\":{\"field\":\"Ethnicity\"}},\"id\":\"baa49ed8-602e-412a-9455-0483daf6db80\",\"type\":\"HBar\"},{\"attributes\":{\"data_source\":{\"id\":\"cf0387c9-d2b7-48dc-84d0-76f00ba951ea\",\"type\":\"ColumnDataSource\"},\"glyph\":{\"id\":\"e4714bc3-8af3-42ea-bbf5-5e36dfede27e\",\"type\":\"HBar\"},\"hover_glyph\":null,\"muted_glyph\":null,\"nonselection_glyph\":{\"id\":\"e9768ea2-c67a-4d1c-bf85-08fc40e61aab\",\"type\":\"HBar\"},\"selection_glyph\":null,\"view\":{\"id\":\"c39c28f3-b996-4356-a41f-d83c88888724\",\"type\":\"CDSView\"}},\"id\":\"2ec4fe09-3401-4f89-9eb9-522dda223abf\",\"type\":\"GlyphRenderer\"},{\"attributes\":{\"data_source\":{\"id\":\"cf0387c9-d2b7-48dc-84d0-76f00ba951ea\",\"type\":\"ColumnDataSource\"},\"glyph\":{\"id\":\"83d1ca55-cf90-407c-a4a8-e0418ae0cad3\",\"type\":\"HBar\"},\"hover_glyph\":null,\"muted_glyph\":null,\"nonselection_glyph\":{\"id\":\"baa49ed8-602e-412a-9455-0483daf6db80\",\"type\":\"HBar\"},\"selection_glyph\":null,\"view\":{\"id\":\"a341e081-8f0a-479d-a543-903b9ee7599f\",\"type\":\"CDSView\"}},\"id\":\"3f853179-4d37-4010-82b3-5cc74825ffa3\",\"type\":\"GlyphRenderer\"},{\"attributes\":{\"fill_alpha\":{\"value\":0.1},\"fill_color\":{\"value\":\"#1f77b4\"},\"height\":{\"value\":0.9},\"left\":{\"expr\":{\"id\":\"da1da78c-e48b-4b9f-aeab-269983053178\",\"type\":\"Stack\"}},\"line_alpha\":{\"value\":0.1},\"line_color\":{\"value\":\"#1f77b4\"},\"right\":{\"expr\":{\"id\":\"736c3fd7-148a-47a5-928e-843e4f059e5c\",\"type\":\"Stack\"}},\"y\":{\"field\":\"Ethnicity\"}},\"id\":\"43d525f6-c129-4655-879a-e58a969db4d4\",\"type\":\"HBar\"},{\"attributes\":{\"data_source\":{\"id\":\"cf0387c9-d2b7-48dc-84d0-76f00ba951ea\",\"type\":\"ColumnDataSource\"},\"glyph\":{\"id\":\"80ba92d4-4527-46e8-a118-20a4d824f3bf\",\"type\":\"HBar\"},\"hover_glyph\":null,\"muted_glyph\":null,\"nonselection_glyph\":{\"id\":\"4490a28e-3ea6-4421-a015-e585a8782254\",\"type\":\"HBar\"},\"selection_glyph\":null,\"view\":{\"id\":\"f116e037-b0dd-4f7e-9b2b-01302cfd4ff3\",\"type\":\"CDSView\"}},\"id\":\"0b688170-1344-4649-9a5a-9999a929e0e7\",\"type\":\"GlyphRenderer\"},{\"attributes\":{\"label\":{\"value\":\"Accidental injury caused by others\"},\"renderers\":[{\"id\":\"a6d97566-3beb-4c65-b351-bf5a1e4b9c6e\",\"type\":\"GlyphRenderer\"}]},\"id\":\"5f1f94e7-a7c8-497d-abdc-155443ff2901\",\"type\":\"LegendItem\"},{\"attributes\":{\"label\":{\"value\":\"Homicide by Other\"},\"renderers\":[{\"id\":\"c716a559-046a-4c89-a222-106937217033\",\"type\":\"GlyphRenderer\"}]},\"id\":\"36ccf8f9-8414-44f6-8ba3-c48069f6f13f\",\"type\":\"LegendItem\"},{\"attributes\":{},\"id\":\"cf3a3a81-e29d-490d-8276-bdc290c729ae\",\"type\":\"CategoricalScale\"},{\"attributes\":{\"source\":{\"id\":\"cf0387c9-d2b7-48dc-84d0-76f00ba951ea\",\"type\":\"ColumnDataSource\"}},\"id\":\"b3bccb63-9ec2-4795-b7ab-80d71bb00bd6\",\"type\":\"CDSView\"},{\"attributes\":{\"source\":{\"id\":\"cf0387c9-d2b7-48dc-84d0-76f00ba951ea\",\"type\":\"ColumnDataSource\"}},\"id\":\"c39c28f3-b996-4356-a41f-d83c88888724\",\"type\":\"CDSView\"},{\"attributes\":{\"data_source\":{\"id\":\"cf0387c9-d2b7-48dc-84d0-76f00ba951ea\",\"type\":\"ColumnDataSource\"},\"glyph\":{\"id\":\"c534055f-bce1-4178-a40b-68ad40428da6\",\"type\":\"HBar\"},\"hover_glyph\":null,\"muted_glyph\":null,\"nonselection_glyph\":{\"id\":\"43d525f6-c129-4655-879a-e58a969db4d4\",\"type\":\"HBar\"},\"selection_glyph\":null,\"view\":{\"id\":\"93d9db3f-25fb-40b3-9bbd-34c9badf435d\",\"type\":\"CDSView\"}},\"id\":\"a6d97566-3beb-4c65-b351-bf5a1e4b9c6e\",\"type\":\"GlyphRenderer\"},{\"attributes\":{\"source\":{\"id\":\"cf0387c9-d2b7-48dc-84d0-76f00ba951ea\",\"type\":\"ColumnDataSource\"}},\"id\":\"93d9db3f-25fb-40b3-9bbd-34c9badf435d\",\"type\":\"CDSView\"},{\"attributes\":{\"label\":{\"value\":\"Suicide\"},\"renderers\":[{\"id\":\"5189dc55-14e5-4b91-90c4-cdf649b05332\",\"type\":\"GlyphRenderer\"}]},\"id\":\"2c6d1e61-83e7-46ce-80b8-a3949c135201\",\"type\":\"LegendItem\"},{\"attributes\":{\"source\":{\"id\":\"cf0387c9-d2b7-48dc-84d0-76f00ba951ea\",\"type\":\"ColumnDataSource\"}},\"id\":\"f116e037-b0dd-4f7e-9b2b-01302cfd4ff3\",\"type\":\"CDSView\"},{\"attributes\":{},\"id\":\"a6839867-7b22-45f6-9873-3228300a22c9\",\"type\":\"CategoricalTickFormatter\"},{\"attributes\":{\"data_source\":{\"id\":\"cf0387c9-d2b7-48dc-84d0-76f00ba951ea\",\"type\":\"ColumnDataSource\"},\"glyph\":{\"id\":\"a6639b1e-9513-43bb-b85f-15258b17579f\",\"type\":\"HBar\"},\"hover_glyph\":null,\"muted_glyph\":null,\"nonselection_glyph\":{\"id\":\"38df674c-9d84-4f62-8e83-a663170d574f\",\"type\":\"HBar\"},\"selection_glyph\":null,\"view\":{\"id\":\"beefbe16-47b8-4160-b6cf-aeb2126724f7\",\"type\":\"CDSView\"}},\"id\":\"18c29252-2863-4ecf-87e7-3b66b04a4dd5\",\"type\":\"GlyphRenderer\"},{\"attributes\":{},\"id\":\"8e10654b-80ef-46b8-8a7f-cec45ce0364d\",\"type\":\"LinearScale\"},{\"attributes\":{\"fill_alpha\":{\"value\":0.1},\"fill_color\":{\"value\":\"#1f77b4\"},\"height\":{\"value\":0.9},\"left\":{\"expr\":{\"id\":\"014e91f8-6d9a-4f8e-88c2-7987c5798b5c\",\"type\":\"Stack\"}},\"line_alpha\":{\"value\":0.1},\"line_color\":{\"value\":\"#1f77b4\"},\"right\":{\"expr\":{\"id\":\"7dc6ad0a-3f84-4171-93e6-24d39b147227\",\"type\":\"Stack\"}},\"y\":{\"field\":\"Ethnicity\"}},\"id\":\"8335575b-23a9-402b-a399-50be30b02b0e\",\"type\":\"HBar\"},{\"attributes\":{\"fill_color\":{\"value\":\"#fee08b\"},\"height\":{\"value\":0.9},\"left\":{\"expr\":{\"id\":\"69f400a8-ecad-43bc-b551-ff1cb230443a\",\"type\":\"Stack\"}},\"line_color\":{\"value\":\"#fee08b\"},\"right\":{\"expr\":{\"id\":\"9552ceb9-f583-4041-839a-e5256fc5dfd8\",\"type\":\"Stack\"}},\"y\":{\"field\":\"Ethnicity\"}},\"id\":\"a6639b1e-9513-43bb-b85f-15258b17579f\",\"type\":\"HBar\"},{\"attributes\":{\"fill_color\":{\"value\":\"#f46d43\"},\"height\":{\"value\":0.9},\"left\":{\"expr\":{\"id\":\"014e91f8-6d9a-4f8e-88c2-7987c5798b5c\",\"type\":\"Stack\"}},\"line_color\":{\"value\":\"#f46d43\"},\"right\":{\"expr\":{\"id\":\"7dc6ad0a-3f84-4171-93e6-24d39b147227\",\"type\":\"Stack\"}},\"y\":{\"field\":\"Ethnicity\"}},\"id\":\"b505cc39-9199-4087-be38-f72d65281a3a\",\"type\":\"HBar\"},{\"attributes\":{\"fields\":[\"Natural Causes/Illness\",\"Homicide by Law Enforcement/Correctional Staff\",\"Suicide\",\"Alcohol/Drug Intoxication\"]},\"id\":\"add6b125-5ecb-48cd-b2bc-7109daf31de2\",\"type\":\"Stack\"},{\"attributes\":{\"source\":{\"id\":\"cf0387c9-d2b7-48dc-84d0-76f00ba951ea\",\"type\":\"ColumnDataSource\"}},\"id\":\"beefbe16-47b8-4160-b6cf-aeb2126724f7\",\"type\":\"CDSView\"},{\"attributes\":{\"dimension\":1,\"plot\":{\"id\":\"1313a091-04ab-4ed6-9c25-0dd9bee1dbb7\",\"subtype\":\"Figure\",\"type\":\"Plot\"},\"ticker\":{\"id\":\"9c1b84f9-7dfd-4ce6-a845-4bdd969001a5\",\"type\":\"CategoricalTicker\"}},\"id\":\"d28a3f61-1678-4118-bfb3-fcbbd0586ecf\",\"type\":\"Grid\"},{\"attributes\":{\"callback\":null,\"end\":4000,\"start\":0},\"id\":\"b0f4c9f9-44c2-4482-a486-13b18c7b8348\",\"type\":\"DataRange1d\"},{\"attributes\":{\"fields\":[\"Natural Causes/Illness\",\"Homicide by Law Enforcement/Correctional Staff\",\"Suicide\",\"Alcohol/Drug Intoxication\",\"Other\",\"Accidental injury to self\",\"Homicide by Other\"]},\"id\":\"7dc6ad0a-3f84-4171-93e6-24d39b147227\",\"type\":\"Stack\"},{\"attributes\":{\"axis_label\":\"Number of Deaths from 2005-2016\",\"formatter\":{\"id\":\"b5beb70a-c18a-4471-832f-99efc45e5af7\",\"type\":\"BasicTickFormatter\"},\"minor_tick_line_color\":{\"value\":null},\"plot\":{\"id\":\"1313a091-04ab-4ed6-9c25-0dd9bee1dbb7\",\"subtype\":\"Figure\",\"type\":\"Plot\"},\"ticker\":{\"id\":\"f5abd71b-b471-4f4b-8fb8-8928c80f4697\",\"type\":\"BasicTicker\"}},\"id\":\"fafedd3b-483a-4b38-864f-142e16f2d0cd\",\"type\":\"LinearAxis\"},{\"attributes\":{\"fill_alpha\":{\"value\":0.1},\"fill_color\":{\"value\":\"#1f77b4\"},\"height\":{\"value\":0.9},\"left\":{\"expr\":{\"id\":\"69f400a8-ecad-43bc-b551-ff1cb230443a\",\"type\":\"Stack\"}},\"line_alpha\":{\"value\":0.1},\"line_color\":{\"value\":\"#1f77b4\"},\"right\":{\"expr\":{\"id\":\"9552ceb9-f583-4041-839a-e5256fc5dfd8\",\"type\":\"Stack\"}},\"y\":{\"field\":\"Ethnicity\"}},\"id\":\"38df674c-9d84-4f62-8e83-a663170d574f\",\"type\":\"HBar\"},{\"attributes\":{\"source\":{\"id\":\"cf0387c9-d2b7-48dc-84d0-76f00ba951ea\",\"type\":\"ColumnDataSource\"}},\"id\":\"5714f4e2-9203-43df-92c5-f4674408316c\",\"type\":\"CDSView\"},{\"attributes\":{\"label\":{\"value\":\"Other\"},\"renderers\":[{\"id\":\"18c29252-2863-4ecf-87e7-3b66b04a4dd5\",\"type\":\"GlyphRenderer\"}]},\"id\":\"5e1f18df-51c9-496d-a90e-83df654bc4db\",\"type\":\"LegendItem\"},{\"attributes\":{\"data_source\":{\"id\":\"cf0387c9-d2b7-48dc-84d0-76f00ba951ea\",\"type\":\"ColumnDataSource\"},\"glyph\":{\"id\":\"518e0883-5c6d-4e50-b720-2043282f5fa5\",\"type\":\"HBar\"},\"hover_glyph\":null,\"muted_glyph\":null,\"nonselection_glyph\":{\"id\":\"a4f95cb5-0ba3-4f57-b0c6-d66cdf6b8609\",\"type\":\"HBar\"},\"selection_glyph\":null,\"view\":{\"id\":\"5714f4e2-9203-43df-92c5-f4674408316c\",\"type\":\"CDSView\"}},\"id\":\"963b87e8-deae-4244-bb46-b058de49b234\",\"type\":\"GlyphRenderer\"},{\"attributes\":{},\"id\":\"b5beb70a-c18a-4471-832f-99efc45e5af7\",\"type\":\"BasicTickFormatter\"},{\"attributes\":{\"fields\":[]},\"id\":\"7211329f-401d-4268-a00c-5719ed012b3e\",\"type\":\"Stack\"},{\"attributes\":{\"fields\":[\"Natural Causes/Illness\",\"Homicide by Law Enforcement/Correctional Staff\"]},\"id\":\"075ccd5a-dc5c-486c-91b2-cd145b2b885e\",\"type\":\"Stack\"},{\"attributes\":{\"source\":{\"id\":\"cf0387c9-d2b7-48dc-84d0-76f00ba951ea\",\"type\":\"ColumnDataSource\"}},\"id\":\"2e42660c-a57c-41bc-b459-70c5cb835d27\",\"type\":\"CDSView\"},{\"attributes\":{\"label\":{\"value\":\"Natural Causes/Illness\"},\"renderers\":[{\"id\":\"2ec4fe09-3401-4f89-9eb9-522dda223abf\",\"type\":\"GlyphRenderer\"}]},\"id\":\"779929d0-fbc5-4643-9a28-729c7cfbe5c2\",\"type\":\"LegendItem\"},{\"attributes\":{},\"id\":\"f5abd71b-b471-4f4b-8fb8-8928c80f4697\",\"type\":\"BasicTicker\"},{\"attributes\":{\"fields\":[\"Natural Causes/Illness\",\"Homicide by Law Enforcement/Correctional Staff\",\"Suicide\"]},\"id\":\"1b33570a-aa23-43d8-96b8-c4f4c15e31dd\",\"type\":\"Stack\"},{\"attributes\":{\"fields\":[\"Natural Causes/Illness\",\"Homicide by Law Enforcement/Correctional Staff\",\"Suicide\",\"Alcohol/Drug Intoxication\",\"Other\",\"Accidental injury to self\",\"Homicide by Other\"]},\"id\":\"da1da78c-e48b-4b9f-aeab-269983053178\",\"type\":\"Stack\"},{\"attributes\":{\"grid_line_color\":{\"value\":null},\"plot\":{\"id\":\"1313a091-04ab-4ed6-9c25-0dd9bee1dbb7\",\"subtype\":\"Figure\",\"type\":\"Plot\"},\"ticker\":{\"id\":\"f5abd71b-b471-4f4b-8fb8-8928c80f4697\",\"type\":\"BasicTicker\"}},\"id\":\"a6942e3d-e0b7-47c8-9a08-dddd6db82f58\",\"type\":\"Grid\"},{\"attributes\":{\"items\":[{\"id\":\"779929d0-fbc5-4643-9a28-729c7cfbe5c2\",\"type\":\"LegendItem\"},{\"id\":\"244813de-e2b8-4f54-bb4a-cd08106b4ca2\",\"type\":\"LegendItem\"},{\"id\":\"2c6d1e61-83e7-46ce-80b8-a3949c135201\",\"type\":\"LegendItem\"},{\"id\":\"c26751bd-1b5c-465d-9b30-9946ffde1e26\",\"type\":\"LegendItem\"},{\"id\":\"5e1f18df-51c9-496d-a90e-83df654bc4db\",\"type\":\"LegendItem\"},{\"id\":\"127f00ec-d5d5-4fd1-b03b-2142b03ba496\",\"type\":\"LegendItem\"},{\"id\":\"36ccf8f9-8414-44f6-8ba3-c48069f6f13f\",\"type\":\"LegendItem\"},{\"id\":\"5f1f94e7-a7c8-497d-abdc-155443ff2901\",\"type\":\"LegendItem\"}],\"plot\":{\"id\":\"1313a091-04ab-4ed6-9c25-0dd9bee1dbb7\",\"subtype\":\"Figure\",\"type\":\"Plot\"}},\"id\":\"acc92462-9e99-4fd3-ade2-8bae80428904\",\"type\":\"Legend\"},{\"attributes\":{\"fields\":[\"Natural Causes/Illness\",\"Homicide by Law Enforcement/Correctional Staff\",\"Suicide\",\"Alcohol/Drug Intoxication\"]},\"id\":\"69f400a8-ecad-43bc-b551-ff1cb230443a\",\"type\":\"Stack\"},{\"attributes\":{},\"id\":\"9c1b84f9-7dfd-4ce6-a845-4bdd969001a5\",\"type\":\"CategoricalTicker\"},{\"attributes\":{\"fields\":[\"Natural Causes/Illness\",\"Homicide by Law Enforcement/Correctional Staff\"]},\"id\":\"7c16cd19-a235-49b1-a4ad-5cebcbf5dee3\",\"type\":\"Stack\"},{\"attributes\":{\"callback\":null,\"factors\":[\"American Indian/Alaska Native\",\"Anglo or White\",\"Asian\",\"Black or African American\",\"Hispanic or Latino\",\"Middle East\",\"Native Hawaiian/Pacific Islander\",\"Other/Don't Know\"],\"range_padding\":0.1},\"id\":\"19bc5598-8bfc-4444-9d02-d48ea814667c\",\"type\":\"FactorRange\"},{\"attributes\":{\"fields\":[\"Natural Causes/Illness\",\"Homicide by Law Enforcement/Correctional Staff\",\"Suicide\",\"Alcohol/Drug Intoxication\",\"Other\"]},\"id\":\"9552ceb9-f583-4041-839a-e5256fc5dfd8\",\"type\":\"Stack\"},{\"attributes\":{\"plot\":null,\"text\":\"Manner of Death by Ethnicity\"},\"id\":\"ba18054b-836c-47c7-b80d-0e88d3e27fe8\",\"type\":\"Title\"},{\"attributes\":{\"fields\":[\"Natural Causes/Illness\"]},\"id\":\"64910ac4-e49c-49ab-98a3-3661f7083426\",\"type\":\"Stack\"},{\"attributes\":{\"fields\":[\"Natural Causes/Illness\",\"Homicide by Law Enforcement/Correctional Staff\",\"Suicide\",\"Alcohol/Drug Intoxication\",\"Other\",\"Accidental injury to self\"]},\"id\":\"ca483e05-ddfa-4f15-9be0-5d95bd7f06d3\",\"type\":\"Stack\"},{\"attributes\":{\"fill_color\":{\"value\":\"#3288bd\"},\"height\":{\"value\":0.9},\"left\":{\"expr\":{\"id\":\"7211329f-401d-4268-a00c-5719ed012b3e\",\"type\":\"Stack\"}},\"line_color\":{\"value\":\"#3288bd\"},\"right\":{\"expr\":{\"id\":\"64910ac4-e49c-49ab-98a3-3661f7083426\",\"type\":\"Stack\"}},\"y\":{\"field\":\"Ethnicity\"}},\"id\":\"e4714bc3-8af3-42ea-bbf5-5e36dfede27e\",\"type\":\"HBar\"},{\"attributes\":{\"formatter\":{\"id\":\"a6839867-7b22-45f6-9873-3228300a22c9\",\"type\":\"CategoricalTickFormatter\"},\"minor_tick_line_color\":{\"value\":null},\"plot\":{\"id\":\"1313a091-04ab-4ed6-9c25-0dd9bee1dbb7\",\"subtype\":\"Figure\",\"type\":\"Plot\"},\"ticker\":{\"id\":\"9c1b84f9-7dfd-4ce6-a845-4bdd969001a5\",\"type\":\"CategoricalTicker\"}},\"id\":\"309c44a8-957f-4c95-8a54-350a59d74769\",\"type\":\"CategoricalAxis\"},{\"attributes\":{\"fields\":[\"Natural Causes/Illness\",\"Homicide by Law Enforcement/Correctional Staff\",\"Suicide\",\"Alcohol/Drug Intoxication\",\"Other\"]},\"id\":\"8b9d0170-fc18-48cc-a0bc-42c01db0e1b9\",\"type\":\"Stack\"},{\"attributes\":{\"fill_color\":{\"value\":\"#d53e4f\"},\"height\":{\"value\":0.9},\"left\":{\"expr\":{\"id\":\"da1da78c-e48b-4b9f-aeab-269983053178\",\"type\":\"Stack\"}},\"line_color\":{\"value\":\"#d53e4f\"},\"right\":{\"expr\":{\"id\":\"736c3fd7-148a-47a5-928e-843e4f059e5c\",\"type\":\"Stack\"}},\"y\":{\"field\":\"Ethnicity\"}},\"id\":\"c534055f-bce1-4178-a40b-68ad40428da6\",\"type\":\"HBar\"},{\"attributes\":{\"callback\":null,\"column_names\":[\"Ethnicity\",\"Accidental injury caused by others\",\"Natural Causes/Illness\",\"Other\",\"Accidental injury to self\",\"Homicide by Law Enforcement/Correctional Staff\",\"Suicide\",\"Alcohol/Drug Intoxication\",\"Homicide by Other\"],\"data\":{\"Accidental injury caused by others\":{\"__ndarray__\":\"AAAAAAMAAAAAAAAABgAAAAsAAAAAAAAAAQAAAAAAAAA=\",\"dtype\":\"int32\",\"shape\":[8]},\"Accidental injury to self\":{\"__ndarray__\":\"AAAAAD8AAAAAAAAAJAAAADYAAAABAAAAAAAAAAEAAAA=\",\"dtype\":\"int32\",\"shape\":[8]},\"Alcohol/Drug Intoxication\":{\"__ndarray__\":\"AAAAAGMAAAADAAAAXQAAAFgAAAAAAAAAAQAAAAAAAAA=\",\"dtype\":\"int32\",\"shape\":[8]},\"Ethnicity\":[\"American Indian/Alaska Native\",\"Anglo or White\",\"Asian\",\"Black or African American\",\"Hispanic or Latino\",\"Middle East\",\"Native Hawaiian/Pacific Islander\",\"Other/Don't Know\"],\"Homicide by Law Enforcement/Correctional Staff\":{\"__ndarray__\":\"BQAAAEEBAAAFAAAA1QAAACMBAAAHAAAAAQAAACMAAAA=\",\"dtype\":\"int32\",\"shape\":[8]},\"Homicide by Other\":{\"__ndarray__\":\"AAAAABkAAAABAAAAFgAAABgAAAAAAAAAAAAAAAAAAAA=\",\"dtype\":\"int32\",\"shape\":[8]},\"Natural Causes/Illness\":{\"__ndarray__\":\"BQAAAIcIAAATAAAAlwYAAFMFAAACAAAAAQAAAAYAAAA=\",\"dtype\":\"int32\",\"shape\":[8]},\"Other\":{\"__ndarray__\":\"AQAAAE0AAAAAAAAARAAAADgAAAAAAAAAAAAAAAEAAAA=\",\"dtype\":\"int32\",\"shape\":[8]},\"Suicide\":{\"__ndarray__\":\"AgAAAMcBAAAGAAAAkwAAAOUAAAACAAAAAQAAAAIAAAA=\",\"dtype\":\"int32\",\"shape\":[8]}}},\"id\":\"cf0387c9-d2b7-48dc-84d0-76f00ba951ea\",\"type\":\"ColumnDataSource\"},{\"attributes\":{\"fields\":[\"Natural Causes/Illness\"]},\"id\":\"7e7b5c70-f7e1-4a3b-90c6-5147292f2f0b\",\"type\":\"Stack\"},{\"attributes\":{\"fields\":[\"Natural Causes/Illness\",\"Homicide by Law Enforcement/Correctional Staff\",\"Suicide\"]},\"id\":\"e68f6e16-cb10-4332-a253-8e268db14949\",\"type\":\"Stack\"},{\"attributes\":{\"label\":{\"value\":\"Accidental injury to self\"},\"renderers\":[{\"id\":\"3f853179-4d37-4010-82b3-5cc74825ffa3\",\"type\":\"GlyphRenderer\"}]},\"id\":\"127f00ec-d5d5-4fd1-b03b-2142b03ba496\",\"type\":\"LegendItem\"},{\"attributes\":{\"fill_alpha\":{\"value\":0.1},\"fill_color\":{\"value\":\"#1f77b4\"},\"height\":{\"value\":0.9},\"left\":{\"expr\":{\"id\":\"7211329f-401d-4268-a00c-5719ed012b3e\",\"type\":\"Stack\"}},\"line_alpha\":{\"value\":0.1},\"line_color\":{\"value\":\"#1f77b4\"},\"right\":{\"expr\":{\"id\":\"64910ac4-e49c-49ab-98a3-3661f7083426\",\"type\":\"Stack\"}},\"y\":{\"field\":\"Ethnicity\"}},\"id\":\"e9768ea2-c67a-4d1c-bf85-08fc40e61aab\",\"type\":\"HBar\"},{\"attributes\":{\"fields\":[\"Natural Causes/Illness\",\"Homicide by Law Enforcement/Correctional Staff\",\"Suicide\",\"Alcohol/Drug Intoxication\",\"Other\",\"Accidental injury to self\",\"Homicide by Other\",\"Accidental injury caused by others\"]},\"id\":\"736c3fd7-148a-47a5-928e-843e4f059e5c\",\"type\":\"Stack\"},{\"attributes\":{\"source\":{\"id\":\"cf0387c9-d2b7-48dc-84d0-76f00ba951ea\",\"type\":\"ColumnDataSource\"}},\"id\":\"a341e081-8f0a-479d-a543-903b9ee7599f\",\"type\":\"CDSView\"},{\"attributes\":{\"fields\":[\"Natural Causes/Illness\",\"Homicide by Law Enforcement/Correctional Staff\",\"Suicide\",\"Alcohol/Drug Intoxication\",\"Other\",\"Accidental injury to self\"]},\"id\":\"014e91f8-6d9a-4f8e-88c2-7987c5798b5c\",\"type\":\"Stack\"},{\"attributes\":{\"fill_color\":{\"value\":\"#66c2a5\"},\"height\":{\"value\":0.9},\"left\":{\"expr\":{\"id\":\"7e7b5c70-f7e1-4a3b-90c6-5147292f2f0b\",\"type\":\"Stack\"}},\"line_color\":{\"value\":\"#66c2a5\"},\"right\":{\"expr\":{\"id\":\"075ccd5a-dc5c-486c-91b2-cd145b2b885e\",\"type\":\"Stack\"}},\"y\":{\"field\":\"Ethnicity\"}},\"id\":\"80ba92d4-4527-46e8-a118-20a4d824f3bf\",\"type\":\"HBar\"},{\"attributes\":{\"active_drag\":\"auto\",\"active_inspect\":\"auto\",\"active_scroll\":\"auto\",\"active_tap\":\"auto\"},\"id\":\"55e433be-4cfc-440a-932e-c39c7e4d58f3\",\"type\":\"Toolbar\"},{\"attributes\":{\"fill_alpha\":{\"value\":0.1},\"fill_color\":{\"value\":\"#1f77b4\"},\"height\":{\"value\":0.9},\"left\":{\"expr\":{\"id\":\"7c16cd19-a235-49b1-a4ad-5cebcbf5dee3\",\"type\":\"Stack\"}},\"line_alpha\":{\"value\":0.1},\"line_color\":{\"value\":\"#1f77b4\"},\"right\":{\"expr\":{\"id\":\"1b33570a-aa23-43d8-96b8-c4f4c15e31dd\",\"type\":\"Stack\"}},\"y\":{\"field\":\"Ethnicity\"}},\"id\":\"20c7b8f6-59ad-4389-b24c-1f3736f7f0a0\",\"type\":\"HBar\"},{\"attributes\":{\"below\":[{\"id\":\"fafedd3b-483a-4b38-864f-142e16f2d0cd\",\"type\":\"LinearAxis\"}],\"left\":[{\"id\":\"309c44a8-957f-4c95-8a54-350a59d74769\",\"type\":\"CategoricalAxis\"}],\"outline_line_color\":{\"value\":null},\"plot_height\":500,\"plot_width\":900,\"renderers\":[{\"id\":\"fafedd3b-483a-4b38-864f-142e16f2d0cd\",\"type\":\"LinearAxis\"},{\"id\":\"a6942e3d-e0b7-47c8-9a08-dddd6db82f58\",\"type\":\"Grid\"},{\"id\":\"309c44a8-957f-4c95-8a54-350a59d74769\",\"type\":\"CategoricalAxis\"},{\"id\":\"d28a3f61-1678-4118-bfb3-fcbbd0586ecf\",\"type\":\"Grid\"},{\"id\":\"acc92462-9e99-4fd3-ade2-8bae80428904\",\"type\":\"Legend\"},{\"id\":\"2ec4fe09-3401-4f89-9eb9-522dda223abf\",\"type\":\"GlyphRenderer\"},{\"id\":\"0b688170-1344-4649-9a5a-9999a929e0e7\",\"type\":\"GlyphRenderer\"},{\"id\":\"5189dc55-14e5-4b91-90c4-cdf649b05332\",\"type\":\"GlyphRenderer\"},{\"id\":\"963b87e8-deae-4244-bb46-b058de49b234\",\"type\":\"GlyphRenderer\"},{\"id\":\"18c29252-2863-4ecf-87e7-3b66b04a4dd5\",\"type\":\"GlyphRenderer\"},{\"id\":\"3f853179-4d37-4010-82b3-5cc74825ffa3\",\"type\":\"GlyphRenderer\"},{\"id\":\"c716a559-046a-4c89-a222-106937217033\",\"type\":\"GlyphRenderer\"},{\"id\":\"a6d97566-3beb-4c65-b351-bf5a1e4b9c6e\",\"type\":\"GlyphRenderer\"}],\"title\":{\"id\":\"ba18054b-836c-47c7-b80d-0e88d3e27fe8\",\"type\":\"Title\"},\"toolbar\":{\"id\":\"55e433be-4cfc-440a-932e-c39c7e4d58f3\",\"type\":\"Toolbar\"},\"toolbar_location\":null,\"x_range\":{\"id\":\"b0f4c9f9-44c2-4482-a486-13b18c7b8348\",\"type\":\"DataRange1d\"},\"x_scale\":{\"id\":\"8e10654b-80ef-46b8-8a7f-cec45ce0364d\",\"type\":\"LinearScale\"},\"y_range\":{\"id\":\"19bc5598-8bfc-4444-9d02-d48ea814667c\",\"type\":\"FactorRange\"},\"y_scale\":{\"id\":\"cf3a3a81-e29d-490d-8276-bdc290c729ae\",\"type\":\"CategoricalScale\"}},\"id\":\"1313a091-04ab-4ed6-9c25-0dd9bee1dbb7\",\"subtype\":\"Figure\",\"type\":\"Plot\"},{\"attributes\":{\"fill_color\":{\"value\":\"#abdda4\"},\"height\":{\"value\":0.9},\"left\":{\"expr\":{\"id\":\"7c16cd19-a235-49b1-a4ad-5cebcbf5dee3\",\"type\":\"Stack\"}},\"line_color\":{\"value\":\"#abdda4\"},\"right\":{\"expr\":{\"id\":\"1b33570a-aa23-43d8-96b8-c4f4c15e31dd\",\"type\":\"Stack\"}},\"y\":{\"field\":\"Ethnicity\"}},\"id\":\"b15ca7ca-bb48-4820-a77b-666ed685dd24\",\"type\":\"HBar\"},{\"attributes\":{\"fill_color\":{\"value\":\"#e6f598\"},\"height\":{\"value\":0.9},\"left\":{\"expr\":{\"id\":\"e68f6e16-cb10-4332-a253-8e268db14949\",\"type\":\"Stack\"}},\"line_color\":{\"value\":\"#e6f598\"},\"right\":{\"expr\":{\"id\":\"add6b125-5ecb-48cd-b2bc-7109daf31de2\",\"type\":\"Stack\"}},\"y\":{\"field\":\"Ethnicity\"}},\"id\":\"518e0883-5c6d-4e50-b720-2043282f5fa5\",\"type\":\"HBar\"},{\"attributes\":{\"label\":{\"value\":\"Alcohol/Drug Intoxication\"},\"renderers\":[{\"id\":\"963b87e8-deae-4244-bb46-b058de49b234\",\"type\":\"GlyphRenderer\"}]},\"id\":\"c26751bd-1b5c-465d-9b30-9946ffde1e26\",\"type\":\"LegendItem\"},{\"attributes\":{\"data_source\":{\"id\":\"cf0387c9-d2b7-48dc-84d0-76f00ba951ea\",\"type\":\"ColumnDataSource\"},\"glyph\":{\"id\":\"b15ca7ca-bb48-4820-a77b-666ed685dd24\",\"type\":\"HBar\"},\"hover_glyph\":null,\"muted_glyph\":null,\"nonselection_glyph\":{\"id\":\"20c7b8f6-59ad-4389-b24c-1f3736f7f0a0\",\"type\":\"HBar\"},\"selection_glyph\":null,\"view\":{\"id\":\"2e42660c-a57c-41bc-b459-70c5cb835d27\",\"type\":\"CDSView\"}},\"id\":\"5189dc55-14e5-4b91-90c4-cdf649b05332\",\"type\":\"GlyphRenderer\"},{\"attributes\":{\"label\":{\"value\":\"Homicide by Law Enforcement/Correctional Staff\"},\"renderers\":[{\"id\":\"0b688170-1344-4649-9a5a-9999a929e0e7\",\"type\":\"GlyphRenderer\"}]},\"id\":\"244813de-e2b8-4f54-bb4a-cd08106b4ca2\",\"type\":\"LegendItem\"},{\"attributes\":{\"fill_color\":{\"value\":\"#fdae61\"},\"height\":{\"value\":0.9},\"left\":{\"expr\":{\"id\":\"8b9d0170-fc18-48cc-a0bc-42c01db0e1b9\",\"type\":\"Stack\"}},\"line_color\":{\"value\":\"#fdae61\"},\"right\":{\"expr\":{\"id\":\"ca483e05-ddfa-4f15-9be0-5d95bd7f06d3\",\"type\":\"Stack\"}},\"y\":{\"field\":\"Ethnicity\"}},\"id\":\"83d1ca55-cf90-407c-a4a8-e0418ae0cad3\",\"type\":\"HBar\"},{\"attributes\":{\"fill_alpha\":{\"value\":0.1},\"fill_color\":{\"value\":\"#1f77b4\"},\"height\":{\"value\":0.9},\"left\":{\"expr\":{\"id\":\"e68f6e16-cb10-4332-a253-8e268db14949\",\"type\":\"Stack\"}},\"line_alpha\":{\"value\":0.1},\"line_color\":{\"value\":\"#1f77b4\"},\"right\":{\"expr\":{\"id\":\"add6b125-5ecb-48cd-b2bc-7109daf31de2\",\"type\":\"Stack\"}},\"y\":{\"field\":\"Ethnicity\"}},\"id\":\"a4f95cb5-0ba3-4f57-b0c6-d66cdf6b8609\",\"type\":\"HBar\"}],\"root_ids\":[\"1313a091-04ab-4ed6-9c25-0dd9bee1dbb7\"]},\"title\":\"Bokeh Application\",\"version\":\"0.12.13\"}};\n",
       "  var render_items = [{\"docid\":\"eb7aadc7-e003-4ef3-89d0-bfe3ac5a89be\",\"elementid\":\"0611a30b-bf0e-43d4-8d2b-7b16bafd6c82\",\"modelid\":\"1313a091-04ab-4ed6-9c25-0dd9bee1dbb7\"}];\n",
       "  root.Bokeh.embed.embed_items_notebook(docs_json, render_items);\n",
       "\n",
       "  }\n",
       "  if (root.Bokeh !== undefined) {\n",
       "    embed_document(root);\n",
       "  } else {\n",
       "    var attempts = 0;\n",
       "    var timer = setInterval(function(root) {\n",
       "      if (root.Bokeh !== undefined) {\n",
       "        embed_document(root);\n",
       "        clearInterval(timer);\n",
       "      }\n",
       "      attempts++;\n",
       "      if (attempts > 100) {\n",
       "        console.log(\"Bokeh: ERROR: Unable to run BokehJS code because BokehJS library is missing\")\n",
       "        clearInterval(timer);\n",
       "      }\n",
       "    }, 10, root)\n",
       "  }\n",
       "})(window);"
      ],
      "application/vnd.bokehjs_exec.v0+json": ""
     },
     "metadata": {
      "application/vnd.bokehjs_exec.v0+json": {
       "id": "1313a091-04ab-4ed6-9c25-0dd9bee1dbb7"
      }
     },
     "output_type": "display_data"
    }
   ],
   "source": [
    "#stacked horizontal bar graph showing deaths by Ethnicity and broken down by Cause of Death\n",
    "data= {'Ethnicity': list(death_eth_df.index), 'Accidental injury caused by others' : death_eth_df['Accidental injury caused by others'].values, \n",
    "       'Natural Causes/Illness': death_eth_df['Natural Causes/Illness'].values,  'Other':death_eth_df['Other'].values, \n",
    "       'Accidental injury to self': death_eth_df['Accidental injury to self'].values,  \n",
    "       'Homicide by Law Enforcement/Correctional Staff': death_eth_df['Homicide by Law Enforcement/Correctional Staff'].values,\n",
    "       'Suicide': death_eth_df['Suicide'].values, 'Alcohol/Drug Intoxication': death_eth_df['Alcohol/Drug Intoxication'].values, \n",
    "       'Homicide by Other': death_eth_df['Homicide by Other'].values}\n",
    "\n",
    "source = ColumnDataSource(data=data)\n",
    "\n",
    "g = figure(y_range= data['Ethnicity'], plot_height=500,plot_width=900, title=\"Manner of Death by Ethnicity\",x_axis_label='Number of Deaths from 2005-2016',\n",
    "           toolbar_location=None, tools=\"\")\n",
    "\n",
    "\n",
    "g.hbar_stack(deathtype, y= 'Ethnicity', height=0.9, color=Spectral8, source=source,\n",
    "             legend=[value(x) for x in deathtype])\n",
    "\n",
    "g.x_range.start = 0\n",
    "g.x_range.end = 4000\n",
    "g.y_range.range_padding = 0.1\n",
    "g.xgrid.grid_line_color = None\n",
    "g.axis.minor_tick_line_color = None\n",
    "g.outline_line_color = None\n",
    "g.legend.location = \"top_right\"\n",
    "g.legend.orientation = \"vertical\"\n",
    "\n",
    "show(g)\n"
   ]
  },
  {
   "cell_type": "code",
   "execution_count": 10,
   "metadata": {
    "scrolled": true
   },
   "outputs": [
    {
     "data": {
      "text/html": [
       "<div>\n",
       "<style scoped>\n",
       "    .dataframe tbody tr th:only-of-type {\n",
       "        vertical-align: middle;\n",
       "    }\n",
       "\n",
       "    .dataframe tbody tr th {\n",
       "        vertical-align: top;\n",
       "    }\n",
       "\n",
       "    .dataframe thead th {\n",
       "        text-align: right;\n",
       "    }\n",
       "</style>\n",
       "<table border=\"1\" class=\"dataframe\">\n",
       "  <thead>\n",
       "    <tr style=\"text-align: right;\">\n",
       "      <th>Department Name</th>\n",
       "      <th>Austin Police Dept.</th>\n",
       "      <th>Bexar County Sheriff's Dept.</th>\n",
       "      <th>Dallas County Sheriff's Dept.</th>\n",
       "      <th>Dallas Police Dept.</th>\n",
       "      <th>Fort Worth Police Dept.</th>\n",
       "      <th>Harris County Sheriff's Dept.</th>\n",
       "      <th>Houston Police Dept.</th>\n",
       "      <th>San Antonio Police Dept.</th>\n",
       "      <th>Texas Department Of Criminal Justice</th>\n",
       "      <th>Texas Department Of Public Safety</th>\n",
       "      <th>Travis County Sheriff's Dept.</th>\n",
       "    </tr>\n",
       "    <tr>\n",
       "      <th>Ethnicity</th>\n",
       "      <th></th>\n",
       "      <th></th>\n",
       "      <th></th>\n",
       "      <th></th>\n",
       "      <th></th>\n",
       "      <th></th>\n",
       "      <th></th>\n",
       "      <th></th>\n",
       "      <th></th>\n",
       "      <th></th>\n",
       "      <th></th>\n",
       "    </tr>\n",
       "  </thead>\n",
       "  <tbody>\n",
       "    <tr>\n",
       "      <th>American Indian/Alaska Native</th>\n",
       "      <td>NaN</td>\n",
       "      <td>NaN</td>\n",
       "      <td>1.0</td>\n",
       "      <td>NaN</td>\n",
       "      <td>NaN</td>\n",
       "      <td>1.0</td>\n",
       "      <td>NaN</td>\n",
       "      <td>NaN</td>\n",
       "      <td>4.0</td>\n",
       "      <td>NaN</td>\n",
       "      <td>NaN</td>\n",
       "    </tr>\n",
       "    <tr>\n",
       "      <th>Anglo or White</th>\n",
       "      <td>21.0</td>\n",
       "      <td>19.0</td>\n",
       "      <td>29.0</td>\n",
       "      <td>30.0</td>\n",
       "      <td>29.0</td>\n",
       "      <td>66.0</td>\n",
       "      <td>50.0</td>\n",
       "      <td>27.0</td>\n",
       "      <td>2154.0</td>\n",
       "      <td>51.0</td>\n",
       "      <td>21.0</td>\n",
       "    </tr>\n",
       "    <tr>\n",
       "      <th>Asian</th>\n",
       "      <td>1.0</td>\n",
       "      <td>NaN</td>\n",
       "      <td>1.0</td>\n",
       "      <td>NaN</td>\n",
       "      <td>1.0</td>\n",
       "      <td>3.0</td>\n",
       "      <td>3.0</td>\n",
       "      <td>2.0</td>\n",
       "      <td>17.0</td>\n",
       "      <td>NaN</td>\n",
       "      <td>NaN</td>\n",
       "    </tr>\n",
       "    <tr>\n",
       "      <th>Black or African American</th>\n",
       "      <td>11.0</td>\n",
       "      <td>15.0</td>\n",
       "      <td>55.0</td>\n",
       "      <td>61.0</td>\n",
       "      <td>16.0</td>\n",
       "      <td>116.0</td>\n",
       "      <td>113.0</td>\n",
       "      <td>25.0</td>\n",
       "      <td>1546.0</td>\n",
       "      <td>9.0</td>\n",
       "      <td>16.0</td>\n",
       "    </tr>\n",
       "    <tr>\n",
       "      <th>Hispanic or Latino</th>\n",
       "      <td>6.0</td>\n",
       "      <td>54.0</td>\n",
       "      <td>12.0</td>\n",
       "      <td>27.0</td>\n",
       "      <td>16.0</td>\n",
       "      <td>42.0</td>\n",
       "      <td>65.0</td>\n",
       "      <td>82.0</td>\n",
       "      <td>1347.0</td>\n",
       "      <td>20.0</td>\n",
       "      <td>10.0</td>\n",
       "    </tr>\n",
       "    <tr>\n",
       "      <th>Middle East</th>\n",
       "      <td>NaN</td>\n",
       "      <td>NaN</td>\n",
       "      <td>NaN</td>\n",
       "      <td>1.0</td>\n",
       "      <td>NaN</td>\n",
       "      <td>2.0</td>\n",
       "      <td>2.0</td>\n",
       "      <td>1.0</td>\n",
       "      <td>3.0</td>\n",
       "      <td>NaN</td>\n",
       "      <td>NaN</td>\n",
       "    </tr>\n",
       "    <tr>\n",
       "      <th>Native Hawaiian/Pacific Islander</th>\n",
       "      <td>NaN</td>\n",
       "      <td>NaN</td>\n",
       "      <td>NaN</td>\n",
       "      <td>1.0</td>\n",
       "      <td>NaN</td>\n",
       "      <td>NaN</td>\n",
       "      <td>NaN</td>\n",
       "      <td>NaN</td>\n",
       "      <td>NaN</td>\n",
       "      <td>NaN</td>\n",
       "      <td>NaN</td>\n",
       "    </tr>\n",
       "    <tr>\n",
       "      <th>Other/Don't Know</th>\n",
       "      <td>NaN</td>\n",
       "      <td>2.0</td>\n",
       "      <td>NaN</td>\n",
       "      <td>NaN</td>\n",
       "      <td>NaN</td>\n",
       "      <td>1.0</td>\n",
       "      <td>NaN</td>\n",
       "      <td>1.0</td>\n",
       "      <td>6.0</td>\n",
       "      <td>NaN</td>\n",
       "      <td>NaN</td>\n",
       "    </tr>\n",
       "  </tbody>\n",
       "</table>\n",
       "</div>"
      ],
      "text/plain": [
       "Department Name                   Austin Police Dept.  \\\n",
       "Ethnicity                                               \n",
       "American Indian/Alaska Native                     NaN   \n",
       "Anglo or White                                   21.0   \n",
       "Asian                                             1.0   \n",
       "Black or African American                        11.0   \n",
       "Hispanic or Latino                                6.0   \n",
       "Middle East                                       NaN   \n",
       "Native Hawaiian/Pacific Islander                  NaN   \n",
       "Other/Don't Know                                  NaN   \n",
       "\n",
       "Department Name                   Bexar County Sheriff's Dept.  \\\n",
       "Ethnicity                                                        \n",
       "American Indian/Alaska Native                              NaN   \n",
       "Anglo or White                                            19.0   \n",
       "Asian                                                      NaN   \n",
       "Black or African American                                 15.0   \n",
       "Hispanic or Latino                                        54.0   \n",
       "Middle East                                                NaN   \n",
       "Native Hawaiian/Pacific Islander                           NaN   \n",
       "Other/Don't Know                                           2.0   \n",
       "\n",
       "Department Name                   Dallas County Sheriff's Dept.  \\\n",
       "Ethnicity                                                         \n",
       "American Indian/Alaska Native                               1.0   \n",
       "Anglo or White                                             29.0   \n",
       "Asian                                                       1.0   \n",
       "Black or African American                                  55.0   \n",
       "Hispanic or Latino                                         12.0   \n",
       "Middle East                                                 NaN   \n",
       "Native Hawaiian/Pacific Islander                            NaN   \n",
       "Other/Don't Know                                            NaN   \n",
       "\n",
       "Department Name                   Dallas Police Dept.  \\\n",
       "Ethnicity                                               \n",
       "American Indian/Alaska Native                     NaN   \n",
       "Anglo or White                                   30.0   \n",
       "Asian                                             NaN   \n",
       "Black or African American                        61.0   \n",
       "Hispanic or Latino                               27.0   \n",
       "Middle East                                       1.0   \n",
       "Native Hawaiian/Pacific Islander                  1.0   \n",
       "Other/Don't Know                                  NaN   \n",
       "\n",
       "Department Name                   Fort Worth Police Dept.  \\\n",
       "Ethnicity                                                   \n",
       "American Indian/Alaska Native                         NaN   \n",
       "Anglo or White                                       29.0   \n",
       "Asian                                                 1.0   \n",
       "Black or African American                            16.0   \n",
       "Hispanic or Latino                                   16.0   \n",
       "Middle East                                           NaN   \n",
       "Native Hawaiian/Pacific Islander                      NaN   \n",
       "Other/Don't Know                                      NaN   \n",
       "\n",
       "Department Name                   Harris County Sheriff's Dept.  \\\n",
       "Ethnicity                                                         \n",
       "American Indian/Alaska Native                               1.0   \n",
       "Anglo or White                                             66.0   \n",
       "Asian                                                       3.0   \n",
       "Black or African American                                 116.0   \n",
       "Hispanic or Latino                                         42.0   \n",
       "Middle East                                                 2.0   \n",
       "Native Hawaiian/Pacific Islander                            NaN   \n",
       "Other/Don't Know                                            1.0   \n",
       "\n",
       "Department Name                   Houston Police Dept.  \\\n",
       "Ethnicity                                                \n",
       "American Indian/Alaska Native                      NaN   \n",
       "Anglo or White                                    50.0   \n",
       "Asian                                              3.0   \n",
       "Black or African American                        113.0   \n",
       "Hispanic or Latino                                65.0   \n",
       "Middle East                                        2.0   \n",
       "Native Hawaiian/Pacific Islander                   NaN   \n",
       "Other/Don't Know                                   NaN   \n",
       "\n",
       "Department Name                   San Antonio Police Dept.  \\\n",
       "Ethnicity                                                    \n",
       "American Indian/Alaska Native                          NaN   \n",
       "Anglo or White                                        27.0   \n",
       "Asian                                                  2.0   \n",
       "Black or African American                             25.0   \n",
       "Hispanic or Latino                                    82.0   \n",
       "Middle East                                            1.0   \n",
       "Native Hawaiian/Pacific Islander                       NaN   \n",
       "Other/Don't Know                                       1.0   \n",
       "\n",
       "Department Name                   Texas Department Of Criminal Justice  \\\n",
       "Ethnicity                                                                \n",
       "American Indian/Alaska Native                                      4.0   \n",
       "Anglo or White                                                  2154.0   \n",
       "Asian                                                             17.0   \n",
       "Black or African American                                       1546.0   \n",
       "Hispanic or Latino                                              1347.0   \n",
       "Middle East                                                        3.0   \n",
       "Native Hawaiian/Pacific Islander                                   NaN   \n",
       "Other/Don't Know                                                   6.0   \n",
       "\n",
       "Department Name                   Texas Department Of Public Safety  \\\n",
       "Ethnicity                                                             \n",
       "American Indian/Alaska Native                                   NaN   \n",
       "Anglo or White                                                 51.0   \n",
       "Asian                                                           NaN   \n",
       "Black or African American                                       9.0   \n",
       "Hispanic or Latino                                             20.0   \n",
       "Middle East                                                     NaN   \n",
       "Native Hawaiian/Pacific Islander                                NaN   \n",
       "Other/Don't Know                                                NaN   \n",
       "\n",
       "Department Name                   Travis County Sheriff's Dept.  \n",
       "Ethnicity                                                        \n",
       "American Indian/Alaska Native                               NaN  \n",
       "Anglo or White                                             21.0  \n",
       "Asian                                                       NaN  \n",
       "Black or African American                                  16.0  \n",
       "Hispanic or Latino                                         10.0  \n",
       "Middle East                                                 NaN  \n",
       "Native Hawaiian/Pacific Islander                            NaN  \n",
       "Other/Don't Know                                            NaN  "
      ]
     },
     "execution_count": 10,
     "metadata": {},
     "output_type": "execute_result"
    }
   ],
   "source": [
    "#create smaller df of major cities and their counties in Texas and the Ethnic break down of deaths for each\n",
    "major = cust[(cust['Department Name'] == 'Texas Department Of Criminal Justice') | (cust['Department Name'] == 'Harris County Sheriff\\'s Dept.')| (cust['Department Name'] == 'Houston Police Dept.')| (cust['Department Name'] == 'San Antonio Police Dept.')| (cust['Department Name'] == 'Fort Worth Police Dept.')| (cust['Department Name'] == 'Dallas Police Dept.')| (cust['Department Name'] == 'Dallas County Sheriff\\'s Dept.') | (cust['Department Name'] == 'Bexar County Sheriff\\'s Dept.')| (cust['Department Name'] == 'Texas Department Of Public Safety')| (cust['Department Name'] == 'Austin Police Dept.')| (cust['Department Name'] == 'Tarrant County Sheriff\\s Dept.')| (cust['Department Name'] == 'Travis County Sheriff\\'s Dept.')]  \n",
    "reduce =major.groupby(['Ethnicity', 'Department Name'])['Last Name'].count()\n",
    "majdept = reduce.unstack()\n",
    "majdept"
   ]
  },
  {
   "cell_type": "code",
   "execution_count": 11,
   "metadata": {},
   "outputs": [],
   "source": [
    "#Create small df with info for deaths in Houston PD custudy, brokendown by Ethnicity\n",
    "total= []\n",
    "for row in majdept['Houston Police Dept.']:\n",
    "    total.append(row)\n",
    "hpd = pd.DataFrame()\n",
    "hpd['ethnicity'] = majdept.index\n",
    "hpd['value'] = total\n",
    "hpd = hpd.dropna()"
   ]
  },
  {
   "cell_type": "code",
   "execution_count": 12,
   "metadata": {},
   "outputs": [
    {
     "data": {
      "image/png": "[encoded data removed]",
      "text/plain": [
       "<matplotlib.figure.Figure at 0x1e522eb85c0>"
      ]
     },
     "metadata": {},
     "output_type": "display_data"
    }
   ],
   "source": [
    "# Pie graph of Ethnicity of Deaths in Houston PD custody\n",
    "labels = hpd['ethnicity']\n",
    "sizes = hpd['value']\n",
    " \n",
    "# Plot\n",
    "plt.pie(sizes, explode= None, labels=labels, colors=Spectral8,\n",
    "        autopct='%1.1f%%', shadow=True, startangle=140)\n",
    " \n",
    "plt.axis('equal')\n",
    "plt.suptitle('Deaths in Houston PD custody by Ethnicity')\n",
    "plt.rcParams[\"figure.figsize\"] = (10,15)\n",
    "plt.show()"
   ]
  },
  {
   "cell_type": "code",
   "execution_count": 13,
   "metadata": {},
   "outputs": [],
   "source": [
    "#Create df for Harris County\n",
    "total= []\n",
    "for r in majdept['Harris County Sheriff\\'s Dept.']:\n",
    "    total.append(r)\n",
    "harris = pd.DataFrame()\n",
    "harris['ethnicity'] = majdept.index\n",
    "harris['value'] = total\n",
    "harris = harris.dropna()"
   ]
  },
  {
   "cell_type": "code",
   "execution_count": 14,
   "metadata": {},
   "outputs": [
    {
     "data": {
      "image/png": "[encoded data removed]",
      "text/plain": [
       "<matplotlib.figure.Figure at 0x1e523007160>"
      ]
     },
     "metadata": {},
     "output_type": "display_data"
    }
   ],
   "source": [
    "## Pie chart of Harris County Deaths by Ethnicity\n",
    "labels = harris['ethnicity']\n",
    "sizes = harris['value']\n",
    " \n",
    "# Plot\n",
    "plt.pie(sizes, explode= None, labels=labels, colors=Spectral8,\n",
    "        autopct='%1.1f%%', shadow=True, startangle=140)\n",
    " \n",
    "plt.axis('equal')\n",
    "plt.suptitle('Deaths in Custody of Harris County Sherrif\\'s Department by Ethnicity')\n",
    "plt.rcParams[\"figure.figsize\"] = (15,5)\n",
    "plt.show()"
   ]
  },
  {
   "cell_type": "code",
   "execution_count": 15,
   "metadata": {},
   "outputs": [],
   "source": [
    "#Create df for San Antonio Police Dept.\n",
    "total= []\n",
    "for r in majdept['San Antonio Police Dept.']:\n",
    "    total.append(r)\n",
    "sa = pd.DataFrame()\n",
    "sa['ethnicity'] = majdept.index\n",
    "sa['value'] = total\n",
    "sa = sa.dropna()"
   ]
  },
  {
   "cell_type": "code",
   "execution_count": 16,
   "metadata": {},
   "outputs": [
    {
     "data": {
      "image/png": "[encoded data removed]",
      "text/plain": [
       "<matplotlib.figure.Figure at 0x1e52307b588>"
      ]
     },
     "metadata": {},
     "output_type": "display_data"
    }
   ],
   "source": [
    "# Pie chart of San Antonio Police Dept. Deaths by Ethnicity\n",
    "labels = sa['ethnicity']\n",
    "sizes = sa['value']\n",
    " \n",
    "# Plot\n",
    "plt.pie(sizes, explode= None, labels=labels, colors=Spectral8,\n",
    "        autopct='%1.1f%%', shadow=True, startangle=140)\n",
    " \n",
    "plt.axis('equal')\n",
    "plt.suptitle('Deaths in Custody of San Antonio Police Department by Ethnicity')\n",
    "plt.rcParams[\"figure.figsize\"] = (15,5)\n",
    "plt.show()"
   ]
  },
  {
   "cell_type": "code",
   "execution_count": 17,
   "metadata": {},
   "outputs": [],
   "source": [
    "#Create df for Bexar County\n",
    "total= []\n",
    "for r in majdept['Bexar County Sheriff\\'s Dept.']:\n",
    "    total.append(r)\n",
    "bexar = pd.DataFrame()\n",
    "bexar['ethnicity'] = majdept.index\n",
    "bexar['value'] = total\n",
    "bexar = bexar.dropna()"
   ]
  },
  {
   "cell_type": "code",
   "execution_count": 18,
   "metadata": {},
   "outputs": [
    {
     "data": {
      "image/png": "[encoded data removed]",
      "text/plain": [
       "<matplotlib.figure.Figure at 0x1e5232f3358>"
      ]
     },
     "metadata": {},
     "output_type": "display_data"
    }
   ],
   "source": [
    "#Pie chart of Bexar County Deaths by Ethnicity\n",
    "labels = bexar['ethnicity']\n",
    "sizes = bexar['value']\n",
    " \n",
    "# Plot\n",
    "plt.pie(sizes, explode= None, labels=labels, colors=Spectral8,\n",
    "        autopct='%1.1f%%', shadow=True, startangle=140)\n",
    " \n",
    "plt.axis('equal')\n",
    "plt.suptitle('Deaths in Custody of Bexar County Sherrif\\'s Department by Ethnicity')\n",
    "plt.rcParams[\"figure.figsize\"] = (10,4)\n",
    "plt.show()"
   ]
  },
  {
   "cell_type": "code",
   "execution_count": 19,
   "metadata": {},
   "outputs": [
    {
     "data": {
      "text/html": [
       "<div>\n",
       "<style scoped>\n",
       "    .dataframe tbody tr th:only-of-type {\n",
       "        vertical-align: middle;\n",
       "    }\n",
       "\n",
       "    .dataframe tbody tr th {\n",
       "        vertical-align: top;\n",
       "    }\n",
       "\n",
       "    .dataframe thead th {\n",
       "        text-align: right;\n",
       "    }\n",
       "</style>\n",
       "<table border=\"1\" class=\"dataframe\">\n",
       "  <thead>\n",
       "    <tr style=\"text-align: right;\">\n",
       "      <th>Manner Death</th>\n",
       "      <th>Accidental injury caused by others</th>\n",
       "      <th>Accidental injury to self</th>\n",
       "      <th>Alcohol/Drug Intoxication</th>\n",
       "      <th>Homicide by Law Enforcement/Correctional Staff</th>\n",
       "      <th>Homicide by Other</th>\n",
       "      <th>Natural Causes/Illness</th>\n",
       "      <th>Other</th>\n",
       "      <th>Suicide</th>\n",
       "    </tr>\n",
       "    <tr>\n",
       "      <th>year</th>\n",
       "      <th></th>\n",
       "      <th></th>\n",
       "      <th></th>\n",
       "      <th></th>\n",
       "      <th></th>\n",
       "      <th></th>\n",
       "      <th></th>\n",
       "      <th></th>\n",
       "    </tr>\n",
       "  </thead>\n",
       "  <tbody>\n",
       "    <tr>\n",
       "      <th>2005</th>\n",
       "      <td>1</td>\n",
       "      <td>12</td>\n",
       "      <td>25</td>\n",
       "      <td>41</td>\n",
       "      <td>3</td>\n",
       "      <td>382</td>\n",
       "      <td>6</td>\n",
       "      <td>76</td>\n",
       "    </tr>\n",
       "    <tr>\n",
       "      <th>2006</th>\n",
       "      <td>0</td>\n",
       "      <td>10</td>\n",
       "      <td>36</td>\n",
       "      <td>46</td>\n",
       "      <td>11</td>\n",
       "      <td>483</td>\n",
       "      <td>4</td>\n",
       "      <td>67</td>\n",
       "    </tr>\n",
       "    <tr>\n",
       "      <th>2007</th>\n",
       "      <td>6</td>\n",
       "      <td>14</td>\n",
       "      <td>43</td>\n",
       "      <td>65</td>\n",
       "      <td>2</td>\n",
       "      <td>465</td>\n",
       "      <td>3</td>\n",
       "      <td>72</td>\n",
       "    </tr>\n",
       "    <tr>\n",
       "      <th>2008</th>\n",
       "      <td>4</td>\n",
       "      <td>15</td>\n",
       "      <td>24</td>\n",
       "      <td>66</td>\n",
       "      <td>6</td>\n",
       "      <td>498</td>\n",
       "      <td>11</td>\n",
       "      <td>58</td>\n",
       "    </tr>\n",
       "    <tr>\n",
       "      <th>2009</th>\n",
       "      <td>2</td>\n",
       "      <td>10</td>\n",
       "      <td>18</td>\n",
       "      <td>74</td>\n",
       "      <td>2</td>\n",
       "      <td>446</td>\n",
       "      <td>6</td>\n",
       "      <td>64</td>\n",
       "    </tr>\n",
       "    <tr>\n",
       "      <th>2010</th>\n",
       "      <td>0</td>\n",
       "      <td>14</td>\n",
       "      <td>15</td>\n",
       "      <td>65</td>\n",
       "      <td>7</td>\n",
       "      <td>399</td>\n",
       "      <td>12</td>\n",
       "      <td>76</td>\n",
       "    </tr>\n",
       "    <tr>\n",
       "      <th>2011</th>\n",
       "      <td>2</td>\n",
       "      <td>21</td>\n",
       "      <td>24</td>\n",
       "      <td>57</td>\n",
       "      <td>9</td>\n",
       "      <td>426</td>\n",
       "      <td>12</td>\n",
       "      <td>62</td>\n",
       "    </tr>\n",
       "    <tr>\n",
       "      <th>2012</th>\n",
       "      <td>1</td>\n",
       "      <td>17</td>\n",
       "      <td>22</td>\n",
       "      <td>97</td>\n",
       "      <td>13</td>\n",
       "      <td>449</td>\n",
       "      <td>15</td>\n",
       "      <td>76</td>\n",
       "    </tr>\n",
       "    <tr>\n",
       "      <th>2013</th>\n",
       "      <td>0</td>\n",
       "      <td>13</td>\n",
       "      <td>27</td>\n",
       "      <td>91</td>\n",
       "      <td>6</td>\n",
       "      <td>479</td>\n",
       "      <td>13</td>\n",
       "      <td>64</td>\n",
       "    </tr>\n",
       "    <tr>\n",
       "      <th>2014</th>\n",
       "      <td>1</td>\n",
       "      <td>14</td>\n",
       "      <td>19</td>\n",
       "      <td>94</td>\n",
       "      <td>2</td>\n",
       "      <td>421</td>\n",
       "      <td>15</td>\n",
       "      <td>74</td>\n",
       "    </tr>\n",
       "    <tr>\n",
       "      <th>2015</th>\n",
       "      <td>3</td>\n",
       "      <td>7</td>\n",
       "      <td>22</td>\n",
       "      <td>106</td>\n",
       "      <td>4</td>\n",
       "      <td>423</td>\n",
       "      <td>53</td>\n",
       "      <td>86</td>\n",
       "    </tr>\n",
       "    <tr>\n",
       "      <th>2016</th>\n",
       "      <td>1</td>\n",
       "      <td>8</td>\n",
       "      <td>9</td>\n",
       "      <td>82</td>\n",
       "      <td>7</td>\n",
       "      <td>395</td>\n",
       "      <td>53</td>\n",
       "      <td>69</td>\n",
       "    </tr>\n",
       "  </tbody>\n",
       "</table>\n",
       "</div>"
      ],
      "text/plain": [
       "Manner Death  Accidental injury caused by others  Accidental injury to self  \\\n",
       "year                                                                          \n",
       "2005                                           1                         12   \n",
       "2006                                           0                         10   \n",
       "2007                                           6                         14   \n",
       "2008                                           4                         15   \n",
       "2009                                           2                         10   \n",
       "2010                                           0                         14   \n",
       "2011                                           2                         21   \n",
       "2012                                           1                         17   \n",
       "2013                                           0                         13   \n",
       "2014                                           1                         14   \n",
       "2015                                           3                          7   \n",
       "2016                                           1                          8   \n",
       "\n",
       "Manner Death  Alcohol/Drug Intoxication  \\\n",
       "year                                      \n",
       "2005                                 25   \n",
       "2006                                 36   \n",
       "2007                                 43   \n",
       "2008                                 24   \n",
       "2009                                 18   \n",
       "2010                                 15   \n",
       "2011                                 24   \n",
       "2012                                 22   \n",
       "2013                                 27   \n",
       "2014                                 19   \n",
       "2015                                 22   \n",
       "2016                                  9   \n",
       "\n",
       "Manner Death  Homicide by Law Enforcement/Correctional Staff  \\\n",
       "year                                                           \n",
       "2005                                                      41   \n",
       "2006                                                      46   \n",
       "2007                                                      65   \n",
       "2008                                                      66   \n",
       "2009                                                      74   \n",
       "2010                                                      65   \n",
       "2011                                                      57   \n",
       "2012                                                      97   \n",
       "2013                                                      91   \n",
       "2014                                                      94   \n",
       "2015                                                     106   \n",
       "2016                                                      82   \n",
       "\n",
       "Manner Death  Homicide by Other  Natural Causes/Illness  Other  Suicide  \n",
       "year                                                                     \n",
       "2005                          3                     382      6       76  \n",
       "2006                         11                     483      4       67  \n",
       "2007                          2                     465      3       72  \n",
       "2008                          6                     498     11       58  \n",
       "2009                          2                     446      6       64  \n",
       "2010                          7                     399     12       76  \n",
       "2011                          9                     426     12       62  \n",
       "2012                         13                     449     15       76  \n",
       "2013                          6                     479     13       64  \n",
       "2014                          2                     421     15       74  \n",
       "2015                          4                     423     53       86  \n",
       "2016                          7                     395     53       69  "
      ]
     },
     "execution_count": 19,
     "metadata": {},
     "output_type": "execute_result"
    }
   ],
   "source": [
    "#create small df of deaths grouped by year and counts for each Manner of Death\n",
    "line = cust.groupby('year')['Manner Death'].value_counts()\n",
    "line =line.unstack().fillna(0).astype(int)\n",
    "line"
   ]
  },
  {
   "cell_type": "code",
   "execution_count": 20,
   "metadata": {},
   "outputs": [
    {
     "data": {
      "text/html": [
       "\n",
       "<div class=\"bk-root\">\n",
       "    <div class=\"bk-plotdiv\" id=\"9d86ac42-5bd0-4f80-808e-694d3ae5c349\"></div>\n",
       "</div>"
      ]
     },
     "metadata": {},
     "output_type": "display_data"
    },
    {
     "data": {
      "application/javascript": [
       "(function(root) {\n",
       "  function embed_document(root) {\n",
       "    \n",
       "  var docs_json = {\"7dae4b72-f8cb-4de5-a5dc-626bc1f6bafe\":{\"roots\":{\"references\":[{\"attributes\":{\"axis_label\":\"Number of Deaths\",\"formatter\":{\"id\":\"b7b7ba2d-440e-4bad-8c9c-a591f93468ba\",\"type\":\"BasicTickFormatter\"},\"plot\":{\"id\":\"76aee608-36af-493b-909d-0de63c8dcf7d\",\"subtype\":\"Figure\",\"type\":\"Plot\"},\"ticker\":{\"id\":\"1693a893-aa98-4d6c-be69-ec02fa7adb5f\",\"type\":\"BasicTicker\"}},\"id\":\"26dbc4c3-8eeb-4e9a-9f8a-48ef6c97f4be\",\"type\":\"LinearAxis\"},{\"attributes\":{\"label\":{\"value\":\"Suicide\"},\"renderers\":[{\"id\":\"3bc1fee0-bc3e-42ac-8ede-5bd3e305503e\",\"type\":\"GlyphRenderer\"},{\"id\":\"7358c1fb-adbd-4153-a974-c0482e05f02e\",\"type\":\"GlyphRenderer\"}]},\"id\":\"3e053f80-5441-4130-9b58-576749544952\",\"type\":\"LegendItem\"},{\"attributes\":{},\"id\":\"ef957f49-facd-48e6-99ec-103401b932a4\",\"type\":\"BasicTicker\"},{\"attributes\":{\"fill_color\":{\"value\":null},\"line_color\":{\"value\":\"coral\"},\"x\":{\"field\":\"x\"},\"y\":{\"field\":\"y\"}},\"id\":\"2922fd7c-6c32-4f61-a471-d6ebc3e7d631\",\"type\":\"Square\"},{\"attributes\":{\"plot\":{\"id\":\"76aee608-36af-493b-909d-0de63c8dcf7d\",\"subtype\":\"Figure\",\"type\":\"Plot\"},\"ticker\":{\"id\":\"ef957f49-facd-48e6-99ec-103401b932a4\",\"type\":\"BasicTicker\"}},\"id\":\"96bf4907-aa13-4b2c-b492-119c58432bd5\",\"type\":\"Grid\"},{\"attributes\":{\"label\":{\"value\":\"Natural Causes/Illness\"},\"renderers\":[{\"id\":\"033b0304-f31e-4e85-90ab-1d9cf6f8ab24\",\"type\":\"GlyphRenderer\"},{\"id\":\"633e0f73-c771-4b5c-8d36-841726589030\",\"type\":\"GlyphRenderer\"}]},\"id\":\"a7f615c9-f337-4772-a117-b76bfcd7d7af\",\"type\":\"LegendItem\"},{\"attributes\":{\"source\":{\"id\":\"5688a2d0-8f98-4a2c-8beb-58abf512d57a\",\"type\":\"ColumnDataSource\"}},\"id\":\"c31bb618-2de7-4bf4-a5b1-b5c6bfbbe8eb\",\"type\":\"CDSView\"},{\"attributes\":{\"axis_label\":\"Year\",\"formatter\":{\"id\":\"93395d90-881f-4d01-a87a-e8689204c80d\",\"type\":\"BasicTickFormatter\"},\"plot\":{\"id\":\"76aee608-36af-493b-909d-0de63c8dcf7d\",\"subtype\":\"Figure\",\"type\":\"Plot\"},\"ticker\":{\"id\":\"ef957f49-facd-48e6-99ec-103401b932a4\",\"type\":\"BasicTicker\"}},\"id\":\"a0701bb6-45f5-4456-9059-a3684524598f\",\"type\":\"LinearAxis\"},{\"attributes\":{\"data_source\":{\"id\":\"5688a2d0-8f98-4a2c-8beb-58abf512d57a\",\"type\":\"ColumnDataSource\"},\"glyph\":{\"id\":\"620be20a-ca5b-47df-97d5-8ba69a65f2f3\",\"type\":\"Line\"},\"hover_glyph\":null,\"muted_glyph\":null,\"nonselection_glyph\":{\"id\":\"526e0e56-8e9b-4e4e-9be9-987c96f78034\",\"type\":\"Line\"},\"selection_glyph\":null,\"view\":{\"id\":\"c31bb618-2de7-4bf4-a5b1-b5c6bfbbe8eb\",\"type\":\"CDSView\"}},\"id\":\"dff3fa9a-8bc8-4d60-8ecc-f3708419b551\",\"type\":\"GlyphRenderer\"},{\"attributes\":{\"line_alpha\":0.1,\"line_color\":\"#1f77b4\",\"x\":{\"field\":\"x\"},\"y\":{\"field\":\"y\"}},\"id\":\"fca05a15-4885-4e4c-ac76-225546e311e8\",\"type\":\"Line\"},{\"attributes\":{},\"id\":\"8d24c171-81e9-4f17-9f81-9314cbe14945\",\"type\":\"LinearScale\"},{\"attributes\":{\"source\":{\"id\":\"08403dca-173c-47d7-963e-78b8ff478e9f\",\"type\":\"ColumnDataSource\"}},\"id\":\"2aed40ca-3cd3-469a-b302-57fe6fe82fa7\",\"type\":\"CDSView\"},{\"attributes\":{\"data_source\":{\"id\":\"1727c528-a8e2-465e-9ce0-de55df73b856\",\"type\":\"ColumnDataSource\"},\"glyph\":{\"id\":\"6bd5d7e5-52a4-431b-b667-4035936d66a8\",\"type\":\"Line\"},\"hover_glyph\":null,\"muted_glyph\":null,\"nonselection_glyph\":{\"id\":\"279679dd-6f71-4ba4-bd7c-4f175d551449\",\"type\":\"Line\"},\"selection_glyph\":null,\"view\":{\"id\":\"a002b964-1a67-4951-be05-ba65c141515b\",\"type\":\"CDSView\"}},\"id\":\"a7354c6e-0fa9-47cc-9ee8-41ab02a1b890\",\"type\":\"GlyphRenderer\"},{\"attributes\":{\"callback\":null,\"end\":500},\"id\":\"975ed2ab-dc13-4d89-9232-1696c7f3d59b\",\"type\":\"Range1d\"},{\"attributes\":{\"line_color\":\"olivedrab\",\"line_width\":2,\"x\":{\"field\":\"x\"},\"y\":{\"field\":\"y\"}},\"id\":\"32e7539a-de75-4f87-bdad-d74fe7e276e5\",\"type\":\"Line\"},{\"attributes\":{},\"id\":\"a9aa7bb5-d0b1-4dbe-8700-dd9df83b5212\",\"type\":\"LinearScale\"},{\"attributes\":{\"fill_alpha\":{\"value\":0.1},\"fill_color\":{\"value\":\"#1f77b4\"},\"line_alpha\":{\"value\":0.1},\"line_color\":{\"value\":\"#1f77b4\"},\"x\":{\"field\":\"x\"},\"y\":{\"field\":\"y\"}},\"id\":\"e076e53b-d0a6-41b3-aecf-d148dddc6ff1\",\"type\":\"Circle\"},{\"attributes\":{\"source\":{\"id\":\"b4f65dca-3695-4dfb-acba-3ce65e9a9ceb\",\"type\":\"ColumnDataSource\"}},\"id\":\"9c6b17a8-188d-4b07-97ca-ec79659bb63b\",\"type\":\"CDSView\"},{\"attributes\":{\"label\":{\"value\":\"Accidental injury caused by others\"},\"renderers\":[{\"id\":\"7fbd8216-69f8-4157-8e14-ba2cac994c28\",\"type\":\"GlyphRenderer\"}]},\"id\":\"0aae85bd-7f03-4591-815b-cd07b00788f2\",\"type\":\"LegendItem\"},{\"attributes\":{\"data_source\":{\"id\":\"b4f65dca-3695-4dfb-acba-3ce65e9a9ceb\",\"type\":\"ColumnDataSource\"},\"glyph\":{\"id\":\"a8cf45e4-1158-4d32-a064-7ec87044ff3b\",\"type\":\"Circle\"},\"hover_glyph\":null,\"muted_glyph\":null,\"nonselection_glyph\":{\"id\":\"e076e53b-d0a6-41b3-aecf-d148dddc6ff1\",\"type\":\"Circle\"},\"selection_glyph\":null,\"view\":{\"id\":\"9c6b17a8-188d-4b07-97ca-ec79659bb63b\",\"type\":\"CDSView\"}},\"id\":\"86282948-93ca-404b-8cd7-2cd058480811\",\"type\":\"GlyphRenderer\"},{\"attributes\":{\"callback\":null,\"column_names\":[\"x\",\"y\"],\"data\":{\"x\":[2005,2006,2007,2008,2009,2010,2011,2012,2013,2014,2015,2016],\"y\":{\"__ndarray__\":\"GQAAACQAAAArAAAAGAAAABIAAAAPAAAAGAAAABYAAAAbAAAAEwAAABYAAAAJAAAA\",\"dtype\":\"int32\",\"shape\":[12]}}},\"id\":\"f3d0a68f-bfef-431b-a23e-b5878c19468e\",\"type\":\"ColumnDataSource\"},{\"attributes\":{\"items\":[{\"id\":\"0aae85bd-7f03-4591-815b-cd07b00788f2\",\"type\":\"LegendItem\"},{\"id\":\"6d453dfb-46e1-44ee-a7cc-85f2366c0c0b\",\"type\":\"LegendItem\"},{\"id\":\"61b0113a-92bb-4cba-80ef-76d0692ae6a3\",\"type\":\"LegendItem\"},{\"id\":\"f8093c8b-62c7-4210-bbed-fa54703df29a\",\"type\":\"LegendItem\"},{\"id\":\"56727f47-c16a-45bb-a159-b3c3e89cf893\",\"type\":\"LegendItem\"},{\"id\":\"a7f615c9-f337-4772-a117-b76bfcd7d7af\",\"type\":\"LegendItem\"},{\"id\":\"aa9a83a1-4486-4013-b663-bac083baaef9\",\"type\":\"LegendItem\"},{\"id\":\"3e053f80-5441-4130-9b58-576749544952\",\"type\":\"LegendItem\"}],\"location\":[0,-30],\"plot\":{\"id\":\"76aee608-36af-493b-909d-0de63c8dcf7d\",\"subtype\":\"Figure\",\"type\":\"Plot\"}},\"id\":\"3193ee9f-6a80-4758-8ca3-2e17835a23ee\",\"type\":\"Legend\"},{\"attributes\":{\"data_source\":{\"id\":\"7b57cf3a-b04d-48ad-b69e-1580dc25e4db\",\"type\":\"ColumnDataSource\"},\"glyph\":{\"id\":\"417d78af-45a5-4907-b9f9-81352f815faa\",\"type\":\"Line\"},\"hover_glyph\":null,\"muted_glyph\":null,\"nonselection_glyph\":{\"id\":\"e9fd8b2e-a074-464f-8e04-2815778cf337\",\"type\":\"Line\"},\"selection_glyph\":null,\"view\":{\"id\":\"a87652ed-e32d-4343-9f07-0cf72b2a0d4f\",\"type\":\"CDSView\"}},\"id\":\"b9b29e3d-025a-4a88-829e-2d5d44e56d88\",\"type\":\"GlyphRenderer\"},{\"attributes\":{\"label\":{\"value\":\"Homicide by Other\"},\"renderers\":[{\"id\":\"dff3fa9a-8bc8-4d60-8ecc-f3708419b551\",\"type\":\"GlyphRenderer\"}]},\"id\":\"56727f47-c16a-45bb-a159-b3c3e89cf893\",\"type\":\"LegendItem\"},{\"attributes\":{\"fill_color\":{\"value\":\"#1f77b4\"},\"line_color\":{\"value\":\"#1f77b4\"},\"x\":{\"field\":\"x\"},\"y\":{\"field\":\"y\"}},\"id\":\"a8cf45e4-1158-4d32-a064-7ec87044ff3b\",\"type\":\"Circle\"},{\"attributes\":{\"callback\":null,\"column_names\":[\"x\",\"y\"],\"data\":{\"x\":[2005,2006,2007,2008,2009,2010,2011,2012,2013,2014,2015,2016],\"y\":{\"__ndarray__\":\"DAAAAAoAAAAOAAAADwAAAAoAAAAOAAAAFQAAABEAAAANAAAADgAAAAcAAAAIAAAA\",\"dtype\":\"int32\",\"shape\":[12]}}},\"id\":\"7b57cf3a-b04d-48ad-b69e-1580dc25e4db\",\"type\":\"ColumnDataSource\"},{\"attributes\":{\"label\":{\"value\":\"Homicide by Law Enforcement/Correctional Staff\"},\"renderers\":[{\"id\":\"a7354c6e-0fa9-47cc-9ee8-41ab02a1b890\",\"type\":\"GlyphRenderer\"}]},\"id\":\"f8093c8b-62c7-4210-bbed-fa54703df29a\",\"type\":\"LegendItem\"},{\"attributes\":{\"source\":{\"id\":\"7b57cf3a-b04d-48ad-b69e-1580dc25e4db\",\"type\":\"ColumnDataSource\"}},\"id\":\"a87652ed-e32d-4343-9f07-0cf72b2a0d4f\",\"type\":\"CDSView\"},{\"attributes\":{\"line_alpha\":0.1,\"line_color\":\"#1f77b4\",\"x\":{\"field\":\"x\"},\"y\":{\"field\":\"y\"}},\"id\":\"e9fd8b2e-a074-464f-8e04-2815778cf337\",\"type\":\"Line\"},{\"attributes\":{\"callback\":null,\"column_names\":[\"x\",\"y\"],\"data\":{\"x\":[2005,2006,2007,2008,2009,2010,2011,2012,2013,2014,2015,2016],\"y\":{\"__ndarray__\":\"fgEAAOMBAADRAQAA8gEAAL4BAACPAQAAqgEAAMEBAADfAQAApQEAAKcBAACLAQAA\",\"dtype\":\"int32\",\"shape\":[12]}}},\"id\":\"35d87e55-6892-4fed-bf69-97c432d53bb8\",\"type\":\"ColumnDataSource\"},{\"attributes\":{\"data_source\":{\"id\":\"08403dca-173c-47d7-963e-78b8ff478e9f\",\"type\":\"ColumnDataSource\"},\"glyph\":{\"id\":\"b433d39a-7ed6-4d6e-9c09-400e70492735\",\"type\":\"Line\"},\"hover_glyph\":null,\"muted_glyph\":null,\"nonselection_glyph\":{\"id\":\"3bb18056-94fa-43b8-94cd-89ad34797b09\",\"type\":\"Line\"},\"selection_glyph\":null,\"view\":{\"id\":\"2aed40ca-3cd3-469a-b302-57fe6fe82fa7\",\"type\":\"CDSView\"}},\"id\":\"3bc1fee0-bc3e-42ac-8ede-5bd3e305503e\",\"type\":\"GlyphRenderer\"},{\"attributes\":{\"callback\":null,\"column_names\":[\"x\",\"y\"],\"data\":{\"x\":[2005,2006,2007,2008,2009,2010,2011,2012,2013,2014,2015,2016],\"y\":{\"__ndarray__\":\"BgAAAAQAAAADAAAACwAAAAYAAAAMAAAADAAAAA8AAAANAAAADwAAADUAAAA1AAAA\",\"dtype\":\"int32\",\"shape\":[12]}}},\"id\":\"2b23e686-8660-4a0b-833f-220189c406a4\",\"type\":\"ColumnDataSource\"},{\"attributes\":{},\"id\":\"1693a893-aa98-4d6c-be69-ec02fa7adb5f\",\"type\":\"BasicTicker\"},{\"attributes\":{\"callback\":null,\"column_names\":[\"x\",\"y\"],\"data\":{\"x\":[2005,2006,2007,2008,2009,2010,2011,2012,2013,2014,2015,2016],\"y\":{\"__ndarray__\":\"fgEAAOMBAADRAQAA8gEAAL4BAACPAQAAqgEAAMEBAADfAQAApQEAAKcBAACLAQAA\",\"dtype\":\"int32\",\"shape\":[12]}}},\"id\":\"34a85f3b-db38-46b7-aafb-559bf0e85866\",\"type\":\"ColumnDataSource\"},{\"attributes\":{\"active_drag\":\"auto\",\"active_inspect\":\"auto\",\"active_scroll\":\"auto\",\"active_tap\":\"auto\",\"tools\":[{\"id\":\"40381696-c46a-4ab5-93cb-d944399ea4f1\",\"type\":\"PanTool\"},{\"id\":\"882c0869-b631-456d-a504-382215468978\",\"type\":\"WheelZoomTool\"},{\"id\":\"e8e1c7c6-bf6e-4afa-a4e8-05a70d7324ee\",\"type\":\"BoxZoomTool\"},{\"id\":\"2a9f2367-106f-4804-8046-bc834f14e007\",\"type\":\"SaveTool\"},{\"id\":\"67fe3898-4e51-4358-a583-5d60b71b78a4\",\"type\":\"ResetTool\"},{\"id\":\"186b8f60-921c-4247-b5d3-97cf07ed8b5e\",\"type\":\"HelpTool\"}]},\"id\":\"4f4ba24d-3cba-48fb-aa38-52ae0c2d631e\",\"type\":\"Toolbar\"},{\"attributes\":{\"plot\":null,\"text\":\"Manner of Death by year\"},\"id\":\"e3071e4f-2248-47ec-b753-17aeb4fac76b\",\"type\":\"Title\"},{\"attributes\":{\"label\":{\"value\":\"Other\"},\"renderers\":[{\"id\":\"3adf04a7-a921-44e2-b316-abf09524e87d\",\"type\":\"GlyphRenderer\"},{\"id\":\"7016ccbd-c23e-495d-b10c-87a6154db01b\",\"type\":\"GlyphRenderer\"}]},\"id\":\"aa9a83a1-4486-4013-b663-bac083baaef9\",\"type\":\"LegendItem\"},{\"attributes\":{\"line_alpha\":0.1,\"line_color\":\"#1f77b4\",\"line_dash\":[2,4],\"x\":{\"field\":\"x\"},\"y\":{\"field\":\"y\"}},\"id\":\"279679dd-6f71-4ba4-bd7c-4f175d551449\",\"type\":\"Line\"},{\"attributes\":{\"callback\":null},\"id\":\"e7acc13c-d729-4ddd-b754-05a1a18ff1de\",\"type\":\"DataRange1d\"},{\"attributes\":{\"line_color\":\"gold\",\"line_dash\":[2,4],\"x\":{\"field\":\"x\"},\"y\":{\"field\":\"y\"}},\"id\":\"6bd5d7e5-52a4-431b-b667-4035936d66a8\",\"type\":\"Line\"},{\"attributes\":{\"callback\":null,\"column_names\":[\"x\",\"y\"],\"data\":{\"x\":[2005,2006,2007,2008,2009,2010,2011,2012,2013,2014,2015,2016],\"y\":{\"__ndarray__\":\"KQAAAC4AAABBAAAAQgAAAEoAAABBAAAAOQAAAGEAAABbAAAAXgAAAGoAAABSAAAA\",\"dtype\":\"int32\",\"shape\":[12]}}},\"id\":\"1727c528-a8e2-465e-9ce0-de55df73b856\",\"type\":\"ColumnDataSource\"},{\"attributes\":{\"callback\":null,\"column_names\":[\"x\",\"y\"],\"data\":{\"x\":[2005,2006,2007,2008,2009,2010,2011,2012,2013,2014,2015,2016],\"y\":{\"__ndarray__\":\"AwAAAAsAAAACAAAABgAAAAIAAAAHAAAACQAAAA0AAAAGAAAAAgAAAAQAAAAHAAAA\",\"dtype\":\"int32\",\"shape\":[12]}}},\"id\":\"5688a2d0-8f98-4a2c-8beb-58abf512d57a\",\"type\":\"ColumnDataSource\"},{\"attributes\":{\"below\":[{\"id\":\"a0701bb6-45f5-4456-9059-a3684524598f\",\"type\":\"LinearAxis\"}],\"left\":[{\"id\":\"26dbc4c3-8eeb-4e9a-9f8a-48ef6c97f4be\",\"type\":\"LinearAxis\"}],\"plot_width\":1000,\"renderers\":[{\"id\":\"a0701bb6-45f5-4456-9059-a3684524598f\",\"type\":\"LinearAxis\"},{\"id\":\"96bf4907-aa13-4b2c-b492-119c58432bd5\",\"type\":\"Grid\"},{\"id\":\"26dbc4c3-8eeb-4e9a-9f8a-48ef6c97f4be\",\"type\":\"LinearAxis\"},{\"id\":\"329bf416-08c7-45fc-9af7-70456bd6ddd2\",\"type\":\"Grid\"},{\"id\":\"d84c1f5f-bc80-4a41-89e5-cc7158f88fa0\",\"type\":\"BoxAnnotation\"},{\"id\":\"7fbd8216-69f8-4157-8e14-ba2cac994c28\",\"type\":\"GlyphRenderer\"},{\"id\":\"b9b29e3d-025a-4a88-829e-2d5d44e56d88\",\"type\":\"GlyphRenderer\"},{\"id\":\"86282948-93ca-404b-8cd7-2cd058480811\",\"type\":\"GlyphRenderer\"},{\"id\":\"4df6493c-5670-4366-96d7-6cf29315e3fd\",\"type\":\"GlyphRenderer\"},{\"id\":\"a7354c6e-0fa9-47cc-9ee8-41ab02a1b890\",\"type\":\"GlyphRenderer\"},{\"id\":\"dff3fa9a-8bc8-4d60-8ecc-f3708419b551\",\"type\":\"GlyphRenderer\"},{\"id\":\"033b0304-f31e-4e85-90ab-1d9cf6f8ab24\",\"type\":\"GlyphRenderer\"},{\"id\":\"633e0f73-c771-4b5c-8d36-841726589030\",\"type\":\"GlyphRenderer\"},{\"id\":\"3adf04a7-a921-44e2-b316-abf09524e87d\",\"type\":\"GlyphRenderer\"},{\"id\":\"7016ccbd-c23e-495d-b10c-87a6154db01b\",\"type\":\"GlyphRenderer\"},{\"id\":\"3bc1fee0-bc3e-42ac-8ede-5bd3e305503e\",\"type\":\"GlyphRenderer\"},{\"id\":\"7358c1fb-adbd-4153-a974-c0482e05f02e\",\"type\":\"GlyphRenderer\"},{\"id\":\"3193ee9f-6a80-4758-8ca3-2e17835a23ee\",\"type\":\"Legend\"}],\"right\":[{\"id\":\"3193ee9f-6a80-4758-8ca3-2e17835a23ee\",\"type\":\"Legend\"}],\"title\":{\"id\":\"e3071e4f-2248-47ec-b753-17aeb4fac76b\",\"type\":\"Title\"},\"toolbar\":{\"id\":\"4f4ba24d-3cba-48fb-aa38-52ae0c2d631e\",\"type\":\"Toolbar\"},\"x_range\":{\"id\":\"e7acc13c-d729-4ddd-b754-05a1a18ff1de\",\"type\":\"DataRange1d\"},\"x_scale\":{\"id\":\"a9aa7bb5-d0b1-4dbe-8700-dd9df83b5212\",\"type\":\"LinearScale\"},\"y_range\":{\"id\":\"975ed2ab-dc13-4d89-9232-1696c7f3d59b\",\"type\":\"Range1d\"},\"y_scale\":{\"id\":\"8d24c171-81e9-4f17-9f81-9314cbe14945\",\"type\":\"LinearScale\"}},\"id\":\"76aee608-36af-493b-909d-0de63c8dcf7d\",\"subtype\":\"Figure\",\"type\":\"Plot\"},{\"attributes\":{\"source\":{\"id\":\"1727c528-a8e2-465e-9ce0-de55df73b856\",\"type\":\"ColumnDataSource\"}},\"id\":\"a002b964-1a67-4951-be05-ba65c141515b\",\"type\":\"CDSView\"},{\"attributes\":{\"callback\":null,\"column_names\":[\"x\",\"y\"],\"data\":{\"x\":[2005,2006,2007,2008,2009,2010,2011,2012,2013,2014,2015,2016],\"y\":{\"__ndarray__\":\"AQAAAAAAAAAGAAAABAAAAAIAAAAAAAAAAgAAAAEAAAAAAAAAAQAAAAMAAAABAAAA\",\"dtype\":\"int32\",\"shape\":[12]}}},\"id\":\"dd39e6dd-6f9a-4cf6-8825-04dc8d0705a5\",\"type\":\"ColumnDataSource\"},{\"attributes\":{\"fill_color\":{\"value\":\"#1f77b4\"},\"line_color\":{\"value\":\"orange\"},\"x\":{\"field\":\"x\"},\"y\":{\"field\":\"y\"}},\"id\":\"81878745-a13f-43b7-9e8f-9f197a405ce2\",\"type\":\"Cross\"},{\"attributes\":{\"source\":{\"id\":\"f3d0a68f-bfef-431b-a23e-b5878c19468e\",\"type\":\"ColumnDataSource\"}},\"id\":\"d482adcf-5f9d-488b-8b5c-9ca49073e6c3\",\"type\":\"CDSView\"},{\"attributes\":{\"line_alpha\":0.1,\"line_color\":\"#1f77b4\",\"line_width\":2,\"x\":{\"field\":\"x\"},\"y\":{\"field\":\"y\"}},\"id\":\"3209bbaf-b559-46f2-9812-41469fa57b64\",\"type\":\"Line\"},{\"attributes\":{\"data_source\":{\"id\":\"f3d0a68f-bfef-431b-a23e-b5878c19468e\",\"type\":\"ColumnDataSource\"},\"glyph\":{\"id\":\"32e7539a-de75-4f87-bdad-d74fe7e276e5\",\"type\":\"Line\"},\"hover_glyph\":null,\"muted_glyph\":null,\"nonselection_glyph\":{\"id\":\"3209bbaf-b559-46f2-9812-41469fa57b64\",\"type\":\"Line\"},\"selection_glyph\":null,\"view\":{\"id\":\"d482adcf-5f9d-488b-8b5c-9ca49073e6c3\",\"type\":\"CDSView\"}},\"id\":\"4df6493c-5670-4366-96d7-6cf29315e3fd\",\"type\":\"GlyphRenderer\"},{\"attributes\":{},\"id\":\"b7b7ba2d-440e-4bad-8c9c-a591f93468ba\",\"type\":\"BasicTickFormatter\"},{\"attributes\":{\"line_color\":\"#1f77b4\",\"x\":{\"field\":\"x\"},\"y\":{\"field\":\"y\"}},\"id\":\"417d78af-45a5-4907-b9f9-81352f815faa\",\"type\":\"Line\"},{\"attributes\":{},\"id\":\"93395d90-881f-4d01-a87a-e8689204c80d\",\"type\":\"BasicTickFormatter\"},{\"attributes\":{\"callback\":null,\"column_names\":[\"x\",\"y\"],\"data\":{\"x\":[2005,2006,2007,2008,2009,2010,2011,2012,2013,2014,2015,2016],\"y\":{\"__ndarray__\":\"DAAAAAoAAAAOAAAADwAAAAoAAAAOAAAAFQAAABEAAAANAAAADgAAAAcAAAAIAAAA\",\"dtype\":\"int32\",\"shape\":[12]}}},\"id\":\"b4f65dca-3695-4dfb-acba-3ce65e9a9ceb\",\"type\":\"ColumnDataSource\"},{\"attributes\":{},\"id\":\"186b8f60-921c-4247-b5d3-97cf07ed8b5e\",\"type\":\"HelpTool\"},{\"attributes\":{\"line_color\":\"coral\",\"x\":{\"field\":\"x\"},\"y\":{\"field\":\"y\"}},\"id\":\"abd1084a-b20d-4f92-a74b-73f4cfab1357\",\"type\":\"Line\"},{\"attributes\":{},\"id\":\"67fe3898-4e51-4358-a583-5d60b71b78a4\",\"type\":\"ResetTool\"},{\"attributes\":{\"line_alpha\":0.1,\"line_color\":\"#1f77b4\",\"line_dash\":[6],\"line_width\":2,\"x\":{\"field\":\"x\"},\"y\":{\"field\":\"y\"}},\"id\":\"526e0e56-8e9b-4e4e-9be9-987c96f78034\",\"type\":\"Line\"},{\"attributes\":{},\"id\":\"40381696-c46a-4ab5-93cb-d944399ea4f1\",\"type\":\"PanTool\"},{\"attributes\":{\"line_color\":\"indigo\",\"line_dash\":[6],\"line_width\":2,\"x\":{\"field\":\"x\"},\"y\":{\"field\":\"y\"}},\"id\":\"620be20a-ca5b-47df-97d5-8ba69a65f2f3\",\"type\":\"Line\"},{\"attributes\":{\"data_source\":{\"id\":\"dd39e6dd-6f9a-4cf6-8825-04dc8d0705a5\",\"type\":\"ColumnDataSource\"},\"glyph\":{\"id\":\"77c6d254-66d9-4c2c-b861-a7d2ccbe02dc\",\"type\":\"Line\"},\"hover_glyph\":null,\"muted_glyph\":null,\"nonselection_glyph\":{\"id\":\"cc426e26-ac07-423c-9769-2e96bc73c417\",\"type\":\"Line\"},\"selection_glyph\":null,\"view\":{\"id\":\"4d1f4503-4e02-4a57-b888-870cc22093a8\",\"type\":\"CDSView\"}},\"id\":\"7fbd8216-69f8-4157-8e14-ba2cac994c28\",\"type\":\"GlyphRenderer\"},{\"attributes\":{},\"id\":\"2a9f2367-106f-4804-8046-bc834f14e007\",\"type\":\"SaveTool\"},{\"attributes\":{\"bottom_units\":\"screen\",\"fill_alpha\":{\"value\":0.5},\"fill_color\":{\"value\":\"lightgrey\"},\"left_units\":\"screen\",\"level\":\"overlay\",\"line_alpha\":{\"value\":1.0},\"line_color\":{\"value\":\"black\"},\"line_dash\":[4,4],\"line_width\":{\"value\":2},\"plot\":null,\"render_mode\":\"css\",\"right_units\":\"screen\",\"top_units\":\"screen\"},\"id\":\"d84c1f5f-bc80-4a41-89e5-cc7158f88fa0\",\"type\":\"BoxAnnotation\"},{\"attributes\":{\"line_color\":\"tomato\",\"line_dash\":[2,4,6,4],\"x\":{\"field\":\"x\"},\"y\":{\"field\":\"y\"}},\"id\":\"77c6d254-66d9-4c2c-b861-a7d2ccbe02dc\",\"type\":\"Line\"},{\"attributes\":{\"line_alpha\":0.1,\"line_color\":\"#1f77b4\",\"line_dash\":[2,4,6,4],\"x\":{\"field\":\"x\"},\"y\":{\"field\":\"y\"}},\"id\":\"cc426e26-ac07-423c-9769-2e96bc73c417\",\"type\":\"Line\"},{\"attributes\":{\"line_alpha\":0.1,\"line_color\":\"#1f77b4\",\"x\":{\"field\":\"x\"},\"y\":{\"field\":\"y\"}},\"id\":\"3bb18056-94fa-43b8-94cd-89ad34797b09\",\"type\":\"Line\"},{\"attributes\":{\"data_source\":{\"id\":\"34a85f3b-db38-46b7-aafb-559bf0e85866\",\"type\":\"ColumnDataSource\"},\"glyph\":{\"id\":\"abd1084a-b20d-4f92-a74b-73f4cfab1357\",\"type\":\"Line\"},\"hover_glyph\":null,\"muted_glyph\":null,\"nonselection_glyph\":{\"id\":\"fca05a15-4885-4e4c-ac76-225546e311e8\",\"type\":\"Line\"},\"selection_glyph\":null,\"view\":{\"id\":\"1403f5da-0bea-4e72-8987-b13eda63066f\",\"type\":\"CDSView\"}},\"id\":\"033b0304-f31e-4e85-90ab-1d9cf6f8ab24\",\"type\":\"GlyphRenderer\"},{\"attributes\":{\"overlay\":{\"id\":\"d84c1f5f-bc80-4a41-89e5-cc7158f88fa0\",\"type\":\"BoxAnnotation\"}},\"id\":\"e8e1c7c6-bf6e-4afa-a4e8-05a70d7324ee\",\"type\":\"BoxZoomTool\"},{\"attributes\":{},\"id\":\"882c0869-b631-456d-a504-382215468978\",\"type\":\"WheelZoomTool\"},{\"attributes\":{\"source\":{\"id\":\"dd39e6dd-6f9a-4cf6-8825-04dc8d0705a5\",\"type\":\"ColumnDataSource\"}},\"id\":\"4d1f4503-4e02-4a57-b888-870cc22093a8\",\"type\":\"CDSView\"},{\"attributes\":{\"source\":{\"id\":\"c3b6fe85-a98a-432b-afe7-b1549d3a2054\",\"type\":\"ColumnDataSource\"}},\"id\":\"30ab18ef-3231-4376-901b-190e4e243b41\",\"type\":\"CDSView\"},{\"attributes\":{\"source\":{\"id\":\"34a85f3b-db38-46b7-aafb-559bf0e85866\",\"type\":\"ColumnDataSource\"}},\"id\":\"1403f5da-0bea-4e72-8987-b13eda63066f\",\"type\":\"CDSView\"},{\"attributes\":{\"fill_alpha\":{\"value\":0.1},\"fill_color\":{\"value\":\"#1f77b4\"},\"line_alpha\":{\"value\":0.1},\"line_color\":{\"value\":\"#1f77b4\"},\"x\":{\"field\":\"x\"},\"y\":{\"field\":\"y\"}},\"id\":\"3933b72e-d27e-4929-8f8f-3d254e86137b\",\"type\":\"Cross\"},{\"attributes\":{\"source\":{\"id\":\"35d87e55-6892-4fed-bf69-97c432d53bb8\",\"type\":\"ColumnDataSource\"}},\"id\":\"0079da82-07bb-4c4c-89e0-23b4c545ca6d\",\"type\":\"CDSView\"},{\"attributes\":{\"data_source\":{\"id\":\"c3b6fe85-a98a-432b-afe7-b1549d3a2054\",\"type\":\"ColumnDataSource\"},\"glyph\":{\"id\":\"81878745-a13f-43b7-9e8f-9f197a405ce2\",\"type\":\"Cross\"},\"hover_glyph\":null,\"muted_glyph\":null,\"nonselection_glyph\":{\"id\":\"3933b72e-d27e-4929-8f8f-3d254e86137b\",\"type\":\"Cross\"},\"selection_glyph\":null,\"view\":{\"id\":\"30ab18ef-3231-4376-901b-190e4e243b41\",\"type\":\"CDSView\"}},\"id\":\"7358c1fb-adbd-4153-a974-c0482e05f02e\",\"type\":\"GlyphRenderer\"},{\"attributes\":{\"fill_alpha\":{\"value\":0.1},\"fill_color\":{\"value\":\"#1f77b4\"},\"line_alpha\":{\"value\":0.1},\"line_color\":{\"value\":\"#1f77b4\"},\"x\":{\"field\":\"x\"},\"y\":{\"field\":\"y\"}},\"id\":\"540b16e5-b1e1-4e4e-8c06-e814443b8334\",\"type\":\"Square\"},{\"attributes\":{\"label\":{\"value\":\"Accidental injury to self\"},\"renderers\":[{\"id\":\"b9b29e3d-025a-4a88-829e-2d5d44e56d88\",\"type\":\"GlyphRenderer\"},{\"id\":\"86282948-93ca-404b-8cd7-2cd058480811\",\"type\":\"GlyphRenderer\"}]},\"id\":\"6d453dfb-46e1-44ee-a7cc-85f2366c0c0b\",\"type\":\"LegendItem\"},{\"attributes\":{\"data_source\":{\"id\":\"35d87e55-6892-4fed-bf69-97c432d53bb8\",\"type\":\"ColumnDataSource\"},\"glyph\":{\"id\":\"2922fd7c-6c32-4f61-a471-d6ebc3e7d631\",\"type\":\"Square\"},\"hover_glyph\":null,\"muted_glyph\":null,\"nonselection_glyph\":{\"id\":\"540b16e5-b1e1-4e4e-8c06-e814443b8334\",\"type\":\"Square\"},\"selection_glyph\":null,\"view\":{\"id\":\"0079da82-07bb-4c4c-89e0-23b4c545ca6d\",\"type\":\"CDSView\"}},\"id\":\"633e0f73-c771-4b5c-8d36-841726589030\",\"type\":\"GlyphRenderer\"},{\"attributes\":{\"fill_color\":{\"value\":\"#1f77b4\"},\"line_color\":{\"value\":\"green\"},\"x\":{\"field\":\"x\"},\"y\":{\"field\":\"y\"}},\"id\":\"15f4ae6d-4dd2-43a0-a368-add806ad7ab4\",\"type\":\"Triangle\"},{\"attributes\":{\"callback\":null,\"column_names\":[\"x\",\"y\"],\"data\":{\"x\":[2005,2006,2007,2008,2009,2010,2011,2012,2013,2014,2015,2016],\"y\":{\"__ndarray__\":\"TAAAAEMAAABIAAAAOgAAAEAAAABMAAAAPgAAAEwAAABAAAAASgAAAFYAAABFAAAA\",\"dtype\":\"int32\",\"shape\":[12]}}},\"id\":\"c3b6fe85-a98a-432b-afe7-b1549d3a2054\",\"type\":\"ColumnDataSource\"},{\"attributes\":{\"callback\":null,\"column_names\":[\"x\",\"y\"],\"data\":{\"x\":[2005,2006,2007,2008,2009,2010,2011,2012,2013,2014,2015,2016],\"y\":{\"__ndarray__\":\"BgAAAAQAAAADAAAACwAAAAYAAAAMAAAADAAAAA8AAAANAAAADwAAADUAAAA1AAAA\",\"dtype\":\"int32\",\"shape\":[12]}}},\"id\":\"61fb7ad0-2d17-411c-9048-3b6b48668a68\",\"type\":\"ColumnDataSource\"},{\"attributes\":{\"source\":{\"id\":\"2b23e686-8660-4a0b-833f-220189c406a4\",\"type\":\"ColumnDataSource\"}},\"id\":\"e76d8fd8-7224-4847-a6bc-83c6b42d52ad\",\"type\":\"CDSView\"},{\"attributes\":{\"line_color\":\"green\",\"x\":{\"field\":\"x\"},\"y\":{\"field\":\"y\"}},\"id\":\"7b914c69-8327-4d73-9430-7b8e8b095331\",\"type\":\"Line\"},{\"attributes\":{\"data_source\":{\"id\":\"2b23e686-8660-4a0b-833f-220189c406a4\",\"type\":\"ColumnDataSource\"},\"glyph\":{\"id\":\"7b914c69-8327-4d73-9430-7b8e8b095331\",\"type\":\"Line\"},\"hover_glyph\":null,\"muted_glyph\":null,\"nonselection_glyph\":{\"id\":\"8045e5cf-31a0-4ff2-97c4-6fd52eede2df\",\"type\":\"Line\"},\"selection_glyph\":null,\"view\":{\"id\":\"e76d8fd8-7224-4847-a6bc-83c6b42d52ad\",\"type\":\"CDSView\"}},\"id\":\"3adf04a7-a921-44e2-b316-abf09524e87d\",\"type\":\"GlyphRenderer\"},{\"attributes\":{\"line_alpha\":0.1,\"line_color\":\"#1f77b4\",\"x\":{\"field\":\"x\"},\"y\":{\"field\":\"y\"}},\"id\":\"8045e5cf-31a0-4ff2-97c4-6fd52eede2df\",\"type\":\"Line\"},{\"attributes\":{\"callback\":null,\"column_names\":[\"x\",\"y\"],\"data\":{\"x\":[2005,2006,2007,2008,2009,2010,2011,2012,2013,2014,2015,2016],\"y\":{\"__ndarray__\":\"TAAAAEMAAABIAAAAOgAAAEAAAABMAAAAPgAAAEwAAABAAAAASgAAAFYAAABFAAAA\",\"dtype\":\"int32\",\"shape\":[12]}}},\"id\":\"08403dca-173c-47d7-963e-78b8ff478e9f\",\"type\":\"ColumnDataSource\"},{\"attributes\":{\"label\":{\"value\":\"Alcohol/Drug Intoxication\"},\"renderers\":[{\"id\":\"4df6493c-5670-4366-96d7-6cf29315e3fd\",\"type\":\"GlyphRenderer\"}]},\"id\":\"61b0113a-92bb-4cba-80ef-76d0692ae6a3\",\"type\":\"LegendItem\"},{\"attributes\":{\"source\":{\"id\":\"61fb7ad0-2d17-411c-9048-3b6b48668a68\",\"type\":\"ColumnDataSource\"}},\"id\":\"e316e2f2-fee6-4250-84bc-7ada712fdeec\",\"type\":\"CDSView\"},{\"attributes\":{\"line_color\":\"orange\",\"x\":{\"field\":\"x\"},\"y\":{\"field\":\"y\"}},\"id\":\"b433d39a-7ed6-4d6e-9c09-400e70492735\",\"type\":\"Line\"},{\"attributes\":{\"dimension\":1,\"plot\":{\"id\":\"76aee608-36af-493b-909d-0de63c8dcf7d\",\"subtype\":\"Figure\",\"type\":\"Plot\"},\"ticker\":{\"id\":\"1693a893-aa98-4d6c-be69-ec02fa7adb5f\",\"type\":\"BasicTicker\"}},\"id\":\"329bf416-08c7-45fc-9af7-70456bd6ddd2\",\"type\":\"Grid\"},{\"attributes\":{\"fill_alpha\":{\"value\":0.1},\"fill_color\":{\"value\":\"#1f77b4\"},\"line_alpha\":{\"value\":0.1},\"line_color\":{\"value\":\"#1f77b4\"},\"x\":{\"field\":\"x\"},\"y\":{\"field\":\"y\"}},\"id\":\"16051a5b-e802-47f9-9ef6-9b7464f4a4c8\",\"type\":\"Triangle\"},{\"attributes\":{\"data_source\":{\"id\":\"61fb7ad0-2d17-411c-9048-3b6b48668a68\",\"type\":\"ColumnDataSource\"},\"glyph\":{\"id\":\"15f4ae6d-4dd2-43a0-a368-add806ad7ab4\",\"type\":\"Triangle\"},\"hover_glyph\":null,\"muted_glyph\":null,\"nonselection_glyph\":{\"id\":\"16051a5b-e802-47f9-9ef6-9b7464f4a4c8\",\"type\":\"Triangle\"},\"selection_glyph\":null,\"view\":{\"id\":\"e316e2f2-fee6-4250-84bc-7ada712fdeec\",\"type\":\"CDSView\"}},\"id\":\"7016ccbd-c23e-495d-b10c-87a6154db01b\",\"type\":\"GlyphRenderer\"}],\"root_ids\":[\"76aee608-36af-493b-909d-0de63c8dcf7d\"]},\"title\":\"Bokeh Application\",\"version\":\"0.12.13\"}};\n",
       "  var render_items = [{\"docid\":\"7dae4b72-f8cb-4de5-a5dc-626bc1f6bafe\",\"elementid\":\"9d86ac42-5bd0-4f80-808e-694d3ae5c349\",\"modelid\":\"76aee608-36af-493b-909d-0de63c8dcf7d\"}];\n",
       "  root.Bokeh.embed.embed_items_notebook(docs_json, render_items);\n",
       "\n",
       "  }\n",
       "  if (root.Bokeh !== undefined) {\n",
       "    embed_document(root);\n",
       "  } else {\n",
       "    var attempts = 0;\n",
       "    var timer = setInterval(function(root) {\n",
       "      if (root.Bokeh !== undefined) {\n",
       "        embed_document(root);\n",
       "        clearInterval(timer);\n",
       "      }\n",
       "      attempts++;\n",
       "      if (attempts > 100) {\n",
       "        console.log(\"Bokeh: ERROR: Unable to run BokehJS code because BokehJS library is missing\")\n",
       "        clearInterval(timer);\n",
       "      }\n",
       "    }, 10, root)\n",
       "  }\n",
       "})(window);"
      ],
      "application/vnd.bokehjs_exec.v0+json": ""
     },
     "metadata": {
      "application/vnd.bokehjs_exec.v0+json": {
       "id": "76aee608-36af-493b-909d-0de63c8dcf7d"
      }
     },
     "output_type": "display_data"
    }
   ],
   "source": [
    "#line graph showing number of death in each year for each type of Manner of Death\n",
    "\n",
    "x= list(line.index)\n",
    "\n",
    "l = figure(title=\"Manner of Death by year\", y_range=(0, 500), y_axis_label='Number of Deaths',x_axis_label='Year', plot_width=1000)\n",
    "\n",
    "r0= l.line(x, line['Accidental injury caused by others'], line_color=\"tomato\", line_dash=\"dotdash\")\n",
    "\n",
    "r1= l.line(x, line['Accidental injury to self'])\n",
    "r2= l.circle(x, line['Accidental injury to self'])\n",
    "\n",
    "r3= l.line(x, line['Alcohol/Drug Intoxication'],line_width=2, line_color=\"olivedrab\") \n",
    "\n",
    "r4= l.line(x, line['Homicide by Law Enforcement/Correctional Staff'], line_dash=\"dotted\", line_color=\"gold\") \n",
    "\n",
    "r5= l.line(x, line['Homicide by Other'], line_dash=\"dashed\", line_width=2, line_color=\"indigo\") \n",
    "\n",
    "r6 = l.line(x, line['Natural Causes/Illness'], line_color=\"coral\") \n",
    "r7 = l.square(x, line['Natural Causes/Illness'], fill_color=None, line_color=\"coral\")\n",
    "\n",
    "r8 = l.line(x, line['Other'], line_color=\"green\") \n",
    "r9 = l.triangle(x, line['Other'], line_color= \"green\")\n",
    "\n",
    "r10 = l.line(x, line['Suicide'], line_color=\"orange\") \n",
    "r11 = l.cross(x, line['Suicide'], line_color = \"orange\")\n",
    "\n",
    "legend = Legend(items=[\n",
    "    (\"Accidental injury caused by others\", [r0]), \n",
    "    (\"Accidental injury to self\", [r1, r2]), \n",
    "    (\"Alcohol/Drug Intoxication\", [r3]), \n",
    "    (\"Homicide by Law Enforcement/Correctional Staff\", [r4]), \n",
    "    (\"Homicide by Other\", [r5]),(\"Natural Causes/Illness\", [r6, r7]), \n",
    "    (\"Other\", [r8, r9]),\n",
    "    (\"Suicide\", [r10, r11]),\n",
    "], location=(0, -30))\n",
    "\n",
    "l.add_layout(legend, 'right')\n",
    "\n",
    "show(l)"
   ]
  },
  {
   "cell_type": "code",
   "execution_count": null,
   "metadata": {},
   "outputs": [],
   "source": []
  },
  {
   "cell_type": "code",
   "execution_count": null,
   "metadata": {},
   "outputs": [],
   "source": []
  },
  {
   "cell_type": "code",
   "execution_count": 21,
   "metadata": {},
   "outputs": [],
   "source": [
    "#create df of Officer Involved Shootings (in Texas), broken down by Department and Race of Subject\n",
    "race = shoot.groupby('Department')['SubjectRace'].value_counts().unstack('Department')"
   ]
  },
  {
   "cell_type": "code",
   "execution_count": 22,
   "metadata": {},
   "outputs": [
    {
     "data": {
      "text/html": [
       "<div>\n",
       "<style scoped>\n",
       "    .dataframe tbody tr th:only-of-type {\n",
       "        vertical-align: middle;\n",
       "    }\n",
       "\n",
       "    .dataframe tbody tr th {\n",
       "        vertical-align: top;\n",
       "    }\n",
       "\n",
       "    .dataframe thead th {\n",
       "        text-align: right;\n",
       "    }\n",
       "</style>\n",
       "<table border=\"1\" class=\"dataframe\">\n",
       "  <thead>\n",
       "    <tr style=\"text-align: right;\">\n",
       "      <th>Department</th>\n",
       "      <th>Austin PD</th>\n",
       "      <th>Dallas Police Department</th>\n",
       "      <th>El Paso PD</th>\n",
       "      <th>El Paso Police Department</th>\n",
       "      <th>Fort Worth PD</th>\n",
       "      <th>Houston Police Department</th>\n",
       "      <th>San Antonio PD</th>\n",
       "      <th>San Antonio Police Department</th>\n",
       "      <th>San Antonio Police Dept</th>\n",
       "    </tr>\n",
       "    <tr>\n",
       "      <th>SubjectRace</th>\n",
       "      <th></th>\n",
       "      <th></th>\n",
       "      <th></th>\n",
       "      <th></th>\n",
       "      <th></th>\n",
       "      <th></th>\n",
       "      <th></th>\n",
       "      <th></th>\n",
       "      <th></th>\n",
       "    </tr>\n",
       "  </thead>\n",
       "  <tbody>\n",
       "    <tr>\n",
       "      <th>Asian</th>\n",
       "      <td>1.0</td>\n",
       "      <td>1.0</td>\n",
       "      <td>NaN</td>\n",
       "      <td>NaN</td>\n",
       "      <td>NaN</td>\n",
       "      <td>4.0</td>\n",
       "      <td>NaN</td>\n",
       "      <td>NaN</td>\n",
       "      <td>NaN</td>\n",
       "    </tr>\n",
       "    <tr>\n",
       "      <th>Black</th>\n",
       "      <td>11.0</td>\n",
       "      <td>58.0</td>\n",
       "      <td>NaN</td>\n",
       "      <td>1.0</td>\n",
       "      <td>15.0</td>\n",
       "      <td>163.0</td>\n",
       "      <td>14.0</td>\n",
       "      <td>1.0</td>\n",
       "      <td>1.0</td>\n",
       "    </tr>\n",
       "    <tr>\n",
       "      <th>Latino</th>\n",
       "      <td>8.0</td>\n",
       "      <td>38.0</td>\n",
       "      <td>3.0</td>\n",
       "      <td>1.0</td>\n",
       "      <td>6.0</td>\n",
       "      <td>81.0</td>\n",
       "      <td>26.0</td>\n",
       "      <td>10.0</td>\n",
       "      <td>NaN</td>\n",
       "    </tr>\n",
       "    <tr>\n",
       "      <th>Unknown</th>\n",
       "      <td>NaN</td>\n",
       "      <td>NaN</td>\n",
       "      <td>1.0</td>\n",
       "      <td>NaN</td>\n",
       "      <td>2.0</td>\n",
       "      <td>30.0</td>\n",
       "      <td>14.0</td>\n",
       "      <td>NaN</td>\n",
       "      <td>NaN</td>\n",
       "    </tr>\n",
       "    <tr>\n",
       "      <th>White</th>\n",
       "      <td>26.0</td>\n",
       "      <td>22.0</td>\n",
       "      <td>14.0</td>\n",
       "      <td>1.0</td>\n",
       "      <td>23.0</td>\n",
       "      <td>34.0</td>\n",
       "      <td>24.0</td>\n",
       "      <td>NaN</td>\n",
       "      <td>2.0</td>\n",
       "    </tr>\n",
       "  </tbody>\n",
       "</table>\n",
       "</div>"
      ],
      "text/plain": [
       "Department   Austin PD  Dallas Police Department  El Paso PD  \\\n",
       "SubjectRace                                                    \n",
       "Asian              1.0                       1.0         NaN   \n",
       "Black             11.0                      58.0         NaN   \n",
       "Latino             8.0                      38.0         3.0   \n",
       "Unknown            NaN                       NaN         1.0   \n",
       "White             26.0                      22.0        14.0   \n",
       "\n",
       "Department   El Paso Police Department  Fort Worth PD  \\\n",
       "SubjectRace                                             \n",
       "Asian                              NaN            NaN   \n",
       "Black                              1.0           15.0   \n",
       "Latino                             1.0            6.0   \n",
       "Unknown                            NaN            2.0   \n",
       "White                              1.0           23.0   \n",
       "\n",
       "Department   Houston Police Department  San Antonio PD  \\\n",
       "SubjectRace                                              \n",
       "Asian                              4.0             NaN   \n",
       "Black                            163.0            14.0   \n",
       "Latino                            81.0            26.0   \n",
       "Unknown                           30.0            14.0   \n",
       "White                             34.0            24.0   \n",
       "\n",
       "Department   San Antonio Police Department  San Antonio Police Dept  \n",
       "SubjectRace                                                          \n",
       "Asian                                  NaN                      NaN  \n",
       "Black                                  1.0                      1.0  \n",
       "Latino                                10.0                      NaN  \n",
       "Unknown                                NaN                      NaN  \n",
       "White                                  NaN                      2.0  "
      ]
     },
     "execution_count": 22,
     "metadata": {},
     "output_type": "execute_result"
    }
   ],
   "source": [
    "#relabel single letter race labels with full name of race\n",
    "race.rename({'A': 'Asian', 'B':'Black', 'L':'Latino', 'U':'Unknown', 'W':'White'}, inplace=True)\n",
    "race"
   ]
  },
  {
   "cell_type": "code",
   "execution_count": 23,
   "metadata": {},
   "outputs": [
    {
     "data": {
      "image/png": "[encoded data removed]",
      "text/plain": [
       "<matplotlib.figure.Figure at 0x1e523047e10>"
      ]
     },
     "metadata": {},
     "output_type": "display_data"
    }
   ],
   "source": [
    "# Pie chart of Houston PD  Shootings by Ethnicity\n",
    "labels = race.index\n",
    "sizes = race['Houston Police Department']\n",
    " \n",
    "# Plot\n",
    "plt.pie(sizes, explode= None, labels=labels, colors=Spectral8,\n",
    "        autopct='%1.1f%%', shadow=True, startangle=140)\n",
    " \n",
    "plt.axis('equal')\n",
    "plt.suptitle('Officer Involved Shooting by Houston PD, by Ethnicity, 2010-2016')\n",
    "plt.rcParams[\"figure.figsize\"] = (20,10)\n",
    "\n",
    "plt.show()"
   ]
  },
  {
   "cell_type": "code",
   "execution_count": 24,
   "metadata": {},
   "outputs": [],
   "source": [
    "#divide \"shoot\" df based on fatality\n",
    "fatal = shoot[shoot.Fatal == 'F']\n",
    "non = shoot[shoot.Fatal == 'N']"
   ]
  },
  {
   "cell_type": "code",
   "execution_count": 25,
   "metadata": {},
   "outputs": [],
   "source": [
    "#Breakdown fatal shootings by ethnicity\n",
    "frace= fatal.SubjectRace.value_counts()\n",
    "\n",
    "#change race labels from single letter to full name\n",
    "frace.rename({'A': 'Asian', 'B':'Black', 'L':'Latino', 'U':'Unknown', 'W':'White'}, inplace=True)"
   ]
  },
  {
   "cell_type": "code",
   "execution_count": 26,
   "metadata": {},
   "outputs": [],
   "source": [
    "#breakdown non-fatal shootings by ethnicity\n",
    "nrace= non.SubjectRace.value_counts()\n",
    "\n",
    "#change race labels from single letter to full name\n",
    "nrace.rename({'A': 'Asian', 'B':'Black', 'L':'Latino', 'U':'Unknown', 'W':'White'}, inplace=True)"
   ]
  },
  {
   "cell_type": "code",
   "execution_count": 27,
   "metadata": {},
   "outputs": [
    {
     "data": {
      "text/plain": [
       "Text(0.5,1,'Non-fatal Shootings by Ethnicity')"
      ]
     },
     "execution_count": 27,
     "metadata": {},
     "output_type": "execute_result"
    },
    {
     "data": {
      "image/png": "[encoded data removed]",
      "text/plain": [
       "<matplotlib.figure.Figure at 0x1e523306668>"
      ]
     },
     "metadata": {},
     "output_type": "display_data"
    }
   ],
   "source": [
    "# pie charts showing racial breakdown of fatal vs non-fatal shootings\n",
    "f, (ax1, ax2) = plt.subplots(1, 2, sharey=True, figsize = (18,8))\n",
    "\n",
    "flabels = frace.index\n",
    "fsizes = frace\n",
    "nlabels = nrace.index\n",
    "nsizes = nrace\n",
    "\n",
    "ax1.pie(fsizes, explode= None, labels=flabels, colors=Spectral8,\n",
    "        autopct='%1.1f%%', shadow=True, startangle=140)\n",
    "#plt.axis('equal')\n",
    "ax1.set_title('Fatal Shootings by Ethnicity')\n",
    "#plt.rcParams[\"figure.figsize\"] = (20,20)\n",
    "\n",
    "ax2.pie(nsizes, explode= None, labels=nlabels, colors=Spectral8,\n",
    "        autopct='%1.1f%%', shadow=True, startangle=140)\n",
    "#plt.axis('equal')\n",
    "ax2.set_title('Non-fatal Shootings by Ethnicity')\n",
    "#plt.rcParams[\"figure.figsize\"] = (20,20)\n"
   ]
  },
  {
   "cell_type": "code",
   "execution_count": null,
   "metadata": {},
   "outputs": [],
   "source": []
  },
  {
   "cell_type": "code",
   "execution_count": 28,
   "metadata": {
    "scrolled": true
   },
   "outputs": [],
   "source": [
    "#create df of shooting broken down by whether the subjects was armed and whether fatal\n",
    "armfat = shoot.groupby('SubjectArmed')['Fatal'].value_counts().unstack()\n",
    "\n",
    "#change labels from single letter to full word\n",
    "armfat.rename({'N': 'Not Armed', 'U':'Unknown', 'Y':'Armed'}, inplace=True)\n",
    "armfat.rename(columns ={'F': 'Fatal', 'U':'Unknown', 'N':'Not Fatal'}, inplace=True)"
   ]
  },
  {
   "cell_type": "code",
   "execution_count": 29,
   "metadata": {},
   "outputs": [
    {
     "data": {
      "text/html": [
       "<div>\n",
       "<style scoped>\n",
       "    .dataframe tbody tr th:only-of-type {\n",
       "        vertical-align: middle;\n",
       "    }\n",
       "\n",
       "    .dataframe tbody tr th {\n",
       "        vertical-align: top;\n",
       "    }\n",
       "\n",
       "    .dataframe thead th {\n",
       "        text-align: right;\n",
       "    }\n",
       "</style>\n",
       "<table border=\"1\" class=\"dataframe\">\n",
       "  <thead>\n",
       "    <tr style=\"text-align: right;\">\n",
       "      <th>Fatal</th>\n",
       "      <th>Fatal</th>\n",
       "      <th>Not Fatal</th>\n",
       "      <th>Unknown</th>\n",
       "    </tr>\n",
       "    <tr>\n",
       "      <th>SubjectArmed</th>\n",
       "      <th></th>\n",
       "      <th></th>\n",
       "      <th></th>\n",
       "    </tr>\n",
       "  </thead>\n",
       "  <tbody>\n",
       "    <tr>\n",
       "      <th>Not Armed</th>\n",
       "      <td>83</td>\n",
       "      <td>218</td>\n",
       "      <td>3</td>\n",
       "    </tr>\n",
       "    <tr>\n",
       "      <th>Unknown</th>\n",
       "      <td>2</td>\n",
       "      <td>9</td>\n",
       "      <td>2</td>\n",
       "    </tr>\n",
       "    <tr>\n",
       "      <th>Armed</th>\n",
       "      <td>123</td>\n",
       "      <td>193</td>\n",
       "      <td>7</td>\n",
       "    </tr>\n",
       "  </tbody>\n",
       "</table>\n",
       "</div>"
      ],
      "text/plain": [
       "Fatal         Fatal  Not Fatal  Unknown\n",
       "SubjectArmed                           \n",
       "Not Armed        83        218        3\n",
       "Unknown           2          9        2\n",
       "Armed           123        193        7"
      ]
     },
     "execution_count": 29,
     "metadata": {},
     "output_type": "execute_result"
    }
   ],
   "source": [
    "armfat"
   ]
  },
  {
   "cell_type": "code",
   "execution_count": 30,
   "metadata": {},
   "outputs": [
    {
     "data": {
      "text/html": [
       "\n",
       "<div class=\"bk-root\">\n",
       "    <div class=\"bk-plotdiv\" id=\"27008638-6998-4755-b36d-b191c80e3c41\"></div>\n",
       "</div>"
      ]
     },
     "metadata": {},
     "output_type": "display_data"
    },
    {
     "data": {
      "application/javascript": [
       "(function(root) {\n",
       "  function embed_document(root) {\n",
       "    \n",
       "  var docs_json = {\"d3097573-9a74-4ac9-a9c8-7d5c82a2e833\":{\"roots\":{\"references\":[{\"attributes\":{},\"id\":\"4ef48e64-79ec-4755-9f02-01facb002645\",\"type\":\"LinearScale\"},{\"attributes\":{\"fields\":[]},\"id\":\"9e68faa0-76be-465f-80a2-f8609e657ea6\",\"type\":\"Stack\"},{\"attributes\":{},\"id\":\"17fe60ab-1719-4f48-acde-fa06746cc920\",\"type\":\"CategoricalScale\"},{\"attributes\":{\"callback\":null,\"factors\":[\"Not Armed\",\"Unknown\",\"Armed\"],\"range_padding\":0.1},\"id\":\"6d9c7789-9e2b-4aa2-b0f4-dd8bddd12092\",\"type\":\"FactorRange\"},{\"attributes\":{\"callback\":null,\"end\":500,\"start\":0},\"id\":\"b0b9c53c-048c-4b48-afbf-f5d14b629c30\",\"type\":\"DataRange1d\"},{\"attributes\":{\"fill_color\":{\"value\":\"#ffffbf\"},\"height\":{\"value\":0.5},\"left\":{\"expr\":{\"id\":\"f64643ae-fde1-4d35-83cf-8c2326b39baf\",\"type\":\"Stack\"}},\"line_color\":{\"value\":\"#ffffbf\"},\"right\":{\"expr\":{\"id\":\"30f56c2f-0d05-4778-85c3-87d58b586503\",\"type\":\"Stack\"}},\"y\":{\"field\":\"Subject Armed\"}},\"id\":\"9027963e-d7c5-4fb8-909b-cc9efe1a4d1d\",\"type\":\"HBar\"},{\"attributes\":{\"active_drag\":\"auto\",\"active_inspect\":\"auto\",\"active_scroll\":\"auto\",\"active_tap\":\"auto\"},\"id\":\"54c389d5-c23e-400c-9f4b-de24ddec93ca\",\"type\":\"Toolbar\"},{\"attributes\":{\"grid_line_color\":{\"value\":null},\"plot\":{\"id\":\"05f6f3e4-009b-409b-be49-da689034b107\",\"subtype\":\"Figure\",\"type\":\"Plot\"},\"ticker\":{\"id\":\"e093dc28-852e-4af7-965c-ab370e0d14d9\",\"type\":\"BasicTicker\"}},\"id\":\"0f2714e9-ee2c-4b76-9e3d-b48e8b827548\",\"type\":\"Grid\"},{\"attributes\":{\"data_source\":{\"id\":\"8b39d2a7-73cc-4e2d-b621-e9c28ff1e901\",\"type\":\"ColumnDataSource\"},\"glyph\":{\"id\":\"9027963e-d7c5-4fb8-909b-cc9efe1a4d1d\",\"type\":\"HBar\"},\"hover_glyph\":null,\"muted_glyph\":null,\"nonselection_glyph\":{\"id\":\"87fa2e23-ca1c-4ed1-9fe1-8c61a17e01fd\",\"type\":\"HBar\"},\"selection_glyph\":null,\"view\":{\"id\":\"a86bd8aa-62c4-4a4f-828c-24873fb3c2c0\",\"type\":\"CDSView\"}},\"id\":\"8d6f8776-8e92-4ab0-a837-ad8d959db1f6\",\"type\":\"GlyphRenderer\"},{\"attributes\":{\"axis_label\":\"Number of Incidents\",\"formatter\":{\"id\":\"4368b6e9-7f0d-4520-8607-5ecd5fb234a8\",\"type\":\"BasicTickFormatter\"},\"minor_tick_line_color\":{\"value\":null},\"plot\":{\"id\":\"05f6f3e4-009b-409b-be49-da689034b107\",\"subtype\":\"Figure\",\"type\":\"Plot\"},\"ticker\":{\"id\":\"e093dc28-852e-4af7-965c-ab370e0d14d9\",\"type\":\"BasicTicker\"}},\"id\":\"e6c41450-a776-43d2-a7cd-d45ce50f4a12\",\"type\":\"LinearAxis\"},{\"attributes\":{\"plot\":null,\"text\":\"Officer Involved Shootings by Fatality and Armed Subject\"},\"id\":\"cde5e4f4-ca0b-413d-a3c1-a68da7c6be5b\",\"type\":\"Title\"},{\"attributes\":{},\"id\":\"e093dc28-852e-4af7-965c-ab370e0d14d9\",\"type\":\"BasicTicker\"},{\"attributes\":{\"formatter\":{\"id\":\"1dcbcd84-3931-4173-94eb-764a4b3cf0a7\",\"type\":\"CategoricalTickFormatter\"},\"minor_tick_line_color\":{\"value\":null},\"plot\":{\"id\":\"05f6f3e4-009b-409b-be49-da689034b107\",\"subtype\":\"Figure\",\"type\":\"Plot\"},\"ticker\":{\"id\":\"1c0937e5-220b-40b9-83fb-002bbcfcf2f2\",\"type\":\"CategoricalTicker\"}},\"id\":\"97b49756-34a8-448b-a01f-c4d0e9d106b0\",\"type\":\"CategoricalAxis\"},{\"attributes\":{\"fill_alpha\":{\"value\":0.1},\"fill_color\":{\"value\":\"#1f77b4\"},\"height\":{\"value\":0.5},\"left\":{\"expr\":{\"id\":\"f64643ae-fde1-4d35-83cf-8c2326b39baf\",\"type\":\"Stack\"}},\"line_alpha\":{\"value\":0.1},\"line_color\":{\"value\":\"#1f77b4\"},\"right\":{\"expr\":{\"id\":\"30f56c2f-0d05-4778-85c3-87d58b586503\",\"type\":\"Stack\"}},\"y\":{\"field\":\"Subject Armed\"}},\"id\":\"87fa2e23-ca1c-4ed1-9fe1-8c61a17e01fd\",\"type\":\"HBar\"},{\"attributes\":{\"fields\":[\"Fatal\",\"Not Fatal\"]},\"id\":\"30f56c2f-0d05-4778-85c3-87d58b586503\",\"type\":\"Stack\"},{\"attributes\":{\"label\":{\"value\":\"Not Fatal\"},\"renderers\":[{\"id\":\"8d6f8776-8e92-4ab0-a837-ad8d959db1f6\",\"type\":\"GlyphRenderer\"}]},\"id\":\"776daf29-3681-4493-8ba3-c04a2bc0e62a\",\"type\":\"LegendItem\"},{\"attributes\":{},\"id\":\"1c0937e5-220b-40b9-83fb-002bbcfcf2f2\",\"type\":\"CategoricalTicker\"},{\"attributes\":{\"fields\":[\"Fatal\",\"Not Fatal\",\"Unknown\"]},\"id\":\"a9984966-c17f-4c2b-9461-a2294a7ccc37\",\"type\":\"Stack\"},{\"attributes\":{\"dimension\":1,\"plot\":{\"id\":\"05f6f3e4-009b-409b-be49-da689034b107\",\"subtype\":\"Figure\",\"type\":\"Plot\"},\"ticker\":{\"id\":\"1c0937e5-220b-40b9-83fb-002bbcfcf2f2\",\"type\":\"CategoricalTicker\"}},\"id\":\"9113bfb7-7655-48ff-9281-74f3308b285d\",\"type\":\"Grid\"},{\"attributes\":{},\"id\":\"1dcbcd84-3931-4173-94eb-764a4b3cf0a7\",\"type\":\"CategoricalTickFormatter\"},{\"attributes\":{\"below\":[{\"id\":\"e6c41450-a776-43d2-a7cd-d45ce50f4a12\",\"type\":\"LinearAxis\"}],\"left\":[{\"id\":\"97b49756-34a8-448b-a01f-c4d0e9d106b0\",\"type\":\"CategoricalAxis\"}],\"outline_line_color\":{\"value\":null},\"plot_height\":300,\"plot_width\":900,\"renderers\":[{\"id\":\"e6c41450-a776-43d2-a7cd-d45ce50f4a12\",\"type\":\"LinearAxis\"},{\"id\":\"0f2714e9-ee2c-4b76-9e3d-b48e8b827548\",\"type\":\"Grid\"},{\"id\":\"97b49756-34a8-448b-a01f-c4d0e9d106b0\",\"type\":\"CategoricalAxis\"},{\"id\":\"9113bfb7-7655-48ff-9281-74f3308b285d\",\"type\":\"Grid\"},{\"id\":\"89df4ebd-bdc4-478d-9fe9-f812785e238a\",\"type\":\"Legend\"},{\"id\":\"f27d86b9-64c0-4fe1-839b-d28ddc3e66ec\",\"type\":\"GlyphRenderer\"},{\"id\":\"8d6f8776-8e92-4ab0-a837-ad8d959db1f6\",\"type\":\"GlyphRenderer\"},{\"id\":\"2af614ca-5efa-46dd-bf30-5ee360d0335c\",\"type\":\"GlyphRenderer\"}],\"title\":{\"id\":\"cde5e4f4-ca0b-413d-a3c1-a68da7c6be5b\",\"type\":\"Title\"},\"toolbar\":{\"id\":\"54c389d5-c23e-400c-9f4b-de24ddec93ca\",\"type\":\"Toolbar\"},\"toolbar_location\":null,\"x_range\":{\"id\":\"b0b9c53c-048c-4b48-afbf-f5d14b629c30\",\"type\":\"DataRange1d\"},\"x_scale\":{\"id\":\"4ef48e64-79ec-4755-9f02-01facb002645\",\"type\":\"LinearScale\"},\"y_range\":{\"id\":\"6d9c7789-9e2b-4aa2-b0f4-dd8bddd12092\",\"type\":\"FactorRange\"},\"y_scale\":{\"id\":\"17fe60ab-1719-4f48-acde-fa06746cc920\",\"type\":\"CategoricalScale\"}},\"id\":\"05f6f3e4-009b-409b-be49-da689034b107\",\"subtype\":\"Figure\",\"type\":\"Plot\"},{\"attributes\":{\"fields\":[\"Fatal\"]},\"id\":\"79054ca1-9854-4279-8ead-ad52c5c37736\",\"type\":\"Stack\"},{\"attributes\":{\"fill_color\":{\"value\":\"#99d594\"},\"height\":{\"value\":0.5},\"left\":{\"expr\":{\"id\":\"9e68faa0-76be-465f-80a2-f8609e657ea6\",\"type\":\"Stack\"}},\"line_color\":{\"value\":\"#99d594\"},\"right\":{\"expr\":{\"id\":\"79054ca1-9854-4279-8ead-ad52c5c37736\",\"type\":\"Stack\"}},\"y\":{\"field\":\"Subject Armed\"}},\"id\":\"3e2960bf-e1b3-423e-841d-e7cba5ffc661\",\"type\":\"HBar\"},{\"attributes\":{\"fields\":[\"Fatal\"]},\"id\":\"f64643ae-fde1-4d35-83cf-8c2326b39baf\",\"type\":\"Stack\"},{\"attributes\":{\"callback\":null,\"column_names\":[\"Subject Armed\",\"Fatal\",\"Not Fatal\",\"Unknown\"],\"data\":{\"Fatal\":[83,2,123],\"Not Fatal\":[218,9,193],\"Subject Armed\":[\"Not Armed\",\"Unknown\",\"Armed\"],\"Unknown\":[3,2,7]}},\"id\":\"8b39d2a7-73cc-4e2d-b621-e9c28ff1e901\",\"type\":\"ColumnDataSource\"},{\"attributes\":{\"source\":{\"id\":\"8b39d2a7-73cc-4e2d-b621-e9c28ff1e901\",\"type\":\"ColumnDataSource\"}},\"id\":\"a86bd8aa-62c4-4a4f-828c-24873fb3c2c0\",\"type\":\"CDSView\"},{\"attributes\":{\"fields\":[\"Fatal\",\"Not Fatal\"]},\"id\":\"cbcf0ce8-9f88-40a4-a42e-f7c8fbf59071\",\"type\":\"Stack\"},{\"attributes\":{\"items\":[{\"id\":\"8256bab4-a28a-4b33-8d8a-26a2af6c31cf\",\"type\":\"LegendItem\"},{\"id\":\"776daf29-3681-4493-8ba3-c04a2bc0e62a\",\"type\":\"LegendItem\"},{\"id\":\"ff3ddc4f-f8ad-4a18-ab2e-03d95ac96c3e\",\"type\":\"LegendItem\"}],\"plot\":{\"id\":\"05f6f3e4-009b-409b-be49-da689034b107\",\"subtype\":\"Figure\",\"type\":\"Plot\"}},\"id\":\"89df4ebd-bdc4-478d-9fe9-f812785e238a\",\"type\":\"Legend\"},{\"attributes\":{\"fill_alpha\":{\"value\":0.1},\"fill_color\":{\"value\":\"#1f77b4\"},\"height\":{\"value\":0.5},\"left\":{\"expr\":{\"id\":\"cbcf0ce8-9f88-40a4-a42e-f7c8fbf59071\",\"type\":\"Stack\"}},\"line_alpha\":{\"value\":0.1},\"line_color\":{\"value\":\"#1f77b4\"},\"right\":{\"expr\":{\"id\":\"a9984966-c17f-4c2b-9461-a2294a7ccc37\",\"type\":\"Stack\"}},\"y\":{\"field\":\"Subject Armed\"}},\"id\":\"5af079fc-1980-41f6-b675-0cc0da1b110e\",\"type\":\"HBar\"},{\"attributes\":{\"label\":{\"value\":\"Fatal\"},\"renderers\":[{\"id\":\"f27d86b9-64c0-4fe1-839b-d28ddc3e66ec\",\"type\":\"GlyphRenderer\"}]},\"id\":\"8256bab4-a28a-4b33-8d8a-26a2af6c31cf\",\"type\":\"LegendItem\"},{\"attributes\":{\"label\":{\"value\":\"Unknown\"},\"renderers\":[{\"id\":\"2af614ca-5efa-46dd-bf30-5ee360d0335c\",\"type\":\"GlyphRenderer\"}]},\"id\":\"ff3ddc4f-f8ad-4a18-ab2e-03d95ac96c3e\",\"type\":\"LegendItem\"},{\"attributes\":{\"data_source\":{\"id\":\"8b39d2a7-73cc-4e2d-b621-e9c28ff1e901\",\"type\":\"ColumnDataSource\"},\"glyph\":{\"id\":\"3e2960bf-e1b3-423e-841d-e7cba5ffc661\",\"type\":\"HBar\"},\"hover_glyph\":null,\"muted_glyph\":null,\"nonselection_glyph\":{\"id\":\"d77acfda-88c5-416c-a919-4978f078b57a\",\"type\":\"HBar\"},\"selection_glyph\":null,\"view\":{\"id\":\"c0f35e4d-7790-4431-82e8-08747acee3f2\",\"type\":\"CDSView\"}},\"id\":\"f27d86b9-64c0-4fe1-839b-d28ddc3e66ec\",\"type\":\"GlyphRenderer\"},{\"attributes\":{\"fill_alpha\":{\"value\":0.1},\"fill_color\":{\"value\":\"#1f77b4\"},\"height\":{\"value\":0.5},\"left\":{\"expr\":{\"id\":\"9e68faa0-76be-465f-80a2-f8609e657ea6\",\"type\":\"Stack\"}},\"line_alpha\":{\"value\":0.1},\"line_color\":{\"value\":\"#1f77b4\"},\"right\":{\"expr\":{\"id\":\"79054ca1-9854-4279-8ead-ad52c5c37736\",\"type\":\"Stack\"}},\"y\":{\"field\":\"Subject Armed\"}},\"id\":\"d77acfda-88c5-416c-a919-4978f078b57a\",\"type\":\"HBar\"},{\"attributes\":{\"data_source\":{\"id\":\"8b39d2a7-73cc-4e2d-b621-e9c28ff1e901\",\"type\":\"ColumnDataSource\"},\"glyph\":{\"id\":\"46132628-1cdc-4d0b-b56b-90582db390dd\",\"type\":\"HBar\"},\"hover_glyph\":null,\"muted_glyph\":null,\"nonselection_glyph\":{\"id\":\"5af079fc-1980-41f6-b675-0cc0da1b110e\",\"type\":\"HBar\"},\"selection_glyph\":null,\"view\":{\"id\":\"379ce37b-3fb0-4ab1-8522-d2c426e399d8\",\"type\":\"CDSView\"}},\"id\":\"2af614ca-5efa-46dd-bf30-5ee360d0335c\",\"type\":\"GlyphRenderer\"},{\"attributes\":{\"source\":{\"id\":\"8b39d2a7-73cc-4e2d-b621-e9c28ff1e901\",\"type\":\"ColumnDataSource\"}},\"id\":\"379ce37b-3fb0-4ab1-8522-d2c426e399d8\",\"type\":\"CDSView\"},{\"attributes\":{\"source\":{\"id\":\"8b39d2a7-73cc-4e2d-b621-e9c28ff1e901\",\"type\":\"ColumnDataSource\"}},\"id\":\"c0f35e4d-7790-4431-82e8-08747acee3f2\",\"type\":\"CDSView\"},{\"attributes\":{},\"id\":\"4368b6e9-7f0d-4520-8607-5ecd5fb234a8\",\"type\":\"BasicTickFormatter\"},{\"attributes\":{\"fill_color\":{\"value\":\"#fc8d59\"},\"height\":{\"value\":0.5},\"left\":{\"expr\":{\"id\":\"cbcf0ce8-9f88-40a4-a42e-f7c8fbf59071\",\"type\":\"Stack\"}},\"line_color\":{\"value\":\"#fc8d59\"},\"right\":{\"expr\":{\"id\":\"a9984966-c17f-4c2b-9461-a2294a7ccc37\",\"type\":\"Stack\"}},\"y\":{\"field\":\"Subject Armed\"}},\"id\":\"46132628-1cdc-4d0b-b56b-90582db390dd\",\"type\":\"HBar\"}],\"root_ids\":[\"05f6f3e4-009b-409b-be49-da689034b107\"]},\"title\":\"Bokeh Application\",\"version\":\"0.12.13\"}};\n",
       "  var render_items = [{\"docid\":\"d3097573-9a74-4ac9-a9c8-7d5c82a2e833\",\"elementid\":\"27008638-6998-4755-b36d-b191c80e3c41\",\"modelid\":\"05f6f3e4-009b-409b-be49-da689034b107\"}];\n",
       "  root.Bokeh.embed.embed_items_notebook(docs_json, render_items);\n",
       "\n",
       "  }\n",
       "  if (root.Bokeh !== undefined) {\n",
       "    embed_document(root);\n",
       "  } else {\n",
       "    var attempts = 0;\n",
       "    var timer = setInterval(function(root) {\n",
       "      if (root.Bokeh !== undefined) {\n",
       "        embed_document(root);\n",
       "        clearInterval(timer);\n",
       "      }\n",
       "      attempts++;\n",
       "      if (attempts > 100) {\n",
       "        console.log(\"Bokeh: ERROR: Unable to run BokehJS code because BokehJS library is missing\")\n",
       "        clearInterval(timer);\n",
       "      }\n",
       "    }, 10, root)\n",
       "  }\n",
       "})(window);"
      ],
      "application/vnd.bokehjs_exec.v0+json": ""
     },
     "metadata": {
      "application/vnd.bokehjs_exec.v0+json": {
       "id": "05f6f3e4-009b-409b-be49-da689034b107"
      }
     },
     "output_type": "display_data"
    }
   ],
   "source": [
    "#stacked horizontal bar graph showing Officer involved shootings Fatality vs Subject Armed\n",
    "fatality = armfat.columns\n",
    "data= {'Subject Armed': list(armfat.index), 'Fatal' : armfat['Fatal'].values, \n",
    "       'Not Fatal': armfat['Not Fatal'].values,  'Unknown':armfat['Unknown'].values}\n",
    "\n",
    "source = ColumnDataSource(data=data)\n",
    "\n",
    "s = figure(y_range= data['Subject Armed'], plot_height=300,plot_width=900, title=\"Officer Involved Shootings by Fatality and Armed Subject\",x_axis_label='Number of Incidents',\n",
    "           toolbar_location=None, tools=\"\")\n",
    "\n",
    "\n",
    "s.hbar_stack(fatality, y= 'Subject Armed', height=0.5, color=Spectral3, source=source,\n",
    "             legend=[value(x) for x in fatality])\n",
    "\n",
    "s.x_range.start = 0\n",
    "s.x_range.end = 500\n",
    "s.y_range.range_padding = 0.1\n",
    "s.xgrid.grid_line_color = None\n",
    "s.axis.minor_tick_line_color = None\n",
    "s.outline_line_color = None\n",
    "s.legend.location = \"top_right\"\n",
    "s.legend.orientation = \"vertical\"\n",
    "\n",
    "show(s)\n"
   ]
  },
  {
   "cell_type": "code",
   "execution_count": 31,
   "metadata": {},
   "outputs": [],
   "source": [
    "#create of shooting where Subjects were Unarmed\n",
    "unarmed = shoot[shoot.SubjectArmed == 'N']\n",
    "\n",
    "#relabel race values as full word, rather than abreviation\n",
    "racedict ={'A': 'Asian', 'B':'Black', 'L':'Latino', 'U':'Unknown', 'W':'White'} \n",
    "unarmed = unarmed.replace({\"SubjectRace\": racedict})"
   ]
  },
  {
   "cell_type": "code",
   "execution_count": 32,
   "metadata": {},
   "outputs": [],
   "source": [
    "#create of shooting where Subjects were Armed\n",
    "armed = shoot[shoot.SubjectArmed == 'Y']\n",
    "\n",
    "#relabel race values as full word, rather than abreviation\n",
    "armed = armed.replace({\"SubjectRace\": racedict})"
   ]
  },
  {
   "cell_type": "code",
   "execution_count": 33,
   "metadata": {},
   "outputs": [
    {
     "data": {
      "text/html": [
       "<div>\n",
       "<style scoped>\n",
       "    .dataframe tbody tr th:only-of-type {\n",
       "        vertical-align: middle;\n",
       "    }\n",
       "\n",
       "    .dataframe tbody tr th {\n",
       "        vertical-align: top;\n",
       "    }\n",
       "\n",
       "    .dataframe thead th {\n",
       "        text-align: right;\n",
       "    }\n",
       "</style>\n",
       "<table border=\"1\" class=\"dataframe\">\n",
       "  <thead>\n",
       "    <tr style=\"text-align: right;\">\n",
       "      <th>Fatality</th>\n",
       "      <th>Fatal</th>\n",
       "      <th>Not Fatal</th>\n",
       "      <th>Unknown</th>\n",
       "    </tr>\n",
       "    <tr>\n",
       "      <th>SubjectRace</th>\n",
       "      <th></th>\n",
       "      <th></th>\n",
       "      <th></th>\n",
       "    </tr>\n",
       "  </thead>\n",
       "  <tbody>\n",
       "    <tr>\n",
       "      <th>Black</th>\n",
       "      <td>31</td>\n",
       "      <td>88</td>\n",
       "      <td>2</td>\n",
       "    </tr>\n",
       "    <tr>\n",
       "      <th>Latino</th>\n",
       "      <td>18</td>\n",
       "      <td>61</td>\n",
       "      <td>0</td>\n",
       "    </tr>\n",
       "    <tr>\n",
       "      <th>Unknown</th>\n",
       "      <td>3</td>\n",
       "      <td>29</td>\n",
       "      <td>1</td>\n",
       "    </tr>\n",
       "    <tr>\n",
       "      <th>White</th>\n",
       "      <td>31</td>\n",
       "      <td>37</td>\n",
       "      <td>0</td>\n",
       "    </tr>\n",
       "  </tbody>\n",
       "</table>\n",
       "</div>"
      ],
      "text/plain": [
       "Fatality     Fatal  Not Fatal  Unknown\n",
       "SubjectRace                           \n",
       "Black           31         88        2\n",
       "Latino          18         61        0\n",
       "Unknown          3         29        1\n",
       "White           31         37        0"
      ]
     },
     "execution_count": 33,
     "metadata": {},
     "output_type": "execute_result"
    }
   ],
   "source": [
    "unarmed = unarmed.rename(columns={'Fatal':'Fatality'})\n",
    "\n",
    "#breakdown Unarmed shootings by Race and Fatality\n",
    "unarmrace= unarmed.groupby('SubjectRace').Fatality.value_counts().unstack().fillna(0).astype(int)\n",
    "unarmrace = unarmrace.rename(columns = {'F':'Fatal', 'N':'Not Fatal', 'U':'Unknown'})\n",
    "unarmrace"
   ]
  },
  {
   "cell_type": "code",
   "execution_count": 34,
   "metadata": {},
   "outputs": [
    {
     "data": {
      "text/html": [
       "\n",
       "<div class=\"bk-root\">\n",
       "    <div class=\"bk-plotdiv\" id=\"09d49a61-1b03-4c77-9eae-12535404880d\"></div>\n",
       "</div>"
      ]
     },
     "metadata": {},
     "output_type": "display_data"
    },
    {
     "data": {
      "application/javascript": [
       "(function(root) {\n",
       "  function embed_document(root) {\n",
       "    \n",
       "  var docs_json = {\"52cc127e-6f0e-4c67-abc0-5adec6d42528\":{\"roots\":{\"references\":[{\"attributes\":{},\"id\":\"79cbe48a-a682-4ab4-a8d4-d7c65cfdd94e\",\"type\":\"BasicTicker\"},{\"attributes\":{\"dimension\":1,\"plot\":{\"id\":\"f9e368f0-4489-4087-ae7b-ca6da847b785\",\"subtype\":\"Figure\",\"type\":\"Plot\"},\"ticker\":{\"id\":\"79cbe48a-a682-4ab4-a8d4-d7c65cfdd94e\",\"type\":\"BasicTicker\"}},\"id\":\"052fcf30-2354-4179-a56a-458f8b8e1aa5\",\"type\":\"Grid\"},{\"attributes\":{\"fields\":[]},\"id\":\"2373f79f-6947-42c4-ac92-a5cff99d7e6f\",\"type\":\"Stack\"},{\"attributes\":{\"fields\":[\"Fatal\"]},\"id\":\"32b5ec39-7e3e-46f2-864c-6331bbb76f93\",\"type\":\"Stack\"},{\"attributes\":{\"fields\":[\"Fatal\"]},\"id\":\"ef68ea0d-bfbb-4c0e-b2c9-89cd74df7e66\",\"type\":\"Stack\"},{\"attributes\":{\"fields\":[\"Fatal\",\"Not Fatal\"]},\"id\":\"3e9eb1f5-5cdd-478b-a2f5-b6fe626daa46\",\"type\":\"Stack\"},{\"attributes\":{\"fields\":[\"Fatal\",\"Not Fatal\"]},\"id\":\"28f38303-1c5f-48b8-9c15-c9bcf5091ca5\",\"type\":\"Stack\"},{\"attributes\":{\"fields\":[\"Fatal\",\"Not Fatal\",\"Unknown\"]},\"id\":\"ca4babd9-f056-47a9-96fa-e654650e3123\",\"type\":\"Stack\"},{\"attributes\":{},\"id\":\"db3beba9-c4ae-4c73-867c-873a175cab64\",\"type\":\"CategoricalTickFormatter\"},{\"attributes\":{},\"id\":\"c21c2bd8-fcd5-4df3-a6dc-448c6cc3964c\",\"type\":\"BasicTickFormatter\"},{\"attributes\":{\"items\":[{\"id\":\"47b64c46-8335-4fe1-bb65-8d0abb210c2e\",\"type\":\"LegendItem\"},{\"id\":\"5c3b0db5-eac8-42c5-a185-97655f3dc5e7\",\"type\":\"LegendItem\"},{\"id\":\"5b0183b1-87d5-440b-81d6-4bccc1ceb29d\",\"type\":\"LegendItem\"}],\"plot\":{\"id\":\"f9e368f0-4489-4087-ae7b-ca6da847b785\",\"subtype\":\"Figure\",\"type\":\"Plot\"}},\"id\":\"f263f2d4-f077-4c2e-8cca-e72a98355781\",\"type\":\"Legend\"},{\"attributes\":{\"source\":{\"id\":\"9918fe6a-d28d-4f2c-ae1d-1789cc4ca57e\",\"type\":\"ColumnDataSource\"}},\"id\":\"53d57d05-b2b4-4746-8716-3cc73b3a38db\",\"type\":\"CDSView\"},{\"attributes\":{\"bottom\":{\"expr\":{\"id\":\"ef68ea0d-bfbb-4c0e-b2c9-89cd74df7e66\",\"type\":\"Stack\"}},\"fill_color\":{\"value\":\"#ffffbf\"},\"line_color\":{\"value\":\"#ffffbf\"},\"top\":{\"expr\":{\"id\":\"3e9eb1f5-5cdd-478b-a2f5-b6fe626daa46\",\"type\":\"Stack\"}},\"width\":{\"value\":0.5},\"x\":{\"field\":\"Race\"}},\"id\":\"9223d696-eda3-425e-80aa-8ccb4e296614\",\"type\":\"VBar\"},{\"attributes\":{\"callback\":null,\"column_names\":[\"Race\",\"Fatal\",\"Not Fatal\",\"Unknown\"],\"data\":{\"Fatal\":{\"__ndarray__\":\"HwAAABIAAAADAAAAHwAAAA==\",\"dtype\":\"int32\",\"shape\":[4]},\"Not Fatal\":{\"__ndarray__\":\"WAAAAD0AAAAdAAAAJQAAAA==\",\"dtype\":\"int32\",\"shape\":[4]},\"Race\":[\"Black\",\"Latino\",\"Unknown\",\"White\"],\"Unknown\":{\"__ndarray__\":\"AgAAAAAAAAABAAAAAAAAAA==\",\"dtype\":\"int32\",\"shape\":[4]}}},\"id\":\"9918fe6a-d28d-4f2c-ae1d-1789cc4ca57e\",\"type\":\"ColumnDataSource\"},{\"attributes\":{\"bottom\":{\"expr\":{\"id\":\"2373f79f-6947-42c4-ac92-a5cff99d7e6f\",\"type\":\"Stack\"}},\"fill_color\":{\"value\":\"#99d594\"},\"line_color\":{\"value\":\"#99d594\"},\"top\":{\"expr\":{\"id\":\"32b5ec39-7e3e-46f2-864c-6331bbb76f93\",\"type\":\"Stack\"}},\"width\":{\"value\":0.5},\"x\":{\"field\":\"Race\"}},\"id\":\"c935af15-9827-464f-99e5-f577dccf5a05\",\"type\":\"VBar\"},{\"attributes\":{\"bottom\":{\"expr\":{\"id\":\"ef68ea0d-bfbb-4c0e-b2c9-89cd74df7e66\",\"type\":\"Stack\"}},\"fill_alpha\":{\"value\":0.1},\"fill_color\":{\"value\":\"#1f77b4\"},\"line_alpha\":{\"value\":0.1},\"line_color\":{\"value\":\"#1f77b4\"},\"top\":{\"expr\":{\"id\":\"3e9eb1f5-5cdd-478b-a2f5-b6fe626daa46\",\"type\":\"Stack\"}},\"width\":{\"value\":0.5},\"x\":{\"field\":\"Race\"}},\"id\":\"0b1583d9-deaf-4426-bd17-31b119543621\",\"type\":\"VBar\"},{\"attributes\":{\"below\":[{\"id\":\"9c440c59-86b4-49da-b09a-2a04a872e98b\",\"type\":\"CategoricalAxis\"}],\"left\":[{\"id\":\"21c09255-6de6-4225-9d79-1e4755ec60d9\",\"type\":\"LinearAxis\"}],\"outline_line_color\":{\"value\":null},\"plot_width\":400,\"renderers\":[{\"id\":\"9c440c59-86b4-49da-b09a-2a04a872e98b\",\"type\":\"CategoricalAxis\"},{\"id\":\"32af60ad-c976-486e-beb4-89de45ec5b3a\",\"type\":\"Grid\"},{\"id\":\"21c09255-6de6-4225-9d79-1e4755ec60d9\",\"type\":\"LinearAxis\"},{\"id\":\"052fcf30-2354-4179-a56a-458f8b8e1aa5\",\"type\":\"Grid\"},{\"id\":\"f263f2d4-f077-4c2e-8cca-e72a98355781\",\"type\":\"Legend\"},{\"id\":\"5f9ef9ca-a94e-4e8e-9733-abd8921f9544\",\"type\":\"GlyphRenderer\"},{\"id\":\"bf20e01f-fd0b-4894-a1ec-2d3acf4baf53\",\"type\":\"GlyphRenderer\"},{\"id\":\"e9a67e4e-0458-4f16-bd6b-c29922ced194\",\"type\":\"GlyphRenderer\"}],\"title\":{\"id\":\"0e746982-5dd0-4a35-8c00-4985e4af72d5\",\"type\":\"Title\"},\"toolbar\":{\"id\":\"d82448b2-98ca-443e-880d-a5e573853d0f\",\"type\":\"Toolbar\"},\"toolbar_location\":null,\"x_range\":{\"id\":\"c230c354-18d7-4b22-9ba2-1f61e21b5195\",\"type\":\"FactorRange\"},\"x_scale\":{\"id\":\"f69d6415-30e5-4d32-9dce-c86208fc019d\",\"type\":\"CategoricalScale\"},\"y_range\":{\"id\":\"4416ae44-d21c-4c73-9596-e7f31582655d\",\"type\":\"DataRange1d\"},\"y_scale\":{\"id\":\"2c172e19-f9e5-4f73-9ce3-fa28248511fb\",\"type\":\"LinearScale\"}},\"id\":\"f9e368f0-4489-4087-ae7b-ca6da847b785\",\"subtype\":\"Figure\",\"type\":\"Plot\"},{\"attributes\":{\"label\":{\"value\":\"Not Fatal\"},\"renderers\":[{\"id\":\"bf20e01f-fd0b-4894-a1ec-2d3acf4baf53\",\"type\":\"GlyphRenderer\"}]},\"id\":\"5c3b0db5-eac8-42c5-a185-97655f3dc5e7\",\"type\":\"LegendItem\"},{\"attributes\":{\"bottom\":{\"expr\":{\"id\":\"28f38303-1c5f-48b8-9c15-c9bcf5091ca5\",\"type\":\"Stack\"}},\"fill_color\":{\"value\":\"#fc8d59\"},\"line_color\":{\"value\":\"#fc8d59\"},\"top\":{\"expr\":{\"id\":\"ca4babd9-f056-47a9-96fa-e654650e3123\",\"type\":\"Stack\"}},\"width\":{\"value\":0.5},\"x\":{\"field\":\"Race\"}},\"id\":\"22036e38-c744-43a2-b203-65863b4a08dc\",\"type\":\"VBar\"},{\"attributes\":{\"data_source\":{\"id\":\"9918fe6a-d28d-4f2c-ae1d-1789cc4ca57e\",\"type\":\"ColumnDataSource\"},\"glyph\":{\"id\":\"9223d696-eda3-425e-80aa-8ccb4e296614\",\"type\":\"VBar\"},\"hover_glyph\":null,\"muted_glyph\":null,\"nonselection_glyph\":{\"id\":\"0b1583d9-deaf-4426-bd17-31b119543621\",\"type\":\"VBar\"},\"selection_glyph\":null,\"view\":{\"id\":\"0f916062-dce2-4ee9-ae1a-a0f39cb1dfde\",\"type\":\"CDSView\"}},\"id\":\"bf20e01f-fd0b-4894-a1ec-2d3acf4baf53\",\"type\":\"GlyphRenderer\"},{\"attributes\":{\"data_source\":{\"id\":\"9918fe6a-d28d-4f2c-ae1d-1789cc4ca57e\",\"type\":\"ColumnDataSource\"},\"glyph\":{\"id\":\"c935af15-9827-464f-99e5-f577dccf5a05\",\"type\":\"VBar\"},\"hover_glyph\":null,\"muted_glyph\":null,\"nonselection_glyph\":{\"id\":\"d1737951-f84e-4e95-8000-467960feb175\",\"type\":\"VBar\"},\"selection_glyph\":null,\"view\":{\"id\":\"53d57d05-b2b4-4746-8716-3cc73b3a38db\",\"type\":\"CDSView\"}},\"id\":\"5f9ef9ca-a94e-4e8e-9733-abd8921f9544\",\"type\":\"GlyphRenderer\"},{\"attributes\":{\"source\":{\"id\":\"9918fe6a-d28d-4f2c-ae1d-1789cc4ca57e\",\"type\":\"ColumnDataSource\"}},\"id\":\"0f916062-dce2-4ee9-ae1a-a0f39cb1dfde\",\"type\":\"CDSView\"},{\"attributes\":{\"plot\":null,\"text\":\"Race and Fatality of Unarmed Subjects\"},\"id\":\"0e746982-5dd0-4a35-8c00-4985e4af72d5\",\"type\":\"Title\"},{\"attributes\":{\"bottom\":{\"expr\":{\"id\":\"2373f79f-6947-42c4-ac92-a5cff99d7e6f\",\"type\":\"Stack\"}},\"fill_alpha\":{\"value\":0.1},\"fill_color\":{\"value\":\"#1f77b4\"},\"line_alpha\":{\"value\":0.1},\"line_color\":{\"value\":\"#1f77b4\"},\"top\":{\"expr\":{\"id\":\"32b5ec39-7e3e-46f2-864c-6331bbb76f93\",\"type\":\"Stack\"}},\"width\":{\"value\":0.5},\"x\":{\"field\":\"Race\"}},\"id\":\"d1737951-f84e-4e95-8000-467960feb175\",\"type\":\"VBar\"},{\"attributes\":{\"active_drag\":\"auto\",\"active_inspect\":\"auto\",\"active_scroll\":\"auto\",\"active_tap\":\"auto\"},\"id\":\"d82448b2-98ca-443e-880d-a5e573853d0f\",\"type\":\"Toolbar\"},{\"attributes\":{\"callback\":null,\"factors\":[\"Black\",\"Latino\",\"Unknown\",\"White\"],\"range_padding\":0.1},\"id\":\"c230c354-18d7-4b22-9ba2-1f61e21b5195\",\"type\":\"FactorRange\"},{\"attributes\":{\"bottom\":{\"expr\":{\"id\":\"28f38303-1c5f-48b8-9c15-c9bcf5091ca5\",\"type\":\"Stack\"}},\"fill_alpha\":{\"value\":0.1},\"fill_color\":{\"value\":\"#1f77b4\"},\"line_alpha\":{\"value\":0.1},\"line_color\":{\"value\":\"#1f77b4\"},\"top\":{\"expr\":{\"id\":\"ca4babd9-f056-47a9-96fa-e654650e3123\",\"type\":\"Stack\"}},\"width\":{\"value\":0.5},\"x\":{\"field\":\"Race\"}},\"id\":\"902cd8b9-bf14-409d-b573-39019a791620\",\"type\":\"VBar\"},{\"attributes\":{\"callback\":null,\"end\":150,\"start\":0},\"id\":\"4416ae44-d21c-4c73-9596-e7f31582655d\",\"type\":\"DataRange1d\"},{\"attributes\":{\"label\":{\"value\":\"Unknown\"},\"renderers\":[{\"id\":\"e9a67e4e-0458-4f16-bd6b-c29922ced194\",\"type\":\"GlyphRenderer\"}]},\"id\":\"5b0183b1-87d5-440b-81d6-4bccc1ceb29d\",\"type\":\"LegendItem\"},{\"attributes\":{\"axis_label\":\"Number of Incidents\",\"formatter\":{\"id\":\"c21c2bd8-fcd5-4df3-a6dc-448c6cc3964c\",\"type\":\"BasicTickFormatter\"},\"minor_tick_line_color\":{\"value\":null},\"plot\":{\"id\":\"f9e368f0-4489-4087-ae7b-ca6da847b785\",\"subtype\":\"Figure\",\"type\":\"Plot\"},\"ticker\":{\"id\":\"79cbe48a-a682-4ab4-a8d4-d7c65cfdd94e\",\"type\":\"BasicTicker\"}},\"id\":\"21c09255-6de6-4225-9d79-1e4755ec60d9\",\"type\":\"LinearAxis\"},{\"attributes\":{},\"id\":\"f69d6415-30e5-4d32-9dce-c86208fc019d\",\"type\":\"CategoricalScale\"},{\"attributes\":{\"data_source\":{\"id\":\"9918fe6a-d28d-4f2c-ae1d-1789cc4ca57e\",\"type\":\"ColumnDataSource\"},\"glyph\":{\"id\":\"22036e38-c744-43a2-b203-65863b4a08dc\",\"type\":\"VBar\"},\"hover_glyph\":null,\"muted_glyph\":null,\"nonselection_glyph\":{\"id\":\"902cd8b9-bf14-409d-b573-39019a791620\",\"type\":\"VBar\"},\"selection_glyph\":null,\"view\":{\"id\":\"ccc4c625-15fe-4bc8-ad48-a40c27ed09fb\",\"type\":\"CDSView\"}},\"id\":\"e9a67e4e-0458-4f16-bd6b-c29922ced194\",\"type\":\"GlyphRenderer\"},{\"attributes\":{},\"id\":\"2c172e19-f9e5-4f73-9ce3-fa28248511fb\",\"type\":\"LinearScale\"},{\"attributes\":{\"source\":{\"id\":\"9918fe6a-d28d-4f2c-ae1d-1789cc4ca57e\",\"type\":\"ColumnDataSource\"}},\"id\":\"ccc4c625-15fe-4bc8-ad48-a40c27ed09fb\",\"type\":\"CDSView\"},{\"attributes\":{\"grid_line_color\":{\"value\":null},\"plot\":{\"id\":\"f9e368f0-4489-4087-ae7b-ca6da847b785\",\"subtype\":\"Figure\",\"type\":\"Plot\"},\"ticker\":{\"id\":\"6fb52a87-590e-4bbb-ae99-18356aa187aa\",\"type\":\"CategoricalTicker\"}},\"id\":\"32af60ad-c976-486e-beb4-89de45ec5b3a\",\"type\":\"Grid\"},{\"attributes\":{\"formatter\":{\"id\":\"db3beba9-c4ae-4c73-867c-873a175cab64\",\"type\":\"CategoricalTickFormatter\"},\"minor_tick_line_color\":{\"value\":null},\"plot\":{\"id\":\"f9e368f0-4489-4087-ae7b-ca6da847b785\",\"subtype\":\"Figure\",\"type\":\"Plot\"},\"ticker\":{\"id\":\"6fb52a87-590e-4bbb-ae99-18356aa187aa\",\"type\":\"CategoricalTicker\"}},\"id\":\"9c440c59-86b4-49da-b09a-2a04a872e98b\",\"type\":\"CategoricalAxis\"},{\"attributes\":{},\"id\":\"6fb52a87-590e-4bbb-ae99-18356aa187aa\",\"type\":\"CategoricalTicker\"},{\"attributes\":{\"label\":{\"value\":\"Fatal\"},\"renderers\":[{\"id\":\"5f9ef9ca-a94e-4e8e-9733-abd8921f9544\",\"type\":\"GlyphRenderer\"}]},\"id\":\"47b64c46-8335-4fe1-bb65-8d0abb210c2e\",\"type\":\"LegendItem\"}],\"root_ids\":[\"f9e368f0-4489-4087-ae7b-ca6da847b785\"]},\"title\":\"Bokeh Application\",\"version\":\"0.12.13\"}};\n",
       "  var render_items = [{\"docid\":\"52cc127e-6f0e-4c67-abc0-5adec6d42528\",\"elementid\":\"09d49a61-1b03-4c77-9eae-12535404880d\",\"modelid\":\"f9e368f0-4489-4087-ae7b-ca6da847b785\"}];\n",
       "  root.Bokeh.embed.embed_items_notebook(docs_json, render_items);\n",
       "\n",
       "  }\n",
       "  if (root.Bokeh !== undefined) {\n",
       "    embed_document(root);\n",
       "  } else {\n",
       "    var attempts = 0;\n",
       "    var timer = setInterval(function(root) {\n",
       "      if (root.Bokeh !== undefined) {\n",
       "        embed_document(root);\n",
       "        clearInterval(timer);\n",
       "      }\n",
       "      attempts++;\n",
       "      if (attempts > 100) {\n",
       "        console.log(\"Bokeh: ERROR: Unable to run BokehJS code because BokehJS library is missing\")\n",
       "        clearInterval(timer);\n",
       "      }\n",
       "    }, 10, root)\n",
       "  }\n",
       "})(window);"
      ],
      "application/vnd.bokehjs_exec.v0+json": ""
     },
     "metadata": {
      "application/vnd.bokehjs_exec.v0+json": {
       "id": "f9e368f0-4489-4087-ae7b-ca6da847b785"
      }
     },
     "output_type": "display_data"
    }
   ],
   "source": [
    "#stacked horizontal bar graph of Unarmed shootings brokendown by Race and Fatality\n",
    "y = unarmrace.columns\n",
    "data= {'Race': list(unarmrace.index), 'Fatal' : unarmrace['Fatal'].values, \n",
    "       'Not Fatal': unarmrace['Not Fatal'].values, 'Unknown': unarmrace['Unknown'].values}\n",
    "       \n",
    "source = ColumnDataSource(data=data)\n",
    "\n",
    "c = figure(x_range= data['Race'], plot_width=400,plot_height=600, title=\"Race and Fatality of Unarmed Subjects\", y_axis_label='Number of Incidents',\n",
    "           toolbar_location=None, tools=\"\")\n",
    "\n",
    "c.vbar_stack(y, x= 'Race', width=0.5, color=Spectral3, source=source,\n",
    "             legend=[value(x) for x in y])\n",
    "\n",
    "c.y_range.start = 0\n",
    "c.y_range.end = 150\n",
    "c.x_range.range_padding = 0.1\n",
    "c.xgrid.grid_line_color = None\n",
    "c.axis.minor_tick_line_color = None\n",
    "c.outline_line_color = None\n",
    "c.legend.location = \"top_right\"\n",
    "c.legend.orientation = \"vertical\"\n",
    "\n",
    "show(c)"
   ]
  },
  {
   "cell_type": "code",
   "execution_count": 35,
   "metadata": {
    "scrolled": true
   },
   "outputs": [
    {
     "data": {
      "text/html": [
       "<div>\n",
       "<style scoped>\n",
       "    .dataframe tbody tr th:only-of-type {\n",
       "        vertical-align: middle;\n",
       "    }\n",
       "\n",
       "    .dataframe tbody tr th {\n",
       "        vertical-align: top;\n",
       "    }\n",
       "\n",
       "    .dataframe thead th {\n",
       "        text-align: right;\n",
       "    }\n",
       "</style>\n",
       "<table border=\"1\" class=\"dataframe\">\n",
       "  <thead>\n",
       "    <tr style=\"text-align: right;\">\n",
       "      <th>Fatality</th>\n",
       "      <th>Fatal</th>\n",
       "      <th>Not Fatal</th>\n",
       "      <th>Unknown</th>\n",
       "    </tr>\n",
       "    <tr>\n",
       "      <th>SubjectRace</th>\n",
       "      <th></th>\n",
       "      <th></th>\n",
       "      <th></th>\n",
       "    </tr>\n",
       "  </thead>\n",
       "  <tbody>\n",
       "    <tr>\n",
       "      <th>Asian</th>\n",
       "      <td>1</td>\n",
       "      <td>5</td>\n",
       "      <td>0</td>\n",
       "    </tr>\n",
       "    <tr>\n",
       "      <th>Black</th>\n",
       "      <td>41</td>\n",
       "      <td>92</td>\n",
       "      <td>5</td>\n",
       "    </tr>\n",
       "    <tr>\n",
       "      <th>Latino</th>\n",
       "      <td>33</td>\n",
       "      <td>54</td>\n",
       "      <td>1</td>\n",
       "    </tr>\n",
       "    <tr>\n",
       "      <th>Unknown</th>\n",
       "      <td>3</td>\n",
       "      <td>9</td>\n",
       "      <td>1</td>\n",
       "    </tr>\n",
       "    <tr>\n",
       "      <th>White</th>\n",
       "      <td>45</td>\n",
       "      <td>32</td>\n",
       "      <td>0</td>\n",
       "    </tr>\n",
       "  </tbody>\n",
       "</table>\n",
       "</div>"
      ],
      "text/plain": [
       "Fatality     Fatal  Not Fatal  Unknown\n",
       "SubjectRace                           \n",
       "Asian            1          5        0\n",
       "Black           41         92        5\n",
       "Latino          33         54        1\n",
       "Unknown          3          9        1\n",
       "White           45         32        0"
      ]
     },
     "execution_count": 35,
     "metadata": {},
     "output_type": "execute_result"
    }
   ],
   "source": [
    "armed = armed.rename(columns={'Fatal':'Fatality'})\n",
    "\n",
    "#create df of Armed shooting subjects, brokendown by Race and Fatality\n",
    "racefatal= armed.groupby('SubjectRace').Fatality.value_counts().unstack().fillna(0).astype(int)\n",
    "racefatal = racefatal.rename(columns = {'F':'Fatal', 'N':'Not Fatal', 'U':'Unknown'})\n",
    "racefatal"
   ]
  },
  {
   "cell_type": "code",
   "execution_count": 36,
   "metadata": {},
   "outputs": [
    {
     "data": {
      "text/html": [
       "\n",
       "<div class=\"bk-root\">\n",
       "    <div class=\"bk-plotdiv\" id=\"a60fea70-604e-4e2e-a973-e35bea2a4387\"></div>\n",
       "</div>"
      ]
     },
     "metadata": {},
     "output_type": "display_data"
    },
    {
     "data": {
      "application/javascript": [
       "(function(root) {\n",
       "  function embed_document(root) {\n",
       "    \n",
       "  var docs_json = {\"1f6fcb9b-ae64-40ba-b23d-70fb99955028\":{\"roots\":{\"references\":[{\"attributes\":{\"source\":{\"id\":\"74c0b842-206c-4da3-8436-ff598378bcc5\",\"type\":\"ColumnDataSource\"}},\"id\":\"a82cd289-5796-4472-a713-e09c8961da64\",\"type\":\"CDSView\"},{\"attributes\":{\"bottom\":{\"expr\":{\"id\":\"a10e047b-e9a8-4585-ad16-8e8bf3c7034d\",\"type\":\"Stack\"}},\"fill_color\":{\"value\":\"#ffffbf\"},\"line_color\":{\"value\":\"#ffffbf\"},\"top\":{\"expr\":{\"id\":\"8465f641-de29-4c48-891f-a783bfdfdfe1\",\"type\":\"Stack\"}},\"width\":{\"value\":0.5},\"x\":{\"field\":\"Race\"}},\"id\":\"16faff7c-c989-47c8-9298-eda7007029a1\",\"type\":\"VBar\"},{\"attributes\":{\"callback\":null,\"column_names\":[\"Race\",\"Fatal\",\"Not Fatal\",\"Unknown\"],\"data\":{\"Fatal\":{\"__ndarray__\":\"AQAAACkAAAAhAAAAAwAAAC0AAAA=\",\"dtype\":\"int32\",\"shape\":[5]},\"Not Fatal\":{\"__ndarray__\":\"BQAAAFwAAAA2AAAACQAAACAAAAA=\",\"dtype\":\"int32\",\"shape\":[5]},\"Race\":[\"Asian\",\"Black\",\"Latino\",\"Unknown\",\"White\"],\"Unknown\":{\"__ndarray__\":\"AAAAAAUAAAABAAAAAQAAAAAAAAA=\",\"dtype\":\"int32\",\"shape\":[5]}}},\"id\":\"74c0b842-206c-4da3-8436-ff598378bcc5\",\"type\":\"ColumnDataSource\"},{\"attributes\":{\"label\":{\"value\":\"Not Fatal\"},\"renderers\":[{\"id\":\"935e089d-c06a-45e9-b30d-f2da13470e4f\",\"type\":\"GlyphRenderer\"}]},\"id\":\"d7dcd3e1-9d43-413b-829c-98e7abfe86f0\",\"type\":\"LegendItem\"},{\"attributes\":{\"bottom\":{\"expr\":{\"id\":\"a10e047b-e9a8-4585-ad16-8e8bf3c7034d\",\"type\":\"Stack\"}},\"fill_alpha\":{\"value\":0.1},\"fill_color\":{\"value\":\"#1f77b4\"},\"line_alpha\":{\"value\":0.1},\"line_color\":{\"value\":\"#1f77b4\"},\"top\":{\"expr\":{\"id\":\"8465f641-de29-4c48-891f-a783bfdfdfe1\",\"type\":\"Stack\"}},\"width\":{\"value\":0.5},\"x\":{\"field\":\"Race\"}},\"id\":\"61eada9d-4ebf-47c1-bc37-d27a128a5a02\",\"type\":\"VBar\"},{\"attributes\":{\"below\":[{\"id\":\"9ed8568c-abfc-4659-ab45-44a83a5ad6d1\",\"type\":\"CategoricalAxis\"}],\"left\":[{\"id\":\"63b1305d-00e0-4dbd-a117-03ffec785903\",\"type\":\"LinearAxis\"}],\"outline_line_color\":{\"value\":null},\"plot_width\":400,\"renderers\":[{\"id\":\"9ed8568c-abfc-4659-ab45-44a83a5ad6d1\",\"type\":\"CategoricalAxis\"},{\"id\":\"13a5e718-37f3-4992-9558-048b6f061ab3\",\"type\":\"Grid\"},{\"id\":\"63b1305d-00e0-4dbd-a117-03ffec785903\",\"type\":\"LinearAxis\"},{\"id\":\"480a984d-5da2-429c-9184-7f7426a088f2\",\"type\":\"Grid\"},{\"id\":\"de11f925-8830-4267-9484-d04ee2fc7b4d\",\"type\":\"Legend\"},{\"id\":\"ff1727d1-cd14-46dd-b0d1-6ccbb006634b\",\"type\":\"GlyphRenderer\"},{\"id\":\"935e089d-c06a-45e9-b30d-f2da13470e4f\",\"type\":\"GlyphRenderer\"},{\"id\":\"901eb27a-67ba-426f-ac0c-504d89df9544\",\"type\":\"GlyphRenderer\"}],\"title\":{\"id\":\"70c739ce-bdbd-4076-88a5-651ec300ee16\",\"type\":\"Title\"},\"toolbar\":{\"id\":\"e1f997bc-7dfb-4c06-bb21-0cb13a3a3aec\",\"type\":\"Toolbar\"},\"toolbar_location\":null,\"x_range\":{\"id\":\"f292b7d5-5b3c-4dd3-95fe-81f443a449c3\",\"type\":\"FactorRange\"},\"x_scale\":{\"id\":\"fc1fc214-55de-41a0-9811-0675afd828d6\",\"type\":\"CategoricalScale\"},\"y_range\":{\"id\":\"725c997d-ffdd-43ac-b546-d3cdad6f4160\",\"type\":\"DataRange1d\"},\"y_scale\":{\"id\":\"8d6ca692-c25a-4442-b448-d71c6f076d03\",\"type\":\"LinearScale\"}},\"id\":\"6516d290-ee57-42b1-b043-cc7102614aa0\",\"subtype\":\"Figure\",\"type\":\"Plot\"},{\"attributes\":{\"fields\":[]},\"id\":\"92891160-58ab-497a-b533-e132570517be\",\"type\":\"Stack\"},{\"attributes\":{\"data_source\":{\"id\":\"74c0b842-206c-4da3-8436-ff598378bcc5\",\"type\":\"ColumnDataSource\"},\"glyph\":{\"id\":\"16faff7c-c989-47c8-9298-eda7007029a1\",\"type\":\"VBar\"},\"hover_glyph\":null,\"muted_glyph\":null,\"nonselection_glyph\":{\"id\":\"61eada9d-4ebf-47c1-bc37-d27a128a5a02\",\"type\":\"VBar\"},\"selection_glyph\":null,\"view\":{\"id\":\"b2fa16ba-2532-4a48-beda-9948115c27a6\",\"type\":\"CDSView\"}},\"id\":\"935e089d-c06a-45e9-b30d-f2da13470e4f\",\"type\":\"GlyphRenderer\"},{\"attributes\":{\"source\":{\"id\":\"74c0b842-206c-4da3-8436-ff598378bcc5\",\"type\":\"ColumnDataSource\"}},\"id\":\"b2fa16ba-2532-4a48-beda-9948115c27a6\",\"type\":\"CDSView\"},{\"attributes\":{\"plot\":null,\"text\":\"Race and Fatality of Armed Subjects\"},\"id\":\"70c739ce-bdbd-4076-88a5-651ec300ee16\",\"type\":\"Title\"},{\"attributes\":{\"callback\":null,\"factors\":[\"Asian\",\"Black\",\"Latino\",\"Unknown\",\"White\"],\"range_padding\":0.1},\"id\":\"f292b7d5-5b3c-4dd3-95fe-81f443a449c3\",\"type\":\"FactorRange\"},{\"attributes\":{\"active_drag\":\"auto\",\"active_inspect\":\"auto\",\"active_scroll\":\"auto\",\"active_tap\":\"auto\"},\"id\":\"e1f997bc-7dfb-4c06-bb21-0cb13a3a3aec\",\"type\":\"Toolbar\"},{\"attributes\":{\"axis_label\":\"Number of Incidents\",\"formatter\":{\"id\":\"f87c8138-4b83-4bb8-91a0-c7ce3ac4500d\",\"type\":\"BasicTickFormatter\"},\"minor_tick_line_color\":{\"value\":null},\"plot\":{\"id\":\"6516d290-ee57-42b1-b043-cc7102614aa0\",\"subtype\":\"Figure\",\"type\":\"Plot\"},\"ticker\":{\"id\":\"d2abfd9b-63a0-43fd-855d-69a16d8117a1\",\"type\":\"BasicTicker\"}},\"id\":\"63b1305d-00e0-4dbd-a117-03ffec785903\",\"type\":\"LinearAxis\"},{\"attributes\":{\"bottom\":{\"expr\":{\"id\":\"b8250e3d-1dd9-4216-9d3c-8b643c448baf\",\"type\":\"Stack\"}},\"fill_alpha\":{\"value\":0.1},\"fill_color\":{\"value\":\"#1f77b4\"},\"line_alpha\":{\"value\":0.1},\"line_color\":{\"value\":\"#1f77b4\"},\"top\":{\"expr\":{\"id\":\"1c107514-9f44-4569-a2d6-30af7531221c\",\"type\":\"Stack\"}},\"width\":{\"value\":0.5},\"x\":{\"field\":\"Race\"}},\"id\":\"bd19f816-21a7-4831-b0ce-392d5e5cfef3\",\"type\":\"VBar\"},{\"attributes\":{},\"id\":\"fc1fc214-55de-41a0-9811-0675afd828d6\",\"type\":\"CategoricalScale\"},{\"attributes\":{\"label\":{\"value\":\"Unknown\"},\"renderers\":[{\"id\":\"901eb27a-67ba-426f-ac0c-504d89df9544\",\"type\":\"GlyphRenderer\"}]},\"id\":\"55048285-cb2c-4952-8b02-67eebfcc0a83\",\"type\":\"LegendItem\"},{\"attributes\":{\"callback\":null,\"end\":150,\"start\":0},\"id\":\"725c997d-ffdd-43ac-b546-d3cdad6f4160\",\"type\":\"DataRange1d\"},{\"attributes\":{},\"id\":\"8d6ca692-c25a-4442-b448-d71c6f076d03\",\"type\":\"LinearScale\"},{\"attributes\":{\"data_source\":{\"id\":\"74c0b842-206c-4da3-8436-ff598378bcc5\",\"type\":\"ColumnDataSource\"},\"glyph\":{\"id\":\"4a686181-c8be-474b-9cf2-6e280a7e8093\",\"type\":\"VBar\"},\"hover_glyph\":null,\"muted_glyph\":null,\"nonselection_glyph\":{\"id\":\"bd19f816-21a7-4831-b0ce-392d5e5cfef3\",\"type\":\"VBar\"},\"selection_glyph\":null,\"view\":{\"id\":\"de5f7970-5df4-46c9-ab2d-9791e83c631e\",\"type\":\"CDSView\"}},\"id\":\"901eb27a-67ba-426f-ac0c-504d89df9544\",\"type\":\"GlyphRenderer\"},{\"attributes\":{\"grid_line_color\":{\"value\":null},\"plot\":{\"id\":\"6516d290-ee57-42b1-b043-cc7102614aa0\",\"subtype\":\"Figure\",\"type\":\"Plot\"},\"ticker\":{\"id\":\"65adc3b6-29c3-4ff9-b4f8-71d4f775de61\",\"type\":\"CategoricalTicker\"}},\"id\":\"13a5e718-37f3-4992-9558-048b6f061ab3\",\"type\":\"Grid\"},{\"attributes\":{\"source\":{\"id\":\"74c0b842-206c-4da3-8436-ff598378bcc5\",\"type\":\"ColumnDataSource\"}},\"id\":\"de5f7970-5df4-46c9-ab2d-9791e83c631e\",\"type\":\"CDSView\"},{\"attributes\":{\"formatter\":{\"id\":\"26072352-2583-483d-b7c8-04b491e4c4eb\",\"type\":\"CategoricalTickFormatter\"},\"minor_tick_line_color\":{\"value\":null},\"plot\":{\"id\":\"6516d290-ee57-42b1-b043-cc7102614aa0\",\"subtype\":\"Figure\",\"type\":\"Plot\"},\"ticker\":{\"id\":\"65adc3b6-29c3-4ff9-b4f8-71d4f775de61\",\"type\":\"CategoricalTicker\"}},\"id\":\"9ed8568c-abfc-4659-ab45-44a83a5ad6d1\",\"type\":\"CategoricalAxis\"},{\"attributes\":{\"dimension\":1,\"plot\":{\"id\":\"6516d290-ee57-42b1-b043-cc7102614aa0\",\"subtype\":\"Figure\",\"type\":\"Plot\"},\"ticker\":{\"id\":\"d2abfd9b-63a0-43fd-855d-69a16d8117a1\",\"type\":\"BasicTicker\"}},\"id\":\"480a984d-5da2-429c-9184-7f7426a088f2\",\"type\":\"Grid\"},{\"attributes\":{},\"id\":\"65adc3b6-29c3-4ff9-b4f8-71d4f775de61\",\"type\":\"CategoricalTicker\"},{\"attributes\":{\"fields\":[\"Fatal\"]},\"id\":\"ba6b9c21-cc7b-4a99-a2f2-d9233e8505b7\",\"type\":\"Stack\"},{\"attributes\":{},\"id\":\"d2abfd9b-63a0-43fd-855d-69a16d8117a1\",\"type\":\"BasicTicker\"},{\"attributes\":{\"items\":[{\"id\":\"4f9e01ed-32ed-4c7b-a9b3-cde9fcd8fcd9\",\"type\":\"LegendItem\"},{\"id\":\"d7dcd3e1-9d43-413b-829c-98e7abfe86f0\",\"type\":\"LegendItem\"},{\"id\":\"55048285-cb2c-4952-8b02-67eebfcc0a83\",\"type\":\"LegendItem\"}],\"plot\":{\"id\":\"6516d290-ee57-42b1-b043-cc7102614aa0\",\"subtype\":\"Figure\",\"type\":\"Plot\"}},\"id\":\"de11f925-8830-4267-9484-d04ee2fc7b4d\",\"type\":\"Legend\"},{\"attributes\":{\"fields\":[\"Fatal\"]},\"id\":\"a10e047b-e9a8-4585-ad16-8e8bf3c7034d\",\"type\":\"Stack\"},{\"attributes\":{\"fields\":[\"Fatal\",\"Not Fatal\"]},\"id\":\"8465f641-de29-4c48-891f-a783bfdfdfe1\",\"type\":\"Stack\"},{\"attributes\":{\"fields\":[\"Fatal\",\"Not Fatal\"]},\"id\":\"b8250e3d-1dd9-4216-9d3c-8b643c448baf\",\"type\":\"Stack\"},{\"attributes\":{\"fields\":[\"Fatal\",\"Not Fatal\",\"Unknown\"]},\"id\":\"1c107514-9f44-4569-a2d6-30af7531221c\",\"type\":\"Stack\"},{\"attributes\":{\"bottom\":{\"expr\":{\"id\":\"92891160-58ab-497a-b533-e132570517be\",\"type\":\"Stack\"}},\"fill_color\":{\"value\":\"#99d594\"},\"line_color\":{\"value\":\"#99d594\"},\"top\":{\"expr\":{\"id\":\"ba6b9c21-cc7b-4a99-a2f2-d9233e8505b7\",\"type\":\"Stack\"}},\"width\":{\"value\":0.5},\"x\":{\"field\":\"Race\"}},\"id\":\"d45641ac-aab3-4395-b0a6-3ca552146e3b\",\"type\":\"VBar\"},{\"attributes\":{\"bottom\":{\"expr\":{\"id\":\"92891160-58ab-497a-b533-e132570517be\",\"type\":\"Stack\"}},\"fill_alpha\":{\"value\":0.1},\"fill_color\":{\"value\":\"#1f77b4\"},\"line_alpha\":{\"value\":0.1},\"line_color\":{\"value\":\"#1f77b4\"},\"top\":{\"expr\":{\"id\":\"ba6b9c21-cc7b-4a99-a2f2-d9233e8505b7\",\"type\":\"Stack\"}},\"width\":{\"value\":0.5},\"x\":{\"field\":\"Race\"}},\"id\":\"c23b3585-e519-43dd-bf37-b5db5fabeee9\",\"type\":\"VBar\"},{\"attributes\":{},\"id\":\"26072352-2583-483d-b7c8-04b491e4c4eb\",\"type\":\"CategoricalTickFormatter\"},{\"attributes\":{\"label\":{\"value\":\"Fatal\"},\"renderers\":[{\"id\":\"ff1727d1-cd14-46dd-b0d1-6ccbb006634b\",\"type\":\"GlyphRenderer\"}]},\"id\":\"4f9e01ed-32ed-4c7b-a9b3-cde9fcd8fcd9\",\"type\":\"LegendItem\"},{\"attributes\":{},\"id\":\"f87c8138-4b83-4bb8-91a0-c7ce3ac4500d\",\"type\":\"BasicTickFormatter\"},{\"attributes\":{\"bottom\":{\"expr\":{\"id\":\"b8250e3d-1dd9-4216-9d3c-8b643c448baf\",\"type\":\"Stack\"}},\"fill_color\":{\"value\":\"#fc8d59\"},\"line_color\":{\"value\":\"#fc8d59\"},\"top\":{\"expr\":{\"id\":\"1c107514-9f44-4569-a2d6-30af7531221c\",\"type\":\"Stack\"}},\"width\":{\"value\":0.5},\"x\":{\"field\":\"Race\"}},\"id\":\"4a686181-c8be-474b-9cf2-6e280a7e8093\",\"type\":\"VBar\"},{\"attributes\":{\"data_source\":{\"id\":\"74c0b842-206c-4da3-8436-ff598378bcc5\",\"type\":\"ColumnDataSource\"},\"glyph\":{\"id\":\"d45641ac-aab3-4395-b0a6-3ca552146e3b\",\"type\":\"VBar\"},\"hover_glyph\":null,\"muted_glyph\":null,\"nonselection_glyph\":{\"id\":\"c23b3585-e519-43dd-bf37-b5db5fabeee9\",\"type\":\"VBar\"},\"selection_glyph\":null,\"view\":{\"id\":\"a82cd289-5796-4472-a713-e09c8961da64\",\"type\":\"CDSView\"}},\"id\":\"ff1727d1-cd14-46dd-b0d1-6ccbb006634b\",\"type\":\"GlyphRenderer\"}],\"root_ids\":[\"6516d290-ee57-42b1-b043-cc7102614aa0\"]},\"title\":\"Bokeh Application\",\"version\":\"0.12.13\"}};\n",
       "  var render_items = [{\"docid\":\"1f6fcb9b-ae64-40ba-b23d-70fb99955028\",\"elementid\":\"a60fea70-604e-4e2e-a973-e35bea2a4387\",\"modelid\":\"6516d290-ee57-42b1-b043-cc7102614aa0\"}];\n",
       "  root.Bokeh.embed.embed_items_notebook(docs_json, render_items);\n",
       "\n",
       "  }\n",
       "  if (root.Bokeh !== undefined) {\n",
       "    embed_document(root);\n",
       "  } else {\n",
       "    var attempts = 0;\n",
       "    var timer = setInterval(function(root) {\n",
       "      if (root.Bokeh !== undefined) {\n",
       "        embed_document(root);\n",
       "        clearInterval(timer);\n",
       "      }\n",
       "      attempts++;\n",
       "      if (attempts > 100) {\n",
       "        console.log(\"Bokeh: ERROR: Unable to run BokehJS code because BokehJS library is missing\")\n",
       "        clearInterval(timer);\n",
       "      }\n",
       "    }, 10, root)\n",
       "  }\n",
       "})(window);"
      ],
      "application/vnd.bokehjs_exec.v0+json": ""
     },
     "metadata": {
      "application/vnd.bokehjs_exec.v0+json": {
       "id": "6516d290-ee57-42b1-b043-cc7102614aa0"
      }
     },
     "output_type": "display_data"
    }
   ],
   "source": [
    "#stacked horizontal bar graph of Armed shooting subjects, brokendown by Race and Fatality\n",
    "y = racefatal.columns\n",
    "data= {'Race': list(racefatal.index), 'Fatal' : racefatal['Fatal'].values, \n",
    "       'Not Fatal': racefatal['Not Fatal'].values, 'Unknown': racefatal['Unknown'].values}\n",
    "       \n",
    "source = ColumnDataSource(data=data)\n",
    "\n",
    "b = figure(x_range= data['Race'], plot_height=600,plot_width=400, title=\"Race and Fatality of Armed Subjects\", y_axis_label='Number of Incidents',\n",
    "           toolbar_location=None, tools=\"\")\n",
    "\n",
    "b.vbar_stack(y, x= 'Race', width=0.5, color=Spectral3, source=source,\n",
    "             legend=[value(x) for x in y])\n",
    "\n",
    "b.y_range.start = 0\n",
    "b.y_range.end = 150\n",
    "b.x_range.range_padding = 0.1\n",
    "b.xgrid.grid_line_color = None\n",
    "b.axis.minor_tick_line_color = None\n",
    "b.outline_line_color = None\n",
    "b.legend.location = \"top_right\"\n",
    "b.legend.orientation = \"vertical\"\n",
    "\n",
    "show(b)"
   ]
  },
  {
   "cell_type": "code",
   "execution_count": 37,
   "metadata": {},
   "outputs": [
    {
     "data": {
      "text/html": [
       "\n",
       "<div class=\"bk-root\">\n",
       "    <div class=\"bk-plotdiv\" id=\"fe0c6cdb-0635-4d97-b5d6-b009bb9dd1ca\"></div>\n",
       "</div>"
      ]
     },
     "metadata": {},
     "output_type": "display_data"
    },
    {
     "data": {
      "application/javascript": [
       "(function(root) {\n",
       "  function embed_document(root) {\n",
       "    \n",
       "  var docs_json = {\"ef42623e-4db4-4bd7-b716-7f0e8229001d\":{\"roots\":{\"references\":[{\"attributes\":{\"callback\":null,\"column_names\":[\"Race\",\"Fatal\",\"Not Fatal\",\"Unknown\"],\"data\":{\"Fatal\":{\"__ndarray__\":\"AQAAACkAAAAhAAAAAwAAAC0AAAA=\",\"dtype\":\"int32\",\"shape\":[5]},\"Not Fatal\":{\"__ndarray__\":\"BQAAAFwAAAA2AAAACQAAACAAAAA=\",\"dtype\":\"int32\",\"shape\":[5]},\"Race\":[\"Asian\",\"Black\",\"Latino\",\"Unknown\",\"White\"],\"Unknown\":{\"__ndarray__\":\"AAAAAAUAAAABAAAAAQAAAAAAAAA=\",\"dtype\":\"int32\",\"shape\":[5]}}},\"id\":\"74c0b842-206c-4da3-8436-ff598378bcc5\",\"type\":\"ColumnDataSource\"},{\"attributes\":{\"below\":[{\"id\":\"9ed8568c-abfc-4659-ab45-44a83a5ad6d1\",\"type\":\"CategoricalAxis\"}],\"left\":[{\"id\":\"63b1305d-00e0-4dbd-a117-03ffec785903\",\"type\":\"LinearAxis\"}],\"outline_line_color\":{\"value\":null},\"plot_height\":400,\"plot_width\":300,\"renderers\":[{\"id\":\"9ed8568c-abfc-4659-ab45-44a83a5ad6d1\",\"type\":\"CategoricalAxis\"},{\"id\":\"13a5e718-37f3-4992-9558-048b6f061ab3\",\"type\":\"Grid\"},{\"id\":\"63b1305d-00e0-4dbd-a117-03ffec785903\",\"type\":\"LinearAxis\"},{\"id\":\"480a984d-5da2-429c-9184-7f7426a088f2\",\"type\":\"Grid\"},{\"id\":\"de11f925-8830-4267-9484-d04ee2fc7b4d\",\"type\":\"Legend\"},{\"id\":\"ff1727d1-cd14-46dd-b0d1-6ccbb006634b\",\"type\":\"GlyphRenderer\"},{\"id\":\"935e089d-c06a-45e9-b30d-f2da13470e4f\",\"type\":\"GlyphRenderer\"},{\"id\":\"901eb27a-67ba-426f-ac0c-504d89df9544\",\"type\":\"GlyphRenderer\"}],\"title\":{\"id\":\"70c739ce-bdbd-4076-88a5-651ec300ee16\",\"type\":\"Title\"},\"toolbar\":{\"id\":\"e1f997bc-7dfb-4c06-bb21-0cb13a3a3aec\",\"type\":\"Toolbar\"},\"toolbar_location\":null,\"x_range\":{\"id\":\"f292b7d5-5b3c-4dd3-95fe-81f443a449c3\",\"type\":\"FactorRange\"},\"x_scale\":{\"id\":\"fc1fc214-55de-41a0-9811-0675afd828d6\",\"type\":\"CategoricalScale\"},\"y_range\":{\"id\":\"725c997d-ffdd-43ac-b546-d3cdad6f4160\",\"type\":\"DataRange1d\"},\"y_scale\":{\"id\":\"8d6ca692-c25a-4442-b448-d71c6f076d03\",\"type\":\"LinearScale\"}},\"id\":\"6516d290-ee57-42b1-b043-cc7102614aa0\",\"subtype\":\"Figure\",\"type\":\"Plot\"},{\"attributes\":{\"fields\":[]},\"id\":\"92891160-58ab-497a-b533-e132570517be\",\"type\":\"Stack\"},{\"attributes\":{\"plot\":null,\"text\":\"Race and Fatality of Armed Subjects\"},\"id\":\"70c739ce-bdbd-4076-88a5-651ec300ee16\",\"type\":\"Title\"},{\"attributes\":{\"callback\":null,\"factors\":[\"Asian\",\"Black\",\"Latino\",\"Unknown\",\"White\"],\"range_padding\":0.1},\"id\":\"f292b7d5-5b3c-4dd3-95fe-81f443a449c3\",\"type\":\"FactorRange\"},{\"attributes\":{\"active_drag\":\"auto\",\"active_inspect\":\"auto\",\"active_scroll\":\"auto\",\"active_tap\":\"auto\"},\"id\":\"e1f997bc-7dfb-4c06-bb21-0cb13a3a3aec\",\"type\":\"Toolbar\"},{\"attributes\":{\"axis_label\":\"Number of Incidents\",\"formatter\":{\"id\":\"f87c8138-4b83-4bb8-91a0-c7ce3ac4500d\",\"type\":\"BasicTickFormatter\"},\"minor_tick_line_color\":{\"value\":null},\"plot\":{\"id\":\"6516d290-ee57-42b1-b043-cc7102614aa0\",\"subtype\":\"Figure\",\"type\":\"Plot\"},\"ticker\":{\"id\":\"d2abfd9b-63a0-43fd-855d-69a16d8117a1\",\"type\":\"BasicTicker\"}},\"id\":\"63b1305d-00e0-4dbd-a117-03ffec785903\",\"type\":\"LinearAxis\"},{\"attributes\":{\"children\":[{\"id\":\"51b4e642-706d-4086-b075-514977eb8062\",\"type\":\"ToolbarBox\"},{\"id\":\"cdd275aa-1857-4125-9a5a-d12977055855\",\"type\":\"Column\"}]},\"id\":\"3d8d1257-2693-4d59-9d15-fcd61a33d95e\",\"type\":\"Column\"},{\"attributes\":{},\"id\":\"fc1fc214-55de-41a0-9811-0675afd828d6\",\"type\":\"CategoricalScale\"},{\"attributes\":{\"callback\":null,\"end\":150,\"start\":0},\"id\":\"725c997d-ffdd-43ac-b546-d3cdad6f4160\",\"type\":\"DataRange1d\"},{\"attributes\":{},\"id\":\"8d6ca692-c25a-4442-b448-d71c6f076d03\",\"type\":\"LinearScale\"},{\"attributes\":{\"grid_line_color\":{\"value\":null},\"plot\":{\"id\":\"6516d290-ee57-42b1-b043-cc7102614aa0\",\"subtype\":\"Figure\",\"type\":\"Plot\"},\"ticker\":{\"id\":\"65adc3b6-29c3-4ff9-b4f8-71d4f775de61\",\"type\":\"CategoricalTicker\"}},\"id\":\"13a5e718-37f3-4992-9558-048b6f061ab3\",\"type\":\"Grid\"},{\"attributes\":{\"callback\":null,\"column_names\":[\"Race\",\"Fatal\",\"Not Fatal\",\"Unknown\"],\"data\":{\"Fatal\":{\"__ndarray__\":\"HwAAABIAAAADAAAAHwAAAA==\",\"dtype\":\"int32\",\"shape\":[4]},\"Not Fatal\":{\"__ndarray__\":\"WAAAAD0AAAAdAAAAJQAAAA==\",\"dtype\":\"int32\",\"shape\":[4]},\"Race\":[\"Black\",\"Latino\",\"Unknown\",\"White\"],\"Unknown\":{\"__ndarray__\":\"AgAAAAAAAAABAAAAAAAAAA==\",\"dtype\":\"int32\",\"shape\":[4]}}},\"id\":\"9918fe6a-d28d-4f2c-ae1d-1789cc4ca57e\",\"type\":\"ColumnDataSource\"},{\"attributes\":{},\"id\":\"f35e777b-851b-46e5-a55b-78eedf3706f4\",\"type\":\"ProxyToolbar\"},{\"attributes\":{\"formatter\":{\"id\":\"26072352-2583-483d-b7c8-04b491e4c4eb\",\"type\":\"CategoricalTickFormatter\"},\"minor_tick_line_color\":{\"value\":null},\"plot\":{\"id\":\"6516d290-ee57-42b1-b043-cc7102614aa0\",\"subtype\":\"Figure\",\"type\":\"Plot\"},\"ticker\":{\"id\":\"65adc3b6-29c3-4ff9-b4f8-71d4f775de61\",\"type\":\"CategoricalTicker\"}},\"id\":\"9ed8568c-abfc-4659-ab45-44a83a5ad6d1\",\"type\":\"CategoricalAxis\"},{\"attributes\":{},\"id\":\"65adc3b6-29c3-4ff9-b4f8-71d4f775de61\",\"type\":\"CategoricalTicker\"},{\"attributes\":{\"fields\":[\"Fatal\"]},\"id\":\"ba6b9c21-cc7b-4a99-a2f2-d9233e8505b7\",\"type\":\"Stack\"},{\"attributes\":{\"below\":[{\"id\":\"9c440c59-86b4-49da-b09a-2a04a872e98b\",\"type\":\"CategoricalAxis\"}],\"left\":[{\"id\":\"21c09255-6de6-4225-9d79-1e4755ec60d9\",\"type\":\"LinearAxis\"}],\"outline_line_color\":{\"value\":null},\"plot_height\":400,\"plot_width\":300,\"renderers\":[{\"id\":\"9c440c59-86b4-49da-b09a-2a04a872e98b\",\"type\":\"CategoricalAxis\"},{\"id\":\"32af60ad-c976-486e-beb4-89de45ec5b3a\",\"type\":\"Grid\"},{\"id\":\"21c09255-6de6-4225-9d79-1e4755ec60d9\",\"type\":\"LinearAxis\"},{\"id\":\"052fcf30-2354-4179-a56a-458f8b8e1aa5\",\"type\":\"Grid\"},{\"id\":\"f263f2d4-f077-4c2e-8cca-e72a98355781\",\"type\":\"Legend\"},{\"id\":\"5f9ef9ca-a94e-4e8e-9733-abd8921f9544\",\"type\":\"GlyphRenderer\"},{\"id\":\"bf20e01f-fd0b-4894-a1ec-2d3acf4baf53\",\"type\":\"GlyphRenderer\"},{\"id\":\"e9a67e4e-0458-4f16-bd6b-c29922ced194\",\"type\":\"GlyphRenderer\"}],\"title\":{\"id\":\"0e746982-5dd0-4a35-8c00-4985e4af72d5\",\"type\":\"Title\"},\"toolbar\":{\"id\":\"d82448b2-98ca-443e-880d-a5e573853d0f\",\"type\":\"Toolbar\"},\"toolbar_location\":null,\"x_range\":{\"id\":\"c230c354-18d7-4b22-9ba2-1f61e21b5195\",\"type\":\"FactorRange\"},\"x_scale\":{\"id\":\"f69d6415-30e5-4d32-9dce-c86208fc019d\",\"type\":\"CategoricalScale\"},\"y_range\":{\"id\":\"4416ae44-d21c-4c73-9596-e7f31582655d\",\"type\":\"DataRange1d\"},\"y_scale\":{\"id\":\"2c172e19-f9e5-4f73-9ce3-fa28248511fb\",\"type\":\"LinearScale\"}},\"id\":\"f9e368f0-4489-4087-ae7b-ca6da847b785\",\"subtype\":\"Figure\",\"type\":\"Plot\"},{\"attributes\":{},\"id\":\"d2abfd9b-63a0-43fd-855d-69a16d8117a1\",\"type\":\"BasicTicker\"},{\"attributes\":{\"items\":[{\"id\":\"4f9e01ed-32ed-4c7b-a9b3-cde9fcd8fcd9\",\"type\":\"LegendItem\"},{\"id\":\"d7dcd3e1-9d43-413b-829c-98e7abfe86f0\",\"type\":\"LegendItem\"},{\"id\":\"55048285-cb2c-4952-8b02-67eebfcc0a83\",\"type\":\"LegendItem\"}],\"plot\":{\"id\":\"6516d290-ee57-42b1-b043-cc7102614aa0\",\"subtype\":\"Figure\",\"type\":\"Plot\"}},\"id\":\"de11f925-8830-4267-9484-d04ee2fc7b4d\",\"type\":\"Legend\"},{\"attributes\":{\"data_source\":{\"id\":\"9918fe6a-d28d-4f2c-ae1d-1789cc4ca57e\",\"type\":\"ColumnDataSource\"},\"glyph\":{\"id\":\"c935af15-9827-464f-99e5-f577dccf5a05\",\"type\":\"VBar\"},\"hover_glyph\":null,\"muted_glyph\":null,\"nonselection_glyph\":{\"id\":\"d1737951-f84e-4e95-8000-467960feb175\",\"type\":\"VBar\"},\"selection_glyph\":null,\"view\":{\"id\":\"53d57d05-b2b4-4746-8716-3cc73b3a38db\",\"type\":\"CDSView\"}},\"id\":\"5f9ef9ca-a94e-4e8e-9733-abd8921f9544\",\"type\":\"GlyphRenderer\"},{\"attributes\":{\"fields\":[\"Fatal\"]},\"id\":\"a10e047b-e9a8-4585-ad16-8e8bf3c7034d\",\"type\":\"Stack\"},{\"attributes\":{\"plot\":null,\"text\":\"Race and Fatality of Unarmed Subjects\"},\"id\":\"0e746982-5dd0-4a35-8c00-4985e4af72d5\",\"type\":\"Title\"},{\"attributes\":{\"fields\":[\"Fatal\",\"Not Fatal\"]},\"id\":\"8465f641-de29-4c48-891f-a783bfdfdfe1\",\"type\":\"Stack\"},{\"attributes\":{\"fields\":[\"Fatal\",\"Not Fatal\"]},\"id\":\"b8250e3d-1dd9-4216-9d3c-8b643c448baf\",\"type\":\"Stack\"},{\"attributes\":{\"active_drag\":\"auto\",\"active_inspect\":\"auto\",\"active_scroll\":\"auto\",\"active_tap\":\"auto\"},\"id\":\"d82448b2-98ca-443e-880d-a5e573853d0f\",\"type\":\"Toolbar\"},{\"attributes\":{\"fields\":[\"Fatal\",\"Not Fatal\",\"Unknown\"]},\"id\":\"1c107514-9f44-4569-a2d6-30af7531221c\",\"type\":\"Stack\"},{\"attributes\":{\"callback\":null,\"factors\":[\"Black\",\"Latino\",\"Unknown\",\"White\"],\"range_padding\":0.1},\"id\":\"c230c354-18d7-4b22-9ba2-1f61e21b5195\",\"type\":\"FactorRange\"},{\"attributes\":{\"callback\":null,\"end\":150,\"start\":0},\"id\":\"4416ae44-d21c-4c73-9596-e7f31582655d\",\"type\":\"DataRange1d\"},{\"attributes\":{\"bottom\":{\"expr\":{\"id\":\"92891160-58ab-497a-b533-e132570517be\",\"type\":\"Stack\"}},\"fill_color\":{\"value\":\"#99d594\"},\"line_color\":{\"value\":\"#99d594\"},\"top\":{\"expr\":{\"id\":\"ba6b9c21-cc7b-4a99-a2f2-d9233e8505b7\",\"type\":\"Stack\"}},\"width\":{\"value\":0.5},\"x\":{\"field\":\"Race\"}},\"id\":\"d45641ac-aab3-4395-b0a6-3ca552146e3b\",\"type\":\"VBar\"},{\"attributes\":{\"axis_label\":\"Number of Incidents\",\"formatter\":{\"id\":\"c21c2bd8-fcd5-4df3-a6dc-448c6cc3964c\",\"type\":\"BasicTickFormatter\"},\"minor_tick_line_color\":{\"value\":null},\"plot\":{\"id\":\"f9e368f0-4489-4087-ae7b-ca6da847b785\",\"subtype\":\"Figure\",\"type\":\"Plot\"},\"ticker\":{\"id\":\"79cbe48a-a682-4ab4-a8d4-d7c65cfdd94e\",\"type\":\"BasicTicker\"}},\"id\":\"21c09255-6de6-4225-9d79-1e4755ec60d9\",\"type\":\"LinearAxis\"},{\"attributes\":{\"bottom\":{\"expr\":{\"id\":\"92891160-58ab-497a-b533-e132570517be\",\"type\":\"Stack\"}},\"fill_alpha\":{\"value\":0.1},\"fill_color\":{\"value\":\"#1f77b4\"},\"line_alpha\":{\"value\":0.1},\"line_color\":{\"value\":\"#1f77b4\"},\"top\":{\"expr\":{\"id\":\"ba6b9c21-cc7b-4a99-a2f2-d9233e8505b7\",\"type\":\"Stack\"}},\"width\":{\"value\":0.5},\"x\":{\"field\":\"Race\"}},\"id\":\"c23b3585-e519-43dd-bf37-b5db5fabeee9\",\"type\":\"VBar\"},{\"attributes\":{\"toolbar\":{\"id\":\"f35e777b-851b-46e5-a55b-78eedf3706f4\",\"type\":\"ProxyToolbar\"},\"toolbar_location\":\"above\"},\"id\":\"51b4e642-706d-4086-b075-514977eb8062\",\"type\":\"ToolbarBox\"},{\"attributes\":{},\"id\":\"f69d6415-30e5-4d32-9dce-c86208fc019d\",\"type\":\"CategoricalScale\"},{\"attributes\":{},\"id\":\"26072352-2583-483d-b7c8-04b491e4c4eb\",\"type\":\"CategoricalTickFormatter\"},{\"attributes\":{},\"id\":\"2c172e19-f9e5-4f73-9ce3-fa28248511fb\",\"type\":\"LinearScale\"},{\"attributes\":{\"label\":{\"value\":\"Fatal\"},\"renderers\":[{\"id\":\"ff1727d1-cd14-46dd-b0d1-6ccbb006634b\",\"type\":\"GlyphRenderer\"}]},\"id\":\"4f9e01ed-32ed-4c7b-a9b3-cde9fcd8fcd9\",\"type\":\"LegendItem\"},{\"attributes\":{\"grid_line_color\":{\"value\":null},\"plot\":{\"id\":\"f9e368f0-4489-4087-ae7b-ca6da847b785\",\"subtype\":\"Figure\",\"type\":\"Plot\"},\"ticker\":{\"id\":\"6fb52a87-590e-4bbb-ae99-18356aa187aa\",\"type\":\"CategoricalTicker\"}},\"id\":\"32af60ad-c976-486e-beb4-89de45ec5b3a\",\"type\":\"Grid\"},{\"attributes\":{},\"id\":\"f87c8138-4b83-4bb8-91a0-c7ce3ac4500d\",\"type\":\"BasicTickFormatter\"},{\"attributes\":{\"formatter\":{\"id\":\"db3beba9-c4ae-4c73-867c-873a175cab64\",\"type\":\"CategoricalTickFormatter\"},\"minor_tick_line_color\":{\"value\":null},\"plot\":{\"id\":\"f9e368f0-4489-4087-ae7b-ca6da847b785\",\"subtype\":\"Figure\",\"type\":\"Plot\"},\"ticker\":{\"id\":\"6fb52a87-590e-4bbb-ae99-18356aa187aa\",\"type\":\"CategoricalTicker\"}},\"id\":\"9c440c59-86b4-49da-b09a-2a04a872e98b\",\"type\":\"CategoricalAxis\"},{\"attributes\":{},\"id\":\"6fb52a87-590e-4bbb-ae99-18356aa187aa\",\"type\":\"CategoricalTicker\"},{\"attributes\":{\"bottom\":{\"expr\":{\"id\":\"2373f79f-6947-42c4-ac92-a5cff99d7e6f\",\"type\":\"Stack\"}},\"fill_alpha\":{\"value\":0.1},\"fill_color\":{\"value\":\"#1f77b4\"},\"line_alpha\":{\"value\":0.1},\"line_color\":{\"value\":\"#1f77b4\"},\"top\":{\"expr\":{\"id\":\"32b5ec39-7e3e-46f2-864c-6331bbb76f93\",\"type\":\"Stack\"}},\"width\":{\"value\":0.5},\"x\":{\"field\":\"Race\"}},\"id\":\"d1737951-f84e-4e95-8000-467960feb175\",\"type\":\"VBar\"},{\"attributes\":{\"bottom\":{\"expr\":{\"id\":\"b8250e3d-1dd9-4216-9d3c-8b643c448baf\",\"type\":\"Stack\"}},\"fill_color\":{\"value\":\"#fc8d59\"},\"line_color\":{\"value\":\"#fc8d59\"},\"top\":{\"expr\":{\"id\":\"1c107514-9f44-4569-a2d6-30af7531221c\",\"type\":\"Stack\"}},\"width\":{\"value\":0.5},\"x\":{\"field\":\"Race\"}},\"id\":\"4a686181-c8be-474b-9cf2-6e280a7e8093\",\"type\":\"VBar\"},{\"attributes\":{\"label\":{\"value\":\"Fatal\"},\"renderers\":[{\"id\":\"5f9ef9ca-a94e-4e8e-9733-abd8921f9544\",\"type\":\"GlyphRenderer\"}]},\"id\":\"47b64c46-8335-4fe1-bb65-8d0abb210c2e\",\"type\":\"LegendItem\"},{\"attributes\":{\"data_source\":{\"id\":\"74c0b842-206c-4da3-8436-ff598378bcc5\",\"type\":\"ColumnDataSource\"},\"glyph\":{\"id\":\"d45641ac-aab3-4395-b0a6-3ca552146e3b\",\"type\":\"VBar\"},\"hover_glyph\":null,\"muted_glyph\":null,\"nonselection_glyph\":{\"id\":\"c23b3585-e519-43dd-bf37-b5db5fabeee9\",\"type\":\"VBar\"},\"selection_glyph\":null,\"view\":{\"id\":\"a82cd289-5796-4472-a713-e09c8961da64\",\"type\":\"CDSView\"}},\"id\":\"ff1727d1-cd14-46dd-b0d1-6ccbb006634b\",\"type\":\"GlyphRenderer\"},{\"attributes\":{\"source\":{\"id\":\"74c0b842-206c-4da3-8436-ff598378bcc5\",\"type\":\"ColumnDataSource\"}},\"id\":\"a82cd289-5796-4472-a713-e09c8961da64\",\"type\":\"CDSView\"},{\"attributes\":{},\"id\":\"79cbe48a-a682-4ab4-a8d4-d7c65cfdd94e\",\"type\":\"BasicTicker\"},{\"attributes\":{\"dimension\":1,\"plot\":{\"id\":\"f9e368f0-4489-4087-ae7b-ca6da847b785\",\"subtype\":\"Figure\",\"type\":\"Plot\"},\"ticker\":{\"id\":\"79cbe48a-a682-4ab4-a8d4-d7c65cfdd94e\",\"type\":\"BasicTicker\"}},\"id\":\"052fcf30-2354-4179-a56a-458f8b8e1aa5\",\"type\":\"Grid\"},{\"attributes\":{\"bottom\":{\"expr\":{\"id\":\"a10e047b-e9a8-4585-ad16-8e8bf3c7034d\",\"type\":\"Stack\"}},\"fill_color\":{\"value\":\"#ffffbf\"},\"line_color\":{\"value\":\"#ffffbf\"},\"top\":{\"expr\":{\"id\":\"8465f641-de29-4c48-891f-a783bfdfdfe1\",\"type\":\"Stack\"}},\"width\":{\"value\":0.5},\"x\":{\"field\":\"Race\"}},\"id\":\"16faff7c-c989-47c8-9298-eda7007029a1\",\"type\":\"VBar\"},{\"attributes\":{\"fields\":[]},\"id\":\"2373f79f-6947-42c4-ac92-a5cff99d7e6f\",\"type\":\"Stack\"},{\"attributes\":{\"children\":[{\"id\":\"6516d290-ee57-42b1-b043-cc7102614aa0\",\"subtype\":\"Figure\",\"type\":\"Plot\"},{\"id\":\"f9e368f0-4489-4087-ae7b-ca6da847b785\",\"subtype\":\"Figure\",\"type\":\"Plot\"}]},\"id\":\"ec5c1da2-35cf-43b5-8e60-1eece53da0a3\",\"type\":\"Row\"},{\"attributes\":{\"label\":{\"value\":\"Not Fatal\"},\"renderers\":[{\"id\":\"935e089d-c06a-45e9-b30d-f2da13470e4f\",\"type\":\"GlyphRenderer\"}]},\"id\":\"d7dcd3e1-9d43-413b-829c-98e7abfe86f0\",\"type\":\"LegendItem\"},{\"attributes\":{\"fields\":[\"Fatal\"]},\"id\":\"32b5ec39-7e3e-46f2-864c-6331bbb76f93\",\"type\":\"Stack\"},{\"attributes\":{\"bottom\":{\"expr\":{\"id\":\"a10e047b-e9a8-4585-ad16-8e8bf3c7034d\",\"type\":\"Stack\"}},\"fill_alpha\":{\"value\":0.1},\"fill_color\":{\"value\":\"#1f77b4\"},\"line_alpha\":{\"value\":0.1},\"line_color\":{\"value\":\"#1f77b4\"},\"top\":{\"expr\":{\"id\":\"8465f641-de29-4c48-891f-a783bfdfdfe1\",\"type\":\"Stack\"}},\"width\":{\"value\":0.5},\"x\":{\"field\":\"Race\"}},\"id\":\"61eada9d-4ebf-47c1-bc37-d27a128a5a02\",\"type\":\"VBar\"},{\"attributes\":{\"fields\":[\"Fatal\"]},\"id\":\"ef68ea0d-bfbb-4c0e-b2c9-89cd74df7e66\",\"type\":\"Stack\"},{\"attributes\":{\"fields\":[\"Fatal\",\"Not Fatal\"]},\"id\":\"3e9eb1f5-5cdd-478b-a2f5-b6fe626daa46\",\"type\":\"Stack\"},{\"attributes\":{\"fields\":[\"Fatal\",\"Not Fatal\"]},\"id\":\"28f38303-1c5f-48b8-9c15-c9bcf5091ca5\",\"type\":\"Stack\"},{\"attributes\":{\"data_source\":{\"id\":\"74c0b842-206c-4da3-8436-ff598378bcc5\",\"type\":\"ColumnDataSource\"},\"glyph\":{\"id\":\"16faff7c-c989-47c8-9298-eda7007029a1\",\"type\":\"VBar\"},\"hover_glyph\":null,\"muted_glyph\":null,\"nonselection_glyph\":{\"id\":\"61eada9d-4ebf-47c1-bc37-d27a128a5a02\",\"type\":\"VBar\"},\"selection_glyph\":null,\"view\":{\"id\":\"b2fa16ba-2532-4a48-beda-9948115c27a6\",\"type\":\"CDSView\"}},\"id\":\"935e089d-c06a-45e9-b30d-f2da13470e4f\",\"type\":\"GlyphRenderer\"},{\"attributes\":{\"fields\":[\"Fatal\",\"Not Fatal\",\"Unknown\"]},\"id\":\"ca4babd9-f056-47a9-96fa-e654650e3123\",\"type\":\"Stack\"},{\"attributes\":{\"source\":{\"id\":\"74c0b842-206c-4da3-8436-ff598378bcc5\",\"type\":\"ColumnDataSource\"}},\"id\":\"b2fa16ba-2532-4a48-beda-9948115c27a6\",\"type\":\"CDSView\"},{\"attributes\":{},\"id\":\"db3beba9-c4ae-4c73-867c-873a175cab64\",\"type\":\"CategoricalTickFormatter\"},{\"attributes\":{},\"id\":\"c21c2bd8-fcd5-4df3-a6dc-448c6cc3964c\",\"type\":\"BasicTickFormatter\"},{\"attributes\":{\"bottom\":{\"expr\":{\"id\":\"b8250e3d-1dd9-4216-9d3c-8b643c448baf\",\"type\":\"Stack\"}},\"fill_alpha\":{\"value\":0.1},\"fill_color\":{\"value\":\"#1f77b4\"},\"line_alpha\":{\"value\":0.1},\"line_color\":{\"value\":\"#1f77b4\"},\"top\":{\"expr\":{\"id\":\"1c107514-9f44-4569-a2d6-30af7531221c\",\"type\":\"Stack\"}},\"width\":{\"value\":0.5},\"x\":{\"field\":\"Race\"}},\"id\":\"bd19f816-21a7-4831-b0ce-392d5e5cfef3\",\"type\":\"VBar\"},{\"attributes\":{\"items\":[{\"id\":\"47b64c46-8335-4fe1-bb65-8d0abb210c2e\",\"type\":\"LegendItem\"},{\"id\":\"5c3b0db5-eac8-42c5-a185-97655f3dc5e7\",\"type\":\"LegendItem\"},{\"id\":\"5b0183b1-87d5-440b-81d6-4bccc1ceb29d\",\"type\":\"LegendItem\"}],\"plot\":{\"id\":\"f9e368f0-4489-4087-ae7b-ca6da847b785\",\"subtype\":\"Figure\",\"type\":\"Plot\"}},\"id\":\"f263f2d4-f077-4c2e-8cca-e72a98355781\",\"type\":\"Legend\"},{\"attributes\":{\"label\":{\"value\":\"Unknown\"},\"renderers\":[{\"id\":\"901eb27a-67ba-426f-ac0c-504d89df9544\",\"type\":\"GlyphRenderer\"}]},\"id\":\"55048285-cb2c-4952-8b02-67eebfcc0a83\",\"type\":\"LegendItem\"},{\"attributes\":{\"source\":{\"id\":\"9918fe6a-d28d-4f2c-ae1d-1789cc4ca57e\",\"type\":\"ColumnDataSource\"}},\"id\":\"53d57d05-b2b4-4746-8716-3cc73b3a38db\",\"type\":\"CDSView\"},{\"attributes\":{\"data_source\":{\"id\":\"74c0b842-206c-4da3-8436-ff598378bcc5\",\"type\":\"ColumnDataSource\"},\"glyph\":{\"id\":\"4a686181-c8be-474b-9cf2-6e280a7e8093\",\"type\":\"VBar\"},\"hover_glyph\":null,\"muted_glyph\":null,\"nonselection_glyph\":{\"id\":\"bd19f816-21a7-4831-b0ce-392d5e5cfef3\",\"type\":\"VBar\"},\"selection_glyph\":null,\"view\":{\"id\":\"de5f7970-5df4-46c9-ab2d-9791e83c631e\",\"type\":\"CDSView\"}},\"id\":\"901eb27a-67ba-426f-ac0c-504d89df9544\",\"type\":\"GlyphRenderer\"},{\"attributes\":{\"bottom\":{\"expr\":{\"id\":\"ef68ea0d-bfbb-4c0e-b2c9-89cd74df7e66\",\"type\":\"Stack\"}},\"fill_color\":{\"value\":\"#ffffbf\"},\"line_color\":{\"value\":\"#ffffbf\"},\"top\":{\"expr\":{\"id\":\"3e9eb1f5-5cdd-478b-a2f5-b6fe626daa46\",\"type\":\"Stack\"}},\"width\":{\"value\":0.5},\"x\":{\"field\":\"Race\"}},\"id\":\"9223d696-eda3-425e-80aa-8ccb4e296614\",\"type\":\"VBar\"},{\"attributes\":{\"source\":{\"id\":\"74c0b842-206c-4da3-8436-ff598378bcc5\",\"type\":\"ColumnDataSource\"}},\"id\":\"de5f7970-5df4-46c9-ab2d-9791e83c631e\",\"type\":\"CDSView\"},{\"attributes\":{\"dimension\":1,\"plot\":{\"id\":\"6516d290-ee57-42b1-b043-cc7102614aa0\",\"subtype\":\"Figure\",\"type\":\"Plot\"},\"ticker\":{\"id\":\"d2abfd9b-63a0-43fd-855d-69a16d8117a1\",\"type\":\"BasicTicker\"}},\"id\":\"480a984d-5da2-429c-9184-7f7426a088f2\",\"type\":\"Grid\"},{\"attributes\":{\"bottom\":{\"expr\":{\"id\":\"2373f79f-6947-42c4-ac92-a5cff99d7e6f\",\"type\":\"Stack\"}},\"fill_color\":{\"value\":\"#99d594\"},\"line_color\":{\"value\":\"#99d594\"},\"top\":{\"expr\":{\"id\":\"32b5ec39-7e3e-46f2-864c-6331bbb76f93\",\"type\":\"Stack\"}},\"width\":{\"value\":0.5},\"x\":{\"field\":\"Race\"}},\"id\":\"c935af15-9827-464f-99e5-f577dccf5a05\",\"type\":\"VBar\"},{\"attributes\":{\"bottom\":{\"expr\":{\"id\":\"ef68ea0d-bfbb-4c0e-b2c9-89cd74df7e66\",\"type\":\"Stack\"}},\"fill_alpha\":{\"value\":0.1},\"fill_color\":{\"value\":\"#1f77b4\"},\"line_alpha\":{\"value\":0.1},\"line_color\":{\"value\":\"#1f77b4\"},\"top\":{\"expr\":{\"id\":\"3e9eb1f5-5cdd-478b-a2f5-b6fe626daa46\",\"type\":\"Stack\"}},\"width\":{\"value\":0.5},\"x\":{\"field\":\"Race\"}},\"id\":\"0b1583d9-deaf-4426-bd17-31b119543621\",\"type\":\"VBar\"},{\"attributes\":{\"label\":{\"value\":\"Not Fatal\"},\"renderers\":[{\"id\":\"bf20e01f-fd0b-4894-a1ec-2d3acf4baf53\",\"type\":\"GlyphRenderer\"}]},\"id\":\"5c3b0db5-eac8-42c5-a185-97655f3dc5e7\",\"type\":\"LegendItem\"},{\"attributes\":{\"bottom\":{\"expr\":{\"id\":\"28f38303-1c5f-48b8-9c15-c9bcf5091ca5\",\"type\":\"Stack\"}},\"fill_color\":{\"value\":\"#fc8d59\"},\"line_color\":{\"value\":\"#fc8d59\"},\"top\":{\"expr\":{\"id\":\"ca4babd9-f056-47a9-96fa-e654650e3123\",\"type\":\"Stack\"}},\"width\":{\"value\":0.5},\"x\":{\"field\":\"Race\"}},\"id\":\"22036e38-c744-43a2-b203-65863b4a08dc\",\"type\":\"VBar\"},{\"attributes\":{\"data_source\":{\"id\":\"9918fe6a-d28d-4f2c-ae1d-1789cc4ca57e\",\"type\":\"ColumnDataSource\"},\"glyph\":{\"id\":\"9223d696-eda3-425e-80aa-8ccb4e296614\",\"type\":\"VBar\"},\"hover_glyph\":null,\"muted_glyph\":null,\"nonselection_glyph\":{\"id\":\"0b1583d9-deaf-4426-bd17-31b119543621\",\"type\":\"VBar\"},\"selection_glyph\":null,\"view\":{\"id\":\"0f916062-dce2-4ee9-ae1a-a0f39cb1dfde\",\"type\":\"CDSView\"}},\"id\":\"bf20e01f-fd0b-4894-a1ec-2d3acf4baf53\",\"type\":\"GlyphRenderer\"},{\"attributes\":{\"source\":{\"id\":\"9918fe6a-d28d-4f2c-ae1d-1789cc4ca57e\",\"type\":\"ColumnDataSource\"}},\"id\":\"0f916062-dce2-4ee9-ae1a-a0f39cb1dfde\",\"type\":\"CDSView\"},{\"attributes\":{\"bottom\":{\"expr\":{\"id\":\"28f38303-1c5f-48b8-9c15-c9bcf5091ca5\",\"type\":\"Stack\"}},\"fill_alpha\":{\"value\":0.1},\"fill_color\":{\"value\":\"#1f77b4\"},\"line_alpha\":{\"value\":0.1},\"line_color\":{\"value\":\"#1f77b4\"},\"top\":{\"expr\":{\"id\":\"ca4babd9-f056-47a9-96fa-e654650e3123\",\"type\":\"Stack\"}},\"width\":{\"value\":0.5},\"x\":{\"field\":\"Race\"}},\"id\":\"902cd8b9-bf14-409d-b573-39019a791620\",\"type\":\"VBar\"},{\"attributes\":{\"label\":{\"value\":\"Unknown\"},\"renderers\":[{\"id\":\"e9a67e4e-0458-4f16-bd6b-c29922ced194\",\"type\":\"GlyphRenderer\"}]},\"id\":\"5b0183b1-87d5-440b-81d6-4bccc1ceb29d\",\"type\":\"LegendItem\"},{\"attributes\":{\"data_source\":{\"id\":\"9918fe6a-d28d-4f2c-ae1d-1789cc4ca57e\",\"type\":\"ColumnDataSource\"},\"glyph\":{\"id\":\"22036e38-c744-43a2-b203-65863b4a08dc\",\"type\":\"VBar\"},\"hover_glyph\":null,\"muted_glyph\":null,\"nonselection_glyph\":{\"id\":\"902cd8b9-bf14-409d-b573-39019a791620\",\"type\":\"VBar\"},\"selection_glyph\":null,\"view\":{\"id\":\"ccc4c625-15fe-4bc8-ad48-a40c27ed09fb\",\"type\":\"CDSView\"}},\"id\":\"e9a67e4e-0458-4f16-bd6b-c29922ced194\",\"type\":\"GlyphRenderer\"},{\"attributes\":{\"source\":{\"id\":\"9918fe6a-d28d-4f2c-ae1d-1789cc4ca57e\",\"type\":\"ColumnDataSource\"}},\"id\":\"ccc4c625-15fe-4bc8-ad48-a40c27ed09fb\",\"type\":\"CDSView\"},{\"attributes\":{\"children\":[{\"id\":\"ec5c1da2-35cf-43b5-8e60-1eece53da0a3\",\"type\":\"Row\"}]},\"id\":\"cdd275aa-1857-4125-9a5a-d12977055855\",\"type\":\"Column\"}],\"root_ids\":[\"3d8d1257-2693-4d59-9d15-fcd61a33d95e\"]},\"title\":\"Bokeh Application\",\"version\":\"0.12.13\"}};\n",
       "  var render_items = [{\"docid\":\"ef42623e-4db4-4bd7-b716-7f0e8229001d\",\"elementid\":\"fe0c6cdb-0635-4d97-b5d6-b009bb9dd1ca\",\"modelid\":\"3d8d1257-2693-4d59-9d15-fcd61a33d95e\"}];\n",
       "  root.Bokeh.embed.embed_items_notebook(docs_json, render_items);\n",
       "\n",
       "  }\n",
       "  if (root.Bokeh !== undefined) {\n",
       "    embed_document(root);\n",
       "  } else {\n",
       "    var attempts = 0;\n",
       "    var timer = setInterval(function(root) {\n",
       "      if (root.Bokeh !== undefined) {\n",
       "        embed_document(root);\n",
       "        clearInterval(timer);\n",
       "      }\n",
       "      attempts++;\n",
       "      if (attempts > 100) {\n",
       "        console.log(\"Bokeh: ERROR: Unable to run BokehJS code because BokehJS library is missing\")\n",
       "        clearInterval(timer);\n",
       "      }\n",
       "    }, 10, root)\n",
       "  }\n",
       "})(window);"
      ],
      "application/vnd.bokehjs_exec.v0+json": ""
     },
     "metadata": {
      "application/vnd.bokehjs_exec.v0+json": {
       "id": "3d8d1257-2693-4d59-9d15-fcd61a33d95e"
      }
     },
     "output_type": "display_data"
    }
   ],
   "source": [
    "#combine above bar graphs into one\n",
    "\n",
    "from bokeh.layouts import gridplot\n",
    "from bokeh.palettes import Viridis3\n",
    "\n",
    "# make a grid\n",
    "grid = gridplot([b, c], ncols=2, plot_width=300, plot_height=400)\n",
    "\n",
    "# show the results\n",
    "show(grid)"
   ]
  },
  {
   "cell_type": "markdown",
   "metadata": {},
   "source": [
    "## More white people were killed in both armed and unarmed shootings, despite the fact that Black and Latino people were involved in more total shootings\n",
    "\n",
    "## It's unclear why this is, but it is possible that white subjects were more likely to be engaging in more violent/serious crimes"
   ]
  },
  {
   "cell_type": "code",
   "execution_count": 38,
   "metadata": {},
   "outputs": [
    {
     "data": {
      "text/plain": [
       "B    264\n",
       "L    173\n",
       "W    146\n",
       "U     47\n",
       "A      6\n",
       "Name: SubjectRace, dtype: int64"
      ]
     },
     "execution_count": 38,
     "metadata": {},
     "output_type": "execute_result"
    }
   ],
   "source": [
    "shoot.SubjectRace.value_counts()"
   ]
  },
  {
   "cell_type": "code",
   "execution_count": 39,
   "metadata": {
    "scrolled": true
   },
   "outputs": [
    {
     "data": {
      "text/plain": [
       "False    167\n",
       "True       1\n",
       "Name: NatureOfStop, dtype: int64"
      ]
     },
     "execution_count": 39,
     "metadata": {},
     "output_type": "execute_result"
    }
   ],
   "source": [
    "#Houston PD had no entried for \"NatureOfStop\" so it is removed from exploration on the Nature of the Stops\n",
    "armed[armed.city != 'Houston'].NatureOfStop.isnull().value_counts()"
   ]
  },
  {
   "cell_type": "code",
   "execution_count": 40,
   "metadata": {},
   "outputs": [
    {
     "data": {
      "text/html": [
       "<div>\n",
       "<style scoped>\n",
       "    .dataframe tbody tr th:only-of-type {\n",
       "        vertical-align: middle;\n",
       "    }\n",
       "\n",
       "    .dataframe tbody tr th {\n",
       "        vertical-align: top;\n",
       "    }\n",
       "\n",
       "    .dataframe thead th {\n",
       "        text-align: right;\n",
       "    }\n",
       "</style>\n",
       "<table border=\"1\" class=\"dataframe\">\n",
       "  <thead>\n",
       "    <tr style=\"text-align: right;\">\n",
       "      <th>Fatality</th>\n",
       "      <th>Fatal</th>\n",
       "      <th>Not Fatal</th>\n",
       "    </tr>\n",
       "    <tr>\n",
       "      <th>SubjectRace</th>\n",
       "      <th></th>\n",
       "      <th></th>\n",
       "    </tr>\n",
       "  </thead>\n",
       "  <tbody>\n",
       "    <tr>\n",
       "      <th>Asian</th>\n",
       "      <td>1</td>\n",
       "      <td>1</td>\n",
       "    </tr>\n",
       "    <tr>\n",
       "      <th>Black</th>\n",
       "      <td>19</td>\n",
       "      <td>29</td>\n",
       "    </tr>\n",
       "    <tr>\n",
       "      <th>Latino</th>\n",
       "      <td>21</td>\n",
       "      <td>26</td>\n",
       "    </tr>\n",
       "    <tr>\n",
       "      <th>Unknown</th>\n",
       "      <td>2</td>\n",
       "      <td>3</td>\n",
       "    </tr>\n",
       "    <tr>\n",
       "      <th>White</th>\n",
       "      <td>39</td>\n",
       "      <td>26</td>\n",
       "    </tr>\n",
       "  </tbody>\n",
       "</table>\n",
       "</div>"
      ],
      "text/plain": [
       "Fatality     Fatal  Not Fatal\n",
       "SubjectRace                  \n",
       "Asian            1          1\n",
       "Black           19         29\n",
       "Latino          21         26\n",
       "Unknown          2          3\n",
       "White           39         26"
      ]
     },
     "execution_count": 40,
     "metadata": {},
     "output_type": "execute_result"
    }
   ],
   "source": [
    "#create df without Houston PD, of Armed shootings broken down by Race and Fatality\n",
    "nohou = armed[armed.city != 'Houston']\n",
    "nohou = nohou.groupby('SubjectRace').Fatality.value_counts().unstack().fillna(0).astype(int)\n",
    "nohou = nohou.rename(columns = {'F':'Fatal', 'N':'Not Fatal'})\n",
    "nohou"
   ]
  },
  {
   "cell_type": "code",
   "execution_count": 41,
   "metadata": {
    "scrolled": true
   },
   "outputs": [
    {
     "data": {
      "text/html": [
       "\n",
       "<div class=\"bk-root\">\n",
       "    <div class=\"bk-plotdiv\" id=\"37fd5b95-df12-4151-a003-577bf7035b0d\"></div>\n",
       "</div>"
      ]
     },
     "metadata": {},
     "output_type": "display_data"
    },
    {
     "data": {
      "application/javascript": [
       "(function(root) {\n",
       "  function embed_document(root) {\n",
       "    \n",
       "  var docs_json = {\"14dc16c1-771d-437d-bb7a-30e397c599b6\":{\"roots\":{\"references\":[{\"attributes\":{\"fields\":[\"Fatal\"]},\"id\":\"bc12892a-0b02-4fa2-8b98-4013a697549b\",\"type\":\"Stack\"},{\"attributes\":{\"fields\":[\"Fatal\"]},\"id\":\"4c419e4a-729a-4fee-bf13-eecf5663148f\",\"type\":\"Stack\"},{\"attributes\":{\"data_source\":{\"id\":\"8258a8a3-de04-4aec-9faf-5cd6529bd1af\",\"type\":\"ColumnDataSource\"},\"glyph\":{\"id\":\"9a62503c-079c-4b00-830a-839426ed7caf\",\"type\":\"HBar\"},\"hover_glyph\":null,\"muted_glyph\":null,\"nonselection_glyph\":{\"id\":\"231940e1-1318-4c1e-befe-6ac9e76d659b\",\"type\":\"HBar\"},\"selection_glyph\":null,\"view\":{\"id\":\"e524bb40-c4ff-46b0-8163-076921681627\",\"type\":\"CDSView\"}},\"id\":\"81e4ec4e-4c97-42d7-86ea-237291e38bad\",\"type\":\"GlyphRenderer\"},{\"attributes\":{\"fields\":[\"Fatal\",\"Not Fatal\"]},\"id\":\"5fb06477-2ccc-4d2c-ba3a-622566966b8f\",\"type\":\"Stack\"},{\"attributes\":{\"source\":{\"id\":\"8258a8a3-de04-4aec-9faf-5cd6529bd1af\",\"type\":\"ColumnDataSource\"}},\"id\":\"e524bb40-c4ff-46b0-8163-076921681627\",\"type\":\"CDSView\"},{\"attributes\":{\"plot\":null,\"text\":\"Race and Fatality of Armed Subjects (Austin, San Antonio, Dallas)\"},\"id\":\"b190829a-eea3-43e5-8272-ca06f3951b92\",\"type\":\"Title\"},{\"attributes\":{\"fill_color\":{\"value\":\"red\"},\"height\":{\"value\":0.5},\"left\":{\"expr\":{\"id\":\"6186c26c-54bb-4083-971b-d9a7394ed164\",\"type\":\"Stack\"}},\"line_color\":{\"value\":\"red\"},\"right\":{\"expr\":{\"id\":\"bc12892a-0b02-4fa2-8b98-4013a697549b\",\"type\":\"Stack\"}},\"y\":{\"field\":\"Race\"}},\"id\":\"18bdfdeb-3261-45de-822d-89a77924c346\",\"type\":\"HBar\"},{\"attributes\":{\"callback\":null,\"end\":200,\"start\":0},\"id\":\"fa1cbb32-6d4d-40ed-b580-a74fc5a38045\",\"type\":\"DataRange1d\"},{\"attributes\":{\"fill_alpha\":{\"value\":0.1},\"fill_color\":{\"value\":\"#1f77b4\"},\"height\":{\"value\":0.5},\"left\":{\"expr\":{\"id\":\"6186c26c-54bb-4083-971b-d9a7394ed164\",\"type\":\"Stack\"}},\"line_alpha\":{\"value\":0.1},\"line_color\":{\"value\":\"#1f77b4\"},\"right\":{\"expr\":{\"id\":\"bc12892a-0b02-4fa2-8b98-4013a697549b\",\"type\":\"Stack\"}},\"y\":{\"field\":\"Race\"}},\"id\":\"08957ae4-df0f-4895-bc08-ba0cbd6997c2\",\"type\":\"HBar\"},{\"attributes\":{\"active_drag\":\"auto\",\"active_inspect\":\"auto\",\"active_scroll\":\"auto\",\"active_tap\":\"auto\"},\"id\":\"124d8f01-6dfa-4502-9d17-794c1fc2cf0c\",\"type\":\"Toolbar\"},{\"attributes\":{},\"id\":\"636a66ae-0463-42bb-963d-3e143a6ade53\",\"type\":\"BasicTickFormatter\"},{\"attributes\":{\"fields\":[]},\"id\":\"6186c26c-54bb-4083-971b-d9a7394ed164\",\"type\":\"Stack\"},{\"attributes\":{},\"id\":\"ad537317-ab95-44ea-8dbb-7b4f407c51c2\",\"type\":\"LinearScale\"},{\"attributes\":{\"callback\":null,\"factors\":[\"Asian\",\"Black\",\"Latino\",\"Unknown\",\"White\"],\"range_padding\":0.1},\"id\":\"3da6fee5-4e37-405b-b039-0bfb8da16d56\",\"type\":\"FactorRange\"},{\"attributes\":{},\"id\":\"d79a37dc-4002-4d9d-b42c-eb2a8eeea5d0\",\"type\":\"CategoricalTickFormatter\"},{\"attributes\":{},\"id\":\"5729b79a-d423-452f-b924-888a49e85006\",\"type\":\"CategoricalScale\"},{\"attributes\":{\"label\":{\"value\":\"Fatal\"},\"renderers\":[{\"id\":\"d7a73daf-5951-4d17-9866-83a6d23642a0\",\"type\":\"GlyphRenderer\"}]},\"id\":\"ef79f0f9-455e-4cdb-a152-33e759a3abf1\",\"type\":\"LegendItem\"},{\"attributes\":{\"grid_line_color\":{\"value\":null},\"plot\":{\"id\":\"9b4f1586-02e1-4008-8f16-86112503fa74\",\"subtype\":\"Figure\",\"type\":\"Plot\"},\"ticker\":{\"id\":\"7f2c2adc-e6a2-488c-bd20-2e76a1436ee5\",\"type\":\"BasicTicker\"}},\"id\":\"18137957-b6f8-4c4c-a657-0d89bafcb59d\",\"type\":\"Grid\"},{\"attributes\":{\"data_source\":{\"id\":\"8258a8a3-de04-4aec-9faf-5cd6529bd1af\",\"type\":\"ColumnDataSource\"},\"glyph\":{\"id\":\"18bdfdeb-3261-45de-822d-89a77924c346\",\"type\":\"HBar\"},\"hover_glyph\":null,\"muted_glyph\":null,\"nonselection_glyph\":{\"id\":\"08957ae4-df0f-4895-bc08-ba0cbd6997c2\",\"type\":\"HBar\"},\"selection_glyph\":null,\"view\":{\"id\":\"0d08c7de-26ed-45dc-8df8-34362a713846\",\"type\":\"CDSView\"}},\"id\":\"d7a73daf-5951-4d17-9866-83a6d23642a0\",\"type\":\"GlyphRenderer\"},{\"attributes\":{\"axis_label\":\"Number of Incidents\",\"formatter\":{\"id\":\"636a66ae-0463-42bb-963d-3e143a6ade53\",\"type\":\"BasicTickFormatter\"},\"minor_tick_line_color\":{\"value\":null},\"plot\":{\"id\":\"9b4f1586-02e1-4008-8f16-86112503fa74\",\"subtype\":\"Figure\",\"type\":\"Plot\"},\"ticker\":{\"id\":\"7f2c2adc-e6a2-488c-bd20-2e76a1436ee5\",\"type\":\"BasicTicker\"}},\"id\":\"537a40af-5fbf-4ba3-ab1f-dd7cdf5fc27d\",\"type\":\"LinearAxis\"},{\"attributes\":{\"callback\":null,\"column_names\":[\"Race\",\"Fatal\",\"Not Fatal\"],\"data\":{\"Fatal\":{\"__ndarray__\":\"AQAAABMAAAAVAAAAAgAAACcAAAA=\",\"dtype\":\"int32\",\"shape\":[5]},\"Not Fatal\":{\"__ndarray__\":\"AQAAAB0AAAAaAAAAAwAAABoAAAA=\",\"dtype\":\"int32\",\"shape\":[5]},\"Race\":[\"Asian\",\"Black\",\"Latino\",\"Unknown\",\"White\"]}},\"id\":\"8258a8a3-de04-4aec-9faf-5cd6529bd1af\",\"type\":\"ColumnDataSource\"},{\"attributes\":{\"source\":{\"id\":\"8258a8a3-de04-4aec-9faf-5cd6529bd1af\",\"type\":\"ColumnDataSource\"}},\"id\":\"0d08c7de-26ed-45dc-8df8-34362a713846\",\"type\":\"CDSView\"},{\"attributes\":{},\"id\":\"7f2c2adc-e6a2-488c-bd20-2e76a1436ee5\",\"type\":\"BasicTicker\"},{\"attributes\":{\"formatter\":{\"id\":\"d79a37dc-4002-4d9d-b42c-eb2a8eeea5d0\",\"type\":\"CategoricalTickFormatter\"},\"minor_tick_line_color\":{\"value\":null},\"plot\":{\"id\":\"9b4f1586-02e1-4008-8f16-86112503fa74\",\"subtype\":\"Figure\",\"type\":\"Plot\"},\"ticker\":{\"id\":\"33a19782-4840-49bc-a5e1-d11e56914368\",\"type\":\"CategoricalTicker\"}},\"id\":\"25d73579-0247-4f89-a0cb-085bf9b626cd\",\"type\":\"CategoricalAxis\"},{\"attributes\":{\"fill_color\":{\"value\":\"blue\"},\"height\":{\"value\":0.5},\"left\":{\"expr\":{\"id\":\"4c419e4a-729a-4fee-bf13-eecf5663148f\",\"type\":\"Stack\"}},\"line_color\":{\"value\":\"blue\"},\"right\":{\"expr\":{\"id\":\"5fb06477-2ccc-4d2c-ba3a-622566966b8f\",\"type\":\"Stack\"}},\"y\":{\"field\":\"Race\"}},\"id\":\"9a62503c-079c-4b00-830a-839426ed7caf\",\"type\":\"HBar\"},{\"attributes\":{},\"id\":\"33a19782-4840-49bc-a5e1-d11e56914368\",\"type\":\"CategoricalTicker\"},{\"attributes\":{\"below\":[{\"id\":\"537a40af-5fbf-4ba3-ab1f-dd7cdf5fc27d\",\"type\":\"LinearAxis\"}],\"left\":[{\"id\":\"25d73579-0247-4f89-a0cb-085bf9b626cd\",\"type\":\"CategoricalAxis\"}],\"outline_line_color\":{\"value\":null},\"plot_height\":300,\"plot_width\":900,\"renderers\":[{\"id\":\"537a40af-5fbf-4ba3-ab1f-dd7cdf5fc27d\",\"type\":\"LinearAxis\"},{\"id\":\"18137957-b6f8-4c4c-a657-0d89bafcb59d\",\"type\":\"Grid\"},{\"id\":\"25d73579-0247-4f89-a0cb-085bf9b626cd\",\"type\":\"CategoricalAxis\"},{\"id\":\"6adb5c72-9e48-4ddd-9975-af15844be675\",\"type\":\"Grid\"},{\"id\":\"09788238-e358-485f-8342-4312447ec7ff\",\"type\":\"Legend\"},{\"id\":\"d7a73daf-5951-4d17-9866-83a6d23642a0\",\"type\":\"GlyphRenderer\"},{\"id\":\"81e4ec4e-4c97-42d7-86ea-237291e38bad\",\"type\":\"GlyphRenderer\"}],\"title\":{\"id\":\"b190829a-eea3-43e5-8272-ca06f3951b92\",\"type\":\"Title\"},\"toolbar\":{\"id\":\"124d8f01-6dfa-4502-9d17-794c1fc2cf0c\",\"type\":\"Toolbar\"},\"toolbar_location\":null,\"x_range\":{\"id\":\"fa1cbb32-6d4d-40ed-b580-a74fc5a38045\",\"type\":\"DataRange1d\"},\"x_scale\":{\"id\":\"ad537317-ab95-44ea-8dbb-7b4f407c51c2\",\"type\":\"LinearScale\"},\"y_range\":{\"id\":\"3da6fee5-4e37-405b-b039-0bfb8da16d56\",\"type\":\"FactorRange\"},\"y_scale\":{\"id\":\"5729b79a-d423-452f-b924-888a49e85006\",\"type\":\"CategoricalScale\"}},\"id\":\"9b4f1586-02e1-4008-8f16-86112503fa74\",\"subtype\":\"Figure\",\"type\":\"Plot\"},{\"attributes\":{\"dimension\":1,\"plot\":{\"id\":\"9b4f1586-02e1-4008-8f16-86112503fa74\",\"subtype\":\"Figure\",\"type\":\"Plot\"},\"ticker\":{\"id\":\"33a19782-4840-49bc-a5e1-d11e56914368\",\"type\":\"CategoricalTicker\"}},\"id\":\"6adb5c72-9e48-4ddd-9975-af15844be675\",\"type\":\"Grid\"},{\"attributes\":{\"label\":{\"value\":\"Not Fatal\"},\"renderers\":[{\"id\":\"81e4ec4e-4c97-42d7-86ea-237291e38bad\",\"type\":\"GlyphRenderer\"}]},\"id\":\"93fe6cef-a4e7-4be2-b709-610aa46b4c43\",\"type\":\"LegendItem\"},{\"attributes\":{\"items\":[{\"id\":\"ef79f0f9-455e-4cdb-a152-33e759a3abf1\",\"type\":\"LegendItem\"},{\"id\":\"93fe6cef-a4e7-4be2-b709-610aa46b4c43\",\"type\":\"LegendItem\"}],\"plot\":{\"id\":\"9b4f1586-02e1-4008-8f16-86112503fa74\",\"subtype\":\"Figure\",\"type\":\"Plot\"}},\"id\":\"09788238-e358-485f-8342-4312447ec7ff\",\"type\":\"Legend\"},{\"attributes\":{\"fill_alpha\":{\"value\":0.1},\"fill_color\":{\"value\":\"#1f77b4\"},\"height\":{\"value\":0.5},\"left\":{\"expr\":{\"id\":\"4c419e4a-729a-4fee-bf13-eecf5663148f\",\"type\":\"Stack\"}},\"line_alpha\":{\"value\":0.1},\"line_color\":{\"value\":\"#1f77b4\"},\"right\":{\"expr\":{\"id\":\"5fb06477-2ccc-4d2c-ba3a-622566966b8f\",\"type\":\"Stack\"}},\"y\":{\"field\":\"Race\"}},\"id\":\"231940e1-1318-4c1e-befe-6ac9e76d659b\",\"type\":\"HBar\"}],\"root_ids\":[\"9b4f1586-02e1-4008-8f16-86112503fa74\"]},\"title\":\"Bokeh Application\",\"version\":\"0.12.13\"}};\n",
       "  var render_items = [{\"docid\":\"14dc16c1-771d-437d-bb7a-30e397c599b6\",\"elementid\":\"37fd5b95-df12-4151-a003-577bf7035b0d\",\"modelid\":\"9b4f1586-02e1-4008-8f16-86112503fa74\"}];\n",
       "  root.Bokeh.embed.embed_items_notebook(docs_json, render_items);\n",
       "\n",
       "  }\n",
       "  if (root.Bokeh !== undefined) {\n",
       "    embed_document(root);\n",
       "  } else {\n",
       "    var attempts = 0;\n",
       "    var timer = setInterval(function(root) {\n",
       "      if (root.Bokeh !== undefined) {\n",
       "        embed_document(root);\n",
       "        clearInterval(timer);\n",
       "      }\n",
       "      attempts++;\n",
       "      if (attempts > 100) {\n",
       "        console.log(\"Bokeh: ERROR: Unable to run BokehJS code because BokehJS library is missing\")\n",
       "        clearInterval(timer);\n",
       "      }\n",
       "    }, 10, root)\n",
       "  }\n",
       "})(window);"
      ],
      "application/vnd.bokehjs_exec.v0+json": ""
     },
     "metadata": {
      "application/vnd.bokehjs_exec.v0+json": {
       "id": "9b4f1586-02e1-4008-8f16-86112503fa74"
      }
     },
     "output_type": "display_data"
    }
   ],
   "source": [
    "#stacked horizontal bar graph of Armed shootings, exclusing Houston PD, broken down by Race and Fatality\n",
    "col = nohou.columns\n",
    "data= {'Race': list(nohou.index), 'Fatal' : nohou['Fatal'].values, 'Not Fatal': nohou['Not Fatal'].values}\n",
    "       \n",
    "source = ColumnDataSource(data=data)\n",
    "\n",
    "h = figure(y_range= data['Race'], plot_height=300,plot_width=900, title=\"Race and Fatality of Armed Subjects (Austin, San Antonio, Dallas)\", x_axis_label='Number of Incidents',\n",
    "           toolbar_location=None, tools=\"\")\n",
    "\n",
    "h.hbar_stack(col, y= 'Race', height=0.5, color=['red','blue'], source=source,\n",
    "             legend=[value(x) for x in col])\n",
    "\n",
    "h.x_range.start = 0\n",
    "h.x_range.end = 200\n",
    "h.y_range.range_padding = 0.1\n",
    "h.xgrid.grid_line_color = None\n",
    "h.axis.minor_tick_line_color = None\n",
    "h.outline_line_color = None\n",
    "h.legend.location = \"top_right\"\n",
    "h.legend.orientation = \"vertical\"\n",
    "\n",
    "show(h)"
   ]
  },
  {
   "cell_type": "markdown",
   "metadata": {},
   "source": [
    "## When Houston is excluded, White subjects become the majority, so it makes sense that White Subjects would have the highest total of fatalities (though it does still appear that  high % of White subjects were killed than other races). Since there is no data on \"Nature of Sto\" for Houston PD, it cannot be examined in relation to Race/Fatality."
   ]
  },
  {
   "cell_type": "code",
   "execution_count": 42,
   "metadata": {
    "scrolled": true
   },
   "outputs": [
    {
     "data": {
      "text/plain": [
       "False    152\n",
       "Name: NatureOfStop, dtype: int64"
      ]
     },
     "execution_count": 42,
     "metadata": {},
     "output_type": "execute_result"
    }
   ],
   "source": [
    "unarmed[unarmed.city != \"Houston\"].NatureOfStop.isnull().value_counts()"
   ]
  },
  {
   "cell_type": "code",
   "execution_count": 43,
   "metadata": {},
   "outputs": [
    {
     "data": {
      "text/html": [
       "<div>\n",
       "<style scoped>\n",
       "    .dataframe tbody tr th:only-of-type {\n",
       "        vertical-align: middle;\n",
       "    }\n",
       "\n",
       "    .dataframe tbody tr th {\n",
       "        vertical-align: top;\n",
       "    }\n",
       "\n",
       "    .dataframe thead th {\n",
       "        text-align: right;\n",
       "    }\n",
       "</style>\n",
       "<table border=\"1\" class=\"dataframe\">\n",
       "  <thead>\n",
       "    <tr style=\"text-align: right;\">\n",
       "      <th>Fatality</th>\n",
       "      <th>Fatal</th>\n",
       "      <th>Not Fatal</th>\n",
       "    </tr>\n",
       "    <tr>\n",
       "      <th>SubjectRace</th>\n",
       "      <th></th>\n",
       "      <th></th>\n",
       "    </tr>\n",
       "  </thead>\n",
       "  <tbody>\n",
       "    <tr>\n",
       "      <th>Black</th>\n",
       "      <td>19</td>\n",
       "      <td>32</td>\n",
       "    </tr>\n",
       "    <tr>\n",
       "      <th>Latino</th>\n",
       "      <td>14</td>\n",
       "      <td>27</td>\n",
       "    </tr>\n",
       "    <tr>\n",
       "      <th>Unknown</th>\n",
       "      <td>0</td>\n",
       "      <td>12</td>\n",
       "    </tr>\n",
       "    <tr>\n",
       "      <th>White</th>\n",
       "      <td>26</td>\n",
       "      <td>20</td>\n",
       "    </tr>\n",
       "  </tbody>\n",
       "</table>\n",
       "</div>"
      ],
      "text/plain": [
       "Fatality     Fatal  Not Fatal\n",
       "SubjectRace                  \n",
       "Black           19         32\n",
       "Latino          14         27\n",
       "Unknown          0         12\n",
       "White           26         20"
      ]
     },
     "execution_count": 43,
     "metadata": {},
     "output_type": "execute_result"
    }
   ],
   "source": [
    "#create df without Houston PD, of Unarmed shootings broken down by Race and Fatality\n",
    "noarmnat = unarmed[unarmed.city != 'Houston']\n",
    "noarmnat = noarmnat.groupby('SubjectRace').Fatality.value_counts().unstack().fillna(0).astype(int)\n",
    "noarmnat = noarmnat.rename(columns = {'F':'Fatal', 'N':'Not Fatal'})\n",
    "noarmnat"
   ]
  },
  {
   "cell_type": "code",
   "execution_count": 44,
   "metadata": {
    "scrolled": true
   },
   "outputs": [
    {
     "data": {
      "text/html": [
       "\n",
       "<div class=\"bk-root\">\n",
       "    <div class=\"bk-plotdiv\" id=\"5eb4b043-6ade-4ddb-81b7-789de52d2b7a\"></div>\n",
       "</div>"
      ]
     },
     "metadata": {},
     "output_type": "display_data"
    },
    {
     "data": {
      "application/javascript": [
       "(function(root) {\n",
       "  function embed_document(root) {\n",
       "    \n",
       "  var docs_json = {\"08078d0b-2c8a-4378-bdf5-a76d340a9116\":{\"roots\":{\"references\":[{\"attributes\":{},\"id\":\"c6fc8e75-f24b-4c7f-94e0-730ac7c11896\",\"type\":\"CategoricalScale\"},{\"attributes\":{\"data_source\":{\"id\":\"82cd2eb0-1c95-4b15-99dc-e8b1d3d78e09\",\"type\":\"ColumnDataSource\"},\"glyph\":{\"id\":\"48cf1f19-fbf3-4142-bc20-4ead26fe6da7\",\"type\":\"HBar\"},\"hover_glyph\":null,\"muted_glyph\":null,\"nonselection_glyph\":{\"id\":\"6ca17b72-98ca-46ed-8e27-3bf8c0fc3882\",\"type\":\"HBar\"},\"selection_glyph\":null,\"view\":{\"id\":\"8890377f-554e-43bc-a99c-e889dd6bc2f5\",\"type\":\"CDSView\"}},\"id\":\"040cf98a-a75c-4de2-9aaf-40496c96843b\",\"type\":\"GlyphRenderer\"},{\"attributes\":{\"fill_color\":{\"value\":\"red\"},\"height\":{\"value\":0.5},\"left\":{\"expr\":{\"id\":\"9ef3624a-91ee-4b85-afff-3a5034b65ef5\",\"type\":\"Stack\"}},\"line_color\":{\"value\":\"red\"},\"right\":{\"expr\":{\"id\":\"af1ce9a6-9a25-4925-842c-01e559fa31e0\",\"type\":\"Stack\"}},\"y\":{\"field\":\"Race\"}},\"id\":\"71997f52-f135-48ea-a533-50e61be2ed27\",\"type\":\"HBar\"},{\"attributes\":{\"fields\":[]},\"id\":\"9ef3624a-91ee-4b85-afff-3a5034b65ef5\",\"type\":\"Stack\"},{\"attributes\":{\"source\":{\"id\":\"82cd2eb0-1c95-4b15-99dc-e8b1d3d78e09\",\"type\":\"ColumnDataSource\"}},\"id\":\"8890377f-554e-43bc-a99c-e889dd6bc2f5\",\"type\":\"CDSView\"},{\"attributes\":{\"callback\":null,\"end\":200,\"start\":0},\"id\":\"c7beee59-6249-42c7-acc0-c06122ad61ba\",\"type\":\"DataRange1d\"},{\"attributes\":{\"fill_alpha\":{\"value\":0.1},\"fill_color\":{\"value\":\"#1f77b4\"},\"height\":{\"value\":0.5},\"left\":{\"expr\":{\"id\":\"9ef3624a-91ee-4b85-afff-3a5034b65ef5\",\"type\":\"Stack\"}},\"line_alpha\":{\"value\":0.1},\"line_color\":{\"value\":\"#1f77b4\"},\"right\":{\"expr\":{\"id\":\"af1ce9a6-9a25-4925-842c-01e559fa31e0\",\"type\":\"Stack\"}},\"y\":{\"field\":\"Race\"}},\"id\":\"5193dd92-a6fc-45eb-8cba-ce42c41c8226\",\"type\":\"HBar\"},{\"attributes\":{\"active_drag\":\"auto\",\"active_inspect\":\"auto\",\"active_scroll\":\"auto\",\"active_tap\":\"auto\"},\"id\":\"43bb6fae-745b-41fe-943d-f04e440a2339\",\"type\":\"Toolbar\"},{\"attributes\":{},\"id\":\"3c0c12c1-4599-47ef-b1f3-a9f926da6c9c\",\"type\":\"BasicTicker\"},{\"attributes\":{\"label\":{\"value\":\"Fatal\"},\"renderers\":[{\"id\":\"d939a840-27cf-4c98-a63e-bd356f593f2d\",\"type\":\"GlyphRenderer\"}]},\"id\":\"b26a1d94-ece4-4f87-9be5-636102447c07\",\"type\":\"LegendItem\"},{\"attributes\":{\"callback\":null,\"factors\":[\"Black\",\"Latino\",\"Unknown\",\"White\"],\"range_padding\":0.1},\"id\":\"338bd51d-92b5-4d96-8ac3-6e2f900ca2ff\",\"type\":\"FactorRange\"},{\"attributes\":{},\"id\":\"35d1d30c-0a77-4293-9033-299e332185d4\",\"type\":\"CategoricalTickFormatter\"},{\"attributes\":{\"plot\":null,\"text\":\"Race and Fatality of Armed Subjects (Austin, San Antonio, Dallas)\"},\"id\":\"d5f750bd-eb9c-4bff-bfa9-b1d4448b6861\",\"type\":\"Title\"},{\"attributes\":{\"items\":[{\"id\":\"b26a1d94-ece4-4f87-9be5-636102447c07\",\"type\":\"LegendItem\"},{\"id\":\"7a813684-d818-4d8a-b786-37ff2348d59d\",\"type\":\"LegendItem\"}],\"plot\":{\"id\":\"0790feaa-bf1c-4dab-a898-a340f228c786\",\"subtype\":\"Figure\",\"type\":\"Plot\"}},\"id\":\"2aaa1493-ea6f-4824-81bb-88142b3c4ded\",\"type\":\"Legend\"},{\"attributes\":{},\"id\":\"f763af45-0ed5-493e-9df8-ce95222bb398\",\"type\":\"CategoricalTicker\"},{\"attributes\":{\"fields\":[\"Fatal\"]},\"id\":\"af1ce9a6-9a25-4925-842c-01e559fa31e0\",\"type\":\"Stack\"},{\"attributes\":{\"data_source\":{\"id\":\"82cd2eb0-1c95-4b15-99dc-e8b1d3d78e09\",\"type\":\"ColumnDataSource\"},\"glyph\":{\"id\":\"71997f52-f135-48ea-a533-50e61be2ed27\",\"type\":\"HBar\"},\"hover_glyph\":null,\"muted_glyph\":null,\"nonselection_glyph\":{\"id\":\"5193dd92-a6fc-45eb-8cba-ce42c41c8226\",\"type\":\"HBar\"},\"selection_glyph\":null,\"view\":{\"id\":\"80cd6c83-001c-4eb8-8f77-0fc9d76762ef\",\"type\":\"CDSView\"}},\"id\":\"d939a840-27cf-4c98-a63e-bd356f593f2d\",\"type\":\"GlyphRenderer\"},{\"attributes\":{\"source\":{\"id\":\"82cd2eb0-1c95-4b15-99dc-e8b1d3d78e09\",\"type\":\"ColumnDataSource\"}},\"id\":\"80cd6c83-001c-4eb8-8f77-0fc9d76762ef\",\"type\":\"CDSView\"},{\"attributes\":{\"dimension\":1,\"plot\":{\"id\":\"0790feaa-bf1c-4dab-a898-a340f228c786\",\"subtype\":\"Figure\",\"type\":\"Plot\"},\"ticker\":{\"id\":\"f763af45-0ed5-493e-9df8-ce95222bb398\",\"type\":\"CategoricalTicker\"}},\"id\":\"b31c9d94-123a-49d6-8f49-be49c324d26b\",\"type\":\"Grid\"},{\"attributes\":{\"callback\":null,\"column_names\":[\"Race\",\"Fatal\",\"Not Fatal\"],\"data\":{\"Fatal\":{\"__ndarray__\":\"EwAAAA4AAAAAAAAAGgAAAA==\",\"dtype\":\"int32\",\"shape\":[4]},\"Not Fatal\":{\"__ndarray__\":\"IAAAABsAAAAMAAAAFAAAAA==\",\"dtype\":\"int32\",\"shape\":[4]},\"Race\":[\"Black\",\"Latino\",\"Unknown\",\"White\"]}},\"id\":\"82cd2eb0-1c95-4b15-99dc-e8b1d3d78e09\",\"type\":\"ColumnDataSource\"},{\"attributes\":{\"fill_color\":{\"value\":\"blue\"},\"height\":{\"value\":0.5},\"left\":{\"expr\":{\"id\":\"629cc47b-07e4-4e54-b09c-c5062b87380d\",\"type\":\"Stack\"}},\"line_color\":{\"value\":\"blue\"},\"right\":{\"expr\":{\"id\":\"e62a83d5-0cb7-42f5-be46-29129f96f57a\",\"type\":\"Stack\"}},\"y\":{\"field\":\"Race\"}},\"id\":\"48cf1f19-fbf3-4142-bc20-4ead26fe6da7\",\"type\":\"HBar\"},{\"attributes\":{\"axis_label\":\"Number of Incidents\",\"formatter\":{\"id\":\"a7c18b2e-5df9-4dcf-93c5-bddf5fa2e65a\",\"type\":\"BasicTickFormatter\"},\"minor_tick_line_color\":{\"value\":null},\"plot\":{\"id\":\"0790feaa-bf1c-4dab-a898-a340f228c786\",\"subtype\":\"Figure\",\"type\":\"Plot\"},\"ticker\":{\"id\":\"3c0c12c1-4599-47ef-b1f3-a9f926da6c9c\",\"type\":\"BasicTicker\"}},\"id\":\"6c4a5a0e-b4dc-435a-b231-620134eead19\",\"type\":\"LinearAxis\"},{\"attributes\":{\"below\":[{\"id\":\"6c4a5a0e-b4dc-435a-b231-620134eead19\",\"type\":\"LinearAxis\"}],\"left\":[{\"id\":\"62cc7fc4-0953-40aa-91b9-5d1cf829d9bd\",\"type\":\"CategoricalAxis\"}],\"outline_line_color\":{\"value\":null},\"plot_height\":300,\"plot_width\":900,\"renderers\":[{\"id\":\"6c4a5a0e-b4dc-435a-b231-620134eead19\",\"type\":\"LinearAxis\"},{\"id\":\"ecfedb52-9fde-4add-89db-7b97892fe49b\",\"type\":\"Grid\"},{\"id\":\"62cc7fc4-0953-40aa-91b9-5d1cf829d9bd\",\"type\":\"CategoricalAxis\"},{\"id\":\"b31c9d94-123a-49d6-8f49-be49c324d26b\",\"type\":\"Grid\"},{\"id\":\"2aaa1493-ea6f-4824-81bb-88142b3c4ded\",\"type\":\"Legend\"},{\"id\":\"d939a840-27cf-4c98-a63e-bd356f593f2d\",\"type\":\"GlyphRenderer\"},{\"id\":\"040cf98a-a75c-4de2-9aaf-40496c96843b\",\"type\":\"GlyphRenderer\"}],\"title\":{\"id\":\"d5f750bd-eb9c-4bff-bfa9-b1d4448b6861\",\"type\":\"Title\"},\"toolbar\":{\"id\":\"43bb6fae-745b-41fe-943d-f04e440a2339\",\"type\":\"Toolbar\"},\"toolbar_location\":null,\"x_range\":{\"id\":\"c7beee59-6249-42c7-acc0-c06122ad61ba\",\"type\":\"DataRange1d\"},\"x_scale\":{\"id\":\"b5e351c3-8a8a-4d8c-827e-50858a07a8b8\",\"type\":\"LinearScale\"},\"y_range\":{\"id\":\"338bd51d-92b5-4d96-8ac3-6e2f900ca2ff\",\"type\":\"FactorRange\"},\"y_scale\":{\"id\":\"c6fc8e75-f24b-4c7f-94e0-730ac7c11896\",\"type\":\"CategoricalScale\"}},\"id\":\"0790feaa-bf1c-4dab-a898-a340f228c786\",\"subtype\":\"Figure\",\"type\":\"Plot\"},{\"attributes\":{\"formatter\":{\"id\":\"35d1d30c-0a77-4293-9033-299e332185d4\",\"type\":\"CategoricalTickFormatter\"},\"minor_tick_line_color\":{\"value\":null},\"plot\":{\"id\":\"0790feaa-bf1c-4dab-a898-a340f228c786\",\"subtype\":\"Figure\",\"type\":\"Plot\"},\"ticker\":{\"id\":\"f763af45-0ed5-493e-9df8-ce95222bb398\",\"type\":\"CategoricalTicker\"}},\"id\":\"62cc7fc4-0953-40aa-91b9-5d1cf829d9bd\",\"type\":\"CategoricalAxis\"},{\"attributes\":{},\"id\":\"a7c18b2e-5df9-4dcf-93c5-bddf5fa2e65a\",\"type\":\"BasicTickFormatter\"},{\"attributes\":{\"fields\":[\"Fatal\"]},\"id\":\"629cc47b-07e4-4e54-b09c-c5062b87380d\",\"type\":\"Stack\"},{\"attributes\":{\"fields\":[\"Fatal\",\"Not Fatal\"]},\"id\":\"e62a83d5-0cb7-42f5-be46-29129f96f57a\",\"type\":\"Stack\"},{\"attributes\":{},\"id\":\"b5e351c3-8a8a-4d8c-827e-50858a07a8b8\",\"type\":\"LinearScale\"},{\"attributes\":{\"fill_alpha\":{\"value\":0.1},\"fill_color\":{\"value\":\"#1f77b4\"},\"height\":{\"value\":0.5},\"left\":{\"expr\":{\"id\":\"629cc47b-07e4-4e54-b09c-c5062b87380d\",\"type\":\"Stack\"}},\"line_alpha\":{\"value\":0.1},\"line_color\":{\"value\":\"#1f77b4\"},\"right\":{\"expr\":{\"id\":\"e62a83d5-0cb7-42f5-be46-29129f96f57a\",\"type\":\"Stack\"}},\"y\":{\"field\":\"Race\"}},\"id\":\"6ca17b72-98ca-46ed-8e27-3bf8c0fc3882\",\"type\":\"HBar\"},{\"attributes\":{\"grid_line_color\":{\"value\":null},\"plot\":{\"id\":\"0790feaa-bf1c-4dab-a898-a340f228c786\",\"subtype\":\"Figure\",\"type\":\"Plot\"},\"ticker\":{\"id\":\"3c0c12c1-4599-47ef-b1f3-a9f926da6c9c\",\"type\":\"BasicTicker\"}},\"id\":\"ecfedb52-9fde-4add-89db-7b97892fe49b\",\"type\":\"Grid\"},{\"attributes\":{\"label\":{\"value\":\"Not Fatal\"},\"renderers\":[{\"id\":\"040cf98a-a75c-4de2-9aaf-40496c96843b\",\"type\":\"GlyphRenderer\"}]},\"id\":\"7a813684-d818-4d8a-b786-37ff2348d59d\",\"type\":\"LegendItem\"}],\"root_ids\":[\"0790feaa-bf1c-4dab-a898-a340f228c786\"]},\"title\":\"Bokeh Application\",\"version\":\"0.12.13\"}};\n",
       "  var render_items = [{\"docid\":\"08078d0b-2c8a-4378-bdf5-a76d340a9116\",\"elementid\":\"5eb4b043-6ade-4ddb-81b7-789de52d2b7a\",\"modelid\":\"0790feaa-bf1c-4dab-a898-a340f228c786\"}];\n",
       "  root.Bokeh.embed.embed_items_notebook(docs_json, render_items);\n",
       "\n",
       "  }\n",
       "  if (root.Bokeh !== undefined) {\n",
       "    embed_document(root);\n",
       "  } else {\n",
       "    var attempts = 0;\n",
       "    var timer = setInterval(function(root) {\n",
       "      if (root.Bokeh !== undefined) {\n",
       "        embed_document(root);\n",
       "        clearInterval(timer);\n",
       "      }\n",
       "      attempts++;\n",
       "      if (attempts > 100) {\n",
       "        console.log(\"Bokeh: ERROR: Unable to run BokehJS code because BokehJS library is missing\")\n",
       "        clearInterval(timer);\n",
       "      }\n",
       "    }, 10, root)\n",
       "  }\n",
       "})(window);"
      ],
      "application/vnd.bokehjs_exec.v0+json": ""
     },
     "metadata": {
      "application/vnd.bokehjs_exec.v0+json": {
       "id": "0790feaa-bf1c-4dab-a898-a340f228c786"
      }
     },
     "output_type": "display_data"
    }
   ],
   "source": [
    "#stacked horizontal bar graph of Unarmed shootings, exclusing Houston PD, broken down by Race and Fatality\n",
    "col = noarmnat.columns\n",
    "data= {'Race': list(noarmnat.index), 'Fatal' : noarmnat['Fatal'].values, 'Not Fatal': noarmnat['Not Fatal'].values}\n",
    "       \n",
    "source = ColumnDataSource(data=data)\n",
    "\n",
    "k = figure(y_range= data['Race'], plot_height=300,plot_width=900, title=\"Race and Fatality of Armed Subjects (Austin, San Antonio, Dallas)\", x_axis_label='Number of Incidents',\n",
    "           toolbar_location=None, tools=\"\")\n",
    "\n",
    "k.hbar_stack(col, y= 'Race', height=0.5, color=['red','blue'], source=source,\n",
    "             legend=[value(x) for x in col])\n",
    "\n",
    "k.x_range.start = 0\n",
    "k.x_range.end = 200\n",
    "k.y_range.range_padding = 0.1\n",
    "k.xgrid.grid_line_color = None\n",
    "k.axis.minor_tick_line_color = None\n",
    "k.outline_line_color = None\n",
    "k.legend.location = \"top_right\"\n",
    "k.legend.orientation = \"vertical\"\n",
    "\n",
    "show(k)"
   ]
  },
  {
   "cell_type": "markdown",
   "metadata": {},
   "source": [
    "## The same effect of more white subjects killed, despite a higher number of Black subjects, is still found even when excluding Houston PD, but the effect is less weaker"
   ]
  },
  {
   "cell_type": "code",
   "execution_count": 45,
   "metadata": {},
   "outputs": [],
   "source": [
    "#create new column in Armed df, coding all \"NatureOfStop\" values as \"violent\", \"non-violent\" or \"unknown\"\n",
    "# \"violence\" label was determined by author's jugdgment and based on terms like \"aggrevated\" and \"shooting\"\n",
    "armed['violence'] = armed['NatureOfStop'].map({'Domestic Disturbance': 'u', 'Burglary / home invasion': 'u',\n",
    "       'Shots fired / shooting': 'v', 'Robbery':'u',\n",
    "       'Mental crisis / suicide attempt':'u', 'Weapons disturbance':'v', 'Other':'u',\n",
    "       'Suspicious activity / patrol':'n', 'Suspicious person':'n',\n",
    "       'Warrant Service':'n', 'Suspicious Person':'n', 'Disturbance; firearm':'v',\n",
    "       'Assault; weapons posession; firearms':'v', 'Aggravated robbery':'v',\n",
    "       'Active shooter':'v', 'Aggravated kidnapping':'v', 'Shots fired':'v',\n",
    "       'Felony fugitive':'u', 'Narcotics':'n', 'Traffic stop':'n',\n",
    "       'Suspicious behavior':'n', 'aggravated robbery':'v',\n",
    "       'Weapons posession; suicide':'v', 'Disturbance':'n',\n",
    "       'Narcotics; undercover operation':'n', 'Suicide':'u',\n",
    "       'Weapons posession; firearms':'v', 'Drugs':'n', 'Crowd-control; shooting':'v',\n",
    "       \"Drugs; expired driver's license plate\":'n',\n",
    "       'Prostitution; police shooting':'v', 'Drunkeness; weapons posession':'v',\n",
    "       'Shooting':'v', 'Murder':'v', 'Robbery; suspicious behavior':'u',\n",
    "       'Aggraveted assault':'v', 'Weapons posession':'v', 'Major disturbance':'u',\n",
    "       'Complaint; drugs':'n', 'Armed encounter':'v', 'Stolen car':'u',\n",
    "       'Domestic disturbance':'n', 'shooting; police shooting':'v', 'shooting':'v',\n",
    "       'Robbery; police shooting':'v', 'Sex crime':'n', 'hit-and-run':'n',\n",
    "       'Suicide; weapons posession':'v', 'Robbery of officer':'u',\n",
    "       'Vehicle pursuit':'n', nan:'u', 'Property crime':'n',\n",
    "       'Drug suspicion / drug warrant':'n', 'Fight / disorderly conduct':'u',\n",
    "       'Execuition of a warrant \"suspect pulled out a firearm\" https://www.nbcdfw.com/news/local/Shooting-Involving-US-Marshals-in-Fort-Worth-Police-368676191.html': 'v',\n",
    "       'Emergencey call, traffic stop, execuition of warrant':'n',\n",
    "       'Hostage, barrcade of other emergencey situation. \"appeared to be a rifle\" http://www.star-telegram.com/news/local/community/fort-worth/article72475392.html':'v',\n",
    "       'Execution of a warrant':'n',\n",
    "       'Emergencey call or request for assitance':'n', 'Assault':'v', 'Unknown':'u',\n",
    "       'Suspicious activity/Patrol as requested by homeowner':'n',\n",
    "       'Emergency Call or Request for Assistance':'n',\n",
    "       'Stolen Vehicle/Aggravated Robbery Apprehension':'v',\n",
    "       'Suicide in progress':'u', 'Family Disturbance':'n'})"
   ]
  },
  {
   "cell_type": "code",
   "execution_count": 46,
   "metadata": {},
   "outputs": [
    {
     "data": {
      "text/html": [
       "<div>\n",
       "<style scoped>\n",
       "    .dataframe tbody tr th:only-of-type {\n",
       "        vertical-align: middle;\n",
       "    }\n",
       "\n",
       "    .dataframe tbody tr th {\n",
       "        vertical-align: top;\n",
       "    }\n",
       "\n",
       "    .dataframe thead th {\n",
       "        text-align: right;\n",
       "    }\n",
       "</style>\n",
       "<table border=\"1\" class=\"dataframe\">\n",
       "  <thead>\n",
       "    <tr style=\"text-align: right;\">\n",
       "      <th>violence</th>\n",
       "      <th>n</th>\n",
       "      <th>u</th>\n",
       "      <th>v</th>\n",
       "    </tr>\n",
       "    <tr>\n",
       "      <th>SubjectRace</th>\n",
       "      <th></th>\n",
       "      <th></th>\n",
       "      <th></th>\n",
       "    </tr>\n",
       "  </thead>\n",
       "  <tbody>\n",
       "    <tr>\n",
       "      <th>Asian</th>\n",
       "      <td>1.0</td>\n",
       "      <td>NaN</td>\n",
       "      <td>1.0</td>\n",
       "    </tr>\n",
       "    <tr>\n",
       "      <th>Black</th>\n",
       "      <td>12.0</td>\n",
       "      <td>15.0</td>\n",
       "      <td>21.0</td>\n",
       "    </tr>\n",
       "    <tr>\n",
       "      <th>Latino</th>\n",
       "      <td>18.0</td>\n",
       "      <td>14.0</td>\n",
       "      <td>15.0</td>\n",
       "    </tr>\n",
       "    <tr>\n",
       "      <th>Unknown</th>\n",
       "      <td>1.0</td>\n",
       "      <td>3.0</td>\n",
       "      <td>1.0</td>\n",
       "    </tr>\n",
       "    <tr>\n",
       "      <th>White</th>\n",
       "      <td>17.0</td>\n",
       "      <td>26.0</td>\n",
       "      <td>22.0</td>\n",
       "    </tr>\n",
       "  </tbody>\n",
       "</table>\n",
       "</div>"
      ],
      "text/plain": [
       "violence        n     u     v\n",
       "SubjectRace                  \n",
       "Asian         1.0   NaN   1.0\n",
       "Black        12.0  15.0  21.0\n",
       "Latino       18.0  14.0  15.0\n",
       "Unknown       1.0   3.0   1.0\n",
       "White        17.0  26.0  22.0"
      ]
     },
     "execution_count": 46,
     "metadata": {},
     "output_type": "execute_result"
    }
   ],
   "source": [
    "#remove Houston PD from the df and count occurances by Race and new \"violence\" column\n",
    "cause =armed[armed.city != 'Houston']\n",
    "cause = cause.groupby('SubjectRace').violence.value_counts().unstack()\n",
    "cause"
   ]
  },
  {
   "cell_type": "markdown",
   "metadata": {},
   "source": [
    "## The distribution of violent vs not appears to be fairly equal between races."
   ]
  },
  {
   "cell_type": "code",
   "execution_count": null,
   "metadata": {},
   "outputs": [],
   "source": []
  },
  {
   "cell_type": "code",
   "execution_count": null,
   "metadata": {},
   "outputs": [],
   "source": []
  },
  {
   "cell_type": "markdown",
   "metadata": {},
   "source": [
    "# Preparing data for modeling"
   ]
  },
  {
   "cell_type": "code",
   "execution_count": 37,
   "metadata": {},
   "outputs": [],
   "source": [
    "# Convert the categorical inputs of somefeatures/columns in \"cust\" df to numerical nature\n",
    "newcust = pd.DataFrame()\n",
    "\n",
    "numeric = LabelEncoder()\n",
    "newcust['dept']=numeric.fit_transform(cust['Department Name'].astype('str'))\n",
    "newcust['custody_type']=numeric.fit_transform(cust['Custody Type'].astype('str'))\n",
    "newcust['facility']=numeric.fit_transform(cust['Custody Type Facility'].astype('str'))\n",
    "newcust['race']=numeric.fit_transform(cust['Ethnicity'].astype('str'))\n",
    "newcust['sex']=numeric.fit_transform(cust['Sex'].astype('str'))\n",
    "newcust['death_type']=numeric.fit_transform(cust['Manner Death'].astype('str'))\n",
    "newcust['charge_status']=numeric.fit_transform(cust['Charges Status'].astype('str'))\n",
    "\n",
    "#copy numeric columns from \"cust\" to \"newcust\"\n",
    "newcust['age']=cust['Age']\n",
    "newcust['year']=cust['year']\n",
    "newcust['month']=cust['month']"
   ]
  },
  {
   "cell_type": "code",
   "execution_count": 6,
   "metadata": {
    "scrolled": false
   },
   "outputs": [
    {
     "data": {
      "text/html": [
       "<div>\n",
       "<style scoped>\n",
       "    .dataframe tbody tr th:only-of-type {\n",
       "        vertical-align: middle;\n",
       "    }\n",
       "\n",
       "    .dataframe tbody tr th {\n",
       "        vertical-align: top;\n",
       "    }\n",
       "\n",
       "    .dataframe thead th {\n",
       "        text-align: right;\n",
       "    }\n",
       "</style>\n",
       "<table border=\"1\" class=\"dataframe\">\n",
       "  <thead>\n",
       "    <tr style=\"text-align: right;\">\n",
       "      <th></th>\n",
       "      <th>dept</th>\n",
       "      <th>custody_type</th>\n",
       "      <th>facility</th>\n",
       "      <th>race</th>\n",
       "      <th>sex</th>\n",
       "      <th>death_type</th>\n",
       "      <th>charge_status</th>\n",
       "      <th>age</th>\n",
       "      <th>year</th>\n",
       "      <th>month</th>\n",
       "    </tr>\n",
       "  </thead>\n",
       "  <tbody>\n",
       "    <tr>\n",
       "      <th>0</th>\n",
       "      <td>389</td>\n",
       "      <td>2</td>\n",
       "      <td>134</td>\n",
       "      <td>4</td>\n",
       "      <td>1</td>\n",
       "      <td>5</td>\n",
       "      <td>0</td>\n",
       "      <td>58.0</td>\n",
       "      <td>2012</td>\n",
       "      <td>9</td>\n",
       "    </tr>\n",
       "    <tr>\n",
       "      <th>1</th>\n",
       "      <td>389</td>\n",
       "      <td>2</td>\n",
       "      <td>115</td>\n",
       "      <td>3</td>\n",
       "      <td>1</td>\n",
       "      <td>5</td>\n",
       "      <td>0</td>\n",
       "      <td>76.0</td>\n",
       "      <td>2016</td>\n",
       "      <td>9</td>\n",
       "    </tr>\n",
       "    <tr>\n",
       "      <th>2</th>\n",
       "      <td>175</td>\n",
       "      <td>1</td>\n",
       "      <td>0</td>\n",
       "      <td>4</td>\n",
       "      <td>1</td>\n",
       "      <td>6</td>\n",
       "      <td>2</td>\n",
       "      <td>30.0</td>\n",
       "      <td>2016</td>\n",
       "      <td>12</td>\n",
       "    </tr>\n",
       "    <tr>\n",
       "      <th>3</th>\n",
       "      <td>389</td>\n",
       "      <td>2</td>\n",
       "      <td>60</td>\n",
       "      <td>1</td>\n",
       "      <td>1</td>\n",
       "      <td>1</td>\n",
       "      <td>0</td>\n",
       "      <td>39.0</td>\n",
       "      <td>2011</td>\n",
       "      <td>11</td>\n",
       "    </tr>\n",
       "    <tr>\n",
       "      <th>4</th>\n",
       "      <td>389</td>\n",
       "      <td>2</td>\n",
       "      <td>77</td>\n",
       "      <td>1</td>\n",
       "      <td>1</td>\n",
       "      <td>5</td>\n",
       "      <td>0</td>\n",
       "      <td>31.0</td>\n",
       "      <td>2014</td>\n",
       "      <td>12</td>\n",
       "    </tr>\n",
       "  </tbody>\n",
       "</table>\n",
       "</div>"
      ],
      "text/plain": [
       "   dept  custody_type  facility  race  sex  death_type  charge_status   age  \\\n",
       "0   389             2       134     4    1           5              0  58.0   \n",
       "1   389             2       115     3    1           5              0  76.0   \n",
       "2   175             1         0     4    1           6              2  30.0   \n",
       "3   389             2        60     1    1           1              0  39.0   \n",
       "4   389             2        77     1    1           5              0  31.0   \n",
       "\n",
       "   year  month  \n",
       "0  2012      9  \n",
       "1  2016      9  \n",
       "2  2016     12  \n",
       "3  2011     11  \n",
       "4  2014     12  "
      ]
     },
     "execution_count": 6,
     "metadata": {},
     "output_type": "execute_result"
    }
   ],
   "source": [
    "newcust.head()"
   ]
  },
  {
   "cell_type": "code",
   "execution_count": 61,
   "metadata": {},
   "outputs": [
    {
     "data": {
      "text/plain": [
       "dept             False\n",
       "custody_type     False\n",
       "facility         False\n",
       "race             False\n",
       "sex              False\n",
       "death_type       False\n",
       "charge_status    False\n",
       "age               True\n",
       "year             False\n",
       "month            False\n",
       "dtype: bool"
      ]
     },
     "execution_count": 61,
     "metadata": {},
     "output_type": "execute_result"
    }
   ],
   "source": [
    "newcust.isna().any()"
   ]
  },
  {
   "cell_type": "code",
   "execution_count": 38,
   "metadata": {},
   "outputs": [],
   "source": [
    "#fill NaN values in \"age\" column with mean of existing values in age column\n",
    "newcust['age'] = newcust.age.fillna(newcust.age.mean())"
   ]
  },
  {
   "cell_type": "code",
   "execution_count": 64,
   "metadata": {},
   "outputs": [
    {
     "data": {
      "text/plain": [
       "<matplotlib.axes._subplots.AxesSubplot at 0x1e523620940>"
      ]
     },
     "execution_count": 64,
     "metadata": {},
     "output_type": "execute_result"
    },
    {
     "data": {
      "image/png": "[encoded data removed]",
      "text/plain": [
       "<matplotlib.figure.Figure at 0x1e5238826d8>"
      ]
     },
     "metadata": {},
     "output_type": "display_data"
    }
   ],
   "source": [
    "#visualized 'heatmap' of correlations between the variables in the \"newcust\" df\n",
    "corrmat= newcust.corr()\n",
    "sns.heatmap(corrmat, square=True)"
   ]
  },
  {
   "cell_type": "code",
   "execution_count": 39,
   "metadata": {},
   "outputs": [],
   "source": [
    "# Convert the categorical inputs of data features/columns in \"shoot\" df to numerical nature\n",
    "newshoot = pd.DataFrame()\n",
    "\n",
    "#copy numeric columns from \"cust\" to \"newcust\"\n",
    "newshoot['age']= shoot['SubjectAge']\n",
    "newshoot['number_officers']= shoot['NumberOfOfficers']\n",
    "\n",
    "numeric = LabelEncoder()\n",
    "newshoot['fatality']=numeric.fit_transform(shoot['Fatal'].astype('str'))\n",
    "newshoot['armed']=numeric.fit_transform(shoot['SubjectArmed'].astype('str'))\n",
    "newshoot['race']=numeric.fit_transform(shoot['SubjectRace'].astype('str'))\n",
    "newshoot['sex']=numeric.fit_transform(shoot['SubjectGender'].astype('str'))\n",
    "newshoot['stop_reason']=numeric.fit_transform(shoot['NatureOfStop'].astype('str'))\n",
    "newshoot['officer_race']=numeric.fit_transform(shoot['OfficerRace'].astype('str'))\n",
    "newshoot['dept']= numeric.fit_transform(shoot['Department'].astype('str'))\n",
    "\n",
    "#create year and month columns pulled from the date column in the original df\n",
    "newshoot['year'] = pd.DatetimeIndex(shoot['Date']).year\n",
    "newshoot['month'] = pd.DatetimeIndex(shoot['Date']).month"
   ]
  },
  {
   "cell_type": "code",
   "execution_count": 9,
   "metadata": {
    "scrolled": true
   },
   "outputs": [
    {
     "data": {
      "text/html": [
       "<div>\n",
       "<style scoped>\n",
       "    .dataframe tbody tr th:only-of-type {\n",
       "        vertical-align: middle;\n",
       "    }\n",
       "\n",
       "    .dataframe tbody tr th {\n",
       "        vertical-align: top;\n",
       "    }\n",
       "\n",
       "    .dataframe thead th {\n",
       "        text-align: right;\n",
       "    }\n",
       "</style>\n",
       "<table border=\"1\" class=\"dataframe\">\n",
       "  <thead>\n",
       "    <tr style=\"text-align: right;\">\n",
       "      <th></th>\n",
       "      <th>age</th>\n",
       "      <th>number_officers</th>\n",
       "      <th>fatality</th>\n",
       "      <th>armed</th>\n",
       "      <th>race</th>\n",
       "      <th>sex</th>\n",
       "      <th>stop_reason</th>\n",
       "      <th>officer_race</th>\n",
       "      <th>dept</th>\n",
       "      <th>year</th>\n",
       "      <th>month</th>\n",
       "    </tr>\n",
       "  </thead>\n",
       "  <tbody>\n",
       "    <tr>\n",
       "      <th>103</th>\n",
       "      <td>26</td>\n",
       "      <td>1</td>\n",
       "      <td>0</td>\n",
       "      <td>2</td>\n",
       "      <td>4</td>\n",
       "      <td>1</td>\n",
       "      <td>23</td>\n",
       "      <td>13</td>\n",
       "      <td>0</td>\n",
       "      <td>2010</td>\n",
       "      <td>9</td>\n",
       "    </tr>\n",
       "    <tr>\n",
       "      <th>104</th>\n",
       "      <td>16</td>\n",
       "      <td>1</td>\n",
       "      <td>0</td>\n",
       "      <td>2</td>\n",
       "      <td>2</td>\n",
       "      <td>1</td>\n",
       "      <td>13</td>\n",
       "      <td>40</td>\n",
       "      <td>0</td>\n",
       "      <td>2010</td>\n",
       "      <td>10</td>\n",
       "    </tr>\n",
       "    <tr>\n",
       "      <th>105</th>\n",
       "      <td>26</td>\n",
       "      <td>2</td>\n",
       "      <td>0</td>\n",
       "      <td>2</td>\n",
       "      <td>0</td>\n",
       "      <td>1</td>\n",
       "      <td>66</td>\n",
       "      <td>48</td>\n",
       "      <td>0</td>\n",
       "      <td>2010</td>\n",
       "      <td>11</td>\n",
       "    </tr>\n",
       "    <tr>\n",
       "      <th>106</th>\n",
       "      <td>35</td>\n",
       "      <td>1</td>\n",
       "      <td>0</td>\n",
       "      <td>0</td>\n",
       "      <td>4</td>\n",
       "      <td>1</td>\n",
       "      <td>86</td>\n",
       "      <td>5</td>\n",
       "      <td>0</td>\n",
       "      <td>2010</td>\n",
       "      <td>12</td>\n",
       "    </tr>\n",
       "    <tr>\n",
       "      <th>107</th>\n",
       "      <td>30</td>\n",
       "      <td>1</td>\n",
       "      <td>0</td>\n",
       "      <td>2</td>\n",
       "      <td>2</td>\n",
       "      <td>1</td>\n",
       "      <td>66</td>\n",
       "      <td>13</td>\n",
       "      <td>0</td>\n",
       "      <td>2011</td>\n",
       "      <td>5</td>\n",
       "    </tr>\n",
       "  </tbody>\n",
       "</table>\n",
       "</div>"
      ],
      "text/plain": [
       "    age number_officers  fatality  armed  race  sex  stop_reason  \\\n",
       "103  26               1         0      2     4    1           23   \n",
       "104  16               1         0      2     2    1           13   \n",
       "105  26               2         0      2     0    1           66   \n",
       "106  35               1         0      0     4    1           86   \n",
       "107  30               1         0      2     2    1           66   \n",
       "\n",
       "     officer_race  dept  year  month  \n",
       "103            13     0  2010      9  \n",
       "104            40     0  2010     10  \n",
       "105            48     0  2010     11  \n",
       "106             5     0  2010     12  \n",
       "107            13     0  2011      5  "
      ]
     },
     "execution_count": 9,
     "metadata": {},
     "output_type": "execute_result"
    }
   ],
   "source": [
    "newshoot.head()"
   ]
  },
  {
   "cell_type": "code",
   "execution_count": 10,
   "metadata": {},
   "outputs": [
    {
     "data": {
      "text/plain": [
       "age                475\n",
       "number_officers    626\n",
       "fatality           640\n",
       "armed              640\n",
       "race               640\n",
       "sex                640\n",
       "stop_reason        640\n",
       "officer_race       640\n",
       "dept               640\n",
       "year               640\n",
       "month              640\n",
       "dtype: int64"
      ]
     },
     "execution_count": 10,
     "metadata": {},
     "output_type": "execute_result"
    }
   ],
   "source": [
    "newshoot.count()"
   ]
  },
  {
   "cell_type": "code",
   "execution_count": 11,
   "metadata": {
    "scrolled": true
   },
   "outputs": [
    {
     "data": {
      "text/plain": [
       "1            460\n",
       "2            106\n",
       "3             34\n",
       "4              9\n",
       "6              7\n",
       "5              5\n",
       "2 or More      2\n",
       "12             1\n",
       "9              1\n",
       "16             1\n",
       "Name: number_officers, dtype: int64"
      ]
     },
     "execution_count": 11,
     "metadata": {},
     "output_type": "execute_result"
    }
   ],
   "source": [
    "#checking for non-numeric values\n",
    "newshoot.number_officers.value_counts()"
   ]
  },
  {
   "cell_type": "code",
   "execution_count": 53,
   "metadata": {
    "collapsed": true
   },
   "outputs": [
    {
     "data": {
      "text/plain": [
       "26          27\n",
       "U           26\n",
       "32          22\n",
       "22          21\n",
       "21          21\n",
       "34          20\n",
       "29          20\n",
       "23          18\n",
       "24          17\n",
       "35          16\n",
       "20          15\n",
       "30          15\n",
       "37          14\n",
       "33          14\n",
       "31          14\n",
       "25          13\n",
       "19          13\n",
       "28          13\n",
       "18          12\n",
       "47          11\n",
       "46          10\n",
       "27           9\n",
       "17           8\n",
       "40           7\n",
       "41           7\n",
       "38           7\n",
       "42           6\n",
       "39           6\n",
       "53           6\n",
       "36           6\n",
       "44           5\n",
       "54           5\n",
       "51           4\n",
       "45           4\n",
       "55           4\n",
       "48           3\n",
       "49           3\n",
       "57           3\n",
       "52           3\n",
       "43           3\n",
       "50           3\n",
       "60           3\n",
       "56           2\n",
       "15           2\n",
       "69           2\n",
       "70           2\n",
       "63           2\n",
       "Juvenile     2\n",
       "72           1\n",
       "59           1\n",
       "61           1\n",
       "62           1\n",
       "58           1\n",
       "16           1\n",
       "Name: age, dtype: int64"
      ]
     },
     "execution_count": 53,
     "metadata": {},
     "output_type": "execute_result"
    }
   ],
   "source": [
    "#check for non-numeric values\n",
    "newshoot.age.value_counts()"
   ]
  },
  {
   "cell_type": "code",
   "execution_count": 40,
   "metadata": {},
   "outputs": [],
   "source": [
    "#replace instances of '2 or More' with \"2\"\n",
    "newshoot.loc[newshoot['number_officers'] == '2 or More', 'number_officers'] = '2'\n",
    "\n",
    "#replace instances of \"U\" with NaN\n",
    "newshoot.loc[newshoot['age'] == 'U', 'age'] = np.nan\n",
    "\n",
    "#replace instances of \"Juvenile\" with \"15\"\n",
    "newshoot.loc[newshoot['age'] == 'Juvenile', 'age'] = '15' "
   ]
  },
  {
   "cell_type": "code",
   "execution_count": 41,
   "metadata": {},
   "outputs": [],
   "source": [
    "#change all column types to numeric\n",
    "newshoot = newshoot.apply(pd.to_numeric, errors='coerce')"
   ]
  },
  {
   "cell_type": "code",
   "execution_count": 42,
   "metadata": {},
   "outputs": [],
   "source": [
    "#fill NaN values in Age column with mean of existing values in Age column\n",
    "newshoot['age'] = newshoot.age.fillna(newshoot.age.mean())"
   ]
  },
  {
   "cell_type": "code",
   "execution_count": 43,
   "metadata": {},
   "outputs": [],
   "source": [
    "#fill NaN values in Number of Officers column with integer version of mean of existing values in column\n",
    "newshoot['number_officers'] = newshoot.number_officers.fillna(int(newshoot.number_officers.mean()))"
   ]
  },
  {
   "cell_type": "code",
   "execution_count": 58,
   "metadata": {},
   "outputs": [
    {
     "data": {
      "text/plain": [
       "<matplotlib.axes._subplots.AxesSubplot at 0x1e523649dd8>"
      ]
     },
     "execution_count": 58,
     "metadata": {},
     "output_type": "execute_result"
    },
    {
     "data": {
      "image/png": "[encoded data removed]",
      "text/plain": [
       "<matplotlib.figure.Figure at 0x1e5230b6f60>"
      ]
     },
     "metadata": {},
     "output_type": "display_data"
    }
   ],
   "source": [
    "#visualized 'heatmap' of correlations between the variables in the \"newshoot\" df\n",
    "corrmat= newshoot.corr()\n",
    "sns.heatmap(corrmat, square=True)"
   ]
  },
  {
   "cell_type": "code",
   "execution_count": null,
   "metadata": {},
   "outputs": [],
   "source": []
  },
  {
   "cell_type": "markdown",
   "metadata": {},
   "source": [
    "## Feature reduction/engineering"
   ]
  },
  {
   "cell_type": "code",
   "execution_count": 16,
   "metadata": {},
   "outputs": [
    {
     "data": {
      "text/html": [
       "<div>\n",
       "<style scoped>\n",
       "    .dataframe tbody tr th:only-of-type {\n",
       "        vertical-align: middle;\n",
       "    }\n",
       "\n",
       "    .dataframe tbody tr th {\n",
       "        vertical-align: top;\n",
       "    }\n",
       "\n",
       "    .dataframe thead th {\n",
       "        text-align: right;\n",
       "    }\n",
       "</style>\n",
       "<table border=\"1\" class=\"dataframe\">\n",
       "  <thead>\n",
       "    <tr style=\"text-align: right;\">\n",
       "      <th></th>\n",
       "      <th>dept</th>\n",
       "      <th>custody_type</th>\n",
       "      <th>facility</th>\n",
       "      <th>race</th>\n",
       "      <th>sex</th>\n",
       "      <th>death_type</th>\n",
       "      <th>charge_status</th>\n",
       "      <th>age</th>\n",
       "      <th>year</th>\n",
       "      <th>month</th>\n",
       "    </tr>\n",
       "  </thead>\n",
       "  <tbody>\n",
       "    <tr>\n",
       "      <th>0</th>\n",
       "      <td>389</td>\n",
       "      <td>2</td>\n",
       "      <td>134</td>\n",
       "      <td>4</td>\n",
       "      <td>1</td>\n",
       "      <td>5</td>\n",
       "      <td>0</td>\n",
       "      <td>58.0</td>\n",
       "      <td>2012</td>\n",
       "      <td>9</td>\n",
       "    </tr>\n",
       "    <tr>\n",
       "      <th>1</th>\n",
       "      <td>389</td>\n",
       "      <td>2</td>\n",
       "      <td>115</td>\n",
       "      <td>3</td>\n",
       "      <td>1</td>\n",
       "      <td>5</td>\n",
       "      <td>0</td>\n",
       "      <td>76.0</td>\n",
       "      <td>2016</td>\n",
       "      <td>9</td>\n",
       "    </tr>\n",
       "    <tr>\n",
       "      <th>2</th>\n",
       "      <td>175</td>\n",
       "      <td>1</td>\n",
       "      <td>0</td>\n",
       "      <td>4</td>\n",
       "      <td>1</td>\n",
       "      <td>6</td>\n",
       "      <td>2</td>\n",
       "      <td>30.0</td>\n",
       "      <td>2016</td>\n",
       "      <td>12</td>\n",
       "    </tr>\n",
       "    <tr>\n",
       "      <th>3</th>\n",
       "      <td>389</td>\n",
       "      <td>2</td>\n",
       "      <td>60</td>\n",
       "      <td>1</td>\n",
       "      <td>1</td>\n",
       "      <td>1</td>\n",
       "      <td>0</td>\n",
       "      <td>39.0</td>\n",
       "      <td>2011</td>\n",
       "      <td>11</td>\n",
       "    </tr>\n",
       "    <tr>\n",
       "      <th>4</th>\n",
       "      <td>389</td>\n",
       "      <td>2</td>\n",
       "      <td>77</td>\n",
       "      <td>1</td>\n",
       "      <td>1</td>\n",
       "      <td>5</td>\n",
       "      <td>0</td>\n",
       "      <td>31.0</td>\n",
       "      <td>2014</td>\n",
       "      <td>12</td>\n",
       "    </tr>\n",
       "  </tbody>\n",
       "</table>\n",
       "</div>"
      ],
      "text/plain": [
       "   dept  custody_type  facility  race  sex  death_type  charge_status   age  \\\n",
       "0   389             2       134     4    1           5              0  58.0   \n",
       "1   389             2       115     3    1           5              0  76.0   \n",
       "2   175             1         0     4    1           6              2  30.0   \n",
       "3   389             2        60     1    1           1              0  39.0   \n",
       "4   389             2        77     1    1           5              0  31.0   \n",
       "\n",
       "   year  month  \n",
       "0  2012      9  \n",
       "1  2016      9  \n",
       "2  2016     12  \n",
       "3  2011     11  \n",
       "4  2014     12  "
      ]
     },
     "execution_count": 16,
     "metadata": {},
     "output_type": "execute_result"
    }
   ],
   "source": [
    "newcust.head()"
   ]
  },
  {
   "cell_type": "code",
   "execution_count": 44,
   "metadata": {},
   "outputs": [],
   "source": [
    "#\"facility\" does not appear to be a valuable feature of interest\n",
    "newcust.drop('facility', axis=1, inplace=True)"
   ]
  },
  {
   "cell_type": "code",
   "execution_count": 45,
   "metadata": {},
   "outputs": [],
   "source": [
    "#\"charge_status\" does not appear to be a valuable feature of interest\n",
    "newcust.drop('charge_status', axis=1, inplace=True)"
   ]
  },
  {
   "cell_type": "code",
   "execution_count": 46,
   "metadata": {},
   "outputs": [],
   "source": [
    "#\"year\" does not appear to be a valuable feature of interest\n",
    "newcust.drop('year', axis=1, inplace=True)"
   ]
  },
  {
   "cell_type": "code",
   "execution_count": 47,
   "metadata": {},
   "outputs": [],
   "source": [
    "#\"month\" does not appear to be a valuable feature of interest\n",
    "newcust.drop('month', axis=1, inplace=True)"
   ]
  },
  {
   "cell_type": "code",
   "execution_count": 21,
   "metadata": {},
   "outputs": [],
   "source": [
    "#\"dept\" is an \"id\" variable that may invalidate results\n",
    "newcust.drop('dept', axis=1, inplace=True)"
   ]
  },
  {
   "cell_type": "code",
   "execution_count": 22,
   "metadata": {
    "scrolled": true
   },
   "outputs": [
    {
     "data": {
      "text/plain": [
       "1    7313\n",
       "0     416\n",
       "Name: sex, dtype: int64"
      ]
     },
     "execution_count": 22,
     "metadata": {},
     "output_type": "execute_result"
    }
   ],
   "source": [
    "newcust.sex.value_counts()"
   ]
  },
  {
   "cell_type": "code",
   "execution_count": 48,
   "metadata": {},
   "outputs": [],
   "source": [
    "# because there is very little variance in the \"sex\" feature it is dropped\n",
    "newcust.drop('sex', axis=1, inplace=True)"
   ]
  },
  {
   "cell_type": "code",
   "execution_count": 58,
   "metadata": {},
   "outputs": [
    {
     "data": {
      "text/html": [
       "<div>\n",
       "<style scoped>\n",
       "    .dataframe tbody tr th:only-of-type {\n",
       "        vertical-align: middle;\n",
       "    }\n",
       "\n",
       "    .dataframe tbody tr th {\n",
       "        vertical-align: top;\n",
       "    }\n",
       "\n",
       "    .dataframe thead th {\n",
       "        text-align: right;\n",
       "    }\n",
       "</style>\n",
       "<table border=\"1\" class=\"dataframe\">\n",
       "  <thead>\n",
       "    <tr style=\"text-align: right;\">\n",
       "      <th></th>\n",
       "      <th>dept</th>\n",
       "      <th>custody_type</th>\n",
       "      <th>race</th>\n",
       "      <th>death_type</th>\n",
       "      <th>age</th>\n",
       "    </tr>\n",
       "  </thead>\n",
       "  <tbody>\n",
       "    <tr>\n",
       "      <th>0</th>\n",
       "      <td>389</td>\n",
       "      <td>2</td>\n",
       "      <td>4</td>\n",
       "      <td>5</td>\n",
       "      <td>58.0</td>\n",
       "    </tr>\n",
       "    <tr>\n",
       "      <th>1</th>\n",
       "      <td>389</td>\n",
       "      <td>2</td>\n",
       "      <td>3</td>\n",
       "      <td>5</td>\n",
       "      <td>76.0</td>\n",
       "    </tr>\n",
       "    <tr>\n",
       "      <th>2</th>\n",
       "      <td>175</td>\n",
       "      <td>1</td>\n",
       "      <td>4</td>\n",
       "      <td>6</td>\n",
       "      <td>30.0</td>\n",
       "    </tr>\n",
       "    <tr>\n",
       "      <th>3</th>\n",
       "      <td>389</td>\n",
       "      <td>2</td>\n",
       "      <td>1</td>\n",
       "      <td>1</td>\n",
       "      <td>39.0</td>\n",
       "    </tr>\n",
       "    <tr>\n",
       "      <th>4</th>\n",
       "      <td>389</td>\n",
       "      <td>2</td>\n",
       "      <td>1</td>\n",
       "      <td>5</td>\n",
       "      <td>31.0</td>\n",
       "    </tr>\n",
       "  </tbody>\n",
       "</table>\n",
       "</div>"
      ],
      "text/plain": [
       "   dept  custody_type  race  death_type   age\n",
       "0   389             2     4           5  58.0\n",
       "1   389             2     3           5  76.0\n",
       "2   175             1     4           6  30.0\n",
       "3   389             2     1           1  39.0\n",
       "4   389             2     1           5  31.0"
      ]
     },
     "execution_count": 58,
     "metadata": {},
     "output_type": "execute_result"
    }
   ],
   "source": [
    "newcust.head()"
   ]
  },
  {
   "cell_type": "code",
   "execution_count": null,
   "metadata": {},
   "outputs": [],
   "source": []
  },
  {
   "cell_type": "code",
   "execution_count": 57,
   "metadata": {
    "scrolled": false
   },
   "outputs": [
    {
     "data": {
      "text/html": [
       "<div>\n",
       "<style scoped>\n",
       "    .dataframe tbody tr th:only-of-type {\n",
       "        vertical-align: middle;\n",
       "    }\n",
       "\n",
       "    .dataframe tbody tr th {\n",
       "        vertical-align: top;\n",
       "    }\n",
       "\n",
       "    .dataframe thead th {\n",
       "        text-align: right;\n",
       "    }\n",
       "</style>\n",
       "<table border=\"1\" class=\"dataframe\">\n",
       "  <thead>\n",
       "    <tr style=\"text-align: right;\">\n",
       "      <th></th>\n",
       "      <th>age</th>\n",
       "      <th>fatality</th>\n",
       "      <th>armed</th>\n",
       "      <th>race</th>\n",
       "      <th>dept</th>\n",
       "      <th>mult_officers</th>\n",
       "    </tr>\n",
       "  </thead>\n",
       "  <tbody>\n",
       "    <tr>\n",
       "      <th>103</th>\n",
       "      <td>26.0</td>\n",
       "      <td>0</td>\n",
       "      <td>2</td>\n",
       "      <td>4</td>\n",
       "      <td>0</td>\n",
       "      <td>0</td>\n",
       "    </tr>\n",
       "    <tr>\n",
       "      <th>104</th>\n",
       "      <td>16.0</td>\n",
       "      <td>0</td>\n",
       "      <td>2</td>\n",
       "      <td>2</td>\n",
       "      <td>0</td>\n",
       "      <td>0</td>\n",
       "    </tr>\n",
       "    <tr>\n",
       "      <th>105</th>\n",
       "      <td>26.0</td>\n",
       "      <td>0</td>\n",
       "      <td>2</td>\n",
       "      <td>0</td>\n",
       "      <td>0</td>\n",
       "      <td>1</td>\n",
       "    </tr>\n",
       "    <tr>\n",
       "      <th>106</th>\n",
       "      <td>35.0</td>\n",
       "      <td>0</td>\n",
       "      <td>0</td>\n",
       "      <td>4</td>\n",
       "      <td>0</td>\n",
       "      <td>0</td>\n",
       "    </tr>\n",
       "    <tr>\n",
       "      <th>107</th>\n",
       "      <td>30.0</td>\n",
       "      <td>0</td>\n",
       "      <td>2</td>\n",
       "      <td>2</td>\n",
       "      <td>0</td>\n",
       "      <td>0</td>\n",
       "    </tr>\n",
       "  </tbody>\n",
       "</table>\n",
       "</div>"
      ],
      "text/plain": [
       "      age  fatality  armed  race  dept  mult_officers\n",
       "103  26.0         0      2     4     0              0\n",
       "104  16.0         0      2     2     0              0\n",
       "105  26.0         0      2     0     0              1\n",
       "106  35.0         0      0     4     0              0\n",
       "107  30.0         0      2     2     0              0"
      ]
     },
     "execution_count": 57,
     "metadata": {},
     "output_type": "execute_result"
    }
   ],
   "source": [
    "newshoot.head()"
   ]
  },
  {
   "cell_type": "code",
   "execution_count": 49,
   "metadata": {},
   "outputs": [],
   "source": [
    "# make new column indicating where there was more than one officer involved in the incident\n",
    "newshoot['mult_officers'] = np.where(newshoot.number_officers> 1, 1, 0)"
   ]
  },
  {
   "cell_type": "code",
   "execution_count": 50,
   "metadata": {},
   "outputs": [],
   "source": [
    "# drop \"number of officers\" column as it is now redundant\n",
    "newshoot.drop('number_officers', axis=1, inplace=True)"
   ]
  },
  {
   "cell_type": "code",
   "execution_count": 51,
   "metadata": {},
   "outputs": [],
   "source": [
    "# drop \"Nature of Stop/Reason\" column because there are so many different values/inconsisent\n",
    "newshoot.drop('stop_reason', axis=1, inplace=True)"
   ]
  },
  {
   "cell_type": "code",
   "execution_count": 29,
   "metadata": {},
   "outputs": [
    {
     "data": {
      "text/plain": [
       "1    465\n",
       "3    147\n",
       "2     17\n",
       "0     11\n",
       "Name: sex, dtype: int64"
      ]
     },
     "execution_count": 29,
     "metadata": {},
     "output_type": "execute_result"
    }
   ],
   "source": [
    "newshoot.sex.value_counts()\n",
    "# \"3\" are NaN values, \"2\" are \"unknown\" and \"1\" are female"
   ]
  },
  {
   "cell_type": "code",
   "execution_count": 52,
   "metadata": {},
   "outputs": [],
   "source": [
    "# because there is very little variance in the \"sex\" feature it is dropped\n",
    "newshoot.drop('sex', axis=1, inplace=True)"
   ]
  },
  {
   "cell_type": "code",
   "execution_count": 31,
   "metadata": {},
   "outputs": [
    {
     "data": {
      "text/plain": [
       "W                    219\n",
       "L                     99\n",
       "B                     79\n",
       "H                     55\n",
       "W;W                   27\n",
       "A                     16\n",
       "W;L                    9\n",
       "L;W                    7\n",
       "L;L                    6\n",
       "U                      6\n",
       "W;W;W;W;W;W            6\n",
       "W;U                    5\n",
       "W;H                    5\n",
       "W,W                    5\n",
       "H; H                   4\n",
       "L;W;W                  4\n",
       "B;B                    4\n",
       "W;W;L                  4\n",
       "H;W                    3\n",
       "W;B                    3\n",
       "B;W                    3\n",
       "L;A                    3\n",
       "W;W;W                  3\n",
       "W, W                   2\n",
       "W; H                   2\n",
       "W, H                   2\n",
       "W,W,W                  2\n",
       "W;W;W;W;W              2\n",
       "H; W                   2\n",
       "H;W;B                  2\n",
       "                    ... \n",
       "B, W                   1\n",
       "W,W,H                  1\n",
       "H, B, W                1\n",
       "L; L                   1\n",
       "W, W, A                1\n",
       "W, B                   1\n",
       "W;W;H;W;W              1\n",
       "W, H, W, W             1\n",
       "H;U                    1\n",
       "H;W;W                  1\n",
       "A;L;L                  1\n",
       "A;A                    1\n",
       "W;W:W                  1\n",
       "B;H;H                  1\n",
       "H, W                   1\n",
       "W;L;L                  1\n",
       "L;B                    1\n",
       "W;W;W;W                1\n",
       "W;W;A;U;U              1\n",
       "W;W;B;B;W;H;B;W;H      1\n",
       "H;W;W;W                1\n",
       "W;L;U                  1\n",
       "B;W;W;W;W              1\n",
       "H,H,A                  1\n",
       "H,W                    1\n",
       "W; O                   1\n",
       "L;L;W                  1\n",
       "A;W;H                  1\n",
       "H; B; H; W             1\n",
       "W, U                   1\n",
       "Name: OfficerRace, Length: 76, dtype: int64"
      ]
     },
     "execution_count": 31,
     "metadata": {},
     "output_type": "execute_result"
    }
   ],
   "source": [
    "shoot.OfficerRace.value_counts()"
   ]
  },
  {
   "cell_type": "code",
   "execution_count": 53,
   "metadata": {},
   "outputs": [],
   "source": [
    "# drop \"Officer Race\" column because there are so many different values/inconsisent\n",
    "newshoot.drop('officer_race', axis=1, inplace=True)"
   ]
  },
  {
   "cell_type": "code",
   "execution_count": 54,
   "metadata": {},
   "outputs": [],
   "source": [
    "#\"year\" does not appear to be a valuable feature of interest\n",
    "newshoot.drop('year', axis=1, inplace=True)"
   ]
  },
  {
   "cell_type": "code",
   "execution_count": 55,
   "metadata": {},
   "outputs": [],
   "source": [
    "#\"month\" does not appear to be a valuable feature of interest\n",
    "newshoot.drop('month', axis=1, inplace=True)"
   ]
  },
  {
   "cell_type": "code",
   "execution_count": 35,
   "metadata": {},
   "outputs": [],
   "source": [
    "#\"dept\" is an \"id\" variable that may invalidate results\n",
    "newshoot.drop('dept', axis=1, inplace=True)"
   ]
  },
  {
   "cell_type": "code",
   "execution_count": 56,
   "metadata": {
    "scrolled": true
   },
   "outputs": [
    {
     "data": {
      "text/html": [
       "<div>\n",
       "<style scoped>\n",
       "    .dataframe tbody tr th:only-of-type {\n",
       "        vertical-align: middle;\n",
       "    }\n",
       "\n",
       "    .dataframe tbody tr th {\n",
       "        vertical-align: top;\n",
       "    }\n",
       "\n",
       "    .dataframe thead th {\n",
       "        text-align: right;\n",
       "    }\n",
       "</style>\n",
       "<table border=\"1\" class=\"dataframe\">\n",
       "  <thead>\n",
       "    <tr style=\"text-align: right;\">\n",
       "      <th></th>\n",
       "      <th>age</th>\n",
       "      <th>fatality</th>\n",
       "      <th>armed</th>\n",
       "      <th>race</th>\n",
       "      <th>dept</th>\n",
       "      <th>mult_officers</th>\n",
       "    </tr>\n",
       "  </thead>\n",
       "  <tbody>\n",
       "    <tr>\n",
       "      <th>103</th>\n",
       "      <td>26.0</td>\n",
       "      <td>0</td>\n",
       "      <td>2</td>\n",
       "      <td>4</td>\n",
       "      <td>0</td>\n",
       "      <td>0</td>\n",
       "    </tr>\n",
       "    <tr>\n",
       "      <th>104</th>\n",
       "      <td>16.0</td>\n",
       "      <td>0</td>\n",
       "      <td>2</td>\n",
       "      <td>2</td>\n",
       "      <td>0</td>\n",
       "      <td>0</td>\n",
       "    </tr>\n",
       "    <tr>\n",
       "      <th>105</th>\n",
       "      <td>26.0</td>\n",
       "      <td>0</td>\n",
       "      <td>2</td>\n",
       "      <td>0</td>\n",
       "      <td>0</td>\n",
       "      <td>1</td>\n",
       "    </tr>\n",
       "    <tr>\n",
       "      <th>106</th>\n",
       "      <td>35.0</td>\n",
       "      <td>0</td>\n",
       "      <td>0</td>\n",
       "      <td>4</td>\n",
       "      <td>0</td>\n",
       "      <td>0</td>\n",
       "    </tr>\n",
       "    <tr>\n",
       "      <th>107</th>\n",
       "      <td>30.0</td>\n",
       "      <td>0</td>\n",
       "      <td>2</td>\n",
       "      <td>2</td>\n",
       "      <td>0</td>\n",
       "      <td>0</td>\n",
       "    </tr>\n",
       "  </tbody>\n",
       "</table>\n",
       "</div>"
      ],
      "text/plain": [
       "      age  fatality  armed  race  dept  mult_officers\n",
       "103  26.0         0      2     4     0              0\n",
       "104  16.0         0      2     2     0              0\n",
       "105  26.0         0      2     0     0              1\n",
       "106  35.0         0      0     4     0              0\n",
       "107  30.0         0      2     2     0              0"
      ]
     },
     "execution_count": 56,
     "metadata": {},
     "output_type": "execute_result"
    }
   ],
   "source": [
    "newshoot.head()"
   ]
  },
  {
   "cell_type": "code",
   "execution_count": null,
   "metadata": {},
   "outputs": [],
   "source": []
  },
  {
   "cell_type": "code",
   "execution_count": 41,
   "metadata": {},
   "outputs": [],
   "source": [
    "#convert to csv for future use\n",
    "newcust.to_csv('custody_ML.csv')\n",
    "newshoot.to_csv('shootings_ML.csv')"
   ]
  },
  {
   "cell_type": "code",
   "execution_count": 6,
   "metadata": {},
   "outputs": [],
   "source": [
    "#save cleaned dfs\n",
    "cust.to_csv('clean_custody.csv')\n",
    "shoot.to_csv('clean_shootings.csv')"
   ]
  },
  {
   "cell_type": "code",
   "execution_count": null,
   "metadata": {},
   "outputs": [],
   "source": []
  },
  {
   "cell_type": "code",
   "execution_count": null,
   "metadata": {},
   "outputs": [],
   "source": []
  },
  {
   "cell_type": "code",
   "execution_count": null,
   "metadata": {},
   "outputs": [],
   "source": []
  }
 ],
 "metadata": {
  "kernelspec": {
   "display_name": "Python 3",
   "language": "python",
   "name": "python3"
  },
  "language_info": {
   "codemirror_mode": {
    "name": "ipython",
    "version": 3
   },
   "file_extension": ".py",
   "mimetype": "text/x-python",
   "name": "python",
   "nbconvert_exporter": "python",
   "pygments_lexer": "ipython3",
   "version": "3.6.3"
  }
 },
 "nbformat": 4,
 "nbformat_minor": 2
}
