{
 "cells": [
  {
   "cell_type": "code",
   "execution_count": 1,
   "metadata": {},
   "outputs": [
    {
     "name": "stderr",
     "output_type": "stream",
     "text": [
      "C:\\Users\\Lara\\Miniconda3\\lib\\site-packages\\sklearn\\cross_validation.py:41: DeprecationWarning: This module was deprecated in version 0.18 in favor of the model_selection module into which all the refactored classes and functions are moved. Also note that the interface of the new CV iterators are different from that of this module. This module will be removed in 0.20.\n",
      "  \"This module will be removed in 0.20.\", DeprecationWarning)\n"
     ]
    }
   ],
   "source": [
    "import pandas as pd\n",
    "import numpy as np\n",
    "\n",
    "# Loading the necessary libraries\n",
    "from sklearn.preprocessing import StandardScaler\n",
    "from sklearn.cross_validation import train_test_split\n",
    "from sklearn import model_selection\n",
    "from sklearn.model_selection import GridSearchCV\n",
    "#from sklearn.model_selection import RandomizedSearchCV\n",
    "from sklearn.model_selection import KFold\n",
    "from sklearn import metrics\n",
    "from sklearn.metrics import silhouette_samples, silhouette_score\n",
    "\n",
    "from sklearn.cluster import KMeans\n",
    "from sklearn.cluster import AffinityPropagation\n",
    "from sklearn.cluster import SpectralClustering\n",
    "from sklearn.cluster import AgglomerativeClustering\n",
    "from sklearn.cluster import DBSCAN\n",
    "\n",
    "\n",
    "\n",
    "cust = pd.read_csv('custody_ML.csv')\n",
    "shoot = pd.read_csv('shootings_ML.csv')"
   ]
  },
  {
   "cell_type": "code",
   "execution_count": 2,
   "metadata": {},
   "outputs": [
    {
     "data": {
      "text/html": [
       "<div>\n",
       "<style scoped>\n",
       "    .dataframe tbody tr th:only-of-type {\n",
       "        vertical-align: middle;\n",
       "    }\n",
       "\n",
       "    .dataframe tbody tr th {\n",
       "        vertical-align: top;\n",
       "    }\n",
       "\n",
       "    .dataframe thead th {\n",
       "        text-align: right;\n",
       "    }\n",
       "</style>\n",
       "<table border=\"1\" class=\"dataframe\">\n",
       "  <thead>\n",
       "    <tr style=\"text-align: right;\">\n",
       "      <th></th>\n",
       "      <th>Unnamed: 0</th>\n",
       "      <th>dept</th>\n",
       "      <th>custody_type</th>\n",
       "      <th>facility</th>\n",
       "      <th>race</th>\n",
       "      <th>sex</th>\n",
       "      <th>death_type</th>\n",
       "      <th>charge_status</th>\n",
       "      <th>age</th>\n",
       "      <th>year</th>\n",
       "      <th>month</th>\n",
       "    </tr>\n",
       "  </thead>\n",
       "  <tbody>\n",
       "    <tr>\n",
       "      <th>0</th>\n",
       "      <td>0</td>\n",
       "      <td>389</td>\n",
       "      <td>2</td>\n",
       "      <td>134</td>\n",
       "      <td>4</td>\n",
       "      <td>1</td>\n",
       "      <td>5</td>\n",
       "      <td>0</td>\n",
       "      <td>58.0</td>\n",
       "      <td>2012</td>\n",
       "      <td>9</td>\n",
       "    </tr>\n",
       "    <tr>\n",
       "      <th>1</th>\n",
       "      <td>1</td>\n",
       "      <td>389</td>\n",
       "      <td>2</td>\n",
       "      <td>115</td>\n",
       "      <td>3</td>\n",
       "      <td>1</td>\n",
       "      <td>5</td>\n",
       "      <td>0</td>\n",
       "      <td>76.0</td>\n",
       "      <td>2016</td>\n",
       "      <td>9</td>\n",
       "    </tr>\n",
       "    <tr>\n",
       "      <th>2</th>\n",
       "      <td>2</td>\n",
       "      <td>175</td>\n",
       "      <td>1</td>\n",
       "      <td>0</td>\n",
       "      <td>4</td>\n",
       "      <td>1</td>\n",
       "      <td>6</td>\n",
       "      <td>2</td>\n",
       "      <td>30.0</td>\n",
       "      <td>2016</td>\n",
       "      <td>12</td>\n",
       "    </tr>\n",
       "    <tr>\n",
       "      <th>3</th>\n",
       "      <td>3</td>\n",
       "      <td>389</td>\n",
       "      <td>2</td>\n",
       "      <td>60</td>\n",
       "      <td>1</td>\n",
       "      <td>1</td>\n",
       "      <td>1</td>\n",
       "      <td>0</td>\n",
       "      <td>39.0</td>\n",
       "      <td>2011</td>\n",
       "      <td>11</td>\n",
       "    </tr>\n",
       "    <tr>\n",
       "      <th>4</th>\n",
       "      <td>4</td>\n",
       "      <td>389</td>\n",
       "      <td>2</td>\n",
       "      <td>77</td>\n",
       "      <td>1</td>\n",
       "      <td>1</td>\n",
       "      <td>5</td>\n",
       "      <td>0</td>\n",
       "      <td>31.0</td>\n",
       "      <td>2014</td>\n",
       "      <td>12</td>\n",
       "    </tr>\n",
       "  </tbody>\n",
       "</table>\n",
       "</div>"
      ],
      "text/plain": [
       "   Unnamed: 0  dept  custody_type  facility  race  sex  death_type  \\\n",
       "0           0   389             2       134     4    1           5   \n",
       "1           1   389             2       115     3    1           5   \n",
       "2           2   175             1         0     4    1           6   \n",
       "3           3   389             2        60     1    1           1   \n",
       "4           4   389             2        77     1    1           5   \n",
       "\n",
       "   charge_status   age  year  month  \n",
       "0              0  58.0  2012      9  \n",
       "1              0  76.0  2016      9  \n",
       "2              2  30.0  2016     12  \n",
       "3              0  39.0  2011     11  \n",
       "4              0  31.0  2014     12  "
      ]
     },
     "execution_count": 2,
     "metadata": {},
     "output_type": "execute_result"
    }
   ],
   "source": [
    "cust.head()"
   ]
  },
  {
   "cell_type": "code",
   "execution_count": 3,
   "metadata": {},
   "outputs": [
    {
     "data": {
      "text/html": [
       "<div>\n",
       "<style scoped>\n",
       "    .dataframe tbody tr th:only-of-type {\n",
       "        vertical-align: middle;\n",
       "    }\n",
       "\n",
       "    .dataframe tbody tr th {\n",
       "        vertical-align: top;\n",
       "    }\n",
       "\n",
       "    .dataframe thead th {\n",
       "        text-align: right;\n",
       "    }\n",
       "</style>\n",
       "<table border=\"1\" class=\"dataframe\">\n",
       "  <thead>\n",
       "    <tr style=\"text-align: right;\">\n",
       "      <th></th>\n",
       "      <th>Unnamed: 0</th>\n",
       "      <th>age</th>\n",
       "      <th>number_officers</th>\n",
       "      <th>fatality</th>\n",
       "      <th>armed</th>\n",
       "      <th>race</th>\n",
       "      <th>sex</th>\n",
       "      <th>stop_reason</th>\n",
       "      <th>officer_race</th>\n",
       "      <th>dept</th>\n",
       "      <th>year</th>\n",
       "      <th>month</th>\n",
       "    </tr>\n",
       "  </thead>\n",
       "  <tbody>\n",
       "    <tr>\n",
       "      <th>0</th>\n",
       "      <td>103</td>\n",
       "      <td>26.0</td>\n",
       "      <td>1.0</td>\n",
       "      <td>0</td>\n",
       "      <td>2</td>\n",
       "      <td>4</td>\n",
       "      <td>1</td>\n",
       "      <td>23</td>\n",
       "      <td>13</td>\n",
       "      <td>0</td>\n",
       "      <td>2010</td>\n",
       "      <td>9</td>\n",
       "    </tr>\n",
       "    <tr>\n",
       "      <th>1</th>\n",
       "      <td>104</td>\n",
       "      <td>16.0</td>\n",
       "      <td>1.0</td>\n",
       "      <td>0</td>\n",
       "      <td>2</td>\n",
       "      <td>2</td>\n",
       "      <td>1</td>\n",
       "      <td>13</td>\n",
       "      <td>40</td>\n",
       "      <td>0</td>\n",
       "      <td>2010</td>\n",
       "      <td>10</td>\n",
       "    </tr>\n",
       "    <tr>\n",
       "      <th>2</th>\n",
       "      <td>105</td>\n",
       "      <td>26.0</td>\n",
       "      <td>2.0</td>\n",
       "      <td>0</td>\n",
       "      <td>2</td>\n",
       "      <td>0</td>\n",
       "      <td>1</td>\n",
       "      <td>66</td>\n",
       "      <td>48</td>\n",
       "      <td>0</td>\n",
       "      <td>2010</td>\n",
       "      <td>11</td>\n",
       "    </tr>\n",
       "    <tr>\n",
       "      <th>3</th>\n",
       "      <td>106</td>\n",
       "      <td>35.0</td>\n",
       "      <td>1.0</td>\n",
       "      <td>0</td>\n",
       "      <td>0</td>\n",
       "      <td>4</td>\n",
       "      <td>1</td>\n",
       "      <td>86</td>\n",
       "      <td>5</td>\n",
       "      <td>0</td>\n",
       "      <td>2010</td>\n",
       "      <td>12</td>\n",
       "    </tr>\n",
       "    <tr>\n",
       "      <th>4</th>\n",
       "      <td>107</td>\n",
       "      <td>30.0</td>\n",
       "      <td>1.0</td>\n",
       "      <td>0</td>\n",
       "      <td>2</td>\n",
       "      <td>2</td>\n",
       "      <td>1</td>\n",
       "      <td>66</td>\n",
       "      <td>13</td>\n",
       "      <td>0</td>\n",
       "      <td>2011</td>\n",
       "      <td>5</td>\n",
       "    </tr>\n",
       "  </tbody>\n",
       "</table>\n",
       "</div>"
      ],
      "text/plain": [
       "   Unnamed: 0   age  number_officers  fatality  armed  race  sex  stop_reason  \\\n",
       "0         103  26.0              1.0         0      2     4    1           23   \n",
       "1         104  16.0              1.0         0      2     2    1           13   \n",
       "2         105  26.0              2.0         0      2     0    1           66   \n",
       "3         106  35.0              1.0         0      0     4    1           86   \n",
       "4         107  30.0              1.0         0      2     2    1           66   \n",
       "\n",
       "   officer_race  dept  year  month  \n",
       "0            13     0  2010      9  \n",
       "1            40     0  2010     10  \n",
       "2            48     0  2010     11  \n",
       "3             5     0  2010     12  \n",
       "4            13     0  2011      5  "
      ]
     },
     "execution_count": 3,
     "metadata": {},
     "output_type": "execute_result"
    }
   ],
   "source": [
    "shoot.head()"
   ]
  },
  {
   "cell_type": "code",
   "execution_count": 2,
   "metadata": {},
   "outputs": [],
   "source": [
    "cust.drop('Unnamed: 0', axis=1, inplace=True)"
   ]
  },
  {
   "cell_type": "code",
   "execution_count": 3,
   "metadata": {},
   "outputs": [],
   "source": [
    "shoot.drop('Unnamed: 0', axis=1, inplace=True)"
   ]
  },
  {
   "cell_type": "code",
   "execution_count": 4,
   "metadata": {},
   "outputs": [
    {
     "data": {
      "text/html": [
       "<div>\n",
       "<style scoped>\n",
       "    .dataframe tbody tr th:only-of-type {\n",
       "        vertical-align: middle;\n",
       "    }\n",
       "\n",
       "    .dataframe tbody tr th {\n",
       "        vertical-align: top;\n",
       "    }\n",
       "\n",
       "    .dataframe thead th {\n",
       "        text-align: right;\n",
       "    }\n",
       "</style>\n",
       "<table border=\"1\" class=\"dataframe\">\n",
       "  <thead>\n",
       "    <tr style=\"text-align: right;\">\n",
       "      <th></th>\n",
       "      <th>dept</th>\n",
       "      <th>custody_type</th>\n",
       "      <th>facility</th>\n",
       "      <th>race</th>\n",
       "      <th>sex</th>\n",
       "      <th>death_type</th>\n",
       "      <th>charge_status</th>\n",
       "      <th>age</th>\n",
       "      <th>year</th>\n",
       "      <th>month</th>\n",
       "    </tr>\n",
       "  </thead>\n",
       "  <tbody>\n",
       "    <tr>\n",
       "      <th>0</th>\n",
       "      <td>0.555878</td>\n",
       "      <td>0.123491</td>\n",
       "      <td>0.230097</td>\n",
       "      <td>1.156565</td>\n",
       "      <td>0.238506</td>\n",
       "      <td>0.155584</td>\n",
       "      <td>-0.605742</td>\n",
       "      <td>0.590814</td>\n",
       "      <td>0.412088</td>\n",
       "      <td>0.723706</td>\n",
       "    </tr>\n",
       "    <tr>\n",
       "      <th>1</th>\n",
       "      <td>0.555878</td>\n",
       "      <td>0.123491</td>\n",
       "      <td>-0.095784</td>\n",
       "      <td>0.406515</td>\n",
       "      <td>0.238506</td>\n",
       "      <td>0.155584</td>\n",
       "      <td>-0.605742</td>\n",
       "      <td>1.798521</td>\n",
       "      <td>1.579194</td>\n",
       "      <td>0.723706</td>\n",
       "    </tr>\n",
       "    <tr>\n",
       "      <th>2</th>\n",
       "      <td>-1.378794</td>\n",
       "      <td>-1.037655</td>\n",
       "      <td>-2.068228</td>\n",
       "      <td>1.156565</td>\n",
       "      <td>0.238506</td>\n",
       "      <td>0.943599</td>\n",
       "      <td>1.487142</td>\n",
       "      <td>-1.287842</td>\n",
       "      <td>1.579194</td>\n",
       "      <td>1.595334</td>\n",
       "    </tr>\n",
       "    <tr>\n",
       "      <th>3</th>\n",
       "      <td>0.555878</td>\n",
       "      <td>0.123491</td>\n",
       "      <td>-1.039127</td>\n",
       "      <td>-1.093584</td>\n",
       "      <td>0.238506</td>\n",
       "      <td>-2.996475</td>\n",
       "      <td>-0.605742</td>\n",
       "      <td>-0.683988</td>\n",
       "      <td>0.120312</td>\n",
       "      <td>1.304791</td>\n",
       "    </tr>\n",
       "    <tr>\n",
       "      <th>4</th>\n",
       "      <td>0.555878</td>\n",
       "      <td>0.123491</td>\n",
       "      <td>-0.747548</td>\n",
       "      <td>-1.093584</td>\n",
       "      <td>0.238506</td>\n",
       "      <td>0.155584</td>\n",
       "      <td>-0.605742</td>\n",
       "      <td>-1.220747</td>\n",
       "      <td>0.995641</td>\n",
       "      <td>1.595334</td>\n",
       "    </tr>\n",
       "  </tbody>\n",
       "</table>\n",
       "</div>"
      ],
      "text/plain": [
       "       dept  custody_type  facility      race       sex  death_type  \\\n",
       "0  0.555878      0.123491  0.230097  1.156565  0.238506    0.155584   \n",
       "1  0.555878      0.123491 -0.095784  0.406515  0.238506    0.155584   \n",
       "2 -1.378794     -1.037655 -2.068228  1.156565  0.238506    0.943599   \n",
       "3  0.555878      0.123491 -1.039127 -1.093584  0.238506   -2.996475   \n",
       "4  0.555878      0.123491 -0.747548 -1.093584  0.238506    0.155584   \n",
       "\n",
       "   charge_status       age      year     month  \n",
       "0      -0.605742  0.590814  0.412088  0.723706  \n",
       "1      -0.605742  1.798521  1.579194  0.723706  \n",
       "2       1.487142 -1.287842  1.579194  1.595334  \n",
       "3      -0.605742 -0.683988  0.120312  1.304791  \n",
       "4      -0.605742 -1.220747  0.995641  1.595334  "
      ]
     },
     "execution_count": 4,
     "metadata": {},
     "output_type": "execute_result"
    }
   ],
   "source": [
    "#Scale cust df\n",
    "X_col = cust.columns\n",
    "\n",
    "cust_scaled = pd.DataFrame(StandardScaler().fit_transform(cust), columns= X_col)\n",
    "cust_scaled.head()"
   ]
  },
  {
   "cell_type": "code",
   "execution_count": 5,
   "metadata": {},
   "outputs": [
    {
     "data": {
      "text/html": [
       "<div>\n",
       "<style scoped>\n",
       "    .dataframe tbody tr th:only-of-type {\n",
       "        vertical-align: middle;\n",
       "    }\n",
       "\n",
       "    .dataframe tbody tr th {\n",
       "        vertical-align: top;\n",
       "    }\n",
       "\n",
       "    .dataframe thead th {\n",
       "        text-align: right;\n",
       "    }\n",
       "</style>\n",
       "<table border=\"1\" class=\"dataframe\">\n",
       "  <thead>\n",
       "    <tr style=\"text-align: right;\">\n",
       "      <th></th>\n",
       "      <th>age</th>\n",
       "      <th>number_officers</th>\n",
       "      <th>fatality</th>\n",
       "      <th>armed</th>\n",
       "      <th>race</th>\n",
       "      <th>sex</th>\n",
       "      <th>stop_reason</th>\n",
       "      <th>officer_race</th>\n",
       "      <th>dept</th>\n",
       "      <th>year</th>\n",
       "      <th>month</th>\n",
       "    </tr>\n",
       "  </thead>\n",
       "  <tbody>\n",
       "    <tr>\n",
       "      <th>0</th>\n",
       "      <td>-0.670348</td>\n",
       "      <td>-0.394330</td>\n",
       "      <td>-1.387608</td>\n",
       "      <td>0.980761</td>\n",
       "      <td>1.548471</td>\n",
       "      <td>-0.543893</td>\n",
       "      <td>-1.792733</td>\n",
       "      <td>-1.051157</td>\n",
       "      <td>-1.900016</td>\n",
       "      <td>-1.560899</td>\n",
       "      <td>0.761520</td>\n",
       "    </tr>\n",
       "    <tr>\n",
       "      <th>1</th>\n",
       "      <td>-1.716530</td>\n",
       "      <td>-0.394330</td>\n",
       "      <td>-1.387608</td>\n",
       "      <td>0.980761</td>\n",
       "      <td>-0.096378</td>\n",
       "      <td>-0.543893</td>\n",
       "      <td>-2.118722</td>\n",
       "      <td>0.439038</td>\n",
       "      <td>-1.900016</td>\n",
       "      <td>-1.560899</td>\n",
       "      <td>1.051969</td>\n",
       "    </tr>\n",
       "    <tr>\n",
       "      <th>2</th>\n",
       "      <td>-0.670348</td>\n",
       "      <td>0.469955</td>\n",
       "      <td>-1.387608</td>\n",
       "      <td>0.980761</td>\n",
       "      <td>-1.741227</td>\n",
       "      <td>-0.543893</td>\n",
       "      <td>-0.390982</td>\n",
       "      <td>0.880578</td>\n",
       "      <td>-1.900016</td>\n",
       "      <td>-1.560899</td>\n",
       "      <td>1.342418</td>\n",
       "    </tr>\n",
       "    <tr>\n",
       "      <th>3</th>\n",
       "      <td>0.271215</td>\n",
       "      <td>-0.394330</td>\n",
       "      <td>-1.387608</td>\n",
       "      <td>-1.040776</td>\n",
       "      <td>1.548471</td>\n",
       "      <td>-0.543893</td>\n",
       "      <td>0.260995</td>\n",
       "      <td>-1.492696</td>\n",
       "      <td>-1.900016</td>\n",
       "      <td>-1.560899</td>\n",
       "      <td>1.632866</td>\n",
       "    </tr>\n",
       "    <tr>\n",
       "      <th>4</th>\n",
       "      <td>-0.251876</td>\n",
       "      <td>-0.394330</td>\n",
       "      <td>-1.387608</td>\n",
       "      <td>0.980761</td>\n",
       "      <td>-0.096378</td>\n",
       "      <td>-0.543893</td>\n",
       "      <td>-0.390982</td>\n",
       "      <td>-1.051157</td>\n",
       "      <td>-1.900016</td>\n",
       "      <td>-1.048604</td>\n",
       "      <td>-0.400275</td>\n",
       "    </tr>\n",
       "  </tbody>\n",
       "</table>\n",
       "</div>"
      ],
      "text/plain": [
       "        age  number_officers  fatality     armed      race       sex  \\\n",
       "0 -0.670348        -0.394330 -1.387608  0.980761  1.548471 -0.543893   \n",
       "1 -1.716530        -0.394330 -1.387608  0.980761 -0.096378 -0.543893   \n",
       "2 -0.670348         0.469955 -1.387608  0.980761 -1.741227 -0.543893   \n",
       "3  0.271215        -0.394330 -1.387608 -1.040776  1.548471 -0.543893   \n",
       "4 -0.251876        -0.394330 -1.387608  0.980761 -0.096378 -0.543893   \n",
       "\n",
       "   stop_reason  officer_race      dept      year     month  \n",
       "0    -1.792733     -1.051157 -1.900016 -1.560899  0.761520  \n",
       "1    -2.118722      0.439038 -1.900016 -1.560899  1.051969  \n",
       "2    -0.390982      0.880578 -1.900016 -1.560899  1.342418  \n",
       "3     0.260995     -1.492696 -1.900016 -1.560899  1.632866  \n",
       "4    -0.390982     -1.051157 -1.900016 -1.048604 -0.400275  "
      ]
     },
     "execution_count": 5,
     "metadata": {},
     "output_type": "execute_result"
    }
   ],
   "source": [
    "#Scale shoot df\n",
    "X_cols = shoot.columns\n",
    "\n",
    "shoot_scaled = pd.DataFrame(StandardScaler().fit_transform(shoot), columns = X_cols)\n",
    "shoot_scaled.head()"
   ]
  },
  {
   "cell_type": "code",
   "execution_count": null,
   "metadata": {},
   "outputs": [],
   "source": []
  },
  {
   "cell_type": "markdown",
   "metadata": {},
   "source": [
    "# Deaths in Custody"
   ]
  },
  {
   "cell_type": "code",
   "execution_count": 6,
   "metadata": {},
   "outputs": [],
   "source": [
    "#create training and testing groups of Custody data\n",
    "train_cust, test_cust= train_test_split(cust_scaled, test_size = 0.2, random_state = 11)"
   ]
  },
  {
   "cell_type": "markdown",
   "metadata": {},
   "source": [
    "## KMeans Clustering"
   ]
  },
  {
   "cell_type": "code",
   "execution_count": 9,
   "metadata": {
    "scrolled": false
   },
   "outputs": [
    {
     "name": "stdout",
     "output_type": "stream",
     "text": [
      "The number of clusters, 2, and silhouette coefficient is 0.28\n",
      "The number of clusters, 3, and silhouette coefficient is 0.31\n",
      "The number of clusters, 4, and silhouette coefficient is 0.32\n",
      "The number of clusters, 5, and silhouette coefficient is 0.18\n",
      "The number of clusters, 6, and silhouette coefficient is 0.17\n",
      "The number of clusters, 7, and silhouette coefficient is 0.18\n",
      "The number of clusters, 8, and silhouette coefficient is 0.18\n",
      "The number of clusters, 9, and silhouette coefficient is 0.18\n",
      "The number of clusters, 10, and silhouette coefficient is 0.17\n"
     ]
    }
   ],
   "source": [
    "#KMeans Clustering of Custody data\n",
    "k_range = range(2,11)\n",
    "\n",
    "for i in k_range:\n",
    "    model = KMeans(n_clusters=i,random_state=11)\n",
    "    pred =model.fit_predict(train_cust)\n",
    "    silhouette_avg = silhouette_score(train_cust,pred)\n",
    "    print('The number of clusters, %d, and silhouette coefficient is %0.2f'% (i,silhouette_avg))"
   ]
  },
  {
   "cell_type": "markdown",
   "metadata": {},
   "source": [
    "## Affinity Propagation"
   ]
  },
  {
   "cell_type": "code",
   "execution_count": 24,
   "metadata": {},
   "outputs": [
    {
     "name": "stdout",
     "output_type": "stream",
     "text": [
      "Silhouette Coefficient: 0.162\n"
     ]
    }
   ],
   "source": [
    "# Affinity propagation with default parameters\n",
    "affPro = AffinityPropagation()\n",
    "affPro.fit_predict(train_cust)\n",
    "centers = affPro.cluster_centers_indices_\n",
    "labels = affPro.labels_\n",
    "print(\"Silhouette Coefficient: %0.3f\"% silhouette_score(train_cust, labels, metric='euclidean'))"
   ]
  },
  {
   "cell_type": "markdown",
   "metadata": {},
   "source": [
    "#### Tuning"
   ]
  },
  {
   "cell_type": "code",
   "execution_count": 21,
   "metadata": {
    "collapsed": true
   },
   "outputs": [
    {
     "name": "stdout",
     "output_type": "stream",
     "text": [
      "damping =  0.5 convergence_iter =  7\n",
      "Silhouette Coefficient: 0.162\n",
      "damping =  0.5 convergence_iter =  15\n",
      "Silhouette Coefficient: 0.162\n",
      "damping =  0.5 convergence_iter =  23\n",
      "Silhouette Coefficient: 0.162\n",
      "damping =  0.75 convergence_iter =  7\n",
      "Silhouette Coefficient: 0.167\n",
      "damping =  0.75 convergence_iter =  15\n",
      "Silhouette Coefficient: 0.167\n",
      "damping =  0.75 convergence_iter =  23\n",
      "Silhouette Coefficient: 0.167\n",
      "damping =  0.99 convergence_iter =  7\n"
     ]
    },
    {
     "ename": "ValueError",
     "evalue": "Number of labels is 1. Valid values are 2 to n_samples - 1 (inclusive)",
     "output_type": "error",
     "traceback": [
      "\u001b[1;31m---------------------------------------------------------------------------\u001b[0m",
      "\u001b[1;31mValueError\u001b[0m                                Traceback (most recent call last)",
      "\u001b[1;32m<ipython-input-21-a630bd7e24cc>\u001b[0m in \u001b[0;36m<module>\u001b[1;34m()\u001b[0m\n\u001b[0;32m      9\u001b[0m         \u001b[0mlabels\u001b[0m \u001b[1;33m=\u001b[0m \u001b[0maffPro\u001b[0m\u001b[1;33m.\u001b[0m\u001b[0mlabels_\u001b[0m\u001b[1;33m\u001b[0m\u001b[0m\n\u001b[0;32m     10\u001b[0m         \u001b[0mprint\u001b[0m\u001b[1;33m(\u001b[0m\u001b[1;34m\"damping = \"\u001b[0m\u001b[1;33m,\u001b[0m \u001b[0md\u001b[0m\u001b[1;33m,\u001b[0m \u001b[1;34m\"convergence_iter = \"\u001b[0m\u001b[1;33m,\u001b[0m\u001b[0mc\u001b[0m\u001b[1;33m)\u001b[0m\u001b[1;33m\u001b[0m\u001b[0m\n\u001b[1;32m---> 11\u001b[1;33m         \u001b[0mprint\u001b[0m\u001b[1;33m(\u001b[0m\u001b[1;34m\"Silhouette Coefficient: %0.3f\"\u001b[0m\u001b[1;33m%\u001b[0m \u001b[0msilhouette_score\u001b[0m\u001b[1;33m(\u001b[0m\u001b[0mtrain_cust\u001b[0m\u001b[1;33m,\u001b[0m \u001b[0mlabels\u001b[0m\u001b[1;33m,\u001b[0m \u001b[0mmetric\u001b[0m\u001b[1;33m=\u001b[0m\u001b[1;34m'euclidean'\u001b[0m\u001b[1;33m)\u001b[0m\u001b[1;33m)\u001b[0m\u001b[1;33m\u001b[0m\u001b[0m\n\u001b[0m",
      "\u001b[1;32m~\\Miniconda3\\lib\\site-packages\\sklearn\\metrics\\cluster\\unsupervised.py\u001b[0m in \u001b[0;36msilhouette_score\u001b[1;34m(X, labels, metric, sample_size, random_state, **kwds)\u001b[0m\n\u001b[0;32m     99\u001b[0m         \u001b[1;32melse\u001b[0m\u001b[1;33m:\u001b[0m\u001b[1;33m\u001b[0m\u001b[0m\n\u001b[0;32m    100\u001b[0m             \u001b[0mX\u001b[0m\u001b[1;33m,\u001b[0m \u001b[0mlabels\u001b[0m \u001b[1;33m=\u001b[0m \u001b[0mX\u001b[0m\u001b[1;33m[\u001b[0m\u001b[0mindices\u001b[0m\u001b[1;33m]\u001b[0m\u001b[1;33m,\u001b[0m \u001b[0mlabels\u001b[0m\u001b[1;33m[\u001b[0m\u001b[0mindices\u001b[0m\u001b[1;33m]\u001b[0m\u001b[1;33m\u001b[0m\u001b[0m\n\u001b[1;32m--> 101\u001b[1;33m     \u001b[1;32mreturn\u001b[0m \u001b[0mnp\u001b[0m\u001b[1;33m.\u001b[0m\u001b[0mmean\u001b[0m\u001b[1;33m(\u001b[0m\u001b[0msilhouette_samples\u001b[0m\u001b[1;33m(\u001b[0m\u001b[0mX\u001b[0m\u001b[1;33m,\u001b[0m \u001b[0mlabels\u001b[0m\u001b[1;33m,\u001b[0m \u001b[0mmetric\u001b[0m\u001b[1;33m=\u001b[0m\u001b[0mmetric\u001b[0m\u001b[1;33m,\u001b[0m \u001b[1;33m**\u001b[0m\u001b[0mkwds\u001b[0m\u001b[1;33m)\u001b[0m\u001b[1;33m)\u001b[0m\u001b[1;33m\u001b[0m\u001b[0m\n\u001b[0m\u001b[0;32m    102\u001b[0m \u001b[1;33m\u001b[0m\u001b[0m\n\u001b[0;32m    103\u001b[0m \u001b[1;33m\u001b[0m\u001b[0m\n",
      "\u001b[1;32m~\\Miniconda3\\lib\\site-packages\\sklearn\\metrics\\cluster\\unsupervised.py\u001b[0m in \u001b[0;36msilhouette_samples\u001b[1;34m(X, labels, metric, **kwds)\u001b[0m\n\u001b[0;32m    165\u001b[0m     \u001b[0mle\u001b[0m \u001b[1;33m=\u001b[0m \u001b[0mLabelEncoder\u001b[0m\u001b[1;33m(\u001b[0m\u001b[1;33m)\u001b[0m\u001b[1;33m\u001b[0m\u001b[0m\n\u001b[0;32m    166\u001b[0m     \u001b[0mlabels\u001b[0m \u001b[1;33m=\u001b[0m \u001b[0mle\u001b[0m\u001b[1;33m.\u001b[0m\u001b[0mfit_transform\u001b[0m\u001b[1;33m(\u001b[0m\u001b[0mlabels\u001b[0m\u001b[1;33m)\u001b[0m\u001b[1;33m\u001b[0m\u001b[0m\n\u001b[1;32m--> 167\u001b[1;33m     \u001b[0mcheck_number_of_labels\u001b[0m\u001b[1;33m(\u001b[0m\u001b[0mlen\u001b[0m\u001b[1;33m(\u001b[0m\u001b[0mle\u001b[0m\u001b[1;33m.\u001b[0m\u001b[0mclasses_\u001b[0m\u001b[1;33m)\u001b[0m\u001b[1;33m,\u001b[0m \u001b[0mX\u001b[0m\u001b[1;33m.\u001b[0m\u001b[0mshape\u001b[0m\u001b[1;33m[\u001b[0m\u001b[1;36m0\u001b[0m\u001b[1;33m]\u001b[0m\u001b[1;33m)\u001b[0m\u001b[1;33m\u001b[0m\u001b[0m\n\u001b[0m\u001b[0;32m    168\u001b[0m \u001b[1;33m\u001b[0m\u001b[0m\n\u001b[0;32m    169\u001b[0m     \u001b[0mdistances\u001b[0m \u001b[1;33m=\u001b[0m \u001b[0mpairwise_distances\u001b[0m\u001b[1;33m(\u001b[0m\u001b[0mX\u001b[0m\u001b[1;33m,\u001b[0m \u001b[0mmetric\u001b[0m\u001b[1;33m=\u001b[0m\u001b[0mmetric\u001b[0m\u001b[1;33m,\u001b[0m \u001b[1;33m**\u001b[0m\u001b[0mkwds\u001b[0m\u001b[1;33m)\u001b[0m\u001b[1;33m\u001b[0m\u001b[0m\n",
      "\u001b[1;32m~\\Miniconda3\\lib\\site-packages\\sklearn\\metrics\\cluster\\unsupervised.py\u001b[0m in \u001b[0;36mcheck_number_of_labels\u001b[1;34m(n_labels, n_samples)\u001b[0m\n\u001b[0;32m     17\u001b[0m     \u001b[1;32mif\u001b[0m \u001b[1;32mnot\u001b[0m \u001b[1;36m1\u001b[0m \u001b[1;33m<\u001b[0m \u001b[0mn_labels\u001b[0m \u001b[1;33m<\u001b[0m \u001b[0mn_samples\u001b[0m\u001b[1;33m:\u001b[0m\u001b[1;33m\u001b[0m\u001b[0m\n\u001b[0;32m     18\u001b[0m         raise ValueError(\"Number of labels is %d. Valid values are 2 \"\n\u001b[1;32m---> 19\u001b[1;33m                          \"to n_samples - 1 (inclusive)\" % n_labels)\n\u001b[0m\u001b[0;32m     20\u001b[0m \u001b[1;33m\u001b[0m\u001b[0m\n\u001b[0;32m     21\u001b[0m \u001b[1;33m\u001b[0m\u001b[0m\n",
      "\u001b[1;31mValueError\u001b[0m: Number of labels is 1. Valid values are 2 to n_samples - 1 (inclusive)"
     ]
    }
   ],
   "source": [
    "#attempt 1\n",
    "damp = [0.5, 0.75, .99]\n",
    "conv = [7, 15, 23]\n",
    "\n",
    "for d in damp:\n",
    "    for c in conv:\n",
    "        affPro = AffinityPropagation(damping= d, convergence_iter= c)\n",
    "        affPro.fit_predict(train_cust)\n",
    "        centers = affPro.cluster_centers_indices_ \n",
    "        labels = affPro.labels_\n",
    "        print(\"damping = \", d, \"convergence_iter = \",c)\n",
    "        print(\"Silhouette Coefficient: %0.3f\"% silhouette_score(train_cust, labels, metric='euclidean'))"
   ]
  },
  {
   "cell_type": "code",
   "execution_count": 9,
   "metadata": {
    "scrolled": true
   },
   "outputs": [
    {
     "name": "stdout",
     "output_type": "stream",
     "text": [
      "damping =  0.95 convergence_iter =  7\n",
      "Silhouette Coefficient: 0.166\n",
      "damping =  0.95 convergence_iter =  15\n",
      "Silhouette Coefficient: 0.167\n",
      "damping =  0.95 convergence_iter =  23\n",
      "Silhouette Coefficient: 0.167\n",
      "damping =  0.75 convergence_iter =  7\n",
      "Silhouette Coefficient: 0.167\n",
      "damping =  0.75 convergence_iter =  15\n",
      "Silhouette Coefficient: 0.167\n",
      "damping =  0.75 convergence_iter =  23\n",
      "Silhouette Coefficient: 0.167\n",
      "damping =  0.5 convergence_iter =  7\n",
      "Silhouette Coefficient: 0.162\n",
      "damping =  0.5 convergence_iter =  15\n",
      "Silhouette Coefficient: 0.162\n",
      "damping =  0.5 convergence_iter =  23\n",
      "Silhouette Coefficient: 0.162\n"
     ]
    }
   ],
   "source": [
    "#attempt 2\n",
    "damp = [.95, 0.75, 0.5]\n",
    "conv = [7, 15, 23]\n",
    "\n",
    "for d in damp:\n",
    "    for c in conv:\n",
    "        affPro = AffinityPropagation(damping= d, convergence_iter= c)\n",
    "        affPro.fit_predict(train_cust)\n",
    "        centers = affPro.cluster_centers_indices_ \n",
    "        labels = affPro.labels_\n",
    "        print(\"damping = \", d, \"convergence_iter = \",c)\n",
    "        print(\"Silhouette Coefficient: %0.3f\"% silhouette_score(train_cust, labels, metric='euclidean'))"
   ]
  },
  {
   "cell_type": "code",
   "execution_count": 10,
   "metadata": {},
   "outputs": [
    {
     "name": "stdout",
     "output_type": "stream",
     "text": [
      "damping =  0.95 convergence_iter =  15\n",
      "Silhouette Coefficient: 0.167\n",
      "damping =  0.95 convergence_iter =  23\n",
      "Silhouette Coefficient: 0.167\n",
      "damping =  0.95 convergence_iter =  40\n",
      "Silhouette Coefficient: 0.167\n",
      "damping =  0.85 convergence_iter =  15\n",
      "Silhouette Coefficient: 0.166\n",
      "damping =  0.85 convergence_iter =  23\n",
      "Silhouette Coefficient: 0.166\n",
      "damping =  0.85 convergence_iter =  40\n",
      "Silhouette Coefficient: 0.166\n",
      "damping =  0.75 convergence_iter =  15\n",
      "Silhouette Coefficient: 0.167\n",
      "damping =  0.75 convergence_iter =  23\n",
      "Silhouette Coefficient: 0.167\n",
      "damping =  0.75 convergence_iter =  40\n",
      "Silhouette Coefficient: 0.167\n"
     ]
    }
   ],
   "source": [
    "#attempt 3\n",
    "damp = [0.95, 0.85, 0.75]\n",
    "conv = [15, 23, 40]\n",
    "\n",
    "for d in damp:\n",
    "    for c in conv:\n",
    "        affPro = AffinityPropagation(damping= d, convergence_iter= c)\n",
    "        affPro.fit_predict(train_cust)\n",
    "        centers = affPro.cluster_centers_indices_ \n",
    "        labels = affPro.labels_\n",
    "        print(\"damping = \", d, \"convergence_iter = \",c)\n",
    "        print(\"Silhouette Coefficient: %0.3f\"% silhouette_score(train_cust, labels, metric='euclidean'))"
   ]
  },
  {
   "cell_type": "markdown",
   "metadata": {},
   "source": [
    "## Spectral Clustering"
   ]
  },
  {
   "cell_type": "code",
   "execution_count": 25,
   "metadata": {},
   "outputs": [
    {
     "name": "stdout",
     "output_type": "stream",
     "text": [
      "The number of clusters, 2, and silhouette coefficient is 0.09\n",
      "The number of clusters, 3, and silhouette coefficient is -0.06\n",
      "The number of clusters, 4, and silhouette coefficient is -0.06\n",
      "The number of clusters, 5, and silhouette coefficient is -0.07\n",
      "The number of clusters, 6, and silhouette coefficient is -0.09\n",
      "The number of clusters, 7, and silhouette coefficient is -0.09\n",
      "The number of clusters, 8, and silhouette coefficient is -0.10\n",
      "The number of clusters, 9, and silhouette coefficient is -0.10\n",
      "The number of clusters, 10, and silhouette coefficient is -0.11\n"
     ]
    }
   ],
   "source": [
    "# Spectral clustering\n",
    "for k in range(2,11):\n",
    "    spect = SpectralClustering(n_clusters=k,random_state=11)\n",
    "    spect.fit_predict(train_cust)\n",
    "    spectlabel = spect.labels_\n",
    "    score= silhouette_score(train_cust, spectlabel, metric='euclidean')\n",
    "    print(\"The number of clusters: %d, silhouette coefficient: %0.2f\" % (k,score))"
   ]
  },
  {
   "cell_type": "markdown",
   "metadata": {},
   "source": [
    "#### Tuning"
   ]
  },
  {
   "cell_type": "code",
   "execution_count": 11,
   "metadata": {
    "collapsed": true
   },
   "outputs": [
    {
     "name": "stdout",
     "output_type": "stream",
     "text": [
      "The number of clusters: 2, gamma: 0.500000, silhouette coefficient: 0.13\n",
      "The number of clusters: 3, gamma: 0.500000, silhouette coefficient: 0.14\n",
      "The number of clusters: 4, gamma: 0.500000, silhouette coefficient: -0.05\n",
      "The number of clusters: 5, gamma: 0.500000, silhouette coefficient: -0.04\n",
      "The number of clusters: 6, gamma: 0.500000, silhouette coefficient: -0.07\n",
      "The number of clusters: 7, gamma: 0.500000, silhouette coefficient: -0.06\n",
      "The number of clusters: 8, gamma: 0.500000, silhouette coefficient: -0.06\n",
      "The number of clusters: 9, gamma: 0.500000, silhouette coefficient: -0.08\n",
      "The number of clusters: 10, gamma: 0.500000, silhouette coefficient: -0.08\n",
      "The number of clusters: 2, gamma: 1.000000, silhouette coefficient: 0.09\n",
      "The number of clusters: 3, gamma: 1.000000, silhouette coefficient: -0.06\n",
      "The number of clusters: 4, gamma: 1.000000, silhouette coefficient: -0.06\n",
      "The number of clusters: 5, gamma: 1.000000, silhouette coefficient: -0.07\n",
      "The number of clusters: 6, gamma: 1.000000, silhouette coefficient: -0.09\n",
      "The number of clusters: 7, gamma: 1.000000, silhouette coefficient: -0.09\n",
      "The number of clusters: 8, gamma: 1.000000, silhouette coefficient: -0.10\n",
      "The number of clusters: 9, gamma: 1.000000, silhouette coefficient: -0.10\n",
      "The number of clusters: 10, gamma: 1.000000, silhouette coefficient: -0.11\n"
     ]
    },
    {
     "ename": "KeyboardInterrupt",
     "evalue": "",
     "output_type": "error",
     "traceback": [
      "\u001b[1;31m---------------------------------------------------------------------------\u001b[0m",
      "\u001b[1;31mKeyboardInterrupt\u001b[0m                         Traceback (most recent call last)",
      "\u001b[1;32m<ipython-input-11-9651ed1a95ac>\u001b[0m in \u001b[0;36m<module>\u001b[1;34m()\u001b[0m\n\u001b[0;32m      4\u001b[0m     \u001b[1;32mfor\u001b[0m \u001b[0mk\u001b[0m \u001b[1;32min\u001b[0m \u001b[0mrange\u001b[0m\u001b[1;33m(\u001b[0m\u001b[1;36m2\u001b[0m\u001b[1;33m,\u001b[0m\u001b[1;36m11\u001b[0m\u001b[1;33m)\u001b[0m\u001b[1;33m:\u001b[0m\u001b[1;33m\u001b[0m\u001b[0m\n\u001b[0;32m      5\u001b[0m         \u001b[0mspect\u001b[0m \u001b[1;33m=\u001b[0m \u001b[0mSpectralClustering\u001b[0m\u001b[1;33m(\u001b[0m\u001b[0mn_clusters\u001b[0m\u001b[1;33m=\u001b[0m\u001b[0mk\u001b[0m\u001b[1;33m,\u001b[0m \u001b[0mrandom_state\u001b[0m\u001b[1;33m=\u001b[0m\u001b[1;36m11\u001b[0m\u001b[1;33m,\u001b[0m \u001b[0mn_jobs\u001b[0m \u001b[1;33m=\u001b[0m\u001b[1;33m-\u001b[0m\u001b[1;36m1\u001b[0m\u001b[1;33m,\u001b[0m \u001b[0mgamma\u001b[0m\u001b[1;33m=\u001b[0m \u001b[0mg\u001b[0m\u001b[1;33m)\u001b[0m\u001b[1;33m\u001b[0m\u001b[0m\n\u001b[1;32m----> 6\u001b[1;33m         \u001b[0mspect\u001b[0m\u001b[1;33m.\u001b[0m\u001b[0mfit_predict\u001b[0m\u001b[1;33m(\u001b[0m\u001b[0mtrain_cust\u001b[0m\u001b[1;33m)\u001b[0m\u001b[1;33m\u001b[0m\u001b[0m\n\u001b[0m\u001b[0;32m      7\u001b[0m         \u001b[0mspectlabel\u001b[0m \u001b[1;33m=\u001b[0m \u001b[0mspect\u001b[0m\u001b[1;33m.\u001b[0m\u001b[0mlabels_\u001b[0m\u001b[1;33m\u001b[0m\u001b[0m\n\u001b[0;32m      8\u001b[0m         \u001b[0mscore\u001b[0m\u001b[1;33m=\u001b[0m \u001b[0msilhouette_score\u001b[0m\u001b[1;33m(\u001b[0m\u001b[0mtrain_cust\u001b[0m\u001b[1;33m,\u001b[0m \u001b[0mspectlabel\u001b[0m\u001b[1;33m,\u001b[0m \u001b[0mmetric\u001b[0m\u001b[1;33m=\u001b[0m\u001b[1;34m'euclidean'\u001b[0m\u001b[1;33m)\u001b[0m\u001b[1;33m\u001b[0m\u001b[0m\n",
      "\u001b[1;32m~\\Miniconda3\\lib\\site-packages\\sklearn\\base.py\u001b[0m in \u001b[0;36mfit_predict\u001b[1;34m(self, X, y)\u001b[0m\n\u001b[0;32m    408\u001b[0m         \u001b[1;31m# non-optimized default implementation; override when a better\u001b[0m\u001b[1;33m\u001b[0m\u001b[1;33m\u001b[0m\u001b[0m\n\u001b[0;32m    409\u001b[0m         \u001b[1;31m# method is possible for a given clustering algorithm\u001b[0m\u001b[1;33m\u001b[0m\u001b[1;33m\u001b[0m\u001b[0m\n\u001b[1;32m--> 410\u001b[1;33m         \u001b[0mself\u001b[0m\u001b[1;33m.\u001b[0m\u001b[0mfit\u001b[0m\u001b[1;33m(\u001b[0m\u001b[0mX\u001b[0m\u001b[1;33m)\u001b[0m\u001b[1;33m\u001b[0m\u001b[0m\n\u001b[0m\u001b[0;32m    411\u001b[0m         \u001b[1;32mreturn\u001b[0m \u001b[0mself\u001b[0m\u001b[1;33m.\u001b[0m\u001b[0mlabels_\u001b[0m\u001b[1;33m\u001b[0m\u001b[0m\n\u001b[0;32m    412\u001b[0m \u001b[1;33m\u001b[0m\u001b[0m\n",
      "\u001b[1;32m~\\Miniconda3\\lib\\site-packages\\sklearn\\cluster\\spectral.py\u001b[0m in \u001b[0;36mfit\u001b[1;34m(self, X, y)\u001b[0m\n\u001b[0;32m    470\u001b[0m                                            \u001b[0mn_init\u001b[0m\u001b[1;33m=\u001b[0m\u001b[0mself\u001b[0m\u001b[1;33m.\u001b[0m\u001b[0mn_init\u001b[0m\u001b[1;33m,\u001b[0m\u001b[1;33m\u001b[0m\u001b[0m\n\u001b[0;32m    471\u001b[0m                                            \u001b[0meigen_tol\u001b[0m\u001b[1;33m=\u001b[0m\u001b[0mself\u001b[0m\u001b[1;33m.\u001b[0m\u001b[0meigen_tol\u001b[0m\u001b[1;33m,\u001b[0m\u001b[1;33m\u001b[0m\u001b[0m\n\u001b[1;32m--> 472\u001b[1;33m                                            assign_labels=self.assign_labels)\n\u001b[0m\u001b[0;32m    473\u001b[0m         \u001b[1;32mreturn\u001b[0m \u001b[0mself\u001b[0m\u001b[1;33m\u001b[0m\u001b[0m\n\u001b[0;32m    474\u001b[0m \u001b[1;33m\u001b[0m\u001b[0m\n",
      "\u001b[1;32m~\\Miniconda3\\lib\\site-packages\\sklearn\\cluster\\spectral.py\u001b[0m in \u001b[0;36mspectral_clustering\u001b[1;34m(affinity, n_clusters, n_components, eigen_solver, random_state, n_init, eigen_tol, assign_labels)\u001b[0m\n\u001b[0;32m    260\u001b[0m                               \u001b[0meigen_solver\u001b[0m\u001b[1;33m=\u001b[0m\u001b[0meigen_solver\u001b[0m\u001b[1;33m,\u001b[0m\u001b[1;33m\u001b[0m\u001b[0m\n\u001b[0;32m    261\u001b[0m                               \u001b[0mrandom_state\u001b[0m\u001b[1;33m=\u001b[0m\u001b[0mrandom_state\u001b[0m\u001b[1;33m,\u001b[0m\u001b[1;33m\u001b[0m\u001b[0m\n\u001b[1;32m--> 262\u001b[1;33m                               eigen_tol=eigen_tol, drop_first=False)\n\u001b[0m\u001b[0;32m    263\u001b[0m \u001b[1;33m\u001b[0m\u001b[0m\n\u001b[0;32m    264\u001b[0m     \u001b[1;32mif\u001b[0m \u001b[0massign_labels\u001b[0m \u001b[1;33m==\u001b[0m \u001b[1;34m'kmeans'\u001b[0m\u001b[1;33m:\u001b[0m\u001b[1;33m\u001b[0m\u001b[0m\n",
      "\u001b[1;32m~\\Miniconda3\\lib\\site-packages\\sklearn\\manifold\\spectral_embedding_.py\u001b[0m in \u001b[0;36mspectral_embedding\u001b[1;34m(adjacency, n_components, eigen_solver, random_state, eigen_tol, norm_laplacian, drop_first)\u001b[0m\n\u001b[0;32m    268\u001b[0m             lambdas, diffusion_map = eigsh(laplacian, k=n_components,\n\u001b[0;32m    269\u001b[0m                                            \u001b[0msigma\u001b[0m\u001b[1;33m=\u001b[0m\u001b[1;36m1.0\u001b[0m\u001b[1;33m,\u001b[0m \u001b[0mwhich\u001b[0m\u001b[1;33m=\u001b[0m\u001b[1;34m'LM'\u001b[0m\u001b[1;33m,\u001b[0m\u001b[1;33m\u001b[0m\u001b[0m\n\u001b[1;32m--> 270\u001b[1;33m                                            tol=eigen_tol, v0=v0)\n\u001b[0m\u001b[0;32m    271\u001b[0m             \u001b[0membedding\u001b[0m \u001b[1;33m=\u001b[0m \u001b[0mdiffusion_map\u001b[0m\u001b[1;33m.\u001b[0m\u001b[0mT\u001b[0m\u001b[1;33m[\u001b[0m\u001b[0mn_components\u001b[0m\u001b[1;33m:\u001b[0m\u001b[1;33m:\u001b[0m\u001b[1;33m-\u001b[0m\u001b[1;36m1\u001b[0m\u001b[1;33m]\u001b[0m \u001b[1;33m*\u001b[0m \u001b[0mdd\u001b[0m\u001b[1;33m\u001b[0m\u001b[0m\n\u001b[0;32m    272\u001b[0m         \u001b[1;32mexcept\u001b[0m \u001b[0mRuntimeError\u001b[0m\u001b[1;33m:\u001b[0m\u001b[1;33m\u001b[0m\u001b[0m\n",
      "\u001b[1;32m~\\Miniconda3\\lib\\site-packages\\scipy\\sparse\\linalg\\eigen\\arpack\\arpack.py\u001b[0m in \u001b[0;36meigsh\u001b[1;34m(A, k, M, sigma, which, v0, ncv, maxiter, tol, return_eigenvectors, Minv, OPinv, mode)\u001b[0m\n\u001b[0;32m   1603\u001b[0m     \u001b[1;32mwith\u001b[0m \u001b[0m_ARPACK_LOCK\u001b[0m\u001b[1;33m:\u001b[0m\u001b[1;33m\u001b[0m\u001b[0m\n\u001b[0;32m   1604\u001b[0m         \u001b[1;32mwhile\u001b[0m \u001b[1;32mnot\u001b[0m \u001b[0mparams\u001b[0m\u001b[1;33m.\u001b[0m\u001b[0mconverged\u001b[0m\u001b[1;33m:\u001b[0m\u001b[1;33m\u001b[0m\u001b[0m\n\u001b[1;32m-> 1605\u001b[1;33m             \u001b[0mparams\u001b[0m\u001b[1;33m.\u001b[0m\u001b[0miterate\u001b[0m\u001b[1;33m(\u001b[0m\u001b[1;33m)\u001b[0m\u001b[1;33m\u001b[0m\u001b[0m\n\u001b[0m\u001b[0;32m   1606\u001b[0m \u001b[1;33m\u001b[0m\u001b[0m\n\u001b[0;32m   1607\u001b[0m         \u001b[1;32mreturn\u001b[0m \u001b[0mparams\u001b[0m\u001b[1;33m.\u001b[0m\u001b[0mextract\u001b[0m\u001b[1;33m(\u001b[0m\u001b[0mreturn_eigenvectors\u001b[0m\u001b[1;33m)\u001b[0m\u001b[1;33m\u001b[0m\u001b[0m\n",
      "\u001b[1;32m~\\Miniconda3\\lib\\site-packages\\scipy\\sparse\\linalg\\eigen\\arpack\\arpack.py\u001b[0m in \u001b[0;36miterate\u001b[1;34m(self)\u001b[0m\n\u001b[0;32m    556\u001b[0m             \u001b[1;32melse\u001b[0m\u001b[1;33m:\u001b[0m\u001b[1;33m\u001b[0m\u001b[0m\n\u001b[0;32m    557\u001b[0m                 \u001b[0mBxslice\u001b[0m \u001b[1;33m=\u001b[0m \u001b[0mslice\u001b[0m\u001b[1;33m(\u001b[0m\u001b[0mself\u001b[0m\u001b[1;33m.\u001b[0m\u001b[0mipntr\u001b[0m\u001b[1;33m[\u001b[0m\u001b[1;36m2\u001b[0m\u001b[1;33m]\u001b[0m \u001b[1;33m-\u001b[0m \u001b[1;36m1\u001b[0m\u001b[1;33m,\u001b[0m \u001b[0mself\u001b[0m\u001b[1;33m.\u001b[0m\u001b[0mipntr\u001b[0m\u001b[1;33m[\u001b[0m\u001b[1;36m2\u001b[0m\u001b[1;33m]\u001b[0m \u001b[1;33m-\u001b[0m \u001b[1;36m1\u001b[0m \u001b[1;33m+\u001b[0m \u001b[0mself\u001b[0m\u001b[1;33m.\u001b[0m\u001b[0mn\u001b[0m\u001b[1;33m)\u001b[0m\u001b[1;33m\u001b[0m\u001b[0m\n\u001b[1;32m--> 558\u001b[1;33m                 \u001b[0mself\u001b[0m\u001b[1;33m.\u001b[0m\u001b[0mworkd\u001b[0m\u001b[1;33m[\u001b[0m\u001b[0myslice\u001b[0m\u001b[1;33m]\u001b[0m \u001b[1;33m=\u001b[0m \u001b[0mself\u001b[0m\u001b[1;33m.\u001b[0m\u001b[0mOPa\u001b[0m\u001b[1;33m(\u001b[0m\u001b[0mself\u001b[0m\u001b[1;33m.\u001b[0m\u001b[0mworkd\u001b[0m\u001b[1;33m[\u001b[0m\u001b[0mBxslice\u001b[0m\u001b[1;33m]\u001b[0m\u001b[1;33m)\u001b[0m\u001b[1;33m\u001b[0m\u001b[0m\n\u001b[0m\u001b[0;32m    559\u001b[0m         \u001b[1;32melif\u001b[0m \u001b[0mself\u001b[0m\u001b[1;33m.\u001b[0m\u001b[0mido\u001b[0m \u001b[1;33m==\u001b[0m \u001b[1;36m2\u001b[0m\u001b[1;33m:\u001b[0m\u001b[1;33m\u001b[0m\u001b[0m\n\u001b[0;32m    560\u001b[0m             \u001b[0mself\u001b[0m\u001b[1;33m.\u001b[0m\u001b[0mworkd\u001b[0m\u001b[1;33m[\u001b[0m\u001b[0myslice\u001b[0m\u001b[1;33m]\u001b[0m \u001b[1;33m=\u001b[0m \u001b[0mself\u001b[0m\u001b[1;33m.\u001b[0m\u001b[0mB\u001b[0m\u001b[1;33m(\u001b[0m\u001b[0mself\u001b[0m\u001b[1;33m.\u001b[0m\u001b[0mworkd\u001b[0m\u001b[1;33m[\u001b[0m\u001b[0mxslice\u001b[0m\u001b[1;33m]\u001b[0m\u001b[1;33m)\u001b[0m\u001b[1;33m\u001b[0m\u001b[0m\n",
      "\u001b[1;32m~\\Miniconda3\\lib\\site-packages\\scipy\\sparse\\linalg\\interface.py\u001b[0m in \u001b[0;36mmatvec\u001b[1;34m(self, x)\u001b[0m\n\u001b[0;32m    217\u001b[0m             \u001b[1;32mraise\u001b[0m \u001b[0mValueError\u001b[0m\u001b[1;33m(\u001b[0m\u001b[1;34m'dimension mismatch'\u001b[0m\u001b[1;33m)\u001b[0m\u001b[1;33m\u001b[0m\u001b[0m\n\u001b[0;32m    218\u001b[0m \u001b[1;33m\u001b[0m\u001b[0m\n\u001b[1;32m--> 219\u001b[1;33m         \u001b[0my\u001b[0m \u001b[1;33m=\u001b[0m \u001b[0mself\u001b[0m\u001b[1;33m.\u001b[0m\u001b[0m_matvec\u001b[0m\u001b[1;33m(\u001b[0m\u001b[0mx\u001b[0m\u001b[1;33m)\u001b[0m\u001b[1;33m\u001b[0m\u001b[0m\n\u001b[0m\u001b[0;32m    220\u001b[0m \u001b[1;33m\u001b[0m\u001b[0m\n\u001b[0;32m    221\u001b[0m         \u001b[1;32mif\u001b[0m \u001b[0misinstance\u001b[0m\u001b[1;33m(\u001b[0m\u001b[0mx\u001b[0m\u001b[1;33m,\u001b[0m \u001b[0mnp\u001b[0m\u001b[1;33m.\u001b[0m\u001b[0mmatrix\u001b[0m\u001b[1;33m)\u001b[0m\u001b[1;33m:\u001b[0m\u001b[1;33m\u001b[0m\u001b[0m\n",
      "\u001b[1;32m~\\Miniconda3\\lib\\site-packages\\scipy\\sparse\\linalg\\eigen\\arpack\\arpack.py\u001b[0m in \u001b[0;36m_matvec\u001b[1;34m(self, x)\u001b[0m\n\u001b[0;32m    933\u001b[0m \u001b[1;33m\u001b[0m\u001b[0m\n\u001b[0;32m    934\u001b[0m     \u001b[1;32mdef\u001b[0m \u001b[0m_matvec\u001b[0m\u001b[1;33m(\u001b[0m\u001b[0mself\u001b[0m\u001b[1;33m,\u001b[0m \u001b[0mx\u001b[0m\u001b[1;33m)\u001b[0m\u001b[1;33m:\u001b[0m\u001b[1;33m\u001b[0m\u001b[0m\n\u001b[1;32m--> 935\u001b[1;33m         \u001b[1;32mreturn\u001b[0m \u001b[0mlu_solve\u001b[0m\u001b[1;33m(\u001b[0m\u001b[0mself\u001b[0m\u001b[1;33m.\u001b[0m\u001b[0mM_lu\u001b[0m\u001b[1;33m,\u001b[0m \u001b[0mx\u001b[0m\u001b[1;33m)\u001b[0m\u001b[1;33m\u001b[0m\u001b[0m\n\u001b[0m\u001b[0;32m    936\u001b[0m \u001b[1;33m\u001b[0m\u001b[0m\n\u001b[0;32m    937\u001b[0m \u001b[1;33m\u001b[0m\u001b[0m\n",
      "\u001b[1;32m~\\Miniconda3\\lib\\site-packages\\scipy\\linalg\\decomp_lu.py\u001b[0m in \u001b[0;36mlu_solve\u001b[1;34m(lu_and_piv, b, trans, overwrite_b, check_finite)\u001b[0m\n\u001b[0;32m    119\u001b[0m \u001b[1;33m\u001b[0m\u001b[0m\n\u001b[0;32m    120\u001b[0m     \u001b[0mgetrs\u001b[0m\u001b[1;33m,\u001b[0m \u001b[1;33m=\u001b[0m \u001b[0mget_lapack_funcs\u001b[0m\u001b[1;33m(\u001b[0m\u001b[1;33m(\u001b[0m\u001b[1;34m'getrs'\u001b[0m\u001b[1;33m,\u001b[0m\u001b[1;33m)\u001b[0m\u001b[1;33m,\u001b[0m \u001b[1;33m(\u001b[0m\u001b[0mlu\u001b[0m\u001b[1;33m,\u001b[0m \u001b[0mb1\u001b[0m\u001b[1;33m)\u001b[0m\u001b[1;33m)\u001b[0m\u001b[1;33m\u001b[0m\u001b[0m\n\u001b[1;32m--> 121\u001b[1;33m     \u001b[0mx\u001b[0m\u001b[1;33m,\u001b[0m\u001b[0minfo\u001b[0m \u001b[1;33m=\u001b[0m \u001b[0mgetrs\u001b[0m\u001b[1;33m(\u001b[0m\u001b[0mlu\u001b[0m\u001b[1;33m,\u001b[0m \u001b[0mpiv\u001b[0m\u001b[1;33m,\u001b[0m \u001b[0mb1\u001b[0m\u001b[1;33m,\u001b[0m \u001b[0mtrans\u001b[0m\u001b[1;33m=\u001b[0m\u001b[0mtrans\u001b[0m\u001b[1;33m,\u001b[0m \u001b[0moverwrite_b\u001b[0m\u001b[1;33m=\u001b[0m\u001b[0moverwrite_b\u001b[0m\u001b[1;33m)\u001b[0m\u001b[1;33m\u001b[0m\u001b[0m\n\u001b[0m\u001b[0;32m    122\u001b[0m     \u001b[1;32mif\u001b[0m \u001b[0minfo\u001b[0m \u001b[1;33m==\u001b[0m \u001b[1;36m0\u001b[0m\u001b[1;33m:\u001b[0m\u001b[1;33m\u001b[0m\u001b[0m\n\u001b[0;32m    123\u001b[0m         \u001b[1;32mreturn\u001b[0m \u001b[0mx\u001b[0m\u001b[1;33m\u001b[0m\u001b[0m\n",
      "\u001b[1;31mKeyboardInterrupt\u001b[0m: "
     ]
    }
   ],
   "source": [
    "gam = [0.5, 1.0, 2]\n",
    "\n",
    "for g in gam:\n",
    "    for k in range(2,11):\n",
    "        spect = SpectralClustering(n_clusters=k, random_state=11, n_jobs =-1, gamma= g)\n",
    "        spect.fit_predict(train_cust)\n",
    "        spectlabel = spect.labels_\n",
    "        score= silhouette_score(train_cust, spectlabel, metric='euclidean')\n",
    "        print(\"The number of clusters: %d, gamma: %f, silhouette coefficient: %0.2f\" % (k,g,score))"
   ]
  },
  {
   "cell_type": "markdown",
   "metadata": {},
   "source": [
    "## Agglomerative"
   ]
  },
  {
   "cell_type": "code",
   "execution_count": 12,
   "metadata": {},
   "outputs": [
    {
     "name": "stdout",
     "output_type": "stream",
     "text": [
      "The number of clusters: 2, silhouette coefficient: 0.26\n",
      "The number of clusters: 3, silhouette coefficient: 0.30\n",
      "The number of clusters: 4, silhouette coefficient: 0.30\n",
      "The number of clusters: 5, silhouette coefficient: 0.17\n",
      "The number of clusters: 6, silhouette coefficient: 0.19\n",
      "The number of clusters: 7, silhouette coefficient: 0.19\n",
      "The number of clusters: 8, silhouette coefficient: 0.17\n",
      "The number of clusters: 9, silhouette coefficient: 0.17\n",
      "The number of clusters: 10, silhouette coefficient: 0.16\n"
     ]
    }
   ],
   "source": [
    "# Agglomerative Clustering with 2-10 clusters \n",
    "for k in range(2,11):\n",
    "    agg = AgglomerativeClustering(n_clusters=k)\n",
    "    agg.fit_predict(train_cust)\n",
    "    labels = agg.labels_\n",
    "    score= silhouette_score(train_cust, labels, metric='euclidean')\n",
    "    print(\"The number of clusters: %d, silhouette coefficient: %0.2f\" % (k,score))"
   ]
  },
  {
   "cell_type": "markdown",
   "metadata": {},
   "source": [
    "## DBScan"
   ]
  },
  {
   "cell_type": "code",
   "execution_count": 13,
   "metadata": {},
   "outputs": [
    {
     "name": "stdout",
     "output_type": "stream",
     "text": [
      "Silhouette Coefficient: -0.398\n"
     ]
    }
   ],
   "source": [
    "db = DBSCAN()\n",
    "db.fit_predict(train_cust)\n",
    "labels = db.labels_\n",
    "score= silhouette_score(train_cust, labels, metric='euclidean')\n",
    "print(\"Silhouette Coefficient: %0.3f\"% silhouette_score(train_cust, labels, metric='euclidean'))"
   ]
  },
  {
   "cell_type": "markdown",
   "metadata": {},
   "source": [
    "#### Tuning"
   ]
  },
  {
   "cell_type": "code",
   "execution_count": 18,
   "metadata": {},
   "outputs": [
    {
     "name": "stdout",
     "output_type": "stream",
     "text": [
      "eps =  0.25 min_samples =  3 leaf_size =  15\n",
      "Silhouette Coefficient: -0.471\n",
      "eps =  0.25 min_samples =  3 leaf_size =  30\n",
      "Silhouette Coefficient: -0.471\n",
      "eps =  0.25 min_samples =  3 leaf_size =  45\n",
      "Silhouette Coefficient: -0.471\n",
      "eps =  0.25 min_samples =  5 leaf_size =  15\n",
      "Silhouette Coefficient: -0.279\n",
      "eps =  0.25 min_samples =  5 leaf_size =  30\n",
      "Silhouette Coefficient: -0.279\n",
      "eps =  0.25 min_samples =  5 leaf_size =  45\n",
      "Silhouette Coefficient: -0.279\n",
      "eps =  0.25 min_samples =  7 leaf_size =  15\n"
     ]
    },
    {
     "ename": "ValueError",
     "evalue": "Number of labels is 1. Valid values are 2 to n_samples - 1 (inclusive)",
     "output_type": "error",
     "traceback": [
      "\u001b[1;31m---------------------------------------------------------------------------\u001b[0m",
      "\u001b[1;31mValueError\u001b[0m                                Traceback (most recent call last)",
      "\u001b[1;32m<ipython-input-18-6b7de6ed9e97>\u001b[0m in \u001b[0;36m<module>\u001b[1;34m()\u001b[0m\n\u001b[0;32m     10\u001b[0m             \u001b[0mlabels\u001b[0m \u001b[1;33m=\u001b[0m \u001b[0mdb\u001b[0m\u001b[1;33m.\u001b[0m\u001b[0mlabels_\u001b[0m\u001b[1;33m\u001b[0m\u001b[0m\n\u001b[0;32m     11\u001b[0m             \u001b[0mprint\u001b[0m\u001b[1;33m(\u001b[0m\u001b[1;34m\"eps = \"\u001b[0m\u001b[1;33m,\u001b[0m \u001b[0me\u001b[0m\u001b[1;33m,\u001b[0m \u001b[1;34m\"min_samples = \"\u001b[0m\u001b[1;33m,\u001b[0m \u001b[0mm\u001b[0m\u001b[1;33m,\u001b[0m \u001b[1;34m\"leaf_size = \"\u001b[0m\u001b[1;33m,\u001b[0m\u001b[0ml\u001b[0m\u001b[1;33m)\u001b[0m\u001b[1;33m\u001b[0m\u001b[0m\n\u001b[1;32m---> 12\u001b[1;33m             \u001b[0mprint\u001b[0m\u001b[1;33m(\u001b[0m\u001b[1;34m\"Silhouette Coefficient: %0.3f\"\u001b[0m\u001b[1;33m%\u001b[0m \u001b[0msilhouette_score\u001b[0m\u001b[1;33m(\u001b[0m\u001b[0mtrain_cust\u001b[0m\u001b[1;33m,\u001b[0m \u001b[0mlabels\u001b[0m\u001b[1;33m,\u001b[0m \u001b[0mmetric\u001b[0m\u001b[1;33m=\u001b[0m\u001b[1;34m'euclidean'\u001b[0m\u001b[1;33m)\u001b[0m\u001b[1;33m)\u001b[0m\u001b[1;33m\u001b[0m\u001b[0m\n\u001b[0m",
      "\u001b[1;32m~\\Miniconda3\\lib\\site-packages\\sklearn\\metrics\\cluster\\unsupervised.py\u001b[0m in \u001b[0;36msilhouette_score\u001b[1;34m(X, labels, metric, sample_size, random_state, **kwds)\u001b[0m\n\u001b[0;32m     99\u001b[0m         \u001b[1;32melse\u001b[0m\u001b[1;33m:\u001b[0m\u001b[1;33m\u001b[0m\u001b[0m\n\u001b[0;32m    100\u001b[0m             \u001b[0mX\u001b[0m\u001b[1;33m,\u001b[0m \u001b[0mlabels\u001b[0m \u001b[1;33m=\u001b[0m \u001b[0mX\u001b[0m\u001b[1;33m[\u001b[0m\u001b[0mindices\u001b[0m\u001b[1;33m]\u001b[0m\u001b[1;33m,\u001b[0m \u001b[0mlabels\u001b[0m\u001b[1;33m[\u001b[0m\u001b[0mindices\u001b[0m\u001b[1;33m]\u001b[0m\u001b[1;33m\u001b[0m\u001b[0m\n\u001b[1;32m--> 101\u001b[1;33m     \u001b[1;32mreturn\u001b[0m \u001b[0mnp\u001b[0m\u001b[1;33m.\u001b[0m\u001b[0mmean\u001b[0m\u001b[1;33m(\u001b[0m\u001b[0msilhouette_samples\u001b[0m\u001b[1;33m(\u001b[0m\u001b[0mX\u001b[0m\u001b[1;33m,\u001b[0m \u001b[0mlabels\u001b[0m\u001b[1;33m,\u001b[0m \u001b[0mmetric\u001b[0m\u001b[1;33m=\u001b[0m\u001b[0mmetric\u001b[0m\u001b[1;33m,\u001b[0m \u001b[1;33m**\u001b[0m\u001b[0mkwds\u001b[0m\u001b[1;33m)\u001b[0m\u001b[1;33m)\u001b[0m\u001b[1;33m\u001b[0m\u001b[0m\n\u001b[0m\u001b[0;32m    102\u001b[0m \u001b[1;33m\u001b[0m\u001b[0m\n\u001b[0;32m    103\u001b[0m \u001b[1;33m\u001b[0m\u001b[0m\n",
      "\u001b[1;32m~\\Miniconda3\\lib\\site-packages\\sklearn\\metrics\\cluster\\unsupervised.py\u001b[0m in \u001b[0;36msilhouette_samples\u001b[1;34m(X, labels, metric, **kwds)\u001b[0m\n\u001b[0;32m    165\u001b[0m     \u001b[0mle\u001b[0m \u001b[1;33m=\u001b[0m \u001b[0mLabelEncoder\u001b[0m\u001b[1;33m(\u001b[0m\u001b[1;33m)\u001b[0m\u001b[1;33m\u001b[0m\u001b[0m\n\u001b[0;32m    166\u001b[0m     \u001b[0mlabels\u001b[0m \u001b[1;33m=\u001b[0m \u001b[0mle\u001b[0m\u001b[1;33m.\u001b[0m\u001b[0mfit_transform\u001b[0m\u001b[1;33m(\u001b[0m\u001b[0mlabels\u001b[0m\u001b[1;33m)\u001b[0m\u001b[1;33m\u001b[0m\u001b[0m\n\u001b[1;32m--> 167\u001b[1;33m     \u001b[0mcheck_number_of_labels\u001b[0m\u001b[1;33m(\u001b[0m\u001b[0mlen\u001b[0m\u001b[1;33m(\u001b[0m\u001b[0mle\u001b[0m\u001b[1;33m.\u001b[0m\u001b[0mclasses_\u001b[0m\u001b[1;33m)\u001b[0m\u001b[1;33m,\u001b[0m \u001b[0mX\u001b[0m\u001b[1;33m.\u001b[0m\u001b[0mshape\u001b[0m\u001b[1;33m[\u001b[0m\u001b[1;36m0\u001b[0m\u001b[1;33m]\u001b[0m\u001b[1;33m)\u001b[0m\u001b[1;33m\u001b[0m\u001b[0m\n\u001b[0m\u001b[0;32m    168\u001b[0m \u001b[1;33m\u001b[0m\u001b[0m\n\u001b[0;32m    169\u001b[0m     \u001b[0mdistances\u001b[0m \u001b[1;33m=\u001b[0m \u001b[0mpairwise_distances\u001b[0m\u001b[1;33m(\u001b[0m\u001b[0mX\u001b[0m\u001b[1;33m,\u001b[0m \u001b[0mmetric\u001b[0m\u001b[1;33m=\u001b[0m\u001b[0mmetric\u001b[0m\u001b[1;33m,\u001b[0m \u001b[1;33m**\u001b[0m\u001b[0mkwds\u001b[0m\u001b[1;33m)\u001b[0m\u001b[1;33m\u001b[0m\u001b[0m\n",
      "\u001b[1;32m~\\Miniconda3\\lib\\site-packages\\sklearn\\metrics\\cluster\\unsupervised.py\u001b[0m in \u001b[0;36mcheck_number_of_labels\u001b[1;34m(n_labels, n_samples)\u001b[0m\n\u001b[0;32m     17\u001b[0m     \u001b[1;32mif\u001b[0m \u001b[1;32mnot\u001b[0m \u001b[1;36m1\u001b[0m \u001b[1;33m<\u001b[0m \u001b[0mn_labels\u001b[0m \u001b[1;33m<\u001b[0m \u001b[0mn_samples\u001b[0m\u001b[1;33m:\u001b[0m\u001b[1;33m\u001b[0m\u001b[0m\n\u001b[0;32m     18\u001b[0m         raise ValueError(\"Number of labels is %d. Valid values are 2 \"\n\u001b[1;32m---> 19\u001b[1;33m                          \"to n_samples - 1 (inclusive)\" % n_labels)\n\u001b[0m\u001b[0;32m     20\u001b[0m \u001b[1;33m\u001b[0m\u001b[0m\n\u001b[0;32m     21\u001b[0m \u001b[1;33m\u001b[0m\u001b[0m\n",
      "\u001b[1;31mValueError\u001b[0m: Number of labels is 1. Valid values are 2 to n_samples - 1 (inclusive)"
     ]
    }
   ],
   "source": [
    "ep = [0.25, 0.5, 0.75]\n",
    "minsamp = [3, 5, 7]\n",
    "leaf = [15, 30, 45]\n",
    "\n",
    "for e in ep:\n",
    "    for m in minsamp:\n",
    "        for l in leaf:\n",
    "            db = DBSCAN(eps=e, min_samples=m, leaf_size=l, n_jobs=-1)\n",
    "            db.fit_predict(train_cust)\n",
    "            labels = db.labels_\n",
    "            print(\"eps = \", e, \"min_samples = \", m, \"leaf_size = \",l)\n",
    "            print(\"Silhouette Coefficient: %0.3f\"% silhouette_score(train_cust, labels, metric='euclidean'))"
   ]
  },
  {
   "cell_type": "code",
   "execution_count": 25,
   "metadata": {
    "scrolled": true
   },
   "outputs": [
    {
     "name": "stdout",
     "output_type": "stream",
     "text": [
      "eps =  0.25 min_samples =  6 leaf_size =  15\n",
      "Silhouette Coefficient: -0.244\n",
      "eps =  0.25 min_samples =  6 leaf_size =  30\n",
      "Silhouette Coefficient: -0.244\n",
      "eps =  0.25 min_samples =  6 leaf_size =  45\n",
      "Silhouette Coefficient: -0.244\n",
      "eps =  0.25 min_samples =  5 leaf_size =  15\n",
      "Silhouette Coefficient: -0.279\n",
      "eps =  0.25 min_samples =  5 leaf_size =  30\n",
      "Silhouette Coefficient: -0.279\n",
      "eps =  0.25 min_samples =  5 leaf_size =  45\n",
      "Silhouette Coefficient: -0.279\n",
      "eps =  0.25 min_samples =  4 leaf_size =  15\n",
      "Silhouette Coefficient: -0.437\n",
      "eps =  0.25 min_samples =  4 leaf_size =  30\n",
      "Silhouette Coefficient: -0.437\n",
      "eps =  0.25 min_samples =  4 leaf_size =  45\n",
      "Silhouette Coefficient: -0.437\n",
      "eps =  0.25 min_samples =  3 leaf_size =  15\n",
      "Silhouette Coefficient: -0.471\n",
      "eps =  0.25 min_samples =  3 leaf_size =  30\n",
      "Silhouette Coefficient: -0.471\n",
      "eps =  0.25 min_samples =  3 leaf_size =  45\n",
      "Silhouette Coefficient: -0.471\n",
      "eps =  0.5 min_samples =  6 leaf_size =  15\n",
      "Silhouette Coefficient: -0.370\n",
      "eps =  0.5 min_samples =  6 leaf_size =  30\n",
      "Silhouette Coefficient: -0.370\n",
      "eps =  0.5 min_samples =  6 leaf_size =  45\n",
      "Silhouette Coefficient: -0.370\n",
      "eps =  0.5 min_samples =  5 leaf_size =  15\n",
      "Silhouette Coefficient: -0.398\n",
      "eps =  0.5 min_samples =  5 leaf_size =  30\n",
      "Silhouette Coefficient: -0.398\n",
      "eps =  0.5 min_samples =  5 leaf_size =  45\n",
      "Silhouette Coefficient: -0.398\n",
      "eps =  0.5 min_samples =  4 leaf_size =  15\n",
      "Silhouette Coefficient: -0.416\n",
      "eps =  0.5 min_samples =  4 leaf_size =  30\n",
      "Silhouette Coefficient: -0.416\n",
      "eps =  0.5 min_samples =  4 leaf_size =  45\n",
      "Silhouette Coefficient: -0.416\n",
      "eps =  0.5 min_samples =  3 leaf_size =  15\n",
      "Silhouette Coefficient: -0.458\n",
      "eps =  0.5 min_samples =  3 leaf_size =  30\n",
      "Silhouette Coefficient: -0.458\n",
      "eps =  0.5 min_samples =  3 leaf_size =  45\n",
      "Silhouette Coefficient: -0.458\n",
      "eps =  0.75 min_samples =  6 leaf_size =  15\n",
      "Silhouette Coefficient: -0.108\n",
      "eps =  0.75 min_samples =  6 leaf_size =  30\n",
      "Silhouette Coefficient: -0.108\n",
      "eps =  0.75 min_samples =  6 leaf_size =  45\n",
      "Silhouette Coefficient: -0.108\n",
      "eps =  0.75 min_samples =  5 leaf_size =  15\n",
      "Silhouette Coefficient: -0.168\n",
      "eps =  0.75 min_samples =  5 leaf_size =  30\n",
      "Silhouette Coefficient: -0.168\n",
      "eps =  0.75 min_samples =  5 leaf_size =  45\n",
      "Silhouette Coefficient: -0.168\n",
      "eps =  0.75 min_samples =  4 leaf_size =  15\n",
      "Silhouette Coefficient: -0.206\n",
      "eps =  0.75 min_samples =  4 leaf_size =  30\n",
      "Silhouette Coefficient: -0.206\n",
      "eps =  0.75 min_samples =  4 leaf_size =  45\n",
      "Silhouette Coefficient: -0.206\n",
      "eps =  0.75 min_samples =  3 leaf_size =  15\n",
      "Silhouette Coefficient: -0.235\n",
      "eps =  0.75 min_samples =  3 leaf_size =  30\n",
      "Silhouette Coefficient: -0.235\n",
      "eps =  0.75 min_samples =  3 leaf_size =  45\n",
      "Silhouette Coefficient: -0.235\n"
     ]
    }
   ],
   "source": [
    "ep = [0.25, 0.5, 0.75]\n",
    "minsamp = [6, 5, 4, 3]\n",
    "leaf = [15, 30, 45]\n",
    "\n",
    "for e in ep:\n",
    "    for m in minsamp:\n",
    "        for l in leaf:\n",
    "            db = DBSCAN(eps=e, min_samples=m, leaf_size=l, n_jobs=-1)\n",
    "            db.fit_predict(train_cust)\n",
    "            labels = db.labels_\n",
    "            print(\"eps = \", e, \"min_samples = \", m, \"leaf_size = \",l)\n",
    "            print(\"Silhouette Coefficient: %0.3f\"% silhouette_score(train_cust, labels, metric='euclidean'))"
   ]
  },
  {
   "cell_type": "code",
   "execution_count": 28,
   "metadata": {},
   "outputs": [
    {
     "name": "stdout",
     "output_type": "stream",
     "text": [
      "eps =  0.25 min_samples =  3\n",
      "Silhouette Coefficient: -0.471\n",
      "eps =  0.25 min_samples =  4\n",
      "Silhouette Coefficient: -0.437\n",
      "eps =  0.25 min_samples =  5\n",
      "Silhouette Coefficient: -0.279\n",
      "eps =  0.25 min_samples =  6\n",
      "Silhouette Coefficient: -0.244\n",
      "eps =  0.5 min_samples =  3\n",
      "Silhouette Coefficient: -0.458\n",
      "eps =  0.5 min_samples =  4\n",
      "Silhouette Coefficient: -0.416\n",
      "eps =  0.5 min_samples =  5\n",
      "Silhouette Coefficient: -0.398\n",
      "eps =  0.5 min_samples =  6\n",
      "Silhouette Coefficient: -0.370\n",
      "eps =  0.75 min_samples =  3\n",
      "Silhouette Coefficient: -0.235\n",
      "eps =  0.75 min_samples =  4\n",
      "Silhouette Coefficient: -0.206\n",
      "eps =  0.75 min_samples =  5\n",
      "Silhouette Coefficient: -0.168\n",
      "eps =  0.75 min_samples =  6\n",
      "Silhouette Coefficient: -0.108\n",
      "eps =  1 min_samples =  3\n",
      "Silhouette Coefficient: -0.092\n",
      "eps =  1 min_samples =  4\n",
      "Silhouette Coefficient: -0.122\n",
      "eps =  1 min_samples =  5\n",
      "Silhouette Coefficient: -0.107\n",
      "eps =  1 min_samples =  6\n",
      "Silhouette Coefficient: -0.167\n",
      "eps =  1.5 min_samples =  3\n",
      "Silhouette Coefficient: 0.132\n",
      "eps =  1.5 min_samples =  4\n",
      "Silhouette Coefficient: 0.131\n",
      "eps =  1.5 min_samples =  5\n",
      "Silhouette Coefficient: 0.157\n",
      "eps =  1.5 min_samples =  6\n",
      "Silhouette Coefficient: 0.140\n",
      "eps =  2 min_samples =  3\n",
      "Silhouette Coefficient: 0.103\n",
      "eps =  2 min_samples =  4\n",
      "Silhouette Coefficient: 0.101\n",
      "eps =  2 min_samples =  5\n",
      "Silhouette Coefficient: 0.240\n",
      "eps =  2 min_samples =  6\n",
      "Silhouette Coefficient: 0.241\n",
      "eps =  2.5 min_samples =  3\n",
      "Silhouette Coefficient: 0.309\n",
      "eps =  2.5 min_samples =  4\n",
      "Silhouette Coefficient: 0.309\n",
      "eps =  2.5 min_samples =  5\n",
      "Silhouette Coefficient: 0.302\n",
      "eps =  2.5 min_samples =  6\n",
      "Silhouette Coefficient: 0.303\n",
      "eps =  3 min_samples =  3\n",
      "Silhouette Coefficient: 0.337\n",
      "eps =  3 min_samples =  4\n",
      "Silhouette Coefficient: 0.337\n",
      "eps =  3 min_samples =  5\n",
      "Silhouette Coefficient: 0.337\n",
      "eps =  3 min_samples =  6\n",
      "Silhouette Coefficient: 0.345\n",
      "eps =  3.5 min_samples =  3\n",
      "Silhouette Coefficient: 0.351\n",
      "eps =  3.5 min_samples =  4\n",
      "Silhouette Coefficient: 0.351\n",
      "eps =  3.5 min_samples =  5\n",
      "Silhouette Coefficient: 0.351\n",
      "eps =  3.5 min_samples =  6\n",
      "Silhouette Coefficient: 0.351\n",
      "eps =  3.75 min_samples =  3\n",
      "Silhouette Coefficient: 0.352\n",
      "eps =  3.75 min_samples =  4\n",
      "Silhouette Coefficient: 0.352\n",
      "eps =  3.75 min_samples =  5\n",
      "Silhouette Coefficient: 0.352\n",
      "eps =  3.75 min_samples =  6\n",
      "Silhouette Coefficient: 0.352\n",
      "eps =  4 min_samples =  3\n",
      "Silhouette Coefficient: 0.349\n",
      "eps =  4 min_samples =  4\n",
      "Silhouette Coefficient: 0.349\n",
      "eps =  4 min_samples =  5\n",
      "Silhouette Coefficient: 0.349\n",
      "eps =  4 min_samples =  6\n",
      "Silhouette Coefficient: 0.349\n",
      "eps =  5 min_samples =  3\n"
     ]
    },
    {
     "ename": "ValueError",
     "evalue": "Number of labels is 1. Valid values are 2 to n_samples - 1 (inclusive)",
     "output_type": "error",
     "traceback": [
      "\u001b[1;31m---------------------------------------------------------------------------\u001b[0m",
      "\u001b[1;31mValueError\u001b[0m                                Traceback (most recent call last)",
      "\u001b[1;32m<ipython-input-28-e03679285785>\u001b[0m in \u001b[0;36m<module>\u001b[1;34m()\u001b[0m\n\u001b[0;32m      8\u001b[0m         \u001b[0mlabels\u001b[0m \u001b[1;33m=\u001b[0m \u001b[0mdb\u001b[0m\u001b[1;33m.\u001b[0m\u001b[0mlabels_\u001b[0m\u001b[1;33m\u001b[0m\u001b[0m\n\u001b[0;32m      9\u001b[0m         \u001b[0mprint\u001b[0m\u001b[1;33m(\u001b[0m\u001b[1;34m\"eps = \"\u001b[0m\u001b[1;33m,\u001b[0m \u001b[0me\u001b[0m\u001b[1;33m,\u001b[0m \u001b[1;34m\"min_samples = \"\u001b[0m\u001b[1;33m,\u001b[0m \u001b[0mm\u001b[0m\u001b[1;33m)\u001b[0m\u001b[1;33m\u001b[0m\u001b[0m\n\u001b[1;32m---> 10\u001b[1;33m         \u001b[0mprint\u001b[0m\u001b[1;33m(\u001b[0m\u001b[1;34m\"Silhouette Coefficient: %0.3f\"\u001b[0m\u001b[1;33m%\u001b[0m \u001b[0msilhouette_score\u001b[0m\u001b[1;33m(\u001b[0m\u001b[0mtrain_cust\u001b[0m\u001b[1;33m,\u001b[0m \u001b[0mlabels\u001b[0m\u001b[1;33m,\u001b[0m \u001b[0mmetric\u001b[0m\u001b[1;33m=\u001b[0m\u001b[1;34m'euclidean'\u001b[0m\u001b[1;33m)\u001b[0m\u001b[1;33m)\u001b[0m\u001b[1;33m\u001b[0m\u001b[0m\n\u001b[0m",
      "\u001b[1;32m~\\Miniconda3\\lib\\site-packages\\sklearn\\metrics\\cluster\\unsupervised.py\u001b[0m in \u001b[0;36msilhouette_score\u001b[1;34m(X, labels, metric, sample_size, random_state, **kwds)\u001b[0m\n\u001b[0;32m     99\u001b[0m         \u001b[1;32melse\u001b[0m\u001b[1;33m:\u001b[0m\u001b[1;33m\u001b[0m\u001b[0m\n\u001b[0;32m    100\u001b[0m             \u001b[0mX\u001b[0m\u001b[1;33m,\u001b[0m \u001b[0mlabels\u001b[0m \u001b[1;33m=\u001b[0m \u001b[0mX\u001b[0m\u001b[1;33m[\u001b[0m\u001b[0mindices\u001b[0m\u001b[1;33m]\u001b[0m\u001b[1;33m,\u001b[0m \u001b[0mlabels\u001b[0m\u001b[1;33m[\u001b[0m\u001b[0mindices\u001b[0m\u001b[1;33m]\u001b[0m\u001b[1;33m\u001b[0m\u001b[0m\n\u001b[1;32m--> 101\u001b[1;33m     \u001b[1;32mreturn\u001b[0m \u001b[0mnp\u001b[0m\u001b[1;33m.\u001b[0m\u001b[0mmean\u001b[0m\u001b[1;33m(\u001b[0m\u001b[0msilhouette_samples\u001b[0m\u001b[1;33m(\u001b[0m\u001b[0mX\u001b[0m\u001b[1;33m,\u001b[0m \u001b[0mlabels\u001b[0m\u001b[1;33m,\u001b[0m \u001b[0mmetric\u001b[0m\u001b[1;33m=\u001b[0m\u001b[0mmetric\u001b[0m\u001b[1;33m,\u001b[0m \u001b[1;33m**\u001b[0m\u001b[0mkwds\u001b[0m\u001b[1;33m)\u001b[0m\u001b[1;33m)\u001b[0m\u001b[1;33m\u001b[0m\u001b[0m\n\u001b[0m\u001b[0;32m    102\u001b[0m \u001b[1;33m\u001b[0m\u001b[0m\n\u001b[0;32m    103\u001b[0m \u001b[1;33m\u001b[0m\u001b[0m\n",
      "\u001b[1;32m~\\Miniconda3\\lib\\site-packages\\sklearn\\metrics\\cluster\\unsupervised.py\u001b[0m in \u001b[0;36msilhouette_samples\u001b[1;34m(X, labels, metric, **kwds)\u001b[0m\n\u001b[0;32m    165\u001b[0m     \u001b[0mle\u001b[0m \u001b[1;33m=\u001b[0m \u001b[0mLabelEncoder\u001b[0m\u001b[1;33m(\u001b[0m\u001b[1;33m)\u001b[0m\u001b[1;33m\u001b[0m\u001b[0m\n\u001b[0;32m    166\u001b[0m     \u001b[0mlabels\u001b[0m \u001b[1;33m=\u001b[0m \u001b[0mle\u001b[0m\u001b[1;33m.\u001b[0m\u001b[0mfit_transform\u001b[0m\u001b[1;33m(\u001b[0m\u001b[0mlabels\u001b[0m\u001b[1;33m)\u001b[0m\u001b[1;33m\u001b[0m\u001b[0m\n\u001b[1;32m--> 167\u001b[1;33m     \u001b[0mcheck_number_of_labels\u001b[0m\u001b[1;33m(\u001b[0m\u001b[0mlen\u001b[0m\u001b[1;33m(\u001b[0m\u001b[0mle\u001b[0m\u001b[1;33m.\u001b[0m\u001b[0mclasses_\u001b[0m\u001b[1;33m)\u001b[0m\u001b[1;33m,\u001b[0m \u001b[0mX\u001b[0m\u001b[1;33m.\u001b[0m\u001b[0mshape\u001b[0m\u001b[1;33m[\u001b[0m\u001b[1;36m0\u001b[0m\u001b[1;33m]\u001b[0m\u001b[1;33m)\u001b[0m\u001b[1;33m\u001b[0m\u001b[0m\n\u001b[0m\u001b[0;32m    168\u001b[0m \u001b[1;33m\u001b[0m\u001b[0m\n\u001b[0;32m    169\u001b[0m     \u001b[0mdistances\u001b[0m \u001b[1;33m=\u001b[0m \u001b[0mpairwise_distances\u001b[0m\u001b[1;33m(\u001b[0m\u001b[0mX\u001b[0m\u001b[1;33m,\u001b[0m \u001b[0mmetric\u001b[0m\u001b[1;33m=\u001b[0m\u001b[0mmetric\u001b[0m\u001b[1;33m,\u001b[0m \u001b[1;33m**\u001b[0m\u001b[0mkwds\u001b[0m\u001b[1;33m)\u001b[0m\u001b[1;33m\u001b[0m\u001b[0m\n",
      "\u001b[1;32m~\\Miniconda3\\lib\\site-packages\\sklearn\\metrics\\cluster\\unsupervised.py\u001b[0m in \u001b[0;36mcheck_number_of_labels\u001b[1;34m(n_labels, n_samples)\u001b[0m\n\u001b[0;32m     17\u001b[0m     \u001b[1;32mif\u001b[0m \u001b[1;32mnot\u001b[0m \u001b[1;36m1\u001b[0m \u001b[1;33m<\u001b[0m \u001b[0mn_labels\u001b[0m \u001b[1;33m<\u001b[0m \u001b[0mn_samples\u001b[0m\u001b[1;33m:\u001b[0m\u001b[1;33m\u001b[0m\u001b[0m\n\u001b[0;32m     18\u001b[0m         raise ValueError(\"Number of labels is %d. Valid values are 2 \"\n\u001b[1;32m---> 19\u001b[1;33m                          \"to n_samples - 1 (inclusive)\" % n_labels)\n\u001b[0m\u001b[0;32m     20\u001b[0m \u001b[1;33m\u001b[0m\u001b[0m\n\u001b[0;32m     21\u001b[0m \u001b[1;33m\u001b[0m\u001b[0m\n",
      "\u001b[1;31mValueError\u001b[0m: Number of labels is 1. Valid values are 2 to n_samples - 1 (inclusive)"
     ]
    }
   ],
   "source": [
    "ep = [0.25, 0.5, 0.75, 1, 1.5, 2, 2.5, 3, 3.5, 3.75, 4, 5]\n",
    "minsamp = [3, 4, 5, 6]\n",
    "\n",
    "for e in ep:\n",
    "    for m in minsamp:\n",
    "        db = DBSCAN(eps=e, min_samples=m, n_jobs=-1)\n",
    "        db.fit_predict(train_cust)\n",
    "        labels = db.labels_\n",
    "        print(\"eps = \", e, \"min_samples = \", m)\n",
    "        print(\"Silhouette Coefficient: %0.3f\"% silhouette_score(train_cust, labels, metric='euclidean'))"
   ]
  },
  {
   "cell_type": "code",
   "execution_count": 32,
   "metadata": {},
   "outputs": [
    {
     "name": "stdout",
     "output_type": "stream",
     "text": [
      "eps =  3.5 min_samp= 3\n",
      "Silhouette Coefficient: 0.351\n",
      "eps =  3.5 min_samp= 4\n",
      "Silhouette Coefficient: 0.351\n",
      "eps =  3.5 min_samp= 5\n",
      "Silhouette Coefficient: 0.351\n",
      "eps =  3.5 min_samp= 6\n",
      "Silhouette Coefficient: 0.351\n",
      "eps =  3.6 min_samp= 3\n",
      "Silhouette Coefficient: 0.352\n",
      "eps =  3.6 min_samp= 4\n",
      "Silhouette Coefficient: 0.352\n",
      "eps =  3.6 min_samp= 5\n",
      "Silhouette Coefficient: 0.352\n",
      "eps =  3.6 min_samp= 6\n",
      "Silhouette Coefficient: 0.352\n",
      "eps =  3.7 min_samp= 3\n",
      "Silhouette Coefficient: 0.352\n",
      "eps =  3.7 min_samp= 4\n",
      "Silhouette Coefficient: 0.352\n",
      "eps =  3.7 min_samp= 5\n",
      "Silhouette Coefficient: 0.352\n",
      "eps =  3.7 min_samp= 6\n",
      "Silhouette Coefficient: 0.352\n",
      "eps =  3.75 min_samp= 3\n",
      "Silhouette Coefficient: 0.352\n",
      "eps =  3.75 min_samp= 4\n",
      "Silhouette Coefficient: 0.352\n",
      "eps =  3.75 min_samp= 5\n",
      "Silhouette Coefficient: 0.352\n",
      "eps =  3.75 min_samp= 6\n",
      "Silhouette Coefficient: 0.352\n",
      "eps =  3.8 min_samp= 3\n",
      "Silhouette Coefficient: 0.352\n",
      "eps =  3.8 min_samp= 4\n",
      "Silhouette Coefficient: 0.352\n",
      "eps =  3.8 min_samp= 5\n",
      "Silhouette Coefficient: 0.352\n",
      "eps =  3.8 min_samp= 6\n",
      "Silhouette Coefficient: 0.352\n",
      "eps =  3.9 min_samp= 3\n",
      "Silhouette Coefficient: 0.349\n",
      "eps =  3.9 min_samp= 4\n",
      "Silhouette Coefficient: 0.349\n",
      "eps =  3.9 min_samp= 5\n",
      "Silhouette Coefficient: 0.349\n",
      "eps =  3.9 min_samp= 6\n",
      "Silhouette Coefficient: 0.349\n",
      "eps =  4 min_samp= 3\n",
      "Silhouette Coefficient: 0.349\n",
      "eps =  4 min_samp= 4\n",
      "Silhouette Coefficient: 0.349\n",
      "eps =  4 min_samp= 5\n",
      "Silhouette Coefficient: 0.349\n",
      "eps =  4 min_samp= 6\n",
      "Silhouette Coefficient: 0.349\n"
     ]
    }
   ],
   "source": [
    "ep = [3.5,3.6,3.7, 3.75, 3.8,3.9, 4]\n",
    "minsamp = [3, 4, 5, 6]\n",
    "for e in ep:\n",
    "    for m in minsamp:\n",
    "        db = DBSCAN(eps=e, min_samples=m, n_jobs=-1)\n",
    "        db.fit_predict(train_cust)\n",
    "        labels = db.labels_\n",
    "        print(\"eps = \", e, \"min_samp=\", m)\n",
    "        print(\"Silhouette Coefficient: %0.3f\"% silhouette_score(train_cust, labels, metric='euclidean'))"
   ]
  },
  {
   "cell_type": "markdown",
   "metadata": {},
   "source": [
    "# Officer Involved Shootings"
   ]
  },
  {
   "cell_type": "code",
   "execution_count": 33,
   "metadata": {},
   "outputs": [],
   "source": [
    "#create training and testing groups of Shootings data\n",
    "train_shoot, test_shoot= train_test_split(shoot_scaled, test_size = 0.2, random_state = 11)"
   ]
  },
  {
   "cell_type": "markdown",
   "metadata": {},
   "source": [
    "## Kmeans "
   ]
  },
  {
   "cell_type": "code",
   "execution_count": 34,
   "metadata": {},
   "outputs": [
    {
     "name": "stdout",
     "output_type": "stream",
     "text": [
      "The number of clusters, 2, and silhouette coefficient is 0.15\n",
      "The number of clusters, 3, and silhouette coefficient is 0.12\n",
      "The number of clusters, 4, and silhouette coefficient is 0.13\n",
      "The number of clusters, 5, and silhouette coefficient is 0.13\n",
      "The number of clusters, 6, and silhouette coefficient is 0.13\n",
      "The number of clusters, 7, and silhouette coefficient is 0.13\n",
      "The number of clusters, 8, and silhouette coefficient is 0.13\n",
      "The number of clusters, 9, and silhouette coefficient is 0.12\n",
      "The number of clusters, 10, and silhouette coefficient is 0.12\n"
     ]
    }
   ],
   "source": [
    "#KMeans Clustering of Custody data\n",
    "k_range = range(2,11)\n",
    "\n",
    "for i in k_range:\n",
    "    model = KMeans(n_clusters=i,random_state=11)\n",
    "    pred =model.fit_predict(train_shoot)\n",
    "    silhouette_avg = silhouette_score(train_shoot,pred)\n",
    "    print('The number of clusters, %d, and silhouette coefficient is %0.2f'% (i,silhouette_avg))"
   ]
  },
  {
   "cell_type": "markdown",
   "metadata": {},
   "source": [
    "## Affinity Propagation"
   ]
  },
  {
   "cell_type": "code",
   "execution_count": 35,
   "metadata": {},
   "outputs": [
    {
     "name": "stdout",
     "output_type": "stream",
     "text": [
      "Silhouette Coefficient: 0.157\n"
     ]
    }
   ],
   "source": [
    "# Affinity propagation with default parameters\n",
    "affPro = AffinityPropagation()\n",
    "affPro.fit_predict(train_shoot)\n",
    "centers = affPro.cluster_centers_indices_\n",
    "labels = affPro.labels_\n",
    "print(\"Silhouette Coefficient: %0.3f\"% silhouette_score(train_shoot, labels, metric='euclidean'))"
   ]
  },
  {
   "cell_type": "markdown",
   "metadata": {},
   "source": [
    "#### Tuning "
   ]
  },
  {
   "cell_type": "code",
   "execution_count": 37,
   "metadata": {},
   "outputs": [
    {
     "name": "stdout",
     "output_type": "stream",
     "text": [
      "damping =  0.5 convergence_iter =  7\n",
      "Silhouette Coefficient: 0.157\n",
      "damping =  0.5 convergence_iter =  15\n",
      "Silhouette Coefficient: 0.157\n",
      "damping =  0.5 convergence_iter =  23\n",
      "Silhouette Coefficient: 0.157\n",
      "damping =  0.75 convergence_iter =  7\n",
      "Silhouette Coefficient: 0.142\n",
      "damping =  0.75 convergence_iter =  15\n",
      "Silhouette Coefficient: 0.158\n",
      "damping =  0.75 convergence_iter =  23\n",
      "Silhouette Coefficient: 0.158\n",
      "damping =  0.95 convergence_iter =  7\n"
     ]
    },
    {
     "ename": "ValueError",
     "evalue": "Number of labels is 1. Valid values are 2 to n_samples - 1 (inclusive)",
     "output_type": "error",
     "traceback": [
      "\u001b[1;31m---------------------------------------------------------------------------\u001b[0m",
      "\u001b[1;31mValueError\u001b[0m                                Traceback (most recent call last)",
      "\u001b[1;32m<ipython-input-37-63d962fc7222>\u001b[0m in \u001b[0;36m<module>\u001b[1;34m()\u001b[0m\n\u001b[0;32m      9\u001b[0m         \u001b[0mlabels\u001b[0m \u001b[1;33m=\u001b[0m \u001b[0maffPro\u001b[0m\u001b[1;33m.\u001b[0m\u001b[0mlabels_\u001b[0m\u001b[1;33m\u001b[0m\u001b[0m\n\u001b[0;32m     10\u001b[0m         \u001b[0mprint\u001b[0m\u001b[1;33m(\u001b[0m\u001b[1;34m\"damping = \"\u001b[0m\u001b[1;33m,\u001b[0m \u001b[0md\u001b[0m\u001b[1;33m,\u001b[0m \u001b[1;34m\"convergence_iter = \"\u001b[0m\u001b[1;33m,\u001b[0m\u001b[0mc\u001b[0m\u001b[1;33m)\u001b[0m\u001b[1;33m\u001b[0m\u001b[0m\n\u001b[1;32m---> 11\u001b[1;33m         \u001b[0mprint\u001b[0m\u001b[1;33m(\u001b[0m\u001b[1;34m\"Silhouette Coefficient: %0.3f\"\u001b[0m\u001b[1;33m%\u001b[0m \u001b[0msilhouette_score\u001b[0m\u001b[1;33m(\u001b[0m\u001b[0mtrain_shoot\u001b[0m\u001b[1;33m,\u001b[0m \u001b[0mlabels\u001b[0m\u001b[1;33m,\u001b[0m \u001b[0mmetric\u001b[0m\u001b[1;33m=\u001b[0m\u001b[1;34m'euclidean'\u001b[0m\u001b[1;33m)\u001b[0m\u001b[1;33m)\u001b[0m\u001b[1;33m\u001b[0m\u001b[0m\n\u001b[0m",
      "\u001b[1;32m~\\Miniconda3\\lib\\site-packages\\sklearn\\metrics\\cluster\\unsupervised.py\u001b[0m in \u001b[0;36msilhouette_score\u001b[1;34m(X, labels, metric, sample_size, random_state, **kwds)\u001b[0m\n\u001b[0;32m     99\u001b[0m         \u001b[1;32melse\u001b[0m\u001b[1;33m:\u001b[0m\u001b[1;33m\u001b[0m\u001b[0m\n\u001b[0;32m    100\u001b[0m             \u001b[0mX\u001b[0m\u001b[1;33m,\u001b[0m \u001b[0mlabels\u001b[0m \u001b[1;33m=\u001b[0m \u001b[0mX\u001b[0m\u001b[1;33m[\u001b[0m\u001b[0mindices\u001b[0m\u001b[1;33m]\u001b[0m\u001b[1;33m,\u001b[0m \u001b[0mlabels\u001b[0m\u001b[1;33m[\u001b[0m\u001b[0mindices\u001b[0m\u001b[1;33m]\u001b[0m\u001b[1;33m\u001b[0m\u001b[0m\n\u001b[1;32m--> 101\u001b[1;33m     \u001b[1;32mreturn\u001b[0m \u001b[0mnp\u001b[0m\u001b[1;33m.\u001b[0m\u001b[0mmean\u001b[0m\u001b[1;33m(\u001b[0m\u001b[0msilhouette_samples\u001b[0m\u001b[1;33m(\u001b[0m\u001b[0mX\u001b[0m\u001b[1;33m,\u001b[0m \u001b[0mlabels\u001b[0m\u001b[1;33m,\u001b[0m \u001b[0mmetric\u001b[0m\u001b[1;33m=\u001b[0m\u001b[0mmetric\u001b[0m\u001b[1;33m,\u001b[0m \u001b[1;33m**\u001b[0m\u001b[0mkwds\u001b[0m\u001b[1;33m)\u001b[0m\u001b[1;33m)\u001b[0m\u001b[1;33m\u001b[0m\u001b[0m\n\u001b[0m\u001b[0;32m    102\u001b[0m \u001b[1;33m\u001b[0m\u001b[0m\n\u001b[0;32m    103\u001b[0m \u001b[1;33m\u001b[0m\u001b[0m\n",
      "\u001b[1;32m~\\Miniconda3\\lib\\site-packages\\sklearn\\metrics\\cluster\\unsupervised.py\u001b[0m in \u001b[0;36msilhouette_samples\u001b[1;34m(X, labels, metric, **kwds)\u001b[0m\n\u001b[0;32m    165\u001b[0m     \u001b[0mle\u001b[0m \u001b[1;33m=\u001b[0m \u001b[0mLabelEncoder\u001b[0m\u001b[1;33m(\u001b[0m\u001b[1;33m)\u001b[0m\u001b[1;33m\u001b[0m\u001b[0m\n\u001b[0;32m    166\u001b[0m     \u001b[0mlabels\u001b[0m \u001b[1;33m=\u001b[0m \u001b[0mle\u001b[0m\u001b[1;33m.\u001b[0m\u001b[0mfit_transform\u001b[0m\u001b[1;33m(\u001b[0m\u001b[0mlabels\u001b[0m\u001b[1;33m)\u001b[0m\u001b[1;33m\u001b[0m\u001b[0m\n\u001b[1;32m--> 167\u001b[1;33m     \u001b[0mcheck_number_of_labels\u001b[0m\u001b[1;33m(\u001b[0m\u001b[0mlen\u001b[0m\u001b[1;33m(\u001b[0m\u001b[0mle\u001b[0m\u001b[1;33m.\u001b[0m\u001b[0mclasses_\u001b[0m\u001b[1;33m)\u001b[0m\u001b[1;33m,\u001b[0m \u001b[0mX\u001b[0m\u001b[1;33m.\u001b[0m\u001b[0mshape\u001b[0m\u001b[1;33m[\u001b[0m\u001b[1;36m0\u001b[0m\u001b[1;33m]\u001b[0m\u001b[1;33m)\u001b[0m\u001b[1;33m\u001b[0m\u001b[0m\n\u001b[0m\u001b[0;32m    168\u001b[0m \u001b[1;33m\u001b[0m\u001b[0m\n\u001b[0;32m    169\u001b[0m     \u001b[0mdistances\u001b[0m \u001b[1;33m=\u001b[0m \u001b[0mpairwise_distances\u001b[0m\u001b[1;33m(\u001b[0m\u001b[0mX\u001b[0m\u001b[1;33m,\u001b[0m \u001b[0mmetric\u001b[0m\u001b[1;33m=\u001b[0m\u001b[0mmetric\u001b[0m\u001b[1;33m,\u001b[0m \u001b[1;33m**\u001b[0m\u001b[0mkwds\u001b[0m\u001b[1;33m)\u001b[0m\u001b[1;33m\u001b[0m\u001b[0m\n",
      "\u001b[1;32m~\\Miniconda3\\lib\\site-packages\\sklearn\\metrics\\cluster\\unsupervised.py\u001b[0m in \u001b[0;36mcheck_number_of_labels\u001b[1;34m(n_labels, n_samples)\u001b[0m\n\u001b[0;32m     17\u001b[0m     \u001b[1;32mif\u001b[0m \u001b[1;32mnot\u001b[0m \u001b[1;36m1\u001b[0m \u001b[1;33m<\u001b[0m \u001b[0mn_labels\u001b[0m \u001b[1;33m<\u001b[0m \u001b[0mn_samples\u001b[0m\u001b[1;33m:\u001b[0m\u001b[1;33m\u001b[0m\u001b[0m\n\u001b[0;32m     18\u001b[0m         raise ValueError(\"Number of labels is %d. Valid values are 2 \"\n\u001b[1;32m---> 19\u001b[1;33m                          \"to n_samples - 1 (inclusive)\" % n_labels)\n\u001b[0m\u001b[0;32m     20\u001b[0m \u001b[1;33m\u001b[0m\u001b[0m\n\u001b[0;32m     21\u001b[0m \u001b[1;33m\u001b[0m\u001b[0m\n",
      "\u001b[1;31mValueError\u001b[0m: Number of labels is 1. Valid values are 2 to n_samples - 1 (inclusive)"
     ]
    }
   ],
   "source": [
    "damp = [0.5, 0.75, 0.95]\n",
    "conv = [7, 15, 23]\n",
    "\n",
    "for d in damp:\n",
    "    for c in conv:\n",
    "        affPro = AffinityPropagation(damping= d, convergence_iter= c)\n",
    "        affPro.fit_predict(train_shoot)\n",
    "        centers = affPro.cluster_centers_indices_ \n",
    "        labels = affPro.labels_\n",
    "        print(\"damping = \", d, \"convergence_iter = \",c)\n",
    "        print(\"Silhouette Coefficient: %0.3f\"% silhouette_score(train_shoot, labels, metric='euclidean'))"
   ]
  },
  {
   "cell_type": "code",
   "execution_count": 45,
   "metadata": {
    "scrolled": true
   },
   "outputs": [
    {
     "name": "stdout",
     "output_type": "stream",
     "text": [
      "damping =  0.5 convergence_iter =  7\n",
      "Silhouette Coefficient: 0.157\n",
      "damping =  0.5 convergence_iter =  15\n",
      "Silhouette Coefficient: 0.157\n",
      "damping =  0.5 convergence_iter =  23\n",
      "Silhouette Coefficient: 0.157\n",
      "damping =  0.5 convergence_iter =  50\n",
      "Silhouette Coefficient: 0.157\n",
      "damping =  0.5 convergence_iter =  75\n",
      "Silhouette Coefficient: 0.157\n",
      "damping =  0.75 convergence_iter =  7\n",
      "Silhouette Coefficient: 0.142\n",
      "damping =  0.75 convergence_iter =  15\n",
      "Silhouette Coefficient: 0.158\n",
      "damping =  0.75 convergence_iter =  23\n",
      "Silhouette Coefficient: 0.158\n",
      "damping =  0.75 convergence_iter =  50\n",
      "Silhouette Coefficient: 0.158\n",
      "damping =  0.75 convergence_iter =  75\n",
      "Silhouette Coefficient: 0.158\n",
      "damping =  0.95 convergence_iter =  7\n"
     ]
    },
    {
     "ename": "ValueError",
     "evalue": "Number of labels is 1. Valid values are 2 to n_samples - 1 (inclusive)",
     "output_type": "error",
     "traceback": [
      "\u001b[1;31m---------------------------------------------------------------------------\u001b[0m",
      "\u001b[1;31mValueError\u001b[0m                                Traceback (most recent call last)",
      "\u001b[1;32m<ipython-input-45-345eb7765317>\u001b[0m in \u001b[0;36m<module>\u001b[1;34m()\u001b[0m\n\u001b[0;32m      9\u001b[0m         \u001b[0mlabels\u001b[0m \u001b[1;33m=\u001b[0m \u001b[0maffPro\u001b[0m\u001b[1;33m.\u001b[0m\u001b[0mlabels_\u001b[0m\u001b[1;33m\u001b[0m\u001b[0m\n\u001b[0;32m     10\u001b[0m         \u001b[0mprint\u001b[0m\u001b[1;33m(\u001b[0m\u001b[1;34m\"damping = \"\u001b[0m\u001b[1;33m,\u001b[0m \u001b[0md\u001b[0m\u001b[1;33m,\u001b[0m \u001b[1;34m\"convergence_iter = \"\u001b[0m\u001b[1;33m,\u001b[0m\u001b[0mc\u001b[0m\u001b[1;33m)\u001b[0m\u001b[1;33m\u001b[0m\u001b[0m\n\u001b[1;32m---> 11\u001b[1;33m         \u001b[0mprint\u001b[0m\u001b[1;33m(\u001b[0m\u001b[1;34m\"Silhouette Coefficient: %0.3f\"\u001b[0m\u001b[1;33m%\u001b[0m \u001b[0msilhouette_score\u001b[0m\u001b[1;33m(\u001b[0m\u001b[0mtrain_shoot\u001b[0m\u001b[1;33m,\u001b[0m \u001b[0mlabels\u001b[0m\u001b[1;33m,\u001b[0m \u001b[0mmetric\u001b[0m\u001b[1;33m=\u001b[0m\u001b[1;34m'euclidean'\u001b[0m\u001b[1;33m)\u001b[0m\u001b[1;33m)\u001b[0m\u001b[1;33m\u001b[0m\u001b[0m\n\u001b[0m",
      "\u001b[1;32m~\\Miniconda3\\lib\\site-packages\\sklearn\\metrics\\cluster\\unsupervised.py\u001b[0m in \u001b[0;36msilhouette_score\u001b[1;34m(X, labels, metric, sample_size, random_state, **kwds)\u001b[0m\n\u001b[0;32m     99\u001b[0m         \u001b[1;32melse\u001b[0m\u001b[1;33m:\u001b[0m\u001b[1;33m\u001b[0m\u001b[0m\n\u001b[0;32m    100\u001b[0m             \u001b[0mX\u001b[0m\u001b[1;33m,\u001b[0m \u001b[0mlabels\u001b[0m \u001b[1;33m=\u001b[0m \u001b[0mX\u001b[0m\u001b[1;33m[\u001b[0m\u001b[0mindices\u001b[0m\u001b[1;33m]\u001b[0m\u001b[1;33m,\u001b[0m \u001b[0mlabels\u001b[0m\u001b[1;33m[\u001b[0m\u001b[0mindices\u001b[0m\u001b[1;33m]\u001b[0m\u001b[1;33m\u001b[0m\u001b[0m\n\u001b[1;32m--> 101\u001b[1;33m     \u001b[1;32mreturn\u001b[0m \u001b[0mnp\u001b[0m\u001b[1;33m.\u001b[0m\u001b[0mmean\u001b[0m\u001b[1;33m(\u001b[0m\u001b[0msilhouette_samples\u001b[0m\u001b[1;33m(\u001b[0m\u001b[0mX\u001b[0m\u001b[1;33m,\u001b[0m \u001b[0mlabels\u001b[0m\u001b[1;33m,\u001b[0m \u001b[0mmetric\u001b[0m\u001b[1;33m=\u001b[0m\u001b[0mmetric\u001b[0m\u001b[1;33m,\u001b[0m \u001b[1;33m**\u001b[0m\u001b[0mkwds\u001b[0m\u001b[1;33m)\u001b[0m\u001b[1;33m)\u001b[0m\u001b[1;33m\u001b[0m\u001b[0m\n\u001b[0m\u001b[0;32m    102\u001b[0m \u001b[1;33m\u001b[0m\u001b[0m\n\u001b[0;32m    103\u001b[0m \u001b[1;33m\u001b[0m\u001b[0m\n",
      "\u001b[1;32m~\\Miniconda3\\lib\\site-packages\\sklearn\\metrics\\cluster\\unsupervised.py\u001b[0m in \u001b[0;36msilhouette_samples\u001b[1;34m(X, labels, metric, **kwds)\u001b[0m\n\u001b[0;32m    165\u001b[0m     \u001b[0mle\u001b[0m \u001b[1;33m=\u001b[0m \u001b[0mLabelEncoder\u001b[0m\u001b[1;33m(\u001b[0m\u001b[1;33m)\u001b[0m\u001b[1;33m\u001b[0m\u001b[0m\n\u001b[0;32m    166\u001b[0m     \u001b[0mlabels\u001b[0m \u001b[1;33m=\u001b[0m \u001b[0mle\u001b[0m\u001b[1;33m.\u001b[0m\u001b[0mfit_transform\u001b[0m\u001b[1;33m(\u001b[0m\u001b[0mlabels\u001b[0m\u001b[1;33m)\u001b[0m\u001b[1;33m\u001b[0m\u001b[0m\n\u001b[1;32m--> 167\u001b[1;33m     \u001b[0mcheck_number_of_labels\u001b[0m\u001b[1;33m(\u001b[0m\u001b[0mlen\u001b[0m\u001b[1;33m(\u001b[0m\u001b[0mle\u001b[0m\u001b[1;33m.\u001b[0m\u001b[0mclasses_\u001b[0m\u001b[1;33m)\u001b[0m\u001b[1;33m,\u001b[0m \u001b[0mX\u001b[0m\u001b[1;33m.\u001b[0m\u001b[0mshape\u001b[0m\u001b[1;33m[\u001b[0m\u001b[1;36m0\u001b[0m\u001b[1;33m]\u001b[0m\u001b[1;33m)\u001b[0m\u001b[1;33m\u001b[0m\u001b[0m\n\u001b[0m\u001b[0;32m    168\u001b[0m \u001b[1;33m\u001b[0m\u001b[0m\n\u001b[0;32m    169\u001b[0m     \u001b[0mdistances\u001b[0m \u001b[1;33m=\u001b[0m \u001b[0mpairwise_distances\u001b[0m\u001b[1;33m(\u001b[0m\u001b[0mX\u001b[0m\u001b[1;33m,\u001b[0m \u001b[0mmetric\u001b[0m\u001b[1;33m=\u001b[0m\u001b[0mmetric\u001b[0m\u001b[1;33m,\u001b[0m \u001b[1;33m**\u001b[0m\u001b[0mkwds\u001b[0m\u001b[1;33m)\u001b[0m\u001b[1;33m\u001b[0m\u001b[0m\n",
      "\u001b[1;32m~\\Miniconda3\\lib\\site-packages\\sklearn\\metrics\\cluster\\unsupervised.py\u001b[0m in \u001b[0;36mcheck_number_of_labels\u001b[1;34m(n_labels, n_samples)\u001b[0m\n\u001b[0;32m     17\u001b[0m     \u001b[1;32mif\u001b[0m \u001b[1;32mnot\u001b[0m \u001b[1;36m1\u001b[0m \u001b[1;33m<\u001b[0m \u001b[0mn_labels\u001b[0m \u001b[1;33m<\u001b[0m \u001b[0mn_samples\u001b[0m\u001b[1;33m:\u001b[0m\u001b[1;33m\u001b[0m\u001b[0m\n\u001b[0;32m     18\u001b[0m         raise ValueError(\"Number of labels is %d. Valid values are 2 \"\n\u001b[1;32m---> 19\u001b[1;33m                          \"to n_samples - 1 (inclusive)\" % n_labels)\n\u001b[0m\u001b[0;32m     20\u001b[0m \u001b[1;33m\u001b[0m\u001b[0m\n\u001b[0;32m     21\u001b[0m \u001b[1;33m\u001b[0m\u001b[0m\n",
      "\u001b[1;31mValueError\u001b[0m: Number of labels is 1. Valid values are 2 to n_samples - 1 (inclusive)"
     ]
    }
   ],
   "source": [
    "damp = [0.5, 0.75, 0.95]\n",
    "conv = [7, 15, 23, 50, 75]\n",
    "\n",
    "for d in damp:\n",
    "    for c in conv:\n",
    "        affPro = AffinityPropagation(damping= d, convergence_iter= c)\n",
    "        affPro.fit_predict(train_shoot)\n",
    "        centers = affPro.cluster_centers_indices_ \n",
    "        labels = affPro.labels_\n",
    "        print(\"damping = \", d, \"convergence_iter = \",c)\n",
    "        print(\"Silhouette Coefficient: %0.3f\"% silhouette_score(train_shoot, labels, metric='euclidean'))"
   ]
  },
  {
   "cell_type": "markdown",
   "metadata": {},
   "source": [
    "## Spectral Clustering"
   ]
  },
  {
   "cell_type": "code",
   "execution_count": 46,
   "metadata": {},
   "outputs": [
    {
     "name": "stdout",
     "output_type": "stream",
     "text": [
      "The number of clusters, 2, and silhouette coefficient is -0.02\n",
      "The number of clusters, 3, and silhouette coefficient is -0.02\n",
      "The number of clusters, 4, and silhouette coefficient is -0.05\n",
      "The number of clusters, 5, and silhouette coefficient is -0.06\n",
      "The number of clusters, 6, and silhouette coefficient is -0.08\n",
      "The number of clusters, 7, and silhouette coefficient is -0.09\n",
      "The number of clusters, 8, and silhouette coefficient is -0.09\n",
      "The number of clusters, 9, and silhouette coefficient is -0.09\n",
      "The number of clusters, 10, and silhouette coefficient is -0.10\n"
     ]
    }
   ],
   "source": [
    "# Spectral clustering of Shooting data\n",
    "for k in range(2,11):\n",
    "    spect = SpectralClustering(n_clusters=k,random_state=11)\n",
    "    spect.fit_predict(train_shoot)\n",
    "    spectlabel = spect.labels_\n",
    "    score=silhouette_score(train_shoot, spectlabel, metric='euclidean')\n",
    "    print(\"The number of clusters, %d, and silhouette coefficient is %0.2f\" % (k,score))"
   ]
  },
  {
   "cell_type": "markdown",
   "metadata": {},
   "source": [
    "#### Tuning "
   ]
  },
  {
   "cell_type": "code",
   "execution_count": 47,
   "metadata": {},
   "outputs": [
    {
     "name": "stdout",
     "output_type": "stream",
     "text": [
      "The number of clusters: 2, gamma: 0.500000, silhouette coefficient: 0.00\n",
      "The number of clusters: 3, gamma: 0.500000, silhouette coefficient: 0.00\n",
      "The number of clusters: 4, gamma: 0.500000, silhouette coefficient: -0.02\n",
      "The number of clusters: 5, gamma: 0.500000, silhouette coefficient: -0.03\n",
      "The number of clusters: 6, gamma: 0.500000, silhouette coefficient: -0.06\n",
      "The number of clusters: 7, gamma: 0.500000, silhouette coefficient: -0.07\n",
      "The number of clusters: 8, gamma: 0.500000, silhouette coefficient: -0.07\n",
      "The number of clusters: 9, gamma: 0.500000, silhouette coefficient: -0.06\n",
      "The number of clusters: 10, gamma: 0.500000, silhouette coefficient: -0.06\n",
      "The number of clusters: 2, gamma: 1.000000, silhouette coefficient: -0.02\n",
      "The number of clusters: 3, gamma: 1.000000, silhouette coefficient: -0.02\n",
      "The number of clusters: 4, gamma: 1.000000, silhouette coefficient: -0.05\n",
      "The number of clusters: 5, gamma: 1.000000, silhouette coefficient: -0.06\n",
      "The number of clusters: 6, gamma: 1.000000, silhouette coefficient: -0.08\n",
      "The number of clusters: 7, gamma: 1.000000, silhouette coefficient: -0.09\n",
      "The number of clusters: 8, gamma: 1.000000, silhouette coefficient: -0.09\n",
      "The number of clusters: 9, gamma: 1.000000, silhouette coefficient: -0.09\n",
      "The number of clusters: 10, gamma: 1.000000, silhouette coefficient: -0.10\n",
      "The number of clusters: 2, gamma: 1.500000, silhouette coefficient: 0.28\n",
      "The number of clusters: 3, gamma: 1.500000, silhouette coefficient: -0.02\n",
      "The number of clusters: 4, gamma: 1.500000, silhouette coefficient: -0.05\n",
      "The number of clusters: 5, gamma: 1.500000, silhouette coefficient: -0.06\n",
      "The number of clusters: 6, gamma: 1.500000, silhouette coefficient: -0.09\n",
      "The number of clusters: 7, gamma: 1.500000, silhouette coefficient: -0.10\n",
      "The number of clusters: 8, gamma: 1.500000, silhouette coefficient: -0.12\n",
      "The number of clusters: 9, gamma: 1.500000, silhouette coefficient: -0.12\n",
      "The number of clusters: 10, gamma: 1.500000, silhouette coefficient: -0.12\n"
     ]
    }
   ],
   "source": [
    "gam = [0.5, 1.0, 1.5]\n",
    "\n",
    "for g in gam:\n",
    "    for k in range(2,11):\n",
    "        spect = SpectralClustering(n_clusters=k, random_state=11, n_jobs =-1, gamma= g)\n",
    "        spect.fit_predict(train_shoot)\n",
    "        spectlabel = spect.labels_\n",
    "        score= silhouette_score(train_shoot, spectlabel, metric='euclidean')\n",
    "        print(\"The number of clusters: %d, gamma: %f, silhouette coefficient: %0.2f\" % (k,g,score))"
   ]
  },
  {
   "cell_type": "markdown",
   "metadata": {},
   "source": [
    "## Agglomerative Clustering"
   ]
  },
  {
   "cell_type": "code",
   "execution_count": 48,
   "metadata": {},
   "outputs": [
    {
     "name": "stdout",
     "output_type": "stream",
     "text": [
      "The number of clusters: 2, silhouette coefficient: 0.09\n",
      "The number of clusters: 3, silhouette coefficient: 0.09\n",
      "The number of clusters: 4, silhouette coefficient: 0.10\n",
      "The number of clusters: 5, silhouette coefficient: 0.11\n",
      "The number of clusters: 6, silhouette coefficient: 0.11\n",
      "The number of clusters: 7, silhouette coefficient: 0.11\n",
      "The number of clusters: 8, silhouette coefficient: 0.11\n",
      "The number of clusters: 9, silhouette coefficient: 0.11\n",
      "The number of clusters: 10, silhouette coefficient: 0.10\n"
     ]
    }
   ],
   "source": [
    "# Agglomerative Clustering with 2-10 clusters \n",
    "for k in range(2,11):\n",
    "    agg = AgglomerativeClustering(n_clusters=k)\n",
    "    agg.fit_predict(train_shoot)\n",
    "    labels = agg.labels_\n",
    "    score= silhouette_score(train_shoot, labels, metric='euclidean')\n",
    "    print(\"The number of clusters: %d, silhouette coefficient: %0.2f\" % (k,score))"
   ]
  },
  {
   "cell_type": "markdown",
   "metadata": {},
   "source": [
    "## DBScan"
   ]
  },
  {
   "cell_type": "markdown",
   "metadata": {},
   "source": [
    "#### Tuning"
   ]
  },
  {
   "cell_type": "code",
   "execution_count": 53,
   "metadata": {
    "scrolled": true
   },
   "outputs": [
    {
     "name": "stdout",
     "output_type": "stream",
     "text": [
      "eps =  0.25 min_samples =  3 leaf_size =  15\n",
      "Silhouette Coefficient: -0.143\n",
      "eps =  0.25 min_samples =  3 leaf_size =  30\n",
      "Silhouette Coefficient: -0.143\n",
      "eps =  0.25 min_samples =  3 leaf_size =  45\n",
      "Silhouette Coefficient: -0.143\n",
      "eps =  0.25 min_samples =  5 leaf_size =  15\n"
     ]
    },
    {
     "ename": "ValueError",
     "evalue": "Number of labels is 1. Valid values are 2 to n_samples - 1 (inclusive)",
     "output_type": "error",
     "traceback": [
      "\u001b[1;31m---------------------------------------------------------------------------\u001b[0m",
      "\u001b[1;31mValueError\u001b[0m                                Traceback (most recent call last)",
      "\u001b[1;32m<ipython-input-53-619a444336bc>\u001b[0m in \u001b[0;36m<module>\u001b[1;34m()\u001b[0m\n\u001b[0;32m     10\u001b[0m             \u001b[0mlabels\u001b[0m \u001b[1;33m=\u001b[0m \u001b[0mdb\u001b[0m\u001b[1;33m.\u001b[0m\u001b[0mlabels_\u001b[0m\u001b[1;33m\u001b[0m\u001b[0m\n\u001b[0;32m     11\u001b[0m             \u001b[0mprint\u001b[0m\u001b[1;33m(\u001b[0m\u001b[1;34m\"eps = \"\u001b[0m\u001b[1;33m,\u001b[0m \u001b[0me\u001b[0m\u001b[1;33m,\u001b[0m \u001b[1;34m\"min_samples = \"\u001b[0m\u001b[1;33m,\u001b[0m \u001b[0mm\u001b[0m\u001b[1;33m,\u001b[0m \u001b[1;34m\"leaf_size = \"\u001b[0m\u001b[1;33m,\u001b[0m\u001b[0ml\u001b[0m\u001b[1;33m)\u001b[0m\u001b[1;33m\u001b[0m\u001b[0m\n\u001b[1;32m---> 12\u001b[1;33m             \u001b[0mprint\u001b[0m\u001b[1;33m(\u001b[0m\u001b[1;34m\"Silhouette Coefficient: %0.3f\"\u001b[0m\u001b[1;33m%\u001b[0m \u001b[0msilhouette_score\u001b[0m\u001b[1;33m(\u001b[0m\u001b[0mtrain_shoot\u001b[0m\u001b[1;33m,\u001b[0m \u001b[0mlabels\u001b[0m\u001b[1;33m,\u001b[0m \u001b[0mmetric\u001b[0m\u001b[1;33m=\u001b[0m\u001b[1;34m'euclidean'\u001b[0m\u001b[1;33m)\u001b[0m\u001b[1;33m)\u001b[0m\u001b[1;33m\u001b[0m\u001b[0m\n\u001b[0m",
      "\u001b[1;32m~\\Miniconda3\\lib\\site-packages\\sklearn\\metrics\\cluster\\unsupervised.py\u001b[0m in \u001b[0;36msilhouette_score\u001b[1;34m(X, labels, metric, sample_size, random_state, **kwds)\u001b[0m\n\u001b[0;32m     99\u001b[0m         \u001b[1;32melse\u001b[0m\u001b[1;33m:\u001b[0m\u001b[1;33m\u001b[0m\u001b[0m\n\u001b[0;32m    100\u001b[0m             \u001b[0mX\u001b[0m\u001b[1;33m,\u001b[0m \u001b[0mlabels\u001b[0m \u001b[1;33m=\u001b[0m \u001b[0mX\u001b[0m\u001b[1;33m[\u001b[0m\u001b[0mindices\u001b[0m\u001b[1;33m]\u001b[0m\u001b[1;33m,\u001b[0m \u001b[0mlabels\u001b[0m\u001b[1;33m[\u001b[0m\u001b[0mindices\u001b[0m\u001b[1;33m]\u001b[0m\u001b[1;33m\u001b[0m\u001b[0m\n\u001b[1;32m--> 101\u001b[1;33m     \u001b[1;32mreturn\u001b[0m \u001b[0mnp\u001b[0m\u001b[1;33m.\u001b[0m\u001b[0mmean\u001b[0m\u001b[1;33m(\u001b[0m\u001b[0msilhouette_samples\u001b[0m\u001b[1;33m(\u001b[0m\u001b[0mX\u001b[0m\u001b[1;33m,\u001b[0m \u001b[0mlabels\u001b[0m\u001b[1;33m,\u001b[0m \u001b[0mmetric\u001b[0m\u001b[1;33m=\u001b[0m\u001b[0mmetric\u001b[0m\u001b[1;33m,\u001b[0m \u001b[1;33m**\u001b[0m\u001b[0mkwds\u001b[0m\u001b[1;33m)\u001b[0m\u001b[1;33m)\u001b[0m\u001b[1;33m\u001b[0m\u001b[0m\n\u001b[0m\u001b[0;32m    102\u001b[0m \u001b[1;33m\u001b[0m\u001b[0m\n\u001b[0;32m    103\u001b[0m \u001b[1;33m\u001b[0m\u001b[0m\n",
      "\u001b[1;32m~\\Miniconda3\\lib\\site-packages\\sklearn\\metrics\\cluster\\unsupervised.py\u001b[0m in \u001b[0;36msilhouette_samples\u001b[1;34m(X, labels, metric, **kwds)\u001b[0m\n\u001b[0;32m    165\u001b[0m     \u001b[0mle\u001b[0m \u001b[1;33m=\u001b[0m \u001b[0mLabelEncoder\u001b[0m\u001b[1;33m(\u001b[0m\u001b[1;33m)\u001b[0m\u001b[1;33m\u001b[0m\u001b[0m\n\u001b[0;32m    166\u001b[0m     \u001b[0mlabels\u001b[0m \u001b[1;33m=\u001b[0m \u001b[0mle\u001b[0m\u001b[1;33m.\u001b[0m\u001b[0mfit_transform\u001b[0m\u001b[1;33m(\u001b[0m\u001b[0mlabels\u001b[0m\u001b[1;33m)\u001b[0m\u001b[1;33m\u001b[0m\u001b[0m\n\u001b[1;32m--> 167\u001b[1;33m     \u001b[0mcheck_number_of_labels\u001b[0m\u001b[1;33m(\u001b[0m\u001b[0mlen\u001b[0m\u001b[1;33m(\u001b[0m\u001b[0mle\u001b[0m\u001b[1;33m.\u001b[0m\u001b[0mclasses_\u001b[0m\u001b[1;33m)\u001b[0m\u001b[1;33m,\u001b[0m \u001b[0mX\u001b[0m\u001b[1;33m.\u001b[0m\u001b[0mshape\u001b[0m\u001b[1;33m[\u001b[0m\u001b[1;36m0\u001b[0m\u001b[1;33m]\u001b[0m\u001b[1;33m)\u001b[0m\u001b[1;33m\u001b[0m\u001b[0m\n\u001b[0m\u001b[0;32m    168\u001b[0m \u001b[1;33m\u001b[0m\u001b[0m\n\u001b[0;32m    169\u001b[0m     \u001b[0mdistances\u001b[0m \u001b[1;33m=\u001b[0m \u001b[0mpairwise_distances\u001b[0m\u001b[1;33m(\u001b[0m\u001b[0mX\u001b[0m\u001b[1;33m,\u001b[0m \u001b[0mmetric\u001b[0m\u001b[1;33m=\u001b[0m\u001b[0mmetric\u001b[0m\u001b[1;33m,\u001b[0m \u001b[1;33m**\u001b[0m\u001b[0mkwds\u001b[0m\u001b[1;33m)\u001b[0m\u001b[1;33m\u001b[0m\u001b[0m\n",
      "\u001b[1;32m~\\Miniconda3\\lib\\site-packages\\sklearn\\metrics\\cluster\\unsupervised.py\u001b[0m in \u001b[0;36mcheck_number_of_labels\u001b[1;34m(n_labels, n_samples)\u001b[0m\n\u001b[0;32m     17\u001b[0m     \u001b[1;32mif\u001b[0m \u001b[1;32mnot\u001b[0m \u001b[1;36m1\u001b[0m \u001b[1;33m<\u001b[0m \u001b[0mn_labels\u001b[0m \u001b[1;33m<\u001b[0m \u001b[0mn_samples\u001b[0m\u001b[1;33m:\u001b[0m\u001b[1;33m\u001b[0m\u001b[0m\n\u001b[0;32m     18\u001b[0m         raise ValueError(\"Number of labels is %d. Valid values are 2 \"\n\u001b[1;32m---> 19\u001b[1;33m                          \"to n_samples - 1 (inclusive)\" % n_labels)\n\u001b[0m\u001b[0;32m     20\u001b[0m \u001b[1;33m\u001b[0m\u001b[0m\n\u001b[0;32m     21\u001b[0m \u001b[1;33m\u001b[0m\u001b[0m\n",
      "\u001b[1;31mValueError\u001b[0m: Number of labels is 1. Valid values are 2 to n_samples - 1 (inclusive)"
     ]
    }
   ],
   "source": [
    "ep = [0.25, 0.5, 0.75]\n",
    "minsamp = [3, 5, 7]\n",
    "leaf = [15, 30, 45]\n",
    "\n",
    "for e in ep:\n",
    "    for m in minsamp:\n",
    "        for l in leaf:\n",
    "            db = DBSCAN(eps=e, min_samples=m, leaf_size=l, n_jobs=-1)\n",
    "            db.fit_predict(train_shoot)\n",
    "            labels = bdb.labels_\n",
    "            print(\"eps = \", e, \"min_samples = \", m, \"leaf_size = \",l)\n",
    "            print(\"Silhouette Coefficient: %0.3f\"% silhouette_score(train_shoot, labels, metric='euclidean'))"
   ]
  },
  {
   "cell_type": "code",
   "execution_count": 62,
   "metadata": {},
   "outputs": [
    {
     "name": "stdout",
     "output_type": "stream",
     "text": [
      "eps =  0.25 min_samples =  2\n",
      "Silhouette Coefficient: -0.126\n",
      "eps =  0.25 min_samples =  3\n",
      "Silhouette Coefficient: -0.143\n",
      "eps =  0.25 min_samples =  4\n",
      "Silhouette Coefficient: -0.083\n",
      "eps =  0.5 min_samples =  2\n",
      "Silhouette Coefficient: -0.164\n",
      "eps =  0.5 min_samples =  3\n",
      "Silhouette Coefficient: -0.143\n",
      "eps =  0.5 min_samples =  4\n",
      "Silhouette Coefficient: -0.083\n",
      "eps =  0.75 min_samples =  2\n",
      "Silhouette Coefficient: -0.194\n",
      "eps =  0.75 min_samples =  3\n",
      "Silhouette Coefficient: -0.162\n",
      "eps =  0.75 min_samples =  4\n",
      "Silhouette Coefficient: -0.143\n",
      "eps =  1 min_samples =  2\n",
      "Silhouette Coefficient: -0.188\n",
      "eps =  1 min_samples =  3\n",
      "Silhouette Coefficient: -0.191\n",
      "eps =  1 min_samples =  4\n",
      "Silhouette Coefficient: -0.155\n",
      "eps =  2 min_samples =  2\n",
      "Silhouette Coefficient: -0.096\n",
      "eps =  2 min_samples =  3\n",
      "Silhouette Coefficient: -0.099\n",
      "eps =  2 min_samples =  4\n",
      "Silhouette Coefficient: -0.041\n",
      "eps =  3 min_samples =  2\n",
      "Silhouette Coefficient: 0.421\n",
      "eps =  3 min_samples =  3\n",
      "Silhouette Coefficient: 0.421\n",
      "eps =  3 min_samples =  4\n",
      "Silhouette Coefficient: 0.421\n",
      "eps =  4 min_samples =  2\n",
      "Silhouette Coefficient: 0.505\n",
      "eps =  4 min_samples =  3\n",
      "Silhouette Coefficient: 0.575\n",
      "eps =  4 min_samples =  4\n",
      "Silhouette Coefficient: 0.575\n",
      "eps =  5 min_samples =  2\n"
     ]
    },
    {
     "ename": "ValueError",
     "evalue": "Number of labels is 1. Valid values are 2 to n_samples - 1 (inclusive)",
     "output_type": "error",
     "traceback": [
      "\u001b[1;31m---------------------------------------------------------------------------\u001b[0m",
      "\u001b[1;31mValueError\u001b[0m                                Traceback (most recent call last)",
      "\u001b[1;32m<ipython-input-62-d28eedce72b9>\u001b[0m in \u001b[0;36m<module>\u001b[1;34m()\u001b[0m\n\u001b[0;32m      8\u001b[0m         \u001b[0mlabels\u001b[0m \u001b[1;33m=\u001b[0m \u001b[0mdb\u001b[0m\u001b[1;33m.\u001b[0m\u001b[0mlabels_\u001b[0m\u001b[1;33m\u001b[0m\u001b[0m\n\u001b[0;32m      9\u001b[0m         \u001b[0mprint\u001b[0m\u001b[1;33m(\u001b[0m\u001b[1;34m\"eps = \"\u001b[0m\u001b[1;33m,\u001b[0m \u001b[0me\u001b[0m\u001b[1;33m,\u001b[0m \u001b[1;34m\"min_samples = \"\u001b[0m\u001b[1;33m,\u001b[0m \u001b[0mm\u001b[0m\u001b[1;33m)\u001b[0m\u001b[1;33m\u001b[0m\u001b[0m\n\u001b[1;32m---> 10\u001b[1;33m         \u001b[0mprint\u001b[0m\u001b[1;33m(\u001b[0m\u001b[1;34m\"Silhouette Coefficient: %0.3f\"\u001b[0m\u001b[1;33m%\u001b[0m \u001b[0msilhouette_score\u001b[0m\u001b[1;33m(\u001b[0m\u001b[0mtrain_shoot\u001b[0m\u001b[1;33m,\u001b[0m \u001b[0mlabels\u001b[0m\u001b[1;33m,\u001b[0m \u001b[0mmetric\u001b[0m\u001b[1;33m=\u001b[0m\u001b[1;34m'euclidean'\u001b[0m\u001b[1;33m)\u001b[0m\u001b[1;33m)\u001b[0m\u001b[1;33m\u001b[0m\u001b[0m\n\u001b[0m",
      "\u001b[1;32m~\\Miniconda3\\lib\\site-packages\\sklearn\\metrics\\cluster\\unsupervised.py\u001b[0m in \u001b[0;36msilhouette_score\u001b[1;34m(X, labels, metric, sample_size, random_state, **kwds)\u001b[0m\n\u001b[0;32m     99\u001b[0m         \u001b[1;32melse\u001b[0m\u001b[1;33m:\u001b[0m\u001b[1;33m\u001b[0m\u001b[0m\n\u001b[0;32m    100\u001b[0m             \u001b[0mX\u001b[0m\u001b[1;33m,\u001b[0m \u001b[0mlabels\u001b[0m \u001b[1;33m=\u001b[0m \u001b[0mX\u001b[0m\u001b[1;33m[\u001b[0m\u001b[0mindices\u001b[0m\u001b[1;33m]\u001b[0m\u001b[1;33m,\u001b[0m \u001b[0mlabels\u001b[0m\u001b[1;33m[\u001b[0m\u001b[0mindices\u001b[0m\u001b[1;33m]\u001b[0m\u001b[1;33m\u001b[0m\u001b[0m\n\u001b[1;32m--> 101\u001b[1;33m     \u001b[1;32mreturn\u001b[0m \u001b[0mnp\u001b[0m\u001b[1;33m.\u001b[0m\u001b[0mmean\u001b[0m\u001b[1;33m(\u001b[0m\u001b[0msilhouette_samples\u001b[0m\u001b[1;33m(\u001b[0m\u001b[0mX\u001b[0m\u001b[1;33m,\u001b[0m \u001b[0mlabels\u001b[0m\u001b[1;33m,\u001b[0m \u001b[0mmetric\u001b[0m\u001b[1;33m=\u001b[0m\u001b[0mmetric\u001b[0m\u001b[1;33m,\u001b[0m \u001b[1;33m**\u001b[0m\u001b[0mkwds\u001b[0m\u001b[1;33m)\u001b[0m\u001b[1;33m)\u001b[0m\u001b[1;33m\u001b[0m\u001b[0m\n\u001b[0m\u001b[0;32m    102\u001b[0m \u001b[1;33m\u001b[0m\u001b[0m\n\u001b[0;32m    103\u001b[0m \u001b[1;33m\u001b[0m\u001b[0m\n",
      "\u001b[1;32m~\\Miniconda3\\lib\\site-packages\\sklearn\\metrics\\cluster\\unsupervised.py\u001b[0m in \u001b[0;36msilhouette_samples\u001b[1;34m(X, labels, metric, **kwds)\u001b[0m\n\u001b[0;32m    165\u001b[0m     \u001b[0mle\u001b[0m \u001b[1;33m=\u001b[0m \u001b[0mLabelEncoder\u001b[0m\u001b[1;33m(\u001b[0m\u001b[1;33m)\u001b[0m\u001b[1;33m\u001b[0m\u001b[0m\n\u001b[0;32m    166\u001b[0m     \u001b[0mlabels\u001b[0m \u001b[1;33m=\u001b[0m \u001b[0mle\u001b[0m\u001b[1;33m.\u001b[0m\u001b[0mfit_transform\u001b[0m\u001b[1;33m(\u001b[0m\u001b[0mlabels\u001b[0m\u001b[1;33m)\u001b[0m\u001b[1;33m\u001b[0m\u001b[0m\n\u001b[1;32m--> 167\u001b[1;33m     \u001b[0mcheck_number_of_labels\u001b[0m\u001b[1;33m(\u001b[0m\u001b[0mlen\u001b[0m\u001b[1;33m(\u001b[0m\u001b[0mle\u001b[0m\u001b[1;33m.\u001b[0m\u001b[0mclasses_\u001b[0m\u001b[1;33m)\u001b[0m\u001b[1;33m,\u001b[0m \u001b[0mX\u001b[0m\u001b[1;33m.\u001b[0m\u001b[0mshape\u001b[0m\u001b[1;33m[\u001b[0m\u001b[1;36m0\u001b[0m\u001b[1;33m]\u001b[0m\u001b[1;33m)\u001b[0m\u001b[1;33m\u001b[0m\u001b[0m\n\u001b[0m\u001b[0;32m    168\u001b[0m \u001b[1;33m\u001b[0m\u001b[0m\n\u001b[0;32m    169\u001b[0m     \u001b[0mdistances\u001b[0m \u001b[1;33m=\u001b[0m \u001b[0mpairwise_distances\u001b[0m\u001b[1;33m(\u001b[0m\u001b[0mX\u001b[0m\u001b[1;33m,\u001b[0m \u001b[0mmetric\u001b[0m\u001b[1;33m=\u001b[0m\u001b[0mmetric\u001b[0m\u001b[1;33m,\u001b[0m \u001b[1;33m**\u001b[0m\u001b[0mkwds\u001b[0m\u001b[1;33m)\u001b[0m\u001b[1;33m\u001b[0m\u001b[0m\n",
      "\u001b[1;32m~\\Miniconda3\\lib\\site-packages\\sklearn\\metrics\\cluster\\unsupervised.py\u001b[0m in \u001b[0;36mcheck_number_of_labels\u001b[1;34m(n_labels, n_samples)\u001b[0m\n\u001b[0;32m     17\u001b[0m     \u001b[1;32mif\u001b[0m \u001b[1;32mnot\u001b[0m \u001b[1;36m1\u001b[0m \u001b[1;33m<\u001b[0m \u001b[0mn_labels\u001b[0m \u001b[1;33m<\u001b[0m \u001b[0mn_samples\u001b[0m\u001b[1;33m:\u001b[0m\u001b[1;33m\u001b[0m\u001b[0m\n\u001b[0;32m     18\u001b[0m         raise ValueError(\"Number of labels is %d. Valid values are 2 \"\n\u001b[1;32m---> 19\u001b[1;33m                          \"to n_samples - 1 (inclusive)\" % n_labels)\n\u001b[0m\u001b[0;32m     20\u001b[0m \u001b[1;33m\u001b[0m\u001b[0m\n\u001b[0;32m     21\u001b[0m \u001b[1;33m\u001b[0m\u001b[0m\n",
      "\u001b[1;31mValueError\u001b[0m: Number of labels is 1. Valid values are 2 to n_samples - 1 (inclusive)"
     ]
    }
   ],
   "source": [
    "ep = [0.25, 0.5, 0.75, 1, 2, 3, 4, 5, 6, 7, 8]\n",
    "minsamp = [2, 3, 4]\n",
    "\n",
    "for e in ep:\n",
    "    for m in minsamp:\n",
    "        db = DBSCAN(eps=e, min_samples=m, n_jobs=-1)\n",
    "        db.fit_predict(train_shoot)\n",
    "        labels = db.labels_\n",
    "        print(\"eps = \", e, \"min_samples = \", m)\n",
    "        print(\"Silhouette Coefficient: %0.3f\"% silhouette_score(train_shoot, labels, metric='euclidean'))"
   ]
  },
  {
   "cell_type": "code",
   "execution_count": 63,
   "metadata": {},
   "outputs": [
    {
     "name": "stdout",
     "output_type": "stream",
     "text": [
      "eps =  0.25 min_samples =  2\n",
      "Silhouette Coefficient: -0.126\n",
      "eps =  0.25 min_samples =  3\n",
      "Silhouette Coefficient: -0.143\n",
      "eps =  0.25 min_samples =  4\n",
      "Silhouette Coefficient: -0.083\n",
      "eps =  0.5 min_samples =  2\n",
      "Silhouette Coefficient: -0.164\n",
      "eps =  0.5 min_samples =  3\n",
      "Silhouette Coefficient: -0.143\n",
      "eps =  0.5 min_samples =  4\n",
      "Silhouette Coefficient: -0.083\n",
      "eps =  0.75 min_samples =  2\n",
      "Silhouette Coefficient: -0.194\n",
      "eps =  0.75 min_samples =  3\n",
      "Silhouette Coefficient: -0.162\n",
      "eps =  0.75 min_samples =  4\n",
      "Silhouette Coefficient: -0.143\n",
      "eps =  1 min_samples =  2\n",
      "Silhouette Coefficient: -0.188\n",
      "eps =  1 min_samples =  3\n",
      "Silhouette Coefficient: -0.191\n",
      "eps =  1 min_samples =  4\n",
      "Silhouette Coefficient: -0.155\n",
      "eps =  2 min_samples =  2\n",
      "Silhouette Coefficient: -0.096\n",
      "eps =  2 min_samples =  3\n",
      "Silhouette Coefficient: -0.099\n",
      "eps =  2 min_samples =  4\n",
      "Silhouette Coefficient: -0.041\n",
      "eps =  3 min_samples =  2\n",
      "Silhouette Coefficient: 0.421\n",
      "eps =  3 min_samples =  3\n",
      "Silhouette Coefficient: 0.421\n",
      "eps =  3 min_samples =  4\n",
      "Silhouette Coefficient: 0.421\n",
      "eps =  4 min_samples =  2\n",
      "Silhouette Coefficient: 0.505\n",
      "eps =  4 min_samples =  3\n",
      "Silhouette Coefficient: 0.575\n",
      "eps =  4 min_samples =  4\n",
      "Silhouette Coefficient: 0.575\n"
     ]
    }
   ],
   "source": [
    "ep = [0.25, 0.5, 0.75, 1, 2, 3, 4]\n",
    "minsamp = [2, 3, 4]\n",
    "\n",
    "for e in ep:\n",
    "    for m in minsamp:\n",
    "        db = DBSCAN(eps=e, min_samples=m, n_jobs=-1)\n",
    "        db.fit_predict(train_shoot)\n",
    "        labels = db.labels_\n",
    "        print(\"eps = \", e, \"min_samples = \", m)\n",
    "        print(\"Silhouette Coefficient: %0.3f\"% silhouette_score(train_shoot, labels, metric='euclidean'))"
   ]
  },
  {
   "cell_type": "code",
   "execution_count": null,
   "metadata": {},
   "outputs": [],
   "source": []
  }
 ],
 "metadata": {
  "kernelspec": {
   "display_name": "Python 3",
   "language": "python",
   "name": "python3"
  },
  "language_info": {
   "codemirror_mode": {
    "name": "ipython",
    "version": 3
   },
   "file_extension": ".py",
   "mimetype": "text/x-python",
   "name": "python",
   "nbconvert_exporter": "python",
   "pygments_lexer": "ipython3",
   "version": "3.6.3"
  }
 },
 "nbformat": 4,
 "nbformat_minor": 2
}
