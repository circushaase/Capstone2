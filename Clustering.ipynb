{
 "cells": [
  {
   "cell_type": "code",
   "execution_count": 7,
   "metadata": {},
   "outputs": [],
   "source": [
    "import pandas as pd\n",
    "import numpy as np\n",
    "\n",
    "# Loading the necessary libraries\n",
    "from sklearn.preprocessing import StandardScaler\n",
    "from sklearn.cross_validation import train_test_split\n",
    "from sklearn import model_selection\n",
    "from sklearn.model_selection import GridSearchCV\n",
    "#from sklearn.model_selection import RandomizedSearchCV\n",
    "from sklearn.model_selection import KFold\n",
    "from sklearn import metrics\n",
    "from sklearn.metrics import silhouette_samples, silhouette_score\n",
    "\n",
    "from sklearn.cluster import KMeans\n",
    "from sklearn.cluster import AffinityPropagation\n",
    "from sklearn.cluster import SpectralClustering\n",
    "from sklearn.cluster import AgglomerativeClustering\n",
    "from sklearn.cluster import DBSCAN\n",
    "\n",
    "\n",
    "\n",
    "cust = pd.read_csv('custody_ML.csv')\n",
    "shoot = pd.read_csv('shootings_ML.csv')"
   ]
  },
  {
   "cell_type": "code",
   "execution_count": 2,
   "metadata": {},
   "outputs": [
    {
     "data": {
      "text/html": [
       "<div>\n",
       "<style scoped>\n",
       "    .dataframe tbody tr th:only-of-type {\n",
       "        vertical-align: middle;\n",
       "    }\n",
       "\n",
       "    .dataframe tbody tr th {\n",
       "        vertical-align: top;\n",
       "    }\n",
       "\n",
       "    .dataframe thead th {\n",
       "        text-align: right;\n",
       "    }\n",
       "</style>\n",
       "<table border=\"1\" class=\"dataframe\">\n",
       "  <thead>\n",
       "    <tr style=\"text-align: right;\">\n",
       "      <th></th>\n",
       "      <th>Unnamed: 0</th>\n",
       "      <th>dept</th>\n",
       "      <th>custody_type</th>\n",
       "      <th>facility</th>\n",
       "      <th>race</th>\n",
       "      <th>sex</th>\n",
       "      <th>death_type</th>\n",
       "      <th>charge_status</th>\n",
       "      <th>age</th>\n",
       "      <th>year</th>\n",
       "      <th>month</th>\n",
       "    </tr>\n",
       "  </thead>\n",
       "  <tbody>\n",
       "    <tr>\n",
       "      <th>0</th>\n",
       "      <td>0</td>\n",
       "      <td>389</td>\n",
       "      <td>2</td>\n",
       "      <td>134</td>\n",
       "      <td>4</td>\n",
       "      <td>1</td>\n",
       "      <td>5</td>\n",
       "      <td>0</td>\n",
       "      <td>58.0</td>\n",
       "      <td>2012</td>\n",
       "      <td>9</td>\n",
       "    </tr>\n",
       "    <tr>\n",
       "      <th>1</th>\n",
       "      <td>1</td>\n",
       "      <td>389</td>\n",
       "      <td>2</td>\n",
       "      <td>115</td>\n",
       "      <td>3</td>\n",
       "      <td>1</td>\n",
       "      <td>5</td>\n",
       "      <td>0</td>\n",
       "      <td>76.0</td>\n",
       "      <td>2016</td>\n",
       "      <td>9</td>\n",
       "    </tr>\n",
       "    <tr>\n",
       "      <th>2</th>\n",
       "      <td>2</td>\n",
       "      <td>175</td>\n",
       "      <td>1</td>\n",
       "      <td>0</td>\n",
       "      <td>4</td>\n",
       "      <td>1</td>\n",
       "      <td>6</td>\n",
       "      <td>2</td>\n",
       "      <td>30.0</td>\n",
       "      <td>2016</td>\n",
       "      <td>12</td>\n",
       "    </tr>\n",
       "    <tr>\n",
       "      <th>3</th>\n",
       "      <td>3</td>\n",
       "      <td>389</td>\n",
       "      <td>2</td>\n",
       "      <td>60</td>\n",
       "      <td>1</td>\n",
       "      <td>1</td>\n",
       "      <td>1</td>\n",
       "      <td>0</td>\n",
       "      <td>39.0</td>\n",
       "      <td>2011</td>\n",
       "      <td>11</td>\n",
       "    </tr>\n",
       "    <tr>\n",
       "      <th>4</th>\n",
       "      <td>4</td>\n",
       "      <td>389</td>\n",
       "      <td>2</td>\n",
       "      <td>77</td>\n",
       "      <td>1</td>\n",
       "      <td>1</td>\n",
       "      <td>5</td>\n",
       "      <td>0</td>\n",
       "      <td>31.0</td>\n",
       "      <td>2014</td>\n",
       "      <td>12</td>\n",
       "    </tr>\n",
       "  </tbody>\n",
       "</table>\n",
       "</div>"
      ],
      "text/plain": [
       "   Unnamed: 0  dept  custody_type  facility  race  sex  death_type  \\\n",
       "0           0   389             2       134     4    1           5   \n",
       "1           1   389             2       115     3    1           5   \n",
       "2           2   175             1         0     4    1           6   \n",
       "3           3   389             2        60     1    1           1   \n",
       "4           4   389             2        77     1    1           5   \n",
       "\n",
       "   charge_status   age  year  month  \n",
       "0              0  58.0  2012      9  \n",
       "1              0  76.0  2016      9  \n",
       "2              2  30.0  2016     12  \n",
       "3              0  39.0  2011     11  \n",
       "4              0  31.0  2014     12  "
      ]
     },
     "execution_count": 2,
     "metadata": {},
     "output_type": "execute_result"
    }
   ],
   "source": [
    "cust.head()"
   ]
  },
  {
   "cell_type": "code",
   "execution_count": 3,
   "metadata": {},
   "outputs": [
    {
     "data": {
      "text/html": [
       "<div>\n",
       "<style scoped>\n",
       "    .dataframe tbody tr th:only-of-type {\n",
       "        vertical-align: middle;\n",
       "    }\n",
       "\n",
       "    .dataframe tbody tr th {\n",
       "        vertical-align: top;\n",
       "    }\n",
       "\n",
       "    .dataframe thead th {\n",
       "        text-align: right;\n",
       "    }\n",
       "</style>\n",
       "<table border=\"1\" class=\"dataframe\">\n",
       "  <thead>\n",
       "    <tr style=\"text-align: right;\">\n",
       "      <th></th>\n",
       "      <th>Unnamed: 0</th>\n",
       "      <th>age</th>\n",
       "      <th>number_officers</th>\n",
       "      <th>fatality</th>\n",
       "      <th>armed</th>\n",
       "      <th>race</th>\n",
       "      <th>sex</th>\n",
       "      <th>stop_reason</th>\n",
       "      <th>officer_race</th>\n",
       "      <th>dept</th>\n",
       "      <th>year</th>\n",
       "      <th>month</th>\n",
       "    </tr>\n",
       "  </thead>\n",
       "  <tbody>\n",
       "    <tr>\n",
       "      <th>0</th>\n",
       "      <td>103</td>\n",
       "      <td>26.0</td>\n",
       "      <td>1.0</td>\n",
       "      <td>0</td>\n",
       "      <td>2</td>\n",
       "      <td>4</td>\n",
       "      <td>1</td>\n",
       "      <td>23</td>\n",
       "      <td>13</td>\n",
       "      <td>0</td>\n",
       "      <td>2010</td>\n",
       "      <td>9</td>\n",
       "    </tr>\n",
       "    <tr>\n",
       "      <th>1</th>\n",
       "      <td>104</td>\n",
       "      <td>16.0</td>\n",
       "      <td>1.0</td>\n",
       "      <td>0</td>\n",
       "      <td>2</td>\n",
       "      <td>2</td>\n",
       "      <td>1</td>\n",
       "      <td>13</td>\n",
       "      <td>40</td>\n",
       "      <td>0</td>\n",
       "      <td>2010</td>\n",
       "      <td>10</td>\n",
       "    </tr>\n",
       "    <tr>\n",
       "      <th>2</th>\n",
       "      <td>105</td>\n",
       "      <td>26.0</td>\n",
       "      <td>2.0</td>\n",
       "      <td>0</td>\n",
       "      <td>2</td>\n",
       "      <td>0</td>\n",
       "      <td>1</td>\n",
       "      <td>66</td>\n",
       "      <td>48</td>\n",
       "      <td>0</td>\n",
       "      <td>2010</td>\n",
       "      <td>11</td>\n",
       "    </tr>\n",
       "    <tr>\n",
       "      <th>3</th>\n",
       "      <td>106</td>\n",
       "      <td>35.0</td>\n",
       "      <td>1.0</td>\n",
       "      <td>0</td>\n",
       "      <td>0</td>\n",
       "      <td>4</td>\n",
       "      <td>1</td>\n",
       "      <td>86</td>\n",
       "      <td>5</td>\n",
       "      <td>0</td>\n",
       "      <td>2010</td>\n",
       "      <td>12</td>\n",
       "    </tr>\n",
       "    <tr>\n",
       "      <th>4</th>\n",
       "      <td>107</td>\n",
       "      <td>30.0</td>\n",
       "      <td>1.0</td>\n",
       "      <td>0</td>\n",
       "      <td>2</td>\n",
       "      <td>2</td>\n",
       "      <td>1</td>\n",
       "      <td>66</td>\n",
       "      <td>13</td>\n",
       "      <td>0</td>\n",
       "      <td>2011</td>\n",
       "      <td>5</td>\n",
       "    </tr>\n",
       "  </tbody>\n",
       "</table>\n",
       "</div>"
      ],
      "text/plain": [
       "   Unnamed: 0   age  number_officers  fatality  armed  race  sex  stop_reason  \\\n",
       "0         103  26.0              1.0         0      2     4    1           23   \n",
       "1         104  16.0              1.0         0      2     2    1           13   \n",
       "2         105  26.0              2.0         0      2     0    1           66   \n",
       "3         106  35.0              1.0         0      0     4    1           86   \n",
       "4         107  30.0              1.0         0      2     2    1           66   \n",
       "\n",
       "   officer_race  dept  year  month  \n",
       "0            13     0  2010      9  \n",
       "1            40     0  2010     10  \n",
       "2            48     0  2010     11  \n",
       "3             5     0  2010     12  \n",
       "4            13     0  2011      5  "
      ]
     },
     "execution_count": 3,
     "metadata": {},
     "output_type": "execute_result"
    }
   ],
   "source": [
    "shoot.head()"
   ]
  },
  {
   "cell_type": "code",
   "execution_count": 8,
   "metadata": {},
   "outputs": [],
   "source": [
    "cust.drop('Unnamed: 0', axis=1, inplace=True)"
   ]
  },
  {
   "cell_type": "code",
   "execution_count": 9,
   "metadata": {},
   "outputs": [],
   "source": [
    "shoot.drop('Unnamed: 0', axis=1, inplace=True)"
   ]
  },
  {
   "cell_type": "code",
   "execution_count": 10,
   "metadata": {},
   "outputs": [
    {
     "data": {
      "text/html": [
       "<div>\n",
       "<style scoped>\n",
       "    .dataframe tbody tr th:only-of-type {\n",
       "        vertical-align: middle;\n",
       "    }\n",
       "\n",
       "    .dataframe tbody tr th {\n",
       "        vertical-align: top;\n",
       "    }\n",
       "\n",
       "    .dataframe thead th {\n",
       "        text-align: right;\n",
       "    }\n",
       "</style>\n",
       "<table border=\"1\" class=\"dataframe\">\n",
       "  <thead>\n",
       "    <tr style=\"text-align: right;\">\n",
       "      <th></th>\n",
       "      <th>dept</th>\n",
       "      <th>custody_type</th>\n",
       "      <th>facility</th>\n",
       "      <th>race</th>\n",
       "      <th>sex</th>\n",
       "      <th>death_type</th>\n",
       "      <th>charge_status</th>\n",
       "      <th>age</th>\n",
       "      <th>year</th>\n",
       "      <th>month</th>\n",
       "    </tr>\n",
       "  </thead>\n",
       "  <tbody>\n",
       "    <tr>\n",
       "      <th>0</th>\n",
       "      <td>0.555878</td>\n",
       "      <td>0.123491</td>\n",
       "      <td>0.230097</td>\n",
       "      <td>1.156565</td>\n",
       "      <td>0.238506</td>\n",
       "      <td>0.155584</td>\n",
       "      <td>-0.605742</td>\n",
       "      <td>0.590814</td>\n",
       "      <td>0.412088</td>\n",
       "      <td>0.723706</td>\n",
       "    </tr>\n",
       "    <tr>\n",
       "      <th>1</th>\n",
       "      <td>0.555878</td>\n",
       "      <td>0.123491</td>\n",
       "      <td>-0.095784</td>\n",
       "      <td>0.406515</td>\n",
       "      <td>0.238506</td>\n",
       "      <td>0.155584</td>\n",
       "      <td>-0.605742</td>\n",
       "      <td>1.798521</td>\n",
       "      <td>1.579194</td>\n",
       "      <td>0.723706</td>\n",
       "    </tr>\n",
       "    <tr>\n",
       "      <th>2</th>\n",
       "      <td>-1.378794</td>\n",
       "      <td>-1.037655</td>\n",
       "      <td>-2.068228</td>\n",
       "      <td>1.156565</td>\n",
       "      <td>0.238506</td>\n",
       "      <td>0.943599</td>\n",
       "      <td>1.487142</td>\n",
       "      <td>-1.287842</td>\n",
       "      <td>1.579194</td>\n",
       "      <td>1.595334</td>\n",
       "    </tr>\n",
       "    <tr>\n",
       "      <th>3</th>\n",
       "      <td>0.555878</td>\n",
       "      <td>0.123491</td>\n",
       "      <td>-1.039127</td>\n",
       "      <td>-1.093584</td>\n",
       "      <td>0.238506</td>\n",
       "      <td>-2.996475</td>\n",
       "      <td>-0.605742</td>\n",
       "      <td>-0.683988</td>\n",
       "      <td>0.120312</td>\n",
       "      <td>1.304791</td>\n",
       "    </tr>\n",
       "    <tr>\n",
       "      <th>4</th>\n",
       "      <td>0.555878</td>\n",
       "      <td>0.123491</td>\n",
       "      <td>-0.747548</td>\n",
       "      <td>-1.093584</td>\n",
       "      <td>0.238506</td>\n",
       "      <td>0.155584</td>\n",
       "      <td>-0.605742</td>\n",
       "      <td>-1.220747</td>\n",
       "      <td>0.995641</td>\n",
       "      <td>1.595334</td>\n",
       "    </tr>\n",
       "  </tbody>\n",
       "</table>\n",
       "</div>"
      ],
      "text/plain": [
       "       dept  custody_type  facility      race       sex  death_type  \\\n",
       "0  0.555878      0.123491  0.230097  1.156565  0.238506    0.155584   \n",
       "1  0.555878      0.123491 -0.095784  0.406515  0.238506    0.155584   \n",
       "2 -1.378794     -1.037655 -2.068228  1.156565  0.238506    0.943599   \n",
       "3  0.555878      0.123491 -1.039127 -1.093584  0.238506   -2.996475   \n",
       "4  0.555878      0.123491 -0.747548 -1.093584  0.238506    0.155584   \n",
       "\n",
       "   charge_status       age      year     month  \n",
       "0      -0.605742  0.590814  0.412088  0.723706  \n",
       "1      -0.605742  1.798521  1.579194  0.723706  \n",
       "2       1.487142 -1.287842  1.579194  1.595334  \n",
       "3      -0.605742 -0.683988  0.120312  1.304791  \n",
       "4      -0.605742 -1.220747  0.995641  1.595334  "
      ]
     },
     "execution_count": 10,
     "metadata": {},
     "output_type": "execute_result"
    }
   ],
   "source": [
    "#Scale cust df\n",
    "X_col = cust.columns\n",
    "\n",
    "cust_scaled = pd.DataFrame(StandardScaler().fit_transform(cust), columns= X_col)\n",
    "cust_scaled.head()"
   ]
  },
  {
   "cell_type": "code",
   "execution_count": 11,
   "metadata": {},
   "outputs": [
    {
     "data": {
      "text/html": [
       "<div>\n",
       "<style scoped>\n",
       "    .dataframe tbody tr th:only-of-type {\n",
       "        vertical-align: middle;\n",
       "    }\n",
       "\n",
       "    .dataframe tbody tr th {\n",
       "        vertical-align: top;\n",
       "    }\n",
       "\n",
       "    .dataframe thead th {\n",
       "        text-align: right;\n",
       "    }\n",
       "</style>\n",
       "<table border=\"1\" class=\"dataframe\">\n",
       "  <thead>\n",
       "    <tr style=\"text-align: right;\">\n",
       "      <th></th>\n",
       "      <th>age</th>\n",
       "      <th>number_officers</th>\n",
       "      <th>fatality</th>\n",
       "      <th>armed</th>\n",
       "      <th>race</th>\n",
       "      <th>sex</th>\n",
       "      <th>stop_reason</th>\n",
       "      <th>officer_race</th>\n",
       "      <th>dept</th>\n",
       "      <th>year</th>\n",
       "      <th>month</th>\n",
       "    </tr>\n",
       "  </thead>\n",
       "  <tbody>\n",
       "    <tr>\n",
       "      <th>0</th>\n",
       "      <td>-0.670348</td>\n",
       "      <td>-0.394330</td>\n",
       "      <td>-1.387608</td>\n",
       "      <td>0.980761</td>\n",
       "      <td>1.548471</td>\n",
       "      <td>-0.543893</td>\n",
       "      <td>-1.792733</td>\n",
       "      <td>-1.051157</td>\n",
       "      <td>-1.900016</td>\n",
       "      <td>-1.560899</td>\n",
       "      <td>0.761520</td>\n",
       "    </tr>\n",
       "    <tr>\n",
       "      <th>1</th>\n",
       "      <td>-1.716530</td>\n",
       "      <td>-0.394330</td>\n",
       "      <td>-1.387608</td>\n",
       "      <td>0.980761</td>\n",
       "      <td>-0.096378</td>\n",
       "      <td>-0.543893</td>\n",
       "      <td>-2.118722</td>\n",
       "      <td>0.439038</td>\n",
       "      <td>-1.900016</td>\n",
       "      <td>-1.560899</td>\n",
       "      <td>1.051969</td>\n",
       "    </tr>\n",
       "    <tr>\n",
       "      <th>2</th>\n",
       "      <td>-0.670348</td>\n",
       "      <td>0.469955</td>\n",
       "      <td>-1.387608</td>\n",
       "      <td>0.980761</td>\n",
       "      <td>-1.741227</td>\n",
       "      <td>-0.543893</td>\n",
       "      <td>-0.390982</td>\n",
       "      <td>0.880578</td>\n",
       "      <td>-1.900016</td>\n",
       "      <td>-1.560899</td>\n",
       "      <td>1.342418</td>\n",
       "    </tr>\n",
       "    <tr>\n",
       "      <th>3</th>\n",
       "      <td>0.271215</td>\n",
       "      <td>-0.394330</td>\n",
       "      <td>-1.387608</td>\n",
       "      <td>-1.040776</td>\n",
       "      <td>1.548471</td>\n",
       "      <td>-0.543893</td>\n",
       "      <td>0.260995</td>\n",
       "      <td>-1.492696</td>\n",
       "      <td>-1.900016</td>\n",
       "      <td>-1.560899</td>\n",
       "      <td>1.632866</td>\n",
       "    </tr>\n",
       "    <tr>\n",
       "      <th>4</th>\n",
       "      <td>-0.251876</td>\n",
       "      <td>-0.394330</td>\n",
       "      <td>-1.387608</td>\n",
       "      <td>0.980761</td>\n",
       "      <td>-0.096378</td>\n",
       "      <td>-0.543893</td>\n",
       "      <td>-0.390982</td>\n",
       "      <td>-1.051157</td>\n",
       "      <td>-1.900016</td>\n",
       "      <td>-1.048604</td>\n",
       "      <td>-0.400275</td>\n",
       "    </tr>\n",
       "  </tbody>\n",
       "</table>\n",
       "</div>"
      ],
      "text/plain": [
       "        age  number_officers  fatality     armed      race       sex  \\\n",
       "0 -0.670348        -0.394330 -1.387608  0.980761  1.548471 -0.543893   \n",
       "1 -1.716530        -0.394330 -1.387608  0.980761 -0.096378 -0.543893   \n",
       "2 -0.670348         0.469955 -1.387608  0.980761 -1.741227 -0.543893   \n",
       "3  0.271215        -0.394330 -1.387608 -1.040776  1.548471 -0.543893   \n",
       "4 -0.251876        -0.394330 -1.387608  0.980761 -0.096378 -0.543893   \n",
       "\n",
       "   stop_reason  officer_race      dept      year     month  \n",
       "0    -1.792733     -1.051157 -1.900016 -1.560899  0.761520  \n",
       "1    -2.118722      0.439038 -1.900016 -1.560899  1.051969  \n",
       "2    -0.390982      0.880578 -1.900016 -1.560899  1.342418  \n",
       "3     0.260995     -1.492696 -1.900016 -1.560899  1.632866  \n",
       "4    -0.390982     -1.051157 -1.900016 -1.048604 -0.400275  "
      ]
     },
     "execution_count": 11,
     "metadata": {},
     "output_type": "execute_result"
    }
   ],
   "source": [
    "#Scale shoot df\n",
    "X_cols = shoot.columns\n",
    "\n",
    "shoot_scaled = pd.DataFrame(StandardScaler().fit_transform(shoot), columns = X_cols)\n",
    "shoot_scaled.head()"
   ]
  },
  {
   "cell_type": "code",
   "execution_count": null,
   "metadata": {},
   "outputs": [],
   "source": []
  },
  {
   "cell_type": "markdown",
   "metadata": {},
   "source": [
    "# Deaths in Custody"
   ]
  },
  {
   "cell_type": "markdown",
   "metadata": {},
   "source": [
    "## KMeans Clustering"
   ]
  },
  {
   "cell_type": "code",
   "execution_count": 6,
   "metadata": {
    "scrolled": false
   },
   "outputs": [
    {
     "name": "stdout",
     "output_type": "stream",
     "text": [
      "The number of clusters, 2, and silhouette coefficient is 0.29\n",
      "The number of clusters, 3, and silhouette coefficient is 0.32\n",
      "The number of clusters, 4, and silhouette coefficient is 0.32\n",
      "The number of clusters, 5, and silhouette coefficient is 0.20\n",
      "The number of clusters, 6, and silhouette coefficient is 0.18\n",
      "The number of clusters, 7, and silhouette coefficient is 0.18\n",
      "The number of clusters, 8, and silhouette coefficient is 0.18\n",
      "The number of clusters, 9, and silhouette coefficient is 0.18\n",
      "The number of clusters, 10, and silhouette coefficient is 0.17\n"
     ]
    }
   ],
   "source": [
    "#KMeans Clustering of Custody data\n",
    "k_range = range(2,11)\n",
    "\n",
    "for i in k_range:\n",
    "    model = KMeans(n_clusters=i,random_state=11)\n",
    "    pred =model.fit_predict(cust_scaled)\n",
    "    silhouette_avg = silhouette_score(cust_scaled,pred)\n",
    "    print('The number of clusters, %d, and silhouette coefficient is %0.2f'% (i,silhouette_avg))"
   ]
  },
  {
   "cell_type": "markdown",
   "metadata": {},
   "source": [
    "## Affinity Propagation"
   ]
  },
  {
   "cell_type": "code",
   "execution_count": 7,
   "metadata": {},
   "outputs": [
    {
     "name": "stdout",
     "output_type": "stream",
     "text": [
      "Silhouette Coefficient: 0.164\n"
     ]
    }
   ],
   "source": [
    "# Affinity propagation with default parameters\n",
    "affPro = AffinityPropagation()\n",
    "affPro.fit_predict(cust_scaled)\n",
    "centers = affPro.cluster_centers_indices_\n",
    "labels = affPro.labels_\n",
    "print(\"Silhouette Coefficient: %0.3f\"% silhouette_score(cust_scaled, labels, metric='euclidean'))"
   ]
  },
  {
   "cell_type": "markdown",
   "metadata": {},
   "source": [
    "#### Tuning"
   ]
  },
  {
   "cell_type": "code",
   "execution_count": 9,
   "metadata": {},
   "outputs": [
    {
     "name": "stdout",
     "output_type": "stream",
     "text": [
      "damping =  0.95 convergence_iter =  7\n",
      "Silhouette Coefficient: 0.164\n",
      "damping =  0.95 convergence_iter =  15\n",
      "Silhouette Coefficient: 0.167\n",
      "damping =  0.95 convergence_iter =  23\n",
      "Silhouette Coefficient: 0.167\n",
      "damping =  0.95 convergence_iter =  40\n",
      "Silhouette Coefficient: 0.167\n",
      "damping =  0.85 convergence_iter =  7\n",
      "Silhouette Coefficient: 0.167\n",
      "damping =  0.85 convergence_iter =  15\n",
      "Silhouette Coefficient: 0.168\n",
      "damping =  0.85 convergence_iter =  23\n",
      "Silhouette Coefficient: 0.168\n",
      "damping =  0.85 convergence_iter =  40\n",
      "Silhouette Coefficient: 0.167\n",
      "damping =  0.75 convergence_iter =  7\n",
      "Silhouette Coefficient: 0.164\n",
      "damping =  0.75 convergence_iter =  15\n",
      "Silhouette Coefficient: 0.164\n",
      "damping =  0.75 convergence_iter =  23\n",
      "Silhouette Coefficient: 0.164\n",
      "damping =  0.75 convergence_iter =  40\n",
      "Silhouette Coefficient: 0.164\n",
      "damping =  0.5 convergence_iter =  7\n",
      "Silhouette Coefficient: 0.164\n",
      "damping =  0.5 convergence_iter =  15\n",
      "Silhouette Coefficient: 0.164\n",
      "damping =  0.5 convergence_iter =  23\n",
      "Silhouette Coefficient: 0.164\n",
      "damping =  0.5 convergence_iter =  40\n",
      "Silhouette Coefficient: 0.164\n"
     ]
    }
   ],
   "source": [
    "damp = [0.95, 0.85, 0.75, 0.5]\n",
    "conv = [7, 15, 23, 40]\n",
    "\n",
    "for d in damp:\n",
    "    for c in conv:\n",
    "        affPro = AffinityPropagation(damping= d, convergence_iter= c)\n",
    "        affPro.fit_predict(cust_scaled)\n",
    "        centers = affPro.cluster_centers_indices_ \n",
    "        labels = affPro.labels_\n",
    "        print(\"damping = \", d, \"convergence_iter = \",c)\n",
    "        print(\"Silhouette Coefficient: %0.3f\"% silhouette_score(cust_scaled, labels, metric='euclidean'))"
   ]
  },
  {
   "cell_type": "markdown",
   "metadata": {},
   "source": [
    "## Spectral Clustering"
   ]
  },
  {
   "cell_type": "code",
   "execution_count": 6,
   "metadata": {
    "scrolled": true
   },
   "outputs": [
    {
     "name": "stdout",
     "output_type": "stream",
     "text": [
      "The number of clusters: 2, silhouette coefficient: 0.08\n",
      "The number of clusters: 3, silhouette coefficient: -0.06\n",
      "The number of clusters: 4, silhouette coefficient: -0.07\n",
      "The number of clusters: 5, silhouette coefficient: -0.06\n",
      "The number of clusters: 6, silhouette coefficient: -0.09\n",
      "The number of clusters: 7, silhouette coefficient: -0.09\n",
      "The number of clusters: 8, silhouette coefficient: -0.10\n",
      "The number of clusters: 9, silhouette coefficient: -0.10\n",
      "The number of clusters: 10, silhouette coefficient: -0.10\n"
     ]
    }
   ],
   "source": [
    "# Spectral clustering\n",
    "for k in range(2,11):\n",
    "    spect = SpectralClustering(n_clusters=k,random_state=11)\n",
    "    spect.fit_predict(cust_scaled)\n",
    "    spectlabel = spect.labels_\n",
    "    score= silhouette_score(cust_scaled, spectlabel, metric='euclidean')\n",
    "    print(\"The number of clusters: %d, silhouette coefficient: %0.2f\" % (k,score))"
   ]
  },
  {
   "cell_type": "markdown",
   "metadata": {},
   "source": [
    "#### Tuning"
   ]
  },
  {
   "cell_type": "code",
   "execution_count": 45,
   "metadata": {},
   "outputs": [
    {
     "name": "stdout",
     "output_type": "stream",
     "text": [
      "The number of clusters: 2, gamma: 0.100000, silhouette coefficient: 0.27\n",
      "The number of clusters: 3, gamma: 0.100000, silhouette coefficient: 0.31\n",
      "The number of clusters: 4, gamma: 0.100000, silhouette coefficient: 0.32\n",
      "The number of clusters: 5, gamma: 0.100000, silhouette coefficient: 0.17\n",
      "The number of clusters: 6, gamma: 0.100000, silhouette coefficient: 0.11\n",
      "The number of clusters: 7, gamma: 0.100000, silhouette coefficient: 0.12\n",
      "The number of clusters: 8, gamma: 0.100000, silhouette coefficient: 0.15\n",
      "The number of clusters: 9, gamma: 0.100000, silhouette coefficient: 0.14\n",
      "The number of clusters: 10, gamma: 0.100000, silhouette coefficient: 0.13\n",
      "The number of clusters: 2, gamma: 0.250000, silhouette coefficient: 0.19\n",
      "The number of clusters: 3, gamma: 0.250000, silhouette coefficient: 0.22\n",
      "The number of clusters: 4, gamma: 0.250000, silhouette coefficient: 0.22\n",
      "The number of clusters: 5, gamma: 0.250000, silhouette coefficient: 0.02\n",
      "The number of clusters: 6, gamma: 0.250000, silhouette coefficient: 0.03\n",
      "The number of clusters: 7, gamma: 0.250000, silhouette coefficient: -0.01\n",
      "The number of clusters: 8, gamma: 0.250000, silhouette coefficient: 0.04\n",
      "The number of clusters: 9, gamma: 0.250000, silhouette coefficient: 0.08\n",
      "The number of clusters: 10, gamma: 0.250000, silhouette coefficient: 0.04\n",
      "The number of clusters: 2, gamma: 0.500000, silhouette coefficient: 0.13\n",
      "The number of clusters: 3, gamma: 0.500000, silhouette coefficient: 0.14\n",
      "The number of clusters: 4, gamma: 0.500000, silhouette coefficient: -0.04\n",
      "The number of clusters: 5, gamma: 0.500000, silhouette coefficient: -0.04\n",
      "The number of clusters: 6, gamma: 0.500000, silhouette coefficient: -0.07\n",
      "The number of clusters: 7, gamma: 0.500000, silhouette coefficient: -0.06\n",
      "The number of clusters: 8, gamma: 0.500000, silhouette coefficient: -0.06\n",
      "The number of clusters: 9, gamma: 0.500000, silhouette coefficient: -0.06\n",
      "The number of clusters: 10, gamma: 0.500000, silhouette coefficient: -0.08\n",
      "The number of clusters: 2, gamma: 1.000000, silhouette coefficient: 0.08\n",
      "The number of clusters: 3, gamma: 1.000000, silhouette coefficient: -0.06\n",
      "The number of clusters: 4, gamma: 1.000000, silhouette coefficient: -0.07\n",
      "The number of clusters: 5, gamma: 1.000000, silhouette coefficient: -0.06\n",
      "The number of clusters: 6, gamma: 1.000000, silhouette coefficient: -0.09\n",
      "The number of clusters: 7, gamma: 1.000000, silhouette coefficient: -0.09\n",
      "The number of clusters: 8, gamma: 1.000000, silhouette coefficient: -0.10\n",
      "The number of clusters: 9, gamma: 1.000000, silhouette coefficient: -0.10\n",
      "The number of clusters: 10, gamma: 1.000000, silhouette coefficient: -0.10\n"
     ]
    }
   ],
   "source": [
    "gam = [0.1, 0.25, 0.5, 1.0]\n",
    "\n",
    "for g in gam:\n",
    "    for k in range(2,11):\n",
    "        spect = SpectralClustering(n_clusters=k, random_state=11, n_jobs =-1, gamma= g)\n",
    "        spect.fit_predict(cust_scaled)\n",
    "        spectlabel = spect.labels_\n",
    "        score= silhouette_score(cust_scaled, spectlabel, metric='euclidean')\n",
    "        print(\"The number of clusters: %d, gamma: %f, silhouette coefficient: %0.2f\" % (k,g,score))"
   ]
  },
  {
   "cell_type": "markdown",
   "metadata": {},
   "source": [
    "## Agglomerative"
   ]
  },
  {
   "cell_type": "code",
   "execution_count": 13,
   "metadata": {},
   "outputs": [
    {
     "name": "stdout",
     "output_type": "stream",
     "text": [
      "The number of clusters: 2, silhouette coefficient: 0.26\n",
      "The number of clusters: 3, silhouette coefficient: 0.30\n",
      "The number of clusters: 4, silhouette coefficient: 0.31\n",
      "The number of clusters: 5, silhouette coefficient: 0.17\n",
      "The number of clusters: 6, silhouette coefficient: 0.18\n",
      "The number of clusters: 7, silhouette coefficient: 0.19\n",
      "The number of clusters: 8, silhouette coefficient: 0.17\n",
      "The number of clusters: 9, silhouette coefficient: 0.17\n",
      "The number of clusters: 10, silhouette coefficient: 0.16\n"
     ]
    }
   ],
   "source": [
    "# Agglomerative Clustering with 2-10 clusters \n",
    "for k in range(2,11):\n",
    "    agg = AgglomerativeClustering(n_clusters=k)\n",
    "    agg.fit_predict(cust_scaled)\n",
    "    labels = agg.labels_\n",
    "    score= silhouette_score(cust_scaled, labels, metric='euclidean')\n",
    "    print(\"The number of clusters: %d, silhouette coefficient: %0.2f\" % (k,score))"
   ]
  },
  {
   "cell_type": "markdown",
   "metadata": {},
   "source": [
    "## DBScan"
   ]
  },
  {
   "cell_type": "code",
   "execution_count": 15,
   "metadata": {},
   "outputs": [
    {
     "name": "stdout",
     "output_type": "stream",
     "text": [
      "Silhouette Coefficient: -0.398\n"
     ]
    }
   ],
   "source": [
    "db = DBSCAN()\n",
    "db.fit_predict(cust_scaled)\n",
    "labels = db.labels_\n",
    "score= silhouette_score(cust_scaled, labels, metric='euclidean')\n",
    "print(\"Silhouette Coefficient: %0.3f\"% silhouette_score(cust_scaled, labels, metric='euclidean'))"
   ]
  },
  {
   "cell_type": "markdown",
   "metadata": {},
   "source": [
    "#### Tuning"
   ]
  },
  {
   "cell_type": "code",
   "execution_count": 46,
   "metadata": {},
   "outputs": [
    {
     "name": "stdout",
     "output_type": "stream",
     "text": [
      "eps =  0.25 min_samples =  3\n",
      "Silhouette Coefficient: -0.490\n",
      "eps =  0.25 min_samples =  4\n",
      "Silhouette Coefficient: -0.452\n",
      "eps =  0.25 min_samples =  5\n",
      "Silhouette Coefficient: -0.344\n",
      "eps =  0.25 min_samples =  6\n",
      "Silhouette Coefficient: -0.272\n",
      "eps =  0.5 min_samples =  3\n",
      "Silhouette Coefficient: -0.461\n",
      "eps =  0.5 min_samples =  4\n",
      "Silhouette Coefficient: -0.443\n",
      "eps =  0.5 min_samples =  5\n",
      "Silhouette Coefficient: -0.398\n",
      "eps =  0.5 min_samples =  6\n",
      "Silhouette Coefficient: -0.377\n",
      "eps =  0.75 min_samples =  3\n",
      "Silhouette Coefficient: -0.241\n",
      "eps =  0.75 min_samples =  4\n",
      "Silhouette Coefficient: -0.196\n",
      "eps =  0.75 min_samples =  5\n",
      "Silhouette Coefficient: -0.175\n",
      "eps =  0.75 min_samples =  6\n",
      "Silhouette Coefficient: -0.145\n",
      "eps =  1 min_samples =  3\n",
      "Silhouette Coefficient: -0.047\n",
      "eps =  1 min_samples =  4\n",
      "Silhouette Coefficient: -0.039\n",
      "eps =  1 min_samples =  5\n",
      "Silhouette Coefficient: -0.013\n",
      "eps =  1 min_samples =  6\n",
      "Silhouette Coefficient: -0.121\n",
      "eps =  1.5 min_samples =  3\n",
      "Silhouette Coefficient: 0.126\n",
      "eps =  1.5 min_samples =  4\n",
      "Silhouette Coefficient: 0.107\n",
      "eps =  1.5 min_samples =  5\n",
      "Silhouette Coefficient: 0.151\n",
      "eps =  1.5 min_samples =  6\n",
      "Silhouette Coefficient: 0.134\n",
      "eps =  2 min_samples =  3\n",
      "Silhouette Coefficient: 0.096\n",
      "eps =  2 min_samples =  4\n",
      "Silhouette Coefficient: 0.100\n",
      "eps =  2 min_samples =  5\n",
      "Silhouette Coefficient: 0.239\n",
      "eps =  2 min_samples =  6\n",
      "Silhouette Coefficient: 0.240\n",
      "eps =  2.5 min_samples =  3\n",
      "Silhouette Coefficient: 0.315\n",
      "eps =  2.5 min_samples =  4\n",
      "Silhouette Coefficient: 0.308\n",
      "eps =  2.5 min_samples =  5\n",
      "Silhouette Coefficient: 0.300\n",
      "eps =  2.5 min_samples =  6\n",
      "Silhouette Coefficient: 0.301\n",
      "eps =  3 min_samples =  3\n",
      "Silhouette Coefficient: 0.345\n",
      "eps =  3 min_samples =  4\n",
      "Silhouette Coefficient: 0.345\n",
      "eps =  3 min_samples =  5\n",
      "Silhouette Coefficient: 0.345\n",
      "eps =  3 min_samples =  6\n",
      "Silhouette Coefficient: 0.336\n",
      "eps =  3.5 min_samples =  3\n",
      "Silhouette Coefficient: 0.348\n",
      "eps =  3.5 min_samples =  4\n",
      "Silhouette Coefficient: 0.348\n",
      "eps =  3.5 min_samples =  5\n",
      "Silhouette Coefficient: 0.348\n",
      "eps =  3.5 min_samples =  6\n",
      "Silhouette Coefficient: 0.348\n",
      "eps =  3.75 min_samples =  3\n",
      "Silhouette Coefficient: 0.349\n",
      "eps =  3.75 min_samples =  4\n",
      "Silhouette Coefficient: 0.349\n",
      "eps =  3.75 min_samples =  5\n",
      "Silhouette Coefficient: 0.349\n",
      "eps =  3.75 min_samples =  6\n",
      "Silhouette Coefficient: 0.349\n",
      "eps =  4 min_samples =  3\n",
      "Silhouette Coefficient: 0.346\n",
      "eps =  4 min_samples =  4\n",
      "Silhouette Coefficient: 0.346\n",
      "eps =  4 min_samples =  5\n",
      "Silhouette Coefficient: 0.346\n",
      "eps =  4 min_samples =  6\n",
      "Silhouette Coefficient: 0.346\n"
     ]
    }
   ],
   "source": [
    "ep = [0.25, 0.5, 0.75, 1, 1.5, 2, 2.5, 3, 3.5, 3.75, 4] #only clustered into one group at 5\n",
    "minsamp = [3, 4, 5, 6]\n",
    "\n",
    "for e in ep:\n",
    "    for m in minsamp:\n",
    "        db = DBSCAN(eps=e, min_samples=m, n_jobs=-1)\n",
    "        db.fit_predict(cust_scaled)\n",
    "        labels = db.labels_\n",
    "        print(\"eps = \", e, \"min_samples = \", m)\n",
    "        print(\"Silhouette Coefficient: %0.3f\"% silhouette_score(cust_scaled, labels, metric='euclidean'))"
   ]
  },
  {
   "cell_type": "code",
   "execution_count": 48,
   "metadata": {},
   "outputs": [
    {
     "name": "stdout",
     "output_type": "stream",
     "text": [
      "eps =  3.5 min_samp= 3\n",
      "Silhouette Coefficient: 0.348\n",
      "eps =  3.5 min_samp= 4\n",
      "Silhouette Coefficient: 0.348\n",
      "eps =  3.5 min_samp= 5\n",
      "Silhouette Coefficient: 0.348\n",
      "eps =  3.5 min_samp= 6\n",
      "Silhouette Coefficient: 0.348\n",
      "eps =  3.6 min_samp= 3\n",
      "Silhouette Coefficient: 0.349\n",
      "eps =  3.6 min_samp= 4\n",
      "Silhouette Coefficient: 0.349\n",
      "eps =  3.6 min_samp= 5\n",
      "Silhouette Coefficient: 0.349\n",
      "eps =  3.6 min_samp= 6\n",
      "Silhouette Coefficient: 0.349\n",
      "eps =  3.7 min_samp= 3\n",
      "Silhouette Coefficient: 0.349\n",
      "eps =  3.7 min_samp= 4\n",
      "Silhouette Coefficient: 0.349\n",
      "eps =  3.7 min_samp= 5\n",
      "Silhouette Coefficient: 0.349\n",
      "eps =  3.7 min_samp= 6\n",
      "Silhouette Coefficient: 0.349\n",
      "eps =  3.75 min_samp= 3\n",
      "Silhouette Coefficient: 0.349\n",
      "eps =  3.75 min_samp= 4\n",
      "Silhouette Coefficient: 0.349\n",
      "eps =  3.75 min_samp= 5\n",
      "Silhouette Coefficient: 0.349\n",
      "eps =  3.75 min_samp= 6\n",
      "Silhouette Coefficient: 0.349\n",
      "eps =  3.8 min_samp= 3\n",
      "Silhouette Coefficient: 0.349\n",
      "eps =  3.8 min_samp= 4\n",
      "Silhouette Coefficient: 0.349\n",
      "eps =  3.8 min_samp= 5\n",
      "Silhouette Coefficient: 0.349\n",
      "eps =  3.8 min_samp= 6\n",
      "Silhouette Coefficient: 0.349\n",
      "eps =  3.9 min_samp= 3\n",
      "Silhouette Coefficient: 0.346\n",
      "eps =  3.9 min_samp= 4\n",
      "Silhouette Coefficient: 0.346\n",
      "eps =  3.9 min_samp= 5\n",
      "Silhouette Coefficient: 0.346\n",
      "eps =  3.9 min_samp= 6\n",
      "Silhouette Coefficient: 0.346\n",
      "eps =  4 min_samp= 3\n",
      "Silhouette Coefficient: 0.346\n",
      "eps =  4 min_samp= 4\n",
      "Silhouette Coefficient: 0.346\n",
      "eps =  4 min_samp= 5\n",
      "Silhouette Coefficient: 0.346\n",
      "eps =  4 min_samp= 6\n",
      "Silhouette Coefficient: 0.346\n",
      "eps =  4.25 min_samp= 3\n",
      "Silhouette Coefficient: 0.353\n",
      "eps =  4.25 min_samp= 4\n",
      "Silhouette Coefficient: 0.353\n",
      "eps =  4.25 min_samp= 5\n",
      "Silhouette Coefficient: 0.353\n",
      "eps =  4.25 min_samp= 6\n",
      "Silhouette Coefficient: 0.353\n"
     ]
    }
   ],
   "source": [
    "ep = [3.5,3.6,3.7, 3.75, 3.8,3.9, 4, 4.25] # clustered into only 1 group after 4.25\n",
    "minsamp = [3, 4, 5, 6] # at 7 caused the algorithm to only group into one cluster\n",
    "for e in ep:\n",
    "    for m in minsamp:\n",
    "        db = DBSCAN(eps=e, min_samples=m, n_jobs=-1)\n",
    "        db.fit_predict(cust_scaled)\n",
    "        labels = db.labels_\n",
    "        print(\"eps = \", e, \"min_samp=\", m)\n",
    "        print(\"Silhouette Coefficient: %0.3f\"% silhouette_score(cust_scaled, labels, metric='euclidean'))"
   ]
  },
  {
   "cell_type": "markdown",
   "metadata": {},
   "source": [
    "# Officer Involved Shootings"
   ]
  },
  {
   "cell_type": "markdown",
   "metadata": {},
   "source": [
    "## Kmeans "
   ]
  },
  {
   "cell_type": "code",
   "execution_count": 22,
   "metadata": {},
   "outputs": [
    {
     "name": "stdout",
     "output_type": "stream",
     "text": [
      "The number of clusters, 2, and silhouette coefficient is 0.15\n",
      "The number of clusters, 3, and silhouette coefficient is 0.12\n",
      "The number of clusters, 4, and silhouette coefficient is 0.12\n",
      "The number of clusters, 5, and silhouette coefficient is 0.13\n",
      "The number of clusters, 6, and silhouette coefficient is 0.13\n",
      "The number of clusters, 7, and silhouette coefficient is 0.13\n",
      "The number of clusters, 8, and silhouette coefficient is 0.12\n",
      "The number of clusters, 9, and silhouette coefficient is 0.13\n",
      "The number of clusters, 10, and silhouette coefficient is 0.12\n"
     ]
    }
   ],
   "source": [
    "#KMeans Clustering of Custody data\n",
    "k_range = range(2,11)\n",
    "\n",
    "for i in k_range:\n",
    "    model = KMeans(n_clusters=i,random_state=11)\n",
    "    pred =model.fit_predict(shoot_scaled)\n",
    "    silhouette_avg = silhouette_score(shoot_scaled,pred)\n",
    "    print('The number of clusters, %d, and silhouette coefficient is %0.2f'% (i,silhouette_avg))"
   ]
  },
  {
   "cell_type": "markdown",
   "metadata": {},
   "source": [
    "## Affinity Propagation"
   ]
  },
  {
   "cell_type": "code",
   "execution_count": 24,
   "metadata": {},
   "outputs": [
    {
     "name": "stdout",
     "output_type": "stream",
     "text": [
      "Silhouette Coefficient: 0.153\n"
     ]
    },
    {
     "name": "stderr",
     "output_type": "stream",
     "text": [
      "C:\\Users\\Lara\\Miniconda3\\lib\\site-packages\\sklearn\\metrics\\cluster\\unsupervised.py:205: RuntimeWarning: invalid value encountered in true_divide\n",
      "  sil_samples /= np.maximum(intra_clust_dists, inter_clust_dists)\n"
     ]
    }
   ],
   "source": [
    "# Affinity propagation with default parameters\n",
    "affPro = AffinityPropagation()\n",
    "affPro.fit_predict(shoot_scaled)\n",
    "centers = affPro.cluster_centers_indices_\n",
    "labels = affPro.labels_\n",
    "print(\"Silhouette Coefficient: %0.3f\"% silhouette_score(shoot_scaled, labels, metric='euclidean'))"
   ]
  },
  {
   "cell_type": "markdown",
   "metadata": {},
   "source": [
    "#### Tuning "
   ]
  },
  {
   "cell_type": "code",
   "execution_count": 31,
   "metadata": {},
   "outputs": [
    {
     "name": "stdout",
     "output_type": "stream",
     "text": [
      "damping =  0.5 convergence_iter =  7\n"
     ]
    },
    {
     "name": "stderr",
     "output_type": "stream",
     "text": [
      "C:\\Users\\Lara\\Miniconda3\\lib\\site-packages\\sklearn\\metrics\\cluster\\unsupervised.py:205: RuntimeWarning: invalid value encountered in true_divide\n",
      "  sil_samples /= np.maximum(intra_clust_dists, inter_clust_dists)\n"
     ]
    },
    {
     "name": "stdout",
     "output_type": "stream",
     "text": [
      "Silhouette Coefficient: 0.153\n",
      "damping =  0.5 convergence_iter =  15\n",
      "Silhouette Coefficient: 0.153\n",
      "damping =  0.5 convergence_iter =  23\n",
      "Silhouette Coefficient: 0.153\n",
      "damping =  0.5 convergence_iter =  50\n",
      "Silhouette Coefficient: 0.153\n",
      "damping =  0.6 convergence_iter =  7\n",
      "Silhouette Coefficient: 0.150\n",
      "damping =  0.6 convergence_iter =  15\n",
      "Silhouette Coefficient: 0.150\n",
      "damping =  0.6 convergence_iter =  23\n",
      "Silhouette Coefficient: 0.150\n",
      "damping =  0.6 convergence_iter =  50\n",
      "Silhouette Coefficient: 0.150\n",
      "damping =  0.7 convergence_iter =  7\n",
      "Silhouette Coefficient: 0.136\n",
      "damping =  0.7 convergence_iter =  15\n",
      "Silhouette Coefficient: 0.149\n",
      "damping =  0.7 convergence_iter =  23\n",
      "Silhouette Coefficient: 0.151\n",
      "damping =  0.7 convergence_iter =  50\n",
      "Silhouette Coefficient: 0.151\n",
      "damping =  0.8 convergence_iter =  7\n",
      "Silhouette Coefficient: 0.151\n",
      "damping =  0.8 convergence_iter =  15\n",
      "Silhouette Coefficient: 0.154\n",
      "damping =  0.8 convergence_iter =  23\n",
      "Silhouette Coefficient: 0.154\n",
      "damping =  0.8 convergence_iter =  50\n",
      "Silhouette Coefficient: 0.154\n"
     ]
    }
   ],
   "source": [
    "damp = [0.5, 0.6,0.7, 0.8] #only one cluster over 0.85\n",
    "conv = [7, 15, 23, 50]\n",
    "\n",
    "for d in damp:\n",
    "    for c in conv:\n",
    "        affPro = AffinityPropagation(damping= d, convergence_iter= c)\n",
    "        affPro.fit_predict(shoot_scaled)\n",
    "        centers = affPro.cluster_centers_indices_ \n",
    "        labels = affPro.labels_\n",
    "        print(\"damping = \", d, \"convergence_iter = \",c)\n",
    "        print(\"Silhouette Coefficient: %0.3f\"% silhouette_score(shoot_scaled, labels, metric='euclidean'))"
   ]
  },
  {
   "cell_type": "markdown",
   "metadata": {},
   "source": [
    "## Spectral Clustering"
   ]
  },
  {
   "cell_type": "code",
   "execution_count": 32,
   "metadata": {},
   "outputs": [
    {
     "name": "stdout",
     "output_type": "stream",
     "text": [
      "The number of clusters, 2, and silhouette coefficient is -0.03\n",
      "The number of clusters, 3, and silhouette coefficient is -0.03\n",
      "The number of clusters, 4, and silhouette coefficient is -0.06\n",
      "The number of clusters, 5, and silhouette coefficient is -0.07\n",
      "The number of clusters, 6, and silhouette coefficient is -0.06\n",
      "The number of clusters, 7, and silhouette coefficient is -0.08\n",
      "The number of clusters, 8, and silhouette coefficient is -0.09\n",
      "The number of clusters, 9, and silhouette coefficient is -0.10\n",
      "The number of clusters, 10, and silhouette coefficient is -0.09\n"
     ]
    }
   ],
   "source": [
    "# Spectral clustering of Shooting data\n",
    "for k in range(2,11):\n",
    "    spect = SpectralClustering(n_clusters=k,random_state=11)\n",
    "    spect.fit_predict(shoot_scaled)\n",
    "    spectlabel = spect.labels_\n",
    "    score=silhouette_score(shoot_scaled, spectlabel, metric='euclidean')\n",
    "    print(\"The number of clusters, %d, and silhouette coefficient is %0.2f\" % (k,score))"
   ]
  },
  {
   "cell_type": "markdown",
   "metadata": {},
   "source": [
    "#### Tuning "
   ]
  },
  {
   "cell_type": "code",
   "execution_count": 33,
   "metadata": {},
   "outputs": [
    {
     "name": "stdout",
     "output_type": "stream",
     "text": [
      "The number of clusters: 2, gamma: 0.500000, silhouette coefficient: 0.01\n",
      "The number of clusters: 3, gamma: 0.500000, silhouette coefficient: 0.01\n",
      "The number of clusters: 4, gamma: 0.500000, silhouette coefficient: -0.02\n",
      "The number of clusters: 5, gamma: 0.500000, silhouette coefficient: -0.03\n",
      "The number of clusters: 6, gamma: 0.500000, silhouette coefficient: -0.03\n",
      "The number of clusters: 7, gamma: 0.500000, silhouette coefficient: -0.06\n",
      "The number of clusters: 8, gamma: 0.500000, silhouette coefficient: -0.04\n",
      "The number of clusters: 9, gamma: 0.500000, silhouette coefficient: -0.06\n",
      "The number of clusters: 10, gamma: 0.500000, silhouette coefficient: -0.05\n",
      "The number of clusters: 2, gamma: 1.000000, silhouette coefficient: -0.03\n",
      "The number of clusters: 3, gamma: 1.000000, silhouette coefficient: -0.03\n",
      "The number of clusters: 4, gamma: 1.000000, silhouette coefficient: -0.06\n",
      "The number of clusters: 5, gamma: 1.000000, silhouette coefficient: -0.07\n",
      "The number of clusters: 6, gamma: 1.000000, silhouette coefficient: -0.06\n",
      "The number of clusters: 7, gamma: 1.000000, silhouette coefficient: -0.08\n",
      "The number of clusters: 8, gamma: 1.000000, silhouette coefficient: -0.09\n",
      "The number of clusters: 9, gamma: 1.000000, silhouette coefficient: -0.10\n",
      "The number of clusters: 10, gamma: 1.000000, silhouette coefficient: -0.09\n",
      "The number of clusters: 2, gamma: 1.500000, silhouette coefficient: -0.03\n",
      "The number of clusters: 3, gamma: 1.500000, silhouette coefficient: -0.03\n",
      "The number of clusters: 4, gamma: 1.500000, silhouette coefficient: -0.05\n",
      "The number of clusters: 5, gamma: 1.500000, silhouette coefficient: -0.06\n",
      "The number of clusters: 6, gamma: 1.500000, silhouette coefficient: -0.07\n",
      "The number of clusters: 7, gamma: 1.500000, silhouette coefficient: -0.08\n",
      "The number of clusters: 8, gamma: 1.500000, silhouette coefficient: -0.09\n",
      "The number of clusters: 9, gamma: 1.500000, silhouette coefficient: -0.11\n",
      "The number of clusters: 10, gamma: 1.500000, silhouette coefficient: -0.11\n"
     ]
    }
   ],
   "source": [
    "gam = [0.5, 1.0, 1.5]\n",
    "\n",
    "for g in gam:\n",
    "    for k in range(2,11):\n",
    "        spect = SpectralClustering(n_clusters=k, random_state=11, n_jobs =-1, gamma= g)\n",
    "        spect.fit_predict(shoot_scaled)\n",
    "        spectlabel = spect.labels_\n",
    "        score= silhouette_score(shoot_scaled, spectlabel, metric='euclidean')\n",
    "        print(\"The number of clusters: %d, gamma: %f, silhouette coefficient: %0.2f\" % (k,g,score))"
   ]
  },
  {
   "cell_type": "markdown",
   "metadata": {},
   "source": [
    "## Agglomerative Clustering"
   ]
  },
  {
   "cell_type": "code",
   "execution_count": 34,
   "metadata": {},
   "outputs": [
    {
     "name": "stdout",
     "output_type": "stream",
     "text": [
      "The number of clusters: 2, silhouette coefficient: 0.13\n",
      "The number of clusters: 3, silhouette coefficient: 0.11\n",
      "The number of clusters: 4, silhouette coefficient: 0.11\n",
      "The number of clusters: 5, silhouette coefficient: 0.12\n",
      "The number of clusters: 6, silhouette coefficient: 0.11\n",
      "The number of clusters: 7, silhouette coefficient: 0.10\n",
      "The number of clusters: 8, silhouette coefficient: 0.11\n",
      "The number of clusters: 9, silhouette coefficient: 0.11\n",
      "The number of clusters: 10, silhouette coefficient: 0.11\n"
     ]
    }
   ],
   "source": [
    "# Agglomerative Clustering with 2-10 clusters \n",
    "for k in range(2,11):\n",
    "    agg = AgglomerativeClustering(n_clusters=k)\n",
    "    agg.fit_predict(shoot_scaled)\n",
    "    labels = agg.labels_\n",
    "    score= silhouette_score(shoot_scaled, labels, metric='euclidean')\n",
    "    print(\"The number of clusters: %d, silhouette coefficient: %0.2f\" % (k,score))"
   ]
  },
  {
   "cell_type": "markdown",
   "metadata": {},
   "source": [
    "## DBScan"
   ]
  },
  {
   "cell_type": "markdown",
   "metadata": {},
   "source": [
    "#### Tuning"
   ]
  },
  {
   "cell_type": "code",
   "execution_count": 38,
   "metadata": {},
   "outputs": [
    {
     "name": "stdout",
     "output_type": "stream",
     "text": [
      "eps =  0.25 min_samples =  2\n",
      "Silhouette Coefficient: -0.131\n",
      "eps =  0.25 min_samples =  3\n",
      "Silhouette Coefficient: -0.154\n",
      "eps =  0.25 min_samples =  4\n",
      "Silhouette Coefficient: -0.088\n",
      "eps =  0.5 min_samples =  2\n",
      "Silhouette Coefficient: -0.154\n",
      "eps =  0.5 min_samples =  3\n",
      "Silhouette Coefficient: -0.154\n",
      "eps =  0.5 min_samples =  4\n",
      "Silhouette Coefficient: -0.088\n",
      "eps =  0.75 min_samples =  2\n",
      "Silhouette Coefficient: -0.190\n",
      "eps =  0.75 min_samples =  3\n",
      "Silhouette Coefficient: -0.209\n",
      "eps =  0.75 min_samples =  4\n",
      "Silhouette Coefficient: -0.151\n",
      "eps =  1 min_samples =  2\n",
      "Silhouette Coefficient: -0.186\n",
      "eps =  1 min_samples =  3\n",
      "Silhouette Coefficient: -0.230\n",
      "eps =  1 min_samples =  4\n",
      "Silhouette Coefficient: -0.213\n",
      "eps =  2 min_samples =  2\n",
      "Silhouette Coefficient: -0.107\n",
      "eps =  2 min_samples =  3\n",
      "Silhouette Coefficient: -0.109\n",
      "eps =  2 min_samples =  4\n",
      "Silhouette Coefficient: -0.056\n",
      "eps =  3 min_samples =  2\n",
      "Silhouette Coefficient: 0.107\n",
      "eps =  3 min_samples =  3\n",
      "Silhouette Coefficient: 0.357\n",
      "eps =  3 min_samples =  4\n",
      "Silhouette Coefficient: 0.357\n",
      "eps =  4 min_samples =  2\n",
      "Silhouette Coefficient: 0.662\n",
      "eps =  4 min_samples =  3\n",
      "Silhouette Coefficient: 0.662\n",
      "eps =  4 min_samples =  4\n",
      "Silhouette Coefficient: 0.573\n"
     ]
    }
   ],
   "source": [
    "ep = [0.25, 0.5, 0.75, 1, 2, 3, 4] #groups into one cluster at 5\n",
    "minsamp = [2, 3, 4] #groups into one cluster at 5\n",
    "\n",
    "for e in ep:\n",
    "    for m in minsamp:\n",
    "        db = DBSCAN(eps=e, min_samples=m, n_jobs=-1)\n",
    "        db.fit_predict(shoot_scaled)\n",
    "        labels = db.labels_\n",
    "        print(\"eps = \", e, \"min_samples = \", m)\n",
    "        print(\"Silhouette Coefficient: %0.3f\"% silhouette_score(shoot_scaled, labels, metric='euclidean'))"
   ]
  },
  {
   "cell_type": "code",
   "execution_count": null,
   "metadata": {},
   "outputs": [],
   "source": []
  },
  {
   "cell_type": "code",
   "execution_count": 39,
   "metadata": {},
   "outputs": [
    {
     "data": {
      "text/html": [
       "<div>\n",
       "<style scoped>\n",
       "    .dataframe tbody tr th:only-of-type {\n",
       "        vertical-align: middle;\n",
       "    }\n",
       "\n",
       "    .dataframe tbody tr th {\n",
       "        vertical-align: top;\n",
       "    }\n",
       "\n",
       "    .dataframe thead th {\n",
       "        text-align: right;\n",
       "    }\n",
       "</style>\n",
       "<table border=\"1\" class=\"dataframe\">\n",
       "  <thead>\n",
       "    <tr style=\"text-align: right;\">\n",
       "      <th></th>\n",
       "      <th>dept</th>\n",
       "      <th>custody_type</th>\n",
       "      <th>facility</th>\n",
       "      <th>race</th>\n",
       "      <th>sex</th>\n",
       "      <th>death_type</th>\n",
       "      <th>charge_status</th>\n",
       "      <th>age</th>\n",
       "      <th>year</th>\n",
       "      <th>month</th>\n",
       "    </tr>\n",
       "  </thead>\n",
       "  <tbody>\n",
       "    <tr>\n",
       "      <th>0</th>\n",
       "      <td>389</td>\n",
       "      <td>2</td>\n",
       "      <td>134</td>\n",
       "      <td>4</td>\n",
       "      <td>1</td>\n",
       "      <td>5</td>\n",
       "      <td>0</td>\n",
       "      <td>58.0</td>\n",
       "      <td>2012</td>\n",
       "      <td>9</td>\n",
       "    </tr>\n",
       "    <tr>\n",
       "      <th>1</th>\n",
       "      <td>389</td>\n",
       "      <td>2</td>\n",
       "      <td>115</td>\n",
       "      <td>3</td>\n",
       "      <td>1</td>\n",
       "      <td>5</td>\n",
       "      <td>0</td>\n",
       "      <td>76.0</td>\n",
       "      <td>2016</td>\n",
       "      <td>9</td>\n",
       "    </tr>\n",
       "    <tr>\n",
       "      <th>2</th>\n",
       "      <td>175</td>\n",
       "      <td>1</td>\n",
       "      <td>0</td>\n",
       "      <td>4</td>\n",
       "      <td>1</td>\n",
       "      <td>6</td>\n",
       "      <td>2</td>\n",
       "      <td>30.0</td>\n",
       "      <td>2016</td>\n",
       "      <td>12</td>\n",
       "    </tr>\n",
       "    <tr>\n",
       "      <th>3</th>\n",
       "      <td>389</td>\n",
       "      <td>2</td>\n",
       "      <td>60</td>\n",
       "      <td>1</td>\n",
       "      <td>1</td>\n",
       "      <td>1</td>\n",
       "      <td>0</td>\n",
       "      <td>39.0</td>\n",
       "      <td>2011</td>\n",
       "      <td>11</td>\n",
       "    </tr>\n",
       "    <tr>\n",
       "      <th>4</th>\n",
       "      <td>389</td>\n",
       "      <td>2</td>\n",
       "      <td>77</td>\n",
       "      <td>1</td>\n",
       "      <td>1</td>\n",
       "      <td>5</td>\n",
       "      <td>0</td>\n",
       "      <td>31.0</td>\n",
       "      <td>2014</td>\n",
       "      <td>12</td>\n",
       "    </tr>\n",
       "  </tbody>\n",
       "</table>\n",
       "</div>"
      ],
      "text/plain": [
       "   dept  custody_type  facility  race  sex  death_type  charge_status   age  \\\n",
       "0   389             2       134     4    1           5              0  58.0   \n",
       "1   389             2       115     3    1           5              0  76.0   \n",
       "2   175             1         0     4    1           6              2  30.0   \n",
       "3   389             2        60     1    1           1              0  39.0   \n",
       "4   389             2        77     1    1           5              0  31.0   \n",
       "\n",
       "   year  month  \n",
       "0  2012      9  \n",
       "1  2016      9  \n",
       "2  2016     12  \n",
       "3  2011     11  \n",
       "4  2014     12  "
      ]
     },
     "execution_count": 39,
     "metadata": {},
     "output_type": "execute_result"
    }
   ],
   "source": [
    "cust.head()"
   ]
  },
  {
   "cell_type": "code",
   "execution_count": 43,
   "metadata": {},
   "outputs": [],
   "source": [
    "depart = cust.groupby('dept').mean()"
   ]
  },
  {
   "cell_type": "code",
   "execution_count": 49,
   "metadata": {},
   "outputs": [
    {
     "data": {
      "text/html": [
       "<div>\n",
       "<style scoped>\n",
       "    .dataframe tbody tr th:only-of-type {\n",
       "        vertical-align: middle;\n",
       "    }\n",
       "\n",
       "    .dataframe tbody tr th {\n",
       "        vertical-align: top;\n",
       "    }\n",
       "\n",
       "    .dataframe thead th {\n",
       "        text-align: right;\n",
       "    }\n",
       "</style>\n",
       "<table border=\"1\" class=\"dataframe\">\n",
       "  <thead>\n",
       "    <tr style=\"text-align: right;\">\n",
       "      <th></th>\n",
       "      <th>custody_type</th>\n",
       "      <th>facility</th>\n",
       "      <th>race</th>\n",
       "      <th>sex</th>\n",
       "      <th>death_type</th>\n",
       "      <th>charge_status</th>\n",
       "      <th>age</th>\n",
       "      <th>year</th>\n",
       "      <th>month</th>\n",
       "    </tr>\n",
       "  </thead>\n",
       "  <tbody>\n",
       "    <tr>\n",
       "      <th>0</th>\n",
       "      <td>0.552008</td>\n",
       "      <td>0.402304</td>\n",
       "      <td>-0.380409</td>\n",
       "      <td>0.404879</td>\n",
       "      <td>-0.971387</td>\n",
       "      <td>1.082089</td>\n",
       "      <td>-0.334934</td>\n",
       "      <td>-0.206621</td>\n",
       "      <td>0.795661</td>\n",
       "    </tr>\n",
       "    <tr>\n",
       "      <th>1</th>\n",
       "      <td>0.964345</td>\n",
       "      <td>0.402304</td>\n",
       "      <td>-0.986358</td>\n",
       "      <td>0.404879</td>\n",
       "      <td>-1.375301</td>\n",
       "      <td>0.024596</td>\n",
       "      <td>-0.440303</td>\n",
       "      <td>-1.834584</td>\n",
       "      <td>-0.634361</td>\n",
       "    </tr>\n",
       "    <tr>\n",
       "      <th>2</th>\n",
       "      <td>0.964345</td>\n",
       "      <td>0.402304</td>\n",
       "      <td>1.195058</td>\n",
       "      <td>0.404879</td>\n",
       "      <td>-1.981172</td>\n",
       "      <td>0.024596</td>\n",
       "      <td>-1.885356</td>\n",
       "      <td>-1.458900</td>\n",
       "      <td>-1.007410</td>\n",
       "    </tr>\n",
       "    <tr>\n",
       "      <th>3</th>\n",
       "      <td>0.964345</td>\n",
       "      <td>0.402304</td>\n",
       "      <td>-0.986358</td>\n",
       "      <td>0.404879</td>\n",
       "      <td>-1.375301</td>\n",
       "      <td>0.024596</td>\n",
       "      <td>-1.253145</td>\n",
       "      <td>1.170885</td>\n",
       "      <td>-1.753509</td>\n",
       "    </tr>\n",
       "    <tr>\n",
       "      <th>4</th>\n",
       "      <td>0.964345</td>\n",
       "      <td>-1.828941</td>\n",
       "      <td>0.104350</td>\n",
       "      <td>0.404879</td>\n",
       "      <td>-0.769430</td>\n",
       "      <td>0.024596</td>\n",
       "      <td>1.501487</td>\n",
       "      <td>-0.144008</td>\n",
       "      <td>1.230885</td>\n",
       "    </tr>\n",
       "  </tbody>\n",
       "</table>\n",
       "</div>"
      ],
      "text/plain": [
       "   custody_type  facility      race       sex  death_type  charge_status  \\\n",
       "0      0.552008  0.402304 -0.380409  0.404879   -0.971387       1.082089   \n",
       "1      0.964345  0.402304 -0.986358  0.404879   -1.375301       0.024596   \n",
       "2      0.964345  0.402304  1.195058  0.404879   -1.981172       0.024596   \n",
       "3      0.964345  0.402304 -0.986358  0.404879   -1.375301       0.024596   \n",
       "4      0.964345 -1.828941  0.104350  0.404879   -0.769430       0.024596   \n",
       "\n",
       "        age      year     month  \n",
       "0 -0.334934 -0.206621  0.795661  \n",
       "1 -0.440303 -1.834584 -0.634361  \n",
       "2 -1.885356 -1.458900 -1.007410  \n",
       "3 -1.253145  1.170885 -1.753509  \n",
       "4  1.501487 -0.144008  1.230885  "
      ]
     },
     "execution_count": 49,
     "metadata": {},
     "output_type": "execute_result"
    }
   ],
   "source": [
    "#Scale depart df\n",
    "X_cols = depart.columns\n",
    "\n",
    "dept_scaled = pd.DataFrame(StandardScaler().fit_transform(depart), columns = X_cols)\n",
    "dept_scaled.head()"
   ]
  },
  {
   "cell_type": "code",
   "execution_count": null,
   "metadata": {},
   "outputs": [],
   "source": []
  },
  {
   "cell_type": "code",
   "execution_count": null,
   "metadata": {},
   "outputs": [],
   "source": []
  },
  {
   "cell_type": "code",
   "execution_count": null,
   "metadata": {},
   "outputs": [],
   "source": []
  }
 ],
 "metadata": {
  "kernelspec": {
   "display_name": "Python 3",
   "language": "python",
   "name": "python3"
  },
  "language_info": {
   "codemirror_mode": {
    "name": "ipython",
    "version": 3
   },
   "file_extension": ".py",
   "mimetype": "text/x-python",
   "name": "python",
   "nbconvert_exporter": "python",
   "pygments_lexer": "ipython3",
   "version": "3.6.3"
  }
 },
 "nbformat": 4,
 "nbformat_minor": 2
}
