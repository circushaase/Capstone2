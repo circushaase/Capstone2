{
 "cells": [
  {
   "cell_type": "code",
   "execution_count": 4,
   "metadata": {},
   "outputs": [],
   "source": [
    "import pandas as pd\n",
    "import numpy as np\n",
    "\n",
    "# Loading the necessary libraries\n",
    "from sklearn.preprocessing import StandardScaler\n",
    "from sklearn.cross_validation import train_test_split\n",
    "from sklearn import model_selection\n",
    "from sklearn.model_selection import GridSearchCV\n",
    "#from sklearn.model_selection import RandomizedSearchCV\n",
    "from sklearn.model_selection import KFold\n",
    "from sklearn import metrics\n",
    "from sklearn.metrics import silhouette_samples, silhouette_score\n",
    "\n",
    "from sklearn.cluster import KMeans\n",
    "from sklearn.cluster import AffinityPropagation\n",
    "from sklearn.cluster import SpectralClustering\n",
    "from sklearn.cluster import AgglomerativeClustering\n",
    "from sklearn.cluster import DBSCAN\n",
    "\n",
    "\n",
    "\n",
    "cust = pd.read_csv('custody_ML.csv')\n",
    "shoot = pd.read_csv('shootings_ML.csv')"
   ]
  },
  {
   "cell_type": "code",
   "execution_count": 5,
   "metadata": {},
   "outputs": [
    {
     "data": {
      "text/html": [
       "<div>\n",
       "<style scoped>\n",
       "    .dataframe tbody tr th:only-of-type {\n",
       "        vertical-align: middle;\n",
       "    }\n",
       "\n",
       "    .dataframe tbody tr th {\n",
       "        vertical-align: top;\n",
       "    }\n",
       "\n",
       "    .dataframe thead th {\n",
       "        text-align: right;\n",
       "    }\n",
       "</style>\n",
       "<table border=\"1\" class=\"dataframe\">\n",
       "  <thead>\n",
       "    <tr style=\"text-align: right;\">\n",
       "      <th></th>\n",
       "      <th>Unnamed: 0</th>\n",
       "      <th>dept</th>\n",
       "      <th>custody_type</th>\n",
       "      <th>race</th>\n",
       "      <th>sex</th>\n",
       "      <th>death_type</th>\n",
       "      <th>age</th>\n",
       "    </tr>\n",
       "  </thead>\n",
       "  <tbody>\n",
       "    <tr>\n",
       "      <th>0</th>\n",
       "      <td>0</td>\n",
       "      <td>389</td>\n",
       "      <td>2</td>\n",
       "      <td>4</td>\n",
       "      <td>1</td>\n",
       "      <td>5</td>\n",
       "      <td>58.0</td>\n",
       "    </tr>\n",
       "    <tr>\n",
       "      <th>1</th>\n",
       "      <td>1</td>\n",
       "      <td>389</td>\n",
       "      <td>2</td>\n",
       "      <td>3</td>\n",
       "      <td>1</td>\n",
       "      <td>5</td>\n",
       "      <td>76.0</td>\n",
       "    </tr>\n",
       "    <tr>\n",
       "      <th>2</th>\n",
       "      <td>2</td>\n",
       "      <td>175</td>\n",
       "      <td>1</td>\n",
       "      <td>4</td>\n",
       "      <td>1</td>\n",
       "      <td>6</td>\n",
       "      <td>30.0</td>\n",
       "    </tr>\n",
       "    <tr>\n",
       "      <th>3</th>\n",
       "      <td>3</td>\n",
       "      <td>389</td>\n",
       "      <td>2</td>\n",
       "      <td>1</td>\n",
       "      <td>1</td>\n",
       "      <td>1</td>\n",
       "      <td>39.0</td>\n",
       "    </tr>\n",
       "    <tr>\n",
       "      <th>4</th>\n",
       "      <td>4</td>\n",
       "      <td>389</td>\n",
       "      <td>2</td>\n",
       "      <td>1</td>\n",
       "      <td>1</td>\n",
       "      <td>5</td>\n",
       "      <td>31.0</td>\n",
       "    </tr>\n",
       "  </tbody>\n",
       "</table>\n",
       "</div>"
      ],
      "text/plain": [
       "   Unnamed: 0  dept  custody_type  race  sex  death_type   age\n",
       "0           0   389             2     4    1           5  58.0\n",
       "1           1   389             2     3    1           5  76.0\n",
       "2           2   175             1     4    1           6  30.0\n",
       "3           3   389             2     1    1           1  39.0\n",
       "4           4   389             2     1    1           5  31.0"
      ]
     },
     "execution_count": 5,
     "metadata": {},
     "output_type": "execute_result"
    }
   ],
   "source": [
    "cust.head()"
   ]
  },
  {
   "cell_type": "code",
   "execution_count": 6,
   "metadata": {},
   "outputs": [
    {
     "data": {
      "text/html": [
       "<div>\n",
       "<style scoped>\n",
       "    .dataframe tbody tr th:only-of-type {\n",
       "        vertical-align: middle;\n",
       "    }\n",
       "\n",
       "    .dataframe tbody tr th {\n",
       "        vertical-align: top;\n",
       "    }\n",
       "\n",
       "    .dataframe thead th {\n",
       "        text-align: right;\n",
       "    }\n",
       "</style>\n",
       "<table border=\"1\" class=\"dataframe\">\n",
       "  <thead>\n",
       "    <tr style=\"text-align: right;\">\n",
       "      <th></th>\n",
       "      <th>Unnamed: 0</th>\n",
       "      <th>age</th>\n",
       "      <th>fatality</th>\n",
       "      <th>armed</th>\n",
       "      <th>race</th>\n",
       "      <th>sex</th>\n",
       "      <th>dept</th>\n",
       "      <th>mult_officers</th>\n",
       "    </tr>\n",
       "  </thead>\n",
       "  <tbody>\n",
       "    <tr>\n",
       "      <th>0</th>\n",
       "      <td>103</td>\n",
       "      <td>26.0</td>\n",
       "      <td>0</td>\n",
       "      <td>2</td>\n",
       "      <td>4</td>\n",
       "      <td>1</td>\n",
       "      <td>0</td>\n",
       "      <td>0</td>\n",
       "    </tr>\n",
       "    <tr>\n",
       "      <th>1</th>\n",
       "      <td>104</td>\n",
       "      <td>16.0</td>\n",
       "      <td>0</td>\n",
       "      <td>2</td>\n",
       "      <td>2</td>\n",
       "      <td>1</td>\n",
       "      <td>0</td>\n",
       "      <td>0</td>\n",
       "    </tr>\n",
       "    <tr>\n",
       "      <th>2</th>\n",
       "      <td>105</td>\n",
       "      <td>26.0</td>\n",
       "      <td>0</td>\n",
       "      <td>2</td>\n",
       "      <td>0</td>\n",
       "      <td>1</td>\n",
       "      <td>0</td>\n",
       "      <td>1</td>\n",
       "    </tr>\n",
       "    <tr>\n",
       "      <th>3</th>\n",
       "      <td>106</td>\n",
       "      <td>35.0</td>\n",
       "      <td>0</td>\n",
       "      <td>0</td>\n",
       "      <td>4</td>\n",
       "      <td>1</td>\n",
       "      <td>0</td>\n",
       "      <td>0</td>\n",
       "    </tr>\n",
       "    <tr>\n",
       "      <th>4</th>\n",
       "      <td>107</td>\n",
       "      <td>30.0</td>\n",
       "      <td>0</td>\n",
       "      <td>2</td>\n",
       "      <td>2</td>\n",
       "      <td>1</td>\n",
       "      <td>0</td>\n",
       "      <td>0</td>\n",
       "    </tr>\n",
       "  </tbody>\n",
       "</table>\n",
       "</div>"
      ],
      "text/plain": [
       "   Unnamed: 0   age  fatality  armed  race  sex  dept  mult_officers\n",
       "0         103  26.0         0      2     4    1     0              0\n",
       "1         104  16.0         0      2     2    1     0              0\n",
       "2         105  26.0         0      2     0    1     0              1\n",
       "3         106  35.0         0      0     4    1     0              0\n",
       "4         107  30.0         0      2     2    1     0              0"
      ]
     },
     "execution_count": 6,
     "metadata": {},
     "output_type": "execute_result"
    }
   ],
   "source": [
    "shoot.head()"
   ]
  },
  {
   "cell_type": "code",
   "execution_count": 7,
   "metadata": {},
   "outputs": [],
   "source": [
    "cust.drop('Unnamed: 0', axis=1, inplace=True)"
   ]
  },
  {
   "cell_type": "code",
   "execution_count": 8,
   "metadata": {},
   "outputs": [],
   "source": [
    "shoot.drop('Unnamed: 0', axis=1, inplace=True)"
   ]
  },
  {
   "cell_type": "code",
   "execution_count": 9,
   "metadata": {},
   "outputs": [
    {
     "data": {
      "text/html": [
       "<div>\n",
       "<style scoped>\n",
       "    .dataframe tbody tr th:only-of-type {\n",
       "        vertical-align: middle;\n",
       "    }\n",
       "\n",
       "    .dataframe tbody tr th {\n",
       "        vertical-align: top;\n",
       "    }\n",
       "\n",
       "    .dataframe thead th {\n",
       "        text-align: right;\n",
       "    }\n",
       "</style>\n",
       "<table border=\"1\" class=\"dataframe\">\n",
       "  <thead>\n",
       "    <tr style=\"text-align: right;\">\n",
       "      <th></th>\n",
       "      <th>dept</th>\n",
       "      <th>custody_type</th>\n",
       "      <th>race</th>\n",
       "      <th>sex</th>\n",
       "      <th>death_type</th>\n",
       "      <th>age</th>\n",
       "    </tr>\n",
       "  </thead>\n",
       "  <tbody>\n",
       "    <tr>\n",
       "      <th>0</th>\n",
       "      <td>0.555878</td>\n",
       "      <td>0.123491</td>\n",
       "      <td>1.156565</td>\n",
       "      <td>0.238506</td>\n",
       "      <td>0.155584</td>\n",
       "      <td>0.590814</td>\n",
       "    </tr>\n",
       "    <tr>\n",
       "      <th>1</th>\n",
       "      <td>0.555878</td>\n",
       "      <td>0.123491</td>\n",
       "      <td>0.406515</td>\n",
       "      <td>0.238506</td>\n",
       "      <td>0.155584</td>\n",
       "      <td>1.798521</td>\n",
       "    </tr>\n",
       "    <tr>\n",
       "      <th>2</th>\n",
       "      <td>-1.378794</td>\n",
       "      <td>-1.037655</td>\n",
       "      <td>1.156565</td>\n",
       "      <td>0.238506</td>\n",
       "      <td>0.943599</td>\n",
       "      <td>-1.287842</td>\n",
       "    </tr>\n",
       "    <tr>\n",
       "      <th>3</th>\n",
       "      <td>0.555878</td>\n",
       "      <td>0.123491</td>\n",
       "      <td>-1.093584</td>\n",
       "      <td>0.238506</td>\n",
       "      <td>-2.996475</td>\n",
       "      <td>-0.683988</td>\n",
       "    </tr>\n",
       "    <tr>\n",
       "      <th>4</th>\n",
       "      <td>0.555878</td>\n",
       "      <td>0.123491</td>\n",
       "      <td>-1.093584</td>\n",
       "      <td>0.238506</td>\n",
       "      <td>0.155584</td>\n",
       "      <td>-1.220747</td>\n",
       "    </tr>\n",
       "  </tbody>\n",
       "</table>\n",
       "</div>"
      ],
      "text/plain": [
       "       dept  custody_type      race       sex  death_type       age\n",
       "0  0.555878      0.123491  1.156565  0.238506    0.155584  0.590814\n",
       "1  0.555878      0.123491  0.406515  0.238506    0.155584  1.798521\n",
       "2 -1.378794     -1.037655  1.156565  0.238506    0.943599 -1.287842\n",
       "3  0.555878      0.123491 -1.093584  0.238506   -2.996475 -0.683988\n",
       "4  0.555878      0.123491 -1.093584  0.238506    0.155584 -1.220747"
      ]
     },
     "execution_count": 9,
     "metadata": {},
     "output_type": "execute_result"
    }
   ],
   "source": [
    "#Scale cust df\n",
    "X_col = cust.columns\n",
    "\n",
    "cust_scaled = pd.DataFrame(StandardScaler().fit_transform(cust), columns= X_col)\n",
    "cust_scaled.head()"
   ]
  },
  {
   "cell_type": "code",
   "execution_count": 10,
   "metadata": {},
   "outputs": [
    {
     "data": {
      "text/html": [
       "<div>\n",
       "<style scoped>\n",
       "    .dataframe tbody tr th:only-of-type {\n",
       "        vertical-align: middle;\n",
       "    }\n",
       "\n",
       "    .dataframe tbody tr th {\n",
       "        vertical-align: top;\n",
       "    }\n",
       "\n",
       "    .dataframe thead th {\n",
       "        text-align: right;\n",
       "    }\n",
       "</style>\n",
       "<table border=\"1\" class=\"dataframe\">\n",
       "  <thead>\n",
       "    <tr style=\"text-align: right;\">\n",
       "      <th></th>\n",
       "      <th>age</th>\n",
       "      <th>fatality</th>\n",
       "      <th>armed</th>\n",
       "      <th>race</th>\n",
       "      <th>sex</th>\n",
       "      <th>dept</th>\n",
       "      <th>mult_officers</th>\n",
       "    </tr>\n",
       "  </thead>\n",
       "  <tbody>\n",
       "    <tr>\n",
       "      <th>0</th>\n",
       "      <td>-0.670348</td>\n",
       "      <td>-1.387608</td>\n",
       "      <td>0.980761</td>\n",
       "      <td>1.548471</td>\n",
       "      <td>-0.543893</td>\n",
       "      <td>-1.900016</td>\n",
       "      <td>-0.591786</td>\n",
       "    </tr>\n",
       "    <tr>\n",
       "      <th>1</th>\n",
       "      <td>-1.716530</td>\n",
       "      <td>-1.387608</td>\n",
       "      <td>0.980761</td>\n",
       "      <td>-0.096378</td>\n",
       "      <td>-0.543893</td>\n",
       "      <td>-1.900016</td>\n",
       "      <td>-0.591786</td>\n",
       "    </tr>\n",
       "    <tr>\n",
       "      <th>2</th>\n",
       "      <td>-0.670348</td>\n",
       "      <td>-1.387608</td>\n",
       "      <td>0.980761</td>\n",
       "      <td>-1.741227</td>\n",
       "      <td>-0.543893</td>\n",
       "      <td>-1.900016</td>\n",
       "      <td>1.689799</td>\n",
       "    </tr>\n",
       "    <tr>\n",
       "      <th>3</th>\n",
       "      <td>0.271215</td>\n",
       "      <td>-1.387608</td>\n",
       "      <td>-1.040776</td>\n",
       "      <td>1.548471</td>\n",
       "      <td>-0.543893</td>\n",
       "      <td>-1.900016</td>\n",
       "      <td>-0.591786</td>\n",
       "    </tr>\n",
       "    <tr>\n",
       "      <th>4</th>\n",
       "      <td>-0.251876</td>\n",
       "      <td>-1.387608</td>\n",
       "      <td>0.980761</td>\n",
       "      <td>-0.096378</td>\n",
       "      <td>-0.543893</td>\n",
       "      <td>-1.900016</td>\n",
       "      <td>-0.591786</td>\n",
       "    </tr>\n",
       "  </tbody>\n",
       "</table>\n",
       "</div>"
      ],
      "text/plain": [
       "        age  fatality     armed      race       sex      dept  mult_officers\n",
       "0 -0.670348 -1.387608  0.980761  1.548471 -0.543893 -1.900016      -0.591786\n",
       "1 -1.716530 -1.387608  0.980761 -0.096378 -0.543893 -1.900016      -0.591786\n",
       "2 -0.670348 -1.387608  0.980761 -1.741227 -0.543893 -1.900016       1.689799\n",
       "3  0.271215 -1.387608 -1.040776  1.548471 -0.543893 -1.900016      -0.591786\n",
       "4 -0.251876 -1.387608  0.980761 -0.096378 -0.543893 -1.900016      -0.591786"
      ]
     },
     "execution_count": 10,
     "metadata": {},
     "output_type": "execute_result"
    }
   ],
   "source": [
    "#Scale shoot df\n",
    "X_cols = shoot.columns\n",
    "\n",
    "shoot_scaled = pd.DataFrame(StandardScaler().fit_transform(shoot), columns = X_cols)\n",
    "shoot_scaled.head()"
   ]
  },
  {
   "cell_type": "code",
   "execution_count": null,
   "metadata": {},
   "outputs": [],
   "source": []
  },
  {
   "cell_type": "markdown",
   "metadata": {},
   "source": [
    "# Deaths in Custody"
   ]
  },
  {
   "cell_type": "markdown",
   "metadata": {},
   "source": [
    "## KMeans Clustering"
   ]
  },
  {
   "cell_type": "code",
   "execution_count": 11,
   "metadata": {
    "scrolled": false
   },
   "outputs": [
    {
     "name": "stdout",
     "output_type": "stream",
     "text": [
      "The number of clusters, 2, and silhouette coefficient is 0.36\n",
      "The number of clusters, 3, and silhouette coefficient is 0.40\n",
      "The number of clusters, 4, and silhouette coefficient is 0.43\n",
      "The number of clusters, 5, and silhouette coefficient is 0.39\n",
      "The number of clusters, 6, and silhouette coefficient is 0.40\n",
      "The number of clusters, 7, and silhouette coefficient is 0.40\n",
      "The number of clusters, 8, and silhouette coefficient is 0.40\n",
      "The number of clusters, 9, and silhouette coefficient is 0.36\n",
      "The number of clusters, 10, and silhouette coefficient is 0.34\n"
     ]
    }
   ],
   "source": [
    "#KMeans Clustering of Custody data\n",
    "k_range = range(2,11)\n",
    "\n",
    "for i in k_range:\n",
    "    model = KMeans(n_clusters=i,random_state=11)\n",
    "    pred =model.fit_predict(cust_scaled)\n",
    "    silhouette_avg = silhouette_score(cust_scaled,pred)\n",
    "    print('The number of clusters, %d, and silhouette coefficient is %0.2f'% (i,silhouette_avg))"
   ]
  },
  {
   "cell_type": "markdown",
   "metadata": {},
   "source": [
    "## Affinity Propagation"
   ]
  },
  {
   "cell_type": "code",
   "execution_count": 12,
   "metadata": {
    "collapsed": true
   },
   "outputs": [
    {
     "ename": "KeyboardInterrupt",
     "evalue": "",
     "output_type": "error",
     "traceback": [
      "\u001b[1;31m---------------------------------------------------------------------------\u001b[0m",
      "\u001b[1;31mKeyboardInterrupt\u001b[0m                         Traceback (most recent call last)",
      "\u001b[1;32m<ipython-input-12-fbdb8edc807a>\u001b[0m in \u001b[0;36m<module>\u001b[1;34m()\u001b[0m\n\u001b[0;32m      4\u001b[0m \u001b[0mcenters\u001b[0m \u001b[1;33m=\u001b[0m \u001b[0maffPro\u001b[0m\u001b[1;33m.\u001b[0m\u001b[0mcluster_centers_indices_\u001b[0m\u001b[1;33m\u001b[0m\u001b[0m\n\u001b[0;32m      5\u001b[0m \u001b[0mlabels\u001b[0m \u001b[1;33m=\u001b[0m \u001b[0maffPro\u001b[0m\u001b[1;33m.\u001b[0m\u001b[0mlabels_\u001b[0m\u001b[1;33m\u001b[0m\u001b[0m\n\u001b[1;32m----> 6\u001b[1;33m \u001b[0mprint\u001b[0m\u001b[1;33m(\u001b[0m\u001b[1;34m\"Silhouette Coefficient: %0.3f\"\u001b[0m\u001b[1;33m%\u001b[0m \u001b[0msilhouette_score\u001b[0m\u001b[1;33m(\u001b[0m\u001b[0mcust_scaled\u001b[0m\u001b[1;33m,\u001b[0m \u001b[0mlabels\u001b[0m\u001b[1;33m,\u001b[0m \u001b[0mmetric\u001b[0m\u001b[1;33m=\u001b[0m\u001b[1;34m'euclidean'\u001b[0m\u001b[1;33m)\u001b[0m\u001b[1;33m)\u001b[0m\u001b[1;33m\u001b[0m\u001b[0m\n\u001b[0m",
      "\u001b[1;32m~\\Miniconda3\\lib\\site-packages\\sklearn\\metrics\\cluster\\unsupervised.py\u001b[0m in \u001b[0;36msilhouette_score\u001b[1;34m(X, labels, metric, sample_size, random_state, **kwds)\u001b[0m\n\u001b[0;32m     99\u001b[0m         \u001b[1;32melse\u001b[0m\u001b[1;33m:\u001b[0m\u001b[1;33m\u001b[0m\u001b[0m\n\u001b[0;32m    100\u001b[0m             \u001b[0mX\u001b[0m\u001b[1;33m,\u001b[0m \u001b[0mlabels\u001b[0m \u001b[1;33m=\u001b[0m \u001b[0mX\u001b[0m\u001b[1;33m[\u001b[0m\u001b[0mindices\u001b[0m\u001b[1;33m]\u001b[0m\u001b[1;33m,\u001b[0m \u001b[0mlabels\u001b[0m\u001b[1;33m[\u001b[0m\u001b[0mindices\u001b[0m\u001b[1;33m]\u001b[0m\u001b[1;33m\u001b[0m\u001b[0m\n\u001b[1;32m--> 101\u001b[1;33m     \u001b[1;32mreturn\u001b[0m \u001b[0mnp\u001b[0m\u001b[1;33m.\u001b[0m\u001b[0mmean\u001b[0m\u001b[1;33m(\u001b[0m\u001b[0msilhouette_samples\u001b[0m\u001b[1;33m(\u001b[0m\u001b[0mX\u001b[0m\u001b[1;33m,\u001b[0m \u001b[0mlabels\u001b[0m\u001b[1;33m,\u001b[0m \u001b[0mmetric\u001b[0m\u001b[1;33m=\u001b[0m\u001b[0mmetric\u001b[0m\u001b[1;33m,\u001b[0m \u001b[1;33m**\u001b[0m\u001b[0mkwds\u001b[0m\u001b[1;33m)\u001b[0m\u001b[1;33m)\u001b[0m\u001b[1;33m\u001b[0m\u001b[0m\n\u001b[0m\u001b[0;32m    102\u001b[0m \u001b[1;33m\u001b[0m\u001b[0m\n\u001b[0;32m    103\u001b[0m \u001b[1;33m\u001b[0m\u001b[0m\n",
      "\u001b[1;32m~\\Miniconda3\\lib\\site-packages\\sklearn\\metrics\\cluster\\unsupervised.py\u001b[0m in \u001b[0;36msilhouette_samples\u001b[1;34m(X, labels, metric, **kwds)\u001b[0m\n\u001b[0;32m    200\u001b[0m                     current_distances[:, other_mask], axis=1)\n\u001b[0;32m    201\u001b[0m                 inter_clust_dists[mask] = np.minimum(\n\u001b[1;32m--> 202\u001b[1;33m                     inter_clust_dists[mask], other_distances)\n\u001b[0m\u001b[0;32m    203\u001b[0m \u001b[1;33m\u001b[0m\u001b[0m\n\u001b[0;32m    204\u001b[0m     \u001b[0msil_samples\u001b[0m \u001b[1;33m=\u001b[0m \u001b[0minter_clust_dists\u001b[0m \u001b[1;33m-\u001b[0m \u001b[0mintra_clust_dists\u001b[0m\u001b[1;33m\u001b[0m\u001b[0m\n",
      "\u001b[1;31mKeyboardInterrupt\u001b[0m: "
     ]
    }
   ],
   "source": [
    "# Affinity propagation with default parameters\n",
    "affPro = AffinityPropagation()\n",
    "affPro.fit_predict(cust_scaled)\n",
    "labels = affPro.labels_\n",
    "print(\"Silhouette Coefficient: %0.3f\"% silhouette_score(cust_scaled, labels, metric='euclidean'))"
   ]
  },
  {
   "cell_type": "markdown",
   "metadata": {},
   "source": [
    "#### Tuning"
   ]
  },
  {
   "cell_type": "code",
   "execution_count": 13,
   "metadata": {
    "collapsed": true
   },
   "outputs": [
    {
     "ename": "KeyboardInterrupt",
     "evalue": "",
     "output_type": "error",
     "traceback": [
      "\u001b[1;31m---------------------------------------------------------------------------\u001b[0m",
      "\u001b[1;31mKeyboardInterrupt\u001b[0m                         Traceback (most recent call last)",
      "\u001b[1;32m<ipython-input-13-1126d5ded6b2>\u001b[0m in \u001b[0;36m<module>\u001b[1;34m()\u001b[0m\n\u001b[0;32m      5\u001b[0m     \u001b[1;32mfor\u001b[0m \u001b[0mc\u001b[0m \u001b[1;32min\u001b[0m \u001b[0mconv\u001b[0m\u001b[1;33m:\u001b[0m\u001b[1;33m\u001b[0m\u001b[0m\n\u001b[0;32m      6\u001b[0m         \u001b[0maffPro\u001b[0m \u001b[1;33m=\u001b[0m \u001b[0mAffinityPropagation\u001b[0m\u001b[1;33m(\u001b[0m\u001b[0mdamping\u001b[0m\u001b[1;33m=\u001b[0m \u001b[0md\u001b[0m\u001b[1;33m,\u001b[0m \u001b[0mconvergence_iter\u001b[0m\u001b[1;33m=\u001b[0m \u001b[0mc\u001b[0m\u001b[1;33m)\u001b[0m\u001b[1;33m\u001b[0m\u001b[0m\n\u001b[1;32m----> 7\u001b[1;33m         \u001b[0maffPro\u001b[0m\u001b[1;33m.\u001b[0m\u001b[0mfit_predict\u001b[0m\u001b[1;33m(\u001b[0m\u001b[0mcust_scaled\u001b[0m\u001b[1;33m)\u001b[0m\u001b[1;33m\u001b[0m\u001b[0m\n\u001b[0m\u001b[0;32m      8\u001b[0m         \u001b[0mlabels\u001b[0m \u001b[1;33m=\u001b[0m \u001b[0maffPro\u001b[0m\u001b[1;33m.\u001b[0m\u001b[0mlabels_\u001b[0m\u001b[1;33m\u001b[0m\u001b[0m\n\u001b[0;32m      9\u001b[0m         \u001b[0mprint\u001b[0m\u001b[1;33m(\u001b[0m\u001b[1;34m\"damping = \"\u001b[0m\u001b[1;33m,\u001b[0m \u001b[0md\u001b[0m\u001b[1;33m,\u001b[0m \u001b[1;34m\"convergence_iter = \"\u001b[0m\u001b[1;33m,\u001b[0m\u001b[0mc\u001b[0m\u001b[1;33m)\u001b[0m\u001b[1;33m\u001b[0m\u001b[0m\n",
      "\u001b[1;32m~\\Miniconda3\\lib\\site-packages\\sklearn\\base.py\u001b[0m in \u001b[0;36mfit_predict\u001b[1;34m(self, X, y)\u001b[0m\n\u001b[0;32m    408\u001b[0m         \u001b[1;31m# non-optimized default implementation; override when a better\u001b[0m\u001b[1;33m\u001b[0m\u001b[1;33m\u001b[0m\u001b[0m\n\u001b[0;32m    409\u001b[0m         \u001b[1;31m# method is possible for a given clustering algorithm\u001b[0m\u001b[1;33m\u001b[0m\u001b[1;33m\u001b[0m\u001b[0m\n\u001b[1;32m--> 410\u001b[1;33m         \u001b[0mself\u001b[0m\u001b[1;33m.\u001b[0m\u001b[0mfit\u001b[0m\u001b[1;33m(\u001b[0m\u001b[0mX\u001b[0m\u001b[1;33m)\u001b[0m\u001b[1;33m\u001b[0m\u001b[0m\n\u001b[0m\u001b[0;32m    411\u001b[0m         \u001b[1;32mreturn\u001b[0m \u001b[0mself\u001b[0m\u001b[1;33m.\u001b[0m\u001b[0mlabels_\u001b[0m\u001b[1;33m\u001b[0m\u001b[0m\n\u001b[0;32m    412\u001b[0m \u001b[1;33m\u001b[0m\u001b[0m\n",
      "\u001b[1;32m~\\Miniconda3\\lib\\site-packages\\sklearn\\cluster\\affinity_propagation_.py\u001b[0m in \u001b[0;36mfit\u001b[1;34m(self, X, y)\u001b[0m\n\u001b[0;32m    306\u001b[0m                 \u001b[0mself\u001b[0m\u001b[1;33m.\u001b[0m\u001b[0maffinity_matrix_\u001b[0m\u001b[1;33m,\u001b[0m \u001b[0mself\u001b[0m\u001b[1;33m.\u001b[0m\u001b[0mpreference\u001b[0m\u001b[1;33m,\u001b[0m \u001b[0mmax_iter\u001b[0m\u001b[1;33m=\u001b[0m\u001b[0mself\u001b[0m\u001b[1;33m.\u001b[0m\u001b[0mmax_iter\u001b[0m\u001b[1;33m,\u001b[0m\u001b[1;33m\u001b[0m\u001b[0m\n\u001b[0;32m    307\u001b[0m                 \u001b[0mconvergence_iter\u001b[0m\u001b[1;33m=\u001b[0m\u001b[0mself\u001b[0m\u001b[1;33m.\u001b[0m\u001b[0mconvergence_iter\u001b[0m\u001b[1;33m,\u001b[0m \u001b[0mdamping\u001b[0m\u001b[1;33m=\u001b[0m\u001b[0mself\u001b[0m\u001b[1;33m.\u001b[0m\u001b[0mdamping\u001b[0m\u001b[1;33m,\u001b[0m\u001b[1;33m\u001b[0m\u001b[0m\n\u001b[1;32m--> 308\u001b[1;33m                 copy=self.copy, verbose=self.verbose, return_n_iter=True)\n\u001b[0m\u001b[0;32m    309\u001b[0m \u001b[1;33m\u001b[0m\u001b[0m\n\u001b[0;32m    310\u001b[0m         \u001b[1;32mif\u001b[0m \u001b[0mself\u001b[0m\u001b[1;33m.\u001b[0m\u001b[0maffinity\u001b[0m \u001b[1;33m!=\u001b[0m \u001b[1;34m\"precomputed\"\u001b[0m\u001b[1;33m:\u001b[0m\u001b[1;33m\u001b[0m\u001b[0m\n",
      "\u001b[1;32m~\\Miniconda3\\lib\\site-packages\\sklearn\\cluster\\affinity_propagation_.py\u001b[0m in \u001b[0;36maffinity_propagation\u001b[1;34m(S, preference, convergence_iter, max_iter, damping, copy, verbose, return_n_iter)\u001b[0m\n\u001b[0;32m    112\u001b[0m     \u001b[1;32mfor\u001b[0m \u001b[0mit\u001b[0m \u001b[1;32min\u001b[0m \u001b[0mrange\u001b[0m\u001b[1;33m(\u001b[0m\u001b[0mmax_iter\u001b[0m\u001b[1;33m)\u001b[0m\u001b[1;33m:\u001b[0m\u001b[1;33m\u001b[0m\u001b[0m\n\u001b[0;32m    113\u001b[0m         \u001b[1;31m# tmp = A + S; compute responsibilities\u001b[0m\u001b[1;33m\u001b[0m\u001b[1;33m\u001b[0m\u001b[0m\n\u001b[1;32m--> 114\u001b[1;33m         \u001b[0mnp\u001b[0m\u001b[1;33m.\u001b[0m\u001b[0madd\u001b[0m\u001b[1;33m(\u001b[0m\u001b[0mA\u001b[0m\u001b[1;33m,\u001b[0m \u001b[0mS\u001b[0m\u001b[1;33m,\u001b[0m \u001b[0mtmp\u001b[0m\u001b[1;33m)\u001b[0m\u001b[1;33m\u001b[0m\u001b[0m\n\u001b[0m\u001b[0;32m    115\u001b[0m         \u001b[0mI\u001b[0m \u001b[1;33m=\u001b[0m \u001b[0mnp\u001b[0m\u001b[1;33m.\u001b[0m\u001b[0margmax\u001b[0m\u001b[1;33m(\u001b[0m\u001b[0mtmp\u001b[0m\u001b[1;33m,\u001b[0m \u001b[0maxis\u001b[0m\u001b[1;33m=\u001b[0m\u001b[1;36m1\u001b[0m\u001b[1;33m)\u001b[0m\u001b[1;33m\u001b[0m\u001b[0m\n\u001b[0;32m    116\u001b[0m         \u001b[0mY\u001b[0m \u001b[1;33m=\u001b[0m \u001b[0mtmp\u001b[0m\u001b[1;33m[\u001b[0m\u001b[0mind\u001b[0m\u001b[1;33m,\u001b[0m \u001b[0mI\u001b[0m\u001b[1;33m]\u001b[0m  \u001b[1;31m# np.max(A + S, axis=1)\u001b[0m\u001b[1;33m\u001b[0m\u001b[0m\n",
      "\u001b[1;31mKeyboardInterrupt\u001b[0m: "
     ]
    }
   ],
   "source": [
    "damp = [0.95, 0.85, 0.75, 0.5]\n",
    "conv = [7, 15, 23, 40]\n",
    "\n",
    "for d in damp:\n",
    "    for c in conv:\n",
    "        affPro = AffinityPropagation(damping= d, convergence_iter= c)\n",
    "        affPro.fit_predict(cust_scaled)\n",
    "        labels = affPro.labels_\n",
    "        print(\"damping = \", d, \"convergence_iter = \",c)\n",
    "        print(\"Silhouette Coefficient: %0.3f\"% silhouette_score(cust_scaled, labels, metric='euclidean'))"
   ]
  },
  {
   "cell_type": "markdown",
   "metadata": {},
   "source": [
    "## Spectral Clustering"
   ]
  },
  {
   "cell_type": "code",
   "execution_count": 14,
   "metadata": {
    "scrolled": true
   },
   "outputs": [
    {
     "name": "stdout",
     "output_type": "stream",
     "text": [
      "The number of clusters: 2, silhouette coefficient: 0.23\n",
      "The number of clusters: 3, silhouette coefficient: 0.23\n",
      "The number of clusters: 4, silhouette coefficient: 0.26\n",
      "The number of clusters: 5, silhouette coefficient: 0.06\n",
      "The number of clusters: 6, silhouette coefficient: 0.08\n",
      "The number of clusters: 7, silhouette coefficient: 0.06\n",
      "The number of clusters: 8, silhouette coefficient: 0.01\n",
      "The number of clusters: 9, silhouette coefficient: 0.00\n",
      "The number of clusters: 10, silhouette coefficient: 0.13\n"
     ]
    }
   ],
   "source": [
    "# Spectral clustering\n",
    "for k in range(2,11):\n",
    "    spect = SpectralClustering(n_clusters=k,random_state=11)\n",
    "    spect.fit_predict(cust_scaled)\n",
    "    spectlabel = spect.labels_\n",
    "    score= silhouette_score(cust_scaled, spectlabel, metric='euclidean')\n",
    "    print(\"The number of clusters: %d, silhouette coefficient: %0.2f\" % (k,score))"
   ]
  },
  {
   "cell_type": "markdown",
   "metadata": {},
   "source": [
    "#### Tuning"
   ]
  },
  {
   "cell_type": "code",
   "execution_count": 35,
   "metadata": {},
   "outputs": [
    {
     "name": "stdout",
     "output_type": "stream",
     "text": [
      "The number of clusters: 2, gamma: 0.010000, silhouette coefficient: 0.35\n",
      "The number of clusters: 3, gamma: 0.010000, silhouette coefficient: 0.39\n",
      "The number of clusters: 4, gamma: 0.010000, silhouette coefficient: 0.34\n",
      "The number of clusters: 5, gamma: 0.010000, silhouette coefficient: 0.38\n",
      "The number of clusters: 6, gamma: 0.010000, silhouette coefficient: 0.39\n",
      "The number of clusters: 7, gamma: 0.010000, silhouette coefficient: 0.40\n",
      "The number of clusters: 8, gamma: 0.010000, silhouette coefficient: 0.39\n",
      "The number of clusters: 9, gamma: 0.010000, silhouette coefficient: 0.40\n",
      "The number of clusters: 10, gamma: 0.010000, silhouette coefficient: 0.39\n",
      "The number of clusters: 2, gamma: 0.100000, silhouette coefficient: 0.35\n",
      "The number of clusters: 3, gamma: 0.100000, silhouette coefficient: 0.38\n",
      "The number of clusters: 4, gamma: 0.100000, silhouette coefficient: 0.43\n",
      "The number of clusters: 5, gamma: 0.100000, silhouette coefficient: 0.39\n",
      "The number of clusters: 6, gamma: 0.100000, silhouette coefficient: 0.38\n",
      "The number of clusters: 7, gamma: 0.100000, silhouette coefficient: 0.33\n",
      "The number of clusters: 8, gamma: 0.100000, silhouette coefficient: 0.34\n",
      "The number of clusters: 9, gamma: 0.100000, silhouette coefficient: 0.32\n",
      "The number of clusters: 10, gamma: 0.100000, silhouette coefficient: 0.32\n",
      "The number of clusters: 2, gamma: 0.250000, silhouette coefficient: 0.28\n",
      "The number of clusters: 3, gamma: 0.250000, silhouette coefficient: 0.29\n",
      "The number of clusters: 4, gamma: 0.250000, silhouette coefficient: 0.34\n",
      "The number of clusters: 5, gamma: 0.250000, silhouette coefficient: 0.38\n",
      "The number of clusters: 6, gamma: 0.250000, silhouette coefficient: 0.37\n",
      "The number of clusters: 7, gamma: 0.250000, silhouette coefficient: 0.26\n",
      "The number of clusters: 8, gamma: 0.250000, silhouette coefficient: 0.27\n",
      "The number of clusters: 9, gamma: 0.250000, silhouette coefficient: 0.27\n",
      "The number of clusters: 10, gamma: 0.250000, silhouette coefficient: 0.26\n",
      "The number of clusters: 2, gamma: 0.500000, silhouette coefficient: 0.25\n",
      "The number of clusters: 3, gamma: 0.500000, silhouette coefficient: 0.26\n",
      "The number of clusters: 4, gamma: 0.500000, silhouette coefficient: 0.30\n",
      "The number of clusters: 5, gamma: 0.500000, silhouette coefficient: 0.32\n",
      "The number of clusters: 6, gamma: 0.500000, silhouette coefficient: 0.13\n",
      "The number of clusters: 7, gamma: 0.500000, silhouette coefficient: 0.11\n",
      "The number of clusters: 8, gamma: 0.500000, silhouette coefficient: 0.24\n",
      "The number of clusters: 9, gamma: 0.500000, silhouette coefficient: 0.21\n",
      "The number of clusters: 10, gamma: 0.500000, silhouette coefficient: 0.21\n",
      "The number of clusters: 2, gamma: 1.000000, silhouette coefficient: 0.23\n",
      "The number of clusters: 3, gamma: 1.000000, silhouette coefficient: 0.23\n",
      "The number of clusters: 4, gamma: 1.000000, silhouette coefficient: 0.26\n",
      "The number of clusters: 5, gamma: 1.000000, silhouette coefficient: 0.06\n",
      "The number of clusters: 6, gamma: 1.000000, silhouette coefficient: 0.08\n",
      "The number of clusters: 7, gamma: 1.000000, silhouette coefficient: 0.06\n",
      "The number of clusters: 8, gamma: 1.000000, silhouette coefficient: 0.01\n",
      "The number of clusters: 9, gamma: 1.000000, silhouette coefficient: 0.00\n",
      "The number of clusters: 10, gamma: 1.000000, silhouette coefficient: 0.13\n"
     ]
    }
   ],
   "source": [
    "gam = [0.01, 0.1, 0.25, 0.5, 1.0]\n",
    "\n",
    "for g in gam:\n",
    "    for k in range(2,11):\n",
    "        spect = SpectralClustering(n_clusters=k, random_state=11, n_jobs =-1, gamma= g)\n",
    "        spect.fit_predict(cust_scaled)\n",
    "        spectlabel = spect.labels_\n",
    "        score= silhouette_score(cust_scaled, spectlabel, metric='euclidean')\n",
    "        print(\"The number of clusters: %d, gamma: %f, silhouette coefficient: %0.2f\" % (k,g,score))"
   ]
  },
  {
   "cell_type": "markdown",
   "metadata": {},
   "source": [
    "## Agglomerative"
   ]
  },
  {
   "cell_type": "code",
   "execution_count": 16,
   "metadata": {},
   "outputs": [
    {
     "name": "stdout",
     "output_type": "stream",
     "text": [
      "The number of clusters: 2, silhouette coefficient: 0.34\n",
      "The number of clusters: 3, silhouette coefficient: 0.39\n",
      "The number of clusters: 4, silhouette coefficient: 0.42\n",
      "The number of clusters: 5, silhouette coefficient: 0.37\n",
      "The number of clusters: 6, silhouette coefficient: 0.39\n",
      "The number of clusters: 7, silhouette coefficient: 0.40\n",
      "The number of clusters: 8, silhouette coefficient: 0.40\n",
      "The number of clusters: 9, silhouette coefficient: 0.36\n",
      "The number of clusters: 10, silhouette coefficient: 0.35\n"
     ]
    }
   ],
   "source": [
    "# Agglomerative Clustering with 2-10 clusters \n",
    "for k in range(2,11):\n",
    "    agg = AgglomerativeClustering(n_clusters=k)\n",
    "    agg.fit_predict(cust_scaled)\n",
    "    labels = agg.labels_\n",
    "    score= silhouette_score(cust_scaled, labels, metric='euclidean')\n",
    "    print(\"The number of clusters: %d, silhouette coefficient: %0.2f\" % (k,score))"
   ]
  },
  {
   "cell_type": "markdown",
   "metadata": {},
   "source": [
    "## DBScan"
   ]
  },
  {
   "cell_type": "code",
   "execution_count": 17,
   "metadata": {},
   "outputs": [
    {
     "name": "stdout",
     "output_type": "stream",
     "text": [
      "Silhouette Coefficient: 0.079\n"
     ]
    }
   ],
   "source": [
    "db = DBSCAN()\n",
    "db.fit_predict(cust_scaled)\n",
    "labels = db.labels_\n",
    "score= silhouette_score(cust_scaled, labels, metric='euclidean')\n",
    "print(\"Silhouette Coefficient: %0.3f\"% silhouette_score(cust_scaled, labels, metric='euclidean'))"
   ]
  },
  {
   "cell_type": "markdown",
   "metadata": {},
   "source": [
    "#### Tuning"
   ]
  },
  {
   "cell_type": "code",
   "execution_count": 20,
   "metadata": {},
   "outputs": [
    {
     "name": "stdout",
     "output_type": "stream",
     "text": [
      "eps =  0.25 min_samples =  3\n",
      "Silhouette Coefficient: -0.023\n",
      "eps =  0.25 min_samples =  4\n",
      "Silhouette Coefficient: -0.024\n",
      "eps =  0.25 min_samples =  5\n",
      "Silhouette Coefficient: -0.009\n",
      "eps =  0.25 min_samples =  6\n",
      "Silhouette Coefficient: 0.123\n",
      "eps =  0.5 min_samples =  3\n",
      "Silhouette Coefficient: 0.043\n",
      "eps =  0.5 min_samples =  4\n",
      "Silhouette Coefficient: 0.082\n",
      "eps =  0.5 min_samples =  5\n",
      "Silhouette Coefficient: 0.079\n",
      "eps =  0.5 min_samples =  6\n",
      "Silhouette Coefficient: -0.000\n",
      "eps =  0.75 min_samples =  3\n",
      "Silhouette Coefficient: 0.111\n",
      "eps =  0.75 min_samples =  4\n",
      "Silhouette Coefficient: 0.145\n",
      "eps =  0.75 min_samples =  5\n",
      "Silhouette Coefficient: 0.136\n",
      "eps =  0.75 min_samples =  6\n",
      "Silhouette Coefficient: 0.127\n",
      "eps =  1 min_samples =  3\n",
      "Silhouette Coefficient: 0.223\n",
      "eps =  1 min_samples =  4\n",
      "Silhouette Coefficient: 0.221\n",
      "eps =  1 min_samples =  5\n",
      "Silhouette Coefficient: 0.223\n",
      "eps =  1 min_samples =  6\n",
      "Silhouette Coefficient: 0.250\n",
      "eps =  1.5 min_samples =  3\n",
      "Silhouette Coefficient: 0.254\n",
      "eps =  1.5 min_samples =  4\n",
      "Silhouette Coefficient: 0.255\n",
      "eps =  1.5 min_samples =  5\n",
      "Silhouette Coefficient: 0.256\n",
      "eps =  1.5 min_samples =  6\n",
      "Silhouette Coefficient: 0.256\n",
      "eps =  2 min_samples =  3\n",
      "Silhouette Coefficient: 0.475\n",
      "eps =  2 min_samples =  4\n",
      "Silhouette Coefficient: 0.475\n",
      "eps =  2 min_samples =  5\n",
      "Silhouette Coefficient: 0.475\n",
      "eps =  2 min_samples =  6\n",
      "Silhouette Coefficient: 0.475\n",
      "eps =  2.5 min_samples =  3\n",
      "Silhouette Coefficient: 0.479\n",
      "eps =  2.5 min_samples =  4\n",
      "Silhouette Coefficient: 0.479\n",
      "eps =  2.5 min_samples =  5\n",
      "Silhouette Coefficient: 0.479\n",
      "eps =  2.5 min_samples =  6\n",
      "Silhouette Coefficient: 0.479\n",
      "eps =  3 min_samples =  3\n",
      "Silhouette Coefficient: 0.487\n",
      "eps =  3 min_samples =  4\n",
      "Silhouette Coefficient: 0.487\n",
      "eps =  3 min_samples =  5\n",
      "Silhouette Coefficient: 0.487\n",
      "eps =  3 min_samples =  6\n",
      "Silhouette Coefficient: 0.487\n",
      "eps =  3.5 min_samples =  3\n",
      "Silhouette Coefficient: 0.487\n",
      "eps =  3.5 min_samples =  4\n",
      "Silhouette Coefficient: 0.487\n",
      "eps =  3.5 min_samples =  5\n",
      "Silhouette Coefficient: 0.487\n",
      "eps =  3.5 min_samples =  6\n",
      "Silhouette Coefficient: 0.487\n",
      "eps =  3.75 min_samples =  3\n",
      "Silhouette Coefficient: 0.487\n",
      "eps =  3.75 min_samples =  4\n",
      "Silhouette Coefficient: 0.487\n",
      "eps =  3.75 min_samples =  5\n",
      "Silhouette Coefficient: 0.487\n",
      "eps =  3.75 min_samples =  6\n",
      "Silhouette Coefficient: 0.487\n",
      "eps =  4 min_samples =  3\n",
      "Silhouette Coefficient: 0.487\n",
      "eps =  4 min_samples =  4\n",
      "Silhouette Coefficient: 0.487\n",
      "eps =  4 min_samples =  5\n",
      "Silhouette Coefficient: 0.487\n",
      "eps =  4 min_samples =  6\n",
      "Silhouette Coefficient: 0.487\n"
     ]
    }
   ],
   "source": [
    "ep = [0.25, 0.5, 0.75, 1, 1.5, 2, 2.5, 3, 3.5, 3.75, 4] #only clustered into one group at 5\n",
    "minsamp = [3, 4, 5, 6]\n",
    "\n",
    "for e in ep:\n",
    "    for m in minsamp:\n",
    "        db = DBSCAN(eps=e, min_samples=m, n_jobs=-1)\n",
    "        db.fit_predict(cust_scaled)\n",
    "        labels = db.labels_\n",
    "        print(\"eps = \", e, \"min_samples = \", m)\n",
    "        print(\"Silhouette Coefficient: %0.3f\"% silhouette_score(cust_scaled, labels, metric='euclidean'))"
   ]
  },
  {
   "cell_type": "markdown",
   "metadata": {},
   "source": [
    "# Officer Involved Shootings"
   ]
  },
  {
   "cell_type": "markdown",
   "metadata": {},
   "source": [
    "## Kmeans "
   ]
  },
  {
   "cell_type": "code",
   "execution_count": 22,
   "metadata": {},
   "outputs": [
    {
     "name": "stdout",
     "output_type": "stream",
     "text": [
      "The number of clusters, 2, and silhouette coefficient is 0.17\n",
      "The number of clusters, 3, and silhouette coefficient is 0.19\n",
      "The number of clusters, 4, and silhouette coefficient is 0.20\n",
      "The number of clusters, 5, and silhouette coefficient is 0.21\n",
      "The number of clusters, 6, and silhouette coefficient is 0.19\n",
      "The number of clusters, 7, and silhouette coefficient is 0.22\n",
      "The number of clusters, 8, and silhouette coefficient is 0.23\n",
      "The number of clusters, 9, and silhouette coefficient is 0.23\n",
      "The number of clusters, 10, and silhouette coefficient is 0.24\n"
     ]
    }
   ],
   "source": [
    "#KMeans Clustering of Custody data\n",
    "k_range = range(2,11)\n",
    "\n",
    "for i in k_range:\n",
    "    model = KMeans(n_clusters=i,random_state=11)\n",
    "    pred =model.fit_predict(shoot_scaled)\n",
    "    silhouette_avg = silhouette_score(shoot_scaled,pred)\n",
    "    print('The number of clusters, %d, and silhouette coefficient is %0.2f'% (i,silhouette_avg))"
   ]
  },
  {
   "cell_type": "markdown",
   "metadata": {},
   "source": [
    "## Affinity Propagation"
   ]
  },
  {
   "cell_type": "code",
   "execution_count": 23,
   "metadata": {},
   "outputs": [
    {
     "name": "stdout",
     "output_type": "stream",
     "text": [
      "Silhouette Coefficient: nan\n"
     ]
    },
    {
     "name": "stderr",
     "output_type": "stream",
     "text": [
      "C:\\Users\\Lara\\Miniconda3\\lib\\site-packages\\sklearn\\metrics\\cluster\\unsupervised.py:205: RuntimeWarning: invalid value encountered in true_divide\n",
      "  sil_samples /= np.maximum(intra_clust_dists, inter_clust_dists)\n"
     ]
    }
   ],
   "source": [
    "# Affinity propagation with default parameters\n",
    "affPro = AffinityPropagation()\n",
    "affPro.fit_predict(shoot_scaled)\n",
    "centers = affPro.cluster_centers_indices_\n",
    "labels = affPro.labels_\n",
    "print(\"Silhouette Coefficient: %0.3f\"% silhouette_score(shoot_scaled, labels, metric='euclidean'))"
   ]
  },
  {
   "cell_type": "markdown",
   "metadata": {},
   "source": [
    "#### Tuning "
   ]
  },
  {
   "cell_type": "code",
   "execution_count": 32,
   "metadata": {},
   "outputs": [
    {
     "name": "stdout",
     "output_type": "stream",
     "text": [
      "damping =  0.5 convergence_iter =  7\n",
      "Silhouette Coefficient: nan\n"
     ]
    },
    {
     "name": "stderr",
     "output_type": "stream",
     "text": [
      "C:\\Users\\Lara\\Miniconda3\\lib\\site-packages\\sklearn\\metrics\\cluster\\unsupervised.py:205: RuntimeWarning: invalid value encountered in true_divide\n",
      "  sil_samples /= np.maximum(intra_clust_dists, inter_clust_dists)\n"
     ]
    },
    {
     "name": "stdout",
     "output_type": "stream",
     "text": [
      "damping =  0.5 convergence_iter =  15\n",
      "Silhouette Coefficient: nan\n",
      "damping =  0.5 convergence_iter =  23\n",
      "Silhouette Coefficient: nan\n",
      "damping =  0.5 convergence_iter =  50\n",
      "Silhouette Coefficient: nan\n",
      "damping =  0.5 convergence_iter =  75\n",
      "Silhouette Coefficient: nan\n",
      "damping =  0.6 convergence_iter =  7\n",
      "Silhouette Coefficient: 0.408\n",
      "damping =  0.6 convergence_iter =  15\n",
      "Silhouette Coefficient: 0.408\n",
      "damping =  0.6 convergence_iter =  23\n",
      "Silhouette Coefficient: 0.408\n",
      "damping =  0.6 convergence_iter =  50\n",
      "Silhouette Coefficient: 0.408\n",
      "damping =  0.6 convergence_iter =  75\n",
      "Silhouette Coefficient: 0.408\n",
      "damping =  0.7 convergence_iter =  7\n",
      "Silhouette Coefficient: 0.392\n",
      "damping =  0.7 convergence_iter =  15\n",
      "Silhouette Coefficient: 0.399\n",
      "damping =  0.7 convergence_iter =  23\n",
      "Silhouette Coefficient: 0.399\n",
      "damping =  0.7 convergence_iter =  50\n",
      "Silhouette Coefficient: 0.406\n",
      "damping =  0.7 convergence_iter =  75\n",
      "Silhouette Coefficient: 0.406\n",
      "damping =  0.8 convergence_iter =  7\n",
      "Silhouette Coefficient: 0.393\n",
      "damping =  0.8 convergence_iter =  15\n",
      "Silhouette Coefficient: 0.397\n",
      "damping =  0.8 convergence_iter =  23\n",
      "Silhouette Coefficient: 0.406\n",
      "damping =  0.8 convergence_iter =  50\n",
      "Silhouette Coefficient: 0.412\n",
      "damping =  0.8 convergence_iter =  75\n",
      "Silhouette Coefficient: 0.412\n",
      "damping =  0.9 convergence_iter =  7\n",
      "Silhouette Coefficient: 0.287\n",
      "damping =  0.9 convergence_iter =  15\n",
      "Silhouette Coefficient: 0.287\n",
      "damping =  0.9 convergence_iter =  23\n",
      "Silhouette Coefficient: 0.401\n",
      "damping =  0.9 convergence_iter =  50\n",
      "Silhouette Coefficient: 0.401\n",
      "damping =  0.9 convergence_iter =  75\n",
      "Silhouette Coefficient: 0.401\n"
     ]
    }
   ],
   "source": [
    "damp = [0.5, 0.6,0.7, 0.8, 0.9] #only one cluster over 0.85\n",
    "conv = [7, 15, 23, 50, 75]\n",
    "\n",
    "for d in damp:\n",
    "    for c in conv:\n",
    "        affPro = AffinityPropagation(damping= d, convergence_iter= c)\n",
    "        affPro.fit_predict(shoot_scaled)\n",
    "        centers = affPro.cluster_centers_indices_ \n",
    "        labels = affPro.labels_\n",
    "        print(\"damping = \", d, \"convergence_iter = \",c)\n",
    "        print(\"Silhouette Coefficient: %0.3f\"% silhouette_score(shoot_scaled, labels, metric='euclidean'))"
   ]
  },
  {
   "cell_type": "markdown",
   "metadata": {},
   "source": [
    "## Spectral Clustering"
   ]
  },
  {
   "cell_type": "code",
   "execution_count": 25,
   "metadata": {},
   "outputs": [
    {
     "name": "stdout",
     "output_type": "stream",
     "text": [
      "The number of clusters, 2, and silhouette coefficient is 0.07\n",
      "The number of clusters, 3, and silhouette coefficient is 0.08\n",
      "The number of clusters, 4, and silhouette coefficient is 0.07\n",
      "The number of clusters, 5, and silhouette coefficient is 0.05\n",
      "The number of clusters, 6, and silhouette coefficient is 0.09\n",
      "The number of clusters, 7, and silhouette coefficient is 0.08\n",
      "The number of clusters, 8, and silhouette coefficient is 0.11\n",
      "The number of clusters, 9, and silhouette coefficient is 0.08\n",
      "The number of clusters, 10, and silhouette coefficient is 0.11\n"
     ]
    }
   ],
   "source": [
    "# Spectral clustering of Shooting data\n",
    "for k in range(2,11):\n",
    "    spect = SpectralClustering(n_clusters=k,random_state=11)\n",
    "    spect.fit_predict(shoot_scaled)\n",
    "    spectlabel = spect.labels_\n",
    "    score=silhouette_score(shoot_scaled, spectlabel, metric='euclidean')\n",
    "    print(\"The number of clusters, %d, and silhouette coefficient is %0.2f\" % (k,score))"
   ]
  },
  {
   "cell_type": "markdown",
   "metadata": {},
   "source": [
    "#### Tuning "
   ]
  },
  {
   "cell_type": "code",
   "execution_count": 26,
   "metadata": {},
   "outputs": [
    {
     "name": "stdout",
     "output_type": "stream",
     "text": [
      "The number of clusters: 2, gamma: 0.500000, silhouette coefficient: 0.08\n",
      "The number of clusters: 3, gamma: 0.500000, silhouette coefficient: 0.09\n",
      "The number of clusters: 4, gamma: 0.500000, silhouette coefficient: 0.10\n",
      "The number of clusters: 5, gamma: 0.500000, silhouette coefficient: 0.09\n",
      "The number of clusters: 6, gamma: 0.500000, silhouette coefficient: 0.11\n",
      "The number of clusters: 7, gamma: 0.500000, silhouette coefficient: 0.12\n",
      "The number of clusters: 8, gamma: 0.500000, silhouette coefficient: 0.13\n",
      "The number of clusters: 9, gamma: 0.500000, silhouette coefficient: 0.14\n",
      "The number of clusters: 10, gamma: 0.500000, silhouette coefficient: 0.17\n",
      "The number of clusters: 2, gamma: 1.000000, silhouette coefficient: 0.07\n",
      "The number of clusters: 3, gamma: 1.000000, silhouette coefficient: 0.08\n",
      "The number of clusters: 4, gamma: 1.000000, silhouette coefficient: 0.07\n",
      "The number of clusters: 5, gamma: 1.000000, silhouette coefficient: 0.05\n",
      "The number of clusters: 6, gamma: 1.000000, silhouette coefficient: 0.09\n",
      "The number of clusters: 7, gamma: 1.000000, silhouette coefficient: 0.08\n",
      "The number of clusters: 8, gamma: 1.000000, silhouette coefficient: 0.11\n",
      "The number of clusters: 9, gamma: 1.000000, silhouette coefficient: 0.08\n",
      "The number of clusters: 10, gamma: 1.000000, silhouette coefficient: 0.11\n",
      "The number of clusters: 2, gamma: 1.500000, silhouette coefficient: 0.03\n",
      "The number of clusters: 3, gamma: 1.500000, silhouette coefficient: 0.03\n",
      "The number of clusters: 4, gamma: 1.500000, silhouette coefficient: 0.04\n",
      "The number of clusters: 5, gamma: 1.500000, silhouette coefficient: 0.07\n",
      "The number of clusters: 6, gamma: 1.500000, silhouette coefficient: 0.05\n",
      "The number of clusters: 7, gamma: 1.500000, silhouette coefficient: 0.05\n",
      "The number of clusters: 8, gamma: 1.500000, silhouette coefficient: 0.07\n",
      "The number of clusters: 9, gamma: 1.500000, silhouette coefficient: 0.05\n",
      "The number of clusters: 10, gamma: 1.500000, silhouette coefficient: 0.06\n"
     ]
    }
   ],
   "source": [
    "gam = [0.5, 1.0, 1.5]\n",
    "\n",
    "for g in gam:\n",
    "    for k in range(2,11):\n",
    "        spect = SpectralClustering(n_clusters=k, random_state=11, n_jobs =-1, gamma= g)\n",
    "        spect.fit_predict(shoot_scaled)\n",
    "        spectlabel = spect.labels_\n",
    "        score= silhouette_score(shoot_scaled, spectlabel, metric='euclidean')\n",
    "        print(\"The number of clusters: %d, gamma: %f, silhouette coefficient: %0.2f\" % (k,g,score))"
   ]
  },
  {
   "cell_type": "markdown",
   "metadata": {},
   "source": [
    "## Agglomerative Clustering"
   ]
  },
  {
   "cell_type": "code",
   "execution_count": 27,
   "metadata": {},
   "outputs": [
    {
     "name": "stdout",
     "output_type": "stream",
     "text": [
      "The number of clusters: 2, silhouette coefficient: 0.16\n",
      "The number of clusters: 3, silhouette coefficient: 0.20\n",
      "The number of clusters: 4, silhouette coefficient: 0.19\n",
      "The number of clusters: 5, silhouette coefficient: 0.18\n",
      "The number of clusters: 6, silhouette coefficient: 0.18\n",
      "The number of clusters: 7, silhouette coefficient: 0.18\n",
      "The number of clusters: 8, silhouette coefficient: 0.20\n",
      "The number of clusters: 9, silhouette coefficient: 0.22\n",
      "The number of clusters: 10, silhouette coefficient: 0.19\n"
     ]
    }
   ],
   "source": [
    "# Agglomerative Clustering with 2-10 clusters \n",
    "for k in range(2,11):\n",
    "    agg = AgglomerativeClustering(n_clusters=k)\n",
    "    agg.fit_predict(shoot_scaled)\n",
    "    labels = agg.labels_\n",
    "    score= silhouette_score(shoot_scaled, labels, metric='euclidean')\n",
    "    print(\"The number of clusters: %d, silhouette coefficient: %0.2f\" % (k,score))"
   ]
  },
  {
   "cell_type": "markdown",
   "metadata": {},
   "source": [
    "## DBScan"
   ]
  },
  {
   "cell_type": "markdown",
   "metadata": {},
   "source": [
    "#### Tuning"
   ]
  },
  {
   "cell_type": "code",
   "execution_count": 34,
   "metadata": {
    "collapsed": true
   },
   "outputs": [
    {
     "name": "stdout",
     "output_type": "stream",
     "text": [
      "eps =  0.25 min_samples =  2\n",
      "Silhouette Coefficient: 0.176\n",
      "eps =  0.25 min_samples =  3\n",
      "Silhouette Coefficient: 0.015\n",
      "eps =  0.25 min_samples =  4\n",
      "Silhouette Coefficient: -0.071\n",
      "eps =  0.5 min_samples =  2\n",
      "Silhouette Coefficient: 0.300\n",
      "eps =  0.5 min_samples =  3\n",
      "Silhouette Coefficient: 0.150\n",
      "eps =  0.5 min_samples =  4\n",
      "Silhouette Coefficient: 0.051\n",
      "eps =  0.75 min_samples =  2\n",
      "Silhouette Coefficient: 0.343\n",
      "eps =  0.75 min_samples =  3\n",
      "Silhouette Coefficient: 0.243\n",
      "eps =  0.75 min_samples =  4\n",
      "Silhouette Coefficient: 0.147\n",
      "eps =  1 min_samples =  2\n",
      "Silhouette Coefficient: 0.224\n",
      "eps =  1 min_samples =  3\n",
      "Silhouette Coefficient: 0.212\n",
      "eps =  1 min_samples =  4\n",
      "Silhouette Coefficient: 0.195\n",
      "eps =  2 min_samples =  2\n",
      "Silhouette Coefficient: 0.077\n",
      "eps =  2 min_samples =  3\n",
      "Silhouette Coefficient: 0.084\n",
      "eps =  2 min_samples =  4\n",
      "Silhouette Coefficient: 0.091\n"
     ]
    }
   ],
   "source": [
    "ep = [0.25, 0.5, 0.75, 1, 2] #groups into one cluster at 3\n",
    "minsamp = [2, 3, 4] #groups into one cluster at 5\n",
    "\n",
    "for e in ep:\n",
    "    for m in minsamp:\n",
    "        db = DBSCAN(eps=e, min_samples=m, n_jobs=-1)\n",
    "        db.fit_predict(shoot_scaled)\n",
    "        labels = db.labels_\n",
    "        print(\"eps = \", e, \"min_samples = \", m)\n",
    "        print(\"Silhouette Coefficient: %0.3f\"% silhouette_score(shoot_scaled, labels, metric='euclidean'))"
   ]
  },
  {
   "cell_type": "code",
   "execution_count": null,
   "metadata": {},
   "outputs": [],
   "source": []
  },
  {
   "cell_type": "code",
   "execution_count": null,
   "metadata": {},
   "outputs": [],
   "source": []
  },
  {
   "cell_type": "markdown",
   "metadata": {},
   "source": [
    "# Testing/ Checking labels"
   ]
  },
  {
   "cell_type": "markdown",
   "metadata": {},
   "source": [
    "### Officer Involved Shootings"
   ]
  },
  {
   "cell_type": "code",
   "execution_count": 33,
   "metadata": {},
   "outputs": [
    {
     "name": "stdout",
     "output_type": "stream",
     "text": [
      "[ 3  6  7 12  6  0  4 14  4  1  8 12  4  9  2 15 10  1  8 10 15  9  4  4 11\n",
      "  2  2  3  9  3 16  3  2  3  4  0 12  8 11 16 13  8 16  4  1 13 12 14 34  1\n",
      "  2  7  8 14  5  1  4 13  9 11 14  4  4  5  4  4 13  6  4 21  9  6  7  2  9\n",
      " 42  6  4 11 14  4  4  7  6 13  8  4  1  4  6  8  9  9 14  6  4  9 13  4  5\n",
      " 13 14  9  8 13 11  4  5 15  8 10  4 10 15  9  5 12 11  5  8 14  7 12 15 13\n",
      "  6  6  9 12  4  8 18 11  5 13 11 34  8 14  7  5  4  5  5  5  7  5  5  6  5\n",
      "  4  6  8  5  4 18  0 18 12 18  1  4 27 18 15 12 12 11  3 17 11 18 10 16 34\n",
      " 14 37 18 16 10 32 23 35 18 21 32 35 31 25 15 33 28 19 33 29 33 35 17 26  2\n",
      " 17 31 26 35 29 17 17 15 35 18 19 21 33 40 15 15 29 18 23 24 39 40 23 30 20\n",
      " 23 21 20 26 19 21 31 26 23 22 31 23 21 39 28 23 35 31 31 28 19 23 31 28 26\n",
      " 19 23 17 23 46 24 20 22 18 24 37 39 22 32 23 35 24 36 25 21 35 20 24 26 17\n",
      " 31 31 35 31 31 29 23 21 31 28 26 20 26 29 21 32 34 29 23 23 19 27 21 26 24\n",
      " 35 34 28 23 21 25 31 32 19 31 23 29 21 35 18 28 32 23 36 27 22 38 21 20 22\n",
      " 35 21 19 29 22 26 30 18 32 35 31 18 21 35 18 32 35 19 21 32 21 24 31 37 38\n",
      " 33 28 11 33 19 10 23 35 23 36 35 23 35 31 26 48 31 26 34 31 23 34 35 20 25\n",
      " 26 31 40 18 35 50 31 33 30 21 37 39 20 32 20 23 35 21 18 28 26 21 29 19 28\n",
      " 23 15 31 35 20 17 32 32 18 25 36 31 31 31 28 32 32 31 27 31 34 31 37 28 31\n",
      " 34 37 37 35 23 20 40 18 40 18 37 30 40 25 40 38 32 17 38 33 19 38 20 38 33\n",
      " 32 22 22 27 33 29 37 40 28 26 40 26 25 38 39 33 40 37 37 40 27 38 39 30 37\n",
      " 37 38 31 33 25 20 40 31 40 33 38 38 40 38 38 40 35 38 40 29 38 38 42 42 42\n",
      " 42 41 41 42 42 41 45 42 42 43 46 44 45 45 45 49 49 47 48 45 49 46 47 48 43\n",
      " 45 45 43 43 48 48 48 46 43 43 43 43 43 48 48 48 43 43 46 46 48 43 49 45 45\n",
      " 45 43 43 50 43 43 48 48 48 43 44 45 43 48 48 48 43 43 48 48 48 48 48 48 46\n",
      " 46 46 48 46 43 47 46 46 47 48 48 43 48 48 43 48 48 50 46 46 45 45 43 48 48\n",
      " 43 48 48 49 49 49 50 50 48 43 48 49 45 49 45 44 44 44 49 48 43 43 46 46 50\n",
      " 50 43 49 45 49 45 44 49 43 43 46 48 43 44 49]\n",
      "[  5   9  26  27  62  63  67  72  85 102 110 117 122 134 138 164 173 200\n",
      " 209 210 224 226 234 253 266 268 287 296 302 328 331 335 340 353 371 379\n",
      " 410 422 443 464 469 501 503 509 511 519 521 522 598 604 624]\n"
     ]
    }
   ],
   "source": [
    "#damping =  0.8 convergence_iter =  50\n",
    "#Silhouette Coefficient: 0.412\n",
    "\n",
    "affPro = AffinityPropagation(damping= 0.8, convergence_iter=507)\n",
    "affPro.fit_predict(shoot_scaled)\n",
    "centers = affPro.cluster_centers_indices_ \n",
    "labels = affPro.labels_\n",
    "print(labels)\n",
    "print(centers)"
   ]
  },
  {
   "cell_type": "code",
   "execution_count": 31,
   "metadata": {
    "scrolled": true
   },
   "outputs": [
    {
     "name": "stdout",
     "output_type": "stream",
     "text": [
      "[ 2  4  5 12  4  6  7 15  7  0  8 12 13  9  1 20 10  0  8  7  9  6 13 13 11\n",
      "  1  1  2  6  2 16  2  1  2  7  6 12  8 11 16 14  8 16  7  0 14 12 15 37  0\n",
      "  1  5  8 15  3  0 13 14  6 11 15 13 13  3  7 13 14  4  7  7  6  4  5  1  6\n",
      " 50  4  7 11 15  7  7  5  4 14  8  7  0 13  4  8  9  9 15  4 13  6 14 13  3\n",
      " 14 15  6  8 14 11 13  3 20  8 10 13 10 20  6  3 12 11  3  8 15  5 12  9 14\n",
      "  4  4  6 12 13  8 18 11  3 14 11 37  8 15  5  3 13  3  3  3  5  3  3  4  3\n",
      "  7  4  8  3  7 18  6 18 12 18  0 13 30 18 20 12 12 11  2 17 11 18 10 16 37\n",
      " 15 39 18 16 10 35 32 29 34 27 35 29 26 24 20 36 31 19 36 42 36 29 17 28  1\n",
      " 17 26 28 34 32 17 17 20 29 18 19 25 36 42 20 20 32 18 29 23 41 34 29 33 21\n",
      " 29 25 21 28 19 27 26 28 32 22 26 27 27 41 31 32 29 26 27 31 19 29 26 31 28\n",
      " 19 42 17 29 50 23 21 22 18 23 39 41 22 35 29 29 23 38 24 25 29 21 23 28 17\n",
      " 26 27 29 26 26 33 27 27 26 31 28 21 28 32 27 35 37 32 29 29 19 30 27 28 23\n",
      " 29 37 31 29 27 24 27 35 19 26 32 32 25 29 18 31 35 29 38 30 22 40 25 21 22\n",
      " 29 25 19 32 22 28 33 18 35 29 26 18 27 34 18 35 29 19 25 35 27 23 26 39 40\n",
      " 36 31 11 36 19 10 29 29 29 38 29 29 29 26 28 49 26 28 37 27 29 37 29 21 20\n",
      " 28 26 42 18 29 42 26 36 33 27 39 41 21 35 21 29 29 32 18 31 28 25 42 19 31\n",
      " 42 20 26 29 21 17 35 35 18 24 38 26 27 27 31 35 35 26 30 26 37 26 39 31 39\n",
      " 37 39 39 29 32 21 42 18 42 18 27 33 34 24 42 40 35 17 40 36 19 40 21 40 36\n",
      " 35 22 22 30 36 32 39 42 31 28 42 28 24 40 41 36 42 27 39 42 30 40 41 33 39\n",
      " 39 40 26 36 24 21 42 27 34 36 40 40 27 40 40 42 29 40 42 25 40 40 44 44 44\n",
      " 44 43 43 44 44 43 46 44 44 48 50 45 46 46 46 51 51 47 49 46 51 50 47 49 48\n",
      " 46 46 48 48 49 49 49 50 48 48 48 48 48 49 49 49 48 48 50 50 49 48 51 46 46\n",
      " 46 48 48 48 48 48 49 49 49 48 45 46 48 49 49 49 48 48 49 49 49 49 49 49 50\n",
      " 50 50 49 50 48 47 50 50 47 49 49 48 49 49 48 49 49 50 50 50 46 46 48 49 49\n",
      " 48 49 49 51 51 51 47 48 49 48 49 51 46 51 46 45 45 45 51 49 48 48 50 50 48\n",
      " 48 48 51 46 51 46 45 51 48 48 50 49 48 45 51]\n",
      "[  9  26  27  63  67  72  74  81  85  92 110 117 122 129 134 138 173 200\n",
      " 209 210 214 224 234 266 268 269 275 276 287 294 296 302 311 331 338 340\n",
      " 353 371 410 422 443 464 469 501 503 511 519 522 533 539 594 604]\n"
     ]
    }
   ],
   "source": [
    "affPro = AffinityPropagation(damping= 0.6, convergence_iter= 7)\n",
    "affPro.fit_predict(shoot_scaled)\n",
    "centers = affPro.cluster_centers_indices_ \n",
    "labels = affPro.labels_\n",
    "print(labels)\n",
    "print(centers)"
   ]
  },
  {
   "cell_type": "code",
   "execution_count": null,
   "metadata": {},
   "outputs": [],
   "source": []
  },
  {
   "cell_type": "markdown",
   "metadata": {},
   "source": [
    "### Deaths in Custody"
   ]
  },
  {
   "cell_type": "code",
   "execution_count": 21,
   "metadata": {},
   "outputs": [
    {
     "name": "stdout",
     "output_type": "stream",
     "text": [
      "[0 0 0 ..., 0 0 0]\n"
     ]
    }
   ],
   "source": [
    "#Silhouette Coefficient: 0.487\n",
    "dbcust = DBSCAN(eps= 3, min_samples=3, n_jobs=-1)\n",
    "dbcust.fit_predict(cust_scaled)\n",
    "labels = dbcust.labels_\n",
    "\n",
    "#core = dbshoot.core_samples_\n",
    "#print(\"Silhouette Coefficient: %0.3f\"% silhouette_score(shoot_scaled, labels, metric='euclidean'))\n",
    "\n",
    "print(labels)"
   ]
  },
  {
   "cell_type": "code",
   "execution_count": 36,
   "metadata": {},
   "outputs": [
    {
     "name": "stdout",
     "output_type": "stream",
     "text": [
      "[0 0 2 ..., 1 0 0]\n"
     ]
    }
   ],
   "source": [
    "#The number of clusters: 4, gamma: 0.100000, silhouette coefficient: 0.43\n",
    "spect = SpectralClustering(n_clusters=4, random_state=11, n_jobs =-1, gamma= 0.1)\n",
    "spect.fit_predict(cust_scaled)\n",
    "labels = spect.labels_\n",
    "print(labels)"
   ]
  },
  {
   "cell_type": "code",
   "execution_count": 37,
   "metadata": {},
   "outputs": [
    {
     "name": "stdout",
     "output_type": "stream",
     "text": [
      "[1 1 0 ..., 2 1 1]\n"
     ]
    }
   ],
   "source": [
    "#The number of clusters, 4, and silhouette coefficient is 0.43\n",
    "model = KMeans(n_clusters=4,random_state=11)\n",
    "model.fit_predict(cust_scaled)\n",
    "print(model.labels_)"
   ]
  }
 ],
 "metadata": {
  "kernelspec": {
   "display_name": "Python 3",
   "language": "python",
   "name": "python3"
  },
  "language_info": {
   "codemirror_mode": {
    "name": "ipython",
    "version": 3
   },
   "file_extension": ".py",
   "mimetype": "text/x-python",
   "name": "python",
   "nbconvert_exporter": "python",
   "pygments_lexer": "ipython3",
   "version": "3.6.3"
  }
 },
 "nbformat": 4,
 "nbformat_minor": 2
}
