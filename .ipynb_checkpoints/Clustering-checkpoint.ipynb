{
 "cells": [
  {
   "cell_type": "code",
   "execution_count": 2,
   "metadata": {},
   "outputs": [
    {
     "name": "stderr",
     "output_type": "stream",
     "text": [
      "C:\\Users\\Lara\\Miniconda3\\lib\\site-packages\\sklearn\\cross_validation.py:41: DeprecationWarning: This module was deprecated in version 0.18 in favor of the model_selection module into which all the refactored classes and functions are moved. Also note that the interface of the new CV iterators are different from that of this module. This module will be removed in 0.20.\n",
      "  \"This module will be removed in 0.20.\", DeprecationWarning)\n"
     ]
    }
   ],
   "source": [
    "import pandas as pd\n",
    "import numpy as np\n",
    "\n",
    "# Loading the necessary libraries\n",
    "from sklearn.preprocessing import StandardScaler\n",
    "from sklearn.cross_validation import train_test_split\n",
    "from sklearn import model_selection\n",
    "from sklearn.model_selection import GridSearchCV\n",
    "#from sklearn.model_selection import RandomizedSearchCV\n",
    "from sklearn.model_selection import KFold\n",
    "from sklearn import metrics\n",
    "from sklearn.metrics import silhouette_samples, silhouette_score\n",
    "\n",
    "from sklearn.cluster import KMeans\n",
    "from sklearn.cluster import AffinityPropagation\n",
    "from sklearn.cluster import SpectralClustering\n",
    "from sklearn.cluster import AgglomerativeClustering\n",
    "from sklearn.cluster import DBSCAN\n",
    "\n",
    "\n",
    "\n",
    "cust = pd.read_csv('custody_ML.csv')\n",
    "shoot = pd.read_csv('shootings_ML.csv')"
   ]
  },
  {
   "cell_type": "code",
   "execution_count": 3,
   "metadata": {},
   "outputs": [
    {
     "data": {
      "text/html": [
       "<div>\n",
       "<style scoped>\n",
       "    .dataframe tbody tr th:only-of-type {\n",
       "        vertical-align: middle;\n",
       "    }\n",
       "\n",
       "    .dataframe tbody tr th {\n",
       "        vertical-align: top;\n",
       "    }\n",
       "\n",
       "    .dataframe thead th {\n",
       "        text-align: right;\n",
       "    }\n",
       "</style>\n",
       "<table border=\"1\" class=\"dataframe\">\n",
       "  <thead>\n",
       "    <tr style=\"text-align: right;\">\n",
       "      <th></th>\n",
       "      <th>Unnamed: 0</th>\n",
       "      <th>custody_type</th>\n",
       "      <th>race</th>\n",
       "      <th>death_type</th>\n",
       "      <th>age</th>\n",
       "    </tr>\n",
       "  </thead>\n",
       "  <tbody>\n",
       "    <tr>\n",
       "      <th>0</th>\n",
       "      <td>0</td>\n",
       "      <td>2</td>\n",
       "      <td>4</td>\n",
       "      <td>5</td>\n",
       "      <td>58.0</td>\n",
       "    </tr>\n",
       "    <tr>\n",
       "      <th>1</th>\n",
       "      <td>1</td>\n",
       "      <td>2</td>\n",
       "      <td>3</td>\n",
       "      <td>5</td>\n",
       "      <td>76.0</td>\n",
       "    </tr>\n",
       "    <tr>\n",
       "      <th>2</th>\n",
       "      <td>2</td>\n",
       "      <td>1</td>\n",
       "      <td>4</td>\n",
       "      <td>6</td>\n",
       "      <td>30.0</td>\n",
       "    </tr>\n",
       "    <tr>\n",
       "      <th>3</th>\n",
       "      <td>3</td>\n",
       "      <td>2</td>\n",
       "      <td>1</td>\n",
       "      <td>1</td>\n",
       "      <td>39.0</td>\n",
       "    </tr>\n",
       "    <tr>\n",
       "      <th>4</th>\n",
       "      <td>4</td>\n",
       "      <td>2</td>\n",
       "      <td>1</td>\n",
       "      <td>5</td>\n",
       "      <td>31.0</td>\n",
       "    </tr>\n",
       "  </tbody>\n",
       "</table>\n",
       "</div>"
      ],
      "text/plain": [
       "   Unnamed: 0  custody_type  race  death_type   age\n",
       "0           0             2     4           5  58.0\n",
       "1           1             2     3           5  76.0\n",
       "2           2             1     4           6  30.0\n",
       "3           3             2     1           1  39.0\n",
       "4           4             2     1           5  31.0"
      ]
     },
     "execution_count": 3,
     "metadata": {},
     "output_type": "execute_result"
    }
   ],
   "source": [
    "cust.head()"
   ]
  },
  {
   "cell_type": "code",
   "execution_count": 4,
   "metadata": {},
   "outputs": [
    {
     "data": {
      "text/html": [
       "<div>\n",
       "<style scoped>\n",
       "    .dataframe tbody tr th:only-of-type {\n",
       "        vertical-align: middle;\n",
       "    }\n",
       "\n",
       "    .dataframe tbody tr th {\n",
       "        vertical-align: top;\n",
       "    }\n",
       "\n",
       "    .dataframe thead th {\n",
       "        text-align: right;\n",
       "    }\n",
       "</style>\n",
       "<table border=\"1\" class=\"dataframe\">\n",
       "  <thead>\n",
       "    <tr style=\"text-align: right;\">\n",
       "      <th></th>\n",
       "      <th>Unnamed: 0</th>\n",
       "      <th>age</th>\n",
       "      <th>fatality</th>\n",
       "      <th>armed</th>\n",
       "      <th>race</th>\n",
       "      <th>mult_officers</th>\n",
       "    </tr>\n",
       "  </thead>\n",
       "  <tbody>\n",
       "    <tr>\n",
       "      <th>0</th>\n",
       "      <td>103</td>\n",
       "      <td>26.0</td>\n",
       "      <td>0</td>\n",
       "      <td>2</td>\n",
       "      <td>4</td>\n",
       "      <td>0</td>\n",
       "    </tr>\n",
       "    <tr>\n",
       "      <th>1</th>\n",
       "      <td>104</td>\n",
       "      <td>16.0</td>\n",
       "      <td>0</td>\n",
       "      <td>2</td>\n",
       "      <td>2</td>\n",
       "      <td>0</td>\n",
       "    </tr>\n",
       "    <tr>\n",
       "      <th>2</th>\n",
       "      <td>105</td>\n",
       "      <td>26.0</td>\n",
       "      <td>0</td>\n",
       "      <td>2</td>\n",
       "      <td>0</td>\n",
       "      <td>1</td>\n",
       "    </tr>\n",
       "    <tr>\n",
       "      <th>3</th>\n",
       "      <td>106</td>\n",
       "      <td>35.0</td>\n",
       "      <td>0</td>\n",
       "      <td>0</td>\n",
       "      <td>4</td>\n",
       "      <td>0</td>\n",
       "    </tr>\n",
       "    <tr>\n",
       "      <th>4</th>\n",
       "      <td>107</td>\n",
       "      <td>30.0</td>\n",
       "      <td>0</td>\n",
       "      <td>2</td>\n",
       "      <td>2</td>\n",
       "      <td>0</td>\n",
       "    </tr>\n",
       "  </tbody>\n",
       "</table>\n",
       "</div>"
      ],
      "text/plain": [
       "   Unnamed: 0   age  fatality  armed  race  mult_officers\n",
       "0         103  26.0         0      2     4              0\n",
       "1         104  16.0         0      2     2              0\n",
       "2         105  26.0         0      2     0              1\n",
       "3         106  35.0         0      0     4              0\n",
       "4         107  30.0         0      2     2              0"
      ]
     },
     "execution_count": 4,
     "metadata": {},
     "output_type": "execute_result"
    }
   ],
   "source": [
    "shoot.head()"
   ]
  },
  {
   "cell_type": "code",
   "execution_count": 5,
   "metadata": {},
   "outputs": [],
   "source": [
    "cust.drop('Unnamed: 0', axis=1, inplace=True)"
   ]
  },
  {
   "cell_type": "code",
   "execution_count": 6,
   "metadata": {},
   "outputs": [],
   "source": [
    "shoot.drop('Unnamed: 0', axis=1, inplace=True)"
   ]
  },
  {
   "cell_type": "code",
   "execution_count": 7,
   "metadata": {},
   "outputs": [
    {
     "data": {
      "text/html": [
       "<div>\n",
       "<style scoped>\n",
       "    .dataframe tbody tr th:only-of-type {\n",
       "        vertical-align: middle;\n",
       "    }\n",
       "\n",
       "    .dataframe tbody tr th {\n",
       "        vertical-align: top;\n",
       "    }\n",
       "\n",
       "    .dataframe thead th {\n",
       "        text-align: right;\n",
       "    }\n",
       "</style>\n",
       "<table border=\"1\" class=\"dataframe\">\n",
       "  <thead>\n",
       "    <tr style=\"text-align: right;\">\n",
       "      <th></th>\n",
       "      <th>custody_type</th>\n",
       "      <th>race</th>\n",
       "      <th>death_type</th>\n",
       "      <th>age</th>\n",
       "    </tr>\n",
       "  </thead>\n",
       "  <tbody>\n",
       "    <tr>\n",
       "      <th>0</th>\n",
       "      <td>0.123491</td>\n",
       "      <td>1.156565</td>\n",
       "      <td>0.155584</td>\n",
       "      <td>0.590814</td>\n",
       "    </tr>\n",
       "    <tr>\n",
       "      <th>1</th>\n",
       "      <td>0.123491</td>\n",
       "      <td>0.406515</td>\n",
       "      <td>0.155584</td>\n",
       "      <td>1.798521</td>\n",
       "    </tr>\n",
       "    <tr>\n",
       "      <th>2</th>\n",
       "      <td>-1.037655</td>\n",
       "      <td>1.156565</td>\n",
       "      <td>0.943599</td>\n",
       "      <td>-1.287842</td>\n",
       "    </tr>\n",
       "    <tr>\n",
       "      <th>3</th>\n",
       "      <td>0.123491</td>\n",
       "      <td>-1.093584</td>\n",
       "      <td>-2.996475</td>\n",
       "      <td>-0.683988</td>\n",
       "    </tr>\n",
       "    <tr>\n",
       "      <th>4</th>\n",
       "      <td>0.123491</td>\n",
       "      <td>-1.093584</td>\n",
       "      <td>0.155584</td>\n",
       "      <td>-1.220747</td>\n",
       "    </tr>\n",
       "  </tbody>\n",
       "</table>\n",
       "</div>"
      ],
      "text/plain": [
       "   custody_type      race  death_type       age\n",
       "0      0.123491  1.156565    0.155584  0.590814\n",
       "1      0.123491  0.406515    0.155584  1.798521\n",
       "2     -1.037655  1.156565    0.943599 -1.287842\n",
       "3      0.123491 -1.093584   -2.996475 -0.683988\n",
       "4      0.123491 -1.093584    0.155584 -1.220747"
      ]
     },
     "execution_count": 7,
     "metadata": {},
     "output_type": "execute_result"
    }
   ],
   "source": [
    "#Scale cust df\n",
    "X_col = cust.columns\n",
    "\n",
    "cust_scaled = pd.DataFrame(StandardScaler().fit_transform(cust), columns= X_col)\n",
    "cust_scaled.head()"
   ]
  },
  {
   "cell_type": "code",
   "execution_count": 8,
   "metadata": {},
   "outputs": [
    {
     "data": {
      "text/html": [
       "<div>\n",
       "<style scoped>\n",
       "    .dataframe tbody tr th:only-of-type {\n",
       "        vertical-align: middle;\n",
       "    }\n",
       "\n",
       "    .dataframe tbody tr th {\n",
       "        vertical-align: top;\n",
       "    }\n",
       "\n",
       "    .dataframe thead th {\n",
       "        text-align: right;\n",
       "    }\n",
       "</style>\n",
       "<table border=\"1\" class=\"dataframe\">\n",
       "  <thead>\n",
       "    <tr style=\"text-align: right;\">\n",
       "      <th></th>\n",
       "      <th>age</th>\n",
       "      <th>fatality</th>\n",
       "      <th>armed</th>\n",
       "      <th>race</th>\n",
       "      <th>mult_officers</th>\n",
       "    </tr>\n",
       "  </thead>\n",
       "  <tbody>\n",
       "    <tr>\n",
       "      <th>0</th>\n",
       "      <td>-0.670348</td>\n",
       "      <td>-1.387608</td>\n",
       "      <td>0.980761</td>\n",
       "      <td>1.548471</td>\n",
       "      <td>-0.591786</td>\n",
       "    </tr>\n",
       "    <tr>\n",
       "      <th>1</th>\n",
       "      <td>-1.716530</td>\n",
       "      <td>-1.387608</td>\n",
       "      <td>0.980761</td>\n",
       "      <td>-0.096378</td>\n",
       "      <td>-0.591786</td>\n",
       "    </tr>\n",
       "    <tr>\n",
       "      <th>2</th>\n",
       "      <td>-0.670348</td>\n",
       "      <td>-1.387608</td>\n",
       "      <td>0.980761</td>\n",
       "      <td>-1.741227</td>\n",
       "      <td>1.689799</td>\n",
       "    </tr>\n",
       "    <tr>\n",
       "      <th>3</th>\n",
       "      <td>0.271215</td>\n",
       "      <td>-1.387608</td>\n",
       "      <td>-1.040776</td>\n",
       "      <td>1.548471</td>\n",
       "      <td>-0.591786</td>\n",
       "    </tr>\n",
       "    <tr>\n",
       "      <th>4</th>\n",
       "      <td>-0.251876</td>\n",
       "      <td>-1.387608</td>\n",
       "      <td>0.980761</td>\n",
       "      <td>-0.096378</td>\n",
       "      <td>-0.591786</td>\n",
       "    </tr>\n",
       "  </tbody>\n",
       "</table>\n",
       "</div>"
      ],
      "text/plain": [
       "        age  fatality     armed      race  mult_officers\n",
       "0 -0.670348 -1.387608  0.980761  1.548471      -0.591786\n",
       "1 -1.716530 -1.387608  0.980761 -0.096378      -0.591786\n",
       "2 -0.670348 -1.387608  0.980761 -1.741227       1.689799\n",
       "3  0.271215 -1.387608 -1.040776  1.548471      -0.591786\n",
       "4 -0.251876 -1.387608  0.980761 -0.096378      -0.591786"
      ]
     },
     "execution_count": 8,
     "metadata": {},
     "output_type": "execute_result"
    }
   ],
   "source": [
    "#Scale shoot df\n",
    "X_cols = shoot.columns\n",
    "\n",
    "shoot_scaled = pd.DataFrame(StandardScaler().fit_transform(shoot), columns = X_cols)\n",
    "shoot_scaled.head()"
   ]
  },
  {
   "cell_type": "code",
   "execution_count": null,
   "metadata": {},
   "outputs": [],
   "source": []
  },
  {
   "cell_type": "markdown",
   "metadata": {},
   "source": [
    "# Deaths in Custody"
   ]
  },
  {
   "cell_type": "markdown",
   "metadata": {},
   "source": [
    "## KMeans Clustering"
   ]
  },
  {
   "cell_type": "code",
   "execution_count": 8,
   "metadata": {},
   "outputs": [
    {
     "name": "stdout",
     "output_type": "stream",
     "text": [
      "The number of clusters, 2, and silhouette coefficient is 0.38\n",
      "The number of clusters, 3, and silhouette coefficient is 0.35\n",
      "The number of clusters, 4, and silhouette coefficient is 0.40\n",
      "The number of clusters, 5, and silhouette coefficient is 0.41\n",
      "The number of clusters, 6, and silhouette coefficient is 0.43\n",
      "The number of clusters, 7, and silhouette coefficient is 0.44\n",
      "The number of clusters, 8, and silhouette coefficient is 0.39\n",
      "The number of clusters, 9, and silhouette coefficient is 0.40\n",
      "The number of clusters, 10, and silhouette coefficient is 0.40\n"
     ]
    }
   ],
   "source": [
    "#KMeans Clustering of Custody data\n",
    "k_range = range(2,11)\n",
    "\n",
    "for i in k_range:\n",
    "    model = KMeans(n_clusters=i,random_state=11)\n",
    "    pred =model.fit_predict(cust_scaled)\n",
    "    silhouette_avg = silhouette_score(cust_scaled,pred)\n",
    "    print('The number of clusters, %d, and silhouette coefficient is %0.2f'% (i,silhouette_avg))"
   ]
  },
  {
   "cell_type": "markdown",
   "metadata": {},
   "source": [
    "## Affinity Propagation"
   ]
  },
  {
   "cell_type": "code",
   "execution_count": 31,
   "metadata": {},
   "outputs": [
    {
     "name": "stdout",
     "output_type": "stream",
     "text": [
      "Silhouette Coefficient: nan\n"
     ]
    },
    {
     "name": "stderr",
     "output_type": "stream",
     "text": [
      "C:\\Users\\Lara\\Miniconda3\\lib\\site-packages\\sklearn\\metrics\\cluster\\unsupervised.py:205: RuntimeWarning: invalid value encountered in true_divide\n",
      "  sil_samples /= np.maximum(intra_clust_dists, inter_clust_dists)\n"
     ]
    }
   ],
   "source": [
    "# Affinity propagation with default parameters\n",
    "affPro = AffinityPropagation()\n",
    "affPro.fit_predict(cust_scaled)\n",
    "labels = affPro.labels_\n",
    "print(\"Silhouette Coefficient: %0.3f\"% silhouette_score(cust_scaled, labels, metric='euclidean'))"
   ]
  },
  {
   "cell_type": "markdown",
   "metadata": {},
   "source": [
    "#### Tuning"
   ]
  },
  {
   "cell_type": "code",
   "execution_count": 64,
   "metadata": {
    "collapsed": true
   },
   "outputs": [
    {
     "name": "stdout",
     "output_type": "stream",
     "text": [
      "damping =  0.95 convergence_iter =  7\n"
     ]
    },
    {
     "name": "stderr",
     "output_type": "stream",
     "text": [
      "C:\\Users\\Lara\\Miniconda3\\lib\\site-packages\\sklearn\\metrics\\cluster\\unsupervised.py:205: RuntimeWarning: invalid value encountered in true_divide\n",
      "  sil_samples /= np.maximum(intra_clust_dists, inter_clust_dists)\n"
     ]
    },
    {
     "name": "stdout",
     "output_type": "stream",
     "text": [
      "Silhouette Coefficient: nan\n",
      "damping =  0.95 convergence_iter =  15\n",
      "Silhouette Coefficient: nan\n",
      "damping =  0.95 convergence_iter =  23\n",
      "Silhouette Coefficient: nan\n",
      "damping =  0.85 convergence_iter =  7\n",
      "Silhouette Coefficient: nan\n",
      "damping =  0.85 convergence_iter =  15\n",
      "Silhouette Coefficient: nan\n",
      "damping =  0.85 convergence_iter =  23\n",
      "Silhouette Coefficient: nan\n",
      "damping =  0.75 convergence_iter =  7\n",
      "Silhouette Coefficient: nan\n",
      "damping =  0.75 convergence_iter =  15\n",
      "Silhouette Coefficient: nan\n",
      "damping =  0.75 convergence_iter =  23\n",
      "Silhouette Coefficient: nan\n",
      "damping =  0.5 convergence_iter =  7\n",
      "Silhouette Coefficient: nan\n",
      "damping =  0.5 convergence_iter =  15\n",
      "Silhouette Coefficient: nan\n",
      "damping =  0.5 convergence_iter =  23\n",
      "Silhouette Coefficient: nan\n"
     ]
    }
   ],
   "source": [
    "damp = [0.95, 0.85, 0.75, 0.5]\n",
    "conv = [7, 15, 23]\n",
    "\n",
    "for d in damp:\n",
    "    for c in conv:\n",
    "        affPro = AffinityPropagation(damping= d, convergence_iter= c)\n",
    "        affPro.fit_predict(cust_scaled)\n",
    "        labels = affPro.labels_\n",
    "        print(\"damping = \", d, \"convergence_iter = \",c)\n",
    "        print(\"Silhouette Coefficient: %0.3f\"% silhouette_score(cust_scaled, labels, metric='euclidean'))"
   ]
  },
  {
   "cell_type": "markdown",
   "metadata": {},
   "source": [
    "## Spectral Clustering"
   ]
  },
  {
   "cell_type": "code",
   "execution_count": 30,
   "metadata": {
    "collapsed": true
   },
   "outputs": [
    {
     "name": "stdout",
     "output_type": "stream",
     "text": [
      "The number of clusters: 2, silhouette coefficient: 0.20\n",
      "The number of clusters: 3, silhouette coefficient: 0.27\n",
      "The number of clusters: 4, silhouette coefficient: 0.29\n",
      "The number of clusters: 5, silhouette coefficient: 0.13\n",
      "The number of clusters: 6, silhouette coefficient: 0.25\n",
      "The number of clusters: 7, silhouette coefficient: 0.26\n",
      "The number of clusters: 8, silhouette coefficient: 0.29\n",
      "The number of clusters: 9, silhouette coefficient: 0.22\n",
      "The number of clusters: 10, silhouette coefficient: 0.23\n"
     ]
    }
   ],
   "source": [
    "# Spectral clustering\n",
    "for k in range(2,11):\n",
    "    spect = SpectralClustering(n_clusters=k,random_state=11)\n",
    "    spect.fit_predict(cust_scaled)\n",
    "    spectlabel = spect.labels_\n",
    "    score= silhouette_score(cust_scaled, spectlabel, metric='euclidean')\n",
    "    print(\"The number of clusters: %d, silhouette coefficient: %0.2f\" % (k,score))"
   ]
  },
  {
   "cell_type": "markdown",
   "metadata": {},
   "source": [
    "#### Tuning"
   ]
  },
  {
   "cell_type": "code",
   "execution_count": 21,
   "metadata": {},
   "outputs": [
    {
     "name": "stdout",
     "output_type": "stream",
     "text": [
      "The number of clusters: 2, gamma: 0.001000, silhouette coefficient: 0.36\n",
      "The number of clusters: 3, gamma: 0.001000, silhouette coefficient: 0.29\n",
      "The number of clusters: 4, gamma: 0.001000, silhouette coefficient: 0.37\n",
      "The number of clusters: 5, gamma: 0.001000, silhouette coefficient: 0.41\n",
      "The number of clusters: 6, gamma: 0.001000, silhouette coefficient: 0.40\n",
      "The number of clusters: 7, gamma: 0.001000, silhouette coefficient: 0.43\n",
      "The number of clusters: 8, gamma: 0.001000, silhouette coefficient: 0.45\n",
      "The number of clusters: 9, gamma: 0.001000, silhouette coefficient: 0.37\n",
      "The number of clusters: 10, gamma: 0.001000, silhouette coefficient: 0.34\n",
      "The number of clusters: 2, gamma: 0.010000, silhouette coefficient: 0.36\n",
      "The number of clusters: 3, gamma: 0.010000, silhouette coefficient: 0.29\n",
      "The number of clusters: 4, gamma: 0.010000, silhouette coefficient: 0.37\n",
      "The number of clusters: 5, gamma: 0.010000, silhouette coefficient: 0.41\n",
      "The number of clusters: 6, gamma: 0.010000, silhouette coefficient: 0.40\n",
      "The number of clusters: 7, gamma: 0.010000, silhouette coefficient: 0.44\n",
      "The number of clusters: 8, gamma: 0.010000, silhouette coefficient: 0.45\n",
      "The number of clusters: 9, gamma: 0.010000, silhouette coefficient: 0.41\n",
      "The number of clusters: 10, gamma: 0.010000, silhouette coefficient: 0.36\n",
      "The number of clusters: 2, gamma: 0.100000, silhouette coefficient: 0.31\n",
      "The number of clusters: 3, gamma: 0.100000, silhouette coefficient: 0.29\n",
      "The number of clusters: 4, gamma: 0.100000, silhouette coefficient: 0.38\n",
      "The number of clusters: 5, gamma: 0.100000, silhouette coefficient: 0.40\n",
      "The number of clusters: 6, gamma: 0.100000, silhouette coefficient: 0.41\n",
      "The number of clusters: 7, gamma: 0.100000, silhouette coefficient: 0.42\n",
      "The number of clusters: 8, gamma: 0.100000, silhouette coefficient: 0.39\n",
      "The number of clusters: 9, gamma: 0.100000, silhouette coefficient: 0.38\n",
      "The number of clusters: 10, gamma: 0.100000, silhouette coefficient: 0.38\n",
      "The number of clusters: 2, gamma: 0.250000, silhouette coefficient: 0.35\n",
      "The number of clusters: 3, gamma: 0.250000, silhouette coefficient: 0.29\n",
      "The number of clusters: 4, gamma: 0.250000, silhouette coefficient: 0.38\n",
      "The number of clusters: 5, gamma: 0.250000, silhouette coefficient: 0.40\n",
      "The number of clusters: 6, gamma: 0.250000, silhouette coefficient: 0.41\n",
      "The number of clusters: 7, gamma: 0.250000, silhouette coefficient: 0.42\n",
      "The number of clusters: 8, gamma: 0.250000, silhouette coefficient: 0.38\n",
      "The number of clusters: 9, gamma: 0.250000, silhouette coefficient: 0.34\n",
      "The number of clusters: 10, gamma: 0.250000, silhouette coefficient: 0.36\n",
      "The number of clusters: 2, gamma: 0.500000, silhouette coefficient: 0.24\n",
      "The number of clusters: 3, gamma: 0.500000, silhouette coefficient: 0.32\n",
      "The number of clusters: 4, gamma: 0.500000, silhouette coefficient: 0.33\n",
      "The number of clusters: 5, gamma: 0.500000, silhouette coefficient: 0.37\n",
      "The number of clusters: 6, gamma: 0.500000, silhouette coefficient: 0.38\n",
      "The number of clusters: 7, gamma: 0.500000, silhouette coefficient: 0.39\n",
      "The number of clusters: 8, gamma: 0.500000, silhouette coefficient: 0.42\n",
      "The number of clusters: 9, gamma: 0.500000, silhouette coefficient: 0.35\n",
      "The number of clusters: 10, gamma: 0.500000, silhouette coefficient: 0.36\n",
      "The number of clusters: 2, gamma: 1.000000, silhouette coefficient: 0.20\n",
      "The number of clusters: 3, gamma: 1.000000, silhouette coefficient: 0.27\n",
      "The number of clusters: 4, gamma: 1.000000, silhouette coefficient: 0.29\n",
      "The number of clusters: 5, gamma: 1.000000, silhouette coefficient: 0.13\n",
      "The number of clusters: 6, gamma: 1.000000, silhouette coefficient: 0.25\n",
      "The number of clusters: 7, gamma: 1.000000, silhouette coefficient: 0.26\n",
      "The number of clusters: 8, gamma: 1.000000, silhouette coefficient: 0.29\n",
      "The number of clusters: 9, gamma: 1.000000, silhouette coefficient: 0.22\n",
      "The number of clusters: 10, gamma: 1.000000, silhouette coefficient: 0.23\n"
     ]
    }
   ],
   "source": [
    "gam = [0.001, 0.01, 0.1, 0.25, 0.5, 1.0]\n",
    "\n",
    "for g in gam:\n",
    "    for k in range(2,11):\n",
    "        spect = SpectralClustering(n_clusters=k, random_state=11, n_jobs =-1, gamma= g)\n",
    "        spect.fit_predict(cust_scaled)\n",
    "        spectlabel = spect.labels_\n",
    "        score= silhouette_score(cust_scaled, spectlabel, metric='euclidean')\n",
    "        print(\"The number of clusters: %d, gamma: %f, silhouette coefficient: %0.2f\" % (k,g,score))"
   ]
  },
  {
   "cell_type": "markdown",
   "metadata": {},
   "source": [
    "## Agglomerative"
   ]
  },
  {
   "cell_type": "code",
   "execution_count": 35,
   "metadata": {
    "collapsed": true
   },
   "outputs": [
    {
     "name": "stdout",
     "output_type": "stream",
     "text": [
      "The number of clusters: 2, silhouette coefficient: 0.38\n",
      "The number of clusters: 3, silhouette coefficient: 0.39\n",
      "The number of clusters: 4, silhouette coefficient: 0.40\n",
      "The number of clusters: 5, silhouette coefficient: 0.36\n",
      "The number of clusters: 6, silhouette coefficient: 0.38\n",
      "The number of clusters: 7, silhouette coefficient: 0.36\n",
      "The number of clusters: 8, silhouette coefficient: 0.38\n",
      "The number of clusters: 9, silhouette coefficient: 0.39\n",
      "The number of clusters: 10, silhouette coefficient: 0.39\n"
     ]
    }
   ],
   "source": [
    "# Agglomerative Clustering with 2-10 clusters \n",
    "for k in range(2,11):\n",
    "    agg = AgglomerativeClustering(n_clusters=k)\n",
    "    agg.fit_predict(cust_scaled)\n",
    "    labels = agg.labels_\n",
    "    score= silhouette_score(cust_scaled, labels, metric='euclidean')\n",
    "    print(\"The number of clusters: %d, silhouette coefficient: %0.2f\" % (k,score))"
   ]
  },
  {
   "cell_type": "markdown",
   "metadata": {},
   "source": [
    "## DBScan"
   ]
  },
  {
   "cell_type": "code",
   "execution_count": 36,
   "metadata": {},
   "outputs": [
    {
     "name": "stdout",
     "output_type": "stream",
     "text": [
      "Silhouette Coefficient: 0.204\n"
     ]
    }
   ],
   "source": [
    "db = DBSCAN()\n",
    "db.fit_predict(cust_scaled)\n",
    "labels = db.labels_\n",
    "score= silhouette_score(cust_scaled, labels, metric='euclidean')\n",
    "print(\"Silhouette Coefficient: %0.3f\"% silhouette_score(cust_scaled, labels, metric='euclidean'))"
   ]
  },
  {
   "cell_type": "markdown",
   "metadata": {},
   "source": [
    "#### Tuning"
   ]
  },
  {
   "cell_type": "code",
   "execution_count": 6,
   "metadata": {
    "collapsed": true
   },
   "outputs": [
    {
     "name": "stdout",
     "output_type": "stream",
     "text": [
      "eps =  0.25 min_samples =  3\n",
      "Silhouette Coefficient: 0.085\n",
      "eps =  0.25 min_samples =  4\n",
      "Silhouette Coefficient: 0.102\n",
      "eps =  0.25 min_samples =  5\n",
      "Silhouette Coefficient: 0.116\n",
      "eps =  0.25 min_samples =  6\n",
      "Silhouette Coefficient: 0.202\n",
      "eps =  0.5 min_samples =  3\n",
      "Silhouette Coefficient: 0.187\n",
      "eps =  0.5 min_samples =  4\n",
      "Silhouette Coefficient: 0.237\n",
      "eps =  0.5 min_samples =  5\n",
      "Silhouette Coefficient: 0.204\n",
      "eps =  0.5 min_samples =  6\n",
      "Silhouette Coefficient: 0.135\n",
      "eps =  0.75 min_samples =  3\n",
      "Silhouette Coefficient: 0.222\n",
      "eps =  0.75 min_samples =  4\n",
      "Silhouette Coefficient: 0.256\n",
      "eps =  0.75 min_samples =  5\n",
      "Silhouette Coefficient: 0.255\n",
      "eps =  0.75 min_samples =  6\n",
      "Silhouette Coefficient: 0.257\n",
      "eps =  1 min_samples =  3\n",
      "Silhouette Coefficient: 0.225\n",
      "eps =  1 min_samples =  4\n",
      "Silhouette Coefficient: 0.225\n",
      "eps =  1 min_samples =  5\n",
      "Silhouette Coefficient: 0.225\n",
      "eps =  1 min_samples =  6\n",
      "Silhouette Coefficient: 0.237\n",
      "eps =  1.5 min_samples =  3\n",
      "Silhouette Coefficient: 0.307\n",
      "eps =  1.5 min_samples =  4\n",
      "Silhouette Coefficient: 0.328\n",
      "eps =  1.5 min_samples =  5\n",
      "Silhouette Coefficient: 0.329\n",
      "eps =  1.5 min_samples =  6\n",
      "Silhouette Coefficient: 0.330\n"
     ]
    }
   ],
   "source": [
    "ep = [0.25, 0.5, 0.75, 1, 1.5] #only clustered into one group at 2\n",
    "minsamp = [3, 4, 5, 6]\n",
    "\n",
    "for e in ep:\n",
    "    for m in minsamp:\n",
    "        db = DBSCAN(eps=e, min_samples=m, n_jobs=-1)\n",
    "        db.fit_predict(cust_scaled)\n",
    "        labels = db.labels_\n",
    "        print(\"eps = \", e, \"min_samples = \", m)\n",
    "        print(\"Silhouette Coefficient: %0.3f\"% silhouette_score(cust_scaled, labels, metric='euclidean'))"
   ]
  },
  {
   "cell_type": "markdown",
   "metadata": {},
   "source": [
    "# Officer Involved Shootings"
   ]
  },
  {
   "cell_type": "markdown",
   "metadata": {},
   "source": [
    "## Kmeans "
   ]
  },
  {
   "cell_type": "code",
   "execution_count": 16,
   "metadata": {
    "collapsed": true
   },
   "outputs": [
    {
     "name": "stdout",
     "output_type": "stream",
     "text": [
      "The number of clusters, 2, and silhouette coefficient is 0.27\n",
      "The number of clusters, 3, and silhouette coefficient is 0.26\n",
      "The number of clusters, 4, and silhouette coefficient is 0.27\n",
      "The number of clusters, 5, and silhouette coefficient is 0.30\n",
      "The number of clusters, 6, and silhouette coefficient is 0.33\n",
      "The number of clusters, 7, and silhouette coefficient is 0.33\n",
      "The number of clusters, 8, and silhouette coefficient is 0.35\n",
      "The number of clusters, 9, and silhouette coefficient is 0.38\n",
      "The number of clusters, 10, and silhouette coefficient is 0.38\n"
     ]
    }
   ],
   "source": [
    "#KMeans Clustering of Custody data\n",
    "k_range = range(2,11)\n",
    "\n",
    "for i in k_range:\n",
    "    model = KMeans(n_clusters=i,random_state=11)\n",
    "    pred =model.fit_predict(shoot_scaled)\n",
    "    silhouette_avg = silhouette_score(shoot_scaled,pred)\n",
    "    print('The number of clusters, %d, and silhouette coefficient is %0.2f'% (i,silhouette_avg))"
   ]
  },
  {
   "cell_type": "markdown",
   "metadata": {},
   "source": [
    "## Affinity Propagation"
   ]
  },
  {
   "cell_type": "code",
   "execution_count": 7,
   "metadata": {
    "scrolled": true
   },
   "outputs": [
    {
     "name": "stdout",
     "output_type": "stream",
     "text": [
      "Silhouette Coefficient: nan\n"
     ]
    },
    {
     "name": "stderr",
     "output_type": "stream",
     "text": [
      "C:\\Users\\Lara\\Miniconda3\\lib\\site-packages\\sklearn\\metrics\\cluster\\unsupervised.py:205: RuntimeWarning: invalid value encountered in true_divide\n",
      "  sil_samples /= np.maximum(intra_clust_dists, inter_clust_dists)\n"
     ]
    }
   ],
   "source": [
    "# Affinity propagation with default parameters\n",
    "affPro = AffinityPropagation()\n",
    "affPro.fit_predict(shoot_scaled)\n",
    "centers = affPro.cluster_centers_indices_\n",
    "labels = affPro.labels_\n",
    "print(\"Silhouette Coefficient: %0.3f\"% silhouette_score(shoot_scaled, labels, metric='euclidean'))"
   ]
  },
  {
   "cell_type": "markdown",
   "metadata": {},
   "source": [
    "#### Tuning "
   ]
  },
  {
   "cell_type": "code",
   "execution_count": 8,
   "metadata": {
    "scrolled": true
   },
   "outputs": [
    {
     "name": "stdout",
     "output_type": "stream",
     "text": [
      "damping =  0.5 convergence_iter =  7\n",
      "Silhouette Coefficient: nan\n"
     ]
    },
    {
     "name": "stderr",
     "output_type": "stream",
     "text": [
      "C:\\Users\\Lara\\Miniconda3\\lib\\site-packages\\sklearn\\metrics\\cluster\\unsupervised.py:205: RuntimeWarning: invalid value encountered in true_divide\n",
      "  sil_samples /= np.maximum(intra_clust_dists, inter_clust_dists)\n"
     ]
    },
    {
     "name": "stdout",
     "output_type": "stream",
     "text": [
      "damping =  0.5 convergence_iter =  15\n",
      "Silhouette Coefficient: nan\n",
      "damping =  0.5 convergence_iter =  23\n",
      "Silhouette Coefficient: nan\n",
      "damping =  0.5 convergence_iter =  50\n",
      "Silhouette Coefficient: nan\n",
      "damping =  0.5 convergence_iter =  75\n",
      "Silhouette Coefficient: nan\n",
      "damping =  0.6 convergence_iter =  7\n",
      "Silhouette Coefficient: 0.443\n",
      "damping =  0.6 convergence_iter =  15\n",
      "Silhouette Coefficient: 0.443\n",
      "damping =  0.6 convergence_iter =  23\n",
      "Silhouette Coefficient: 0.443\n",
      "damping =  0.6 convergence_iter =  50\n",
      "Silhouette Coefficient: 0.443\n",
      "damping =  0.6 convergence_iter =  75\n",
      "Silhouette Coefficient: 0.443\n",
      "damping =  0.7 convergence_iter =  7\n",
      "Silhouette Coefficient: 0.531\n",
      "damping =  0.7 convergence_iter =  15\n",
      "Silhouette Coefficient: 0.531\n",
      "damping =  0.7 convergence_iter =  23\n",
      "Silhouette Coefficient: 0.531\n",
      "damping =  0.7 convergence_iter =  50\n",
      "Silhouette Coefficient: 0.531\n",
      "damping =  0.7 convergence_iter =  75\n",
      "Silhouette Coefficient: 0.531\n",
      "damping =  0.8 convergence_iter =  7\n",
      "Silhouette Coefficient: 0.455\n",
      "damping =  0.8 convergence_iter =  15\n",
      "Silhouette Coefficient: 0.525\n",
      "damping =  0.8 convergence_iter =  23\n",
      "Silhouette Coefficient: 0.525\n",
      "damping =  0.8 convergence_iter =  50\n",
      "Silhouette Coefficient: 0.534\n",
      "damping =  0.8 convergence_iter =  75\n",
      "Silhouette Coefficient: 0.534\n",
      "damping =  0.9 convergence_iter =  7\n",
      "Silhouette Coefficient: 0.454\n",
      "damping =  0.9 convergence_iter =  15\n",
      "Silhouette Coefficient: 0.525\n",
      "damping =  0.9 convergence_iter =  23\n",
      "Silhouette Coefficient: 0.525\n",
      "damping =  0.9 convergence_iter =  50\n",
      "Silhouette Coefficient: 0.525\n",
      "damping =  0.9 convergence_iter =  75\n",
      "Silhouette Coefficient: 0.525\n"
     ]
    }
   ],
   "source": [
    "damp = [0.5, 0.6,0.7, 0.8, 0.9]\n",
    "conv = [7, 15, 23, 50, 75]\n",
    "\n",
    "for d in damp:\n",
    "    for c in conv:\n",
    "        affPro = AffinityPropagation(damping= d, convergence_iter= c)\n",
    "        affPro.fit_predict(shoot_scaled)\n",
    "        centers = affPro.cluster_centers_indices_ \n",
    "        labels = affPro.labels_\n",
    "        print(\"damping = \", d, \"convergence_iter = \",c)\n",
    "        print(\"Silhouette Coefficient: %0.3f\"% silhouette_score(shoot_scaled, labels, metric='euclidean'))"
   ]
  },
  {
   "cell_type": "markdown",
   "metadata": {},
   "source": [
    "## Spectral Clustering"
   ]
  },
  {
   "cell_type": "code",
   "execution_count": 10,
   "metadata": {
    "collapsed": true
   },
   "outputs": [
    {
     "name": "stdout",
     "output_type": "stream",
     "text": [
      "The number of clusters, 2, and silhouette coefficient is 0.13\n",
      "The number of clusters, 3, and silhouette coefficient is 0.14\n",
      "The number of clusters, 4, and silhouette coefficient is 0.17\n",
      "The number of clusters, 5, and silhouette coefficient is 0.17\n",
      "The number of clusters, 6, and silhouette coefficient is 0.21\n",
      "The number of clusters, 7, and silhouette coefficient is 0.23\n",
      "The number of clusters, 8, and silhouette coefficient is 0.26\n",
      "The number of clusters, 9, and silhouette coefficient is 0.28\n",
      "The number of clusters, 10, and silhouette coefficient is 0.29\n"
     ]
    }
   ],
   "source": [
    "# Spectral clustering of Shooting data\n",
    "\n",
    "for k in range(2,11):\n",
    "    spect = SpectralClustering(n_clusters=k,random_state=11)\n",
    "    spect.fit_predict(shoot_scaled)\n",
    "    spectlabel = spect.labels_\n",
    "    score=silhouette_score(shoot_scaled, spectlabel, metric='euclidean')\n",
    "    print(\"The number of clusters, %d, and silhouette coefficient is %0.2f\" % (k,score))"
   ]
  },
  {
   "cell_type": "markdown",
   "metadata": {},
   "source": [
    "#### Tuning "
   ]
  },
  {
   "cell_type": "code",
   "execution_count": 24,
   "metadata": {},
   "outputs": [
    {
     "name": "stdout",
     "output_type": "stream",
     "text": [
      "The number of clusters: 2, gamma: 0.100000, silhouette coefficient: 0.22\n",
      "The number of clusters: 3, gamma: 0.100000, silhouette coefficient: 0.21\n",
      "The number of clusters: 4, gamma: 0.100000, silhouette coefficient: 0.26\n",
      "The number of clusters: 5, gamma: 0.100000, silhouette coefficient: 0.29\n",
      "The number of clusters: 6, gamma: 0.100000, silhouette coefficient: 0.29\n",
      "The number of clusters: 7, gamma: 0.100000, silhouette coefficient: 0.29\n",
      "The number of clusters: 8, gamma: 0.100000, silhouette coefficient: 0.28\n",
      "The number of clusters: 9, gamma: 0.100000, silhouette coefficient: 0.35\n",
      "The number of clusters: 10, gamma: 0.100000, silhouette coefficient: 0.36\n",
      "The number of clusters: 11, gamma: 0.100000, silhouette coefficient: 0.40\n",
      "The number of clusters: 12, gamma: 0.100000, silhouette coefficient: 0.38\n",
      "The number of clusters: 13, gamma: 0.100000, silhouette coefficient: 0.41\n",
      "The number of clusters: 14, gamma: 0.100000, silhouette coefficient: 0.41\n",
      "The number of clusters: 15, gamma: 0.100000, silhouette coefficient: 0.42\n",
      "The number of clusters: 16, gamma: 0.100000, silhouette coefficient: 0.42\n",
      "The number of clusters: 17, gamma: 0.100000, silhouette coefficient: 0.41\n",
      "The number of clusters: 18, gamma: 0.100000, silhouette coefficient: 0.43\n",
      "The number of clusters: 19, gamma: 0.100000, silhouette coefficient: 0.44\n",
      "The number of clusters: 20, gamma: 0.100000, silhouette coefficient: 0.44\n",
      "The number of clusters: 2, gamma: 0.500000, silhouette coefficient: 0.16\n",
      "The number of clusters: 3, gamma: 0.500000, silhouette coefficient: 0.16\n",
      "The number of clusters: 4, gamma: 0.500000, silhouette coefficient: 0.20\n",
      "The number of clusters: 5, gamma: 0.500000, silhouette coefficient: 0.25\n",
      "The number of clusters: 6, gamma: 0.500000, silhouette coefficient: 0.27\n",
      "The number of clusters: 7, gamma: 0.500000, silhouette coefficient: 0.28\n",
      "The number of clusters: 8, gamma: 0.500000, silhouette coefficient: 0.30\n",
      "The number of clusters: 9, gamma: 0.500000, silhouette coefficient: 0.32\n",
      "The number of clusters: 10, gamma: 0.500000, silhouette coefficient: 0.35\n",
      "The number of clusters: 11, gamma: 0.500000, silhouette coefficient: 0.36\n",
      "The number of clusters: 12, gamma: 0.500000, silhouette coefficient: 0.37\n",
      "The number of clusters: 13, gamma: 0.500000, silhouette coefficient: 0.38\n",
      "The number of clusters: 14, gamma: 0.500000, silhouette coefficient: 0.40\n",
      "The number of clusters: 15, gamma: 0.500000, silhouette coefficient: 0.38\n",
      "The number of clusters: 16, gamma: 0.500000, silhouette coefficient: 0.42\n",
      "The number of clusters: 17, gamma: 0.500000, silhouette coefficient: 0.41\n",
      "The number of clusters: 18, gamma: 0.500000, silhouette coefficient: 0.40\n",
      "The number of clusters: 19, gamma: 0.500000, silhouette coefficient: 0.40\n",
      "The number of clusters: 20, gamma: 0.500000, silhouette coefficient: 0.43\n",
      "The number of clusters: 2, gamma: 1.000000, silhouette coefficient: 0.13\n",
      "The number of clusters: 3, gamma: 1.000000, silhouette coefficient: 0.14\n",
      "The number of clusters: 4, gamma: 1.000000, silhouette coefficient: 0.17\n",
      "The number of clusters: 5, gamma: 1.000000, silhouette coefficient: 0.17\n",
      "The number of clusters: 6, gamma: 1.000000, silhouette coefficient: 0.21\n",
      "The number of clusters: 7, gamma: 1.000000, silhouette coefficient: 0.23\n",
      "The number of clusters: 8, gamma: 1.000000, silhouette coefficient: 0.26\n",
      "The number of clusters: 9, gamma: 1.000000, silhouette coefficient: 0.28\n",
      "The number of clusters: 10, gamma: 1.000000, silhouette coefficient: 0.29\n",
      "The number of clusters: 11, gamma: 1.000000, silhouette coefficient: 0.27\n",
      "The number of clusters: 12, gamma: 1.000000, silhouette coefficient: 0.32\n",
      "The number of clusters: 13, gamma: 1.000000, silhouette coefficient: 0.30\n",
      "The number of clusters: 14, gamma: 1.000000, silhouette coefficient: 0.29\n",
      "The number of clusters: 15, gamma: 1.000000, silhouette coefficient: 0.32\n",
      "The number of clusters: 16, gamma: 1.000000, silhouette coefficient: 0.33\n",
      "The number of clusters: 17, gamma: 1.000000, silhouette coefficient: 0.35\n",
      "The number of clusters: 18, gamma: 1.000000, silhouette coefficient: 0.36\n",
      "The number of clusters: 19, gamma: 1.000000, silhouette coefficient: 0.36\n",
      "The number of clusters: 20, gamma: 1.000000, silhouette coefficient: 0.34\n",
      "The number of clusters: 2, gamma: 1.500000, silhouette coefficient: 0.10\n",
      "The number of clusters: 3, gamma: 1.500000, silhouette coefficient: 0.09\n",
      "The number of clusters: 4, gamma: 1.500000, silhouette coefficient: 0.10\n",
      "The number of clusters: 5, gamma: 1.500000, silhouette coefficient: 0.14\n",
      "The number of clusters: 6, gamma: 1.500000, silhouette coefficient: 0.16\n",
      "The number of clusters: 7, gamma: 1.500000, silhouette coefficient: 0.21\n",
      "The number of clusters: 8, gamma: 1.500000, silhouette coefficient: 0.24\n",
      "The number of clusters: 9, gamma: 1.500000, silhouette coefficient: 0.26\n",
      "The number of clusters: 10, gamma: 1.500000, silhouette coefficient: 0.24\n",
      "The number of clusters: 11, gamma: 1.500000, silhouette coefficient: 0.24\n",
      "The number of clusters: 12, gamma: 1.500000, silhouette coefficient: 0.25\n",
      "The number of clusters: 13, gamma: 1.500000, silhouette coefficient: 0.26\n",
      "The number of clusters: 14, gamma: 1.500000, silhouette coefficient: 0.28\n",
      "The number of clusters: 15, gamma: 1.500000, silhouette coefficient: 0.29\n",
      "The number of clusters: 16, gamma: 1.500000, silhouette coefficient: 0.29\n",
      "The number of clusters: 17, gamma: 1.500000, silhouette coefficient: 0.30\n",
      "The number of clusters: 18, gamma: 1.500000, silhouette coefficient: 0.30\n",
      "The number of clusters: 19, gamma: 1.500000, silhouette coefficient: 0.32\n",
      "The number of clusters: 20, gamma: 1.500000, silhouette coefficient: 0.34\n"
     ]
    }
   ],
   "source": [
    "gam = [0.1, 0.5, 1.0, 1.5]\n",
    "\n",
    "for g in gam:\n",
    "    for k in range(2,21):\n",
    "        spect = SpectralClustering(n_clusters=k, random_state=11, n_jobs =-1, gamma= g)\n",
    "        spect.fit_predict(shoot_scaled)\n",
    "        spectlabel = spect.labels_\n",
    "        score= silhouette_score(shoot_scaled, spectlabel, metric='euclidean')\n",
    "        print(\"The number of clusters: %d, gamma: %f, silhouette coefficient: %0.2f\" % (k,g,score))"
   ]
  },
  {
   "cell_type": "markdown",
   "metadata": {},
   "source": [
    "## Agglomerative Clustering"
   ]
  },
  {
   "cell_type": "code",
   "execution_count": 12,
   "metadata": {},
   "outputs": [
    {
     "name": "stdout",
     "output_type": "stream",
     "text": [
      "The number of clusters: 2, silhouette coefficient: 0.24\n",
      "The number of clusters: 3, silhouette coefficient: 0.26\n",
      "The number of clusters: 4, silhouette coefficient: 0.25\n",
      "The number of clusters: 5, silhouette coefficient: 0.26\n",
      "The number of clusters: 6, silhouette coefficient: 0.28\n",
      "The number of clusters: 7, silhouette coefficient: 0.31\n",
      "The number of clusters: 8, silhouette coefficient: 0.29\n",
      "The number of clusters: 9, silhouette coefficient: 0.31\n",
      "The number of clusters: 10, silhouette coefficient: 0.32\n"
     ]
    }
   ],
   "source": [
    "# Agglomerative Clustering with 2-10 clusters \n",
    "for k in range(2,11):\n",
    "    agg = AgglomerativeClustering(n_clusters=k)\n",
    "    agg.fit_predict(shoot_scaled)\n",
    "    labels = agg.labels_\n",
    "    score= silhouette_score(shoot_scaled, labels, metric='euclidean')\n",
    "    print(\"The number of clusters: %d, silhouette coefficient: %0.2f\" % (k,score))"
   ]
  },
  {
   "cell_type": "markdown",
   "metadata": {},
   "source": [
    "## DBScan"
   ]
  },
  {
   "cell_type": "markdown",
   "metadata": {},
   "source": [
    "#### Tuning"
   ]
  },
  {
   "cell_type": "code",
   "execution_count": 15,
   "metadata": {},
   "outputs": [
    {
     "name": "stdout",
     "output_type": "stream",
     "text": [
      "eps =  0.25 min_samples =  2\n",
      "Silhouette Coefficient: 0.547\n",
      "eps =  0.25 min_samples =  3\n",
      "Silhouette Coefficient: 0.449\n",
      "eps =  0.25 min_samples =  4\n",
      "Silhouette Coefficient: 0.317\n",
      "eps =  0.25 min_samples =  5\n",
      "Silhouette Coefficient: 0.234\n",
      "eps =  0.5 min_samples =  2\n",
      "Silhouette Coefficient: 0.398\n",
      "eps =  0.5 min_samples =  3\n",
      "Silhouette Coefficient: 0.359\n",
      "eps =  0.5 min_samples =  4\n",
      "Silhouette Coefficient: 0.330\n",
      "eps =  0.5 min_samples =  5\n",
      "Silhouette Coefficient: 0.257\n",
      "eps =  0.75 min_samples =  2\n",
      "Silhouette Coefficient: 0.335\n",
      "eps =  0.75 min_samples =  3\n",
      "Silhouette Coefficient: 0.323\n",
      "eps =  0.75 min_samples =  4\n",
      "Silhouette Coefficient: 0.338\n",
      "eps =  0.75 min_samples =  5\n",
      "Silhouette Coefficient: 0.313\n",
      "eps =  1 min_samples =  2\n",
      "Silhouette Coefficient: 0.242\n",
      "eps =  1 min_samples =  3\n",
      "Silhouette Coefficient: 0.238\n",
      "eps =  1 min_samples =  4\n",
      "Silhouette Coefficient: 0.238\n",
      "eps =  1 min_samples =  5\n",
      "Silhouette Coefficient: 0.240\n",
      "eps =  2 min_samples =  2\n",
      "Silhouette Coefficient: 0.256\n",
      "eps =  2 min_samples =  3\n",
      "Silhouette Coefficient: 0.256\n",
      "eps =  2 min_samples =  4\n",
      "Silhouette Coefficient: 0.256\n",
      "eps =  2 min_samples =  5\n",
      "Silhouette Coefficient: 0.256\n"
     ]
    }
   ],
   "source": [
    "ep = [0.25, 0.5, 0.75, 1, 2] #groups into one cluster at 3\n",
    "minsamp = [2, 3, 4,5] \n",
    "\n",
    "for e in ep:\n",
    "    for m in minsamp:\n",
    "        db = DBSCAN(eps=e, min_samples=m, n_jobs=-1)\n",
    "        db.fit_predict(shoot_scaled)\n",
    "        labels = db.labels_\n",
    "        print(\"eps = \", e, \"min_samples = \", m)\n",
    "        print(\"Silhouette Coefficient: %0.3f\"% silhouette_score(shoot_scaled, labels, metric='euclidean'))"
   ]
  },
  {
   "cell_type": "code",
   "execution_count": null,
   "metadata": {},
   "outputs": [],
   "source": []
  },
  {
   "cell_type": "code",
   "execution_count": null,
   "metadata": {},
   "outputs": [],
   "source": []
  },
  {
   "cell_type": "markdown",
   "metadata": {},
   "source": [
    "# Checking labels"
   ]
  },
  {
   "cell_type": "markdown",
   "metadata": {},
   "source": [
    "### Deaths in Custody"
   ]
  },
  {
   "cell_type": "code",
   "execution_count": 9,
   "metadata": {},
   "outputs": [
    {
     "name": "stdout",
     "output_type": "stream",
     "text": [
      "[0 0 2 ..., 6 6 0]\n"
     ]
    }
   ],
   "source": [
    "#Kmeans\n",
    "#The number of clusters, 7, and silhouette coefficient is 0.44\n",
    "model = KMeans(n_clusters= 7,random_state=11)\n",
    "model.fit_predict(cust_scaled)\n",
    "print(model.labels_)\n",
    "kmeans_cust= model.labels_"
   ]
  },
  {
   "cell_type": "code",
   "execution_count": 27,
   "metadata": {},
   "outputs": [
    {
     "name": "stdout",
     "output_type": "stream",
     "text": [
      "[7 7 7 ..., 3 3 7]\n"
     ]
    }
   ],
   "source": [
    "#The number of clusters: 8, gamma: 0.010000, silhouette coefficient: 0.45\n",
    "spect = SpectralClustering(n_clusters=8, random_state=11, n_jobs =-1, gamma= 0.01)\n",
    "spect.fit_predict(cust_scaled)\n",
    "labels = spect.labels_\n",
    "print(labels)\n",
    "spectral_cust = labels"
   ]
  },
  {
   "cell_type": "code",
   "execution_count": null,
   "metadata": {},
   "outputs": [],
   "source": []
  },
  {
   "cell_type": "markdown",
   "metadata": {},
   "source": [
    "### Officer Involved Shootings"
   ]
  },
  {
   "cell_type": "code",
   "execution_count": 11,
   "metadata": {
    "collapsed": true
   },
   "outputs": [
    {
     "name": "stdout",
     "output_type": "stream",
     "text": [
      "[0 0 8 7 0 2 1 6 1 4 7 7 1 2 5 5 5 4 7 1 2 2 1 1 8 5 5 0 2 0 6 0 5 0 1 2 7\n",
      " 7 8 6 3 7 6 1 4 3 7 6 6 5 5 8 7 6 3 4 1 3 2 8 6 1 1 3 1 1 3 0 1 1 2 0 8 5\n",
      " 2 4 0 1 8 6 1 1 8 0 3 7 1 4 1 0 7 2 2 6 0 1 2 3 1 3 3 6 2 7 3 8 1 3 5 7 5\n",
      " 1 4 8 2 3 7 8 3 7 6 8 7 5 3 0 0 2 7 1 7 4 8 3 3 8 6 7 6 8 3 1 3 3 3 8 3 3\n",
      " 0 3 1 0 7 3 1 4 2 4 7 4 4 1 5 4 8 7 7 8 0 7 8 4 5 6 6 6 4 4 6 5 7 3 3 4 1\n",
      " 7 3 1 5 5 5 6 8 0 5 0 3 7 0 5 7 1 0 4 3 7 7 8 3 4 8 1 0 4 5 8 3 4 3 3 5 4\n",
      " 3 5 2 3 1 2 0 8 1 1 0 3 2 1 3 1 2 6 3 3 1 1 6 8 3 1 6 0 8 3 7 3 4 4 2 2 4\n",
      " 3 4 5 2 7 3 3 3 6 5 1 3 2 3 0 7 1 1 3 1 1 5 3 1 1 6 0 2 0 3 1 7 6 3 3 3 8\n",
      " 5 1 0 3 3 6 6 3 1 5 1 7 8 1 3 3 1 3 4 6 7 3 6 7 2 0 1 2 2 3 1 8 5 2 0 5 4\n",
      " 7 3 1 4 1 4 4 7 3 8 1 7 1 3 1 4 0 0 6 8 0 8 5 3 3 3 6 3 3 3 1 0 1 1 0 6 1\n",
      " 3 6 3 2 5 0 1 3 4 3 3 1 0 5 1 4 2 2 7 2 3 3 3 4 6 0 1 5 8 6 3 8 1 3 2 7 7\n",
      " 7 4 4 6 1 1 1 6 7 7 1 5 1 6 1 4 6 4 6 4 4 3 3 2 3 4 4 4 4 5 4 5 4 0 7 7 0\n",
      " 5 8 0 2 0 0 7 2 2 5 5 3 4 3 6 0 3 0 5 0 2 5 3 4 4 3 5 0 5 5 4 4 0 1 0 5 2\n",
      " 4 1 4 0 0 0 3 0 0 3 3 0 3 5 0 7 7 7 4 4 8 8 1 1 6 6 1 1 3 4 8 6 6 6 2 2 7\n",
      " 1 6 2 4 7 1 3 6 6 3 3 1 1 1 4 3 3 3 3 3 1 1 1 3 3 4 4 1 3 2 6 6 6 3 3 3 3\n",
      " 0 1 1 1 3 8 6 3 1 1 1 3 3 1 1 1 1 1 1 4 4 4 1 4 3 7 4 4 7 1 1 0 1 1 3 1 1\n",
      " 4 4 4 6 6 3 1 1 3 1 1 2 2 2 0 3 1 3 1 2 6 2 6 8 8 8 2 1 3 3 4 4 3 3 3 2 6\n",
      " 2 6 8 2 3 3 4 1 3 8 2]\n"
     ]
    }
   ],
   "source": [
    "# Kmeans\n",
    "#The number of clusters, 9, and silhouette coefficient is 0.38\n",
    "model = KMeans(n_clusters= 9,random_state=11)\n",
    "model.fit_predict(shoot_scaled)\n",
    "print(model.labels_)\n",
    "kmeans_shoot = model.labels_"
   ]
  },
  {
   "cell_type": "code",
   "execution_count": 12,
   "metadata": {
    "collapsed": true
   },
   "outputs": [
    {
     "name": "stdout",
     "output_type": "stream",
     "text": [
      "[ 3 33 16  1 32 21 38  0 37  5 23  1  9 24 10  2 12  7 23 20 13 28 22  9  8\n",
      " 10 10  3 39  3  4  3 10  3 37 21  6 25  8  4 17 23 29 38  5 15  6 30 29  5\n",
      "  5 16 25 30 15  7 22 17 28  8 30  9 37 15 37 22 18 33 37 20 39 33 16 10 28\n",
      " 26 32 37  8  0 37 37 16 33 18 23 20  7  9 33 25 39 24 35 33  9 39 17 22 14\n",
      " 17 11 39 25 17  8  9 15  2 23 12 38 12  2 28 18  6  8 18 23 30 16  6 13 17\n",
      " 33 33 28  6  9 25 26  8 14 17  8 29 34 35 16 15 22 15 15 18 16 15 15 32 15\n",
      " 37 32 23 15 37 26 21 36  6 26  5 22 34 26  2  1  1  8  3  6  8 26 20  4 29\n",
      " 35 26 26  4 12 23 15 17  7 37 23 18 22  1  2 10 30 16  3  5  3 17  6 33 10\n",
      "  6  9 33  7 14  1  6  8 17 26 16 20  3  5  2  8 14 26 15 19 13  7 37 31 28\n",
      " 15 20 28 33 16 38 37 33 15 39  9 18 38 13 30 15 17 22 22 30 16 15  9 35 33\n",
      " 16 18  6 15 26 19 28 39 26 27 36 24 39 25 15 17 27 11  1 20 17 21 27 33  6\n",
      "  9 38 17 37 22 14 18 37 37 30 33 28 33 14 37 25 11 14 15 15 16 34 38 32 19\n",
      " 17 29 35 15 37  1 22 25 16  9 15 14 20 17 26 30 23 15 11 34 24 32 37 28 24\n",
      " 17 20 16 14 39 32 31 26 25 17 22 26 19  7 26 25 17 16 20 25 37 27 37 36 32\n",
      "  3 30  8  3 16 12 15 17 15 11 17 15 17 22 32 37  9 32 29 38 15 29 17 28  2\n",
      " 32  9 18 26 17 18 22  3 31 38 36 13 28 23 28 15 17 20 26 35 32 20  5 16  0\n",
      " 18  2  9 17 28  6 25 25 26 12 11 22 38 38  0 25 25 22 34 22 29  9 36 30 22\n",
      "  4 36 36 17 15 21 18 26  5 26 36 31  7  1  5 31 25  6 32 10 16 32 21 32  3\n",
      " 25 28 39 34 10 14 36 18 30 33 18 32  1 31 13 10  7 36 36 18 34 32 13 10 22\n",
      " 22 32 22  3  1 28  7 38  7  3 23 32 38 31 32 18 17 32 18 14 32 32 23 23 26\n",
      " 26 16 16 38 38 29 35 37 37 15 36 16 30 35 35 39 39 23 38 35 28 36  6 38 18\n",
      " 35 35 18 18 37 37 38 26 15 15 37 37 15 37 37 37 15 15 26 26 37 15 39 35 35\n",
      " 35 15 15 18 15 32 37 37 37 15  8  0 18 38 38 38 15 15 37 38 38 38 38 37 36\n",
      " 36 26 37 36 15  6 36 19  6 19 37 32 37 37 15 37 37  7 26 26 35  0 15 37 37\n",
      " 18 38 38 39 39 39  3 18 37 15 37 28 35 39 30 16 16 16 39 37 15 15 36 36 18\n",
      " 18 15 39 30 39 29 16 39 27 27 36 37 15 16 39]\n"
     ]
    }
   ],
   "source": [
    "#damping =  0.8 convergence_iter =  50\n",
    "#Silhouette Coefficient: 0.534\n",
    "\n",
    "affPro = AffinityPropagation(damping= 0.8, convergence_iter=50)\n",
    "affPro.fit_predict(shoot_scaled)\n",
    "#centers = affPro.cluster_centers_indices_ \n",
    "labels = affPro.labels_\n",
    "print(labels)\n",
    "affpro_shoot = labels"
   ]
  },
  {
   "cell_type": "code",
   "execution_count": 13,
   "metadata": {
    "collapsed": true
   },
   "outputs": [
    {
     "name": "stdout",
     "output_type": "stream",
     "text": [
      "[ 1  1  6  8  1  7  2  7  2 10  4  8  2  0  5  9 10 10  4  2  9  0  2  2  9\n",
      "  5  5  1  0  1  8  1  5  1  2  7  8  4  9  8  3  4  7  2 10  3  8  7  4 10\n",
      "  5  6  4  7  3 10  2  3  0  9  7  2  2  3  2  2  3  1  2  5  0  1  6  5  0\n",
      " 10  1  2  9  7  2  2  6  1  3  4  2 10  2  1  4  0  9  7  1  2  0  3  2  3\n",
      "  3  7  0  4  3  9  2  3  9  4 10  2 10  9  0  3  8  9  3  4  7  6  8  9  3\n",
      "  1  1  0  8  2  4 10  9  3  3  9  4  4  7  6  3  2  3  3  3  6  3  3  1  3\n",
      "  2  1  4  3  2 10  7 10  8 10 10  2  5 10  9  8  8  9  1  8  9 10  5  8  4\n",
      "  7 10 10  8 10  4  3  3 10  2  4  3  2  8  9  5  7  6  1  5  1  3  8  1  5\n",
      "  8  2  1 10  3  8  8  9  3 10  6  5  1 10  9  9  3 10  3  2  9 10  3  5  0\n",
      "  3  2  0  1  6  2  2  1  3  0  2  3  2  9  7  3  3  2  2  7  6  3  2  7  1\n",
      "  6  3  8  3 10 10  0  0 10  3 10  9  0  4  3  3  3  7  8  2  3  7  3  1  8\n",
      "  2  2  3  2  2  5  3  2  2  7  1  0  1  3  2  4  4  3  3  3  6  5  2  1  3\n",
      "  3  4  7  3  2  8  2  4  6  2  3  3  2  3 10  7  4  3  7  4  9  1  2  0  0\n",
      "  3  2  6  5  0  1  5 10  4  3  2 10  2 10 10  4  3  6  5  4  2  3  2 10  1\n",
      "  1  7  9  1  6 10  3  3  3  7  3  3  3  2  1  2  2  1  4  2  3  4  3  0  9\n",
      "  1  2  3 10  3  3  2  1  5  2 10  9  0  4  0  3  3  3 10  7  1  2 10  6  7\n",
      "  3  9  2  3  0  8  4  4 10 10  7  2  2  2  7  4  4  2  5  2  4  2 10  7 10\n",
      "  8 10 10  3  3  7  3 10 10 10 10  5 10  8 10  1  4  8  1  5  6  1  7  1  1\n",
      "  4  0  0  5  5  3 10  3  7  1  3  1  8  5  9  5  3 10 10  3  5  1  9  5 10\n",
      " 10  1  2  1  8  0 10  2 10  1  4  1  3  5  1  3  3  1  3  5  1  4  4  4 10\n",
      " 10  6  6  2  2  4  7  2  2  3 10  6  7  7  7  0  0  4  2  7  0 10  8  2  3\n",
      "  7  7  3  3  2  2  2 10  3  3  3  3  3  2  2  2  3  3 10 10  2  3  0  7  7\n",
      "  7  3  3  3  3  1  2  2  2  3  9  7  3  2  2  2  3  3  2  2  2  2  2  2 10\n",
      " 10 10  2 10  3  8 10 10  8  2  2  1  2  2  3  2  2 10 10 10  7  7  3  2  2\n",
      "  3  2  2  0  0  0  1  3  2  3  2  0  7  0  7  6  6  6  0  2  3  3 10 10  3\n",
      "  3  3  0  7  0  4  6  0  3  3 10  2  3  6  0]\n"
     ]
    }
   ],
   "source": [
    "# Spectral\n",
    "# The number of clusters: 11, gamma: 0.100000, silhouette coefficient: 0.40\n",
    "spect = SpectralClustering(n_clusters=11, random_state=11, n_jobs =-1, gamma= 0.1)\n",
    "spect.fit_predict(shoot_scaled)\n",
    "labels = spect.labels_\n",
    "print(labels)\n",
    "spectral_shoot = labels"
   ]
  },
  {
   "cell_type": "code",
   "execution_count": 14,
   "metadata": {
    "collapsed": true
   },
   "outputs": [
    {
     "name": "stdout",
     "output_type": "stream",
     "text": [
      "[ 0  1 -1  2  3  4  5  6  7  8  9 10  7 -1 11 12 13 14  9 -1 15 16 17  7 18\n",
      " 19 20  0 21 22 23 22 20  0  7  4 24 25 26 23 27  9 -1  5 28 29 24 30 31 -1\n",
      " -1 -1 25 32 33 14 17 29 34 26 32  7  7 33  7 17 35 36  7 37 21 38 39 -1 16\n",
      " 40 36  7 26 -1  7  7 41 38 35  9 42 14  7 36 43 44 -1 -1 38  7 45 27 17 46\n",
      " 29 47 21 43 27 48  7 33 -1  9 13 17 49 50 45 51 24 26 51  9 32 52  2 -1 29\n",
      " 36  1 53 24  7 43 54 26 46 27 26 55 56 57 58 33 17 33 33 35 39 -1 33  3 33\n",
      "  7  3 59 33  7 60  4 61 24 54 28 17 62 54 50  2  2 18 22 24 18 60 -1 63 55\n",
      " 57 -1 60 63 13  9 33 29 -1  7  9 35 17 10 -1 19 64 52 65 -1 22 29 24 36 11\n",
      " 24  7  1 -1 -1  2 24 48 27 54 52 37 -1  8 12 48 46 54 33 -1 -1 14 66 -1 34\n",
      " 33 42 16 38 67  5  7 38 33 -1  7 68 -1 15 32 33 27 17 17 64 39 33  7 -1 38\n",
      " 39 35  2 33 40 -1 34 -1 54 69 70 -1 21 43 33 27 -1 -1 10 71 29  4 69  1 24\n",
      "  7  5 27  7 17 -1 68  7  7 64 36 45 36 72  7 25 -1 46 33 29 41 62  5 36 -1\n",
      " 29 -1 -1 33  7 10 17 25 -1  7 33 -1 42 29 54 32  9 33 -1 56 -1  3  7 -1 -1\n",
      " 29 42 67 -1 21  3 -1 -1 25 29 17 54 73 14 54 25 29 39 37 25  7 69  7 70 74\n",
      "  0 64 26 22 -1 13 33 35 33 32 29 33 27 17  3  7  7  3 -1 17 33 31 27 45 -1\n",
      " 36  7 75 54 27 75 17  0 -1  5 70 -1 45  9 16 33 27 -1 54 76  3 71 -1 41  6\n",
      " 35 50  7 27 16 -1 43 25 54 49 47 17 17  5 -1 25 43 17 62 17 31  7 70 -1 -1\n",
      " -1 70 70 27 33 -1 75 54 28 54 70 -1 14 -1 28 74 43 24  3 19 58  3  4 36 22\n",
      " 25 53 44 -1 19 72 70 51 30 38 35 36 10 77 -1 19 -1 70 61 -1 -1  3 -1 20 -1\n",
      " -1  3 17 22 10 45  8  5 14  0 -1  3 68 77  3 51 27  3 51 -1 36 -1  9  9 54\n",
      " 54 78 78  5  5 31 57  7  7 33 70 78 32 57 76 79 79 59  5 57 53 70 80  5 35\n",
      " 57 57 35 35  7  7  5 54 33 33 66 66 33  7  7  7 33 33 54 54  7 33 21 76 76\n",
      " 76 33 33 75 33 36  7  7  7 33 26 81 35  5  5  5 33 33  7  5  5  5  5  7 70\n",
      " 70 54  7 70 33 80 70 -1 80 73  7 36  7  7 33  7  7  8 54 54 57 81 33  7  7\n",
      " 35  5  5 79 21 21 65 75  7 33  7 53 57 21 32 52 52 52 21  7 33 33 70 70 75\n",
      " 75 33 21 32 21 55 52 21 69 69 70  7 33 52 21]\n"
     ]
    }
   ],
   "source": [
    "#eps =  0.25 min_samples =  2\n",
    "#Silhouette Coefficient: 0.547\n",
    "\n",
    "dbst = DBSCAN(eps= 0.25, min_samples=2, n_jobs=-1)\n",
    "dbst.fit_predict(shoot_scaled)\n",
    "labels = dbst.labels_\n",
    "print(labels)\n",
    "dbshoot = labels"
   ]
  },
  {
   "cell_type": "code",
   "execution_count": null,
   "metadata": {},
   "outputs": [],
   "source": []
  },
  {
   "cell_type": "code",
   "execution_count": null,
   "metadata": {},
   "outputs": [],
   "source": []
  },
  {
   "cell_type": "markdown",
   "metadata": {},
   "source": [
    "# But what does it mean?"
   ]
  },
  {
   "cell_type": "code",
   "execution_count": 15,
   "metadata": {},
   "outputs": [],
   "source": [
    "clean_cust = pd.read_csv('clean_custody.csv')\n",
    "clean_shoot = pd.read_csv('clean_shootings.csv')"
   ]
  },
  {
   "cell_type": "code",
   "execution_count": 16,
   "metadata": {},
   "outputs": [],
   "source": [
    "cust['kmeans']=kmeans_cust"
   ]
  },
  {
   "cell_type": "code",
   "execution_count": 28,
   "metadata": {},
   "outputs": [],
   "source": [
    "cust['spectral'] = spectral_cust"
   ]
  },
  {
   "cell_type": "code",
   "execution_count": 29,
   "metadata": {},
   "outputs": [
    {
     "data": {
      "text/html": [
       "<div>\n",
       "<style scoped>\n",
       "    .dataframe tbody tr th:only-of-type {\n",
       "        vertical-align: middle;\n",
       "    }\n",
       "\n",
       "    .dataframe tbody tr th {\n",
       "        vertical-align: top;\n",
       "    }\n",
       "\n",
       "    .dataframe thead th {\n",
       "        text-align: right;\n",
       "    }\n",
       "</style>\n",
       "<table border=\"1\" class=\"dataframe\">\n",
       "  <thead>\n",
       "    <tr style=\"text-align: right;\">\n",
       "      <th></th>\n",
       "      <th>custody_type</th>\n",
       "      <th>race</th>\n",
       "      <th>death_type</th>\n",
       "      <th>age</th>\n",
       "      <th>kmeans</th>\n",
       "      <th>spectral</th>\n",
       "    </tr>\n",
       "  </thead>\n",
       "  <tbody>\n",
       "    <tr>\n",
       "      <th>0</th>\n",
       "      <td>2</td>\n",
       "      <td>4</td>\n",
       "      <td>5</td>\n",
       "      <td>58.0</td>\n",
       "      <td>0</td>\n",
       "      <td>7</td>\n",
       "    </tr>\n",
       "    <tr>\n",
       "      <th>1</th>\n",
       "      <td>2</td>\n",
       "      <td>3</td>\n",
       "      <td>5</td>\n",
       "      <td>76.0</td>\n",
       "      <td>0</td>\n",
       "      <td>7</td>\n",
       "    </tr>\n",
       "    <tr>\n",
       "      <th>2</th>\n",
       "      <td>1</td>\n",
       "      <td>4</td>\n",
       "      <td>6</td>\n",
       "      <td>30.0</td>\n",
       "      <td>2</td>\n",
       "      <td>7</td>\n",
       "    </tr>\n",
       "    <tr>\n",
       "      <th>3</th>\n",
       "      <td>2</td>\n",
       "      <td>1</td>\n",
       "      <td>1</td>\n",
       "      <td>39.0</td>\n",
       "      <td>3</td>\n",
       "      <td>4</td>\n",
       "    </tr>\n",
       "    <tr>\n",
       "      <th>4</th>\n",
       "      <td>2</td>\n",
       "      <td>1</td>\n",
       "      <td>5</td>\n",
       "      <td>31.0</td>\n",
       "      <td>6</td>\n",
       "      <td>0</td>\n",
       "    </tr>\n",
       "  </tbody>\n",
       "</table>\n",
       "</div>"
      ],
      "text/plain": [
       "   custody_type  race  death_type   age  kmeans  spectral\n",
       "0             2     4           5  58.0       0         7\n",
       "1             2     3           5  76.0       0         7\n",
       "2             1     4           6  30.0       2         7\n",
       "3             2     1           1  39.0       3         4\n",
       "4             2     1           5  31.0       6         0"
      ]
     },
     "execution_count": 29,
     "metadata": {},
     "output_type": "execute_result"
    }
   ],
   "source": [
    "cust.head()"
   ]
  },
  {
   "cell_type": "code",
   "execution_count": 25,
   "metadata": {
    "collapsed": true
   },
   "outputs": [
    {
     "name": "stdout",
     "output_type": "stream",
     "text": [
      "0    2551\n",
      "1    2027\n",
      "6     792\n",
      "4     789\n",
      "2     617\n",
      "5     487\n",
      "3     466\n",
      "Name: kmeans, dtype: int64\n",
      "0    0.330056\n",
      "1    0.262259\n",
      "6    0.102471\n",
      "4    0.102083\n",
      "2    0.079829\n",
      "5    0.063009\n",
      "3    0.060292\n",
      "Name: kmeans, dtype: float64\n"
     ]
    }
   ],
   "source": [
    "# looks at % in each cluster of Kmeans model for Custody data\n",
    "cust_kmean = cust['kmeans'].value_counts()\n",
    "cuskm_perct= cust_kmean / len(cust['kmeans'])\n",
    "print(cust_kmean)\n",
    "print(cuskm_perct)"
   ]
  },
  {
   "cell_type": "code",
   "execution_count": 30,
   "metadata": {
    "collapsed": true
   },
   "outputs": [
    {
     "name": "stdout",
     "output_type": "stream",
     "text": [
      "7    2762\n",
      "0    2016\n",
      "1     687\n",
      "6     685\n",
      "3     586\n",
      "4     480\n",
      "5     328\n",
      "2     185\n",
      "Name: spectral, dtype: int64\n",
      "7    0.357355\n",
      "0    0.260836\n",
      "1    0.088886\n",
      "6    0.088627\n",
      "3    0.075818\n",
      "4    0.062104\n",
      "5    0.042438\n",
      "2    0.023936\n",
      "Name: spectral, dtype: float64\n"
     ]
    }
   ],
   "source": [
    "# looks at % in each cluster of Spectral model for Custody data\n",
    "cust_spect = cust['spectral'].value_counts()\n",
    "cussp_perct= cust_spect / len(cust['spectral'])\n",
    "print(cust_spect)\n",
    "print(cussp_perct)"
   ]
  },
  {
   "cell_type": "code",
   "execution_count": null,
   "metadata": {},
   "outputs": [],
   "source": []
  },
  {
   "cell_type": "code",
   "execution_count": 19,
   "metadata": {},
   "outputs": [],
   "source": [
    "shoot['kmeans']=kmeans_shoot"
   ]
  },
  {
   "cell_type": "code",
   "execution_count": 20,
   "metadata": {},
   "outputs": [],
   "source": [
    "shoot['affpro']= affpro_shoot"
   ]
  },
  {
   "cell_type": "code",
   "execution_count": 21,
   "metadata": {},
   "outputs": [],
   "source": [
    "shoot['spectral'] = spectral_shoot"
   ]
  },
  {
   "cell_type": "code",
   "execution_count": 22,
   "metadata": {},
   "outputs": [],
   "source": [
    "shoot['dbscan']= dbshoot"
   ]
  },
  {
   "cell_type": "code",
   "execution_count": 23,
   "metadata": {},
   "outputs": [
    {
     "data": {
      "text/html": [
       "<div>\n",
       "<style scoped>\n",
       "    .dataframe tbody tr th:only-of-type {\n",
       "        vertical-align: middle;\n",
       "    }\n",
       "\n",
       "    .dataframe tbody tr th {\n",
       "        vertical-align: top;\n",
       "    }\n",
       "\n",
       "    .dataframe thead th {\n",
       "        text-align: right;\n",
       "    }\n",
       "</style>\n",
       "<table border=\"1\" class=\"dataframe\">\n",
       "  <thead>\n",
       "    <tr style=\"text-align: right;\">\n",
       "      <th></th>\n",
       "      <th>age</th>\n",
       "      <th>fatality</th>\n",
       "      <th>armed</th>\n",
       "      <th>race</th>\n",
       "      <th>mult_officers</th>\n",
       "      <th>kmeans</th>\n",
       "      <th>affpro</th>\n",
       "      <th>spectral</th>\n",
       "      <th>dbscan</th>\n",
       "    </tr>\n",
       "  </thead>\n",
       "  <tbody>\n",
       "    <tr>\n",
       "      <th>0</th>\n",
       "      <td>26.0</td>\n",
       "      <td>0</td>\n",
       "      <td>2</td>\n",
       "      <td>4</td>\n",
       "      <td>0</td>\n",
       "      <td>0</td>\n",
       "      <td>3</td>\n",
       "      <td>1</td>\n",
       "      <td>0</td>\n",
       "    </tr>\n",
       "    <tr>\n",
       "      <th>1</th>\n",
       "      <td>16.0</td>\n",
       "      <td>0</td>\n",
       "      <td>2</td>\n",
       "      <td>2</td>\n",
       "      <td>0</td>\n",
       "      <td>0</td>\n",
       "      <td>33</td>\n",
       "      <td>1</td>\n",
       "      <td>1</td>\n",
       "    </tr>\n",
       "    <tr>\n",
       "      <th>2</th>\n",
       "      <td>26.0</td>\n",
       "      <td>0</td>\n",
       "      <td>2</td>\n",
       "      <td>0</td>\n",
       "      <td>1</td>\n",
       "      <td>8</td>\n",
       "      <td>16</td>\n",
       "      <td>6</td>\n",
       "      <td>-1</td>\n",
       "    </tr>\n",
       "    <tr>\n",
       "      <th>3</th>\n",
       "      <td>35.0</td>\n",
       "      <td>0</td>\n",
       "      <td>0</td>\n",
       "      <td>4</td>\n",
       "      <td>0</td>\n",
       "      <td>7</td>\n",
       "      <td>1</td>\n",
       "      <td>8</td>\n",
       "      <td>2</td>\n",
       "    </tr>\n",
       "    <tr>\n",
       "      <th>4</th>\n",
       "      <td>30.0</td>\n",
       "      <td>0</td>\n",
       "      <td>2</td>\n",
       "      <td>2</td>\n",
       "      <td>0</td>\n",
       "      <td>0</td>\n",
       "      <td>32</td>\n",
       "      <td>1</td>\n",
       "      <td>3</td>\n",
       "    </tr>\n",
       "  </tbody>\n",
       "</table>\n",
       "</div>"
      ],
      "text/plain": [
       "    age  fatality  armed  race  mult_officers  kmeans  affpro  spectral  \\\n",
       "0  26.0         0      2     4              0       0       3         1   \n",
       "1  16.0         0      2     2              0       0      33         1   \n",
       "2  26.0         0      2     0              1       8      16         6   \n",
       "3  35.0         0      0     4              0       7       1         8   \n",
       "4  30.0         0      2     2              0       0      32         1   \n",
       "\n",
       "   dbscan  \n",
       "0       0  \n",
       "1       1  \n",
       "2      -1  \n",
       "3       2  \n",
       "4       3  "
      ]
     },
     "execution_count": 23,
     "metadata": {},
     "output_type": "execute_result"
    }
   ],
   "source": [
    "shoot.head()"
   ]
  },
  {
   "cell_type": "code",
   "execution_count": 24,
   "metadata": {
    "collapsed": true
   },
   "outputs": [
    {
     "name": "stdout",
     "output_type": "stream",
     "text": [
      "3    128\n",
      "1    118\n",
      "4     73\n",
      "0     61\n",
      "6     59\n",
      "7     56\n",
      "2     54\n",
      "5     47\n",
      "8     44\n",
      "Name: kmeans, dtype: int64\n",
      "3    0.200000\n",
      "1    0.184375\n",
      "4    0.114062\n",
      "0    0.095312\n",
      "6    0.092188\n",
      "7    0.087500\n",
      "2    0.084375\n",
      "5    0.073438\n",
      "8    0.068750\n",
      "Name: kmeans, dtype: float64\n"
     ]
    }
   ],
   "source": [
    "# looks at % in each cluster of Kmeans model for Shooting data\n",
    "shoot_kmean = shoot['kmeans'].value_counts()\n",
    "shkm_perct= shoot_kmean / len(shoot['kmeans'])\n",
    "print(shoot_kmean)\n",
    "print(shkm_perct)"
   ]
  },
  {
   "cell_type": "code",
   "execution_count": 32,
   "metadata": {
    "collapsed": true
   },
   "outputs": [
    {
     "name": "stdout",
     "output_type": "stream",
     "text": [
      "15    51\n",
      "37    49\n",
      "26    29\n",
      "17    28\n",
      "16    27\n",
      "38    27\n",
      "18    27\n",
      "32    25\n",
      "39    22\n",
      "22    21\n",
      "36    20\n",
      "28    18\n",
      "6     17\n",
      "33    17\n",
      "25    17\n",
      "35    17\n",
      "3     16\n",
      "9     16\n",
      "23    15\n",
      "30    15\n",
      "8     14\n",
      "20    12\n",
      "7     12\n",
      "1     11\n",
      "14    11\n",
      "10    11\n",
      "29    10\n",
      "5     10\n",
      "2      8\n",
      "13     7\n",
      "31     7\n",
      "34     7\n",
      "19     6\n",
      "11     6\n",
      "12     6\n",
      "21     6\n",
      "27     6\n",
      "0      6\n",
      "4      5\n",
      "24     5\n",
      "Name: affpro, dtype: int64\n",
      "15    0.079687\n",
      "37    0.076563\n",
      "26    0.045312\n",
      "17    0.043750\n",
      "16    0.042188\n",
      "38    0.042188\n",
      "18    0.042188\n",
      "32    0.039062\n",
      "39    0.034375\n",
      "22    0.032813\n",
      "36    0.031250\n",
      "28    0.028125\n",
      "6     0.026562\n",
      "33    0.026562\n",
      "25    0.026562\n",
      "35    0.026562\n",
      "3     0.025000\n",
      "9     0.025000\n",
      "23    0.023438\n",
      "30    0.023438\n",
      "8     0.021875\n",
      "20    0.018750\n",
      "7     0.018750\n",
      "1     0.017188\n",
      "14    0.017188\n",
      "10    0.017188\n",
      "29    0.015625\n",
      "5     0.015625\n",
      "2     0.012500\n",
      "13    0.010937\n",
      "31    0.010937\n",
      "34    0.010937\n",
      "19    0.009375\n",
      "11    0.009375\n",
      "12    0.009375\n",
      "21    0.009375\n",
      "27    0.009375\n",
      "0     0.009375\n",
      "4     0.007812\n",
      "24    0.007812\n",
      "Name: affpro, dtype: float64\n"
     ]
    }
   ],
   "source": [
    "# looks at % in each cluster of Affinity Propogation model for Shooting data\n",
    "shoot_affpro = shoot['affpro'].value_counts()\n",
    "shap_perct= shoot_affpro / len(shoot['affpro'])\n",
    "print(shoot_affpro)\n",
    "print(shap_perct)"
   ]
  },
  {
   "cell_type": "code",
   "execution_count": 33,
   "metadata": {},
   "outputs": [
    {
     "name": "stdout",
     "output_type": "stream",
     "text": [
      "3     127\n",
      "2     116\n",
      "10     79\n",
      "1      58\n",
      "7      50\n",
      "4      45\n",
      "0      42\n",
      "8      33\n",
      "9      32\n",
      "5      31\n",
      "6      27\n",
      "Name: spectral, dtype: int64\n",
      "3     0.198437\n",
      "2     0.181250\n",
      "10    0.123438\n",
      "1     0.090625\n",
      "7     0.078125\n",
      "4     0.070312\n",
      "0     0.065625\n",
      "8     0.051562\n",
      "9     0.050000\n",
      "5     0.048438\n",
      "6     0.042188\n",
      "Name: spectral, dtype: float64\n"
     ]
    }
   ],
   "source": [
    "# looks at % in each cluster of Spectral model for Shooting data\n",
    "shoot_spect = shoot['spectral'].value_counts()\n",
    "shsp_perct= shoot_spect / len(shoot['spectral'])\n",
    "print(shoot_spect)\n",
    "print(shsp_perct)"
   ]
  },
  {
   "cell_type": "code",
   "execution_count": 34,
   "metadata": {
    "collapsed": true
   },
   "outputs": [
    {
     "name": "stdout",
     "output_type": "stream",
     "text": [
      "-1     74\n",
      " 7     62\n",
      " 33    48\n",
      " 54    22\n",
      " 5     22\n",
      " 17    21\n",
      " 70    18\n",
      " 3     15\n",
      " 27    15\n",
      " 36    14\n",
      " 29    14\n",
      " 21    14\n",
      " 35    13\n",
      " 9     12\n",
      " 24    11\n",
      " 25    10\n",
      " 32     9\n",
      " 57     9\n",
      " 26     8\n",
      " 52     8\n",
      " 22     7\n",
      " 14     7\n",
      " 75     7\n",
      " 38     7\n",
      " 43     7\n",
      " 10     6\n",
      " 2      6\n",
      " 45     6\n",
      " 0      6\n",
      " 51     5\n",
      "       ..\n",
      " 41     3\n",
      " 50     3\n",
      " 62     3\n",
      " 34     3\n",
      " 48     3\n",
      " 60     3\n",
      " 37     3\n",
      " 77     2\n",
      " 74     2\n",
      " 58     2\n",
      " 44     2\n",
      " 56     2\n",
      " 6      2\n",
      " 12     2\n",
      " 47     2\n",
      " 49     2\n",
      " 11     2\n",
      " 30     2\n",
      " 81     2\n",
      " 63     2\n",
      " 15     2\n",
      " 40     2\n",
      " 72     2\n",
      " 59     2\n",
      " 71     2\n",
      " 61     2\n",
      " 23     2\n",
      " 67     2\n",
      " 65     2\n",
      " 73     2\n",
      "Name: dbscan, Length: 83, dtype: int64\n",
      "-1     0.115625\n",
      " 7     0.096875\n",
      " 33    0.075000\n",
      " 54    0.034375\n",
      " 5     0.034375\n",
      " 17    0.032813\n",
      " 70    0.028125\n",
      " 3     0.023438\n",
      " 27    0.023438\n",
      " 36    0.021875\n",
      " 29    0.021875\n",
      " 21    0.021875\n",
      " 35    0.020313\n",
      " 9     0.018750\n",
      " 24    0.017188\n",
      " 25    0.015625\n",
      " 32    0.014063\n",
      " 57    0.014063\n",
      " 26    0.012500\n",
      " 52    0.012500\n",
      " 22    0.010937\n",
      " 14    0.010937\n",
      " 75    0.010937\n",
      " 38    0.010937\n",
      " 43    0.010937\n",
      " 10    0.009375\n",
      " 2     0.009375\n",
      " 45    0.009375\n",
      " 0     0.009375\n",
      " 51    0.007812\n",
      "         ...   \n",
      " 41    0.004687\n",
      " 50    0.004687\n",
      " 62    0.004687\n",
      " 34    0.004687\n",
      " 48    0.004687\n",
      " 60    0.004687\n",
      " 37    0.004687\n",
      " 77    0.003125\n",
      " 74    0.003125\n",
      " 58    0.003125\n",
      " 44    0.003125\n",
      " 56    0.003125\n",
      " 6     0.003125\n",
      " 12    0.003125\n",
      " 47    0.003125\n",
      " 49    0.003125\n",
      " 11    0.003125\n",
      " 30    0.003125\n",
      " 81    0.003125\n",
      " 63    0.003125\n",
      " 15    0.003125\n",
      " 40    0.003125\n",
      " 72    0.003125\n",
      " 59    0.003125\n",
      " 71    0.003125\n",
      " 61    0.003125\n",
      " 23    0.003125\n",
      " 67    0.003125\n",
      " 65    0.003125\n",
      " 73    0.003125\n",
      "Name: dbscan, Length: 83, dtype: float64\n"
     ]
    }
   ],
   "source": [
    "# looks at % in each cluster of DBScan model for Shooting data\n",
    "shoot_db = shoot['dbscan'].value_counts()\n",
    "shdb_perct= shoot_db / len(shoot['dbscan'])\n",
    "print(shoot_db)\n",
    "print(shdb_perct)"
   ]
  },
  {
   "cell_type": "code",
   "execution_count": null,
   "metadata": {},
   "outputs": [],
   "source": []
  },
  {
   "cell_type": "markdown",
   "metadata": {},
   "source": [
    "### In both the \"Custody\" and \"Shooting\" data Spectral clustering performed only slighly better than Kmeans, but had 1-2 more groups. "
   ]
  },
  {
   "cell_type": "code",
   "execution_count": 35,
   "metadata": {},
   "outputs": [],
   "source": [
    "# drop Spectral cluster labels from \"Custody\" df\n",
    "cust.drop('spectral', axis=1, inplace=True)"
   ]
  },
  {
   "cell_type": "code",
   "execution_count": 36,
   "metadata": {},
   "outputs": [],
   "source": [
    "#drop all cluster labels from \"Shoot\" df except Kmeans\n",
    "shoot.drop('spectral', axis=1, inplace=True)\n",
    "shoot.drop('dbscan', axis=1, inplace=True)\n",
    "shoot.drop('affpro', axis=1, inplace=True)"
   ]
  },
  {
   "cell_type": "code",
   "execution_count": null,
   "metadata": {},
   "outputs": [],
   "source": []
  },
  {
   "cell_type": "code",
   "execution_count": null,
   "metadata": {},
   "outputs": [],
   "source": [
    "# for each input metric plot a boxplot and violin plot to get a feel for how distributions differ by cluster\n",
    "for var in df_final.columns[0:30]:\n",
    "    fig, (ax1, ax2) = plt.subplots(ncols=2, sharey=True, figsize=(12,6))\n",
    "    ax1.set_title(var)\n",
    "    ax2.set_title(var)\n",
    "    sns.boxplot(x=\"cluster\", y=var, data=df_final, ax=ax1)\n",
    "    sns.violinplot(x=\"cluster\", y=var, data=df_final, ax=ax2)\n",
    "\n"
   ]
  }
 ],
 "metadata": {
  "kernelspec": {
   "display_name": "Python 3",
   "language": "python",
   "name": "python3"
  },
  "language_info": {
   "codemirror_mode": {
    "name": "ipython",
    "version": 3
   },
   "file_extension": ".py",
   "mimetype": "text/x-python",
   "name": "python",
   "nbconvert_exporter": "python",
   "pygments_lexer": "ipython3",
   "version": "3.6.3"
  }
 },
 "nbformat": 4,
 "nbformat_minor": 2
}
