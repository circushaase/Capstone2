{
 "cells": [
  {
   "cell_type": "code",
   "execution_count": 12,
   "metadata": {},
   "outputs": [
    {
     "data": {
      "text/html": [
       "\n",
       "    <div class=\"bk-root\">\n",
       "        <a href=\"https://bokeh.pydata.org\" target=\"_blank\" class=\"bk-logo bk-logo-small bk-logo-notebook\"></a>\n",
       "        <span id=\"d7d766fa-e50e-417c-bb42-4cb66d5be0f4\">Loading BokehJS ...</span>\n",
       "    </div>"
      ]
     },
     "metadata": {},
     "output_type": "display_data"
    },
    {
     "data": {
      "application/javascript": [
       "\n",
       "(function(root) {\n",
       "  function now() {\n",
       "    return new Date();\n",
       "  }\n",
       "\n",
       "  var force = true;\n",
       "\n",
       "  if (typeof (root._bokeh_onload_callbacks) === \"undefined\" || force === true) {\n",
       "    root._bokeh_onload_callbacks = [];\n",
       "    root._bokeh_is_loading = undefined;\n",
       "  }\n",
       "\n",
       "  var JS_MIME_TYPE = 'application/javascript';\n",
       "  var HTML_MIME_TYPE = 'text/html';\n",
       "  var EXEC_MIME_TYPE = 'application/vnd.bokehjs_exec.v0+json';\n",
       "  var CLASS_NAME = 'output_bokeh rendered_html';\n",
       "\n",
       "  /**\n",
       "   * Render data to the DOM node\n",
       "   */\n",
       "  function render(props, node) {\n",
       "    var script = document.createElement(\"script\");\n",
       "    node.appendChild(script);\n",
       "  }\n",
       "\n",
       "  /**\n",
       "   * Handle when an output is cleared or removed\n",
       "   */\n",
       "  function handleClearOutput(event, handle) {\n",
       "    var cell = handle.cell;\n",
       "\n",
       "    var id = cell.output_area._bokeh_element_id;\n",
       "    var server_id = cell.output_area._bokeh_server_id;\n",
       "    // Clean up Bokeh references\n",
       "    if (id !== undefined) {\n",
       "      Bokeh.index[id].model.document.clear();\n",
       "      delete Bokeh.index[id];\n",
       "    }\n",
       "\n",
       "    if (server_id !== undefined) {\n",
       "      // Clean up Bokeh references\n",
       "      var cmd = \"from bokeh.io.state import curstate; print(curstate().uuid_to_server['\" + server_id + \"'].get_sessions()[0].document.roots[0]._id)\";\n",
       "      cell.notebook.kernel.execute(cmd, {\n",
       "        iopub: {\n",
       "          output: function(msg) {\n",
       "            var element_id = msg.content.text.trim();\n",
       "            Bokeh.index[element_id].model.document.clear();\n",
       "            delete Bokeh.index[element_id];\n",
       "          }\n",
       "        }\n",
       "      });\n",
       "      // Destroy server and session\n",
       "      var cmd = \"import bokeh.io.notebook as ion; ion.destroy_server('\" + server_id + \"')\";\n",
       "      cell.notebook.kernel.execute(cmd);\n",
       "    }\n",
       "  }\n",
       "\n",
       "  /**\n",
       "   * Handle when a new output is added\n",
       "   */\n",
       "  function handleAddOutput(event, handle) {\n",
       "    var output_area = handle.output_area;\n",
       "    var output = handle.output;\n",
       "\n",
       "    // limit handleAddOutput to display_data with EXEC_MIME_TYPE content only\n",
       "    if ((output.output_type != \"display_data\") || (!output.data.hasOwnProperty(EXEC_MIME_TYPE))) {\n",
       "      return\n",
       "    }\n",
       "\n",
       "    var toinsert = output_area.element.find(\".\" + CLASS_NAME.split(' ')[0]);\n",
       "\n",
       "    if (output.metadata[EXEC_MIME_TYPE][\"id\"] !== undefined) {\n",
       "      toinsert[0].firstChild.textContent = output.data[JS_MIME_TYPE];\n",
       "      // store reference to embed id on output_area\n",
       "      output_area._bokeh_element_id = output.metadata[EXEC_MIME_TYPE][\"id\"];\n",
       "    }\n",
       "    if (output.metadata[EXEC_MIME_TYPE][\"server_id\"] !== undefined) {\n",
       "      var bk_div = document.createElement(\"div\");\n",
       "      bk_div.innerHTML = output.data[HTML_MIME_TYPE];\n",
       "      var script_attrs = bk_div.children[0].attributes;\n",
       "      for (var i = 0; i < script_attrs.length; i++) {\n",
       "        toinsert[0].firstChild.setAttribute(script_attrs[i].name, script_attrs[i].value);\n",
       "      }\n",
       "      // store reference to server id on output_area\n",
       "      output_area._bokeh_server_id = output.metadata[EXEC_MIME_TYPE][\"server_id\"];\n",
       "    }\n",
       "  }\n",
       "\n",
       "  function register_renderer(events, OutputArea) {\n",
       "\n",
       "    function append_mime(data, metadata, element) {\n",
       "      // create a DOM node to render to\n",
       "      var toinsert = this.create_output_subarea(\n",
       "        metadata,\n",
       "        CLASS_NAME,\n",
       "        EXEC_MIME_TYPE\n",
       "      );\n",
       "      this.keyboard_manager.register_events(toinsert);\n",
       "      // Render to node\n",
       "      var props = {data: data, metadata: metadata[EXEC_MIME_TYPE]};\n",
       "      render(props, toinsert[0]);\n",
       "      element.append(toinsert);\n",
       "      return toinsert\n",
       "    }\n",
       "\n",
       "    /* Handle when an output is cleared or removed */\n",
       "    events.on('clear_output.CodeCell', handleClearOutput);\n",
       "    events.on('delete.Cell', handleClearOutput);\n",
       "\n",
       "    /* Handle when a new output is added */\n",
       "    events.on('output_added.OutputArea', handleAddOutput);\n",
       "\n",
       "    /**\n",
       "     * Register the mime type and append_mime function with output_area\n",
       "     */\n",
       "    OutputArea.prototype.register_mime_type(EXEC_MIME_TYPE, append_mime, {\n",
       "      /* Is output safe? */\n",
       "      safe: true,\n",
       "      /* Index of renderer in `output_area.display_order` */\n",
       "      index: 0\n",
       "    });\n",
       "  }\n",
       "\n",
       "  // register the mime type if in Jupyter Notebook environment and previously unregistered\n",
       "  if (root.Jupyter !== undefined) {\n",
       "    var events = require('base/js/events');\n",
       "    var OutputArea = require('notebook/js/outputarea').OutputArea;\n",
       "\n",
       "    if (OutputArea.prototype.mime_types().indexOf(EXEC_MIME_TYPE) == -1) {\n",
       "      register_renderer(events, OutputArea);\n",
       "    }\n",
       "  }\n",
       "\n",
       "  \n",
       "  if (typeof (root._bokeh_timeout) === \"undefined\" || force === true) {\n",
       "    root._bokeh_timeout = Date.now() + 5000;\n",
       "    root._bokeh_failed_load = false;\n",
       "  }\n",
       "\n",
       "  var NB_LOAD_WARNING = {'data': {'text/html':\n",
       "     \"<div style='background-color: #fdd'>\\n\"+\n",
       "     \"<p>\\n\"+\n",
       "     \"BokehJS does not appear to have successfully loaded. If loading BokehJS from CDN, this \\n\"+\n",
       "     \"may be due to a slow or bad network connection. Possible fixes:\\n\"+\n",
       "     \"</p>\\n\"+\n",
       "     \"<ul>\\n\"+\n",
       "     \"<li>re-rerun `output_notebook()` to attempt to load from CDN again, or</li>\\n\"+\n",
       "     \"<li>use INLINE resources instead, as so:</li>\\n\"+\n",
       "     \"</ul>\\n\"+\n",
       "     \"<code>\\n\"+\n",
       "     \"from bokeh.resources import INLINE\\n\"+\n",
       "     \"output_notebook(resources=INLINE)\\n\"+\n",
       "     \"</code>\\n\"+\n",
       "     \"</div>\"}};\n",
       "\n",
       "  function display_loaded() {\n",
       "    var el = document.getElementById(\"d7d766fa-e50e-417c-bb42-4cb66d5be0f4\");\n",
       "    if (el != null) {\n",
       "      el.textContent = \"BokehJS is loading...\";\n",
       "    }\n",
       "    if (root.Bokeh !== undefined) {\n",
       "      if (el != null) {\n",
       "        el.textContent = \"BokehJS \" + root.Bokeh.version + \" successfully loaded.\";\n",
       "      }\n",
       "    } else if (Date.now() < root._bokeh_timeout) {\n",
       "      setTimeout(display_loaded, 100)\n",
       "    }\n",
       "  }\n",
       "\n",
       "\n",
       "  function run_callbacks() {\n",
       "    try {\n",
       "      root._bokeh_onload_callbacks.forEach(function(callback) { callback() });\n",
       "    }\n",
       "    finally {\n",
       "      delete root._bokeh_onload_callbacks\n",
       "    }\n",
       "    console.info(\"Bokeh: all callbacks have finished\");\n",
       "  }\n",
       "\n",
       "  function load_libs(js_urls, callback) {\n",
       "    root._bokeh_onload_callbacks.push(callback);\n",
       "    if (root._bokeh_is_loading > 0) {\n",
       "      console.log(\"Bokeh: BokehJS is being loaded, scheduling callback at\", now());\n",
       "      return null;\n",
       "    }\n",
       "    if (js_urls == null || js_urls.length === 0) {\n",
       "      run_callbacks();\n",
       "      return null;\n",
       "    }\n",
       "    console.log(\"Bokeh: BokehJS not loaded, scheduling load and callback at\", now());\n",
       "    root._bokeh_is_loading = js_urls.length;\n",
       "    for (var i = 0; i < js_urls.length; i++) {\n",
       "      var url = js_urls[i];\n",
       "      var s = document.createElement('script');\n",
       "      s.src = url;\n",
       "      s.async = false;\n",
       "      s.onreadystatechange = s.onload = function() {\n",
       "        root._bokeh_is_loading--;\n",
       "        if (root._bokeh_is_loading === 0) {\n",
       "          console.log(\"Bokeh: all BokehJS libraries loaded\");\n",
       "          run_callbacks()\n",
       "        }\n",
       "      };\n",
       "      s.onerror = function() {\n",
       "        console.warn(\"failed to load library \" + url);\n",
       "      };\n",
       "      console.log(\"Bokeh: injecting script tag for BokehJS library: \", url);\n",
       "      document.getElementsByTagName(\"head\")[0].appendChild(s);\n",
       "    }\n",
       "  };var element = document.getElementById(\"d7d766fa-e50e-417c-bb42-4cb66d5be0f4\");\n",
       "  if (element == null) {\n",
       "    console.log(\"Bokeh: ERROR: autoload.js configured with elementid 'd7d766fa-e50e-417c-bb42-4cb66d5be0f4' but no matching script tag was found. \")\n",
       "    return false;\n",
       "  }\n",
       "\n",
       "  var js_urls = [\"https://cdn.pydata.org/bokeh/release/bokeh-0.12.13.min.js\", \"https://cdn.pydata.org/bokeh/release/bokeh-widgets-0.12.13.min.js\", \"https://cdn.pydata.org/bokeh/release/bokeh-tables-0.12.13.min.js\", \"https://cdn.pydata.org/bokeh/release/bokeh-gl-0.12.13.min.js\"];\n",
       "\n",
       "  var inline_js = [\n",
       "    function(Bokeh) {\n",
       "      Bokeh.set_log_level(\"info\");\n",
       "    },\n",
       "    \n",
       "    function(Bokeh) {\n",
       "      \n",
       "    },\n",
       "    function(Bokeh) {\n",
       "      console.log(\"Bokeh: injecting CSS: https://cdn.pydata.org/bokeh/release/bokeh-0.12.13.min.css\");\n",
       "      Bokeh.embed.inject_css(\"https://cdn.pydata.org/bokeh/release/bokeh-0.12.13.min.css\");\n",
       "      console.log(\"Bokeh: injecting CSS: https://cdn.pydata.org/bokeh/release/bokeh-widgets-0.12.13.min.css\");\n",
       "      Bokeh.embed.inject_css(\"https://cdn.pydata.org/bokeh/release/bokeh-widgets-0.12.13.min.css\");\n",
       "      console.log(\"Bokeh: injecting CSS: https://cdn.pydata.org/bokeh/release/bokeh-tables-0.12.13.min.css\");\n",
       "      Bokeh.embed.inject_css(\"https://cdn.pydata.org/bokeh/release/bokeh-tables-0.12.13.min.css\");\n",
       "    }\n",
       "  ];\n",
       "\n",
       "  function run_inline_js() {\n",
       "    \n",
       "    if ((root.Bokeh !== undefined) || (force === true)) {\n",
       "      for (var i = 0; i < inline_js.length; i++) {\n",
       "        inline_js[i].call(root, root.Bokeh);\n",
       "      }if (force === true) {\n",
       "        display_loaded();\n",
       "      }} else if (Date.now() < root._bokeh_timeout) {\n",
       "      setTimeout(run_inline_js, 100);\n",
       "    } else if (!root._bokeh_failed_load) {\n",
       "      console.log(\"Bokeh: BokehJS failed to load within specified timeout.\");\n",
       "      root._bokeh_failed_load = true;\n",
       "    } else if (force !== true) {\n",
       "      var cell = $(document.getElementById(\"d7d766fa-e50e-417c-bb42-4cb66d5be0f4\")).parents('.cell').data().cell;\n",
       "      cell.output_area.append_execute_result(NB_LOAD_WARNING)\n",
       "    }\n",
       "\n",
       "  }\n",
       "\n",
       "  if (root._bokeh_is_loading === 0) {\n",
       "    console.log(\"Bokeh: BokehJS loaded, going straight to plotting\");\n",
       "    run_inline_js();\n",
       "  } else {\n",
       "    load_libs(js_urls, function() {\n",
       "      console.log(\"Bokeh: BokehJS plotting callback run at\", now());\n",
       "      run_inline_js();\n",
       "    });\n",
       "  }\n",
       "}(window));"
      ],
      "application/vnd.bokehjs_load.v0+json": "\n(function(root) {\n  function now() {\n    return new Date();\n  }\n\n  var force = true;\n\n  if (typeof (root._bokeh_onload_callbacks) === \"undefined\" || force === true) {\n    root._bokeh_onload_callbacks = [];\n    root._bokeh_is_loading = undefined;\n  }\n\n  \n\n  \n  if (typeof (root._bokeh_timeout) === \"undefined\" || force === true) {\n    root._bokeh_timeout = Date.now() + 5000;\n    root._bokeh_failed_load = false;\n  }\n\n  var NB_LOAD_WARNING = {'data': {'text/html':\n     \"<div style='background-color: #fdd'>\\n\"+\n     \"<p>\\n\"+\n     \"BokehJS does not appear to have successfully loaded. If loading BokehJS from CDN, this \\n\"+\n     \"may be due to a slow or bad network connection. Possible fixes:\\n\"+\n     \"</p>\\n\"+\n     \"<ul>\\n\"+\n     \"<li>re-rerun `output_notebook()` to attempt to load from CDN again, or</li>\\n\"+\n     \"<li>use INLINE resources instead, as so:</li>\\n\"+\n     \"</ul>\\n\"+\n     \"<code>\\n\"+\n     \"from bokeh.resources import INLINE\\n\"+\n     \"output_notebook(resources=INLINE)\\n\"+\n     \"</code>\\n\"+\n     \"</div>\"}};\n\n  function display_loaded() {\n    var el = document.getElementById(\"d7d766fa-e50e-417c-bb42-4cb66d5be0f4\");\n    if (el != null) {\n      el.textContent = \"BokehJS is loading...\";\n    }\n    if (root.Bokeh !== undefined) {\n      if (el != null) {\n        el.textContent = \"BokehJS \" + root.Bokeh.version + \" successfully loaded.\";\n      }\n    } else if (Date.now() < root._bokeh_timeout) {\n      setTimeout(display_loaded, 100)\n    }\n  }\n\n\n  function run_callbacks() {\n    try {\n      root._bokeh_onload_callbacks.forEach(function(callback) { callback() });\n    }\n    finally {\n      delete root._bokeh_onload_callbacks\n    }\n    console.info(\"Bokeh: all callbacks have finished\");\n  }\n\n  function load_libs(js_urls, callback) {\n    root._bokeh_onload_callbacks.push(callback);\n    if (root._bokeh_is_loading > 0) {\n      console.log(\"Bokeh: BokehJS is being loaded, scheduling callback at\", now());\n      return null;\n    }\n    if (js_urls == null || js_urls.length === 0) {\n      run_callbacks();\n      return null;\n    }\n    console.log(\"Bokeh: BokehJS not loaded, scheduling load and callback at\", now());\n    root._bokeh_is_loading = js_urls.length;\n    for (var i = 0; i < js_urls.length; i++) {\n      var url = js_urls[i];\n      var s = document.createElement('script');\n      s.src = url;\n      s.async = false;\n      s.onreadystatechange = s.onload = function() {\n        root._bokeh_is_loading--;\n        if (root._bokeh_is_loading === 0) {\n          console.log(\"Bokeh: all BokehJS libraries loaded\");\n          run_callbacks()\n        }\n      };\n      s.onerror = function() {\n        console.warn(\"failed to load library \" + url);\n      };\n      console.log(\"Bokeh: injecting script tag for BokehJS library: \", url);\n      document.getElementsByTagName(\"head\")[0].appendChild(s);\n    }\n  };var element = document.getElementById(\"d7d766fa-e50e-417c-bb42-4cb66d5be0f4\");\n  if (element == null) {\n    console.log(\"Bokeh: ERROR: autoload.js configured with elementid 'd7d766fa-e50e-417c-bb42-4cb66d5be0f4' but no matching script tag was found. \")\n    return false;\n  }\n\n  var js_urls = [\"https://cdn.pydata.org/bokeh/release/bokeh-0.12.13.min.js\", \"https://cdn.pydata.org/bokeh/release/bokeh-widgets-0.12.13.min.js\", \"https://cdn.pydata.org/bokeh/release/bokeh-tables-0.12.13.min.js\", \"https://cdn.pydata.org/bokeh/release/bokeh-gl-0.12.13.min.js\"];\n\n  var inline_js = [\n    function(Bokeh) {\n      Bokeh.set_log_level(\"info\");\n    },\n    \n    function(Bokeh) {\n      \n    },\n    function(Bokeh) {\n      console.log(\"Bokeh: injecting CSS: https://cdn.pydata.org/bokeh/release/bokeh-0.12.13.min.css\");\n      Bokeh.embed.inject_css(\"https://cdn.pydata.org/bokeh/release/bokeh-0.12.13.min.css\");\n      console.log(\"Bokeh: injecting CSS: https://cdn.pydata.org/bokeh/release/bokeh-widgets-0.12.13.min.css\");\n      Bokeh.embed.inject_css(\"https://cdn.pydata.org/bokeh/release/bokeh-widgets-0.12.13.min.css\");\n      console.log(\"Bokeh: injecting CSS: https://cdn.pydata.org/bokeh/release/bokeh-tables-0.12.13.min.css\");\n      Bokeh.embed.inject_css(\"https://cdn.pydata.org/bokeh/release/bokeh-tables-0.12.13.min.css\");\n    }\n  ];\n\n  function run_inline_js() {\n    \n    if ((root.Bokeh !== undefined) || (force === true)) {\n      for (var i = 0; i < inline_js.length; i++) {\n        inline_js[i].call(root, root.Bokeh);\n      }if (force === true) {\n        display_loaded();\n      }} else if (Date.now() < root._bokeh_timeout) {\n      setTimeout(run_inline_js, 100);\n    } else if (!root._bokeh_failed_load) {\n      console.log(\"Bokeh: BokehJS failed to load within specified timeout.\");\n      root._bokeh_failed_load = true;\n    } else if (force !== true) {\n      var cell = $(document.getElementById(\"d7d766fa-e50e-417c-bb42-4cb66d5be0f4\")).parents('.cell').data().cell;\n      cell.output_area.append_execute_result(NB_LOAD_WARNING)\n    }\n\n  }\n\n  if (root._bokeh_is_loading === 0) {\n    console.log(\"Bokeh: BokehJS loaded, going straight to plotting\");\n    run_inline_js();\n  } else {\n    load_libs(js_urls, function() {\n      console.log(\"Bokeh: BokehJS plotting callback run at\", now());\n      run_inline_js();\n    });\n  }\n}(window));"
     },
     "metadata": {},
     "output_type": "display_data"
    }
   ],
   "source": [
    "import pandas as pd\n",
    "import numpy as np\n",
    "#import matplotlib.pyplot as plt\n",
    "#%pylab inline\n",
    "#import seaborn as sns\n",
    "from bokeh.core.properties import value\n",
    "from bokeh.io import show, output_notebook\n",
    "from bokeh.plotting import *\n",
    "from bokeh.models import ColumnDataSource, FactorRange\n",
    "from bokeh.palettes import Spectral6, Spectral8, Category20\n",
    "from bokeh.transform import factor_cmap\n",
    "\n",
    "output_notebook()\n",
    "\n",
    "cust = pd.read_csv('custodial-deaths.csv')\n",
    "shoot = pd.read_csv('officer_shootings.csv')"
   ]
  },
  {
   "cell_type": "code",
   "execution_count": 13,
   "metadata": {},
   "outputs": [],
   "source": [
    "shoot['state'] = shoot['state'].ffill()"
   ]
  },
  {
   "cell_type": "code",
   "execution_count": 14,
   "metadata": {},
   "outputs": [],
   "source": [
    "shoot = shoot[shoot.state == 'TX']"
   ]
  },
  {
   "cell_type": "code",
   "execution_count": 8,
   "metadata": {},
   "outputs": [
    {
     "data": {
      "text/plain": [
       "440"
      ]
     },
     "execution_count": 8,
     "metadata": {},
     "output_type": "execute_result"
    }
   ],
   "source": [
    "len(cust['Department Name'].value_counts())"
   ]
  },
  {
   "cell_type": "code",
   "execution_count": 15,
   "metadata": {
    "scrolled": true
   },
   "outputs": [],
   "source": [
    "deathtype= list(cust['Manner Death'].unique())"
   ]
  },
  {
   "cell_type": "code",
   "execution_count": 16,
   "metadata": {},
   "outputs": [],
   "source": [
    "eth = list(cust['Ethnicity'].unique())"
   ]
  },
  {
   "cell_type": "code",
   "execution_count": 14,
   "metadata": {},
   "outputs": [],
   "source": [
    "'''\n",
    "create dictionary and use to designate number values to each \"Ethnicity\"\n",
    "ethdict = {'Black or African American':1,'Hispanic or Latino':2, 'Anglo or White': 3, 'Middle East':4, 'Asian':5, 'Native Hawaiian/Pacific Islander':6, 'American Indian/Alaska Native':7, 'Other/Don\\'t Know':8}\n",
    "cust['race'] = [ ethdict[x] for x in cust['Ethnicity'] ]\n",
    "'''"
   ]
  },
  {
   "cell_type": "code",
   "execution_count": 19,
   "metadata": {},
   "outputs": [
    {
     "data": {
      "text/plain": [
       "<matplotlib.axes._subplots.AxesSubplot at 0x1d145741828>"
      ]
     },
     "execution_count": 19,
     "metadata": {},
     "output_type": "execute_result"
    },
    {
     "data": {
      "image/png": "[encoded data removed]",
      "text/plain": [
       "<matplotlib.figure.Figure at 0x1d14573e3c8>"
      ]
     },
     "metadata": {},
     "output_type": "display_data"
    }
   ],
   "source": [
    "cust['Manner Death'].value_counts().plot(kind ='bar',figsize=(10,8), title = 'Manner of Death in Custody')"
   ]
  },
  {
   "cell_type": "code",
   "execution_count": 17,
   "metadata": {},
   "outputs": [
    {
     "name": "stderr",
     "output_type": "stream",
     "text": [
      "C:\\Users\\Lara\\Miniconda3\\lib\\site-packages\\bokeh\\models\\mappers.py:82: UserWarning: Palette length does not match number of factors. ['Homicide by Other', 'Accidental injury caused by others'] will be assigned to `nan_color` gray\n",
      "  warnings.warn(\"Palette length does not match number of factors. %s will be assigned to `nan_color` %s\" % (extra_factors, self.nan_color))\n"
     ]
    },
    {
     "data": {
      "text/html": [
       "\n",
       "<div class=\"bk-root\">\n",
       "    <div class=\"bk-plotdiv\" id=\"fecca53b-cbe6-407a-a2d4-785883a0d286\"></div>\n",
       "</div>"
      ]
     },
     "metadata": {},
     "output_type": "display_data"
    },
    {
     "data": {
      "application/javascript": [
       "(function(root) {\n",
       "  function embed_document(root) {\n",
       "    \n",
       "  var docs_json = {\"607175cd-2d2b-4605-ad9a-943915319c3a\":{\"roots\":{\"references\":[{\"attributes\":{\"below\":[{\"id\":\"ab8bd9c3-f64a-4c90-a023-3545c3e4f41c\",\"type\":\"LinearAxis\"}],\"left\":[{\"id\":\"1c14528b-0f98-4b33-a59f-d53fec493e7e\",\"type\":\"CategoricalAxis\"}],\"plot_height\":500,\"plot_width\":900,\"renderers\":[{\"id\":\"ab8bd9c3-f64a-4c90-a023-3545c3e4f41c\",\"type\":\"LinearAxis\"},{\"id\":\"d8fa1992-7d7a-4dc0-abc7-ca8ac1161062\",\"type\":\"Grid\"},{\"id\":\"1c14528b-0f98-4b33-a59f-d53fec493e7e\",\"type\":\"CategoricalAxis\"},{\"id\":\"8a2d6155-911c-4d05-8ac7-81e285b9f084\",\"type\":\"Grid\"},{\"id\":\"06997773-d81d-4a56-ba54-142469c9a43c\",\"type\":\"Legend\"},{\"id\":\"4f3c233e-74e3-4117-8ca1-78afbc577ed0\",\"type\":\"GlyphRenderer\"}],\"title\":{\"id\":\"81c425b8-a4b5-4c51-904b-075acd362c91\",\"type\":\"Title\"},\"toolbar\":{\"id\":\"54168a5e-e8d3-45df-ab16-c8a8b9aaa4fd\",\"type\":\"Toolbar\"},\"toolbar_location\":null,\"x_range\":{\"id\":\"4dc82961-3635-4d7c-bbc6-2d216a67dc85\",\"type\":\"DataRange1d\"},\"x_scale\":{\"id\":\"20be838e-7c99-4813-9950-67e574d0ffa0\",\"type\":\"LinearScale\"},\"y_range\":{\"id\":\"366c8c84-6def-45ee-a5a2-6e87a12168ee\",\"type\":\"FactorRange\"},\"y_scale\":{\"id\":\"1580af03-ea98-4d2a-89f8-a20e46197911\",\"type\":\"CategoricalScale\"}},\"id\":\"edb31e07-da07-464f-a1c2-08db66f1fe1a\",\"subtype\":\"Figure\",\"type\":\"Plot\"},{\"attributes\":{\"label\":{\"field\":\"deathtype\"},\"renderers\":[{\"id\":\"4f3c233e-74e3-4117-8ca1-78afbc577ed0\",\"type\":\"GlyphRenderer\"}]},\"id\":\"285faed9-fd04-44ad-ae50-5918774fa6f5\",\"type\":\"LegendItem\"},{\"attributes\":{\"active_drag\":\"auto\",\"active_inspect\":\"auto\",\"active_scroll\":\"auto\",\"active_tap\":\"auto\"},\"id\":\"54168a5e-e8d3-45df-ab16-c8a8b9aaa4fd\",\"type\":\"Toolbar\"},{\"attributes\":{\"callback\":null,\"end\":6000,\"start\":0},\"id\":\"4dc82961-3635-4d7c-bbc6-2d216a67dc85\",\"type\":\"DataRange1d\"},{\"attributes\":{\"callback\":null,\"factors\":[\"Natural Causes/Illness\",\"Other\",\"Accidental injury to self\",\"Homicide by Law Enforcement/Correctional Staff\",\"Suicide\",\"Alcohol/Drug Intoxication\",\"Homicide by Other\",\"Accidental injury caused by others\"]},\"id\":\"366c8c84-6def-45ee-a5a2-6e87a12168ee\",\"type\":\"FactorRange\"},{\"attributes\":{\"callback\":null,\"column_names\":[\"deathtype\",\"counts\"],\"data\":{\"counts\":[5266,884,844,284,203,155,72,21],\"deathtype\":[\"Natural Causes/Illness\",\"Other\",\"Accidental injury to self\",\"Homicide by Law Enforcement/Correctional Staff\",\"Suicide\",\"Alcohol/Drug Intoxication\",\"Homicide by Other\",\"Accidental injury caused by others\"]}},\"id\":\"5c96e74c-760c-4b74-8232-ed40e2782928\",\"type\":\"ColumnDataSource\"},{\"attributes\":{},\"id\":\"d2ef054a-008f-4411-a302-4a65fd9a5c37\",\"type\":\"CategoricalTicker\"},{\"attributes\":{},\"id\":\"20be838e-7c99-4813-9950-67e574d0ffa0\",\"type\":\"LinearScale\"},{\"attributes\":{},\"id\":\"04e533d8-c3a7-40c5-a2b1-02b2cb0b24d0\",\"type\":\"BasicTickFormatter\"},{\"attributes\":{\"fill_color\":{\"field\":\"deathtype\",\"transform\":{\"id\":\"a212621f-8317-4a00-9ac7-ae443bb2e99a\",\"type\":\"CategoricalColorMapper\"}},\"height\":{\"value\":0.5},\"line_color\":{\"value\":\"white\"},\"right\":{\"field\":\"counts\"},\"y\":{\"field\":\"deathtype\"}},\"id\":\"6de41471-c243-4225-b546-b101fc05bf18\",\"type\":\"HBar\"},{\"attributes\":{},\"id\":\"162362c1-6a25-40ed-b378-8f1c19bba8c1\",\"type\":\"CategoricalTickFormatter\"},{\"attributes\":{\"source\":{\"id\":\"5c96e74c-760c-4b74-8232-ed40e2782928\",\"type\":\"ColumnDataSource\"}},\"id\":\"2d2c23e5-d5ec-4524-a147-5519bb9cc1f5\",\"type\":\"CDSView\"},{\"attributes\":{\"items\":[{\"id\":\"285faed9-fd04-44ad-ae50-5918774fa6f5\",\"type\":\"LegendItem\"}],\"plot\":{\"id\":\"edb31e07-da07-464f-a1c2-08db66f1fe1a\",\"subtype\":\"Figure\",\"type\":\"Plot\"}},\"id\":\"06997773-d81d-4a56-ba54-142469c9a43c\",\"type\":\"Legend\"},{\"attributes\":{},\"id\":\"e84560ca-5e5c-4556-be09-7ff218feefa1\",\"type\":\"BasicTicker\"},{\"attributes\":{\"formatter\":{\"id\":\"04e533d8-c3a7-40c5-a2b1-02b2cb0b24d0\",\"type\":\"BasicTickFormatter\"},\"plot\":{\"id\":\"edb31e07-da07-464f-a1c2-08db66f1fe1a\",\"subtype\":\"Figure\",\"type\":\"Plot\"},\"ticker\":{\"id\":\"e84560ca-5e5c-4556-be09-7ff218feefa1\",\"type\":\"BasicTicker\"}},\"id\":\"ab8bd9c3-f64a-4c90-a023-3545c3e4f41c\",\"type\":\"LinearAxis\"},{\"attributes\":{\"formatter\":{\"id\":\"162362c1-6a25-40ed-b378-8f1c19bba8c1\",\"type\":\"CategoricalTickFormatter\"},\"plot\":{\"id\":\"edb31e07-da07-464f-a1c2-08db66f1fe1a\",\"subtype\":\"Figure\",\"type\":\"Plot\"},\"ticker\":{\"id\":\"d2ef054a-008f-4411-a302-4a65fd9a5c37\",\"type\":\"CategoricalTicker\"}},\"id\":\"1c14528b-0f98-4b33-a59f-d53fec493e7e\",\"type\":\"CategoricalAxis\"},{\"attributes\":{\"data_source\":{\"id\":\"5c96e74c-760c-4b74-8232-ed40e2782928\",\"type\":\"ColumnDataSource\"},\"glyph\":{\"id\":\"6de41471-c243-4225-b546-b101fc05bf18\",\"type\":\"HBar\"},\"hover_glyph\":null,\"muted_glyph\":null,\"nonselection_glyph\":{\"id\":\"57f43a2e-1e47-41dc-bd06-25b3b0998d8f\",\"type\":\"HBar\"},\"selection_glyph\":null,\"view\":{\"id\":\"2d2c23e5-d5ec-4524-a147-5519bb9cc1f5\",\"type\":\"CDSView\"}},\"id\":\"4f3c233e-74e3-4117-8ca1-78afbc577ed0\",\"type\":\"GlyphRenderer\"},{\"attributes\":{\"grid_line_color\":{\"value\":null},\"plot\":{\"id\":\"edb31e07-da07-464f-a1c2-08db66f1fe1a\",\"subtype\":\"Figure\",\"type\":\"Plot\"},\"ticker\":{\"id\":\"e84560ca-5e5c-4556-be09-7ff218feefa1\",\"type\":\"BasicTicker\"}},\"id\":\"d8fa1992-7d7a-4dc0-abc7-ca8ac1161062\",\"type\":\"Grid\"},{\"attributes\":{\"plot\":null,\"text\":\"Manner of Death in Custody\"},\"id\":\"81c425b8-a4b5-4c51-904b-075acd362c91\",\"type\":\"Title\"},{\"attributes\":{},\"id\":\"1580af03-ea98-4d2a-89f8-a20e46197911\",\"type\":\"CategoricalScale\"},{\"attributes\":{\"dimension\":1,\"plot\":{\"id\":\"edb31e07-da07-464f-a1c2-08db66f1fe1a\",\"subtype\":\"Figure\",\"type\":\"Plot\"},\"ticker\":{\"id\":\"d2ef054a-008f-4411-a302-4a65fd9a5c37\",\"type\":\"CategoricalTicker\"}},\"id\":\"8a2d6155-911c-4d05-8ac7-81e285b9f084\",\"type\":\"Grid\"},{\"attributes\":{\"factors\":[\"Natural Causes/Illness\",\"Other\",\"Accidental injury to self\",\"Homicide by Law Enforcement/Correctional Staff\",\"Suicide\",\"Alcohol/Drug Intoxication\",\"Homicide by Other\",\"Accidental injury caused by others\"],\"palette\":[\"#3288bd\",\"#66c2a5\",\"#abdda4\",\"#e6f598\",\"#fee08b\",\"#fdae61\",\"#f46d43\",\"#d53e4f\"]},\"id\":\"a212621f-8317-4a00-9ac7-ae443bb2e99a\",\"type\":\"CategoricalColorMapper\"},{\"attributes\":{\"fill_alpha\":{\"value\":0.1},\"fill_color\":{\"value\":\"#1f77b4\"},\"height\":{\"value\":0.5},\"line_alpha\":{\"value\":0.1},\"line_color\":{\"value\":\"#1f77b4\"},\"right\":{\"field\":\"counts\"},\"y\":{\"field\":\"deathtype\"}},\"id\":\"57f43a2e-1e47-41dc-bd06-25b3b0998d8f\",\"type\":\"HBar\"}],\"root_ids\":[\"edb31e07-da07-464f-a1c2-08db66f1fe1a\"]},\"title\":\"Bokeh Application\",\"version\":\"0.12.13\"}};\n",
       "  var render_items = [{\"docid\":\"607175cd-2d2b-4605-ad9a-943915319c3a\",\"elementid\":\"fecca53b-cbe6-407a-a2d4-785883a0d286\",\"modelid\":\"edb31e07-da07-464f-a1c2-08db66f1fe1a\"}];\n",
       "  root.Bokeh.embed.embed_items_notebook(docs_json, render_items);\n",
       "\n",
       "  }\n",
       "  if (root.Bokeh !== undefined) {\n",
       "    embed_document(root);\n",
       "  } else {\n",
       "    var attempts = 0;\n",
       "    var timer = setInterval(function(root) {\n",
       "      if (root.Bokeh !== undefined) {\n",
       "        embed_document(root);\n",
       "        clearInterval(timer);\n",
       "      }\n",
       "      attempts++;\n",
       "      if (attempts > 100) {\n",
       "        console.log(\"Bokeh: ERROR: Unable to run BokehJS code because BokehJS library is missing\")\n",
       "        clearInterval(timer);\n",
       "      }\n",
       "    }, 10, root)\n",
       "  }\n",
       "})(window);"
      ],
      "application/vnd.bokehjs_exec.v0+json": ""
     },
     "metadata": {
      "application/vnd.bokehjs_exec.v0+json": {
       "id": "edb31e07-da07-464f-a1c2-08db66f1fe1a"
      }
     },
     "output_type": "display_data"
    }
   ],
   "source": [
    "counts = cust['Manner Death'].value_counts()\n",
    "\n",
    "source = ColumnDataSource(data=dict(deathtype=deathtype, counts=counts))\n",
    "\n",
    "p = figure(y_range=deathtype, plot_height=500, plot_width=900, title=\"Manner of Death in Custody\",\n",
    "           toolbar_location=None, tools=\"\")\n",
    "\n",
    "p.hbar(y='deathtype', right='counts', height=0.5, color='color', legend=\"deathtype\", source=source, \n",
    "       line_color='white', fill_color=factor_cmap('deathtype', palette=Spectral8, factors=deathtype))\n",
    "\n",
    "factor_cmap('deathtype', palette=Spectral6, factors=deathtype)\n",
    "\n",
    "p.xgrid.grid_line_color = None\n",
    "p.x_range.start = 0\n",
    "p.x_range.end = 6000\n",
    "p.legend.orientation = \"vertical\"\n",
    "p.legend.location = \"top_right\"\n",
    "\n",
    "show(p)"
   ]
  },
  {
   "cell_type": "code",
   "execution_count": 39,
   "metadata": {
    "scrolled": true
   },
   "outputs": [
    {
     "name": "stderr",
     "output_type": "stream",
     "text": [
      "C:\\Users\\Lara\\Miniconda3\\lib\\site-packages\\bokeh\\models\\mappers.py:82: UserWarning: Palette length does not match number of factors. ['Homicide by Other', 'Accidental injury caused by others'] will be assigned to `nan_color` gray\n",
      "  warnings.warn(\"Palette length does not match number of factors. %s will be assigned to `nan_color` %s\" % (extra_factors, self.nan_color))\n"
     ]
    },
    {
     "data": {
      "text/html": [
       "\n",
       "<div class=\"bk-root\">\n",
       "    <div class=\"bk-plotdiv\" id=\"15160c29-cf16-4b0b-a911-9f8674da7aa2\"></div>\n",
       "</div>"
      ]
     },
     "metadata": {},
     "output_type": "display_data"
    },
    {
     "data": {
      "application/javascript": [
       "(function(root) {\n",
       "  function embed_document(root) {\n",
       "    \n",
       "  var docs_json = {\"283092be-80cf-468f-a9a8-e24538029f7e\":{\"roots\":{\"references\":[{\"attributes\":{},\"id\":\"d51a406b-9100-48e4-996d-edba4a56a02a\",\"type\":\"CategoricalScale\"},{\"attributes\":{\"grid_line_color\":{\"value\":null},\"plot\":{\"id\":\"5dccd453-597b-4539-add1-fb6cd87878ef\",\"subtype\":\"Figure\",\"type\":\"Plot\"},\"ticker\":{\"id\":\"bd69e704-a6c1-4660-a59e-ea45bc44b8b5\",\"type\":\"BasicTicker\"}},\"id\":\"0ef00aaa-e956-4095-94c9-9086c1758cd9\",\"type\":\"Grid\"},{\"attributes\":{\"formatter\":{\"id\":\"2aa0584d-170e-4ca1-9ba3-168c0d6dcd65\",\"type\":\"BasicTickFormatter\"},\"plot\":{\"id\":\"5dccd453-597b-4539-add1-fb6cd87878ef\",\"subtype\":\"Figure\",\"type\":\"Plot\"},\"ticker\":{\"id\":\"bd69e704-a6c1-4660-a59e-ea45bc44b8b5\",\"type\":\"BasicTicker\"}},\"id\":\"17758ef9-a0e4-4644-af93-207e604d9f85\",\"type\":\"LinearAxis\"},{\"attributes\":{},\"id\":\"bd69e704-a6c1-4660-a59e-ea45bc44b8b5\",\"type\":\"BasicTicker\"},{\"attributes\":{\"formatter\":{\"id\":\"a8c03fa3-27f1-49ed-983c-61473208de64\",\"type\":\"CategoricalTickFormatter\"},\"plot\":{\"id\":\"5dccd453-597b-4539-add1-fb6cd87878ef\",\"subtype\":\"Figure\",\"type\":\"Plot\"},\"ticker\":{\"id\":\"c1427154-b26a-49d0-b25e-5e857f46dc15\",\"type\":\"CategoricalTicker\"}},\"id\":\"c58d6b91-0445-4bf7-9425-bcb94e6114ef\",\"type\":\"CategoricalAxis\"},{\"attributes\":{},\"id\":\"c1427154-b26a-49d0-b25e-5e857f46dc15\",\"type\":\"CategoricalTicker\"},{\"attributes\":{\"plot\":null,\"text\":\"Ethnicity of Deaths in Custody\"},\"id\":\"4a4d547c-4874-4240-b247-9efa302e2242\",\"type\":\"Title\"},{\"attributes\":{\"dimension\":1,\"plot\":{\"id\":\"5dccd453-597b-4539-add1-fb6cd87878ef\",\"subtype\":\"Figure\",\"type\":\"Plot\"},\"ticker\":{\"id\":\"c1427154-b26a-49d0-b25e-5e857f46dc15\",\"type\":\"CategoricalTicker\"}},\"id\":\"0c39c278-219e-45d6-94e0-0c62480921ee\",\"type\":\"Grid\"},{\"attributes\":{\"callback\":null,\"column_names\":[\"eth\",\"counts\"],\"data\":{\"counts\":[3228,2274,2117,46,34,13,12,5],\"eth\":[\"Hispanic or Latino\",\"Black or African American\",\"Anglo or White\",\"Middle East\",\"Asian\",\"Other/Don't Know\",\"Native Hawaiian/Pacific Islander\",\"American Indian/Alaska Native\"]}},\"id\":\"7283a161-ea82-49ac-b0c7-ff282ff61a31\",\"type\":\"ColumnDataSource\"},{\"attributes\":{\"fill_color\":{\"field\":\"eth\",\"transform\":{\"id\":\"518c7a79-0575-4b63-9971-c315e0e2afd1\",\"type\":\"CategoricalColorMapper\"}},\"height\":{\"value\":0.5},\"line_color\":{\"value\":\"white\"},\"right\":{\"field\":\"counts\"},\"y\":{\"field\":\"eth\"}},\"id\":\"299bdf1a-40f4-4fbe-abdb-6dfa709e4de5\",\"type\":\"HBar\"},{\"attributes\":{\"below\":[{\"id\":\"17758ef9-a0e4-4644-af93-207e604d9f85\",\"type\":\"LinearAxis\"}],\"left\":[{\"id\":\"c58d6b91-0445-4bf7-9425-bcb94e6114ef\",\"type\":\"CategoricalAxis\"}],\"plot_height\":500,\"plot_width\":900,\"renderers\":[{\"id\":\"17758ef9-a0e4-4644-af93-207e604d9f85\",\"type\":\"LinearAxis\"},{\"id\":\"0ef00aaa-e956-4095-94c9-9086c1758cd9\",\"type\":\"Grid\"},{\"id\":\"c58d6b91-0445-4bf7-9425-bcb94e6114ef\",\"type\":\"CategoricalAxis\"},{\"id\":\"0c39c278-219e-45d6-94e0-0c62480921ee\",\"type\":\"Grid\"},{\"id\":\"911b2e30-6c01-4f7b-8a08-f9a70aaf84a6\",\"type\":\"Legend\"},{\"id\":\"803c0027-03c1-45f5-9d82-be9aa22e5f90\",\"type\":\"GlyphRenderer\"}],\"title\":{\"id\":\"4a4d547c-4874-4240-b247-9efa302e2242\",\"type\":\"Title\"},\"toolbar\":{\"id\":\"383c2f4a-dd7b-4018-b9f2-4e9572b8bfa9\",\"type\":\"Toolbar\"},\"toolbar_location\":null,\"x_range\":{\"id\":\"abb040a8-e940-496a-8717-37e5d9ef8b93\",\"type\":\"DataRange1d\"},\"x_scale\":{\"id\":\"7034a3a6-f4a6-45eb-9e39-cd831d3d659f\",\"type\":\"LinearScale\"},\"y_range\":{\"id\":\"99ddc564-e91c-422f-b507-f4a1a75c60b9\",\"type\":\"FactorRange\"},\"y_scale\":{\"id\":\"d51a406b-9100-48e4-996d-edba4a56a02a\",\"type\":\"CategoricalScale\"}},\"id\":\"5dccd453-597b-4539-add1-fb6cd87878ef\",\"subtype\":\"Figure\",\"type\":\"Plot\"},{\"attributes\":{\"fill_alpha\":{\"value\":0.1},\"fill_color\":{\"value\":\"#1f77b4\"},\"height\":{\"value\":0.5},\"line_alpha\":{\"value\":0.1},\"line_color\":{\"value\":\"#1f77b4\"},\"right\":{\"field\":\"counts\"},\"y\":{\"field\":\"eth\"}},\"id\":\"14b786c0-a0c1-460f-98d3-9350e64bfd26\",\"type\":\"HBar\"},{\"attributes\":{\"factors\":[\"Hispanic or Latino\",\"Black or African American\",\"Anglo or White\",\"Middle East\",\"Asian\",\"Other/Don't Know\",\"Native Hawaiian/Pacific Islander\",\"American Indian/Alaska Native\"],\"palette\":[\"#3288bd\",\"#66c2a5\",\"#abdda4\",\"#e6f598\",\"#fee08b\",\"#fdae61\",\"#f46d43\",\"#d53e4f\"]},\"id\":\"518c7a79-0575-4b63-9971-c315e0e2afd1\",\"type\":\"CategoricalColorMapper\"},{\"attributes\":{\"data_source\":{\"id\":\"7283a161-ea82-49ac-b0c7-ff282ff61a31\",\"type\":\"ColumnDataSource\"},\"glyph\":{\"id\":\"299bdf1a-40f4-4fbe-abdb-6dfa709e4de5\",\"type\":\"HBar\"},\"hover_glyph\":null,\"muted_glyph\":null,\"nonselection_glyph\":{\"id\":\"14b786c0-a0c1-460f-98d3-9350e64bfd26\",\"type\":\"HBar\"},\"selection_glyph\":null,\"view\":{\"id\":\"cfa9cfde-8d2a-4275-ae75-60c341529c9c\",\"type\":\"CDSView\"}},\"id\":\"803c0027-03c1-45f5-9d82-be9aa22e5f90\",\"type\":\"GlyphRenderer\"},{\"attributes\":{\"active_drag\":\"auto\",\"active_inspect\":\"auto\",\"active_scroll\":\"auto\",\"active_tap\":\"auto\"},\"id\":\"383c2f4a-dd7b-4018-b9f2-4e9572b8bfa9\",\"type\":\"Toolbar\"},{\"attributes\":{\"source\":{\"id\":\"7283a161-ea82-49ac-b0c7-ff282ff61a31\",\"type\":\"ColumnDataSource\"}},\"id\":\"cfa9cfde-8d2a-4275-ae75-60c341529c9c\",\"type\":\"CDSView\"},{\"attributes\":{\"callback\":null,\"end\":6000,\"start\":0},\"id\":\"abb040a8-e940-496a-8717-37e5d9ef8b93\",\"type\":\"DataRange1d\"},{\"attributes\":{\"label\":{\"field\":\"eth\"},\"renderers\":[{\"id\":\"803c0027-03c1-45f5-9d82-be9aa22e5f90\",\"type\":\"GlyphRenderer\"}]},\"id\":\"5488a82b-c858-48f1-9145-41c9c9396351\",\"type\":\"LegendItem\"},{\"attributes\":{},\"id\":\"a8c03fa3-27f1-49ed-983c-61473208de64\",\"type\":\"CategoricalTickFormatter\"},{\"attributes\":{},\"id\":\"2aa0584d-170e-4ca1-9ba3-168c0d6dcd65\",\"type\":\"BasicTickFormatter\"},{\"attributes\":{\"items\":[{\"id\":\"5488a82b-c858-48f1-9145-41c9c9396351\",\"type\":\"LegendItem\"}],\"plot\":{\"id\":\"5dccd453-597b-4539-add1-fb6cd87878ef\",\"subtype\":\"Figure\",\"type\":\"Plot\"}},\"id\":\"911b2e30-6c01-4f7b-8a08-f9a70aaf84a6\",\"type\":\"Legend\"},{\"attributes\":{},\"id\":\"7034a3a6-f4a6-45eb-9e39-cd831d3d659f\",\"type\":\"LinearScale\"},{\"attributes\":{\"callback\":null,\"factors\":[\"Hispanic or Latino\",\"Black or African American\",\"Anglo or White\",\"Middle East\",\"Asian\",\"Other/Don't Know\",\"Native Hawaiian/Pacific Islander\",\"American Indian/Alaska Native\"]},\"id\":\"99ddc564-e91c-422f-b507-f4a1a75c60b9\",\"type\":\"FactorRange\"}],\"root_ids\":[\"5dccd453-597b-4539-add1-fb6cd87878ef\"]},\"title\":\"Bokeh Application\",\"version\":\"0.12.13\"}};\n",
       "  var render_items = [{\"docid\":\"283092be-80cf-468f-a9a8-e24538029f7e\",\"elementid\":\"15160c29-cf16-4b0b-a911-9f8674da7aa2\",\"modelid\":\"5dccd453-597b-4539-add1-fb6cd87878ef\"}];\n",
       "  root.Bokeh.embed.embed_items_notebook(docs_json, render_items);\n",
       "\n",
       "  }\n",
       "  if (root.Bokeh !== undefined) {\n",
       "    embed_document(root);\n",
       "  } else {\n",
       "    var attempts = 0;\n",
       "    var timer = setInterval(function(root) {\n",
       "      if (root.Bokeh !== undefined) {\n",
       "        embed_document(root);\n",
       "        clearInterval(timer);\n",
       "      }\n",
       "      attempts++;\n",
       "      if (attempts > 100) {\n",
       "        console.log(\"Bokeh: ERROR: Unable to run BokehJS code because BokehJS library is missing\")\n",
       "        clearInterval(timer);\n",
       "      }\n",
       "    }, 10, root)\n",
       "  }\n",
       "})(window);"
      ],
      "application/vnd.bokehjs_exec.v0+json": ""
     },
     "metadata": {
      "application/vnd.bokehjs_exec.v0+json": {
       "id": "5dccd453-597b-4539-add1-fb6cd87878ef"
      }
     },
     "output_type": "display_data"
    }
   ],
   "source": [
    "counts = cust['Ethnicity'].value_counts()\n",
    "\n",
    "source = ColumnDataSource(data=dict(eth=eth, counts=counts))\n",
    "\n",
    "t = figure(y_range=eth, plot_height=500, plot_width=900, title=\"Ethnicity of Deaths in Custody\",\n",
    "           toolbar_location=None, tools=\"\")\n",
    "\n",
    "t.hbar(y='eth', right='counts', height=0.5, color='color', legend=\"eth\", source=source, \n",
    "       line_color='white', fill_color=factor_cmap('eth', palette=Spectral8, factors=eth))\n",
    "\n",
    "factor_cmap('deathtype', palette=Spectral6, factors=deathtype)\n",
    "\n",
    "t.xgrid.grid_line_color = None\n",
    "t.x_range.start = 0\n",
    "t.x_range.end = 6000\n",
    "t.legend.orientation = \"vertical\"\n",
    "t.legend.location = \"top_right\"\n",
    "\n",
    "show(t)"
   ]
  },
  {
   "cell_type": "code",
   "execution_count": null,
   "metadata": {},
   "outputs": [],
   "source": []
  },
  {
   "cell_type": "code",
   "execution_count": 22,
   "metadata": {},
   "outputs": [],
   "source": [
    "#custna = cust[(cust['Custody Type'].dropna()) & (cust['Ethnicity'].dropna()) & (cust['Manner Death'].dropna()) & (cust['Charges Status'].dropna())]\n",
    "custody= cust['Custody Type'].dropna()\n",
    "race = cust['Ethnicity'].dropna()\n",
    "death = cust['Manner Death'].dropna()\n",
    "charge = cust['Charges Status'].dropna()\n",
    "\n",
    "dfcharge = pd.get_dummies(custody)\n",
    "dfrace =pd.get_dummies(race)\n",
    "dfdeath = pd.get_dummies(death)\n",
    "dfcharge = pd.get_dummies(charge)"
   ]
  },
  {
   "cell_type": "code",
   "execution_count": 23,
   "metadata": {},
   "outputs": [
    {
     "data": {
      "text/html": [
       "<div>\n",
       "<style scoped>\n",
       "    .dataframe tbody tr th:only-of-type {\n",
       "        vertical-align: middle;\n",
       "    }\n",
       "\n",
       "    .dataframe tbody tr th {\n",
       "        vertical-align: top;\n",
       "    }\n",
       "\n",
       "    .dataframe thead th {\n",
       "        text-align: right;\n",
       "    }\n",
       "</style>\n",
       "<table border=\"1\" class=\"dataframe\">\n",
       "  <thead>\n",
       "    <tr style=\"text-align: right;\">\n",
       "      <th></th>\n",
       "      <th>Convicted</th>\n",
       "      <th>Filed</th>\n",
       "      <th>Not filed at time of death</th>\n",
       "      <th>Probation/Parole</th>\n",
       "    </tr>\n",
       "  </thead>\n",
       "  <tbody>\n",
       "    <tr>\n",
       "      <th>7724</th>\n",
       "      <td>0</td>\n",
       "      <td>0</td>\n",
       "      <td>1</td>\n",
       "      <td>0</td>\n",
       "    </tr>\n",
       "    <tr>\n",
       "      <th>7725</th>\n",
       "      <td>1</td>\n",
       "      <td>0</td>\n",
       "      <td>0</td>\n",
       "      <td>0</td>\n",
       "    </tr>\n",
       "    <tr>\n",
       "      <th>7726</th>\n",
       "      <td>0</td>\n",
       "      <td>0</td>\n",
       "      <td>1</td>\n",
       "      <td>0</td>\n",
       "    </tr>\n",
       "    <tr>\n",
       "      <th>7727</th>\n",
       "      <td>0</td>\n",
       "      <td>0</td>\n",
       "      <td>1</td>\n",
       "      <td>0</td>\n",
       "    </tr>\n",
       "    <tr>\n",
       "      <th>7728</th>\n",
       "      <td>1</td>\n",
       "      <td>0</td>\n",
       "      <td>0</td>\n",
       "      <td>0</td>\n",
       "    </tr>\n",
       "  </tbody>\n",
       "</table>\n",
       "</div>"
      ],
      "text/plain": [
       "      Convicted  Filed  Not filed at time of death  Probation/Parole\n",
       "7724          0      0                           1                 0\n",
       "7725          1      0                           0                 0\n",
       "7726          0      0                           1                 0\n",
       "7727          0      0                           1                 0\n",
       "7728          1      0                           0                 0"
      ]
     },
     "execution_count": 23,
     "metadata": {},
     "output_type": "execute_result"
    }
   ],
   "source": [
    "dfcharge.tail()"
   ]
  },
  {
   "cell_type": "code",
   "execution_count": 24,
   "metadata": {},
   "outputs": [
    {
     "data": {
      "text/plain": [
       "Accidental injury caused by others               NaN\n",
       "Accidental injury to self                        NaN\n",
       "Alcohol/Drug Intoxication                        NaN\n",
       "American Indian/Alaska Native                    NaN\n",
       "Anglo or White                                   NaN\n",
       "Asian                                            NaN\n",
       "Black or African American                        NaN\n",
       "Hispanic or Latino                               NaN\n",
       "Homicide by Law Enforcement/Correctional Staff   NaN\n",
       "Homicide by Other                                NaN\n",
       "Middle East                                      NaN\n",
       "Native Hawaiian/Pacific Islander                 NaN\n",
       "Natural Causes/Illness                           NaN\n",
       "Other                                            NaN\n",
       "Other/Don't Know                                 NaN\n",
       "Suicide                                          NaN\n",
       "dtype: float64"
      ]
     },
     "execution_count": 24,
     "metadata": {},
     "output_type": "execute_result"
    }
   ],
   "source": [
    "dfdeath.corrwith(dfrace)"
   ]
  },
  {
   "cell_type": "code",
   "execution_count": 25,
   "metadata": {},
   "outputs": [
    {
     "data": {
      "text/plain": [
       "'\\nFor Grouped/Nested bat chart\\n\\n# this creates tuple pairs of Manner of Death and Ethnicity\\nx = [ (deathtype, eth) for type in deathtype for race in eth ]\\n\\nsource = ColumnDataSource(data=dict(x=x, counts=counts))\\n\\nq = figure(x_range=FactorRange(*x), plot_height=250, title=\"Manner of Death by Ethnicity\",\\n           toolbar_location=None, tools=\"\")\\n\\nq.vbar(x=\\'x\\', top=\\'counts\\', width=0.9, source=source)\\n\\nq.y_range.start = 0\\nq.x_range.range_padding = 0.1\\nq.xaxis.major_label_orientation = 1\\nq.xgrid.grid_line_color = None\\n\\nshow(q)\\n'"
      ]
     },
     "execution_count": 25,
     "metadata": {},
     "output_type": "execute_result"
    }
   ],
   "source": [
    "'''\n",
    "For Grouped/Nested bat chart\n",
    "\n",
    "# this creates tuple pairs of Manner of Death and Ethnicity\n",
    "x = [ (deathtype, eth) for type in deathtype for race in eth ]\n",
    "\n",
    "source = ColumnDataSource(data=dict(x=x, counts=counts))\n",
    "\n",
    "q = figure(x_range=FactorRange(*x), plot_height=250, title=\"Manner of Death by Ethnicity\",\n",
    "           toolbar_location=None, tools=\"\")\n",
    "\n",
    "q.vbar(x='x', top='counts', width=0.9, source=source)\n",
    "\n",
    "q.y_range.start = 0\n",
    "q.x_range.range_padding = 0.1\n",
    "q.xaxis.major_label_orientation = 1\n",
    "q.xgrid.grid_line_color = None\n",
    "\n",
    "show(q)\n",
    "'''"
   ]
  },
  {
   "cell_type": "code",
   "execution_count": null,
   "metadata": {},
   "outputs": [],
   "source": []
  },
  {
   "cell_type": "code",
   "execution_count": 19,
   "metadata": {},
   "outputs": [],
   "source": [
    "breakdown = cust.groupby(['Ethnicity', 'Manner Death'])['Last Name'].count()"
   ]
  },
  {
   "cell_type": "code",
   "execution_count": 20,
   "metadata": {
    "scrolled": false
   },
   "outputs": [],
   "source": [
    "death_eth_df = breakdown.unstack()"
   ]
  },
  {
   "cell_type": "code",
   "execution_count": 21,
   "metadata": {},
   "outputs": [],
   "source": [
    "death_eth_df = death_eth_df.fillna(0).astype(int)"
   ]
  },
  {
   "cell_type": "code",
   "execution_count": 22,
   "metadata": {},
   "outputs": [
    {
     "data": {
      "text/html": [
       "<div>\n",
       "<style scoped>\n",
       "    .dataframe tbody tr th:only-of-type {\n",
       "        vertical-align: middle;\n",
       "    }\n",
       "\n",
       "    .dataframe tbody tr th {\n",
       "        vertical-align: top;\n",
       "    }\n",
       "\n",
       "    .dataframe thead th {\n",
       "        text-align: right;\n",
       "    }\n",
       "</style>\n",
       "<table border=\"1\" class=\"dataframe\">\n",
       "  <thead>\n",
       "    <tr style=\"text-align: right;\">\n",
       "      <th>Manner Death</th>\n",
       "      <th>Accidental injury caused by others</th>\n",
       "      <th>Accidental injury to self</th>\n",
       "      <th>Alcohol/Drug Intoxication</th>\n",
       "      <th>Homicide by Law Enforcement/Correctional Staff</th>\n",
       "      <th>Homicide by Other</th>\n",
       "      <th>Natural Causes/Illness</th>\n",
       "      <th>Other</th>\n",
       "      <th>Suicide</th>\n",
       "    </tr>\n",
       "    <tr>\n",
       "      <th>Ethnicity</th>\n",
       "      <th></th>\n",
       "      <th></th>\n",
       "      <th></th>\n",
       "      <th></th>\n",
       "      <th></th>\n",
       "      <th></th>\n",
       "      <th></th>\n",
       "      <th></th>\n",
       "    </tr>\n",
       "  </thead>\n",
       "  <tbody>\n",
       "    <tr>\n",
       "      <th>American Indian/Alaska Native</th>\n",
       "      <td>0</td>\n",
       "      <td>0</td>\n",
       "      <td>0</td>\n",
       "      <td>5</td>\n",
       "      <td>0</td>\n",
       "      <td>5</td>\n",
       "      <td>1</td>\n",
       "      <td>2</td>\n",
       "    </tr>\n",
       "    <tr>\n",
       "      <th>Anglo or White</th>\n",
       "      <td>3</td>\n",
       "      <td>63</td>\n",
       "      <td>99</td>\n",
       "      <td>321</td>\n",
       "      <td>25</td>\n",
       "      <td>2183</td>\n",
       "      <td>77</td>\n",
       "      <td>455</td>\n",
       "    </tr>\n",
       "    <tr>\n",
       "      <th>Asian</th>\n",
       "      <td>0</td>\n",
       "      <td>0</td>\n",
       "      <td>3</td>\n",
       "      <td>5</td>\n",
       "      <td>1</td>\n",
       "      <td>19</td>\n",
       "      <td>0</td>\n",
       "      <td>6</td>\n",
       "    </tr>\n",
       "    <tr>\n",
       "      <th>Black or African American</th>\n",
       "      <td>6</td>\n",
       "      <td>36</td>\n",
       "      <td>93</td>\n",
       "      <td>213</td>\n",
       "      <td>22</td>\n",
       "      <td>1687</td>\n",
       "      <td>68</td>\n",
       "      <td>147</td>\n",
       "    </tr>\n",
       "    <tr>\n",
       "      <th>Hispanic or Latino</th>\n",
       "      <td>11</td>\n",
       "      <td>54</td>\n",
       "      <td>88</td>\n",
       "      <td>291</td>\n",
       "      <td>24</td>\n",
       "      <td>1363</td>\n",
       "      <td>56</td>\n",
       "      <td>229</td>\n",
       "    </tr>\n",
       "    <tr>\n",
       "      <th>Middle East</th>\n",
       "      <td>0</td>\n",
       "      <td>1</td>\n",
       "      <td>0</td>\n",
       "      <td>7</td>\n",
       "      <td>0</td>\n",
       "      <td>2</td>\n",
       "      <td>0</td>\n",
       "      <td>2</td>\n",
       "    </tr>\n",
       "    <tr>\n",
       "      <th>Native Hawaiian/Pacific Islander</th>\n",
       "      <td>1</td>\n",
       "      <td>0</td>\n",
       "      <td>1</td>\n",
       "      <td>1</td>\n",
       "      <td>0</td>\n",
       "      <td>1</td>\n",
       "      <td>0</td>\n",
       "      <td>1</td>\n",
       "    </tr>\n",
       "    <tr>\n",
       "      <th>Other/Don't Know</th>\n",
       "      <td>0</td>\n",
       "      <td>1</td>\n",
       "      <td>0</td>\n",
       "      <td>35</td>\n",
       "      <td>0</td>\n",
       "      <td>6</td>\n",
       "      <td>1</td>\n",
       "      <td>2</td>\n",
       "    </tr>\n",
       "  </tbody>\n",
       "</table>\n",
       "</div>"
      ],
      "text/plain": [
       "Manner Death                      Accidental injury caused by others  \\\n",
       "Ethnicity                                                              \n",
       "American Indian/Alaska Native                                      0   \n",
       "Anglo or White                                                     3   \n",
       "Asian                                                              0   \n",
       "Black or African American                                          6   \n",
       "Hispanic or Latino                                                11   \n",
       "Middle East                                                        0   \n",
       "Native Hawaiian/Pacific Islander                                   1   \n",
       "Other/Don't Know                                                   0   \n",
       "\n",
       "Manner Death                      Accidental injury to self  \\\n",
       "Ethnicity                                                     \n",
       "American Indian/Alaska Native                             0   \n",
       "Anglo or White                                           63   \n",
       "Asian                                                     0   \n",
       "Black or African American                                36   \n",
       "Hispanic or Latino                                       54   \n",
       "Middle East                                               1   \n",
       "Native Hawaiian/Pacific Islander                          0   \n",
       "Other/Don't Know                                          1   \n",
       "\n",
       "Manner Death                      Alcohol/Drug Intoxication  \\\n",
       "Ethnicity                                                     \n",
       "American Indian/Alaska Native                             0   \n",
       "Anglo or White                                           99   \n",
       "Asian                                                     3   \n",
       "Black or African American                                93   \n",
       "Hispanic or Latino                                       88   \n",
       "Middle East                                               0   \n",
       "Native Hawaiian/Pacific Islander                          1   \n",
       "Other/Don't Know                                          0   \n",
       "\n",
       "Manner Death                      Homicide by Law Enforcement/Correctional Staff  \\\n",
       "Ethnicity                                                                          \n",
       "American Indian/Alaska Native                                                  5   \n",
       "Anglo or White                                                               321   \n",
       "Asian                                                                          5   \n",
       "Black or African American                                                    213   \n",
       "Hispanic or Latino                                                           291   \n",
       "Middle East                                                                    7   \n",
       "Native Hawaiian/Pacific Islander                                               1   \n",
       "Other/Don't Know                                                              35   \n",
       "\n",
       "Manner Death                      Homicide by Other  Natural Causes/Illness  \\\n",
       "Ethnicity                                                                     \n",
       "American Indian/Alaska Native                     0                       5   \n",
       "Anglo or White                                   25                    2183   \n",
       "Asian                                             1                      19   \n",
       "Black or African American                        22                    1687   \n",
       "Hispanic or Latino                               24                    1363   \n",
       "Middle East                                       0                       2   \n",
       "Native Hawaiian/Pacific Islander                  0                       1   \n",
       "Other/Don't Know                                  0                       6   \n",
       "\n",
       "Manner Death                      Other  Suicide  \n",
       "Ethnicity                                         \n",
       "American Indian/Alaska Native         1        2  \n",
       "Anglo or White                       77      455  \n",
       "Asian                                 0        6  \n",
       "Black or African American            68      147  \n",
       "Hispanic or Latino                   56      229  \n",
       "Middle East                           0        2  \n",
       "Native Hawaiian/Pacific Islander      0        1  \n",
       "Other/Don't Know                      1        2  "
      ]
     },
     "execution_count": 22,
     "metadata": {},
     "output_type": "execute_result"
    }
   ],
   "source": [
    "death_eth_df"
   ]
  },
  {
   "cell_type": "code",
   "execution_count": null,
   "metadata": {},
   "outputs": [],
   "source": []
  },
  {
   "cell_type": "code",
   "execution_count": 23,
   "metadata": {},
   "outputs": [],
   "source": [
    "ethni = cust.groupby(['Ethnicity'])['Last Name'].count()"
   ]
  },
  {
   "cell_type": "code",
   "execution_count": 24,
   "metadata": {},
   "outputs": [
    {
     "name": "stdout",
     "output_type": "stream",
     "text": [
      "% of Whites killed by officer: 0.0995040297582\n"
     ]
    }
   ],
   "source": [
    "print (\"% of Whites killed by officer:\", breakdown['Anglo or White', 'Homicide by Law Enforcement/Correctional Staff']/ethni['Anglo or White'])"
   ]
  },
  {
   "cell_type": "code",
   "execution_count": 25,
   "metadata": {},
   "outputs": [
    {
     "name": "stdout",
     "output_type": "stream",
     "text": [
      "% of Latinos killed by officer: 0.13752362949\n"
     ]
    }
   ],
   "source": [
    "print (\"% of Latinos killed by officer:\", breakdown['Hispanic or Latino', 'Homicide by Law Enforcement/Correctional Staff']/ethni['Hispanic or Latino'])"
   ]
  },
  {
   "cell_type": "code",
   "execution_count": 37,
   "metadata": {},
   "outputs": [
    {
     "data": {
      "text/html": [
       "\n",
       "<div class=\"bk-root\">\n",
       "    <div class=\"bk-plotdiv\" id=\"f707d08f-24a2-4854-8ba1-24fc633bb276\"></div>\n",
       "</div>"
      ]
     },
     "metadata": {},
     "output_type": "display_data"
    },
    {
     "data": {
      "application/javascript": [
       "(function(root) {\n",
       "  function embed_document(root) {\n",
       "    \n",
       "  var docs_json = {\"3fa879ad-d150-46bf-98e6-a96d004d90b7\":{\"roots\":{\"references\":[{\"attributes\":{\"fields\":[\"Natural Causes/Illness\"]},\"id\":\"74ca81f7-42c0-4f1d-9439-69fdcb391993\",\"type\":\"Stack\"},{\"attributes\":{\"fields\":[\"Natural Causes/Illness\",\"Other\",\"Accidental injury to self\",\"Homicide by Law Enforcement/Correctional Staff\",\"Suicide\",\"Alcohol/Drug Intoxication\"]},\"id\":\"d5f0621d-b986-4c4b-a915-14f44903132e\",\"type\":\"Stack\"},{\"attributes\":{\"fill_alpha\":{\"value\":0.1},\"fill_color\":{\"value\":\"#1f77b4\"},\"height\":{\"value\":0.9},\"left\":{\"expr\":{\"id\":\"5e6bfae0-d639-4b3f-bfa1-752b7308fb61\",\"type\":\"Stack\"}},\"line_alpha\":{\"value\":0.1},\"line_color\":{\"value\":\"#1f77b4\"},\"right\":{\"expr\":{\"id\":\"7c5823ef-d9ed-4653-98c6-d6aff5260775\",\"type\":\"Stack\"}},\"y\":{\"field\":\"Ethnicity\"}},\"id\":\"b3b06829-8e6e-468e-a17c-d6dd05cdaa97\",\"type\":\"HBar\"},{\"attributes\":{\"fields\":[\"Natural Causes/Illness\",\"Other\",\"Accidental injury to self\"]},\"id\":\"5e6bfae0-d639-4b3f-bfa1-752b7308fb61\",\"type\":\"Stack\"},{\"attributes\":{\"fields\":[\"Natural Causes/Illness\"]},\"id\":\"8861ff94-81dd-4c78-b798-e2a4c8807793\",\"type\":\"Stack\"},{\"attributes\":{\"fields\":[\"Natural Causes/Illness\",\"Other\",\"Accidental injury to self\",\"Homicide by Law Enforcement/Correctional Staff\",\"Suicide\",\"Alcohol/Drug Intoxication\"]},\"id\":\"bdfb63c0-bc9f-4e8c-a673-3d698be0b1c5\",\"type\":\"Stack\"},{\"attributes\":{\"fields\":[\"Natural Causes/Illness\",\"Other\",\"Accidental injury to self\",\"Homicide by Law Enforcement/Correctional Staff\",\"Suicide\",\"Alcohol/Drug Intoxication\",\"Homicide by Other\"]},\"id\":\"daf8a161-01ef-4e9d-8e73-bc79838aa3e2\",\"type\":\"Stack\"},{\"attributes\":{\"fields\":[\"Natural Causes/Illness\",\"Other\",\"Accidental injury to self\",\"Homicide by Law Enforcement/Correctional Staff\",\"Suicide\"]},\"id\":\"890d956f-ccbf-4072-a299-aae01a0e2fe9\",\"type\":\"Stack\"},{\"attributes\":{\"fields\":[\"Natural Causes/Illness\",\"Other\",\"Accidental injury to self\",\"Homicide by Law Enforcement/Correctional Staff\",\"Suicide\",\"Alcohol/Drug Intoxication\",\"Homicide by Other\"]},\"id\":\"c1ec6eb1-36cb-4cb8-b7aa-801bc4e974ff\",\"type\":\"Stack\"},{\"attributes\":{\"fields\":[\"Natural Causes/Illness\",\"Other\",\"Accidental injury to self\",\"Homicide by Law Enforcement/Correctional Staff\",\"Suicide\",\"Alcohol/Drug Intoxication\",\"Homicide by Other\",\"Accidental injury caused by others\"]},\"id\":\"fe686a50-45b7-4db8-9905-07364ba993aa\",\"type\":\"Stack\"},{\"attributes\":{\"label\":{\"value\":\"Homicide by Law Enforcement/Correctional Staff\"},\"renderers\":[{\"id\":\"a5489b00-68df-429b-8bc2-77a43c7d0d2e\",\"type\":\"GlyphRenderer\"}]},\"id\":\"9b482a50-f73e-40b9-aad0-d11114076da1\",\"type\":\"LegendItem\"},{\"attributes\":{\"fill_color\":{\"value\":\"#3288bd\"},\"height\":{\"value\":0.9},\"left\":{\"expr\":{\"id\":\"e99d8e06-b3b3-4943-845f-78f21cc8d5c8\",\"type\":\"Stack\"}},\"line_color\":{\"value\":\"#3288bd\"},\"right\":{\"expr\":{\"id\":\"8861ff94-81dd-4c78-b798-e2a4c8807793\",\"type\":\"Stack\"}},\"y\":{\"field\":\"Ethnicity\"}},\"id\":\"72549f6a-0962-47ff-8907-a4ab90e435b9\",\"type\":\"HBar\"},{\"attributes\":{\"fill_alpha\":{\"value\":0.1},\"fill_color\":{\"value\":\"#1f77b4\"},\"height\":{\"value\":0.9},\"left\":{\"expr\":{\"id\":\"e99d8e06-b3b3-4943-845f-78f21cc8d5c8\",\"type\":\"Stack\"}},\"line_alpha\":{\"value\":0.1},\"line_color\":{\"value\":\"#1f77b4\"},\"right\":{\"expr\":{\"id\":\"8861ff94-81dd-4c78-b798-e2a4c8807793\",\"type\":\"Stack\"}},\"y\":{\"field\":\"Ethnicity\"}},\"id\":\"0f4b6780-bf8c-4f47-a2b2-6f76378b9075\",\"type\":\"HBar\"},{\"attributes\":{\"fields\":[\"Natural Causes/Illness\",\"Other\",\"Accidental injury to self\",\"Homicide by Law Enforcement/Correctional Staff\"]},\"id\":\"606edaaf-b743-4018-b918-4817d3b4925a\",\"type\":\"Stack\"},{\"attributes\":{\"below\":[{\"id\":\"e3a1a33a-f3df-4070-bf6e-fc3102613536\",\"type\":\"LinearAxis\"}],\"left\":[{\"id\":\"0a446a75-3f57-417e-b48b-98c805aca3a3\",\"type\":\"CategoricalAxis\"}],\"outline_line_color\":{\"value\":null},\"plot_height\":500,\"plot_width\":900,\"renderers\":[{\"id\":\"e3a1a33a-f3df-4070-bf6e-fc3102613536\",\"type\":\"LinearAxis\"},{\"id\":\"c25ac025-8f2e-4cff-935e-ca1d0de41fbc\",\"type\":\"Grid\"},{\"id\":\"0a446a75-3f57-417e-b48b-98c805aca3a3\",\"type\":\"CategoricalAxis\"},{\"id\":\"3fb23652-be59-4964-a22b-b3ea2c6b803f\",\"type\":\"Grid\"},{\"id\":\"2749108d-cb5d-41b7-92d5-3ac9c6ffcdbd\",\"type\":\"Legend\"},{\"id\":\"e2fe3ad8-db4e-4993-99ea-45708dc038f2\",\"type\":\"GlyphRenderer\"},{\"id\":\"a6b1592f-da28-4c2f-b012-20fd183f2305\",\"type\":\"GlyphRenderer\"},{\"id\":\"f8898a45-7c4f-4e0d-aeb8-a5d6f87ef381\",\"type\":\"GlyphRenderer\"},{\"id\":\"a5489b00-68df-429b-8bc2-77a43c7d0d2e\",\"type\":\"GlyphRenderer\"},{\"id\":\"cd0ba506-f55e-41b2-a614-393734bb5d60\",\"type\":\"GlyphRenderer\"},{\"id\":\"acf619f4-e185-4da2-b76e-c35b4030136a\",\"type\":\"GlyphRenderer\"},{\"id\":\"664c7bde-b8e3-4974-af1a-f085a80feae4\",\"type\":\"GlyphRenderer\"},{\"id\":\"6131afb4-aa40-4bcf-9cfb-7e1c11141849\",\"type\":\"GlyphRenderer\"}],\"title\":{\"id\":\"672fe033-da7d-40f1-b4ae-d93192e65518\",\"type\":\"Title\"},\"toolbar\":{\"id\":\"0c451964-f8c2-446b-b43a-26ef94dc8cbe\",\"type\":\"Toolbar\"},\"toolbar_location\":null,\"x_range\":{\"id\":\"64604b4f-a34f-4e02-9183-9dedfc20c6e1\",\"type\":\"DataRange1d\"},\"x_scale\":{\"id\":\"60b37bff-70d5-4e42-881b-a4d5eae7c207\",\"type\":\"LinearScale\"},\"y_range\":{\"id\":\"aaaeb77a-e4eb-417c-97b0-05dbbfd2004a\",\"type\":\"FactorRange\"},\"y_scale\":{\"id\":\"913d91d0-ab46-4ca3-ae06-e56ebd9ca098\",\"type\":\"CategoricalScale\"}},\"id\":\"a00af1ac-b474-49fe-899b-bb243efe15dd\",\"subtype\":\"Figure\",\"type\":\"Plot\"},{\"attributes\":{},\"id\":\"366dee20-cf3b-4ca1-bae9-36a14891456d\",\"type\":\"CategoricalTickFormatter\"},{\"attributes\":{\"active_drag\":\"auto\",\"active_inspect\":\"auto\",\"active_scroll\":\"auto\",\"active_tap\":\"auto\"},\"id\":\"0c451964-f8c2-446b-b43a-26ef94dc8cbe\",\"type\":\"Toolbar\"},{\"attributes\":{\"fill_color\":{\"value\":\"#e6f598\"},\"height\":{\"value\":0.9},\"left\":{\"expr\":{\"id\":\"5e6bfae0-d639-4b3f-bfa1-752b7308fb61\",\"type\":\"Stack\"}},\"line_color\":{\"value\":\"#e6f598\"},\"right\":{\"expr\":{\"id\":\"7c5823ef-d9ed-4653-98c6-d6aff5260775\",\"type\":\"Stack\"}},\"y\":{\"field\":\"Ethnicity\"}},\"id\":\"85baa946-b2c7-4cd8-8a2b-4b875940838a\",\"type\":\"HBar\"},{\"attributes\":{\"fill_color\":{\"value\":\"#abdda4\"},\"height\":{\"value\":0.9},\"left\":{\"expr\":{\"id\":\"f9d6c5e7-7e13-4aeb-bfbc-203634bd038f\",\"type\":\"Stack\"}},\"line_color\":{\"value\":\"#abdda4\"},\"right\":{\"expr\":{\"id\":\"f346ed2d-87b7-40e9-af13-6dd5386fb3f4\",\"type\":\"Stack\"}},\"y\":{\"field\":\"Ethnicity\"}},\"id\":\"9cb93fe3-7994-444f-964d-b92d92225375\",\"type\":\"HBar\"},{\"attributes\":{\"fields\":[\"Natural Causes/Illness\",\"Other\",\"Accidental injury to self\"]},\"id\":\"f346ed2d-87b7-40e9-af13-6dd5386fb3f4\",\"type\":\"Stack\"},{\"attributes\":{},\"id\":\"e8afd877-7c44-4c27-95dc-1dd35d26c6dc\",\"type\":\"BasicTickFormatter\"},{\"attributes\":{\"label\":{\"value\":\"Natural Causes/Illness\"},\"renderers\":[{\"id\":\"e2fe3ad8-db4e-4993-99ea-45708dc038f2\",\"type\":\"GlyphRenderer\"}]},\"id\":\"54e32f8b-49c9-4bb5-85c9-d7324e048040\",\"type\":\"LegendItem\"},{\"attributes\":{\"fill_color\":{\"value\":\"#fee08b\"},\"height\":{\"value\":0.9},\"left\":{\"expr\":{\"id\":\"606edaaf-b743-4018-b918-4817d3b4925a\",\"type\":\"Stack\"}},\"line_color\":{\"value\":\"#fee08b\"},\"right\":{\"expr\":{\"id\":\"01e11b49-334c-4ad0-9a58-716f940479ee\",\"type\":\"Stack\"}},\"y\":{\"field\":\"Ethnicity\"}},\"id\":\"672ef66c-bff5-409b-9259-a6fe5864d7cf\",\"type\":\"HBar\"},{\"attributes\":{\"data_source\":{\"id\":\"a5d64b79-a5ef-42eb-b8ab-88679f5d9582\",\"type\":\"ColumnDataSource\"},\"glyph\":{\"id\":\"72549f6a-0962-47ff-8907-a4ab90e435b9\",\"type\":\"HBar\"},\"hover_glyph\":null,\"muted_glyph\":null,\"nonselection_glyph\":{\"id\":\"0f4b6780-bf8c-4f47-a2b2-6f76378b9075\",\"type\":\"HBar\"},\"selection_glyph\":null,\"view\":{\"id\":\"b033977b-af25-4cd3-b52a-859f8148b34d\",\"type\":\"CDSView\"}},\"id\":\"e2fe3ad8-db4e-4993-99ea-45708dc038f2\",\"type\":\"GlyphRenderer\"},{\"attributes\":{\"fields\":[\"Natural Causes/Illness\",\"Other\",\"Accidental injury to self\",\"Homicide by Law Enforcement/Correctional Staff\"]},\"id\":\"7c5823ef-d9ed-4653-98c6-d6aff5260775\",\"type\":\"Stack\"},{\"attributes\":{\"dimension\":1,\"plot\":{\"id\":\"a00af1ac-b474-49fe-899b-bb243efe15dd\",\"subtype\":\"Figure\",\"type\":\"Plot\"},\"ticker\":{\"id\":\"6d4b6aba-5d89-44c9-ba9f-c2e199fef858\",\"type\":\"CategoricalTicker\"}},\"id\":\"3fb23652-be59-4964-a22b-b3ea2c6b803f\",\"type\":\"Grid\"},{\"attributes\":{\"source\":{\"id\":\"a5d64b79-a5ef-42eb-b8ab-88679f5d9582\",\"type\":\"ColumnDataSource\"}},\"id\":\"b033977b-af25-4cd3-b52a-859f8148b34d\",\"type\":\"CDSView\"},{\"attributes\":{\"fields\":[\"Natural Causes/Illness\",\"Other\"]},\"id\":\"f9d6c5e7-7e13-4aeb-bfbc-203634bd038f\",\"type\":\"Stack\"},{\"attributes\":{},\"id\":\"913d91d0-ab46-4ca3-ae06-e56ebd9ca098\",\"type\":\"CategoricalScale\"},{\"attributes\":{\"fill_color\":{\"value\":\"#fdae61\"},\"height\":{\"value\":0.9},\"left\":{\"expr\":{\"id\":\"890d956f-ccbf-4072-a299-aae01a0e2fe9\",\"type\":\"Stack\"}},\"line_color\":{\"value\":\"#fdae61\"},\"right\":{\"expr\":{\"id\":\"d5f0621d-b986-4c4b-a915-14f44903132e\",\"type\":\"Stack\"}},\"y\":{\"field\":\"Ethnicity\"}},\"id\":\"eae0180e-5637-42bf-bad4-bd98eeec6a9f\",\"type\":\"HBar\"},{\"attributes\":{\"fill_alpha\":{\"value\":0.1},\"fill_color\":{\"value\":\"#1f77b4\"},\"height\":{\"value\":0.9},\"left\":{\"expr\":{\"id\":\"f9d6c5e7-7e13-4aeb-bfbc-203634bd038f\",\"type\":\"Stack\"}},\"line_alpha\":{\"value\":0.1},\"line_color\":{\"value\":\"#1f77b4\"},\"right\":{\"expr\":{\"id\":\"f346ed2d-87b7-40e9-af13-6dd5386fb3f4\",\"type\":\"Stack\"}},\"y\":{\"field\":\"Ethnicity\"}},\"id\":\"b34fa4a3-6da6-41d6-aaf0-4bf3da14aba7\",\"type\":\"HBar\"},{\"attributes\":{\"data_source\":{\"id\":\"a5d64b79-a5ef-42eb-b8ab-88679f5d9582\",\"type\":\"ColumnDataSource\"},\"glyph\":{\"id\":\"9cb93fe3-7994-444f-964d-b92d92225375\",\"type\":\"HBar\"},\"hover_glyph\":null,\"muted_glyph\":null,\"nonselection_glyph\":{\"id\":\"b34fa4a3-6da6-41d6-aaf0-4bf3da14aba7\",\"type\":\"HBar\"},\"selection_glyph\":null,\"view\":{\"id\":\"39944bfb-32e2-4531-8355-4d40e4698457\",\"type\":\"CDSView\"}},\"id\":\"f8898a45-7c4f-4e0d-aeb8-a5d6f87ef381\",\"type\":\"GlyphRenderer\"},{\"attributes\":{\"source\":{\"id\":\"a5d64b79-a5ef-42eb-b8ab-88679f5d9582\",\"type\":\"ColumnDataSource\"}},\"id\":\"39944bfb-32e2-4531-8355-4d40e4698457\",\"type\":\"CDSView\"},{\"attributes\":{\"label\":{\"value\":\"Accidental injury caused by others\"},\"renderers\":[{\"id\":\"6131afb4-aa40-4bcf-9cfb-7e1c11141849\",\"type\":\"GlyphRenderer\"}]},\"id\":\"1e547fd2-9e97-4981-9e2d-c327da41742c\",\"type\":\"LegendItem\"},{\"attributes\":{\"data_source\":{\"id\":\"a5d64b79-a5ef-42eb-b8ab-88679f5d9582\",\"type\":\"ColumnDataSource\"},\"glyph\":{\"id\":\"85baa946-b2c7-4cd8-8a2b-4b875940838a\",\"type\":\"HBar\"},\"hover_glyph\":null,\"muted_glyph\":null,\"nonselection_glyph\":{\"id\":\"b3b06829-8e6e-468e-a17c-d6dd05cdaa97\",\"type\":\"HBar\"},\"selection_glyph\":null,\"view\":{\"id\":\"85fe8dc8-d7ae-4c25-acb9-a7a0aa90323a\",\"type\":\"CDSView\"}},\"id\":\"a5489b00-68df-429b-8bc2-77a43c7d0d2e\",\"type\":\"GlyphRenderer\"},{\"attributes\":{\"label\":{\"value\":\"Other\"},\"renderers\":[{\"id\":\"a6b1592f-da28-4c2f-b012-20fd183f2305\",\"type\":\"GlyphRenderer\"}]},\"id\":\"70623a96-81ad-477f-b59f-9ab6ff74775d\",\"type\":\"LegendItem\"},{\"attributes\":{\"source\":{\"id\":\"a5d64b79-a5ef-42eb-b8ab-88679f5d9582\",\"type\":\"ColumnDataSource\"}},\"id\":\"85fe8dc8-d7ae-4c25-acb9-a7a0aa90323a\",\"type\":\"CDSView\"},{\"attributes\":{\"fill_alpha\":{\"value\":0.1},\"fill_color\":{\"value\":\"#1f77b4\"},\"height\":{\"value\":0.9},\"left\":{\"expr\":{\"id\":\"606edaaf-b743-4018-b918-4817d3b4925a\",\"type\":\"Stack\"}},\"line_alpha\":{\"value\":0.1},\"line_color\":{\"value\":\"#1f77b4\"},\"right\":{\"expr\":{\"id\":\"01e11b49-334c-4ad0-9a58-716f940479ee\",\"type\":\"Stack\"}},\"y\":{\"field\":\"Ethnicity\"}},\"id\":\"1660a128-9041-436d-b6bb-424c12831bb7\",\"type\":\"HBar\"},{\"attributes\":{\"fill_alpha\":{\"value\":0.1},\"fill_color\":{\"value\":\"#1f77b4\"},\"height\":{\"value\":0.9},\"left\":{\"expr\":{\"id\":\"c1ec6eb1-36cb-4cb8-b7aa-801bc4e974ff\",\"type\":\"Stack\"}},\"line_alpha\":{\"value\":0.1},\"line_color\":{\"value\":\"#1f77b4\"},\"right\":{\"expr\":{\"id\":\"fe686a50-45b7-4db8-9905-07364ba993aa\",\"type\":\"Stack\"}},\"y\":{\"field\":\"Ethnicity\"}},\"id\":\"d58f2945-b012-4821-b0ab-7cd23147be4a\",\"type\":\"HBar\"},{\"attributes\":{\"label\":{\"value\":\"Suicide\"},\"renderers\":[{\"id\":\"cd0ba506-f55e-41b2-a614-393734bb5d60\",\"type\":\"GlyphRenderer\"}]},\"id\":\"1caa203c-59eb-4236-89e6-04a2be641215\",\"type\":\"LegendItem\"},{\"attributes\":{\"fill_alpha\":{\"value\":0.1},\"fill_color\":{\"value\":\"#1f77b4\"},\"height\":{\"value\":0.9},\"left\":{\"expr\":{\"id\":\"74ca81f7-42c0-4f1d-9439-69fdcb391993\",\"type\":\"Stack\"}},\"line_alpha\":{\"value\":0.1},\"line_color\":{\"value\":\"#1f77b4\"},\"right\":{\"expr\":{\"id\":\"e0104554-5dfc-4863-a04b-1e900bae18f8\",\"type\":\"Stack\"}},\"y\":{\"field\":\"Ethnicity\"}},\"id\":\"989dc4ef-48b4-45ff-ac58-0d159b8cd388\",\"type\":\"HBar\"},{\"attributes\":{\"data_source\":{\"id\":\"a5d64b79-a5ef-42eb-b8ab-88679f5d9582\",\"type\":\"ColumnDataSource\"},\"glyph\":{\"id\":\"672ef66c-bff5-409b-9259-a6fe5864d7cf\",\"type\":\"HBar\"},\"hover_glyph\":null,\"muted_glyph\":null,\"nonselection_glyph\":{\"id\":\"1660a128-9041-436d-b6bb-424c12831bb7\",\"type\":\"HBar\"},\"selection_glyph\":null,\"view\":{\"id\":\"69f94871-09d4-465f-9b71-fc912905619b\",\"type\":\"CDSView\"}},\"id\":\"cd0ba506-f55e-41b2-a614-393734bb5d60\",\"type\":\"GlyphRenderer\"},{\"attributes\":{\"source\":{\"id\":\"a5d64b79-a5ef-42eb-b8ab-88679f5d9582\",\"type\":\"ColumnDataSource\"}},\"id\":\"9ac25ed8-b401-4d91-819d-299428cbface\",\"type\":\"CDSView\"},{\"attributes\":{\"source\":{\"id\":\"a5d64b79-a5ef-42eb-b8ab-88679f5d9582\",\"type\":\"ColumnDataSource\"}},\"id\":\"69f94871-09d4-465f-9b71-fc912905619b\",\"type\":\"CDSView\"},{\"attributes\":{\"data_source\":{\"id\":\"a5d64b79-a5ef-42eb-b8ab-88679f5d9582\",\"type\":\"ColumnDataSource\"},\"glyph\":{\"id\":\"47bd7d82-2614-492a-b52d-8b54a926b942\",\"type\":\"HBar\"},\"hover_glyph\":null,\"muted_glyph\":null,\"nonselection_glyph\":{\"id\":\"989dc4ef-48b4-45ff-ac58-0d159b8cd388\",\"type\":\"HBar\"},\"selection_glyph\":null,\"view\":{\"id\":\"9ac25ed8-b401-4d91-819d-299428cbface\",\"type\":\"CDSView\"}},\"id\":\"a6b1592f-da28-4c2f-b012-20fd183f2305\",\"type\":\"GlyphRenderer\"},{\"attributes\":{\"fill_color\":{\"value\":\"#f46d43\"},\"height\":{\"value\":0.9},\"left\":{\"expr\":{\"id\":\"bdfb63c0-bc9f-4e8c-a673-3d698be0b1c5\",\"type\":\"Stack\"}},\"line_color\":{\"value\":\"#f46d43\"},\"right\":{\"expr\":{\"id\":\"daf8a161-01ef-4e9d-8e73-bc79838aa3e2\",\"type\":\"Stack\"}},\"y\":{\"field\":\"Ethnicity\"}},\"id\":\"508e9303-5268-4f71-9810-8592c47322bb\",\"type\":\"HBar\"},{\"attributes\":{\"fill_alpha\":{\"value\":0.1},\"fill_color\":{\"value\":\"#1f77b4\"},\"height\":{\"value\":0.9},\"left\":{\"expr\":{\"id\":\"890d956f-ccbf-4072-a299-aae01a0e2fe9\",\"type\":\"Stack\"}},\"line_alpha\":{\"value\":0.1},\"line_color\":{\"value\":\"#1f77b4\"},\"right\":{\"expr\":{\"id\":\"d5f0621d-b986-4c4b-a915-14f44903132e\",\"type\":\"Stack\"}},\"y\":{\"field\":\"Ethnicity\"}},\"id\":\"1cde2c1f-8519-4ad1-a9a4-87c2fadfc8ca\",\"type\":\"HBar\"},{\"attributes\":{\"source\":{\"id\":\"a5d64b79-a5ef-42eb-b8ab-88679f5d9582\",\"type\":\"ColumnDataSource\"}},\"id\":\"cd3a9a40-a066-490d-9c92-dab82afe8d28\",\"type\":\"CDSView\"},{\"attributes\":{\"fill_color\":{\"value\":\"#66c2a5\"},\"height\":{\"value\":0.9},\"left\":{\"expr\":{\"id\":\"74ca81f7-42c0-4f1d-9439-69fdcb391993\",\"type\":\"Stack\"}},\"line_color\":{\"value\":\"#66c2a5\"},\"right\":{\"expr\":{\"id\":\"e0104554-5dfc-4863-a04b-1e900bae18f8\",\"type\":\"Stack\"}},\"y\":{\"field\":\"Ethnicity\"}},\"id\":\"47bd7d82-2614-492a-b52d-8b54a926b942\",\"type\":\"HBar\"},{\"attributes\":{\"label\":{\"value\":\"Alcohol/Drug Intoxication\"},\"renderers\":[{\"id\":\"acf619f4-e185-4da2-b76e-c35b4030136a\",\"type\":\"GlyphRenderer\"}]},\"id\":\"047b9ff5-9656-49b6-a0f6-7ca97dc1a66f\",\"type\":\"LegendItem\"},{\"attributes\":{\"data_source\":{\"id\":\"a5d64b79-a5ef-42eb-b8ab-88679f5d9582\",\"type\":\"ColumnDataSource\"},\"glyph\":{\"id\":\"eae0180e-5637-42bf-bad4-bd98eeec6a9f\",\"type\":\"HBar\"},\"hover_glyph\":null,\"muted_glyph\":null,\"nonselection_glyph\":{\"id\":\"1cde2c1f-8519-4ad1-a9a4-87c2fadfc8ca\",\"type\":\"HBar\"},\"selection_glyph\":null,\"view\":{\"id\":\"ee4ba29b-8c56-4ec6-b531-f0999ab3b2a9\",\"type\":\"CDSView\"}},\"id\":\"acf619f4-e185-4da2-b76e-c35b4030136a\",\"type\":\"GlyphRenderer\"},{\"attributes\":{\"source\":{\"id\":\"a5d64b79-a5ef-42eb-b8ab-88679f5d9582\",\"type\":\"ColumnDataSource\"}},\"id\":\"ee4ba29b-8c56-4ec6-b531-f0999ab3b2a9\",\"type\":\"CDSView\"},{\"attributes\":{\"fill_color\":{\"value\":\"#d53e4f\"},\"height\":{\"value\":0.9},\"left\":{\"expr\":{\"id\":\"c1ec6eb1-36cb-4cb8-b7aa-801bc4e974ff\",\"type\":\"Stack\"}},\"line_color\":{\"value\":\"#d53e4f\"},\"right\":{\"expr\":{\"id\":\"fe686a50-45b7-4db8-9905-07364ba993aa\",\"type\":\"Stack\"}},\"y\":{\"field\":\"Ethnicity\"}},\"id\":\"83e4e707-0181-4c4f-8ef4-374890f66b93\",\"type\":\"HBar\"},{\"attributes\":{\"fields\":[\"Natural Causes/Illness\",\"Other\",\"Accidental injury to self\",\"Homicide by Law Enforcement/Correctional Staff\",\"Suicide\"]},\"id\":\"01e11b49-334c-4ad0-9a58-716f940479ee\",\"type\":\"Stack\"},{\"attributes\":{\"fill_alpha\":{\"value\":0.1},\"fill_color\":{\"value\":\"#1f77b4\"},\"height\":{\"value\":0.9},\"left\":{\"expr\":{\"id\":\"bdfb63c0-bc9f-4e8c-a673-3d698be0b1c5\",\"type\":\"Stack\"}},\"line_alpha\":{\"value\":0.1},\"line_color\":{\"value\":\"#1f77b4\"},\"right\":{\"expr\":{\"id\":\"daf8a161-01ef-4e9d-8e73-bc79838aa3e2\",\"type\":\"Stack\"}},\"y\":{\"field\":\"Ethnicity\"}},\"id\":\"37c0e5e3-48a2-485d-980d-7bd275577aa8\",\"type\":\"HBar\"},{\"attributes\":{\"label\":{\"value\":\"Homicide by Other\"},\"renderers\":[{\"id\":\"664c7bde-b8e3-4974-af1a-f085a80feae4\",\"type\":\"GlyphRenderer\"}]},\"id\":\"c4f947fe-c9ae-43af-9522-d625d690e15d\",\"type\":\"LegendItem\"},{\"attributes\":{\"data_source\":{\"id\":\"a5d64b79-a5ef-42eb-b8ab-88679f5d9582\",\"type\":\"ColumnDataSource\"},\"glyph\":{\"id\":\"508e9303-5268-4f71-9810-8592c47322bb\",\"type\":\"HBar\"},\"hover_glyph\":null,\"muted_glyph\":null,\"nonselection_glyph\":{\"id\":\"37c0e5e3-48a2-485d-980d-7bd275577aa8\",\"type\":\"HBar\"},\"selection_glyph\":null,\"view\":{\"id\":\"46340527-f7d5-42b2-8836-274e10dd2cd5\",\"type\":\"CDSView\"}},\"id\":\"664c7bde-b8e3-4974-af1a-f085a80feae4\",\"type\":\"GlyphRenderer\"},{\"attributes\":{\"source\":{\"id\":\"a5d64b79-a5ef-42eb-b8ab-88679f5d9582\",\"type\":\"ColumnDataSource\"}},\"id\":\"46340527-f7d5-42b2-8836-274e10dd2cd5\",\"type\":\"CDSView\"},{\"attributes\":{\"callback\":null,\"column_names\":[\"Ethnicity\",\"Accidental injury caused by others\",\"Natural Causes/Illness\",\"Other\",\"Accidental injury to self\",\"Homicide by Law Enforcement/Correctional Staff\",\"Suicide\",\"Alcohol/Drug Intoxication\",\"Homicide by Other\"],\"data\":{\"Accidental injury caused by others\":{\"__ndarray__\":\"AAAAAAMAAAAAAAAABgAAAAsAAAAAAAAAAQAAAAAAAAA=\",\"dtype\":\"int32\",\"shape\":[8]},\"Accidental injury to self\":{\"__ndarray__\":\"AAAAAD8AAAAAAAAAJAAAADYAAAABAAAAAAAAAAEAAAA=\",\"dtype\":\"int32\",\"shape\":[8]},\"Alcohol/Drug Intoxication\":{\"__ndarray__\":\"AAAAAGMAAAADAAAAXQAAAFgAAAAAAAAAAQAAAAAAAAA=\",\"dtype\":\"int32\",\"shape\":[8]},\"Ethnicity\":[\"Hispanic or Latino\",\"Black or African American\",\"Anglo or White\",\"Middle East\",\"Asian\",\"Other/Don't Know\",\"Native Hawaiian/Pacific Islander\",\"American Indian/Alaska Native\"],\"Homicide by Law Enforcement/Correctional Staff\":{\"__ndarray__\":\"BQAAAEEBAAAFAAAA1QAAACMBAAAHAAAAAQAAACMAAAA=\",\"dtype\":\"int32\",\"shape\":[8]},\"Homicide by Other\":{\"__ndarray__\":\"AAAAABkAAAABAAAAFgAAABgAAAAAAAAAAAAAAAAAAAA=\",\"dtype\":\"int32\",\"shape\":[8]},\"Natural Causes/Illness\":{\"__ndarray__\":\"BQAAAIcIAAATAAAAlwYAAFMFAAACAAAAAQAAAAYAAAA=\",\"dtype\":\"int32\",\"shape\":[8]},\"Other\":{\"__ndarray__\":\"AQAAAE0AAAAAAAAARAAAADgAAAAAAAAAAAAAAAEAAAA=\",\"dtype\":\"int32\",\"shape\":[8]},\"Suicide\":{\"__ndarray__\":\"AgAAAMcBAAAGAAAAkwAAAOUAAAACAAAAAQAAAAIAAAA=\",\"dtype\":\"int32\",\"shape\":[8]}}},\"id\":\"a5d64b79-a5ef-42eb-b8ab-88679f5d9582\",\"type\":\"ColumnDataSource\"},{\"attributes\":{\"formatter\":{\"id\":\"e8afd877-7c44-4c27-95dc-1dd35d26c6dc\",\"type\":\"BasicTickFormatter\"},\"minor_tick_line_color\":{\"value\":null},\"plot\":{\"id\":\"a00af1ac-b474-49fe-899b-bb243efe15dd\",\"subtype\":\"Figure\",\"type\":\"Plot\"},\"ticker\":{\"id\":\"15508c61-f518-4851-b9b5-f2f1e615c2c7\",\"type\":\"BasicTicker\"}},\"id\":\"e3a1a33a-f3df-4070-bf6e-fc3102613536\",\"type\":\"LinearAxis\"},{\"attributes\":{\"formatter\":{\"id\":\"366dee20-cf3b-4ca1-bae9-36a14891456d\",\"type\":\"CategoricalTickFormatter\"},\"minor_tick_line_color\":{\"value\":null},\"plot\":{\"id\":\"a00af1ac-b474-49fe-899b-bb243efe15dd\",\"subtype\":\"Figure\",\"type\":\"Plot\"},\"ticker\":{\"id\":\"6d4b6aba-5d89-44c9-ba9f-c2e199fef858\",\"type\":\"CategoricalTicker\"}},\"id\":\"0a446a75-3f57-417e-b48b-98c805aca3a3\",\"type\":\"CategoricalAxis\"},{\"attributes\":{\"data_source\":{\"id\":\"a5d64b79-a5ef-42eb-b8ab-88679f5d9582\",\"type\":\"ColumnDataSource\"},\"glyph\":{\"id\":\"83e4e707-0181-4c4f-8ef4-374890f66b93\",\"type\":\"HBar\"},\"hover_glyph\":null,\"muted_glyph\":null,\"nonselection_glyph\":{\"id\":\"d58f2945-b012-4821-b0ab-7cd23147be4a\",\"type\":\"HBar\"},\"selection_glyph\":null,\"view\":{\"id\":\"cd3a9a40-a066-490d-9c92-dab82afe8d28\",\"type\":\"CDSView\"}},\"id\":\"6131afb4-aa40-4bcf-9cfb-7e1c11141849\",\"type\":\"GlyphRenderer\"},{\"attributes\":{},\"id\":\"6d4b6aba-5d89-44c9-ba9f-c2e199fef858\",\"type\":\"CategoricalTicker\"},{\"attributes\":{},\"id\":\"15508c61-f518-4851-b9b5-f2f1e615c2c7\",\"type\":\"BasicTicker\"},{\"attributes\":{\"plot\":null,\"text\":\"Manner of Death by Ethnicity\"},\"id\":\"672fe033-da7d-40f1-b4ae-d93192e65518\",\"type\":\"Title\"},{\"attributes\":{\"label\":{\"value\":\"Accidental injury to self\"},\"renderers\":[{\"id\":\"f8898a45-7c4f-4e0d-aeb8-a5d6f87ef381\",\"type\":\"GlyphRenderer\"}]},\"id\":\"0dde0529-863d-4ffb-ac0d-d9a1f6c5db1d\",\"type\":\"LegendItem\"},{\"attributes\":{\"callback\":null,\"end\":6000,\"start\":0},\"id\":\"64604b4f-a34f-4e02-9183-9dedfc20c6e1\",\"type\":\"DataRange1d\"},{\"attributes\":{\"callback\":null,\"factors\":[\"Hispanic or Latino\",\"Black or African American\",\"Anglo or White\",\"Middle East\",\"Asian\",\"Other/Don't Know\",\"Native Hawaiian/Pacific Islander\",\"American Indian/Alaska Native\"],\"range_padding\":0.1},\"id\":\"aaaeb77a-e4eb-417c-97b0-05dbbfd2004a\",\"type\":\"FactorRange\"},{\"attributes\":{\"fields\":[]},\"id\":\"e99d8e06-b3b3-4943-845f-78f21cc8d5c8\",\"type\":\"Stack\"},{\"attributes\":{\"grid_line_color\":{\"value\":null},\"plot\":{\"id\":\"a00af1ac-b474-49fe-899b-bb243efe15dd\",\"subtype\":\"Figure\",\"type\":\"Plot\"},\"ticker\":{\"id\":\"15508c61-f518-4851-b9b5-f2f1e615c2c7\",\"type\":\"BasicTicker\"}},\"id\":\"c25ac025-8f2e-4cff-935e-ca1d0de41fbc\",\"type\":\"Grid\"},{\"attributes\":{},\"id\":\"60b37bff-70d5-4e42-881b-a4d5eae7c207\",\"type\":\"LinearScale\"},{\"attributes\":{\"items\":[{\"id\":\"54e32f8b-49c9-4bb5-85c9-d7324e048040\",\"type\":\"LegendItem\"},{\"id\":\"70623a96-81ad-477f-b59f-9ab6ff74775d\",\"type\":\"LegendItem\"},{\"id\":\"0dde0529-863d-4ffb-ac0d-d9a1f6c5db1d\",\"type\":\"LegendItem\"},{\"id\":\"9b482a50-f73e-40b9-aad0-d11114076da1\",\"type\":\"LegendItem\"},{\"id\":\"1caa203c-59eb-4236-89e6-04a2be641215\",\"type\":\"LegendItem\"},{\"id\":\"047b9ff5-9656-49b6-a0f6-7ca97dc1a66f\",\"type\":\"LegendItem\"},{\"id\":\"c4f947fe-c9ae-43af-9522-d625d690e15d\",\"type\":\"LegendItem\"},{\"id\":\"1e547fd2-9e97-4981-9e2d-c327da41742c\",\"type\":\"LegendItem\"}],\"plot\":{\"id\":\"a00af1ac-b474-49fe-899b-bb243efe15dd\",\"subtype\":\"Figure\",\"type\":\"Plot\"}},\"id\":\"2749108d-cb5d-41b7-92d5-3ac9c6ffcdbd\",\"type\":\"Legend\"},{\"attributes\":{\"fields\":[\"Natural Causes/Illness\",\"Other\"]},\"id\":\"e0104554-5dfc-4863-a04b-1e900bae18f8\",\"type\":\"Stack\"}],\"root_ids\":[\"a00af1ac-b474-49fe-899b-bb243efe15dd\"]},\"title\":\"Bokeh Application\",\"version\":\"0.12.13\"}};\n",
       "  var render_items = [{\"docid\":\"3fa879ad-d150-46bf-98e6-a96d004d90b7\",\"elementid\":\"f707d08f-24a2-4854-8ba1-24fc633bb276\",\"modelid\":\"a00af1ac-b474-49fe-899b-bb243efe15dd\"}];\n",
       "  root.Bokeh.embed.embed_items_notebook(docs_json, render_items);\n",
       "\n",
       "  }\n",
       "  if (root.Bokeh !== undefined) {\n",
       "    embed_document(root);\n",
       "  } else {\n",
       "    var attempts = 0;\n",
       "    var timer = setInterval(function(root) {\n",
       "      if (root.Bokeh !== undefined) {\n",
       "        embed_document(root);\n",
       "        clearInterval(timer);\n",
       "      }\n",
       "      attempts++;\n",
       "      if (attempts > 100) {\n",
       "        console.log(\"Bokeh: ERROR: Unable to run BokehJS code because BokehJS library is missing\")\n",
       "        clearInterval(timer);\n",
       "      }\n",
       "    }, 10, root)\n",
       "  }\n",
       "})(window);"
      ],
      "application/vnd.bokehjs_exec.v0+json": ""
     },
     "metadata": {
      "application/vnd.bokehjs_exec.v0+json": {
       "id": "a00af1ac-b474-49fe-899b-bb243efe15dd"
      }
     },
     "output_type": "display_data"
    }
   ],
   "source": [
    "data= {'Ethnicity': eth, 'Accidental injury caused by others' : death_eth_df['Accidental injury caused by others'].values, \n",
    "       'Natural Causes/Illness': death_eth_df['Natural Causes/Illness'].values,  'Other':death_eth_df['Other'].values, \n",
    "       'Accidental injury to self': death_eth_df['Accidental injury to self'].values,  \n",
    "       'Homicide by Law Enforcement/Correctional Staff': death_eth_df['Homicide by Law Enforcement/Correctional Staff'].values,\n",
    "       'Suicide': death_eth_df['Suicide'].values, 'Alcohol/Drug Intoxication': death_eth_df['Alcohol/Drug Intoxication'].values, \n",
    "       'Homicide by Other': death_eth_df['Homicide by Other'].values}\n",
    "\n",
    "source = ColumnDataSource(data=data)\n",
    "\n",
    "g = figure(y_range= data['Ethnicity'], plot_height=500,plot_width=900, title=\"Manner of Death by Ethnicity\",\n",
    "           toolbar_location=None, tools=\"\")\n",
    "\n",
    "\n",
    "g.hbar_stack(deathtype, y= 'Ethnicity', height=0.9, color=Spectral8, source=source,\n",
    "             legend=[value(x) for x in deathtype])\n",
    "\n",
    "g.x_range.start = 0\n",
    "g.x_range.end = 6000\n",
    "g.y_range.range_padding = 0.1\n",
    "g.xgrid.grid_line_color = None\n",
    "g.axis.minor_tick_line_color = None\n",
    "g.outline_line_color = None\n",
    "g.legend.location = \"top_right\"\n",
    "g.legend.orientation = \"vertical\"\n",
    "\n",
    "show(g)\n"
   ]
  },
  {
   "cell_type": "code",
   "execution_count": 4,
   "metadata": {
    "scrolled": true
   },
   "outputs": [
    {
     "data": {
      "text/html": [
       "<div>\n",
       "<style scoped>\n",
       "    .dataframe tbody tr th:only-of-type {\n",
       "        vertical-align: middle;\n",
       "    }\n",
       "\n",
       "    .dataframe tbody tr th {\n",
       "        vertical-align: top;\n",
       "    }\n",
       "\n",
       "    .dataframe thead th {\n",
       "        text-align: right;\n",
       "    }\n",
       "</style>\n",
       "<table border=\"1\" class=\"dataframe\">\n",
       "  <thead>\n",
       "    <tr style=\"text-align: right;\">\n",
       "      <th>Department Name</th>\n",
       "      <th>Austin Police Dept.</th>\n",
       "      <th>Dallas County Sheriff's Dept.</th>\n",
       "      <th>Dallas Police Dept.</th>\n",
       "      <th>Fort Worth Police Dept.</th>\n",
       "      <th>Harris County Sheriff's Dept.</th>\n",
       "      <th>Houston Police Dept.</th>\n",
       "      <th>San Antonio Police Dept.</th>\n",
       "      <th>Texas Department Of Criminal Justice</th>\n",
       "      <th>Texas Department Of Public Safety</th>\n",
       "      <th>Travis County Sheriff's Dept.</th>\n",
       "    </tr>\n",
       "    <tr>\n",
       "      <th>Ethnicity</th>\n",
       "      <th></th>\n",
       "      <th></th>\n",
       "      <th></th>\n",
       "      <th></th>\n",
       "      <th></th>\n",
       "      <th></th>\n",
       "      <th></th>\n",
       "      <th></th>\n",
       "      <th></th>\n",
       "      <th></th>\n",
       "    </tr>\n",
       "  </thead>\n",
       "  <tbody>\n",
       "    <tr>\n",
       "      <th>American Indian/Alaska Native</th>\n",
       "      <td>0</td>\n",
       "      <td>1</td>\n",
       "      <td>0</td>\n",
       "      <td>0</td>\n",
       "      <td>1</td>\n",
       "      <td>0</td>\n",
       "      <td>0</td>\n",
       "      <td>4</td>\n",
       "      <td>0</td>\n",
       "      <td>0</td>\n",
       "    </tr>\n",
       "    <tr>\n",
       "      <th>Anglo or White</th>\n",
       "      <td>21</td>\n",
       "      <td>29</td>\n",
       "      <td>30</td>\n",
       "      <td>29</td>\n",
       "      <td>66</td>\n",
       "      <td>50</td>\n",
       "      <td>27</td>\n",
       "      <td>2154</td>\n",
       "      <td>51</td>\n",
       "      <td>21</td>\n",
       "    </tr>\n",
       "    <tr>\n",
       "      <th>Asian</th>\n",
       "      <td>1</td>\n",
       "      <td>1</td>\n",
       "      <td>0</td>\n",
       "      <td>1</td>\n",
       "      <td>3</td>\n",
       "      <td>3</td>\n",
       "      <td>2</td>\n",
       "      <td>17</td>\n",
       "      <td>0</td>\n",
       "      <td>0</td>\n",
       "    </tr>\n",
       "    <tr>\n",
       "      <th>Black or African American</th>\n",
       "      <td>11</td>\n",
       "      <td>55</td>\n",
       "      <td>61</td>\n",
       "      <td>16</td>\n",
       "      <td>116</td>\n",
       "      <td>113</td>\n",
       "      <td>25</td>\n",
       "      <td>1546</td>\n",
       "      <td>9</td>\n",
       "      <td>16</td>\n",
       "    </tr>\n",
       "    <tr>\n",
       "      <th>Hispanic or Latino</th>\n",
       "      <td>6</td>\n",
       "      <td>12</td>\n",
       "      <td>27</td>\n",
       "      <td>16</td>\n",
       "      <td>42</td>\n",
       "      <td>65</td>\n",
       "      <td>82</td>\n",
       "      <td>1347</td>\n",
       "      <td>20</td>\n",
       "      <td>10</td>\n",
       "    </tr>\n",
       "    <tr>\n",
       "      <th>Middle East</th>\n",
       "      <td>0</td>\n",
       "      <td>0</td>\n",
       "      <td>1</td>\n",
       "      <td>0</td>\n",
       "      <td>2</td>\n",
       "      <td>2</td>\n",
       "      <td>1</td>\n",
       "      <td>3</td>\n",
       "      <td>0</td>\n",
       "      <td>0</td>\n",
       "    </tr>\n",
       "    <tr>\n",
       "      <th>Native Hawaiian/Pacific Islander</th>\n",
       "      <td>0</td>\n",
       "      <td>0</td>\n",
       "      <td>1</td>\n",
       "      <td>0</td>\n",
       "      <td>0</td>\n",
       "      <td>0</td>\n",
       "      <td>0</td>\n",
       "      <td>0</td>\n",
       "      <td>0</td>\n",
       "      <td>0</td>\n",
       "    </tr>\n",
       "    <tr>\n",
       "      <th>Other/Don't Know</th>\n",
       "      <td>0</td>\n",
       "      <td>0</td>\n",
       "      <td>0</td>\n",
       "      <td>0</td>\n",
       "      <td>1</td>\n",
       "      <td>0</td>\n",
       "      <td>1</td>\n",
       "      <td>6</td>\n",
       "      <td>0</td>\n",
       "      <td>0</td>\n",
       "    </tr>\n",
       "  </tbody>\n",
       "</table>\n",
       "</div>"
      ],
      "text/plain": [
       "Department Name                   Austin Police Dept.  \\\n",
       "Ethnicity                                               \n",
       "American Indian/Alaska Native                       0   \n",
       "Anglo or White                                     21   \n",
       "Asian                                               1   \n",
       "Black or African American                          11   \n",
       "Hispanic or Latino                                  6   \n",
       "Middle East                                         0   \n",
       "Native Hawaiian/Pacific Islander                    0   \n",
       "Other/Don't Know                                    0   \n",
       "\n",
       "Department Name                   Dallas County Sheriff's Dept.  \\\n",
       "Ethnicity                                                         \n",
       "American Indian/Alaska Native                                 1   \n",
       "Anglo or White                                               29   \n",
       "Asian                                                         1   \n",
       "Black or African American                                    55   \n",
       "Hispanic or Latino                                           12   \n",
       "Middle East                                                   0   \n",
       "Native Hawaiian/Pacific Islander                              0   \n",
       "Other/Don't Know                                              0   \n",
       "\n",
       "Department Name                   Dallas Police Dept.  \\\n",
       "Ethnicity                                               \n",
       "American Indian/Alaska Native                       0   \n",
       "Anglo or White                                     30   \n",
       "Asian                                               0   \n",
       "Black or African American                          61   \n",
       "Hispanic or Latino                                 27   \n",
       "Middle East                                         1   \n",
       "Native Hawaiian/Pacific Islander                    1   \n",
       "Other/Don't Know                                    0   \n",
       "\n",
       "Department Name                   Fort Worth Police Dept.  \\\n",
       "Ethnicity                                                   \n",
       "American Indian/Alaska Native                           0   \n",
       "Anglo or White                                         29   \n",
       "Asian                                                   1   \n",
       "Black or African American                              16   \n",
       "Hispanic or Latino                                     16   \n",
       "Middle East                                             0   \n",
       "Native Hawaiian/Pacific Islander                        0   \n",
       "Other/Don't Know                                        0   \n",
       "\n",
       "Department Name                   Harris County Sheriff's Dept.  \\\n",
       "Ethnicity                                                         \n",
       "American Indian/Alaska Native                                 1   \n",
       "Anglo or White                                               66   \n",
       "Asian                                                         3   \n",
       "Black or African American                                   116   \n",
       "Hispanic or Latino                                           42   \n",
       "Middle East                                                   2   \n",
       "Native Hawaiian/Pacific Islander                              0   \n",
       "Other/Don't Know                                              1   \n",
       "\n",
       "Department Name                   Houston Police Dept.  \\\n",
       "Ethnicity                                                \n",
       "American Indian/Alaska Native                        0   \n",
       "Anglo or White                                      50   \n",
       "Asian                                                3   \n",
       "Black or African American                          113   \n",
       "Hispanic or Latino                                  65   \n",
       "Middle East                                          2   \n",
       "Native Hawaiian/Pacific Islander                     0   \n",
       "Other/Don't Know                                     0   \n",
       "\n",
       "Department Name                   San Antonio Police Dept.  \\\n",
       "Ethnicity                                                    \n",
       "American Indian/Alaska Native                            0   \n",
       "Anglo or White                                          27   \n",
       "Asian                                                    2   \n",
       "Black or African American                               25   \n",
       "Hispanic or Latino                                      82   \n",
       "Middle East                                              1   \n",
       "Native Hawaiian/Pacific Islander                         0   \n",
       "Other/Don't Know                                         1   \n",
       "\n",
       "Department Name                   Texas Department Of Criminal Justice  \\\n",
       "Ethnicity                                                                \n",
       "American Indian/Alaska Native                                        4   \n",
       "Anglo or White                                                    2154   \n",
       "Asian                                                               17   \n",
       "Black or African American                                         1546   \n",
       "Hispanic or Latino                                                1347   \n",
       "Middle East                                                          3   \n",
       "Native Hawaiian/Pacific Islander                                     0   \n",
       "Other/Don't Know                                                     6   \n",
       "\n",
       "Department Name                   Texas Department Of Public Safety  \\\n",
       "Ethnicity                                                             \n",
       "American Indian/Alaska Native                                     0   \n",
       "Anglo or White                                                   51   \n",
       "Asian                                                             0   \n",
       "Black or African American                                         9   \n",
       "Hispanic or Latino                                               20   \n",
       "Middle East                                                       0   \n",
       "Native Hawaiian/Pacific Islander                                  0   \n",
       "Other/Don't Know                                                  0   \n",
       "\n",
       "Department Name                   Travis County Sheriff's Dept.  \n",
       "Ethnicity                                                        \n",
       "American Indian/Alaska Native                                 0  \n",
       "Anglo or White                                               21  \n",
       "Asian                                                         0  \n",
       "Black or African American                                    16  \n",
       "Hispanic or Latino                                           10  \n",
       "Middle East                                                   0  \n",
       "Native Hawaiian/Pacific Islander                              0  \n",
       "Other/Don't Know                                              0  "
      ]
     },
     "execution_count": 4,
     "metadata": {},
     "output_type": "execute_result"
    }
   ],
   "source": [
    "major = cust[(cust['Department Name'] == 'Texas Department Of Criminal Justice') | (cust['Department Name'] == 'Harris County Sheriff\\'s Dept.')| (cust['Department Name'] == 'Houston Police Dept.')| (cust['Department Name'] == 'San Antonio Police Dept.')| (cust['Department Name'] == 'Fort Worth Police Dept.')| (cust['Department Name'] == 'Dallas Police Dept.')| (cust['Department Name'] == 'Dallas County Sheriff\\'s Dept.') | (cust['Department Name'] == 'Bexar County Sheriff\\s Dept.')| (cust['Department Name'] == 'Texas Department Of Public Safety')| (cust['Department Name'] == 'Austin Police Dept.')| (cust['Department Name'] == 'Tarrant County Sheriff\\s Dept.')| (cust['Department Name'] == 'Travis County Sheriff\\'s Dept.')]  \n",
    "reduce =major.groupby(['Ethnicity', 'Department Name'])['Last Name'].count().sort_values(ascending = False)\n",
    "majdept = reduce.unstack()\n",
    "majdept = majdept.fillna(0).astype(int)\n",
    "majdept"
   ]
  },
  {
   "cell_type": "code",
   "execution_count": null,
   "metadata": {},
   "outputs": [],
   "source": []
  },
  {
   "cell_type": "code",
   "execution_count": 5,
   "metadata": {},
   "outputs": [],
   "source": [
    "dept = cust.groupby(['Department Name'])['Last Name'].count()"
   ]
  },
  {
   "cell_type": "code",
   "execution_count": 7,
   "metadata": {},
   "outputs": [
    {
     "data": {
      "text/plain": [
       "Index(['Austin Police Dept.', 'Dallas County Sheriff's Dept.',\n",
       "       'Dallas Police Dept.', 'Fort Worth Police Dept.',\n",
       "       'Harris County Sheriff's Dept.', 'Houston Police Dept.',\n",
       "       'San Antonio Police Dept.', 'Texas Department Of Criminal Justice',\n",
       "       'Texas Department Of Public Safety', 'Travis County Sheriff's Dept.'],\n",
       "      dtype='object', name='Department Name')"
      ]
     },
     "execution_count": 7,
     "metadata": {},
     "output_type": "execute_result"
    }
   ],
   "source": [
    "majdept.columns"
   ]
  },
  {
   "cell_type": "code",
   "execution_count": 8,
   "metadata": {},
   "outputs": [
    {
     "name": "stdout",
     "output_type": "stream",
     "text": [
      "% of deaths in custody of Houston PD that were Black: 0.484978540773\n"
     ]
    }
   ],
   "source": [
    "print (\"% of deaths in custody of Houston PD that were Black:\", majdept.loc['Black or African American', 'Houston Police Dept.']/dept['Houston Police Dept.'])"
   ]
  },
  {
   "cell_type": "code",
   "execution_count": 9,
   "metadata": {},
   "outputs": [
    {
     "name": "stdout",
     "output_type": "stream",
     "text": [
      "% of deaths in custody of Houston PD that were Black: 0.214592274678\n"
     ]
    }
   ],
   "source": [
    "print (\"% of deaths in custody of Houston PD that were Black:\", majdept.loc['Anglo or White', 'Houston Police Dept.']/dept['Houston Police Dept.'])"
   ]
  },
  {
   "cell_type": "code",
   "execution_count": null,
   "metadata": {},
   "outputs": [],
   "source": []
  },
  {
   "cell_type": "code",
   "execution_count": 40,
   "metadata": {},
   "outputs": [
    {
     "data": {
      "text/html": [
       "\n",
       "<div class=\"bk-root\">\n",
       "    <div class=\"bk-plotdiv\" id=\"ebb5202c-9a7b-4089-b21a-a8e9d2ec9e77\"></div>\n",
       "</div>"
      ]
     },
     "metadata": {},
     "output_type": "display_data"
    },
    {
     "data": {
      "application/javascript": [
       "(function(root) {\n",
       "  function embed_document(root) {\n",
       "    \n",
       "  var docs_json = {\"eff310e0-66f5-4a2d-8b93-5e2bacea8f95\":{\"roots\":{\"references\":[{\"attributes\":{\"dimension\":1,\"plot\":{\"id\":\"23f0dbae-8633-4ad4-b020-6a897f350d93\",\"subtype\":\"Figure\",\"type\":\"Plot\"},\"ticker\":{\"id\":\"1c18f749-3e5d-4fb3-89de-84a931bb0441\",\"type\":\"BasicTicker\"}},\"id\":\"1cd9b228-3eab-4907-9660-d0d0ea202ff3\",\"type\":\"Grid\"},{\"attributes\":{},\"id\":\"1c18f749-3e5d-4fb3-89de-84a931bb0441\",\"type\":\"BasicTicker\"},{\"attributes\":{\"formatter\":{\"id\":\"653a3b1f-ba26-46df-b811-2610e7ba201f\",\"type\":\"BasicTickFormatter\"},\"plot\":{\"id\":\"23f0dbae-8633-4ad4-b020-6a897f350d93\",\"subtype\":\"Figure\",\"type\":\"Plot\"},\"ticker\":{\"id\":\"1c18f749-3e5d-4fb3-89de-84a931bb0441\",\"type\":\"BasicTicker\"}},\"id\":\"0344813b-50d8-4d09-9530-713ea3783a97\",\"type\":\"LinearAxis\"},{\"attributes\":{},\"id\":\"2b16f50a-a479-4849-aea4-0b9d0a026750\",\"type\":\"SaveTool\"},{\"attributes\":{\"source\":{\"id\":\"f7528128-7aea-43cf-9b85-e0935583ebc2\",\"type\":\"ColumnDataSource\"}},\"id\":\"d8e23c9e-04d1-48c1-b835-eeabe8a5bb40\",\"type\":\"CDSView\"},{\"attributes\":{},\"id\":\"2240d6d7-7cb1-4f64-80c5-35aa012573c9\",\"type\":\"LinearScale\"},{\"attributes\":{\"plot\":{\"id\":\"23f0dbae-8633-4ad4-b020-6a897f350d93\",\"subtype\":\"Figure\",\"type\":\"Plot\"},\"ticker\":{\"id\":\"2121d524-55d5-4052-97a6-de91bfd57a7f\",\"type\":\"BasicTicker\"}},\"id\":\"713cdab9-b8d9-4d7c-99ab-1f166ca50fea\",\"type\":\"Grid\"},{\"attributes\":{},\"id\":\"5a537bc3-01b6-49da-8f5b-4f0b3d182b57\",\"type\":\"WheelZoomTool\"},{\"attributes\":{},\"id\":\"2c9667e0-cd43-4235-9fd7-c8a8bc16fe5e\",\"type\":\"LinearScale\"},{\"attributes\":{\"overlay\":{\"id\":\"4de44ae6-1084-456c-b8e9-a2c8b7266047\",\"type\":\"BoxAnnotation\"}},\"id\":\"b5d4b0c2-7fc9-4127-a246-d142b38a45a7\",\"type\":\"BoxZoomTool\"},{\"attributes\":{\"callback\":null,\"start\":-1},\"id\":\"301f52d5-3f6b-4591-8440-355917943d4c\",\"type\":\"Range1d\"},{\"attributes\":{\"end_angle\":{\"field\":\"end_angle\",\"units\":\"rad\"},\"fill_alpha\":{\"value\":0.1},\"fill_color\":{\"value\":\"#1f77b4\"},\"line_alpha\":{\"value\":0.1},\"line_color\":{\"value\":\"#1f77b4\"},\"radius\":{\"units\":\"data\",\"value\":1},\"start_angle\":{\"field\":\"start_angle\",\"units\":\"rad\"},\"x\":{\"value\":0},\"y\":{\"value\":0}},\"id\":\"f7dc6dd1-bca5-4fe7-85c1-8ff3fc83abbd\",\"type\":\"Wedge\"},{\"attributes\":{},\"id\":\"85fc7789-50e2-42cf-832c-ece2a8e8437e\",\"type\":\"ResetTool\"},{\"attributes\":{\"end_angle\":{\"field\":\"end_angle\",\"units\":\"rad\"},\"fill_color\":{\"field\":\"fill_color\"},\"line_color\":{\"field\":\"line_color\"},\"radius\":{\"units\":\"data\",\"value\":1},\"start_angle\":{\"field\":\"start_angle\",\"units\":\"rad\"},\"x\":{\"value\":0},\"y\":{\"value\":0}},\"id\":\"a92fd1dd-4816-4cfb-a6bc-77199fc23b78\",\"type\":\"Wedge\"},{\"attributes\":{\"callback\":null,\"column_names\":[\"start_angle\",\"end_angle\",\"fill_color\",\"line_color\"],\"data\":{\"end_angle\":[1.8849555921538759,2.5132741228718345,3.7699111843077517,5.654866776461628,6.283185307179586],\"fill_color\":[\"red\",\"green\",\"blue\",\"orange\",\"yellow\"],\"line_color\":[\"red\",\"green\",\"blue\",\"orange\",\"yellow\"],\"start_angle\":[0.0,1.8849555921538759,2.5132741228718345,3.7699111843077517,5.654866776461628]}},\"id\":\"f7528128-7aea-43cf-9b85-e0935583ebc2\",\"type\":\"ColumnDataSource\"},{\"attributes\":{},\"id\":\"b8dd6848-01bb-45ba-b05d-45c53e218f7f\",\"type\":\"HelpTool\"},{\"attributes\":{\"callback\":null,\"start\":-1},\"id\":\"192c35b8-bd40-4f63-b067-638dc9dcd556\",\"type\":\"Range1d\"},{\"attributes\":{\"formatter\":{\"id\":\"a73057e9-cd11-4fa4-9ce1-5db2fc610dea\",\"type\":\"BasicTickFormatter\"},\"plot\":{\"id\":\"23f0dbae-8633-4ad4-b020-6a897f350d93\",\"subtype\":\"Figure\",\"type\":\"Plot\"},\"ticker\":{\"id\":\"2121d524-55d5-4052-97a6-de91bfd57a7f\",\"type\":\"BasicTicker\"}},\"id\":\"7f95803e-27ea-41b0-bba0-2dc78f4c4c58\",\"type\":\"LinearAxis\"},{\"attributes\":{\"active_drag\":\"auto\",\"active_inspect\":\"auto\",\"active_scroll\":\"auto\",\"active_tap\":\"auto\",\"tools\":[{\"id\":\"caa1f1ee-e822-4d96-acf8-c6b437c36a35\",\"type\":\"PanTool\"},{\"id\":\"5a537bc3-01b6-49da-8f5b-4f0b3d182b57\",\"type\":\"WheelZoomTool\"},{\"id\":\"b5d4b0c2-7fc9-4127-a246-d142b38a45a7\",\"type\":\"BoxZoomTool\"},{\"id\":\"2b16f50a-a479-4849-aea4-0b9d0a026750\",\"type\":\"SaveTool\"},{\"id\":\"85fc7789-50e2-42cf-832c-ece2a8e8437e\",\"type\":\"ResetTool\"},{\"id\":\"b8dd6848-01bb-45ba-b05d-45c53e218f7f\",\"type\":\"HelpTool\"}]},\"id\":\"e00f5ce2-920d-4da0-914c-b17c69ac3a5b\",\"type\":\"Toolbar\"},{\"attributes\":{\"plot\":null,\"text\":\"\"},\"id\":\"b979f4fa-2438-476d-b6c6-0dc5a2a7461d\",\"type\":\"Title\"},{\"attributes\":{},\"id\":\"653a3b1f-ba26-46df-b811-2610e7ba201f\",\"type\":\"BasicTickFormatter\"},{\"attributes\":{\"below\":[{\"id\":\"7f95803e-27ea-41b0-bba0-2dc78f4c4c58\",\"type\":\"LinearAxis\"}],\"left\":[{\"id\":\"0344813b-50d8-4d09-9530-713ea3783a97\",\"type\":\"LinearAxis\"}],\"renderers\":[{\"id\":\"7f95803e-27ea-41b0-bba0-2dc78f4c4c58\",\"type\":\"LinearAxis\"},{\"id\":\"713cdab9-b8d9-4d7c-99ab-1f166ca50fea\",\"type\":\"Grid\"},{\"id\":\"0344813b-50d8-4d09-9530-713ea3783a97\",\"type\":\"LinearAxis\"},{\"id\":\"1cd9b228-3eab-4907-9660-d0d0ea202ff3\",\"type\":\"Grid\"},{\"id\":\"4de44ae6-1084-456c-b8e9-a2c8b7266047\",\"type\":\"BoxAnnotation\"},{\"id\":\"33916e7b-4801-403b-9ff0-474939d8121b\",\"type\":\"GlyphRenderer\"}],\"title\":{\"id\":\"b979f4fa-2438-476d-b6c6-0dc5a2a7461d\",\"type\":\"Title\"},\"toolbar\":{\"id\":\"e00f5ce2-920d-4da0-914c-b17c69ac3a5b\",\"type\":\"Toolbar\"},\"x_range\":{\"id\":\"192c35b8-bd40-4f63-b067-638dc9dcd556\",\"type\":\"Range1d\"},\"x_scale\":{\"id\":\"2240d6d7-7cb1-4f64-80c5-35aa012573c9\",\"type\":\"LinearScale\"},\"y_range\":{\"id\":\"301f52d5-3f6b-4591-8440-355917943d4c\",\"type\":\"Range1d\"},\"y_scale\":{\"id\":\"2c9667e0-cd43-4235-9fd7-c8a8bc16fe5e\",\"type\":\"LinearScale\"}},\"id\":\"23f0dbae-8633-4ad4-b020-6a897f350d93\",\"subtype\":\"Figure\",\"type\":\"Plot\"},{\"attributes\":{\"data_source\":{\"id\":\"f7528128-7aea-43cf-9b85-e0935583ebc2\",\"type\":\"ColumnDataSource\"},\"glyph\":{\"id\":\"a92fd1dd-4816-4cfb-a6bc-77199fc23b78\",\"type\":\"Wedge\"},\"hover_glyph\":null,\"muted_glyph\":null,\"nonselection_glyph\":{\"id\":\"f7dc6dd1-bca5-4fe7-85c1-8ff3fc83abbd\",\"type\":\"Wedge\"},\"selection_glyph\":null,\"view\":{\"id\":\"d8e23c9e-04d1-48c1-b835-eeabe8a5bb40\",\"type\":\"CDSView\"}},\"id\":\"33916e7b-4801-403b-9ff0-474939d8121b\",\"type\":\"GlyphRenderer\"},{\"attributes\":{},\"id\":\"a73057e9-cd11-4fa4-9ce1-5db2fc610dea\",\"type\":\"BasicTickFormatter\"},{\"attributes\":{},\"id\":\"2121d524-55d5-4052-97a6-de91bfd57a7f\",\"type\":\"BasicTicker\"},{\"attributes\":{},\"id\":\"caa1f1ee-e822-4d96-acf8-c6b437c36a35\",\"type\":\"PanTool\"},{\"attributes\":{\"bottom_units\":\"screen\",\"fill_alpha\":{\"value\":0.5},\"fill_color\":{\"value\":\"lightgrey\"},\"left_units\":\"screen\",\"level\":\"overlay\",\"line_alpha\":{\"value\":1.0},\"line_color\":{\"value\":\"black\"},\"line_dash\":[4,4],\"line_width\":{\"value\":2},\"plot\":null,\"render_mode\":\"css\",\"right_units\":\"screen\",\"top_units\":\"screen\"},\"id\":\"4de44ae6-1084-456c-b8e9-a2c8b7266047\",\"type\":\"BoxAnnotation\"}],\"root_ids\":[\"23f0dbae-8633-4ad4-b020-6a897f350d93\"]},\"title\":\"Bokeh Application\",\"version\":\"0.12.13\"}};\n",
       "  var render_items = [{\"docid\":\"eff310e0-66f5-4a2d-8b93-5e2bacea8f95\",\"elementid\":\"ebb5202c-9a7b-4089-b21a-a8e9d2ec9e77\",\"modelid\":\"23f0dbae-8633-4ad4-b020-6a897f350d93\"}];\n",
       "  root.Bokeh.embed.embed_items_notebook(docs_json, render_items);\n",
       "\n",
       "  }\n",
       "  if (root.Bokeh !== undefined) {\n",
       "    embed_document(root);\n",
       "  } else {\n",
       "    var attempts = 0;\n",
       "    var timer = setInterval(function(root) {\n",
       "      if (root.Bokeh !== undefined) {\n",
       "        embed_document(root);\n",
       "        clearInterval(timer);\n",
       "      }\n",
       "      attempts++;\n",
       "      if (attempts > 100) {\n",
       "        console.log(\"Bokeh: ERROR: Unable to run BokehJS code because BokehJS library is missing\")\n",
       "        clearInterval(timer);\n",
       "      }\n",
       "    }, 10, root)\n",
       "  }\n",
       "})(window);"
      ],
      "application/vnd.bokehjs_exec.v0+json": ""
     },
     "metadata": {
      "application/vnd.bokehjs_exec.v0+json": {
       "id": "23f0dbae-8633-4ad4-b020-6a897f350d93"
      }
     },
     "output_type": "display_data"
    }
   ],
   "source": [
    "# define starts/ends for wedges from percentages of a circle\n",
    "\n",
    "percents = [0, 0.3, 0.4, 0.6, 0.9, 1]\n",
    "starts = [p*2*pi for p in percents[:-1]]\n",
    "ends = [p*2*pi for p in percents[1:]]\n",
    "\n",
    "# a color for each pie piece\n",
    "colors = [\"red\", \"green\", \"blue\", \"orange\", \"yellow\"]\n",
    "\n",
    "pie = figure(x_range=(-1,1), y_range=(-1,1))\n",
    "\n",
    "pie.wedge(x=0, y=0, radius=1, start_angle=starts, end_angle=ends, color=colors)\n",
    "\n",
    "show(pie)"
   ]
  },
  {
   "cell_type": "code",
   "execution_count": null,
   "metadata": {},
   "outputs": [],
   "source": []
  },
  {
   "cell_type": "code",
   "execution_count": null,
   "metadata": {},
   "outputs": [],
   "source": [
    "'''\n",
    "from bokeh.models import ColumnDataSource, HoverTool\n",
    "from bokeh.plotting import figure\n",
    "from bokeh.palettes import Spectral5\n",
    "from bokeh.sampledata.autompg import autompg_clean as df\n",
    "from bokeh.transform import factor_cmap\n",
    "\n",
    "output_file(\"bars.html\")\n",
    "\n",
    "df.cyl = df.cyl.astype(str)\n",
    "df.yr = df.yr.astype(str)\n",
    "\n",
    "group = df.groupby(('cyl', 'mfr'))\n",
    "\n",
    "source = ColumnDataSource(group)\n",
    "index_cmap = factor_cmap('cyl_mfr', palette=Spectral5, factors=sorted(df.cyl.unique()), end=1)\n",
    "\n",
    "p = figure(plot_width=800, plot_height=300, title=\"Mean MPG by # Cylinders and Manufacturer\",\n",
    "           x_range=group, toolbar_location=None, tools=\"\")\n",
    "\n",
    "p.vbar(x='cyl_mfr', top='mpg_mean', width=1, source=source,\n",
    "       line_color=\"white\", fill_color=index_cmap, )\n",
    "\n",
    "p.y_range.start = 0\n",
    "p.x_range.range_padding = 0.05\n",
    "p.xgrid.grid_line_color = None\n",
    "p.xaxis.axis_label = \"Manufacturer grouped by # Cylinders\"\n",
    "p.xaxis.major_label_orientation = 1.2\n",
    "p.outline_line_color = None\n",
    "\n",
    "p.add_tools(HoverTool(tooltips=[(\"MPG\", \"@mpg_mean\"), (\"Cyl, Mfr\", \"@cyl_mfr\")]))\n",
    "\n",
    "show(p)\n",
    "'''"
   ]
  }
 ],
 "metadata": {
  "kernelspec": {
   "display_name": "Python 3",
   "language": "python",
   "name": "python3"
  },
  "language_info": {
   "codemirror_mode": {
    "name": "ipython",
    "version": 3
   },
   "file_extension": ".py",
   "mimetype": "text/x-python",
   "name": "python",
   "nbconvert_exporter": "python",
   "pygments_lexer": "ipython3",
   "version": "3.6.3"
  }
 },
 "nbformat": 4,
 "nbformat_minor": 2
}
