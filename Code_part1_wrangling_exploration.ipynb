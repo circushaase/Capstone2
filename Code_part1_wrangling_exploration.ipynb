{
 "cells": [
  {
   "cell_type": "code",
   "execution_count": 1,
   "metadata": {},
   "outputs": [
    {
     "name": "stdout",
     "output_type": "stream",
     "text": [
      "Populating the interactive namespace from numpy and matplotlib\n"
     ]
    },
    {
     "data": {
      "text/html": [
       "\n",
       "    <div class=\"bk-root\">\n",
       "        <a href=\"https://bokeh.pydata.org\" target=\"_blank\" class=\"bk-logo bk-logo-small bk-logo-notebook\"></a>\n",
       "        <span id=\"aead6588-718e-4105-b2b2-18b4fda12118\">Loading BokehJS ...</span>\n",
       "    </div>"
      ]
     },
     "metadata": {},
     "output_type": "display_data"
    },
    {
     "data": {
      "application/javascript": [
       "\n",
       "(function(root) {\n",
       "  function now() {\n",
       "    return new Date();\n",
       "  }\n",
       "\n",
       "  var force = true;\n",
       "\n",
       "  if (typeof (root._bokeh_onload_callbacks) === \"undefined\" || force === true) {\n",
       "    root._bokeh_onload_callbacks = [];\n",
       "    root._bokeh_is_loading = undefined;\n",
       "  }\n",
       "\n",
       "  var JS_MIME_TYPE = 'application/javascript';\n",
       "  var HTML_MIME_TYPE = 'text/html';\n",
       "  var EXEC_MIME_TYPE = 'application/vnd.bokehjs_exec.v0+json';\n",
       "  var CLASS_NAME = 'output_bokeh rendered_html';\n",
       "\n",
       "  /**\n",
       "   * Render data to the DOM node\n",
       "   */\n",
       "  function render(props, node) {\n",
       "    var script = document.createElement(\"script\");\n",
       "    node.appendChild(script);\n",
       "  }\n",
       "\n",
       "  /**\n",
       "   * Handle when an output is cleared or removed\n",
       "   */\n",
       "  function handleClearOutput(event, handle) {\n",
       "    var cell = handle.cell;\n",
       "\n",
       "    var id = cell.output_area._bokeh_element_id;\n",
       "    var server_id = cell.output_area._bokeh_server_id;\n",
       "    // Clean up Bokeh references\n",
       "    if (id !== undefined) {\n",
       "      Bokeh.index[id].model.document.clear();\n",
       "      delete Bokeh.index[id];\n",
       "    }\n",
       "\n",
       "    if (server_id !== undefined) {\n",
       "      // Clean up Bokeh references\n",
       "      var cmd = \"from bokeh.io.state import curstate; print(curstate().uuid_to_server['\" + server_id + \"'].get_sessions()[0].document.roots[0]._id)\";\n",
       "      cell.notebook.kernel.execute(cmd, {\n",
       "        iopub: {\n",
       "          output: function(msg) {\n",
       "            var element_id = msg.content.text.trim();\n",
       "            Bokeh.index[element_id].model.document.clear();\n",
       "            delete Bokeh.index[element_id];\n",
       "          }\n",
       "        }\n",
       "      });\n",
       "      // Destroy server and session\n",
       "      var cmd = \"import bokeh.io.notebook as ion; ion.destroy_server('\" + server_id + \"')\";\n",
       "      cell.notebook.kernel.execute(cmd);\n",
       "    }\n",
       "  }\n",
       "\n",
       "  /**\n",
       "   * Handle when a new output is added\n",
       "   */\n",
       "  function handleAddOutput(event, handle) {\n",
       "    var output_area = handle.output_area;\n",
       "    var output = handle.output;\n",
       "\n",
       "    // limit handleAddOutput to display_data with EXEC_MIME_TYPE content only\n",
       "    if ((output.output_type != \"display_data\") || (!output.data.hasOwnProperty(EXEC_MIME_TYPE))) {\n",
       "      return\n",
       "    }\n",
       "\n",
       "    var toinsert = output_area.element.find(\".\" + CLASS_NAME.split(' ')[0]);\n",
       "\n",
       "    if (output.metadata[EXEC_MIME_TYPE][\"id\"] !== undefined) {\n",
       "      toinsert[0].firstChild.textContent = output.data[JS_MIME_TYPE];\n",
       "      // store reference to embed id on output_area\n",
       "      output_area._bokeh_element_id = output.metadata[EXEC_MIME_TYPE][\"id\"];\n",
       "    }\n",
       "    if (output.metadata[EXEC_MIME_TYPE][\"server_id\"] !== undefined) {\n",
       "      var bk_div = document.createElement(\"div\");\n",
       "      bk_div.innerHTML = output.data[HTML_MIME_TYPE];\n",
       "      var script_attrs = bk_div.children[0].attributes;\n",
       "      for (var i = 0; i < script_attrs.length; i++) {\n",
       "        toinsert[0].firstChild.setAttribute(script_attrs[i].name, script_attrs[i].value);\n",
       "      }\n",
       "      // store reference to server id on output_area\n",
       "      output_area._bokeh_server_id = output.metadata[EXEC_MIME_TYPE][\"server_id\"];\n",
       "    }\n",
       "  }\n",
       "\n",
       "  function register_renderer(events, OutputArea) {\n",
       "\n",
       "    function append_mime(data, metadata, element) {\n",
       "      // create a DOM node to render to\n",
       "      var toinsert = this.create_output_subarea(\n",
       "        metadata,\n",
       "        CLASS_NAME,\n",
       "        EXEC_MIME_TYPE\n",
       "      );\n",
       "      this.keyboard_manager.register_events(toinsert);\n",
       "      // Render to node\n",
       "      var props = {data: data, metadata: metadata[EXEC_MIME_TYPE]};\n",
       "      render(props, toinsert[0]);\n",
       "      element.append(toinsert);\n",
       "      return toinsert\n",
       "    }\n",
       "\n",
       "    /* Handle when an output is cleared or removed */\n",
       "    events.on('clear_output.CodeCell', handleClearOutput);\n",
       "    events.on('delete.Cell', handleClearOutput);\n",
       "\n",
       "    /* Handle when a new output is added */\n",
       "    events.on('output_added.OutputArea', handleAddOutput);\n",
       "\n",
       "    /**\n",
       "     * Register the mime type and append_mime function with output_area\n",
       "     */\n",
       "    OutputArea.prototype.register_mime_type(EXEC_MIME_TYPE, append_mime, {\n",
       "      /* Is output safe? */\n",
       "      safe: true,\n",
       "      /* Index of renderer in `output_area.display_order` */\n",
       "      index: 0\n",
       "    });\n",
       "  }\n",
       "\n",
       "  // register the mime type if in Jupyter Notebook environment and previously unregistered\n",
       "  if (root.Jupyter !== undefined) {\n",
       "    var events = require('base/js/events');\n",
       "    var OutputArea = require('notebook/js/outputarea').OutputArea;\n",
       "\n",
       "    if (OutputArea.prototype.mime_types().indexOf(EXEC_MIME_TYPE) == -1) {\n",
       "      register_renderer(events, OutputArea);\n",
       "    }\n",
       "  }\n",
       "\n",
       "  \n",
       "  if (typeof (root._bokeh_timeout) === \"undefined\" || force === true) {\n",
       "    root._bokeh_timeout = Date.now() + 5000;\n",
       "    root._bokeh_failed_load = false;\n",
       "  }\n",
       "\n",
       "  var NB_LOAD_WARNING = {'data': {'text/html':\n",
       "     \"<div style='background-color: #fdd'>\\n\"+\n",
       "     \"<p>\\n\"+\n",
       "     \"BokehJS does not appear to have successfully loaded. If loading BokehJS from CDN, this \\n\"+\n",
       "     \"may be due to a slow or bad network connection. Possible fixes:\\n\"+\n",
       "     \"</p>\\n\"+\n",
       "     \"<ul>\\n\"+\n",
       "     \"<li>re-rerun `output_notebook()` to attempt to load from CDN again, or</li>\\n\"+\n",
       "     \"<li>use INLINE resources instead, as so:</li>\\n\"+\n",
       "     \"</ul>\\n\"+\n",
       "     \"<code>\\n\"+\n",
       "     \"from bokeh.resources import INLINE\\n\"+\n",
       "     \"output_notebook(resources=INLINE)\\n\"+\n",
       "     \"</code>\\n\"+\n",
       "     \"</div>\"}};\n",
       "\n",
       "  function display_loaded() {\n",
       "    var el = document.getElementById(\"aead6588-718e-4105-b2b2-18b4fda12118\");\n",
       "    if (el != null) {\n",
       "      el.textContent = \"BokehJS is loading...\";\n",
       "    }\n",
       "    if (root.Bokeh !== undefined) {\n",
       "      if (el != null) {\n",
       "        el.textContent = \"BokehJS \" + root.Bokeh.version + \" successfully loaded.\";\n",
       "      }\n",
       "    } else if (Date.now() < root._bokeh_timeout) {\n",
       "      setTimeout(display_loaded, 100)\n",
       "    }\n",
       "  }\n",
       "\n",
       "\n",
       "  function run_callbacks() {\n",
       "    try {\n",
       "      root._bokeh_onload_callbacks.forEach(function(callback) { callback() });\n",
       "    }\n",
       "    finally {\n",
       "      delete root._bokeh_onload_callbacks\n",
       "    }\n",
       "    console.info(\"Bokeh: all callbacks have finished\");\n",
       "  }\n",
       "\n",
       "  function load_libs(js_urls, callback) {\n",
       "    root._bokeh_onload_callbacks.push(callback);\n",
       "    if (root._bokeh_is_loading > 0) {\n",
       "      console.log(\"Bokeh: BokehJS is being loaded, scheduling callback at\", now());\n",
       "      return null;\n",
       "    }\n",
       "    if (js_urls == null || js_urls.length === 0) {\n",
       "      run_callbacks();\n",
       "      return null;\n",
       "    }\n",
       "    console.log(\"Bokeh: BokehJS not loaded, scheduling load and callback at\", now());\n",
       "    root._bokeh_is_loading = js_urls.length;\n",
       "    for (var i = 0; i < js_urls.length; i++) {\n",
       "      var url = js_urls[i];\n",
       "      var s = document.createElement('script');\n",
       "      s.src = url;\n",
       "      s.async = false;\n",
       "      s.onreadystatechange = s.onload = function() {\n",
       "        root._bokeh_is_loading--;\n",
       "        if (root._bokeh_is_loading === 0) {\n",
       "          console.log(\"Bokeh: all BokehJS libraries loaded\");\n",
       "          run_callbacks()\n",
       "        }\n",
       "      };\n",
       "      s.onerror = function() {\n",
       "        console.warn(\"failed to load library \" + url);\n",
       "      };\n",
       "      console.log(\"Bokeh: injecting script tag for BokehJS library: \", url);\n",
       "      document.getElementsByTagName(\"head\")[0].appendChild(s);\n",
       "    }\n",
       "  };var element = document.getElementById(\"aead6588-718e-4105-b2b2-18b4fda12118\");\n",
       "  if (element == null) {\n",
       "    console.log(\"Bokeh: ERROR: autoload.js configured with elementid 'aead6588-718e-4105-b2b2-18b4fda12118' but no matching script tag was found. \")\n",
       "    return false;\n",
       "  }\n",
       "\n",
       "  var js_urls = [\"https://cdn.pydata.org/bokeh/release/bokeh-0.12.13.min.js\", \"https://cdn.pydata.org/bokeh/release/bokeh-widgets-0.12.13.min.js\", \"https://cdn.pydata.org/bokeh/release/bokeh-tables-0.12.13.min.js\", \"https://cdn.pydata.org/bokeh/release/bokeh-gl-0.12.13.min.js\"];\n",
       "\n",
       "  var inline_js = [\n",
       "    function(Bokeh) {\n",
       "      Bokeh.set_log_level(\"info\");\n",
       "    },\n",
       "    \n",
       "    function(Bokeh) {\n",
       "      \n",
       "    },\n",
       "    function(Bokeh) {\n",
       "      console.log(\"Bokeh: injecting CSS: https://cdn.pydata.org/bokeh/release/bokeh-0.12.13.min.css\");\n",
       "      Bokeh.embed.inject_css(\"https://cdn.pydata.org/bokeh/release/bokeh-0.12.13.min.css\");\n",
       "      console.log(\"Bokeh: injecting CSS: https://cdn.pydata.org/bokeh/release/bokeh-widgets-0.12.13.min.css\");\n",
       "      Bokeh.embed.inject_css(\"https://cdn.pydata.org/bokeh/release/bokeh-widgets-0.12.13.min.css\");\n",
       "      console.log(\"Bokeh: injecting CSS: https://cdn.pydata.org/bokeh/release/bokeh-tables-0.12.13.min.css\");\n",
       "      Bokeh.embed.inject_css(\"https://cdn.pydata.org/bokeh/release/bokeh-tables-0.12.13.min.css\");\n",
       "    }\n",
       "  ];\n",
       "\n",
       "  function run_inline_js() {\n",
       "    \n",
       "    if ((root.Bokeh !== undefined) || (force === true)) {\n",
       "      for (var i = 0; i < inline_js.length; i++) {\n",
       "        inline_js[i].call(root, root.Bokeh);\n",
       "      }if (force === true) {\n",
       "        display_loaded();\n",
       "      }} else if (Date.now() < root._bokeh_timeout) {\n",
       "      setTimeout(run_inline_js, 100);\n",
       "    } else if (!root._bokeh_failed_load) {\n",
       "      console.log(\"Bokeh: BokehJS failed to load within specified timeout.\");\n",
       "      root._bokeh_failed_load = true;\n",
       "    } else if (force !== true) {\n",
       "      var cell = $(document.getElementById(\"aead6588-718e-4105-b2b2-18b4fda12118\")).parents('.cell').data().cell;\n",
       "      cell.output_area.append_execute_result(NB_LOAD_WARNING)\n",
       "    }\n",
       "\n",
       "  }\n",
       "\n",
       "  if (root._bokeh_is_loading === 0) {\n",
       "    console.log(\"Bokeh: BokehJS loaded, going straight to plotting\");\n",
       "    run_inline_js();\n",
       "  } else {\n",
       "    load_libs(js_urls, function() {\n",
       "      console.log(\"Bokeh: BokehJS plotting callback run at\", now());\n",
       "      run_inline_js();\n",
       "    });\n",
       "  }\n",
       "}(window));"
      ],
      "application/vnd.bokehjs_load.v0+json": "\n(function(root) {\n  function now() {\n    return new Date();\n  }\n\n  var force = true;\n\n  if (typeof (root._bokeh_onload_callbacks) === \"undefined\" || force === true) {\n    root._bokeh_onload_callbacks = [];\n    root._bokeh_is_loading = undefined;\n  }\n\n  \n\n  \n  if (typeof (root._bokeh_timeout) === \"undefined\" || force === true) {\n    root._bokeh_timeout = Date.now() + 5000;\n    root._bokeh_failed_load = false;\n  }\n\n  var NB_LOAD_WARNING = {'data': {'text/html':\n     \"<div style='background-color: #fdd'>\\n\"+\n     \"<p>\\n\"+\n     \"BokehJS does not appear to have successfully loaded. If loading BokehJS from CDN, this \\n\"+\n     \"may be due to a slow or bad network connection. Possible fixes:\\n\"+\n     \"</p>\\n\"+\n     \"<ul>\\n\"+\n     \"<li>re-rerun `output_notebook()` to attempt to load from CDN again, or</li>\\n\"+\n     \"<li>use INLINE resources instead, as so:</li>\\n\"+\n     \"</ul>\\n\"+\n     \"<code>\\n\"+\n     \"from bokeh.resources import INLINE\\n\"+\n     \"output_notebook(resources=INLINE)\\n\"+\n     \"</code>\\n\"+\n     \"</div>\"}};\n\n  function display_loaded() {\n    var el = document.getElementById(\"aead6588-718e-4105-b2b2-18b4fda12118\");\n    if (el != null) {\n      el.textContent = \"BokehJS is loading...\";\n    }\n    if (root.Bokeh !== undefined) {\n      if (el != null) {\n        el.textContent = \"BokehJS \" + root.Bokeh.version + \" successfully loaded.\";\n      }\n    } else if (Date.now() < root._bokeh_timeout) {\n      setTimeout(display_loaded, 100)\n    }\n  }\n\n\n  function run_callbacks() {\n    try {\n      root._bokeh_onload_callbacks.forEach(function(callback) { callback() });\n    }\n    finally {\n      delete root._bokeh_onload_callbacks\n    }\n    console.info(\"Bokeh: all callbacks have finished\");\n  }\n\n  function load_libs(js_urls, callback) {\n    root._bokeh_onload_callbacks.push(callback);\n    if (root._bokeh_is_loading > 0) {\n      console.log(\"Bokeh: BokehJS is being loaded, scheduling callback at\", now());\n      return null;\n    }\n    if (js_urls == null || js_urls.length === 0) {\n      run_callbacks();\n      return null;\n    }\n    console.log(\"Bokeh: BokehJS not loaded, scheduling load and callback at\", now());\n    root._bokeh_is_loading = js_urls.length;\n    for (var i = 0; i < js_urls.length; i++) {\n      var url = js_urls[i];\n      var s = document.createElement('script');\n      s.src = url;\n      s.async = false;\n      s.onreadystatechange = s.onload = function() {\n        root._bokeh_is_loading--;\n        if (root._bokeh_is_loading === 0) {\n          console.log(\"Bokeh: all BokehJS libraries loaded\");\n          run_callbacks()\n        }\n      };\n      s.onerror = function() {\n        console.warn(\"failed to load library \" + url);\n      };\n      console.log(\"Bokeh: injecting script tag for BokehJS library: \", url);\n      document.getElementsByTagName(\"head\")[0].appendChild(s);\n    }\n  };var element = document.getElementById(\"aead6588-718e-4105-b2b2-18b4fda12118\");\n  if (element == null) {\n    console.log(\"Bokeh: ERROR: autoload.js configured with elementid 'aead6588-718e-4105-b2b2-18b4fda12118' but no matching script tag was found. \")\n    return false;\n  }\n\n  var js_urls = [\"https://cdn.pydata.org/bokeh/release/bokeh-0.12.13.min.js\", \"https://cdn.pydata.org/bokeh/release/bokeh-widgets-0.12.13.min.js\", \"https://cdn.pydata.org/bokeh/release/bokeh-tables-0.12.13.min.js\", \"https://cdn.pydata.org/bokeh/release/bokeh-gl-0.12.13.min.js\"];\n\n  var inline_js = [\n    function(Bokeh) {\n      Bokeh.set_log_level(\"info\");\n    },\n    \n    function(Bokeh) {\n      \n    },\n    function(Bokeh) {\n      console.log(\"Bokeh: injecting CSS: https://cdn.pydata.org/bokeh/release/bokeh-0.12.13.min.css\");\n      Bokeh.embed.inject_css(\"https://cdn.pydata.org/bokeh/release/bokeh-0.12.13.min.css\");\n      console.log(\"Bokeh: injecting CSS: https://cdn.pydata.org/bokeh/release/bokeh-widgets-0.12.13.min.css\");\n      Bokeh.embed.inject_css(\"https://cdn.pydata.org/bokeh/release/bokeh-widgets-0.12.13.min.css\");\n      console.log(\"Bokeh: injecting CSS: https://cdn.pydata.org/bokeh/release/bokeh-tables-0.12.13.min.css\");\n      Bokeh.embed.inject_css(\"https://cdn.pydata.org/bokeh/release/bokeh-tables-0.12.13.min.css\");\n    }\n  ];\n\n  function run_inline_js() {\n    \n    if ((root.Bokeh !== undefined) || (force === true)) {\n      for (var i = 0; i < inline_js.length; i++) {\n        inline_js[i].call(root, root.Bokeh);\n      }if (force === true) {\n        display_loaded();\n      }} else if (Date.now() < root._bokeh_timeout) {\n      setTimeout(run_inline_js, 100);\n    } else if (!root._bokeh_failed_load) {\n      console.log(\"Bokeh: BokehJS failed to load within specified timeout.\");\n      root._bokeh_failed_load = true;\n    } else if (force !== true) {\n      var cell = $(document.getElementById(\"aead6588-718e-4105-b2b2-18b4fda12118\")).parents('.cell').data().cell;\n      cell.output_area.append_execute_result(NB_LOAD_WARNING)\n    }\n\n  }\n\n  if (root._bokeh_is_loading === 0) {\n    console.log(\"Bokeh: BokehJS loaded, going straight to plotting\");\n    run_inline_js();\n  } else {\n    load_libs(js_urls, function() {\n      console.log(\"Bokeh: BokehJS plotting callback run at\", now());\n      run_inline_js();\n    });\n  }\n}(window));"
     },
     "metadata": {},
     "output_type": "display_data"
    }
   ],
   "source": [
    "import pandas as pd\n",
    "import numpy as np\n",
    "import matplotlib.pyplot as plt\n",
    "%pylab inline\n",
    "import seaborn as sns\n",
    "\n",
    "from bokeh.core.properties import value\n",
    "from bokeh.io import show, output_notebook\n",
    "from bokeh.plotting import *\n",
    "from bokeh.models import ColumnDataSource, FactorRange, Legend#, LabelSet\n",
    "from bokeh.palettes import Spectral6, Spectral8, Category20, Spectral3\n",
    "from bokeh.transform import factor_cmap\n",
    "\n",
    "output_notebook()\n",
    "\n",
    "from sklearn.preprocessing import LabelEncoder\n",
    "\n",
    "cust = pd.read_csv('custodial-deaths.csv')\n",
    "shoot = pd.read_csv('officer_shootings.csv')"
   ]
  },
  {
   "cell_type": "code",
   "execution_count": 2,
   "metadata": {},
   "outputs": [],
   "source": [
    "#Forward fill state abbreviation that were manually added to csv\n",
    "shoot['state'] = shoot['state'].ffill()"
   ]
  },
  {
   "cell_type": "code",
   "execution_count": 3,
   "metadata": {},
   "outputs": [],
   "source": [
    "#restrict Shooting df to only Texas departments\n",
    "shoot = shoot[shoot.state == 'TX']"
   ]
  },
  {
   "cell_type": "code",
   "execution_count": 4,
   "metadata": {},
   "outputs": [],
   "source": [
    "#add columns of years and months extracted from \"Death Date\"\n",
    "cust['year'] = pd.DatetimeIndex(cust['Death Date']).year\n",
    "cust['month'] = pd.DatetimeIndex(cust['Death Date']).month"
   ]
  },
  {
   "cell_type": "code",
   "execution_count": null,
   "metadata": {},
   "outputs": [],
   "source": []
  },
  {
   "cell_type": "code",
   "execution_count": 5,
   "metadata": {},
   "outputs": [
    {
     "name": "stderr",
     "output_type": "stream",
     "text": [
      "C:\\Users\\Lara\\Miniconda3\\lib\\site-packages\\bokeh\\models\\mappers.py:82: UserWarning: Palette length does not match number of factors. ['Homicide by Other', 'Accidental injury caused by others'] will be assigned to `nan_color` gray\n",
      "  warnings.warn(\"Palette length does not match number of factors. %s will be assigned to `nan_color` %s\" % (extra_factors, self.nan_color))\n"
     ]
    },
    {
     "data": {
      "text/html": [
       "\n",
       "<div class=\"bk-root\">\n",
       "    <div class=\"bk-plotdiv\" id=\"6d0e9647-4ecd-45b4-8902-2bee26451134\"></div>\n",
       "</div>"
      ]
     },
     "metadata": {},
     "output_type": "display_data"
    },
    {
     "data": {
      "application/javascript": [
       "(function(root) {\n",
       "  function embed_document(root) {\n",
       "    \n",
       "  var docs_json = {\"519c2c0d-b6a9-40f7-b349-a9c9a6932392\":{\"roots\":{\"references\":[{\"attributes\":{},\"id\":\"3d249a87-a5d0-486f-89b6-f0a08a234fab\",\"type\":\"LinearScale\"},{\"attributes\":{\"items\":[{\"id\":\"39c9397e-10ef-4993-a4d8-c570bab54c44\",\"type\":\"LegendItem\"}],\"plot\":{\"id\":\"935c7fbb-5a3a-4dbf-9b11-90c35b467917\",\"subtype\":\"Figure\",\"type\":\"Plot\"}},\"id\":\"65c2aa4e-774c-476e-a24a-346b7cfe5fb0\",\"type\":\"Legend\"},{\"attributes\":{\"fill_alpha\":{\"value\":0.1},\"fill_color\":{\"value\":\"#1f77b4\"},\"height\":{\"value\":0.5},\"line_alpha\":{\"value\":0.1},\"line_color\":{\"value\":\"#1f77b4\"},\"right\":{\"field\":\"mdcounts\"},\"y\":{\"field\":\"deathtype\"}},\"id\":\"f5ef021e-9e3c-4155-8b68-6ff294865e35\",\"type\":\"HBar\"},{\"attributes\":{},\"id\":\"6158f4c2-7a5f-4edf-b280-282882079fba\",\"type\":\"BasicTickFormatter\"},{\"attributes\":{\"grid_line_color\":{\"value\":null},\"plot\":{\"id\":\"935c7fbb-5a3a-4dbf-9b11-90c35b467917\",\"subtype\":\"Figure\",\"type\":\"Plot\"},\"ticker\":{\"id\":\"1aff7a4b-36a2-4a38-92e2-be32c8e2e050\",\"type\":\"BasicTicker\"}},\"id\":\"668eae6b-cdcd-473a-9685-fed8e3a86128\",\"type\":\"Grid\"},{\"attributes\":{\"label\":{\"field\":\"deathtype\"},\"renderers\":[{\"id\":\"6fb61510-71d1-4e93-9732-4ba3a330177a\",\"type\":\"GlyphRenderer\"}]},\"id\":\"39c9397e-10ef-4993-a4d8-c570bab54c44\",\"type\":\"LegendItem\"},{\"attributes\":{\"factors\":[\"Natural Causes/Illness\",\"Homicide by Law Enforcement/Correctional Staff\",\"Suicide\",\"Alcohol/Drug Intoxication\",\"Other\",\"Accidental injury to self\",\"Homicide by Other\",\"Accidental injury caused by others\"],\"palette\":[\"#3288bd\",\"#66c2a5\",\"#abdda4\",\"#e6f598\",\"#fee08b\",\"#fdae61\",\"#f46d43\",\"#d53e4f\"]},\"id\":\"266833a5-662c-4d48-b9c5-a6442dc49289\",\"type\":\"CategoricalColorMapper\"},{\"attributes\":{\"source\":{\"id\":\"d0f9375a-c56d-4323-bdb8-b3aab3776803\",\"type\":\"ColumnDataSource\"}},\"id\":\"397688a0-c364-467d-b92d-34960b488074\",\"type\":\"CDSView\"},{\"attributes\":{\"callback\":null,\"end\":6000,\"start\":0},\"id\":\"4223c0f6-61f9-4684-9bf2-2625a71e53c3\",\"type\":\"DataRange1d\"},{\"attributes\":{\"active_drag\":\"auto\",\"active_inspect\":\"auto\",\"active_scroll\":\"auto\",\"active_tap\":\"auto\"},\"id\":\"1a95451e-5252-4b24-906f-a1be6d981c12\",\"type\":\"Toolbar\"},{\"attributes\":{\"fill_color\":{\"field\":\"deathtype\",\"transform\":{\"id\":\"266833a5-662c-4d48-b9c5-a6442dc49289\",\"type\":\"CategoricalColorMapper\"}},\"height\":{\"value\":0.5},\"line_color\":{\"value\":\"white\"},\"right\":{\"field\":\"mdcounts\"},\"y\":{\"field\":\"deathtype\"}},\"id\":\"18a0f5b8-b982-4fbd-9d07-208e37fd1e7a\",\"type\":\"HBar\"},{\"attributes\":{\"callback\":null,\"factors\":[\"Natural Causes/Illness\",\"Homicide by Law Enforcement/Correctional Staff\",\"Suicide\",\"Alcohol/Drug Intoxication\",\"Other\",\"Accidental injury to self\",\"Homicide by Other\",\"Accidental injury caused by others\"]},\"id\":\"8dbe76b1-cda3-4989-979e-e9bd8c73533f\",\"type\":\"FactorRange\"},{\"attributes\":{\"below\":[{\"id\":\"029421c4-4e3c-46d8-9d6b-39e75ebd9eda\",\"type\":\"LinearAxis\"}],\"left\":[{\"id\":\"158cb30f-b9dd-46bc-83d8-67330701ddd6\",\"type\":\"CategoricalAxis\"}],\"plot_height\":500,\"plot_width\":900,\"renderers\":[{\"id\":\"029421c4-4e3c-46d8-9d6b-39e75ebd9eda\",\"type\":\"LinearAxis\"},{\"id\":\"668eae6b-cdcd-473a-9685-fed8e3a86128\",\"type\":\"Grid\"},{\"id\":\"158cb30f-b9dd-46bc-83d8-67330701ddd6\",\"type\":\"CategoricalAxis\"},{\"id\":\"961c21b8-115e-4e74-964e-d3804e433ba2\",\"type\":\"Grid\"},{\"id\":\"65c2aa4e-774c-476e-a24a-346b7cfe5fb0\",\"type\":\"Legend\"},{\"id\":\"6fb61510-71d1-4e93-9732-4ba3a330177a\",\"type\":\"GlyphRenderer\"}],\"title\":{\"id\":\"88ed8d46-d81a-4e99-9f30-27ede2240904\",\"type\":\"Title\"},\"toolbar\":{\"id\":\"1a95451e-5252-4b24-906f-a1be6d981c12\",\"type\":\"Toolbar\"},\"toolbar_location\":null,\"x_range\":{\"id\":\"4223c0f6-61f9-4684-9bf2-2625a71e53c3\",\"type\":\"DataRange1d\"},\"x_scale\":{\"id\":\"3d249a87-a5d0-486f-89b6-f0a08a234fab\",\"type\":\"LinearScale\"},\"y_range\":{\"id\":\"8dbe76b1-cda3-4989-979e-e9bd8c73533f\",\"type\":\"FactorRange\"},\"y_scale\":{\"id\":\"9983d4ae-22bb-4ca0-8058-c0f3a7592bd6\",\"type\":\"CategoricalScale\"}},\"id\":\"935c7fbb-5a3a-4dbf-9b11-90c35b467917\",\"subtype\":\"Figure\",\"type\":\"Plot\"},{\"attributes\":{\"plot\":null,\"text\":\"Manner of Death in Custody from 2005-2016\"},\"id\":\"88ed8d46-d81a-4e99-9f30-27ede2240904\",\"type\":\"Title\"},{\"attributes\":{\"data_source\":{\"id\":\"d0f9375a-c56d-4323-bdb8-b3aab3776803\",\"type\":\"ColumnDataSource\"},\"glyph\":{\"id\":\"18a0f5b8-b982-4fbd-9d07-208e37fd1e7a\",\"type\":\"HBar\"},\"hover_glyph\":null,\"muted_glyph\":null,\"nonselection_glyph\":{\"id\":\"f5ef021e-9e3c-4155-8b68-6ff294865e35\",\"type\":\"HBar\"},\"selection_glyph\":null,\"view\":{\"id\":\"397688a0-c364-467d-b92d-34960b488074\",\"type\":\"CDSView\"}},\"id\":\"6fb61510-71d1-4e93-9732-4ba3a330177a\",\"type\":\"GlyphRenderer\"},{\"attributes\":{\"dimension\":1,\"plot\":{\"id\":\"935c7fbb-5a3a-4dbf-9b11-90c35b467917\",\"subtype\":\"Figure\",\"type\":\"Plot\"},\"ticker\":{\"id\":\"f2a5a9c5-9555-4d54-bdfa-8b5c3b5fd0af\",\"type\":\"CategoricalTicker\"}},\"id\":\"961c21b8-115e-4e74-964e-d3804e433ba2\",\"type\":\"Grid\"},{\"attributes\":{},\"id\":\"73a25efd-67d2-4175-a420-462ba55d894d\",\"type\":\"CategoricalTickFormatter\"},{\"attributes\":{},\"id\":\"f2a5a9c5-9555-4d54-bdfa-8b5c3b5fd0af\",\"type\":\"CategoricalTicker\"},{\"attributes\":{\"formatter\":{\"id\":\"73a25efd-67d2-4175-a420-462ba55d894d\",\"type\":\"CategoricalTickFormatter\"},\"plot\":{\"id\":\"935c7fbb-5a3a-4dbf-9b11-90c35b467917\",\"subtype\":\"Figure\",\"type\":\"Plot\"},\"ticker\":{\"id\":\"f2a5a9c5-9555-4d54-bdfa-8b5c3b5fd0af\",\"type\":\"CategoricalTicker\"}},\"id\":\"158cb30f-b9dd-46bc-83d8-67330701ddd6\",\"type\":\"CategoricalAxis\"},{\"attributes\":{},\"id\":\"1aff7a4b-36a2-4a38-92e2-be32c8e2e050\",\"type\":\"BasicTicker\"},{\"attributes\":{\"callback\":null,\"column_names\":[\"deathtype\",\"mdcounts\"],\"data\":{\"deathtype\":[\"Natural Causes/Illness\",\"Homicide by Law Enforcement/Correctional Staff\",\"Suicide\",\"Alcohol/Drug Intoxication\",\"Other\",\"Accidental injury to self\",\"Homicide by Other\",\"Accidental injury caused by others\"],\"mdcounts\":[5266,884,844,284,203,155,72,21]}},\"id\":\"d0f9375a-c56d-4323-bdb8-b3aab3776803\",\"type\":\"ColumnDataSource\"},{\"attributes\":{\"axis_label\":\"Number of Deaths from 2005-2016\",\"formatter\":{\"id\":\"6158f4c2-7a5f-4edf-b280-282882079fba\",\"type\":\"BasicTickFormatter\"},\"plot\":{\"id\":\"935c7fbb-5a3a-4dbf-9b11-90c35b467917\",\"subtype\":\"Figure\",\"type\":\"Plot\"},\"ticker\":{\"id\":\"1aff7a4b-36a2-4a38-92e2-be32c8e2e050\",\"type\":\"BasicTicker\"}},\"id\":\"029421c4-4e3c-46d8-9d6b-39e75ebd9eda\",\"type\":\"LinearAxis\"},{\"attributes\":{},\"id\":\"9983d4ae-22bb-4ca0-8058-c0f3a7592bd6\",\"type\":\"CategoricalScale\"}],\"root_ids\":[\"935c7fbb-5a3a-4dbf-9b11-90c35b467917\"]},\"title\":\"Bokeh Application\",\"version\":\"0.12.13\"}};\n",
       "  var render_items = [{\"docid\":\"519c2c0d-b6a9-40f7-b349-a9c9a6932392\",\"elementid\":\"6d0e9647-4ecd-45b4-8902-2bee26451134\",\"modelid\":\"935c7fbb-5a3a-4dbf-9b11-90c35b467917\"}];\n",
       "  root.Bokeh.embed.embed_items_notebook(docs_json, render_items);\n",
       "\n",
       "  }\n",
       "  if (root.Bokeh !== undefined) {\n",
       "    embed_document(root);\n",
       "  } else {\n",
       "    var attempts = 0;\n",
       "    var timer = setInterval(function(root) {\n",
       "      if (root.Bokeh !== undefined) {\n",
       "        embed_document(root);\n",
       "        clearInterval(timer);\n",
       "      }\n",
       "      attempts++;\n",
       "      if (attempts > 100) {\n",
       "        console.log(\"Bokeh: ERROR: Unable to run BokehJS code because BokehJS library is missing\")\n",
       "        clearInterval(timer);\n",
       "      }\n",
       "    }, 10, root)\n",
       "  }\n",
       "})(window);"
      ],
      "application/vnd.bokehjs_exec.v0+json": ""
     },
     "metadata": {
      "application/vnd.bokehjs_exec.v0+json": {
       "id": "935c7fbb-5a3a-4dbf-9b11-90c35b467917"
      }
     },
     "output_type": "display_data"
    }
   ],
   "source": [
    "#Horizontal bar graph (using Bokeh) of the numbers of occurances of each Manner of Death\n",
    "mdcounts = cust['Manner Death'].value_counts()\n",
    "deathtype = list(mdcounts.index)\n",
    "\n",
    "source = ColumnDataSource(data=dict(deathtype=deathtype, mdcounts=mdcounts))\n",
    "\n",
    "p = figure(y_range=deathtype, plot_height=500, plot_width=900, title=\"Manner of Death in Custody from 2005-2016\",x_axis_label='Number of Deaths from 2005-2016',\n",
    "           toolbar_location=None, tools=\"\")\n",
    "\n",
    "p.hbar(y='deathtype', right='mdcounts', height=0.5, color='color', legend=\"deathtype\", source=source, \n",
    "       line_color='white', fill_color=factor_cmap('deathtype', palette=Spectral8, factors=deathtype))\n",
    "\n",
    "factor_cmap('deathtype', palette=Spectral6, factors=deathtype)\n",
    "\n",
    "p.xgrid.grid_line_color = None\n",
    "p.x_range.start = 0\n",
    "p.x_range.end = 6000\n",
    "p.legend.orientation = \"vertical\"\n",
    "p.legend.location = \"top_right\"\n",
    "\n",
    "show(p)"
   ]
  },
  {
   "cell_type": "code",
   "execution_count": 6,
   "metadata": {},
   "outputs": [
    {
     "data": {
      "text/plain": [
       "Natural Causes/Illness                            5266\n",
       "Homicide by Law Enforcement/Correctional Staff     884\n",
       "Suicide                                            844\n",
       "Alcohol/Drug Intoxication                          284\n",
       "Other                                              203\n",
       "Accidental injury to self                          155\n",
       "Homicide by Other                                   72\n",
       "Accidental injury caused by others                  21\n",
       "Name: Manner Death, dtype: int64"
      ]
     },
     "execution_count": 6,
     "metadata": {},
     "output_type": "execute_result"
    }
   ],
   "source": [
    "mdcounts"
   ]
  },
  {
   "cell_type": "code",
   "execution_count": 7,
   "metadata": {},
   "outputs": [
    {
     "name": "stdout",
     "output_type": "stream",
     "text": [
      "Percentage of Deaths caused by Homicide by Law Enforcement/Correctional Staff: 0.11437443395 %\n"
     ]
    }
   ],
   "source": [
    "homicide = mdcounts['Homicide by Law Enforcement/Correctional Staff']/mdcounts.sum()\n",
    "print(\"Percentage of Deaths caused by Homicide by Law Enforcement/Correctional Staff:\", homicide, '%')"
   ]
  },
  {
   "cell_type": "code",
   "execution_count": 8,
   "metadata": {},
   "outputs": [
    {
     "name": "stderr",
     "output_type": "stream",
     "text": [
      "C:\\Users\\Lara\\Miniconda3\\lib\\site-packages\\bokeh\\models\\mappers.py:82: UserWarning: Palette length does not match number of factors. ['Middle East', 'Native Hawaiian/Pacific Islander'] will be assigned to `nan_color` gray\n",
      "  warnings.warn(\"Palette length does not match number of factors. %s will be assigned to `nan_color` %s\" % (extra_factors, self.nan_color))\n"
     ]
    },
    {
     "data": {
      "text/html": [
       "\n",
       "<div class=\"bk-root\">\n",
       "    <div class=\"bk-plotdiv\" id=\"013f8ecc-b1f7-4242-b83b-0967fd9df1c2\"></div>\n",
       "</div>"
      ]
     },
     "metadata": {},
     "output_type": "display_data"
    },
    {
     "data": {
      "application/javascript": [
       "(function(root) {\n",
       "  function embed_document(root) {\n",
       "    \n",
       "  var docs_json = {\"7cedbd62-8615-4935-82d8-0a9d6cc75fbb\":{\"roots\":{\"references\":[{\"attributes\":{\"callback\":null,\"column_names\":[\"eth\",\"counts\"],\"data\":{\"counts\":[3228,2274,2117,46,34,13,12,5],\"eth\":[\"Anglo or White\",\"Black or African American\",\"Hispanic or Latino\",\"Other/Don't Know\",\"Asian\",\"American Indian/Alaska Native\",\"Middle East\",\"Native Hawaiian/Pacific Islander\"]}},\"id\":\"74def10f-6717-4c14-85db-26dc23e955cc\",\"type\":\"ColumnDataSource\"},{\"attributes\":{},\"id\":\"a97ec19e-ffef-4b07-8ab4-94f439aec9a2\",\"type\":\"BasicTickFormatter\"},{\"attributes\":{},\"id\":\"47de596a-da25-4867-a8f2-86e6b3417545\",\"type\":\"CategoricalTickFormatter\"},{\"attributes\":{\"fill_color\":{\"field\":\"eth\",\"transform\":{\"id\":\"e35660b7-2557-4950-8119-f2649893c54b\",\"type\":\"CategoricalColorMapper\"}},\"height\":{\"value\":0.5},\"line_color\":{\"value\":\"white\"},\"right\":{\"field\":\"counts\"},\"y\":{\"field\":\"eth\"}},\"id\":\"eaeef5f9-5acd-4a43-8715-50e9f94e0743\",\"type\":\"HBar\"},{\"attributes\":{\"dimension\":1,\"plot\":{\"id\":\"ad6d1b90-d6bf-479b-82c1-57b43a098b82\",\"subtype\":\"Figure\",\"type\":\"Plot\"},\"ticker\":{\"id\":\"a7b21e7c-ca1e-452b-b316-5aad967688a4\",\"type\":\"CategoricalTicker\"}},\"id\":\"562c6439-95ca-428b-99d6-874f7fe2c7d4\",\"type\":\"Grid\"},{\"attributes\":{\"grid_line_color\":{\"value\":null},\"plot\":{\"id\":\"ad6d1b90-d6bf-479b-82c1-57b43a098b82\",\"subtype\":\"Figure\",\"type\":\"Plot\"},\"ticker\":{\"id\":\"fe5c784a-11cf-40ab-9f50-97dae69abeac\",\"type\":\"BasicTicker\"}},\"id\":\"6708dfe5-a457-4a3c-b0ba-35f9b048a1a3\",\"type\":\"Grid\"},{\"attributes\":{\"items\":[{\"id\":\"d0e2e011-1ff5-4829-b36e-8faaffba1439\",\"type\":\"LegendItem\"}],\"plot\":{\"id\":\"ad6d1b90-d6bf-479b-82c1-57b43a098b82\",\"subtype\":\"Figure\",\"type\":\"Plot\"}},\"id\":\"198d4a07-f1d7-4c36-b207-9e5acd648952\",\"type\":\"Legend\"},{\"attributes\":{\"active_drag\":\"auto\",\"active_inspect\":\"auto\",\"active_scroll\":\"auto\",\"active_tap\":\"auto\"},\"id\":\"a0d0659b-2e7a-49d8-83e1-a79d3550218d\",\"type\":\"Toolbar\"},{\"attributes\":{\"source\":{\"id\":\"74def10f-6717-4c14-85db-26dc23e955cc\",\"type\":\"ColumnDataSource\"}},\"id\":\"8dcd229a-7712-4cad-ae22-8369515ff501\",\"type\":\"CDSView\"},{\"attributes\":{},\"id\":\"53f94138-3a01-4c8d-b0aa-f19cd7b46def\",\"type\":\"LinearScale\"},{\"attributes\":{\"callback\":null,\"end\":4000,\"start\":0},\"id\":\"dd330f91-6c6b-45ad-8123-2c815c24cab6\",\"type\":\"DataRange1d\"},{\"attributes\":{\"label\":{\"field\":\"eth\"},\"renderers\":[{\"id\":\"abf98394-be74-4336-bec6-1fdb44cb37ed\",\"type\":\"GlyphRenderer\"}]},\"id\":\"d0e2e011-1ff5-4829-b36e-8faaffba1439\",\"type\":\"LegendItem\"},{\"attributes\":{},\"id\":\"5abfbcbc-64cf-4c0e-98ec-5e619efec47a\",\"type\":\"CategoricalScale\"},{\"attributes\":{\"fill_alpha\":{\"value\":0.1},\"fill_color\":{\"value\":\"#1f77b4\"},\"height\":{\"value\":0.5},\"line_alpha\":{\"value\":0.1},\"line_color\":{\"value\":\"#1f77b4\"},\"right\":{\"field\":\"counts\"},\"y\":{\"field\":\"eth\"}},\"id\":\"a9a4d766-4dfd-4575-8d5d-c3ee6969be22\",\"type\":\"HBar\"},{\"attributes\":{\"callback\":null,\"factors\":[\"Anglo or White\",\"Black or African American\",\"Hispanic or Latino\",\"Other/Don't Know\",\"Asian\",\"American Indian/Alaska Native\",\"Middle East\",\"Native Hawaiian/Pacific Islander\"]},\"id\":\"17017c2f-ff99-4912-b1e0-521a7e051bc8\",\"type\":\"FactorRange\"},{\"attributes\":{\"data_source\":{\"id\":\"74def10f-6717-4c14-85db-26dc23e955cc\",\"type\":\"ColumnDataSource\"},\"glyph\":{\"id\":\"eaeef5f9-5acd-4a43-8715-50e9f94e0743\",\"type\":\"HBar\"},\"hover_glyph\":null,\"muted_glyph\":null,\"nonselection_glyph\":{\"id\":\"a9a4d766-4dfd-4575-8d5d-c3ee6969be22\",\"type\":\"HBar\"},\"selection_glyph\":null,\"view\":{\"id\":\"8dcd229a-7712-4cad-ae22-8369515ff501\",\"type\":\"CDSView\"}},\"id\":\"abf98394-be74-4336-bec6-1fdb44cb37ed\",\"type\":\"GlyphRenderer\"},{\"attributes\":{},\"id\":\"fe5c784a-11cf-40ab-9f50-97dae69abeac\",\"type\":\"BasicTicker\"},{\"attributes\":{\"factors\":[\"Anglo or White\",\"Black or African American\",\"Hispanic or Latino\",\"Other/Don't Know\",\"Asian\",\"American Indian/Alaska Native\",\"Middle East\",\"Native Hawaiian/Pacific Islander\"],\"palette\":[\"#3288bd\",\"#66c2a5\",\"#abdda4\",\"#e6f598\",\"#fee08b\",\"#fdae61\",\"#f46d43\",\"#d53e4f\"]},\"id\":\"e35660b7-2557-4950-8119-f2649893c54b\",\"type\":\"CategoricalColorMapper\"},{\"attributes\":{\"axis_label\":\"Number of Deaths from 2005-2016\",\"formatter\":{\"id\":\"a97ec19e-ffef-4b07-8ab4-94f439aec9a2\",\"type\":\"BasicTickFormatter\"},\"plot\":{\"id\":\"ad6d1b90-d6bf-479b-82c1-57b43a098b82\",\"subtype\":\"Figure\",\"type\":\"Plot\"},\"ticker\":{\"id\":\"fe5c784a-11cf-40ab-9f50-97dae69abeac\",\"type\":\"BasicTicker\"}},\"id\":\"00ea12d0-46fb-47c8-b316-56156385f5e6\",\"type\":\"LinearAxis\"},{\"attributes\":{\"plot\":null,\"text\":\"Ethnicity of Deaths in Custody\"},\"id\":\"0977268c-a67b-419c-9f9f-ba3b5d886f0d\",\"type\":\"Title\"},{\"attributes\":{\"formatter\":{\"id\":\"47de596a-da25-4867-a8f2-86e6b3417545\",\"type\":\"CategoricalTickFormatter\"},\"plot\":{\"id\":\"ad6d1b90-d6bf-479b-82c1-57b43a098b82\",\"subtype\":\"Figure\",\"type\":\"Plot\"},\"ticker\":{\"id\":\"a7b21e7c-ca1e-452b-b316-5aad967688a4\",\"type\":\"CategoricalTicker\"}},\"id\":\"498df381-718e-424e-993b-1369803e1d7f\",\"type\":\"CategoricalAxis\"},{\"attributes\":{\"below\":[{\"id\":\"00ea12d0-46fb-47c8-b316-56156385f5e6\",\"type\":\"LinearAxis\"}],\"left\":[{\"id\":\"498df381-718e-424e-993b-1369803e1d7f\",\"type\":\"CategoricalAxis\"}],\"plot_height\":500,\"plot_width\":900,\"renderers\":[{\"id\":\"00ea12d0-46fb-47c8-b316-56156385f5e6\",\"type\":\"LinearAxis\"},{\"id\":\"6708dfe5-a457-4a3c-b0ba-35f9b048a1a3\",\"type\":\"Grid\"},{\"id\":\"498df381-718e-424e-993b-1369803e1d7f\",\"type\":\"CategoricalAxis\"},{\"id\":\"562c6439-95ca-428b-99d6-874f7fe2c7d4\",\"type\":\"Grid\"},{\"id\":\"198d4a07-f1d7-4c36-b207-9e5acd648952\",\"type\":\"Legend\"},{\"id\":\"abf98394-be74-4336-bec6-1fdb44cb37ed\",\"type\":\"GlyphRenderer\"}],\"title\":{\"id\":\"0977268c-a67b-419c-9f9f-ba3b5d886f0d\",\"type\":\"Title\"},\"toolbar\":{\"id\":\"a0d0659b-2e7a-49d8-83e1-a79d3550218d\",\"type\":\"Toolbar\"},\"toolbar_location\":null,\"x_range\":{\"id\":\"dd330f91-6c6b-45ad-8123-2c815c24cab6\",\"type\":\"DataRange1d\"},\"x_scale\":{\"id\":\"53f94138-3a01-4c8d-b0aa-f19cd7b46def\",\"type\":\"LinearScale\"},\"y_range\":{\"id\":\"17017c2f-ff99-4912-b1e0-521a7e051bc8\",\"type\":\"FactorRange\"},\"y_scale\":{\"id\":\"5abfbcbc-64cf-4c0e-98ec-5e619efec47a\",\"type\":\"CategoricalScale\"}},\"id\":\"ad6d1b90-d6bf-479b-82c1-57b43a098b82\",\"subtype\":\"Figure\",\"type\":\"Plot\"},{\"attributes\":{},\"id\":\"a7b21e7c-ca1e-452b-b316-5aad967688a4\",\"type\":\"CategoricalTicker\"}],\"root_ids\":[\"ad6d1b90-d6bf-479b-82c1-57b43a098b82\"]},\"title\":\"Bokeh Application\",\"version\":\"0.12.13\"}};\n",
       "  var render_items = [{\"docid\":\"7cedbd62-8615-4935-82d8-0a9d6cc75fbb\",\"elementid\":\"013f8ecc-b1f7-4242-b83b-0967fd9df1c2\",\"modelid\":\"ad6d1b90-d6bf-479b-82c1-57b43a098b82\"}];\n",
       "  root.Bokeh.embed.embed_items_notebook(docs_json, render_items);\n",
       "\n",
       "  }\n",
       "  if (root.Bokeh !== undefined) {\n",
       "    embed_document(root);\n",
       "  } else {\n",
       "    var attempts = 0;\n",
       "    var timer = setInterval(function(root) {\n",
       "      if (root.Bokeh !== undefined) {\n",
       "        embed_document(root);\n",
       "        clearInterval(timer);\n",
       "      }\n",
       "      attempts++;\n",
       "      if (attempts > 100) {\n",
       "        console.log(\"Bokeh: ERROR: Unable to run BokehJS code because BokehJS library is missing\")\n",
       "        clearInterval(timer);\n",
       "      }\n",
       "    }, 10, root)\n",
       "  }\n",
       "})(window);"
      ],
      "application/vnd.bokehjs_exec.v0+json": ""
     },
     "metadata": {
      "application/vnd.bokehjs_exec.v0+json": {
       "id": "ad6d1b90-d6bf-479b-82c1-57b43a098b82"
      }
     },
     "output_type": "display_data"
    }
   ],
   "source": [
    "#Bar graph showing the Ethnicity of each death in custody\n",
    "counts = cust['Ethnicity'].value_counts()\n",
    "eth = list(counts.index)\n",
    "\n",
    "source = ColumnDataSource(data=dict(eth=eth, counts=counts))\n",
    "\n",
    "t = figure(y_range=eth, plot_height=500, plot_width=900, title=\"Ethnicity of Deaths in Custody\",x_axis_label='Number of Deaths from 2005-2016',\n",
    "           toolbar_location=None, tools=\"\")\n",
    "\n",
    "t.hbar(y='eth', right='counts', height=0.5, color='color', legend=\"eth\", source=source, \n",
    "       line_color='white', fill_color=factor_cmap('eth', palette=Spectral8, factors=eth))\n",
    "\n",
    "factor_cmap('eth', palette=Spectral6, factors=eth)\n",
    "\n",
    "t.xgrid.grid_line_color = None\n",
    "t.x_range.start = 0\n",
    "t.x_range.end = 4000\n",
    "t.legend.orientation = \"vertical\"\n",
    "t.legend.location = \"top_right\"\n",
    "\n",
    "show(t)"
   ]
  },
  {
   "cell_type": "code",
   "execution_count": null,
   "metadata": {},
   "outputs": [],
   "source": []
  },
  {
   "cell_type": "code",
   "execution_count": 9,
   "metadata": {},
   "outputs": [],
   "source": [
    "#create small df counting deaths grouped by Cause and Ethnicity\n",
    "breakdown = cust.groupby(['Ethnicity', 'Manner Death'])['Last Name'].count()\n",
    "death_eth_df = breakdown.unstack()\n",
    "death_eth_df = death_eth_df.fillna(0).astype(int)"
   ]
  },
  {
   "cell_type": "code",
   "execution_count": 10,
   "metadata": {
    "scrolled": true
   },
   "outputs": [
    {
     "data": {
      "text/html": [
       "<div>\n",
       "<style scoped>\n",
       "    .dataframe tbody tr th:only-of-type {\n",
       "        vertical-align: middle;\n",
       "    }\n",
       "\n",
       "    .dataframe tbody tr th {\n",
       "        vertical-align: top;\n",
       "    }\n",
       "\n",
       "    .dataframe thead th {\n",
       "        text-align: right;\n",
       "    }\n",
       "</style>\n",
       "<table border=\"1\" class=\"dataframe\">\n",
       "  <thead>\n",
       "    <tr style=\"text-align: right;\">\n",
       "      <th>Manner Death</th>\n",
       "      <th>Accidental injury caused by others</th>\n",
       "      <th>Accidental injury to self</th>\n",
       "      <th>Alcohol/Drug Intoxication</th>\n",
       "      <th>Homicide by Law Enforcement/Correctional Staff</th>\n",
       "      <th>Homicide by Other</th>\n",
       "      <th>Natural Causes/Illness</th>\n",
       "      <th>Other</th>\n",
       "      <th>Suicide</th>\n",
       "    </tr>\n",
       "    <tr>\n",
       "      <th>Ethnicity</th>\n",
       "      <th></th>\n",
       "      <th></th>\n",
       "      <th></th>\n",
       "      <th></th>\n",
       "      <th></th>\n",
       "      <th></th>\n",
       "      <th></th>\n",
       "      <th></th>\n",
       "    </tr>\n",
       "  </thead>\n",
       "  <tbody>\n",
       "    <tr>\n",
       "      <th>American Indian/Alaska Native</th>\n",
       "      <td>0</td>\n",
       "      <td>0</td>\n",
       "      <td>0</td>\n",
       "      <td>5</td>\n",
       "      <td>0</td>\n",
       "      <td>5</td>\n",
       "      <td>1</td>\n",
       "      <td>2</td>\n",
       "    </tr>\n",
       "    <tr>\n",
       "      <th>Anglo or White</th>\n",
       "      <td>3</td>\n",
       "      <td>63</td>\n",
       "      <td>99</td>\n",
       "      <td>321</td>\n",
       "      <td>25</td>\n",
       "      <td>2183</td>\n",
       "      <td>77</td>\n",
       "      <td>455</td>\n",
       "    </tr>\n",
       "    <tr>\n",
       "      <th>Asian</th>\n",
       "      <td>0</td>\n",
       "      <td>0</td>\n",
       "      <td>3</td>\n",
       "      <td>5</td>\n",
       "      <td>1</td>\n",
       "      <td>19</td>\n",
       "      <td>0</td>\n",
       "      <td>6</td>\n",
       "    </tr>\n",
       "    <tr>\n",
       "      <th>Black or African American</th>\n",
       "      <td>6</td>\n",
       "      <td>36</td>\n",
       "      <td>93</td>\n",
       "      <td>213</td>\n",
       "      <td>22</td>\n",
       "      <td>1687</td>\n",
       "      <td>68</td>\n",
       "      <td>147</td>\n",
       "    </tr>\n",
       "    <tr>\n",
       "      <th>Hispanic or Latino</th>\n",
       "      <td>11</td>\n",
       "      <td>54</td>\n",
       "      <td>88</td>\n",
       "      <td>291</td>\n",
       "      <td>24</td>\n",
       "      <td>1363</td>\n",
       "      <td>56</td>\n",
       "      <td>229</td>\n",
       "    </tr>\n",
       "    <tr>\n",
       "      <th>Middle East</th>\n",
       "      <td>0</td>\n",
       "      <td>1</td>\n",
       "      <td>0</td>\n",
       "      <td>7</td>\n",
       "      <td>0</td>\n",
       "      <td>2</td>\n",
       "      <td>0</td>\n",
       "      <td>2</td>\n",
       "    </tr>\n",
       "    <tr>\n",
       "      <th>Native Hawaiian/Pacific Islander</th>\n",
       "      <td>1</td>\n",
       "      <td>0</td>\n",
       "      <td>1</td>\n",
       "      <td>1</td>\n",
       "      <td>0</td>\n",
       "      <td>1</td>\n",
       "      <td>0</td>\n",
       "      <td>1</td>\n",
       "    </tr>\n",
       "    <tr>\n",
       "      <th>Other/Don't Know</th>\n",
       "      <td>0</td>\n",
       "      <td>1</td>\n",
       "      <td>0</td>\n",
       "      <td>35</td>\n",
       "      <td>0</td>\n",
       "      <td>6</td>\n",
       "      <td>1</td>\n",
       "      <td>2</td>\n",
       "    </tr>\n",
       "  </tbody>\n",
       "</table>\n",
       "</div>"
      ],
      "text/plain": [
       "Manner Death                      Accidental injury caused by others  \\\n",
       "Ethnicity                                                              \n",
       "American Indian/Alaska Native                                      0   \n",
       "Anglo or White                                                     3   \n",
       "Asian                                                              0   \n",
       "Black or African American                                          6   \n",
       "Hispanic or Latino                                                11   \n",
       "Middle East                                                        0   \n",
       "Native Hawaiian/Pacific Islander                                   1   \n",
       "Other/Don't Know                                                   0   \n",
       "\n",
       "Manner Death                      Accidental injury to self  \\\n",
       "Ethnicity                                                     \n",
       "American Indian/Alaska Native                             0   \n",
       "Anglo or White                                           63   \n",
       "Asian                                                     0   \n",
       "Black or African American                                36   \n",
       "Hispanic or Latino                                       54   \n",
       "Middle East                                               1   \n",
       "Native Hawaiian/Pacific Islander                          0   \n",
       "Other/Don't Know                                          1   \n",
       "\n",
       "Manner Death                      Alcohol/Drug Intoxication  \\\n",
       "Ethnicity                                                     \n",
       "American Indian/Alaska Native                             0   \n",
       "Anglo or White                                           99   \n",
       "Asian                                                     3   \n",
       "Black or African American                                93   \n",
       "Hispanic or Latino                                       88   \n",
       "Middle East                                               0   \n",
       "Native Hawaiian/Pacific Islander                          1   \n",
       "Other/Don't Know                                          0   \n",
       "\n",
       "Manner Death                      Homicide by Law Enforcement/Correctional Staff  \\\n",
       "Ethnicity                                                                          \n",
       "American Indian/Alaska Native                                                  5   \n",
       "Anglo or White                                                               321   \n",
       "Asian                                                                          5   \n",
       "Black or African American                                                    213   \n",
       "Hispanic or Latino                                                           291   \n",
       "Middle East                                                                    7   \n",
       "Native Hawaiian/Pacific Islander                                               1   \n",
       "Other/Don't Know                                                              35   \n",
       "\n",
       "Manner Death                      Homicide by Other  Natural Causes/Illness  \\\n",
       "Ethnicity                                                                     \n",
       "American Indian/Alaska Native                     0                       5   \n",
       "Anglo or White                                   25                    2183   \n",
       "Asian                                             1                      19   \n",
       "Black or African American                        22                    1687   \n",
       "Hispanic or Latino                               24                    1363   \n",
       "Middle East                                       0                       2   \n",
       "Native Hawaiian/Pacific Islander                  0                       1   \n",
       "Other/Don't Know                                  0                       6   \n",
       "\n",
       "Manner Death                      Other  Suicide  \n",
       "Ethnicity                                         \n",
       "American Indian/Alaska Native         1        2  \n",
       "Anglo or White                       77      455  \n",
       "Asian                                 0        6  \n",
       "Black or African American            68      147  \n",
       "Hispanic or Latino                   56      229  \n",
       "Middle East                           0        2  \n",
       "Native Hawaiian/Pacific Islander      0        1  \n",
       "Other/Don't Know                      1        2  "
      ]
     },
     "execution_count": 10,
     "metadata": {},
     "output_type": "execute_result"
    }
   ],
   "source": [
    "death_eth_df"
   ]
  },
  {
   "cell_type": "code",
   "execution_count": 11,
   "metadata": {},
   "outputs": [
    {
     "data": {
      "text/html": [
       "\n",
       "<div class=\"bk-root\">\n",
       "    <div class=\"bk-plotdiv\" id=\"5ef6d98f-7f5f-4f63-a038-06b384d738b2\"></div>\n",
       "</div>"
      ]
     },
     "metadata": {},
     "output_type": "display_data"
    },
    {
     "data": {
      "application/javascript": [
       "(function(root) {\n",
       "  function embed_document(root) {\n",
       "    \n",
       "  var docs_json = {\"4dd2ffef-45a0-4edb-b9dc-47ca854cae1a\":{\"roots\":{\"references\":[{\"attributes\":{\"label\":{\"value\":\"Other\"},\"renderers\":[{\"id\":\"b80b5154-885b-40b2-bb55-dfa6bfab27d5\",\"type\":\"GlyphRenderer\"}]},\"id\":\"f68808ef-f090-41e4-99ca-453cd40c4c5b\",\"type\":\"LegendItem\"},{\"attributes\":{\"source\":{\"id\":\"b026eefc-0ab2-45fe-a344-89a1054b4479\",\"type\":\"ColumnDataSource\"}},\"id\":\"27fabee3-db2c-4246-85bb-7d2e0615a973\",\"type\":\"CDSView\"},{\"attributes\":{\"label\":{\"value\":\"Accidental injury to self\"},\"renderers\":[{\"id\":\"6e3c5eea-cff1-4318-a893-86091e7eb020\",\"type\":\"GlyphRenderer\"}]},\"id\":\"1cb32918-7c47-49cd-b929-bfe7d38a5f72\",\"type\":\"LegendItem\"},{\"attributes\":{\"fields\":[\"Natural Causes/Illness\",\"Homicide by Law Enforcement/Correctional Staff\",\"Suicide\",\"Alcohol/Drug Intoxication\",\"Other\",\"Accidental injury to self\",\"Homicide by Other\"]},\"id\":\"7c3e11fb-f488-400a-870b-0773ea1d347c\",\"type\":\"Stack\"},{\"attributes\":{\"source\":{\"id\":\"b026eefc-0ab2-45fe-a344-89a1054b4479\",\"type\":\"ColumnDataSource\"}},\"id\":\"79c85a10-3e35-4212-b640-fd9af66bef3c\",\"type\":\"CDSView\"},{\"attributes\":{\"fields\":[\"Natural Causes/Illness\",\"Homicide by Law Enforcement/Correctional Staff\",\"Suicide\",\"Alcohol/Drug Intoxication\",\"Other\"]},\"id\":\"0b4b6b61-8ac6-492f-a791-660cc4c85fb6\",\"type\":\"Stack\"},{\"attributes\":{\"label\":{\"value\":\"Homicide by Law Enforcement/Correctional Staff\"},\"renderers\":[{\"id\":\"baecc2c4-7352-4ee4-a8e8-e36e18bbab6c\",\"type\":\"GlyphRenderer\"}]},\"id\":\"e2bf5c45-a06f-4e54-883f-30b2c17d7863\",\"type\":\"LegendItem\"},{\"attributes\":{\"fields\":[\"Natural Causes/Illness\",\"Homicide by Law Enforcement/Correctional Staff\",\"Suicide\",\"Alcohol/Drug Intoxication\",\"Other\",\"Accidental injury to self\"]},\"id\":\"abfc3428-cf20-423b-b813-33f7f541ffc1\",\"type\":\"Stack\"},{\"attributes\":{\"fill_alpha\":{\"value\":0.1},\"fill_color\":{\"value\":\"#1f77b4\"},\"height\":{\"value\":0.9},\"left\":{\"expr\":{\"id\":\"c83e302b-c056-443a-ac78-9ba199fd515a\",\"type\":\"Stack\"}},\"line_alpha\":{\"value\":0.1},\"line_color\":{\"value\":\"#1f77b4\"},\"right\":{\"expr\":{\"id\":\"33bbfa5a-7adb-4d6e-9a2d-35eafde4283b\",\"type\":\"Stack\"}},\"y\":{\"field\":\"Ethnicity\"}},\"id\":\"daeefa08-5c3b-4acd-b06b-795e217c69a6\",\"type\":\"HBar\"},{\"attributes\":{\"fill_alpha\":{\"value\":0.1},\"fill_color\":{\"value\":\"#1f77b4\"},\"height\":{\"value\":0.9},\"left\":{\"expr\":{\"id\":\"27cef56d-9699-4d7e-b471-8a0e3638a953\",\"type\":\"Stack\"}},\"line_alpha\":{\"value\":0.1},\"line_color\":{\"value\":\"#1f77b4\"},\"right\":{\"expr\":{\"id\":\"abfc3428-cf20-423b-b813-33f7f541ffc1\",\"type\":\"Stack\"}},\"y\":{\"field\":\"Ethnicity\"}},\"id\":\"723e6d41-6472-4bd0-b8cd-56766a834873\",\"type\":\"HBar\"},{\"attributes\":{\"fill_color\":{\"value\":\"#f46d43\"},\"height\":{\"value\":0.9},\"left\":{\"expr\":{\"id\":\"9cf56b2a-930b-4463-be09-c0bdcfb74bae\",\"type\":\"Stack\"}},\"line_color\":{\"value\":\"#f46d43\"},\"right\":{\"expr\":{\"id\":\"b448e2a5-f798-490e-b5c1-f935bc03550d\",\"type\":\"Stack\"}},\"y\":{\"field\":\"Ethnicity\"}},\"id\":\"300e97dd-a402-46bb-a7c7-da51f756267b\",\"type\":\"HBar\"},{\"attributes\":{\"label\":{\"value\":\"Suicide\"},\"renderers\":[{\"id\":\"76a79071-d8a7-464a-a6c1-0c24f98289fc\",\"type\":\"GlyphRenderer\"}]},\"id\":\"be88a3d1-b8ef-4523-a988-e32c87e00ad9\",\"type\":\"LegendItem\"},{\"attributes\":{\"fill_alpha\":{\"value\":0.1},\"fill_color\":{\"value\":\"#1f77b4\"},\"height\":{\"value\":0.9},\"left\":{\"expr\":{\"id\":\"1d02640f-a3a3-4379-8b28-bdcda37f7bea\",\"type\":\"Stack\"}},\"line_alpha\":{\"value\":0.1},\"line_color\":{\"value\":\"#1f77b4\"},\"right\":{\"expr\":{\"id\":\"8959cd57-5c23-47b2-b3e0-9ea05164f920\",\"type\":\"Stack\"}},\"y\":{\"field\":\"Ethnicity\"}},\"id\":\"b5977c63-0c29-4fd1-b32d-e93555f574d5\",\"type\":\"HBar\"},{\"attributes\":{\"data_source\":{\"id\":\"b026eefc-0ab2-45fe-a344-89a1054b4479\",\"type\":\"ColumnDataSource\"},\"glyph\":{\"id\":\"badd9259-57cb-44c6-abbe-bd24c869f83e\",\"type\":\"HBar\"},\"hover_glyph\":null,\"muted_glyph\":null,\"nonselection_glyph\":{\"id\":\"bb36710b-8b73-471f-86a8-b5b928098ba5\",\"type\":\"HBar\"},\"selection_glyph\":null,\"view\":{\"id\":\"5addb117-5915-47af-a430-4d94d960b1e9\",\"type\":\"CDSView\"}},\"id\":\"76a79071-d8a7-464a-a6c1-0c24f98289fc\",\"type\":\"GlyphRenderer\"},{\"attributes\":{\"fields\":[\"Natural Causes/Illness\",\"Homicide by Law Enforcement/Correctional Staff\",\"Suicide\",\"Alcohol/Drug Intoxication\",\"Other\",\"Accidental injury to self\"]},\"id\":\"9cf56b2a-930b-4463-be09-c0bdcfb74bae\",\"type\":\"Stack\"},{\"attributes\":{\"data_source\":{\"id\":\"b026eefc-0ab2-45fe-a344-89a1054b4479\",\"type\":\"ColumnDataSource\"},\"glyph\":{\"id\":\"79794b1b-d1ca-47af-a444-96d100a5c87c\",\"type\":\"HBar\"},\"hover_glyph\":null,\"muted_glyph\":null,\"nonselection_glyph\":{\"id\":\"b5977c63-0c29-4fd1-b32d-e93555f574d5\",\"type\":\"HBar\"},\"selection_glyph\":null,\"view\":{\"id\":\"27fabee3-db2c-4246-85bb-7d2e0615a973\",\"type\":\"CDSView\"}},\"id\":\"baecc2c4-7352-4ee4-a8e8-e36e18bbab6c\",\"type\":\"GlyphRenderer\"},{\"attributes\":{\"source\":{\"id\":\"b026eefc-0ab2-45fe-a344-89a1054b4479\",\"type\":\"ColumnDataSource\"}},\"id\":\"92a23a20-f531-4540-8ac8-6a5f01eba025\",\"type\":\"CDSView\"},{\"attributes\":{\"data_source\":{\"id\":\"b026eefc-0ab2-45fe-a344-89a1054b4479\",\"type\":\"ColumnDataSource\"},\"glyph\":{\"id\":\"220e259d-a1c0-49f8-bf6b-c6300ccc7c6c\",\"type\":\"HBar\"},\"hover_glyph\":null,\"muted_glyph\":null,\"nonselection_glyph\":{\"id\":\"6f833cf6-445b-4954-b353-5e0ffabe2f74\",\"type\":\"HBar\"},\"selection_glyph\":null,\"view\":{\"id\":\"4330ae51-5fdb-4b36-b38b-758afa89a0b7\",\"type\":\"CDSView\"}},\"id\":\"96e53d8f-dc67-4b99-97cc-29468505a258\",\"type\":\"GlyphRenderer\"},{\"attributes\":{\"fields\":[\"Natural Causes/Illness\",\"Homicide by Law Enforcement/Correctional Staff\",\"Suicide\",\"Alcohol/Drug Intoxication\"]},\"id\":\"a092b855-a7cb-443b-9486-a18516971b9d\",\"type\":\"Stack\"},{\"attributes\":{\"data_source\":{\"id\":\"b026eefc-0ab2-45fe-a344-89a1054b4479\",\"type\":\"ColumnDataSource\"},\"glyph\":{\"id\":\"300e97dd-a402-46bb-a7c7-da51f756267b\",\"type\":\"HBar\"},\"hover_glyph\":null,\"muted_glyph\":null,\"nonselection_glyph\":{\"id\":\"c5fbc18c-c760-40b8-9521-08959dcdc3c0\",\"type\":\"HBar\"},\"selection_glyph\":null,\"view\":{\"id\":\"59d8970a-646b-4ca9-ab9d-2bc64aa791f2\",\"type\":\"CDSView\"}},\"id\":\"c12bd0f8-c35d-4ea3-aa65-a14d734f85b0\",\"type\":\"GlyphRenderer\"},{\"attributes\":{\"fill_alpha\":{\"value\":0.1},\"fill_color\":{\"value\":\"#1f77b4\"},\"height\":{\"value\":0.9},\"left\":{\"expr\":{\"id\":\"f3babf6c-4330-4289-836e-e1702712193b\",\"type\":\"Stack\"}},\"line_alpha\":{\"value\":0.1},\"line_color\":{\"value\":\"#1f77b4\"},\"right\":{\"expr\":{\"id\":\"5bbcdb9f-d496-4be7-8569-2c8bf2ce1352\",\"type\":\"Stack\"}},\"y\":{\"field\":\"Ethnicity\"}},\"id\":\"bb36710b-8b73-471f-86a8-b5b928098ba5\",\"type\":\"HBar\"},{\"attributes\":{\"fields\":[\"Natural Causes/Illness\",\"Homicide by Law Enforcement/Correctional Staff\",\"Suicide\",\"Alcohol/Drug Intoxication\",\"Other\"]},\"id\":\"27cef56d-9699-4d7e-b471-8a0e3638a953\",\"type\":\"Stack\"},{\"attributes\":{},\"id\":\"a451cfd0-71a6-4706-a6dc-124bb7b60a4e\",\"type\":\"CategoricalTickFormatter\"},{\"attributes\":{\"fill_color\":{\"value\":\"#d53e4f\"},\"height\":{\"value\":0.9},\"left\":{\"expr\":{\"id\":\"7c3e11fb-f488-400a-870b-0773ea1d347c\",\"type\":\"Stack\"}},\"line_color\":{\"value\":\"#d53e4f\"},\"right\":{\"expr\":{\"id\":\"316e964e-8d1e-4b32-96af-dc7a854ec957\",\"type\":\"Stack\"}},\"y\":{\"field\":\"Ethnicity\"}},\"id\":\"220e259d-a1c0-49f8-bf6b-c6300ccc7c6c\",\"type\":\"HBar\"},{\"attributes\":{\"fill_color\":{\"value\":\"#e6f598\"},\"height\":{\"value\":0.9},\"left\":{\"expr\":{\"id\":\"243c4d7e-713e-46a3-9c70-ee7f46f2cc94\",\"type\":\"Stack\"}},\"line_color\":{\"value\":\"#e6f598\"},\"right\":{\"expr\":{\"id\":\"a092b855-a7cb-443b-9486-a18516971b9d\",\"type\":\"Stack\"}},\"y\":{\"field\":\"Ethnicity\"}},\"id\":\"8e0c5a70-64cd-454f-b6a9-5c18e6ce884e\",\"type\":\"HBar\"},{\"attributes\":{\"fields\":[\"Natural Causes/Illness\",\"Homicide by Law Enforcement/Correctional Staff\"]},\"id\":\"8959cd57-5c23-47b2-b3e0-9ea05164f920\",\"type\":\"Stack\"},{\"attributes\":{\"source\":{\"id\":\"b026eefc-0ab2-45fe-a344-89a1054b4479\",\"type\":\"ColumnDataSource\"}},\"id\":\"4330ae51-5fdb-4b36-b38b-758afa89a0b7\",\"type\":\"CDSView\"},{\"attributes\":{\"fields\":[\"Natural Causes/Illness\",\"Homicide by Law Enforcement/Correctional Staff\",\"Suicide\"]},\"id\":\"243c4d7e-713e-46a3-9c70-ee7f46f2cc94\",\"type\":\"Stack\"},{\"attributes\":{\"fields\":[\"Natural Causes/Illness\",\"Homicide by Law Enforcement/Correctional Staff\",\"Suicide\"]},\"id\":\"5bbcdb9f-d496-4be7-8569-2c8bf2ce1352\",\"type\":\"Stack\"},{\"attributes\":{\"fill_alpha\":{\"value\":0.1},\"fill_color\":{\"value\":\"#1f77b4\"},\"height\":{\"value\":0.9},\"left\":{\"expr\":{\"id\":\"7c3e11fb-f488-400a-870b-0773ea1d347c\",\"type\":\"Stack\"}},\"line_alpha\":{\"value\":0.1},\"line_color\":{\"value\":\"#1f77b4\"},\"right\":{\"expr\":{\"id\":\"316e964e-8d1e-4b32-96af-dc7a854ec957\",\"type\":\"Stack\"}},\"y\":{\"field\":\"Ethnicity\"}},\"id\":\"6f833cf6-445b-4954-b353-5e0ffabe2f74\",\"type\":\"HBar\"},{\"attributes\":{\"fill_color\":{\"value\":\"#abdda4\"},\"height\":{\"value\":0.9},\"left\":{\"expr\":{\"id\":\"f3babf6c-4330-4289-836e-e1702712193b\",\"type\":\"Stack\"}},\"line_color\":{\"value\":\"#abdda4\"},\"right\":{\"expr\":{\"id\":\"5bbcdb9f-d496-4be7-8569-2c8bf2ce1352\",\"type\":\"Stack\"}},\"y\":{\"field\":\"Ethnicity\"}},\"id\":\"badd9259-57cb-44c6-abbe-bd24c869f83e\",\"type\":\"HBar\"},{\"attributes\":{\"label\":{\"value\":\"Accidental injury caused by others\"},\"renderers\":[{\"id\":\"96e53d8f-dc67-4b99-97cc-29468505a258\",\"type\":\"GlyphRenderer\"}]},\"id\":\"f09e17c2-05e2-45a8-bad8-ed8c69033829\",\"type\":\"LegendItem\"},{\"attributes\":{\"fields\":[\"Natural Causes/Illness\",\"Homicide by Law Enforcement/Correctional Staff\",\"Suicide\",\"Alcohol/Drug Intoxication\",\"Other\",\"Accidental injury to self\",\"Homicide by Other\"]},\"id\":\"b448e2a5-f798-490e-b5c1-f935bc03550d\",\"type\":\"Stack\"},{\"attributes\":{\"fill_alpha\":{\"value\":0.1},\"fill_color\":{\"value\":\"#1f77b4\"},\"height\":{\"value\":0.9},\"left\":{\"expr\":{\"id\":\"9cf56b2a-930b-4463-be09-c0bdcfb74bae\",\"type\":\"Stack\"}},\"line_alpha\":{\"value\":0.1},\"line_color\":{\"value\":\"#1f77b4\"},\"right\":{\"expr\":{\"id\":\"b448e2a5-f798-490e-b5c1-f935bc03550d\",\"type\":\"Stack\"}},\"y\":{\"field\":\"Ethnicity\"}},\"id\":\"c5fbc18c-c760-40b8-9521-08959dcdc3c0\",\"type\":\"HBar\"},{\"attributes\":{\"data_source\":{\"id\":\"b026eefc-0ab2-45fe-a344-89a1054b4479\",\"type\":\"ColumnDataSource\"},\"glyph\":{\"id\":\"a13ab2c0-ec19-493a-8221-f273feb4b3ad\",\"type\":\"HBar\"},\"hover_glyph\":null,\"muted_glyph\":null,\"nonselection_glyph\":{\"id\":\"6aa941e2-d47e-4c82-b48d-d0c8ffe520f0\",\"type\":\"HBar\"},\"selection_glyph\":null,\"view\":{\"id\":\"92a23a20-f531-4540-8ac8-6a5f01eba025\",\"type\":\"CDSView\"}},\"id\":\"b80b5154-885b-40b2-bb55-dfa6bfab27d5\",\"type\":\"GlyphRenderer\"},{\"attributes\":{\"source\":{\"id\":\"b026eefc-0ab2-45fe-a344-89a1054b4479\",\"type\":\"ColumnDataSource\"}},\"id\":\"59d8970a-646b-4ca9-ab9d-2bc64aa791f2\",\"type\":\"CDSView\"},{\"attributes\":{\"label\":{\"value\":\"Homicide by Other\"},\"renderers\":[{\"id\":\"c12bd0f8-c35d-4ea3-aa65-a14d734f85b0\",\"type\":\"GlyphRenderer\"}]},\"id\":\"765f8ca8-1f48-471e-8444-02111e12991b\",\"type\":\"LegendItem\"},{\"attributes\":{\"source\":{\"id\":\"b026eefc-0ab2-45fe-a344-89a1054b4479\",\"type\":\"ColumnDataSource\"}},\"id\":\"5addb117-5915-47af-a430-4d94d960b1e9\",\"type\":\"CDSView\"},{\"attributes\":{\"fields\":[\"Natural Causes/Illness\"]},\"id\":\"33bbfa5a-7adb-4d6e-9a2d-35eafde4283b\",\"type\":\"Stack\"},{\"attributes\":{},\"id\":\"d6e34716-a225-4e6c-b220-7b8598e963c2\",\"type\":\"CategoricalTicker\"},{\"attributes\":{\"label\":{\"value\":\"Natural Causes/Illness\"},\"renderers\":[{\"id\":\"1f38929d-d1b2-4edf-a0fc-7f32af18540d\",\"type\":\"GlyphRenderer\"}]},\"id\":\"41d8f3b3-92da-4d1a-bdd4-2dcad9d89143\",\"type\":\"LegendItem\"},{\"attributes\":{\"fill_color\":{\"value\":\"#fdae61\"},\"height\":{\"value\":0.9},\"left\":{\"expr\":{\"id\":\"27cef56d-9699-4d7e-b471-8a0e3638a953\",\"type\":\"Stack\"}},\"line_color\":{\"value\":\"#fdae61\"},\"right\":{\"expr\":{\"id\":\"abfc3428-cf20-423b-b813-33f7f541ffc1\",\"type\":\"Stack\"}},\"y\":{\"field\":\"Ethnicity\"}},\"id\":\"6cf6b982-8dbd-45d7-89c6-1fbe90368ab0\",\"type\":\"HBar\"},{\"attributes\":{\"fields\":[\"Natural Causes/Illness\",\"Homicide by Law Enforcement/Correctional Staff\",\"Suicide\",\"Alcohol/Drug Intoxication\"]},\"id\":\"073b7259-f15f-4c2d-a29b-984ad5925149\",\"type\":\"Stack\"},{\"attributes\":{\"fields\":[\"Natural Causes/Illness\",\"Homicide by Law Enforcement/Correctional Staff\"]},\"id\":\"f3babf6c-4330-4289-836e-e1702712193b\",\"type\":\"Stack\"},{\"attributes\":{\"source\":{\"id\":\"b026eefc-0ab2-45fe-a344-89a1054b4479\",\"type\":\"ColumnDataSource\"}},\"id\":\"5c9b4798-1f0a-4220-98c8-2b7d2f5658e5\",\"type\":\"CDSView\"},{\"attributes\":{},\"id\":\"887d8a3d-3cd6-4338-a153-c01d5c45c85e\",\"type\":\"BasicTickFormatter\"},{\"attributes\":{\"fill_color\":{\"value\":\"#3288bd\"},\"height\":{\"value\":0.9},\"left\":{\"expr\":{\"id\":\"c83e302b-c056-443a-ac78-9ba199fd515a\",\"type\":\"Stack\"}},\"line_color\":{\"value\":\"#3288bd\"},\"right\":{\"expr\":{\"id\":\"33bbfa5a-7adb-4d6e-9a2d-35eafde4283b\",\"type\":\"Stack\"}},\"y\":{\"field\":\"Ethnicity\"}},\"id\":\"dd197680-65d8-410b-a85c-f7db27f67453\",\"type\":\"HBar\"},{\"attributes\":{\"fill_color\":{\"value\":\"#66c2a5\"},\"height\":{\"value\":0.9},\"left\":{\"expr\":{\"id\":\"1d02640f-a3a3-4379-8b28-bdcda37f7bea\",\"type\":\"Stack\"}},\"line_color\":{\"value\":\"#66c2a5\"},\"right\":{\"expr\":{\"id\":\"8959cd57-5c23-47b2-b3e0-9ea05164f920\",\"type\":\"Stack\"}},\"y\":{\"field\":\"Ethnicity\"}},\"id\":\"79794b1b-d1ca-47af-a444-96d100a5c87c\",\"type\":\"HBar\"},{\"attributes\":{\"label\":{\"value\":\"Alcohol/Drug Intoxication\"},\"renderers\":[{\"id\":\"de3e6f4c-e733-483b-86d1-dbcf3f3d460c\",\"type\":\"GlyphRenderer\"}]},\"id\":\"ce34ba02-c9c9-421d-9a3d-d8ed563c0ce7\",\"type\":\"LegendItem\"},{\"attributes\":{\"source\":{\"id\":\"b026eefc-0ab2-45fe-a344-89a1054b4479\",\"type\":\"ColumnDataSource\"}},\"id\":\"46cd50a7-c5ed-405b-82b4-721e0cd3f2a3\",\"type\":\"CDSView\"},{\"attributes\":{},\"id\":\"03524ae4-588c-43cd-b65b-c07c4a37614d\",\"type\":\"BasicTicker\"},{\"attributes\":{\"dimension\":1,\"plot\":{\"id\":\"a40695d3-230d-475d-9e97-2cb24da1b550\",\"subtype\":\"Figure\",\"type\":\"Plot\"},\"ticker\":{\"id\":\"d6e34716-a225-4e6c-b220-7b8598e963c2\",\"type\":\"CategoricalTicker\"}},\"id\":\"e8d80095-4902-423b-8e7a-4c64ff5e4cac\",\"type\":\"Grid\"},{\"attributes\":{\"data_source\":{\"id\":\"b026eefc-0ab2-45fe-a344-89a1054b4479\",\"type\":\"ColumnDataSource\"},\"glyph\":{\"id\":\"8e0c5a70-64cd-454f-b6a9-5c18e6ce884e\",\"type\":\"HBar\"},\"hover_glyph\":null,\"muted_glyph\":null,\"nonselection_glyph\":{\"id\":\"69af81ed-5854-4358-af29-8611638bcfa4\",\"type\":\"HBar\"},\"selection_glyph\":null,\"view\":{\"id\":\"46cd50a7-c5ed-405b-82b4-721e0cd3f2a3\",\"type\":\"CDSView\"}},\"id\":\"de3e6f4c-e733-483b-86d1-dbcf3f3d460c\",\"type\":\"GlyphRenderer\"},{\"attributes\":{\"active_drag\":\"auto\",\"active_inspect\":\"auto\",\"active_scroll\":\"auto\",\"active_tap\":\"auto\"},\"id\":\"fcd70b86-3a08-408f-ad5c-5cf8a026329a\",\"type\":\"Toolbar\"},{\"attributes\":{\"fill_alpha\":{\"value\":0.1},\"fill_color\":{\"value\":\"#1f77b4\"},\"height\":{\"value\":0.9},\"left\":{\"expr\":{\"id\":\"243c4d7e-713e-46a3-9c70-ee7f46f2cc94\",\"type\":\"Stack\"}},\"line_alpha\":{\"value\":0.1},\"line_color\":{\"value\":\"#1f77b4\"},\"right\":{\"expr\":{\"id\":\"a092b855-a7cb-443b-9486-a18516971b9d\",\"type\":\"Stack\"}},\"y\":{\"field\":\"Ethnicity\"}},\"id\":\"69af81ed-5854-4358-af29-8611638bcfa4\",\"type\":\"HBar\"},{\"attributes\":{\"callback\":null,\"factors\":[\"American Indian/Alaska Native\",\"Anglo or White\",\"Asian\",\"Black or African American\",\"Hispanic or Latino\",\"Middle East\",\"Native Hawaiian/Pacific Islander\",\"Other/Don't Know\"],\"range_padding\":0.1},\"id\":\"31a68513-2dad-4aff-a75f-900f40009bf3\",\"type\":\"FactorRange\"},{\"attributes\":{\"fill_color\":{\"value\":\"#fee08b\"},\"height\":{\"value\":0.9},\"left\":{\"expr\":{\"id\":\"073b7259-f15f-4c2d-a29b-984ad5925149\",\"type\":\"Stack\"}},\"line_color\":{\"value\":\"#fee08b\"},\"right\":{\"expr\":{\"id\":\"0b4b6b61-8ac6-492f-a791-660cc4c85fb6\",\"type\":\"Stack\"}},\"y\":{\"field\":\"Ethnicity\"}},\"id\":\"a13ab2c0-ec19-493a-8221-f273feb4b3ad\",\"type\":\"HBar\"},{\"attributes\":{\"fields\":[\"Natural Causes/Illness\"]},\"id\":\"1d02640f-a3a3-4379-8b28-bdcda37f7bea\",\"type\":\"Stack\"},{\"attributes\":{\"formatter\":{\"id\":\"a451cfd0-71a6-4706-a6dc-124bb7b60a4e\",\"type\":\"CategoricalTickFormatter\"},\"minor_tick_line_color\":{\"value\":null},\"plot\":{\"id\":\"a40695d3-230d-475d-9e97-2cb24da1b550\",\"subtype\":\"Figure\",\"type\":\"Plot\"},\"ticker\":{\"id\":\"d6e34716-a225-4e6c-b220-7b8598e963c2\",\"type\":\"CategoricalTicker\"}},\"id\":\"dc29fb05-d92f-45bc-81be-9f43e80fde35\",\"type\":\"CategoricalAxis\"},{\"attributes\":{\"fill_alpha\":{\"value\":0.1},\"fill_color\":{\"value\":\"#1f77b4\"},\"height\":{\"value\":0.9},\"left\":{\"expr\":{\"id\":\"073b7259-f15f-4c2d-a29b-984ad5925149\",\"type\":\"Stack\"}},\"line_alpha\":{\"value\":0.1},\"line_color\":{\"value\":\"#1f77b4\"},\"right\":{\"expr\":{\"id\":\"0b4b6b61-8ac6-492f-a791-660cc4c85fb6\",\"type\":\"Stack\"}},\"y\":{\"field\":\"Ethnicity\"}},\"id\":\"6aa941e2-d47e-4c82-b48d-d0c8ffe520f0\",\"type\":\"HBar\"},{\"attributes\":{\"callback\":null,\"end\":4000,\"start\":0},\"id\":\"1fa4a6ff-c7f0-4c31-a976-da81915aa8d7\",\"type\":\"DataRange1d\"},{\"attributes\":{\"fields\":[]},\"id\":\"c83e302b-c056-443a-ac78-9ba199fd515a\",\"type\":\"Stack\"},{\"attributes\":{\"plot\":null,\"text\":\"Manner of Death by Ethnicity\"},\"id\":\"31ff6765-9f31-4db5-92f6-5a6df07afec3\",\"type\":\"Title\"},{\"attributes\":{\"data_source\":{\"id\":\"b026eefc-0ab2-45fe-a344-89a1054b4479\",\"type\":\"ColumnDataSource\"},\"glyph\":{\"id\":\"dd197680-65d8-410b-a85c-f7db27f67453\",\"type\":\"HBar\"},\"hover_glyph\":null,\"muted_glyph\":null,\"nonselection_glyph\":{\"id\":\"daeefa08-5c3b-4acd-b06b-795e217c69a6\",\"type\":\"HBar\"},\"selection_glyph\":null,\"view\":{\"id\":\"5c9b4798-1f0a-4220-98c8-2b7d2f5658e5\",\"type\":\"CDSView\"}},\"id\":\"1f38929d-d1b2-4edf-a0fc-7f32af18540d\",\"type\":\"GlyphRenderer\"},{\"attributes\":{},\"id\":\"44b47d25-30ca-4588-a317-91dea22bb641\",\"type\":\"LinearScale\"},{\"attributes\":{\"grid_line_color\":{\"value\":null},\"plot\":{\"id\":\"a40695d3-230d-475d-9e97-2cb24da1b550\",\"subtype\":\"Figure\",\"type\":\"Plot\"},\"ticker\":{\"id\":\"03524ae4-588c-43cd-b65b-c07c4a37614d\",\"type\":\"BasicTicker\"}},\"id\":\"26899032-0154-4b9a-b9a7-52665ceb22f4\",\"type\":\"Grid\"},{\"attributes\":{},\"id\":\"1cf9c1f3-ef21-4ffc-8ff8-c755f8a14bc2\",\"type\":\"CategoricalScale\"},{\"attributes\":{\"axis_label\":\"Number of Deaths from 2005-2016\",\"formatter\":{\"id\":\"887d8a3d-3cd6-4338-a153-c01d5c45c85e\",\"type\":\"BasicTickFormatter\"},\"minor_tick_line_color\":{\"value\":null},\"plot\":{\"id\":\"a40695d3-230d-475d-9e97-2cb24da1b550\",\"subtype\":\"Figure\",\"type\":\"Plot\"},\"ticker\":{\"id\":\"03524ae4-588c-43cd-b65b-c07c4a37614d\",\"type\":\"BasicTicker\"}},\"id\":\"698dcfde-104c-45a6-b934-7315afe6ff83\",\"type\":\"LinearAxis\"},{\"attributes\":{\"below\":[{\"id\":\"698dcfde-104c-45a6-b934-7315afe6ff83\",\"type\":\"LinearAxis\"}],\"left\":[{\"id\":\"dc29fb05-d92f-45bc-81be-9f43e80fde35\",\"type\":\"CategoricalAxis\"}],\"outline_line_color\":{\"value\":null},\"plot_height\":500,\"plot_width\":900,\"renderers\":[{\"id\":\"698dcfde-104c-45a6-b934-7315afe6ff83\",\"type\":\"LinearAxis\"},{\"id\":\"26899032-0154-4b9a-b9a7-52665ceb22f4\",\"type\":\"Grid\"},{\"id\":\"dc29fb05-d92f-45bc-81be-9f43e80fde35\",\"type\":\"CategoricalAxis\"},{\"id\":\"e8d80095-4902-423b-8e7a-4c64ff5e4cac\",\"type\":\"Grid\"},{\"id\":\"c1a23100-397a-4c67-a019-1f93c4b15c59\",\"type\":\"Legend\"},{\"id\":\"1f38929d-d1b2-4edf-a0fc-7f32af18540d\",\"type\":\"GlyphRenderer\"},{\"id\":\"baecc2c4-7352-4ee4-a8e8-e36e18bbab6c\",\"type\":\"GlyphRenderer\"},{\"id\":\"76a79071-d8a7-464a-a6c1-0c24f98289fc\",\"type\":\"GlyphRenderer\"},{\"id\":\"de3e6f4c-e733-483b-86d1-dbcf3f3d460c\",\"type\":\"GlyphRenderer\"},{\"id\":\"b80b5154-885b-40b2-bb55-dfa6bfab27d5\",\"type\":\"GlyphRenderer\"},{\"id\":\"6e3c5eea-cff1-4318-a893-86091e7eb020\",\"type\":\"GlyphRenderer\"},{\"id\":\"c12bd0f8-c35d-4ea3-aa65-a14d734f85b0\",\"type\":\"GlyphRenderer\"},{\"id\":\"96e53d8f-dc67-4b99-97cc-29468505a258\",\"type\":\"GlyphRenderer\"}],\"title\":{\"id\":\"31ff6765-9f31-4db5-92f6-5a6df07afec3\",\"type\":\"Title\"},\"toolbar\":{\"id\":\"fcd70b86-3a08-408f-ad5c-5cf8a026329a\",\"type\":\"Toolbar\"},\"toolbar_location\":null,\"x_range\":{\"id\":\"1fa4a6ff-c7f0-4c31-a976-da81915aa8d7\",\"type\":\"DataRange1d\"},\"x_scale\":{\"id\":\"44b47d25-30ca-4588-a317-91dea22bb641\",\"type\":\"LinearScale\"},\"y_range\":{\"id\":\"31a68513-2dad-4aff-a75f-900f40009bf3\",\"type\":\"FactorRange\"},\"y_scale\":{\"id\":\"1cf9c1f3-ef21-4ffc-8ff8-c755f8a14bc2\",\"type\":\"CategoricalScale\"}},\"id\":\"a40695d3-230d-475d-9e97-2cb24da1b550\",\"subtype\":\"Figure\",\"type\":\"Plot\"},{\"attributes\":{\"callback\":null,\"column_names\":[\"Ethnicity\",\"Accidental injury caused by others\",\"Natural Causes/Illness\",\"Other\",\"Accidental injury to self\",\"Homicide by Law Enforcement/Correctional Staff\",\"Suicide\",\"Alcohol/Drug Intoxication\",\"Homicide by Other\"],\"data\":{\"Accidental injury caused by others\":{\"__ndarray__\":\"AAAAAAMAAAAAAAAABgAAAAsAAAAAAAAAAQAAAAAAAAA=\",\"dtype\":\"int32\",\"shape\":[8]},\"Accidental injury to self\":{\"__ndarray__\":\"AAAAAD8AAAAAAAAAJAAAADYAAAABAAAAAAAAAAEAAAA=\",\"dtype\":\"int32\",\"shape\":[8]},\"Alcohol/Drug Intoxication\":{\"__ndarray__\":\"AAAAAGMAAAADAAAAXQAAAFgAAAAAAAAAAQAAAAAAAAA=\",\"dtype\":\"int32\",\"shape\":[8]},\"Ethnicity\":[\"American Indian/Alaska Native\",\"Anglo or White\",\"Asian\",\"Black or African American\",\"Hispanic or Latino\",\"Middle East\",\"Native Hawaiian/Pacific Islander\",\"Other/Don't Know\"],\"Homicide by Law Enforcement/Correctional Staff\":{\"__ndarray__\":\"BQAAAEEBAAAFAAAA1QAAACMBAAAHAAAAAQAAACMAAAA=\",\"dtype\":\"int32\",\"shape\":[8]},\"Homicide by Other\":{\"__ndarray__\":\"AAAAABkAAAABAAAAFgAAABgAAAAAAAAAAAAAAAAAAAA=\",\"dtype\":\"int32\",\"shape\":[8]},\"Natural Causes/Illness\":{\"__ndarray__\":\"BQAAAIcIAAATAAAAlwYAAFMFAAACAAAAAQAAAAYAAAA=\",\"dtype\":\"int32\",\"shape\":[8]},\"Other\":{\"__ndarray__\":\"AQAAAE0AAAAAAAAARAAAADgAAAAAAAAAAAAAAAEAAAA=\",\"dtype\":\"int32\",\"shape\":[8]},\"Suicide\":{\"__ndarray__\":\"AgAAAMcBAAAGAAAAkwAAAOUAAAACAAAAAQAAAAIAAAA=\",\"dtype\":\"int32\",\"shape\":[8]}}},\"id\":\"b026eefc-0ab2-45fe-a344-89a1054b4479\",\"type\":\"ColumnDataSource\"},{\"attributes\":{\"items\":[{\"id\":\"41d8f3b3-92da-4d1a-bdd4-2dcad9d89143\",\"type\":\"LegendItem\"},{\"id\":\"e2bf5c45-a06f-4e54-883f-30b2c17d7863\",\"type\":\"LegendItem\"},{\"id\":\"be88a3d1-b8ef-4523-a988-e32c87e00ad9\",\"type\":\"LegendItem\"},{\"id\":\"ce34ba02-c9c9-421d-9a3d-d8ed563c0ce7\",\"type\":\"LegendItem\"},{\"id\":\"f68808ef-f090-41e4-99ca-453cd40c4c5b\",\"type\":\"LegendItem\"},{\"id\":\"1cb32918-7c47-49cd-b929-bfe7d38a5f72\",\"type\":\"LegendItem\"},{\"id\":\"765f8ca8-1f48-471e-8444-02111e12991b\",\"type\":\"LegendItem\"},{\"id\":\"f09e17c2-05e2-45a8-bad8-ed8c69033829\",\"type\":\"LegendItem\"}],\"plot\":{\"id\":\"a40695d3-230d-475d-9e97-2cb24da1b550\",\"subtype\":\"Figure\",\"type\":\"Plot\"}},\"id\":\"c1a23100-397a-4c67-a019-1f93c4b15c59\",\"type\":\"Legend\"},{\"attributes\":{\"fields\":[\"Natural Causes/Illness\",\"Homicide by Law Enforcement/Correctional Staff\",\"Suicide\",\"Alcohol/Drug Intoxication\",\"Other\",\"Accidental injury to self\",\"Homicide by Other\",\"Accidental injury caused by others\"]},\"id\":\"316e964e-8d1e-4b32-96af-dc7a854ec957\",\"type\":\"Stack\"},{\"attributes\":{\"data_source\":{\"id\":\"b026eefc-0ab2-45fe-a344-89a1054b4479\",\"type\":\"ColumnDataSource\"},\"glyph\":{\"id\":\"6cf6b982-8dbd-45d7-89c6-1fbe90368ab0\",\"type\":\"HBar\"},\"hover_glyph\":null,\"muted_glyph\":null,\"nonselection_glyph\":{\"id\":\"723e6d41-6472-4bd0-b8cd-56766a834873\",\"type\":\"HBar\"},\"selection_glyph\":null,\"view\":{\"id\":\"79c85a10-3e35-4212-b640-fd9af66bef3c\",\"type\":\"CDSView\"}},\"id\":\"6e3c5eea-cff1-4318-a893-86091e7eb020\",\"type\":\"GlyphRenderer\"}],\"root_ids\":[\"a40695d3-230d-475d-9e97-2cb24da1b550\"]},\"title\":\"Bokeh Application\",\"version\":\"0.12.13\"}};\n",
       "  var render_items = [{\"docid\":\"4dd2ffef-45a0-4edb-b9dc-47ca854cae1a\",\"elementid\":\"5ef6d98f-7f5f-4f63-a038-06b384d738b2\",\"modelid\":\"a40695d3-230d-475d-9e97-2cb24da1b550\"}];\n",
       "  root.Bokeh.embed.embed_items_notebook(docs_json, render_items);\n",
       "\n",
       "  }\n",
       "  if (root.Bokeh !== undefined) {\n",
       "    embed_document(root);\n",
       "  } else {\n",
       "    var attempts = 0;\n",
       "    var timer = setInterval(function(root) {\n",
       "      if (root.Bokeh !== undefined) {\n",
       "        embed_document(root);\n",
       "        clearInterval(timer);\n",
       "      }\n",
       "      attempts++;\n",
       "      if (attempts > 100) {\n",
       "        console.log(\"Bokeh: ERROR: Unable to run BokehJS code because BokehJS library is missing\")\n",
       "        clearInterval(timer);\n",
       "      }\n",
       "    }, 10, root)\n",
       "  }\n",
       "})(window);"
      ],
      "application/vnd.bokehjs_exec.v0+json": ""
     },
     "metadata": {
      "application/vnd.bokehjs_exec.v0+json": {
       "id": "a40695d3-230d-475d-9e97-2cb24da1b550"
      }
     },
     "output_type": "display_data"
    }
   ],
   "source": [
    "#stacked horizontal bar graph showing deaths by Ethnicity and broken down by Cause of Death\n",
    "data= {'Ethnicity': list(death_eth_df.index), 'Accidental injury caused by others' : death_eth_df['Accidental injury caused by others'].values, \n",
    "       'Natural Causes/Illness': death_eth_df['Natural Causes/Illness'].values,  'Other':death_eth_df['Other'].values, \n",
    "       'Accidental injury to self': death_eth_df['Accidental injury to self'].values,  \n",
    "       'Homicide by Law Enforcement/Correctional Staff': death_eth_df['Homicide by Law Enforcement/Correctional Staff'].values,\n",
    "       'Suicide': death_eth_df['Suicide'].values, 'Alcohol/Drug Intoxication': death_eth_df['Alcohol/Drug Intoxication'].values, \n",
    "       'Homicide by Other': death_eth_df['Homicide by Other'].values}\n",
    "\n",
    "source = ColumnDataSource(data=data)\n",
    "\n",
    "g = figure(y_range= data['Ethnicity'], plot_height=500,plot_width=900, title=\"Manner of Death by Ethnicity\",x_axis_label='Number of Deaths from 2005-2016',\n",
    "           toolbar_location=None, tools=\"\")\n",
    "\n",
    "\n",
    "g.hbar_stack(deathtype, y= 'Ethnicity', height=0.9, color=Spectral8, source=source,\n",
    "             legend=[value(x) for x in deathtype])\n",
    "\n",
    "g.x_range.start = 0\n",
    "g.x_range.end = 4000\n",
    "g.y_range.range_padding = 0.1\n",
    "g.xgrid.grid_line_color = None\n",
    "g.axis.minor_tick_line_color = None\n",
    "g.outline_line_color = None\n",
    "g.legend.location = \"top_right\"\n",
    "g.legend.orientation = \"vertical\"\n",
    "\n",
    "show(g)\n"
   ]
  },
  {
   "cell_type": "code",
   "execution_count": 12,
   "metadata": {
    "scrolled": true
   },
   "outputs": [
    {
     "data": {
      "text/html": [
       "<div>\n",
       "<style scoped>\n",
       "    .dataframe tbody tr th:only-of-type {\n",
       "        vertical-align: middle;\n",
       "    }\n",
       "\n",
       "    .dataframe tbody tr th {\n",
       "        vertical-align: top;\n",
       "    }\n",
       "\n",
       "    .dataframe thead th {\n",
       "        text-align: right;\n",
       "    }\n",
       "</style>\n",
       "<table border=\"1\" class=\"dataframe\">\n",
       "  <thead>\n",
       "    <tr style=\"text-align: right;\">\n",
       "      <th>Department Name</th>\n",
       "      <th>Austin Police Dept.</th>\n",
       "      <th>Bexar County Sheriff's Dept.</th>\n",
       "      <th>Dallas County Sheriff's Dept.</th>\n",
       "      <th>Dallas Police Dept.</th>\n",
       "      <th>Fort Worth Police Dept.</th>\n",
       "      <th>Harris County Sheriff's Dept.</th>\n",
       "      <th>Houston Police Dept.</th>\n",
       "      <th>San Antonio Police Dept.</th>\n",
       "      <th>Texas Department Of Criminal Justice</th>\n",
       "      <th>Texas Department Of Public Safety</th>\n",
       "      <th>Travis County Sheriff's Dept.</th>\n",
       "    </tr>\n",
       "    <tr>\n",
       "      <th>Ethnicity</th>\n",
       "      <th></th>\n",
       "      <th></th>\n",
       "      <th></th>\n",
       "      <th></th>\n",
       "      <th></th>\n",
       "      <th></th>\n",
       "      <th></th>\n",
       "      <th></th>\n",
       "      <th></th>\n",
       "      <th></th>\n",
       "      <th></th>\n",
       "    </tr>\n",
       "  </thead>\n",
       "  <tbody>\n",
       "    <tr>\n",
       "      <th>American Indian/Alaska Native</th>\n",
       "      <td>NaN</td>\n",
       "      <td>NaN</td>\n",
       "      <td>1.0</td>\n",
       "      <td>NaN</td>\n",
       "      <td>NaN</td>\n",
       "      <td>1.0</td>\n",
       "      <td>NaN</td>\n",
       "      <td>NaN</td>\n",
       "      <td>4.0</td>\n",
       "      <td>NaN</td>\n",
       "      <td>NaN</td>\n",
       "    </tr>\n",
       "    <tr>\n",
       "      <th>Anglo or White</th>\n",
       "      <td>21.0</td>\n",
       "      <td>19.0</td>\n",
       "      <td>29.0</td>\n",
       "      <td>30.0</td>\n",
       "      <td>29.0</td>\n",
       "      <td>66.0</td>\n",
       "      <td>50.0</td>\n",
       "      <td>27.0</td>\n",
       "      <td>2154.0</td>\n",
       "      <td>51.0</td>\n",
       "      <td>21.0</td>\n",
       "    </tr>\n",
       "    <tr>\n",
       "      <th>Asian</th>\n",
       "      <td>1.0</td>\n",
       "      <td>NaN</td>\n",
       "      <td>1.0</td>\n",
       "      <td>NaN</td>\n",
       "      <td>1.0</td>\n",
       "      <td>3.0</td>\n",
       "      <td>3.0</td>\n",
       "      <td>2.0</td>\n",
       "      <td>17.0</td>\n",
       "      <td>NaN</td>\n",
       "      <td>NaN</td>\n",
       "    </tr>\n",
       "    <tr>\n",
       "      <th>Black or African American</th>\n",
       "      <td>11.0</td>\n",
       "      <td>15.0</td>\n",
       "      <td>55.0</td>\n",
       "      <td>61.0</td>\n",
       "      <td>16.0</td>\n",
       "      <td>116.0</td>\n",
       "      <td>113.0</td>\n",
       "      <td>25.0</td>\n",
       "      <td>1546.0</td>\n",
       "      <td>9.0</td>\n",
       "      <td>16.0</td>\n",
       "    </tr>\n",
       "    <tr>\n",
       "      <th>Hispanic or Latino</th>\n",
       "      <td>6.0</td>\n",
       "      <td>54.0</td>\n",
       "      <td>12.0</td>\n",
       "      <td>27.0</td>\n",
       "      <td>16.0</td>\n",
       "      <td>42.0</td>\n",
       "      <td>65.0</td>\n",
       "      <td>82.0</td>\n",
       "      <td>1347.0</td>\n",
       "      <td>20.0</td>\n",
       "      <td>10.0</td>\n",
       "    </tr>\n",
       "    <tr>\n",
       "      <th>Middle East</th>\n",
       "      <td>NaN</td>\n",
       "      <td>NaN</td>\n",
       "      <td>NaN</td>\n",
       "      <td>1.0</td>\n",
       "      <td>NaN</td>\n",
       "      <td>2.0</td>\n",
       "      <td>2.0</td>\n",
       "      <td>1.0</td>\n",
       "      <td>3.0</td>\n",
       "      <td>NaN</td>\n",
       "      <td>NaN</td>\n",
       "    </tr>\n",
       "    <tr>\n",
       "      <th>Native Hawaiian/Pacific Islander</th>\n",
       "      <td>NaN</td>\n",
       "      <td>NaN</td>\n",
       "      <td>NaN</td>\n",
       "      <td>1.0</td>\n",
       "      <td>NaN</td>\n",
       "      <td>NaN</td>\n",
       "      <td>NaN</td>\n",
       "      <td>NaN</td>\n",
       "      <td>NaN</td>\n",
       "      <td>NaN</td>\n",
       "      <td>NaN</td>\n",
       "    </tr>\n",
       "    <tr>\n",
       "      <th>Other/Don't Know</th>\n",
       "      <td>NaN</td>\n",
       "      <td>2.0</td>\n",
       "      <td>NaN</td>\n",
       "      <td>NaN</td>\n",
       "      <td>NaN</td>\n",
       "      <td>1.0</td>\n",
       "      <td>NaN</td>\n",
       "      <td>1.0</td>\n",
       "      <td>6.0</td>\n",
       "      <td>NaN</td>\n",
       "      <td>NaN</td>\n",
       "    </tr>\n",
       "  </tbody>\n",
       "</table>\n",
       "</div>"
      ],
      "text/plain": [
       "Department Name                   Austin Police Dept.  \\\n",
       "Ethnicity                                               \n",
       "American Indian/Alaska Native                     NaN   \n",
       "Anglo or White                                   21.0   \n",
       "Asian                                             1.0   \n",
       "Black or African American                        11.0   \n",
       "Hispanic or Latino                                6.0   \n",
       "Middle East                                       NaN   \n",
       "Native Hawaiian/Pacific Islander                  NaN   \n",
       "Other/Don't Know                                  NaN   \n",
       "\n",
       "Department Name                   Bexar County Sheriff's Dept.  \\\n",
       "Ethnicity                                                        \n",
       "American Indian/Alaska Native                              NaN   \n",
       "Anglo or White                                            19.0   \n",
       "Asian                                                      NaN   \n",
       "Black or African American                                 15.0   \n",
       "Hispanic or Latino                                        54.0   \n",
       "Middle East                                                NaN   \n",
       "Native Hawaiian/Pacific Islander                           NaN   \n",
       "Other/Don't Know                                           2.0   \n",
       "\n",
       "Department Name                   Dallas County Sheriff's Dept.  \\\n",
       "Ethnicity                                                         \n",
       "American Indian/Alaska Native                               1.0   \n",
       "Anglo or White                                             29.0   \n",
       "Asian                                                       1.0   \n",
       "Black or African American                                  55.0   \n",
       "Hispanic or Latino                                         12.0   \n",
       "Middle East                                                 NaN   \n",
       "Native Hawaiian/Pacific Islander                            NaN   \n",
       "Other/Don't Know                                            NaN   \n",
       "\n",
       "Department Name                   Dallas Police Dept.  \\\n",
       "Ethnicity                                               \n",
       "American Indian/Alaska Native                     NaN   \n",
       "Anglo or White                                   30.0   \n",
       "Asian                                             NaN   \n",
       "Black or African American                        61.0   \n",
       "Hispanic or Latino                               27.0   \n",
       "Middle East                                       1.0   \n",
       "Native Hawaiian/Pacific Islander                  1.0   \n",
       "Other/Don't Know                                  NaN   \n",
       "\n",
       "Department Name                   Fort Worth Police Dept.  \\\n",
       "Ethnicity                                                   \n",
       "American Indian/Alaska Native                         NaN   \n",
       "Anglo or White                                       29.0   \n",
       "Asian                                                 1.0   \n",
       "Black or African American                            16.0   \n",
       "Hispanic or Latino                                   16.0   \n",
       "Middle East                                           NaN   \n",
       "Native Hawaiian/Pacific Islander                      NaN   \n",
       "Other/Don't Know                                      NaN   \n",
       "\n",
       "Department Name                   Harris County Sheriff's Dept.  \\\n",
       "Ethnicity                                                         \n",
       "American Indian/Alaska Native                               1.0   \n",
       "Anglo or White                                             66.0   \n",
       "Asian                                                       3.0   \n",
       "Black or African American                                 116.0   \n",
       "Hispanic or Latino                                         42.0   \n",
       "Middle East                                                 2.0   \n",
       "Native Hawaiian/Pacific Islander                            NaN   \n",
       "Other/Don't Know                                            1.0   \n",
       "\n",
       "Department Name                   Houston Police Dept.  \\\n",
       "Ethnicity                                                \n",
       "American Indian/Alaska Native                      NaN   \n",
       "Anglo or White                                    50.0   \n",
       "Asian                                              3.0   \n",
       "Black or African American                        113.0   \n",
       "Hispanic or Latino                                65.0   \n",
       "Middle East                                        2.0   \n",
       "Native Hawaiian/Pacific Islander                   NaN   \n",
       "Other/Don't Know                                   NaN   \n",
       "\n",
       "Department Name                   San Antonio Police Dept.  \\\n",
       "Ethnicity                                                    \n",
       "American Indian/Alaska Native                          NaN   \n",
       "Anglo or White                                        27.0   \n",
       "Asian                                                  2.0   \n",
       "Black or African American                             25.0   \n",
       "Hispanic or Latino                                    82.0   \n",
       "Middle East                                            1.0   \n",
       "Native Hawaiian/Pacific Islander                       NaN   \n",
       "Other/Don't Know                                       1.0   \n",
       "\n",
       "Department Name                   Texas Department Of Criminal Justice  \\\n",
       "Ethnicity                                                                \n",
       "American Indian/Alaska Native                                      4.0   \n",
       "Anglo or White                                                  2154.0   \n",
       "Asian                                                             17.0   \n",
       "Black or African American                                       1546.0   \n",
       "Hispanic or Latino                                              1347.0   \n",
       "Middle East                                                        3.0   \n",
       "Native Hawaiian/Pacific Islander                                   NaN   \n",
       "Other/Don't Know                                                   6.0   \n",
       "\n",
       "Department Name                   Texas Department Of Public Safety  \\\n",
       "Ethnicity                                                             \n",
       "American Indian/Alaska Native                                   NaN   \n",
       "Anglo or White                                                 51.0   \n",
       "Asian                                                           NaN   \n",
       "Black or African American                                       9.0   \n",
       "Hispanic or Latino                                             20.0   \n",
       "Middle East                                                     NaN   \n",
       "Native Hawaiian/Pacific Islander                                NaN   \n",
       "Other/Don't Know                                                NaN   \n",
       "\n",
       "Department Name                   Travis County Sheriff's Dept.  \n",
       "Ethnicity                                                        \n",
       "American Indian/Alaska Native                               NaN  \n",
       "Anglo or White                                             21.0  \n",
       "Asian                                                       NaN  \n",
       "Black or African American                                  16.0  \n",
       "Hispanic or Latino                                         10.0  \n",
       "Middle East                                                 NaN  \n",
       "Native Hawaiian/Pacific Islander                            NaN  \n",
       "Other/Don't Know                                            NaN  "
      ]
     },
     "execution_count": 12,
     "metadata": {},
     "output_type": "execute_result"
    }
   ],
   "source": [
    "#create smaller df of major cities and their counties in Texas and the Ethnic break down of deaths for each\n",
    "major = cust[(cust['Department Name'] == 'Texas Department Of Criminal Justice') | (cust['Department Name'] == 'Harris County Sheriff\\'s Dept.')| (cust['Department Name'] == 'Houston Police Dept.')| (cust['Department Name'] == 'San Antonio Police Dept.')| (cust['Department Name'] == 'Fort Worth Police Dept.')| (cust['Department Name'] == 'Dallas Police Dept.')| (cust['Department Name'] == 'Dallas County Sheriff\\'s Dept.') | (cust['Department Name'] == 'Bexar County Sheriff\\'s Dept.')| (cust['Department Name'] == 'Texas Department Of Public Safety')| (cust['Department Name'] == 'Austin Police Dept.')| (cust['Department Name'] == 'Tarrant County Sheriff\\s Dept.')| (cust['Department Name'] == 'Travis County Sheriff\\'s Dept.')]  \n",
    "reduce =major.groupby(['Ethnicity', 'Department Name'])['Last Name'].count()\n",
    "majdept = reduce.unstack()\n",
    "majdept"
   ]
  },
  {
   "cell_type": "code",
   "execution_count": 13,
   "metadata": {},
   "outputs": [],
   "source": [
    "#Create small df with info for deaths in Houston PD custudy, brokendown by Ethnicity\n",
    "total= []\n",
    "for row in majdept['Houston Police Dept.']:\n",
    "    total.append(row)\n",
    "hpd = pd.DataFrame()\n",
    "hpd['ethnicity'] = majdept.index\n",
    "hpd['value'] = total\n",
    "hpd = hpd.dropna()"
   ]
  },
  {
   "cell_type": "code",
   "execution_count": 14,
   "metadata": {},
   "outputs": [
    {
     "data": {
      "image/png": "[encoded data removed]",
      "text/plain": [
       "<matplotlib.figure.Figure at 0x22222bd37f0>"
      ]
     },
     "metadata": {},
     "output_type": "display_data"
    }
   ],
   "source": [
    "# Pie graph of Ethnicity of Deaths in Houston PD custody\n",
    "labels = hpd['ethnicity']\n",
    "sizes = hpd['value']\n",
    " \n",
    "# Plot\n",
    "plt.pie(sizes, explode= None, labels=labels, colors=Spectral8,\n",
    "        autopct='%1.1f%%', shadow=True, startangle=140)\n",
    " \n",
    "plt.axis('equal')\n",
    "plt.suptitle('Deaths in Houston PD custody by Ethnicity')\n",
    "plt.rcParams[\"figure.figsize\"] = (10,15)\n",
    "plt.show()"
   ]
  },
  {
   "cell_type": "code",
   "execution_count": 15,
   "metadata": {},
   "outputs": [],
   "source": [
    "#Create df for Harris County\n",
    "total= []\n",
    "for r in majdept['Harris County Sheriff\\'s Dept.']:\n",
    "    total.append(r)\n",
    "harris = pd.DataFrame()\n",
    "harris['ethnicity'] = majdept.index\n",
    "harris['value'] = total\n",
    "harris = harris.dropna()"
   ]
  },
  {
   "cell_type": "code",
   "execution_count": 16,
   "metadata": {},
   "outputs": [
    {
     "data": {
      "image/png": "[encoded data removed]",
      "text/plain": [
       "<matplotlib.figure.Figure at 0x222230483c8>"
      ]
     },
     "metadata": {},
     "output_type": "display_data"
    }
   ],
   "source": [
    "## Pie chart of Harris County Deaths by Ethnicity\n",
    "labels = harris['ethnicity']\n",
    "sizes = harris['value']\n",
    " \n",
    "# Plot\n",
    "plt.pie(sizes, explode= None, labels=labels, colors=Spectral8,\n",
    "        autopct='%1.1f%%', shadow=True, startangle=140)\n",
    " \n",
    "plt.axis('equal')\n",
    "plt.suptitle('Deaths in Custody of Harris County Sherrif\\'s Department by Ethnicity')\n",
    "plt.rcParams[\"figure.figsize\"] = (15,5)\n",
    "plt.show()"
   ]
  },
  {
   "cell_type": "code",
   "execution_count": 17,
   "metadata": {},
   "outputs": [],
   "source": [
    "#Create df for San Antonio Police Dept.\n",
    "total= []\n",
    "for r in majdept['San Antonio Police Dept.']:\n",
    "    total.append(r)\n",
    "sa = pd.DataFrame()\n",
    "sa['ethnicity'] = majdept.index\n",
    "sa['value'] = total\n",
    "sa = sa.dropna()"
   ]
  },
  {
   "cell_type": "code",
   "execution_count": 18,
   "metadata": {},
   "outputs": [
    {
     "data": {
      "image/png": "[encoded data removed]",
      "text/plain": [
       "<matplotlib.figure.Figure at 0x222230b5860>"
      ]
     },
     "metadata": {},
     "output_type": "display_data"
    }
   ],
   "source": [
    "# Pie chart of San Antonio Police Dept. Deaths by Ethnicity\n",
    "labels = sa['ethnicity']\n",
    "sizes = sa['value']\n",
    " \n",
    "# Plot\n",
    "plt.pie(sizes, explode= None, labels=labels, colors=Spectral8,\n",
    "        autopct='%1.1f%%', shadow=True, startangle=140)\n",
    " \n",
    "plt.axis('equal')\n",
    "plt.suptitle('Deaths in Custody of San Antonio Police Department by Ethnicity')\n",
    "plt.rcParams[\"figure.figsize\"] = (15,5)\n",
    "plt.show()"
   ]
  },
  {
   "cell_type": "code",
   "execution_count": 19,
   "metadata": {},
   "outputs": [],
   "source": [
    "#Create df for Bexar County\n",
    "total= []\n",
    "for r in majdept['Bexar County Sheriff\\'s Dept.']:\n",
    "    total.append(r)\n",
    "bexar = pd.DataFrame()\n",
    "bexar['ethnicity'] = majdept.index\n",
    "bexar['value'] = total\n",
    "bexar = bexar.dropna()"
   ]
  },
  {
   "cell_type": "code",
   "execution_count": 20,
   "metadata": {},
   "outputs": [
    {
     "data": {
      "image/png": "[encoded data removed]",
      "text/plain": [
       "<matplotlib.figure.Figure at 0x22223028e10>"
      ]
     },
     "metadata": {},
     "output_type": "display_data"
    }
   ],
   "source": [
    "#Pie chart of Bexar County Deaths by Ethnicity\n",
    "labels = bexar['ethnicity']\n",
    "sizes = bexar['value']\n",
    " \n",
    "# Plot\n",
    "plt.pie(sizes, explode= None, labels=labels, colors=Spectral8,\n",
    "        autopct='%1.1f%%', shadow=True, startangle=140)\n",
    " \n",
    "plt.axis('equal')\n",
    "plt.suptitle('Deaths in Custody of Bexar County Sherrif\\'s Department by Ethnicity')\n",
    "plt.rcParams[\"figure.figsize\"] = (10,4)\n",
    "plt.show()"
   ]
  },
  {
   "cell_type": "code",
   "execution_count": 21,
   "metadata": {},
   "outputs": [
    {
     "data": {
      "text/html": [
       "<div>\n",
       "<style scoped>\n",
       "    .dataframe tbody tr th:only-of-type {\n",
       "        vertical-align: middle;\n",
       "    }\n",
       "\n",
       "    .dataframe tbody tr th {\n",
       "        vertical-align: top;\n",
       "    }\n",
       "\n",
       "    .dataframe thead th {\n",
       "        text-align: right;\n",
       "    }\n",
       "</style>\n",
       "<table border=\"1\" class=\"dataframe\">\n",
       "  <thead>\n",
       "    <tr style=\"text-align: right;\">\n",
       "      <th>Manner Death</th>\n",
       "      <th>Accidental injury caused by others</th>\n",
       "      <th>Accidental injury to self</th>\n",
       "      <th>Alcohol/Drug Intoxication</th>\n",
       "      <th>Homicide by Law Enforcement/Correctional Staff</th>\n",
       "      <th>Homicide by Other</th>\n",
       "      <th>Natural Causes/Illness</th>\n",
       "      <th>Other</th>\n",
       "      <th>Suicide</th>\n",
       "    </tr>\n",
       "    <tr>\n",
       "      <th>year</th>\n",
       "      <th></th>\n",
       "      <th></th>\n",
       "      <th></th>\n",
       "      <th></th>\n",
       "      <th></th>\n",
       "      <th></th>\n",
       "      <th></th>\n",
       "      <th></th>\n",
       "    </tr>\n",
       "  </thead>\n",
       "  <tbody>\n",
       "    <tr>\n",
       "      <th>2005</th>\n",
       "      <td>1</td>\n",
       "      <td>12</td>\n",
       "      <td>25</td>\n",
       "      <td>41</td>\n",
       "      <td>3</td>\n",
       "      <td>382</td>\n",
       "      <td>6</td>\n",
       "      <td>76</td>\n",
       "    </tr>\n",
       "    <tr>\n",
       "      <th>2006</th>\n",
       "      <td>0</td>\n",
       "      <td>10</td>\n",
       "      <td>36</td>\n",
       "      <td>46</td>\n",
       "      <td>11</td>\n",
       "      <td>483</td>\n",
       "      <td>4</td>\n",
       "      <td>67</td>\n",
       "    </tr>\n",
       "    <tr>\n",
       "      <th>2007</th>\n",
       "      <td>6</td>\n",
       "      <td>14</td>\n",
       "      <td>43</td>\n",
       "      <td>65</td>\n",
       "      <td>2</td>\n",
       "      <td>465</td>\n",
       "      <td>3</td>\n",
       "      <td>72</td>\n",
       "    </tr>\n",
       "    <tr>\n",
       "      <th>2008</th>\n",
       "      <td>4</td>\n",
       "      <td>15</td>\n",
       "      <td>24</td>\n",
       "      <td>66</td>\n",
       "      <td>6</td>\n",
       "      <td>498</td>\n",
       "      <td>11</td>\n",
       "      <td>58</td>\n",
       "    </tr>\n",
       "    <tr>\n",
       "      <th>2009</th>\n",
       "      <td>2</td>\n",
       "      <td>10</td>\n",
       "      <td>18</td>\n",
       "      <td>74</td>\n",
       "      <td>2</td>\n",
       "      <td>446</td>\n",
       "      <td>6</td>\n",
       "      <td>64</td>\n",
       "    </tr>\n",
       "    <tr>\n",
       "      <th>2010</th>\n",
       "      <td>0</td>\n",
       "      <td>14</td>\n",
       "      <td>15</td>\n",
       "      <td>65</td>\n",
       "      <td>7</td>\n",
       "      <td>399</td>\n",
       "      <td>12</td>\n",
       "      <td>76</td>\n",
       "    </tr>\n",
       "    <tr>\n",
       "      <th>2011</th>\n",
       "      <td>2</td>\n",
       "      <td>21</td>\n",
       "      <td>24</td>\n",
       "      <td>57</td>\n",
       "      <td>9</td>\n",
       "      <td>426</td>\n",
       "      <td>12</td>\n",
       "      <td>62</td>\n",
       "    </tr>\n",
       "    <tr>\n",
       "      <th>2012</th>\n",
       "      <td>1</td>\n",
       "      <td>17</td>\n",
       "      <td>22</td>\n",
       "      <td>97</td>\n",
       "      <td>13</td>\n",
       "      <td>449</td>\n",
       "      <td>15</td>\n",
       "      <td>76</td>\n",
       "    </tr>\n",
       "    <tr>\n",
       "      <th>2013</th>\n",
       "      <td>0</td>\n",
       "      <td>13</td>\n",
       "      <td>27</td>\n",
       "      <td>91</td>\n",
       "      <td>6</td>\n",
       "      <td>479</td>\n",
       "      <td>13</td>\n",
       "      <td>64</td>\n",
       "    </tr>\n",
       "    <tr>\n",
       "      <th>2014</th>\n",
       "      <td>1</td>\n",
       "      <td>14</td>\n",
       "      <td>19</td>\n",
       "      <td>94</td>\n",
       "      <td>2</td>\n",
       "      <td>421</td>\n",
       "      <td>15</td>\n",
       "      <td>74</td>\n",
       "    </tr>\n",
       "    <tr>\n",
       "      <th>2015</th>\n",
       "      <td>3</td>\n",
       "      <td>7</td>\n",
       "      <td>22</td>\n",
       "      <td>106</td>\n",
       "      <td>4</td>\n",
       "      <td>423</td>\n",
       "      <td>53</td>\n",
       "      <td>86</td>\n",
       "    </tr>\n",
       "    <tr>\n",
       "      <th>2016</th>\n",
       "      <td>1</td>\n",
       "      <td>8</td>\n",
       "      <td>9</td>\n",
       "      <td>82</td>\n",
       "      <td>7</td>\n",
       "      <td>395</td>\n",
       "      <td>53</td>\n",
       "      <td>69</td>\n",
       "    </tr>\n",
       "  </tbody>\n",
       "</table>\n",
       "</div>"
      ],
      "text/plain": [
       "Manner Death  Accidental injury caused by others  Accidental injury to self  \\\n",
       "year                                                                          \n",
       "2005                                           1                         12   \n",
       "2006                                           0                         10   \n",
       "2007                                           6                         14   \n",
       "2008                                           4                         15   \n",
       "2009                                           2                         10   \n",
       "2010                                           0                         14   \n",
       "2011                                           2                         21   \n",
       "2012                                           1                         17   \n",
       "2013                                           0                         13   \n",
       "2014                                           1                         14   \n",
       "2015                                           3                          7   \n",
       "2016                                           1                          8   \n",
       "\n",
       "Manner Death  Alcohol/Drug Intoxication  \\\n",
       "year                                      \n",
       "2005                                 25   \n",
       "2006                                 36   \n",
       "2007                                 43   \n",
       "2008                                 24   \n",
       "2009                                 18   \n",
       "2010                                 15   \n",
       "2011                                 24   \n",
       "2012                                 22   \n",
       "2013                                 27   \n",
       "2014                                 19   \n",
       "2015                                 22   \n",
       "2016                                  9   \n",
       "\n",
       "Manner Death  Homicide by Law Enforcement/Correctional Staff  \\\n",
       "year                                                           \n",
       "2005                                                      41   \n",
       "2006                                                      46   \n",
       "2007                                                      65   \n",
       "2008                                                      66   \n",
       "2009                                                      74   \n",
       "2010                                                      65   \n",
       "2011                                                      57   \n",
       "2012                                                      97   \n",
       "2013                                                      91   \n",
       "2014                                                      94   \n",
       "2015                                                     106   \n",
       "2016                                                      82   \n",
       "\n",
       "Manner Death  Homicide by Other  Natural Causes/Illness  Other  Suicide  \n",
       "year                                                                     \n",
       "2005                          3                     382      6       76  \n",
       "2006                         11                     483      4       67  \n",
       "2007                          2                     465      3       72  \n",
       "2008                          6                     498     11       58  \n",
       "2009                          2                     446      6       64  \n",
       "2010                          7                     399     12       76  \n",
       "2011                          9                     426     12       62  \n",
       "2012                         13                     449     15       76  \n",
       "2013                          6                     479     13       64  \n",
       "2014                          2                     421     15       74  \n",
       "2015                          4                     423     53       86  \n",
       "2016                          7                     395     53       69  "
      ]
     },
     "execution_count": 21,
     "metadata": {},
     "output_type": "execute_result"
    }
   ],
   "source": [
    "#create small df of deaths grouped by year and counts for each Manner of Death\n",
    "line = cust.groupby('year')['Manner Death'].value_counts()\n",
    "line =line.unstack().fillna(0).astype(int)\n",
    "line"
   ]
  },
  {
   "cell_type": "code",
   "execution_count": 22,
   "metadata": {},
   "outputs": [
    {
     "data": {
      "text/html": [
       "\n",
       "<div class=\"bk-root\">\n",
       "    <div class=\"bk-plotdiv\" id=\"cb0c3486-be00-4e61-9a8f-a6c9a677ecd0\"></div>\n",
       "</div>"
      ]
     },
     "metadata": {},
     "output_type": "display_data"
    },
    {
     "data": {
      "application/javascript": [
       "(function(root) {\n",
       "  function embed_document(root) {\n",
       "    \n",
       "  var docs_json = {\"b30a4a37-908a-442b-b373-84d435b6fafb\":{\"roots\":{\"references\":[{\"attributes\":{\"source\":{\"id\":\"3d1fb7c3-2de7-45a0-8258-78b41aba7f27\",\"type\":\"ColumnDataSource\"}},\"id\":\"c9a3f7f7-98f5-4ba3-a71e-7a76f06a135e\",\"type\":\"CDSView\"},{\"attributes\":{\"data_source\":{\"id\":\"3d1fb7c3-2de7-45a0-8258-78b41aba7f27\",\"type\":\"ColumnDataSource\"},\"glyph\":{\"id\":\"876bbb48-03b4-482b-8c60-fb4726dfbb1d\",\"type\":\"Line\"},\"hover_glyph\":null,\"muted_glyph\":null,\"nonselection_glyph\":{\"id\":\"79523604-4d8c-4b6e-9024-284179a0bbc7\",\"type\":\"Line\"},\"selection_glyph\":null,\"view\":{\"id\":\"c9a3f7f7-98f5-4ba3-a71e-7a76f06a135e\",\"type\":\"CDSView\"}},\"id\":\"d6d69501-040d-4ddf-9f3f-d4671f334c87\",\"type\":\"GlyphRenderer\"},{\"attributes\":{\"line_alpha\":0.1,\"line_color\":\"#1f77b4\",\"x\":{\"field\":\"x\"},\"y\":{\"field\":\"y\"}},\"id\":\"79523604-4d8c-4b6e-9024-284179a0bbc7\",\"type\":\"Line\"},{\"attributes\":{\"line_color\":\"orange\",\"x\":{\"field\":\"x\"},\"y\":{\"field\":\"y\"}},\"id\":\"876bbb48-03b4-482b-8c60-fb4726dfbb1d\",\"type\":\"Line\"},{\"attributes\":{\"fill_color\":{\"value\":\"#1f77b4\"},\"line_color\":{\"value\":\"orange\"},\"x\":{\"field\":\"x\"},\"y\":{\"field\":\"y\"}},\"id\":\"605808b7-81a2-4f92-899e-b513b604334d\",\"type\":\"Cross\"},{\"attributes\":{\"source\":{\"id\":\"94ce6268-19b8-4b92-89d8-54da5acdc33e\",\"type\":\"ColumnDataSource\"}},\"id\":\"fff421c1-3d2d-414f-834d-81699e9cea75\",\"type\":\"CDSView\"},{\"attributes\":{\"label\":{\"value\":\"Homicide by Law Enforcement/Correctional Staff\"},\"renderers\":[{\"id\":\"f2a717ec-1c24-4bd2-939f-00d3b74746f5\",\"type\":\"GlyphRenderer\"}]},\"id\":\"b2385c73-b0e3-45fa-ae13-3d29f8691b58\",\"type\":\"LegendItem\"},{\"attributes\":{\"plot\":null,\"text\":\"Manner of Death by year\"},\"id\":\"a3e49aa8-4b6a-447e-ac5d-0037d89d5cd1\",\"type\":\"Title\"},{\"attributes\":{\"data_source\":{\"id\":\"94ce6268-19b8-4b92-89d8-54da5acdc33e\",\"type\":\"ColumnDataSource\"},\"glyph\":{\"id\":\"b53ff547-09e9-45d1-a9d1-21e1fc78eed2\",\"type\":\"Triangle\"},\"hover_glyph\":null,\"muted_glyph\":null,\"nonselection_glyph\":{\"id\":\"07b526ba-bc27-40de-932d-8b41cf7240aa\",\"type\":\"Triangle\"},\"selection_glyph\":null,\"view\":{\"id\":\"fff421c1-3d2d-414f-834d-81699e9cea75\",\"type\":\"CDSView\"}},\"id\":\"a503d007-699e-4f3e-a0e4-54a9f666a918\",\"type\":\"GlyphRenderer\"},{\"attributes\":{\"overlay\":{\"id\":\"ddc0f17e-eb9d-49d7-bac5-672a1388d15e\",\"type\":\"BoxAnnotation\"}},\"id\":\"dc174179-13d9-447e-ac43-973f6b76d126\",\"type\":\"BoxZoomTool\"},{\"attributes\":{\"fill_alpha\":{\"value\":0.1},\"fill_color\":{\"value\":\"#1f77b4\"},\"line_alpha\":{\"value\":0.1},\"line_color\":{\"value\":\"#1f77b4\"},\"x\":{\"field\":\"x\"},\"y\":{\"field\":\"y\"}},\"id\":\"07b526ba-bc27-40de-932d-8b41cf7240aa\",\"type\":\"Triangle\"},{\"attributes\":{\"callback\":null,\"column_names\":[\"x\",\"y\"],\"data\":{\"x\":[2005,2006,2007,2008,2009,2010,2011,2012,2013,2014,2015,2016],\"y\":{\"__ndarray__\":\"TAAAAEMAAABIAAAAOgAAAEAAAABMAAAAPgAAAEwAAABAAAAASgAAAFYAAABFAAAA\",\"dtype\":\"int32\",\"shape\":[12]}}},\"id\":\"6c4eaa03-d608-4c4f-aec4-d8ee56b4efc0\",\"type\":\"ColumnDataSource\"},{\"attributes\":{\"data_source\":{\"id\":\"cdc985e7-0485-4cef-aca7-4cf099e5c6c5\",\"type\":\"ColumnDataSource\"},\"glyph\":{\"id\":\"8f998609-cda7-43f8-8ded-208617272d5a\",\"type\":\"Line\"},\"hover_glyph\":null,\"muted_glyph\":null,\"nonselection_glyph\":{\"id\":\"39099642-a090-4cbd-8d0c-631826ac4de5\",\"type\":\"Line\"},\"selection_glyph\":null,\"view\":{\"id\":\"8f7b4c72-3573-425e-bd84-2110173aec30\",\"type\":\"CDSView\"}},\"id\":\"85dfd510-fec0-4949-b3ab-b2d32bcc8410\",\"type\":\"GlyphRenderer\"},{\"attributes\":{\"source\":{\"id\":\"cdc985e7-0485-4cef-aca7-4cf099e5c6c5\",\"type\":\"ColumnDataSource\"}},\"id\":\"8f7b4c72-3573-425e-bd84-2110173aec30\",\"type\":\"CDSView\"},{\"attributes\":{\"line_alpha\":0.1,\"line_color\":\"#1f77b4\",\"x\":{\"field\":\"x\"},\"y\":{\"field\":\"y\"}},\"id\":\"39099642-a090-4cbd-8d0c-631826ac4de5\",\"type\":\"Line\"},{\"attributes\":{\"line_color\":\"green\",\"x\":{\"field\":\"x\"},\"y\":{\"field\":\"y\"}},\"id\":\"8f998609-cda7-43f8-8ded-208617272d5a\",\"type\":\"Line\"},{\"attributes\":{\"fill_color\":{\"value\":\"#1f77b4\"},\"line_color\":{\"value\":\"green\"},\"x\":{\"field\":\"x\"},\"y\":{\"field\":\"y\"}},\"id\":\"b53ff547-09e9-45d1-a9d1-21e1fc78eed2\",\"type\":\"Triangle\"},{\"attributes\":{\"below\":[{\"id\":\"530a846e-b276-40c7-8f67-8c89343e377e\",\"type\":\"LinearAxis\"}],\"left\":[{\"id\":\"7ebe3119-aee2-49ed-ba03-ac3ef00ce2ef\",\"type\":\"LinearAxis\"}],\"plot_width\":1000,\"renderers\":[{\"id\":\"530a846e-b276-40c7-8f67-8c89343e377e\",\"type\":\"LinearAxis\"},{\"id\":\"fa0d8eb0-1457-4605-bd82-3d7e1dbc8692\",\"type\":\"Grid\"},{\"id\":\"7ebe3119-aee2-49ed-ba03-ac3ef00ce2ef\",\"type\":\"LinearAxis\"},{\"id\":\"ca191334-437c-4e2d-a366-696d370f3763\",\"type\":\"Grid\"},{\"id\":\"ddc0f17e-eb9d-49d7-bac5-672a1388d15e\",\"type\":\"BoxAnnotation\"},{\"id\":\"00ef108e-ca92-4a85-9be5-5d947bb91b97\",\"type\":\"GlyphRenderer\"},{\"id\":\"2fd07bfd-2b58-4b7c-a689-9185de1c8e53\",\"type\":\"GlyphRenderer\"},{\"id\":\"f7e6fe3f-7687-4dd1-8511-85a0aa3ffc43\",\"type\":\"GlyphRenderer\"},{\"id\":\"36c0757f-c7a5-47bb-b928-512cec7db87a\",\"type\":\"GlyphRenderer\"},{\"id\":\"f2a717ec-1c24-4bd2-939f-00d3b74746f5\",\"type\":\"GlyphRenderer\"},{\"id\":\"c4b6269a-72c9-4b30-ae0a-b552871b4a5e\",\"type\":\"GlyphRenderer\"},{\"id\":\"70849d25-218c-4dbc-ab71-23f64aec5917\",\"type\":\"GlyphRenderer\"},{\"id\":\"4e14f296-9553-4d8d-8b7b-0da826a66b22\",\"type\":\"GlyphRenderer\"},{\"id\":\"85dfd510-fec0-4949-b3ab-b2d32bcc8410\",\"type\":\"GlyphRenderer\"},{\"id\":\"a503d007-699e-4f3e-a0e4-54a9f666a918\",\"type\":\"GlyphRenderer\"},{\"id\":\"d6d69501-040d-4ddf-9f3f-d4671f334c87\",\"type\":\"GlyphRenderer\"},{\"id\":\"48d5da78-e277-4e26-8679-197edc65479b\",\"type\":\"GlyphRenderer\"},{\"id\":\"26691354-2bb6-4eec-b6d6-ab035ca13e87\",\"type\":\"Legend\"}],\"right\":[{\"id\":\"26691354-2bb6-4eec-b6d6-ab035ca13e87\",\"type\":\"Legend\"}],\"title\":{\"id\":\"a3e49aa8-4b6a-447e-ac5d-0037d89d5cd1\",\"type\":\"Title\"},\"toolbar\":{\"id\":\"5b13bd89-57a7-403a-9d78-3160709826a7\",\"type\":\"Toolbar\"},\"x_range\":{\"id\":\"de93e058-426c-4e97-bd50-fcb527853bae\",\"type\":\"DataRange1d\"},\"x_scale\":{\"id\":\"afebbc8d-1cf7-472c-9711-66d563b840c2\",\"type\":\"LinearScale\"},\"y_range\":{\"id\":\"7c9b5f4d-f880-4cfb-8d69-9e5d01ad53c5\",\"type\":\"Range1d\"},\"y_scale\":{\"id\":\"0ff6ebbb-cee9-4bdb-9520-740ccd8daee9\",\"type\":\"LinearScale\"}},\"id\":\"9fd7a04b-1006-40da-a710-7f0097aeff3c\",\"subtype\":\"Figure\",\"type\":\"Plot\"},{\"attributes\":{\"axis_label\":\"Number of Deaths\",\"formatter\":{\"id\":\"1069b188-c9f0-43f0-916d-c984d9321da2\",\"type\":\"BasicTickFormatter\"},\"plot\":{\"id\":\"9fd7a04b-1006-40da-a710-7f0097aeff3c\",\"subtype\":\"Figure\",\"type\":\"Plot\"},\"ticker\":{\"id\":\"b632f5cd-c426-43da-ba03-15d9d7e5f8af\",\"type\":\"BasicTicker\"}},\"id\":\"7ebe3119-aee2-49ed-ba03-ac3ef00ce2ef\",\"type\":\"LinearAxis\"},{\"attributes\":{\"callback\":null,\"column_names\":[\"x\",\"y\"],\"data\":{\"x\":[2005,2006,2007,2008,2009,2010,2011,2012,2013,2014,2015,2016],\"y\":{\"__ndarray__\":\"BgAAAAQAAAADAAAACwAAAAYAAAAMAAAADAAAAA8AAAANAAAADwAAADUAAAA1AAAA\",\"dtype\":\"int32\",\"shape\":[12]}}},\"id\":\"cdc985e7-0485-4cef-aca7-4cf099e5c6c5\",\"type\":\"ColumnDataSource\"},{\"attributes\":{},\"id\":\"b3978238-3f20-4090-a58e-4342ca48bd67\",\"type\":\"PanTool\"},{\"attributes\":{\"callback\":null,\"column_names\":[\"x\",\"y\"],\"data\":{\"x\":[2005,2006,2007,2008,2009,2010,2011,2012,2013,2014,2015,2016],\"y\":{\"__ndarray__\":\"fgEAAOMBAADRAQAA8gEAAL4BAACPAQAAqgEAAMEBAADfAQAApQEAAKcBAACLAQAA\",\"dtype\":\"int32\",\"shape\":[12]}}},\"id\":\"d37cd060-3a2e-4a9d-99c1-7fc99015bca9\",\"type\":\"ColumnDataSource\"},{\"attributes\":{\"data_source\":{\"id\":\"675a7b44-c823-4015-9d2f-88be15781f42\",\"type\":\"ColumnDataSource\"},\"glyph\":{\"id\":\"cde0b95a-6fec-4778-8025-2ff213a3c523\",\"type\":\"Line\"},\"hover_glyph\":null,\"muted_glyph\":null,\"nonselection_glyph\":{\"id\":\"419d5f0c-bdf8-4d02-99d6-2975475655f9\",\"type\":\"Line\"},\"selection_glyph\":null,\"view\":{\"id\":\"0dd858bb-92f8-4770-8be7-73892b7bfdab\",\"type\":\"CDSView\"}},\"id\":\"f2a717ec-1c24-4bd2-939f-00d3b74746f5\",\"type\":\"GlyphRenderer\"},{\"attributes\":{\"bottom_units\":\"screen\",\"fill_alpha\":{\"value\":0.5},\"fill_color\":{\"value\":\"lightgrey\"},\"left_units\":\"screen\",\"level\":\"overlay\",\"line_alpha\":{\"value\":1.0},\"line_color\":{\"value\":\"black\"},\"line_dash\":[4,4],\"line_width\":{\"value\":2},\"plot\":null,\"render_mode\":\"css\",\"right_units\":\"screen\",\"top_units\":\"screen\"},\"id\":\"ddc0f17e-eb9d-49d7-bac5-672a1388d15e\",\"type\":\"BoxAnnotation\"},{\"attributes\":{\"source\":{\"id\":\"675a7b44-c823-4015-9d2f-88be15781f42\",\"type\":\"ColumnDataSource\"}},\"id\":\"0dd858bb-92f8-4770-8be7-73892b7bfdab\",\"type\":\"CDSView\"},{\"attributes\":{\"source\":{\"id\":\"6c4eaa03-d608-4c4f-aec4-d8ee56b4efc0\",\"type\":\"ColumnDataSource\"}},\"id\":\"3949f926-758e-4f09-aa39-d65c417eb9c4\",\"type\":\"CDSView\"},{\"attributes\":{},\"id\":\"70003180-c556-4eb5-95a2-dbc26d757195\",\"type\":\"BasicTickFormatter\"},{\"attributes\":{\"line_alpha\":0.1,\"line_color\":\"#1f77b4\",\"line_dash\":[2,4],\"x\":{\"field\":\"x\"},\"y\":{\"field\":\"y\"}},\"id\":\"419d5f0c-bdf8-4d02-99d6-2975475655f9\",\"type\":\"Line\"},{\"attributes\":{},\"id\":\"019cae61-8027-4707-86f2-cb50e441d83b\",\"type\":\"BasicTicker\"},{\"attributes\":{\"line_color\":\"gold\",\"line_dash\":[2,4],\"x\":{\"field\":\"x\"},\"y\":{\"field\":\"y\"}},\"id\":\"cde0b95a-6fec-4778-8025-2ff213a3c523\",\"type\":\"Line\"},{\"attributes\":{\"data_source\":{\"id\":\"e8d2ebc5-8659-4ef3-90c8-a5be457fede2\",\"type\":\"ColumnDataSource\"},\"glyph\":{\"id\":\"5a10060e-6d74-4d7a-8282-a9d4550fc6d4\",\"type\":\"Line\"},\"hover_glyph\":null,\"muted_glyph\":null,\"nonselection_glyph\":{\"id\":\"dc2a6c00-628b-4438-aef0-e8f0ac1968a0\",\"type\":\"Line\"},\"selection_glyph\":null,\"view\":{\"id\":\"1cef43f5-635d-4d1d-b469-84d5e7ccf4c4\",\"type\":\"CDSView\"}},\"id\":\"00ef108e-ca92-4a85-9be5-5d947bb91b97\",\"type\":\"GlyphRenderer\"},{\"attributes\":{\"callback\":null,\"column_names\":[\"x\",\"y\"],\"data\":{\"x\":[2005,2006,2007,2008,2009,2010,2011,2012,2013,2014,2015,2016],\"y\":{\"__ndarray__\":\"fgEAAOMBAADRAQAA8gEAAL4BAACPAQAAqgEAAMEBAADfAQAApQEAAKcBAACLAQAA\",\"dtype\":\"int32\",\"shape\":[12]}}},\"id\":\"433fb1ff-9a10-45b2-96fc-4895c936d3a1\",\"type\":\"ColumnDataSource\"},{\"attributes\":{\"callback\":null,\"column_names\":[\"x\",\"y\"],\"data\":{\"x\":[2005,2006,2007,2008,2009,2010,2011,2012,2013,2014,2015,2016],\"y\":{\"__ndarray__\":\"AwAAAAsAAAACAAAABgAAAAIAAAAHAAAACQAAAA0AAAAGAAAAAgAAAAQAAAAHAAAA\",\"dtype\":\"int32\",\"shape\":[12]}}},\"id\":\"4ccdacad-0573-48ab-b18e-38b012ac7804\",\"type\":\"ColumnDataSource\"},{\"attributes\":{\"source\":{\"id\":\"3f51f137-188d-4b1d-8a88-063a535d10e6\",\"type\":\"ColumnDataSource\"}},\"id\":\"2b04ede5-035e-4988-afa3-605e29cbcff8\",\"type\":\"CDSView\"},{\"attributes\":{},\"id\":\"1069b188-c9f0-43f0-916d-c984d9321da2\",\"type\":\"BasicTickFormatter\"},{\"attributes\":{\"callback\":null,\"column_names\":[\"x\",\"y\"],\"data\":{\"x\":[2005,2006,2007,2008,2009,2010,2011,2012,2013,2014,2015,2016],\"y\":{\"__ndarray__\":\"KQAAAC4AAABBAAAAQgAAAEoAAABBAAAAOQAAAGEAAABbAAAAXgAAAGoAAABSAAAA\",\"dtype\":\"int32\",\"shape\":[12]}}},\"id\":\"675a7b44-c823-4015-9d2f-88be15781f42\",\"type\":\"ColumnDataSource\"},{\"attributes\":{\"plot\":{\"id\":\"9fd7a04b-1006-40da-a710-7f0097aeff3c\",\"subtype\":\"Figure\",\"type\":\"Plot\"},\"ticker\":{\"id\":\"019cae61-8027-4707-86f2-cb50e441d83b\",\"type\":\"BasicTicker\"}},\"id\":\"fa0d8eb0-1457-4605-bd82-3d7e1dbc8692\",\"type\":\"Grid\"},{\"attributes\":{\"line_color\":\"olivedrab\",\"line_width\":2,\"x\":{\"field\":\"x\"},\"y\":{\"field\":\"y\"}},\"id\":\"1eb37ae0-6023-4529-8a15-71e8406c19e5\",\"type\":\"Line\"},{\"attributes\":{\"axis_label\":\"Year\",\"formatter\":{\"id\":\"70003180-c556-4eb5-95a2-dbc26d757195\",\"type\":\"BasicTickFormatter\"},\"plot\":{\"id\":\"9fd7a04b-1006-40da-a710-7f0097aeff3c\",\"subtype\":\"Figure\",\"type\":\"Plot\"},\"ticker\":{\"id\":\"019cae61-8027-4707-86f2-cb50e441d83b\",\"type\":\"BasicTicker\"}},\"id\":\"530a846e-b276-40c7-8f67-8c89343e377e\",\"type\":\"LinearAxis\"},{\"attributes\":{\"line_alpha\":0.1,\"line_color\":\"#1f77b4\",\"line_width\":2,\"x\":{\"field\":\"x\"},\"y\":{\"field\":\"y\"}},\"id\":\"a033576a-bf71-40f8-a564-833894c3d1b5\",\"type\":\"Line\"},{\"attributes\":{\"line_alpha\":0.1,\"line_color\":\"#1f77b4\",\"line_dash\":[2,4,6,4],\"x\":{\"field\":\"x\"},\"y\":{\"field\":\"y\"}},\"id\":\"dc2a6c00-628b-4438-aef0-e8f0ac1968a0\",\"type\":\"Line\"},{\"attributes\":{\"data_source\":{\"id\":\"d37cd060-3a2e-4a9d-99c1-7fc99015bca9\",\"type\":\"ColumnDataSource\"},\"glyph\":{\"id\":\"63994f58-d3e0-4a72-b45c-aac7f17e6915\",\"type\":\"Square\"},\"hover_glyph\":null,\"muted_glyph\":null,\"nonselection_glyph\":{\"id\":\"a4393e88-1753-470a-b5d7-6b91fffce8b7\",\"type\":\"Square\"},\"selection_glyph\":null,\"view\":{\"id\":\"62febed5-5f5a-4fa0-9567-ceaaef2c3f54\",\"type\":\"CDSView\"}},\"id\":\"4e14f296-9553-4d8d-8b7b-0da826a66b22\",\"type\":\"GlyphRenderer\"},{\"attributes\":{\"fill_alpha\":{\"value\":0.1},\"fill_color\":{\"value\":\"#1f77b4\"},\"line_alpha\":{\"value\":0.1},\"line_color\":{\"value\":\"#1f77b4\"},\"x\":{\"field\":\"x\"},\"y\":{\"field\":\"y\"}},\"id\":\"a4393e88-1753-470a-b5d7-6b91fffce8b7\",\"type\":\"Square\"},{\"attributes\":{\"callback\":null,\"column_names\":[\"x\",\"y\"],\"data\":{\"x\":[2005,2006,2007,2008,2009,2010,2011,2012,2013,2014,2015,2016],\"y\":{\"__ndarray__\":\"BgAAAAQAAAADAAAACwAAAAYAAAAMAAAADAAAAA8AAAANAAAADwAAADUAAAA1AAAA\",\"dtype\":\"int32\",\"shape\":[12]}}},\"id\":\"94ce6268-19b8-4b92-89d8-54da5acdc33e\",\"type\":\"ColumnDataSource\"},{\"attributes\":{\"source\":{\"id\":\"433fb1ff-9a10-45b2-96fc-4895c936d3a1\",\"type\":\"ColumnDataSource\"}},\"id\":\"ea99feda-2cb1-40b2-9bfe-02aaeaa36e3a\",\"type\":\"CDSView\"},{\"attributes\":{\"data_source\":{\"id\":\"433fb1ff-9a10-45b2-96fc-4895c936d3a1\",\"type\":\"ColumnDataSource\"},\"glyph\":{\"id\":\"ea5eaa69-d128-4bcb-8e04-69793643a9fa\",\"type\":\"Line\"},\"hover_glyph\":null,\"muted_glyph\":null,\"nonselection_glyph\":{\"id\":\"987ac8bf-3d71-491d-ace1-4d888e0cbffd\",\"type\":\"Line\"},\"selection_glyph\":null,\"view\":{\"id\":\"ea99feda-2cb1-40b2-9bfe-02aaeaa36e3a\",\"type\":\"CDSView\"}},\"id\":\"70849d25-218c-4dbc-ab71-23f64aec5917\",\"type\":\"GlyphRenderer\"},{\"attributes\":{\"line_alpha\":0.1,\"line_color\":\"#1f77b4\",\"x\":{\"field\":\"x\"},\"y\":{\"field\":\"y\"}},\"id\":\"987ac8bf-3d71-491d-ace1-4d888e0cbffd\",\"type\":\"Line\"},{\"attributes\":{\"dimension\":1,\"plot\":{\"id\":\"9fd7a04b-1006-40da-a710-7f0097aeff3c\",\"subtype\":\"Figure\",\"type\":\"Plot\"},\"ticker\":{\"id\":\"b632f5cd-c426-43da-ba03-15d9d7e5f8af\",\"type\":\"BasicTicker\"}},\"id\":\"ca191334-437c-4e2d-a366-696d370f3763\",\"type\":\"Grid\"},{\"attributes\":{\"line_color\":\"coral\",\"x\":{\"field\":\"x\"},\"y\":{\"field\":\"y\"}},\"id\":\"ea5eaa69-d128-4bcb-8e04-69793643a9fa\",\"type\":\"Line\"},{\"attributes\":{},\"id\":\"b632f5cd-c426-43da-ba03-15d9d7e5f8af\",\"type\":\"BasicTicker\"},{\"attributes\":{\"fill_color\":{\"value\":null},\"line_color\":{\"value\":\"coral\"},\"x\":{\"field\":\"x\"},\"y\":{\"field\":\"y\"}},\"id\":\"63994f58-d3e0-4a72-b45c-aac7f17e6915\",\"type\":\"Square\"},{\"attributes\":{\"source\":{\"id\":\"4ccdacad-0573-48ab-b18e-38b012ac7804\",\"type\":\"ColumnDataSource\"}},\"id\":\"18b6159d-e681-4283-a310-e6f54250a6b0\",\"type\":\"CDSView\"},{\"attributes\":{},\"id\":\"c8f7eb3b-d0f6-426f-bd22-0a4455fc21de\",\"type\":\"WheelZoomTool\"},{\"attributes\":{\"data_source\":{\"id\":\"4ccdacad-0573-48ab-b18e-38b012ac7804\",\"type\":\"ColumnDataSource\"},\"glyph\":{\"id\":\"ce6339a6-6074-4a19-ba48-05f1040952c3\",\"type\":\"Line\"},\"hover_glyph\":null,\"muted_glyph\":null,\"nonselection_glyph\":{\"id\":\"53bd199f-6598-468c-a565-a228fada49f6\",\"type\":\"Line\"},\"selection_glyph\":null,\"view\":{\"id\":\"18b6159d-e681-4283-a310-e6f54250a6b0\",\"type\":\"CDSView\"}},\"id\":\"c4b6269a-72c9-4b30-ae0a-b552871b4a5e\",\"type\":\"GlyphRenderer\"},{\"attributes\":{\"line_alpha\":0.1,\"line_color\":\"#1f77b4\",\"line_dash\":[6],\"line_width\":2,\"x\":{\"field\":\"x\"},\"y\":{\"field\":\"y\"}},\"id\":\"53bd199f-6598-468c-a565-a228fada49f6\",\"type\":\"Line\"},{\"attributes\":{\"line_color\":\"indigo\",\"line_dash\":[6],\"line_width\":2,\"x\":{\"field\":\"x\"},\"y\":{\"field\":\"y\"}},\"id\":\"ce6339a6-6074-4a19-ba48-05f1040952c3\",\"type\":\"Line\"},{\"attributes\":{},\"id\":\"afebbc8d-1cf7-472c-9711-66d563b840c2\",\"type\":\"LinearScale\"},{\"attributes\":{\"source\":{\"id\":\"ea4e24d0-7824-439b-8ce3-128058f8460e\",\"type\":\"ColumnDataSource\"}},\"id\":\"dbb6085f-360e-44c6-a978-8e1884be804e\",\"type\":\"CDSView\"},{\"attributes\":{\"data_source\":{\"id\":\"ea4e24d0-7824-439b-8ce3-128058f8460e\",\"type\":\"ColumnDataSource\"},\"glyph\":{\"id\":\"3716c5b3-9828-453d-a019-5b496ac24273\",\"type\":\"Circle\"},\"hover_glyph\":null,\"muted_glyph\":null,\"nonselection_glyph\":{\"id\":\"9d0642c2-e7e4-437a-9ab7-8edcdb73ff4d\",\"type\":\"Circle\"},\"selection_glyph\":null,\"view\":{\"id\":\"dbb6085f-360e-44c6-a978-8e1884be804e\",\"type\":\"CDSView\"}},\"id\":\"f7e6fe3f-7687-4dd1-8511-85a0aa3ffc43\",\"type\":\"GlyphRenderer\"},{\"attributes\":{},\"id\":\"0ff6ebbb-cee9-4bdb-9520-740ccd8daee9\",\"type\":\"LinearScale\"},{\"attributes\":{\"fill_alpha\":{\"value\":0.1},\"fill_color\":{\"value\":\"#1f77b4\"},\"line_alpha\":{\"value\":0.1},\"line_color\":{\"value\":\"#1f77b4\"},\"x\":{\"field\":\"x\"},\"y\":{\"field\":\"y\"}},\"id\":\"9d0642c2-e7e4-437a-9ab7-8edcdb73ff4d\",\"type\":\"Circle\"},{\"attributes\":{\"source\":{\"id\":\"e8d2ebc5-8659-4ef3-90c8-a5be457fede2\",\"type\":\"ColumnDataSource\"}},\"id\":\"1cef43f5-635d-4d1d-b469-84d5e7ccf4c4\",\"type\":\"CDSView\"},{\"attributes\":{\"items\":[{\"id\":\"c65f5017-dc1e-4f66-899d-815c6e24379a\",\"type\":\"LegendItem\"},{\"id\":\"19356760-a6c6-4071-8054-026187e211f9\",\"type\":\"LegendItem\"},{\"id\":\"ab5d13d4-c1e3-4938-b16a-27a0fcf0660d\",\"type\":\"LegendItem\"},{\"id\":\"b2385c73-b0e3-45fa-ae13-3d29f8691b58\",\"type\":\"LegendItem\"},{\"id\":\"15e7ffd0-84da-41d8-be88-3642497d1ceb\",\"type\":\"LegendItem\"},{\"id\":\"1eb6924d-4614-4c8e-826b-30be8c892bae\",\"type\":\"LegendItem\"},{\"id\":\"239e17b2-3997-43b0-8899-754ca9e56128\",\"type\":\"LegendItem\"},{\"id\":\"fe60d06f-059d-4fd0-aa93-98d58ab05a42\",\"type\":\"LegendItem\"}],\"location\":[0,-30],\"plot\":{\"id\":\"9fd7a04b-1006-40da-a710-7f0097aeff3c\",\"subtype\":\"Figure\",\"type\":\"Plot\"}},\"id\":\"26691354-2bb6-4eec-b6d6-ab035ca13e87\",\"type\":\"Legend\"},{\"attributes\":{\"source\":{\"id\":\"d37cd060-3a2e-4a9d-99c1-7fc99015bca9\",\"type\":\"ColumnDataSource\"}},\"id\":\"62febed5-5f5a-4fa0-9567-ceaaef2c3f54\",\"type\":\"CDSView\"},{\"attributes\":{\"line_color\":\"#1f77b4\",\"x\":{\"field\":\"x\"},\"y\":{\"field\":\"y\"}},\"id\":\"6eef8e3b-5e1e-42d5-bf12-3964d93b6260\",\"type\":\"Line\"},{\"attributes\":{\"callback\":null,\"column_names\":[\"x\",\"y\"],\"data\":{\"x\":[2005,2006,2007,2008,2009,2010,2011,2012,2013,2014,2015,2016],\"y\":{\"__ndarray__\":\"TAAAAEMAAABIAAAAOgAAAEAAAABMAAAAPgAAAEwAAABAAAAASgAAAFYAAABFAAAA\",\"dtype\":\"int32\",\"shape\":[12]}}},\"id\":\"3d1fb7c3-2de7-45a0-8258-78b41aba7f27\",\"type\":\"ColumnDataSource\"},{\"attributes\":{\"callback\":null,\"end\":500},\"id\":\"7c9b5f4d-f880-4cfb-8d69-9e5d01ad53c5\",\"type\":\"Range1d\"},{\"attributes\":{\"data_source\":{\"id\":\"3f51f137-188d-4b1d-8a88-063a535d10e6\",\"type\":\"ColumnDataSource\"},\"glyph\":{\"id\":\"1eb37ae0-6023-4529-8a15-71e8406c19e5\",\"type\":\"Line\"},\"hover_glyph\":null,\"muted_glyph\":null,\"nonselection_glyph\":{\"id\":\"a033576a-bf71-40f8-a564-833894c3d1b5\",\"type\":\"Line\"},\"selection_glyph\":null,\"view\":{\"id\":\"2b04ede5-035e-4988-afa3-605e29cbcff8\",\"type\":\"CDSView\"}},\"id\":\"36c0757f-c7a5-47bb-b928-512cec7db87a\",\"type\":\"GlyphRenderer\"},{\"attributes\":{\"callback\":null,\"column_names\":[\"x\",\"y\"],\"data\":{\"x\":[2005,2006,2007,2008,2009,2010,2011,2012,2013,2014,2015,2016],\"y\":{\"__ndarray__\":\"DAAAAAoAAAAOAAAADwAAAAoAAAAOAAAAFQAAABEAAAANAAAADgAAAAcAAAAIAAAA\",\"dtype\":\"int32\",\"shape\":[12]}}},\"id\":\"5efcbb4c-29e4-4208-8ccd-19e688d9b22d\",\"type\":\"ColumnDataSource\"},{\"attributes\":{\"line_alpha\":0.1,\"line_color\":\"#1f77b4\",\"x\":{\"field\":\"x\"},\"y\":{\"field\":\"y\"}},\"id\":\"a95f0ed2-e3ba-49b3-ae96-27546a3b529e\",\"type\":\"Line\"},{\"attributes\":{\"active_drag\":\"auto\",\"active_inspect\":\"auto\",\"active_scroll\":\"auto\",\"active_tap\":\"auto\",\"tools\":[{\"id\":\"b3978238-3f20-4090-a58e-4342ca48bd67\",\"type\":\"PanTool\"},{\"id\":\"c8f7eb3b-d0f6-426f-bd22-0a4455fc21de\",\"type\":\"WheelZoomTool\"},{\"id\":\"dc174179-13d9-447e-ac43-973f6b76d126\",\"type\":\"BoxZoomTool\"},{\"id\":\"f73bc717-6960-439a-96c4-cca243d54e60\",\"type\":\"SaveTool\"},{\"id\":\"6d28a776-19de-4eec-ae5c-375937438347\",\"type\":\"ResetTool\"},{\"id\":\"05fb4b62-4c45-4bfe-9f0b-a26a8432c582\",\"type\":\"HelpTool\"}]},\"id\":\"5b13bd89-57a7-403a-9d78-3160709826a7\",\"type\":\"Toolbar\"},{\"attributes\":{\"line_color\":\"tomato\",\"line_dash\":[2,4,6,4],\"x\":{\"field\":\"x\"},\"y\":{\"field\":\"y\"}},\"id\":\"5a10060e-6d74-4d7a-8282-a9d4550fc6d4\",\"type\":\"Line\"},{\"attributes\":{\"source\":{\"id\":\"5efcbb4c-29e4-4208-8ccd-19e688d9b22d\",\"type\":\"ColumnDataSource\"}},\"id\":\"4d7e1a65-8d3c-4ea3-8640-a2eacb05a86c\",\"type\":\"CDSView\"},{\"attributes\":{\"label\":{\"value\":\"Alcohol/Drug Intoxication\"},\"renderers\":[{\"id\":\"36c0757f-c7a5-47bb-b928-512cec7db87a\",\"type\":\"GlyphRenderer\"}]},\"id\":\"ab5d13d4-c1e3-4938-b16a-27a0fcf0660d\",\"type\":\"LegendItem\"},{\"attributes\":{\"callback\":null},\"id\":\"de93e058-426c-4e97-bd50-fcb527853bae\",\"type\":\"DataRange1d\"},{\"attributes\":{\"fill_alpha\":{\"value\":0.1},\"fill_color\":{\"value\":\"#1f77b4\"},\"line_alpha\":{\"value\":0.1},\"line_color\":{\"value\":\"#1f77b4\"},\"x\":{\"field\":\"x\"},\"y\":{\"field\":\"y\"}},\"id\":\"0f520395-4e2b-4a8b-9bbc-7ef27e909235\",\"type\":\"Cross\"},{\"attributes\":{},\"id\":\"f73bc717-6960-439a-96c4-cca243d54e60\",\"type\":\"SaveTool\"},{\"attributes\":{\"data_source\":{\"id\":\"5efcbb4c-29e4-4208-8ccd-19e688d9b22d\",\"type\":\"ColumnDataSource\"},\"glyph\":{\"id\":\"6eef8e3b-5e1e-42d5-bf12-3964d93b6260\",\"type\":\"Line\"},\"hover_glyph\":null,\"muted_glyph\":null,\"nonselection_glyph\":{\"id\":\"a95f0ed2-e3ba-49b3-ae96-27546a3b529e\",\"type\":\"Line\"},\"selection_glyph\":null,\"view\":{\"id\":\"4d7e1a65-8d3c-4ea3-8640-a2eacb05a86c\",\"type\":\"CDSView\"}},\"id\":\"2fd07bfd-2b58-4b7c-a689-9185de1c8e53\",\"type\":\"GlyphRenderer\"},{\"attributes\":{\"fill_color\":{\"value\":\"#1f77b4\"},\"line_color\":{\"value\":\"#1f77b4\"},\"x\":{\"field\":\"x\"},\"y\":{\"field\":\"y\"}},\"id\":\"3716c5b3-9828-453d-a019-5b496ac24273\",\"type\":\"Circle\"},{\"attributes\":{\"label\":{\"value\":\"Suicide\"},\"renderers\":[{\"id\":\"d6d69501-040d-4ddf-9f3f-d4671f334c87\",\"type\":\"GlyphRenderer\"},{\"id\":\"48d5da78-e277-4e26-8679-197edc65479b\",\"type\":\"GlyphRenderer\"}]},\"id\":\"fe60d06f-059d-4fd0-aa93-98d58ab05a42\",\"type\":\"LegendItem\"},{\"attributes\":{\"callback\":null,\"column_names\":[\"x\",\"y\"],\"data\":{\"x\":[2005,2006,2007,2008,2009,2010,2011,2012,2013,2014,2015,2016],\"y\":{\"__ndarray__\":\"AQAAAAAAAAAGAAAABAAAAAIAAAAAAAAAAgAAAAEAAAAAAAAAAQAAAAMAAAABAAAA\",\"dtype\":\"int32\",\"shape\":[12]}}},\"id\":\"e8d2ebc5-8659-4ef3-90c8-a5be457fede2\",\"type\":\"ColumnDataSource\"},{\"attributes\":{\"callback\":null,\"column_names\":[\"x\",\"y\"],\"data\":{\"x\":[2005,2006,2007,2008,2009,2010,2011,2012,2013,2014,2015,2016],\"y\":{\"__ndarray__\":\"GQAAACQAAAArAAAAGAAAABIAAAAPAAAAGAAAABYAAAAbAAAAEwAAABYAAAAJAAAA\",\"dtype\":\"int32\",\"shape\":[12]}}},\"id\":\"3f51f137-188d-4b1d-8a88-063a535d10e6\",\"type\":\"ColumnDataSource\"},{\"attributes\":{\"label\":{\"value\":\"Other\"},\"renderers\":[{\"id\":\"85dfd510-fec0-4949-b3ab-b2d32bcc8410\",\"type\":\"GlyphRenderer\"},{\"id\":\"a503d007-699e-4f3e-a0e4-54a9f666a918\",\"type\":\"GlyphRenderer\"}]},\"id\":\"239e17b2-3997-43b0-8899-754ca9e56128\",\"type\":\"LegendItem\"},{\"attributes\":{\"data_source\":{\"id\":\"6c4eaa03-d608-4c4f-aec4-d8ee56b4efc0\",\"type\":\"ColumnDataSource\"},\"glyph\":{\"id\":\"605808b7-81a2-4f92-899e-b513b604334d\",\"type\":\"Cross\"},\"hover_glyph\":null,\"muted_glyph\":null,\"nonselection_glyph\":{\"id\":\"0f520395-4e2b-4a8b-9bbc-7ef27e909235\",\"type\":\"Cross\"},\"selection_glyph\":null,\"view\":{\"id\":\"3949f926-758e-4f09-aa39-d65c417eb9c4\",\"type\":\"CDSView\"}},\"id\":\"48d5da78-e277-4e26-8679-197edc65479b\",\"type\":\"GlyphRenderer\"},{\"attributes\":{\"label\":{\"value\":\"Natural Causes/Illness\"},\"renderers\":[{\"id\":\"70849d25-218c-4dbc-ab71-23f64aec5917\",\"type\":\"GlyphRenderer\"},{\"id\":\"4e14f296-9553-4d8d-8b7b-0da826a66b22\",\"type\":\"GlyphRenderer\"}]},\"id\":\"1eb6924d-4614-4c8e-826b-30be8c892bae\",\"type\":\"LegendItem\"},{\"attributes\":{},\"id\":\"05fb4b62-4c45-4bfe-9f0b-a26a8432c582\",\"type\":\"HelpTool\"},{\"attributes\":{\"label\":{\"value\":\"Homicide by Other\"},\"renderers\":[{\"id\":\"c4b6269a-72c9-4b30-ae0a-b552871b4a5e\",\"type\":\"GlyphRenderer\"}]},\"id\":\"15e7ffd0-84da-41d8-be88-3642497d1ceb\",\"type\":\"LegendItem\"},{\"attributes\":{},\"id\":\"6d28a776-19de-4eec-ae5c-375937438347\",\"type\":\"ResetTool\"},{\"attributes\":{\"label\":{\"value\":\"Accidental injury to self\"},\"renderers\":[{\"id\":\"2fd07bfd-2b58-4b7c-a689-9185de1c8e53\",\"type\":\"GlyphRenderer\"},{\"id\":\"f7e6fe3f-7687-4dd1-8511-85a0aa3ffc43\",\"type\":\"GlyphRenderer\"}]},\"id\":\"19356760-a6c6-4071-8054-026187e211f9\",\"type\":\"LegendItem\"},{\"attributes\":{\"callback\":null,\"column_names\":[\"x\",\"y\"],\"data\":{\"x\":[2005,2006,2007,2008,2009,2010,2011,2012,2013,2014,2015,2016],\"y\":{\"__ndarray__\":\"DAAAAAoAAAAOAAAADwAAAAoAAAAOAAAAFQAAABEAAAANAAAADgAAAAcAAAAIAAAA\",\"dtype\":\"int32\",\"shape\":[12]}}},\"id\":\"ea4e24d0-7824-439b-8ce3-128058f8460e\",\"type\":\"ColumnDataSource\"},{\"attributes\":{\"label\":{\"value\":\"Accidental injury caused by others\"},\"renderers\":[{\"id\":\"00ef108e-ca92-4a85-9be5-5d947bb91b97\",\"type\":\"GlyphRenderer\"}]},\"id\":\"c65f5017-dc1e-4f66-899d-815c6e24379a\",\"type\":\"LegendItem\"}],\"root_ids\":[\"9fd7a04b-1006-40da-a710-7f0097aeff3c\"]},\"title\":\"Bokeh Application\",\"version\":\"0.12.13\"}};\n",
       "  var render_items = [{\"docid\":\"b30a4a37-908a-442b-b373-84d435b6fafb\",\"elementid\":\"cb0c3486-be00-4e61-9a8f-a6c9a677ecd0\",\"modelid\":\"9fd7a04b-1006-40da-a710-7f0097aeff3c\"}];\n",
       "  root.Bokeh.embed.embed_items_notebook(docs_json, render_items);\n",
       "\n",
       "  }\n",
       "  if (root.Bokeh !== undefined) {\n",
       "    embed_document(root);\n",
       "  } else {\n",
       "    var attempts = 0;\n",
       "    var timer = setInterval(function(root) {\n",
       "      if (root.Bokeh !== undefined) {\n",
       "        embed_document(root);\n",
       "        clearInterval(timer);\n",
       "      }\n",
       "      attempts++;\n",
       "      if (attempts > 100) {\n",
       "        console.log(\"Bokeh: ERROR: Unable to run BokehJS code because BokehJS library is missing\")\n",
       "        clearInterval(timer);\n",
       "      }\n",
       "    }, 10, root)\n",
       "  }\n",
       "})(window);"
      ],
      "application/vnd.bokehjs_exec.v0+json": ""
     },
     "metadata": {
      "application/vnd.bokehjs_exec.v0+json": {
       "id": "9fd7a04b-1006-40da-a710-7f0097aeff3c"
      }
     },
     "output_type": "display_data"
    }
   ],
   "source": [
    "#line graph showing number of death in each year for each type of Manner of Death\n",
    "\n",
    "x= list(line.index)\n",
    "\n",
    "l = figure(title=\"Manner of Death by year\", y_range=(0, 500), y_axis_label='Number of Deaths',x_axis_label='Year', plot_width=1000)\n",
    "\n",
    "r0= l.line(x, line['Accidental injury caused by others'], line_color=\"tomato\", line_dash=\"dotdash\")\n",
    "\n",
    "r1= l.line(x, line['Accidental injury to self'])\n",
    "r2= l.circle(x, line['Accidental injury to self'])\n",
    "\n",
    "r3= l.line(x, line['Alcohol/Drug Intoxication'],line_width=2, line_color=\"olivedrab\") \n",
    "\n",
    "r4= l.line(x, line['Homicide by Law Enforcement/Correctional Staff'], line_dash=\"dotted\", line_color=\"gold\") \n",
    "\n",
    "r5= l.line(x, line['Homicide by Other'], line_dash=\"dashed\", line_width=2, line_color=\"indigo\") \n",
    "\n",
    "r6 = l.line(x, line['Natural Causes/Illness'], line_color=\"coral\") \n",
    "r7 = l.square(x, line['Natural Causes/Illness'], fill_color=None, line_color=\"coral\")\n",
    "\n",
    "r8 = l.line(x, line['Other'], line_color=\"green\") \n",
    "r9 = l.triangle(x, line['Other'], line_color= \"green\")\n",
    "\n",
    "r10 = l.line(x, line['Suicide'], line_color=\"orange\") \n",
    "r11 = l.cross(x, line['Suicide'], line_color = \"orange\")\n",
    "\n",
    "legend = Legend(items=[\n",
    "    (\"Accidental injury caused by others\", [r0]), \n",
    "    (\"Accidental injury to self\", [r1, r2]), \n",
    "    (\"Alcohol/Drug Intoxication\", [r3]), \n",
    "    (\"Homicide by Law Enforcement/Correctional Staff\", [r4]), \n",
    "    (\"Homicide by Other\", [r5]),(\"Natural Causes/Illness\", [r6, r7]), \n",
    "    (\"Other\", [r8, r9]),\n",
    "    (\"Suicide\", [r10, r11]),\n",
    "], location=(0, -30))\n",
    "\n",
    "l.add_layout(legend, 'right')\n",
    "\n",
    "show(l)"
   ]
  },
  {
   "cell_type": "code",
   "execution_count": null,
   "metadata": {},
   "outputs": [],
   "source": []
  },
  {
   "cell_type": "code",
   "execution_count": null,
   "metadata": {},
   "outputs": [],
   "source": []
  },
  {
   "cell_type": "code",
   "execution_count": 23,
   "metadata": {},
   "outputs": [],
   "source": [
    "#create df of Officer Involved Shootings (in Texas), broken down by Department and Race of Subject\n",
    "race = shoot.groupby('Department')['SubjectRace'].value_counts().unstack('Department')"
   ]
  },
  {
   "cell_type": "code",
   "execution_count": 24,
   "metadata": {},
   "outputs": [
    {
     "data": {
      "text/html": [
       "<div>\n",
       "<style scoped>\n",
       "    .dataframe tbody tr th:only-of-type {\n",
       "        vertical-align: middle;\n",
       "    }\n",
       "\n",
       "    .dataframe tbody tr th {\n",
       "        vertical-align: top;\n",
       "    }\n",
       "\n",
       "    .dataframe thead th {\n",
       "        text-align: right;\n",
       "    }\n",
       "</style>\n",
       "<table border=\"1\" class=\"dataframe\">\n",
       "  <thead>\n",
       "    <tr style=\"text-align: right;\">\n",
       "      <th>Department</th>\n",
       "      <th>Austin PD</th>\n",
       "      <th>Dallas Police Department</th>\n",
       "      <th>El Paso PD</th>\n",
       "      <th>El Paso Police Department</th>\n",
       "      <th>Fort Worth PD</th>\n",
       "      <th>Houston Police Department</th>\n",
       "      <th>San Antonio PD</th>\n",
       "      <th>San Antonio Police Department</th>\n",
       "      <th>San Antonio Police Dept</th>\n",
       "    </tr>\n",
       "    <tr>\n",
       "      <th>SubjectRace</th>\n",
       "      <th></th>\n",
       "      <th></th>\n",
       "      <th></th>\n",
       "      <th></th>\n",
       "      <th></th>\n",
       "      <th></th>\n",
       "      <th></th>\n",
       "      <th></th>\n",
       "      <th></th>\n",
       "    </tr>\n",
       "  </thead>\n",
       "  <tbody>\n",
       "    <tr>\n",
       "      <th>Asian</th>\n",
       "      <td>1.0</td>\n",
       "      <td>1.0</td>\n",
       "      <td>NaN</td>\n",
       "      <td>NaN</td>\n",
       "      <td>NaN</td>\n",
       "      <td>4.0</td>\n",
       "      <td>NaN</td>\n",
       "      <td>NaN</td>\n",
       "      <td>NaN</td>\n",
       "    </tr>\n",
       "    <tr>\n",
       "      <th>Black</th>\n",
       "      <td>11.0</td>\n",
       "      <td>58.0</td>\n",
       "      <td>NaN</td>\n",
       "      <td>1.0</td>\n",
       "      <td>15.0</td>\n",
       "      <td>163.0</td>\n",
       "      <td>14.0</td>\n",
       "      <td>1.0</td>\n",
       "      <td>1.0</td>\n",
       "    </tr>\n",
       "    <tr>\n",
       "      <th>Latino</th>\n",
       "      <td>8.0</td>\n",
       "      <td>38.0</td>\n",
       "      <td>3.0</td>\n",
       "      <td>1.0</td>\n",
       "      <td>6.0</td>\n",
       "      <td>81.0</td>\n",
       "      <td>26.0</td>\n",
       "      <td>10.0</td>\n",
       "      <td>NaN</td>\n",
       "    </tr>\n",
       "    <tr>\n",
       "      <th>Unknown</th>\n",
       "      <td>NaN</td>\n",
       "      <td>NaN</td>\n",
       "      <td>1.0</td>\n",
       "      <td>NaN</td>\n",
       "      <td>2.0</td>\n",
       "      <td>30.0</td>\n",
       "      <td>14.0</td>\n",
       "      <td>NaN</td>\n",
       "      <td>NaN</td>\n",
       "    </tr>\n",
       "    <tr>\n",
       "      <th>White</th>\n",
       "      <td>26.0</td>\n",
       "      <td>22.0</td>\n",
       "      <td>14.0</td>\n",
       "      <td>1.0</td>\n",
       "      <td>23.0</td>\n",
       "      <td>34.0</td>\n",
       "      <td>24.0</td>\n",
       "      <td>NaN</td>\n",
       "      <td>2.0</td>\n",
       "    </tr>\n",
       "  </tbody>\n",
       "</table>\n",
       "</div>"
      ],
      "text/plain": [
       "Department   Austin PD  Dallas Police Department  El Paso PD  \\\n",
       "SubjectRace                                                    \n",
       "Asian              1.0                       1.0         NaN   \n",
       "Black             11.0                      58.0         NaN   \n",
       "Latino             8.0                      38.0         3.0   \n",
       "Unknown            NaN                       NaN         1.0   \n",
       "White             26.0                      22.0        14.0   \n",
       "\n",
       "Department   El Paso Police Department  Fort Worth PD  \\\n",
       "SubjectRace                                             \n",
       "Asian                              NaN            NaN   \n",
       "Black                              1.0           15.0   \n",
       "Latino                             1.0            6.0   \n",
       "Unknown                            NaN            2.0   \n",
       "White                              1.0           23.0   \n",
       "\n",
       "Department   Houston Police Department  San Antonio PD  \\\n",
       "SubjectRace                                              \n",
       "Asian                              4.0             NaN   \n",
       "Black                            163.0            14.0   \n",
       "Latino                            81.0            26.0   \n",
       "Unknown                           30.0            14.0   \n",
       "White                             34.0            24.0   \n",
       "\n",
       "Department   San Antonio Police Department  San Antonio Police Dept  \n",
       "SubjectRace                                                          \n",
       "Asian                                  NaN                      NaN  \n",
       "Black                                  1.0                      1.0  \n",
       "Latino                                10.0                      NaN  \n",
       "Unknown                                NaN                      NaN  \n",
       "White                                  NaN                      2.0  "
      ]
     },
     "execution_count": 24,
     "metadata": {},
     "output_type": "execute_result"
    }
   ],
   "source": [
    "#relabel single letter race labels with full name of race\n",
    "race.rename({'A': 'Asian', 'B':'Black', 'L':'Latino', 'U':'Unknown', 'W':'White'}, inplace=True)\n",
    "race"
   ]
  },
  {
   "cell_type": "code",
   "execution_count": 25,
   "metadata": {},
   "outputs": [
    {
     "data": {
      "image/png": "[encoded data removed]",
      "text/plain": [
       "<matplotlib.figure.Figure at 0x22222b9f470>"
      ]
     },
     "metadata": {},
     "output_type": "display_data"
    }
   ],
   "source": [
    "# Pie chart of Houston PD  Shootings by Ethnicity\n",
    "labels = race.index\n",
    "sizes = race['Houston Police Department']\n",
    " \n",
    "# Plot\n",
    "plt.pie(sizes, explode= None, labels=labels, colors=Spectral8,\n",
    "        autopct='%1.1f%%', shadow=True, startangle=140)\n",
    " \n",
    "plt.axis('equal')\n",
    "plt.suptitle('Officer Involved Shooting by Houston PD, by Ethnicity, 2010-2016')\n",
    "plt.rcParams[\"figure.figsize\"] = (20,10)\n",
    "\n",
    "plt.show()"
   ]
  },
  {
   "cell_type": "code",
   "execution_count": 26,
   "metadata": {},
   "outputs": [],
   "source": [
    "#divide \"shoot\" df based on fatality\n",
    "fatal = shoot[shoot.Fatal == 'F']\n",
    "non = shoot[shoot.Fatal == 'N']"
   ]
  },
  {
   "cell_type": "code",
   "execution_count": 27,
   "metadata": {},
   "outputs": [],
   "source": [
    "#Breakdown fatal shootings by ethnicity\n",
    "frace= fatal.SubjectRace.value_counts()\n",
    "\n",
    "#change race labels from single letter to full name\n",
    "frace.rename({'A': 'Asian', 'B':'Black', 'L':'Latino', 'U':'Unknown', 'W':'White'}, inplace=True)"
   ]
  },
  {
   "cell_type": "code",
   "execution_count": 28,
   "metadata": {},
   "outputs": [],
   "source": [
    "#breakdown non-fatal shootings by ethnicity\n",
    "nrace= non.SubjectRace.value_counts()\n",
    "\n",
    "#change race labels from single letter to full name\n",
    "nrace.rename({'A': 'Asian', 'B':'Black', 'L':'Latino', 'U':'Unknown', 'W':'White'}, inplace=True)"
   ]
  },
  {
   "cell_type": "code",
   "execution_count": 29,
   "metadata": {},
   "outputs": [
    {
     "data": {
      "text/plain": [
       "Text(0.5,1,'Non-fatal Shootings by Ethnicity')"
      ]
     },
     "execution_count": 29,
     "metadata": {},
     "output_type": "execute_result"
    },
    {
     "data": {
      "image/png": "[encoded data removed]",
      "text/plain": [
       "<matplotlib.figure.Figure at 0x22222dce908>"
      ]
     },
     "metadata": {},
     "output_type": "display_data"
    }
   ],
   "source": [
    "# pie charts showing racial breakdown of fatal vs non-fatal shootings\n",
    "f, (ax1, ax2) = plt.subplots(1, 2, sharey=True, figsize = (18,8))\n",
    "\n",
    "flabels = frace.index\n",
    "fsizes = frace\n",
    "nlabels = nrace.index\n",
    "nsizes = nrace\n",
    "\n",
    "ax1.pie(fsizes, explode= None, labels=flabels, colors=Spectral8,\n",
    "        autopct='%1.1f%%', shadow=True, startangle=140)\n",
    "#plt.axis('equal')\n",
    "ax1.set_title('Fatal Shootings by Ethnicity')\n",
    "#plt.rcParams[\"figure.figsize\"] = (20,20)\n",
    "\n",
    "ax2.pie(nsizes, explode= None, labels=nlabels, colors=Spectral8,\n",
    "        autopct='%1.1f%%', shadow=True, startangle=140)\n",
    "#plt.axis('equal')\n",
    "ax2.set_title('Non-fatal Shootings by Ethnicity')\n",
    "#plt.rcParams[\"figure.figsize\"] = (20,20)\n"
   ]
  },
  {
   "cell_type": "code",
   "execution_count": null,
   "metadata": {},
   "outputs": [],
   "source": []
  },
  {
   "cell_type": "code",
   "execution_count": 30,
   "metadata": {
    "scrolled": true
   },
   "outputs": [],
   "source": [
    "#create df of shooting broken down by whether the subjects was armed and whether fatal\n",
    "armfat = shoot.groupby('SubjectArmed')['Fatal'].value_counts().unstack()\n",
    "\n",
    "#change labels from single letter to full word\n",
    "armfat.rename({'N': 'Not Armed', 'U':'Unknown', 'Y':'Armed'}, inplace=True)\n",
    "armfat.rename(columns ={'F': 'Fatal', 'U':'Unknown', 'N':'Not Fatal'}, inplace=True)"
   ]
  },
  {
   "cell_type": "code",
   "execution_count": 31,
   "metadata": {},
   "outputs": [
    {
     "data": {
      "text/html": [
       "<div>\n",
       "<style scoped>\n",
       "    .dataframe tbody tr th:only-of-type {\n",
       "        vertical-align: middle;\n",
       "    }\n",
       "\n",
       "    .dataframe tbody tr th {\n",
       "        vertical-align: top;\n",
       "    }\n",
       "\n",
       "    .dataframe thead th {\n",
       "        text-align: right;\n",
       "    }\n",
       "</style>\n",
       "<table border=\"1\" class=\"dataframe\">\n",
       "  <thead>\n",
       "    <tr style=\"text-align: right;\">\n",
       "      <th>Fatal</th>\n",
       "      <th>Fatal</th>\n",
       "      <th>Not Fatal</th>\n",
       "      <th>Unknown</th>\n",
       "    </tr>\n",
       "    <tr>\n",
       "      <th>SubjectArmed</th>\n",
       "      <th></th>\n",
       "      <th></th>\n",
       "      <th></th>\n",
       "    </tr>\n",
       "  </thead>\n",
       "  <tbody>\n",
       "    <tr>\n",
       "      <th>Not Armed</th>\n",
       "      <td>83</td>\n",
       "      <td>218</td>\n",
       "      <td>3</td>\n",
       "    </tr>\n",
       "    <tr>\n",
       "      <th>Unknown</th>\n",
       "      <td>2</td>\n",
       "      <td>9</td>\n",
       "      <td>2</td>\n",
       "    </tr>\n",
       "    <tr>\n",
       "      <th>Armed</th>\n",
       "      <td>123</td>\n",
       "      <td>193</td>\n",
       "      <td>7</td>\n",
       "    </tr>\n",
       "  </tbody>\n",
       "</table>\n",
       "</div>"
      ],
      "text/plain": [
       "Fatal         Fatal  Not Fatal  Unknown\n",
       "SubjectArmed                           \n",
       "Not Armed        83        218        3\n",
       "Unknown           2          9        2\n",
       "Armed           123        193        7"
      ]
     },
     "execution_count": 31,
     "metadata": {},
     "output_type": "execute_result"
    }
   ],
   "source": [
    "armfat"
   ]
  },
  {
   "cell_type": "code",
   "execution_count": 32,
   "metadata": {},
   "outputs": [
    {
     "data": {
      "text/html": [
       "\n",
       "<div class=\"bk-root\">\n",
       "    <div class=\"bk-plotdiv\" id=\"89ad6bd6-f519-4136-b4ab-c4a0fb20ba2c\"></div>\n",
       "</div>"
      ]
     },
     "metadata": {},
     "output_type": "display_data"
    },
    {
     "data": {
      "application/javascript": [
       "(function(root) {\n",
       "  function embed_document(root) {\n",
       "    \n",
       "  var docs_json = {\"3bf7cd9b-9a60-4d01-8be1-578c6d0acff7\":{\"roots\":{\"references\":[{\"attributes\":{\"fields\":[\"Fatal\"]},\"id\":\"4161e910-e3e0-40c5-89ce-0d18811a8570\",\"type\":\"Stack\"},{\"attributes\":{\"active_drag\":\"auto\",\"active_inspect\":\"auto\",\"active_scroll\":\"auto\",\"active_tap\":\"auto\"},\"id\":\"bfb86e74-b930-491d-bc5a-bbdef9a0702a\",\"type\":\"Toolbar\"},{\"attributes\":{\"items\":[{\"id\":\"e154d733-92c1-4b5e-a271-c98799e964a6\",\"type\":\"LegendItem\"},{\"id\":\"e2ca1668-c9f1-412e-8b8a-f86d7461e9e2\",\"type\":\"LegendItem\"},{\"id\":\"f272f6af-9ee1-4516-802c-7723aa1d3922\",\"type\":\"LegendItem\"}],\"plot\":{\"id\":\"9014afa2-9de3-4026-b423-44ee8c848fce\",\"subtype\":\"Figure\",\"type\":\"Plot\"}},\"id\":\"478f1ff3-143a-41e2-a966-69976532f075\",\"type\":\"Legend\"},{\"attributes\":{\"callback\":null,\"column_names\":[\"Subject Armed\",\"Fatal\",\"Not Fatal\",\"Unknown\"],\"data\":{\"Fatal\":[83,2,123],\"Not Fatal\":[218,9,193],\"Subject Armed\":[\"Not Armed\",\"Unknown\",\"Armed\"],\"Unknown\":[3,2,7]}},\"id\":\"6de96ff1-b212-4589-bc14-d2f54cb3d7dd\",\"type\":\"ColumnDataSource\"},{\"attributes\":{\"fields\":[\"Fatal\",\"Not Fatal\"]},\"id\":\"d6f211ae-2ed6-44e5-8c8e-df0696cb93ac\",\"type\":\"Stack\"},{\"attributes\":{\"fill_color\":{\"value\":\"#ffffbf\"},\"height\":{\"value\":0.5},\"left\":{\"expr\":{\"id\":\"4161e910-e3e0-40c5-89ce-0d18811a8570\",\"type\":\"Stack\"}},\"line_color\":{\"value\":\"#ffffbf\"},\"right\":{\"expr\":{\"id\":\"1c1ca83a-9893-4339-8f6e-198e5916420a\",\"type\":\"Stack\"}},\"y\":{\"field\":\"Subject Armed\"}},\"id\":\"9cb2c2c2-aa12-44f8-a601-42d5d015ed81\",\"type\":\"HBar\"},{\"attributes\":{},\"id\":\"2df0cfa7-8f45-408f-bbd0-a46476573724\",\"type\":\"BasicTickFormatter\"},{\"attributes\":{\"label\":{\"value\":\"Unknown\"},\"renderers\":[{\"id\":\"12a8a090-7ef2-4d21-af8b-9b7cb13a6ed1\",\"type\":\"GlyphRenderer\"}]},\"id\":\"f272f6af-9ee1-4516-802c-7723aa1d3922\",\"type\":\"LegendItem\"},{\"attributes\":{\"fill_color\":{\"value\":\"#fc8d59\"},\"height\":{\"value\":0.5},\"left\":{\"expr\":{\"id\":\"d6f211ae-2ed6-44e5-8c8e-df0696cb93ac\",\"type\":\"Stack\"}},\"line_color\":{\"value\":\"#fc8d59\"},\"right\":{\"expr\":{\"id\":\"ba0e7e63-5a6c-4562-b1a5-1f3e63d0a537\",\"type\":\"Stack\"}},\"y\":{\"field\":\"Subject Armed\"}},\"id\":\"d952cc01-8c8a-4fd2-914e-f702bea3ce9e\",\"type\":\"HBar\"},{\"attributes\":{\"source\":{\"id\":\"6de96ff1-b212-4589-bc14-d2f54cb3d7dd\",\"type\":\"ColumnDataSource\"}},\"id\":\"b8baad82-6b29-439e-a9ce-1b9849d080f3\",\"type\":\"CDSView\"},{\"attributes\":{\"data_source\":{\"id\":\"6de96ff1-b212-4589-bc14-d2f54cb3d7dd\",\"type\":\"ColumnDataSource\"},\"glyph\":{\"id\":\"943cf2e1-8884-4084-af5a-c635ad182c73\",\"type\":\"HBar\"},\"hover_glyph\":null,\"muted_glyph\":null,\"nonselection_glyph\":{\"id\":\"85bbab5a-6c3a-4576-a9a5-0ebf6447bec7\",\"type\":\"HBar\"},\"selection_glyph\":null,\"view\":{\"id\":\"0b99b1b5-5b99-4085-ae94-047ead637423\",\"type\":\"CDSView\"}},\"id\":\"5092f3e1-ba92-4c66-b86e-dec2fe98b489\",\"type\":\"GlyphRenderer\"},{\"attributes\":{\"callback\":null,\"end\":500,\"start\":0},\"id\":\"e0acb3a9-9026-4333-be9a-ec9a53784161\",\"type\":\"DataRange1d\"},{\"attributes\":{\"below\":[{\"id\":\"ef5fdcd2-658d-43bf-944e-3fee29187ff5\",\"type\":\"LinearAxis\"}],\"left\":[{\"id\":\"f6374527-0c46-40e3-b62a-e4bfe8e01c14\",\"type\":\"CategoricalAxis\"}],\"outline_line_color\":{\"value\":null},\"plot_height\":300,\"plot_width\":900,\"renderers\":[{\"id\":\"ef5fdcd2-658d-43bf-944e-3fee29187ff5\",\"type\":\"LinearAxis\"},{\"id\":\"c7629e8a-ad9b-49ff-866f-bf894bdcb58a\",\"type\":\"Grid\"},{\"id\":\"f6374527-0c46-40e3-b62a-e4bfe8e01c14\",\"type\":\"CategoricalAxis\"},{\"id\":\"cef4c25b-79d8-48ad-be9b-78cb52b509eb\",\"type\":\"Grid\"},{\"id\":\"478f1ff3-143a-41e2-a966-69976532f075\",\"type\":\"Legend\"},{\"id\":\"5092f3e1-ba92-4c66-b86e-dec2fe98b489\",\"type\":\"GlyphRenderer\"},{\"id\":\"b50bd073-0f0f-425a-9261-05f39983d675\",\"type\":\"GlyphRenderer\"},{\"id\":\"12a8a090-7ef2-4d21-af8b-9b7cb13a6ed1\",\"type\":\"GlyphRenderer\"}],\"title\":{\"id\":\"262a9988-87a2-436a-9d5f-f26a07fbd291\",\"type\":\"Title\"},\"toolbar\":{\"id\":\"bfb86e74-b930-491d-bc5a-bbdef9a0702a\",\"type\":\"Toolbar\"},\"toolbar_location\":null,\"x_range\":{\"id\":\"e0acb3a9-9026-4333-be9a-ec9a53784161\",\"type\":\"DataRange1d\"},\"x_scale\":{\"id\":\"038701f5-2aab-46ff-92f3-3cc495264449\",\"type\":\"LinearScale\"},\"y_range\":{\"id\":\"dd7c520a-2020-4421-af10-c209e1b8f4bd\",\"type\":\"FactorRange\"},\"y_scale\":{\"id\":\"186df312-3629-41b0-a9b7-500429512920\",\"type\":\"CategoricalScale\"}},\"id\":\"9014afa2-9de3-4026-b423-44ee8c848fce\",\"subtype\":\"Figure\",\"type\":\"Plot\"},{\"attributes\":{},\"id\":\"038701f5-2aab-46ff-92f3-3cc495264449\",\"type\":\"LinearScale\"},{\"attributes\":{\"source\":{\"id\":\"6de96ff1-b212-4589-bc14-d2f54cb3d7dd\",\"type\":\"ColumnDataSource\"}},\"id\":\"0b99b1b5-5b99-4085-ae94-047ead637423\",\"type\":\"CDSView\"},{\"attributes\":{\"plot\":null,\"text\":\"Officer Involved Shootings by Fatality and Armed Subject\"},\"id\":\"262a9988-87a2-436a-9d5f-f26a07fbd291\",\"type\":\"Title\"},{\"attributes\":{\"callback\":null,\"factors\":[\"Not Armed\",\"Unknown\",\"Armed\"],\"range_padding\":0.1},\"id\":\"dd7c520a-2020-4421-af10-c209e1b8f4bd\",\"type\":\"FactorRange\"},{\"attributes\":{\"data_source\":{\"id\":\"6de96ff1-b212-4589-bc14-d2f54cb3d7dd\",\"type\":\"ColumnDataSource\"},\"glyph\":{\"id\":\"d952cc01-8c8a-4fd2-914e-f702bea3ce9e\",\"type\":\"HBar\"},\"hover_glyph\":null,\"muted_glyph\":null,\"nonselection_glyph\":{\"id\":\"81ca6ee3-e90a-41c8-94c0-1baa69d4dfd1\",\"type\":\"HBar\"},\"selection_glyph\":null,\"view\":{\"id\":\"b8baad82-6b29-439e-a9ce-1b9849d080f3\",\"type\":\"CDSView\"}},\"id\":\"12a8a090-7ef2-4d21-af8b-9b7cb13a6ed1\",\"type\":\"GlyphRenderer\"},{\"attributes\":{},\"id\":\"186df312-3629-41b0-a9b7-500429512920\",\"type\":\"CategoricalScale\"},{\"attributes\":{\"grid_line_color\":{\"value\":null},\"plot\":{\"id\":\"9014afa2-9de3-4026-b423-44ee8c848fce\",\"subtype\":\"Figure\",\"type\":\"Plot\"},\"ticker\":{\"id\":\"17271cca-1ead-44a4-a4e7-218b8fac79d1\",\"type\":\"BasicTicker\"}},\"id\":\"c7629e8a-ad9b-49ff-866f-bf894bdcb58a\",\"type\":\"Grid\"},{\"attributes\":{\"fill_alpha\":{\"value\":0.1},\"fill_color\":{\"value\":\"#1f77b4\"},\"height\":{\"value\":0.5},\"left\":{\"expr\":{\"id\":\"4161e910-e3e0-40c5-89ce-0d18811a8570\",\"type\":\"Stack\"}},\"line_alpha\":{\"value\":0.1},\"line_color\":{\"value\":\"#1f77b4\"},\"right\":{\"expr\":{\"id\":\"1c1ca83a-9893-4339-8f6e-198e5916420a\",\"type\":\"Stack\"}},\"y\":{\"field\":\"Subject Armed\"}},\"id\":\"dd18fb4f-9680-4000-894b-17f01c833ff2\",\"type\":\"HBar\"},{\"attributes\":{\"axis_label\":\"Number of Incidents\",\"formatter\":{\"id\":\"2df0cfa7-8f45-408f-bbd0-a46476573724\",\"type\":\"BasicTickFormatter\"},\"minor_tick_line_color\":{\"value\":null},\"plot\":{\"id\":\"9014afa2-9de3-4026-b423-44ee8c848fce\",\"subtype\":\"Figure\",\"type\":\"Plot\"},\"ticker\":{\"id\":\"17271cca-1ead-44a4-a4e7-218b8fac79d1\",\"type\":\"BasicTicker\"}},\"id\":\"ef5fdcd2-658d-43bf-944e-3fee29187ff5\",\"type\":\"LinearAxis\"},{\"attributes\":{\"source\":{\"id\":\"6de96ff1-b212-4589-bc14-d2f54cb3d7dd\",\"type\":\"ColumnDataSource\"}},\"id\":\"07b3483f-964f-4c0c-9db8-79576fc76e37\",\"type\":\"CDSView\"},{\"attributes\":{\"fill_alpha\":{\"value\":0.1},\"fill_color\":{\"value\":\"#1f77b4\"},\"height\":{\"value\":0.5},\"left\":{\"expr\":{\"id\":\"5f168bd3-23ac-4dd5-8cd2-833d49758caf\",\"type\":\"Stack\"}},\"line_alpha\":{\"value\":0.1},\"line_color\":{\"value\":\"#1f77b4\"},\"right\":{\"expr\":{\"id\":\"2b8fe895-1308-4988-8765-c5e7a7db5801\",\"type\":\"Stack\"}},\"y\":{\"field\":\"Subject Armed\"}},\"id\":\"85bbab5a-6c3a-4576-a9a5-0ebf6447bec7\",\"type\":\"HBar\"},{\"attributes\":{\"label\":{\"value\":\"Not Fatal\"},\"renderers\":[{\"id\":\"b50bd073-0f0f-425a-9261-05f39983d675\",\"type\":\"GlyphRenderer\"}]},\"id\":\"e2ca1668-c9f1-412e-8b8a-f86d7461e9e2\",\"type\":\"LegendItem\"},{\"attributes\":{},\"id\":\"81620146-e268-4792-845c-af66fb8cd139\",\"type\":\"CategoricalTickFormatter\"},{\"attributes\":{},\"id\":\"17271cca-1ead-44a4-a4e7-218b8fac79d1\",\"type\":\"BasicTicker\"},{\"attributes\":{\"fields\":[\"Fatal\"]},\"id\":\"2b8fe895-1308-4988-8765-c5e7a7db5801\",\"type\":\"Stack\"},{\"attributes\":{\"formatter\":{\"id\":\"81620146-e268-4792-845c-af66fb8cd139\",\"type\":\"CategoricalTickFormatter\"},\"minor_tick_line_color\":{\"value\":null},\"plot\":{\"id\":\"9014afa2-9de3-4026-b423-44ee8c848fce\",\"subtype\":\"Figure\",\"type\":\"Plot\"},\"ticker\":{\"id\":\"b412615a-c340-4c7b-8c97-55250307a023\",\"type\":\"CategoricalTicker\"}},\"id\":\"f6374527-0c46-40e3-b62a-e4bfe8e01c14\",\"type\":\"CategoricalAxis\"},{\"attributes\":{},\"id\":\"b412615a-c340-4c7b-8c97-55250307a023\",\"type\":\"CategoricalTicker\"},{\"attributes\":{\"fields\":[\"Fatal\",\"Not Fatal\"]},\"id\":\"1c1ca83a-9893-4339-8f6e-198e5916420a\",\"type\":\"Stack\"},{\"attributes\":{\"fields\":[]},\"id\":\"5f168bd3-23ac-4dd5-8cd2-833d49758caf\",\"type\":\"Stack\"},{\"attributes\":{\"label\":{\"value\":\"Fatal\"},\"renderers\":[{\"id\":\"5092f3e1-ba92-4c66-b86e-dec2fe98b489\",\"type\":\"GlyphRenderer\"}]},\"id\":\"e154d733-92c1-4b5e-a271-c98799e964a6\",\"type\":\"LegendItem\"},{\"attributes\":{\"dimension\":1,\"plot\":{\"id\":\"9014afa2-9de3-4026-b423-44ee8c848fce\",\"subtype\":\"Figure\",\"type\":\"Plot\"},\"ticker\":{\"id\":\"b412615a-c340-4c7b-8c97-55250307a023\",\"type\":\"CategoricalTicker\"}},\"id\":\"cef4c25b-79d8-48ad-be9b-78cb52b509eb\",\"type\":\"Grid\"},{\"attributes\":{\"fields\":[\"Fatal\",\"Not Fatal\",\"Unknown\"]},\"id\":\"ba0e7e63-5a6c-4562-b1a5-1f3e63d0a537\",\"type\":\"Stack\"},{\"attributes\":{\"fill_alpha\":{\"value\":0.1},\"fill_color\":{\"value\":\"#1f77b4\"},\"height\":{\"value\":0.5},\"left\":{\"expr\":{\"id\":\"d6f211ae-2ed6-44e5-8c8e-df0696cb93ac\",\"type\":\"Stack\"}},\"line_alpha\":{\"value\":0.1},\"line_color\":{\"value\":\"#1f77b4\"},\"right\":{\"expr\":{\"id\":\"ba0e7e63-5a6c-4562-b1a5-1f3e63d0a537\",\"type\":\"Stack\"}},\"y\":{\"field\":\"Subject Armed\"}},\"id\":\"81ca6ee3-e90a-41c8-94c0-1baa69d4dfd1\",\"type\":\"HBar\"},{\"attributes\":{\"data_source\":{\"id\":\"6de96ff1-b212-4589-bc14-d2f54cb3d7dd\",\"type\":\"ColumnDataSource\"},\"glyph\":{\"id\":\"9cb2c2c2-aa12-44f8-a601-42d5d015ed81\",\"type\":\"HBar\"},\"hover_glyph\":null,\"muted_glyph\":null,\"nonselection_glyph\":{\"id\":\"dd18fb4f-9680-4000-894b-17f01c833ff2\",\"type\":\"HBar\"},\"selection_glyph\":null,\"view\":{\"id\":\"07b3483f-964f-4c0c-9db8-79576fc76e37\",\"type\":\"CDSView\"}},\"id\":\"b50bd073-0f0f-425a-9261-05f39983d675\",\"type\":\"GlyphRenderer\"},{\"attributes\":{\"fill_color\":{\"value\":\"#99d594\"},\"height\":{\"value\":0.5},\"left\":{\"expr\":{\"id\":\"5f168bd3-23ac-4dd5-8cd2-833d49758caf\",\"type\":\"Stack\"}},\"line_color\":{\"value\":\"#99d594\"},\"right\":{\"expr\":{\"id\":\"2b8fe895-1308-4988-8765-c5e7a7db5801\",\"type\":\"Stack\"}},\"y\":{\"field\":\"Subject Armed\"}},\"id\":\"943cf2e1-8884-4084-af5a-c635ad182c73\",\"type\":\"HBar\"}],\"root_ids\":[\"9014afa2-9de3-4026-b423-44ee8c848fce\"]},\"title\":\"Bokeh Application\",\"version\":\"0.12.13\"}};\n",
       "  var render_items = [{\"docid\":\"3bf7cd9b-9a60-4d01-8be1-578c6d0acff7\",\"elementid\":\"89ad6bd6-f519-4136-b4ab-c4a0fb20ba2c\",\"modelid\":\"9014afa2-9de3-4026-b423-44ee8c848fce\"}];\n",
       "  root.Bokeh.embed.embed_items_notebook(docs_json, render_items);\n",
       "\n",
       "  }\n",
       "  if (root.Bokeh !== undefined) {\n",
       "    embed_document(root);\n",
       "  } else {\n",
       "    var attempts = 0;\n",
       "    var timer = setInterval(function(root) {\n",
       "      if (root.Bokeh !== undefined) {\n",
       "        embed_document(root);\n",
       "        clearInterval(timer);\n",
       "      }\n",
       "      attempts++;\n",
       "      if (attempts > 100) {\n",
       "        console.log(\"Bokeh: ERROR: Unable to run BokehJS code because BokehJS library is missing\")\n",
       "        clearInterval(timer);\n",
       "      }\n",
       "    }, 10, root)\n",
       "  }\n",
       "})(window);"
      ],
      "application/vnd.bokehjs_exec.v0+json": ""
     },
     "metadata": {
      "application/vnd.bokehjs_exec.v0+json": {
       "id": "9014afa2-9de3-4026-b423-44ee8c848fce"
      }
     },
     "output_type": "display_data"
    }
   ],
   "source": [
    "#stacked horizontal bar graph showing Officer involved shootings Fatality vs Subject Armed\n",
    "fatality = armfat.columns\n",
    "data= {'Subject Armed': list(armfat.index), 'Fatal' : armfat['Fatal'].values, \n",
    "       'Not Fatal': armfat['Not Fatal'].values,  'Unknown':armfat['Unknown'].values}\n",
    "\n",
    "source = ColumnDataSource(data=data)\n",
    "\n",
    "s = figure(y_range= data['Subject Armed'], plot_height=300,plot_width=900, title=\"Officer Involved Shootings by Fatality and Armed Subject\",x_axis_label='Number of Incidents',\n",
    "           toolbar_location=None, tools=\"\")\n",
    "\n",
    "\n",
    "s.hbar_stack(fatality, y= 'Subject Armed', height=0.5, color=Spectral3, source=source,\n",
    "             legend=[value(x) for x in fatality])\n",
    "\n",
    "s.x_range.start = 0\n",
    "s.x_range.end = 500\n",
    "s.y_range.range_padding = 0.1\n",
    "s.xgrid.grid_line_color = None\n",
    "s.axis.minor_tick_line_color = None\n",
    "s.outline_line_color = None\n",
    "s.legend.location = \"top_right\"\n",
    "s.legend.orientation = \"vertical\"\n",
    "\n",
    "show(s)\n"
   ]
  },
  {
   "cell_type": "code",
   "execution_count": 33,
   "metadata": {},
   "outputs": [],
   "source": [
    "#create of shooting where Subjects were Unarmed\n",
    "unarmed = shoot[shoot.SubjectArmed == 'N']\n",
    "\n",
    "#relabel race values as full word, rather than abreviation\n",
    "racedict ={'A': 'Asian', 'B':'Black', 'L':'Latino', 'U':'Unknown', 'W':'White'} \n",
    "unarmed = unarmed.replace({\"SubjectRace\": racedict})"
   ]
  },
  {
   "cell_type": "code",
   "execution_count": 34,
   "metadata": {},
   "outputs": [],
   "source": [
    "#create of shooting where Subjects were Armed\n",
    "armed = shoot[shoot.SubjectArmed == 'Y']\n",
    "\n",
    "#relabel race values as full word, rather than abreviation\n",
    "armed = armed.replace({\"SubjectRace\": racedict})"
   ]
  },
  {
   "cell_type": "code",
   "execution_count": 35,
   "metadata": {},
   "outputs": [
    {
     "data": {
      "text/html": [
       "<div>\n",
       "<style scoped>\n",
       "    .dataframe tbody tr th:only-of-type {\n",
       "        vertical-align: middle;\n",
       "    }\n",
       "\n",
       "    .dataframe tbody tr th {\n",
       "        vertical-align: top;\n",
       "    }\n",
       "\n",
       "    .dataframe thead th {\n",
       "        text-align: right;\n",
       "    }\n",
       "</style>\n",
       "<table border=\"1\" class=\"dataframe\">\n",
       "  <thead>\n",
       "    <tr style=\"text-align: right;\">\n",
       "      <th>Fatality</th>\n",
       "      <th>Fatal</th>\n",
       "      <th>Not Fatal</th>\n",
       "      <th>Unknown</th>\n",
       "    </tr>\n",
       "    <tr>\n",
       "      <th>SubjectRace</th>\n",
       "      <th></th>\n",
       "      <th></th>\n",
       "      <th></th>\n",
       "    </tr>\n",
       "  </thead>\n",
       "  <tbody>\n",
       "    <tr>\n",
       "      <th>Black</th>\n",
       "      <td>31</td>\n",
       "      <td>88</td>\n",
       "      <td>2</td>\n",
       "    </tr>\n",
       "    <tr>\n",
       "      <th>Latino</th>\n",
       "      <td>18</td>\n",
       "      <td>61</td>\n",
       "      <td>0</td>\n",
       "    </tr>\n",
       "    <tr>\n",
       "      <th>Unknown</th>\n",
       "      <td>3</td>\n",
       "      <td>29</td>\n",
       "      <td>1</td>\n",
       "    </tr>\n",
       "    <tr>\n",
       "      <th>White</th>\n",
       "      <td>31</td>\n",
       "      <td>37</td>\n",
       "      <td>0</td>\n",
       "    </tr>\n",
       "  </tbody>\n",
       "</table>\n",
       "</div>"
      ],
      "text/plain": [
       "Fatality     Fatal  Not Fatal  Unknown\n",
       "SubjectRace                           \n",
       "Black           31         88        2\n",
       "Latino          18         61        0\n",
       "Unknown          3         29        1\n",
       "White           31         37        0"
      ]
     },
     "execution_count": 35,
     "metadata": {},
     "output_type": "execute_result"
    }
   ],
   "source": [
    "unarmed = unarmed.rename(columns={'Fatal':'Fatality'})\n",
    "\n",
    "#breakdown Unarmed shootings by Race and Fatality\n",
    "unarmrace= unarmed.groupby('SubjectRace').Fatality.value_counts().unstack().fillna(0).astype(int)\n",
    "unarmrace = unarmrace.rename(columns = {'F':'Fatal', 'N':'Not Fatal', 'U':'Unknown'})\n",
    "unarmrace"
   ]
  },
  {
   "cell_type": "code",
   "execution_count": 36,
   "metadata": {},
   "outputs": [
    {
     "data": {
      "text/html": [
       "\n",
       "<div class=\"bk-root\">\n",
       "    <div class=\"bk-plotdiv\" id=\"14ad586a-c983-4c29-846b-7f6fe198f899\"></div>\n",
       "</div>"
      ]
     },
     "metadata": {},
     "output_type": "display_data"
    },
    {
     "data": {
      "application/javascript": [
       "(function(root) {\n",
       "  function embed_document(root) {\n",
       "    \n",
       "  var docs_json = {\"66969dcb-db70-4851-bb57-a26a932fe562\":{\"roots\":{\"references\":[{\"attributes\":{\"data_source\":{\"id\":\"50a8f181-9001-431c-9bee-be2492472a5d\",\"type\":\"ColumnDataSource\"},\"glyph\":{\"id\":\"daee11b3-1d63-495a-8c13-f01b992481d3\",\"type\":\"VBar\"},\"hover_glyph\":null,\"muted_glyph\":null,\"nonselection_glyph\":{\"id\":\"c0cce7c6-9626-484b-b4cb-6797ce21b315\",\"type\":\"VBar\"},\"selection_glyph\":null,\"view\":{\"id\":\"1add4853-d578-4d63-a845-99025d8deed1\",\"type\":\"CDSView\"}},\"id\":\"c98d7f5e-a969-466a-b13e-075e9945e666\",\"type\":\"GlyphRenderer\"},{\"attributes\":{\"fields\":[]},\"id\":\"dd66da8b-ae68-447f-bf8c-fb979b848e65\",\"type\":\"Stack\"},{\"attributes\":{\"below\":[{\"id\":\"da452a49-e3cc-45ac-98b1-e7b6e073d6f8\",\"type\":\"CategoricalAxis\"}],\"left\":[{\"id\":\"ec035da4-b25b-4859-87a6-f7f7b1c8c91f\",\"type\":\"LinearAxis\"}],\"outline_line_color\":{\"value\":null},\"plot_width\":400,\"renderers\":[{\"id\":\"da452a49-e3cc-45ac-98b1-e7b6e073d6f8\",\"type\":\"CategoricalAxis\"},{\"id\":\"35e46595-4992-4681-9797-2542c811b5ca\",\"type\":\"Grid\"},{\"id\":\"ec035da4-b25b-4859-87a6-f7f7b1c8c91f\",\"type\":\"LinearAxis\"},{\"id\":\"137ffd1c-4eff-4ea4-99d2-aecc6a1d4331\",\"type\":\"Grid\"},{\"id\":\"30fb89ff-9b6d-40f9-9fbd-c43bd9b92b57\",\"type\":\"Legend\"},{\"id\":\"db25aa70-eebd-4512-8e4b-1e093d8deb1b\",\"type\":\"GlyphRenderer\"},{\"id\":\"e82f1b7e-3428-4a4c-ac8b-ce2bbca5a0da\",\"type\":\"GlyphRenderer\"},{\"id\":\"c98d7f5e-a969-466a-b13e-075e9945e666\",\"type\":\"GlyphRenderer\"}],\"title\":{\"id\":\"b61b3b35-f902-47e7-b18d-93d45e6de867\",\"type\":\"Title\"},\"toolbar\":{\"id\":\"b5a69899-62dc-4f92-bd86-b10dead4b283\",\"type\":\"Toolbar\"},\"toolbar_location\":null,\"x_range\":{\"id\":\"cf58a01a-cd3e-4527-a491-8c0186cb897e\",\"type\":\"FactorRange\"},\"x_scale\":{\"id\":\"b68333e2-42c5-433c-aa49-b350c8a5ed09\",\"type\":\"CategoricalScale\"},\"y_range\":{\"id\":\"79fc4936-e3a1-483b-a4ea-8e667962bb54\",\"type\":\"DataRange1d\"},\"y_scale\":{\"id\":\"558529bd-fcff-42e1-9781-3ca499c94f60\",\"type\":\"LinearScale\"}},\"id\":\"26f2f89d-3258-4a02-a481-4aaaf50febc1\",\"subtype\":\"Figure\",\"type\":\"Plot\"},{\"attributes\":{\"data_source\":{\"id\":\"50a8f181-9001-431c-9bee-be2492472a5d\",\"type\":\"ColumnDataSource\"},\"glyph\":{\"id\":\"4906d045-5675-4c0e-afb2-81f20d5733bf\",\"type\":\"VBar\"},\"hover_glyph\":null,\"muted_glyph\":null,\"nonselection_glyph\":{\"id\":\"fa7f0b60-40c9-48f5-8e80-d365f6341e02\",\"type\":\"VBar\"},\"selection_glyph\":null,\"view\":{\"id\":\"e789d272-085f-4e5e-a969-6073abce758a\",\"type\":\"CDSView\"}},\"id\":\"e82f1b7e-3428-4a4c-ac8b-ce2bbca5a0da\",\"type\":\"GlyphRenderer\"},{\"attributes\":{\"label\":{\"value\":\"Fatal\"},\"renderers\":[{\"id\":\"db25aa70-eebd-4512-8e4b-1e093d8deb1b\",\"type\":\"GlyphRenderer\"}]},\"id\":\"4727d229-21f6-44cd-8189-f52e81699ca0\",\"type\":\"LegendItem\"},{\"attributes\":{\"source\":{\"id\":\"50a8f181-9001-431c-9bee-be2492472a5d\",\"type\":\"ColumnDataSource\"}},\"id\":\"e789d272-085f-4e5e-a969-6073abce758a\",\"type\":\"CDSView\"},{\"attributes\":{\"callback\":null,\"column_names\":[\"Race\",\"Fatal\",\"Not Fatal\",\"Unknown\"],\"data\":{\"Fatal\":{\"__ndarray__\":\"HwAAABIAAAADAAAAHwAAAA==\",\"dtype\":\"int32\",\"shape\":[4]},\"Not Fatal\":{\"__ndarray__\":\"WAAAAD0AAAAdAAAAJQAAAA==\",\"dtype\":\"int32\",\"shape\":[4]},\"Race\":[\"Black\",\"Latino\",\"Unknown\",\"White\"],\"Unknown\":{\"__ndarray__\":\"AgAAAAAAAAABAAAAAAAAAA==\",\"dtype\":\"int32\",\"shape\":[4]}}},\"id\":\"50a8f181-9001-431c-9bee-be2492472a5d\",\"type\":\"ColumnDataSource\"},{\"attributes\":{\"label\":{\"value\":\"Not Fatal\"},\"renderers\":[{\"id\":\"e82f1b7e-3428-4a4c-ac8b-ce2bbca5a0da\",\"type\":\"GlyphRenderer\"}]},\"id\":\"aeba09f2-76d3-4856-9cd4-edd839403cda\",\"type\":\"LegendItem\"},{\"attributes\":{\"label\":{\"value\":\"Unknown\"},\"renderers\":[{\"id\":\"c98d7f5e-a969-466a-b13e-075e9945e666\",\"type\":\"GlyphRenderer\"}]},\"id\":\"0d3883f8-4b91-4ddc-bd42-b0c227b711df\",\"type\":\"LegendItem\"},{\"attributes\":{\"source\":{\"id\":\"50a8f181-9001-431c-9bee-be2492472a5d\",\"type\":\"ColumnDataSource\"}},\"id\":\"1add4853-d578-4d63-a845-99025d8deed1\",\"type\":\"CDSView\"},{\"attributes\":{\"bottom\":{\"expr\":{\"id\":\"87d53d93-528f-4bc5-840c-00957b593b6e\",\"type\":\"Stack\"}},\"fill_color\":{\"value\":\"#ffffbf\"},\"line_color\":{\"value\":\"#ffffbf\"},\"top\":{\"expr\":{\"id\":\"2f3295ec-9d7b-44e7-a721-e4e3d6adce82\",\"type\":\"Stack\"}},\"width\":{\"value\":0.5},\"x\":{\"field\":\"Race\"}},\"id\":\"4906d045-5675-4c0e-afb2-81f20d5733bf\",\"type\":\"VBar\"},{\"attributes\":{\"data_source\":{\"id\":\"50a8f181-9001-431c-9bee-be2492472a5d\",\"type\":\"ColumnDataSource\"},\"glyph\":{\"id\":\"f2a125be-6ffc-4b4e-8e69-faee09c9f96c\",\"type\":\"VBar\"},\"hover_glyph\":null,\"muted_glyph\":null,\"nonselection_glyph\":{\"id\":\"07ac0755-a0d2-49f7-b2fd-1a528f8d74ab\",\"type\":\"VBar\"},\"selection_glyph\":null,\"view\":{\"id\":\"3abe642b-f620-4703-9ef9-575363146226\",\"type\":\"CDSView\"}},\"id\":\"db25aa70-eebd-4512-8e4b-1e093d8deb1b\",\"type\":\"GlyphRenderer\"},{\"attributes\":{\"active_drag\":\"auto\",\"active_inspect\":\"auto\",\"active_scroll\":\"auto\",\"active_tap\":\"auto\"},\"id\":\"b5a69899-62dc-4f92-bd86-b10dead4b283\",\"type\":\"Toolbar\"},{\"attributes\":{\"callback\":null,\"factors\":[\"Black\",\"Latino\",\"Unknown\",\"White\"],\"range_padding\":0.1},\"id\":\"cf58a01a-cd3e-4527-a491-8c0186cb897e\",\"type\":\"FactorRange\"},{\"attributes\":{\"plot\":null,\"text\":\"Race and Fatality of Unarmed Subjects\"},\"id\":\"b61b3b35-f902-47e7-b18d-93d45e6de867\",\"type\":\"Title\"},{\"attributes\":{\"fields\":[\"Fatal\",\"Not Fatal\",\"Unknown\"]},\"id\":\"df622a4f-1021-4b4f-9344-3b746148c44d\",\"type\":\"Stack\"},{\"attributes\":{},\"id\":\"304d509f-88ac-4382-a9f9-576a314dfd25\",\"type\":\"CategoricalTicker\"},{\"attributes\":{\"bottom\":{\"expr\":{\"id\":\"87d53d93-528f-4bc5-840c-00957b593b6e\",\"type\":\"Stack\"}},\"fill_alpha\":{\"value\":0.1},\"fill_color\":{\"value\":\"#1f77b4\"},\"line_alpha\":{\"value\":0.1},\"line_color\":{\"value\":\"#1f77b4\"},\"top\":{\"expr\":{\"id\":\"2f3295ec-9d7b-44e7-a721-e4e3d6adce82\",\"type\":\"Stack\"}},\"width\":{\"value\":0.5},\"x\":{\"field\":\"Race\"}},\"id\":\"fa7f0b60-40c9-48f5-8e80-d365f6341e02\",\"type\":\"VBar\"},{\"attributes\":{\"bottom\":{\"expr\":{\"id\":\"dd66da8b-ae68-447f-bf8c-fb979b848e65\",\"type\":\"Stack\"}},\"fill_alpha\":{\"value\":0.1},\"fill_color\":{\"value\":\"#1f77b4\"},\"line_alpha\":{\"value\":0.1},\"line_color\":{\"value\":\"#1f77b4\"},\"top\":{\"expr\":{\"id\":\"2fd15096-cc06-4ec2-aaf9-bf39772afd0a\",\"type\":\"Stack\"}},\"width\":{\"value\":0.5},\"x\":{\"field\":\"Race\"}},\"id\":\"07ac0755-a0d2-49f7-b2fd-1a528f8d74ab\",\"type\":\"VBar\"},{\"attributes\":{},\"id\":\"b68333e2-42c5-433c-aa49-b350c8a5ed09\",\"type\":\"CategoricalScale\"},{\"attributes\":{\"bottom\":{\"expr\":{\"id\":\"dd66da8b-ae68-447f-bf8c-fb979b848e65\",\"type\":\"Stack\"}},\"fill_color\":{\"value\":\"#99d594\"},\"line_color\":{\"value\":\"#99d594\"},\"top\":{\"expr\":{\"id\":\"2fd15096-cc06-4ec2-aaf9-bf39772afd0a\",\"type\":\"Stack\"}},\"width\":{\"value\":0.5},\"x\":{\"field\":\"Race\"}},\"id\":\"f2a125be-6ffc-4b4e-8e69-faee09c9f96c\",\"type\":\"VBar\"},{\"attributes\":{\"axis_label\":\"Number of Incidents\",\"formatter\":{\"id\":\"77319788-5002-4b73-8e58-0ff6bfa410eb\",\"type\":\"BasicTickFormatter\"},\"minor_tick_line_color\":{\"value\":null},\"plot\":{\"id\":\"26f2f89d-3258-4a02-a481-4aaaf50febc1\",\"subtype\":\"Figure\",\"type\":\"Plot\"},\"ticker\":{\"id\":\"3da7d059-bbd6-4ad6-aad8-85fe9e9222f1\",\"type\":\"BasicTicker\"}},\"id\":\"ec035da4-b25b-4859-87a6-f7f7b1c8c91f\",\"type\":\"LinearAxis\"},{\"attributes\":{},\"id\":\"50754606-91f1-4343-a36d-07ab933745a3\",\"type\":\"CategoricalTickFormatter\"},{\"attributes\":{\"formatter\":{\"id\":\"50754606-91f1-4343-a36d-07ab933745a3\",\"type\":\"CategoricalTickFormatter\"},\"minor_tick_line_color\":{\"value\":null},\"plot\":{\"id\":\"26f2f89d-3258-4a02-a481-4aaaf50febc1\",\"subtype\":\"Figure\",\"type\":\"Plot\"},\"ticker\":{\"id\":\"304d509f-88ac-4382-a9f9-576a314dfd25\",\"type\":\"CategoricalTicker\"}},\"id\":\"da452a49-e3cc-45ac-98b1-e7b6e073d6f8\",\"type\":\"CategoricalAxis\"},{\"attributes\":{},\"id\":\"3da7d059-bbd6-4ad6-aad8-85fe9e9222f1\",\"type\":\"BasicTicker\"},{\"attributes\":{\"grid_line_color\":{\"value\":null},\"plot\":{\"id\":\"26f2f89d-3258-4a02-a481-4aaaf50febc1\",\"subtype\":\"Figure\",\"type\":\"Plot\"},\"ticker\":{\"id\":\"304d509f-88ac-4382-a9f9-576a314dfd25\",\"type\":\"CategoricalTicker\"}},\"id\":\"35e46595-4992-4681-9797-2542c811b5ca\",\"type\":\"Grid\"},{\"attributes\":{},\"id\":\"558529bd-fcff-42e1-9781-3ca499c94f60\",\"type\":\"LinearScale\"},{\"attributes\":{\"dimension\":1,\"plot\":{\"id\":\"26f2f89d-3258-4a02-a481-4aaaf50febc1\",\"subtype\":\"Figure\",\"type\":\"Plot\"},\"ticker\":{\"id\":\"3da7d059-bbd6-4ad6-aad8-85fe9e9222f1\",\"type\":\"BasicTicker\"}},\"id\":\"137ffd1c-4eff-4ea4-99d2-aecc6a1d4331\",\"type\":\"Grid\"},{\"attributes\":{\"source\":{\"id\":\"50a8f181-9001-431c-9bee-be2492472a5d\",\"type\":\"ColumnDataSource\"}},\"id\":\"3abe642b-f620-4703-9ef9-575363146226\",\"type\":\"CDSView\"},{\"attributes\":{\"bottom\":{\"expr\":{\"id\":\"7de109c3-8e9e-4215-83a1-0c03f108037f\",\"type\":\"Stack\"}},\"fill_color\":{\"value\":\"#fc8d59\"},\"line_color\":{\"value\":\"#fc8d59\"},\"top\":{\"expr\":{\"id\":\"df622a4f-1021-4b4f-9344-3b746148c44d\",\"type\":\"Stack\"}},\"width\":{\"value\":0.5},\"x\":{\"field\":\"Race\"}},\"id\":\"daee11b3-1d63-495a-8c13-f01b992481d3\",\"type\":\"VBar\"},{\"attributes\":{\"fields\":[\"Fatal\",\"Not Fatal\"]},\"id\":\"7de109c3-8e9e-4215-83a1-0c03f108037f\",\"type\":\"Stack\"},{\"attributes\":{},\"id\":\"77319788-5002-4b73-8e58-0ff6bfa410eb\",\"type\":\"BasicTickFormatter\"},{\"attributes\":{\"items\":[{\"id\":\"4727d229-21f6-44cd-8189-f52e81699ca0\",\"type\":\"LegendItem\"},{\"id\":\"aeba09f2-76d3-4856-9cd4-edd839403cda\",\"type\":\"LegendItem\"},{\"id\":\"0d3883f8-4b91-4ddc-bd42-b0c227b711df\",\"type\":\"LegendItem\"}],\"plot\":{\"id\":\"26f2f89d-3258-4a02-a481-4aaaf50febc1\",\"subtype\":\"Figure\",\"type\":\"Plot\"}},\"id\":\"30fb89ff-9b6d-40f9-9fbd-c43bd9b92b57\",\"type\":\"Legend\"},{\"attributes\":{\"fields\":[\"Fatal\",\"Not Fatal\"]},\"id\":\"2f3295ec-9d7b-44e7-a721-e4e3d6adce82\",\"type\":\"Stack\"},{\"attributes\":{\"fields\":[\"Fatal\"]},\"id\":\"87d53d93-528f-4bc5-840c-00957b593b6e\",\"type\":\"Stack\"},{\"attributes\":{\"bottom\":{\"expr\":{\"id\":\"7de109c3-8e9e-4215-83a1-0c03f108037f\",\"type\":\"Stack\"}},\"fill_alpha\":{\"value\":0.1},\"fill_color\":{\"value\":\"#1f77b4\"},\"line_alpha\":{\"value\":0.1},\"line_color\":{\"value\":\"#1f77b4\"},\"top\":{\"expr\":{\"id\":\"df622a4f-1021-4b4f-9344-3b746148c44d\",\"type\":\"Stack\"}},\"width\":{\"value\":0.5},\"x\":{\"field\":\"Race\"}},\"id\":\"c0cce7c6-9626-484b-b4cb-6797ce21b315\",\"type\":\"VBar\"},{\"attributes\":{\"fields\":[\"Fatal\"]},\"id\":\"2fd15096-cc06-4ec2-aaf9-bf39772afd0a\",\"type\":\"Stack\"},{\"attributes\":{\"callback\":null,\"end\":150,\"start\":0},\"id\":\"79fc4936-e3a1-483b-a4ea-8e667962bb54\",\"type\":\"DataRange1d\"}],\"root_ids\":[\"26f2f89d-3258-4a02-a481-4aaaf50febc1\"]},\"title\":\"Bokeh Application\",\"version\":\"0.12.13\"}};\n",
       "  var render_items = [{\"docid\":\"66969dcb-db70-4851-bb57-a26a932fe562\",\"elementid\":\"14ad586a-c983-4c29-846b-7f6fe198f899\",\"modelid\":\"26f2f89d-3258-4a02-a481-4aaaf50febc1\"}];\n",
       "  root.Bokeh.embed.embed_items_notebook(docs_json, render_items);\n",
       "\n",
       "  }\n",
       "  if (root.Bokeh !== undefined) {\n",
       "    embed_document(root);\n",
       "  } else {\n",
       "    var attempts = 0;\n",
       "    var timer = setInterval(function(root) {\n",
       "      if (root.Bokeh !== undefined) {\n",
       "        embed_document(root);\n",
       "        clearInterval(timer);\n",
       "      }\n",
       "      attempts++;\n",
       "      if (attempts > 100) {\n",
       "        console.log(\"Bokeh: ERROR: Unable to run BokehJS code because BokehJS library is missing\")\n",
       "        clearInterval(timer);\n",
       "      }\n",
       "    }, 10, root)\n",
       "  }\n",
       "})(window);"
      ],
      "application/vnd.bokehjs_exec.v0+json": ""
     },
     "metadata": {
      "application/vnd.bokehjs_exec.v0+json": {
       "id": "26f2f89d-3258-4a02-a481-4aaaf50febc1"
      }
     },
     "output_type": "display_data"
    }
   ],
   "source": [
    "#stacked horizontal bar graph of Unarmed shootings brokendown by Race and Fatality\n",
    "y = unarmrace.columns\n",
    "data= {'Race': list(unarmrace.index), 'Fatal' : unarmrace['Fatal'].values, \n",
    "       'Not Fatal': unarmrace['Not Fatal'].values, 'Unknown': unarmrace['Unknown'].values}\n",
    "       \n",
    "source = ColumnDataSource(data=data)\n",
    "\n",
    "c = figure(x_range= data['Race'], plot_width=400,plot_height=600, title=\"Race and Fatality of Unarmed Subjects\", y_axis_label='Number of Incidents',\n",
    "           toolbar_location=None, tools=\"\")\n",
    "\n",
    "c.vbar_stack(y, x= 'Race', width=0.5, color=Spectral3, source=source,\n",
    "             legend=[value(x) for x in y])\n",
    "\n",
    "c.y_range.start = 0\n",
    "c.y_range.end = 150\n",
    "c.x_range.range_padding = 0.1\n",
    "c.xgrid.grid_line_color = None\n",
    "c.axis.minor_tick_line_color = None\n",
    "c.outline_line_color = None\n",
    "c.legend.location = \"top_right\"\n",
    "c.legend.orientation = \"vertical\"\n",
    "\n",
    "show(c)"
   ]
  },
  {
   "cell_type": "code",
   "execution_count": 37,
   "metadata": {
    "scrolled": true
   },
   "outputs": [
    {
     "data": {
      "text/html": [
       "<div>\n",
       "<style scoped>\n",
       "    .dataframe tbody tr th:only-of-type {\n",
       "        vertical-align: middle;\n",
       "    }\n",
       "\n",
       "    .dataframe tbody tr th {\n",
       "        vertical-align: top;\n",
       "    }\n",
       "\n",
       "    .dataframe thead th {\n",
       "        text-align: right;\n",
       "    }\n",
       "</style>\n",
       "<table border=\"1\" class=\"dataframe\">\n",
       "  <thead>\n",
       "    <tr style=\"text-align: right;\">\n",
       "      <th>Fatality</th>\n",
       "      <th>Fatal</th>\n",
       "      <th>Not Fatal</th>\n",
       "      <th>Unknown</th>\n",
       "    </tr>\n",
       "    <tr>\n",
       "      <th>SubjectRace</th>\n",
       "      <th></th>\n",
       "      <th></th>\n",
       "      <th></th>\n",
       "    </tr>\n",
       "  </thead>\n",
       "  <tbody>\n",
       "    <tr>\n",
       "      <th>Asian</th>\n",
       "      <td>1</td>\n",
       "      <td>5</td>\n",
       "      <td>0</td>\n",
       "    </tr>\n",
       "    <tr>\n",
       "      <th>Black</th>\n",
       "      <td>41</td>\n",
       "      <td>92</td>\n",
       "      <td>5</td>\n",
       "    </tr>\n",
       "    <tr>\n",
       "      <th>Latino</th>\n",
       "      <td>33</td>\n",
       "      <td>54</td>\n",
       "      <td>1</td>\n",
       "    </tr>\n",
       "    <tr>\n",
       "      <th>Unknown</th>\n",
       "      <td>3</td>\n",
       "      <td>9</td>\n",
       "      <td>1</td>\n",
       "    </tr>\n",
       "    <tr>\n",
       "      <th>White</th>\n",
       "      <td>45</td>\n",
       "      <td>32</td>\n",
       "      <td>0</td>\n",
       "    </tr>\n",
       "  </tbody>\n",
       "</table>\n",
       "</div>"
      ],
      "text/plain": [
       "Fatality     Fatal  Not Fatal  Unknown\n",
       "SubjectRace                           \n",
       "Asian            1          5        0\n",
       "Black           41         92        5\n",
       "Latino          33         54        1\n",
       "Unknown          3          9        1\n",
       "White           45         32        0"
      ]
     },
     "execution_count": 37,
     "metadata": {},
     "output_type": "execute_result"
    }
   ],
   "source": [
    "armed = armed.rename(columns={'Fatal':'Fatality'})\n",
    "\n",
    "#create df of Armed shooting subjects, brokendown by Race and Fatality\n",
    "racefatal= armed.groupby('SubjectRace').Fatality.value_counts().unstack().fillna(0).astype(int)\n",
    "racefatal = racefatal.rename(columns = {'F':'Fatal', 'N':'Not Fatal', 'U':'Unknown'})\n",
    "racefatal"
   ]
  },
  {
   "cell_type": "code",
   "execution_count": 38,
   "metadata": {},
   "outputs": [
    {
     "data": {
      "text/html": [
       "\n",
       "<div class=\"bk-root\">\n",
       "    <div class=\"bk-plotdiv\" id=\"cf961bac-1b12-40a6-a9de-da66dc838651\"></div>\n",
       "</div>"
      ]
     },
     "metadata": {},
     "output_type": "display_data"
    },
    {
     "data": {
      "application/javascript": [
       "(function(root) {\n",
       "  function embed_document(root) {\n",
       "    \n",
       "  var docs_json = {\"bf996f8f-4526-4cf1-80ba-1461dbd15039\":{\"roots\":{\"references\":[{\"attributes\":{\"callback\":null,\"factors\":[\"Asian\",\"Black\",\"Latino\",\"Unknown\",\"White\"],\"range_padding\":0.1},\"id\":\"165ec858-150e-48d9-8c19-2e3d8926b329\",\"type\":\"FactorRange\"},{\"attributes\":{\"bottom\":{\"expr\":{\"id\":\"231b7d49-a4d2-4227-9420-8487c9fff362\",\"type\":\"Stack\"}},\"fill_alpha\":{\"value\":0.1},\"fill_color\":{\"value\":\"#1f77b4\"},\"line_alpha\":{\"value\":0.1},\"line_color\":{\"value\":\"#1f77b4\"},\"top\":{\"expr\":{\"id\":\"cdbf75f3-510d-4cb9-8276-5b2ac506de7e\",\"type\":\"Stack\"}},\"width\":{\"value\":0.5},\"x\":{\"field\":\"Race\"}},\"id\":\"66bdd620-daa4-413b-895f-67e339d4cff4\",\"type\":\"VBar\"},{\"attributes\":{\"plot\":null,\"text\":\"Race and Fatality of Armed Subjects\"},\"id\":\"a3735156-fe58-4e4f-8d40-2abe4ecf54fa\",\"type\":\"Title\"},{\"attributes\":{},\"id\":\"19eee2af-3b7f-4127-9a51-e6a2b3ab4308\",\"type\":\"CategoricalTicker\"},{\"attributes\":{\"axis_label\":\"Number of Incidents\",\"formatter\":{\"id\":\"dbaaaf03-9f23-457e-b976-f24b805c0ffe\",\"type\":\"BasicTickFormatter\"},\"minor_tick_line_color\":{\"value\":null},\"plot\":{\"id\":\"0cb40341-2bed-4bdc-ba82-fa393acf8a7d\",\"subtype\":\"Figure\",\"type\":\"Plot\"},\"ticker\":{\"id\":\"b19fc5c7-52a5-4d99-9f25-fed1f29668cc\",\"type\":\"BasicTicker\"}},\"id\":\"e76e9457-d9ee-40e0-824f-5ecfe4e57329\",\"type\":\"LinearAxis\"},{\"attributes\":{\"active_drag\":\"auto\",\"active_inspect\":\"auto\",\"active_scroll\":\"auto\",\"active_tap\":\"auto\"},\"id\":\"128171f4-7197-4a70-8cd6-b1d3edd675e6\",\"type\":\"Toolbar\"},{\"attributes\":{\"callback\":null,\"end\":150,\"start\":0},\"id\":\"e20d612f-021a-41f7-aac1-663e60d4c912\",\"type\":\"DataRange1d\"},{\"attributes\":{},\"id\":\"446877c1-666c-4eaa-aa3f-4f433b4e8076\",\"type\":\"CategoricalScale\"},{\"attributes\":{\"bottom\":{\"expr\":{\"id\":\"b5856988-4b00-4531-991f-710f81fc166d\",\"type\":\"Stack\"}},\"fill_color\":{\"value\":\"#99d594\"},\"line_color\":{\"value\":\"#99d594\"},\"top\":{\"expr\":{\"id\":\"7d53bd05-5b83-47c0-b8ac-61f146bae0b6\",\"type\":\"Stack\"}},\"width\":{\"value\":0.5},\"x\":{\"field\":\"Race\"}},\"id\":\"84208e61-e1b7-4832-a3d0-032f5cd92eaa\",\"type\":\"VBar\"},{\"attributes\":{\"bottom\":{\"expr\":{\"id\":\"b5856988-4b00-4531-991f-710f81fc166d\",\"type\":\"Stack\"}},\"fill_alpha\":{\"value\":0.1},\"fill_color\":{\"value\":\"#1f77b4\"},\"line_alpha\":{\"value\":0.1},\"line_color\":{\"value\":\"#1f77b4\"},\"top\":{\"expr\":{\"id\":\"7d53bd05-5b83-47c0-b8ac-61f146bae0b6\",\"type\":\"Stack\"}},\"width\":{\"value\":0.5},\"x\":{\"field\":\"Race\"}},\"id\":\"5418a317-3f35-4ef7-b4b9-50311626259c\",\"type\":\"VBar\"},{\"attributes\":{\"dimension\":1,\"plot\":{\"id\":\"0cb40341-2bed-4bdc-ba82-fa393acf8a7d\",\"subtype\":\"Figure\",\"type\":\"Plot\"},\"ticker\":{\"id\":\"b19fc5c7-52a5-4d99-9f25-fed1f29668cc\",\"type\":\"BasicTicker\"}},\"id\":\"70b92cb8-869d-4462-883c-1bae31f815bd\",\"type\":\"Grid\"},{\"attributes\":{\"data_source\":{\"id\":\"f67f174c-0ce0-4288-a17e-0a6cfd6c1c18\",\"type\":\"ColumnDataSource\"},\"glyph\":{\"id\":\"9cc52071-6286-4fdf-b915-e005bc4c9fd0\",\"type\":\"VBar\"},\"hover_glyph\":null,\"muted_glyph\":null,\"nonselection_glyph\":{\"id\":\"abc02975-e369-4665-beaf-4e875add0b63\",\"type\":\"VBar\"},\"selection_glyph\":null,\"view\":{\"id\":\"d510388e-3e92-4d28-bccb-29469fcf7db7\",\"type\":\"CDSView\"}},\"id\":\"f46ed7ef-a3ab-4498-ba7f-93eb744d770d\",\"type\":\"GlyphRenderer\"},{\"attributes\":{\"fields\":[\"Fatal\",\"Not Fatal\",\"Unknown\"]},\"id\":\"cdbf75f3-510d-4cb9-8276-5b2ac506de7e\",\"type\":\"Stack\"},{\"attributes\":{\"formatter\":{\"id\":\"ee80e894-3720-4a20-afab-b360abbc8b67\",\"type\":\"CategoricalTickFormatter\"},\"minor_tick_line_color\":{\"value\":null},\"plot\":{\"id\":\"0cb40341-2bed-4bdc-ba82-fa393acf8a7d\",\"subtype\":\"Figure\",\"type\":\"Plot\"},\"ticker\":{\"id\":\"19eee2af-3b7f-4127-9a51-e6a2b3ab4308\",\"type\":\"CategoricalTicker\"}},\"id\":\"0d4ad47c-e2c4-4585-a46e-774266d1fd9d\",\"type\":\"CategoricalAxis\"},{\"attributes\":{\"label\":{\"value\":\"Unknown\"},\"renderers\":[{\"id\":\"4f7fb4cc-c0b8-46af-9450-d68fbdf52a56\",\"type\":\"GlyphRenderer\"}]},\"id\":\"d9caa04d-238e-4c65-899e-5ad564bb57e3\",\"type\":\"LegendItem\"},{\"attributes\":{\"fields\":[\"Fatal\",\"Not Fatal\"]},\"id\":\"231b7d49-a4d2-4227-9420-8487c9fff362\",\"type\":\"Stack\"},{\"attributes\":{},\"id\":\"6f36c687-743d-45bc-bc8d-2e7ee35b5e8c\",\"type\":\"LinearScale\"},{\"attributes\":{\"fields\":[\"Fatal\",\"Not Fatal\"]},\"id\":\"d6f3dbc4-22aa-4a48-b36d-6a0a1e98803f\",\"type\":\"Stack\"},{\"attributes\":{\"fields\":[\"Fatal\"]},\"id\":\"b96dd086-e4b7-4647-b752-2657b9816b54\",\"type\":\"Stack\"},{\"attributes\":{\"fields\":[]},\"id\":\"b5856988-4b00-4531-991f-710f81fc166d\",\"type\":\"Stack\"},{\"attributes\":{},\"id\":\"dbaaaf03-9f23-457e-b976-f24b805c0ffe\",\"type\":\"BasicTickFormatter\"},{\"attributes\":{},\"id\":\"b19fc5c7-52a5-4d99-9f25-fed1f29668cc\",\"type\":\"BasicTicker\"},{\"attributes\":{\"fields\":[\"Fatal\"]},\"id\":\"7d53bd05-5b83-47c0-b8ac-61f146bae0b6\",\"type\":\"Stack\"},{\"attributes\":{\"source\":{\"id\":\"f67f174c-0ce0-4288-a17e-0a6cfd6c1c18\",\"type\":\"ColumnDataSource\"}},\"id\":\"d510388e-3e92-4d28-bccb-29469fcf7db7\",\"type\":\"CDSView\"},{\"attributes\":{\"grid_line_color\":{\"value\":null},\"plot\":{\"id\":\"0cb40341-2bed-4bdc-ba82-fa393acf8a7d\",\"subtype\":\"Figure\",\"type\":\"Plot\"},\"ticker\":{\"id\":\"19eee2af-3b7f-4127-9a51-e6a2b3ab4308\",\"type\":\"CategoricalTicker\"}},\"id\":\"5890b846-5960-4b92-9a36-bcb2235c64e0\",\"type\":\"Grid\"},{\"attributes\":{\"below\":[{\"id\":\"0d4ad47c-e2c4-4585-a46e-774266d1fd9d\",\"type\":\"CategoricalAxis\"}],\"left\":[{\"id\":\"e76e9457-d9ee-40e0-824f-5ecfe4e57329\",\"type\":\"LinearAxis\"}],\"outline_line_color\":{\"value\":null},\"plot_width\":400,\"renderers\":[{\"id\":\"0d4ad47c-e2c4-4585-a46e-774266d1fd9d\",\"type\":\"CategoricalAxis\"},{\"id\":\"5890b846-5960-4b92-9a36-bcb2235c64e0\",\"type\":\"Grid\"},{\"id\":\"e76e9457-d9ee-40e0-824f-5ecfe4e57329\",\"type\":\"LinearAxis\"},{\"id\":\"70b92cb8-869d-4462-883c-1bae31f815bd\",\"type\":\"Grid\"},{\"id\":\"d63446a0-1bed-468d-b5af-63d7fb6aed24\",\"type\":\"Legend\"},{\"id\":\"e8ed07d0-b5de-4038-88f9-94dcf7a83202\",\"type\":\"GlyphRenderer\"},{\"id\":\"f46ed7ef-a3ab-4498-ba7f-93eb744d770d\",\"type\":\"GlyphRenderer\"},{\"id\":\"4f7fb4cc-c0b8-46af-9450-d68fbdf52a56\",\"type\":\"GlyphRenderer\"}],\"title\":{\"id\":\"a3735156-fe58-4e4f-8d40-2abe4ecf54fa\",\"type\":\"Title\"},\"toolbar\":{\"id\":\"128171f4-7197-4a70-8cd6-b1d3edd675e6\",\"type\":\"Toolbar\"},\"toolbar_location\":null,\"x_range\":{\"id\":\"165ec858-150e-48d9-8c19-2e3d8926b329\",\"type\":\"FactorRange\"},\"x_scale\":{\"id\":\"446877c1-666c-4eaa-aa3f-4f433b4e8076\",\"type\":\"CategoricalScale\"},\"y_range\":{\"id\":\"e20d612f-021a-41f7-aac1-663e60d4c912\",\"type\":\"DataRange1d\"},\"y_scale\":{\"id\":\"6f36c687-743d-45bc-bc8d-2e7ee35b5e8c\",\"type\":\"LinearScale\"}},\"id\":\"0cb40341-2bed-4bdc-ba82-fa393acf8a7d\",\"subtype\":\"Figure\",\"type\":\"Plot\"},{\"attributes\":{\"items\":[{\"id\":\"e54058ed-9281-41b8-ab61-3179de3d5615\",\"type\":\"LegendItem\"},{\"id\":\"59c122f0-f700-4bb0-a87d-d3b38a371718\",\"type\":\"LegendItem\"},{\"id\":\"d9caa04d-238e-4c65-899e-5ad564bb57e3\",\"type\":\"LegendItem\"}],\"plot\":{\"id\":\"0cb40341-2bed-4bdc-ba82-fa393acf8a7d\",\"subtype\":\"Figure\",\"type\":\"Plot\"}},\"id\":\"d63446a0-1bed-468d-b5af-63d7fb6aed24\",\"type\":\"Legend\"},{\"attributes\":{\"label\":{\"value\":\"Fatal\"},\"renderers\":[{\"id\":\"e8ed07d0-b5de-4038-88f9-94dcf7a83202\",\"type\":\"GlyphRenderer\"}]},\"id\":\"e54058ed-9281-41b8-ab61-3179de3d5615\",\"type\":\"LegendItem\"},{\"attributes\":{\"callback\":null,\"column_names\":[\"Race\",\"Fatal\",\"Not Fatal\",\"Unknown\"],\"data\":{\"Fatal\":{\"__ndarray__\":\"AQAAACkAAAAhAAAAAwAAAC0AAAA=\",\"dtype\":\"int32\",\"shape\":[5]},\"Not Fatal\":{\"__ndarray__\":\"BQAAAFwAAAA2AAAACQAAACAAAAA=\",\"dtype\":\"int32\",\"shape\":[5]},\"Race\":[\"Asian\",\"Black\",\"Latino\",\"Unknown\",\"White\"],\"Unknown\":{\"__ndarray__\":\"AAAAAAUAAAABAAAAAQAAAAAAAAA=\",\"dtype\":\"int32\",\"shape\":[5]}}},\"id\":\"f67f174c-0ce0-4288-a17e-0a6cfd6c1c18\",\"type\":\"ColumnDataSource\"},{\"attributes\":{\"label\":{\"value\":\"Not Fatal\"},\"renderers\":[{\"id\":\"f46ed7ef-a3ab-4498-ba7f-93eb744d770d\",\"type\":\"GlyphRenderer\"}]},\"id\":\"59c122f0-f700-4bb0-a87d-d3b38a371718\",\"type\":\"LegendItem\"},{\"attributes\":{\"bottom\":{\"expr\":{\"id\":\"b96dd086-e4b7-4647-b752-2657b9816b54\",\"type\":\"Stack\"}},\"fill_color\":{\"value\":\"#ffffbf\"},\"line_color\":{\"value\":\"#ffffbf\"},\"top\":{\"expr\":{\"id\":\"d6f3dbc4-22aa-4a48-b36d-6a0a1e98803f\",\"type\":\"Stack\"}},\"width\":{\"value\":0.5},\"x\":{\"field\":\"Race\"}},\"id\":\"9cc52071-6286-4fdf-b915-e005bc4c9fd0\",\"type\":\"VBar\"},{\"attributes\":{\"bottom\":{\"expr\":{\"id\":\"231b7d49-a4d2-4227-9420-8487c9fff362\",\"type\":\"Stack\"}},\"fill_color\":{\"value\":\"#fc8d59\"},\"line_color\":{\"value\":\"#fc8d59\"},\"top\":{\"expr\":{\"id\":\"cdbf75f3-510d-4cb9-8276-5b2ac506de7e\",\"type\":\"Stack\"}},\"width\":{\"value\":0.5},\"x\":{\"field\":\"Race\"}},\"id\":\"983e0d67-4071-46dc-a888-82d01d4771e1\",\"type\":\"VBar\"},{\"attributes\":{\"source\":{\"id\":\"f67f174c-0ce0-4288-a17e-0a6cfd6c1c18\",\"type\":\"ColumnDataSource\"}},\"id\":\"582faa2e-7b2f-4cd7-8f5f-1b99159fbb3a\",\"type\":\"CDSView\"},{\"attributes\":{\"bottom\":{\"expr\":{\"id\":\"b96dd086-e4b7-4647-b752-2657b9816b54\",\"type\":\"Stack\"}},\"fill_alpha\":{\"value\":0.1},\"fill_color\":{\"value\":\"#1f77b4\"},\"line_alpha\":{\"value\":0.1},\"line_color\":{\"value\":\"#1f77b4\"},\"top\":{\"expr\":{\"id\":\"d6f3dbc4-22aa-4a48-b36d-6a0a1e98803f\",\"type\":\"Stack\"}},\"width\":{\"value\":0.5},\"x\":{\"field\":\"Race\"}},\"id\":\"abc02975-e369-4665-beaf-4e875add0b63\",\"type\":\"VBar\"},{\"attributes\":{},\"id\":\"ee80e894-3720-4a20-afab-b360abbc8b67\",\"type\":\"CategoricalTickFormatter\"},{\"attributes\":{\"source\":{\"id\":\"f67f174c-0ce0-4288-a17e-0a6cfd6c1c18\",\"type\":\"ColumnDataSource\"}},\"id\":\"13b3d54f-19bc-4f4f-a415-28e39bb18099\",\"type\":\"CDSView\"},{\"attributes\":{\"data_source\":{\"id\":\"f67f174c-0ce0-4288-a17e-0a6cfd6c1c18\",\"type\":\"ColumnDataSource\"},\"glyph\":{\"id\":\"84208e61-e1b7-4832-a3d0-032f5cd92eaa\",\"type\":\"VBar\"},\"hover_glyph\":null,\"muted_glyph\":null,\"nonselection_glyph\":{\"id\":\"5418a317-3f35-4ef7-b4b9-50311626259c\",\"type\":\"VBar\"},\"selection_glyph\":null,\"view\":{\"id\":\"13b3d54f-19bc-4f4f-a415-28e39bb18099\",\"type\":\"CDSView\"}},\"id\":\"e8ed07d0-b5de-4038-88f9-94dcf7a83202\",\"type\":\"GlyphRenderer\"},{\"attributes\":{\"data_source\":{\"id\":\"f67f174c-0ce0-4288-a17e-0a6cfd6c1c18\",\"type\":\"ColumnDataSource\"},\"glyph\":{\"id\":\"983e0d67-4071-46dc-a888-82d01d4771e1\",\"type\":\"VBar\"},\"hover_glyph\":null,\"muted_glyph\":null,\"nonselection_glyph\":{\"id\":\"66bdd620-daa4-413b-895f-67e339d4cff4\",\"type\":\"VBar\"},\"selection_glyph\":null,\"view\":{\"id\":\"582faa2e-7b2f-4cd7-8f5f-1b99159fbb3a\",\"type\":\"CDSView\"}},\"id\":\"4f7fb4cc-c0b8-46af-9450-d68fbdf52a56\",\"type\":\"GlyphRenderer\"}],\"root_ids\":[\"0cb40341-2bed-4bdc-ba82-fa393acf8a7d\"]},\"title\":\"Bokeh Application\",\"version\":\"0.12.13\"}};\n",
       "  var render_items = [{\"docid\":\"bf996f8f-4526-4cf1-80ba-1461dbd15039\",\"elementid\":\"cf961bac-1b12-40a6-a9de-da66dc838651\",\"modelid\":\"0cb40341-2bed-4bdc-ba82-fa393acf8a7d\"}];\n",
       "  root.Bokeh.embed.embed_items_notebook(docs_json, render_items);\n",
       "\n",
       "  }\n",
       "  if (root.Bokeh !== undefined) {\n",
       "    embed_document(root);\n",
       "  } else {\n",
       "    var attempts = 0;\n",
       "    var timer = setInterval(function(root) {\n",
       "      if (root.Bokeh !== undefined) {\n",
       "        embed_document(root);\n",
       "        clearInterval(timer);\n",
       "      }\n",
       "      attempts++;\n",
       "      if (attempts > 100) {\n",
       "        console.log(\"Bokeh: ERROR: Unable to run BokehJS code because BokehJS library is missing\")\n",
       "        clearInterval(timer);\n",
       "      }\n",
       "    }, 10, root)\n",
       "  }\n",
       "})(window);"
      ],
      "application/vnd.bokehjs_exec.v0+json": ""
     },
     "metadata": {
      "application/vnd.bokehjs_exec.v0+json": {
       "id": "0cb40341-2bed-4bdc-ba82-fa393acf8a7d"
      }
     },
     "output_type": "display_data"
    }
   ],
   "source": [
    "#stacked horizontal bar graph of Armed shooting subjects, brokendown by Race and Fatality\n",
    "y = racefatal.columns\n",
    "data= {'Race': list(racefatal.index), 'Fatal' : racefatal['Fatal'].values, \n",
    "       'Not Fatal': racefatal['Not Fatal'].values, 'Unknown': racefatal['Unknown'].values}\n",
    "       \n",
    "source = ColumnDataSource(data=data)\n",
    "\n",
    "b = figure(x_range= data['Race'], plot_height=600,plot_width=400, title=\"Race and Fatality of Armed Subjects\", y_axis_label='Number of Incidents',\n",
    "           toolbar_location=None, tools=\"\")\n",
    "\n",
    "b.vbar_stack(y, x= 'Race', width=0.5, color=Spectral3, source=source,\n",
    "             legend=[value(x) for x in y])\n",
    "\n",
    "b.y_range.start = 0\n",
    "b.y_range.end = 150\n",
    "b.x_range.range_padding = 0.1\n",
    "b.xgrid.grid_line_color = None\n",
    "b.axis.minor_tick_line_color = None\n",
    "b.outline_line_color = None\n",
    "b.legend.location = \"top_right\"\n",
    "b.legend.orientation = \"vertical\"\n",
    "\n",
    "show(b)"
   ]
  },
  {
   "cell_type": "code",
   "execution_count": 39,
   "metadata": {},
   "outputs": [
    {
     "data": {
      "text/html": [
       "\n",
       "<div class=\"bk-root\">\n",
       "    <div class=\"bk-plotdiv\" id=\"b267aaa5-ab2d-404e-bbbc-3204dab1e6de\"></div>\n",
       "</div>"
      ]
     },
     "metadata": {},
     "output_type": "display_data"
    },
    {
     "data": {
      "application/javascript": [
       "(function(root) {\n",
       "  function embed_document(root) {\n",
       "    \n",
       "  var docs_json = {\"cc4b9c0d-42e0-4cd1-bfa3-cd61fb58e83a\":{\"roots\":{\"references\":[{\"attributes\":{},\"id\":\"51b9c74d-db97-43e9-9263-143eae5eb3eb\",\"type\":\"ProxyToolbar\"},{\"attributes\":{\"data_source\":{\"id\":\"50a8f181-9001-431c-9bee-be2492472a5d\",\"type\":\"ColumnDataSource\"},\"glyph\":{\"id\":\"daee11b3-1d63-495a-8c13-f01b992481d3\",\"type\":\"VBar\"},\"hover_glyph\":null,\"muted_glyph\":null,\"nonselection_glyph\":{\"id\":\"c0cce7c6-9626-484b-b4cb-6797ce21b315\",\"type\":\"VBar\"},\"selection_glyph\":null,\"view\":{\"id\":\"1add4853-d578-4d63-a845-99025d8deed1\",\"type\":\"CDSView\"}},\"id\":\"c98d7f5e-a969-466a-b13e-075e9945e666\",\"type\":\"GlyphRenderer\"},{\"attributes\":{\"fields\":[]},\"id\":\"dd66da8b-ae68-447f-bf8c-fb979b848e65\",\"type\":\"Stack\"},{\"attributes\":{\"bottom\":{\"expr\":{\"id\":\"231b7d49-a4d2-4227-9420-8487c9fff362\",\"type\":\"Stack\"}},\"fill_alpha\":{\"value\":0.1},\"fill_color\":{\"value\":\"#1f77b4\"},\"line_alpha\":{\"value\":0.1},\"line_color\":{\"value\":\"#1f77b4\"},\"top\":{\"expr\":{\"id\":\"cdbf75f3-510d-4cb9-8276-5b2ac506de7e\",\"type\":\"Stack\"}},\"width\":{\"value\":0.5},\"x\":{\"field\":\"Race\"}},\"id\":\"66bdd620-daa4-413b-895f-67e339d4cff4\",\"type\":\"VBar\"},{\"attributes\":{\"data_source\":{\"id\":\"f67f174c-0ce0-4288-a17e-0a6cfd6c1c18\",\"type\":\"ColumnDataSource\"},\"glyph\":{\"id\":\"84208e61-e1b7-4832-a3d0-032f5cd92eaa\",\"type\":\"VBar\"},\"hover_glyph\":null,\"muted_glyph\":null,\"nonselection_glyph\":{\"id\":\"5418a317-3f35-4ef7-b4b9-50311626259c\",\"type\":\"VBar\"},\"selection_glyph\":null,\"view\":{\"id\":\"13b3d54f-19bc-4f4f-a415-28e39bb18099\",\"type\":\"CDSView\"}},\"id\":\"e8ed07d0-b5de-4038-88f9-94dcf7a83202\",\"type\":\"GlyphRenderer\"},{\"attributes\":{\"data_source\":{\"id\":\"50a8f181-9001-431c-9bee-be2492472a5d\",\"type\":\"ColumnDataSource\"},\"glyph\":{\"id\":\"4906d045-5675-4c0e-afb2-81f20d5733bf\",\"type\":\"VBar\"},\"hover_glyph\":null,\"muted_glyph\":null,\"nonselection_glyph\":{\"id\":\"fa7f0b60-40c9-48f5-8e80-d365f6341e02\",\"type\":\"VBar\"},\"selection_glyph\":null,\"view\":{\"id\":\"e789d272-085f-4e5e-a969-6073abce758a\",\"type\":\"CDSView\"}},\"id\":\"e82f1b7e-3428-4a4c-ac8b-ce2bbca5a0da\",\"type\":\"GlyphRenderer\"},{\"attributes\":{\"source\":{\"id\":\"50a8f181-9001-431c-9bee-be2492472a5d\",\"type\":\"ColumnDataSource\"}},\"id\":\"e789d272-085f-4e5e-a969-6073abce758a\",\"type\":\"CDSView\"},{\"attributes\":{\"label\":{\"value\":\"Not Fatal\"},\"renderers\":[{\"id\":\"e82f1b7e-3428-4a4c-ac8b-ce2bbca5a0da\",\"type\":\"GlyphRenderer\"}]},\"id\":\"aeba09f2-76d3-4856-9cd4-edd839403cda\",\"type\":\"LegendItem\"},{\"attributes\":{\"label\":{\"value\":\"Unknown\"},\"renderers\":[{\"id\":\"c98d7f5e-a969-466a-b13e-075e9945e666\",\"type\":\"GlyphRenderer\"}]},\"id\":\"0d3883f8-4b91-4ddc-bd42-b0c227b711df\",\"type\":\"LegendItem\"},{\"attributes\":{\"source\":{\"id\":\"50a8f181-9001-431c-9bee-be2492472a5d\",\"type\":\"ColumnDataSource\"}},\"id\":\"1add4853-d578-4d63-a845-99025d8deed1\",\"type\":\"CDSView\"},{\"attributes\":{\"data_source\":{\"id\":\"f67f174c-0ce0-4288-a17e-0a6cfd6c1c18\",\"type\":\"ColumnDataSource\"},\"glyph\":{\"id\":\"983e0d67-4071-46dc-a888-82d01d4771e1\",\"type\":\"VBar\"},\"hover_glyph\":null,\"muted_glyph\":null,\"nonselection_glyph\":{\"id\":\"66bdd620-daa4-413b-895f-67e339d4cff4\",\"type\":\"VBar\"},\"selection_glyph\":null,\"view\":{\"id\":\"582faa2e-7b2f-4cd7-8f5f-1b99159fbb3a\",\"type\":\"CDSView\"}},\"id\":\"4f7fb4cc-c0b8-46af-9450-d68fbdf52a56\",\"type\":\"GlyphRenderer\"},{\"attributes\":{\"data_source\":{\"id\":\"f67f174c-0ce0-4288-a17e-0a6cfd6c1c18\",\"type\":\"ColumnDataSource\"},\"glyph\":{\"id\":\"9cc52071-6286-4fdf-b915-e005bc4c9fd0\",\"type\":\"VBar\"},\"hover_glyph\":null,\"muted_glyph\":null,\"nonselection_glyph\":{\"id\":\"abc02975-e369-4665-beaf-4e875add0b63\",\"type\":\"VBar\"},\"selection_glyph\":null,\"view\":{\"id\":\"d510388e-3e92-4d28-bccb-29469fcf7db7\",\"type\":\"CDSView\"}},\"id\":\"f46ed7ef-a3ab-4498-ba7f-93eb744d770d\",\"type\":\"GlyphRenderer\"},{\"attributes\":{\"data_source\":{\"id\":\"50a8f181-9001-431c-9bee-be2492472a5d\",\"type\":\"ColumnDataSource\"},\"glyph\":{\"id\":\"f2a125be-6ffc-4b4e-8e69-faee09c9f96c\",\"type\":\"VBar\"},\"hover_glyph\":null,\"muted_glyph\":null,\"nonselection_glyph\":{\"id\":\"07ac0755-a0d2-49f7-b2fd-1a528f8d74ab\",\"type\":\"VBar\"},\"selection_glyph\":null,\"view\":{\"id\":\"3abe642b-f620-4703-9ef9-575363146226\",\"type\":\"CDSView\"}},\"id\":\"db25aa70-eebd-4512-8e4b-1e093d8deb1b\",\"type\":\"GlyphRenderer\"},{\"attributes\":{\"label\":{\"value\":\"Unknown\"},\"renderers\":[{\"id\":\"4f7fb4cc-c0b8-46af-9450-d68fbdf52a56\",\"type\":\"GlyphRenderer\"}]},\"id\":\"d9caa04d-238e-4c65-899e-5ad564bb57e3\",\"type\":\"LegendItem\"},{\"attributes\":{\"bottom\":{\"expr\":{\"id\":\"dd66da8b-ae68-447f-bf8c-fb979b848e65\",\"type\":\"Stack\"}},\"fill_alpha\":{\"value\":0.1},\"fill_color\":{\"value\":\"#1f77b4\"},\"line_alpha\":{\"value\":0.1},\"line_color\":{\"value\":\"#1f77b4\"},\"top\":{\"expr\":{\"id\":\"2fd15096-cc06-4ec2-aaf9-bf39772afd0a\",\"type\":\"Stack\"}},\"width\":{\"value\":0.5},\"x\":{\"field\":\"Race\"}},\"id\":\"07ac0755-a0d2-49f7-b2fd-1a528f8d74ab\",\"type\":\"VBar\"},{\"attributes\":{\"below\":[{\"id\":\"0d4ad47c-e2c4-4585-a46e-774266d1fd9d\",\"type\":\"CategoricalAxis\"}],\"left\":[{\"id\":\"e76e9457-d9ee-40e0-824f-5ecfe4e57329\",\"type\":\"LinearAxis\"}],\"outline_line_color\":{\"value\":null},\"plot_height\":400,\"plot_width\":300,\"renderers\":[{\"id\":\"0d4ad47c-e2c4-4585-a46e-774266d1fd9d\",\"type\":\"CategoricalAxis\"},{\"id\":\"5890b846-5960-4b92-9a36-bcb2235c64e0\",\"type\":\"Grid\"},{\"id\":\"e76e9457-d9ee-40e0-824f-5ecfe4e57329\",\"type\":\"LinearAxis\"},{\"id\":\"70b92cb8-869d-4462-883c-1bae31f815bd\",\"type\":\"Grid\"},{\"id\":\"d63446a0-1bed-468d-b5af-63d7fb6aed24\",\"type\":\"Legend\"},{\"id\":\"e8ed07d0-b5de-4038-88f9-94dcf7a83202\",\"type\":\"GlyphRenderer\"},{\"id\":\"f46ed7ef-a3ab-4498-ba7f-93eb744d770d\",\"type\":\"GlyphRenderer\"},{\"id\":\"4f7fb4cc-c0b8-46af-9450-d68fbdf52a56\",\"type\":\"GlyphRenderer\"}],\"title\":{\"id\":\"a3735156-fe58-4e4f-8d40-2abe4ecf54fa\",\"type\":\"Title\"},\"toolbar\":{\"id\":\"128171f4-7197-4a70-8cd6-b1d3edd675e6\",\"type\":\"Toolbar\"},\"toolbar_location\":null,\"x_range\":{\"id\":\"165ec858-150e-48d9-8c19-2e3d8926b329\",\"type\":\"FactorRange\"},\"x_scale\":{\"id\":\"446877c1-666c-4eaa-aa3f-4f433b4e8076\",\"type\":\"CategoricalScale\"},\"y_range\":{\"id\":\"e20d612f-021a-41f7-aac1-663e60d4c912\",\"type\":\"DataRange1d\"},\"y_scale\":{\"id\":\"6f36c687-743d-45bc-bc8d-2e7ee35b5e8c\",\"type\":\"LinearScale\"}},\"id\":\"0cb40341-2bed-4bdc-ba82-fa393acf8a7d\",\"subtype\":\"Figure\",\"type\":\"Plot\"},{\"attributes\":{\"items\":[{\"id\":\"e54058ed-9281-41b8-ab61-3179de3d5615\",\"type\":\"LegendItem\"},{\"id\":\"59c122f0-f700-4bb0-a87d-d3b38a371718\",\"type\":\"LegendItem\"},{\"id\":\"d9caa04d-238e-4c65-899e-5ad564bb57e3\",\"type\":\"LegendItem\"}],\"plot\":{\"id\":\"0cb40341-2bed-4bdc-ba82-fa393acf8a7d\",\"subtype\":\"Figure\",\"type\":\"Plot\"}},\"id\":\"d63446a0-1bed-468d-b5af-63d7fb6aed24\",\"type\":\"Legend\"},{\"attributes\":{\"callback\":null,\"column_names\":[\"Race\",\"Fatal\",\"Not Fatal\",\"Unknown\"],\"data\":{\"Fatal\":{\"__ndarray__\":\"AQAAACkAAAAhAAAAAwAAAC0AAAA=\",\"dtype\":\"int32\",\"shape\":[5]},\"Not Fatal\":{\"__ndarray__\":\"BQAAAFwAAAA2AAAACQAAACAAAAA=\",\"dtype\":\"int32\",\"shape\":[5]},\"Race\":[\"Asian\",\"Black\",\"Latino\",\"Unknown\",\"White\"],\"Unknown\":{\"__ndarray__\":\"AAAAAAUAAAABAAAAAQAAAAAAAAA=\",\"dtype\":\"int32\",\"shape\":[5]}}},\"id\":\"f67f174c-0ce0-4288-a17e-0a6cfd6c1c18\",\"type\":\"ColumnDataSource\"},{\"attributes\":{\"bottom\":{\"expr\":{\"id\":\"7de109c3-8e9e-4215-83a1-0c03f108037f\",\"type\":\"Stack\"}},\"fill_color\":{\"value\":\"#fc8d59\"},\"line_color\":{\"value\":\"#fc8d59\"},\"top\":{\"expr\":{\"id\":\"df622a4f-1021-4b4f-9344-3b746148c44d\",\"type\":\"Stack\"}},\"width\":{\"value\":0.5},\"x\":{\"field\":\"Race\"}},\"id\":\"daee11b3-1d63-495a-8c13-f01b992481d3\",\"type\":\"VBar\"},{\"attributes\":{},\"id\":\"ee80e894-3720-4a20-afab-b360abbc8b67\",\"type\":\"CategoricalTickFormatter\"},{\"attributes\":{\"children\":[{\"id\":\"0cb40341-2bed-4bdc-ba82-fa393acf8a7d\",\"subtype\":\"Figure\",\"type\":\"Plot\"},{\"id\":\"26f2f89d-3258-4a02-a481-4aaaf50febc1\",\"subtype\":\"Figure\",\"type\":\"Plot\"}]},\"id\":\"4a4e18a4-e741-48aa-9ff7-237cfd1c2932\",\"type\":\"Row\"},{\"attributes\":{\"bottom\":{\"expr\":{\"id\":\"7de109c3-8e9e-4215-83a1-0c03f108037f\",\"type\":\"Stack\"}},\"fill_alpha\":{\"value\":0.1},\"fill_color\":{\"value\":\"#1f77b4\"},\"line_alpha\":{\"value\":0.1},\"line_color\":{\"value\":\"#1f77b4\"},\"top\":{\"expr\":{\"id\":\"df622a4f-1021-4b4f-9344-3b746148c44d\",\"type\":\"Stack\"}},\"width\":{\"value\":0.5},\"x\":{\"field\":\"Race\"}},\"id\":\"c0cce7c6-9626-484b-b4cb-6797ce21b315\",\"type\":\"VBar\"},{\"attributes\":{\"callback\":null,\"end\":150,\"start\":0},\"id\":\"79fc4936-e3a1-483b-a4ea-8e667962bb54\",\"type\":\"DataRange1d\"},{\"attributes\":{\"below\":[{\"id\":\"da452a49-e3cc-45ac-98b1-e7b6e073d6f8\",\"type\":\"CategoricalAxis\"}],\"left\":[{\"id\":\"ec035da4-b25b-4859-87a6-f7f7b1c8c91f\",\"type\":\"LinearAxis\"}],\"outline_line_color\":{\"value\":null},\"plot_height\":400,\"plot_width\":300,\"renderers\":[{\"id\":\"da452a49-e3cc-45ac-98b1-e7b6e073d6f8\",\"type\":\"CategoricalAxis\"},{\"id\":\"35e46595-4992-4681-9797-2542c811b5ca\",\"type\":\"Grid\"},{\"id\":\"ec035da4-b25b-4859-87a6-f7f7b1c8c91f\",\"type\":\"LinearAxis\"},{\"id\":\"137ffd1c-4eff-4ea4-99d2-aecc6a1d4331\",\"type\":\"Grid\"},{\"id\":\"30fb89ff-9b6d-40f9-9fbd-c43bd9b92b57\",\"type\":\"Legend\"},{\"id\":\"db25aa70-eebd-4512-8e4b-1e093d8deb1b\",\"type\":\"GlyphRenderer\"},{\"id\":\"e82f1b7e-3428-4a4c-ac8b-ce2bbca5a0da\",\"type\":\"GlyphRenderer\"},{\"id\":\"c98d7f5e-a969-466a-b13e-075e9945e666\",\"type\":\"GlyphRenderer\"}],\"title\":{\"id\":\"b61b3b35-f902-47e7-b18d-93d45e6de867\",\"type\":\"Title\"},\"toolbar\":{\"id\":\"b5a69899-62dc-4f92-bd86-b10dead4b283\",\"type\":\"Toolbar\"},\"toolbar_location\":null,\"x_range\":{\"id\":\"cf58a01a-cd3e-4527-a491-8c0186cb897e\",\"type\":\"FactorRange\"},\"x_scale\":{\"id\":\"b68333e2-42c5-433c-aa49-b350c8a5ed09\",\"type\":\"CategoricalScale\"},\"y_range\":{\"id\":\"79fc4936-e3a1-483b-a4ea-8e667962bb54\",\"type\":\"DataRange1d\"},\"y_scale\":{\"id\":\"558529bd-fcff-42e1-9781-3ca499c94f60\",\"type\":\"LinearScale\"}},\"id\":\"26f2f89d-3258-4a02-a481-4aaaf50febc1\",\"subtype\":\"Figure\",\"type\":\"Plot\"},{\"attributes\":{\"callback\":null,\"factors\":[\"Asian\",\"Black\",\"Latino\",\"Unknown\",\"White\"],\"range_padding\":0.1},\"id\":\"165ec858-150e-48d9-8c19-2e3d8926b329\",\"type\":\"FactorRange\"},{\"attributes\":{\"plot\":null,\"text\":\"Race and Fatality of Armed Subjects\"},\"id\":\"a3735156-fe58-4e4f-8d40-2abe4ecf54fa\",\"type\":\"Title\"},{\"attributes\":{},\"id\":\"19eee2af-3b7f-4127-9a51-e6a2b3ab4308\",\"type\":\"CategoricalTicker\"},{\"attributes\":{\"axis_label\":\"Number of Incidents\",\"formatter\":{\"id\":\"dbaaaf03-9f23-457e-b976-f24b805c0ffe\",\"type\":\"BasicTickFormatter\"},\"minor_tick_line_color\":{\"value\":null},\"plot\":{\"id\":\"0cb40341-2bed-4bdc-ba82-fa393acf8a7d\",\"subtype\":\"Figure\",\"type\":\"Plot\"},\"ticker\":{\"id\":\"b19fc5c7-52a5-4d99-9f25-fed1f29668cc\",\"type\":\"BasicTicker\"}},\"id\":\"e76e9457-d9ee-40e0-824f-5ecfe4e57329\",\"type\":\"LinearAxis\"},{\"attributes\":{\"label\":{\"value\":\"Fatal\"},\"renderers\":[{\"id\":\"db25aa70-eebd-4512-8e4b-1e093d8deb1b\",\"type\":\"GlyphRenderer\"}]},\"id\":\"4727d229-21f6-44cd-8189-f52e81699ca0\",\"type\":\"LegendItem\"},{\"attributes\":{\"active_drag\":\"auto\",\"active_inspect\":\"auto\",\"active_scroll\":\"auto\",\"active_tap\":\"auto\"},\"id\":\"128171f4-7197-4a70-8cd6-b1d3edd675e6\",\"type\":\"Toolbar\"},{\"attributes\":{\"callback\":null,\"column_names\":[\"Race\",\"Fatal\",\"Not Fatal\",\"Unknown\"],\"data\":{\"Fatal\":{\"__ndarray__\":\"HwAAABIAAAADAAAAHwAAAA==\",\"dtype\":\"int32\",\"shape\":[4]},\"Not Fatal\":{\"__ndarray__\":\"WAAAAD0AAAAdAAAAJQAAAA==\",\"dtype\":\"int32\",\"shape\":[4]},\"Race\":[\"Black\",\"Latino\",\"Unknown\",\"White\"],\"Unknown\":{\"__ndarray__\":\"AgAAAAAAAAABAAAAAAAAAA==\",\"dtype\":\"int32\",\"shape\":[4]}}},\"id\":\"50a8f181-9001-431c-9bee-be2492472a5d\",\"type\":\"ColumnDataSource\"},{\"attributes\":{\"callback\":null,\"end\":150,\"start\":0},\"id\":\"e20d612f-021a-41f7-aac1-663e60d4c912\",\"type\":\"DataRange1d\"},{\"attributes\":{},\"id\":\"446877c1-666c-4eaa-aa3f-4f433b4e8076\",\"type\":\"CategoricalScale\"},{\"attributes\":{\"bottom\":{\"expr\":{\"id\":\"b5856988-4b00-4531-991f-710f81fc166d\",\"type\":\"Stack\"}},\"fill_color\":{\"value\":\"#99d594\"},\"line_color\":{\"value\":\"#99d594\"},\"top\":{\"expr\":{\"id\":\"7d53bd05-5b83-47c0-b8ac-61f146bae0b6\",\"type\":\"Stack\"}},\"width\":{\"value\":0.5},\"x\":{\"field\":\"Race\"}},\"id\":\"84208e61-e1b7-4832-a3d0-032f5cd92eaa\",\"type\":\"VBar\"},{\"attributes\":{\"bottom\":{\"expr\":{\"id\":\"87d53d93-528f-4bc5-840c-00957b593b6e\",\"type\":\"Stack\"}},\"fill_color\":{\"value\":\"#ffffbf\"},\"line_color\":{\"value\":\"#ffffbf\"},\"top\":{\"expr\":{\"id\":\"2f3295ec-9d7b-44e7-a721-e4e3d6adce82\",\"type\":\"Stack\"}},\"width\":{\"value\":0.5},\"x\":{\"field\":\"Race\"}},\"id\":\"4906d045-5675-4c0e-afb2-81f20d5733bf\",\"type\":\"VBar\"},{\"attributes\":{\"bottom\":{\"expr\":{\"id\":\"b5856988-4b00-4531-991f-710f81fc166d\",\"type\":\"Stack\"}},\"fill_alpha\":{\"value\":0.1},\"fill_color\":{\"value\":\"#1f77b4\"},\"line_alpha\":{\"value\":0.1},\"line_color\":{\"value\":\"#1f77b4\"},\"top\":{\"expr\":{\"id\":\"7d53bd05-5b83-47c0-b8ac-61f146bae0b6\",\"type\":\"Stack\"}},\"width\":{\"value\":0.5},\"x\":{\"field\":\"Race\"}},\"id\":\"5418a317-3f35-4ef7-b4b9-50311626259c\",\"type\":\"VBar\"},{\"attributes\":{\"dimension\":1,\"plot\":{\"id\":\"0cb40341-2bed-4bdc-ba82-fa393acf8a7d\",\"subtype\":\"Figure\",\"type\":\"Plot\"},\"ticker\":{\"id\":\"b19fc5c7-52a5-4d99-9f25-fed1f29668cc\",\"type\":\"BasicTicker\"}},\"id\":\"70b92cb8-869d-4462-883c-1bae31f815bd\",\"type\":\"Grid\"},{\"attributes\":{\"active_drag\":\"auto\",\"active_inspect\":\"auto\",\"active_scroll\":\"auto\",\"active_tap\":\"auto\"},\"id\":\"b5a69899-62dc-4f92-bd86-b10dead4b283\",\"type\":\"Toolbar\"},{\"attributes\":{\"callback\":null,\"factors\":[\"Black\",\"Latino\",\"Unknown\",\"White\"],\"range_padding\":0.1},\"id\":\"cf58a01a-cd3e-4527-a491-8c0186cb897e\",\"type\":\"FactorRange\"},{\"attributes\":{\"fields\":[\"Fatal\",\"Not Fatal\",\"Unknown\"]},\"id\":\"cdbf75f3-510d-4cb9-8276-5b2ac506de7e\",\"type\":\"Stack\"},{\"attributes\":{\"formatter\":{\"id\":\"ee80e894-3720-4a20-afab-b360abbc8b67\",\"type\":\"CategoricalTickFormatter\"},\"minor_tick_line_color\":{\"value\":null},\"plot\":{\"id\":\"0cb40341-2bed-4bdc-ba82-fa393acf8a7d\",\"subtype\":\"Figure\",\"type\":\"Plot\"},\"ticker\":{\"id\":\"19eee2af-3b7f-4127-9a51-e6a2b3ab4308\",\"type\":\"CategoricalTicker\"}},\"id\":\"0d4ad47c-e2c4-4585-a46e-774266d1fd9d\",\"type\":\"CategoricalAxis\"},{\"attributes\":{\"plot\":null,\"text\":\"Race and Fatality of Unarmed Subjects\"},\"id\":\"b61b3b35-f902-47e7-b18d-93d45e6de867\",\"type\":\"Title\"},{\"attributes\":{\"fields\":[\"Fatal\",\"Not Fatal\"]},\"id\":\"231b7d49-a4d2-4227-9420-8487c9fff362\",\"type\":\"Stack\"},{\"attributes\":{},\"id\":\"6f36c687-743d-45bc-bc8d-2e7ee35b5e8c\",\"type\":\"LinearScale\"},{\"attributes\":{\"fields\":[\"Fatal\",\"Not Fatal\",\"Unknown\"]},\"id\":\"df622a4f-1021-4b4f-9344-3b746148c44d\",\"type\":\"Stack\"},{\"attributes\":{\"children\":[{\"id\":\"4a4e18a4-e741-48aa-9ff7-237cfd1c2932\",\"type\":\"Row\"}]},\"id\":\"bd16bf33-da2f-4cb8-abec-04b0db8eaeb9\",\"type\":\"Column\"},{\"attributes\":{},\"id\":\"304d509f-88ac-4382-a9f9-576a314dfd25\",\"type\":\"CategoricalTicker\"},{\"attributes\":{\"bottom\":{\"expr\":{\"id\":\"87d53d93-528f-4bc5-840c-00957b593b6e\",\"type\":\"Stack\"}},\"fill_alpha\":{\"value\":0.1},\"fill_color\":{\"value\":\"#1f77b4\"},\"line_alpha\":{\"value\":0.1},\"line_color\":{\"value\":\"#1f77b4\"},\"top\":{\"expr\":{\"id\":\"2f3295ec-9d7b-44e7-a721-e4e3d6adce82\",\"type\":\"Stack\"}},\"width\":{\"value\":0.5},\"x\":{\"field\":\"Race\"}},\"id\":\"fa7f0b60-40c9-48f5-8e80-d365f6341e02\",\"type\":\"VBar\"},{\"attributes\":{\"fields\":[\"Fatal\",\"Not Fatal\"]},\"id\":\"d6f3dbc4-22aa-4a48-b36d-6a0a1e98803f\",\"type\":\"Stack\"},{\"attributes\":{\"toolbar\":{\"id\":\"51b9c74d-db97-43e9-9263-143eae5eb3eb\",\"type\":\"ProxyToolbar\"},\"toolbar_location\":\"above\"},\"id\":\"9221edee-b359-4680-91f3-24165e93d34f\",\"type\":\"ToolbarBox\"},{\"attributes\":{},\"id\":\"b68333e2-42c5-433c-aa49-b350c8a5ed09\",\"type\":\"CategoricalScale\"},{\"attributes\":{\"bottom\":{\"expr\":{\"id\":\"dd66da8b-ae68-447f-bf8c-fb979b848e65\",\"type\":\"Stack\"}},\"fill_color\":{\"value\":\"#99d594\"},\"line_color\":{\"value\":\"#99d594\"},\"top\":{\"expr\":{\"id\":\"2fd15096-cc06-4ec2-aaf9-bf39772afd0a\",\"type\":\"Stack\"}},\"width\":{\"value\":0.5},\"x\":{\"field\":\"Race\"}},\"id\":\"f2a125be-6ffc-4b4e-8e69-faee09c9f96c\",\"type\":\"VBar\"},{\"attributes\":{\"axis_label\":\"Number of Incidents\",\"formatter\":{\"id\":\"77319788-5002-4b73-8e58-0ff6bfa410eb\",\"type\":\"BasicTickFormatter\"},\"minor_tick_line_color\":{\"value\":null},\"plot\":{\"id\":\"26f2f89d-3258-4a02-a481-4aaaf50febc1\",\"subtype\":\"Figure\",\"type\":\"Plot\"},\"ticker\":{\"id\":\"3da7d059-bbd6-4ad6-aad8-85fe9e9222f1\",\"type\":\"BasicTicker\"}},\"id\":\"ec035da4-b25b-4859-87a6-f7f7b1c8c91f\",\"type\":\"LinearAxis\"},{\"attributes\":{\"fields\":[]},\"id\":\"b5856988-4b00-4531-991f-710f81fc166d\",\"type\":\"Stack\"},{\"attributes\":{\"fields\":[\"Fatal\"]},\"id\":\"b96dd086-e4b7-4647-b752-2657b9816b54\",\"type\":\"Stack\"},{\"attributes\":{},\"id\":\"dbaaaf03-9f23-457e-b976-f24b805c0ffe\",\"type\":\"BasicTickFormatter\"},{\"attributes\":{},\"id\":\"50754606-91f1-4343-a36d-07ab933745a3\",\"type\":\"CategoricalTickFormatter\"},{\"attributes\":{\"formatter\":{\"id\":\"50754606-91f1-4343-a36d-07ab933745a3\",\"type\":\"CategoricalTickFormatter\"},\"minor_tick_line_color\":{\"value\":null},\"plot\":{\"id\":\"26f2f89d-3258-4a02-a481-4aaaf50febc1\",\"subtype\":\"Figure\",\"type\":\"Plot\"},\"ticker\":{\"id\":\"304d509f-88ac-4382-a9f9-576a314dfd25\",\"type\":\"CategoricalTicker\"}},\"id\":\"da452a49-e3cc-45ac-98b1-e7b6e073d6f8\",\"type\":\"CategoricalAxis\"},{\"attributes\":{},\"id\":\"b19fc5c7-52a5-4d99-9f25-fed1f29668cc\",\"type\":\"BasicTicker\"},{\"attributes\":{\"fields\":[\"Fatal\"]},\"id\":\"7d53bd05-5b83-47c0-b8ac-61f146bae0b6\",\"type\":\"Stack\"},{\"attributes\":{\"source\":{\"id\":\"f67f174c-0ce0-4288-a17e-0a6cfd6c1c18\",\"type\":\"ColumnDataSource\"}},\"id\":\"d510388e-3e92-4d28-bccb-29469fcf7db7\",\"type\":\"CDSView\"},{\"attributes\":{},\"id\":\"3da7d059-bbd6-4ad6-aad8-85fe9e9222f1\",\"type\":\"BasicTicker\"},{\"attributes\":{\"grid_line_color\":{\"value\":null},\"plot\":{\"id\":\"0cb40341-2bed-4bdc-ba82-fa393acf8a7d\",\"subtype\":\"Figure\",\"type\":\"Plot\"},\"ticker\":{\"id\":\"19eee2af-3b7f-4127-9a51-e6a2b3ab4308\",\"type\":\"CategoricalTicker\"}},\"id\":\"5890b846-5960-4b92-9a36-bcb2235c64e0\",\"type\":\"Grid\"},{\"attributes\":{\"grid_line_color\":{\"value\":null},\"plot\":{\"id\":\"26f2f89d-3258-4a02-a481-4aaaf50febc1\",\"subtype\":\"Figure\",\"type\":\"Plot\"},\"ticker\":{\"id\":\"304d509f-88ac-4382-a9f9-576a314dfd25\",\"type\":\"CategoricalTicker\"}},\"id\":\"35e46595-4992-4681-9797-2542c811b5ca\",\"type\":\"Grid\"},{\"attributes\":{},\"id\":\"558529bd-fcff-42e1-9781-3ca499c94f60\",\"type\":\"LinearScale\"},{\"attributes\":{\"label\":{\"value\":\"Fatal\"},\"renderers\":[{\"id\":\"e8ed07d0-b5de-4038-88f9-94dcf7a83202\",\"type\":\"GlyphRenderer\"}]},\"id\":\"e54058ed-9281-41b8-ab61-3179de3d5615\",\"type\":\"LegendItem\"},{\"attributes\":{\"dimension\":1,\"plot\":{\"id\":\"26f2f89d-3258-4a02-a481-4aaaf50febc1\",\"subtype\":\"Figure\",\"type\":\"Plot\"},\"ticker\":{\"id\":\"3da7d059-bbd6-4ad6-aad8-85fe9e9222f1\",\"type\":\"BasicTicker\"}},\"id\":\"137ffd1c-4eff-4ea4-99d2-aecc6a1d4331\",\"type\":\"Grid\"},{\"attributes\":{\"label\":{\"value\":\"Not Fatal\"},\"renderers\":[{\"id\":\"f46ed7ef-a3ab-4498-ba7f-93eb744d770d\",\"type\":\"GlyphRenderer\"}]},\"id\":\"59c122f0-f700-4bb0-a87d-d3b38a371718\",\"type\":\"LegendItem\"},{\"attributes\":{\"children\":[{\"id\":\"9221edee-b359-4680-91f3-24165e93d34f\",\"type\":\"ToolbarBox\"},{\"id\":\"bd16bf33-da2f-4cb8-abec-04b0db8eaeb9\",\"type\":\"Column\"}]},\"id\":\"2014b8a4-b6fb-4990-82b1-bbff747d4259\",\"type\":\"Column\"},{\"attributes\":{\"bottom\":{\"expr\":{\"id\":\"b96dd086-e4b7-4647-b752-2657b9816b54\",\"type\":\"Stack\"}},\"fill_color\":{\"value\":\"#ffffbf\"},\"line_color\":{\"value\":\"#ffffbf\"},\"top\":{\"expr\":{\"id\":\"d6f3dbc4-22aa-4a48-b36d-6a0a1e98803f\",\"type\":\"Stack\"}},\"width\":{\"value\":0.5},\"x\":{\"field\":\"Race\"}},\"id\":\"9cc52071-6286-4fdf-b915-e005bc4c9fd0\",\"type\":\"VBar\"},{\"attributes\":{\"source\":{\"id\":\"50a8f181-9001-431c-9bee-be2492472a5d\",\"type\":\"ColumnDataSource\"}},\"id\":\"3abe642b-f620-4703-9ef9-575363146226\",\"type\":\"CDSView\"},{\"attributes\":{\"bottom\":{\"expr\":{\"id\":\"231b7d49-a4d2-4227-9420-8487c9fff362\",\"type\":\"Stack\"}},\"fill_color\":{\"value\":\"#fc8d59\"},\"line_color\":{\"value\":\"#fc8d59\"},\"top\":{\"expr\":{\"id\":\"cdbf75f3-510d-4cb9-8276-5b2ac506de7e\",\"type\":\"Stack\"}},\"width\":{\"value\":0.5},\"x\":{\"field\":\"Race\"}},\"id\":\"983e0d67-4071-46dc-a888-82d01d4771e1\",\"type\":\"VBar\"},{\"attributes\":{\"fields\":[\"Fatal\",\"Not Fatal\"]},\"id\":\"7de109c3-8e9e-4215-83a1-0c03f108037f\",\"type\":\"Stack\"},{\"attributes\":{\"source\":{\"id\":\"f67f174c-0ce0-4288-a17e-0a6cfd6c1c18\",\"type\":\"ColumnDataSource\"}},\"id\":\"582faa2e-7b2f-4cd7-8f5f-1b99159fbb3a\",\"type\":\"CDSView\"},{\"attributes\":{},\"id\":\"77319788-5002-4b73-8e58-0ff6bfa410eb\",\"type\":\"BasicTickFormatter\"},{\"attributes\":{\"items\":[{\"id\":\"4727d229-21f6-44cd-8189-f52e81699ca0\",\"type\":\"LegendItem\"},{\"id\":\"aeba09f2-76d3-4856-9cd4-edd839403cda\",\"type\":\"LegendItem\"},{\"id\":\"0d3883f8-4b91-4ddc-bd42-b0c227b711df\",\"type\":\"LegendItem\"}],\"plot\":{\"id\":\"26f2f89d-3258-4a02-a481-4aaaf50febc1\",\"subtype\":\"Figure\",\"type\":\"Plot\"}},\"id\":\"30fb89ff-9b6d-40f9-9fbd-c43bd9b92b57\",\"type\":\"Legend\"},{\"attributes\":{\"bottom\":{\"expr\":{\"id\":\"b96dd086-e4b7-4647-b752-2657b9816b54\",\"type\":\"Stack\"}},\"fill_alpha\":{\"value\":0.1},\"fill_color\":{\"value\":\"#1f77b4\"},\"line_alpha\":{\"value\":0.1},\"line_color\":{\"value\":\"#1f77b4\"},\"top\":{\"expr\":{\"id\":\"d6f3dbc4-22aa-4a48-b36d-6a0a1e98803f\",\"type\":\"Stack\"}},\"width\":{\"value\":0.5},\"x\":{\"field\":\"Race\"}},\"id\":\"abc02975-e369-4665-beaf-4e875add0b63\",\"type\":\"VBar\"},{\"attributes\":{\"source\":{\"id\":\"f67f174c-0ce0-4288-a17e-0a6cfd6c1c18\",\"type\":\"ColumnDataSource\"}},\"id\":\"13b3d54f-19bc-4f4f-a415-28e39bb18099\",\"type\":\"CDSView\"},{\"attributes\":{\"fields\":[\"Fatal\",\"Not Fatal\"]},\"id\":\"2f3295ec-9d7b-44e7-a721-e4e3d6adce82\",\"type\":\"Stack\"},{\"attributes\":{\"fields\":[\"Fatal\"]},\"id\":\"87d53d93-528f-4bc5-840c-00957b593b6e\",\"type\":\"Stack\"},{\"attributes\":{\"fields\":[\"Fatal\"]},\"id\":\"2fd15096-cc06-4ec2-aaf9-bf39772afd0a\",\"type\":\"Stack\"}],\"root_ids\":[\"2014b8a4-b6fb-4990-82b1-bbff747d4259\"]},\"title\":\"Bokeh Application\",\"version\":\"0.12.13\"}};\n",
       "  var render_items = [{\"docid\":\"cc4b9c0d-42e0-4cd1-bfa3-cd61fb58e83a\",\"elementid\":\"b267aaa5-ab2d-404e-bbbc-3204dab1e6de\",\"modelid\":\"2014b8a4-b6fb-4990-82b1-bbff747d4259\"}];\n",
       "  root.Bokeh.embed.embed_items_notebook(docs_json, render_items);\n",
       "\n",
       "  }\n",
       "  if (root.Bokeh !== undefined) {\n",
       "    embed_document(root);\n",
       "  } else {\n",
       "    var attempts = 0;\n",
       "    var timer = setInterval(function(root) {\n",
       "      if (root.Bokeh !== undefined) {\n",
       "        embed_document(root);\n",
       "        clearInterval(timer);\n",
       "      }\n",
       "      attempts++;\n",
       "      if (attempts > 100) {\n",
       "        console.log(\"Bokeh: ERROR: Unable to run BokehJS code because BokehJS library is missing\")\n",
       "        clearInterval(timer);\n",
       "      }\n",
       "    }, 10, root)\n",
       "  }\n",
       "})(window);"
      ],
      "application/vnd.bokehjs_exec.v0+json": ""
     },
     "metadata": {
      "application/vnd.bokehjs_exec.v0+json": {
       "id": "2014b8a4-b6fb-4990-82b1-bbff747d4259"
      }
     },
     "output_type": "display_data"
    }
   ],
   "source": [
    "#combine above bar graphs into one\n",
    "\n",
    "from bokeh.layouts import gridplot\n",
    "from bokeh.palettes import Viridis3\n",
    "\n",
    "# make a grid\n",
    "grid = gridplot([b, c], ncols=2, plot_width=300, plot_height=400)\n",
    "\n",
    "# show the results\n",
    "show(grid)"
   ]
  },
  {
   "cell_type": "markdown",
   "metadata": {},
   "source": [
    "## More white people were killed in both armed and unarmed shootings, despite the fact that Black and Latino people were involved in more total shootings\n",
    "\n",
    "## It's unclear why this is, but it is possible that white subjects were more likely to be engaging in more violent/serious crimes"
   ]
  },
  {
   "cell_type": "code",
   "execution_count": 40,
   "metadata": {},
   "outputs": [
    {
     "data": {
      "text/plain": [
       "B    264\n",
       "L    173\n",
       "W    146\n",
       "U     47\n",
       "A      6\n",
       "Name: SubjectRace, dtype: int64"
      ]
     },
     "execution_count": 40,
     "metadata": {},
     "output_type": "execute_result"
    }
   ],
   "source": [
    "shoot.SubjectRace.value_counts()"
   ]
  },
  {
   "cell_type": "code",
   "execution_count": 41,
   "metadata": {
    "scrolled": true
   },
   "outputs": [
    {
     "data": {
      "text/plain": [
       "False    167\n",
       "True       1\n",
       "Name: NatureOfStop, dtype: int64"
      ]
     },
     "execution_count": 41,
     "metadata": {},
     "output_type": "execute_result"
    }
   ],
   "source": [
    "#Houston PD had no entried for \"NatureOfStop\" so it is removed from exploration on the Nature of the Stops\n",
    "armed[armed.city != 'Houston'].NatureOfStop.isnull().value_counts()"
   ]
  },
  {
   "cell_type": "code",
   "execution_count": 42,
   "metadata": {},
   "outputs": [
    {
     "data": {
      "text/html": [
       "<div>\n",
       "<style scoped>\n",
       "    .dataframe tbody tr th:only-of-type {\n",
       "        vertical-align: middle;\n",
       "    }\n",
       "\n",
       "    .dataframe tbody tr th {\n",
       "        vertical-align: top;\n",
       "    }\n",
       "\n",
       "    .dataframe thead th {\n",
       "        text-align: right;\n",
       "    }\n",
       "</style>\n",
       "<table border=\"1\" class=\"dataframe\">\n",
       "  <thead>\n",
       "    <tr style=\"text-align: right;\">\n",
       "      <th>Fatality</th>\n",
       "      <th>Fatal</th>\n",
       "      <th>Not Fatal</th>\n",
       "    </tr>\n",
       "    <tr>\n",
       "      <th>SubjectRace</th>\n",
       "      <th></th>\n",
       "      <th></th>\n",
       "    </tr>\n",
       "  </thead>\n",
       "  <tbody>\n",
       "    <tr>\n",
       "      <th>Asian</th>\n",
       "      <td>1</td>\n",
       "      <td>1</td>\n",
       "    </tr>\n",
       "    <tr>\n",
       "      <th>Black</th>\n",
       "      <td>19</td>\n",
       "      <td>29</td>\n",
       "    </tr>\n",
       "    <tr>\n",
       "      <th>Latino</th>\n",
       "      <td>21</td>\n",
       "      <td>26</td>\n",
       "    </tr>\n",
       "    <tr>\n",
       "      <th>Unknown</th>\n",
       "      <td>2</td>\n",
       "      <td>3</td>\n",
       "    </tr>\n",
       "    <tr>\n",
       "      <th>White</th>\n",
       "      <td>39</td>\n",
       "      <td>26</td>\n",
       "    </tr>\n",
       "  </tbody>\n",
       "</table>\n",
       "</div>"
      ],
      "text/plain": [
       "Fatality     Fatal  Not Fatal\n",
       "SubjectRace                  \n",
       "Asian            1          1\n",
       "Black           19         29\n",
       "Latino          21         26\n",
       "Unknown          2          3\n",
       "White           39         26"
      ]
     },
     "execution_count": 42,
     "metadata": {},
     "output_type": "execute_result"
    }
   ],
   "source": [
    "#create df without Houston PD, of Armed shootings broken down by Race and Fatality\n",
    "nohou = armed[armed.city != 'Houston']\n",
    "nohou = nohou.groupby('SubjectRace').Fatality.value_counts().unstack().fillna(0).astype(int)\n",
    "nohou = nohou.rename(columns = {'F':'Fatal', 'N':'Not Fatal'})\n",
    "nohou"
   ]
  },
  {
   "cell_type": "code",
   "execution_count": 43,
   "metadata": {
    "scrolled": true
   },
   "outputs": [
    {
     "data": {
      "text/html": [
       "\n",
       "<div class=\"bk-root\">\n",
       "    <div class=\"bk-plotdiv\" id=\"5d452dee-3a77-49ea-bf61-fccd062b7aa7\"></div>\n",
       "</div>"
      ]
     },
     "metadata": {},
     "output_type": "display_data"
    },
    {
     "data": {
      "application/javascript": [
       "(function(root) {\n",
       "  function embed_document(root) {\n",
       "    \n",
       "  var docs_json = {\"9d1a1784-41e0-4d8d-9c0e-405fa0ac6ab3\":{\"roots\":{\"references\":[{\"attributes\":{},\"id\":\"1d0a4531-e7af-4e35-8823-360b960f776c\",\"type\":\"LinearScale\"},{\"attributes\":{\"callback\":null,\"factors\":[\"Asian\",\"Black\",\"Latino\",\"Unknown\",\"White\"],\"range_padding\":0.1},\"id\":\"c951a1ad-ffa8-49af-84bf-0c20f1effd32\",\"type\":\"FactorRange\"},{\"attributes\":{},\"id\":\"7bc77a70-d56b-476e-99fb-5d414fe7d2f4\",\"type\":\"BasicTickFormatter\"},{\"attributes\":{},\"id\":\"c183a74a-806f-4301-bfaa-eef75ee5a253\",\"type\":\"CategoricalScale\"},{\"attributes\":{\"grid_line_color\":{\"value\":null},\"plot\":{\"id\":\"f8206d46-8ae0-4d1b-864a-d962a04afc73\",\"subtype\":\"Figure\",\"type\":\"Plot\"},\"ticker\":{\"id\":\"192a13be-df19-48b1-8f0e-b676bda692d2\",\"type\":\"BasicTicker\"}},\"id\":\"53812320-b208-4269-a586-fbee209baebc\",\"type\":\"Grid\"},{\"attributes\":{\"data_source\":{\"id\":\"e09d8b21-da0b-46b2-83c0-abbfc63da3a6\",\"type\":\"ColumnDataSource\"},\"glyph\":{\"id\":\"335a4119-b564-4cb9-9a9d-ddc85649c5ee\",\"type\":\"HBar\"},\"hover_glyph\":null,\"muted_glyph\":null,\"nonselection_glyph\":{\"id\":\"62bd34b4-3045-4f2d-8d55-53dbb7426047\",\"type\":\"HBar\"},\"selection_glyph\":null,\"view\":{\"id\":\"a5006fe0-2087-4b16-a5c3-65d75bef7bb3\",\"type\":\"CDSView\"}},\"id\":\"092bdb5e-8d56-4415-99ad-8e567028eecb\",\"type\":\"GlyphRenderer\"},{\"attributes\":{\"axis_label\":\"Number of Incidents\",\"formatter\":{\"id\":\"7bc77a70-d56b-476e-99fb-5d414fe7d2f4\",\"type\":\"BasicTickFormatter\"},\"minor_tick_line_color\":{\"value\":null},\"plot\":{\"id\":\"f8206d46-8ae0-4d1b-864a-d962a04afc73\",\"subtype\":\"Figure\",\"type\":\"Plot\"},\"ticker\":{\"id\":\"192a13be-df19-48b1-8f0e-b676bda692d2\",\"type\":\"BasicTicker\"}},\"id\":\"6dd2863c-5615-4e89-8831-666e0280f91d\",\"type\":\"LinearAxis\"},{\"attributes\":{\"source\":{\"id\":\"e09d8b21-da0b-46b2-83c0-abbfc63da3a6\",\"type\":\"ColumnDataSource\"}},\"id\":\"a5006fe0-2087-4b16-a5c3-65d75bef7bb3\",\"type\":\"CDSView\"},{\"attributes\":{},\"id\":\"192a13be-df19-48b1-8f0e-b676bda692d2\",\"type\":\"BasicTicker\"},{\"attributes\":{\"formatter\":{\"id\":\"98151835-43d4-42bd-bbc3-15bcf372df3f\",\"type\":\"CategoricalTickFormatter\"},\"minor_tick_line_color\":{\"value\":null},\"plot\":{\"id\":\"f8206d46-8ae0-4d1b-864a-d962a04afc73\",\"subtype\":\"Figure\",\"type\":\"Plot\"},\"ticker\":{\"id\":\"370a904c-b08f-4b29-8334-87d797193a56\",\"type\":\"CategoricalTicker\"}},\"id\":\"f616333f-77e7-4e0c-afce-a0bd50551535\",\"type\":\"CategoricalAxis\"},{\"attributes\":{\"fill_color\":{\"value\":\"blue\"},\"height\":{\"value\":0.5},\"left\":{\"expr\":{\"id\":\"b624723f-a7fe-4f7c-911a-2e49e204905b\",\"type\":\"Stack\"}},\"line_color\":{\"value\":\"blue\"},\"right\":{\"expr\":{\"id\":\"d1821b92-266f-4c80-8cf9-37b7578e9da0\",\"type\":\"Stack\"}},\"y\":{\"field\":\"Race\"}},\"id\":\"3e0623b5-a6b0-4780-a294-2bb202d70288\",\"type\":\"HBar\"},{\"attributes\":{},\"id\":\"370a904c-b08f-4b29-8334-87d797193a56\",\"type\":\"CategoricalTicker\"},{\"attributes\":{\"dimension\":1,\"plot\":{\"id\":\"f8206d46-8ae0-4d1b-864a-d962a04afc73\",\"subtype\":\"Figure\",\"type\":\"Plot\"},\"ticker\":{\"id\":\"370a904c-b08f-4b29-8334-87d797193a56\",\"type\":\"CategoricalTicker\"}},\"id\":\"3099ddc3-ee06-4aa6-8bfd-5d338eb32c46\",\"type\":\"Grid\"},{\"attributes\":{},\"id\":\"98151835-43d4-42bd-bbc3-15bcf372df3f\",\"type\":\"CategoricalTickFormatter\"},{\"attributes\":{\"callback\":null,\"column_names\":[\"Race\",\"Fatal\",\"Not Fatal\"],\"data\":{\"Fatal\":{\"__ndarray__\":\"AQAAABMAAAAVAAAAAgAAACcAAAA=\",\"dtype\":\"int32\",\"shape\":[5]},\"Not Fatal\":{\"__ndarray__\":\"AQAAAB0AAAAaAAAAAwAAABoAAAA=\",\"dtype\":\"int32\",\"shape\":[5]},\"Race\":[\"Asian\",\"Black\",\"Latino\",\"Unknown\",\"White\"]}},\"id\":\"e09d8b21-da0b-46b2-83c0-abbfc63da3a6\",\"type\":\"ColumnDataSource\"},{\"attributes\":{\"fill_alpha\":{\"value\":0.1},\"fill_color\":{\"value\":\"#1f77b4\"},\"height\":{\"value\":0.5},\"left\":{\"expr\":{\"id\":\"b624723f-a7fe-4f7c-911a-2e49e204905b\",\"type\":\"Stack\"}},\"line_alpha\":{\"value\":0.1},\"line_color\":{\"value\":\"#1f77b4\"},\"right\":{\"expr\":{\"id\":\"d1821b92-266f-4c80-8cf9-37b7578e9da0\",\"type\":\"Stack\"}},\"y\":{\"field\":\"Race\"}},\"id\":\"791b0032-e4df-4552-945e-fcb4fe60afbe\",\"type\":\"HBar\"},{\"attributes\":{\"label\":{\"value\":\"Not Fatal\"},\"renderers\":[{\"id\":\"e6405f67-aaf2-4f35-969d-ba490089b0db\",\"type\":\"GlyphRenderer\"}]},\"id\":\"9f1b7722-06f4-4b7d-a625-951ca8a55f06\",\"type\":\"LegendItem\"},{\"attributes\":{\"fields\":[\"Fatal\"]},\"id\":\"416b4759-fd90-4b59-ab33-350510046085\",\"type\":\"Stack\"},{\"attributes\":{\"below\":[{\"id\":\"6dd2863c-5615-4e89-8831-666e0280f91d\",\"type\":\"LinearAxis\"}],\"left\":[{\"id\":\"f616333f-77e7-4e0c-afce-a0bd50551535\",\"type\":\"CategoricalAxis\"}],\"outline_line_color\":{\"value\":null},\"plot_height\":300,\"plot_width\":900,\"renderers\":[{\"id\":\"6dd2863c-5615-4e89-8831-666e0280f91d\",\"type\":\"LinearAxis\"},{\"id\":\"53812320-b208-4269-a586-fbee209baebc\",\"type\":\"Grid\"},{\"id\":\"f616333f-77e7-4e0c-afce-a0bd50551535\",\"type\":\"CategoricalAxis\"},{\"id\":\"3099ddc3-ee06-4aa6-8bfd-5d338eb32c46\",\"type\":\"Grid\"},{\"id\":\"961b151b-878f-4a70-8bc2-9a94361f74e1\",\"type\":\"Legend\"},{\"id\":\"092bdb5e-8d56-4415-99ad-8e567028eecb\",\"type\":\"GlyphRenderer\"},{\"id\":\"e6405f67-aaf2-4f35-969d-ba490089b0db\",\"type\":\"GlyphRenderer\"}],\"title\":{\"id\":\"92e959ad-1c67-4057-b4e6-1b1089f5ffc2\",\"type\":\"Title\"},\"toolbar\":{\"id\":\"2be212b4-3938-4fee-84ea-09c06860526f\",\"type\":\"Toolbar\"},\"toolbar_location\":null,\"x_range\":{\"id\":\"39030d81-cc7d-4492-9c44-ff534c65a3c2\",\"type\":\"DataRange1d\"},\"x_scale\":{\"id\":\"1d0a4531-e7af-4e35-8823-360b960f776c\",\"type\":\"LinearScale\"},\"y_range\":{\"id\":\"c951a1ad-ffa8-49af-84bf-0c20f1effd32\",\"type\":\"FactorRange\"},\"y_scale\":{\"id\":\"c183a74a-806f-4301-bfaa-eef75ee5a253\",\"type\":\"CategoricalScale\"}},\"id\":\"f8206d46-8ae0-4d1b-864a-d962a04afc73\",\"subtype\":\"Figure\",\"type\":\"Plot\"},{\"attributes\":{\"fields\":[\"Fatal\"]},\"id\":\"b624723f-a7fe-4f7c-911a-2e49e204905b\",\"type\":\"Stack\"},{\"attributes\":{\"data_source\":{\"id\":\"e09d8b21-da0b-46b2-83c0-abbfc63da3a6\",\"type\":\"ColumnDataSource\"},\"glyph\":{\"id\":\"3e0623b5-a6b0-4780-a294-2bb202d70288\",\"type\":\"HBar\"},\"hover_glyph\":null,\"muted_glyph\":null,\"nonselection_glyph\":{\"id\":\"791b0032-e4df-4552-945e-fcb4fe60afbe\",\"type\":\"HBar\"},\"selection_glyph\":null,\"view\":{\"id\":\"455687be-ac16-423f-b1c2-d37b79917b15\",\"type\":\"CDSView\"}},\"id\":\"e6405f67-aaf2-4f35-969d-ba490089b0db\",\"type\":\"GlyphRenderer\"},{\"attributes\":{\"fields\":[\"Fatal\",\"Not Fatal\"]},\"id\":\"d1821b92-266f-4c80-8cf9-37b7578e9da0\",\"type\":\"Stack\"},{\"attributes\":{\"source\":{\"id\":\"e09d8b21-da0b-46b2-83c0-abbfc63da3a6\",\"type\":\"ColumnDataSource\"}},\"id\":\"455687be-ac16-423f-b1c2-d37b79917b15\",\"type\":\"CDSView\"},{\"attributes\":{\"plot\":null,\"text\":\"Race and Fatality of Armed Subjects (Austin, San Antonio, Dallas)\"},\"id\":\"92e959ad-1c67-4057-b4e6-1b1089f5ffc2\",\"type\":\"Title\"},{\"attributes\":{\"fill_color\":{\"value\":\"red\"},\"height\":{\"value\":0.5},\"left\":{\"expr\":{\"id\":\"20f32d26-41f8-4c62-8eda-59c038df1686\",\"type\":\"Stack\"}},\"line_color\":{\"value\":\"red\"},\"right\":{\"expr\":{\"id\":\"416b4759-fd90-4b59-ab33-350510046085\",\"type\":\"Stack\"}},\"y\":{\"field\":\"Race\"}},\"id\":\"335a4119-b564-4cb9-9a9d-ddc85649c5ee\",\"type\":\"HBar\"},{\"attributes\":{\"callback\":null,\"end\":200,\"start\":0},\"id\":\"39030d81-cc7d-4492-9c44-ff534c65a3c2\",\"type\":\"DataRange1d\"},{\"attributes\":{\"fill_alpha\":{\"value\":0.1},\"fill_color\":{\"value\":\"#1f77b4\"},\"height\":{\"value\":0.5},\"left\":{\"expr\":{\"id\":\"20f32d26-41f8-4c62-8eda-59c038df1686\",\"type\":\"Stack\"}},\"line_alpha\":{\"value\":0.1},\"line_color\":{\"value\":\"#1f77b4\"},\"right\":{\"expr\":{\"id\":\"416b4759-fd90-4b59-ab33-350510046085\",\"type\":\"Stack\"}},\"y\":{\"field\":\"Race\"}},\"id\":\"62bd34b4-3045-4f2d-8d55-53dbb7426047\",\"type\":\"HBar\"},{\"attributes\":{\"active_drag\":\"auto\",\"active_inspect\":\"auto\",\"active_scroll\":\"auto\",\"active_tap\":\"auto\"},\"id\":\"2be212b4-3938-4fee-84ea-09c06860526f\",\"type\":\"Toolbar\"},{\"attributes\":{\"label\":{\"value\":\"Fatal\"},\"renderers\":[{\"id\":\"092bdb5e-8d56-4415-99ad-8e567028eecb\",\"type\":\"GlyphRenderer\"}]},\"id\":\"2f3ab104-47e4-4d43-bee5-fe3db3a6c042\",\"type\":\"LegendItem\"},{\"attributes\":{\"fields\":[]},\"id\":\"20f32d26-41f8-4c62-8eda-59c038df1686\",\"type\":\"Stack\"},{\"attributes\":{\"items\":[{\"id\":\"2f3ab104-47e4-4d43-bee5-fe3db3a6c042\",\"type\":\"LegendItem\"},{\"id\":\"9f1b7722-06f4-4b7d-a625-951ca8a55f06\",\"type\":\"LegendItem\"}],\"plot\":{\"id\":\"f8206d46-8ae0-4d1b-864a-d962a04afc73\",\"subtype\":\"Figure\",\"type\":\"Plot\"}},\"id\":\"961b151b-878f-4a70-8bc2-9a94361f74e1\",\"type\":\"Legend\"}],\"root_ids\":[\"f8206d46-8ae0-4d1b-864a-d962a04afc73\"]},\"title\":\"Bokeh Application\",\"version\":\"0.12.13\"}};\n",
       "  var render_items = [{\"docid\":\"9d1a1784-41e0-4d8d-9c0e-405fa0ac6ab3\",\"elementid\":\"5d452dee-3a77-49ea-bf61-fccd062b7aa7\",\"modelid\":\"f8206d46-8ae0-4d1b-864a-d962a04afc73\"}];\n",
       "  root.Bokeh.embed.embed_items_notebook(docs_json, render_items);\n",
       "\n",
       "  }\n",
       "  if (root.Bokeh !== undefined) {\n",
       "    embed_document(root);\n",
       "  } else {\n",
       "    var attempts = 0;\n",
       "    var timer = setInterval(function(root) {\n",
       "      if (root.Bokeh !== undefined) {\n",
       "        embed_document(root);\n",
       "        clearInterval(timer);\n",
       "      }\n",
       "      attempts++;\n",
       "      if (attempts > 100) {\n",
       "        console.log(\"Bokeh: ERROR: Unable to run BokehJS code because BokehJS library is missing\")\n",
       "        clearInterval(timer);\n",
       "      }\n",
       "    }, 10, root)\n",
       "  }\n",
       "})(window);"
      ],
      "application/vnd.bokehjs_exec.v0+json": ""
     },
     "metadata": {
      "application/vnd.bokehjs_exec.v0+json": {
       "id": "f8206d46-8ae0-4d1b-864a-d962a04afc73"
      }
     },
     "output_type": "display_data"
    }
   ],
   "source": [
    "#stacked horizontal bar graph of Armed shootings, exclusing Houston PD, broken down by Race and Fatality\n",
    "col = nohou.columns\n",
    "data= {'Race': list(nohou.index), 'Fatal' : nohou['Fatal'].values, 'Not Fatal': nohou['Not Fatal'].values}\n",
    "       \n",
    "source = ColumnDataSource(data=data)\n",
    "\n",
    "h = figure(y_range= data['Race'], plot_height=300,plot_width=900, title=\"Race and Fatality of Armed Subjects (Austin, San Antonio, Dallas)\", x_axis_label='Number of Incidents',\n",
    "           toolbar_location=None, tools=\"\")\n",
    "\n",
    "h.hbar_stack(col, y= 'Race', height=0.5, color=['red','blue'], source=source,\n",
    "             legend=[value(x) for x in col])\n",
    "\n",
    "h.x_range.start = 0\n",
    "h.x_range.end = 200\n",
    "h.y_range.range_padding = 0.1\n",
    "h.xgrid.grid_line_color = None\n",
    "h.axis.minor_tick_line_color = None\n",
    "h.outline_line_color = None\n",
    "h.legend.location = \"top_right\"\n",
    "h.legend.orientation = \"vertical\"\n",
    "\n",
    "show(h)"
   ]
  },
  {
   "cell_type": "markdown",
   "metadata": {},
   "source": [
    "## When Houston is excluded, White subjects become the majority, so it makes sense that White Subjects would have the highest total of fatalities (though it does still appear that  high % of White subjects were killed than other races). Since there is no data on \"Nature of Sto\" for Houston PD, it cannot be examined in relation to Race/Fatality."
   ]
  },
  {
   "cell_type": "code",
   "execution_count": 44,
   "metadata": {
    "scrolled": true
   },
   "outputs": [
    {
     "data": {
      "text/plain": [
       "False    152\n",
       "Name: NatureOfStop, dtype: int64"
      ]
     },
     "execution_count": 44,
     "metadata": {},
     "output_type": "execute_result"
    }
   ],
   "source": [
    "unarmed[unarmed.city != \"Houston\"].NatureOfStop.isnull().value_counts()"
   ]
  },
  {
   "cell_type": "code",
   "execution_count": 45,
   "metadata": {},
   "outputs": [
    {
     "data": {
      "text/html": [
       "<div>\n",
       "<style scoped>\n",
       "    .dataframe tbody tr th:only-of-type {\n",
       "        vertical-align: middle;\n",
       "    }\n",
       "\n",
       "    .dataframe tbody tr th {\n",
       "        vertical-align: top;\n",
       "    }\n",
       "\n",
       "    .dataframe thead th {\n",
       "        text-align: right;\n",
       "    }\n",
       "</style>\n",
       "<table border=\"1\" class=\"dataframe\">\n",
       "  <thead>\n",
       "    <tr style=\"text-align: right;\">\n",
       "      <th>Fatality</th>\n",
       "      <th>Fatal</th>\n",
       "      <th>Not Fatal</th>\n",
       "    </tr>\n",
       "    <tr>\n",
       "      <th>SubjectRace</th>\n",
       "      <th></th>\n",
       "      <th></th>\n",
       "    </tr>\n",
       "  </thead>\n",
       "  <tbody>\n",
       "    <tr>\n",
       "      <th>Black</th>\n",
       "      <td>19</td>\n",
       "      <td>32</td>\n",
       "    </tr>\n",
       "    <tr>\n",
       "      <th>Latino</th>\n",
       "      <td>14</td>\n",
       "      <td>27</td>\n",
       "    </tr>\n",
       "    <tr>\n",
       "      <th>Unknown</th>\n",
       "      <td>0</td>\n",
       "      <td>12</td>\n",
       "    </tr>\n",
       "    <tr>\n",
       "      <th>White</th>\n",
       "      <td>26</td>\n",
       "      <td>20</td>\n",
       "    </tr>\n",
       "  </tbody>\n",
       "</table>\n",
       "</div>"
      ],
      "text/plain": [
       "Fatality     Fatal  Not Fatal\n",
       "SubjectRace                  \n",
       "Black           19         32\n",
       "Latino          14         27\n",
       "Unknown          0         12\n",
       "White           26         20"
      ]
     },
     "execution_count": 45,
     "metadata": {},
     "output_type": "execute_result"
    }
   ],
   "source": [
    "#create df without Houston PD, of Unarmed shootings broken down by Race and Fatality\n",
    "noarmnat = unarmed[unarmed.city != 'Houston']\n",
    "noarmnat = noarmnat.groupby('SubjectRace').Fatality.value_counts().unstack().fillna(0).astype(int)\n",
    "noarmnat = noarmnat.rename(columns = {'F':'Fatal', 'N':'Not Fatal'})\n",
    "noarmnat"
   ]
  },
  {
   "cell_type": "code",
   "execution_count": 46,
   "metadata": {
    "scrolled": true
   },
   "outputs": [
    {
     "data": {
      "text/html": [
       "\n",
       "<div class=\"bk-root\">\n",
       "    <div class=\"bk-plotdiv\" id=\"eb66a1f7-e4e2-451a-b629-aed87813607f\"></div>\n",
       "</div>"
      ]
     },
     "metadata": {},
     "output_type": "display_data"
    },
    {
     "data": {
      "application/javascript": [
       "(function(root) {\n",
       "  function embed_document(root) {\n",
       "    \n",
       "  var docs_json = {\"e971e5f4-0852-47f3-a7b9-9fc238f4973c\":{\"roots\":{\"references\":[{\"attributes\":{\"items\":[{\"id\":\"3c34b121-e906-415c-9b05-9cfaa8055746\",\"type\":\"LegendItem\"},{\"id\":\"186ebd71-67ee-4e84-bf63-c41d097a2158\",\"type\":\"LegendItem\"}],\"plot\":{\"id\":\"2c85e4fd-b1ce-4d85-9989-d125ff4854f5\",\"subtype\":\"Figure\",\"type\":\"Plot\"}},\"id\":\"e581195c-d1c9-4c8e-b67c-ce4e391b06f1\",\"type\":\"Legend\"},{\"attributes\":{\"active_drag\":\"auto\",\"active_inspect\":\"auto\",\"active_scroll\":\"auto\",\"active_tap\":\"auto\"},\"id\":\"3d23a4e0-e5e8-4732-96cd-3184f11f5576\",\"type\":\"Toolbar\"},{\"attributes\":{\"fill_alpha\":{\"value\":0.1},\"fill_color\":{\"value\":\"#1f77b4\"},\"height\":{\"value\":0.5},\"left\":{\"expr\":{\"id\":\"4a56f743-a5fe-4aa0-881b-24e50fa9ae03\",\"type\":\"Stack\"}},\"line_alpha\":{\"value\":0.1},\"line_color\":{\"value\":\"#1f77b4\"},\"right\":{\"expr\":{\"id\":\"97099ef9-8a85-4da1-8eb6-19cbabce2f6b\",\"type\":\"Stack\"}},\"y\":{\"field\":\"Race\"}},\"id\":\"b9e343f1-c100-4582-920d-947d5f0291ea\",\"type\":\"HBar\"},{\"attributes\":{\"callback\":null,\"factors\":[\"Black\",\"Latino\",\"Unknown\",\"White\"],\"range_padding\":0.1},\"id\":\"8939a5e6-0f76-4019-bf4f-5c0d2cfc1aee\",\"type\":\"FactorRange\"},{\"attributes\":{},\"id\":\"a6825c49-94ae-4f10-8ab7-ff279786aec6\",\"type\":\"BasicTickFormatter\"},{\"attributes\":{\"fields\":[]},\"id\":\"000e9a8d-ac75-48f3-abc0-81280397e9e5\",\"type\":\"Stack\"},{\"attributes\":{},\"id\":\"6477332c-99d5-43fa-a515-01460409e785\",\"type\":\"LinearScale\"},{\"attributes\":{\"data_source\":{\"id\":\"cfc98cfd-73c4-4f09-9fac-3d0e810a96ac\",\"type\":\"ColumnDataSource\"},\"glyph\":{\"id\":\"0fe7afb6-cd4e-4a2f-b73a-5d735362653a\",\"type\":\"HBar\"},\"hover_glyph\":null,\"muted_glyph\":null,\"nonselection_glyph\":{\"id\":\"7c94983a-6cbf-453f-b9ac-5f44f96fff0a\",\"type\":\"HBar\"},\"selection_glyph\":null,\"view\":{\"id\":\"35b06ce6-7bb7-4dff-992f-bf475ec31321\",\"type\":\"CDSView\"}},\"id\":\"b1211f28-d32f-4542-ae09-22d108cc105e\",\"type\":\"GlyphRenderer\"},{\"attributes\":{},\"id\":\"1898d006-8c83-4c22-a440-62403bf67c33\",\"type\":\"CategoricalScale\"},{\"attributes\":{\"source\":{\"id\":\"cfc98cfd-73c4-4f09-9fac-3d0e810a96ac\",\"type\":\"ColumnDataSource\"}},\"id\":\"35b06ce6-7bb7-4dff-992f-bf475ec31321\",\"type\":\"CDSView\"},{\"attributes\":{\"grid_line_color\":{\"value\":null},\"plot\":{\"id\":\"2c85e4fd-b1ce-4d85-9989-d125ff4854f5\",\"subtype\":\"Figure\",\"type\":\"Plot\"},\"ticker\":{\"id\":\"74b6bca9-14d5-446a-8741-0043a2acb537\",\"type\":\"BasicTicker\"}},\"id\":\"5f198da3-1af1-4266-a296-ff8edc2a8ec9\",\"type\":\"Grid\"},{\"attributes\":{\"callback\":null,\"end\":200,\"start\":0},\"id\":\"9dc0e977-3f92-4646-a613-6002d23c6cf3\",\"type\":\"DataRange1d\"},{\"attributes\":{\"axis_label\":\"Number of Incidents\",\"formatter\":{\"id\":\"a6825c49-94ae-4f10-8ab7-ff279786aec6\",\"type\":\"BasicTickFormatter\"},\"minor_tick_line_color\":{\"value\":null},\"plot\":{\"id\":\"2c85e4fd-b1ce-4d85-9989-d125ff4854f5\",\"subtype\":\"Figure\",\"type\":\"Plot\"},\"ticker\":{\"id\":\"74b6bca9-14d5-446a-8741-0043a2acb537\",\"type\":\"BasicTicker\"}},\"id\":\"0303bea4-a147-411c-a990-5a281662e6c2\",\"type\":\"LinearAxis\"},{\"attributes\":{},\"id\":\"74b6bca9-14d5-446a-8741-0043a2acb537\",\"type\":\"BasicTicker\"},{\"attributes\":{\"fields\":[\"Fatal\",\"Not Fatal\"]},\"id\":\"97099ef9-8a85-4da1-8eb6-19cbabce2f6b\",\"type\":\"Stack\"},{\"attributes\":{\"formatter\":{\"id\":\"5e36337b-de97-439e-a905-14af619c399f\",\"type\":\"CategoricalTickFormatter\"},\"minor_tick_line_color\":{\"value\":null},\"plot\":{\"id\":\"2c85e4fd-b1ce-4d85-9989-d125ff4854f5\",\"subtype\":\"Figure\",\"type\":\"Plot\"},\"ticker\":{\"id\":\"51d531e6-4930-4737-b812-f9a8f455ac31\",\"type\":\"CategoricalTicker\"}},\"id\":\"a3fd046f-f6a5-4467-8429-6dbcdad9d5ac\",\"type\":\"CategoricalAxis\"},{\"attributes\":{},\"id\":\"51d531e6-4930-4737-b812-f9a8f455ac31\",\"type\":\"CategoricalTicker\"},{\"attributes\":{\"fill_color\":{\"value\":\"blue\"},\"height\":{\"value\":0.5},\"left\":{\"expr\":{\"id\":\"4a56f743-a5fe-4aa0-881b-24e50fa9ae03\",\"type\":\"Stack\"}},\"line_color\":{\"value\":\"blue\"},\"right\":{\"expr\":{\"id\":\"97099ef9-8a85-4da1-8eb6-19cbabce2f6b\",\"type\":\"Stack\"}},\"y\":{\"field\":\"Race\"}},\"id\":\"4a7f1cef-578c-40b8-ab6c-a116f58a6e53\",\"type\":\"HBar\"},{\"attributes\":{\"dimension\":1,\"plot\":{\"id\":\"2c85e4fd-b1ce-4d85-9989-d125ff4854f5\",\"subtype\":\"Figure\",\"type\":\"Plot\"},\"ticker\":{\"id\":\"51d531e6-4930-4737-b812-f9a8f455ac31\",\"type\":\"CategoricalTicker\"}},\"id\":\"8a3ded1e-fd59-42c7-96e9-849f36fdc289\",\"type\":\"Grid\"},{\"attributes\":{\"fill_color\":{\"value\":\"red\"},\"height\":{\"value\":0.5},\"left\":{\"expr\":{\"id\":\"000e9a8d-ac75-48f3-abc0-81280397e9e5\",\"type\":\"Stack\"}},\"line_color\":{\"value\":\"red\"},\"right\":{\"expr\":{\"id\":\"5f5a2c8d-d8d8-45a0-af2f-8ef20b7fbb75\",\"type\":\"Stack\"}},\"y\":{\"field\":\"Race\"}},\"id\":\"0fe7afb6-cd4e-4a2f-b73a-5d735362653a\",\"type\":\"HBar\"},{\"attributes\":{\"below\":[{\"id\":\"0303bea4-a147-411c-a990-5a281662e6c2\",\"type\":\"LinearAxis\"}],\"left\":[{\"id\":\"a3fd046f-f6a5-4467-8429-6dbcdad9d5ac\",\"type\":\"CategoricalAxis\"}],\"outline_line_color\":{\"value\":null},\"plot_height\":300,\"plot_width\":900,\"renderers\":[{\"id\":\"0303bea4-a147-411c-a990-5a281662e6c2\",\"type\":\"LinearAxis\"},{\"id\":\"5f198da3-1af1-4266-a296-ff8edc2a8ec9\",\"type\":\"Grid\"},{\"id\":\"a3fd046f-f6a5-4467-8429-6dbcdad9d5ac\",\"type\":\"CategoricalAxis\"},{\"id\":\"8a3ded1e-fd59-42c7-96e9-849f36fdc289\",\"type\":\"Grid\"},{\"id\":\"e581195c-d1c9-4c8e-b67c-ce4e391b06f1\",\"type\":\"Legend\"},{\"id\":\"b1211f28-d32f-4542-ae09-22d108cc105e\",\"type\":\"GlyphRenderer\"},{\"id\":\"067cddba-db87-4a34-8921-9efefd97bc16\",\"type\":\"GlyphRenderer\"}],\"title\":{\"id\":\"07c51374-88f4-4215-a11d-7ebb04684460\",\"type\":\"Title\"},\"toolbar\":{\"id\":\"3d23a4e0-e5e8-4732-96cd-3184f11f5576\",\"type\":\"Toolbar\"},\"toolbar_location\":null,\"x_range\":{\"id\":\"9dc0e977-3f92-4646-a613-6002d23c6cf3\",\"type\":\"DataRange1d\"},\"x_scale\":{\"id\":\"6477332c-99d5-43fa-a515-01460409e785\",\"type\":\"LinearScale\"},\"y_range\":{\"id\":\"8939a5e6-0f76-4019-bf4f-5c0d2cfc1aee\",\"type\":\"FactorRange\"},\"y_scale\":{\"id\":\"1898d006-8c83-4c22-a440-62403bf67c33\",\"type\":\"CategoricalScale\"}},\"id\":\"2c85e4fd-b1ce-4d85-9989-d125ff4854f5\",\"subtype\":\"Figure\",\"type\":\"Plot\"},{\"attributes\":{\"label\":{\"value\":\"Not Fatal\"},\"renderers\":[{\"id\":\"067cddba-db87-4a34-8921-9efefd97bc16\",\"type\":\"GlyphRenderer\"}]},\"id\":\"186ebd71-67ee-4e84-bf63-c41d097a2158\",\"type\":\"LegendItem\"},{\"attributes\":{\"fields\":[\"Fatal\"]},\"id\":\"5f5a2c8d-d8d8-45a0-af2f-8ef20b7fbb75\",\"type\":\"Stack\"},{\"attributes\":{\"callback\":null,\"column_names\":[\"Race\",\"Fatal\",\"Not Fatal\"],\"data\":{\"Fatal\":{\"__ndarray__\":\"EwAAAA4AAAAAAAAAGgAAAA==\",\"dtype\":\"int32\",\"shape\":[4]},\"Not Fatal\":{\"__ndarray__\":\"IAAAABsAAAAMAAAAFAAAAA==\",\"dtype\":\"int32\",\"shape\":[4]},\"Race\":[\"Black\",\"Latino\",\"Unknown\",\"White\"]}},\"id\":\"cfc98cfd-73c4-4f09-9fac-3d0e810a96ac\",\"type\":\"ColumnDataSource\"},{\"attributes\":{\"fields\":[\"Fatal\"]},\"id\":\"4a56f743-a5fe-4aa0-881b-24e50fa9ae03\",\"type\":\"Stack\"},{\"attributes\":{\"data_source\":{\"id\":\"cfc98cfd-73c4-4f09-9fac-3d0e810a96ac\",\"type\":\"ColumnDataSource\"},\"glyph\":{\"id\":\"4a7f1cef-578c-40b8-ab6c-a116f58a6e53\",\"type\":\"HBar\"},\"hover_glyph\":null,\"muted_glyph\":null,\"nonselection_glyph\":{\"id\":\"b9e343f1-c100-4582-920d-947d5f0291ea\",\"type\":\"HBar\"},\"selection_glyph\":null,\"view\":{\"id\":\"d4b16d4c-c09e-4e0f-afcd-4092500c4fcf\",\"type\":\"CDSView\"}},\"id\":\"067cddba-db87-4a34-8921-9efefd97bc16\",\"type\":\"GlyphRenderer\"},{\"attributes\":{},\"id\":\"5e36337b-de97-439e-a905-14af619c399f\",\"type\":\"CategoricalTickFormatter\"},{\"attributes\":{\"plot\":null,\"text\":\"Race and Fatality of Armed Subjects (Austin, San Antonio, Dallas)\"},\"id\":\"07c51374-88f4-4215-a11d-7ebb04684460\",\"type\":\"Title\"},{\"attributes\":{\"source\":{\"id\":\"cfc98cfd-73c4-4f09-9fac-3d0e810a96ac\",\"type\":\"ColumnDataSource\"}},\"id\":\"d4b16d4c-c09e-4e0f-afcd-4092500c4fcf\",\"type\":\"CDSView\"},{\"attributes\":{\"fill_alpha\":{\"value\":0.1},\"fill_color\":{\"value\":\"#1f77b4\"},\"height\":{\"value\":0.5},\"left\":{\"expr\":{\"id\":\"000e9a8d-ac75-48f3-abc0-81280397e9e5\",\"type\":\"Stack\"}},\"line_alpha\":{\"value\":0.1},\"line_color\":{\"value\":\"#1f77b4\"},\"right\":{\"expr\":{\"id\":\"5f5a2c8d-d8d8-45a0-af2f-8ef20b7fbb75\",\"type\":\"Stack\"}},\"y\":{\"field\":\"Race\"}},\"id\":\"7c94983a-6cbf-453f-b9ac-5f44f96fff0a\",\"type\":\"HBar\"},{\"attributes\":{\"label\":{\"value\":\"Fatal\"},\"renderers\":[{\"id\":\"b1211f28-d32f-4542-ae09-22d108cc105e\",\"type\":\"GlyphRenderer\"}]},\"id\":\"3c34b121-e906-415c-9b05-9cfaa8055746\",\"type\":\"LegendItem\"}],\"root_ids\":[\"2c85e4fd-b1ce-4d85-9989-d125ff4854f5\"]},\"title\":\"Bokeh Application\",\"version\":\"0.12.13\"}};\n",
       "  var render_items = [{\"docid\":\"e971e5f4-0852-47f3-a7b9-9fc238f4973c\",\"elementid\":\"eb66a1f7-e4e2-451a-b629-aed87813607f\",\"modelid\":\"2c85e4fd-b1ce-4d85-9989-d125ff4854f5\"}];\n",
       "  root.Bokeh.embed.embed_items_notebook(docs_json, render_items);\n",
       "\n",
       "  }\n",
       "  if (root.Bokeh !== undefined) {\n",
       "    embed_document(root);\n",
       "  } else {\n",
       "    var attempts = 0;\n",
       "    var timer = setInterval(function(root) {\n",
       "      if (root.Bokeh !== undefined) {\n",
       "        embed_document(root);\n",
       "        clearInterval(timer);\n",
       "      }\n",
       "      attempts++;\n",
       "      if (attempts > 100) {\n",
       "        console.log(\"Bokeh: ERROR: Unable to run BokehJS code because BokehJS library is missing\")\n",
       "        clearInterval(timer);\n",
       "      }\n",
       "    }, 10, root)\n",
       "  }\n",
       "})(window);"
      ],
      "application/vnd.bokehjs_exec.v0+json": ""
     },
     "metadata": {
      "application/vnd.bokehjs_exec.v0+json": {
       "id": "2c85e4fd-b1ce-4d85-9989-d125ff4854f5"
      }
     },
     "output_type": "display_data"
    }
   ],
   "source": [
    "#stacked horizontal bar graph of Unarmed shootings, exclusing Houston PD, broken down by Race and Fatality\n",
    "col = noarmnat.columns\n",
    "data= {'Race': list(noarmnat.index), 'Fatal' : noarmnat['Fatal'].values, 'Not Fatal': noarmnat['Not Fatal'].values}\n",
    "       \n",
    "source = ColumnDataSource(data=data)\n",
    "\n",
    "k = figure(y_range= data['Race'], plot_height=300,plot_width=900, title=\"Race and Fatality of Armed Subjects (Austin, San Antonio, Dallas)\", x_axis_label='Number of Incidents',\n",
    "           toolbar_location=None, tools=\"\")\n",
    "\n",
    "k.hbar_stack(col, y= 'Race', height=0.5, color=['red','blue'], source=source,\n",
    "             legend=[value(x) for x in col])\n",
    "\n",
    "k.x_range.start = 0\n",
    "k.x_range.end = 200\n",
    "k.y_range.range_padding = 0.1\n",
    "k.xgrid.grid_line_color = None\n",
    "k.axis.minor_tick_line_color = None\n",
    "k.outline_line_color = None\n",
    "k.legend.location = \"top_right\"\n",
    "k.legend.orientation = \"vertical\"\n",
    "\n",
    "show(k)"
   ]
  },
  {
   "cell_type": "markdown",
   "metadata": {},
   "source": [
    "## The same effect of more white subjects killed, despite a higher number of Black subjects, is still found even when excluding Houston PD, but the effect is less weaker"
   ]
  },
  {
   "cell_type": "code",
   "execution_count": 47,
   "metadata": {},
   "outputs": [],
   "source": [
    "#create new column in Armed df, coding all \"NatureOfStop\" values as \"violent\", \"non-violent\" or \"unknown\"\n",
    "# \"violence\" label was determined by author's jugdgment and based on terms like \"aggrevated\" and \"shooting\"\n",
    "armed['violence'] = armed['NatureOfStop'].map({'Domestic Disturbance': 'u', 'Burglary / home invasion': 'u',\n",
    "       'Shots fired / shooting': 'v', 'Robbery':'u',\n",
    "       'Mental crisis / suicide attempt':'u', 'Weapons disturbance':'v', 'Other':'u',\n",
    "       'Suspicious activity / patrol':'n', 'Suspicious person':'n',\n",
    "       'Warrant Service':'n', 'Suspicious Person':'n', 'Disturbance; firearm':'v',\n",
    "       'Assault; weapons posession; firearms':'v', 'Aggravated robbery':'v',\n",
    "       'Active shooter':'v', 'Aggravated kidnapping':'v', 'Shots fired':'v',\n",
    "       'Felony fugitive':'u', 'Narcotics':'n', 'Traffic stop':'n',\n",
    "       'Suspicious behavior':'n', 'aggravated robbery':'v',\n",
    "       'Weapons posession; suicide':'v', 'Disturbance':'n',\n",
    "       'Narcotics; undercover operation':'n', 'Suicide':'u',\n",
    "       'Weapons posession; firearms':'v', 'Drugs':'n', 'Crowd-control; shooting':'v',\n",
    "       \"Drugs; expired driver's license plate\":'n',\n",
    "       'Prostitution; police shooting':'v', 'Drunkeness; weapons posession':'v',\n",
    "       'Shooting':'v', 'Murder':'v', 'Robbery; suspicious behavior':'u',\n",
    "       'Aggraveted assault':'v', 'Weapons posession':'v', 'Major disturbance':'u',\n",
    "       'Complaint; drugs':'n', 'Armed encounter':'v', 'Stolen car':'u',\n",
    "       'Domestic disturbance':'n', 'shooting; police shooting':'v', 'shooting':'v',\n",
    "       'Robbery; police shooting':'v', 'Sex crime':'n', 'hit-and-run':'n',\n",
    "       'Suicide; weapons posession':'v', 'Robbery of officer':'u',\n",
    "       'Vehicle pursuit':'n', nan:'u', 'Property crime':'n',\n",
    "       'Drug suspicion / drug warrant':'n', 'Fight / disorderly conduct':'u',\n",
    "       'Execuition of a warrant \"suspect pulled out a firearm\" https://www.nbcdfw.com/news/local/Shooting-Involving-US-Marshals-in-Fort-Worth-Police-368676191.html': 'v',\n",
    "       'Emergencey call, traffic stop, execuition of warrant':'n',\n",
    "       'Hostage, barrcade of other emergencey situation. \"appeared to be a rifle\" http://www.star-telegram.com/news/local/community/fort-worth/article72475392.html':'v',\n",
    "       'Execution of a warrant':'n',\n",
    "       'Emergencey call or request for assitance':'n', 'Assault':'v', 'Unknown':'u',\n",
    "       'Suspicious activity/Patrol as requested by homeowner':'n',\n",
    "       'Emergency Call or Request for Assistance':'n',\n",
    "       'Stolen Vehicle/Aggravated Robbery Apprehension':'v',\n",
    "       'Suicide in progress':'u', 'Family Disturbance':'n'})"
   ]
  },
  {
   "cell_type": "code",
   "execution_count": 48,
   "metadata": {},
   "outputs": [
    {
     "data": {
      "text/html": [
       "<div>\n",
       "<style scoped>\n",
       "    .dataframe tbody tr th:only-of-type {\n",
       "        vertical-align: middle;\n",
       "    }\n",
       "\n",
       "    .dataframe tbody tr th {\n",
       "        vertical-align: top;\n",
       "    }\n",
       "\n",
       "    .dataframe thead th {\n",
       "        text-align: right;\n",
       "    }\n",
       "</style>\n",
       "<table border=\"1\" class=\"dataframe\">\n",
       "  <thead>\n",
       "    <tr style=\"text-align: right;\">\n",
       "      <th>violence</th>\n",
       "      <th>n</th>\n",
       "      <th>u</th>\n",
       "      <th>v</th>\n",
       "    </tr>\n",
       "    <tr>\n",
       "      <th>SubjectRace</th>\n",
       "      <th></th>\n",
       "      <th></th>\n",
       "      <th></th>\n",
       "    </tr>\n",
       "  </thead>\n",
       "  <tbody>\n",
       "    <tr>\n",
       "      <th>Asian</th>\n",
       "      <td>1.0</td>\n",
       "      <td>NaN</td>\n",
       "      <td>1.0</td>\n",
       "    </tr>\n",
       "    <tr>\n",
       "      <th>Black</th>\n",
       "      <td>12.0</td>\n",
       "      <td>15.0</td>\n",
       "      <td>21.0</td>\n",
       "    </tr>\n",
       "    <tr>\n",
       "      <th>Latino</th>\n",
       "      <td>18.0</td>\n",
       "      <td>14.0</td>\n",
       "      <td>15.0</td>\n",
       "    </tr>\n",
       "    <tr>\n",
       "      <th>Unknown</th>\n",
       "      <td>1.0</td>\n",
       "      <td>3.0</td>\n",
       "      <td>1.0</td>\n",
       "    </tr>\n",
       "    <tr>\n",
       "      <th>White</th>\n",
       "      <td>17.0</td>\n",
       "      <td>26.0</td>\n",
       "      <td>22.0</td>\n",
       "    </tr>\n",
       "  </tbody>\n",
       "</table>\n",
       "</div>"
      ],
      "text/plain": [
       "violence        n     u     v\n",
       "SubjectRace                  \n",
       "Asian         1.0   NaN   1.0\n",
       "Black        12.0  15.0  21.0\n",
       "Latino       18.0  14.0  15.0\n",
       "Unknown       1.0   3.0   1.0\n",
       "White        17.0  26.0  22.0"
      ]
     },
     "execution_count": 48,
     "metadata": {},
     "output_type": "execute_result"
    }
   ],
   "source": [
    "#remove Houston PD from the df and count occurances by Race and new \"violence\" column\n",
    "cause =armed[armed.city != 'Houston']\n",
    "cause = cause.groupby('SubjectRace').violence.value_counts().unstack()\n",
    "cause"
   ]
  },
  {
   "cell_type": "markdown",
   "metadata": {},
   "source": [
    "## The distribution of violent vs not appears to be fairly equal between races, however this analysis may be flawed since the instances were categorize based on \"Nature of Stop\" alone, and not based on a full narrative."
   ]
  },
  {
   "cell_type": "code",
   "execution_count": null,
   "metadata": {},
   "outputs": [],
   "source": []
  },
  {
   "cell_type": "code",
   "execution_count": null,
   "metadata": {},
   "outputs": [],
   "source": []
  },
  {
   "cell_type": "markdown",
   "metadata": {},
   "source": [
    "# Preparing data for modeling"
   ]
  },
  {
   "cell_type": "code",
   "execution_count": 91,
   "metadata": {},
   "outputs": [],
   "source": [
    "# Convert the categorical inputs of somefeatures/columns in \"cust\" df to numerical nature\n",
    "newcust = pd.DataFrame()\n",
    "\n",
    "numeric = LabelEncoder()\n",
    "newcust['dept']=numeric.fit_transform(cust['Department Name'].astype('str'))\n",
    "newcust['custody_type']=numeric.fit_transform(cust['Custody Type'].astype('str'))\n",
    "newcust['facility']=numeric.fit_transform(cust['Custody Type Facility'].astype('str'))\n",
    "newcust['race']=numeric.fit_transform(cust['Ethnicity'].astype('str'))\n",
    "newcust['sex']=numeric.fit_transform(cust['Sex'].astype('str'))\n",
    "newcust['death_type']=numeric.fit_transform(cust['Manner Death'].astype('str'))\n",
    "newcust['charge_status']=numeric.fit_transform(cust['Charges Status'].astype('str'))\n",
    "\n",
    "#copy numeric columns from \"cust\" to \"newcust\"\n",
    "newcust['age']=cust['Age']\n",
    "newcust['year']=cust['year']\n",
    "newcust['month']=cust['month']"
   ]
  },
  {
   "cell_type": "code",
   "execution_count": 88,
   "metadata": {
    "scrolled": false
   },
   "outputs": [
    {
     "data": {
      "text/html": [
       "<div>\n",
       "<style scoped>\n",
       "    .dataframe tbody tr th:only-of-type {\n",
       "        vertical-align: middle;\n",
       "    }\n",
       "\n",
       "    .dataframe tbody tr th {\n",
       "        vertical-align: top;\n",
       "    }\n",
       "\n",
       "    .dataframe thead th {\n",
       "        text-align: right;\n",
       "    }\n",
       "</style>\n",
       "<table border=\"1\" class=\"dataframe\">\n",
       "  <thead>\n",
       "    <tr style=\"text-align: right;\">\n",
       "      <th></th>\n",
       "      <th>dept</th>\n",
       "      <th>custody_type</th>\n",
       "      <th>facility</th>\n",
       "      <th>race</th>\n",
       "      <th>sex</th>\n",
       "      <th>death_type</th>\n",
       "      <th>charge_status</th>\n",
       "      <th>age</th>\n",
       "      <th>year</th>\n",
       "      <th>month</th>\n",
       "    </tr>\n",
       "  </thead>\n",
       "  <tbody>\n",
       "    <tr>\n",
       "      <th>0</th>\n",
       "      <td>389</td>\n",
       "      <td>2</td>\n",
       "      <td>134</td>\n",
       "      <td>4</td>\n",
       "      <td>1</td>\n",
       "      <td>5</td>\n",
       "      <td>0</td>\n",
       "      <td>58.0</td>\n",
       "      <td>2012</td>\n",
       "      <td>9</td>\n",
       "    </tr>\n",
       "    <tr>\n",
       "      <th>1</th>\n",
       "      <td>389</td>\n",
       "      <td>2</td>\n",
       "      <td>115</td>\n",
       "      <td>3</td>\n",
       "      <td>1</td>\n",
       "      <td>5</td>\n",
       "      <td>0</td>\n",
       "      <td>76.0</td>\n",
       "      <td>2016</td>\n",
       "      <td>9</td>\n",
       "    </tr>\n",
       "    <tr>\n",
       "      <th>2</th>\n",
       "      <td>175</td>\n",
       "      <td>1</td>\n",
       "      <td>0</td>\n",
       "      <td>4</td>\n",
       "      <td>1</td>\n",
       "      <td>6</td>\n",
       "      <td>2</td>\n",
       "      <td>30.0</td>\n",
       "      <td>2016</td>\n",
       "      <td>12</td>\n",
       "    </tr>\n",
       "    <tr>\n",
       "      <th>3</th>\n",
       "      <td>389</td>\n",
       "      <td>2</td>\n",
       "      <td>60</td>\n",
       "      <td>1</td>\n",
       "      <td>1</td>\n",
       "      <td>1</td>\n",
       "      <td>0</td>\n",
       "      <td>39.0</td>\n",
       "      <td>2011</td>\n",
       "      <td>11</td>\n",
       "    </tr>\n",
       "    <tr>\n",
       "      <th>4</th>\n",
       "      <td>389</td>\n",
       "      <td>2</td>\n",
       "      <td>77</td>\n",
       "      <td>1</td>\n",
       "      <td>1</td>\n",
       "      <td>5</td>\n",
       "      <td>0</td>\n",
       "      <td>31.0</td>\n",
       "      <td>2014</td>\n",
       "      <td>12</td>\n",
       "    </tr>\n",
       "  </tbody>\n",
       "</table>\n",
       "</div>"
      ],
      "text/plain": [
       "   dept  custody_type  facility  race  sex  death_type  charge_status   age  \\\n",
       "0   389             2       134     4    1           5              0  58.0   \n",
       "1   389             2       115     3    1           5              0  76.0   \n",
       "2   175             1         0     4    1           6              2  30.0   \n",
       "3   389             2        60     1    1           1              0  39.0   \n",
       "4   389             2        77     1    1           5              0  31.0   \n",
       "\n",
       "   year  month  \n",
       "0  2012      9  \n",
       "1  2016      9  \n",
       "2  2016     12  \n",
       "3  2011     11  \n",
       "4  2014     12  "
      ]
     },
     "execution_count": 88,
     "metadata": {},
     "output_type": "execute_result"
    }
   ],
   "source": [
    "newcust.head()"
   ]
  },
  {
   "cell_type": "code",
   "execution_count": 51,
   "metadata": {},
   "outputs": [
    {
     "data": {
      "text/plain": [
       "dept             False\n",
       "custody_type     False\n",
       "facility         False\n",
       "race             False\n",
       "sex              False\n",
       "death_type       False\n",
       "charge_status    False\n",
       "age               True\n",
       "year             False\n",
       "month            False\n",
       "dtype: bool"
      ]
     },
     "execution_count": 51,
     "metadata": {},
     "output_type": "execute_result"
    }
   ],
   "source": [
    "newcust.isna().any()"
   ]
  },
  {
   "cell_type": "code",
   "execution_count": 89,
   "metadata": {},
   "outputs": [],
   "source": [
    "#fill NaN values in \"age\" column with mean of existing values in age column\n",
    "newcust['age'] = newcust.age.fillna(newcust.age.mean())"
   ]
  },
  {
   "cell_type": "code",
   "execution_count": 90,
   "metadata": {
    "scrolled": false
   },
   "outputs": [
    {
     "data": {
      "text/plain": [
       "NormaltestResult(statistic=array([ 1792.38045006,  1122.88841694,  2350.91061539,  2108.89964148,\n",
       "        6078.30552903,   935.79731322,  2010.91184425,   147.79958534,\n",
       "        9321.4755425 ,  7475.51772874]), pvalue=array([  0.00000000e+000,   1.47190020e-244,   0.00000000e+000,\n",
       "         0.00000000e+000,   0.00000000e+000,   6.22580257e-204,\n",
       "         0.00000000e+000,   8.04873873e-033,   0.00000000e+000,\n",
       "         0.00000000e+000]))"
      ]
     },
     "execution_count": 90,
     "metadata": {},
     "output_type": "execute_result"
    }
   ],
   "source": [
    "#check normalcy of the variables\n",
    "import scipy\n",
    "scipy.stats.normaltest(newcust)"
   ]
  },
  {
   "cell_type": "markdown",
   "metadata": {},
   "source": [
    "The p-values for this test are all 0, or essentially 0, meaning none of the variables are normally distributed, so non-parametric tests should be used (Spearman's R)"
   ]
  },
  {
   "cell_type": "code",
   "execution_count": 96,
   "metadata": {},
   "outputs": [
    {
     "data": {
      "text/plain": [
       "<matplotlib.axes._subplots.AxesSubplot at 0x22223c985f8>"
      ]
     },
     "execution_count": 96,
     "metadata": {},
     "output_type": "execute_result"
    },
    {
     "data": {
      "image/png": "[encoded data removed]",
      "text/plain": [
       "<matplotlib.figure.Figure at 0x22223cae710>"
      ]
     },
     "metadata": {},
     "output_type": "display_data"
    }
   ],
   "source": [
    "#visualized 'heatmap' of correlations between the variables in the \"newcust\" df\n",
    "corrmat= newcust.corr(method = 'spearman')\n",
    "sns.heatmap(corrmat, square=True)"
   ]
  },
  {
   "cell_type": "code",
   "execution_count": 97,
   "metadata": {},
   "outputs": [],
   "source": [
    "# Convert the categorical inputs of data features/columns in \"shoot\" df to numerical nature\n",
    "newshoot = pd.DataFrame()\n",
    "\n",
    "#copy numeric columns from \"cust\" to \"newcust\"\n",
    "newshoot['age']= shoot['SubjectAge']\n",
    "newshoot['number_officers']= shoot['NumberOfOfficers']\n",
    "\n",
    "numeric = LabelEncoder()\n",
    "newshoot['fatality']=numeric.fit_transform(shoot['Fatal'].astype('str'))\n",
    "newshoot['armed']=numeric.fit_transform(shoot['SubjectArmed'].astype('str'))\n",
    "newshoot['race']=numeric.fit_transform(shoot['SubjectRace'].astype('str'))\n",
    "newshoot['sex']=numeric.fit_transform(shoot['SubjectGender'].astype('str'))\n",
    "newshoot['stop_reason']=numeric.fit_transform(shoot['NatureOfStop'].astype('str'))\n",
    "newshoot['officer_race']=numeric.fit_transform(shoot['OfficerRace'].astype('str'))\n",
    "newshoot['dept']= numeric.fit_transform(shoot['Department'].astype('str'))\n",
    "\n",
    "#create year and month columns pulled from the date column in the original df\n",
    "newshoot['year'] = pd.DatetimeIndex(shoot['Date']).year\n",
    "newshoot['month'] = pd.DatetimeIndex(shoot['Date']).month"
   ]
  },
  {
   "cell_type": "code",
   "execution_count": 103,
   "metadata": {
    "scrolled": true
   },
   "outputs": [
    {
     "data": {
      "text/html": [
       "<div>\n",
       "<style scoped>\n",
       "    .dataframe tbody tr th:only-of-type {\n",
       "        vertical-align: middle;\n",
       "    }\n",
       "\n",
       "    .dataframe tbody tr th {\n",
       "        vertical-align: top;\n",
       "    }\n",
       "\n",
       "    .dataframe thead th {\n",
       "        text-align: right;\n",
       "    }\n",
       "</style>\n",
       "<table border=\"1\" class=\"dataframe\">\n",
       "  <thead>\n",
       "    <tr style=\"text-align: right;\">\n",
       "      <th></th>\n",
       "      <th>age</th>\n",
       "      <th>number_officers</th>\n",
       "      <th>fatality</th>\n",
       "      <th>armed</th>\n",
       "      <th>race</th>\n",
       "      <th>sex</th>\n",
       "      <th>stop_reason</th>\n",
       "      <th>officer_race</th>\n",
       "      <th>dept</th>\n",
       "      <th>year</th>\n",
       "      <th>month</th>\n",
       "    </tr>\n",
       "  </thead>\n",
       "  <tbody>\n",
       "    <tr>\n",
       "      <th>103</th>\n",
       "      <td>26.0</td>\n",
       "      <td>1.0</td>\n",
       "      <td>0</td>\n",
       "      <td>2</td>\n",
       "      <td>4</td>\n",
       "      <td>1</td>\n",
       "      <td>23</td>\n",
       "      <td>13</td>\n",
       "      <td>0</td>\n",
       "      <td>2010</td>\n",
       "      <td>9</td>\n",
       "    </tr>\n",
       "    <tr>\n",
       "      <th>104</th>\n",
       "      <td>16.0</td>\n",
       "      <td>1.0</td>\n",
       "      <td>0</td>\n",
       "      <td>2</td>\n",
       "      <td>2</td>\n",
       "      <td>1</td>\n",
       "      <td>13</td>\n",
       "      <td>40</td>\n",
       "      <td>0</td>\n",
       "      <td>2010</td>\n",
       "      <td>10</td>\n",
       "    </tr>\n",
       "    <tr>\n",
       "      <th>105</th>\n",
       "      <td>26.0</td>\n",
       "      <td>2.0</td>\n",
       "      <td>0</td>\n",
       "      <td>2</td>\n",
       "      <td>0</td>\n",
       "      <td>1</td>\n",
       "      <td>66</td>\n",
       "      <td>48</td>\n",
       "      <td>0</td>\n",
       "      <td>2010</td>\n",
       "      <td>11</td>\n",
       "    </tr>\n",
       "    <tr>\n",
       "      <th>106</th>\n",
       "      <td>35.0</td>\n",
       "      <td>1.0</td>\n",
       "      <td>0</td>\n",
       "      <td>0</td>\n",
       "      <td>4</td>\n",
       "      <td>1</td>\n",
       "      <td>86</td>\n",
       "      <td>5</td>\n",
       "      <td>0</td>\n",
       "      <td>2010</td>\n",
       "      <td>12</td>\n",
       "    </tr>\n",
       "    <tr>\n",
       "      <th>107</th>\n",
       "      <td>30.0</td>\n",
       "      <td>1.0</td>\n",
       "      <td>0</td>\n",
       "      <td>2</td>\n",
       "      <td>2</td>\n",
       "      <td>1</td>\n",
       "      <td>66</td>\n",
       "      <td>13</td>\n",
       "      <td>0</td>\n",
       "      <td>2011</td>\n",
       "      <td>5</td>\n",
       "    </tr>\n",
       "  </tbody>\n",
       "</table>\n",
       "</div>"
      ],
      "text/plain": [
       "      age  number_officers  fatality  armed  race  sex  stop_reason  \\\n",
       "103  26.0              1.0         0      2     4    1           23   \n",
       "104  16.0              1.0         0      2     2    1           13   \n",
       "105  26.0              2.0         0      2     0    1           66   \n",
       "106  35.0              1.0         0      0     4    1           86   \n",
       "107  30.0              1.0         0      2     2    1           66   \n",
       "\n",
       "     officer_race  dept  year  month  \n",
       "103            13     0  2010      9  \n",
       "104            40     0  2010     10  \n",
       "105            48     0  2010     11  \n",
       "106             5     0  2010     12  \n",
       "107            13     0  2011      5  "
      ]
     },
     "execution_count": 103,
     "metadata": {},
     "output_type": "execute_result"
    }
   ],
   "source": [
    "newshoot.head()"
   ]
  },
  {
   "cell_type": "code",
   "execution_count": 56,
   "metadata": {},
   "outputs": [
    {
     "data": {
      "text/plain": [
       "age                475\n",
       "number_officers    626\n",
       "fatality           640\n",
       "armed              640\n",
       "race               640\n",
       "sex                640\n",
       "stop_reason        640\n",
       "officer_race       640\n",
       "dept               640\n",
       "year               640\n",
       "month              640\n",
       "dtype: int64"
      ]
     },
     "execution_count": 56,
     "metadata": {},
     "output_type": "execute_result"
    }
   ],
   "source": [
    "newshoot.count()"
   ]
  },
  {
   "cell_type": "code",
   "execution_count": 57,
   "metadata": {
    "scrolled": true
   },
   "outputs": [
    {
     "data": {
      "text/plain": [
       "1            460\n",
       "2            106\n",
       "3             34\n",
       "4              9\n",
       "6              7\n",
       "5              5\n",
       "2 or More      2\n",
       "9              1\n",
       "12             1\n",
       "16             1\n",
       "Name: number_officers, dtype: int64"
      ]
     },
     "execution_count": 57,
     "metadata": {},
     "output_type": "execute_result"
    }
   ],
   "source": [
    "#checking for non-numeric values\n",
    "newshoot.number_officers.value_counts()"
   ]
  },
  {
   "cell_type": "code",
   "execution_count": 58,
   "metadata": {},
   "outputs": [
    {
     "data": {
      "text/plain": [
       "26          27\n",
       "U           26\n",
       "32          22\n",
       "21          21\n",
       "22          21\n",
       "29          20\n",
       "34          20\n",
       "23          18\n",
       "24          17\n",
       "35          16\n",
       "30          15\n",
       "20          15\n",
       "37          14\n",
       "31          14\n",
       "33          14\n",
       "28          13\n",
       "19          13\n",
       "25          13\n",
       "18          12\n",
       "47          11\n",
       "46          10\n",
       "27           9\n",
       "17           8\n",
       "41           7\n",
       "38           7\n",
       "40           7\n",
       "36           6\n",
       "42           6\n",
       "39           6\n",
       "53           6\n",
       "44           5\n",
       "54           5\n",
       "45           4\n",
       "55           4\n",
       "51           4\n",
       "49           3\n",
       "50           3\n",
       "43           3\n",
       "48           3\n",
       "60           3\n",
       "57           3\n",
       "52           3\n",
       "63           2\n",
       "70           2\n",
       "Juvenile     2\n",
       "69           2\n",
       "15           2\n",
       "56           2\n",
       "16           1\n",
       "61           1\n",
       "62           1\n",
       "58           1\n",
       "59           1\n",
       "72           1\n",
       "Name: age, dtype: int64"
      ]
     },
     "execution_count": 58,
     "metadata": {},
     "output_type": "execute_result"
    }
   ],
   "source": [
    "#check for non-numeric values\n",
    "newshoot.age.value_counts()"
   ]
  },
  {
   "cell_type": "code",
   "execution_count": 98,
   "metadata": {},
   "outputs": [],
   "source": [
    "#replace instances of '2 or More' with \"2\"\n",
    "newshoot.loc[newshoot['number_officers'] == '2 or More', 'number_officers'] = '2'\n",
    "\n",
    "#replace instances of \"U\" with NaN\n",
    "newshoot.loc[newshoot['age'] == 'U', 'age'] = np.nan\n",
    "\n",
    "#replace instances of \"Juvenile\" with \"15\"\n",
    "newshoot.loc[newshoot['age'] == 'Juvenile', 'age'] = '15' "
   ]
  },
  {
   "cell_type": "code",
   "execution_count": 99,
   "metadata": {},
   "outputs": [],
   "source": [
    "#change all column types to numeric\n",
    "newshoot = newshoot.apply(pd.to_numeric, errors='coerce')"
   ]
  },
  {
   "cell_type": "code",
   "execution_count": 100,
   "metadata": {},
   "outputs": [],
   "source": [
    "#fill NaN values in Age column with mean of existing values in Age column\n",
    "newshoot['age'] = newshoot.age.fillna(newshoot.age.mean())"
   ]
  },
  {
   "cell_type": "code",
   "execution_count": 101,
   "metadata": {},
   "outputs": [],
   "source": [
    "#fill NaN values in Number of Officers column with integer version of mean of existing values in column\n",
    "newshoot['number_officers'] = newshoot.number_officers.fillna(int(newshoot.number_officers.mean()))"
   ]
  },
  {
   "cell_type": "code",
   "execution_count": null,
   "metadata": {},
   "outputs": [],
   "source": []
  },
  {
   "cell_type": "code",
   "execution_count": 105,
   "metadata": {},
   "outputs": [
    {
     "data": {
      "text/plain": [
       "NormaltestResult(statistic=array([  1.26580240e+02,   7.70129530e+02,   7.29407544e+01,\n",
       "         3.84227853e-01,   2.45805020e+02,   1.00343437e+02,\n",
       "         8.16392564e+01,   1.18852428e+01,   1.22530099e+02,\n",
       "         3.01887741e+02,   6.54826235e+02]), pvalue=array([  3.26174573e-028,   5.86809934e-168,   1.44916028e-016,\n",
       "         8.25212849e-001,   4.20841120e-054,   1.62442421e-022,\n",
       "         1.87180547e-018,   2.62513902e-003,   2.47130873e-027,\n",
       "         2.79196520e-066,   6.40161710e-143]))"
      ]
     },
     "execution_count": 105,
     "metadata": {},
     "output_type": "execute_result"
    }
   ],
   "source": [
    "#check normalcy of the variables\n",
    "scipy.stats.normaltest(newshoot)"
   ]
  },
  {
   "cell_type": "markdown",
   "metadata": {},
   "source": [
    "The p-values for this test are all 0, or essentially 0, meaning none of the variables are normally distributed, so non-parametric tests should be used (Spearman's R)"
   ]
  },
  {
   "cell_type": "code",
   "execution_count": 106,
   "metadata": {},
   "outputs": [
    {
     "data": {
      "text/plain": [
       "<matplotlib.axes._subplots.AxesSubplot at 0x22223caee80>"
      ]
     },
     "execution_count": 106,
     "metadata": {},
     "output_type": "execute_result"
    },
    {
     "data": {
      "image/png": "[encoded data removed]",
      "text/plain": [
       "<matplotlib.figure.Figure at 0x22223665a90>"
      ]
     },
     "metadata": {},
     "output_type": "display_data"
    }
   ],
   "source": [
    "#visualized 'heatmap' of correlations between the variables in the \"newshoot\" df\n",
    "corrmat= newshoot.corr(method='spearman')\n",
    "sns.heatmap(corrmat, square=True)"
   ]
  },
  {
   "cell_type": "code",
   "execution_count": null,
   "metadata": {},
   "outputs": [],
   "source": []
  },
  {
   "cell_type": "markdown",
   "metadata": {},
   "source": [
    "## Feature reduction/engineering"
   ]
  },
  {
   "cell_type": "code",
   "execution_count": 64,
   "metadata": {},
   "outputs": [
    {
     "data": {
      "text/html": [
       "<div>\n",
       "<style scoped>\n",
       "    .dataframe tbody tr th:only-of-type {\n",
       "        vertical-align: middle;\n",
       "    }\n",
       "\n",
       "    .dataframe tbody tr th {\n",
       "        vertical-align: top;\n",
       "    }\n",
       "\n",
       "    .dataframe thead th {\n",
       "        text-align: right;\n",
       "    }\n",
       "</style>\n",
       "<table border=\"1\" class=\"dataframe\">\n",
       "  <thead>\n",
       "    <tr style=\"text-align: right;\">\n",
       "      <th></th>\n",
       "      <th>dept</th>\n",
       "      <th>custody_type</th>\n",
       "      <th>facility</th>\n",
       "      <th>race</th>\n",
       "      <th>sex</th>\n",
       "      <th>death_type</th>\n",
       "      <th>charge_status</th>\n",
       "      <th>age</th>\n",
       "      <th>year</th>\n",
       "      <th>month</th>\n",
       "    </tr>\n",
       "  </thead>\n",
       "  <tbody>\n",
       "    <tr>\n",
       "      <th>0</th>\n",
       "      <td>389</td>\n",
       "      <td>2</td>\n",
       "      <td>134</td>\n",
       "      <td>4</td>\n",
       "      <td>1</td>\n",
       "      <td>5</td>\n",
       "      <td>0</td>\n",
       "      <td>58.0</td>\n",
       "      <td>2012</td>\n",
       "      <td>9</td>\n",
       "    </tr>\n",
       "    <tr>\n",
       "      <th>1</th>\n",
       "      <td>389</td>\n",
       "      <td>2</td>\n",
       "      <td>115</td>\n",
       "      <td>3</td>\n",
       "      <td>1</td>\n",
       "      <td>5</td>\n",
       "      <td>0</td>\n",
       "      <td>76.0</td>\n",
       "      <td>2016</td>\n",
       "      <td>9</td>\n",
       "    </tr>\n",
       "    <tr>\n",
       "      <th>2</th>\n",
       "      <td>175</td>\n",
       "      <td>1</td>\n",
       "      <td>0</td>\n",
       "      <td>4</td>\n",
       "      <td>1</td>\n",
       "      <td>6</td>\n",
       "      <td>2</td>\n",
       "      <td>30.0</td>\n",
       "      <td>2016</td>\n",
       "      <td>12</td>\n",
       "    </tr>\n",
       "    <tr>\n",
       "      <th>3</th>\n",
       "      <td>389</td>\n",
       "      <td>2</td>\n",
       "      <td>60</td>\n",
       "      <td>1</td>\n",
       "      <td>1</td>\n",
       "      <td>1</td>\n",
       "      <td>0</td>\n",
       "      <td>39.0</td>\n",
       "      <td>2011</td>\n",
       "      <td>11</td>\n",
       "    </tr>\n",
       "    <tr>\n",
       "      <th>4</th>\n",
       "      <td>389</td>\n",
       "      <td>2</td>\n",
       "      <td>77</td>\n",
       "      <td>1</td>\n",
       "      <td>1</td>\n",
       "      <td>5</td>\n",
       "      <td>0</td>\n",
       "      <td>31.0</td>\n",
       "      <td>2014</td>\n",
       "      <td>12</td>\n",
       "    </tr>\n",
       "  </tbody>\n",
       "</table>\n",
       "</div>"
      ],
      "text/plain": [
       "   dept  custody_type  facility  race  sex  death_type  charge_status   age  \\\n",
       "0   389             2       134     4    1           5              0  58.0   \n",
       "1   389             2       115     3    1           5              0  76.0   \n",
       "2   175             1         0     4    1           6              2  30.0   \n",
       "3   389             2        60     1    1           1              0  39.0   \n",
       "4   389             2        77     1    1           5              0  31.0   \n",
       "\n",
       "   year  month  \n",
       "0  2012      9  \n",
       "1  2016      9  \n",
       "2  2016     12  \n",
       "3  2011     11  \n",
       "4  2014     12  "
      ]
     },
     "execution_count": 64,
     "metadata": {},
     "output_type": "execute_result"
    }
   ],
   "source": [
    "newcust.head()"
   ]
  },
  {
   "cell_type": "code",
   "execution_count": 65,
   "metadata": {},
   "outputs": [],
   "source": [
    "#\"facility\" does not appear to be a valuable feature of interest\n",
    "newcust.drop('facility', axis=1, inplace=True)"
   ]
  },
  {
   "cell_type": "code",
   "execution_count": 66,
   "metadata": {},
   "outputs": [],
   "source": [
    "#\"charge_status\" does not appear to be a valuable feature of interest\n",
    "newcust.drop('charge_status', axis=1, inplace=True)"
   ]
  },
  {
   "cell_type": "code",
   "execution_count": 67,
   "metadata": {},
   "outputs": [],
   "source": [
    "#\"year\" does not appear to be a valuable feature of interest\n",
    "newcust.drop('year', axis=1, inplace=True)"
   ]
  },
  {
   "cell_type": "code",
   "execution_count": 68,
   "metadata": {},
   "outputs": [],
   "source": [
    "#\"month\" does not appear to be a valuable feature of interest\n",
    "newcust.drop('month', axis=1, inplace=True)"
   ]
  },
  {
   "cell_type": "code",
   "execution_count": 69,
   "metadata": {},
   "outputs": [],
   "source": [
    "#\"dept\" is an \"id\" variable that may invalidate results\n",
    "newcust.drop('dept', axis=1, inplace=True)"
   ]
  },
  {
   "cell_type": "code",
   "execution_count": 70,
   "metadata": {
    "scrolled": true
   },
   "outputs": [
    {
     "data": {
      "text/plain": [
       "1    7313\n",
       "0     416\n",
       "Name: sex, dtype: int64"
      ]
     },
     "execution_count": 70,
     "metadata": {},
     "output_type": "execute_result"
    }
   ],
   "source": [
    "newcust.sex.value_counts()"
   ]
  },
  {
   "cell_type": "code",
   "execution_count": 71,
   "metadata": {},
   "outputs": [],
   "source": [
    "# because there is very little variance in the \"sex\" feature it is dropped\n",
    "newcust.drop('sex', axis=1, inplace=True)"
   ]
  },
  {
   "cell_type": "code",
   "execution_count": 72,
   "metadata": {},
   "outputs": [
    {
     "data": {
      "text/html": [
       "<div>\n",
       "<style scoped>\n",
       "    .dataframe tbody tr th:only-of-type {\n",
       "        vertical-align: middle;\n",
       "    }\n",
       "\n",
       "    .dataframe tbody tr th {\n",
       "        vertical-align: top;\n",
       "    }\n",
       "\n",
       "    .dataframe thead th {\n",
       "        text-align: right;\n",
       "    }\n",
       "</style>\n",
       "<table border=\"1\" class=\"dataframe\">\n",
       "  <thead>\n",
       "    <tr style=\"text-align: right;\">\n",
       "      <th></th>\n",
       "      <th>custody_type</th>\n",
       "      <th>race</th>\n",
       "      <th>death_type</th>\n",
       "      <th>age</th>\n",
       "    </tr>\n",
       "  </thead>\n",
       "  <tbody>\n",
       "    <tr>\n",
       "      <th>0</th>\n",
       "      <td>2</td>\n",
       "      <td>4</td>\n",
       "      <td>5</td>\n",
       "      <td>58.0</td>\n",
       "    </tr>\n",
       "    <tr>\n",
       "      <th>1</th>\n",
       "      <td>2</td>\n",
       "      <td>3</td>\n",
       "      <td>5</td>\n",
       "      <td>76.0</td>\n",
       "    </tr>\n",
       "    <tr>\n",
       "      <th>2</th>\n",
       "      <td>1</td>\n",
       "      <td>4</td>\n",
       "      <td>6</td>\n",
       "      <td>30.0</td>\n",
       "    </tr>\n",
       "    <tr>\n",
       "      <th>3</th>\n",
       "      <td>2</td>\n",
       "      <td>1</td>\n",
       "      <td>1</td>\n",
       "      <td>39.0</td>\n",
       "    </tr>\n",
       "    <tr>\n",
       "      <th>4</th>\n",
       "      <td>2</td>\n",
       "      <td>1</td>\n",
       "      <td>5</td>\n",
       "      <td>31.0</td>\n",
       "    </tr>\n",
       "  </tbody>\n",
       "</table>\n",
       "</div>"
      ],
      "text/plain": [
       "   custody_type  race  death_type   age\n",
       "0             2     4           5  58.0\n",
       "1             2     3           5  76.0\n",
       "2             1     4           6  30.0\n",
       "3             2     1           1  39.0\n",
       "4             2     1           5  31.0"
      ]
     },
     "execution_count": 72,
     "metadata": {},
     "output_type": "execute_result"
    }
   ],
   "source": [
    "newcust.head()"
   ]
  },
  {
   "cell_type": "code",
   "execution_count": null,
   "metadata": {},
   "outputs": [],
   "source": []
  },
  {
   "cell_type": "code",
   "execution_count": 73,
   "metadata": {
    "scrolled": false
   },
   "outputs": [
    {
     "data": {
      "text/html": [
       "<div>\n",
       "<style scoped>\n",
       "    .dataframe tbody tr th:only-of-type {\n",
       "        vertical-align: middle;\n",
       "    }\n",
       "\n",
       "    .dataframe tbody tr th {\n",
       "        vertical-align: top;\n",
       "    }\n",
       "\n",
       "    .dataframe thead th {\n",
       "        text-align: right;\n",
       "    }\n",
       "</style>\n",
       "<table border=\"1\" class=\"dataframe\">\n",
       "  <thead>\n",
       "    <tr style=\"text-align: right;\">\n",
       "      <th></th>\n",
       "      <th>age</th>\n",
       "      <th>number_officers</th>\n",
       "      <th>fatality</th>\n",
       "      <th>armed</th>\n",
       "      <th>race</th>\n",
       "      <th>sex</th>\n",
       "      <th>stop_reason</th>\n",
       "      <th>officer_race</th>\n",
       "      <th>dept</th>\n",
       "      <th>year</th>\n",
       "      <th>month</th>\n",
       "    </tr>\n",
       "  </thead>\n",
       "  <tbody>\n",
       "    <tr>\n",
       "      <th>103</th>\n",
       "      <td>26.0</td>\n",
       "      <td>1.0</td>\n",
       "      <td>0</td>\n",
       "      <td>2</td>\n",
       "      <td>4</td>\n",
       "      <td>1</td>\n",
       "      <td>23</td>\n",
       "      <td>13</td>\n",
       "      <td>0</td>\n",
       "      <td>2010</td>\n",
       "      <td>9</td>\n",
       "    </tr>\n",
       "    <tr>\n",
       "      <th>104</th>\n",
       "      <td>16.0</td>\n",
       "      <td>1.0</td>\n",
       "      <td>0</td>\n",
       "      <td>2</td>\n",
       "      <td>2</td>\n",
       "      <td>1</td>\n",
       "      <td>13</td>\n",
       "      <td>40</td>\n",
       "      <td>0</td>\n",
       "      <td>2010</td>\n",
       "      <td>10</td>\n",
       "    </tr>\n",
       "    <tr>\n",
       "      <th>105</th>\n",
       "      <td>26.0</td>\n",
       "      <td>2.0</td>\n",
       "      <td>0</td>\n",
       "      <td>2</td>\n",
       "      <td>0</td>\n",
       "      <td>1</td>\n",
       "      <td>66</td>\n",
       "      <td>48</td>\n",
       "      <td>0</td>\n",
       "      <td>2010</td>\n",
       "      <td>11</td>\n",
       "    </tr>\n",
       "    <tr>\n",
       "      <th>106</th>\n",
       "      <td>35.0</td>\n",
       "      <td>1.0</td>\n",
       "      <td>0</td>\n",
       "      <td>0</td>\n",
       "      <td>4</td>\n",
       "      <td>1</td>\n",
       "      <td>86</td>\n",
       "      <td>5</td>\n",
       "      <td>0</td>\n",
       "      <td>2010</td>\n",
       "      <td>12</td>\n",
       "    </tr>\n",
       "    <tr>\n",
       "      <th>107</th>\n",
       "      <td>30.0</td>\n",
       "      <td>1.0</td>\n",
       "      <td>0</td>\n",
       "      <td>2</td>\n",
       "      <td>2</td>\n",
       "      <td>1</td>\n",
       "      <td>66</td>\n",
       "      <td>13</td>\n",
       "      <td>0</td>\n",
       "      <td>2011</td>\n",
       "      <td>5</td>\n",
       "    </tr>\n",
       "  </tbody>\n",
       "</table>\n",
       "</div>"
      ],
      "text/plain": [
       "      age  number_officers  fatality  armed  race  sex  stop_reason  \\\n",
       "103  26.0              1.0         0      2     4    1           23   \n",
       "104  16.0              1.0         0      2     2    1           13   \n",
       "105  26.0              2.0         0      2     0    1           66   \n",
       "106  35.0              1.0         0      0     4    1           86   \n",
       "107  30.0              1.0         0      2     2    1           66   \n",
       "\n",
       "     officer_race  dept  year  month  \n",
       "103            13     0  2010      9  \n",
       "104            40     0  2010     10  \n",
       "105            48     0  2010     11  \n",
       "106             5     0  2010     12  \n",
       "107            13     0  2011      5  "
      ]
     },
     "execution_count": 73,
     "metadata": {},
     "output_type": "execute_result"
    }
   ],
   "source": [
    "newshoot.head()"
   ]
  },
  {
   "cell_type": "code",
   "execution_count": 74,
   "metadata": {},
   "outputs": [],
   "source": [
    "# make new column indicating where there was more than one officer involved in the incident\n",
    "newshoot['mult_officers'] = np.where(newshoot.number_officers> 1, 1, 0)"
   ]
  },
  {
   "cell_type": "code",
   "execution_count": 75,
   "metadata": {},
   "outputs": [],
   "source": [
    "# drop \"number of officers\" column as it is now redundant\n",
    "newshoot.drop('number_officers', axis=1, inplace=True)"
   ]
  },
  {
   "cell_type": "code",
   "execution_count": 76,
   "metadata": {},
   "outputs": [],
   "source": [
    "# drop \"Nature of Stop/Reason\" column because there are so many different values/inconsisent\n",
    "newshoot.drop('stop_reason', axis=1, inplace=True)"
   ]
  },
  {
   "cell_type": "code",
   "execution_count": 77,
   "metadata": {},
   "outputs": [
    {
     "data": {
      "text/plain": [
       "1    465\n",
       "3    147\n",
       "2     17\n",
       "0     11\n",
       "Name: sex, dtype: int64"
      ]
     },
     "execution_count": 77,
     "metadata": {},
     "output_type": "execute_result"
    }
   ],
   "source": [
    "newshoot.sex.value_counts()\n",
    "# \"3\" are NaN values, \"2\" are \"unknown\" and \"0\" are female"
   ]
  },
  {
   "cell_type": "code",
   "execution_count": 78,
   "metadata": {},
   "outputs": [],
   "source": [
    "# because there is very little variance in the \"sex\" feature it is dropped\n",
    "newshoot.drop('sex', axis=1, inplace=True)"
   ]
  },
  {
   "cell_type": "code",
   "execution_count": 79,
   "metadata": {},
   "outputs": [
    {
     "data": {
      "text/plain": [
       "W                                  219\n",
       "L                                   99\n",
       "B                                   79\n",
       "H                                   55\n",
       "W;W                                 27\n",
       "A                                   16\n",
       "W;L                                  9\n",
       "L;W                                  7\n",
       "U                                    6\n",
       "W;W;W;W;W;W                          6\n",
       "L;L                                  6\n",
       "W;H                                  5\n",
       "W;U                                  5\n",
       "W,W                                  5\n",
       "H; H                                 4\n",
       "L;W;W                                4\n",
       "W;W;L                                4\n",
       "B;B                                  4\n",
       "B;W                                  3\n",
       "L;A                                  3\n",
       "W;W;W                                3\n",
       "H;W                                  3\n",
       "W;B                                  3\n",
       "H; W                                 2\n",
       "A;L;B                                2\n",
       "W; H                                 2\n",
       "H;W;B                                2\n",
       "W, B, W                              2\n",
       "H;H                                  2\n",
       "W;L;W;W                              2\n",
       "                                  ... \n",
       "H; B; H; W                           1\n",
       "W;W;W;W                              1\n",
       "L;L;W                                1\n",
       "H, W                                 1\n",
       "L;B                                  1\n",
       "H;W;W                                1\n",
       "L; L                                 1\n",
       "H,W                                  1\n",
       "A;L;L                                1\n",
       "B;H;H                                1\n",
       "A;A                                  1\n",
       "H; H; W; H                           1\n",
       "W, H, W, W                           1\n",
       "W, U                                 1\n",
       "W;W;W;W;W;W;H;H;W;W;W;A;H;W;B;H      1\n",
       "W;W:W                                1\n",
       "H, B, W                              1\n",
       "W; O                                 1\n",
       "W;B;W;H;W;A;W;W;W;W;W;B              1\n",
       "W,W,H                                1\n",
       "W;L;U                                1\n",
       "W,W, H                               1\n",
       "U; U; U                              1\n",
       "W;W;W;NA                             1\n",
       "H,H,A                                1\n",
       "B; H                                 1\n",
       "W, B                                 1\n",
       "B;W;W;W;W                            1\n",
       "W;W;A;U;U                            1\n",
       "B, W                                 1\n",
       "Name: OfficerRace, Length: 76, dtype: int64"
      ]
     },
     "execution_count": 79,
     "metadata": {},
     "output_type": "execute_result"
    }
   ],
   "source": [
    "shoot.OfficerRace.value_counts()"
   ]
  },
  {
   "cell_type": "code",
   "execution_count": 80,
   "metadata": {},
   "outputs": [],
   "source": [
    "# drop \"Officer Race\" column because there are so many different values/inconsisent\n",
    "newshoot.drop('officer_race', axis=1, inplace=True)"
   ]
  },
  {
   "cell_type": "code",
   "execution_count": 81,
   "metadata": {},
   "outputs": [],
   "source": [
    "#\"year\" does not appear to be a valuable feature of interest\n",
    "newshoot.drop('year', axis=1, inplace=True)"
   ]
  },
  {
   "cell_type": "code",
   "execution_count": 82,
   "metadata": {},
   "outputs": [],
   "source": [
    "#\"month\" does not appear to be a valuable feature of interest\n",
    "newshoot.drop('month', axis=1, inplace=True)"
   ]
  },
  {
   "cell_type": "code",
   "execution_count": 83,
   "metadata": {},
   "outputs": [],
   "source": [
    "#\"dept\" is an \"id\" variable that may invalidate results\n",
    "newshoot.drop('dept', axis=1, inplace=True)"
   ]
  },
  {
   "cell_type": "code",
   "execution_count": 84,
   "metadata": {
    "scrolled": true
   },
   "outputs": [
    {
     "data": {
      "text/html": [
       "<div>\n",
       "<style scoped>\n",
       "    .dataframe tbody tr th:only-of-type {\n",
       "        vertical-align: middle;\n",
       "    }\n",
       "\n",
       "    .dataframe tbody tr th {\n",
       "        vertical-align: top;\n",
       "    }\n",
       "\n",
       "    .dataframe thead th {\n",
       "        text-align: right;\n",
       "    }\n",
       "</style>\n",
       "<table border=\"1\" class=\"dataframe\">\n",
       "  <thead>\n",
       "    <tr style=\"text-align: right;\">\n",
       "      <th></th>\n",
       "      <th>age</th>\n",
       "      <th>fatality</th>\n",
       "      <th>armed</th>\n",
       "      <th>race</th>\n",
       "      <th>mult_officers</th>\n",
       "    </tr>\n",
       "  </thead>\n",
       "  <tbody>\n",
       "    <tr>\n",
       "      <th>103</th>\n",
       "      <td>26.0</td>\n",
       "      <td>0</td>\n",
       "      <td>2</td>\n",
       "      <td>4</td>\n",
       "      <td>0</td>\n",
       "    </tr>\n",
       "    <tr>\n",
       "      <th>104</th>\n",
       "      <td>16.0</td>\n",
       "      <td>0</td>\n",
       "      <td>2</td>\n",
       "      <td>2</td>\n",
       "      <td>0</td>\n",
       "    </tr>\n",
       "    <tr>\n",
       "      <th>105</th>\n",
       "      <td>26.0</td>\n",
       "      <td>0</td>\n",
       "      <td>2</td>\n",
       "      <td>0</td>\n",
       "      <td>1</td>\n",
       "    </tr>\n",
       "    <tr>\n",
       "      <th>106</th>\n",
       "      <td>35.0</td>\n",
       "      <td>0</td>\n",
       "      <td>0</td>\n",
       "      <td>4</td>\n",
       "      <td>0</td>\n",
       "    </tr>\n",
       "    <tr>\n",
       "      <th>107</th>\n",
       "      <td>30.0</td>\n",
       "      <td>0</td>\n",
       "      <td>2</td>\n",
       "      <td>2</td>\n",
       "      <td>0</td>\n",
       "    </tr>\n",
       "  </tbody>\n",
       "</table>\n",
       "</div>"
      ],
      "text/plain": [
       "      age  fatality  armed  race  mult_officers\n",
       "103  26.0         0      2     4              0\n",
       "104  16.0         0      2     2              0\n",
       "105  26.0         0      2     0              1\n",
       "106  35.0         0      0     4              0\n",
       "107  30.0         0      2     2              0"
      ]
     },
     "execution_count": 84,
     "metadata": {},
     "output_type": "execute_result"
    }
   ],
   "source": [
    "newshoot.head()"
   ]
  },
  {
   "cell_type": "code",
   "execution_count": null,
   "metadata": {
    "scrolled": false
   },
   "outputs": [],
   "source": []
  },
  {
   "cell_type": "code",
   "execution_count": 85,
   "metadata": {},
   "outputs": [],
   "source": [
    "#convert to csv for future use\n",
    "newcust.to_csv('custody_ML.csv')\n",
    "newshoot.to_csv('shootings_ML.csv')"
   ]
  },
  {
   "cell_type": "code",
   "execution_count": 86,
   "metadata": {},
   "outputs": [],
   "source": [
    "#save cleaned dfs\n",
    "cust.to_csv('clean_custody.csv')\n",
    "shoot.to_csv('clean_shootings.csv')"
   ]
  },
  {
   "cell_type": "code",
   "execution_count": null,
   "metadata": {},
   "outputs": [],
   "source": []
  },
  {
   "cell_type": "code",
   "execution_count": null,
   "metadata": {},
   "outputs": [],
   "source": []
  }
 ],
 "metadata": {
  "kernelspec": {
   "display_name": "Python 3",
   "language": "python",
   "name": "python3"
  },
  "language_info": {
   "codemirror_mode": {
    "name": "ipython",
    "version": 3
   },
   "file_extension": ".py",
   "mimetype": "text/x-python",
   "name": "python",
   "nbconvert_exporter": "python",
   "pygments_lexer": "ipython3",
   "version": "3.6.3"
  }
 },
 "nbformat": 4,
 "nbformat_minor": 2
}
