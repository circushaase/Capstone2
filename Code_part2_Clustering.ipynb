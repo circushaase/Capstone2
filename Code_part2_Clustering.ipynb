{
 "cells": [
  {
   "cell_type": "code",
   "execution_count": 1,
   "metadata": {},
   "outputs": [
    {
     "data": {
      "text/html": [
       "\n",
       "    <div class=\"bk-root\">\n",
       "        <a href=\"https://bokeh.pydata.org\" target=\"_blank\" class=\"bk-logo bk-logo-small bk-logo-notebook\"></a>\n",
       "        <span id=\"9d1228dd-755d-4e34-a7e2-3b936bbe332c\">Loading BokehJS ...</span>\n",
       "    </div>"
      ]
     },
     "metadata": {},
     "output_type": "display_data"
    },
    {
     "data": {
      "application/javascript": [
       "\n",
       "(function(root) {\n",
       "  function now() {\n",
       "    return new Date();\n",
       "  }\n",
       "\n",
       "  var force = true;\n",
       "\n",
       "  if (typeof (root._bokeh_onload_callbacks) === \"undefined\" || force === true) {\n",
       "    root._bokeh_onload_callbacks = [];\n",
       "    root._bokeh_is_loading = undefined;\n",
       "  }\n",
       "\n",
       "  var JS_MIME_TYPE = 'application/javascript';\n",
       "  var HTML_MIME_TYPE = 'text/html';\n",
       "  var EXEC_MIME_TYPE = 'application/vnd.bokehjs_exec.v0+json';\n",
       "  var CLASS_NAME = 'output_bokeh rendered_html';\n",
       "\n",
       "  /**\n",
       "   * Render data to the DOM node\n",
       "   */\n",
       "  function render(props, node) {\n",
       "    var script = document.createElement(\"script\");\n",
       "    node.appendChild(script);\n",
       "  }\n",
       "\n",
       "  /**\n",
       "   * Handle when an output is cleared or removed\n",
       "   */\n",
       "  function handleClearOutput(event, handle) {\n",
       "    var cell = handle.cell;\n",
       "\n",
       "    var id = cell.output_area._bokeh_element_id;\n",
       "    var server_id = cell.output_area._bokeh_server_id;\n",
       "    // Clean up Bokeh references\n",
       "    if (id !== undefined) {\n",
       "      Bokeh.index[id].model.document.clear();\n",
       "      delete Bokeh.index[id];\n",
       "    }\n",
       "\n",
       "    if (server_id !== undefined) {\n",
       "      // Clean up Bokeh references\n",
       "      var cmd = \"from bokeh.io.state import curstate; print(curstate().uuid_to_server['\" + server_id + \"'].get_sessions()[0].document.roots[0]._id)\";\n",
       "      cell.notebook.kernel.execute(cmd, {\n",
       "        iopub: {\n",
       "          output: function(msg) {\n",
       "            var element_id = msg.content.text.trim();\n",
       "            Bokeh.index[element_id].model.document.clear();\n",
       "            delete Bokeh.index[element_id];\n",
       "          }\n",
       "        }\n",
       "      });\n",
       "      // Destroy server and session\n",
       "      var cmd = \"import bokeh.io.notebook as ion; ion.destroy_server('\" + server_id + \"')\";\n",
       "      cell.notebook.kernel.execute(cmd);\n",
       "    }\n",
       "  }\n",
       "\n",
       "  /**\n",
       "   * Handle when a new output is added\n",
       "   */\n",
       "  function handleAddOutput(event, handle) {\n",
       "    var output_area = handle.output_area;\n",
       "    var output = handle.output;\n",
       "\n",
       "    // limit handleAddOutput to display_data with EXEC_MIME_TYPE content only\n",
       "    if ((output.output_type != \"display_data\") || (!output.data.hasOwnProperty(EXEC_MIME_TYPE))) {\n",
       "      return\n",
       "    }\n",
       "\n",
       "    var toinsert = output_area.element.find(\".\" + CLASS_NAME.split(' ')[0]);\n",
       "\n",
       "    if (output.metadata[EXEC_MIME_TYPE][\"id\"] !== undefined) {\n",
       "      toinsert[0].firstChild.textContent = output.data[JS_MIME_TYPE];\n",
       "      // store reference to embed id on output_area\n",
       "      output_area._bokeh_element_id = output.metadata[EXEC_MIME_TYPE][\"id\"];\n",
       "    }\n",
       "    if (output.metadata[EXEC_MIME_TYPE][\"server_id\"] !== undefined) {\n",
       "      var bk_div = document.createElement(\"div\");\n",
       "      bk_div.innerHTML = output.data[HTML_MIME_TYPE];\n",
       "      var script_attrs = bk_div.children[0].attributes;\n",
       "      for (var i = 0; i < script_attrs.length; i++) {\n",
       "        toinsert[0].firstChild.setAttribute(script_attrs[i].name, script_attrs[i].value);\n",
       "      }\n",
       "      // store reference to server id on output_area\n",
       "      output_area._bokeh_server_id = output.metadata[EXEC_MIME_TYPE][\"server_id\"];\n",
       "    }\n",
       "  }\n",
       "\n",
       "  function register_renderer(events, OutputArea) {\n",
       "\n",
       "    function append_mime(data, metadata, element) {\n",
       "      // create a DOM node to render to\n",
       "      var toinsert = this.create_output_subarea(\n",
       "        metadata,\n",
       "        CLASS_NAME,\n",
       "        EXEC_MIME_TYPE\n",
       "      );\n",
       "      this.keyboard_manager.register_events(toinsert);\n",
       "      // Render to node\n",
       "      var props = {data: data, metadata: metadata[EXEC_MIME_TYPE]};\n",
       "      render(props, toinsert[0]);\n",
       "      element.append(toinsert);\n",
       "      return toinsert\n",
       "    }\n",
       "\n",
       "    /* Handle when an output is cleared or removed */\n",
       "    events.on('clear_output.CodeCell', handleClearOutput);\n",
       "    events.on('delete.Cell', handleClearOutput);\n",
       "\n",
       "    /* Handle when a new output is added */\n",
       "    events.on('output_added.OutputArea', handleAddOutput);\n",
       "\n",
       "    /**\n",
       "     * Register the mime type and append_mime function with output_area\n",
       "     */\n",
       "    OutputArea.prototype.register_mime_type(EXEC_MIME_TYPE, append_mime, {\n",
       "      /* Is output safe? */\n",
       "      safe: true,\n",
       "      /* Index of renderer in `output_area.display_order` */\n",
       "      index: 0\n",
       "    });\n",
       "  }\n",
       "\n",
       "  // register the mime type if in Jupyter Notebook environment and previously unregistered\n",
       "  if (root.Jupyter !== undefined) {\n",
       "    var events = require('base/js/events');\n",
       "    var OutputArea = require('notebook/js/outputarea').OutputArea;\n",
       "\n",
       "    if (OutputArea.prototype.mime_types().indexOf(EXEC_MIME_TYPE) == -1) {\n",
       "      register_renderer(events, OutputArea);\n",
       "    }\n",
       "  }\n",
       "\n",
       "  \n",
       "  if (typeof (root._bokeh_timeout) === \"undefined\" || force === true) {\n",
       "    root._bokeh_timeout = Date.now() + 5000;\n",
       "    root._bokeh_failed_load = false;\n",
       "  }\n",
       "\n",
       "  var NB_LOAD_WARNING = {'data': {'text/html':\n",
       "     \"<div style='background-color: #fdd'>\\n\"+\n",
       "     \"<p>\\n\"+\n",
       "     \"BokehJS does not appear to have successfully loaded. If loading BokehJS from CDN, this \\n\"+\n",
       "     \"may be due to a slow or bad network connection. Possible fixes:\\n\"+\n",
       "     \"</p>\\n\"+\n",
       "     \"<ul>\\n\"+\n",
       "     \"<li>re-rerun `output_notebook()` to attempt to load from CDN again, or</li>\\n\"+\n",
       "     \"<li>use INLINE resources instead, as so:</li>\\n\"+\n",
       "     \"</ul>\\n\"+\n",
       "     \"<code>\\n\"+\n",
       "     \"from bokeh.resources import INLINE\\n\"+\n",
       "     \"output_notebook(resources=INLINE)\\n\"+\n",
       "     \"</code>\\n\"+\n",
       "     \"</div>\"}};\n",
       "\n",
       "  function display_loaded() {\n",
       "    var el = document.getElementById(\"9d1228dd-755d-4e34-a7e2-3b936bbe332c\");\n",
       "    if (el != null) {\n",
       "      el.textContent = \"BokehJS is loading...\";\n",
       "    }\n",
       "    if (root.Bokeh !== undefined) {\n",
       "      if (el != null) {\n",
       "        el.textContent = \"BokehJS \" + root.Bokeh.version + \" successfully loaded.\";\n",
       "      }\n",
       "    } else if (Date.now() < root._bokeh_timeout) {\n",
       "      setTimeout(display_loaded, 100)\n",
       "    }\n",
       "  }\n",
       "\n",
       "\n",
       "  function run_callbacks() {\n",
       "    try {\n",
       "      root._bokeh_onload_callbacks.forEach(function(callback) { callback() });\n",
       "    }\n",
       "    finally {\n",
       "      delete root._bokeh_onload_callbacks\n",
       "    }\n",
       "    console.info(\"Bokeh: all callbacks have finished\");\n",
       "  }\n",
       "\n",
       "  function load_libs(js_urls, callback) {\n",
       "    root._bokeh_onload_callbacks.push(callback);\n",
       "    if (root._bokeh_is_loading > 0) {\n",
       "      console.log(\"Bokeh: BokehJS is being loaded, scheduling callback at\", now());\n",
       "      return null;\n",
       "    }\n",
       "    if (js_urls == null || js_urls.length === 0) {\n",
       "      run_callbacks();\n",
       "      return null;\n",
       "    }\n",
       "    console.log(\"Bokeh: BokehJS not loaded, scheduling load and callback at\", now());\n",
       "    root._bokeh_is_loading = js_urls.length;\n",
       "    for (var i = 0; i < js_urls.length; i++) {\n",
       "      var url = js_urls[i];\n",
       "      var s = document.createElement('script');\n",
       "      s.src = url;\n",
       "      s.async = false;\n",
       "      s.onreadystatechange = s.onload = function() {\n",
       "        root._bokeh_is_loading--;\n",
       "        if (root._bokeh_is_loading === 0) {\n",
       "          console.log(\"Bokeh: all BokehJS libraries loaded\");\n",
       "          run_callbacks()\n",
       "        }\n",
       "      };\n",
       "      s.onerror = function() {\n",
       "        console.warn(\"failed to load library \" + url);\n",
       "      };\n",
       "      console.log(\"Bokeh: injecting script tag for BokehJS library: \", url);\n",
       "      document.getElementsByTagName(\"head\")[0].appendChild(s);\n",
       "    }\n",
       "  };var element = document.getElementById(\"9d1228dd-755d-4e34-a7e2-3b936bbe332c\");\n",
       "  if (element == null) {\n",
       "    console.log(\"Bokeh: ERROR: autoload.js configured with elementid '9d1228dd-755d-4e34-a7e2-3b936bbe332c' but no matching script tag was found. \")\n",
       "    return false;\n",
       "  }\n",
       "\n",
       "  var js_urls = [\"https://cdn.pydata.org/bokeh/release/bokeh-0.12.13.min.js\", \"https://cdn.pydata.org/bokeh/release/bokeh-widgets-0.12.13.min.js\", \"https://cdn.pydata.org/bokeh/release/bokeh-tables-0.12.13.min.js\", \"https://cdn.pydata.org/bokeh/release/bokeh-gl-0.12.13.min.js\"];\n",
       "\n",
       "  var inline_js = [\n",
       "    function(Bokeh) {\n",
       "      Bokeh.set_log_level(\"info\");\n",
       "    },\n",
       "    \n",
       "    function(Bokeh) {\n",
       "      \n",
       "    },\n",
       "    function(Bokeh) {\n",
       "      console.log(\"Bokeh: injecting CSS: https://cdn.pydata.org/bokeh/release/bokeh-0.12.13.min.css\");\n",
       "      Bokeh.embed.inject_css(\"https://cdn.pydata.org/bokeh/release/bokeh-0.12.13.min.css\");\n",
       "      console.log(\"Bokeh: injecting CSS: https://cdn.pydata.org/bokeh/release/bokeh-widgets-0.12.13.min.css\");\n",
       "      Bokeh.embed.inject_css(\"https://cdn.pydata.org/bokeh/release/bokeh-widgets-0.12.13.min.css\");\n",
       "      console.log(\"Bokeh: injecting CSS: https://cdn.pydata.org/bokeh/release/bokeh-tables-0.12.13.min.css\");\n",
       "      Bokeh.embed.inject_css(\"https://cdn.pydata.org/bokeh/release/bokeh-tables-0.12.13.min.css\");\n",
       "    }\n",
       "  ];\n",
       "\n",
       "  function run_inline_js() {\n",
       "    \n",
       "    if ((root.Bokeh !== undefined) || (force === true)) {\n",
       "      for (var i = 0; i < inline_js.length; i++) {\n",
       "        inline_js[i].call(root, root.Bokeh);\n",
       "      }if (force === true) {\n",
       "        display_loaded();\n",
       "      }} else if (Date.now() < root._bokeh_timeout) {\n",
       "      setTimeout(run_inline_js, 100);\n",
       "    } else if (!root._bokeh_failed_load) {\n",
       "      console.log(\"Bokeh: BokehJS failed to load within specified timeout.\");\n",
       "      root._bokeh_failed_load = true;\n",
       "    } else if (force !== true) {\n",
       "      var cell = $(document.getElementById(\"9d1228dd-755d-4e34-a7e2-3b936bbe332c\")).parents('.cell').data().cell;\n",
       "      cell.output_area.append_execute_result(NB_LOAD_WARNING)\n",
       "    }\n",
       "\n",
       "  }\n",
       "\n",
       "  if (root._bokeh_is_loading === 0) {\n",
       "    console.log(\"Bokeh: BokehJS loaded, going straight to plotting\");\n",
       "    run_inline_js();\n",
       "  } else {\n",
       "    load_libs(js_urls, function() {\n",
       "      console.log(\"Bokeh: BokehJS plotting callback run at\", now());\n",
       "      run_inline_js();\n",
       "    });\n",
       "  }\n",
       "}(window));"
      ],
      "application/vnd.bokehjs_load.v0+json": "\n(function(root) {\n  function now() {\n    return new Date();\n  }\n\n  var force = true;\n\n  if (typeof (root._bokeh_onload_callbacks) === \"undefined\" || force === true) {\n    root._bokeh_onload_callbacks = [];\n    root._bokeh_is_loading = undefined;\n  }\n\n  \n\n  \n  if (typeof (root._bokeh_timeout) === \"undefined\" || force === true) {\n    root._bokeh_timeout = Date.now() + 5000;\n    root._bokeh_failed_load = false;\n  }\n\n  var NB_LOAD_WARNING = {'data': {'text/html':\n     \"<div style='background-color: #fdd'>\\n\"+\n     \"<p>\\n\"+\n     \"BokehJS does not appear to have successfully loaded. If loading BokehJS from CDN, this \\n\"+\n     \"may be due to a slow or bad network connection. Possible fixes:\\n\"+\n     \"</p>\\n\"+\n     \"<ul>\\n\"+\n     \"<li>re-rerun `output_notebook()` to attempt to load from CDN again, or</li>\\n\"+\n     \"<li>use INLINE resources instead, as so:</li>\\n\"+\n     \"</ul>\\n\"+\n     \"<code>\\n\"+\n     \"from bokeh.resources import INLINE\\n\"+\n     \"output_notebook(resources=INLINE)\\n\"+\n     \"</code>\\n\"+\n     \"</div>\"}};\n\n  function display_loaded() {\n    var el = document.getElementById(\"9d1228dd-755d-4e34-a7e2-3b936bbe332c\");\n    if (el != null) {\n      el.textContent = \"BokehJS is loading...\";\n    }\n    if (root.Bokeh !== undefined) {\n      if (el != null) {\n        el.textContent = \"BokehJS \" + root.Bokeh.version + \" successfully loaded.\";\n      }\n    } else if (Date.now() < root._bokeh_timeout) {\n      setTimeout(display_loaded, 100)\n    }\n  }\n\n\n  function run_callbacks() {\n    try {\n      root._bokeh_onload_callbacks.forEach(function(callback) { callback() });\n    }\n    finally {\n      delete root._bokeh_onload_callbacks\n    }\n    console.info(\"Bokeh: all callbacks have finished\");\n  }\n\n  function load_libs(js_urls, callback) {\n    root._bokeh_onload_callbacks.push(callback);\n    if (root._bokeh_is_loading > 0) {\n      console.log(\"Bokeh: BokehJS is being loaded, scheduling callback at\", now());\n      return null;\n    }\n    if (js_urls == null || js_urls.length === 0) {\n      run_callbacks();\n      return null;\n    }\n    console.log(\"Bokeh: BokehJS not loaded, scheduling load and callback at\", now());\n    root._bokeh_is_loading = js_urls.length;\n    for (var i = 0; i < js_urls.length; i++) {\n      var url = js_urls[i];\n      var s = document.createElement('script');\n      s.src = url;\n      s.async = false;\n      s.onreadystatechange = s.onload = function() {\n        root._bokeh_is_loading--;\n        if (root._bokeh_is_loading === 0) {\n          console.log(\"Bokeh: all BokehJS libraries loaded\");\n          run_callbacks()\n        }\n      };\n      s.onerror = function() {\n        console.warn(\"failed to load library \" + url);\n      };\n      console.log(\"Bokeh: injecting script tag for BokehJS library: \", url);\n      document.getElementsByTagName(\"head\")[0].appendChild(s);\n    }\n  };var element = document.getElementById(\"9d1228dd-755d-4e34-a7e2-3b936bbe332c\");\n  if (element == null) {\n    console.log(\"Bokeh: ERROR: autoload.js configured with elementid '9d1228dd-755d-4e34-a7e2-3b936bbe332c' but no matching script tag was found. \")\n    return false;\n  }\n\n  var js_urls = [\"https://cdn.pydata.org/bokeh/release/bokeh-0.12.13.min.js\", \"https://cdn.pydata.org/bokeh/release/bokeh-widgets-0.12.13.min.js\", \"https://cdn.pydata.org/bokeh/release/bokeh-tables-0.12.13.min.js\", \"https://cdn.pydata.org/bokeh/release/bokeh-gl-0.12.13.min.js\"];\n\n  var inline_js = [\n    function(Bokeh) {\n      Bokeh.set_log_level(\"info\");\n    },\n    \n    function(Bokeh) {\n      \n    },\n    function(Bokeh) {\n      console.log(\"Bokeh: injecting CSS: https://cdn.pydata.org/bokeh/release/bokeh-0.12.13.min.css\");\n      Bokeh.embed.inject_css(\"https://cdn.pydata.org/bokeh/release/bokeh-0.12.13.min.css\");\n      console.log(\"Bokeh: injecting CSS: https://cdn.pydata.org/bokeh/release/bokeh-widgets-0.12.13.min.css\");\n      Bokeh.embed.inject_css(\"https://cdn.pydata.org/bokeh/release/bokeh-widgets-0.12.13.min.css\");\n      console.log(\"Bokeh: injecting CSS: https://cdn.pydata.org/bokeh/release/bokeh-tables-0.12.13.min.css\");\n      Bokeh.embed.inject_css(\"https://cdn.pydata.org/bokeh/release/bokeh-tables-0.12.13.min.css\");\n    }\n  ];\n\n  function run_inline_js() {\n    \n    if ((root.Bokeh !== undefined) || (force === true)) {\n      for (var i = 0; i < inline_js.length; i++) {\n        inline_js[i].call(root, root.Bokeh);\n      }if (force === true) {\n        display_loaded();\n      }} else if (Date.now() < root._bokeh_timeout) {\n      setTimeout(run_inline_js, 100);\n    } else if (!root._bokeh_failed_load) {\n      console.log(\"Bokeh: BokehJS failed to load within specified timeout.\");\n      root._bokeh_failed_load = true;\n    } else if (force !== true) {\n      var cell = $(document.getElementById(\"9d1228dd-755d-4e34-a7e2-3b936bbe332c\")).parents('.cell').data().cell;\n      cell.output_area.append_execute_result(NB_LOAD_WARNING)\n    }\n\n  }\n\n  if (root._bokeh_is_loading === 0) {\n    console.log(\"Bokeh: BokehJS loaded, going straight to plotting\");\n    run_inline_js();\n  } else {\n    load_libs(js_urls, function() {\n      console.log(\"Bokeh: BokehJS plotting callback run at\", now());\n      run_inline_js();\n    });\n  }\n}(window));"
     },
     "metadata": {},
     "output_type": "display_data"
    }
   ],
   "source": [
    "import pandas as pd\n",
    "import numpy as np\n",
    "import seaborn as sns\n",
    "import matplotlib.pyplot as plt\n",
    "import matplotlib as mpl\n",
    "\n",
    "# Loading the necessary libraries\n",
    "from sklearn.preprocessing import StandardScaler\n",
    "from sklearn import model_selection\n",
    "from sklearn import metrics\n",
    "from sklearn.metrics import silhouette_samples, silhouette_score\n",
    "\n",
    "from sklearn.cluster import KMeans\n",
    "from sklearn.cluster import SpectralClustering\n",
    "from sklearn.cluster import AgglomerativeClustering\n",
    "from sklearn.cluster import DBSCAN\n",
    "\n",
    "from bokeh.core.properties import value\n",
    "from bokeh.io import show, output_notebook\n",
    "from bokeh.plotting import *\n",
    "from bokeh.models import ColumnDataSource, FactorRange, Legend#, LabelSet\n",
    "from bokeh.palettes import Spectral6, Spectral8, Category20, Spectral3\n",
    "from bokeh.transform import factor_cmap\n",
    "output_notebook()\n",
    "\n",
    "#read in datasets \n",
    "cust = pd.read_csv('custody_ML.csv')\n",
    "shoot = pd.read_csv('shootings_ML.csv')"
   ]
  },
  {
   "cell_type": "code",
   "execution_count": 2,
   "metadata": {},
   "outputs": [
    {
     "data": {
      "text/html": [
       "<div>\n",
       "<style scoped>\n",
       "    .dataframe tbody tr th:only-of-type {\n",
       "        vertical-align: middle;\n",
       "    }\n",
       "\n",
       "    .dataframe tbody tr th {\n",
       "        vertical-align: top;\n",
       "    }\n",
       "\n",
       "    .dataframe thead th {\n",
       "        text-align: right;\n",
       "    }\n",
       "</style>\n",
       "<table border=\"1\" class=\"dataframe\">\n",
       "  <thead>\n",
       "    <tr style=\"text-align: right;\">\n",
       "      <th></th>\n",
       "      <th>Unnamed: 0</th>\n",
       "      <th>custody_type</th>\n",
       "      <th>race</th>\n",
       "      <th>death_type</th>\n",
       "      <th>age</th>\n",
       "    </tr>\n",
       "  </thead>\n",
       "  <tbody>\n",
       "    <tr>\n",
       "      <th>0</th>\n",
       "      <td>0</td>\n",
       "      <td>2</td>\n",
       "      <td>4</td>\n",
       "      <td>5</td>\n",
       "      <td>58.0</td>\n",
       "    </tr>\n",
       "    <tr>\n",
       "      <th>1</th>\n",
       "      <td>1</td>\n",
       "      <td>2</td>\n",
       "      <td>3</td>\n",
       "      <td>5</td>\n",
       "      <td>76.0</td>\n",
       "    </tr>\n",
       "    <tr>\n",
       "      <th>2</th>\n",
       "      <td>2</td>\n",
       "      <td>1</td>\n",
       "      <td>4</td>\n",
       "      <td>6</td>\n",
       "      <td>30.0</td>\n",
       "    </tr>\n",
       "    <tr>\n",
       "      <th>3</th>\n",
       "      <td>3</td>\n",
       "      <td>2</td>\n",
       "      <td>1</td>\n",
       "      <td>1</td>\n",
       "      <td>39.0</td>\n",
       "    </tr>\n",
       "    <tr>\n",
       "      <th>4</th>\n",
       "      <td>4</td>\n",
       "      <td>2</td>\n",
       "      <td>1</td>\n",
       "      <td>5</td>\n",
       "      <td>31.0</td>\n",
       "    </tr>\n",
       "  </tbody>\n",
       "</table>\n",
       "</div>"
      ],
      "text/plain": [
       "   Unnamed: 0  custody_type  race  death_type   age\n",
       "0           0             2     4           5  58.0\n",
       "1           1             2     3           5  76.0\n",
       "2           2             1     4           6  30.0\n",
       "3           3             2     1           1  39.0\n",
       "4           4             2     1           5  31.0"
      ]
     },
     "execution_count": 2,
     "metadata": {},
     "output_type": "execute_result"
    }
   ],
   "source": [
    "cust.head()"
   ]
  },
  {
   "cell_type": "code",
   "execution_count": 3,
   "metadata": {},
   "outputs": [
    {
     "data": {
      "text/html": [
       "<div>\n",
       "<style scoped>\n",
       "    .dataframe tbody tr th:only-of-type {\n",
       "        vertical-align: middle;\n",
       "    }\n",
       "\n",
       "    .dataframe tbody tr th {\n",
       "        vertical-align: top;\n",
       "    }\n",
       "\n",
       "    .dataframe thead th {\n",
       "        text-align: right;\n",
       "    }\n",
       "</style>\n",
       "<table border=\"1\" class=\"dataframe\">\n",
       "  <thead>\n",
       "    <tr style=\"text-align: right;\">\n",
       "      <th></th>\n",
       "      <th>Unnamed: 0</th>\n",
       "      <th>age</th>\n",
       "      <th>fatality</th>\n",
       "      <th>armed</th>\n",
       "      <th>race</th>\n",
       "      <th>mult_officers</th>\n",
       "    </tr>\n",
       "  </thead>\n",
       "  <tbody>\n",
       "    <tr>\n",
       "      <th>0</th>\n",
       "      <td>103</td>\n",
       "      <td>26.0</td>\n",
       "      <td>0</td>\n",
       "      <td>2</td>\n",
       "      <td>4</td>\n",
       "      <td>0</td>\n",
       "    </tr>\n",
       "    <tr>\n",
       "      <th>1</th>\n",
       "      <td>104</td>\n",
       "      <td>16.0</td>\n",
       "      <td>0</td>\n",
       "      <td>2</td>\n",
       "      <td>2</td>\n",
       "      <td>0</td>\n",
       "    </tr>\n",
       "    <tr>\n",
       "      <th>2</th>\n",
       "      <td>105</td>\n",
       "      <td>26.0</td>\n",
       "      <td>0</td>\n",
       "      <td>2</td>\n",
       "      <td>0</td>\n",
       "      <td>1</td>\n",
       "    </tr>\n",
       "    <tr>\n",
       "      <th>3</th>\n",
       "      <td>106</td>\n",
       "      <td>35.0</td>\n",
       "      <td>0</td>\n",
       "      <td>0</td>\n",
       "      <td>4</td>\n",
       "      <td>0</td>\n",
       "    </tr>\n",
       "    <tr>\n",
       "      <th>4</th>\n",
       "      <td>107</td>\n",
       "      <td>30.0</td>\n",
       "      <td>0</td>\n",
       "      <td>2</td>\n",
       "      <td>2</td>\n",
       "      <td>0</td>\n",
       "    </tr>\n",
       "  </tbody>\n",
       "</table>\n",
       "</div>"
      ],
      "text/plain": [
       "   Unnamed: 0   age  fatality  armed  race  mult_officers\n",
       "0         103  26.0         0      2     4              0\n",
       "1         104  16.0         0      2     2              0\n",
       "2         105  26.0         0      2     0              1\n",
       "3         106  35.0         0      0     4              0\n",
       "4         107  30.0         0      2     2              0"
      ]
     },
     "execution_count": 3,
     "metadata": {},
     "output_type": "execute_result"
    }
   ],
   "source": [
    "shoot.head()"
   ]
  },
  {
   "cell_type": "code",
   "execution_count": 4,
   "metadata": {},
   "outputs": [],
   "source": [
    "cust.drop('Unnamed: 0', axis=1, inplace=True)"
   ]
  },
  {
   "cell_type": "code",
   "execution_count": 5,
   "metadata": {},
   "outputs": [],
   "source": [
    "shoot.drop('Unnamed: 0', axis=1, inplace=True)"
   ]
  },
  {
   "cell_type": "code",
   "execution_count": 6,
   "metadata": {},
   "outputs": [
    {
     "data": {
      "text/html": [
       "<div>\n",
       "<style scoped>\n",
       "    .dataframe tbody tr th:only-of-type {\n",
       "        vertical-align: middle;\n",
       "    }\n",
       "\n",
       "    .dataframe tbody tr th {\n",
       "        vertical-align: top;\n",
       "    }\n",
       "\n",
       "    .dataframe thead th {\n",
       "        text-align: right;\n",
       "    }\n",
       "</style>\n",
       "<table border=\"1\" class=\"dataframe\">\n",
       "  <thead>\n",
       "    <tr style=\"text-align: right;\">\n",
       "      <th></th>\n",
       "      <th>custody_type</th>\n",
       "      <th>race</th>\n",
       "      <th>death_type</th>\n",
       "      <th>age</th>\n",
       "    </tr>\n",
       "  </thead>\n",
       "  <tbody>\n",
       "    <tr>\n",
       "      <th>0</th>\n",
       "      <td>0.123491</td>\n",
       "      <td>1.156565</td>\n",
       "      <td>0.155584</td>\n",
       "      <td>0.590814</td>\n",
       "    </tr>\n",
       "    <tr>\n",
       "      <th>1</th>\n",
       "      <td>0.123491</td>\n",
       "      <td>0.406515</td>\n",
       "      <td>0.155584</td>\n",
       "      <td>1.798521</td>\n",
       "    </tr>\n",
       "    <tr>\n",
       "      <th>2</th>\n",
       "      <td>-1.037655</td>\n",
       "      <td>1.156565</td>\n",
       "      <td>0.943599</td>\n",
       "      <td>-1.287842</td>\n",
       "    </tr>\n",
       "    <tr>\n",
       "      <th>3</th>\n",
       "      <td>0.123491</td>\n",
       "      <td>-1.093584</td>\n",
       "      <td>-2.996475</td>\n",
       "      <td>-0.683988</td>\n",
       "    </tr>\n",
       "    <tr>\n",
       "      <th>4</th>\n",
       "      <td>0.123491</td>\n",
       "      <td>-1.093584</td>\n",
       "      <td>0.155584</td>\n",
       "      <td>-1.220747</td>\n",
       "    </tr>\n",
       "  </tbody>\n",
       "</table>\n",
       "</div>"
      ],
      "text/plain": [
       "   custody_type      race  death_type       age\n",
       "0      0.123491  1.156565    0.155584  0.590814\n",
       "1      0.123491  0.406515    0.155584  1.798521\n",
       "2     -1.037655  1.156565    0.943599 -1.287842\n",
       "3      0.123491 -1.093584   -2.996475 -0.683988\n",
       "4      0.123491 -1.093584    0.155584 -1.220747"
      ]
     },
     "execution_count": 6,
     "metadata": {},
     "output_type": "execute_result"
    }
   ],
   "source": [
    "#Scale cust df\n",
    "X_col = cust.columns\n",
    "\n",
    "cust_scaled = pd.DataFrame(StandardScaler().fit_transform(cust), columns= X_col)\n",
    "cust_scaled.head()"
   ]
  },
  {
   "cell_type": "code",
   "execution_count": 7,
   "metadata": {},
   "outputs": [
    {
     "data": {
      "text/html": [
       "<div>\n",
       "<style scoped>\n",
       "    .dataframe tbody tr th:only-of-type {\n",
       "        vertical-align: middle;\n",
       "    }\n",
       "\n",
       "    .dataframe tbody tr th {\n",
       "        vertical-align: top;\n",
       "    }\n",
       "\n",
       "    .dataframe thead th {\n",
       "        text-align: right;\n",
       "    }\n",
       "</style>\n",
       "<table border=\"1\" class=\"dataframe\">\n",
       "  <thead>\n",
       "    <tr style=\"text-align: right;\">\n",
       "      <th></th>\n",
       "      <th>age</th>\n",
       "      <th>fatality</th>\n",
       "      <th>armed</th>\n",
       "      <th>race</th>\n",
       "      <th>mult_officers</th>\n",
       "    </tr>\n",
       "  </thead>\n",
       "  <tbody>\n",
       "    <tr>\n",
       "      <th>0</th>\n",
       "      <td>-0.670348</td>\n",
       "      <td>-1.387608</td>\n",
       "      <td>0.980761</td>\n",
       "      <td>1.548471</td>\n",
       "      <td>-0.591786</td>\n",
       "    </tr>\n",
       "    <tr>\n",
       "      <th>1</th>\n",
       "      <td>-1.716530</td>\n",
       "      <td>-1.387608</td>\n",
       "      <td>0.980761</td>\n",
       "      <td>-0.096378</td>\n",
       "      <td>-0.591786</td>\n",
       "    </tr>\n",
       "    <tr>\n",
       "      <th>2</th>\n",
       "      <td>-0.670348</td>\n",
       "      <td>-1.387608</td>\n",
       "      <td>0.980761</td>\n",
       "      <td>-1.741227</td>\n",
       "      <td>1.689799</td>\n",
       "    </tr>\n",
       "    <tr>\n",
       "      <th>3</th>\n",
       "      <td>0.271215</td>\n",
       "      <td>-1.387608</td>\n",
       "      <td>-1.040776</td>\n",
       "      <td>1.548471</td>\n",
       "      <td>-0.591786</td>\n",
       "    </tr>\n",
       "    <tr>\n",
       "      <th>4</th>\n",
       "      <td>-0.251876</td>\n",
       "      <td>-1.387608</td>\n",
       "      <td>0.980761</td>\n",
       "      <td>-0.096378</td>\n",
       "      <td>-0.591786</td>\n",
       "    </tr>\n",
       "  </tbody>\n",
       "</table>\n",
       "</div>"
      ],
      "text/plain": [
       "        age  fatality     armed      race  mult_officers\n",
       "0 -0.670348 -1.387608  0.980761  1.548471      -0.591786\n",
       "1 -1.716530 -1.387608  0.980761 -0.096378      -0.591786\n",
       "2 -0.670348 -1.387608  0.980761 -1.741227       1.689799\n",
       "3  0.271215 -1.387608 -1.040776  1.548471      -0.591786\n",
       "4 -0.251876 -1.387608  0.980761 -0.096378      -0.591786"
      ]
     },
     "execution_count": 7,
     "metadata": {},
     "output_type": "execute_result"
    }
   ],
   "source": [
    "#Scale shoot df\n",
    "X_cols = shoot.columns\n",
    "\n",
    "shoot_scaled = pd.DataFrame(StandardScaler().fit_transform(shoot), columns = X_cols)\n",
    "shoot_scaled.head()"
   ]
  },
  {
   "cell_type": "code",
   "execution_count": null,
   "metadata": {},
   "outputs": [],
   "source": []
  },
  {
   "cell_type": "markdown",
   "metadata": {},
   "source": [
    "# Deaths in Custody"
   ]
  },
  {
   "cell_type": "markdown",
   "metadata": {},
   "source": [
    "## KMeans Clustering"
   ]
  },
  {
   "cell_type": "code",
   "execution_count": 8,
   "metadata": {},
   "outputs": [
    {
     "name": "stdout",
     "output_type": "stream",
     "text": [
      "The number of clusters, 2, and silhouette coefficient is 0.38\n",
      "The number of clusters, 3, and silhouette coefficient is 0.35\n",
      "The number of clusters, 4, and silhouette coefficient is 0.40\n",
      "The number of clusters, 5, and silhouette coefficient is 0.41\n",
      "The number of clusters, 6, and silhouette coefficient is 0.43\n",
      "The number of clusters, 7, and silhouette coefficient is 0.44\n",
      "The number of clusters, 8, and silhouette coefficient is 0.39\n",
      "The number of clusters, 9, and silhouette coefficient is 0.40\n",
      "The number of clusters, 10, and silhouette coefficient is 0.40\n"
     ]
    }
   ],
   "source": [
    "#KMeans Clustering of Custody data\n",
    "k_range = range(2,11)\n",
    "\n",
    "for i in k_range:\n",
    "    model = KMeans(n_clusters=i,random_state=11)\n",
    "    pred =model.fit_predict(cust_scaled)\n",
    "    silhouette_avg = silhouette_score(cust_scaled,pred)\n",
    "    print('The number of clusters, %d, and silhouette coefficient is %0.2f'% (i,silhouette_avg))"
   ]
  },
  {
   "cell_type": "markdown",
   "metadata": {},
   "source": [
    "## Spectral Clustering"
   ]
  },
  {
   "cell_type": "code",
   "execution_count": 9,
   "metadata": {},
   "outputs": [
    {
     "name": "stdout",
     "output_type": "stream",
     "text": [
      "The number of clusters: 2, silhouette coefficient: 0.20\n",
      "The number of clusters: 3, silhouette coefficient: 0.27\n",
      "The number of clusters: 4, silhouette coefficient: 0.29\n",
      "The number of clusters: 5, silhouette coefficient: 0.13\n",
      "The number of clusters: 6, silhouette coefficient: 0.25\n",
      "The number of clusters: 7, silhouette coefficient: 0.26\n",
      "The number of clusters: 8, silhouette coefficient: 0.29\n",
      "The number of clusters: 9, silhouette coefficient: 0.22\n",
      "The number of clusters: 10, silhouette coefficient: 0.23\n"
     ]
    }
   ],
   "source": [
    "# Spectral clustering\n",
    "for k in range(2,11):\n",
    "    spect = SpectralClustering(n_clusters=k,random_state=11)\n",
    "    spect.fit_predict(cust_scaled)\n",
    "    spectlabel = spect.labels_\n",
    "    score= silhouette_score(cust_scaled, spectlabel, metric='euclidean')\n",
    "    print(\"The number of clusters: %d, silhouette coefficient: %0.2f\" % (k,score))"
   ]
  },
  {
   "cell_type": "markdown",
   "metadata": {},
   "source": [
    "#### Tuning"
   ]
  },
  {
   "cell_type": "code",
   "execution_count": 10,
   "metadata": {},
   "outputs": [
    {
     "name": "stdout",
     "output_type": "stream",
     "text": [
      "The number of clusters: 2, gamma: 0.001000, silhouette coefficient: 0.36\n",
      "The number of clusters: 3, gamma: 0.001000, silhouette coefficient: 0.29\n",
      "The number of clusters: 4, gamma: 0.001000, silhouette coefficient: 0.37\n",
      "The number of clusters: 5, gamma: 0.001000, silhouette coefficient: 0.41\n",
      "The number of clusters: 6, gamma: 0.001000, silhouette coefficient: 0.40\n",
      "The number of clusters: 7, gamma: 0.001000, silhouette coefficient: 0.43\n",
      "The number of clusters: 8, gamma: 0.001000, silhouette coefficient: 0.45\n",
      "The number of clusters: 9, gamma: 0.001000, silhouette coefficient: 0.37\n",
      "The number of clusters: 10, gamma: 0.001000, silhouette coefficient: 0.34\n",
      "The number of clusters: 2, gamma: 0.010000, silhouette coefficient: 0.36\n",
      "The number of clusters: 3, gamma: 0.010000, silhouette coefficient: 0.29\n",
      "The number of clusters: 4, gamma: 0.010000, silhouette coefficient: 0.37\n",
      "The number of clusters: 5, gamma: 0.010000, silhouette coefficient: 0.41\n",
      "The number of clusters: 6, gamma: 0.010000, silhouette coefficient: 0.40\n",
      "The number of clusters: 7, gamma: 0.010000, silhouette coefficient: 0.44\n",
      "The number of clusters: 8, gamma: 0.010000, silhouette coefficient: 0.45\n",
      "The number of clusters: 9, gamma: 0.010000, silhouette coefficient: 0.41\n",
      "The number of clusters: 10, gamma: 0.010000, silhouette coefficient: 0.36\n",
      "The number of clusters: 2, gamma: 0.100000, silhouette coefficient: 0.31\n",
      "The number of clusters: 3, gamma: 0.100000, silhouette coefficient: 0.29\n",
      "The number of clusters: 4, gamma: 0.100000, silhouette coefficient: 0.38\n",
      "The number of clusters: 5, gamma: 0.100000, silhouette coefficient: 0.40\n",
      "The number of clusters: 6, gamma: 0.100000, silhouette coefficient: 0.41\n",
      "The number of clusters: 7, gamma: 0.100000, silhouette coefficient: 0.42\n",
      "The number of clusters: 8, gamma: 0.100000, silhouette coefficient: 0.39\n",
      "The number of clusters: 9, gamma: 0.100000, silhouette coefficient: 0.38\n",
      "The number of clusters: 10, gamma: 0.100000, silhouette coefficient: 0.38\n",
      "The number of clusters: 2, gamma: 0.250000, silhouette coefficient: 0.35\n",
      "The number of clusters: 3, gamma: 0.250000, silhouette coefficient: 0.29\n",
      "The number of clusters: 4, gamma: 0.250000, silhouette coefficient: 0.38\n",
      "The number of clusters: 5, gamma: 0.250000, silhouette coefficient: 0.40\n",
      "The number of clusters: 6, gamma: 0.250000, silhouette coefficient: 0.41\n",
      "The number of clusters: 7, gamma: 0.250000, silhouette coefficient: 0.42\n",
      "The number of clusters: 8, gamma: 0.250000, silhouette coefficient: 0.38\n",
      "The number of clusters: 9, gamma: 0.250000, silhouette coefficient: 0.34\n",
      "The number of clusters: 10, gamma: 0.250000, silhouette coefficient: 0.36\n",
      "The number of clusters: 2, gamma: 0.500000, silhouette coefficient: 0.24\n",
      "The number of clusters: 3, gamma: 0.500000, silhouette coefficient: 0.32\n",
      "The number of clusters: 4, gamma: 0.500000, silhouette coefficient: 0.33\n",
      "The number of clusters: 5, gamma: 0.500000, silhouette coefficient: 0.37\n",
      "The number of clusters: 6, gamma: 0.500000, silhouette coefficient: 0.38\n",
      "The number of clusters: 7, gamma: 0.500000, silhouette coefficient: 0.39\n",
      "The number of clusters: 8, gamma: 0.500000, silhouette coefficient: 0.42\n",
      "The number of clusters: 9, gamma: 0.500000, silhouette coefficient: 0.35\n",
      "The number of clusters: 10, gamma: 0.500000, silhouette coefficient: 0.36\n",
      "The number of clusters: 2, gamma: 1.000000, silhouette coefficient: 0.20\n",
      "The number of clusters: 3, gamma: 1.000000, silhouette coefficient: 0.27\n",
      "The number of clusters: 4, gamma: 1.000000, silhouette coefficient: 0.29\n",
      "The number of clusters: 5, gamma: 1.000000, silhouette coefficient: 0.13\n",
      "The number of clusters: 6, gamma: 1.000000, silhouette coefficient: 0.25\n",
      "The number of clusters: 7, gamma: 1.000000, silhouette coefficient: 0.26\n",
      "The number of clusters: 8, gamma: 1.000000, silhouette coefficient: 0.29\n",
      "The number of clusters: 9, gamma: 1.000000, silhouette coefficient: 0.22\n",
      "The number of clusters: 10, gamma: 1.000000, silhouette coefficient: 0.23\n"
     ]
    }
   ],
   "source": [
    "gam = [0.001, 0.01, 0.1, 0.25, 0.5, 1.0]\n",
    "\n",
    "for g in gam:\n",
    "    for k in range(2,11):\n",
    "        spect = SpectralClustering(n_clusters=k, random_state=11, n_jobs =-1, gamma= g)\n",
    "        spect.fit_predict(cust_scaled)\n",
    "        spectlabel = spect.labels_\n",
    "        score= silhouette_score(cust_scaled, spectlabel, metric='euclidean')\n",
    "        print(\"The number of clusters: %d, gamma: %f, silhouette coefficient: %0.2f\" % (k,g,score))"
   ]
  },
  {
   "cell_type": "markdown",
   "metadata": {},
   "source": [
    "## Agglomerative"
   ]
  },
  {
   "cell_type": "code",
   "execution_count": 11,
   "metadata": {},
   "outputs": [
    {
     "name": "stdout",
     "output_type": "stream",
     "text": [
      "The number of clusters: 2, silhouette coefficient: 0.38\n",
      "The number of clusters: 3, silhouette coefficient: 0.39\n",
      "The number of clusters: 4, silhouette coefficient: 0.40\n",
      "The number of clusters: 5, silhouette coefficient: 0.36\n",
      "The number of clusters: 6, silhouette coefficient: 0.38\n",
      "The number of clusters: 7, silhouette coefficient: 0.36\n",
      "The number of clusters: 8, silhouette coefficient: 0.38\n",
      "The number of clusters: 9, silhouette coefficient: 0.39\n",
      "The number of clusters: 10, silhouette coefficient: 0.39\n"
     ]
    }
   ],
   "source": [
    "# Agglomerative Clustering with 2-10 clusters \n",
    "for k in range(2,11):\n",
    "    agg = AgglomerativeClustering(n_clusters=k)\n",
    "    agg.fit_predict(cust_scaled)\n",
    "    labels = agg.labels_\n",
    "    score= silhouette_score(cust_scaled, labels, metric='euclidean')\n",
    "    print(\"The number of clusters: %d, silhouette coefficient: %0.2f\" % (k,score))"
   ]
  },
  {
   "cell_type": "markdown",
   "metadata": {},
   "source": [
    "## DBScan"
   ]
  },
  {
   "cell_type": "code",
   "execution_count": 12,
   "metadata": {},
   "outputs": [
    {
     "name": "stdout",
     "output_type": "stream",
     "text": [
      "Silhouette Coefficient: 0.204\n"
     ]
    }
   ],
   "source": [
    "db = DBSCAN()\n",
    "db.fit_predict(cust_scaled)\n",
    "labels = db.labels_\n",
    "score= silhouette_score(cust_scaled, labels, metric='euclidean')\n",
    "print(\"Silhouette Coefficient: %0.3f\"% silhouette_score(cust_scaled, labels, metric='euclidean'))"
   ]
  },
  {
   "cell_type": "markdown",
   "metadata": {},
   "source": [
    "#### Tuning"
   ]
  },
  {
   "cell_type": "code",
   "execution_count": 13,
   "metadata": {},
   "outputs": [
    {
     "name": "stdout",
     "output_type": "stream",
     "text": [
      "eps =  0.25 min_samples =  3\n",
      "Silhouette Coefficient: 0.085\n",
      "eps =  0.25 min_samples =  4\n",
      "Silhouette Coefficient: 0.102\n",
      "eps =  0.25 min_samples =  5\n",
      "Silhouette Coefficient: 0.116\n",
      "eps =  0.25 min_samples =  6\n",
      "Silhouette Coefficient: 0.202\n",
      "eps =  0.5 min_samples =  3\n",
      "Silhouette Coefficient: 0.187\n",
      "eps =  0.5 min_samples =  4\n",
      "Silhouette Coefficient: 0.237\n",
      "eps =  0.5 min_samples =  5\n",
      "Silhouette Coefficient: 0.204\n",
      "eps =  0.5 min_samples =  6\n",
      "Silhouette Coefficient: 0.135\n",
      "eps =  0.75 min_samples =  3\n",
      "Silhouette Coefficient: 0.222\n",
      "eps =  0.75 min_samples =  4\n",
      "Silhouette Coefficient: 0.256\n",
      "eps =  0.75 min_samples =  5\n",
      "Silhouette Coefficient: 0.255\n",
      "eps =  0.75 min_samples =  6\n",
      "Silhouette Coefficient: 0.257\n",
      "eps =  1 min_samples =  3\n",
      "Silhouette Coefficient: 0.225\n",
      "eps =  1 min_samples =  4\n",
      "Silhouette Coefficient: 0.225\n",
      "eps =  1 min_samples =  5\n",
      "Silhouette Coefficient: 0.225\n",
      "eps =  1 min_samples =  6\n",
      "Silhouette Coefficient: 0.237\n",
      "eps =  1.5 min_samples =  3\n",
      "Silhouette Coefficient: 0.307\n",
      "eps =  1.5 min_samples =  4\n",
      "Silhouette Coefficient: 0.328\n",
      "eps =  1.5 min_samples =  5\n",
      "Silhouette Coefficient: 0.329\n",
      "eps =  1.5 min_samples =  6\n",
      "Silhouette Coefficient: 0.330\n"
     ]
    }
   ],
   "source": [
    "ep = [0.25, 0.5, 0.75, 1, 1.5] #only clustered into one group at 2\n",
    "minsamp = [3, 4, 5, 6]\n",
    "\n",
    "for e in ep:\n",
    "    for m in minsamp:\n",
    "        db = DBSCAN(eps=e, min_samples=m, n_jobs=-1)\n",
    "        db.fit_predict(cust_scaled)\n",
    "        labels = db.labels_\n",
    "        print(\"eps = \", e, \"min_samples = \", m)\n",
    "        print(\"Silhouette Coefficient: %0.3f\"% silhouette_score(cust_scaled, labels, metric='euclidean'))"
   ]
  },
  {
   "cell_type": "markdown",
   "metadata": {},
   "source": [
    "# Officer Involved Shootings"
   ]
  },
  {
   "cell_type": "markdown",
   "metadata": {},
   "source": [
    "## Kmeans "
   ]
  },
  {
   "cell_type": "code",
   "execution_count": 14,
   "metadata": {},
   "outputs": [
    {
     "name": "stdout",
     "output_type": "stream",
     "text": [
      "The number of clusters, 2, and silhouette coefficient is 0.27\n",
      "The number of clusters, 3, and silhouette coefficient is 0.26\n",
      "The number of clusters, 4, and silhouette coefficient is 0.27\n",
      "The number of clusters, 5, and silhouette coefficient is 0.30\n",
      "The number of clusters, 6, and silhouette coefficient is 0.33\n",
      "The number of clusters, 7, and silhouette coefficient is 0.33\n",
      "The number of clusters, 8, and silhouette coefficient is 0.35\n",
      "The number of clusters, 9, and silhouette coefficient is 0.38\n",
      "The number of clusters, 10, and silhouette coefficient is 0.38\n"
     ]
    }
   ],
   "source": [
    "#KMeans Clustering of Custody data\n",
    "k_range = range(2,11)\n",
    "\n",
    "for i in k_range:\n",
    "    model = KMeans(n_clusters=i,random_state=11)\n",
    "    pred =model.fit_predict(shoot_scaled)\n",
    "    silhouette_avg = silhouette_score(shoot_scaled,pred)\n",
    "    print('The number of clusters, %d, and silhouette coefficient is %0.2f'% (i,silhouette_avg))"
   ]
  },
  {
   "cell_type": "markdown",
   "metadata": {},
   "source": [
    "## Spectral Clustering"
   ]
  },
  {
   "cell_type": "code",
   "execution_count": 15,
   "metadata": {},
   "outputs": [
    {
     "name": "stdout",
     "output_type": "stream",
     "text": [
      "The number of clusters, 2, and silhouette coefficient is 0.13\n",
      "The number of clusters, 3, and silhouette coefficient is 0.14\n",
      "The number of clusters, 4, and silhouette coefficient is 0.17\n",
      "The number of clusters, 5, and silhouette coefficient is 0.17\n",
      "The number of clusters, 6, and silhouette coefficient is 0.21\n",
      "The number of clusters, 7, and silhouette coefficient is 0.23\n",
      "The number of clusters, 8, and silhouette coefficient is 0.26\n",
      "The number of clusters, 9, and silhouette coefficient is 0.28\n",
      "The number of clusters, 10, and silhouette coefficient is 0.29\n"
     ]
    }
   ],
   "source": [
    "# Spectral clustering of Shooting data\n",
    "\n",
    "for k in range(2,11):\n",
    "    spect = SpectralClustering(n_clusters=k,random_state=11)\n",
    "    spect.fit_predict(shoot_scaled)\n",
    "    spectlabel = spect.labels_\n",
    "    score=silhouette_score(shoot_scaled, spectlabel, metric='euclidean')\n",
    "    print(\"The number of clusters, %d, and silhouette coefficient is %0.2f\" % (k,score))"
   ]
  },
  {
   "cell_type": "markdown",
   "metadata": {},
   "source": [
    "#### Tuning "
   ]
  },
  {
   "cell_type": "code",
   "execution_count": 16,
   "metadata": {},
   "outputs": [
    {
     "name": "stdout",
     "output_type": "stream",
     "text": [
      "The number of clusters: 2, gamma: 0.100000, silhouette coefficient: 0.22\n",
      "The number of clusters: 3, gamma: 0.100000, silhouette coefficient: 0.21\n",
      "The number of clusters: 4, gamma: 0.100000, silhouette coefficient: 0.26\n",
      "The number of clusters: 5, gamma: 0.100000, silhouette coefficient: 0.29\n",
      "The number of clusters: 6, gamma: 0.100000, silhouette coefficient: 0.29\n",
      "The number of clusters: 7, gamma: 0.100000, silhouette coefficient: 0.29\n",
      "The number of clusters: 8, gamma: 0.100000, silhouette coefficient: 0.28\n",
      "The number of clusters: 9, gamma: 0.100000, silhouette coefficient: 0.35\n",
      "The number of clusters: 10, gamma: 0.100000, silhouette coefficient: 0.36\n",
      "The number of clusters: 11, gamma: 0.100000, silhouette coefficient: 0.40\n",
      "The number of clusters: 12, gamma: 0.100000, silhouette coefficient: 0.38\n",
      "The number of clusters: 13, gamma: 0.100000, silhouette coefficient: 0.41\n",
      "The number of clusters: 14, gamma: 0.100000, silhouette coefficient: 0.41\n",
      "The number of clusters: 15, gamma: 0.100000, silhouette coefficient: 0.42\n",
      "The number of clusters: 16, gamma: 0.100000, silhouette coefficient: 0.42\n",
      "The number of clusters: 17, gamma: 0.100000, silhouette coefficient: 0.41\n",
      "The number of clusters: 18, gamma: 0.100000, silhouette coefficient: 0.43\n",
      "The number of clusters: 19, gamma: 0.100000, silhouette coefficient: 0.44\n",
      "The number of clusters: 20, gamma: 0.100000, silhouette coefficient: 0.44\n",
      "The number of clusters: 2, gamma: 0.500000, silhouette coefficient: 0.16\n",
      "The number of clusters: 3, gamma: 0.500000, silhouette coefficient: 0.16\n",
      "The number of clusters: 4, gamma: 0.500000, silhouette coefficient: 0.20\n",
      "The number of clusters: 5, gamma: 0.500000, silhouette coefficient: 0.25\n",
      "The number of clusters: 6, gamma: 0.500000, silhouette coefficient: 0.27\n",
      "The number of clusters: 7, gamma: 0.500000, silhouette coefficient: 0.28\n",
      "The number of clusters: 8, gamma: 0.500000, silhouette coefficient: 0.30\n",
      "The number of clusters: 9, gamma: 0.500000, silhouette coefficient: 0.32\n",
      "The number of clusters: 10, gamma: 0.500000, silhouette coefficient: 0.35\n",
      "The number of clusters: 11, gamma: 0.500000, silhouette coefficient: 0.36\n",
      "The number of clusters: 12, gamma: 0.500000, silhouette coefficient: 0.37\n",
      "The number of clusters: 13, gamma: 0.500000, silhouette coefficient: 0.38\n",
      "The number of clusters: 14, gamma: 0.500000, silhouette coefficient: 0.40\n",
      "The number of clusters: 15, gamma: 0.500000, silhouette coefficient: 0.38\n",
      "The number of clusters: 16, gamma: 0.500000, silhouette coefficient: 0.42\n",
      "The number of clusters: 17, gamma: 0.500000, silhouette coefficient: 0.41\n",
      "The number of clusters: 18, gamma: 0.500000, silhouette coefficient: 0.40\n",
      "The number of clusters: 19, gamma: 0.500000, silhouette coefficient: 0.40\n",
      "The number of clusters: 20, gamma: 0.500000, silhouette coefficient: 0.43\n",
      "The number of clusters: 2, gamma: 1.000000, silhouette coefficient: 0.13\n",
      "The number of clusters: 3, gamma: 1.000000, silhouette coefficient: 0.14\n",
      "The number of clusters: 4, gamma: 1.000000, silhouette coefficient: 0.17\n",
      "The number of clusters: 5, gamma: 1.000000, silhouette coefficient: 0.17\n",
      "The number of clusters: 6, gamma: 1.000000, silhouette coefficient: 0.21\n",
      "The number of clusters: 7, gamma: 1.000000, silhouette coefficient: 0.23\n",
      "The number of clusters: 8, gamma: 1.000000, silhouette coefficient: 0.26\n",
      "The number of clusters: 9, gamma: 1.000000, silhouette coefficient: 0.28\n",
      "The number of clusters: 10, gamma: 1.000000, silhouette coefficient: 0.29\n",
      "The number of clusters: 11, gamma: 1.000000, silhouette coefficient: 0.27\n",
      "The number of clusters: 12, gamma: 1.000000, silhouette coefficient: 0.32\n",
      "The number of clusters: 13, gamma: 1.000000, silhouette coefficient: 0.30\n",
      "The number of clusters: 14, gamma: 1.000000, silhouette coefficient: 0.29\n",
      "The number of clusters: 15, gamma: 1.000000, silhouette coefficient: 0.32\n",
      "The number of clusters: 16, gamma: 1.000000, silhouette coefficient: 0.33\n",
      "The number of clusters: 17, gamma: 1.000000, silhouette coefficient: 0.35\n",
      "The number of clusters: 18, gamma: 1.000000, silhouette coefficient: 0.36\n",
      "The number of clusters: 19, gamma: 1.000000, silhouette coefficient: 0.36\n",
      "The number of clusters: 20, gamma: 1.000000, silhouette coefficient: 0.34\n",
      "The number of clusters: 2, gamma: 1.500000, silhouette coefficient: 0.10\n",
      "The number of clusters: 3, gamma: 1.500000, silhouette coefficient: 0.09\n",
      "The number of clusters: 4, gamma: 1.500000, silhouette coefficient: 0.10\n",
      "The number of clusters: 5, gamma: 1.500000, silhouette coefficient: 0.14\n",
      "The number of clusters: 6, gamma: 1.500000, silhouette coefficient: 0.16\n",
      "The number of clusters: 7, gamma: 1.500000, silhouette coefficient: 0.21\n",
      "The number of clusters: 8, gamma: 1.500000, silhouette coefficient: 0.24\n",
      "The number of clusters: 9, gamma: 1.500000, silhouette coefficient: 0.26\n",
      "The number of clusters: 10, gamma: 1.500000, silhouette coefficient: 0.24\n",
      "The number of clusters: 11, gamma: 1.500000, silhouette coefficient: 0.24\n",
      "The number of clusters: 12, gamma: 1.500000, silhouette coefficient: 0.25\n",
      "The number of clusters: 13, gamma: 1.500000, silhouette coefficient: 0.26\n",
      "The number of clusters: 14, gamma: 1.500000, silhouette coefficient: 0.28\n",
      "The number of clusters: 15, gamma: 1.500000, silhouette coefficient: 0.29\n",
      "The number of clusters: 16, gamma: 1.500000, silhouette coefficient: 0.29\n",
      "The number of clusters: 17, gamma: 1.500000, silhouette coefficient: 0.30\n",
      "The number of clusters: 18, gamma: 1.500000, silhouette coefficient: 0.30\n",
      "The number of clusters: 19, gamma: 1.500000, silhouette coefficient: 0.32\n",
      "The number of clusters: 20, gamma: 1.500000, silhouette coefficient: 0.34\n"
     ]
    }
   ],
   "source": [
    "gam = [0.1, 0.5, 1.0, 1.5]\n",
    "\n",
    "for g in gam:\n",
    "    for k in range(2,21):\n",
    "        spect = SpectralClustering(n_clusters=k, random_state=11, n_jobs =-1, gamma= g)\n",
    "        spect.fit_predict(shoot_scaled)\n",
    "        spectlabel = spect.labels_\n",
    "        score= silhouette_score(shoot_scaled, spectlabel, metric='euclidean')\n",
    "        print(\"The number of clusters: %d, gamma: %f, silhouette coefficient: %0.2f\" % (k,g,score))"
   ]
  },
  {
   "cell_type": "markdown",
   "metadata": {},
   "source": [
    "## Agglomerative Clustering"
   ]
  },
  {
   "cell_type": "code",
   "execution_count": 17,
   "metadata": {},
   "outputs": [
    {
     "name": "stdout",
     "output_type": "stream",
     "text": [
      "The number of clusters: 2, silhouette coefficient: 0.24\n",
      "The number of clusters: 3, silhouette coefficient: 0.26\n",
      "The number of clusters: 4, silhouette coefficient: 0.25\n",
      "The number of clusters: 5, silhouette coefficient: 0.26\n",
      "The number of clusters: 6, silhouette coefficient: 0.28\n",
      "The number of clusters: 7, silhouette coefficient: 0.31\n",
      "The number of clusters: 8, silhouette coefficient: 0.29\n",
      "The number of clusters: 9, silhouette coefficient: 0.31\n",
      "The number of clusters: 10, silhouette coefficient: 0.32\n"
     ]
    }
   ],
   "source": [
    "# Agglomerative Clustering with 2-10 clusters \n",
    "for k in range(2,11):\n",
    "    agg = AgglomerativeClustering(n_clusters=k)\n",
    "    agg.fit_predict(shoot_scaled)\n",
    "    labels = agg.labels_\n",
    "    score= silhouette_score(shoot_scaled, labels, metric='euclidean')\n",
    "    print(\"The number of clusters: %d, silhouette coefficient: %0.2f\" % (k,score))"
   ]
  },
  {
   "cell_type": "markdown",
   "metadata": {},
   "source": [
    "## DBScan"
   ]
  },
  {
   "cell_type": "markdown",
   "metadata": {},
   "source": [
    "#### Tuning"
   ]
  },
  {
   "cell_type": "code",
   "execution_count": 18,
   "metadata": {},
   "outputs": [
    {
     "name": "stdout",
     "output_type": "stream",
     "text": [
      "eps =  0.1 min_samples =  1\n",
      "Silhouette Coefficient: 0.586\n",
      "eps =  0.1 min_samples =  2\n",
      "Silhouette Coefficient: 0.287\n",
      "eps =  0.1 min_samples =  3\n",
      "Silhouette Coefficient: 0.020\n",
      "eps =  0.1 min_samples =  4\n",
      "Silhouette Coefficient: -0.104\n",
      "eps =  0.1 min_samples =  5\n",
      "Silhouette Coefficient: -0.111\n",
      "eps =  0.25 min_samples =  1\n",
      "Silhouette Coefficient: 0.598\n",
      "eps =  0.25 min_samples =  2\n",
      "Silhouette Coefficient: 0.547\n",
      "eps =  0.25 min_samples =  3\n",
      "Silhouette Coefficient: 0.449\n",
      "eps =  0.25 min_samples =  4\n",
      "Silhouette Coefficient: 0.317\n",
      "eps =  0.25 min_samples =  5\n",
      "Silhouette Coefficient: 0.234\n",
      "eps =  0.5 min_samples =  1\n",
      "Silhouette Coefficient: 0.398\n",
      "eps =  0.5 min_samples =  2\n",
      "Silhouette Coefficient: 0.398\n",
      "eps =  0.5 min_samples =  3\n",
      "Silhouette Coefficient: 0.359\n",
      "eps =  0.5 min_samples =  4\n",
      "Silhouette Coefficient: 0.330\n",
      "eps =  0.5 min_samples =  5\n",
      "Silhouette Coefficient: 0.257\n",
      "eps =  0.75 min_samples =  1\n",
      "Silhouette Coefficient: 0.320\n",
      "eps =  0.75 min_samples =  2\n",
      "Silhouette Coefficient: 0.335\n",
      "eps =  0.75 min_samples =  3\n",
      "Silhouette Coefficient: 0.323\n",
      "eps =  0.75 min_samples =  4\n",
      "Silhouette Coefficient: 0.338\n",
      "eps =  0.75 min_samples =  5\n",
      "Silhouette Coefficient: 0.313\n",
      "eps =  1 min_samples =  1\n",
      "Silhouette Coefficient: 0.123\n",
      "eps =  1 min_samples =  2\n",
      "Silhouette Coefficient: 0.242\n",
      "eps =  1 min_samples =  3\n",
      "Silhouette Coefficient: 0.238\n",
      "eps =  1 min_samples =  4\n",
      "Silhouette Coefficient: 0.238\n",
      "eps =  1 min_samples =  5\n",
      "Silhouette Coefficient: 0.240\n",
      "eps =  2 min_samples =  1\n",
      "Silhouette Coefficient: 0.256\n",
      "eps =  2 min_samples =  2\n",
      "Silhouette Coefficient: 0.256\n",
      "eps =  2 min_samples =  3\n",
      "Silhouette Coefficient: 0.256\n",
      "eps =  2 min_samples =  4\n",
      "Silhouette Coefficient: 0.256\n",
      "eps =  2 min_samples =  5\n",
      "Silhouette Coefficient: 0.256\n"
     ]
    }
   ],
   "source": [
    "ep = [0.1, 0.25, 0.5, 0.75, 1, 2] #groups into one cluster at 3\n",
    "minsamp = [1, 2, 3, 4,5] \n",
    "\n",
    "for e in ep:\n",
    "    for m in minsamp:\n",
    "        db = DBSCAN(eps=e, min_samples=m, n_jobs=-1)\n",
    "        db.fit_predict(shoot_scaled)\n",
    "        labels = db.labels_\n",
    "        print(\"eps = \", e, \"min_samples = \", m)\n",
    "        print(\"Silhouette Coefficient: %0.3f\"% silhouette_score(shoot_scaled, labels, metric='euclidean'))"
   ]
  },
  {
   "cell_type": "code",
   "execution_count": null,
   "metadata": {},
   "outputs": [],
   "source": []
  },
  {
   "cell_type": "code",
   "execution_count": null,
   "metadata": {},
   "outputs": [],
   "source": []
  },
  {
   "cell_type": "markdown",
   "metadata": {},
   "source": [
    "# Checking labels"
   ]
  },
  {
   "cell_type": "markdown",
   "metadata": {},
   "source": [
    "### Deaths in Custody"
   ]
  },
  {
   "cell_type": "code",
   "execution_count": 19,
   "metadata": {},
   "outputs": [
    {
     "name": "stdout",
     "output_type": "stream",
     "text": [
      "[0 0 2 ..., 6 6 0]\n"
     ]
    }
   ],
   "source": [
    "#Kmeans\n",
    "#The number of clusters, 7, and silhouette coefficient is 0.44\n",
    "model = KMeans(n_clusters= 7,random_state=11)\n",
    "model.fit_predict(cust_scaled)\n",
    "print(model.labels_)\n",
    "kmeans_cust= model.labels_"
   ]
  },
  {
   "cell_type": "code",
   "execution_count": 20,
   "metadata": {},
   "outputs": [
    {
     "name": "stdout",
     "output_type": "stream",
     "text": [
      "[7 7 7 ..., 3 3 7]\n"
     ]
    }
   ],
   "source": [
    "#The number of clusters: 8, gamma: 0.010000, silhouette coefficient: 0.45\n",
    "spect = SpectralClustering(n_clusters=8, random_state=11, n_jobs =-1, gamma= 0.01)\n",
    "spect.fit_predict(cust_scaled)\n",
    "labels = spect.labels_\n",
    "print(labels)\n",
    "spectral_cust = labels"
   ]
  },
  {
   "cell_type": "code",
   "execution_count": null,
   "metadata": {},
   "outputs": [],
   "source": []
  },
  {
   "cell_type": "markdown",
   "metadata": {},
   "source": [
    "### Officer Involved Shootings"
   ]
  },
  {
   "cell_type": "code",
   "execution_count": 21,
   "metadata": {},
   "outputs": [
    {
     "name": "stdout",
     "output_type": "stream",
     "text": [
      "[0 0 8 7 0 2 1 6 1 4 7 7 1 2 5 5 5 4 7 1 2 2 1 1 8 5 5 0 2 0 6 0 5 0 1 2 7\n",
      " 7 8 6 3 7 6 1 4 3 7 6 6 5 5 8 7 6 3 4 1 3 2 8 6 1 1 3 1 1 3 0 1 1 2 0 8 5\n",
      " 2 4 0 1 8 6 1 1 8 0 3 7 1 4 1 0 7 2 2 6 0 1 2 3 1 3 3 6 2 7 3 8 1 3 5 7 5\n",
      " 1 4 8 2 3 7 8 3 7 6 8 7 5 3 0 0 2 7 1 7 4 8 3 3 8 6 7 6 8 3 1 3 3 3 8 3 3\n",
      " 0 3 1 0 7 3 1 4 2 4 7 4 4 1 5 4 8 7 7 8 0 7 8 4 5 6 6 6 4 4 6 5 7 3 3 4 1\n",
      " 7 3 1 5 5 5 6 8 0 5 0 3 7 0 5 7 1 0 4 3 7 7 8 3 4 8 1 0 4 5 8 3 4 3 3 5 4\n",
      " 3 5 2 3 1 2 0 8 1 1 0 3 2 1 3 1 2 6 3 3 1 1 6 8 3 1 6 0 8 3 7 3 4 4 2 2 4\n",
      " 3 4 5 2 7 3 3 3 6 5 1 3 2 3 0 7 1 1 3 1 1 5 3 1 1 6 0 2 0 3 1 7 6 3 3 3 8\n",
      " 5 1 0 3 3 6 6 3 1 5 1 7 8 1 3 3 1 3 4 6 7 3 6 7 2 0 1 2 2 3 1 8 5 2 0 5 4\n",
      " 7 3 1 4 1 4 4 7 3 8 1 7 1 3 1 4 0 0 6 8 0 8 5 3 3 3 6 3 3 3 1 0 1 1 0 6 1\n",
      " 3 6 3 2 5 0 1 3 4 3 3 1 0 5 1 4 2 2 7 2 3 3 3 4 6 0 1 5 8 6 3 8 1 3 2 7 7\n",
      " 7 4 4 6 1 1 1 6 7 7 1 5 1 6 1 4 6 4 6 4 4 3 3 2 3 4 4 4 4 5 4 5 4 0 7 7 0\n",
      " 5 8 0 2 0 0 7 2 2 5 5 3 4 3 6 0 3 0 5 0 2 5 3 4 4 3 5 0 5 5 4 4 0 1 0 5 2\n",
      " 4 1 4 0 0 0 3 0 0 3 3 0 3 5 0 7 7 7 4 4 8 8 1 1 6 6 1 1 3 4 8 6 6 6 2 2 7\n",
      " 1 6 2 4 7 1 3 6 6 3 3 1 1 1 4 3 3 3 3 3 1 1 1 3 3 4 4 1 3 2 6 6 6 3 3 3 3\n",
      " 0 1 1 1 3 8 6 3 1 1 1 3 3 1 1 1 1 1 1 4 4 4 1 4 3 7 4 4 7 1 1 0 1 1 3 1 1\n",
      " 4 4 4 6 6 3 1 1 3 1 1 2 2 2 0 3 1 3 1 2 6 2 6 8 8 8 2 1 3 3 4 4 3 3 3 2 6\n",
      " 2 6 8 2 3 3 4 1 3 8 2]\n"
     ]
    }
   ],
   "source": [
    "# Kmeans\n",
    "#The number of clusters, 9, and silhouette coefficient is 0.38\n",
    "model = KMeans(n_clusters= 9,random_state=11)\n",
    "model.fit_predict(shoot_scaled)\n",
    "print(model.labels_)\n",
    "kmeans_shoot = model.labels_"
   ]
  },
  {
   "cell_type": "code",
   "execution_count": 22,
   "metadata": {},
   "outputs": [
    {
     "name": "stdout",
     "output_type": "stream",
     "text": [
      "[ 1  1  6  8  1  7  2  7  2 10  4  8  2  0  5  9 10 10  4  2  9  0  2  2  9\n",
      "  5  5  1  0  1  8  1  5  1  2  7  8  4  9  8  3  4  7  2 10  3  8  7  4 10\n",
      "  5  6  4  7  3 10  2  3  0  9  7  2  2  3  2  2  3  1  2  5  0  1  6  5  0\n",
      " 10  1  2  9  7  2  2  6  1  3  4  2 10  2  1  4  0  9  7  1  2  0  3  2  3\n",
      "  3  7  0  4  3  9  2  3  9  4 10  2 10  9  0  3  8  9  3  4  7  6  8  9  3\n",
      "  1  1  0  8  2  4 10  9  3  3  9  4  4  7  6  3  2  3  3  3  6  3  3  1  3\n",
      "  2  1  4  3  2 10  7 10  8 10 10  2  5 10  9  8  8  9  1  8  9 10  5  8  4\n",
      "  7 10 10  8 10  4  3  3 10  2  4  3  2  8  9  5  7  6  1  5  1  3  8  1  5\n",
      "  8  2  1 10  3  8  8  9  3 10  6  5  1 10  9  9  3 10  3  2  9 10  3  5  0\n",
      "  3  2  0  1  6  2  2  1  3  0  2  3  2  9  7  3  3  2  2  7  6  3  2  7  1\n",
      "  6  3  8  3 10 10  0  0 10  3 10  9  0  4  3  3  3  7  8  2  3  7  3  1  8\n",
      "  2  2  3  2  2  5  3  2  2  7  1  0  1  3  2  4  4  3  3  3  6  5  2  1  3\n",
      "  3  4  7  3  2  8  2  4  6  2  3  3  2  3 10  7  4  3  7  4  9  1  2  0  0\n",
      "  3  2  6  5  0  1  5 10  4  3  2 10  2 10 10  4  3  6  5  4  2  3  2 10  1\n",
      "  1  7  9  1  6 10  3  3  3  7  3  3  3  2  1  2  2  1  4  2  3  4  3  0  9\n",
      "  1  2  3 10  3  3  2  1  5  2 10  9  0  4  0  3  3  3 10  7  1  2 10  6  7\n",
      "  3  9  2  3  0  8  4  4 10 10  7  2  2  2  7  4  4  2  5  2  4  2 10  7 10\n",
      "  8 10 10  3  3  7  3 10 10 10 10  5 10  8 10  1  4  8  1  5  6  1  7  1  1\n",
      "  4  0  0  5  5  3 10  3  7  1  3  1  8  5  9  5  3 10 10  3  5  1  9  5 10\n",
      " 10  1  2  1  8  0 10  2 10  1  4  1  3  5  1  3  3  1  3  5  1  4  4  4 10\n",
      " 10  6  6  2  2  4  7  2  2  3 10  6  7  7  7  0  0  4  2  7  0 10  8  2  3\n",
      "  7  7  3  3  2  2  2 10  3  3  3  3  3  2  2  2  3  3 10 10  2  3  0  7  7\n",
      "  7  3  3  3  3  1  2  2  2  3  9  7  3  2  2  2  3  3  2  2  2  2  2  2 10\n",
      " 10 10  2 10  3  8 10 10  8  2  2  1  2  2  3  2  2 10 10 10  7  7  3  2  2\n",
      "  3  2  2  0  0  0  1  3  2  3  2  0  7  0  7  6  6  6  0  2  3  3 10 10  3\n",
      "  3  3  0  7  0  4  6  0  3  3 10  2  3  6  0]\n"
     ]
    }
   ],
   "source": [
    "# Spectral\n",
    "# The number of clusters: 11, gamma: 0.100000, silhouette coefficient: 0.40\n",
    "spect = SpectralClustering(n_clusters=11, random_state=11, n_jobs =-1, gamma= 0.1)\n",
    "spect.fit_predict(shoot_scaled)\n",
    "labels = spect.labels_\n",
    "print(labels)\n",
    "spectral_shoot = labels"
   ]
  },
  {
   "cell_type": "code",
   "execution_count": 23,
   "metadata": {},
   "outputs": [
    {
     "name": "stdout",
     "output_type": "stream",
     "text": [
      "[  0   1   2   3   4   5   6   7   8   9  10  11   8  12  13  14  15  16\n",
      "  10  17  18  19  20   8  21  22  23   0  24  25  26  25  23   0   8   5\n",
      "  27  28  29  26  30  10  31   6  32  33  27  34  35  36  37  38  28  39\n",
      "  40  16  20  33  41  29  39   8   8  40   8  20  42  43   8  44  24  45\n",
      "  46  47  19  48  43   8  29  49   8   8  50  45  42  10  51  16   8  43\n",
      "  52  53  54  55  45   8  56  30  20  57  33  58  24  52  30  59   8  40\n",
      "  60  10  15  20  61  62  56  63  27  29  63  10  39  64   3  65  33  43\n",
      "   1  66  27   8  52  67  29  57  30  29  68  69  70  71  40  20  40  40\n",
      "  42  46  72  40   4  40   8   4  73  40   8  74   5  75  27  67  32  20\n",
      "  76  67  62   3   3  21  25  27  21  74  77  78  68  70  79  74  78  15\n",
      "  10  40  33  80   8  10  42  20  11  81  22  82  64  83  84  25  33  27\n",
      "  43  13  27   8   1  85  86   3  27  59  30  67  64  44  87   9  14  59\n",
      "  57  67  40  88  89  16  90  91  41  40  51  19  45  92   6   8  45  40\n",
      "  93   8  94  95  18  39  40  30  20  20  82  46  40   8  96  45  46  42\n",
      "   3  40  48  97  41  98  67  99 100 101  24  52  40  30 102 103  11 104\n",
      "  33   5  99   1  27   8   6  30   8  20 105  94   8   8  82  43  56  43\n",
      " 106   8  28 107  57  40  33  50  76   6  43 108  33 109 110  40   8  11\n",
      "  20  28 111   8  40 112  51  33  67  39  10  40 113  69 114   4   8 115\n",
      " 116  33  51  92 117  24   4 118 119  28  33  20  67 120  16  67  28  33\n",
      "  46  44  28   8  99   8 100 121   0  82  29  25 122  15  40  42  40  39\n",
      "  33  40  30  20   4   8   8   4 123  20  40  35  30  56 124  43   8 125\n",
      "  67  30 125  20   0 126   6 100 127  56  10  19  40  30 128  67 129   4\n",
      " 104 130  50   7  42  62   8  30  19 131  52  28  67  61  58  20  20   6\n",
      " 132  28  52  20  76  20  35   8 100 133 134 135 100 100  30  40 136 125\n",
      "  67  32  67 100 137  16 138  32 121  52  27   4  22  71   4   5  43  25\n",
      "  28  66  53 139  22 106 100  63  34  45  42  43  11 140 141  22 142 100\n",
      "  75 143 144   4 145  23 146 147   4  20  25  11  56   9   6  16   0 148\n",
      "   4  94 140   4  63  30   4  63 149  43 150  10  10  67  67 151 151   6\n",
      "   6  35  70   8   8  40 100 151  39  70 129 152 152  73   6  70  66 100\n",
      " 153   6  42  70  70  42  42   8   8   6  67  40  40  90  90  40   8   8\n",
      "   8  40  40  67  67   8  40  24 129 129 129  40  40 125  40  43   8   8\n",
      "   8  40  29 154  42   6   6   6  40  40   8   6   6   6   6   8 100 100\n",
      "  67   8 100  40 153 100 155 153 120   8  43   8   8  40   8   8   9  67\n",
      "  67  70 154  40   8   8  42   6   6 152  24  24  83 125   8  40   8  66\n",
      "  70  24  39  64  64  64  24   8  40  40 100 100 125 125  40  24  39  24\n",
      "  68  64  24  99  99 100   8  40  64  24]\n"
     ]
    }
   ],
   "source": [
    "#DBScan\n",
    "#eps =  0.25 min_samples =  1\n",
    "#Silhouette Coefficient: 0.598\n",
    "\n",
    "dbst = DBSCAN(eps= 0.25, min_samples=1, n_jobs=-1)\n",
    "dbst.fit_predict(shoot_scaled)\n",
    "labels = dbst.labels_\n",
    "print(labels)\n",
    "dbshoot = labels"
   ]
  },
  {
   "cell_type": "code",
   "execution_count": null,
   "metadata": {},
   "outputs": [],
   "source": []
  },
  {
   "cell_type": "markdown",
   "metadata": {},
   "source": [
    "# But what does it mean?"
   ]
  },
  {
   "cell_type": "code",
   "execution_count": 24,
   "metadata": {},
   "outputs": [],
   "source": [
    "cust['Kmeans Cluster']=kmeans_cust.astype(str)"
   ]
  },
  {
   "cell_type": "code",
   "execution_count": 25,
   "metadata": {},
   "outputs": [],
   "source": [
    "cust['spectral'] = spectral_cust"
   ]
  },
  {
   "cell_type": "code",
   "execution_count": 26,
   "metadata": {},
   "outputs": [
    {
     "data": {
      "text/html": [
       "<div>\n",
       "<style scoped>\n",
       "    .dataframe tbody tr th:only-of-type {\n",
       "        vertical-align: middle;\n",
       "    }\n",
       "\n",
       "    .dataframe tbody tr th {\n",
       "        vertical-align: top;\n",
       "    }\n",
       "\n",
       "    .dataframe thead th {\n",
       "        text-align: right;\n",
       "    }\n",
       "</style>\n",
       "<table border=\"1\" class=\"dataframe\">\n",
       "  <thead>\n",
       "    <tr style=\"text-align: right;\">\n",
       "      <th></th>\n",
       "      <th>custody_type</th>\n",
       "      <th>race</th>\n",
       "      <th>death_type</th>\n",
       "      <th>age</th>\n",
       "      <th>Kmeans Cluster</th>\n",
       "      <th>spectral</th>\n",
       "    </tr>\n",
       "  </thead>\n",
       "  <tbody>\n",
       "    <tr>\n",
       "      <th>0</th>\n",
       "      <td>2</td>\n",
       "      <td>4</td>\n",
       "      <td>5</td>\n",
       "      <td>58.0</td>\n",
       "      <td>0</td>\n",
       "      <td>7</td>\n",
       "    </tr>\n",
       "    <tr>\n",
       "      <th>1</th>\n",
       "      <td>2</td>\n",
       "      <td>3</td>\n",
       "      <td>5</td>\n",
       "      <td>76.0</td>\n",
       "      <td>0</td>\n",
       "      <td>7</td>\n",
       "    </tr>\n",
       "    <tr>\n",
       "      <th>2</th>\n",
       "      <td>1</td>\n",
       "      <td>4</td>\n",
       "      <td>6</td>\n",
       "      <td>30.0</td>\n",
       "      <td>2</td>\n",
       "      <td>7</td>\n",
       "    </tr>\n",
       "    <tr>\n",
       "      <th>3</th>\n",
       "      <td>2</td>\n",
       "      <td>1</td>\n",
       "      <td>1</td>\n",
       "      <td>39.0</td>\n",
       "      <td>3</td>\n",
       "      <td>4</td>\n",
       "    </tr>\n",
       "    <tr>\n",
       "      <th>4</th>\n",
       "      <td>2</td>\n",
       "      <td>1</td>\n",
       "      <td>5</td>\n",
       "      <td>31.0</td>\n",
       "      <td>6</td>\n",
       "      <td>0</td>\n",
       "    </tr>\n",
       "  </tbody>\n",
       "</table>\n",
       "</div>"
      ],
      "text/plain": [
       "   custody_type  race  death_type   age Kmeans Cluster  spectral\n",
       "0             2     4           5  58.0              0         7\n",
       "1             2     3           5  76.0              0         7\n",
       "2             1     4           6  30.0              2         7\n",
       "3             2     1           1  39.0              3         4\n",
       "4             2     1           5  31.0              6         0"
      ]
     },
     "execution_count": 26,
     "metadata": {},
     "output_type": "execute_result"
    }
   ],
   "source": [
    "cust.head()"
   ]
  },
  {
   "cell_type": "code",
   "execution_count": 27,
   "metadata": {},
   "outputs": [
    {
     "name": "stdout",
     "output_type": "stream",
     "text": [
      "0    2551\n",
      "1    2027\n",
      "6     792\n",
      "4     789\n",
      "2     617\n",
      "5     487\n",
      "3     466\n",
      "Name: Kmeans Cluster, dtype: int64\n",
      "0    0.330056\n",
      "1    0.262259\n",
      "6    0.102471\n",
      "4    0.102083\n",
      "2    0.079829\n",
      "5    0.063009\n",
      "3    0.060292\n",
      "Name: Kmeans Cluster, dtype: float64\n"
     ]
    }
   ],
   "source": [
    "# looks at % in each cluster of Kmeans model for Custody data\n",
    "cust_kmean = cust['Kmeans Cluster'].value_counts()\n",
    "cuskm_perct= cust_kmean / len(cust['Kmeans Cluster'])\n",
    "print(cust_kmean)\n",
    "print(cuskm_perct)"
   ]
  },
  {
   "cell_type": "code",
   "execution_count": 28,
   "metadata": {},
   "outputs": [
    {
     "name": "stdout",
     "output_type": "stream",
     "text": [
      "7    2762\n",
      "0    2016\n",
      "1     687\n",
      "6     685\n",
      "3     586\n",
      "4     480\n",
      "5     328\n",
      "2     185\n",
      "Name: spectral, dtype: int64\n",
      "7    0.357355\n",
      "0    0.260836\n",
      "1    0.088886\n",
      "6    0.088627\n",
      "3    0.075818\n",
      "4    0.062104\n",
      "5    0.042438\n",
      "2    0.023936\n",
      "Name: spectral, dtype: float64\n"
     ]
    }
   ],
   "source": [
    "# looks at % in each cluster of Spectral model for Custody data\n",
    "cust_spect = cust['spectral'].value_counts()\n",
    "cussp_perct= cust_spect / len(cust['spectral'])\n",
    "print(cust_spect)\n",
    "print(cussp_perct)"
   ]
  },
  {
   "cell_type": "code",
   "execution_count": null,
   "metadata": {},
   "outputs": [],
   "source": []
  },
  {
   "cell_type": "code",
   "execution_count": 29,
   "metadata": {},
   "outputs": [],
   "source": [
    "shoot['Kmeans Cluster']=kmeans_shoot.astype(str)"
   ]
  },
  {
   "cell_type": "code",
   "execution_count": 30,
   "metadata": {},
   "outputs": [],
   "source": [
    "shoot['spectral'] = spectral_shoot"
   ]
  },
  {
   "cell_type": "code",
   "execution_count": 31,
   "metadata": {},
   "outputs": [],
   "source": [
    "shoot['dbscan']= dbshoot"
   ]
  },
  {
   "cell_type": "code",
   "execution_count": 32,
   "metadata": {},
   "outputs": [
    {
     "data": {
      "text/html": [
       "<div>\n",
       "<style scoped>\n",
       "    .dataframe tbody tr th:only-of-type {\n",
       "        vertical-align: middle;\n",
       "    }\n",
       "\n",
       "    .dataframe tbody tr th {\n",
       "        vertical-align: top;\n",
       "    }\n",
       "\n",
       "    .dataframe thead th {\n",
       "        text-align: right;\n",
       "    }\n",
       "</style>\n",
       "<table border=\"1\" class=\"dataframe\">\n",
       "  <thead>\n",
       "    <tr style=\"text-align: right;\">\n",
       "      <th></th>\n",
       "      <th>age</th>\n",
       "      <th>fatality</th>\n",
       "      <th>armed</th>\n",
       "      <th>race</th>\n",
       "      <th>mult_officers</th>\n",
       "      <th>Kmeans Cluster</th>\n",
       "      <th>spectral</th>\n",
       "      <th>dbscan</th>\n",
       "    </tr>\n",
       "  </thead>\n",
       "  <tbody>\n",
       "    <tr>\n",
       "      <th>0</th>\n",
       "      <td>26.0</td>\n",
       "      <td>0</td>\n",
       "      <td>2</td>\n",
       "      <td>4</td>\n",
       "      <td>0</td>\n",
       "      <td>0</td>\n",
       "      <td>1</td>\n",
       "      <td>0</td>\n",
       "    </tr>\n",
       "    <tr>\n",
       "      <th>1</th>\n",
       "      <td>16.0</td>\n",
       "      <td>0</td>\n",
       "      <td>2</td>\n",
       "      <td>2</td>\n",
       "      <td>0</td>\n",
       "      <td>0</td>\n",
       "      <td>1</td>\n",
       "      <td>1</td>\n",
       "    </tr>\n",
       "    <tr>\n",
       "      <th>2</th>\n",
       "      <td>26.0</td>\n",
       "      <td>0</td>\n",
       "      <td>2</td>\n",
       "      <td>0</td>\n",
       "      <td>1</td>\n",
       "      <td>8</td>\n",
       "      <td>6</td>\n",
       "      <td>2</td>\n",
       "    </tr>\n",
       "    <tr>\n",
       "      <th>3</th>\n",
       "      <td>35.0</td>\n",
       "      <td>0</td>\n",
       "      <td>0</td>\n",
       "      <td>4</td>\n",
       "      <td>0</td>\n",
       "      <td>7</td>\n",
       "      <td>8</td>\n",
       "      <td>3</td>\n",
       "    </tr>\n",
       "    <tr>\n",
       "      <th>4</th>\n",
       "      <td>30.0</td>\n",
       "      <td>0</td>\n",
       "      <td>2</td>\n",
       "      <td>2</td>\n",
       "      <td>0</td>\n",
       "      <td>0</td>\n",
       "      <td>1</td>\n",
       "      <td>4</td>\n",
       "    </tr>\n",
       "  </tbody>\n",
       "</table>\n",
       "</div>"
      ],
      "text/plain": [
       "    age  fatality  armed  race  mult_officers Kmeans Cluster  spectral  dbscan\n",
       "0  26.0         0      2     4              0              0         1       0\n",
       "1  16.0         0      2     2              0              0         1       1\n",
       "2  26.0         0      2     0              1              8         6       2\n",
       "3  35.0         0      0     4              0              7         8       3\n",
       "4  30.0         0      2     2              0              0         1       4"
      ]
     },
     "execution_count": 32,
     "metadata": {},
     "output_type": "execute_result"
    }
   ],
   "source": [
    "shoot.head()"
   ]
  },
  {
   "cell_type": "code",
   "execution_count": 33,
   "metadata": {},
   "outputs": [
    {
     "name": "stdout",
     "output_type": "stream",
     "text": [
      "3    128\n",
      "1    118\n",
      "4     73\n",
      "0     61\n",
      "6     59\n",
      "7     56\n",
      "2     54\n",
      "5     47\n",
      "8     44\n",
      "Name: Kmeans Cluster, dtype: int64\n",
      "3    0.200000\n",
      "1    0.184375\n",
      "4    0.114062\n",
      "0    0.095312\n",
      "6    0.092188\n",
      "7    0.087500\n",
      "2    0.084375\n",
      "5    0.073438\n",
      "8    0.068750\n",
      "Name: Kmeans Cluster, dtype: float64\n"
     ]
    }
   ],
   "source": [
    "# looks at % in each cluster of Kmeans model for Shooting data\n",
    "shoot_kmean = shoot['Kmeans Cluster'].value_counts()\n",
    "shkm_perct= shoot_kmean / len(shoot['Kmeans Cluster'])\n",
    "print(shoot_kmean)\n",
    "print(shkm_perct)"
   ]
  },
  {
   "cell_type": "code",
   "execution_count": 35,
   "metadata": {},
   "outputs": [
    {
     "name": "stdout",
     "output_type": "stream",
     "text": [
      "3     127\n",
      "2     116\n",
      "10     79\n",
      "1      58\n",
      "7      50\n",
      "4      45\n",
      "0      42\n",
      "8      33\n",
      "9      32\n",
      "5      31\n",
      "6      27\n",
      "Name: spectral, dtype: int64\n",
      "3     0.198437\n",
      "2     0.181250\n",
      "10    0.123438\n",
      "1     0.090625\n",
      "7     0.078125\n",
      "4     0.070312\n",
      "0     0.065625\n",
      "8     0.051562\n",
      "9     0.050000\n",
      "5     0.048438\n",
      "6     0.042188\n",
      "Name: spectral, dtype: float64\n"
     ]
    }
   ],
   "source": [
    "# looks at % in each cluster of Spectral model for Shooting data\n",
    "shoot_spect = shoot['spectral'].value_counts()\n",
    "shsp_perct= shoot_spect / len(shoot['spectral'])\n",
    "print(shoot_spect)\n",
    "print(shsp_perct)"
   ]
  },
  {
   "cell_type": "code",
   "execution_count": 36,
   "metadata": {},
   "outputs": [
    {
     "name": "stdout",
     "output_type": "stream",
     "text": [
      "0       6\n",
      "1       4\n",
      "2       1\n",
      "3       6\n",
      "4      15\n",
      "5       5\n",
      "6      22\n",
      "7       2\n",
      "8      62\n",
      "9       4\n",
      "10     12\n",
      "11      6\n",
      "12      1\n",
      "13      2\n",
      "14      2\n",
      "15      4\n",
      "16      7\n",
      "17      1\n",
      "18      2\n",
      "19      5\n",
      "20     21\n",
      "21      3\n",
      "22      5\n",
      "23      3\n",
      "24     14\n",
      "25      7\n",
      "26      2\n",
      "27     11\n",
      "28     10\n",
      "29      8\n",
      "       ..\n",
      "126     1\n",
      "127     1\n",
      "128     1\n",
      "129     5\n",
      "130     1\n",
      "131     1\n",
      "132     1\n",
      "133     1\n",
      "134     1\n",
      "135     1\n",
      "136     1\n",
      "137     1\n",
      "138     1\n",
      "139     1\n",
      "140     2\n",
      "141     1\n",
      "142     1\n",
      "143     1\n",
      "144     1\n",
      "145     1\n",
      "146     1\n",
      "147     1\n",
      "148     1\n",
      "149     1\n",
      "150     1\n",
      "151     3\n",
      "152     3\n",
      "153     3\n",
      "154     2\n",
      "155     1\n",
      "Name: dbscan, Length: 156, dtype: int64\n",
      "8      0.096875\n",
      "40     0.075000\n",
      "6      0.034375\n",
      "67     0.034375\n",
      "20     0.032813\n",
      "100    0.028125\n",
      "30     0.023438\n",
      "4      0.023438\n",
      "24     0.021875\n",
      "43     0.021875\n",
      "33     0.021875\n",
      "42     0.020313\n",
      "10     0.018750\n",
      "27     0.017188\n",
      "28     0.015625\n",
      "39     0.014063\n",
      "70     0.014063\n",
      "29     0.012500\n",
      "64     0.012500\n",
      "45     0.010937\n",
      "25     0.010937\n",
      "125    0.010937\n",
      "16     0.010937\n",
      "52     0.010937\n",
      "0      0.009375\n",
      "11     0.009375\n",
      "3      0.009375\n",
      "56     0.009375\n",
      "19     0.007812\n",
      "63     0.007812\n",
      "         ...   \n",
      "72     0.001563\n",
      "115    0.001563\n",
      "79     0.001563\n",
      "80     0.001563\n",
      "81     0.001563\n",
      "84     0.001563\n",
      "85     0.001563\n",
      "86     0.001563\n",
      "87     0.001563\n",
      "88     0.001563\n",
      "89     0.001563\n",
      "91     0.001563\n",
      "93     0.001563\n",
      "95     0.001563\n",
      "96     0.001563\n",
      "97     0.001563\n",
      "98     0.001563\n",
      "101    0.001563\n",
      "102    0.001563\n",
      "103    0.001563\n",
      "105    0.001563\n",
      "107    0.001563\n",
      "108    0.001563\n",
      "109    0.001563\n",
      "110    0.001563\n",
      "111    0.001563\n",
      "112    0.001563\n",
      "113    0.001563\n",
      "114    0.001563\n",
      "77     0.001563\n",
      "Name: dbscan, Length: 156, dtype: float64\n"
     ]
    }
   ],
   "source": [
    "# looks at % in each cluster of DBScan model for Shooting data\n",
    "shoot_db = shoot['dbscan'].value_counts()\n",
    "shdb_perct= shoot_db / len(shoot['dbscan'])\n",
    "print(shoot_db.sort_index())\n",
    "print(shdb_perct)"
   ]
  },
  {
   "cell_type": "markdown",
   "metadata": {},
   "source": [
    "### In both the \"Custody\" and \"Shooting\" data Spectral clustering performed only slightly better than Kmeans, but had 1-2 more groups. "
   ]
  },
  {
   "cell_type": "code",
   "execution_count": null,
   "metadata": {},
   "outputs": [],
   "source": []
  },
  {
   "cell_type": "code",
   "execution_count": 37,
   "metadata": {},
   "outputs": [],
   "source": [
    "# drop Spectral cluster labels from \"Custody\" df\n",
    "cust.drop('spectral', axis=1, inplace=True)"
   ]
  },
  {
   "cell_type": "code",
   "execution_count": 38,
   "metadata": {},
   "outputs": [],
   "source": [
    "#drop all cluster labels from \"Shoot\" df except Kmeans\n",
    "shoot.drop('spectral', axis=1, inplace=True)\n",
    "shoot.drop('dbscan', axis=1, inplace=True)"
   ]
  },
  {
   "cell_type": "markdown",
   "metadata": {},
   "source": [
    "# Plots of \"Deaths in Custody\" clusters"
   ]
  },
  {
   "cell_type": "code",
   "execution_count": 39,
   "metadata": {},
   "outputs": [
    {
     "data": {
      "image/png": "[encoded data removed]",
      "text/plain": [
       "<matplotlib.figure.Figure at 0x1d1a38fdbe0>"
      ]
     },
     "metadata": {},
     "output_type": "display_data"
    },
    {
     "data": {
      "image/png": "[encoded data removed]",
      "text/plain": [
       "<matplotlib.figure.Figure at 0x1d1a3994da0>"
      ]
     },
     "metadata": {},
     "output_type": "display_data"
    },
    {
     "data": {
      "image/png": "[encoded data removed]",
      "text/plain": [
       "<matplotlib.figure.Figure at 0x1d1a959dc50>"
      ]
     },
     "metadata": {},
     "output_type": "display_data"
    },
    {
     "data": {
      "image/png": "[encoded data removed]",
      "text/plain": [
       "<matplotlib.figure.Figure at 0x1d1a960ac50>"
      ]
     },
     "metadata": {},
     "output_type": "display_data"
    }
   ],
   "source": [
    "# for each input variable in \"Custody\" df plot a boxplot and violin plot to get a feel for how distributions differ by cluster\n",
    "for var in cust.columns[0:4]:\n",
    "    fig, (ax1, ax2) = plt.subplots(ncols=2, sharey=True, figsize=(12,6))\n",
    "    ax1.set_title(\"Deaths in Custody\")\n",
    "    ax2.set_title(var)\n",
    "    sns.boxplot(x=\"Kmeans Cluster\", y=var, data=cust, ax=ax1)\n",
    "    sns.violinplot(x=\"Kmeans Cluster\", y=var, data=cust, ax=ax2)"
   ]
  },
  {
   "cell_type": "markdown",
   "metadata": {},
   "source": [
    "# Plots of \"Officer Involved Shootings\" Clusters"
   ]
  },
  {
   "cell_type": "code",
   "execution_count": 40,
   "metadata": {
    "scrolled": true
   },
   "outputs": [
    {
     "data": {
      "image/png": "[encoded data removed]",
      "text/plain": [
       "<matplotlib.figure.Figure at 0x1d1a38fd6d8>"
      ]
     },
     "metadata": {},
     "output_type": "display_data"
    },
    {
     "data": {
      "image/png": "[encoded data removed]",
      "text/plain": [
       "<matplotlib.figure.Figure at 0x1d1a9b31ac8>"
      ]
     },
     "metadata": {},
     "output_type": "display_data"
    },
    {
     "data": {
      "image/png": "[encoded data removed]",
      "text/plain": [
       "<matplotlib.figure.Figure at 0x1d1a94745f8>"
      ]
     },
     "metadata": {},
     "output_type": "display_data"
    },
    {
     "data": {
      "image/png": "[encoded data removed]",
      "text/plain": [
       "<matplotlib.figure.Figure at 0x1d1a399a4e0>"
      ]
     },
     "metadata": {},
     "output_type": "display_data"
    },
    {
     "data": {
      "image/png": "[encoded data removed]",
      "text/plain": [
       "<matplotlib.figure.Figure at 0x1d1a96d2978>"
      ]
     },
     "metadata": {},
     "output_type": "display_data"
    }
   ],
   "source": [
    "# for each input variable in \"Shooting\" df plot a boxplot and violin plot to get a feel for how distributions differ by cluster\n",
    "for var in shoot.columns[0:5]:\n",
    "    fig, (ax1, ax2) = plt.subplots(ncols=2, sharey=True, figsize=(12,6))\n",
    "    ax1.set_title(\"Shootings\")\n",
    "    ax2.set_title(var)\n",
    "    sns.boxplot(x=\"Kmeans Cluster\", y=var, data=shoot, ax=ax1)\n",
    "    sns.violinplot(x=\"Kmeans Cluster\", y=var, data=shoot, ax=ax2)"
   ]
  },
  {
   "cell_type": "code",
   "execution_count": null,
   "metadata": {},
   "outputs": [],
   "source": []
  },
  {
   "cell_type": "code",
   "execution_count": null,
   "metadata": {},
   "outputs": [],
   "source": []
  },
  {
   "cell_type": "markdown",
   "metadata": {},
   "source": [
    "## Stacked Bar Charts of Categorical Variables"
   ]
  },
  {
   "cell_type": "markdown",
   "metadata": {},
   "source": [
    "### Deaths in Custody"
   ]
  },
  {
   "cell_type": "code",
   "execution_count": 41,
   "metadata": {},
   "outputs": [],
   "source": [
    "#Change \"custody_type\" values back to string values from numeric\n",
    "cust['custody_type'] = cust['custody_type'].map({0: 'County Jail', 1: 'Municipal Jail', 2: 'Penitentiary', 3:'Police Custody (pre-booking)'})"
   ]
  },
  {
   "cell_type": "code",
   "execution_count": 42,
   "metadata": {},
   "outputs": [],
   "source": [
    "#Change \"race\" values back to string values from numeric\n",
    "cust['race'] = cust['race'].map({0: 'American Indian/Alaska Native', 1: 'Anglo or White', 2: 'Asian', 3:'Black or African American', 4: 'Hispanic or Latino', 5: 'Middle East', 6: 'Native Hawaiian/Pacific Islander', 7: 'Other/Don\\'t Know'})"
   ]
  },
  {
   "cell_type": "code",
   "execution_count": 43,
   "metadata": {},
   "outputs": [],
   "source": [
    "#Change \"death_type\" values back to string values from numeric\n",
    "cust['death_type'] = cust['death_type'].map({0: 'Accidental injury caused by others', 1: 'Accidental injury to self', 2: 'Alcohol/Drug Intoxication', 3:'Homicide by Law Enforcement/Correctional Staff', 4: 'Homicide by Other', 5: 'Natural Causes/Illness', 6: 'Other', 7: 'Suicide'})"
   ]
  },
  {
   "cell_type": "code",
   "execution_count": 44,
   "metadata": {
    "scrolled": false
   },
   "outputs": [
    {
     "data": {
      "text/html": [
       "<div>\n",
       "<style scoped>\n",
       "    .dataframe tbody tr th:only-of-type {\n",
       "        vertical-align: middle;\n",
       "    }\n",
       "\n",
       "    .dataframe tbody tr th {\n",
       "        vertical-align: top;\n",
       "    }\n",
       "\n",
       "    .dataframe thead th {\n",
       "        text-align: right;\n",
       "    }\n",
       "</style>\n",
       "<table border=\"1\" class=\"dataframe\">\n",
       "  <thead>\n",
       "    <tr style=\"text-align: right;\">\n",
       "      <th></th>\n",
       "      <th>custody_type</th>\n",
       "      <th>race</th>\n",
       "      <th>death_type</th>\n",
       "      <th>age</th>\n",
       "      <th>Kmeans Cluster</th>\n",
       "    </tr>\n",
       "  </thead>\n",
       "  <tbody>\n",
       "    <tr>\n",
       "      <th>0</th>\n",
       "      <td>Penitentiary</td>\n",
       "      <td>Hispanic or Latino</td>\n",
       "      <td>Natural Causes/Illness</td>\n",
       "      <td>58.0</td>\n",
       "      <td>0</td>\n",
       "    </tr>\n",
       "    <tr>\n",
       "      <th>1</th>\n",
       "      <td>Penitentiary</td>\n",
       "      <td>Black or African American</td>\n",
       "      <td>Natural Causes/Illness</td>\n",
       "      <td>76.0</td>\n",
       "      <td>0</td>\n",
       "    </tr>\n",
       "    <tr>\n",
       "      <th>2</th>\n",
       "      <td>Municipal Jail</td>\n",
       "      <td>Hispanic or Latino</td>\n",
       "      <td>Other</td>\n",
       "      <td>30.0</td>\n",
       "      <td>2</td>\n",
       "    </tr>\n",
       "    <tr>\n",
       "      <th>3</th>\n",
       "      <td>Penitentiary</td>\n",
       "      <td>Anglo or White</td>\n",
       "      <td>Accidental injury to self</td>\n",
       "      <td>39.0</td>\n",
       "      <td>3</td>\n",
       "    </tr>\n",
       "    <tr>\n",
       "      <th>4</th>\n",
       "      <td>Penitentiary</td>\n",
       "      <td>Anglo or White</td>\n",
       "      <td>Natural Causes/Illness</td>\n",
       "      <td>31.0</td>\n",
       "      <td>6</td>\n",
       "    </tr>\n",
       "  </tbody>\n",
       "</table>\n",
       "</div>"
      ],
      "text/plain": [
       "     custody_type                       race                 death_type   age  \\\n",
       "0    Penitentiary         Hispanic or Latino     Natural Causes/Illness  58.0   \n",
       "1    Penitentiary  Black or African American     Natural Causes/Illness  76.0   \n",
       "2  Municipal Jail         Hispanic or Latino                      Other  30.0   \n",
       "3    Penitentiary             Anglo or White  Accidental injury to self  39.0   \n",
       "4    Penitentiary             Anglo or White     Natural Causes/Illness  31.0   \n",
       "\n",
       "  Kmeans Cluster  \n",
       "0              0  \n",
       "1              0  \n",
       "2              2  \n",
       "3              3  \n",
       "4              6  "
      ]
     },
     "execution_count": 44,
     "metadata": {},
     "output_type": "execute_result"
    }
   ],
   "source": [
    "cust.head()"
   ]
  },
  {
   "cell_type": "code",
   "execution_count": 45,
   "metadata": {},
   "outputs": [
    {
     "data": {
      "text/html": [
       "<div>\n",
       "<style scoped>\n",
       "    .dataframe tbody tr th:only-of-type {\n",
       "        vertical-align: middle;\n",
       "    }\n",
       "\n",
       "    .dataframe tbody tr th {\n",
       "        vertical-align: top;\n",
       "    }\n",
       "\n",
       "    .dataframe thead th {\n",
       "        text-align: right;\n",
       "    }\n",
       "</style>\n",
       "<table border=\"1\" class=\"dataframe\">\n",
       "  <thead>\n",
       "    <tr style=\"text-align: right;\">\n",
       "      <th>custody_type</th>\n",
       "      <th>County Jail</th>\n",
       "      <th>Municipal Jail</th>\n",
       "      <th>Penitentiary</th>\n",
       "      <th>Police Custody (pre-booking)</th>\n",
       "    </tr>\n",
       "    <tr>\n",
       "      <th>Kmeans Cluster</th>\n",
       "      <th></th>\n",
       "      <th></th>\n",
       "      <th></th>\n",
       "      <th></th>\n",
       "    </tr>\n",
       "  </thead>\n",
       "  <tbody>\n",
       "    <tr>\n",
       "      <th>0</th>\n",
       "      <td>0</td>\n",
       "      <td>7</td>\n",
       "      <td>2512</td>\n",
       "      <td>32</td>\n",
       "    </tr>\n",
       "    <tr>\n",
       "      <th>1</th>\n",
       "      <td>0</td>\n",
       "      <td>6</td>\n",
       "      <td>1951</td>\n",
       "      <td>70</td>\n",
       "    </tr>\n",
       "    <tr>\n",
       "      <th>2</th>\n",
       "      <td>595</td>\n",
       "      <td>22</td>\n",
       "      <td>0</td>\n",
       "      <td>0</td>\n",
       "    </tr>\n",
       "    <tr>\n",
       "      <th>3</th>\n",
       "      <td>12</td>\n",
       "      <td>19</td>\n",
       "      <td>39</td>\n",
       "      <td>396</td>\n",
       "    </tr>\n",
       "    <tr>\n",
       "      <th>4</th>\n",
       "      <td>1</td>\n",
       "      <td>31</td>\n",
       "      <td>44</td>\n",
       "      <td>713</td>\n",
       "    </tr>\n",
       "    <tr>\n",
       "      <th>5</th>\n",
       "      <td>450</td>\n",
       "      <td>37</td>\n",
       "      <td>0</td>\n",
       "      <td>0</td>\n",
       "    </tr>\n",
       "    <tr>\n",
       "      <th>6</th>\n",
       "      <td>0</td>\n",
       "      <td>25</td>\n",
       "      <td>537</td>\n",
       "      <td>230</td>\n",
       "    </tr>\n",
       "  </tbody>\n",
       "</table>\n",
       "</div>"
      ],
      "text/plain": [
       "custody_type    County Jail  Municipal Jail  Penitentiary  \\\n",
       "Kmeans Cluster                                              \n",
       "0                         0               7          2512   \n",
       "1                         0               6          1951   \n",
       "2                       595              22             0   \n",
       "3                        12              19            39   \n",
       "4                         1              31            44   \n",
       "5                       450              37             0   \n",
       "6                         0              25           537   \n",
       "\n",
       "custody_type    Police Custody (pre-booking)  \n",
       "Kmeans Cluster                                \n",
       "0                                         32  \n",
       "1                                         70  \n",
       "2                                          0  \n",
       "3                                        396  \n",
       "4                                        713  \n",
       "5                                          0  \n",
       "6                                        230  "
      ]
     },
     "execution_count": 45,
     "metadata": {},
     "output_type": "execute_result"
    }
   ],
   "source": [
    "custtype = cust.groupby('Kmeans Cluster')['custody_type'].value_counts()\n",
    "custtype = custtype.unstack()\n",
    "custtype = custtype.fillna(0)\n",
    "custtype = custtype.astype(int)\n",
    "custtype"
   ]
  },
  {
   "cell_type": "code",
   "execution_count": 46,
   "metadata": {},
   "outputs": [
    {
     "data": {
      "text/html": [
       "\n",
       "<div class=\"bk-root\">\n",
       "    <div class=\"bk-plotdiv\" id=\"4dedb7f2-b08f-4c67-b700-6dd202810daf\"></div>\n",
       "</div>"
      ]
     },
     "metadata": {},
     "output_type": "display_data"
    },
    {
     "data": {
      "application/javascript": [
       "(function(root) {\n",
       "  function embed_document(root) {\n",
       "    \n",
       "  var docs_json = {\"cc2ebee0-944d-4431-9e91-f3dfe78ddd2b\":{\"roots\":{\"references\":[{\"attributes\":{\"fill_color\":{\"value\":\"#ff0000\"},\"height\":{\"value\":0.9},\"left\":{\"expr\":{\"id\":\"18b3c4f7-f89c-43a3-b649-f7294069409e\",\"type\":\"Stack\"}},\"line_color\":{\"value\":\"#ff0000\"},\"right\":{\"expr\":{\"id\":\"00e336fc-d4a2-4f16-8314-f028d22589db\",\"type\":\"Stack\"}},\"y\":{\"field\":\"Clusters\"}},\"id\":\"255d8391-affb-47f6-aaa4-ae82d032e9ec\",\"type\":\"HBar\"},{\"attributes\":{\"fields\":[\"County Jail\"]},\"id\":\"7bd871e3-e4e7-4638-aa61-865abbcad598\",\"type\":\"Stack\"},{\"attributes\":{\"fill_alpha\":{\"value\":0.1},\"fill_color\":{\"value\":\"#1f77b4\"},\"height\":{\"value\":0.9},\"left\":{\"expr\":{\"id\":\"18b3c4f7-f89c-43a3-b649-f7294069409e\",\"type\":\"Stack\"}},\"line_alpha\":{\"value\":0.1},\"line_color\":{\"value\":\"#1f77b4\"},\"right\":{\"expr\":{\"id\":\"00e336fc-d4a2-4f16-8314-f028d22589db\",\"type\":\"Stack\"}},\"y\":{\"field\":\"Clusters\"}},\"id\":\"5e08244b-98de-4654-bcb2-07489d284e31\",\"type\":\"HBar\"},{\"attributes\":{\"source\":{\"id\":\"71d672eb-6b46-4ea0-a3ca-7dc9cbf9faa9\",\"type\":\"ColumnDataSource\"}},\"id\":\"5d97f2ca-edbf-4e60-b30d-0a9a2d902619\",\"type\":\"CDSView\"},{\"attributes\":{\"grid_line_color\":{\"value\":null},\"plot\":{\"id\":\"aac06b5a-3258-4cc5-a18b-9322a86f8dc4\",\"subtype\":\"Figure\",\"type\":\"Plot\"},\"ticker\":{\"id\":\"40a829eb-6fa1-4ae5-b2b2-dbde1f2d6d21\",\"type\":\"BasicTicker\"}},\"id\":\"17aa0f1a-148d-4bf9-9235-089d82b3efc9\",\"type\":\"Grid\"},{\"attributes\":{\"source\":{\"id\":\"71d672eb-6b46-4ea0-a3ca-7dc9cbf9faa9\",\"type\":\"ColumnDataSource\"}},\"id\":\"494c5011-91e1-488f-9c18-b851b7e5d49d\",\"type\":\"CDSView\"},{\"attributes\":{\"fields\":[\"County Jail\",\"Municipal Jail\",\"Penitentiary\",\"Police Custody (pre-booking)\"]},\"id\":\"ddfc00a5-6e01-49de-b3eb-0a86bd535aef\",\"type\":\"Stack\"},{\"attributes\":{},\"id\":\"a45abeba-6bfa-4a57-9e27-db72d8e67f60\",\"type\":\"LinearScale\"},{\"attributes\":{\"axis_label\":\"Clusters\",\"formatter\":{\"id\":\"6dc76b72-f790-4a6e-8973-31905bac9659\",\"type\":\"CategoricalTickFormatter\"},\"minor_tick_line_color\":{\"value\":null},\"plot\":{\"id\":\"aac06b5a-3258-4cc5-a18b-9322a86f8dc4\",\"subtype\":\"Figure\",\"type\":\"Plot\"},\"ticker\":{\"id\":\"72de66d6-2a6f-42b7-a2bb-d853a4e2693a\",\"type\":\"CategoricalTicker\"}},\"id\":\"12fc79ec-bc09-49be-9bd8-2de6004081c9\",\"type\":\"CategoricalAxis\"},{\"attributes\":{\"axis_label\":\"Number of Deaths from 2005-2016\",\"formatter\":{\"id\":\"d7f74007-b03e-401e-9005-72116cd1c0de\",\"type\":\"BasicTickFormatter\"},\"minor_tick_line_color\":{\"value\":null},\"plot\":{\"id\":\"aac06b5a-3258-4cc5-a18b-9322a86f8dc4\",\"subtype\":\"Figure\",\"type\":\"Plot\"},\"ticker\":{\"id\":\"40a829eb-6fa1-4ae5-b2b2-dbde1f2d6d21\",\"type\":\"BasicTicker\"}},\"id\":\"843379be-53e4-4246-817b-37e6a8dd385f\",\"type\":\"LinearAxis\"},{\"attributes\":{\"fill_color\":{\"value\":\"#3399ff\"},\"height\":{\"value\":0.9},\"left\":{\"expr\":{\"id\":\"7bd871e3-e4e7-4638-aa61-865abbcad598\",\"type\":\"Stack\"}},\"line_color\":{\"value\":\"#3399ff\"},\"right\":{\"expr\":{\"id\":\"2f1cb6d6-d3fe-4613-a5a2-3accfb48011c\",\"type\":\"Stack\"}},\"y\":{\"field\":\"Clusters\"}},\"id\":\"6154dd2f-6d6e-4aa1-ba22-7a033b54f3ff\",\"type\":\"HBar\"},{\"attributes\":{},\"id\":\"40a829eb-6fa1-4ae5-b2b2-dbde1f2d6d21\",\"type\":\"BasicTicker\"},{\"attributes\":{},\"id\":\"cb0ec085-5b73-403e-8df8-94dbfdebe387\",\"type\":\"CategoricalScale\"},{\"attributes\":{\"label\":{\"value\":\"Police Custody (pre-booking)\"},\"renderers\":[{\"id\":\"e17a2b60-1b63-47ff-b0d6-d662190f6650\",\"type\":\"GlyphRenderer\"}]},\"id\":\"19371b50-0792-4f70-9b11-0abc892afad1\",\"type\":\"LegendItem\"},{\"attributes\":{\"fill_color\":{\"value\":\"#00ff7f\"},\"height\":{\"value\":0.9},\"left\":{\"expr\":{\"id\":\"f6c1e90d-24fd-4933-b9e1-744c2cc6babb\",\"type\":\"Stack\"}},\"line_color\":{\"value\":\"#00ff7f\"},\"right\":{\"expr\":{\"id\":\"93133060-3eeb-4b7e-bc3b-6d6eeaac52c9\",\"type\":\"Stack\"}},\"y\":{\"field\":\"Clusters\"}},\"id\":\"802c8aa8-0b37-4332-a820-39aa760bddaf\",\"type\":\"HBar\"},{\"attributes\":{\"data_source\":{\"id\":\"71d672eb-6b46-4ea0-a3ca-7dc9cbf9faa9\",\"type\":\"ColumnDataSource\"},\"glyph\":{\"id\":\"e0e3b781-c026-49cd-9ed0-0b7e43656c68\",\"type\":\"HBar\"},\"hover_glyph\":null,\"muted_glyph\":null,\"nonselection_glyph\":{\"id\":\"efc41de5-46a7-4341-9267-43ca562abe0e\",\"type\":\"HBar\"},\"selection_glyph\":null,\"view\":{\"id\":\"59d19d2b-f5ff-4774-bb6e-6c12bf821c61\",\"type\":\"CDSView\"}},\"id\":\"e17a2b60-1b63-47ff-b0d6-d662190f6650\",\"type\":\"GlyphRenderer\"},{\"attributes\":{\"label\":{\"value\":\"Penitentiary\"},\"renderers\":[{\"id\":\"3357d42d-4e67-419b-b650-fb9b5385a8a7\",\"type\":\"GlyphRenderer\"}]},\"id\":\"e5fc727b-d401-4b6c-b5c3-51e68567b7bf\",\"type\":\"LegendItem\"},{\"attributes\":{\"items\":[{\"id\":\"1735cff1-5a33-4d2f-a361-cb03fe28adbb\",\"type\":\"LegendItem\"},{\"id\":\"cbc139c3-1930-46a0-9a6e-877c3d58b405\",\"type\":\"LegendItem\"},{\"id\":\"e5fc727b-d401-4b6c-b5c3-51e68567b7bf\",\"type\":\"LegendItem\"},{\"id\":\"19371b50-0792-4f70-9b11-0abc892afad1\",\"type\":\"LegendItem\"}],\"plot\":{\"id\":\"aac06b5a-3258-4cc5-a18b-9322a86f8dc4\",\"subtype\":\"Figure\",\"type\":\"Plot\"}},\"id\":\"9a79da02-cac3-4ed9-8f6e-e2a75c8a21aa\",\"type\":\"Legend\"},{\"attributes\":{\"fields\":[\"County Jail\",\"Municipal Jail\"]},\"id\":\"2f1cb6d6-d3fe-4613-a5a2-3accfb48011c\",\"type\":\"Stack\"},{\"attributes\":{\"plot\":null,\"text\":\"Custody Type per Cluster\"},\"id\":\"3536498c-6c76-47f6-abe4-1ce328875d1e\",\"type\":\"Title\"},{\"attributes\":{\"fill_alpha\":{\"value\":0.1},\"fill_color\":{\"value\":\"#1f77b4\"},\"height\":{\"value\":0.9},\"left\":{\"expr\":{\"id\":\"7bd871e3-e4e7-4638-aa61-865abbcad598\",\"type\":\"Stack\"}},\"line_alpha\":{\"value\":0.1},\"line_color\":{\"value\":\"#1f77b4\"},\"right\":{\"expr\":{\"id\":\"2f1cb6d6-d3fe-4613-a5a2-3accfb48011c\",\"type\":\"Stack\"}},\"y\":{\"field\":\"Clusters\"}},\"id\":\"6c90f988-e5b4-4948-9a31-0c936cab439b\",\"type\":\"HBar\"},{\"attributes\":{\"label\":{\"value\":\"County Jail\"},\"renderers\":[{\"id\":\"f92ca956-228d-46f9-9409-93ae560e1cac\",\"type\":\"GlyphRenderer\"}]},\"id\":\"1735cff1-5a33-4d2f-a361-cb03fe28adbb\",\"type\":\"LegendItem\"},{\"attributes\":{},\"id\":\"6dc76b72-f790-4a6e-8973-31905bac9659\",\"type\":\"CategoricalTickFormatter\"},{\"attributes\":{\"fill_alpha\":{\"value\":0.1},\"fill_color\":{\"value\":\"#1f77b4\"},\"height\":{\"value\":0.9},\"left\":{\"expr\":{\"id\":\"34007435-7ef1-4de7-a075-dbcb6371390d\",\"type\":\"Stack\"}},\"line_alpha\":{\"value\":0.1},\"line_color\":{\"value\":\"#1f77b4\"},\"right\":{\"expr\":{\"id\":\"ddfc00a5-6e01-49de-b3eb-0a86bd535aef\",\"type\":\"Stack\"}},\"y\":{\"field\":\"Clusters\"}},\"id\":\"efc41de5-46a7-4341-9267-43ca562abe0e\",\"type\":\"HBar\"},{\"attributes\":{\"below\":[{\"id\":\"843379be-53e4-4246-817b-37e6a8dd385f\",\"type\":\"LinearAxis\"}],\"left\":[{\"id\":\"12fc79ec-bc09-49be-9bd8-2de6004081c9\",\"type\":\"CategoricalAxis\"}],\"outline_line_color\":{\"value\":null},\"plot_height\":500,\"plot_width\":900,\"renderers\":[{\"id\":\"843379be-53e4-4246-817b-37e6a8dd385f\",\"type\":\"LinearAxis\"},{\"id\":\"17aa0f1a-148d-4bf9-9235-089d82b3efc9\",\"type\":\"Grid\"},{\"id\":\"12fc79ec-bc09-49be-9bd8-2de6004081c9\",\"type\":\"CategoricalAxis\"},{\"id\":\"049a8480-2fbb-4b01-9f9d-9122c48d9398\",\"type\":\"Grid\"},{\"id\":\"9a79da02-cac3-4ed9-8f6e-e2a75c8a21aa\",\"type\":\"Legend\"},{\"id\":\"f92ca956-228d-46f9-9409-93ae560e1cac\",\"type\":\"GlyphRenderer\"},{\"id\":\"d9f92143-28cd-4c88-b6b6-75b1f72cb858\",\"type\":\"GlyphRenderer\"},{\"id\":\"3357d42d-4e67-419b-b650-fb9b5385a8a7\",\"type\":\"GlyphRenderer\"},{\"id\":\"e17a2b60-1b63-47ff-b0d6-d662190f6650\",\"type\":\"GlyphRenderer\"}],\"title\":{\"id\":\"3536498c-6c76-47f6-abe4-1ce328875d1e\",\"type\":\"Title\"},\"toolbar\":{\"id\":\"9d387f6c-5c7e-4d49-bee2-5e5952f420b6\",\"type\":\"Toolbar\"},\"toolbar_location\":null,\"x_range\":{\"id\":\"66eeb6cb-274c-44d6-95d9-ce3e06c872a4\",\"type\":\"DataRange1d\"},\"x_scale\":{\"id\":\"a45abeba-6bfa-4a57-9e27-db72d8e67f60\",\"type\":\"LinearScale\"},\"y_range\":{\"id\":\"41e938d6-d022-4fd6-84af-daada04db512\",\"type\":\"FactorRange\"},\"y_scale\":{\"id\":\"cb0ec085-5b73-403e-8df8-94dbfdebe387\",\"type\":\"CategoricalScale\"}},\"id\":\"aac06b5a-3258-4cc5-a18b-9322a86f8dc4\",\"subtype\":\"Figure\",\"type\":\"Plot\"},{\"attributes\":{\"callback\":null,\"end\":4000,\"start\":0},\"id\":\"66eeb6cb-274c-44d6-95d9-ce3e06c872a4\",\"type\":\"DataRange1d\"},{\"attributes\":{\"active_drag\":\"auto\",\"active_inspect\":\"auto\",\"active_scroll\":\"auto\",\"active_tap\":\"auto\"},\"id\":\"9d387f6c-5c7e-4d49-bee2-5e5952f420b6\",\"type\":\"Toolbar\"},{\"attributes\":{\"data_source\":{\"id\":\"71d672eb-6b46-4ea0-a3ca-7dc9cbf9faa9\",\"type\":\"ColumnDataSource\"},\"glyph\":{\"id\":\"255d8391-affb-47f6-aaa4-ae82d032e9ec\",\"type\":\"HBar\"},\"hover_glyph\":null,\"muted_glyph\":null,\"nonselection_glyph\":{\"id\":\"5e08244b-98de-4654-bcb2-07489d284e31\",\"type\":\"HBar\"},\"selection_glyph\":null,\"view\":{\"id\":\"5d97f2ca-edbf-4e60-b30d-0a9a2d902619\",\"type\":\"CDSView\"}},\"id\":\"f92ca956-228d-46f9-9409-93ae560e1cac\",\"type\":\"GlyphRenderer\"},{\"attributes\":{\"dimension\":1,\"plot\":{\"id\":\"aac06b5a-3258-4cc5-a18b-9322a86f8dc4\",\"subtype\":\"Figure\",\"type\":\"Plot\"},\"ticker\":{\"id\":\"72de66d6-2a6f-42b7-a2bb-d853a4e2693a\",\"type\":\"CategoricalTicker\"}},\"id\":\"049a8480-2fbb-4b01-9f9d-9122c48d9398\",\"type\":\"Grid\"},{\"attributes\":{\"fields\":[\"County Jail\",\"Municipal Jail\",\"Penitentiary\"]},\"id\":\"93133060-3eeb-4b7e-bc3b-6d6eeaac52c9\",\"type\":\"Stack\"},{\"attributes\":{\"callback\":null,\"column_names\":[\"Clusters\",\"County Jail\",\"Municipal Jail\",\"Penitentiary\",\"Police Custody (pre-booking)\"],\"data\":{\"Clusters\":[\"0\",\"1\",\"2\",\"3\",\"4\",\"5\",\"6\"],\"County Jail\":{\"__ndarray__\":\"AAAAAAAAAABTAgAADAAAAAEAAADCAQAAAAAAAA==\",\"dtype\":\"int32\",\"shape\":[7]},\"Municipal Jail\":{\"__ndarray__\":\"BwAAAAYAAAAWAAAAEwAAAB8AAAAlAAAAGQAAAA==\",\"dtype\":\"int32\",\"shape\":[7]},\"Penitentiary\":{\"__ndarray__\":\"0AkAAJ8HAAAAAAAAJwAAACwAAAAAAAAAGQIAAA==\",\"dtype\":\"int32\",\"shape\":[7]},\"Police Custody (pre-booking)\":{\"__ndarray__\":\"IAAAAEYAAAAAAAAAjAEAAMkCAAAAAAAA5gAAAA==\",\"dtype\":\"int32\",\"shape\":[7]}}},\"id\":\"71d672eb-6b46-4ea0-a3ca-7dc9cbf9faa9\",\"type\":\"ColumnDataSource\"},{\"attributes\":{\"fields\":[\"County Jail\",\"Municipal Jail\"]},\"id\":\"f6c1e90d-24fd-4933-b9e1-744c2cc6babb\",\"type\":\"Stack\"},{\"attributes\":{\"data_source\":{\"id\":\"71d672eb-6b46-4ea0-a3ca-7dc9cbf9faa9\",\"type\":\"ColumnDataSource\"},\"glyph\":{\"id\":\"802c8aa8-0b37-4332-a820-39aa760bddaf\",\"type\":\"HBar\"},\"hover_glyph\":null,\"muted_glyph\":null,\"nonselection_glyph\":{\"id\":\"23019146-9cce-434e-8908-88dd92234529\",\"type\":\"HBar\"},\"selection_glyph\":null,\"view\":{\"id\":\"494c5011-91e1-488f-9c18-b851b7e5d49d\",\"type\":\"CDSView\"}},\"id\":\"3357d42d-4e67-419b-b650-fb9b5385a8a7\",\"type\":\"GlyphRenderer\"},{\"attributes\":{\"source\":{\"id\":\"71d672eb-6b46-4ea0-a3ca-7dc9cbf9faa9\",\"type\":\"ColumnDataSource\"}},\"id\":\"7a01b135-077f-4cd9-bc4f-4b886dfaa700\",\"type\":\"CDSView\"},{\"attributes\":{\"fields\":[\"County Jail\"]},\"id\":\"00e336fc-d4a2-4f16-8314-f028d22589db\",\"type\":\"Stack\"},{\"attributes\":{\"fill_alpha\":{\"value\":0.1},\"fill_color\":{\"value\":\"#1f77b4\"},\"height\":{\"value\":0.9},\"left\":{\"expr\":{\"id\":\"f6c1e90d-24fd-4933-b9e1-744c2cc6babb\",\"type\":\"Stack\"}},\"line_alpha\":{\"value\":0.1},\"line_color\":{\"value\":\"#1f77b4\"},\"right\":{\"expr\":{\"id\":\"93133060-3eeb-4b7e-bc3b-6d6eeaac52c9\",\"type\":\"Stack\"}},\"y\":{\"field\":\"Clusters\"}},\"id\":\"23019146-9cce-434e-8908-88dd92234529\",\"type\":\"HBar\"},{\"attributes\":{},\"id\":\"d7f74007-b03e-401e-9005-72116cd1c0de\",\"type\":\"BasicTickFormatter\"},{\"attributes\":{\"fields\":[\"County Jail\",\"Municipal Jail\",\"Penitentiary\"]},\"id\":\"34007435-7ef1-4de7-a075-dbcb6371390d\",\"type\":\"Stack\"},{\"attributes\":{\"label\":{\"value\":\"Municipal Jail\"},\"renderers\":[{\"id\":\"d9f92143-28cd-4c88-b6b6-75b1f72cb858\",\"type\":\"GlyphRenderer\"}]},\"id\":\"cbc139c3-1930-46a0-9a6e-877c3d58b405\",\"type\":\"LegendItem\"},{\"attributes\":{\"fill_color\":{\"value\":\"#ffff00\"},\"height\":{\"value\":0.9},\"left\":{\"expr\":{\"id\":\"34007435-7ef1-4de7-a075-dbcb6371390d\",\"type\":\"Stack\"}},\"line_color\":{\"value\":\"#ffff00\"},\"right\":{\"expr\":{\"id\":\"ddfc00a5-6e01-49de-b3eb-0a86bd535aef\",\"type\":\"Stack\"}},\"y\":{\"field\":\"Clusters\"}},\"id\":\"e0e3b781-c026-49cd-9ed0-0b7e43656c68\",\"type\":\"HBar\"},{\"attributes\":{\"callback\":null,\"factors\":[\"0\",\"1\",\"2\",\"3\",\"4\",\"5\",\"6\"],\"range_padding\":0.1},\"id\":\"41e938d6-d022-4fd6-84af-daada04db512\",\"type\":\"FactorRange\"},{\"attributes\":{\"source\":{\"id\":\"71d672eb-6b46-4ea0-a3ca-7dc9cbf9faa9\",\"type\":\"ColumnDataSource\"}},\"id\":\"59d19d2b-f5ff-4774-bb6e-6c12bf821c61\",\"type\":\"CDSView\"},{\"attributes\":{\"data_source\":{\"id\":\"71d672eb-6b46-4ea0-a3ca-7dc9cbf9faa9\",\"type\":\"ColumnDataSource\"},\"glyph\":{\"id\":\"6154dd2f-6d6e-4aa1-ba22-7a033b54f3ff\",\"type\":\"HBar\"},\"hover_glyph\":null,\"muted_glyph\":null,\"nonselection_glyph\":{\"id\":\"6c90f988-e5b4-4948-9a31-0c936cab439b\",\"type\":\"HBar\"},\"selection_glyph\":null,\"view\":{\"id\":\"7a01b135-077f-4cd9-bc4f-4b886dfaa700\",\"type\":\"CDSView\"}},\"id\":\"d9f92143-28cd-4c88-b6b6-75b1f72cb858\",\"type\":\"GlyphRenderer\"},{\"attributes\":{\"fields\":[]},\"id\":\"18b3c4f7-f89c-43a3-b649-f7294069409e\",\"type\":\"Stack\"},{\"attributes\":{},\"id\":\"72de66d6-2a6f-42b7-a2bb-d853a4e2693a\",\"type\":\"CategoricalTicker\"}],\"root_ids\":[\"aac06b5a-3258-4cc5-a18b-9322a86f8dc4\"]},\"title\":\"Bokeh Application\",\"version\":\"0.12.13\"}};\n",
       "  var render_items = [{\"docid\":\"cc2ebee0-944d-4431-9e91-f3dfe78ddd2b\",\"elementid\":\"4dedb7f2-b08f-4c67-b700-6dd202810daf\",\"modelid\":\"aac06b5a-3258-4cc5-a18b-9322a86f8dc4\"}];\n",
       "  root.Bokeh.embed.embed_items_notebook(docs_json, render_items);\n",
       "\n",
       "  }\n",
       "  if (root.Bokeh !== undefined) {\n",
       "    embed_document(root);\n",
       "  } else {\n",
       "    var attempts = 0;\n",
       "    var timer = setInterval(function(root) {\n",
       "      if (root.Bokeh !== undefined) {\n",
       "        embed_document(root);\n",
       "        clearInterval(timer);\n",
       "      }\n",
       "      attempts++;\n",
       "      if (attempts > 100) {\n",
       "        console.log(\"Bokeh: ERROR: Unable to run BokehJS code because BokehJS library is missing\")\n",
       "        clearInterval(timer);\n",
       "      }\n",
       "    }, 10, root)\n",
       "  }\n",
       "})(window);"
      ],
      "application/vnd.bokehjs_exec.v0+json": ""
     },
     "metadata": {
      "application/vnd.bokehjs_exec.v0+json": {
       "id": "aac06b5a-3258-4cc5-a18b-9322a86f8dc4"
      }
     },
     "output_type": "display_data"
    }
   ],
   "source": [
    "#stacked horizontal bar graph showing Custody Types in each Cluster\n",
    "data= {'Clusters': list(custtype.index), 'County Jail' : custtype['County Jail'].values, \n",
    "       'Municipal Jail': custtype['Municipal Jail'].values,  'Penitentiary':custtype['Penitentiary'].values, \n",
    "       'Police Custody (pre-booking)': custtype['Police Custody (pre-booking)'].values}\n",
    "\n",
    "source = ColumnDataSource(data=data)\n",
    "color = ['#ff0000', '#3399ff', '#00ff7f', '#ffff00']\n",
    "\n",
    "g = figure(y_range= data['Clusters'], plot_height=500,plot_width=900, title=\"Custody Type per Cluster\",x_axis_label='Number of Deaths from 2005-2016', y_axis_label= 'Clusters',\n",
    "           toolbar_location=None, tools=\"\")\n",
    "\n",
    "\n",
    "g.hbar_stack(custtype.columns, y= 'Clusters', height=0.9, color=color, source=source,\n",
    "             legend=[value(x) for x in custtype.columns])\n",
    "\n",
    "g.x_range.start = 0\n",
    "g.x_range.end = 4000\n",
    "g.y_range.range_padding = 0.1\n",
    "g.xgrid.grid_line_color = None\n",
    "g.axis.minor_tick_line_color = None\n",
    "g.outline_line_color = None\n",
    "g.legend.location = \"top_right\"\n",
    "g.legend.orientation = \"vertical\"\n",
    "\n",
    "show(g)"
   ]
  },
  {
   "cell_type": "code",
   "execution_count": 47,
   "metadata": {},
   "outputs": [
    {
     "data": {
      "text/html": [
       "<div>\n",
       "<style scoped>\n",
       "    .dataframe tbody tr th:only-of-type {\n",
       "        vertical-align: middle;\n",
       "    }\n",
       "\n",
       "    .dataframe tbody tr th {\n",
       "        vertical-align: top;\n",
       "    }\n",
       "\n",
       "    .dataframe thead th {\n",
       "        text-align: right;\n",
       "    }\n",
       "</style>\n",
       "<table border=\"1\" class=\"dataframe\">\n",
       "  <thead>\n",
       "    <tr style=\"text-align: right;\">\n",
       "      <th>race</th>\n",
       "      <th>American Indian/Alaska Native</th>\n",
       "      <th>Anglo or White</th>\n",
       "      <th>Asian</th>\n",
       "      <th>Black or African American</th>\n",
       "      <th>Hispanic or Latino</th>\n",
       "      <th>Middle East</th>\n",
       "      <th>Native Hawaiian/Pacific Islander</th>\n",
       "      <th>Other/Don't Know</th>\n",
       "    </tr>\n",
       "    <tr>\n",
       "      <th>Kmeans Cluster</th>\n",
       "      <th></th>\n",
       "      <th></th>\n",
       "      <th></th>\n",
       "      <th></th>\n",
       "      <th></th>\n",
       "      <th></th>\n",
       "      <th></th>\n",
       "      <th></th>\n",
       "    </tr>\n",
       "  </thead>\n",
       "  <tbody>\n",
       "    <tr>\n",
       "      <th>0</th>\n",
       "      <td>0</td>\n",
       "      <td>0</td>\n",
       "      <td>0</td>\n",
       "      <td>1336</td>\n",
       "      <td>1206</td>\n",
       "      <td>2</td>\n",
       "      <td>0</td>\n",
       "      <td>7</td>\n",
       "    </tr>\n",
       "    <tr>\n",
       "      <th>1</th>\n",
       "      <td>4</td>\n",
       "      <td>2008</td>\n",
       "      <td>15</td>\n",
       "      <td>0</td>\n",
       "      <td>0</td>\n",
       "      <td>0</td>\n",
       "      <td>0</td>\n",
       "      <td>0</td>\n",
       "    </tr>\n",
       "    <tr>\n",
       "      <th>2</th>\n",
       "      <td>0</td>\n",
       "      <td>0</td>\n",
       "      <td>2</td>\n",
       "      <td>327</td>\n",
       "      <td>283</td>\n",
       "      <td>1</td>\n",
       "      <td>1</td>\n",
       "      <td>3</td>\n",
       "    </tr>\n",
       "    <tr>\n",
       "      <th>3</th>\n",
       "      <td>5</td>\n",
       "      <td>455</td>\n",
       "      <td>6</td>\n",
       "      <td>0</td>\n",
       "      <td>0</td>\n",
       "      <td>0</td>\n",
       "      <td>0</td>\n",
       "      <td>0</td>\n",
       "    </tr>\n",
       "    <tr>\n",
       "      <th>4</th>\n",
       "      <td>0</td>\n",
       "      <td>0</td>\n",
       "      <td>0</td>\n",
       "      <td>326</td>\n",
       "      <td>418</td>\n",
       "      <td>7</td>\n",
       "      <td>3</td>\n",
       "      <td>35</td>\n",
       "    </tr>\n",
       "    <tr>\n",
       "      <th>5</th>\n",
       "      <td>4</td>\n",
       "      <td>478</td>\n",
       "      <td>5</td>\n",
       "      <td>0</td>\n",
       "      <td>0</td>\n",
       "      <td>0</td>\n",
       "      <td>0</td>\n",
       "      <td>0</td>\n",
       "    </tr>\n",
       "    <tr>\n",
       "      <th>6</th>\n",
       "      <td>0</td>\n",
       "      <td>287</td>\n",
       "      <td>6</td>\n",
       "      <td>285</td>\n",
       "      <td>210</td>\n",
       "      <td>2</td>\n",
       "      <td>1</td>\n",
       "      <td>1</td>\n",
       "    </tr>\n",
       "  </tbody>\n",
       "</table>\n",
       "</div>"
      ],
      "text/plain": [
       "race            American Indian/Alaska Native  Anglo or White  Asian  \\\n",
       "Kmeans Cluster                                                         \n",
       "0                                           0               0      0   \n",
       "1                                           4            2008     15   \n",
       "2                                           0               0      2   \n",
       "3                                           5             455      6   \n",
       "4                                           0               0      0   \n",
       "5                                           4             478      5   \n",
       "6                                           0             287      6   \n",
       "\n",
       "race            Black or African American  Hispanic or Latino  Middle East  \\\n",
       "Kmeans Cluster                                                               \n",
       "0                                    1336                1206            2   \n",
       "1                                       0                   0            0   \n",
       "2                                     327                 283            1   \n",
       "3                                       0                   0            0   \n",
       "4                                     326                 418            7   \n",
       "5                                       0                   0            0   \n",
       "6                                     285                 210            2   \n",
       "\n",
       "race            Native Hawaiian/Pacific Islander  Other/Don't Know  \n",
       "Kmeans Cluster                                                      \n",
       "0                                              0                 7  \n",
       "1                                              0                 0  \n",
       "2                                              1                 3  \n",
       "3                                              0                 0  \n",
       "4                                              3                35  \n",
       "5                                              0                 0  \n",
       "6                                              1                 1  "
      ]
     },
     "execution_count": 47,
     "metadata": {},
     "output_type": "execute_result"
    }
   ],
   "source": [
    "racedf= cust.groupby('Kmeans Cluster')['race'].value_counts()\n",
    "racedf = racedf.unstack()\n",
    "racedf = racedf.fillna(0).astype(int)\n",
    "racedf"
   ]
  },
  {
   "cell_type": "code",
   "execution_count": 48,
   "metadata": {},
   "outputs": [
    {
     "data": {
      "text/html": [
       "\n",
       "<div class=\"bk-root\">\n",
       "    <div class=\"bk-plotdiv\" id=\"0e865f78-4b37-42de-8b44-7f37f99d7580\"></div>\n",
       "</div>"
      ]
     },
     "metadata": {},
     "output_type": "display_data"
    },
    {
     "data": {
      "application/javascript": [
       "(function(root) {\n",
       "  function embed_document(root) {\n",
       "    \n",
       "  var docs_json = {\"25fc88d5-8f7a-414a-97a5-b8d993b972bf\":{\"roots\":{\"references\":[{\"attributes\":{\"fill_color\":{\"value\":\"#e6f598\"},\"height\":{\"value\":0.9},\"left\":{\"expr\":{\"id\":\"cafcd1de-77f0-4dd5-9c60-8956ddc535aa\",\"type\":\"Stack\"}},\"line_color\":{\"value\":\"#e6f598\"},\"right\":{\"expr\":{\"id\":\"68f9274b-501b-4a53-952d-3c2fa903a47d\",\"type\":\"Stack\"}},\"y\":{\"field\":\"Clusters\"}},\"id\":\"cfda73f5-6489-4da4-ba6b-da9841ba61ce\",\"type\":\"HBar\"},{\"attributes\":{\"fill_alpha\":{\"value\":0.1},\"fill_color\":{\"value\":\"#1f77b4\"},\"height\":{\"value\":0.9},\"left\":{\"expr\":{\"id\":\"cafcd1de-77f0-4dd5-9c60-8956ddc535aa\",\"type\":\"Stack\"}},\"line_alpha\":{\"value\":0.1},\"line_color\":{\"value\":\"#1f77b4\"},\"right\":{\"expr\":{\"id\":\"68f9274b-501b-4a53-952d-3c2fa903a47d\",\"type\":\"Stack\"}},\"y\":{\"field\":\"Clusters\"}},\"id\":\"932e753d-4042-474d-b61e-47cf2591cf5c\",\"type\":\"HBar\"},{\"attributes\":{\"fill_color\":{\"value\":\"#fee08b\"},\"height\":{\"value\":0.9},\"left\":{\"expr\":{\"id\":\"00dcbb58-13bf-4f9a-ba6d-e9fdfd7710d9\",\"type\":\"Stack\"}},\"line_color\":{\"value\":\"#fee08b\"},\"right\":{\"expr\":{\"id\":\"54773338-547b-4170-b1be-0b9245f3d52b\",\"type\":\"Stack\"}},\"y\":{\"field\":\"Clusters\"}},\"id\":\"c78793ab-f88b-4a04-9f6a-63d88eeaee26\",\"type\":\"HBar\"},{\"attributes\":{\"fill_color\":{\"value\":\"#fdae61\"},\"height\":{\"value\":0.9},\"left\":{\"expr\":{\"id\":\"8ef7bdfc-2ecb-42b3-ab9f-72974478f546\",\"type\":\"Stack\"}},\"line_color\":{\"value\":\"#fdae61\"},\"right\":{\"expr\":{\"id\":\"b3146e33-ff2e-4c77-8b94-7f8012b0146e\",\"type\":\"Stack\"}},\"y\":{\"field\":\"Clusters\"}},\"id\":\"23847da9-813f-4a2b-b586-0806c1a00cf3\",\"type\":\"HBar\"},{\"attributes\":{\"label\":{\"value\":\"Black or African American\"},\"renderers\":[{\"id\":\"3cdb90cc-1e36-4a88-9588-9c23643de981\",\"type\":\"GlyphRenderer\"}]},\"id\":\"feab7e3d-1957-42b2-a37b-86440de4d3c7\",\"type\":\"LegendItem\"},{\"attributes\":{\"data_source\":{\"id\":\"43bbda5f-8925-4f94-ae24-565d273ba170\",\"type\":\"ColumnDataSource\"},\"glyph\":{\"id\":\"cfda73f5-6489-4da4-ba6b-da9841ba61ce\",\"type\":\"HBar\"},\"hover_glyph\":null,\"muted_glyph\":null,\"nonselection_glyph\":{\"id\":\"932e753d-4042-474d-b61e-47cf2591cf5c\",\"type\":\"HBar\"},\"selection_glyph\":null,\"view\":{\"id\":\"c876106a-7fc2-4817-a65c-34004f945d5a\",\"type\":\"CDSView\"}},\"id\":\"3cdb90cc-1e36-4a88-9588-9c23643de981\",\"type\":\"GlyphRenderer\"},{\"attributes\":{\"callback\":null,\"column_names\":[\"Clusters\",\"American Indian/Alaska Native\",\"Anglo or White\",\"Asian\",\"Black or African American\",\"Hispanic or Latino\",\"Middle East\",\"Native Hawaiian/Pacific Islander\",\"Other/Don't Know\"],\"data\":{\"American Indian/Alaska Native\":{\"__ndarray__\":\"AAAAAAQAAAAAAAAABQAAAAAAAAAEAAAAAAAAAA==\",\"dtype\":\"int32\",\"shape\":[7]},\"Anglo or White\":{\"__ndarray__\":\"AAAAANgHAAAAAAAAxwEAAAAAAADeAQAAHwEAAA==\",\"dtype\":\"int32\",\"shape\":[7]},\"Asian\":{\"__ndarray__\":\"AAAAAA8AAAACAAAABgAAAAAAAAAFAAAABgAAAA==\",\"dtype\":\"int32\",\"shape\":[7]},\"Black or African American\":{\"__ndarray__\":\"OAUAAAAAAABHAQAAAAAAAEYBAAAAAAAAHQEAAA==\",\"dtype\":\"int32\",\"shape\":[7]},\"Clusters\":[\"0\",\"1\",\"2\",\"3\",\"4\",\"5\",\"6\"],\"Hispanic or Latino\":{\"__ndarray__\":\"tgQAAAAAAAAbAQAAAAAAAKIBAAAAAAAA0gAAAA==\",\"dtype\":\"int32\",\"shape\":[7]},\"Middle East\":{\"__ndarray__\":\"AgAAAAAAAAABAAAAAAAAAAcAAAAAAAAAAgAAAA==\",\"dtype\":\"int32\",\"shape\":[7]},\"Native Hawaiian/Pacific Islander\":{\"__ndarray__\":\"AAAAAAAAAAABAAAAAAAAAAMAAAAAAAAAAQAAAA==\",\"dtype\":\"int32\",\"shape\":[7]},\"Other/Don't Know\":{\"__ndarray__\":\"BwAAAAAAAAADAAAAAAAAACMAAAAAAAAAAQAAAA==\",\"dtype\":\"int32\",\"shape\":[7]}}},\"id\":\"43bbda5f-8925-4f94-ae24-565d273ba170\",\"type\":\"ColumnDataSource\"},{\"attributes\":{\"source\":{\"id\":\"43bbda5f-8925-4f94-ae24-565d273ba170\",\"type\":\"ColumnDataSource\"}},\"id\":\"c876106a-7fc2-4817-a65c-34004f945d5a\",\"type\":\"CDSView\"},{\"attributes\":{\"fill_alpha\":{\"value\":0.1},\"fill_color\":{\"value\":\"#1f77b4\"},\"height\":{\"value\":0.9},\"left\":{\"expr\":{\"id\":\"00dcbb58-13bf-4f9a-ba6d-e9fdfd7710d9\",\"type\":\"Stack\"}},\"line_alpha\":{\"value\":0.1},\"line_color\":{\"value\":\"#1f77b4\"},\"right\":{\"expr\":{\"id\":\"54773338-547b-4170-b1be-0b9245f3d52b\",\"type\":\"Stack\"}},\"y\":{\"field\":\"Clusters\"}},\"id\":\"cddb3dc5-be28-45dc-8c75-dfd3a3d743d0\",\"type\":\"HBar\"},{\"attributes\":{\"label\":{\"value\":\"Hispanic or Latino\"},\"renderers\":[{\"id\":\"bf531b00-5b60-4360-8aae-36d333dcd975\",\"type\":\"GlyphRenderer\"}]},\"id\":\"c6b70c0f-bd5c-4cca-933f-bdaa1a6b9529\",\"type\":\"LegendItem\"},{\"attributes\":{\"data_source\":{\"id\":\"43bbda5f-8925-4f94-ae24-565d273ba170\",\"type\":\"ColumnDataSource\"},\"glyph\":{\"id\":\"c78793ab-f88b-4a04-9f6a-63d88eeaee26\",\"type\":\"HBar\"},\"hover_glyph\":null,\"muted_glyph\":null,\"nonselection_glyph\":{\"id\":\"cddb3dc5-be28-45dc-8c75-dfd3a3d743d0\",\"type\":\"HBar\"},\"selection_glyph\":null,\"view\":{\"id\":\"2ae27127-7f9e-43b5-97f0-f075f189e231\",\"type\":\"CDSView\"}},\"id\":\"bf531b00-5b60-4360-8aae-36d333dcd975\",\"type\":\"GlyphRenderer\"},{\"attributes\":{\"below\":[{\"id\":\"fc7d713a-361e-480b-9101-2c29faac1817\",\"type\":\"LinearAxis\"}],\"left\":[{\"id\":\"6280d226-ddf6-4615-8551-d4a2f466cc7c\",\"type\":\"CategoricalAxis\"}],\"outline_line_color\":{\"value\":null},\"plot_height\":500,\"plot_width\":900,\"renderers\":[{\"id\":\"fc7d713a-361e-480b-9101-2c29faac1817\",\"type\":\"LinearAxis\"},{\"id\":\"8078b706-1445-4d77-a825-7fabb4fc33d7\",\"type\":\"Grid\"},{\"id\":\"6280d226-ddf6-4615-8551-d4a2f466cc7c\",\"type\":\"CategoricalAxis\"},{\"id\":\"c516c1ae-060f-4549-85cc-bf2294b27281\",\"type\":\"Grid\"},{\"id\":\"e7db42be-c980-4fe3-9984-202719e1fc0f\",\"type\":\"Legend\"},{\"id\":\"78790a0d-c362-484b-b8d3-08e6ca311e29\",\"type\":\"GlyphRenderer\"},{\"id\":\"d9dae7b4-5318-419b-ac47-1b7a8a9b9558\",\"type\":\"GlyphRenderer\"},{\"id\":\"0fbf0b6a-b8bf-460f-a2c6-cc18f60d06dd\",\"type\":\"GlyphRenderer\"},{\"id\":\"3cdb90cc-1e36-4a88-9588-9c23643de981\",\"type\":\"GlyphRenderer\"},{\"id\":\"bf531b00-5b60-4360-8aae-36d333dcd975\",\"type\":\"GlyphRenderer\"},{\"id\":\"bfabe370-a72a-4b9f-baae-c4c498057512\",\"type\":\"GlyphRenderer\"},{\"id\":\"3c4e8e8e-98ab-4af3-bd2e-5805a83b413d\",\"type\":\"GlyphRenderer\"},{\"id\":\"d3dc7156-04a2-4b30-9643-7375e7e74f5f\",\"type\":\"GlyphRenderer\"}],\"title\":{\"id\":\"09ae929e-c5c1-40b8-9f1b-932c55aeb97f\",\"type\":\"Title\"},\"toolbar\":{\"id\":\"21e029e6-cad4-401f-a25d-0d0c3836bffa\",\"type\":\"Toolbar\"},\"toolbar_location\":null,\"x_range\":{\"id\":\"0567eca8-d1c4-404a-b252-ef8cb272bbbe\",\"type\":\"DataRange1d\"},\"x_scale\":{\"id\":\"1e8b46ba-57c4-43e2-a0bb-2b899c1fdae2\",\"type\":\"LinearScale\"},\"y_range\":{\"id\":\"44071f1b-c4b8-4751-a2dd-089663755953\",\"type\":\"FactorRange\"},\"y_scale\":{\"id\":\"fa2da977-1eda-4ed4-9262-7d36e8db16f3\",\"type\":\"CategoricalScale\"}},\"id\":\"14535cf4-9694-49c2-afe5-f9fd9a120e39\",\"subtype\":\"Figure\",\"type\":\"Plot\"},{\"attributes\":{\"source\":{\"id\":\"43bbda5f-8925-4f94-ae24-565d273ba170\",\"type\":\"ColumnDataSource\"}},\"id\":\"2ae27127-7f9e-43b5-97f0-f075f189e231\",\"type\":\"CDSView\"},{\"attributes\":{\"fill_alpha\":{\"value\":0.1},\"fill_color\":{\"value\":\"#1f77b4\"},\"height\":{\"value\":0.9},\"left\":{\"expr\":{\"id\":\"8ef7bdfc-2ecb-42b3-ab9f-72974478f546\",\"type\":\"Stack\"}},\"line_alpha\":{\"value\":0.1},\"line_color\":{\"value\":\"#1f77b4\"},\"right\":{\"expr\":{\"id\":\"b3146e33-ff2e-4c77-8b94-7f8012b0146e\",\"type\":\"Stack\"}},\"y\":{\"field\":\"Clusters\"}},\"id\":\"2351dc3a-d733-4e70-aabb-5bd806dfe990\",\"type\":\"HBar\"},{\"attributes\":{\"fields\":[]},\"id\":\"cdd20abf-102a-4b83-976f-4c63234af9a1\",\"type\":\"Stack\"},{\"attributes\":{\"active_drag\":\"auto\",\"active_inspect\":\"auto\",\"active_scroll\":\"auto\",\"active_tap\":\"auto\"},\"id\":\"21e029e6-cad4-401f-a25d-0d0c3836bffa\",\"type\":\"Toolbar\"},{\"attributes\":{\"callback\":null,\"end\":3000,\"start\":0},\"id\":\"0567eca8-d1c4-404a-b252-ef8cb272bbbe\",\"type\":\"DataRange1d\"},{\"attributes\":{\"label\":{\"value\":\"Middle East\"},\"renderers\":[{\"id\":\"bfabe370-a72a-4b9f-baae-c4c498057512\",\"type\":\"GlyphRenderer\"}]},\"id\":\"1dde61a8-8044-4921-b7bb-69bb5c933f6d\",\"type\":\"LegendItem\"},{\"attributes\":{\"plot\":null,\"text\":\"Racial breakdown of Clusters\"},\"id\":\"09ae929e-c5c1-40b8-9f1b-932c55aeb97f\",\"type\":\"Title\"},{\"attributes\":{\"fill_color\":{\"value\":\"#f46d43\"},\"height\":{\"value\":0.9},\"left\":{\"expr\":{\"id\":\"c8a48801-edff-4f51-8d1d-a02bc5e21e8a\",\"type\":\"Stack\"}},\"line_color\":{\"value\":\"#f46d43\"},\"right\":{\"expr\":{\"id\":\"054d3dbb-dc2f-4aa4-8c6e-b97d2bcbb98b\",\"type\":\"Stack\"}},\"y\":{\"field\":\"Clusters\"}},\"id\":\"7d7e01f8-2f1c-4d37-85d9-e293cec7ab52\",\"type\":\"HBar\"},{\"attributes\":{\"data_source\":{\"id\":\"43bbda5f-8925-4f94-ae24-565d273ba170\",\"type\":\"ColumnDataSource\"},\"glyph\":{\"id\":\"23847da9-813f-4a2b-b586-0806c1a00cf3\",\"type\":\"HBar\"},\"hover_glyph\":null,\"muted_glyph\":null,\"nonselection_glyph\":{\"id\":\"2351dc3a-d733-4e70-aabb-5bd806dfe990\",\"type\":\"HBar\"},\"selection_glyph\":null,\"view\":{\"id\":\"ffef7470-2255-4b5a-beba-7668f123e17c\",\"type\":\"CDSView\"}},\"id\":\"bfabe370-a72a-4b9f-baae-c4c498057512\",\"type\":\"GlyphRenderer\"},{\"attributes\":{},\"id\":\"1e8b46ba-57c4-43e2-a0bb-2b899c1fdae2\",\"type\":\"LinearScale\"},{\"attributes\":{\"source\":{\"id\":\"43bbda5f-8925-4f94-ae24-565d273ba170\",\"type\":\"ColumnDataSource\"}},\"id\":\"ffef7470-2255-4b5a-beba-7668f123e17c\",\"type\":\"CDSView\"},{\"attributes\":{},\"id\":\"40d676b5-f7d4-4305-a961-9b8c7aa9c51d\",\"type\":\"BasicTicker\"},{\"attributes\":{\"axis_label\":\"Number of Deaths from 2005-2016\",\"formatter\":{\"id\":\"053dc67c-9fa8-4770-afc6-4c4026b5962c\",\"type\":\"BasicTickFormatter\"},\"minor_tick_line_color\":{\"value\":null},\"plot\":{\"id\":\"14535cf4-9694-49c2-afe5-f9fd9a120e39\",\"subtype\":\"Figure\",\"type\":\"Plot\"},\"ticker\":{\"id\":\"40d676b5-f7d4-4305-a961-9b8c7aa9c51d\",\"type\":\"BasicTicker\"}},\"id\":\"fc7d713a-361e-480b-9101-2c29faac1817\",\"type\":\"LinearAxis\"},{\"attributes\":{\"grid_line_color\":{\"value\":null},\"plot\":{\"id\":\"14535cf4-9694-49c2-afe5-f9fd9a120e39\",\"subtype\":\"Figure\",\"type\":\"Plot\"},\"ticker\":{\"id\":\"40d676b5-f7d4-4305-a961-9b8c7aa9c51d\",\"type\":\"BasicTicker\"}},\"id\":\"8078b706-1445-4d77-a825-7fabb4fc33d7\",\"type\":\"Grid\"},{\"attributes\":{\"fill_alpha\":{\"value\":0.1},\"fill_color\":{\"value\":\"#1f77b4\"},\"height\":{\"value\":0.9},\"left\":{\"expr\":{\"id\":\"c8a48801-edff-4f51-8d1d-a02bc5e21e8a\",\"type\":\"Stack\"}},\"line_alpha\":{\"value\":0.1},\"line_color\":{\"value\":\"#1f77b4\"},\"right\":{\"expr\":{\"id\":\"054d3dbb-dc2f-4aa4-8c6e-b97d2bcbb98b\",\"type\":\"Stack\"}},\"y\":{\"field\":\"Clusters\"}},\"id\":\"d77ab836-9221-4653-9d1f-f35d2037dea1\",\"type\":\"HBar\"},{\"attributes\":{},\"id\":\"fa2da977-1eda-4ed4-9262-7d36e8db16f3\",\"type\":\"CategoricalScale\"},{\"attributes\":{\"fill_color\":{\"value\":\"#d53e4f\"},\"height\":{\"value\":0.9},\"left\":{\"expr\":{\"id\":\"12e06449-fa4d-491a-b80d-668f26eccbb7\",\"type\":\"Stack\"}},\"line_color\":{\"value\":\"#d53e4f\"},\"right\":{\"expr\":{\"id\":\"348149de-c9b1-42f4-93dc-5ac31b25019d\",\"type\":\"Stack\"}},\"y\":{\"field\":\"Clusters\"}},\"id\":\"34c3780a-7e06-4e10-b752-c9e8ffb2e8c6\",\"type\":\"HBar\"},{\"attributes\":{\"callback\":null,\"factors\":[\"0\",\"1\",\"2\",\"3\",\"4\",\"5\",\"6\"],\"range_padding\":0.1},\"id\":\"44071f1b-c4b8-4751-a2dd-089663755953\",\"type\":\"FactorRange\"},{\"attributes\":{\"label\":{\"value\":\"Native Hawaiian/Pacific Islander\"},\"renderers\":[{\"id\":\"3c4e8e8e-98ab-4af3-bd2e-5805a83b413d\",\"type\":\"GlyphRenderer\"}]},\"id\":\"ab0de6a9-56f1-473b-959e-cea23b19d43c\",\"type\":\"LegendItem\"},{\"attributes\":{\"axis_label\":\"Clusters\",\"formatter\":{\"id\":\"99307eca-b7ba-4793-86cc-72503cbc2e5d\",\"type\":\"CategoricalTickFormatter\"},\"minor_tick_line_color\":{\"value\":null},\"plot\":{\"id\":\"14535cf4-9694-49c2-afe5-f9fd9a120e39\",\"subtype\":\"Figure\",\"type\":\"Plot\"},\"ticker\":{\"id\":\"5f65ce2b-1523-4188-8317-96eacb11160a\",\"type\":\"CategoricalTicker\"}},\"id\":\"6280d226-ddf6-4615-8551-d4a2f466cc7c\",\"type\":\"CategoricalAxis\"},{\"attributes\":{\"data_source\":{\"id\":\"43bbda5f-8925-4f94-ae24-565d273ba170\",\"type\":\"ColumnDataSource\"},\"glyph\":{\"id\":\"7d7e01f8-2f1c-4d37-85d9-e293cec7ab52\",\"type\":\"HBar\"},\"hover_glyph\":null,\"muted_glyph\":null,\"nonselection_glyph\":{\"id\":\"d77ab836-9221-4653-9d1f-f35d2037dea1\",\"type\":\"HBar\"},\"selection_glyph\":null,\"view\":{\"id\":\"87eab67b-bd01-41e2-ac82-ff42276e071c\",\"type\":\"CDSView\"}},\"id\":\"3c4e8e8e-98ab-4af3-bd2e-5805a83b413d\",\"type\":\"GlyphRenderer\"},{\"attributes\":{},\"id\":\"5f65ce2b-1523-4188-8317-96eacb11160a\",\"type\":\"CategoricalTicker\"},{\"attributes\":{\"source\":{\"id\":\"43bbda5f-8925-4f94-ae24-565d273ba170\",\"type\":\"ColumnDataSource\"}},\"id\":\"87eab67b-bd01-41e2-ac82-ff42276e071c\",\"type\":\"CDSView\"},{\"attributes\":{\"fill_alpha\":{\"value\":0.1},\"fill_color\":{\"value\":\"#1f77b4\"},\"height\":{\"value\":0.9},\"left\":{\"expr\":{\"id\":\"12e06449-fa4d-491a-b80d-668f26eccbb7\",\"type\":\"Stack\"}},\"line_alpha\":{\"value\":0.1},\"line_color\":{\"value\":\"#1f77b4\"},\"right\":{\"expr\":{\"id\":\"348149de-c9b1-42f4-93dc-5ac31b25019d\",\"type\":\"Stack\"}},\"y\":{\"field\":\"Clusters\"}},\"id\":\"ecb5f820-2029-4d44-9bc8-9b41e2914a13\",\"type\":\"HBar\"},{\"attributes\":{\"fields\":[\"American Indian/Alaska Native\",\"Anglo or White\",\"Asian\",\"Black or African American\"]},\"id\":\"00dcbb58-13bf-4f9a-ba6d-e9fdfd7710d9\",\"type\":\"Stack\"},{\"attributes\":{\"dimension\":1,\"plot\":{\"id\":\"14535cf4-9694-49c2-afe5-f9fd9a120e39\",\"subtype\":\"Figure\",\"type\":\"Plot\"},\"ticker\":{\"id\":\"5f65ce2b-1523-4188-8317-96eacb11160a\",\"type\":\"CategoricalTicker\"}},\"id\":\"c516c1ae-060f-4549-85cc-bf2294b27281\",\"type\":\"Grid\"},{\"attributes\":{\"fields\":[\"American Indian/Alaska Native\"]},\"id\":\"297b3521-0ca2-4a67-8df4-809a8f136dc0\",\"type\":\"Stack\"},{\"attributes\":{\"label\":{\"value\":\"Other/Don't Know\"},\"renderers\":[{\"id\":\"d3dc7156-04a2-4b30-9643-7375e7e74f5f\",\"type\":\"GlyphRenderer\"}]},\"id\":\"7df7e1d4-d3fb-4edc-b98e-0cff8300377f\",\"type\":\"LegendItem\"},{\"attributes\":{\"data_source\":{\"id\":\"43bbda5f-8925-4f94-ae24-565d273ba170\",\"type\":\"ColumnDataSource\"},\"glyph\":{\"id\":\"34c3780a-7e06-4e10-b752-c9e8ffb2e8c6\",\"type\":\"HBar\"},\"hover_glyph\":null,\"muted_glyph\":null,\"nonselection_glyph\":{\"id\":\"ecb5f820-2029-4d44-9bc8-9b41e2914a13\",\"type\":\"HBar\"},\"selection_glyph\":null,\"view\":{\"id\":\"cb860913-348c-4f46-af2f-c818330a759b\",\"type\":\"CDSView\"}},\"id\":\"d3dc7156-04a2-4b30-9643-7375e7e74f5f\",\"type\":\"GlyphRenderer\"},{\"attributes\":{\"fill_alpha\":{\"value\":0.1},\"fill_color\":{\"value\":\"#1f77b4\"},\"height\":{\"value\":0.9},\"left\":{\"expr\":{\"id\":\"4c854d25-0ef0-4433-a461-f359b2bf1c67\",\"type\":\"Stack\"}},\"line_alpha\":{\"value\":0.1},\"line_color\":{\"value\":\"#1f77b4\"},\"right\":{\"expr\":{\"id\":\"55495395-1b1e-4dae-8b33-361d68c2b155\",\"type\":\"Stack\"}},\"y\":{\"field\":\"Clusters\"}},\"id\":\"d8705289-d9a7-4ac1-9133-0db9f5e4accf\",\"type\":\"HBar\"},{\"attributes\":{\"source\":{\"id\":\"43bbda5f-8925-4f94-ae24-565d273ba170\",\"type\":\"ColumnDataSource\"}},\"id\":\"cb860913-348c-4f46-af2f-c818330a759b\",\"type\":\"CDSView\"},{\"attributes\":{\"fields\":[\"American Indian/Alaska Native\",\"Anglo or White\",\"Asian\",\"Black or African American\"]},\"id\":\"68f9274b-501b-4a53-952d-3c2fa903a47d\",\"type\":\"Stack\"},{\"attributes\":{\"source\":{\"id\":\"43bbda5f-8925-4f94-ae24-565d273ba170\",\"type\":\"ColumnDataSource\"}},\"id\":\"5886367d-21a2-4427-bdc8-832b7117bbf1\",\"type\":\"CDSView\"},{\"attributes\":{\"data_source\":{\"id\":\"43bbda5f-8925-4f94-ae24-565d273ba170\",\"type\":\"ColumnDataSource\"},\"glyph\":{\"id\":\"8c99f7ed-ec41-4bed-afaf-dbf71c8fb7a1\",\"type\":\"HBar\"},\"hover_glyph\":null,\"muted_glyph\":null,\"nonselection_glyph\":{\"id\":\"48221110-25d9-45d6-946b-ae790b6cdf26\",\"type\":\"HBar\"},\"selection_glyph\":null,\"view\":{\"id\":\"59dcc1f7-65e6-48ac-8640-601980130073\",\"type\":\"CDSView\"}},\"id\":\"d9dae7b4-5318-419b-ac47-1b7a8a9b9558\",\"type\":\"GlyphRenderer\"},{\"attributes\":{\"fields\":[\"American Indian/Alaska Native\",\"Anglo or White\",\"Asian\",\"Black or African American\",\"Hispanic or Latino\",\"Middle East\",\"Native Hawaiian/Pacific Islander\"]},\"id\":\"12e06449-fa4d-491a-b80d-668f26eccbb7\",\"type\":\"Stack\"},{\"attributes\":{\"fill_color\":{\"value\":\"#abdda4\"},\"height\":{\"value\":0.9},\"left\":{\"expr\":{\"id\":\"4c854d25-0ef0-4433-a461-f359b2bf1c67\",\"type\":\"Stack\"}},\"line_color\":{\"value\":\"#abdda4\"},\"right\":{\"expr\":{\"id\":\"55495395-1b1e-4dae-8b33-361d68c2b155\",\"type\":\"Stack\"}},\"y\":{\"field\":\"Clusters\"}},\"id\":\"8b0e489f-025c-4797-a603-6cb1d1118039\",\"type\":\"HBar\"},{\"attributes\":{\"fields\":[\"American Indian/Alaska Native\",\"Anglo or White\",\"Asian\",\"Black or African American\",\"Hispanic or Latino\"]},\"id\":\"54773338-547b-4170-b1be-0b9245f3d52b\",\"type\":\"Stack\"},{\"attributes\":{\"fields\":[\"American Indian/Alaska Native\"]},\"id\":\"324fcbfd-51a9-4b64-a4e7-bfe1f6c8210d\",\"type\":\"Stack\"},{\"attributes\":{\"fields\":[\"American Indian/Alaska Native\",\"Anglo or White\",\"Asian\",\"Black or African American\",\"Hispanic or Latino\"]},\"id\":\"8ef7bdfc-2ecb-42b3-ab9f-72974478f546\",\"type\":\"Stack\"},{\"attributes\":{\"data_source\":{\"id\":\"43bbda5f-8925-4f94-ae24-565d273ba170\",\"type\":\"ColumnDataSource\"},\"glyph\":{\"id\":\"ffbf13f6-0b1a-4b6b-b2bb-781f972bfc59\",\"type\":\"HBar\"},\"hover_glyph\":null,\"muted_glyph\":null,\"nonselection_glyph\":{\"id\":\"a66cf605-3b5c-43ec-b3f0-e1a5f1122c0e\",\"type\":\"HBar\"},\"selection_glyph\":null,\"view\":{\"id\":\"de804e5b-fb11-447a-9ce1-60a0ad3b7093\",\"type\":\"CDSView\"}},\"id\":\"78790a0d-c362-484b-b8d3-08e6ca311e29\",\"type\":\"GlyphRenderer\"},{\"attributes\":{\"fields\":[\"American Indian/Alaska Native\",\"Anglo or White\",\"Asian\"]},\"id\":\"cafcd1de-77f0-4dd5-9c60-8956ddc535aa\",\"type\":\"Stack\"},{\"attributes\":{\"fields\":[\"American Indian/Alaska Native\",\"Anglo or White\",\"Asian\",\"Black or African American\",\"Hispanic or Latino\",\"Middle East\"]},\"id\":\"b3146e33-ff2e-4c77-8b94-7f8012b0146e\",\"type\":\"Stack\"},{\"attributes\":{\"fields\":[\"American Indian/Alaska Native\",\"Anglo or White\",\"Asian\",\"Black or African American\",\"Hispanic or Latino\",\"Middle East\",\"Native Hawaiian/Pacific Islander\",\"Other/Don't Know\"]},\"id\":\"348149de-c9b1-42f4-93dc-5ac31b25019d\",\"type\":\"Stack\"},{\"attributes\":{\"data_source\":{\"id\":\"43bbda5f-8925-4f94-ae24-565d273ba170\",\"type\":\"ColumnDataSource\"},\"glyph\":{\"id\":\"8b0e489f-025c-4797-a603-6cb1d1118039\",\"type\":\"HBar\"},\"hover_glyph\":null,\"muted_glyph\":null,\"nonselection_glyph\":{\"id\":\"d8705289-d9a7-4ac1-9133-0db9f5e4accf\",\"type\":\"HBar\"},\"selection_glyph\":null,\"view\":{\"id\":\"5886367d-21a2-4427-bdc8-832b7117bbf1\",\"type\":\"CDSView\"}},\"id\":\"0fbf0b6a-b8bf-460f-a2c6-cc18f60d06dd\",\"type\":\"GlyphRenderer\"},{\"attributes\":{\"fields\":[\"American Indian/Alaska Native\",\"Anglo or White\",\"Asian\"]},\"id\":\"55495395-1b1e-4dae-8b33-361d68c2b155\",\"type\":\"Stack\"},{\"attributes\":{\"fields\":[\"American Indian/Alaska Native\",\"Anglo or White\"]},\"id\":\"4c854d25-0ef0-4433-a461-f359b2bf1c67\",\"type\":\"Stack\"},{\"attributes\":{\"fields\":[\"American Indian/Alaska Native\",\"Anglo or White\",\"Asian\",\"Black or African American\",\"Hispanic or Latino\",\"Middle East\"]},\"id\":\"c8a48801-edff-4f51-8d1d-a02bc5e21e8a\",\"type\":\"Stack\"},{\"attributes\":{\"fields\":[\"American Indian/Alaska Native\",\"Anglo or White\"]},\"id\":\"bf5b4b3e-5ba4-4c8b-96ea-967f309e051f\",\"type\":\"Stack\"},{\"attributes\":{\"fields\":[\"American Indian/Alaska Native\",\"Anglo or White\",\"Asian\",\"Black or African American\",\"Hispanic or Latino\",\"Middle East\",\"Native Hawaiian/Pacific Islander\"]},\"id\":\"054d3dbb-dc2f-4aa4-8c6e-b97d2bcbb98b\",\"type\":\"Stack\"},{\"attributes\":{\"fill_alpha\":{\"value\":0.1},\"fill_color\":{\"value\":\"#1f77b4\"},\"height\":{\"value\":0.9},\"left\":{\"expr\":{\"id\":\"324fcbfd-51a9-4b64-a4e7-bfe1f6c8210d\",\"type\":\"Stack\"}},\"line_alpha\":{\"value\":0.1},\"line_color\":{\"value\":\"#1f77b4\"},\"right\":{\"expr\":{\"id\":\"bf5b4b3e-5ba4-4c8b-96ea-967f309e051f\",\"type\":\"Stack\"}},\"y\":{\"field\":\"Clusters\"}},\"id\":\"48221110-25d9-45d6-946b-ae790b6cdf26\",\"type\":\"HBar\"},{\"attributes\":{\"fill_alpha\":{\"value\":0.1},\"fill_color\":{\"value\":\"#1f77b4\"},\"height\":{\"value\":0.9},\"left\":{\"expr\":{\"id\":\"cdd20abf-102a-4b83-976f-4c63234af9a1\",\"type\":\"Stack\"}},\"line_alpha\":{\"value\":0.1},\"line_color\":{\"value\":\"#1f77b4\"},\"right\":{\"expr\":{\"id\":\"297b3521-0ca2-4a67-8df4-809a8f136dc0\",\"type\":\"Stack\"}},\"y\":{\"field\":\"Clusters\"}},\"id\":\"a66cf605-3b5c-43ec-b3f0-e1a5f1122c0e\",\"type\":\"HBar\"},{\"attributes\":{\"fill_color\":{\"value\":\"#3288bd\"},\"height\":{\"value\":0.9},\"left\":{\"expr\":{\"id\":\"cdd20abf-102a-4b83-976f-4c63234af9a1\",\"type\":\"Stack\"}},\"line_color\":{\"value\":\"#3288bd\"},\"right\":{\"expr\":{\"id\":\"297b3521-0ca2-4a67-8df4-809a8f136dc0\",\"type\":\"Stack\"}},\"y\":{\"field\":\"Clusters\"}},\"id\":\"ffbf13f6-0b1a-4b6b-b2bb-781f972bfc59\",\"type\":\"HBar\"},{\"attributes\":{\"source\":{\"id\":\"43bbda5f-8925-4f94-ae24-565d273ba170\",\"type\":\"ColumnDataSource\"}},\"id\":\"59dcc1f7-65e6-48ac-8640-601980130073\",\"type\":\"CDSView\"},{\"attributes\":{\"label\":{\"value\":\"Anglo or White\"},\"renderers\":[{\"id\":\"d9dae7b4-5318-419b-ac47-1b7a8a9b9558\",\"type\":\"GlyphRenderer\"}]},\"id\":\"ab99e565-60a2-4381-a499-ed1f3268aa52\",\"type\":\"LegendItem\"},{\"attributes\":{\"label\":{\"value\":\"American Indian/Alaska Native\"},\"renderers\":[{\"id\":\"78790a0d-c362-484b-b8d3-08e6ca311e29\",\"type\":\"GlyphRenderer\"}]},\"id\":\"9d960dcc-fe0a-4889-bdbd-7c9986d12bb0\",\"type\":\"LegendItem\"},{\"attributes\":{},\"id\":\"053dc67c-9fa8-4770-afc6-4c4026b5962c\",\"type\":\"BasicTickFormatter\"},{\"attributes\":{\"fill_color\":{\"value\":\"#66c2a5\"},\"height\":{\"value\":0.9},\"left\":{\"expr\":{\"id\":\"324fcbfd-51a9-4b64-a4e7-bfe1f6c8210d\",\"type\":\"Stack\"}},\"line_color\":{\"value\":\"#66c2a5\"},\"right\":{\"expr\":{\"id\":\"bf5b4b3e-5ba4-4c8b-96ea-967f309e051f\",\"type\":\"Stack\"}},\"y\":{\"field\":\"Clusters\"}},\"id\":\"8c99f7ed-ec41-4bed-afaf-dbf71c8fb7a1\",\"type\":\"HBar\"},{\"attributes\":{\"source\":{\"id\":\"43bbda5f-8925-4f94-ae24-565d273ba170\",\"type\":\"ColumnDataSource\"}},\"id\":\"de804e5b-fb11-447a-9ce1-60a0ad3b7093\",\"type\":\"CDSView\"},{\"attributes\":{\"items\":[{\"id\":\"9d960dcc-fe0a-4889-bdbd-7c9986d12bb0\",\"type\":\"LegendItem\"},{\"id\":\"ab99e565-60a2-4381-a499-ed1f3268aa52\",\"type\":\"LegendItem\"},{\"id\":\"207bfd6d-b8fd-4f89-a2e2-ff9ba405cf59\",\"type\":\"LegendItem\"},{\"id\":\"feab7e3d-1957-42b2-a37b-86440de4d3c7\",\"type\":\"LegendItem\"},{\"id\":\"c6b70c0f-bd5c-4cca-933f-bdaa1a6b9529\",\"type\":\"LegendItem\"},{\"id\":\"1dde61a8-8044-4921-b7bb-69bb5c933f6d\",\"type\":\"LegendItem\"},{\"id\":\"ab0de6a9-56f1-473b-959e-cea23b19d43c\",\"type\":\"LegendItem\"},{\"id\":\"7df7e1d4-d3fb-4edc-b98e-0cff8300377f\",\"type\":\"LegendItem\"}],\"plot\":{\"id\":\"14535cf4-9694-49c2-afe5-f9fd9a120e39\",\"subtype\":\"Figure\",\"type\":\"Plot\"}},\"id\":\"e7db42be-c980-4fe3-9984-202719e1fc0f\",\"type\":\"Legend\"},{\"attributes\":{},\"id\":\"99307eca-b7ba-4793-86cc-72503cbc2e5d\",\"type\":\"CategoricalTickFormatter\"},{\"attributes\":{\"label\":{\"value\":\"Asian\"},\"renderers\":[{\"id\":\"0fbf0b6a-b8bf-460f-a2c6-cc18f60d06dd\",\"type\":\"GlyphRenderer\"}]},\"id\":\"207bfd6d-b8fd-4f89-a2e2-ff9ba405cf59\",\"type\":\"LegendItem\"}],\"root_ids\":[\"14535cf4-9694-49c2-afe5-f9fd9a120e39\"]},\"title\":\"Bokeh Application\",\"version\":\"0.12.13\"}};\n",
       "  var render_items = [{\"docid\":\"25fc88d5-8f7a-414a-97a5-b8d993b972bf\",\"elementid\":\"0e865f78-4b37-42de-8b44-7f37f99d7580\",\"modelid\":\"14535cf4-9694-49c2-afe5-f9fd9a120e39\"}];\n",
       "  root.Bokeh.embed.embed_items_notebook(docs_json, render_items);\n",
       "\n",
       "  }\n",
       "  if (root.Bokeh !== undefined) {\n",
       "    embed_document(root);\n",
       "  } else {\n",
       "    var attempts = 0;\n",
       "    var timer = setInterval(function(root) {\n",
       "      if (root.Bokeh !== undefined) {\n",
       "        embed_document(root);\n",
       "        clearInterval(timer);\n",
       "      }\n",
       "      attempts++;\n",
       "      if (attempts > 100) {\n",
       "        console.log(\"Bokeh: ERROR: Unable to run BokehJS code because BokehJS library is missing\")\n",
       "        clearInterval(timer);\n",
       "      }\n",
       "    }, 10, root)\n",
       "  }\n",
       "})(window);"
      ],
      "application/vnd.bokehjs_exec.v0+json": ""
     },
     "metadata": {
      "application/vnd.bokehjs_exec.v0+json": {
       "id": "14535cf4-9694-49c2-afe5-f9fd9a120e39"
      }
     },
     "output_type": "display_data"
    }
   ],
   "source": [
    "#stacked horizontal bar graph showing Race in each Cluster\n",
    "\n",
    "data= {'Clusters': list(racedf.index), 'American Indian/Alaska Native' : racedf['American Indian/Alaska Native'].values, \n",
    "       'Anglo or White': racedf['Anglo or White'].values,  'Asian':racedf['Asian'].values, \n",
    "       'Black or African American': racedf['Black or African American'].values,  \n",
    "       'Hispanic or Latino': racedf['Hispanic or Latino'].values,\n",
    "       'Middle East': racedf['Middle East'].values, 'Native Hawaiian/Pacific Islander': racedf['Native Hawaiian/Pacific Islander'].values, \n",
    "       'Other/Don\\'t Know': racedf['Other/Don\\'t Know'].values}\n",
    "\n",
    "source = ColumnDataSource(data=data)\n",
    "\n",
    "g = figure(y_range= data['Clusters'], plot_height=500,plot_width=900, title=\"Racial breakdown of Clusters\",x_axis_label='Number of Deaths from 2005-2016', y_axis_label= 'Clusters', toolbar_location=None, tools=\"\")\n",
    "\n",
    "\n",
    "g.hbar_stack(racedf.columns, y= 'Clusters', height=0.9, color=Spectral8, source=source,\n",
    "             legend=[value(x) for x in racedf.columns])\n",
    "\n",
    "g.x_range.start = 0\n",
    "g.x_range.end = 3000\n",
    "g.y_range.range_padding = 0.1\n",
    "g.xgrid.grid_line_color = None\n",
    "g.axis.minor_tick_line_color = None\n",
    "g.outline_line_color = None\n",
    "g.legend.location = \"top_right\"\n",
    "g.legend.orientation = \"vertical\"\n",
    "\n",
    "show(g)\n"
   ]
  },
  {
   "cell_type": "code",
   "execution_count": 49,
   "metadata": {},
   "outputs": [
    {
     "data": {
      "text/html": [
       "<div>\n",
       "<style scoped>\n",
       "    .dataframe tbody tr th:only-of-type {\n",
       "        vertical-align: middle;\n",
       "    }\n",
       "\n",
       "    .dataframe tbody tr th {\n",
       "        vertical-align: top;\n",
       "    }\n",
       "\n",
       "    .dataframe thead th {\n",
       "        text-align: right;\n",
       "    }\n",
       "</style>\n",
       "<table border=\"1\" class=\"dataframe\">\n",
       "  <thead>\n",
       "    <tr style=\"text-align: right;\">\n",
       "      <th>death_type</th>\n",
       "      <th>Accidental injury caused by others</th>\n",
       "      <th>Accidental injury to self</th>\n",
       "      <th>Alcohol/Drug Intoxication</th>\n",
       "      <th>Homicide by Law Enforcement/Correctional Staff</th>\n",
       "      <th>Homicide by Other</th>\n",
       "      <th>Natural Causes/Illness</th>\n",
       "      <th>Other</th>\n",
       "      <th>Suicide</th>\n",
       "    </tr>\n",
       "    <tr>\n",
       "      <th>Kmeans Cluster</th>\n",
       "      <th></th>\n",
       "      <th></th>\n",
       "      <th></th>\n",
       "      <th></th>\n",
       "      <th></th>\n",
       "      <th></th>\n",
       "      <th></th>\n",
       "      <th></th>\n",
       "    </tr>\n",
       "  </thead>\n",
       "  <tbody>\n",
       "    <tr>\n",
       "      <th>0</th>\n",
       "      <td>0</td>\n",
       "      <td>0</td>\n",
       "      <td>0</td>\n",
       "      <td>15</td>\n",
       "      <td>20</td>\n",
       "      <td>2475</td>\n",
       "      <td>28</td>\n",
       "      <td>13</td>\n",
       "    </tr>\n",
       "    <tr>\n",
       "      <th>1</th>\n",
       "      <td>0</td>\n",
       "      <td>0</td>\n",
       "      <td>0</td>\n",
       "      <td>11</td>\n",
       "      <td>11</td>\n",
       "      <td>1912</td>\n",
       "      <td>29</td>\n",
       "      <td>64</td>\n",
       "    </tr>\n",
       "    <tr>\n",
       "      <th>2</th>\n",
       "      <td>1</td>\n",
       "      <td>21</td>\n",
       "      <td>35</td>\n",
       "      <td>4</td>\n",
       "      <td>6</td>\n",
       "      <td>397</td>\n",
       "      <td>39</td>\n",
       "      <td>114</td>\n",
       "    </tr>\n",
       "    <tr>\n",
       "      <th>3</th>\n",
       "      <td>3</td>\n",
       "      <td>63</td>\n",
       "      <td>73</td>\n",
       "      <td>317</td>\n",
       "      <td>10</td>\n",
       "      <td>0</td>\n",
       "      <td>0</td>\n",
       "      <td>0</td>\n",
       "    </tr>\n",
       "    <tr>\n",
       "      <th>4</th>\n",
       "      <td>17</td>\n",
       "      <td>71</td>\n",
       "      <td>149</td>\n",
       "      <td>532</td>\n",
       "      <td>20</td>\n",
       "      <td>0</td>\n",
       "      <td>0</td>\n",
       "      <td>0</td>\n",
       "    </tr>\n",
       "    <tr>\n",
       "      <th>5</th>\n",
       "      <td>0</td>\n",
       "      <td>0</td>\n",
       "      <td>27</td>\n",
       "      <td>5</td>\n",
       "      <td>5</td>\n",
       "      <td>240</td>\n",
       "      <td>27</td>\n",
       "      <td>183</td>\n",
       "    </tr>\n",
       "    <tr>\n",
       "      <th>6</th>\n",
       "      <td>0</td>\n",
       "      <td>0</td>\n",
       "      <td>0</td>\n",
       "      <td>0</td>\n",
       "      <td>0</td>\n",
       "      <td>242</td>\n",
       "      <td>80</td>\n",
       "      <td>470</td>\n",
       "    </tr>\n",
       "  </tbody>\n",
       "</table>\n",
       "</div>"
      ],
      "text/plain": [
       "death_type      Accidental injury caused by others  Accidental injury to self  \\\n",
       "Kmeans Cluster                                                                  \n",
       "0                                                0                          0   \n",
       "1                                                0                          0   \n",
       "2                                                1                         21   \n",
       "3                                                3                         63   \n",
       "4                                               17                         71   \n",
       "5                                                0                          0   \n",
       "6                                                0                          0   \n",
       "\n",
       "death_type      Alcohol/Drug Intoxication  \\\n",
       "Kmeans Cluster                              \n",
       "0                                       0   \n",
       "1                                       0   \n",
       "2                                      35   \n",
       "3                                      73   \n",
       "4                                     149   \n",
       "5                                      27   \n",
       "6                                       0   \n",
       "\n",
       "death_type      Homicide by Law Enforcement/Correctional Staff  \\\n",
       "Kmeans Cluster                                                   \n",
       "0                                                           15   \n",
       "1                                                           11   \n",
       "2                                                            4   \n",
       "3                                                          317   \n",
       "4                                                          532   \n",
       "5                                                            5   \n",
       "6                                                            0   \n",
       "\n",
       "death_type      Homicide by Other  Natural Causes/Illness  Other  Suicide  \n",
       "Kmeans Cluster                                                             \n",
       "0                              20                    2475     28       13  \n",
       "1                              11                    1912     29       64  \n",
       "2                               6                     397     39      114  \n",
       "3                              10                       0      0        0  \n",
       "4                              20                       0      0        0  \n",
       "5                               5                     240     27      183  \n",
       "6                               0                     242     80      470  "
      ]
     },
     "execution_count": 49,
     "metadata": {},
     "output_type": "execute_result"
    }
   ],
   "source": [
    "deathdf = cust.groupby('Kmeans Cluster')['death_type'].value_counts()\n",
    "deathdf = deathdf.unstack().fillna(0).astype(int)\n",
    "deathdf"
   ]
  },
  {
   "cell_type": "code",
   "execution_count": 50,
   "metadata": {},
   "outputs": [
    {
     "data": {
      "text/html": [
       "\n",
       "<div class=\"bk-root\">\n",
       "    <div class=\"bk-plotdiv\" id=\"be05b246-74c6-47db-8437-6ec0690d5eb7\"></div>\n",
       "</div>"
      ]
     },
     "metadata": {},
     "output_type": "display_data"
    },
    {
     "data": {
      "application/javascript": [
       "(function(root) {\n",
       "  function embed_document(root) {\n",
       "    \n",
       "  var docs_json = {\"97bc3290-b279-4ceb-b0dc-fe16f2862e94\":{\"roots\":{\"references\":[{\"attributes\":{\"axis_label\":\"Clusters\",\"formatter\":{\"id\":\"61636b16-3137-4bc8-920b-79e07b57884e\",\"type\":\"CategoricalTickFormatter\"},\"minor_tick_line_color\":{\"value\":null},\"plot\":{\"id\":\"8f49bf38-6c72-4745-908f-dbfd619d64be\",\"subtype\":\"Figure\",\"type\":\"Plot\"},\"ticker\":{\"id\":\"d8cebc4f-c945-406f-ab50-c81f8d945c1d\",\"type\":\"CategoricalTicker\"}},\"id\":\"0b402212-c864-4958-85a3-d02139b5a902\",\"type\":\"CategoricalAxis\"},{\"attributes\":{\"fields\":[\"Accidental injury caused by others\",\"Accidental injury to self\",\"Alcohol/Drug Intoxication\"]},\"id\":\"b27424fb-be30-42dc-9abb-0ea7ea3a3f03\",\"type\":\"Stack\"},{\"attributes\":{},\"id\":\"4c2f6d9b-0328-4059-890b-cfd384dd773e\",\"type\":\"BasicTicker\"},{\"attributes\":{\"fields\":[\"Accidental injury caused by others\",\"Accidental injury to self\",\"Alcohol/Drug Intoxication\",\"Homicide by Law Enforcement/Correctional Staff\"]},\"id\":\"34b7a23c-69ca-47af-a9cc-649eeedc96e0\",\"type\":\"Stack\"},{\"attributes\":{\"fields\":[]},\"id\":\"927febdb-ac31-4d9d-91eb-06154d29cd34\",\"type\":\"Stack\"},{\"attributes\":{\"fields\":[\"Accidental injury caused by others\",\"Accidental injury to self\",\"Alcohol/Drug Intoxication\"]},\"id\":\"7c61d6c1-5c54-4d05-b8ec-c10348d6168b\",\"type\":\"Stack\"},{\"attributes\":{\"dimension\":1,\"plot\":{\"id\":\"8f49bf38-6c72-4745-908f-dbfd619d64be\",\"subtype\":\"Figure\",\"type\":\"Plot\"},\"ticker\":{\"id\":\"d8cebc4f-c945-406f-ab50-c81f8d945c1d\",\"type\":\"CategoricalTicker\"}},\"id\":\"0f925e1c-d4e5-4f9b-bf5d-357cba04b29c\",\"type\":\"Grid\"},{\"attributes\":{\"fields\":[\"Accidental injury caused by others\",\"Accidental injury to self\",\"Alcohol/Drug Intoxication\",\"Homicide by Law Enforcement/Correctional Staff\"]},\"id\":\"3f037bf9-8d9c-49d8-8086-87d3dc19da4e\",\"type\":\"Stack\"},{\"attributes\":{\"fields\":[\"Accidental injury caused by others\",\"Accidental injury to self\",\"Alcohol/Drug Intoxication\",\"Homicide by Law Enforcement/Correctional Staff\",\"Homicide by Other\"]},\"id\":\"81466d74-da96-4471-ae66-7138419b375b\",\"type\":\"Stack\"},{\"attributes\":{\"callback\":null,\"end\":4000,\"start\":0},\"id\":\"1a99ce7e-e063-4eae-bfd9-c02760c4ec9a\",\"type\":\"DataRange1d\"},{\"attributes\":{\"fields\":[\"Accidental injury caused by others\"]},\"id\":\"43c1f4ee-8187-411f-a0f0-57785826015e\",\"type\":\"Stack\"},{\"attributes\":{\"fields\":[\"Accidental injury caused by others\",\"Accidental injury to self\",\"Alcohol/Drug Intoxication\",\"Homicide by Law Enforcement/Correctional Staff\",\"Homicide by Other\",\"Natural Causes/Illness\"]},\"id\":\"f25fc525-a6a7-4b1d-883d-f079e2e08aa5\",\"type\":\"Stack\"},{\"attributes\":{\"fields\":[\"Accidental injury caused by others\",\"Accidental injury to self\",\"Alcohol/Drug Intoxication\",\"Homicide by Law Enforcement/Correctional Staff\",\"Homicide by Other\"]},\"id\":\"c53b36f2-bc4e-43ee-98af-6975da4272e4\",\"type\":\"Stack\"},{\"attributes\":{},\"id\":\"61636b16-3137-4bc8-920b-79e07b57884e\",\"type\":\"CategoricalTickFormatter\"},{\"attributes\":{},\"id\":\"d8cebc4f-c945-406f-ab50-c81f8d945c1d\",\"type\":\"CategoricalTicker\"},{\"attributes\":{\"fields\":[\"Accidental injury caused by others\",\"Accidental injury to self\",\"Alcohol/Drug Intoxication\",\"Homicide by Law Enforcement/Correctional Staff\",\"Homicide by Other\",\"Natural Causes/Illness\"]},\"id\":\"c258bb2e-a18f-4140-80d0-6c0f82685cf1\",\"type\":\"Stack\"},{\"attributes\":{\"fields\":[\"Accidental injury caused by others\",\"Accidental injury to self\",\"Alcohol/Drug Intoxication\",\"Homicide by Law Enforcement/Correctional Staff\",\"Homicide by Other\",\"Natural Causes/Illness\",\"Other\"]},\"id\":\"1f990ae5-12a5-467f-9b9e-9e44a2eaebfa\",\"type\":\"Stack\"},{\"attributes\":{\"fields\":[\"Accidental injury caused by others\",\"Accidental injury to self\",\"Alcohol/Drug Intoxication\",\"Homicide by Law Enforcement/Correctional Staff\",\"Homicide by Other\",\"Natural Causes/Illness\",\"Other\"]},\"id\":\"800eb0f2-7ace-4143-ac45-5eb84948ef2e\",\"type\":\"Stack\"},{\"attributes\":{\"fields\":[\"Accidental injury caused by others\",\"Accidental injury to self\",\"Alcohol/Drug Intoxication\",\"Homicide by Law Enforcement/Correctional Staff\",\"Homicide by Other\",\"Natural Causes/Illness\",\"Other\",\"Suicide\"]},\"id\":\"267b94f5-0e8a-439b-8ee9-c6ccece081bd\",\"type\":\"Stack\"},{\"attributes\":{\"fill_color\":{\"value\":\"#fee08b\"},\"height\":{\"value\":0.9},\"left\":{\"expr\":{\"id\":\"34b7a23c-69ca-47af-a9cc-649eeedc96e0\",\"type\":\"Stack\"}},\"line_color\":{\"value\":\"#fee08b\"},\"right\":{\"expr\":{\"id\":\"c53b36f2-bc4e-43ee-98af-6975da4272e4\",\"type\":\"Stack\"}},\"y\":{\"field\":\"Cluster\"}},\"id\":\"4eaae6c7-1ff8-4fa9-8fb7-cdce2225f666\",\"type\":\"HBar\"},{\"attributes\":{\"fill_color\":{\"value\":\"#3288bd\"},\"height\":{\"value\":0.9},\"left\":{\"expr\":{\"id\":\"927febdb-ac31-4d9d-91eb-06154d29cd34\",\"type\":\"Stack\"}},\"line_color\":{\"value\":\"#3288bd\"},\"right\":{\"expr\":{\"id\":\"43c1f4ee-8187-411f-a0f0-57785826015e\",\"type\":\"Stack\"}},\"y\":{\"field\":\"Cluster\"}},\"id\":\"588d9d43-8d7f-4d4d-b157-f5a8c7125f9d\",\"type\":\"HBar\"},{\"attributes\":{\"fill_alpha\":{\"value\":0.1},\"fill_color\":{\"value\":\"#1f77b4\"},\"height\":{\"value\":0.9},\"left\":{\"expr\":{\"id\":\"927febdb-ac31-4d9d-91eb-06154d29cd34\",\"type\":\"Stack\"}},\"line_alpha\":{\"value\":0.1},\"line_color\":{\"value\":\"#1f77b4\"},\"right\":{\"expr\":{\"id\":\"43c1f4ee-8187-411f-a0f0-57785826015e\",\"type\":\"Stack\"}},\"y\":{\"field\":\"Cluster\"}},\"id\":\"703df123-6afe-4ec8-9d6d-915b97aaad86\",\"type\":\"HBar\"},{\"attributes\":{\"items\":[{\"id\":\"858eb10e-70da-4828-855b-2a06c9ad7cce\",\"type\":\"LegendItem\"},{\"id\":\"812c5055-2063-428c-b95b-ce35565bfa74\",\"type\":\"LegendItem\"},{\"id\":\"78af56aa-12c2-4559-bf18-1f2a332a428a\",\"type\":\"LegendItem\"},{\"id\":\"6f1ec5fb-7469-418c-9ca4-bf3704abfddf\",\"type\":\"LegendItem\"},{\"id\":\"8d8dcd97-ea39-4ee0-ac88-807902e4aaf1\",\"type\":\"LegendItem\"},{\"id\":\"44d6f660-cb5f-4316-b014-c230b522cde3\",\"type\":\"LegendItem\"},{\"id\":\"61a78e2d-6fba-492e-b575-b2ffd2a8622f\",\"type\":\"LegendItem\"},{\"id\":\"0c0c1ec4-4c0c-4de7-96af-ba01cea17302\",\"type\":\"LegendItem\"}],\"plot\":{\"id\":\"8f49bf38-6c72-4745-908f-dbfd619d64be\",\"subtype\":\"Figure\",\"type\":\"Plot\"}},\"id\":\"4687342e-07d4-43de-986d-daca5bfff797\",\"type\":\"Legend\"},{\"attributes\":{\"fill_color\":{\"value\":\"#abdda4\"},\"height\":{\"value\":0.9},\"left\":{\"expr\":{\"id\":\"ad462780-af79-4a3e-9c3b-f3c35db89c4b\",\"type\":\"Stack\"}},\"line_color\":{\"value\":\"#abdda4\"},\"right\":{\"expr\":{\"id\":\"b27424fb-be30-42dc-9abb-0ea7ea3a3f03\",\"type\":\"Stack\"}},\"y\":{\"field\":\"Cluster\"}},\"id\":\"167cde04-956d-4aae-a411-6375b719f6a0\",\"type\":\"HBar\"},{\"attributes\":{\"fill_alpha\":{\"value\":0.1},\"fill_color\":{\"value\":\"#1f77b4\"},\"height\":{\"value\":0.9},\"left\":{\"expr\":{\"id\":\"0e655ce5-3cb2-4781-979c-ce3f9fc6a21b\",\"type\":\"Stack\"}},\"line_alpha\":{\"value\":0.1},\"line_color\":{\"value\":\"#1f77b4\"},\"right\":{\"expr\":{\"id\":\"a6c0023f-2a62-4839-a2a7-c8e24ae7b427\",\"type\":\"Stack\"}},\"y\":{\"field\":\"Cluster\"}},\"id\":\"21976c26-39b0-4fee-8bdb-bcc9af842851\",\"type\":\"HBar\"},{\"attributes\":{},\"id\":\"d4b89178-e37c-470b-8945-a0269e00dc0d\",\"type\":\"BasicTickFormatter\"},{\"attributes\":{\"fill_color\":{\"value\":\"#66c2a5\"},\"height\":{\"value\":0.9},\"left\":{\"expr\":{\"id\":\"0e655ce5-3cb2-4781-979c-ce3f9fc6a21b\",\"type\":\"Stack\"}},\"line_color\":{\"value\":\"#66c2a5\"},\"right\":{\"expr\":{\"id\":\"a6c0023f-2a62-4839-a2a7-c8e24ae7b427\",\"type\":\"Stack\"}},\"y\":{\"field\":\"Cluster\"}},\"id\":\"24f287fc-1a6e-4aed-a39c-e7697f6ff577\",\"type\":\"HBar\"},{\"attributes\":{\"data_source\":{\"id\":\"0b85ef8b-48e0-4de2-9b76-a978a947088a\",\"type\":\"ColumnDataSource\"},\"glyph\":{\"id\":\"588d9d43-8d7f-4d4d-b157-f5a8c7125f9d\",\"type\":\"HBar\"},\"hover_glyph\":null,\"muted_glyph\":null,\"nonselection_glyph\":{\"id\":\"703df123-6afe-4ec8-9d6d-915b97aaad86\",\"type\":\"HBar\"},\"selection_glyph\":null,\"view\":{\"id\":\"983004f1-a1ee-4798-ad64-27a6db93246a\",\"type\":\"CDSView\"}},\"id\":\"652c3749-c2c5-44ab-9413-24522b5d7fce\",\"type\":\"GlyphRenderer\"},{\"attributes\":{\"source\":{\"id\":\"0b85ef8b-48e0-4de2-9b76-a978a947088a\",\"type\":\"ColumnDataSource\"}},\"id\":\"983004f1-a1ee-4798-ad64-27a6db93246a\",\"type\":\"CDSView\"},{\"attributes\":{\"fields\":[\"Accidental injury caused by others\",\"Accidental injury to self\"]},\"id\":\"ad462780-af79-4a3e-9c3b-f3c35db89c4b\",\"type\":\"Stack\"},{\"attributes\":{\"label\":{\"value\":\"Accidental injury caused by others\"},\"renderers\":[{\"id\":\"652c3749-c2c5-44ab-9413-24522b5d7fce\",\"type\":\"GlyphRenderer\"}]},\"id\":\"858eb10e-70da-4828-855b-2a06c9ad7cce\",\"type\":\"LegendItem\"},{\"attributes\":{\"fill_alpha\":{\"value\":0.1},\"fill_color\":{\"value\":\"#1f77b4\"},\"height\":{\"value\":0.9},\"left\":{\"expr\":{\"id\":\"7c61d6c1-5c54-4d05-b8ec-c10348d6168b\",\"type\":\"Stack\"}},\"line_alpha\":{\"value\":0.1},\"line_color\":{\"value\":\"#1f77b4\"},\"right\":{\"expr\":{\"id\":\"3f037bf9-8d9c-49d8-8086-87d3dc19da4e\",\"type\":\"Stack\"}},\"y\":{\"field\":\"Cluster\"}},\"id\":\"589bbe8a-bb31-4005-a267-e875a3852d8b\",\"type\":\"HBar\"},{\"attributes\":{\"plot\":null,\"text\":\"Manner of Death per Cluster\"},\"id\":\"20e32ec1-e52d-4c10-bcbc-6d5a607e267d\",\"type\":\"Title\"},{\"attributes\":{\"fill_color\":{\"value\":\"#e6f598\"},\"height\":{\"value\":0.9},\"left\":{\"expr\":{\"id\":\"7c61d6c1-5c54-4d05-b8ec-c10348d6168b\",\"type\":\"Stack\"}},\"line_color\":{\"value\":\"#e6f598\"},\"right\":{\"expr\":{\"id\":\"3f037bf9-8d9c-49d8-8086-87d3dc19da4e\",\"type\":\"Stack\"}},\"y\":{\"field\":\"Cluster\"}},\"id\":\"2fceda3d-8e75-42b3-8c8a-e79fc73f8641\",\"type\":\"HBar\"},{\"attributes\":{\"label\":{\"value\":\"Accidental injury to self\"},\"renderers\":[{\"id\":\"c505e48e-b0db-46d3-9636-a5e2b8761142\",\"type\":\"GlyphRenderer\"}]},\"id\":\"812c5055-2063-428c-b95b-ce35565bfa74\",\"type\":\"LegendItem\"},{\"attributes\":{\"fill_color\":{\"value\":\"#fdae61\"},\"height\":{\"value\":0.9},\"left\":{\"expr\":{\"id\":\"81466d74-da96-4471-ae66-7138419b375b\",\"type\":\"Stack\"}},\"line_color\":{\"value\":\"#fdae61\"},\"right\":{\"expr\":{\"id\":\"f25fc525-a6a7-4b1d-883d-f079e2e08aa5\",\"type\":\"Stack\"}},\"y\":{\"field\":\"Cluster\"}},\"id\":\"47537c8d-37cc-4c54-b3bd-27a7455260d6\",\"type\":\"HBar\"},{\"attributes\":{\"data_source\":{\"id\":\"0b85ef8b-48e0-4de2-9b76-a978a947088a\",\"type\":\"ColumnDataSource\"},\"glyph\":{\"id\":\"24f287fc-1a6e-4aed-a39c-e7697f6ff577\",\"type\":\"HBar\"},\"hover_glyph\":null,\"muted_glyph\":null,\"nonselection_glyph\":{\"id\":\"21976c26-39b0-4fee-8bdb-bcc9af842851\",\"type\":\"HBar\"},\"selection_glyph\":null,\"view\":{\"id\":\"a5b42626-abf3-4d76-8b86-12b577de1de8\",\"type\":\"CDSView\"}},\"id\":\"c505e48e-b0db-46d3-9636-a5e2b8761142\",\"type\":\"GlyphRenderer\"},{\"attributes\":{\"source\":{\"id\":\"0b85ef8b-48e0-4de2-9b76-a978a947088a\",\"type\":\"ColumnDataSource\"}},\"id\":\"a5b42626-abf3-4d76-8b86-12b577de1de8\",\"type\":\"CDSView\"},{\"attributes\":{},\"id\":\"009f1eb9-cbe0-4f69-af0f-7d6e83e1f566\",\"type\":\"LinearScale\"},{\"attributes\":{\"fill_alpha\":{\"value\":0.1},\"fill_color\":{\"value\":\"#1f77b4\"},\"height\":{\"value\":0.9},\"left\":{\"expr\":{\"id\":\"ad462780-af79-4a3e-9c3b-f3c35db89c4b\",\"type\":\"Stack\"}},\"line_alpha\":{\"value\":0.1},\"line_color\":{\"value\":\"#1f77b4\"},\"right\":{\"expr\":{\"id\":\"b27424fb-be30-42dc-9abb-0ea7ea3a3f03\",\"type\":\"Stack\"}},\"y\":{\"field\":\"Cluster\"}},\"id\":\"1c4c4c35-61fa-4403-87c4-ff0596ab74ea\",\"type\":\"HBar\"},{\"attributes\":{\"data_source\":{\"id\":\"0b85ef8b-48e0-4de2-9b76-a978a947088a\",\"type\":\"ColumnDataSource\"},\"glyph\":{\"id\":\"2fceda3d-8e75-42b3-8c8a-e79fc73f8641\",\"type\":\"HBar\"},\"hover_glyph\":null,\"muted_glyph\":null,\"nonselection_glyph\":{\"id\":\"589bbe8a-bb31-4005-a267-e875a3852d8b\",\"type\":\"HBar\"},\"selection_glyph\":null,\"view\":{\"id\":\"8ca52ecc-4f0d-4d5a-a751-c4d41df2a11b\",\"type\":\"CDSView\"}},\"id\":\"af2ef312-05c3-471a-a7ba-dc742839c93b\",\"type\":\"GlyphRenderer\"},{\"attributes\":{\"axis_label\":\"Number of Deaths from 2005-2016\",\"formatter\":{\"id\":\"d4b89178-e37c-470b-8945-a0269e00dc0d\",\"type\":\"BasicTickFormatter\"},\"minor_tick_line_color\":{\"value\":null},\"plot\":{\"id\":\"8f49bf38-6c72-4745-908f-dbfd619d64be\",\"subtype\":\"Figure\",\"type\":\"Plot\"},\"ticker\":{\"id\":\"4c2f6d9b-0328-4059-890b-cfd384dd773e\",\"type\":\"BasicTicker\"}},\"id\":\"ab48e2a2-cee7-4fde-beb0-32861faf94ce\",\"type\":\"LinearAxis\"},{\"attributes\":{\"grid_line_color\":{\"value\":null},\"plot\":{\"id\":\"8f49bf38-6c72-4745-908f-dbfd619d64be\",\"subtype\":\"Figure\",\"type\":\"Plot\"},\"ticker\":{\"id\":\"4c2f6d9b-0328-4059-890b-cfd384dd773e\",\"type\":\"BasicTicker\"}},\"id\":\"57ee6812-c28a-4f81-ae03-fdf97e1d17a8\",\"type\":\"Grid\"},{\"attributes\":{\"data_source\":{\"id\":\"0b85ef8b-48e0-4de2-9b76-a978a947088a\",\"type\":\"ColumnDataSource\"},\"glyph\":{\"id\":\"167cde04-956d-4aae-a411-6375b719f6a0\",\"type\":\"HBar\"},\"hover_glyph\":null,\"muted_glyph\":null,\"nonselection_glyph\":{\"id\":\"1c4c4c35-61fa-4403-87c4-ff0596ab74ea\",\"type\":\"HBar\"},\"selection_glyph\":null,\"view\":{\"id\":\"00fc2586-8ae1-4b19-9ccd-917253bb1706\",\"type\":\"CDSView\"}},\"id\":\"7ba6b803-2ce1-4c3e-96bd-7e250406011f\",\"type\":\"GlyphRenderer\"},{\"attributes\":{\"source\":{\"id\":\"0b85ef8b-48e0-4de2-9b76-a978a947088a\",\"type\":\"ColumnDataSource\"}},\"id\":\"00fc2586-8ae1-4b19-9ccd-917253bb1706\",\"type\":\"CDSView\"},{\"attributes\":{\"label\":{\"value\":\"Homicide by Law Enforcement/Correctional Staff\"},\"renderers\":[{\"id\":\"af2ef312-05c3-471a-a7ba-dc742839c93b\",\"type\":\"GlyphRenderer\"}]},\"id\":\"6f1ec5fb-7469-418c-9ca4-bf3704abfddf\",\"type\":\"LegendItem\"},{\"attributes\":{\"label\":{\"value\":\"Natural Causes/Illness\"},\"renderers\":[{\"id\":\"37fa936e-1705-4bde-9ec6-e85eb516e06f\",\"type\":\"GlyphRenderer\"}]},\"id\":\"44d6f660-cb5f-4316-b014-c230b522cde3\",\"type\":\"LegendItem\"},{\"attributes\":{\"source\":{\"id\":\"0b85ef8b-48e0-4de2-9b76-a978a947088a\",\"type\":\"ColumnDataSource\"}},\"id\":\"8ca52ecc-4f0d-4d5a-a751-c4d41df2a11b\",\"type\":\"CDSView\"},{\"attributes\":{\"fill_alpha\":{\"value\":0.1},\"fill_color\":{\"value\":\"#1f77b4\"},\"height\":{\"value\":0.9},\"left\":{\"expr\":{\"id\":\"34b7a23c-69ca-47af-a9cc-649eeedc96e0\",\"type\":\"Stack\"}},\"line_alpha\":{\"value\":0.1},\"line_color\":{\"value\":\"#1f77b4\"},\"right\":{\"expr\":{\"id\":\"c53b36f2-bc4e-43ee-98af-6975da4272e4\",\"type\":\"Stack\"}},\"y\":{\"field\":\"Cluster\"}},\"id\":\"f2618ce2-754d-4e40-8ddb-87c8e5bde473\",\"type\":\"HBar\"},{\"attributes\":{\"label\":{\"value\":\"Homicide by Other\"},\"renderers\":[{\"id\":\"5c13d848-9c83-43e5-9e69-83fe2833d975\",\"type\":\"GlyphRenderer\"}]},\"id\":\"8d8dcd97-ea39-4ee0-ac88-807902e4aaf1\",\"type\":\"LegendItem\"},{\"attributes\":{\"fill_color\":{\"value\":\"#d53e4f\"},\"height\":{\"value\":0.9},\"left\":{\"expr\":{\"id\":\"800eb0f2-7ace-4143-ac45-5eb84948ef2e\",\"type\":\"Stack\"}},\"line_color\":{\"value\":\"#d53e4f\"},\"right\":{\"expr\":{\"id\":\"267b94f5-0e8a-439b-8ee9-c6ccece081bd\",\"type\":\"Stack\"}},\"y\":{\"field\":\"Cluster\"}},\"id\":\"f182d447-864a-4624-a022-2868ea033a6b\",\"type\":\"HBar\"},{\"attributes\":{\"data_source\":{\"id\":\"0b85ef8b-48e0-4de2-9b76-a978a947088a\",\"type\":\"ColumnDataSource\"},\"glyph\":{\"id\":\"4eaae6c7-1ff8-4fa9-8fb7-cdce2225f666\",\"type\":\"HBar\"},\"hover_glyph\":null,\"muted_glyph\":null,\"nonselection_glyph\":{\"id\":\"f2618ce2-754d-4e40-8ddb-87c8e5bde473\",\"type\":\"HBar\"},\"selection_glyph\":null,\"view\":{\"id\":\"862cac01-18ce-4970-b20a-5a81fcceafad\",\"type\":\"CDSView\"}},\"id\":\"5c13d848-9c83-43e5-9e69-83fe2833d975\",\"type\":\"GlyphRenderer\"},{\"attributes\":{\"source\":{\"id\":\"0b85ef8b-48e0-4de2-9b76-a978a947088a\",\"type\":\"ColumnDataSource\"}},\"id\":\"862cac01-18ce-4970-b20a-5a81fcceafad\",\"type\":\"CDSView\"},{\"attributes\":{\"fill_alpha\":{\"value\":0.1},\"fill_color\":{\"value\":\"#1f77b4\"},\"height\":{\"value\":0.9},\"left\":{\"expr\":{\"id\":\"81466d74-da96-4471-ae66-7138419b375b\",\"type\":\"Stack\"}},\"line_alpha\":{\"value\":0.1},\"line_color\":{\"value\":\"#1f77b4\"},\"right\":{\"expr\":{\"id\":\"f25fc525-a6a7-4b1d-883d-f079e2e08aa5\",\"type\":\"Stack\"}},\"y\":{\"field\":\"Cluster\"}},\"id\":\"4dd2546b-1c48-4525-9690-2b4f305574fd\",\"type\":\"HBar\"},{\"attributes\":{\"fill_color\":{\"value\":\"#f46d43\"},\"height\":{\"value\":0.9},\"left\":{\"expr\":{\"id\":\"c258bb2e-a18f-4140-80d0-6c0f82685cf1\",\"type\":\"Stack\"}},\"line_color\":{\"value\":\"#f46d43\"},\"right\":{\"expr\":{\"id\":\"1f990ae5-12a5-467f-9b9e-9e44a2eaebfa\",\"type\":\"Stack\"}},\"y\":{\"field\":\"Cluster\"}},\"id\":\"179a51e4-0215-4c9c-8119-a998b140548d\",\"type\":\"HBar\"},{\"attributes\":{\"data_source\":{\"id\":\"0b85ef8b-48e0-4de2-9b76-a978a947088a\",\"type\":\"ColumnDataSource\"},\"glyph\":{\"id\":\"47537c8d-37cc-4c54-b3bd-27a7455260d6\",\"type\":\"HBar\"},\"hover_glyph\":null,\"muted_glyph\":null,\"nonselection_glyph\":{\"id\":\"4dd2546b-1c48-4525-9690-2b4f305574fd\",\"type\":\"HBar\"},\"selection_glyph\":null,\"view\":{\"id\":\"21956c27-db44-4d23-b5d1-9a3200183d7e\",\"type\":\"CDSView\"}},\"id\":\"37fa936e-1705-4bde-9ec6-e85eb516e06f\",\"type\":\"GlyphRenderer\"},{\"attributes\":{\"source\":{\"id\":\"0b85ef8b-48e0-4de2-9b76-a978a947088a\",\"type\":\"ColumnDataSource\"}},\"id\":\"21956c27-db44-4d23-b5d1-9a3200183d7e\",\"type\":\"CDSView\"},{\"attributes\":{\"fill_alpha\":{\"value\":0.1},\"fill_color\":{\"value\":\"#1f77b4\"},\"height\":{\"value\":0.9},\"left\":{\"expr\":{\"id\":\"c258bb2e-a18f-4140-80d0-6c0f82685cf1\",\"type\":\"Stack\"}},\"line_alpha\":{\"value\":0.1},\"line_color\":{\"value\":\"#1f77b4\"},\"right\":{\"expr\":{\"id\":\"1f990ae5-12a5-467f-9b9e-9e44a2eaebfa\",\"type\":\"Stack\"}},\"y\":{\"field\":\"Cluster\"}},\"id\":\"0ff4ad27-8bf7-4ca8-993a-e697ba4df82c\",\"type\":\"HBar\"},{\"attributes\":{\"label\":{\"value\":\"Other\"},\"renderers\":[{\"id\":\"21f5822b-411f-46b3-938d-a39f21684514\",\"type\":\"GlyphRenderer\"}]},\"id\":\"61a78e2d-6fba-492e-b575-b2ffd2a8622f\",\"type\":\"LegendItem\"},{\"attributes\":{\"data_source\":{\"id\":\"0b85ef8b-48e0-4de2-9b76-a978a947088a\",\"type\":\"ColumnDataSource\"},\"glyph\":{\"id\":\"179a51e4-0215-4c9c-8119-a998b140548d\",\"type\":\"HBar\"},\"hover_glyph\":null,\"muted_glyph\":null,\"nonselection_glyph\":{\"id\":\"0ff4ad27-8bf7-4ca8-993a-e697ba4df82c\",\"type\":\"HBar\"},\"selection_glyph\":null,\"view\":{\"id\":\"579af0c7-bf63-4120-a632-4421887c2d24\",\"type\":\"CDSView\"}},\"id\":\"21f5822b-411f-46b3-938d-a39f21684514\",\"type\":\"GlyphRenderer\"},{\"attributes\":{\"label\":{\"value\":\"Alcohol/Drug Intoxication\"},\"renderers\":[{\"id\":\"7ba6b803-2ce1-4c3e-96bd-7e250406011f\",\"type\":\"GlyphRenderer\"}]},\"id\":\"78af56aa-12c2-4559-bf18-1f2a332a428a\",\"type\":\"LegendItem\"},{\"attributes\":{\"callback\":null,\"column_names\":[\"Cluster\",\"Accidental injury caused by others\",\"Natural Causes/Illness\",\"Other\",\"Accidental injury to self\",\"Homicide by Law Enforcement/Correctional Staff\",\"Suicide\",\"Alcohol/Drug Intoxication\",\"Homicide by Other\"],\"data\":{\"Accidental injury caused by others\":{\"__ndarray__\":\"AAAAAAAAAAABAAAAAwAAABEAAAAAAAAAAAAAAA==\",\"dtype\":\"int32\",\"shape\":[7]},\"Accidental injury to self\":{\"__ndarray__\":\"AAAAAAAAAAAVAAAAPwAAAEcAAAAAAAAAAAAAAA==\",\"dtype\":\"int32\",\"shape\":[7]},\"Alcohol/Drug Intoxication\":{\"__ndarray__\":\"AAAAAAAAAAAjAAAASQAAAJUAAAAbAAAAAAAAAA==\",\"dtype\":\"int32\",\"shape\":[7]},\"Cluster\":[\"0\",\"1\",\"2\",\"3\",\"4\",\"5\",\"6\"],\"Homicide by Law Enforcement/Correctional Staff\":{\"__ndarray__\":\"DwAAAAsAAAAEAAAAPQEAABQCAAAFAAAAAAAAAA==\",\"dtype\":\"int32\",\"shape\":[7]},\"Homicide by Other\":{\"__ndarray__\":\"FAAAAAsAAAAGAAAACgAAABQAAAAFAAAAAAAAAA==\",\"dtype\":\"int32\",\"shape\":[7]},\"Natural Causes/Illness\":{\"__ndarray__\":\"qwkAAHgHAACNAQAAAAAAAAAAAADwAAAA8gAAAA==\",\"dtype\":\"int32\",\"shape\":[7]},\"Other\":{\"__ndarray__\":\"HAAAAB0AAAAnAAAAAAAAAAAAAAAbAAAAUAAAAA==\",\"dtype\":\"int32\",\"shape\":[7]},\"Suicide\":{\"__ndarray__\":\"DQAAAEAAAAByAAAAAAAAAAAAAAC3AAAA1gEAAA==\",\"dtype\":\"int32\",\"shape\":[7]}}},\"id\":\"0b85ef8b-48e0-4de2-9b76-a978a947088a\",\"type\":\"ColumnDataSource\"},{\"attributes\":{\"source\":{\"id\":\"0b85ef8b-48e0-4de2-9b76-a978a947088a\",\"type\":\"ColumnDataSource\"}},\"id\":\"579af0c7-bf63-4120-a632-4421887c2d24\",\"type\":\"CDSView\"},{\"attributes\":{\"active_drag\":\"auto\",\"active_inspect\":\"auto\",\"active_scroll\":\"auto\",\"active_tap\":\"auto\"},\"id\":\"161ab70d-ca25-4ce4-b33b-559fb91bf65a\",\"type\":\"Toolbar\"},{\"attributes\":{\"fill_alpha\":{\"value\":0.1},\"fill_color\":{\"value\":\"#1f77b4\"},\"height\":{\"value\":0.9},\"left\":{\"expr\":{\"id\":\"800eb0f2-7ace-4143-ac45-5eb84948ef2e\",\"type\":\"Stack\"}},\"line_alpha\":{\"value\":0.1},\"line_color\":{\"value\":\"#1f77b4\"},\"right\":{\"expr\":{\"id\":\"267b94f5-0e8a-439b-8ee9-c6ccece081bd\",\"type\":\"Stack\"}},\"y\":{\"field\":\"Cluster\"}},\"id\":\"e0464552-3321-4cfd-832a-1457d9cb8977\",\"type\":\"HBar\"},{\"attributes\":{\"label\":{\"value\":\"Suicide\"},\"renderers\":[{\"id\":\"dce83be3-3fec-4461-af19-a121bbd88358\",\"type\":\"GlyphRenderer\"}]},\"id\":\"0c0c1ec4-4c0c-4de7-96af-ba01cea17302\",\"type\":\"LegendItem\"},{\"attributes\":{\"data_source\":{\"id\":\"0b85ef8b-48e0-4de2-9b76-a978a947088a\",\"type\":\"ColumnDataSource\"},\"glyph\":{\"id\":\"f182d447-864a-4624-a022-2868ea033a6b\",\"type\":\"HBar\"},\"hover_glyph\":null,\"muted_glyph\":null,\"nonselection_glyph\":{\"id\":\"e0464552-3321-4cfd-832a-1457d9cb8977\",\"type\":\"HBar\"},\"selection_glyph\":null,\"view\":{\"id\":\"fa40d24f-752d-463f-b83f-afc70193eb63\",\"type\":\"CDSView\"}},\"id\":\"dce83be3-3fec-4461-af19-a121bbd88358\",\"type\":\"GlyphRenderer\"},{\"attributes\":{\"source\":{\"id\":\"0b85ef8b-48e0-4de2-9b76-a978a947088a\",\"type\":\"ColumnDataSource\"}},\"id\":\"fa40d24f-752d-463f-b83f-afc70193eb63\",\"type\":\"CDSView\"},{\"attributes\":{\"callback\":null,\"factors\":[\"0\",\"1\",\"2\",\"3\",\"4\",\"5\",\"6\"],\"range_padding\":0.1},\"id\":\"e29bae2a-423a-492b-ac87-fbf8cfbb0824\",\"type\":\"FactorRange\"},{\"attributes\":{},\"id\":\"f2a272a9-ac63-4f9f-be5a-71ec89013087\",\"type\":\"CategoricalScale\"},{\"attributes\":{\"fields\":[\"Accidental injury caused by others\",\"Accidental injury to self\"]},\"id\":\"a6c0023f-2a62-4839-a2a7-c8e24ae7b427\",\"type\":\"Stack\"},{\"attributes\":{\"fields\":[\"Accidental injury caused by others\"]},\"id\":\"0e655ce5-3cb2-4781-979c-ce3f9fc6a21b\",\"type\":\"Stack\"},{\"attributes\":{\"below\":[{\"id\":\"ab48e2a2-cee7-4fde-beb0-32861faf94ce\",\"type\":\"LinearAxis\"}],\"left\":[{\"id\":\"0b402212-c864-4958-85a3-d02139b5a902\",\"type\":\"CategoricalAxis\"}],\"outline_line_color\":{\"value\":null},\"plot_height\":500,\"plot_width\":900,\"renderers\":[{\"id\":\"ab48e2a2-cee7-4fde-beb0-32861faf94ce\",\"type\":\"LinearAxis\"},{\"id\":\"57ee6812-c28a-4f81-ae03-fdf97e1d17a8\",\"type\":\"Grid\"},{\"id\":\"0b402212-c864-4958-85a3-d02139b5a902\",\"type\":\"CategoricalAxis\"},{\"id\":\"0f925e1c-d4e5-4f9b-bf5d-357cba04b29c\",\"type\":\"Grid\"},{\"id\":\"4687342e-07d4-43de-986d-daca5bfff797\",\"type\":\"Legend\"},{\"id\":\"652c3749-c2c5-44ab-9413-24522b5d7fce\",\"type\":\"GlyphRenderer\"},{\"id\":\"c505e48e-b0db-46d3-9636-a5e2b8761142\",\"type\":\"GlyphRenderer\"},{\"id\":\"7ba6b803-2ce1-4c3e-96bd-7e250406011f\",\"type\":\"GlyphRenderer\"},{\"id\":\"af2ef312-05c3-471a-a7ba-dc742839c93b\",\"type\":\"GlyphRenderer\"},{\"id\":\"5c13d848-9c83-43e5-9e69-83fe2833d975\",\"type\":\"GlyphRenderer\"},{\"id\":\"37fa936e-1705-4bde-9ec6-e85eb516e06f\",\"type\":\"GlyphRenderer\"},{\"id\":\"21f5822b-411f-46b3-938d-a39f21684514\",\"type\":\"GlyphRenderer\"},{\"id\":\"dce83be3-3fec-4461-af19-a121bbd88358\",\"type\":\"GlyphRenderer\"}],\"title\":{\"id\":\"20e32ec1-e52d-4c10-bcbc-6d5a607e267d\",\"type\":\"Title\"},\"toolbar\":{\"id\":\"161ab70d-ca25-4ce4-b33b-559fb91bf65a\",\"type\":\"Toolbar\"},\"toolbar_location\":null,\"x_range\":{\"id\":\"1a99ce7e-e063-4eae-bfd9-c02760c4ec9a\",\"type\":\"DataRange1d\"},\"x_scale\":{\"id\":\"009f1eb9-cbe0-4f69-af0f-7d6e83e1f566\",\"type\":\"LinearScale\"},\"y_range\":{\"id\":\"e29bae2a-423a-492b-ac87-fbf8cfbb0824\",\"type\":\"FactorRange\"},\"y_scale\":{\"id\":\"f2a272a9-ac63-4f9f-be5a-71ec89013087\",\"type\":\"CategoricalScale\"}},\"id\":\"8f49bf38-6c72-4745-908f-dbfd619d64be\",\"subtype\":\"Figure\",\"type\":\"Plot\"}],\"root_ids\":[\"8f49bf38-6c72-4745-908f-dbfd619d64be\"]},\"title\":\"Bokeh Application\",\"version\":\"0.12.13\"}};\n",
       "  var render_items = [{\"docid\":\"97bc3290-b279-4ceb-b0dc-fe16f2862e94\",\"elementid\":\"be05b246-74c6-47db-8437-6ec0690d5eb7\",\"modelid\":\"8f49bf38-6c72-4745-908f-dbfd619d64be\"}];\n",
       "  root.Bokeh.embed.embed_items_notebook(docs_json, render_items);\n",
       "\n",
       "  }\n",
       "  if (root.Bokeh !== undefined) {\n",
       "    embed_document(root);\n",
       "  } else {\n",
       "    var attempts = 0;\n",
       "    var timer = setInterval(function(root) {\n",
       "      if (root.Bokeh !== undefined) {\n",
       "        embed_document(root);\n",
       "        clearInterval(timer);\n",
       "      }\n",
       "      attempts++;\n",
       "      if (attempts > 100) {\n",
       "        console.log(\"Bokeh: ERROR: Unable to run BokehJS code because BokehJS library is missing\")\n",
       "        clearInterval(timer);\n",
       "      }\n",
       "    }, 10, root)\n",
       "  }\n",
       "})(window);"
      ],
      "application/vnd.bokehjs_exec.v0+json": ""
     },
     "metadata": {
      "application/vnd.bokehjs_exec.v0+json": {
       "id": "8f49bf38-6c72-4745-908f-dbfd619d64be"
      }
     },
     "output_type": "display_data"
    }
   ],
   "source": [
    "#stacked horizontal bar graph showing \"Cause of Death\" in each Cluster\n",
    "\n",
    "data= {'Cluster': list(deathdf.index), 'Accidental injury caused by others' : deathdf['Accidental injury caused by others'].values, \n",
    "       'Natural Causes/Illness': deathdf['Natural Causes/Illness'].values,  'Other':deathdf['Other'].values, \n",
    "       'Accidental injury to self': deathdf['Accidental injury to self'].values,  \n",
    "       'Homicide by Law Enforcement/Correctional Staff': deathdf['Homicide by Law Enforcement/Correctional Staff'].values,\n",
    "       'Suicide': deathdf['Suicide'].values, 'Alcohol/Drug Intoxication': deathdf['Alcohol/Drug Intoxication'].values, \n",
    "       'Homicide by Other': deathdf['Homicide by Other'].values}\n",
    "\n",
    "source = ColumnDataSource(data=data)\n",
    "\n",
    "g = figure(y_range= data['Cluster'], plot_height=500,plot_width=900, title=\"Manner of Death per Cluster\",x_axis_label='Number of Deaths from 2005-2016', y_axis_label= 'Clusters', toolbar_location=None, tools=\"\")\n",
    "\n",
    "\n",
    "g.hbar_stack(deathdf.columns, y= 'Cluster', height=0.9, color=Spectral8, source=source,\n",
    "             legend=[value(x) for x in deathdf.columns])\n",
    "\n",
    "g.x_range.start = 0\n",
    "g.x_range.end = 4000\n",
    "g.y_range.range_padding = 0.1\n",
    "g.xgrid.grid_line_color = None\n",
    "g.axis.minor_tick_line_color = None\n",
    "g.outline_line_color = None\n",
    "g.legend.location = \"top_right\"\n",
    "g.legend.orientation = \"vertical\"\n",
    "\n",
    "show(g)"
   ]
  },
  {
   "cell_type": "code",
   "execution_count": null,
   "metadata": {},
   "outputs": [],
   "source": []
  },
  {
   "cell_type": "markdown",
   "metadata": {},
   "source": [
    "### Officer Involved Shootings"
   ]
  },
  {
   "cell_type": "code",
   "execution_count": 51,
   "metadata": {},
   "outputs": [],
   "source": [
    "#Change \"fatality\" values back to string values from numeric\n",
    "shoot['fatality'] = shoot['fatality'].map({0: 'Fatal', 1: 'Not Fatal', 2: 'Unknown'})"
   ]
  },
  {
   "cell_type": "code",
   "execution_count": 52,
   "metadata": {},
   "outputs": [],
   "source": [
    "#Change \"armed\" values back to string values from numeric\n",
    "shoot['armed'] = shoot['armed'].map({0: 'Not Armed', 1: 'Unknown', 2: 'Armed'})"
   ]
  },
  {
   "cell_type": "code",
   "execution_count": 53,
   "metadata": {},
   "outputs": [],
   "source": [
    "#Change \"race\" values back to string values from numeric\n",
    "shoot['race'] = shoot['race'].map({0: 'Asian', 1: 'Black', 2: 'Latino', 3: 'Unknown', 4: 'White', 5: 'Unknown'})"
   ]
  },
  {
   "cell_type": "code",
   "execution_count": 54,
   "metadata": {},
   "outputs": [],
   "source": [
    "#Change \"mult_officers\" values back to string values from numeric\n",
    "shoot['mult_officers'] = shoot['mult_officers'].map({0: 'One Officer', 1: 'Multiple Officers'})"
   ]
  },
  {
   "cell_type": "code",
   "execution_count": 55,
   "metadata": {},
   "outputs": [
    {
     "data": {
      "text/html": [
       "<div>\n",
       "<style scoped>\n",
       "    .dataframe tbody tr th:only-of-type {\n",
       "        vertical-align: middle;\n",
       "    }\n",
       "\n",
       "    .dataframe tbody tr th {\n",
       "        vertical-align: top;\n",
       "    }\n",
       "\n",
       "    .dataframe thead th {\n",
       "        text-align: right;\n",
       "    }\n",
       "</style>\n",
       "<table border=\"1\" class=\"dataframe\">\n",
       "  <thead>\n",
       "    <tr style=\"text-align: right;\">\n",
       "      <th>fatality</th>\n",
       "      <th>Fatal</th>\n",
       "      <th>Not Fatal</th>\n",
       "      <th>Unknown</th>\n",
       "    </tr>\n",
       "    <tr>\n",
       "      <th>Kmeans Cluster</th>\n",
       "      <th></th>\n",
       "      <th></th>\n",
       "      <th></th>\n",
       "    </tr>\n",
       "  </thead>\n",
       "  <tbody>\n",
       "    <tr>\n",
       "      <th>0</th>\n",
       "      <td>61</td>\n",
       "      <td>0</td>\n",
       "      <td>0</td>\n",
       "    </tr>\n",
       "    <tr>\n",
       "      <th>1</th>\n",
       "      <td>0</td>\n",
       "      <td>116</td>\n",
       "      <td>2</td>\n",
       "    </tr>\n",
       "    <tr>\n",
       "      <th>2</th>\n",
       "      <td>0</td>\n",
       "      <td>54</td>\n",
       "      <td>0</td>\n",
       "    </tr>\n",
       "    <tr>\n",
       "      <th>3</th>\n",
       "      <td>0</td>\n",
       "      <td>120</td>\n",
       "      <td>8</td>\n",
       "    </tr>\n",
       "    <tr>\n",
       "      <th>4</th>\n",
       "      <td>0</td>\n",
       "      <td>71</td>\n",
       "      <td>2</td>\n",
       "    </tr>\n",
       "    <tr>\n",
       "      <th>5</th>\n",
       "      <td>31</td>\n",
       "      <td>16</td>\n",
       "      <td>0</td>\n",
       "    </tr>\n",
       "    <tr>\n",
       "      <th>6</th>\n",
       "      <td>16</td>\n",
       "      <td>43</td>\n",
       "      <td>0</td>\n",
       "    </tr>\n",
       "    <tr>\n",
       "      <th>7</th>\n",
       "      <td>56</td>\n",
       "      <td>0</td>\n",
       "      <td>0</td>\n",
       "    </tr>\n",
       "    <tr>\n",
       "      <th>8</th>\n",
       "      <td>44</td>\n",
       "      <td>0</td>\n",
       "      <td>0</td>\n",
       "    </tr>\n",
       "  </tbody>\n",
       "</table>\n",
       "</div>"
      ],
      "text/plain": [
       "fatality        Fatal  Not Fatal  Unknown\n",
       "Kmeans Cluster                           \n",
       "0                  61          0        0\n",
       "1                   0        116        2\n",
       "2                   0         54        0\n",
       "3                   0        120        8\n",
       "4                   0         71        2\n",
       "5                  31         16        0\n",
       "6                  16         43        0\n",
       "7                  56          0        0\n",
       "8                  44          0        0"
      ]
     },
     "execution_count": 55,
     "metadata": {},
     "output_type": "execute_result"
    }
   ],
   "source": [
    "fataldf = shoot.groupby('Kmeans Cluster')['fatality'].value_counts()\n",
    "fataldf = fataldf.unstack().fillna(0).astype(int)\n",
    "fataldf"
   ]
  },
  {
   "cell_type": "code",
   "execution_count": 56,
   "metadata": {},
   "outputs": [
    {
     "data": {
      "text/html": [
       "\n",
       "<div class=\"bk-root\">\n",
       "    <div class=\"bk-plotdiv\" id=\"0fe170c7-b892-470e-8536-4c058e501d7a\"></div>\n",
       "</div>"
      ]
     },
     "metadata": {},
     "output_type": "display_data"
    },
    {
     "data": {
      "application/javascript": [
       "(function(root) {\n",
       "  function embed_document(root) {\n",
       "    \n",
       "  var docs_json = {\"6a09aab7-22cb-482c-b4e2-c1327dbf5c21\":{\"roots\":{\"references\":[{\"attributes\":{\"callback\":null,\"column_names\":[\"Cluster\",\"Fatal\",\"Not Fatal\",\"Unknown\"],\"data\":{\"Cluster\":[\"0\",\"1\",\"2\",\"3\",\"4\",\"5\",\"6\",\"7\",\"8\"],\"Fatal\":{\"__ndarray__\":\"PQAAAAAAAAAAAAAAAAAAAAAAAAAfAAAAEAAAADgAAAAsAAAA\",\"dtype\":\"int32\",\"shape\":[9]},\"Not Fatal\":{\"__ndarray__\":\"AAAAAHQAAAA2AAAAeAAAAEcAAAAQAAAAKwAAAAAAAAAAAAAA\",\"dtype\":\"int32\",\"shape\":[9]},\"Unknown\":{\"__ndarray__\":\"AAAAAAIAAAAAAAAACAAAAAIAAAAAAAAAAAAAAAAAAAAAAAAA\",\"dtype\":\"int32\",\"shape\":[9]}}},\"id\":\"7c365ed7-2441-47b1-a6f5-3f4d75334d46\",\"type\":\"ColumnDataSource\"},{\"attributes\":{\"fields\":[]},\"id\":\"ba473d75-09c9-4aa0-bec1-f7240fa92b7f\",\"type\":\"Stack\"},{\"attributes\":{\"active_drag\":\"auto\",\"active_inspect\":\"auto\",\"active_scroll\":\"auto\",\"active_tap\":\"auto\"},\"id\":\"ce5214f1-e6e7-4da6-a799-0e932006e0b8\",\"type\":\"Toolbar\"},{\"attributes\":{\"callback\":null,\"end\":150,\"start\":0},\"id\":\"20b70f91-181b-4387-826e-57327523294d\",\"type\":\"DataRange1d\"},{\"attributes\":{\"source\":{\"id\":\"7c365ed7-2441-47b1-a6f5-3f4d75334d46\",\"type\":\"ColumnDataSource\"}},\"id\":\"7501ea04-6529-4d4b-9c67-1eef6e41b2f1\",\"type\":\"CDSView\"},{\"attributes\":{\"plot\":null,\"text\":\"Fatality by Cluster\"},\"id\":\"94180281-5f09-4640-8967-9cc38234d601\",\"type\":\"Title\"},{\"attributes\":{\"below\":[{\"id\":\"f1695789-82a8-4ec4-b61e-ddf30197c780\",\"type\":\"LinearAxis\"}],\"left\":[{\"id\":\"f6eff443-6ec6-4664-9f76-d16815149095\",\"type\":\"CategoricalAxis\"}],\"outline_line_color\":{\"value\":null},\"plot_height\":500,\"plot_width\":900,\"renderers\":[{\"id\":\"f1695789-82a8-4ec4-b61e-ddf30197c780\",\"type\":\"LinearAxis\"},{\"id\":\"c0754b84-0986-4365-88c2-cacd5f6d23a0\",\"type\":\"Grid\"},{\"id\":\"f6eff443-6ec6-4664-9f76-d16815149095\",\"type\":\"CategoricalAxis\"},{\"id\":\"3dedb416-90cb-41a1-8a54-28d9d69297cd\",\"type\":\"Grid\"},{\"id\":\"f65369d2-9e21-46ec-8813-324cec6a1d8a\",\"type\":\"Legend\"},{\"id\":\"218be49d-9d26-4f73-a0db-3fe0eab4ed3d\",\"type\":\"GlyphRenderer\"},{\"id\":\"c3556899-b0ed-45d1-aa48-3b15c92f8234\",\"type\":\"GlyphRenderer\"},{\"id\":\"ca6a89b2-89db-4fa3-8a47-84b4a2e9a723\",\"type\":\"GlyphRenderer\"}],\"title\":{\"id\":\"94180281-5f09-4640-8967-9cc38234d601\",\"type\":\"Title\"},\"toolbar\":{\"id\":\"ce5214f1-e6e7-4da6-a799-0e932006e0b8\",\"type\":\"Toolbar\"},\"toolbar_location\":null,\"x_range\":{\"id\":\"20b70f91-181b-4387-826e-57327523294d\",\"type\":\"DataRange1d\"},\"x_scale\":{\"id\":\"1ccfb69b-f732-4040-b217-ef5445133047\",\"type\":\"LinearScale\"},\"y_range\":{\"id\":\"20cffadf-eeea-4f6f-8837-4875e7faf368\",\"type\":\"FactorRange\"},\"y_scale\":{\"id\":\"3b223d09-52a0-45f8-bea1-400741b18248\",\"type\":\"CategoricalScale\"}},\"id\":\"669cc78e-31ca-4ea6-8f37-d50e7f0e5c62\",\"subtype\":\"Figure\",\"type\":\"Plot\"},{\"attributes\":{\"axis_label\":\"Clusters\",\"formatter\":{\"id\":\"375d10a6-f154-4983-b161-62c1c97c1281\",\"type\":\"CategoricalTickFormatter\"},\"minor_tick_line_color\":{\"value\":null},\"plot\":{\"id\":\"669cc78e-31ca-4ea6-8f37-d50e7f0e5c62\",\"subtype\":\"Figure\",\"type\":\"Plot\"},\"ticker\":{\"id\":\"9458d47a-b4c0-491c-aa59-37db44eab326\",\"type\":\"CategoricalTicker\"}},\"id\":\"f6eff443-6ec6-4664-9f76-d16815149095\",\"type\":\"CategoricalAxis\"},{\"attributes\":{},\"id\":\"c7623d33-5067-4e94-830e-3ababaf113d8\",\"type\":\"BasicTicker\"},{\"attributes\":{\"axis_label\":\"Number of Instances\",\"formatter\":{\"id\":\"40d516da-5c60-4447-a57c-dbe9ef1c52d3\",\"type\":\"BasicTickFormatter\"},\"minor_tick_line_color\":{\"value\":null},\"plot\":{\"id\":\"669cc78e-31ca-4ea6-8f37-d50e7f0e5c62\",\"subtype\":\"Figure\",\"type\":\"Plot\"},\"ticker\":{\"id\":\"c7623d33-5067-4e94-830e-3ababaf113d8\",\"type\":\"BasicTicker\"}},\"id\":\"f1695789-82a8-4ec4-b61e-ddf30197c780\",\"type\":\"LinearAxis\"},{\"attributes\":{},\"id\":\"375d10a6-f154-4983-b161-62c1c97c1281\",\"type\":\"CategoricalTickFormatter\"},{\"attributes\":{\"grid_line_color\":{\"value\":null},\"plot\":{\"id\":\"669cc78e-31ca-4ea6-8f37-d50e7f0e5c62\",\"subtype\":\"Figure\",\"type\":\"Plot\"},\"ticker\":{\"id\":\"c7623d33-5067-4e94-830e-3ababaf113d8\",\"type\":\"BasicTicker\"}},\"id\":\"c0754b84-0986-4365-88c2-cacd5f6d23a0\",\"type\":\"Grid\"},{\"attributes\":{},\"id\":\"3b223d09-52a0-45f8-bea1-400741b18248\",\"type\":\"CategoricalScale\"},{\"attributes\":{\"callback\":null,\"factors\":[\"0\",\"1\",\"2\",\"3\",\"4\",\"5\",\"6\",\"7\",\"8\"],\"range_padding\":0.1},\"id\":\"20cffadf-eeea-4f6f-8837-4875e7faf368\",\"type\":\"FactorRange\"},{\"attributes\":{\"data_source\":{\"id\":\"7c365ed7-2441-47b1-a6f5-3f4d75334d46\",\"type\":\"ColumnDataSource\"},\"glyph\":{\"id\":\"0b47b2b3-e482-4789-a083-bd7018f20b23\",\"type\":\"HBar\"},\"hover_glyph\":null,\"muted_glyph\":null,\"nonselection_glyph\":{\"id\":\"c765fdb9-560a-4e61-b668-c5a8ad8306d0\",\"type\":\"HBar\"},\"selection_glyph\":null,\"view\":{\"id\":\"73342788-99ff-410a-bbff-be2a5bf76de0\",\"type\":\"CDSView\"}},\"id\":\"218be49d-9d26-4f73-a0db-3fe0eab4ed3d\",\"type\":\"GlyphRenderer\"},{\"attributes\":{\"dimension\":1,\"plot\":{\"id\":\"669cc78e-31ca-4ea6-8f37-d50e7f0e5c62\",\"subtype\":\"Figure\",\"type\":\"Plot\"},\"ticker\":{\"id\":\"9458d47a-b4c0-491c-aa59-37db44eab326\",\"type\":\"CategoricalTicker\"}},\"id\":\"3dedb416-90cb-41a1-8a54-28d9d69297cd\",\"type\":\"Grid\"},{\"attributes\":{},\"id\":\"9458d47a-b4c0-491c-aa59-37db44eab326\",\"type\":\"CategoricalTicker\"},{\"attributes\":{\"fill_color\":{\"value\":\"#3399ff\"},\"height\":{\"value\":0.9},\"left\":{\"expr\":{\"id\":\"da0f9436-548c-4fdb-8c73-df7ff9f26400\",\"type\":\"Stack\"}},\"line_color\":{\"value\":\"#3399ff\"},\"right\":{\"expr\":{\"id\":\"9290a67f-f5ab-412b-ba32-b86383587c56\",\"type\":\"Stack\"}},\"y\":{\"field\":\"Cluster\"}},\"id\":\"1c8e345e-bac3-489a-8cac-f2cf7bb4db20\",\"type\":\"HBar\"},{\"attributes\":{\"fields\":[\"Fatal\",\"Not Fatal\",\"Unknown\"]},\"id\":\"6f3974aa-ab6a-48f0-a17a-7dc03f08f3fc\",\"type\":\"Stack\"},{\"attributes\":{\"fields\":[\"Fatal\",\"Not Fatal\"]},\"id\":\"6f22b5fd-acbe-4c0c-a40e-8c5f66f8fa1c\",\"type\":\"Stack\"},{\"attributes\":{\"fields\":[\"Fatal\",\"Not Fatal\"]},\"id\":\"9290a67f-f5ab-412b-ba32-b86383587c56\",\"type\":\"Stack\"},{\"attributes\":{},\"id\":\"40d516da-5c60-4447-a57c-dbe9ef1c52d3\",\"type\":\"BasicTickFormatter\"},{\"attributes\":{\"fields\":[\"Fatal\"]},\"id\":\"da0f9436-548c-4fdb-8c73-df7ff9f26400\",\"type\":\"Stack\"},{\"attributes\":{\"fields\":[\"Fatal\"]},\"id\":\"718b0468-2d17-48dc-a18e-ac0307b75fe9\",\"type\":\"Stack\"},{\"attributes\":{\"label\":{\"value\":\"Fatal\"},\"renderers\":[{\"id\":\"218be49d-9d26-4f73-a0db-3fe0eab4ed3d\",\"type\":\"GlyphRenderer\"}]},\"id\":\"67de6e13-f992-4110-89a4-4b309a970284\",\"type\":\"LegendItem\"},{\"attributes\":{\"items\":[{\"id\":\"67de6e13-f992-4110-89a4-4b309a970284\",\"type\":\"LegendItem\"},{\"id\":\"095b05b1-c3d7-4597-9348-9522f6925768\",\"type\":\"LegendItem\"},{\"id\":\"c97aa77e-3636-448c-8307-fd37e8ce0ea6\",\"type\":\"LegendItem\"}],\"plot\":{\"id\":\"669cc78e-31ca-4ea6-8f37-d50e7f0e5c62\",\"subtype\":\"Figure\",\"type\":\"Plot\"}},\"id\":\"f65369d2-9e21-46ec-8813-324cec6a1d8a\",\"type\":\"Legend\"},{\"attributes\":{\"fill_alpha\":{\"value\":0.1},\"fill_color\":{\"value\":\"#1f77b4\"},\"height\":{\"value\":0.9},\"left\":{\"expr\":{\"id\":\"da0f9436-548c-4fdb-8c73-df7ff9f26400\",\"type\":\"Stack\"}},\"line_alpha\":{\"value\":0.1},\"line_color\":{\"value\":\"#1f77b4\"},\"right\":{\"expr\":{\"id\":\"9290a67f-f5ab-412b-ba32-b86383587c56\",\"type\":\"Stack\"}},\"y\":{\"field\":\"Cluster\"}},\"id\":\"5e70633b-ea6d-4171-9a88-e31145321446\",\"type\":\"HBar\"},{\"attributes\":{\"fill_color\":{\"value\":\"#00ff7f\"},\"height\":{\"value\":0.9},\"left\":{\"expr\":{\"id\":\"6f22b5fd-acbe-4c0c-a40e-8c5f66f8fa1c\",\"type\":\"Stack\"}},\"line_color\":{\"value\":\"#00ff7f\"},\"right\":{\"expr\":{\"id\":\"6f3974aa-ab6a-48f0-a17a-7dc03f08f3fc\",\"type\":\"Stack\"}},\"y\":{\"field\":\"Cluster\"}},\"id\":\"483ba137-a609-4ac3-9044-88567d36aee2\",\"type\":\"HBar\"},{\"attributes\":{\"fill_color\":{\"value\":\"#ff0000\"},\"height\":{\"value\":0.9},\"left\":{\"expr\":{\"id\":\"ba473d75-09c9-4aa0-bec1-f7240fa92b7f\",\"type\":\"Stack\"}},\"line_color\":{\"value\":\"#ff0000\"},\"right\":{\"expr\":{\"id\":\"718b0468-2d17-48dc-a18e-ac0307b75fe9\",\"type\":\"Stack\"}},\"y\":{\"field\":\"Cluster\"}},\"id\":\"0b47b2b3-e482-4789-a083-bd7018f20b23\",\"type\":\"HBar\"},{\"attributes\":{\"data_source\":{\"id\":\"7c365ed7-2441-47b1-a6f5-3f4d75334d46\",\"type\":\"ColumnDataSource\"},\"glyph\":{\"id\":\"1c8e345e-bac3-489a-8cac-f2cf7bb4db20\",\"type\":\"HBar\"},\"hover_glyph\":null,\"muted_glyph\":null,\"nonselection_glyph\":{\"id\":\"5e70633b-ea6d-4171-9a88-e31145321446\",\"type\":\"HBar\"},\"selection_glyph\":null,\"view\":{\"id\":\"7501ea04-6529-4d4b-9c67-1eef6e41b2f1\",\"type\":\"CDSView\"}},\"id\":\"c3556899-b0ed-45d1-aa48-3b15c92f8234\",\"type\":\"GlyphRenderer\"},{\"attributes\":{\"data_source\":{\"id\":\"7c365ed7-2441-47b1-a6f5-3f4d75334d46\",\"type\":\"ColumnDataSource\"},\"glyph\":{\"id\":\"483ba137-a609-4ac3-9044-88567d36aee2\",\"type\":\"HBar\"},\"hover_glyph\":null,\"muted_glyph\":null,\"nonselection_glyph\":{\"id\":\"17e60b62-d1a6-498a-a047-cf25aa27c5b0\",\"type\":\"HBar\"},\"selection_glyph\":null,\"view\":{\"id\":\"c22d55d3-7c19-4b32-b818-59d6862b38da\",\"type\":\"CDSView\"}},\"id\":\"ca6a89b2-89db-4fa3-8a47-84b4a2e9a723\",\"type\":\"GlyphRenderer\"},{\"attributes\":{},\"id\":\"1ccfb69b-f732-4040-b217-ef5445133047\",\"type\":\"LinearScale\"},{\"attributes\":{\"fill_alpha\":{\"value\":0.1},\"fill_color\":{\"value\":\"#1f77b4\"},\"height\":{\"value\":0.9},\"left\":{\"expr\":{\"id\":\"6f22b5fd-acbe-4c0c-a40e-8c5f66f8fa1c\",\"type\":\"Stack\"}},\"line_alpha\":{\"value\":0.1},\"line_color\":{\"value\":\"#1f77b4\"},\"right\":{\"expr\":{\"id\":\"6f3974aa-ab6a-48f0-a17a-7dc03f08f3fc\",\"type\":\"Stack\"}},\"y\":{\"field\":\"Cluster\"}},\"id\":\"17e60b62-d1a6-498a-a047-cf25aa27c5b0\",\"type\":\"HBar\"},{\"attributes\":{\"label\":{\"value\":\"Not Fatal\"},\"renderers\":[{\"id\":\"c3556899-b0ed-45d1-aa48-3b15c92f8234\",\"type\":\"GlyphRenderer\"}]},\"id\":\"095b05b1-c3d7-4597-9348-9522f6925768\",\"type\":\"LegendItem\"},{\"attributes\":{\"source\":{\"id\":\"7c365ed7-2441-47b1-a6f5-3f4d75334d46\",\"type\":\"ColumnDataSource\"}},\"id\":\"c22d55d3-7c19-4b32-b818-59d6862b38da\",\"type\":\"CDSView\"},{\"attributes\":{\"source\":{\"id\":\"7c365ed7-2441-47b1-a6f5-3f4d75334d46\",\"type\":\"ColumnDataSource\"}},\"id\":\"73342788-99ff-410a-bbff-be2a5bf76de0\",\"type\":\"CDSView\"},{\"attributes\":{\"fill_alpha\":{\"value\":0.1},\"fill_color\":{\"value\":\"#1f77b4\"},\"height\":{\"value\":0.9},\"left\":{\"expr\":{\"id\":\"ba473d75-09c9-4aa0-bec1-f7240fa92b7f\",\"type\":\"Stack\"}},\"line_alpha\":{\"value\":0.1},\"line_color\":{\"value\":\"#1f77b4\"},\"right\":{\"expr\":{\"id\":\"718b0468-2d17-48dc-a18e-ac0307b75fe9\",\"type\":\"Stack\"}},\"y\":{\"field\":\"Cluster\"}},\"id\":\"c765fdb9-560a-4e61-b668-c5a8ad8306d0\",\"type\":\"HBar\"},{\"attributes\":{\"label\":{\"value\":\"Unknown\"},\"renderers\":[{\"id\":\"ca6a89b2-89db-4fa3-8a47-84b4a2e9a723\",\"type\":\"GlyphRenderer\"}]},\"id\":\"c97aa77e-3636-448c-8307-fd37e8ce0ea6\",\"type\":\"LegendItem\"}],\"root_ids\":[\"669cc78e-31ca-4ea6-8f37-d50e7f0e5c62\"]},\"title\":\"Bokeh Application\",\"version\":\"0.12.13\"}};\n",
       "  var render_items = [{\"docid\":\"6a09aab7-22cb-482c-b4e2-c1327dbf5c21\",\"elementid\":\"0fe170c7-b892-470e-8536-4c058e501d7a\",\"modelid\":\"669cc78e-31ca-4ea6-8f37-d50e7f0e5c62\"}];\n",
       "  root.Bokeh.embed.embed_items_notebook(docs_json, render_items);\n",
       "\n",
       "  }\n",
       "  if (root.Bokeh !== undefined) {\n",
       "    embed_document(root);\n",
       "  } else {\n",
       "    var attempts = 0;\n",
       "    var timer = setInterval(function(root) {\n",
       "      if (root.Bokeh !== undefined) {\n",
       "        embed_document(root);\n",
       "        clearInterval(timer);\n",
       "      }\n",
       "      attempts++;\n",
       "      if (attempts > 100) {\n",
       "        console.log(\"Bokeh: ERROR: Unable to run BokehJS code because BokehJS library is missing\")\n",
       "        clearInterval(timer);\n",
       "      }\n",
       "    }, 10, root)\n",
       "  }\n",
       "})(window);"
      ],
      "application/vnd.bokehjs_exec.v0+json": ""
     },
     "metadata": {
      "application/vnd.bokehjs_exec.v0+json": {
       "id": "669cc78e-31ca-4ea6-8f37-d50e7f0e5c62"
      }
     },
     "output_type": "display_data"
    }
   ],
   "source": [
    "#stacked horizontal bar graph showing \"Fatality\" in each Cluster\n",
    "\n",
    "data= {'Cluster': list(fataldf.index), 'Fatal' : fataldf['Fatal'].values, \n",
    "       'Not Fatal': fataldf['Not Fatal'].values,  'Unknown':fataldf['Unknown'].values}\n",
    "\n",
    "source = ColumnDataSource(data=data)\n",
    "color = ['#ff0000', '#3399ff', '#00ff7f']\n",
    "\n",
    "\n",
    "g = figure(y_range= data['Cluster'], plot_height=500,plot_width=900, title=\"Fatality by Cluster\",x_axis_label='Number of Instances', y_axis_label= 'Clusters', toolbar_location=None, tools=\"\")\n",
    "\n",
    "\n",
    "g.hbar_stack(fataldf.columns, y= 'Cluster', height=0.9, color=color, source=source,\n",
    "             legend=[value(x) for x in fataldf.columns])\n",
    "\n",
    "g.x_range.start = 0\n",
    "g.x_range.end = 150\n",
    "g.y_range.range_padding = 0.1\n",
    "g.xgrid.grid_line_color = None\n",
    "g.axis.minor_tick_line_color = None\n",
    "g.outline_line_color = None\n",
    "g.legend.location = \"top_right\"\n",
    "g.legend.orientation = \"vertical\"\n",
    "\n",
    "show(g)"
   ]
  },
  {
   "cell_type": "code",
   "execution_count": null,
   "metadata": {},
   "outputs": [],
   "source": []
  },
  {
   "cell_type": "code",
   "execution_count": 57,
   "metadata": {},
   "outputs": [
    {
     "data": {
      "text/html": [
       "<div>\n",
       "<style scoped>\n",
       "    .dataframe tbody tr th:only-of-type {\n",
       "        vertical-align: middle;\n",
       "    }\n",
       "\n",
       "    .dataframe tbody tr th {\n",
       "        vertical-align: top;\n",
       "    }\n",
       "\n",
       "    .dataframe thead th {\n",
       "        text-align: right;\n",
       "    }\n",
       "</style>\n",
       "<table border=\"1\" class=\"dataframe\">\n",
       "  <thead>\n",
       "    <tr style=\"text-align: right;\">\n",
       "      <th>armed</th>\n",
       "      <th>Armed</th>\n",
       "      <th>Not Armed</th>\n",
       "      <th>Unknown</th>\n",
       "    </tr>\n",
       "    <tr>\n",
       "      <th>Kmeans Cluster</th>\n",
       "      <th></th>\n",
       "      <th></th>\n",
       "      <th></th>\n",
       "    </tr>\n",
       "  </thead>\n",
       "  <tbody>\n",
       "    <tr>\n",
       "      <th>0</th>\n",
       "      <td>60</td>\n",
       "      <td>0</td>\n",
       "      <td>1</td>\n",
       "    </tr>\n",
       "    <tr>\n",
       "      <th>1</th>\n",
       "      <td>0</td>\n",
       "      <td>118</td>\n",
       "      <td>0</td>\n",
       "    </tr>\n",
       "    <tr>\n",
       "      <th>2</th>\n",
       "      <td>54</td>\n",
       "      <td>0</td>\n",
       "      <td>0</td>\n",
       "    </tr>\n",
       "    <tr>\n",
       "      <th>3</th>\n",
       "      <td>120</td>\n",
       "      <td>0</td>\n",
       "      <td>8</td>\n",
       "    </tr>\n",
       "    <tr>\n",
       "      <th>4</th>\n",
       "      <td>16</td>\n",
       "      <td>55</td>\n",
       "      <td>2</td>\n",
       "    </tr>\n",
       "    <tr>\n",
       "      <th>5</th>\n",
       "      <td>29</td>\n",
       "      <td>17</td>\n",
       "      <td>1</td>\n",
       "    </tr>\n",
       "    <tr>\n",
       "      <th>6</th>\n",
       "      <td>0</td>\n",
       "      <td>59</td>\n",
       "      <td>0</td>\n",
       "    </tr>\n",
       "    <tr>\n",
       "      <th>7</th>\n",
       "      <td>0</td>\n",
       "      <td>55</td>\n",
       "      <td>1</td>\n",
       "    </tr>\n",
       "    <tr>\n",
       "      <th>8</th>\n",
       "      <td>44</td>\n",
       "      <td>0</td>\n",
       "      <td>0</td>\n",
       "    </tr>\n",
       "  </tbody>\n",
       "</table>\n",
       "</div>"
      ],
      "text/plain": [
       "armed           Armed  Not Armed  Unknown\n",
       "Kmeans Cluster                           \n",
       "0                  60          0        1\n",
       "1                   0        118        0\n",
       "2                  54          0        0\n",
       "3                 120          0        8\n",
       "4                  16         55        2\n",
       "5                  29         17        1\n",
       "6                   0         59        0\n",
       "7                   0         55        1\n",
       "8                  44          0        0"
      ]
     },
     "execution_count": 57,
     "metadata": {},
     "output_type": "execute_result"
    }
   ],
   "source": [
    "armeddf = shoot.groupby('Kmeans Cluster')['armed'].value_counts()\n",
    "armeddf = armeddf.unstack().fillna(0).astype(int)\n",
    "armeddf"
   ]
  },
  {
   "cell_type": "code",
   "execution_count": 58,
   "metadata": {},
   "outputs": [
    {
     "data": {
      "text/html": [
       "\n",
       "<div class=\"bk-root\">\n",
       "    <div class=\"bk-plotdiv\" id=\"822ef5bf-6af8-490a-855a-e2d1860e309d\"></div>\n",
       "</div>"
      ]
     },
     "metadata": {},
     "output_type": "display_data"
    },
    {
     "data": {
      "application/javascript": [
       "(function(root) {\n",
       "  function embed_document(root) {\n",
       "    \n",
       "  var docs_json = {\"95b177c1-563c-4518-b027-a4ecab74a831\":{\"roots\":{\"references\":[{\"attributes\":{},\"id\":\"6098381e-f13b-4c12-a12d-231d4973ee0c\",\"type\":\"CategoricalTickFormatter\"},{\"attributes\":{\"items\":[{\"id\":\"19e3c463-0ba0-4a0d-a833-107e6e33f5e6\",\"type\":\"LegendItem\"},{\"id\":\"0750566e-07c4-400a-80c3-f413fa93df55\",\"type\":\"LegendItem\"},{\"id\":\"24a0e6e6-27b6-443c-bd0b-f5cc6c6b1486\",\"type\":\"LegendItem\"}],\"plot\":{\"id\":\"2264307e-5775-43a1-81cd-ed34af4fd522\",\"subtype\":\"Figure\",\"type\":\"Plot\"}},\"id\":\"afb3dcb4-8bea-4b43-80a7-e6bcbf9bc77a\",\"type\":\"Legend\"},{\"attributes\":{\"fill_alpha\":{\"value\":0.1},\"fill_color\":{\"value\":\"#1f77b4\"},\"height\":{\"value\":0.9},\"left\":{\"expr\":{\"id\":\"8bd3f79e-d557-453f-9ffb-a1f2efb7933b\",\"type\":\"Stack\"}},\"line_alpha\":{\"value\":0.1},\"line_color\":{\"value\":\"#1f77b4\"},\"right\":{\"expr\":{\"id\":\"7ec33569-188a-434e-bcf3-2669bb7136a1\",\"type\":\"Stack\"}},\"y\":{\"field\":\"Cluster\"}},\"id\":\"e89231ac-3304-4a13-82c2-856aa8b955fc\",\"type\":\"HBar\"},{\"attributes\":{\"source\":{\"id\":\"f11ecb4c-b64b-4e95-b75f-a718ffee0e00\",\"type\":\"ColumnDataSource\"}},\"id\":\"8efcecaa-1b2b-4501-ad9e-b3eef8a2a2e6\",\"type\":\"CDSView\"},{\"attributes\":{\"fill_color\":{\"value\":\"#3399ff\"},\"height\":{\"value\":0.9},\"left\":{\"expr\":{\"id\":\"8bd3f79e-d557-453f-9ffb-a1f2efb7933b\",\"type\":\"Stack\"}},\"line_color\":{\"value\":\"#3399ff\"},\"right\":{\"expr\":{\"id\":\"7ec33569-188a-434e-bcf3-2669bb7136a1\",\"type\":\"Stack\"}},\"y\":{\"field\":\"Cluster\"}},\"id\":\"a7bd3f97-86fb-4058-8608-f59785e197b6\",\"type\":\"HBar\"},{\"attributes\":{\"fill_color\":{\"value\":\"#00ff7f\"},\"height\":{\"value\":0.9},\"left\":{\"expr\":{\"id\":\"9fc4722f-fffa-48d0-a0fe-04f3cd707a85\",\"type\":\"Stack\"}},\"line_color\":{\"value\":\"#00ff7f\"},\"right\":{\"expr\":{\"id\":\"660ad209-cf6a-4e03-a01a-0a746e99725b\",\"type\":\"Stack\"}},\"y\":{\"field\":\"Cluster\"}},\"id\":\"540ccf7d-9d81-40d7-9a38-315d4144e729\",\"type\":\"HBar\"},{\"attributes\":{\"callback\":null,\"factors\":[\"0\",\"1\",\"2\",\"3\",\"4\",\"5\",\"6\",\"7\",\"8\"],\"range_padding\":0.1},\"id\":\"70b9c80d-540f-46df-bd41-56b65cd14c1d\",\"type\":\"FactorRange\"},{\"attributes\":{\"label\":{\"value\":\"Armed\"},\"renderers\":[{\"id\":\"8349f013-e464-4553-a268-72746447fc4b\",\"type\":\"GlyphRenderer\"}]},\"id\":\"19e3c463-0ba0-4a0d-a833-107e6e33f5e6\",\"type\":\"LegendItem\"},{\"attributes\":{\"active_drag\":\"auto\",\"active_inspect\":\"auto\",\"active_scroll\":\"auto\",\"active_tap\":\"auto\"},\"id\":\"4b2d6cf0-293d-4c72-9557-10bb847b61f3\",\"type\":\"Toolbar\"},{\"attributes\":{\"below\":[{\"id\":\"03c97710-ca07-4e7f-be10-5de4b3a14d6b\",\"type\":\"LinearAxis\"}],\"left\":[{\"id\":\"c4d78ea9-c1cb-4fcf-8639-3f113313c498\",\"type\":\"CategoricalAxis\"}],\"outline_line_color\":{\"value\":null},\"plot_height\":500,\"plot_width\":900,\"renderers\":[{\"id\":\"03c97710-ca07-4e7f-be10-5de4b3a14d6b\",\"type\":\"LinearAxis\"},{\"id\":\"a26ad6e8-753f-4deb-a413-2d979d9e6cfd\",\"type\":\"Grid\"},{\"id\":\"c4d78ea9-c1cb-4fcf-8639-3f113313c498\",\"type\":\"CategoricalAxis\"},{\"id\":\"0f5d873c-da5f-4ed6-975e-719a700c6be5\",\"type\":\"Grid\"},{\"id\":\"afb3dcb4-8bea-4b43-80a7-e6bcbf9bc77a\",\"type\":\"Legend\"},{\"id\":\"8349f013-e464-4553-a268-72746447fc4b\",\"type\":\"GlyphRenderer\"},{\"id\":\"e2b38e40-2e12-4322-a6a4-fce3b559a905\",\"type\":\"GlyphRenderer\"},{\"id\":\"e3cfbdfa-2ef7-4ce2-a1e9-bb7292456c15\",\"type\":\"GlyphRenderer\"}],\"title\":{\"id\":\"e749a91e-ded5-4d19-8a4a-0e6ed34d8f29\",\"type\":\"Title\"},\"toolbar\":{\"id\":\"4b2d6cf0-293d-4c72-9557-10bb847b61f3\",\"type\":\"Toolbar\"},\"toolbar_location\":null,\"x_range\":{\"id\":\"ab5224b0-82c7-4182-a366-c071c8a54519\",\"type\":\"DataRange1d\"},\"x_scale\":{\"id\":\"96dfa272-504c-454c-95d6-dfcfb2331b7f\",\"type\":\"LinearScale\"},\"y_range\":{\"id\":\"70b9c80d-540f-46df-bd41-56b65cd14c1d\",\"type\":\"FactorRange\"},\"y_scale\":{\"id\":\"248343a8-8cf7-41a9-8d91-923f5b571479\",\"type\":\"CategoricalScale\"}},\"id\":\"2264307e-5775-43a1-81cd-ed34af4fd522\",\"subtype\":\"Figure\",\"type\":\"Plot\"},{\"attributes\":{\"label\":{\"value\":\"Not Armed\"},\"renderers\":[{\"id\":\"e2b38e40-2e12-4322-a6a4-fce3b559a905\",\"type\":\"GlyphRenderer\"}]},\"id\":\"0750566e-07c4-400a-80c3-f413fa93df55\",\"type\":\"LegendItem\"},{\"attributes\":{\"fields\":[]},\"id\":\"77a1e9b6-2016-4c2e-921d-135cfc52bc46\",\"type\":\"Stack\"},{\"attributes\":{\"plot\":null,\"text\":\"Subject Armed per Cluster\"},\"id\":\"e749a91e-ded5-4d19-8a4a-0e6ed34d8f29\",\"type\":\"Title\"},{\"attributes\":{\"data_source\":{\"id\":\"f11ecb4c-b64b-4e95-b75f-a718ffee0e00\",\"type\":\"ColumnDataSource\"},\"glyph\":{\"id\":\"a7bd3f97-86fb-4058-8608-f59785e197b6\",\"type\":\"HBar\"},\"hover_glyph\":null,\"muted_glyph\":null,\"nonselection_glyph\":{\"id\":\"e89231ac-3304-4a13-82c2-856aa8b955fc\",\"type\":\"HBar\"},\"selection_glyph\":null,\"view\":{\"id\":\"a00deb00-9b6b-4b93-91ac-ae99978a4d09\",\"type\":\"CDSView\"}},\"id\":\"e2b38e40-2e12-4322-a6a4-fce3b559a905\",\"type\":\"GlyphRenderer\"},{\"attributes\":{\"callback\":null,\"end\":150,\"start\":0},\"id\":\"ab5224b0-82c7-4182-a366-c071c8a54519\",\"type\":\"DataRange1d\"},{\"attributes\":{\"source\":{\"id\":\"f11ecb4c-b64b-4e95-b75f-a718ffee0e00\",\"type\":\"ColumnDataSource\"}},\"id\":\"a00deb00-9b6b-4b93-91ac-ae99978a4d09\",\"type\":\"CDSView\"},{\"attributes\":{},\"id\":\"96dfa272-504c-454c-95d6-dfcfb2331b7f\",\"type\":\"LinearScale\"},{\"attributes\":{\"fill_alpha\":{\"value\":0.1},\"fill_color\":{\"value\":\"#1f77b4\"},\"height\":{\"value\":0.9},\"left\":{\"expr\":{\"id\":\"9fc4722f-fffa-48d0-a0fe-04f3cd707a85\",\"type\":\"Stack\"}},\"line_alpha\":{\"value\":0.1},\"line_color\":{\"value\":\"#1f77b4\"},\"right\":{\"expr\":{\"id\":\"660ad209-cf6a-4e03-a01a-0a746e99725b\",\"type\":\"Stack\"}},\"y\":{\"field\":\"Cluster\"}},\"id\":\"39585bb9-3ebf-4f4c-86e4-7805438774e7\",\"type\":\"HBar\"},{\"attributes\":{},\"id\":\"248343a8-8cf7-41a9-8d91-923f5b571479\",\"type\":\"CategoricalScale\"},{\"attributes\":{\"grid_line_color\":{\"value\":null},\"plot\":{\"id\":\"2264307e-5775-43a1-81cd-ed34af4fd522\",\"subtype\":\"Figure\",\"type\":\"Plot\"},\"ticker\":{\"id\":\"86555fbc-44e0-46a9-8bdd-f56bad712544\",\"type\":\"BasicTicker\"}},\"id\":\"a26ad6e8-753f-4deb-a413-2d979d9e6cfd\",\"type\":\"Grid\"},{\"attributes\":{\"label\":{\"value\":\"Unknown\"},\"renderers\":[{\"id\":\"e3cfbdfa-2ef7-4ce2-a1e9-bb7292456c15\",\"type\":\"GlyphRenderer\"}]},\"id\":\"24a0e6e6-27b6-443c-bd0b-f5cc6c6b1486\",\"type\":\"LegendItem\"},{\"attributes\":{\"callback\":null,\"column_names\":[\"Cluster\",\"Armed\",\"Not Armed\",\"Unknown\"],\"data\":{\"Armed\":{\"__ndarray__\":\"PAAAAAAAAAA2AAAAeAAAABAAAAAdAAAAAAAAAAAAAAAsAAAA\",\"dtype\":\"int32\",\"shape\":[9]},\"Cluster\":[\"0\",\"1\",\"2\",\"3\",\"4\",\"5\",\"6\",\"7\",\"8\"],\"Not Armed\":{\"__ndarray__\":\"AAAAAHYAAAAAAAAAAAAAADcAAAARAAAAOwAAADcAAAAAAAAA\",\"dtype\":\"int32\",\"shape\":[9]},\"Unknown\":{\"__ndarray__\":\"AQAAAAAAAAAAAAAACAAAAAIAAAABAAAAAAAAAAEAAAAAAAAA\",\"dtype\":\"int32\",\"shape\":[9]}}},\"id\":\"f11ecb4c-b64b-4e95-b75f-a718ffee0e00\",\"type\":\"ColumnDataSource\"},{\"attributes\":{},\"id\":\"86555fbc-44e0-46a9-8bdd-f56bad712544\",\"type\":\"BasicTicker\"},{\"attributes\":{\"axis_label\":\"Clusters\",\"formatter\":{\"id\":\"6098381e-f13b-4c12-a12d-231d4973ee0c\",\"type\":\"CategoricalTickFormatter\"},\"minor_tick_line_color\":{\"value\":null},\"plot\":{\"id\":\"2264307e-5775-43a1-81cd-ed34af4fd522\",\"subtype\":\"Figure\",\"type\":\"Plot\"},\"ticker\":{\"id\":\"fc59b1fb-92b3-4008-8ae7-078bf4f65ab9\",\"type\":\"CategoricalTicker\"}},\"id\":\"c4d78ea9-c1cb-4fcf-8639-3f113313c498\",\"type\":\"CategoricalAxis\"},{\"attributes\":{\"data_source\":{\"id\":\"f11ecb4c-b64b-4e95-b75f-a718ffee0e00\",\"type\":\"ColumnDataSource\"},\"glyph\":{\"id\":\"540ccf7d-9d81-40d7-9a38-315d4144e729\",\"type\":\"HBar\"},\"hover_glyph\":null,\"muted_glyph\":null,\"nonselection_glyph\":{\"id\":\"39585bb9-3ebf-4f4c-86e4-7805438774e7\",\"type\":\"HBar\"},\"selection_glyph\":null,\"view\":{\"id\":\"4bd7cae1-bbc6-4284-857f-50290360c995\",\"type\":\"CDSView\"}},\"id\":\"e3cfbdfa-2ef7-4ce2-a1e9-bb7292456c15\",\"type\":\"GlyphRenderer\"},{\"attributes\":{\"axis_label\":\"Number of Instances\",\"formatter\":{\"id\":\"0dfe09e4-7ad0-4834-833b-40790d25aa8d\",\"type\":\"BasicTickFormatter\"},\"minor_tick_line_color\":{\"value\":null},\"plot\":{\"id\":\"2264307e-5775-43a1-81cd-ed34af4fd522\",\"subtype\":\"Figure\",\"type\":\"Plot\"},\"ticker\":{\"id\":\"86555fbc-44e0-46a9-8bdd-f56bad712544\",\"type\":\"BasicTicker\"}},\"id\":\"03c97710-ca07-4e7f-be10-5de4b3a14d6b\",\"type\":\"LinearAxis\"},{\"attributes\":{\"source\":{\"id\":\"f11ecb4c-b64b-4e95-b75f-a718ffee0e00\",\"type\":\"ColumnDataSource\"}},\"id\":\"4bd7cae1-bbc6-4284-857f-50290360c995\",\"type\":\"CDSView\"},{\"attributes\":{},\"id\":\"fc59b1fb-92b3-4008-8ae7-078bf4f65ab9\",\"type\":\"CategoricalTicker\"},{\"attributes\":{\"fields\":[\"Armed\",\"Not Armed\"]},\"id\":\"7ec33569-188a-434e-bcf3-2669bb7136a1\",\"type\":\"Stack\"},{\"attributes\":{\"dimension\":1,\"plot\":{\"id\":\"2264307e-5775-43a1-81cd-ed34af4fd522\",\"subtype\":\"Figure\",\"type\":\"Plot\"},\"ticker\":{\"id\":\"fc59b1fb-92b3-4008-8ae7-078bf4f65ab9\",\"type\":\"CategoricalTicker\"}},\"id\":\"0f5d873c-da5f-4ed6-975e-719a700c6be5\",\"type\":\"Grid\"},{\"attributes\":{\"fields\":[\"Armed\"]},\"id\":\"8bd3f79e-d557-453f-9ffb-a1f2efb7933b\",\"type\":\"Stack\"},{\"attributes\":{\"fields\":[\"Armed\",\"Not Armed\",\"Unknown\"]},\"id\":\"660ad209-cf6a-4e03-a01a-0a746e99725b\",\"type\":\"Stack\"},{\"attributes\":{\"fields\":[\"Armed\"]},\"id\":\"abb402d3-1a4e-496e-bcd4-7178c82f0ecf\",\"type\":\"Stack\"},{\"attributes\":{},\"id\":\"0dfe09e4-7ad0-4834-833b-40790d25aa8d\",\"type\":\"BasicTickFormatter\"},{\"attributes\":{\"data_source\":{\"id\":\"f11ecb4c-b64b-4e95-b75f-a718ffee0e00\",\"type\":\"ColumnDataSource\"},\"glyph\":{\"id\":\"2d12d289-f701-42e1-acfc-51ca16938703\",\"type\":\"HBar\"},\"hover_glyph\":null,\"muted_glyph\":null,\"nonselection_glyph\":{\"id\":\"eb24a62b-90c7-42d5-a6be-16cdcc4aed37\",\"type\":\"HBar\"},\"selection_glyph\":null,\"view\":{\"id\":\"8efcecaa-1b2b-4501-ad9e-b3eef8a2a2e6\",\"type\":\"CDSView\"}},\"id\":\"8349f013-e464-4553-a268-72746447fc4b\",\"type\":\"GlyphRenderer\"},{\"attributes\":{\"fields\":[\"Armed\",\"Not Armed\"]},\"id\":\"9fc4722f-fffa-48d0-a0fe-04f3cd707a85\",\"type\":\"Stack\"},{\"attributes\":{\"fill_alpha\":{\"value\":0.1},\"fill_color\":{\"value\":\"#1f77b4\"},\"height\":{\"value\":0.9},\"left\":{\"expr\":{\"id\":\"77a1e9b6-2016-4c2e-921d-135cfc52bc46\",\"type\":\"Stack\"}},\"line_alpha\":{\"value\":0.1},\"line_color\":{\"value\":\"#1f77b4\"},\"right\":{\"expr\":{\"id\":\"abb402d3-1a4e-496e-bcd4-7178c82f0ecf\",\"type\":\"Stack\"}},\"y\":{\"field\":\"Cluster\"}},\"id\":\"eb24a62b-90c7-42d5-a6be-16cdcc4aed37\",\"type\":\"HBar\"},{\"attributes\":{\"fill_color\":{\"value\":\"#ff0000\"},\"height\":{\"value\":0.9},\"left\":{\"expr\":{\"id\":\"77a1e9b6-2016-4c2e-921d-135cfc52bc46\",\"type\":\"Stack\"}},\"line_color\":{\"value\":\"#ff0000\"},\"right\":{\"expr\":{\"id\":\"abb402d3-1a4e-496e-bcd4-7178c82f0ecf\",\"type\":\"Stack\"}},\"y\":{\"field\":\"Cluster\"}},\"id\":\"2d12d289-f701-42e1-acfc-51ca16938703\",\"type\":\"HBar\"}],\"root_ids\":[\"2264307e-5775-43a1-81cd-ed34af4fd522\"]},\"title\":\"Bokeh Application\",\"version\":\"0.12.13\"}};\n",
       "  var render_items = [{\"docid\":\"95b177c1-563c-4518-b027-a4ecab74a831\",\"elementid\":\"822ef5bf-6af8-490a-855a-e2d1860e309d\",\"modelid\":\"2264307e-5775-43a1-81cd-ed34af4fd522\"}];\n",
       "  root.Bokeh.embed.embed_items_notebook(docs_json, render_items);\n",
       "\n",
       "  }\n",
       "  if (root.Bokeh !== undefined) {\n",
       "    embed_document(root);\n",
       "  } else {\n",
       "    var attempts = 0;\n",
       "    var timer = setInterval(function(root) {\n",
       "      if (root.Bokeh !== undefined) {\n",
       "        embed_document(root);\n",
       "        clearInterval(timer);\n",
       "      }\n",
       "      attempts++;\n",
       "      if (attempts > 100) {\n",
       "        console.log(\"Bokeh: ERROR: Unable to run BokehJS code because BokehJS library is missing\")\n",
       "        clearInterval(timer);\n",
       "      }\n",
       "    }, 10, root)\n",
       "  }\n",
       "})(window);"
      ],
      "application/vnd.bokehjs_exec.v0+json": ""
     },
     "metadata": {
      "application/vnd.bokehjs_exec.v0+json": {
       "id": "2264307e-5775-43a1-81cd-ed34af4fd522"
      }
     },
     "output_type": "display_data"
    }
   ],
   "source": [
    "#stacked horizontal bar graph showing \"Armed\" in each Cluster\n",
    "\n",
    "data= {'Cluster': list(armeddf.index), 'Armed' : armeddf['Armed'].values, \n",
    "       'Not Armed': armeddf['Not Armed'].values,  'Unknown':armeddf['Unknown'].values}\n",
    "\n",
    "source = ColumnDataSource(data=data)\n",
    "color = ['#ff0000', '#3399ff', '#00ff7f']\n",
    "\n",
    "g = figure(y_range= data['Cluster'], plot_height=500,plot_width=900, title=\"Subject Armed per Cluster\",x_axis_label='Number of Instances', y_axis_label= 'Clusters', toolbar_location=None, tools=\"\")\n",
    "\n",
    "\n",
    "g.hbar_stack(armeddf.columns, y= 'Cluster', height=0.9, color=color, source=source,\n",
    "             legend=[value(x) for x in armeddf.columns])\n",
    "\n",
    "g.x_range.start = 0\n",
    "g.x_range.end = 150\n",
    "g.y_range.range_padding = 0.1\n",
    "g.xgrid.grid_line_color = None\n",
    "g.axis.minor_tick_line_color = None\n",
    "g.outline_line_color = None\n",
    "g.legend.location = \"top_right\"\n",
    "g.legend.orientation = \"vertical\"\n",
    "\n",
    "show(g)"
   ]
  },
  {
   "cell_type": "code",
   "execution_count": null,
   "metadata": {},
   "outputs": [],
   "source": []
  },
  {
   "cell_type": "code",
   "execution_count": 59,
   "metadata": {},
   "outputs": [
    {
     "data": {
      "text/html": [
       "<div>\n",
       "<style scoped>\n",
       "    .dataframe tbody tr th:only-of-type {\n",
       "        vertical-align: middle;\n",
       "    }\n",
       "\n",
       "    .dataframe tbody tr th {\n",
       "        vertical-align: top;\n",
       "    }\n",
       "\n",
       "    .dataframe thead th {\n",
       "        text-align: right;\n",
       "    }\n",
       "</style>\n",
       "<table border=\"1\" class=\"dataframe\">\n",
       "  <thead>\n",
       "    <tr style=\"text-align: right;\">\n",
       "      <th>race</th>\n",
       "      <th>Asian</th>\n",
       "      <th>Black</th>\n",
       "      <th>Latino</th>\n",
       "      <th>Unknown</th>\n",
       "      <th>White</th>\n",
       "    </tr>\n",
       "    <tr>\n",
       "      <th>Kmeans Cluster</th>\n",
       "      <th></th>\n",
       "      <th></th>\n",
       "      <th></th>\n",
       "      <th></th>\n",
       "      <th></th>\n",
       "    </tr>\n",
       "  </thead>\n",
       "  <tbody>\n",
       "    <tr>\n",
       "      <th>0</th>\n",
       "      <td>0</td>\n",
       "      <td>22</td>\n",
       "      <td>23</td>\n",
       "      <td>3</td>\n",
       "      <td>13</td>\n",
       "    </tr>\n",
       "    <tr>\n",
       "      <th>1</th>\n",
       "      <td>0</td>\n",
       "      <td>73</td>\n",
       "      <td>45</td>\n",
       "      <td>0</td>\n",
       "      <td>0</td>\n",
       "    </tr>\n",
       "    <tr>\n",
       "      <th>2</th>\n",
       "      <td>4</td>\n",
       "      <td>25</td>\n",
       "      <td>15</td>\n",
       "      <td>0</td>\n",
       "      <td>10</td>\n",
       "    </tr>\n",
       "    <tr>\n",
       "      <th>3</th>\n",
       "      <td>1</td>\n",
       "      <td>75</td>\n",
       "      <td>42</td>\n",
       "      <td>10</td>\n",
       "      <td>0</td>\n",
       "    </tr>\n",
       "    <tr>\n",
       "      <th>4</th>\n",
       "      <td>0</td>\n",
       "      <td>0</td>\n",
       "      <td>0</td>\n",
       "      <td>28</td>\n",
       "      <td>45</td>\n",
       "    </tr>\n",
       "    <tr>\n",
       "      <th>5</th>\n",
       "      <td>0</td>\n",
       "      <td>4</td>\n",
       "      <td>10</td>\n",
       "      <td>1</td>\n",
       "      <td>32</td>\n",
       "    </tr>\n",
       "    <tr>\n",
       "      <th>6</th>\n",
       "      <td>0</td>\n",
       "      <td>23</td>\n",
       "      <td>20</td>\n",
       "      <td>6</td>\n",
       "      <td>10</td>\n",
       "    </tr>\n",
       "    <tr>\n",
       "      <th>7</th>\n",
       "      <td>0</td>\n",
       "      <td>24</td>\n",
       "      <td>10</td>\n",
       "      <td>3</td>\n",
       "      <td>19</td>\n",
       "    </tr>\n",
       "    <tr>\n",
       "      <th>8</th>\n",
       "      <td>1</td>\n",
       "      <td>18</td>\n",
       "      <td>8</td>\n",
       "      <td>0</td>\n",
       "      <td>17</td>\n",
       "    </tr>\n",
       "  </tbody>\n",
       "</table>\n",
       "</div>"
      ],
      "text/plain": [
       "race            Asian  Black  Latino  Unknown  White\n",
       "Kmeans Cluster                                      \n",
       "0                   0     22      23        3     13\n",
       "1                   0     73      45        0      0\n",
       "2                   4     25      15        0     10\n",
       "3                   1     75      42       10      0\n",
       "4                   0      0       0       28     45\n",
       "5                   0      4      10        1     32\n",
       "6                   0     23      20        6     10\n",
       "7                   0     24      10        3     19\n",
       "8                   1     18       8        0     17"
      ]
     },
     "execution_count": 59,
     "metadata": {},
     "output_type": "execute_result"
    }
   ],
   "source": [
    "shrace = shoot.groupby('Kmeans Cluster')['race'].value_counts()\n",
    "shrace = shrace.unstack().fillna(0).astype(int)\n",
    "shrace"
   ]
  },
  {
   "cell_type": "code",
   "execution_count": 60,
   "metadata": {},
   "outputs": [
    {
     "data": {
      "text/html": [
       "\n",
       "<div class=\"bk-root\">\n",
       "    <div class=\"bk-plotdiv\" id=\"80972bb9-3025-4697-abd9-d04efedf206a\"></div>\n",
       "</div>"
      ]
     },
     "metadata": {},
     "output_type": "display_data"
    },
    {
     "data": {
      "application/javascript": [
       "(function(root) {\n",
       "  function embed_document(root) {\n",
       "    \n",
       "  var docs_json = {\"ae647fda-cc96-4b01-8391-4059ddcd6a3c\":{\"roots\":{\"references\":[{\"attributes\":{\"plot\":null,\"text\":\"Racial makeup of Clusters\"},\"id\":\"1c79b2ca-49c7-464d-8133-95c210017dbc\",\"type\":\"Title\"},{\"attributes\":{\"fields\":[\"Asian\",\"Black\",\"Latino\",\"Unknown\"]},\"id\":\"f1ee96db-32e8-459f-91db-3519aeef120a\",\"type\":\"Stack\"},{\"attributes\":{\"data_source\":{\"id\":\"a93fae93-e0dc-4f8e-aaba-c1a07670b4bd\",\"type\":\"ColumnDataSource\"},\"glyph\":{\"id\":\"151b45fe-77fe-4544-a101-e561a919ae75\",\"type\":\"HBar\"},\"hover_glyph\":null,\"muted_glyph\":null,\"nonselection_glyph\":{\"id\":\"5cd003d7-cf85-4baf-9535-c19383157932\",\"type\":\"HBar\"},\"selection_glyph\":null,\"view\":{\"id\":\"1128b1e1-2dc4-4a86-b3e9-7408fabef8b3\",\"type\":\"CDSView\"}},\"id\":\"66a76946-222d-4ebd-8aa0-406d304465cf\",\"type\":\"GlyphRenderer\"},{\"attributes\":{},\"id\":\"acceb403-6e66-4b4f-8f9d-11114c7f1e9e\",\"type\":\"LinearScale\"},{\"attributes\":{\"fill_color\":{\"value\":\"#8a2be2\"},\"height\":{\"value\":0.9},\"left\":{\"expr\":{\"id\":\"f1ee96db-32e8-459f-91db-3519aeef120a\",\"type\":\"Stack\"}},\"line_color\":{\"value\":\"#8a2be2\"},\"right\":{\"expr\":{\"id\":\"83748241-a6a9-499a-bfb4-e0ab73c63385\",\"type\":\"Stack\"}},\"y\":{\"field\":\"Cluster\"}},\"id\":\"151b45fe-77fe-4544-a101-e561a919ae75\",\"type\":\"HBar\"},{\"attributes\":{\"source\":{\"id\":\"a93fae93-e0dc-4f8e-aaba-c1a07670b4bd\",\"type\":\"ColumnDataSource\"}},\"id\":\"1128b1e1-2dc4-4a86-b3e9-7408fabef8b3\",\"type\":\"CDSView\"},{\"attributes\":{\"fields\":[\"Asian\",\"Black\",\"Latino\"]},\"id\":\"b2326c52-00d8-4697-be91-350ba3160d00\",\"type\":\"Stack\"},{\"attributes\":{\"fill_color\":{\"value\":\"#ff0000\"},\"height\":{\"value\":0.9},\"left\":{\"expr\":{\"id\":\"4c16aa9e-ecf3-4ea3-90f6-0912a6922de3\",\"type\":\"Stack\"}},\"line_color\":{\"value\":\"#ff0000\"},\"right\":{\"expr\":{\"id\":\"54ae3f79-2484-4d5a-900d-7c7cdab6cb56\",\"type\":\"Stack\"}},\"y\":{\"field\":\"Cluster\"}},\"id\":\"b55fa1ae-612e-4f65-a500-42392692211b\",\"type\":\"HBar\"},{\"attributes\":{\"fields\":[\"Asian\",\"Black\",\"Latino\",\"Unknown\",\"White\"]},\"id\":\"83748241-a6a9-499a-bfb4-e0ab73c63385\",\"type\":\"Stack\"},{\"attributes\":{\"fields\":[\"Asian\",\"Black\"]},\"id\":\"eb6fa148-89cc-429a-8b44-48361e54f837\",\"type\":\"Stack\"},{\"attributes\":{},\"id\":\"f15ec35c-b564-45c7-a69b-04bd09ca128e\",\"type\":\"CategoricalTickFormatter\"},{\"attributes\":{\"grid_line_color\":{\"value\":null},\"plot\":{\"id\":\"74745ab7-93eb-43a6-817f-2b3711913516\",\"subtype\":\"Figure\",\"type\":\"Plot\"},\"ticker\":{\"id\":\"f07e3325-e2e1-43b2-8d34-304ccb539ec7\",\"type\":\"BasicTicker\"}},\"id\":\"6b8dc210-af00-4e1c-8287-b53a6f8487e4\",\"type\":\"Grid\"},{\"attributes\":{\"axis_label\":\"Clusters\",\"formatter\":{\"id\":\"f15ec35c-b564-45c7-a69b-04bd09ca128e\",\"type\":\"CategoricalTickFormatter\"},\"minor_tick_line_color\":{\"value\":null},\"plot\":{\"id\":\"74745ab7-93eb-43a6-817f-2b3711913516\",\"subtype\":\"Figure\",\"type\":\"Plot\"},\"ticker\":{\"id\":\"81ba25be-8b63-4429-9bd6-280eebb8679d\",\"type\":\"CategoricalTicker\"}},\"id\":\"c980ea35-9b13-48b8-9bc1-22d3ba77b7ce\",\"type\":\"CategoricalAxis\"},{\"attributes\":{\"fill_alpha\":{\"value\":0.1},\"fill_color\":{\"value\":\"#1f77b4\"},\"height\":{\"value\":0.9},\"left\":{\"expr\":{\"id\":\"4c16aa9e-ecf3-4ea3-90f6-0912a6922de3\",\"type\":\"Stack\"}},\"line_alpha\":{\"value\":0.1},\"line_color\":{\"value\":\"#1f77b4\"},\"right\":{\"expr\":{\"id\":\"54ae3f79-2484-4d5a-900d-7c7cdab6cb56\",\"type\":\"Stack\"}},\"y\":{\"field\":\"Cluster\"}},\"id\":\"d95fede8-9d6c-468d-a4d4-a6ce28a673a5\",\"type\":\"HBar\"},{\"attributes\":{\"callback\":null,\"end\":150,\"start\":0},\"id\":\"67b1d4f6-79ff-458c-8cb1-479894dd95af\",\"type\":\"DataRange1d\"},{\"attributes\":{\"items\":[{\"id\":\"422016f9-3e2e-49b1-8e29-a19dcfaac69a\",\"type\":\"LegendItem\"},{\"id\":\"8dccb1c2-a04f-44d1-8fa6-7f64eb2863aa\",\"type\":\"LegendItem\"},{\"id\":\"935b9d6b-5c0f-45d0-851c-7ebf50447411\",\"type\":\"LegendItem\"},{\"id\":\"7198996a-24ae-4400-b720-82ac8f6b7b2f\",\"type\":\"LegendItem\"},{\"id\":\"4c817ecf-5c6b-4c46-90e9-a15d8583c985\",\"type\":\"LegendItem\"}],\"plot\":{\"id\":\"74745ab7-93eb-43a6-817f-2b3711913516\",\"subtype\":\"Figure\",\"type\":\"Plot\"}},\"id\":\"0967d60d-e439-4ff6-8b7b-7da9f908b0df\",\"type\":\"Legend\"},{\"attributes\":{\"active_drag\":\"auto\",\"active_inspect\":\"auto\",\"active_scroll\":\"auto\",\"active_tap\":\"auto\"},\"id\":\"3bc827d1-e47c-4083-b0da-4e00d7ac437e\",\"type\":\"Toolbar\"},{\"attributes\":{\"callback\":null,\"factors\":[\"0\",\"1\",\"2\",\"3\",\"4\",\"5\",\"6\",\"7\",\"8\"],\"range_padding\":0.1},\"id\":\"c1e0803a-28ab-4b73-858f-f656238d7cd0\",\"type\":\"FactorRange\"},{\"attributes\":{\"fill_color\":{\"value\":\"#00ff7f\"},\"height\":{\"value\":0.9},\"left\":{\"expr\":{\"id\":\"0047eef4-2f19-4795-ac3f-d470807d48b9\",\"type\":\"Stack\"}},\"line_color\":{\"value\":\"#00ff7f\"},\"right\":{\"expr\":{\"id\":\"b2326c52-00d8-4697-be91-350ba3160d00\",\"type\":\"Stack\"}},\"y\":{\"field\":\"Cluster\"}},\"id\":\"610c0000-4871-428d-ab90-dc76628d3092\",\"type\":\"HBar\"},{\"attributes\":{\"fill_alpha\":{\"value\":0.1},\"fill_color\":{\"value\":\"#1f77b4\"},\"height\":{\"value\":0.9},\"left\":{\"expr\":{\"id\":\"f13af503-09a0-4278-9eea-0f81a62a8fe0\",\"type\":\"Stack\"}},\"line_alpha\":{\"value\":0.1},\"line_color\":{\"value\":\"#1f77b4\"},\"right\":{\"expr\":{\"id\":\"eb6fa148-89cc-429a-8b44-48361e54f837\",\"type\":\"Stack\"}},\"y\":{\"field\":\"Cluster\"}},\"id\":\"20216274-cb28-45dc-b6ca-4676839e7564\",\"type\":\"HBar\"},{\"attributes\":{\"fields\":[\"Asian\",\"Black\"]},\"id\":\"0047eef4-2f19-4795-ac3f-d470807d48b9\",\"type\":\"Stack\"},{\"attributes\":{},\"id\":\"e14af9f0-3e1b-41c7-aaf5-81494382bbc5\",\"type\":\"BasicTickFormatter\"},{\"attributes\":{\"fill_color\":{\"value\":\"#3399ff\"},\"height\":{\"value\":0.9},\"left\":{\"expr\":{\"id\":\"f13af503-09a0-4278-9eea-0f81a62a8fe0\",\"type\":\"Stack\"}},\"line_color\":{\"value\":\"#3399ff\"},\"right\":{\"expr\":{\"id\":\"eb6fa148-89cc-429a-8b44-48361e54f837\",\"type\":\"Stack\"}},\"y\":{\"field\":\"Cluster\"}},\"id\":\"1cac41de-970a-4de3-a032-c7d90e524dff\",\"type\":\"HBar\"},{\"attributes\":{\"data_source\":{\"id\":\"a93fae93-e0dc-4f8e-aaba-c1a07670b4bd\",\"type\":\"ColumnDataSource\"},\"glyph\":{\"id\":\"b55fa1ae-612e-4f65-a500-42392692211b\",\"type\":\"HBar\"},\"hover_glyph\":null,\"muted_glyph\":null,\"nonselection_glyph\":{\"id\":\"d95fede8-9d6c-468d-a4d4-a6ce28a673a5\",\"type\":\"HBar\"},\"selection_glyph\":null,\"view\":{\"id\":\"a39b734d-ba6b-4a6a-a0f5-42d75f33ad60\",\"type\":\"CDSView\"}},\"id\":\"d7746f19-9498-42e8-bb31-7700e7340a50\",\"type\":\"GlyphRenderer\"},{\"attributes\":{\"source\":{\"id\":\"a93fae93-e0dc-4f8e-aaba-c1a07670b4bd\",\"type\":\"ColumnDataSource\"}},\"id\":\"a39b734d-ba6b-4a6a-a0f5-42d75f33ad60\",\"type\":\"CDSView\"},{\"attributes\":{\"fields\":[\"Asian\"]},\"id\":\"54ae3f79-2484-4d5a-900d-7c7cdab6cb56\",\"type\":\"Stack\"},{\"attributes\":{\"label\":{\"value\":\"Asian\"},\"renderers\":[{\"id\":\"d7746f19-9498-42e8-bb31-7700e7340a50\",\"type\":\"GlyphRenderer\"}]},\"id\":\"422016f9-3e2e-49b1-8e29-a19dcfaac69a\",\"type\":\"LegendItem\"},{\"attributes\":{},\"id\":\"c8667445-238b-4144-a99e-b0b011310afb\",\"type\":\"CategoricalScale\"},{\"attributes\":{\"fill_alpha\":{\"value\":0.1},\"fill_color\":{\"value\":\"#1f77b4\"},\"height\":{\"value\":0.9},\"left\":{\"expr\":{\"id\":\"550edecf-35db-436f-917c-d860ccd1e8b2\",\"type\":\"Stack\"}},\"line_alpha\":{\"value\":0.1},\"line_color\":{\"value\":\"#1f77b4\"},\"right\":{\"expr\":{\"id\":\"7b513bff-f307-42b2-920a-705ed1d9ee2d\",\"type\":\"Stack\"}},\"y\":{\"field\":\"Cluster\"}},\"id\":\"845d2b47-3ac6-41bd-885e-ec9aea625d0e\",\"type\":\"HBar\"},{\"attributes\":{\"label\":{\"value\":\"Black\"},\"renderers\":[{\"id\":\"a3759808-8b9c-431e-99ee-7e30bc17370c\",\"type\":\"GlyphRenderer\"}]},\"id\":\"8dccb1c2-a04f-44d1-8fa6-7f64eb2863aa\",\"type\":\"LegendItem\"},{\"attributes\":{\"fill_color\":{\"value\":\"#ffff00\"},\"height\":{\"value\":0.9},\"left\":{\"expr\":{\"id\":\"550edecf-35db-436f-917c-d860ccd1e8b2\",\"type\":\"Stack\"}},\"line_color\":{\"value\":\"#ffff00\"},\"right\":{\"expr\":{\"id\":\"7b513bff-f307-42b2-920a-705ed1d9ee2d\",\"type\":\"Stack\"}},\"y\":{\"field\":\"Cluster\"}},\"id\":\"471e9b0b-7e10-4acd-b00d-60cd7c2c8415\",\"type\":\"HBar\"},{\"attributes\":{\"fields\":[\"Asian\",\"Black\",\"Latino\"]},\"id\":\"550edecf-35db-436f-917c-d860ccd1e8b2\",\"type\":\"Stack\"},{\"attributes\":{\"data_source\":{\"id\":\"a93fae93-e0dc-4f8e-aaba-c1a07670b4bd\",\"type\":\"ColumnDataSource\"},\"glyph\":{\"id\":\"1cac41de-970a-4de3-a032-c7d90e524dff\",\"type\":\"HBar\"},\"hover_glyph\":null,\"muted_glyph\":null,\"nonselection_glyph\":{\"id\":\"20216274-cb28-45dc-b6ca-4676839e7564\",\"type\":\"HBar\"},\"selection_glyph\":null,\"view\":{\"id\":\"5de9c659-233c-4d80-83ae-e2be1bf30eaa\",\"type\":\"CDSView\"}},\"id\":\"a3759808-8b9c-431e-99ee-7e30bc17370c\",\"type\":\"GlyphRenderer\"},{\"attributes\":{\"source\":{\"id\":\"a93fae93-e0dc-4f8e-aaba-c1a07670b4bd\",\"type\":\"ColumnDataSource\"}},\"id\":\"5de9c659-233c-4d80-83ae-e2be1bf30eaa\",\"type\":\"CDSView\"},{\"attributes\":{\"fill_alpha\":{\"value\":0.1},\"fill_color\":{\"value\":\"#1f77b4\"},\"height\":{\"value\":0.9},\"left\":{\"expr\":{\"id\":\"0047eef4-2f19-4795-ac3f-d470807d48b9\",\"type\":\"Stack\"}},\"line_alpha\":{\"value\":0.1},\"line_color\":{\"value\":\"#1f77b4\"},\"right\":{\"expr\":{\"id\":\"b2326c52-00d8-4697-be91-350ba3160d00\",\"type\":\"Stack\"}},\"y\":{\"field\":\"Cluster\"}},\"id\":\"19cccb94-f20e-4f26-b2ae-660e59b75a4c\",\"type\":\"HBar\"},{\"attributes\":{\"axis_label\":\"Number of Instances\",\"formatter\":{\"id\":\"e14af9f0-3e1b-41c7-aaf5-81494382bbc5\",\"type\":\"BasicTickFormatter\"},\"minor_tick_line_color\":{\"value\":null},\"plot\":{\"id\":\"74745ab7-93eb-43a6-817f-2b3711913516\",\"subtype\":\"Figure\",\"type\":\"Plot\"},\"ticker\":{\"id\":\"f07e3325-e2e1-43b2-8d34-304ccb539ec7\",\"type\":\"BasicTicker\"}},\"id\":\"44a015fd-34c4-4503-aa4a-9e72ccf07d25\",\"type\":\"LinearAxis\"},{\"attributes\":{\"callback\":null,\"column_names\":[\"Cluster\",\"Asian\",\"Black\",\"Latino\",\"Unknown\",\"White\"],\"data\":{\"Asian\":{\"__ndarray__\":\"AAAAAAAAAAAEAAAAAQAAAAAAAAAAAAAAAAAAAAAAAAABAAAA\",\"dtype\":\"int32\",\"shape\":[9]},\"Black\":{\"__ndarray__\":\"FgAAAEkAAAAZAAAASwAAAAAAAAAEAAAAFwAAABgAAAASAAAA\",\"dtype\":\"int32\",\"shape\":[9]},\"Cluster\":[\"0\",\"1\",\"2\",\"3\",\"4\",\"5\",\"6\",\"7\",\"8\"],\"Latino\":{\"__ndarray__\":\"FwAAAC0AAAAPAAAAKgAAAAAAAAAKAAAAFAAAAAoAAAAIAAAA\",\"dtype\":\"int32\",\"shape\":[9]},\"Unknown\":{\"__ndarray__\":\"AwAAAAAAAAAAAAAACgAAABwAAAABAAAABgAAAAMAAAAAAAAA\",\"dtype\":\"int32\",\"shape\":[9]},\"White\":{\"__ndarray__\":\"DQAAAAAAAAAKAAAAAAAAAC0AAAAgAAAACgAAABMAAAARAAAA\",\"dtype\":\"int32\",\"shape\":[9]}}},\"id\":\"a93fae93-e0dc-4f8e-aaba-c1a07670b4bd\",\"type\":\"ColumnDataSource\"},{\"attributes\":{\"source\":{\"id\":\"a93fae93-e0dc-4f8e-aaba-c1a07670b4bd\",\"type\":\"ColumnDataSource\"}},\"id\":\"e8287823-18fc-4f9f-8305-0e20e4021c39\",\"type\":\"CDSView\"},{\"attributes\":{\"label\":{\"value\":\"Latino\"},\"renderers\":[{\"id\":\"8c5761e0-8dcb-4973-81a8-622782212046\",\"type\":\"GlyphRenderer\"}]},\"id\":\"935b9d6b-5c0f-45d0-851c-7ebf50447411\",\"type\":\"LegendItem\"},{\"attributes\":{\"data_source\":{\"id\":\"a93fae93-e0dc-4f8e-aaba-c1a07670b4bd\",\"type\":\"ColumnDataSource\"},\"glyph\":{\"id\":\"610c0000-4871-428d-ab90-dc76628d3092\",\"type\":\"HBar\"},\"hover_glyph\":null,\"muted_glyph\":null,\"nonselection_glyph\":{\"id\":\"19cccb94-f20e-4f26-b2ae-660e59b75a4c\",\"type\":\"HBar\"},\"selection_glyph\":null,\"view\":{\"id\":\"e8287823-18fc-4f9f-8305-0e20e4021c39\",\"type\":\"CDSView\"}},\"id\":\"8c5761e0-8dcb-4973-81a8-622782212046\",\"type\":\"GlyphRenderer\"},{\"attributes\":{\"dimension\":1,\"plot\":{\"id\":\"74745ab7-93eb-43a6-817f-2b3711913516\",\"subtype\":\"Figure\",\"type\":\"Plot\"},\"ticker\":{\"id\":\"81ba25be-8b63-4429-9bd6-280eebb8679d\",\"type\":\"CategoricalTicker\"}},\"id\":\"5e7c303e-3bf5-466e-ab84-d5aaac8d6426\",\"type\":\"Grid\"},{\"attributes\":{\"data_source\":{\"id\":\"a93fae93-e0dc-4f8e-aaba-c1a07670b4bd\",\"type\":\"ColumnDataSource\"},\"glyph\":{\"id\":\"471e9b0b-7e10-4acd-b00d-60cd7c2c8415\",\"type\":\"HBar\"},\"hover_glyph\":null,\"muted_glyph\":null,\"nonselection_glyph\":{\"id\":\"845d2b47-3ac6-41bd-885e-ec9aea625d0e\",\"type\":\"HBar\"},\"selection_glyph\":null,\"view\":{\"id\":\"c3e82746-be2f-4be6-9cb4-2ef63ef20688\",\"type\":\"CDSView\"}},\"id\":\"aaf9a875-04e0-4ed8-a457-6b630b06f3fc\",\"type\":\"GlyphRenderer\"},{\"attributes\":{\"fields\":[\"Asian\"]},\"id\":\"f13af503-09a0-4278-9eea-0f81a62a8fe0\",\"type\":\"Stack\"},{\"attributes\":{\"label\":{\"value\":\"Unknown\"},\"renderers\":[{\"id\":\"aaf9a875-04e0-4ed8-a457-6b630b06f3fc\",\"type\":\"GlyphRenderer\"}]},\"id\":\"7198996a-24ae-4400-b720-82ac8f6b7b2f\",\"type\":\"LegendItem\"},{\"attributes\":{\"fields\":[\"Asian\",\"Black\",\"Latino\",\"Unknown\"]},\"id\":\"7b513bff-f307-42b2-920a-705ed1d9ee2d\",\"type\":\"Stack\"},{\"attributes\":{},\"id\":\"81ba25be-8b63-4429-9bd6-280eebb8679d\",\"type\":\"CategoricalTicker\"},{\"attributes\":{\"source\":{\"id\":\"a93fae93-e0dc-4f8e-aaba-c1a07670b4bd\",\"type\":\"ColumnDataSource\"}},\"id\":\"c3e82746-be2f-4be6-9cb4-2ef63ef20688\",\"type\":\"CDSView\"},{\"attributes\":{\"fill_alpha\":{\"value\":0.1},\"fill_color\":{\"value\":\"#1f77b4\"},\"height\":{\"value\":0.9},\"left\":{\"expr\":{\"id\":\"f1ee96db-32e8-459f-91db-3519aeef120a\",\"type\":\"Stack\"}},\"line_alpha\":{\"value\":0.1},\"line_color\":{\"value\":\"#1f77b4\"},\"right\":{\"expr\":{\"id\":\"83748241-a6a9-499a-bfb4-e0ab73c63385\",\"type\":\"Stack\"}},\"y\":{\"field\":\"Cluster\"}},\"id\":\"5cd003d7-cf85-4baf-9535-c19383157932\",\"type\":\"HBar\"},{\"attributes\":{\"fields\":[]},\"id\":\"4c16aa9e-ecf3-4ea3-90f6-0912a6922de3\",\"type\":\"Stack\"},{\"attributes\":{\"below\":[{\"id\":\"44a015fd-34c4-4503-aa4a-9e72ccf07d25\",\"type\":\"LinearAxis\"}],\"left\":[{\"id\":\"c980ea35-9b13-48b8-9bc1-22d3ba77b7ce\",\"type\":\"CategoricalAxis\"}],\"outline_line_color\":{\"value\":null},\"plot_height\":500,\"plot_width\":900,\"renderers\":[{\"id\":\"44a015fd-34c4-4503-aa4a-9e72ccf07d25\",\"type\":\"LinearAxis\"},{\"id\":\"6b8dc210-af00-4e1c-8287-b53a6f8487e4\",\"type\":\"Grid\"},{\"id\":\"c980ea35-9b13-48b8-9bc1-22d3ba77b7ce\",\"type\":\"CategoricalAxis\"},{\"id\":\"5e7c303e-3bf5-466e-ab84-d5aaac8d6426\",\"type\":\"Grid\"},{\"id\":\"0967d60d-e439-4ff6-8b7b-7da9f908b0df\",\"type\":\"Legend\"},{\"id\":\"d7746f19-9498-42e8-bb31-7700e7340a50\",\"type\":\"GlyphRenderer\"},{\"id\":\"a3759808-8b9c-431e-99ee-7e30bc17370c\",\"type\":\"GlyphRenderer\"},{\"id\":\"8c5761e0-8dcb-4973-81a8-622782212046\",\"type\":\"GlyphRenderer\"},{\"id\":\"aaf9a875-04e0-4ed8-a457-6b630b06f3fc\",\"type\":\"GlyphRenderer\"},{\"id\":\"66a76946-222d-4ebd-8aa0-406d304465cf\",\"type\":\"GlyphRenderer\"}],\"title\":{\"id\":\"1c79b2ca-49c7-464d-8133-95c210017dbc\",\"type\":\"Title\"},\"toolbar\":{\"id\":\"3bc827d1-e47c-4083-b0da-4e00d7ac437e\",\"type\":\"Toolbar\"},\"toolbar_location\":null,\"x_range\":{\"id\":\"67b1d4f6-79ff-458c-8cb1-479894dd95af\",\"type\":\"DataRange1d\"},\"x_scale\":{\"id\":\"acceb403-6e66-4b4f-8f9d-11114c7f1e9e\",\"type\":\"LinearScale\"},\"y_range\":{\"id\":\"c1e0803a-28ab-4b73-858f-f656238d7cd0\",\"type\":\"FactorRange\"},\"y_scale\":{\"id\":\"c8667445-238b-4144-a99e-b0b011310afb\",\"type\":\"CategoricalScale\"}},\"id\":\"74745ab7-93eb-43a6-817f-2b3711913516\",\"subtype\":\"Figure\",\"type\":\"Plot\"},{\"attributes\":{},\"id\":\"f07e3325-e2e1-43b2-8d34-304ccb539ec7\",\"type\":\"BasicTicker\"},{\"attributes\":{\"label\":{\"value\":\"White\"},\"renderers\":[{\"id\":\"66a76946-222d-4ebd-8aa0-406d304465cf\",\"type\":\"GlyphRenderer\"}]},\"id\":\"4c817ecf-5c6b-4c46-90e9-a15d8583c985\",\"type\":\"LegendItem\"}],\"root_ids\":[\"74745ab7-93eb-43a6-817f-2b3711913516\"]},\"title\":\"Bokeh Application\",\"version\":\"0.12.13\"}};\n",
       "  var render_items = [{\"docid\":\"ae647fda-cc96-4b01-8391-4059ddcd6a3c\",\"elementid\":\"80972bb9-3025-4697-abd9-d04efedf206a\",\"modelid\":\"74745ab7-93eb-43a6-817f-2b3711913516\"}];\n",
       "  root.Bokeh.embed.embed_items_notebook(docs_json, render_items);\n",
       "\n",
       "  }\n",
       "  if (root.Bokeh !== undefined) {\n",
       "    embed_document(root);\n",
       "  } else {\n",
       "    var attempts = 0;\n",
       "    var timer = setInterval(function(root) {\n",
       "      if (root.Bokeh !== undefined) {\n",
       "        embed_document(root);\n",
       "        clearInterval(timer);\n",
       "      }\n",
       "      attempts++;\n",
       "      if (attempts > 100) {\n",
       "        console.log(\"Bokeh: ERROR: Unable to run BokehJS code because BokehJS library is missing\")\n",
       "        clearInterval(timer);\n",
       "      }\n",
       "    }, 10, root)\n",
       "  }\n",
       "})(window);"
      ],
      "application/vnd.bokehjs_exec.v0+json": ""
     },
     "metadata": {
      "application/vnd.bokehjs_exec.v0+json": {
       "id": "74745ab7-93eb-43a6-817f-2b3711913516"
      }
     },
     "output_type": "display_data"
    }
   ],
   "source": [
    "#stacked horizontal bar graph showing \"Race\" in each Cluster\n",
    "\n",
    "data= {'Cluster': list(shrace.index), 'Asian' : shrace['Asian'].values, \n",
    "       'Black': shrace['Black'].values,  'Latino':shrace['Latino'].values, 'Unknown':shrace['Unknown'].values, 'White':shrace['White'].values}\n",
    "\n",
    "source = ColumnDataSource(data=data)\n",
    "color = ['#ff0000', '#3399ff', '#00ff7f', '#ffff00', '#8a2be2']\n",
    "\n",
    "g = figure(y_range= data['Cluster'], plot_height=500,plot_width=900, title=\"Racial makeup of Clusters\",x_axis_label='Number of Instances', y_axis_label= 'Clusters', toolbar_location=None, tools=\"\")\n",
    "\n",
    "\n",
    "g.hbar_stack(shrace.columns, y= 'Cluster', height=0.9, color=color, source=source,\n",
    "             legend=[value(x) for x in shrace.columns])\n",
    "\n",
    "g.x_range.start = 0\n",
    "g.x_range.end = 150\n",
    "g.y_range.range_padding = 0.1\n",
    "g.xgrid.grid_line_color = None\n",
    "g.axis.minor_tick_line_color = None\n",
    "g.outline_line_color = None\n",
    "g.legend.location = \"top_right\"\n",
    "g.legend.orientation = \"vertical\"\n",
    "\n",
    "show(g)"
   ]
  },
  {
   "cell_type": "code",
   "execution_count": null,
   "metadata": {},
   "outputs": [],
   "source": []
  },
  {
   "cell_type": "code",
   "execution_count": 62,
   "metadata": {},
   "outputs": [
    {
     "data": {
      "text/html": [
       "<div>\n",
       "<style scoped>\n",
       "    .dataframe tbody tr th:only-of-type {\n",
       "        vertical-align: middle;\n",
       "    }\n",
       "\n",
       "    .dataframe tbody tr th {\n",
       "        vertical-align: top;\n",
       "    }\n",
       "\n",
       "    .dataframe thead th {\n",
       "        text-align: right;\n",
       "    }\n",
       "</style>\n",
       "<table border=\"1\" class=\"dataframe\">\n",
       "  <thead>\n",
       "    <tr style=\"text-align: right;\">\n",
       "      <th>mult_officers</th>\n",
       "      <th>Multiple Officers</th>\n",
       "      <th>One Officer</th>\n",
       "    </tr>\n",
       "    <tr>\n",
       "      <th>Kmeans Cluster</th>\n",
       "      <th></th>\n",
       "      <th></th>\n",
       "    </tr>\n",
       "  </thead>\n",
       "  <tbody>\n",
       "    <tr>\n",
       "      <th>0</th>\n",
       "      <td>0</td>\n",
       "      <td>61</td>\n",
       "    </tr>\n",
       "    <tr>\n",
       "      <th>1</th>\n",
       "      <td>0</td>\n",
       "      <td>118</td>\n",
       "    </tr>\n",
       "    <tr>\n",
       "      <th>2</th>\n",
       "      <td>54</td>\n",
       "      <td>0</td>\n",
       "    </tr>\n",
       "    <tr>\n",
       "      <th>3</th>\n",
       "      <td>0</td>\n",
       "      <td>128</td>\n",
       "    </tr>\n",
       "    <tr>\n",
       "      <th>4</th>\n",
       "      <td>0</td>\n",
       "      <td>73</td>\n",
       "    </tr>\n",
       "    <tr>\n",
       "      <th>5</th>\n",
       "      <td>9</td>\n",
       "      <td>38</td>\n",
       "    </tr>\n",
       "    <tr>\n",
       "      <th>6</th>\n",
       "      <td>59</td>\n",
       "      <td>0</td>\n",
       "    </tr>\n",
       "    <tr>\n",
       "      <th>7</th>\n",
       "      <td>0</td>\n",
       "      <td>56</td>\n",
       "    </tr>\n",
       "    <tr>\n",
       "      <th>8</th>\n",
       "      <td>44</td>\n",
       "      <td>0</td>\n",
       "    </tr>\n",
       "  </tbody>\n",
       "</table>\n",
       "</div>"
      ],
      "text/plain": [
       "mult_officers   Multiple Officers  One Officer\n",
       "Kmeans Cluster                                \n",
       "0                               0           61\n",
       "1                               0          118\n",
       "2                              54            0\n",
       "3                               0          128\n",
       "4                               0           73\n",
       "5                               9           38\n",
       "6                              59            0\n",
       "7                               0           56\n",
       "8                              44            0"
      ]
     },
     "execution_count": 62,
     "metadata": {},
     "output_type": "execute_result"
    }
   ],
   "source": [
    "multdf = shoot.groupby('Kmeans Cluster')['mult_officers'].value_counts()\n",
    "multdf = multdf.unstack().fillna(0).astype(int)\n",
    "multdf"
   ]
  },
  {
   "cell_type": "code",
   "execution_count": 63,
   "metadata": {},
   "outputs": [
    {
     "data": {
      "text/html": [
       "\n",
       "<div class=\"bk-root\">\n",
       "    <div class=\"bk-plotdiv\" id=\"19b32f7c-aa0d-4e8b-8635-a7e07f99b14c\"></div>\n",
       "</div>"
      ]
     },
     "metadata": {},
     "output_type": "display_data"
    },
    {
     "data": {
      "application/javascript": [
       "(function(root) {\n",
       "  function embed_document(root) {\n",
       "    \n",
       "  var docs_json = {\"6091783d-5a6d-49ed-b15d-058128f2946e\":{\"roots\":{\"references\":[{\"attributes\":{\"fields\":[\"Multiple Officers\",\"One Officer\"]},\"id\":\"5c1fd577-a648-48a6-80e9-87231a53f1b4\",\"type\":\"Stack\"},{\"attributes\":{\"fields\":[\"Multiple Officers\"]},\"id\":\"d6a7e632-ff95-4869-bb14-7513576de75b\",\"type\":\"Stack\"},{\"attributes\":{\"fields\":[\"Multiple Officers\"]},\"id\":\"bec1e28e-8126-4fa6-a8f4-ee95479c08ec\",\"type\":\"Stack\"},{\"attributes\":{},\"id\":\"123cdbe5-b6b0-4c7c-b8ad-1f318eaab736\",\"type\":\"CategoricalScale\"},{\"attributes\":{\"label\":{\"value\":\"One Officer\"},\"renderers\":[{\"id\":\"09fbc9cd-4728-40c3-878f-7de2b504360a\",\"type\":\"GlyphRenderer\"}]},\"id\":\"56284014-5922-4d1b-837a-55d5f79a8ce4\",\"type\":\"LegendItem\"},{\"attributes\":{\"axis_label\":\"Number of Instances\",\"formatter\":{\"id\":\"fa5a6807-791e-4bfa-b4d7-b683ee9b40c6\",\"type\":\"BasicTickFormatter\"},\"minor_tick_line_color\":{\"value\":null},\"plot\":{\"id\":\"5bd2f19f-21ba-4d13-a85e-746796ea409a\",\"subtype\":\"Figure\",\"type\":\"Plot\"},\"ticker\":{\"id\":\"1df68108-874e-46de-be81-a02a656eae5b\",\"type\":\"BasicTicker\"}},\"id\":\"0ec55dd6-3773-4dce-b881-0443939509ca\",\"type\":\"LinearAxis\"},{\"attributes\":{\"items\":[{\"id\":\"9a7f7eae-b426-4f39-9c1b-3f8b9d4884c0\",\"type\":\"LegendItem\"},{\"id\":\"56284014-5922-4d1b-837a-55d5f79a8ce4\",\"type\":\"LegendItem\"}],\"plot\":{\"id\":\"5bd2f19f-21ba-4d13-a85e-746796ea409a\",\"subtype\":\"Figure\",\"type\":\"Plot\"}},\"id\":\"9d3431f0-3d0c-4170-837a-8df65dd6b023\",\"type\":\"Legend\"},{\"attributes\":{},\"id\":\"a426f229-c2d6-458d-b151-caf8edb8572b\",\"type\":\"LinearScale\"},{\"attributes\":{\"fields\":[]},\"id\":\"19870816-ff14-43e8-9ccb-704ee50959d6\",\"type\":\"Stack\"},{\"attributes\":{\"plot\":null,\"text\":\"Single or Multiple Officers by Cluster\"},\"id\":\"20cf3059-cf2f-4ef3-a3a8-7ffa86ce3c4d\",\"type\":\"Title\"},{\"attributes\":{\"fill_alpha\":{\"value\":0.1},\"fill_color\":{\"value\":\"#1f77b4\"},\"height\":{\"value\":0.9},\"left\":{\"expr\":{\"id\":\"19870816-ff14-43e8-9ccb-704ee50959d6\",\"type\":\"Stack\"}},\"line_alpha\":{\"value\":0.1},\"line_color\":{\"value\":\"#1f77b4\"},\"right\":{\"expr\":{\"id\":\"bec1e28e-8126-4fa6-a8f4-ee95479c08ec\",\"type\":\"Stack\"}},\"y\":{\"field\":\"Cluster\"}},\"id\":\"37b926b7-e8d8-4742-b78f-0f2e9b4f6ccf\",\"type\":\"HBar\"},{\"attributes\":{\"active_drag\":\"auto\",\"active_inspect\":\"auto\",\"active_scroll\":\"auto\",\"active_tap\":\"auto\"},\"id\":\"86df1961-ebba-4996-b855-9e3ded21d7d3\",\"type\":\"Toolbar\"},{\"attributes\":{\"callback\":null,\"column_names\":[\"Cluster\",\"Multiple Officers\",\"One Officer\"],\"data\":{\"Cluster\":[\"0\",\"1\",\"2\",\"3\",\"4\",\"5\",\"6\",\"7\",\"8\"],\"Multiple Officers\":{\"__ndarray__\":\"AAAAAAAAAAA2AAAAAAAAAAAAAAAJAAAAOwAAAAAAAAAsAAAA\",\"dtype\":\"int32\",\"shape\":[9]},\"One Officer\":{\"__ndarray__\":\"PQAAAHYAAAAAAAAAgAAAAEkAAAAmAAAAAAAAADgAAAAAAAAA\",\"dtype\":\"int32\",\"shape\":[9]}}},\"id\":\"c63d14f3-8660-4ac1-ada2-f497a6919d23\",\"type\":\"ColumnDataSource\"},{\"attributes\":{\"source\":{\"id\":\"c63d14f3-8660-4ac1-ada2-f497a6919d23\",\"type\":\"ColumnDataSource\"}},\"id\":\"68196531-bbf1-4d26-abab-c6461ee20326\",\"type\":\"CDSView\"},{\"attributes\":{\"fill_alpha\":{\"value\":0.1},\"fill_color\":{\"value\":\"#1f77b4\"},\"height\":{\"value\":0.9},\"left\":{\"expr\":{\"id\":\"d6a7e632-ff95-4869-bb14-7513576de75b\",\"type\":\"Stack\"}},\"line_alpha\":{\"value\":0.1},\"line_color\":{\"value\":\"#1f77b4\"},\"right\":{\"expr\":{\"id\":\"5c1fd577-a648-48a6-80e9-87231a53f1b4\",\"type\":\"Stack\"}},\"y\":{\"field\":\"Cluster\"}},\"id\":\"d0d6ce08-dc5b-4472-abb5-19fe44d42a89\",\"type\":\"HBar\"},{\"attributes\":{\"source\":{\"id\":\"c63d14f3-8660-4ac1-ada2-f497a6919d23\",\"type\":\"ColumnDataSource\"}},\"id\":\"7fe9d858-c0b0-47bc-91b0-6f4451cdaf42\",\"type\":\"CDSView\"},{\"attributes\":{\"data_source\":{\"id\":\"c63d14f3-8660-4ac1-ada2-f497a6919d23\",\"type\":\"ColumnDataSource\"},\"glyph\":{\"id\":\"cea60b4a-f846-4af3-9e22-f8662bb06444\",\"type\":\"HBar\"},\"hover_glyph\":null,\"muted_glyph\":null,\"nonselection_glyph\":{\"id\":\"37b926b7-e8d8-4742-b78f-0f2e9b4f6ccf\",\"type\":\"HBar\"},\"selection_glyph\":null,\"view\":{\"id\":\"68196531-bbf1-4d26-abab-c6461ee20326\",\"type\":\"CDSView\"}},\"id\":\"42a225a3-744a-4fc5-8db2-c74df0592bc2\",\"type\":\"GlyphRenderer\"},{\"attributes\":{\"dimension\":1,\"plot\":{\"id\":\"5bd2f19f-21ba-4d13-a85e-746796ea409a\",\"subtype\":\"Figure\",\"type\":\"Plot\"},\"ticker\":{\"id\":\"e63f9ecd-574f-4d75-903a-7b2a225e6b3a\",\"type\":\"CategoricalTicker\"}},\"id\":\"6b173094-8e5d-450f-b589-ba2b1a161262\",\"type\":\"Grid\"},{\"attributes\":{\"grid_line_color\":{\"value\":null},\"plot\":{\"id\":\"5bd2f19f-21ba-4d13-a85e-746796ea409a\",\"subtype\":\"Figure\",\"type\":\"Plot\"},\"ticker\":{\"id\":\"1df68108-874e-46de-be81-a02a656eae5b\",\"type\":\"BasicTicker\"}},\"id\":\"05a4d307-da3d-4c34-91c1-a04c0c3bb006\",\"type\":\"Grid\"},{\"attributes\":{},\"id\":\"fa5a6807-791e-4bfa-b4d7-b683ee9b40c6\",\"type\":\"BasicTickFormatter\"},{\"attributes\":{\"callback\":null,\"factors\":[\"0\",\"1\",\"2\",\"3\",\"4\",\"5\",\"6\",\"7\",\"8\"],\"range_padding\":0.1},\"id\":\"81faf309-deb7-4c4d-8a60-6f930dc2bdf3\",\"type\":\"FactorRange\"},{\"attributes\":{},\"id\":\"1df68108-874e-46de-be81-a02a656eae5b\",\"type\":\"BasicTicker\"},{\"attributes\":{\"below\":[{\"id\":\"0ec55dd6-3773-4dce-b881-0443939509ca\",\"type\":\"LinearAxis\"}],\"left\":[{\"id\":\"31668196-a9e7-4cd0-a15b-249f1ede4688\",\"type\":\"CategoricalAxis\"}],\"outline_line_color\":{\"value\":null},\"plot_height\":500,\"plot_width\":900,\"renderers\":[{\"id\":\"0ec55dd6-3773-4dce-b881-0443939509ca\",\"type\":\"LinearAxis\"},{\"id\":\"05a4d307-da3d-4c34-91c1-a04c0c3bb006\",\"type\":\"Grid\"},{\"id\":\"31668196-a9e7-4cd0-a15b-249f1ede4688\",\"type\":\"CategoricalAxis\"},{\"id\":\"6b173094-8e5d-450f-b589-ba2b1a161262\",\"type\":\"Grid\"},{\"id\":\"9d3431f0-3d0c-4170-837a-8df65dd6b023\",\"type\":\"Legend\"},{\"id\":\"42a225a3-744a-4fc5-8db2-c74df0592bc2\",\"type\":\"GlyphRenderer\"},{\"id\":\"09fbc9cd-4728-40c3-878f-7de2b504360a\",\"type\":\"GlyphRenderer\"}],\"title\":{\"id\":\"20cf3059-cf2f-4ef3-a3a8-7ffa86ce3c4d\",\"type\":\"Title\"},\"toolbar\":{\"id\":\"86df1961-ebba-4996-b855-9e3ded21d7d3\",\"type\":\"Toolbar\"},\"toolbar_location\":null,\"x_range\":{\"id\":\"c96c2bc5-9686-4ed4-b157-5d824d847b98\",\"type\":\"DataRange1d\"},\"x_scale\":{\"id\":\"a426f229-c2d6-458d-b151-caf8edb8572b\",\"type\":\"LinearScale\"},\"y_range\":{\"id\":\"81faf309-deb7-4c4d-8a60-6f930dc2bdf3\",\"type\":\"FactorRange\"},\"y_scale\":{\"id\":\"123cdbe5-b6b0-4c7c-b8ad-1f318eaab736\",\"type\":\"CategoricalScale\"}},\"id\":\"5bd2f19f-21ba-4d13-a85e-746796ea409a\",\"subtype\":\"Figure\",\"type\":\"Plot\"},{\"attributes\":{},\"id\":\"e63f9ecd-574f-4d75-903a-7b2a225e6b3a\",\"type\":\"CategoricalTicker\"},{\"attributes\":{\"fill_color\":{\"value\":\"#3399ff\"},\"height\":{\"value\":0.9},\"left\":{\"expr\":{\"id\":\"d6a7e632-ff95-4869-bb14-7513576de75b\",\"type\":\"Stack\"}},\"line_color\":{\"value\":\"#3399ff\"},\"right\":{\"expr\":{\"id\":\"5c1fd577-a648-48a6-80e9-87231a53f1b4\",\"type\":\"Stack\"}},\"y\":{\"field\":\"Cluster\"}},\"id\":\"8a338d13-0e06-4da4-a810-925abc7fbf4d\",\"type\":\"HBar\"},{\"attributes\":{\"label\":{\"value\":\"Multiple Officers\"},\"renderers\":[{\"id\":\"42a225a3-744a-4fc5-8db2-c74df0592bc2\",\"type\":\"GlyphRenderer\"}]},\"id\":\"9a7f7eae-b426-4f39-9c1b-3f8b9d4884c0\",\"type\":\"LegendItem\"},{\"attributes\":{\"axis_label\":\"Clusters\",\"formatter\":{\"id\":\"e1743434-38fe-4fa2-8699-50bc65ab7883\",\"type\":\"CategoricalTickFormatter\"},\"minor_tick_line_color\":{\"value\":null},\"plot\":{\"id\":\"5bd2f19f-21ba-4d13-a85e-746796ea409a\",\"subtype\":\"Figure\",\"type\":\"Plot\"},\"ticker\":{\"id\":\"e63f9ecd-574f-4d75-903a-7b2a225e6b3a\",\"type\":\"CategoricalTicker\"}},\"id\":\"31668196-a9e7-4cd0-a15b-249f1ede4688\",\"type\":\"CategoricalAxis\"},{\"attributes\":{\"data_source\":{\"id\":\"c63d14f3-8660-4ac1-ada2-f497a6919d23\",\"type\":\"ColumnDataSource\"},\"glyph\":{\"id\":\"8a338d13-0e06-4da4-a810-925abc7fbf4d\",\"type\":\"HBar\"},\"hover_glyph\":null,\"muted_glyph\":null,\"nonselection_glyph\":{\"id\":\"d0d6ce08-dc5b-4472-abb5-19fe44d42a89\",\"type\":\"HBar\"},\"selection_glyph\":null,\"view\":{\"id\":\"7fe9d858-c0b0-47bc-91b0-6f4451cdaf42\",\"type\":\"CDSView\"}},\"id\":\"09fbc9cd-4728-40c3-878f-7de2b504360a\",\"type\":\"GlyphRenderer\"},{\"attributes\":{\"callback\":null,\"end\":200,\"start\":0},\"id\":\"c96c2bc5-9686-4ed4-b157-5d824d847b98\",\"type\":\"DataRange1d\"},{\"attributes\":{\"fill_color\":{\"value\":\"#ff0000\"},\"height\":{\"value\":0.9},\"left\":{\"expr\":{\"id\":\"19870816-ff14-43e8-9ccb-704ee50959d6\",\"type\":\"Stack\"}},\"line_color\":{\"value\":\"#ff0000\"},\"right\":{\"expr\":{\"id\":\"bec1e28e-8126-4fa6-a8f4-ee95479c08ec\",\"type\":\"Stack\"}},\"y\":{\"field\":\"Cluster\"}},\"id\":\"cea60b4a-f846-4af3-9e22-f8662bb06444\",\"type\":\"HBar\"},{\"attributes\":{},\"id\":\"e1743434-38fe-4fa2-8699-50bc65ab7883\",\"type\":\"CategoricalTickFormatter\"}],\"root_ids\":[\"5bd2f19f-21ba-4d13-a85e-746796ea409a\"]},\"title\":\"Bokeh Application\",\"version\":\"0.12.13\"}};\n",
       "  var render_items = [{\"docid\":\"6091783d-5a6d-49ed-b15d-058128f2946e\",\"elementid\":\"19b32f7c-aa0d-4e8b-8635-a7e07f99b14c\",\"modelid\":\"5bd2f19f-21ba-4d13-a85e-746796ea409a\"}];\n",
       "  root.Bokeh.embed.embed_items_notebook(docs_json, render_items);\n",
       "\n",
       "  }\n",
       "  if (root.Bokeh !== undefined) {\n",
       "    embed_document(root);\n",
       "  } else {\n",
       "    var attempts = 0;\n",
       "    var timer = setInterval(function(root) {\n",
       "      if (root.Bokeh !== undefined) {\n",
       "        embed_document(root);\n",
       "        clearInterval(timer);\n",
       "      }\n",
       "      attempts++;\n",
       "      if (attempts > 100) {\n",
       "        console.log(\"Bokeh: ERROR: Unable to run BokehJS code because BokehJS library is missing\")\n",
       "        clearInterval(timer);\n",
       "      }\n",
       "    }, 10, root)\n",
       "  }\n",
       "})(window);"
      ],
      "application/vnd.bokehjs_exec.v0+json": ""
     },
     "metadata": {
      "application/vnd.bokehjs_exec.v0+json": {
       "id": "5bd2f19f-21ba-4d13-a85e-746796ea409a"
      }
     },
     "output_type": "display_data"
    }
   ],
   "source": [
    "#stacked horizontal bar graph showing \"Multiple Officers\" in each Cluster\n",
    "\n",
    "data= {'Cluster': list(multdf.index), 'Multiple Officers' : multdf['Multiple Officers'].values, 'One Officer': multdf['One Officer'].values}\n",
    "\n",
    "source = ColumnDataSource(data=data)\n",
    "color = ['#ff0000', '#3399ff']\n",
    "\n",
    "g = figure(y_range= data['Cluster'], plot_height=500,plot_width=900, title=\"Single or Multiple Officers by Cluster\",x_axis_label='Number of Instances', y_axis_label= 'Clusters', toolbar_location=None, tools=\"\")\n",
    "\n",
    "\n",
    "g.hbar_stack(multdf.columns, y= 'Cluster', height=0.9, color=color, source=source,\n",
    "             legend=[value(x) for x in multdf.columns])\n",
    "\n",
    "g.x_range.start = 0\n",
    "g.x_range.end = 200\n",
    "g.y_range.range_padding = 0.1\n",
    "g.xgrid.grid_line_color = None\n",
    "g.axis.minor_tick_line_color = None\n",
    "g.outline_line_color = None\n",
    "g.legend.location = \"top_right\"\n",
    "g.legend.orientation = \"vertical\"\n",
    "\n",
    "show(g)"
   ]
  }
 ],
 "metadata": {
  "kernelspec": {
   "display_name": "Python 3",
   "language": "python",
   "name": "python3"
  },
  "language_info": {
   "codemirror_mode": {
    "name": "ipython",
    "version": 3
   },
   "file_extension": ".py",
   "mimetype": "text/x-python",
   "name": "python",
   "nbconvert_exporter": "python",
   "pygments_lexer": "ipython3",
   "version": "3.6.3"
  }
 },
 "nbformat": 4,
 "nbformat_minor": 2
}
