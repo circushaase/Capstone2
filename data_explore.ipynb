{
 "cells": [
  {
   "cell_type": "code",
   "execution_count": 1,
   "metadata": {},
   "outputs": [
    {
     "data": {
      "text/html": [
       "\n",
       "    <div class=\"bk-root\">\n",
       "        <a href=\"https://bokeh.pydata.org\" target=\"_blank\" class=\"bk-logo bk-logo-small bk-logo-notebook\"></a>\n",
       "        <span id=\"f3f657aa-00c3-4483-8e4a-6fb9bcb52197\">Loading BokehJS ...</span>\n",
       "    </div>"
      ]
     },
     "metadata": {},
     "output_type": "display_data"
    },
    {
     "data": {
      "application/javascript": [
       "\n",
       "(function(root) {\n",
       "  function now() {\n",
       "    return new Date();\n",
       "  }\n",
       "\n",
       "  var force = true;\n",
       "\n",
       "  if (typeof (root._bokeh_onload_callbacks) === \"undefined\" || force === true) {\n",
       "    root._bokeh_onload_callbacks = [];\n",
       "    root._bokeh_is_loading = undefined;\n",
       "  }\n",
       "\n",
       "  var JS_MIME_TYPE = 'application/javascript';\n",
       "  var HTML_MIME_TYPE = 'text/html';\n",
       "  var EXEC_MIME_TYPE = 'application/vnd.bokehjs_exec.v0+json';\n",
       "  var CLASS_NAME = 'output_bokeh rendered_html';\n",
       "\n",
       "  /**\n",
       "   * Render data to the DOM node\n",
       "   */\n",
       "  function render(props, node) {\n",
       "    var script = document.createElement(\"script\");\n",
       "    node.appendChild(script);\n",
       "  }\n",
       "\n",
       "  /**\n",
       "   * Handle when an output is cleared or removed\n",
       "   */\n",
       "  function handleClearOutput(event, handle) {\n",
       "    var cell = handle.cell;\n",
       "\n",
       "    var id = cell.output_area._bokeh_element_id;\n",
       "    var server_id = cell.output_area._bokeh_server_id;\n",
       "    // Clean up Bokeh references\n",
       "    if (id !== undefined) {\n",
       "      Bokeh.index[id].model.document.clear();\n",
       "      delete Bokeh.index[id];\n",
       "    }\n",
       "\n",
       "    if (server_id !== undefined) {\n",
       "      // Clean up Bokeh references\n",
       "      var cmd = \"from bokeh.io.state import curstate; print(curstate().uuid_to_server['\" + server_id + \"'].get_sessions()[0].document.roots[0]._id)\";\n",
       "      cell.notebook.kernel.execute(cmd, {\n",
       "        iopub: {\n",
       "          output: function(msg) {\n",
       "            var element_id = msg.content.text.trim();\n",
       "            Bokeh.index[element_id].model.document.clear();\n",
       "            delete Bokeh.index[element_id];\n",
       "          }\n",
       "        }\n",
       "      });\n",
       "      // Destroy server and session\n",
       "      var cmd = \"import bokeh.io.notebook as ion; ion.destroy_server('\" + server_id + \"')\";\n",
       "      cell.notebook.kernel.execute(cmd);\n",
       "    }\n",
       "  }\n",
       "\n",
       "  /**\n",
       "   * Handle when a new output is added\n",
       "   */\n",
       "  function handleAddOutput(event, handle) {\n",
       "    var output_area = handle.output_area;\n",
       "    var output = handle.output;\n",
       "\n",
       "    // limit handleAddOutput to display_data with EXEC_MIME_TYPE content only\n",
       "    if ((output.output_type != \"display_data\") || (!output.data.hasOwnProperty(EXEC_MIME_TYPE))) {\n",
       "      return\n",
       "    }\n",
       "\n",
       "    var toinsert = output_area.element.find(\".\" + CLASS_NAME.split(' ')[0]);\n",
       "\n",
       "    if (output.metadata[EXEC_MIME_TYPE][\"id\"] !== undefined) {\n",
       "      toinsert[0].firstChild.textContent = output.data[JS_MIME_TYPE];\n",
       "      // store reference to embed id on output_area\n",
       "      output_area._bokeh_element_id = output.metadata[EXEC_MIME_TYPE][\"id\"];\n",
       "    }\n",
       "    if (output.metadata[EXEC_MIME_TYPE][\"server_id\"] !== undefined) {\n",
       "      var bk_div = document.createElement(\"div\");\n",
       "      bk_div.innerHTML = output.data[HTML_MIME_TYPE];\n",
       "      var script_attrs = bk_div.children[0].attributes;\n",
       "      for (var i = 0; i < script_attrs.length; i++) {\n",
       "        toinsert[0].firstChild.setAttribute(script_attrs[i].name, script_attrs[i].value);\n",
       "      }\n",
       "      // store reference to server id on output_area\n",
       "      output_area._bokeh_server_id = output.metadata[EXEC_MIME_TYPE][\"server_id\"];\n",
       "    }\n",
       "  }\n",
       "\n",
       "  function register_renderer(events, OutputArea) {\n",
       "\n",
       "    function append_mime(data, metadata, element) {\n",
       "      // create a DOM node to render to\n",
       "      var toinsert = this.create_output_subarea(\n",
       "        metadata,\n",
       "        CLASS_NAME,\n",
       "        EXEC_MIME_TYPE\n",
       "      );\n",
       "      this.keyboard_manager.register_events(toinsert);\n",
       "      // Render to node\n",
       "      var props = {data: data, metadata: metadata[EXEC_MIME_TYPE]};\n",
       "      render(props, toinsert[0]);\n",
       "      element.append(toinsert);\n",
       "      return toinsert\n",
       "    }\n",
       "\n",
       "    /* Handle when an output is cleared or removed */\n",
       "    events.on('clear_output.CodeCell', handleClearOutput);\n",
       "    events.on('delete.Cell', handleClearOutput);\n",
       "\n",
       "    /* Handle when a new output is added */\n",
       "    events.on('output_added.OutputArea', handleAddOutput);\n",
       "\n",
       "    /**\n",
       "     * Register the mime type and append_mime function with output_area\n",
       "     */\n",
       "    OutputArea.prototype.register_mime_type(EXEC_MIME_TYPE, append_mime, {\n",
       "      /* Is output safe? */\n",
       "      safe: true,\n",
       "      /* Index of renderer in `output_area.display_order` */\n",
       "      index: 0\n",
       "    });\n",
       "  }\n",
       "\n",
       "  // register the mime type if in Jupyter Notebook environment and previously unregistered\n",
       "  if (root.Jupyter !== undefined) {\n",
       "    var events = require('base/js/events');\n",
       "    var OutputArea = require('notebook/js/outputarea').OutputArea;\n",
       "\n",
       "    if (OutputArea.prototype.mime_types().indexOf(EXEC_MIME_TYPE) == -1) {\n",
       "      register_renderer(events, OutputArea);\n",
       "    }\n",
       "  }\n",
       "\n",
       "  \n",
       "  if (typeof (root._bokeh_timeout) === \"undefined\" || force === true) {\n",
       "    root._bokeh_timeout = Date.now() + 5000;\n",
       "    root._bokeh_failed_load = false;\n",
       "  }\n",
       "\n",
       "  var NB_LOAD_WARNING = {'data': {'text/html':\n",
       "     \"<div style='background-color: #fdd'>\\n\"+\n",
       "     \"<p>\\n\"+\n",
       "     \"BokehJS does not appear to have successfully loaded. If loading BokehJS from CDN, this \\n\"+\n",
       "     \"may be due to a slow or bad network connection. Possible fixes:\\n\"+\n",
       "     \"</p>\\n\"+\n",
       "     \"<ul>\\n\"+\n",
       "     \"<li>re-rerun `output_notebook()` to attempt to load from CDN again, or</li>\\n\"+\n",
       "     \"<li>use INLINE resources instead, as so:</li>\\n\"+\n",
       "     \"</ul>\\n\"+\n",
       "     \"<code>\\n\"+\n",
       "     \"from bokeh.resources import INLINE\\n\"+\n",
       "     \"output_notebook(resources=INLINE)\\n\"+\n",
       "     \"</code>\\n\"+\n",
       "     \"</div>\"}};\n",
       "\n",
       "  function display_loaded() {\n",
       "    var el = document.getElementById(\"f3f657aa-00c3-4483-8e4a-6fb9bcb52197\");\n",
       "    if (el != null) {\n",
       "      el.textContent = \"BokehJS is loading...\";\n",
       "    }\n",
       "    if (root.Bokeh !== undefined) {\n",
       "      if (el != null) {\n",
       "        el.textContent = \"BokehJS \" + root.Bokeh.version + \" successfully loaded.\";\n",
       "      }\n",
       "    } else if (Date.now() < root._bokeh_timeout) {\n",
       "      setTimeout(display_loaded, 100)\n",
       "    }\n",
       "  }\n",
       "\n",
       "\n",
       "  function run_callbacks() {\n",
       "    try {\n",
       "      root._bokeh_onload_callbacks.forEach(function(callback) { callback() });\n",
       "    }\n",
       "    finally {\n",
       "      delete root._bokeh_onload_callbacks\n",
       "    }\n",
       "    console.info(\"Bokeh: all callbacks have finished\");\n",
       "  }\n",
       "\n",
       "  function load_libs(js_urls, callback) {\n",
       "    root._bokeh_onload_callbacks.push(callback);\n",
       "    if (root._bokeh_is_loading > 0) {\n",
       "      console.log(\"Bokeh: BokehJS is being loaded, scheduling callback at\", now());\n",
       "      return null;\n",
       "    }\n",
       "    if (js_urls == null || js_urls.length === 0) {\n",
       "      run_callbacks();\n",
       "      return null;\n",
       "    }\n",
       "    console.log(\"Bokeh: BokehJS not loaded, scheduling load and callback at\", now());\n",
       "    root._bokeh_is_loading = js_urls.length;\n",
       "    for (var i = 0; i < js_urls.length; i++) {\n",
       "      var url = js_urls[i];\n",
       "      var s = document.createElement('script');\n",
       "      s.src = url;\n",
       "      s.async = false;\n",
       "      s.onreadystatechange = s.onload = function() {\n",
       "        root._bokeh_is_loading--;\n",
       "        if (root._bokeh_is_loading === 0) {\n",
       "          console.log(\"Bokeh: all BokehJS libraries loaded\");\n",
       "          run_callbacks()\n",
       "        }\n",
       "      };\n",
       "      s.onerror = function() {\n",
       "        console.warn(\"failed to load library \" + url);\n",
       "      };\n",
       "      console.log(\"Bokeh: injecting script tag for BokehJS library: \", url);\n",
       "      document.getElementsByTagName(\"head\")[0].appendChild(s);\n",
       "    }\n",
       "  };var element = document.getElementById(\"f3f657aa-00c3-4483-8e4a-6fb9bcb52197\");\n",
       "  if (element == null) {\n",
       "    console.log(\"Bokeh: ERROR: autoload.js configured with elementid 'f3f657aa-00c3-4483-8e4a-6fb9bcb52197' but no matching script tag was found. \")\n",
       "    return false;\n",
       "  }\n",
       "\n",
       "  var js_urls = [\"https://cdn.pydata.org/bokeh/release/bokeh-0.12.13.min.js\", \"https://cdn.pydata.org/bokeh/release/bokeh-widgets-0.12.13.min.js\", \"https://cdn.pydata.org/bokeh/release/bokeh-tables-0.12.13.min.js\", \"https://cdn.pydata.org/bokeh/release/bokeh-gl-0.12.13.min.js\"];\n",
       "\n",
       "  var inline_js = [\n",
       "    function(Bokeh) {\n",
       "      Bokeh.set_log_level(\"info\");\n",
       "    },\n",
       "    \n",
       "    function(Bokeh) {\n",
       "      \n",
       "    },\n",
       "    function(Bokeh) {\n",
       "      console.log(\"Bokeh: injecting CSS: https://cdn.pydata.org/bokeh/release/bokeh-0.12.13.min.css\");\n",
       "      Bokeh.embed.inject_css(\"https://cdn.pydata.org/bokeh/release/bokeh-0.12.13.min.css\");\n",
       "      console.log(\"Bokeh: injecting CSS: https://cdn.pydata.org/bokeh/release/bokeh-widgets-0.12.13.min.css\");\n",
       "      Bokeh.embed.inject_css(\"https://cdn.pydata.org/bokeh/release/bokeh-widgets-0.12.13.min.css\");\n",
       "      console.log(\"Bokeh: injecting CSS: https://cdn.pydata.org/bokeh/release/bokeh-tables-0.12.13.min.css\");\n",
       "      Bokeh.embed.inject_css(\"https://cdn.pydata.org/bokeh/release/bokeh-tables-0.12.13.min.css\");\n",
       "    }\n",
       "  ];\n",
       "\n",
       "  function run_inline_js() {\n",
       "    \n",
       "    if ((root.Bokeh !== undefined) || (force === true)) {\n",
       "      for (var i = 0; i < inline_js.length; i++) {\n",
       "        inline_js[i].call(root, root.Bokeh);\n",
       "      }if (force === true) {\n",
       "        display_loaded();\n",
       "      }} else if (Date.now() < root._bokeh_timeout) {\n",
       "      setTimeout(run_inline_js, 100);\n",
       "    } else if (!root._bokeh_failed_load) {\n",
       "      console.log(\"Bokeh: BokehJS failed to load within specified timeout.\");\n",
       "      root._bokeh_failed_load = true;\n",
       "    } else if (force !== true) {\n",
       "      var cell = $(document.getElementById(\"f3f657aa-00c3-4483-8e4a-6fb9bcb52197\")).parents('.cell').data().cell;\n",
       "      cell.output_area.append_execute_result(NB_LOAD_WARNING)\n",
       "    }\n",
       "\n",
       "  }\n",
       "\n",
       "  if (root._bokeh_is_loading === 0) {\n",
       "    console.log(\"Bokeh: BokehJS loaded, going straight to plotting\");\n",
       "    run_inline_js();\n",
       "  } else {\n",
       "    load_libs(js_urls, function() {\n",
       "      console.log(\"Bokeh: BokehJS plotting callback run at\", now());\n",
       "      run_inline_js();\n",
       "    });\n",
       "  }\n",
       "}(window));"
      ],
      "application/vnd.bokehjs_load.v0+json": "\n(function(root) {\n  function now() {\n    return new Date();\n  }\n\n  var force = true;\n\n  if (typeof (root._bokeh_onload_callbacks) === \"undefined\" || force === true) {\n    root._bokeh_onload_callbacks = [];\n    root._bokeh_is_loading = undefined;\n  }\n\n  \n\n  \n  if (typeof (root._bokeh_timeout) === \"undefined\" || force === true) {\n    root._bokeh_timeout = Date.now() + 5000;\n    root._bokeh_failed_load = false;\n  }\n\n  var NB_LOAD_WARNING = {'data': {'text/html':\n     \"<div style='background-color: #fdd'>\\n\"+\n     \"<p>\\n\"+\n     \"BokehJS does not appear to have successfully loaded. If loading BokehJS from CDN, this \\n\"+\n     \"may be due to a slow or bad network connection. Possible fixes:\\n\"+\n     \"</p>\\n\"+\n     \"<ul>\\n\"+\n     \"<li>re-rerun `output_notebook()` to attempt to load from CDN again, or</li>\\n\"+\n     \"<li>use INLINE resources instead, as so:</li>\\n\"+\n     \"</ul>\\n\"+\n     \"<code>\\n\"+\n     \"from bokeh.resources import INLINE\\n\"+\n     \"output_notebook(resources=INLINE)\\n\"+\n     \"</code>\\n\"+\n     \"</div>\"}};\n\n  function display_loaded() {\n    var el = document.getElementById(\"f3f657aa-00c3-4483-8e4a-6fb9bcb52197\");\n    if (el != null) {\n      el.textContent = \"BokehJS is loading...\";\n    }\n    if (root.Bokeh !== undefined) {\n      if (el != null) {\n        el.textContent = \"BokehJS \" + root.Bokeh.version + \" successfully loaded.\";\n      }\n    } else if (Date.now() < root._bokeh_timeout) {\n      setTimeout(display_loaded, 100)\n    }\n  }\n\n\n  function run_callbacks() {\n    try {\n      root._bokeh_onload_callbacks.forEach(function(callback) { callback() });\n    }\n    finally {\n      delete root._bokeh_onload_callbacks\n    }\n    console.info(\"Bokeh: all callbacks have finished\");\n  }\n\n  function load_libs(js_urls, callback) {\n    root._bokeh_onload_callbacks.push(callback);\n    if (root._bokeh_is_loading > 0) {\n      console.log(\"Bokeh: BokehJS is being loaded, scheduling callback at\", now());\n      return null;\n    }\n    if (js_urls == null || js_urls.length === 0) {\n      run_callbacks();\n      return null;\n    }\n    console.log(\"Bokeh: BokehJS not loaded, scheduling load and callback at\", now());\n    root._bokeh_is_loading = js_urls.length;\n    for (var i = 0; i < js_urls.length; i++) {\n      var url = js_urls[i];\n      var s = document.createElement('script');\n      s.src = url;\n      s.async = false;\n      s.onreadystatechange = s.onload = function() {\n        root._bokeh_is_loading--;\n        if (root._bokeh_is_loading === 0) {\n          console.log(\"Bokeh: all BokehJS libraries loaded\");\n          run_callbacks()\n        }\n      };\n      s.onerror = function() {\n        console.warn(\"failed to load library \" + url);\n      };\n      console.log(\"Bokeh: injecting script tag for BokehJS library: \", url);\n      document.getElementsByTagName(\"head\")[0].appendChild(s);\n    }\n  };var element = document.getElementById(\"f3f657aa-00c3-4483-8e4a-6fb9bcb52197\");\n  if (element == null) {\n    console.log(\"Bokeh: ERROR: autoload.js configured with elementid 'f3f657aa-00c3-4483-8e4a-6fb9bcb52197' but no matching script tag was found. \")\n    return false;\n  }\n\n  var js_urls = [\"https://cdn.pydata.org/bokeh/release/bokeh-0.12.13.min.js\", \"https://cdn.pydata.org/bokeh/release/bokeh-widgets-0.12.13.min.js\", \"https://cdn.pydata.org/bokeh/release/bokeh-tables-0.12.13.min.js\", \"https://cdn.pydata.org/bokeh/release/bokeh-gl-0.12.13.min.js\"];\n\n  var inline_js = [\n    function(Bokeh) {\n      Bokeh.set_log_level(\"info\");\n    },\n    \n    function(Bokeh) {\n      \n    },\n    function(Bokeh) {\n      console.log(\"Bokeh: injecting CSS: https://cdn.pydata.org/bokeh/release/bokeh-0.12.13.min.css\");\n      Bokeh.embed.inject_css(\"https://cdn.pydata.org/bokeh/release/bokeh-0.12.13.min.css\");\n      console.log(\"Bokeh: injecting CSS: https://cdn.pydata.org/bokeh/release/bokeh-widgets-0.12.13.min.css\");\n      Bokeh.embed.inject_css(\"https://cdn.pydata.org/bokeh/release/bokeh-widgets-0.12.13.min.css\");\n      console.log(\"Bokeh: injecting CSS: https://cdn.pydata.org/bokeh/release/bokeh-tables-0.12.13.min.css\");\n      Bokeh.embed.inject_css(\"https://cdn.pydata.org/bokeh/release/bokeh-tables-0.12.13.min.css\");\n    }\n  ];\n\n  function run_inline_js() {\n    \n    if ((root.Bokeh !== undefined) || (force === true)) {\n      for (var i = 0; i < inline_js.length; i++) {\n        inline_js[i].call(root, root.Bokeh);\n      }if (force === true) {\n        display_loaded();\n      }} else if (Date.now() < root._bokeh_timeout) {\n      setTimeout(run_inline_js, 100);\n    } else if (!root._bokeh_failed_load) {\n      console.log(\"Bokeh: BokehJS failed to load within specified timeout.\");\n      root._bokeh_failed_load = true;\n    } else if (force !== true) {\n      var cell = $(document.getElementById(\"f3f657aa-00c3-4483-8e4a-6fb9bcb52197\")).parents('.cell').data().cell;\n      cell.output_area.append_execute_result(NB_LOAD_WARNING)\n    }\n\n  }\n\n  if (root._bokeh_is_loading === 0) {\n    console.log(\"Bokeh: BokehJS loaded, going straight to plotting\");\n    run_inline_js();\n  } else {\n    load_libs(js_urls, function() {\n      console.log(\"Bokeh: BokehJS plotting callback run at\", now());\n      run_inline_js();\n    });\n  }\n}(window));"
     },
     "metadata": {},
     "output_type": "display_data"
    }
   ],
   "source": [
    "import pandas as pd\n",
    "import numpy as np\n",
    "#import matplotlib.pyplot as plt\n",
    "#%pylab inline\n",
    "#import seaborn as sns\n",
    "from bokeh.core.properties import value\n",
    "from bokeh.io import show, output_notebook\n",
    "from bokeh.plotting import *\n",
    "from bokeh.models import ColumnDataSource, FactorRange\n",
    "from bokeh.palettes import Spectral6, Spectral8, Category20\n",
    "from bokeh.transform import factor_cmap\n",
    "\n",
    "output_notebook()\n",
    "\n",
    "cust = pd.read_csv('custodial-deaths.csv')\n",
    "shoot = pd.read_csv('officer_shootings.csv')"
   ]
  },
  {
   "cell_type": "code",
   "execution_count": 2,
   "metadata": {},
   "outputs": [],
   "source": [
    "shoot['state'] = shoot['state'].ffill()"
   ]
  },
  {
   "cell_type": "code",
   "execution_count": 3,
   "metadata": {},
   "outputs": [],
   "source": [
    "shoot = shoot[shoot.state == 'TX']"
   ]
  },
  {
   "cell_type": "code",
   "execution_count": 4,
   "metadata": {},
   "outputs": [
    {
     "data": {
      "text/plain": [
       "440"
      ]
     },
     "execution_count": 4,
     "metadata": {},
     "output_type": "execute_result"
    }
   ],
   "source": [
    "len(cust['Department Name'].value_counts())"
   ]
  },
  {
   "cell_type": "code",
   "execution_count": 5,
   "metadata": {
    "scrolled": true
   },
   "outputs": [],
   "source": [
    "deathtype= list(cust['Manner Death'].unique())"
   ]
  },
  {
   "cell_type": "code",
   "execution_count": 6,
   "metadata": {},
   "outputs": [],
   "source": [
    "eth = list(cust['Ethnicity'].unique())"
   ]
  },
  {
   "cell_type": "code",
   "execution_count": 7,
   "metadata": {},
   "outputs": [
    {
     "data": {
      "text/plain": [
       "'\\ncreate dictionary and use to designate number values to each \"Ethnicity\"\\nethdict = {\\'Black or African American\\':1,\\'Hispanic or Latino\\':2, \\'Anglo or White\\': 3, \\'Middle East\\':4, \\'Asian\\':5, \\'Native Hawaiian/Pacific Islander\\':6, \\'American Indian/Alaska Native\\':7, \\'Other/Don\\'t Know\\':8}\\ncust[\\'race\\'] = [ ethdict[x] for x in cust[\\'Ethnicity\\'] ]\\n'"
      ]
     },
     "execution_count": 7,
     "metadata": {},
     "output_type": "execute_result"
    }
   ],
   "source": [
    "'''\n",
    "create dictionary and use to designate number values to each \"Ethnicity\"\n",
    "ethdict = {'Black or African American':1,'Hispanic or Latino':2, 'Anglo or White': 3, 'Middle East':4, 'Asian':5, 'Native Hawaiian/Pacific Islander':6, 'American Indian/Alaska Native':7, 'Other/Don\\'t Know':8}\n",
    "cust['race'] = [ ethdict[x] for x in cust['Ethnicity'] ]\n",
    "'''"
   ]
  },
  {
   "cell_type": "code",
   "execution_count": 8,
   "metadata": {},
   "outputs": [
    {
     "data": {
      "text/plain": [
       "<matplotlib.axes._subplots.AxesSubplot at 0x18613a19dd8>"
      ]
     },
     "execution_count": 8,
     "metadata": {},
     "output_type": "execute_result"
    }
   ],
   "source": [
    "cust['Manner Death'].value_counts().plot(kind ='bar',figsize=(10,8), title = 'Manner of Death in Custody')"
   ]
  },
  {
   "cell_type": "code",
   "execution_count": 9,
   "metadata": {},
   "outputs": [
    {
     "name": "stderr",
     "output_type": "stream",
     "text": [
      "C:\\Users\\Lara\\Miniconda3\\lib\\site-packages\\bokeh\\models\\mappers.py:82: UserWarning: Palette length does not match number of factors. ['Homicide by Other', 'Accidental injury caused by others'] will be assigned to `nan_color` gray\n",
      "  warnings.warn(\"Palette length does not match number of factors. %s will be assigned to `nan_color` %s\" % (extra_factors, self.nan_color))\n"
     ]
    },
    {
     "data": {
      "text/html": [
       "\n",
       "<div class=\"bk-root\">\n",
       "    <div class=\"bk-plotdiv\" id=\"29e708ba-5941-4334-92eb-dbca4d7cec3b\"></div>\n",
       "</div>"
      ]
     },
     "metadata": {},
     "output_type": "display_data"
    },
    {
     "data": {
      "application/javascript": [
       "(function(root) {\n",
       "  function embed_document(root) {\n",
       "    \n",
       "  var docs_json = {\"8dbcf2ce-74fe-437e-bf48-d874119ce4c6\":{\"roots\":{\"references\":[{\"attributes\":{\"plot\":null,\"text\":\"Manner of Death in Custody\"},\"id\":\"221e520e-e18a-437d-ab36-432d9cae2d96\",\"type\":\"Title\"},{\"attributes\":{},\"id\":\"6ec34ae1-9998-49b3-bf3b-900fc3ce12ed\",\"type\":\"CategoricalTickFormatter\"},{\"attributes\":{\"factors\":[\"Natural Causes/Illness\",\"Other\",\"Accidental injury to self\",\"Homicide by Law Enforcement/Correctional Staff\",\"Suicide\",\"Alcohol/Drug Intoxication\",\"Homicide by Other\",\"Accidental injury caused by others\"],\"palette\":[\"#3288bd\",\"#66c2a5\",\"#abdda4\",\"#e6f598\",\"#fee08b\",\"#fdae61\",\"#f46d43\",\"#d53e4f\"]},\"id\":\"3aa2d204-16e7-4e59-af25-309e8f59233d\",\"type\":\"CategoricalColorMapper\"},{\"attributes\":{\"active_drag\":\"auto\",\"active_inspect\":\"auto\",\"active_scroll\":\"auto\",\"active_tap\":\"auto\"},\"id\":\"36524171-b7e3-4f47-bb75-391949c8ae58\",\"type\":\"Toolbar\"},{\"attributes\":{\"items\":[{\"id\":\"3e4b279b-5d0e-4dfd-a39e-bb3940599ba6\",\"type\":\"LegendItem\"}],\"plot\":{\"id\":\"18e9d69d-2a3b-44ae-8344-a99f9fad0180\",\"subtype\":\"Figure\",\"type\":\"Plot\"}},\"id\":\"ee1f4261-2ed4-4d62-9617-7bdc2f2054b4\",\"type\":\"Legend\"},{\"attributes\":{\"callback\":null,\"end\":6000,\"start\":0},\"id\":\"32ea3d5b-7e68-4e8c-9491-89e5158e27a5\",\"type\":\"DataRange1d\"},{\"attributes\":{\"label\":{\"field\":\"deathtype\"},\"renderers\":[{\"id\":\"0f0280e2-384d-4582-a5cb-5eba18ce0fee\",\"type\":\"GlyphRenderer\"}]},\"id\":\"3e4b279b-5d0e-4dfd-a39e-bb3940599ba6\",\"type\":\"LegendItem\"},{\"attributes\":{},\"id\":\"d7b2289c-c82b-4079-baf5-d60bb329ab78\",\"type\":\"LinearScale\"},{\"attributes\":{\"callback\":null,\"factors\":[\"Natural Causes/Illness\",\"Other\",\"Accidental injury to self\",\"Homicide by Law Enforcement/Correctional Staff\",\"Suicide\",\"Alcohol/Drug Intoxication\",\"Homicide by Other\",\"Accidental injury caused by others\"]},\"id\":\"fb112c3c-07a2-4814-b644-1f30e01c3e8b\",\"type\":\"FactorRange\"},{\"attributes\":{},\"id\":\"73ca6c5e-d908-49de-87ed-ec0568cc54ea\",\"type\":\"CategoricalScale\"},{\"attributes\":{\"dimension\":1,\"plot\":{\"id\":\"18e9d69d-2a3b-44ae-8344-a99f9fad0180\",\"subtype\":\"Figure\",\"type\":\"Plot\"},\"ticker\":{\"id\":\"a42cc2b0-673c-423c-97ce-cf0019e0516d\",\"type\":\"CategoricalTicker\"}},\"id\":\"a9589e34-d06f-41e0-b564-bbef03846a58\",\"type\":\"Grid\"},{\"attributes\":{\"formatter\":{\"id\":\"a412c2a4-38f6-4fa1-97a5-d70f133129fc\",\"type\":\"BasicTickFormatter\"},\"plot\":{\"id\":\"18e9d69d-2a3b-44ae-8344-a99f9fad0180\",\"subtype\":\"Figure\",\"type\":\"Plot\"},\"ticker\":{\"id\":\"839e7af2-1f9c-4b83-86bd-edeb18079770\",\"type\":\"BasicTicker\"}},\"id\":\"ffa9d542-65d1-427a-b81a-1087f84fc631\",\"type\":\"LinearAxis\"},{\"attributes\":{},\"id\":\"839e7af2-1f9c-4b83-86bd-edeb18079770\",\"type\":\"BasicTicker\"},{\"attributes\":{},\"id\":\"a42cc2b0-673c-423c-97ce-cf0019e0516d\",\"type\":\"CategoricalTicker\"},{\"attributes\":{\"grid_line_color\":{\"value\":null},\"plot\":{\"id\":\"18e9d69d-2a3b-44ae-8344-a99f9fad0180\",\"subtype\":\"Figure\",\"type\":\"Plot\"},\"ticker\":{\"id\":\"839e7af2-1f9c-4b83-86bd-edeb18079770\",\"type\":\"BasicTicker\"}},\"id\":\"833e167f-0aa0-47e0-a76e-7faa36b4d86d\",\"type\":\"Grid\"},{\"attributes\":{\"formatter\":{\"id\":\"6ec34ae1-9998-49b3-bf3b-900fc3ce12ed\",\"type\":\"CategoricalTickFormatter\"},\"plot\":{\"id\":\"18e9d69d-2a3b-44ae-8344-a99f9fad0180\",\"subtype\":\"Figure\",\"type\":\"Plot\"},\"ticker\":{\"id\":\"a42cc2b0-673c-423c-97ce-cf0019e0516d\",\"type\":\"CategoricalTicker\"}},\"id\":\"24b4951f-d94d-4b7c-b401-03184e3b13df\",\"type\":\"CategoricalAxis\"},{\"attributes\":{\"source\":{\"id\":\"1bcd3c42-268c-4b8e-a1af-1b73597e8994\",\"type\":\"ColumnDataSource\"}},\"id\":\"10429ac2-3c31-4df6-b67c-0c7787b88b24\",\"type\":\"CDSView\"},{\"attributes\":{\"fill_color\":{\"field\":\"deathtype\",\"transform\":{\"id\":\"3aa2d204-16e7-4e59-af25-309e8f59233d\",\"type\":\"CategoricalColorMapper\"}},\"height\":{\"value\":0.5},\"line_color\":{\"value\":\"white\"},\"right\":{\"field\":\"counts\"},\"y\":{\"field\":\"deathtype\"}},\"id\":\"1bb1a274-02d3-464b-bfff-cdfdab7c39c2\",\"type\":\"HBar\"},{\"attributes\":{\"callback\":null,\"column_names\":[\"deathtype\",\"counts\"],\"data\":{\"counts\":[5266,884,844,284,203,155,72,21],\"deathtype\":[\"Natural Causes/Illness\",\"Other\",\"Accidental injury to self\",\"Homicide by Law Enforcement/Correctional Staff\",\"Suicide\",\"Alcohol/Drug Intoxication\",\"Homicide by Other\",\"Accidental injury caused by others\"]}},\"id\":\"1bcd3c42-268c-4b8e-a1af-1b73597e8994\",\"type\":\"ColumnDataSource\"},{\"attributes\":{\"fill_alpha\":{\"value\":0.1},\"fill_color\":{\"value\":\"#1f77b4\"},\"height\":{\"value\":0.5},\"line_alpha\":{\"value\":0.1},\"line_color\":{\"value\":\"#1f77b4\"},\"right\":{\"field\":\"counts\"},\"y\":{\"field\":\"deathtype\"}},\"id\":\"a02a8fe1-712e-41fe-9f49-b6b8dc3299b8\",\"type\":\"HBar\"},{\"attributes\":{\"data_source\":{\"id\":\"1bcd3c42-268c-4b8e-a1af-1b73597e8994\",\"type\":\"ColumnDataSource\"},\"glyph\":{\"id\":\"1bb1a274-02d3-464b-bfff-cdfdab7c39c2\",\"type\":\"HBar\"},\"hover_glyph\":null,\"muted_glyph\":null,\"nonselection_glyph\":{\"id\":\"a02a8fe1-712e-41fe-9f49-b6b8dc3299b8\",\"type\":\"HBar\"},\"selection_glyph\":null,\"view\":{\"id\":\"10429ac2-3c31-4df6-b67c-0c7787b88b24\",\"type\":\"CDSView\"}},\"id\":\"0f0280e2-384d-4582-a5cb-5eba18ce0fee\",\"type\":\"GlyphRenderer\"},{\"attributes\":{},\"id\":\"a412c2a4-38f6-4fa1-97a5-d70f133129fc\",\"type\":\"BasicTickFormatter\"},{\"attributes\":{\"below\":[{\"id\":\"ffa9d542-65d1-427a-b81a-1087f84fc631\",\"type\":\"LinearAxis\"}],\"left\":[{\"id\":\"24b4951f-d94d-4b7c-b401-03184e3b13df\",\"type\":\"CategoricalAxis\"}],\"plot_height\":500,\"plot_width\":900,\"renderers\":[{\"id\":\"ffa9d542-65d1-427a-b81a-1087f84fc631\",\"type\":\"LinearAxis\"},{\"id\":\"833e167f-0aa0-47e0-a76e-7faa36b4d86d\",\"type\":\"Grid\"},{\"id\":\"24b4951f-d94d-4b7c-b401-03184e3b13df\",\"type\":\"CategoricalAxis\"},{\"id\":\"a9589e34-d06f-41e0-b564-bbef03846a58\",\"type\":\"Grid\"},{\"id\":\"ee1f4261-2ed4-4d62-9617-7bdc2f2054b4\",\"type\":\"Legend\"},{\"id\":\"0f0280e2-384d-4582-a5cb-5eba18ce0fee\",\"type\":\"GlyphRenderer\"}],\"title\":{\"id\":\"221e520e-e18a-437d-ab36-432d9cae2d96\",\"type\":\"Title\"},\"toolbar\":{\"id\":\"36524171-b7e3-4f47-bb75-391949c8ae58\",\"type\":\"Toolbar\"},\"toolbar_location\":null,\"x_range\":{\"id\":\"32ea3d5b-7e68-4e8c-9491-89e5158e27a5\",\"type\":\"DataRange1d\"},\"x_scale\":{\"id\":\"d7b2289c-c82b-4079-baf5-d60bb329ab78\",\"type\":\"LinearScale\"},\"y_range\":{\"id\":\"fb112c3c-07a2-4814-b644-1f30e01c3e8b\",\"type\":\"FactorRange\"},\"y_scale\":{\"id\":\"73ca6c5e-d908-49de-87ed-ec0568cc54ea\",\"type\":\"CategoricalScale\"}},\"id\":\"18e9d69d-2a3b-44ae-8344-a99f9fad0180\",\"subtype\":\"Figure\",\"type\":\"Plot\"}],\"root_ids\":[\"18e9d69d-2a3b-44ae-8344-a99f9fad0180\"]},\"title\":\"Bokeh Application\",\"version\":\"0.12.13\"}};\n",
       "  var render_items = [{\"docid\":\"8dbcf2ce-74fe-437e-bf48-d874119ce4c6\",\"elementid\":\"29e708ba-5941-4334-92eb-dbca4d7cec3b\",\"modelid\":\"18e9d69d-2a3b-44ae-8344-a99f9fad0180\"}];\n",
       "  root.Bokeh.embed.embed_items_notebook(docs_json, render_items);\n",
       "\n",
       "  }\n",
       "  if (root.Bokeh !== undefined) {\n",
       "    embed_document(root);\n",
       "  } else {\n",
       "    var attempts = 0;\n",
       "    var timer = setInterval(function(root) {\n",
       "      if (root.Bokeh !== undefined) {\n",
       "        embed_document(root);\n",
       "        clearInterval(timer);\n",
       "      }\n",
       "      attempts++;\n",
       "      if (attempts > 100) {\n",
       "        console.log(\"Bokeh: ERROR: Unable to run BokehJS code because BokehJS library is missing\")\n",
       "        clearInterval(timer);\n",
       "      }\n",
       "    }, 10, root)\n",
       "  }\n",
       "})(window);"
      ],
      "application/vnd.bokehjs_exec.v0+json": ""
     },
     "metadata": {
      "application/vnd.bokehjs_exec.v0+json": {
       "id": "18e9d69d-2a3b-44ae-8344-a99f9fad0180"
      }
     },
     "output_type": "display_data"
    }
   ],
   "source": [
    "counts = cust['Manner Death'].value_counts()\n",
    "\n",
    "source = ColumnDataSource(data=dict(deathtype=deathtype, counts=counts))\n",
    "\n",
    "p = figure(y_range=deathtype, plot_height=500, plot_width=900, title=\"Manner of Death in Custody\",\n",
    "           toolbar_location=None, tools=\"\")\n",
    "\n",
    "p.hbar(y='deathtype', right='counts', height=0.5, color='color', legend=\"deathtype\", source=source, \n",
    "       line_color='white', fill_color=factor_cmap('deathtype', palette=Spectral8, factors=deathtype))\n",
    "\n",
    "factor_cmap('deathtype', palette=Spectral6, factors=deathtype)\n",
    "\n",
    "p.xgrid.grid_line_color = None\n",
    "p.x_range.start = 0\n",
    "p.x_range.end = 6000\n",
    "p.legend.orientation = \"vertical\"\n",
    "p.legend.location = \"top_right\"\n",
    "\n",
    "show(p)"
   ]
  },
  {
   "cell_type": "code",
   "execution_count": 10,
   "metadata": {
    "scrolled": true
   },
   "outputs": [
    {
     "name": "stderr",
     "output_type": "stream",
     "text": [
      "C:\\Users\\Lara\\Miniconda3\\lib\\site-packages\\bokeh\\models\\mappers.py:82: UserWarning: Palette length does not match number of factors. ['Homicide by Other', 'Accidental injury caused by others'] will be assigned to `nan_color` gray\n",
      "  warnings.warn(\"Palette length does not match number of factors. %s will be assigned to `nan_color` %s\" % (extra_factors, self.nan_color))\n"
     ]
    },
    {
     "data": {
      "text/html": [
       "\n",
       "<div class=\"bk-root\">\n",
       "    <div class=\"bk-plotdiv\" id=\"276b8750-d944-474b-b66a-709002d696bb\"></div>\n",
       "</div>"
      ]
     },
     "metadata": {},
     "output_type": "display_data"
    },
    {
     "data": {
      "application/javascript": [
       "(function(root) {\n",
       "  function embed_document(root) {\n",
       "    \n",
       "  var docs_json = {\"1c585f0d-a9e3-4244-9acc-91ddd77dc6a9\":{\"roots\":{\"references\":[{\"attributes\":{},\"id\":\"05df4761-2611-43fc-8e4b-1fdb68d7c233\",\"type\":\"CategoricalScale\"},{\"attributes\":{\"formatter\":{\"id\":\"3d03034f-4bdd-4ff4-9c81-333032a6d96b\",\"type\":\"CategoricalTickFormatter\"},\"plot\":{\"id\":\"9d7e7847-a1ed-4b71-a250-35a5566cc5ba\",\"subtype\":\"Figure\",\"type\":\"Plot\"},\"ticker\":{\"id\":\"0508dfef-12df-4a0c-8798-91c087fd2c93\",\"type\":\"CategoricalTicker\"}},\"id\":\"859fa9d1-a892-434a-ab1e-7b0c5112a5a0\",\"type\":\"CategoricalAxis\"},{\"attributes\":{\"plot\":null,\"text\":\"Ethnicity of Deaths in Custody\"},\"id\":\"662483c1-d2f8-46ae-8f77-a5764d93476c\",\"type\":\"Title\"},{\"attributes\":{\"fill_color\":{\"field\":\"eth\",\"transform\":{\"id\":\"a0c57f97-e032-4f88-bde2-7b867c6c962c\",\"type\":\"CategoricalColorMapper\"}},\"height\":{\"value\":0.5},\"line_color\":{\"value\":\"white\"},\"right\":{\"field\":\"counts\"},\"y\":{\"field\":\"eth\"}},\"id\":\"3f71c547-9f11-4822-ba33-99b05fe2656f\",\"type\":\"HBar\"},{\"attributes\":{\"dimension\":1,\"plot\":{\"id\":\"9d7e7847-a1ed-4b71-a250-35a5566cc5ba\",\"subtype\":\"Figure\",\"type\":\"Plot\"},\"ticker\":{\"id\":\"0508dfef-12df-4a0c-8798-91c087fd2c93\",\"type\":\"CategoricalTicker\"}},\"id\":\"796a352e-b2ce-46a0-8571-a59f3e778b75\",\"type\":\"Grid\"},{\"attributes\":{},\"id\":\"f5b56683-7354-41bf-ae63-c49426080c6e\",\"type\":\"BasicTickFormatter\"},{\"attributes\":{\"callback\":null,\"column_names\":[\"eth\",\"counts\"],\"data\":{\"counts\":[3228,2274,2117,46,34,13,12,5],\"eth\":[\"Hispanic or Latino\",\"Black or African American\",\"Anglo or White\",\"Middle East\",\"Asian\",\"Other/Don't Know\",\"Native Hawaiian/Pacific Islander\",\"American Indian/Alaska Native\"]}},\"id\":\"8afb50db-64c9-4b0d-aeb7-39d48c0a1ae6\",\"type\":\"ColumnDataSource\"},{\"attributes\":{\"data_source\":{\"id\":\"8afb50db-64c9-4b0d-aeb7-39d48c0a1ae6\",\"type\":\"ColumnDataSource\"},\"glyph\":{\"id\":\"3f71c547-9f11-4822-ba33-99b05fe2656f\",\"type\":\"HBar\"},\"hover_glyph\":null,\"muted_glyph\":null,\"nonselection_glyph\":{\"id\":\"8cb0165e-d299-46a9-874e-78856316deb1\",\"type\":\"HBar\"},\"selection_glyph\":null,\"view\":{\"id\":\"3f7c629c-ba00-4039-b74c-e23961e1cabe\",\"type\":\"CDSView\"}},\"id\":\"1446cc88-d9c9-4ef7-ad65-6adcdcf55a7d\",\"type\":\"GlyphRenderer\"},{\"attributes\":{\"fill_alpha\":{\"value\":0.1},\"fill_color\":{\"value\":\"#1f77b4\"},\"height\":{\"value\":0.5},\"line_alpha\":{\"value\":0.1},\"line_color\":{\"value\":\"#1f77b4\"},\"right\":{\"field\":\"counts\"},\"y\":{\"field\":\"eth\"}},\"id\":\"8cb0165e-d299-46a9-874e-78856316deb1\",\"type\":\"HBar\"},{\"attributes\":{},\"id\":\"3d03034f-4bdd-4ff4-9c81-333032a6d96b\",\"type\":\"CategoricalTickFormatter\"},{\"attributes\":{\"source\":{\"id\":\"8afb50db-64c9-4b0d-aeb7-39d48c0a1ae6\",\"type\":\"ColumnDataSource\"}},\"id\":\"3f7c629c-ba00-4039-b74c-e23961e1cabe\",\"type\":\"CDSView\"},{\"attributes\":{\"below\":[{\"id\":\"ba1fe8da-5d95-4ae9-b774-5e84178a368c\",\"type\":\"LinearAxis\"}],\"left\":[{\"id\":\"859fa9d1-a892-434a-ab1e-7b0c5112a5a0\",\"type\":\"CategoricalAxis\"}],\"plot_height\":500,\"plot_width\":900,\"renderers\":[{\"id\":\"ba1fe8da-5d95-4ae9-b774-5e84178a368c\",\"type\":\"LinearAxis\"},{\"id\":\"4849cc85-62d6-412a-9ddf-66360c040697\",\"type\":\"Grid\"},{\"id\":\"859fa9d1-a892-434a-ab1e-7b0c5112a5a0\",\"type\":\"CategoricalAxis\"},{\"id\":\"796a352e-b2ce-46a0-8571-a59f3e778b75\",\"type\":\"Grid\"},{\"id\":\"6d8c1e76-34ca-4c57-8017-d0250781d83c\",\"type\":\"Legend\"},{\"id\":\"1446cc88-d9c9-4ef7-ad65-6adcdcf55a7d\",\"type\":\"GlyphRenderer\"}],\"title\":{\"id\":\"662483c1-d2f8-46ae-8f77-a5764d93476c\",\"type\":\"Title\"},\"toolbar\":{\"id\":\"a942e664-217c-4842-a8f5-c0574a76c7fa\",\"type\":\"Toolbar\"},\"toolbar_location\":null,\"x_range\":{\"id\":\"795daa7e-b0b7-44f8-9a83-9998aa55f990\",\"type\":\"DataRange1d\"},\"x_scale\":{\"id\":\"a6844bff-8bb2-4428-9f58-d0ebec00433f\",\"type\":\"LinearScale\"},\"y_range\":{\"id\":\"0b4f2595-c858-47ef-aa08-3faf88375bb4\",\"type\":\"FactorRange\"},\"y_scale\":{\"id\":\"05df4761-2611-43fc-8e4b-1fdb68d7c233\",\"type\":\"CategoricalScale\"}},\"id\":\"9d7e7847-a1ed-4b71-a250-35a5566cc5ba\",\"subtype\":\"Figure\",\"type\":\"Plot\"},{\"attributes\":{\"callback\":null,\"factors\":[\"Hispanic or Latino\",\"Black or African American\",\"Anglo or White\",\"Middle East\",\"Asian\",\"Other/Don't Know\",\"Native Hawaiian/Pacific Islander\",\"American Indian/Alaska Native\"]},\"id\":\"0b4f2595-c858-47ef-aa08-3faf88375bb4\",\"type\":\"FactorRange\"},{\"attributes\":{\"factors\":[\"Hispanic or Latino\",\"Black or African American\",\"Anglo or White\",\"Middle East\",\"Asian\",\"Other/Don't Know\",\"Native Hawaiian/Pacific Islander\",\"American Indian/Alaska Native\"],\"palette\":[\"#3288bd\",\"#66c2a5\",\"#abdda4\",\"#e6f598\",\"#fee08b\",\"#fdae61\",\"#f46d43\",\"#d53e4f\"]},\"id\":\"a0c57f97-e032-4f88-bde2-7b867c6c962c\",\"type\":\"CategoricalColorMapper\"},{\"attributes\":{\"active_drag\":\"auto\",\"active_inspect\":\"auto\",\"active_scroll\":\"auto\",\"active_tap\":\"auto\"},\"id\":\"a942e664-217c-4842-a8f5-c0574a76c7fa\",\"type\":\"Toolbar\"},{\"attributes\":{\"callback\":null,\"end\":6000,\"start\":0},\"id\":\"795daa7e-b0b7-44f8-9a83-9998aa55f990\",\"type\":\"DataRange1d\"},{\"attributes\":{},\"id\":\"e30d7183-c9f7-4277-9511-54f7f47b43ad\",\"type\":\"BasicTicker\"},{\"attributes\":{},\"id\":\"0508dfef-12df-4a0c-8798-91c087fd2c93\",\"type\":\"CategoricalTicker\"},{\"attributes\":{\"label\":{\"field\":\"eth\"},\"renderers\":[{\"id\":\"1446cc88-d9c9-4ef7-ad65-6adcdcf55a7d\",\"type\":\"GlyphRenderer\"}]},\"id\":\"e9f0904c-5819-434c-80c2-01145015704d\",\"type\":\"LegendItem\"},{\"attributes\":{\"formatter\":{\"id\":\"f5b56683-7354-41bf-ae63-c49426080c6e\",\"type\":\"BasicTickFormatter\"},\"plot\":{\"id\":\"9d7e7847-a1ed-4b71-a250-35a5566cc5ba\",\"subtype\":\"Figure\",\"type\":\"Plot\"},\"ticker\":{\"id\":\"e30d7183-c9f7-4277-9511-54f7f47b43ad\",\"type\":\"BasicTicker\"}},\"id\":\"ba1fe8da-5d95-4ae9-b774-5e84178a368c\",\"type\":\"LinearAxis\"},{\"attributes\":{\"items\":[{\"id\":\"e9f0904c-5819-434c-80c2-01145015704d\",\"type\":\"LegendItem\"}],\"plot\":{\"id\":\"9d7e7847-a1ed-4b71-a250-35a5566cc5ba\",\"subtype\":\"Figure\",\"type\":\"Plot\"}},\"id\":\"6d8c1e76-34ca-4c57-8017-d0250781d83c\",\"type\":\"Legend\"},{\"attributes\":{},\"id\":\"a6844bff-8bb2-4428-9f58-d0ebec00433f\",\"type\":\"LinearScale\"},{\"attributes\":{\"grid_line_color\":{\"value\":null},\"plot\":{\"id\":\"9d7e7847-a1ed-4b71-a250-35a5566cc5ba\",\"subtype\":\"Figure\",\"type\":\"Plot\"},\"ticker\":{\"id\":\"e30d7183-c9f7-4277-9511-54f7f47b43ad\",\"type\":\"BasicTicker\"}},\"id\":\"4849cc85-62d6-412a-9ddf-66360c040697\",\"type\":\"Grid\"}],\"root_ids\":[\"9d7e7847-a1ed-4b71-a250-35a5566cc5ba\"]},\"title\":\"Bokeh Application\",\"version\":\"0.12.13\"}};\n",
       "  var render_items = [{\"docid\":\"1c585f0d-a9e3-4244-9acc-91ddd77dc6a9\",\"elementid\":\"276b8750-d944-474b-b66a-709002d696bb\",\"modelid\":\"9d7e7847-a1ed-4b71-a250-35a5566cc5ba\"}];\n",
       "  root.Bokeh.embed.embed_items_notebook(docs_json, render_items);\n",
       "\n",
       "  }\n",
       "  if (root.Bokeh !== undefined) {\n",
       "    embed_document(root);\n",
       "  } else {\n",
       "    var attempts = 0;\n",
       "    var timer = setInterval(function(root) {\n",
       "      if (root.Bokeh !== undefined) {\n",
       "        embed_document(root);\n",
       "        clearInterval(timer);\n",
       "      }\n",
       "      attempts++;\n",
       "      if (attempts > 100) {\n",
       "        console.log(\"Bokeh: ERROR: Unable to run BokehJS code because BokehJS library is missing\")\n",
       "        clearInterval(timer);\n",
       "      }\n",
       "    }, 10, root)\n",
       "  }\n",
       "})(window);"
      ],
      "application/vnd.bokehjs_exec.v0+json": ""
     },
     "metadata": {
      "application/vnd.bokehjs_exec.v0+json": {
       "id": "9d7e7847-a1ed-4b71-a250-35a5566cc5ba"
      }
     },
     "output_type": "display_data"
    }
   ],
   "source": [
    "counts = cust['Ethnicity'].value_counts()\n",
    "\n",
    "source = ColumnDataSource(data=dict(eth=eth, counts=counts))\n",
    "\n",
    "t = figure(y_range=eth, plot_height=500, plot_width=900, title=\"Ethnicity of Deaths in Custody\",\n",
    "           toolbar_location=None, tools=\"\")\n",
    "\n",
    "t.hbar(y='eth', right='counts', height=0.5, color='color', legend=\"eth\", source=source, \n",
    "       line_color='white', fill_color=factor_cmap('eth', palette=Spectral8, factors=eth))\n",
    "\n",
    "factor_cmap('deathtype', palette=Spectral6, factors=deathtype)\n",
    "\n",
    "t.xgrid.grid_line_color = None\n",
    "t.x_range.start = 0\n",
    "t.x_range.end = 6000\n",
    "t.legend.orientation = \"vertical\"\n",
    "t.legend.location = \"top_right\"\n",
    "\n",
    "show(t)"
   ]
  },
  {
   "cell_type": "code",
   "execution_count": null,
   "metadata": {},
   "outputs": [],
   "source": []
  },
  {
   "cell_type": "code",
   "execution_count": 11,
   "metadata": {},
   "outputs": [],
   "source": [
    "#custna = cust[(cust['Custody Type'].dropna()) & (cust['Ethnicity'].dropna()) & (cust['Manner Death'].dropna()) & (cust['Charges Status'].dropna())]\n",
    "custody= cust['Custody Type'].dropna()\n",
    "race = cust['Ethnicity'].dropna()\n",
    "death = cust['Manner Death'].dropna()\n",
    "charge = cust['Charges Status'].dropna()\n",
    "\n",
    "dfcharge = pd.get_dummies(custody)\n",
    "dfrace =pd.get_dummies(race)\n",
    "dfdeath = pd.get_dummies(death)\n",
    "dfcharge = pd.get_dummies(charge)"
   ]
  },
  {
   "cell_type": "code",
   "execution_count": 12,
   "metadata": {},
   "outputs": [
    {
     "data": {
      "text/html": [
       "<div>\n",
       "<style scoped>\n",
       "    .dataframe tbody tr th:only-of-type {\n",
       "        vertical-align: middle;\n",
       "    }\n",
       "\n",
       "    .dataframe tbody tr th {\n",
       "        vertical-align: top;\n",
       "    }\n",
       "\n",
       "    .dataframe thead th {\n",
       "        text-align: right;\n",
       "    }\n",
       "</style>\n",
       "<table border=\"1\" class=\"dataframe\">\n",
       "  <thead>\n",
       "    <tr style=\"text-align: right;\">\n",
       "      <th></th>\n",
       "      <th>Convicted</th>\n",
       "      <th>Filed</th>\n",
       "      <th>Not filed at time of death</th>\n",
       "      <th>Probation/Parole</th>\n",
       "    </tr>\n",
       "  </thead>\n",
       "  <tbody>\n",
       "    <tr>\n",
       "      <th>7724</th>\n",
       "      <td>0</td>\n",
       "      <td>0</td>\n",
       "      <td>1</td>\n",
       "      <td>0</td>\n",
       "    </tr>\n",
       "    <tr>\n",
       "      <th>7725</th>\n",
       "      <td>1</td>\n",
       "      <td>0</td>\n",
       "      <td>0</td>\n",
       "      <td>0</td>\n",
       "    </tr>\n",
       "    <tr>\n",
       "      <th>7726</th>\n",
       "      <td>0</td>\n",
       "      <td>0</td>\n",
       "      <td>1</td>\n",
       "      <td>0</td>\n",
       "    </tr>\n",
       "    <tr>\n",
       "      <th>7727</th>\n",
       "      <td>0</td>\n",
       "      <td>0</td>\n",
       "      <td>1</td>\n",
       "      <td>0</td>\n",
       "    </tr>\n",
       "    <tr>\n",
       "      <th>7728</th>\n",
       "      <td>1</td>\n",
       "      <td>0</td>\n",
       "      <td>0</td>\n",
       "      <td>0</td>\n",
       "    </tr>\n",
       "  </tbody>\n",
       "</table>\n",
       "</div>"
      ],
      "text/plain": [
       "      Convicted  Filed  Not filed at time of death  Probation/Parole\n",
       "7724          0      0                           1                 0\n",
       "7725          1      0                           0                 0\n",
       "7726          0      0                           1                 0\n",
       "7727          0      0                           1                 0\n",
       "7728          1      0                           0                 0"
      ]
     },
     "execution_count": 12,
     "metadata": {},
     "output_type": "execute_result"
    }
   ],
   "source": [
    "dfcharge.tail()"
   ]
  },
  {
   "cell_type": "code",
   "execution_count": 13,
   "metadata": {},
   "outputs": [
    {
     "data": {
      "text/plain": [
       "Accidental injury caused by others               NaN\n",
       "Accidental injury to self                        NaN\n",
       "Alcohol/Drug Intoxication                        NaN\n",
       "American Indian/Alaska Native                    NaN\n",
       "Anglo or White                                   NaN\n",
       "Asian                                            NaN\n",
       "Black or African American                        NaN\n",
       "Hispanic or Latino                               NaN\n",
       "Homicide by Law Enforcement/Correctional Staff   NaN\n",
       "Homicide by Other                                NaN\n",
       "Middle East                                      NaN\n",
       "Native Hawaiian/Pacific Islander                 NaN\n",
       "Natural Causes/Illness                           NaN\n",
       "Other                                            NaN\n",
       "Other/Don't Know                                 NaN\n",
       "Suicide                                          NaN\n",
       "dtype: float64"
      ]
     },
     "execution_count": 13,
     "metadata": {},
     "output_type": "execute_result"
    }
   ],
   "source": [
    "dfdeath.corrwith(dfrace)"
   ]
  },
  {
   "cell_type": "code",
   "execution_count": 14,
   "metadata": {},
   "outputs": [
    {
     "data": {
      "text/plain": [
       "'\\nFor Grouped/Nested bat chart\\n\\n# this creates tuple pairs of Manner of Death and Ethnicity\\nx = [ (deathtype, eth) for type in deathtype for race in eth ]\\n\\nsource = ColumnDataSource(data=dict(x=x, counts=counts))\\n\\nq = figure(x_range=FactorRange(*x), plot_height=250, title=\"Manner of Death by Ethnicity\",\\n           toolbar_location=None, tools=\"\")\\n\\nq.vbar(x=\\'x\\', top=\\'counts\\', width=0.9, source=source)\\n\\nq.y_range.start = 0\\nq.x_range.range_padding = 0.1\\nq.xaxis.major_label_orientation = 1\\nq.xgrid.grid_line_color = None\\n\\nshow(q)\\n'"
      ]
     },
     "execution_count": 14,
     "metadata": {},
     "output_type": "execute_result"
    }
   ],
   "source": [
    "'''\n",
    "For Grouped/Nested bat chart\n",
    "\n",
    "# this creates tuple pairs of Manner of Death and Ethnicity\n",
    "x = [ (deathtype, eth) for type in deathtype for race in eth ]\n",
    "\n",
    "source = ColumnDataSource(data=dict(x=x, counts=counts))\n",
    "\n",
    "q = figure(x_range=FactorRange(*x), plot_height=250, title=\"Manner of Death by Ethnicity\",\n",
    "           toolbar_location=None, tools=\"\")\n",
    "\n",
    "q.vbar(x='x', top='counts', width=0.9, source=source)\n",
    "\n",
    "q.y_range.start = 0\n",
    "q.x_range.range_padding = 0.1\n",
    "q.xaxis.major_label_orientation = 1\n",
    "q.xgrid.grid_line_color = None\n",
    "\n",
    "show(q)\n",
    "'''"
   ]
  },
  {
   "cell_type": "code",
   "execution_count": null,
   "metadata": {},
   "outputs": [],
   "source": []
  },
  {
   "cell_type": "code",
   "execution_count": 15,
   "metadata": {},
   "outputs": [],
   "source": [
    "breakdown = cust.groupby(['Ethnicity', 'Manner Death'])['Last Name'].count()"
   ]
  },
  {
   "cell_type": "code",
   "execution_count": 16,
   "metadata": {
    "scrolled": false
   },
   "outputs": [],
   "source": [
    "death_eth_df = breakdown.unstack()"
   ]
  },
  {
   "cell_type": "code",
   "execution_count": 17,
   "metadata": {},
   "outputs": [],
   "source": [
    "death_eth_df = death_eth_df.fillna(0).astype(int)"
   ]
  },
  {
   "cell_type": "code",
   "execution_count": 18,
   "metadata": {},
   "outputs": [
    {
     "data": {
      "text/html": [
       "<div>\n",
       "<style scoped>\n",
       "    .dataframe tbody tr th:only-of-type {\n",
       "        vertical-align: middle;\n",
       "    }\n",
       "\n",
       "    .dataframe tbody tr th {\n",
       "        vertical-align: top;\n",
       "    }\n",
       "\n",
       "    .dataframe thead th {\n",
       "        text-align: right;\n",
       "    }\n",
       "</style>\n",
       "<table border=\"1\" class=\"dataframe\">\n",
       "  <thead>\n",
       "    <tr style=\"text-align: right;\">\n",
       "      <th>Manner Death</th>\n",
       "      <th>Accidental injury caused by others</th>\n",
       "      <th>Accidental injury to self</th>\n",
       "      <th>Alcohol/Drug Intoxication</th>\n",
       "      <th>Homicide by Law Enforcement/Correctional Staff</th>\n",
       "      <th>Homicide by Other</th>\n",
       "      <th>Natural Causes/Illness</th>\n",
       "      <th>Other</th>\n",
       "      <th>Suicide</th>\n",
       "    </tr>\n",
       "    <tr>\n",
       "      <th>Ethnicity</th>\n",
       "      <th></th>\n",
       "      <th></th>\n",
       "      <th></th>\n",
       "      <th></th>\n",
       "      <th></th>\n",
       "      <th></th>\n",
       "      <th></th>\n",
       "      <th></th>\n",
       "    </tr>\n",
       "  </thead>\n",
       "  <tbody>\n",
       "    <tr>\n",
       "      <th>American Indian/Alaska Native</th>\n",
       "      <td>0</td>\n",
       "      <td>0</td>\n",
       "      <td>0</td>\n",
       "      <td>5</td>\n",
       "      <td>0</td>\n",
       "      <td>5</td>\n",
       "      <td>1</td>\n",
       "      <td>2</td>\n",
       "    </tr>\n",
       "    <tr>\n",
       "      <th>Anglo or White</th>\n",
       "      <td>3</td>\n",
       "      <td>63</td>\n",
       "      <td>99</td>\n",
       "      <td>321</td>\n",
       "      <td>25</td>\n",
       "      <td>2183</td>\n",
       "      <td>77</td>\n",
       "      <td>455</td>\n",
       "    </tr>\n",
       "    <tr>\n",
       "      <th>Asian</th>\n",
       "      <td>0</td>\n",
       "      <td>0</td>\n",
       "      <td>3</td>\n",
       "      <td>5</td>\n",
       "      <td>1</td>\n",
       "      <td>19</td>\n",
       "      <td>0</td>\n",
       "      <td>6</td>\n",
       "    </tr>\n",
       "    <tr>\n",
       "      <th>Black or African American</th>\n",
       "      <td>6</td>\n",
       "      <td>36</td>\n",
       "      <td>93</td>\n",
       "      <td>213</td>\n",
       "      <td>22</td>\n",
       "      <td>1687</td>\n",
       "      <td>68</td>\n",
       "      <td>147</td>\n",
       "    </tr>\n",
       "    <tr>\n",
       "      <th>Hispanic or Latino</th>\n",
       "      <td>11</td>\n",
       "      <td>54</td>\n",
       "      <td>88</td>\n",
       "      <td>291</td>\n",
       "      <td>24</td>\n",
       "      <td>1363</td>\n",
       "      <td>56</td>\n",
       "      <td>229</td>\n",
       "    </tr>\n",
       "    <tr>\n",
       "      <th>Middle East</th>\n",
       "      <td>0</td>\n",
       "      <td>1</td>\n",
       "      <td>0</td>\n",
       "      <td>7</td>\n",
       "      <td>0</td>\n",
       "      <td>2</td>\n",
       "      <td>0</td>\n",
       "      <td>2</td>\n",
       "    </tr>\n",
       "    <tr>\n",
       "      <th>Native Hawaiian/Pacific Islander</th>\n",
       "      <td>1</td>\n",
       "      <td>0</td>\n",
       "      <td>1</td>\n",
       "      <td>1</td>\n",
       "      <td>0</td>\n",
       "      <td>1</td>\n",
       "      <td>0</td>\n",
       "      <td>1</td>\n",
       "    </tr>\n",
       "    <tr>\n",
       "      <th>Other/Don't Know</th>\n",
       "      <td>0</td>\n",
       "      <td>1</td>\n",
       "      <td>0</td>\n",
       "      <td>35</td>\n",
       "      <td>0</td>\n",
       "      <td>6</td>\n",
       "      <td>1</td>\n",
       "      <td>2</td>\n",
       "    </tr>\n",
       "  </tbody>\n",
       "</table>\n",
       "</div>"
      ],
      "text/plain": [
       "Manner Death                      Accidental injury caused by others  \\\n",
       "Ethnicity                                                              \n",
       "American Indian/Alaska Native                                      0   \n",
       "Anglo or White                                                     3   \n",
       "Asian                                                              0   \n",
       "Black or African American                                          6   \n",
       "Hispanic or Latino                                                11   \n",
       "Middle East                                                        0   \n",
       "Native Hawaiian/Pacific Islander                                   1   \n",
       "Other/Don't Know                                                   0   \n",
       "\n",
       "Manner Death                      Accidental injury to self  \\\n",
       "Ethnicity                                                     \n",
       "American Indian/Alaska Native                             0   \n",
       "Anglo or White                                           63   \n",
       "Asian                                                     0   \n",
       "Black or African American                                36   \n",
       "Hispanic or Latino                                       54   \n",
       "Middle East                                               1   \n",
       "Native Hawaiian/Pacific Islander                          0   \n",
       "Other/Don't Know                                          1   \n",
       "\n",
       "Manner Death                      Alcohol/Drug Intoxication  \\\n",
       "Ethnicity                                                     \n",
       "American Indian/Alaska Native                             0   \n",
       "Anglo or White                                           99   \n",
       "Asian                                                     3   \n",
       "Black or African American                                93   \n",
       "Hispanic or Latino                                       88   \n",
       "Middle East                                               0   \n",
       "Native Hawaiian/Pacific Islander                          1   \n",
       "Other/Don't Know                                          0   \n",
       "\n",
       "Manner Death                      Homicide by Law Enforcement/Correctional Staff  \\\n",
       "Ethnicity                                                                          \n",
       "American Indian/Alaska Native                                                  5   \n",
       "Anglo or White                                                               321   \n",
       "Asian                                                                          5   \n",
       "Black or African American                                                    213   \n",
       "Hispanic or Latino                                                           291   \n",
       "Middle East                                                                    7   \n",
       "Native Hawaiian/Pacific Islander                                               1   \n",
       "Other/Don't Know                                                              35   \n",
       "\n",
       "Manner Death                      Homicide by Other  Natural Causes/Illness  \\\n",
       "Ethnicity                                                                     \n",
       "American Indian/Alaska Native                     0                       5   \n",
       "Anglo or White                                   25                    2183   \n",
       "Asian                                             1                      19   \n",
       "Black or African American                        22                    1687   \n",
       "Hispanic or Latino                               24                    1363   \n",
       "Middle East                                       0                       2   \n",
       "Native Hawaiian/Pacific Islander                  0                       1   \n",
       "Other/Don't Know                                  0                       6   \n",
       "\n",
       "Manner Death                      Other  Suicide  \n",
       "Ethnicity                                         \n",
       "American Indian/Alaska Native         1        2  \n",
       "Anglo or White                       77      455  \n",
       "Asian                                 0        6  \n",
       "Black or African American            68      147  \n",
       "Hispanic or Latino                   56      229  \n",
       "Middle East                           0        2  \n",
       "Native Hawaiian/Pacific Islander      0        1  \n",
       "Other/Don't Know                      1        2  "
      ]
     },
     "execution_count": 18,
     "metadata": {},
     "output_type": "execute_result"
    }
   ],
   "source": [
    "death_eth_df"
   ]
  },
  {
   "cell_type": "code",
   "execution_count": null,
   "metadata": {},
   "outputs": [],
   "source": []
  },
  {
   "cell_type": "code",
   "execution_count": 19,
   "metadata": {},
   "outputs": [],
   "source": [
    "ethni = cust.groupby(['Ethnicity'])['Last Name'].count()"
   ]
  },
  {
   "cell_type": "code",
   "execution_count": 20,
   "metadata": {},
   "outputs": [
    {
     "name": "stdout",
     "output_type": "stream",
     "text": [
      "% of Whites killed by officer: 0.0995040297582\n"
     ]
    }
   ],
   "source": [
    "print (\"% of Whites killed by officer:\", breakdown['Anglo or White', 'Homicide by Law Enforcement/Correctional Staff']/ethni['Anglo or White'])"
   ]
  },
  {
   "cell_type": "code",
   "execution_count": 21,
   "metadata": {},
   "outputs": [
    {
     "name": "stdout",
     "output_type": "stream",
     "text": [
      "% of Latinos killed by officer: 0.13752362949\n"
     ]
    }
   ],
   "source": [
    "print (\"% of Latinos killed by officer:\", breakdown['Hispanic or Latino', 'Homicide by Law Enforcement/Correctional Staff']/ethni['Hispanic or Latino'])"
   ]
  },
  {
   "cell_type": "code",
   "execution_count": 22,
   "metadata": {},
   "outputs": [
    {
     "data": {
      "text/html": [
       "\n",
       "<div class=\"bk-root\">\n",
       "    <div class=\"bk-plotdiv\" id=\"a4d8ecc5-f04a-4a1a-a778-b57f9f92272c\"></div>\n",
       "</div>"
      ]
     },
     "metadata": {},
     "output_type": "display_data"
    },
    {
     "data": {
      "application/javascript": [
       "(function(root) {\n",
       "  function embed_document(root) {\n",
       "    \n",
       "  var docs_json = {\"6c3fcb0a-e14d-4b28-83e0-143ee7b512f1\":{\"roots\":{\"references\":[{\"attributes\":{\"fields\":[]},\"id\":\"23464712-c08b-45dc-a0ba-edf590252440\",\"type\":\"Stack\"},{\"attributes\":{\"fields\":[\"Natural Causes/Illness\",\"Other\",\"Accidental injury to self\",\"Homicide by Law Enforcement/Correctional Staff\"]},\"id\":\"3d888752-f86f-448d-a85e-1c1ff4a9d22b\",\"type\":\"Stack\"},{\"attributes\":{\"fields\":[\"Natural Causes/Illness\"]},\"id\":\"bab7d181-3bfe-4b78-b2f8-929d38d60aca\",\"type\":\"Stack\"},{\"attributes\":{\"fields\":[\"Natural Causes/Illness\"]},\"id\":\"f4ca5f26-93f4-4b8b-9077-06a1810ccf9a\",\"type\":\"Stack\"},{\"attributes\":{\"fields\":[\"Natural Causes/Illness\",\"Other\"]},\"id\":\"c775b68d-4af1-4e81-af4a-db1e06ffa50c\",\"type\":\"Stack\"},{\"attributes\":{\"fields\":[\"Natural Causes/Illness\",\"Other\"]},\"id\":\"05552262-5fa9-4a9b-804d-aa44da8bc295\",\"type\":\"Stack\"},{\"attributes\":{\"fields\":[\"Natural Causes/Illness\",\"Other\",\"Accidental injury to self\"]},\"id\":\"9a5e223b-9582-4127-9860-b3a2928d3215\",\"type\":\"Stack\"},{\"attributes\":{\"fields\":[\"Natural Causes/Illness\",\"Other\",\"Accidental injury to self\",\"Homicide by Law Enforcement/Correctional Staff\"]},\"id\":\"d72f41fd-82d9-4fee-ba1f-7b1cbbc96f24\",\"type\":\"Stack\"},{\"attributes\":{\"fields\":[\"Natural Causes/Illness\",\"Other\",\"Accidental injury to self\",\"Homicide by Law Enforcement/Correctional Staff\",\"Suicide\"]},\"id\":\"5f605d66-f30c-41c3-a7db-6e665b1ed38b\",\"type\":\"Stack\"},{\"attributes\":{\"fields\":[\"Natural Causes/Illness\",\"Other\",\"Accidental injury to self\",\"Homicide by Law Enforcement/Correctional Staff\",\"Suicide\",\"Alcohol/Drug Intoxication\"]},\"id\":\"7b10ba48-83dc-4e6d-b3b0-64f0ee1fee4b\",\"type\":\"Stack\"},{\"attributes\":{\"fields\":[\"Natural Causes/Illness\",\"Other\",\"Accidental injury to self\",\"Homicide by Law Enforcement/Correctional Staff\",\"Suicide\"]},\"id\":\"bb95e82f-8f3a-471e-b592-af9bb37f8494\",\"type\":\"Stack\"},{\"attributes\":{\"items\":[{\"id\":\"52866ff5-48ba-4f3b-b730-b0232ed4069a\",\"type\":\"LegendItem\"},{\"id\":\"76936734-869e-4e1b-9913-064d9f9cf236\",\"type\":\"LegendItem\"},{\"id\":\"260e66f3-6e00-4f84-bf2f-d2a4de36a7f8\",\"type\":\"LegendItem\"},{\"id\":\"a5905d84-d5cb-4c38-a20e-3728b8e5c6ec\",\"type\":\"LegendItem\"},{\"id\":\"cbd25b0d-f343-4b9f-bfde-df1a9003931b\",\"type\":\"LegendItem\"},{\"id\":\"e8b1a6f5-3c3d-4cd7-9dd8-efa484e47082\",\"type\":\"LegendItem\"},{\"id\":\"4fa8e78f-1e25-41fe-90cd-22d2f16b6402\",\"type\":\"LegendItem\"},{\"id\":\"135158b7-f511-4566-8306-6870c8eeed7a\",\"type\":\"LegendItem\"}],\"plot\":{\"id\":\"9aacdd6f-c6e4-491b-9f89-243ae060a5a8\",\"subtype\":\"Figure\",\"type\":\"Plot\"}},\"id\":\"2d8296f3-39e4-4fdf-88fa-27f86ff15b30\",\"type\":\"Legend\"},{\"attributes\":{\"fields\":[\"Natural Causes/Illness\",\"Other\",\"Accidental injury to self\",\"Homicide by Law Enforcement/Correctional Staff\",\"Suicide\",\"Alcohol/Drug Intoxication\"]},\"id\":\"d4e5d22e-595c-4028-a70b-deba03892410\",\"type\":\"Stack\"},{\"attributes\":{\"fields\":[\"Natural Causes/Illness\",\"Other\",\"Accidental injury to self\",\"Homicide by Law Enforcement/Correctional Staff\",\"Suicide\",\"Alcohol/Drug Intoxication\",\"Homicide by Other\"]},\"id\":\"4da68c0a-705e-4ae4-b66a-ae82542dc554\",\"type\":\"Stack\"},{\"attributes\":{\"fields\":[\"Natural Causes/Illness\",\"Other\",\"Accidental injury to self\",\"Homicide by Law Enforcement/Correctional Staff\",\"Suicide\",\"Alcohol/Drug Intoxication\",\"Homicide by Other\"]},\"id\":\"f7e6c478-5039-460f-b748-e37a7a7cc4d3\",\"type\":\"Stack\"},{\"attributes\":{\"fields\":[\"Natural Causes/Illness\",\"Other\",\"Accidental injury to self\",\"Homicide by Law Enforcement/Correctional Staff\",\"Suicide\",\"Alcohol/Drug Intoxication\",\"Homicide by Other\",\"Accidental injury caused by others\"]},\"id\":\"34fe8fa6-00fa-4a62-85dd-3b7ae680699f\",\"type\":\"Stack\"},{\"attributes\":{\"label\":{\"value\":\"Homicide by Law Enforcement/Correctional Staff\"},\"renderers\":[{\"id\":\"0190875a-df6c-4781-aaac-474aae0a1701\",\"type\":\"GlyphRenderer\"}]},\"id\":\"a5905d84-d5cb-4c38-a20e-3728b8e5c6ec\",\"type\":\"LegendItem\"},{\"attributes\":{\"fill_color\":{\"value\":\"#3288bd\"},\"height\":{\"value\":0.9},\"left\":{\"expr\":{\"id\":\"23464712-c08b-45dc-a0ba-edf590252440\",\"type\":\"Stack\"}},\"line_color\":{\"value\":\"#3288bd\"},\"right\":{\"expr\":{\"id\":\"bab7d181-3bfe-4b78-b2f8-929d38d60aca\",\"type\":\"Stack\"}},\"y\":{\"field\":\"Ethnicity\"}},\"id\":\"d9523958-3e96-4820-82ed-8c5a500b70cc\",\"type\":\"HBar\"},{\"attributes\":{\"fill_alpha\":{\"value\":0.1},\"fill_color\":{\"value\":\"#1f77b4\"},\"height\":{\"value\":0.9},\"left\":{\"expr\":{\"id\":\"23464712-c08b-45dc-a0ba-edf590252440\",\"type\":\"Stack\"}},\"line_alpha\":{\"value\":0.1},\"line_color\":{\"value\":\"#1f77b4\"},\"right\":{\"expr\":{\"id\":\"bab7d181-3bfe-4b78-b2f8-929d38d60aca\",\"type\":\"Stack\"}},\"y\":{\"field\":\"Ethnicity\"}},\"id\":\"f61b3cc4-e50a-4be1-8122-cd5d04e73ea9\",\"type\":\"HBar\"},{\"attributes\":{},\"id\":\"087ee355-6a01-42fe-b4d8-be80e090a255\",\"type\":\"CategoricalTickFormatter\"},{\"attributes\":{\"fill_color\":{\"value\":\"#66c2a5\"},\"height\":{\"value\":0.9},\"left\":{\"expr\":{\"id\":\"f4ca5f26-93f4-4b8b-9077-06a1810ccf9a\",\"type\":\"Stack\"}},\"line_color\":{\"value\":\"#66c2a5\"},\"right\":{\"expr\":{\"id\":\"c775b68d-4af1-4e81-af4a-db1e06ffa50c\",\"type\":\"Stack\"}},\"y\":{\"field\":\"Ethnicity\"}},\"id\":\"b770a472-5cf7-46ce-b7c3-515722a9e2b2\",\"type\":\"HBar\"},{\"attributes\":{\"label\":{\"value\":\"Natural Causes/Illness\"},\"renderers\":[{\"id\":\"15b7dd42-97c4-4027-8503-c8bc357779cf\",\"type\":\"GlyphRenderer\"}]},\"id\":\"52866ff5-48ba-4f3b-b730-b0232ed4069a\",\"type\":\"LegendItem\"},{\"attributes\":{},\"id\":\"97546eda-3673-4578-9906-d75447c70046\",\"type\":\"BasicTickFormatter\"},{\"attributes\":{\"fill_alpha\":{\"value\":0.1},\"fill_color\":{\"value\":\"#1f77b4\"},\"height\":{\"value\":0.9},\"left\":{\"expr\":{\"id\":\"05552262-5fa9-4a9b-804d-aa44da8bc295\",\"type\":\"Stack\"}},\"line_alpha\":{\"value\":0.1},\"line_color\":{\"value\":\"#1f77b4\"},\"right\":{\"expr\":{\"id\":\"9a5e223b-9582-4127-9860-b3a2928d3215\",\"type\":\"Stack\"}},\"y\":{\"field\":\"Ethnicity\"}},\"id\":\"466a8d75-4474-4f47-bed2-20fd4a0eda02\",\"type\":\"HBar\"},{\"attributes\":{\"data_source\":{\"id\":\"f6dfcb8d-1fbb-4095-adc7-0cd6ef4e1e8d\",\"type\":\"ColumnDataSource\"},\"glyph\":{\"id\":\"d9523958-3e96-4820-82ed-8c5a500b70cc\",\"type\":\"HBar\"},\"hover_glyph\":null,\"muted_glyph\":null,\"nonselection_glyph\":{\"id\":\"f61b3cc4-e50a-4be1-8122-cd5d04e73ea9\",\"type\":\"HBar\"},\"selection_glyph\":null,\"view\":{\"id\":\"a00f639f-a083-403b-8358-38954aa62b94\",\"type\":\"CDSView\"}},\"id\":\"15b7dd42-97c4-4027-8503-c8bc357779cf\",\"type\":\"GlyphRenderer\"},{\"attributes\":{\"source\":{\"id\":\"f6dfcb8d-1fbb-4095-adc7-0cd6ef4e1e8d\",\"type\":\"ColumnDataSource\"}},\"id\":\"a00f639f-a083-403b-8358-38954aa62b94\",\"type\":\"CDSView\"},{\"attributes\":{\"fill_alpha\":{\"value\":0.1},\"fill_color\":{\"value\":\"#1f77b4\"},\"height\":{\"value\":0.9},\"left\":{\"expr\":{\"id\":\"f4ca5f26-93f4-4b8b-9077-06a1810ccf9a\",\"type\":\"Stack\"}},\"line_alpha\":{\"value\":0.1},\"line_color\":{\"value\":\"#1f77b4\"},\"right\":{\"expr\":{\"id\":\"c775b68d-4af1-4e81-af4a-db1e06ffa50c\",\"type\":\"Stack\"}},\"y\":{\"field\":\"Ethnicity\"}},\"id\":\"6944f750-0094-47f0-98ae-43504e763c15\",\"type\":\"HBar\"},{\"attributes\":{\"fill_alpha\":{\"value\":0.1},\"fill_color\":{\"value\":\"#1f77b4\"},\"height\":{\"value\":0.9},\"left\":{\"expr\":{\"id\":\"3d888752-f86f-448d-a85e-1c1ff4a9d22b\",\"type\":\"Stack\"}},\"line_alpha\":{\"value\":0.1},\"line_color\":{\"value\":\"#1f77b4\"},\"right\":{\"expr\":{\"id\":\"bb95e82f-8f3a-471e-b592-af9bb37f8494\",\"type\":\"Stack\"}},\"y\":{\"field\":\"Ethnicity\"}},\"id\":\"84512079-32be-46ee-8e43-3622d8cc5eb6\",\"type\":\"HBar\"},{\"attributes\":{\"fill_color\":{\"value\":\"#abdda4\"},\"height\":{\"value\":0.9},\"left\":{\"expr\":{\"id\":\"05552262-5fa9-4a9b-804d-aa44da8bc295\",\"type\":\"Stack\"}},\"line_color\":{\"value\":\"#abdda4\"},\"right\":{\"expr\":{\"id\":\"9a5e223b-9582-4127-9860-b3a2928d3215\",\"type\":\"Stack\"}},\"y\":{\"field\":\"Ethnicity\"}},\"id\":\"4e3b22bf-a709-40d2-86fd-71252adcb5fd\",\"type\":\"HBar\"},{\"attributes\":{\"fill_color\":{\"value\":\"#fdae61\"},\"height\":{\"value\":0.9},\"left\":{\"expr\":{\"id\":\"5f605d66-f30c-41c3-a7db-6e665b1ed38b\",\"type\":\"Stack\"}},\"line_color\":{\"value\":\"#fdae61\"},\"right\":{\"expr\":{\"id\":\"7b10ba48-83dc-4e6d-b3b0-64f0ee1fee4b\",\"type\":\"Stack\"}},\"y\":{\"field\":\"Ethnicity\"}},\"id\":\"1b7cd162-de24-4780-bca2-073c84b81cf2\",\"type\":\"HBar\"},{\"attributes\":{\"label\":{\"value\":\"Other\"},\"renderers\":[{\"id\":\"f83f8c03-9729-4925-8a84-0a0751e6b51b\",\"type\":\"GlyphRenderer\"}]},\"id\":\"76936734-869e-4e1b-9913-064d9f9cf236\",\"type\":\"LegendItem\"},{\"attributes\":{\"data_source\":{\"id\":\"f6dfcb8d-1fbb-4095-adc7-0cd6ef4e1e8d\",\"type\":\"ColumnDataSource\"},\"glyph\":{\"id\":\"b770a472-5cf7-46ce-b7c3-515722a9e2b2\",\"type\":\"HBar\"},\"hover_glyph\":null,\"muted_glyph\":null,\"nonselection_glyph\":{\"id\":\"6944f750-0094-47f0-98ae-43504e763c15\",\"type\":\"HBar\"},\"selection_glyph\":null,\"view\":{\"id\":\"672d71c0-bc73-47fa-b31e-c6725867a7b7\",\"type\":\"CDSView\"}},\"id\":\"f83f8c03-9729-4925-8a84-0a0751e6b51b\",\"type\":\"GlyphRenderer\"},{\"attributes\":{\"source\":{\"id\":\"f6dfcb8d-1fbb-4095-adc7-0cd6ef4e1e8d\",\"type\":\"ColumnDataSource\"}},\"id\":\"672d71c0-bc73-47fa-b31e-c6725867a7b7\",\"type\":\"CDSView\"},{\"attributes\":{\"fill_alpha\":{\"value\":0.1},\"fill_color\":{\"value\":\"#1f77b4\"},\"height\":{\"value\":0.9},\"left\":{\"expr\":{\"id\":\"bc016f7c-ff0a-4764-aeda-b7add093713d\",\"type\":\"Stack\"}},\"line_alpha\":{\"value\":0.1},\"line_color\":{\"value\":\"#1f77b4\"},\"right\":{\"expr\":{\"id\":\"d72f41fd-82d9-4fee-ba1f-7b1cbbc96f24\",\"type\":\"Stack\"}},\"y\":{\"field\":\"Ethnicity\"}},\"id\":\"9367a024-1b0e-4dc0-9438-d0b6bd07147d\",\"type\":\"HBar\"},{\"attributes\":{\"data_source\":{\"id\":\"f6dfcb8d-1fbb-4095-adc7-0cd6ef4e1e8d\",\"type\":\"ColumnDataSource\"},\"glyph\":{\"id\":\"aa0a8800-7738-4f5f-9510-a5271e6954a6\",\"type\":\"HBar\"},\"hover_glyph\":null,\"muted_glyph\":null,\"nonselection_glyph\":{\"id\":\"9367a024-1b0e-4dc0-9438-d0b6bd07147d\",\"type\":\"HBar\"},\"selection_glyph\":null,\"view\":{\"id\":\"deb72170-6ae4-4dc8-a452-1b0a103fe8a3\",\"type\":\"CDSView\"}},\"id\":\"0190875a-df6c-4781-aaac-474aae0a1701\",\"type\":\"GlyphRenderer\"},{\"attributes\":{\"label\":{\"value\":\"Accidental injury to self\"},\"renderers\":[{\"id\":\"f19a3723-239f-4140-86e2-98917f221732\",\"type\":\"GlyphRenderer\"}]},\"id\":\"260e66f3-6e00-4f84-bf2f-d2a4de36a7f8\",\"type\":\"LegendItem\"},{\"attributes\":{\"fill_color\":{\"value\":\"#fee08b\"},\"height\":{\"value\":0.9},\"left\":{\"expr\":{\"id\":\"3d888752-f86f-448d-a85e-1c1ff4a9d22b\",\"type\":\"Stack\"}},\"line_color\":{\"value\":\"#fee08b\"},\"right\":{\"expr\":{\"id\":\"bb95e82f-8f3a-471e-b592-af9bb37f8494\",\"type\":\"Stack\"}},\"y\":{\"field\":\"Ethnicity\"}},\"id\":\"659eba8a-8d15-44aa-812f-d3b711650231\",\"type\":\"HBar\"},{\"attributes\":{\"data_source\":{\"id\":\"f6dfcb8d-1fbb-4095-adc7-0cd6ef4e1e8d\",\"type\":\"ColumnDataSource\"},\"glyph\":{\"id\":\"4e3b22bf-a709-40d2-86fd-71252adcb5fd\",\"type\":\"HBar\"},\"hover_glyph\":null,\"muted_glyph\":null,\"nonselection_glyph\":{\"id\":\"466a8d75-4474-4f47-bed2-20fd4a0eda02\",\"type\":\"HBar\"},\"selection_glyph\":null,\"view\":{\"id\":\"965b4c0c-2a8e-4c79-b322-a8f1ec014fe2\",\"type\":\"CDSView\"}},\"id\":\"f19a3723-239f-4140-86e2-98917f221732\",\"type\":\"GlyphRenderer\"},{\"attributes\":{\"source\":{\"id\":\"f6dfcb8d-1fbb-4095-adc7-0cd6ef4e1e8d\",\"type\":\"ColumnDataSource\"}},\"id\":\"965b4c0c-2a8e-4c79-b322-a8f1ec014fe2\",\"type\":\"CDSView\"},{\"attributes\":{\"fields\":[\"Natural Causes/Illness\",\"Other\",\"Accidental injury to self\"]},\"id\":\"bc016f7c-ff0a-4764-aeda-b7add093713d\",\"type\":\"Stack\"},{\"attributes\":{\"source\":{\"id\":\"f6dfcb8d-1fbb-4095-adc7-0cd6ef4e1e8d\",\"type\":\"ColumnDataSource\"}},\"id\":\"deb72170-6ae4-4dc8-a452-1b0a103fe8a3\",\"type\":\"CDSView\"},{\"attributes\":{\"fill_alpha\":{\"value\":0.1},\"fill_color\":{\"value\":\"#1f77b4\"},\"height\":{\"value\":0.9},\"left\":{\"expr\":{\"id\":\"5f605d66-f30c-41c3-a7db-6e665b1ed38b\",\"type\":\"Stack\"}},\"line_alpha\":{\"value\":0.1},\"line_color\":{\"value\":\"#1f77b4\"},\"right\":{\"expr\":{\"id\":\"7b10ba48-83dc-4e6d-b3b0-64f0ee1fee4b\",\"type\":\"Stack\"}},\"y\":{\"field\":\"Ethnicity\"}},\"id\":\"d366109e-af4d-459f-b09e-5c4237617a1f\",\"type\":\"HBar\"},{\"attributes\":{\"fill_color\":{\"value\":\"#f46d43\"},\"height\":{\"value\":0.9},\"left\":{\"expr\":{\"id\":\"d4e5d22e-595c-4028-a70b-deba03892410\",\"type\":\"Stack\"}},\"line_color\":{\"value\":\"#f46d43\"},\"right\":{\"expr\":{\"id\":\"4da68c0a-705e-4ae4-b66a-ae82542dc554\",\"type\":\"Stack\"}},\"y\":{\"field\":\"Ethnicity\"}},\"id\":\"691442b9-2b87-4475-b774-8ace138f9e38\",\"type\":\"HBar\"},{\"attributes\":{\"label\":{\"value\":\"Suicide\"},\"renderers\":[{\"id\":\"c1695288-8901-4026-9c34-c034b511ebc8\",\"type\":\"GlyphRenderer\"}]},\"id\":\"cbd25b0d-f343-4b9f-bfde-df1a9003931b\",\"type\":\"LegendItem\"},{\"attributes\":{\"data_source\":{\"id\":\"f6dfcb8d-1fbb-4095-adc7-0cd6ef4e1e8d\",\"type\":\"ColumnDataSource\"},\"glyph\":{\"id\":\"659eba8a-8d15-44aa-812f-d3b711650231\",\"type\":\"HBar\"},\"hover_glyph\":null,\"muted_glyph\":null,\"nonselection_glyph\":{\"id\":\"84512079-32be-46ee-8e43-3622d8cc5eb6\",\"type\":\"HBar\"},\"selection_glyph\":null,\"view\":{\"id\":\"348a7e90-3efc-41f0-a09d-2fe192673c5f\",\"type\":\"CDSView\"}},\"id\":\"c1695288-8901-4026-9c34-c034b511ebc8\",\"type\":\"GlyphRenderer\"},{\"attributes\":{\"fill_color\":{\"value\":\"#e6f598\"},\"height\":{\"value\":0.9},\"left\":{\"expr\":{\"id\":\"bc016f7c-ff0a-4764-aeda-b7add093713d\",\"type\":\"Stack\"}},\"line_color\":{\"value\":\"#e6f598\"},\"right\":{\"expr\":{\"id\":\"d72f41fd-82d9-4fee-ba1f-7b1cbbc96f24\",\"type\":\"Stack\"}},\"y\":{\"field\":\"Ethnicity\"}},\"id\":\"aa0a8800-7738-4f5f-9510-a5271e6954a6\",\"type\":\"HBar\"},{\"attributes\":{\"callback\":null,\"column_names\":[\"Ethnicity\",\"Accidental injury caused by others\",\"Natural Causes/Illness\",\"Other\",\"Accidental injury to self\",\"Homicide by Law Enforcement/Correctional Staff\",\"Suicide\",\"Alcohol/Drug Intoxication\",\"Homicide by Other\"],\"data\":{\"Accidental injury caused by others\":{\"__ndarray__\":\"AAAAAAMAAAAAAAAABgAAAAsAAAAAAAAAAQAAAAAAAAA=\",\"dtype\":\"int32\",\"shape\":[8]},\"Accidental injury to self\":{\"__ndarray__\":\"AAAAAD8AAAAAAAAAJAAAADYAAAABAAAAAAAAAAEAAAA=\",\"dtype\":\"int32\",\"shape\":[8]},\"Alcohol/Drug Intoxication\":{\"__ndarray__\":\"AAAAAGMAAAADAAAAXQAAAFgAAAAAAAAAAQAAAAAAAAA=\",\"dtype\":\"int32\",\"shape\":[8]},\"Ethnicity\":[\"Hispanic or Latino\",\"Black or African American\",\"Anglo or White\",\"Middle East\",\"Asian\",\"Other/Don't Know\",\"Native Hawaiian/Pacific Islander\",\"American Indian/Alaska Native\"],\"Homicide by Law Enforcement/Correctional Staff\":{\"__ndarray__\":\"BQAAAEEBAAAFAAAA1QAAACMBAAAHAAAAAQAAACMAAAA=\",\"dtype\":\"int32\",\"shape\":[8]},\"Homicide by Other\":{\"__ndarray__\":\"AAAAABkAAAABAAAAFgAAABgAAAAAAAAAAAAAAAAAAAA=\",\"dtype\":\"int32\",\"shape\":[8]},\"Natural Causes/Illness\":{\"__ndarray__\":\"BQAAAIcIAAATAAAAlwYAAFMFAAACAAAAAQAAAAYAAAA=\",\"dtype\":\"int32\",\"shape\":[8]},\"Other\":{\"__ndarray__\":\"AQAAAE0AAAAAAAAARAAAADgAAAAAAAAAAAAAAAEAAAA=\",\"dtype\":\"int32\",\"shape\":[8]},\"Suicide\":{\"__ndarray__\":\"AgAAAMcBAAAGAAAAkwAAAOUAAAACAAAAAQAAAAIAAAA=\",\"dtype\":\"int32\",\"shape\":[8]}}},\"id\":\"f6dfcb8d-1fbb-4095-adc7-0cd6ef4e1e8d\",\"type\":\"ColumnDataSource\"},{\"attributes\":{\"source\":{\"id\":\"f6dfcb8d-1fbb-4095-adc7-0cd6ef4e1e8d\",\"type\":\"ColumnDataSource\"}},\"id\":\"348a7e90-3efc-41f0-a09d-2fe192673c5f\",\"type\":\"CDSView\"},{\"attributes\":{\"fill_alpha\":{\"value\":0.1},\"fill_color\":{\"value\":\"#1f77b4\"},\"height\":{\"value\":0.9},\"left\":{\"expr\":{\"id\":\"d4e5d22e-595c-4028-a70b-deba03892410\",\"type\":\"Stack\"}},\"line_alpha\":{\"value\":0.1},\"line_color\":{\"value\":\"#1f77b4\"},\"right\":{\"expr\":{\"id\":\"4da68c0a-705e-4ae4-b66a-ae82542dc554\",\"type\":\"Stack\"}},\"y\":{\"field\":\"Ethnicity\"}},\"id\":\"e4bae9ad-64a7-4bc8-b821-2f40d139a629\",\"type\":\"HBar\"},{\"attributes\":{\"fill_color\":{\"value\":\"#d53e4f\"},\"height\":{\"value\":0.9},\"left\":{\"expr\":{\"id\":\"f7e6c478-5039-460f-b748-e37a7a7cc4d3\",\"type\":\"Stack\"}},\"line_color\":{\"value\":\"#d53e4f\"},\"right\":{\"expr\":{\"id\":\"34fe8fa6-00fa-4a62-85dd-3b7ae680699f\",\"type\":\"Stack\"}},\"y\":{\"field\":\"Ethnicity\"}},\"id\":\"46a0d647-005a-46ad-b6f6-93b6280b771a\",\"type\":\"HBar\"},{\"attributes\":{\"label\":{\"value\":\"Alcohol/Drug Intoxication\"},\"renderers\":[{\"id\":\"56ac32bb-8678-4795-a8c4-4ebfaa161c94\",\"type\":\"GlyphRenderer\"}]},\"id\":\"e8b1a6f5-3c3d-4cd7-9dd8-efa484e47082\",\"type\":\"LegendItem\"},{\"attributes\":{\"data_source\":{\"id\":\"f6dfcb8d-1fbb-4095-adc7-0cd6ef4e1e8d\",\"type\":\"ColumnDataSource\"},\"glyph\":{\"id\":\"1b7cd162-de24-4780-bca2-073c84b81cf2\",\"type\":\"HBar\"},\"hover_glyph\":null,\"muted_glyph\":null,\"nonselection_glyph\":{\"id\":\"d366109e-af4d-459f-b09e-5c4237617a1f\",\"type\":\"HBar\"},\"selection_glyph\":null,\"view\":{\"id\":\"2805b058-dac7-4fb0-bfed-0c8a407eace4\",\"type\":\"CDSView\"}},\"id\":\"56ac32bb-8678-4795-a8c4-4ebfaa161c94\",\"type\":\"GlyphRenderer\"},{\"attributes\":{\"source\":{\"id\":\"f6dfcb8d-1fbb-4095-adc7-0cd6ef4e1e8d\",\"type\":\"ColumnDataSource\"}},\"id\":\"2805b058-dac7-4fb0-bfed-0c8a407eace4\",\"type\":\"CDSView\"},{\"attributes\":{\"fill_alpha\":{\"value\":0.1},\"fill_color\":{\"value\":\"#1f77b4\"},\"height\":{\"value\":0.9},\"left\":{\"expr\":{\"id\":\"f7e6c478-5039-460f-b748-e37a7a7cc4d3\",\"type\":\"Stack\"}},\"line_alpha\":{\"value\":0.1},\"line_color\":{\"value\":\"#1f77b4\"},\"right\":{\"expr\":{\"id\":\"34fe8fa6-00fa-4a62-85dd-3b7ae680699f\",\"type\":\"Stack\"}},\"y\":{\"field\":\"Ethnicity\"}},\"id\":\"d80ef1c9-b511-4e46-a341-74b103829c18\",\"type\":\"HBar\"},{\"attributes\":{\"below\":[{\"id\":\"37cc2a5d-18d0-45af-838e-b35e5566d086\",\"type\":\"LinearAxis\"}],\"left\":[{\"id\":\"0a5fe321-5d6e-49a8-9c35-5865e4d08178\",\"type\":\"CategoricalAxis\"}],\"outline_line_color\":{\"value\":null},\"plot_height\":500,\"plot_width\":900,\"renderers\":[{\"id\":\"37cc2a5d-18d0-45af-838e-b35e5566d086\",\"type\":\"LinearAxis\"},{\"id\":\"bc58fcf1-1685-480c-a7d2-411cdf85ca04\",\"type\":\"Grid\"},{\"id\":\"0a5fe321-5d6e-49a8-9c35-5865e4d08178\",\"type\":\"CategoricalAxis\"},{\"id\":\"a5ea5e63-3ff2-4d89-9070-f34b3f1422fd\",\"type\":\"Grid\"},{\"id\":\"2d8296f3-39e4-4fdf-88fa-27f86ff15b30\",\"type\":\"Legend\"},{\"id\":\"15b7dd42-97c4-4027-8503-c8bc357779cf\",\"type\":\"GlyphRenderer\"},{\"id\":\"f83f8c03-9729-4925-8a84-0a0751e6b51b\",\"type\":\"GlyphRenderer\"},{\"id\":\"f19a3723-239f-4140-86e2-98917f221732\",\"type\":\"GlyphRenderer\"},{\"id\":\"0190875a-df6c-4781-aaac-474aae0a1701\",\"type\":\"GlyphRenderer\"},{\"id\":\"c1695288-8901-4026-9c34-c034b511ebc8\",\"type\":\"GlyphRenderer\"},{\"id\":\"56ac32bb-8678-4795-a8c4-4ebfaa161c94\",\"type\":\"GlyphRenderer\"},{\"id\":\"3bdb13f3-68cd-4b3f-860b-63a7207fbb97\",\"type\":\"GlyphRenderer\"},{\"id\":\"a4dd8893-9f12-41ca-8523-452c8ac26fa3\",\"type\":\"GlyphRenderer\"}],\"title\":{\"id\":\"91487f1d-3f8f-4886-8f6d-0615f2f6de7f\",\"type\":\"Title\"},\"toolbar\":{\"id\":\"5721a45b-33f7-45a8-811d-ae7a8d3b511a\",\"type\":\"Toolbar\"},\"toolbar_location\":null,\"x_range\":{\"id\":\"1667417f-e8b5-4f41-88b3-d47ff6e5d858\",\"type\":\"DataRange1d\"},\"x_scale\":{\"id\":\"f3fb4e02-e7aa-4672-9f54-e54ff8e8824b\",\"type\":\"LinearScale\"},\"y_range\":{\"id\":\"27ce1132-af21-49c8-88f9-92d17862bddd\",\"type\":\"FactorRange\"},\"y_scale\":{\"id\":\"d334ca41-3580-4ce9-9c47-51838ccd01e8\",\"type\":\"CategoricalScale\"}},\"id\":\"9aacdd6f-c6e4-491b-9f89-243ae060a5a8\",\"subtype\":\"Figure\",\"type\":\"Plot\"},{\"attributes\":{\"label\":{\"value\":\"Homicide by Other\"},\"renderers\":[{\"id\":\"3bdb13f3-68cd-4b3f-860b-63a7207fbb97\",\"type\":\"GlyphRenderer\"}]},\"id\":\"4fa8e78f-1e25-41fe-90cd-22d2f16b6402\",\"type\":\"LegendItem\"},{\"attributes\":{\"data_source\":{\"id\":\"f6dfcb8d-1fbb-4095-adc7-0cd6ef4e1e8d\",\"type\":\"ColumnDataSource\"},\"glyph\":{\"id\":\"691442b9-2b87-4475-b774-8ace138f9e38\",\"type\":\"HBar\"},\"hover_glyph\":null,\"muted_glyph\":null,\"nonselection_glyph\":{\"id\":\"e4bae9ad-64a7-4bc8-b821-2f40d139a629\",\"type\":\"HBar\"},\"selection_glyph\":null,\"view\":{\"id\":\"10d379cd-852c-477b-aeaf-a5d608c1c2d0\",\"type\":\"CDSView\"}},\"id\":\"3bdb13f3-68cd-4b3f-860b-63a7207fbb97\",\"type\":\"GlyphRenderer\"},{\"attributes\":{\"plot\":null,\"text\":\"Manner of Death by Ethnicity\"},\"id\":\"91487f1d-3f8f-4886-8f6d-0615f2f6de7f\",\"type\":\"Title\"},{\"attributes\":{\"source\":{\"id\":\"f6dfcb8d-1fbb-4095-adc7-0cd6ef4e1e8d\",\"type\":\"ColumnDataSource\"}},\"id\":\"10d379cd-852c-477b-aeaf-a5d608c1c2d0\",\"type\":\"CDSView\"},{\"attributes\":{\"callback\":null,\"end\":6000,\"start\":0},\"id\":\"1667417f-e8b5-4f41-88b3-d47ff6e5d858\",\"type\":\"DataRange1d\"},{\"attributes\":{\"active_drag\":\"auto\",\"active_inspect\":\"auto\",\"active_scroll\":\"auto\",\"active_tap\":\"auto\"},\"id\":\"5721a45b-33f7-45a8-811d-ae7a8d3b511a\",\"type\":\"Toolbar\"},{\"attributes\":{\"dimension\":1,\"plot\":{\"id\":\"9aacdd6f-c6e4-491b-9f89-243ae060a5a8\",\"subtype\":\"Figure\",\"type\":\"Plot\"},\"ticker\":{\"id\":\"d72a78b1-e561-4d21-bc5e-fde85f91b0f1\",\"type\":\"CategoricalTicker\"}},\"id\":\"a5ea5e63-3ff2-4d89-9070-f34b3f1422fd\",\"type\":\"Grid\"},{\"attributes\":{\"label\":{\"value\":\"Accidental injury caused by others\"},\"renderers\":[{\"id\":\"a4dd8893-9f12-41ca-8523-452c8ac26fa3\",\"type\":\"GlyphRenderer\"}]},\"id\":\"135158b7-f511-4566-8306-6870c8eeed7a\",\"type\":\"LegendItem\"},{\"attributes\":{},\"id\":\"f3fb4e02-e7aa-4672-9f54-e54ff8e8824b\",\"type\":\"LinearScale\"},{\"attributes\":{\"callback\":null,\"factors\":[\"Hispanic or Latino\",\"Black or African American\",\"Anglo or White\",\"Middle East\",\"Asian\",\"Other/Don't Know\",\"Native Hawaiian/Pacific Islander\",\"American Indian/Alaska Native\"],\"range_padding\":0.1},\"id\":\"27ce1132-af21-49c8-88f9-92d17862bddd\",\"type\":\"FactorRange\"},{\"attributes\":{\"data_source\":{\"id\":\"f6dfcb8d-1fbb-4095-adc7-0cd6ef4e1e8d\",\"type\":\"ColumnDataSource\"},\"glyph\":{\"id\":\"46a0d647-005a-46ad-b6f6-93b6280b771a\",\"type\":\"HBar\"},\"hover_glyph\":null,\"muted_glyph\":null,\"nonselection_glyph\":{\"id\":\"d80ef1c9-b511-4e46-a341-74b103829c18\",\"type\":\"HBar\"},\"selection_glyph\":null,\"view\":{\"id\":\"384fdcd2-9307-4be9-b477-12751dc6f0f7\",\"type\":\"CDSView\"}},\"id\":\"a4dd8893-9f12-41ca-8523-452c8ac26fa3\",\"type\":\"GlyphRenderer\"},{\"attributes\":{},\"id\":\"d334ca41-3580-4ce9-9c47-51838ccd01e8\",\"type\":\"CategoricalScale\"},{\"attributes\":{\"source\":{\"id\":\"f6dfcb8d-1fbb-4095-adc7-0cd6ef4e1e8d\",\"type\":\"ColumnDataSource\"}},\"id\":\"384fdcd2-9307-4be9-b477-12751dc6f0f7\",\"type\":\"CDSView\"},{\"attributes\":{\"grid_line_color\":{\"value\":null},\"plot\":{\"id\":\"9aacdd6f-c6e4-491b-9f89-243ae060a5a8\",\"subtype\":\"Figure\",\"type\":\"Plot\"},\"ticker\":{\"id\":\"d6654c63-9752-4cdf-874f-ac44a5428bb8\",\"type\":\"BasicTicker\"}},\"id\":\"bc58fcf1-1685-480c-a7d2-411cdf85ca04\",\"type\":\"Grid\"},{\"attributes\":{\"formatter\":{\"id\":\"97546eda-3673-4578-9906-d75447c70046\",\"type\":\"BasicTickFormatter\"},\"minor_tick_line_color\":{\"value\":null},\"plot\":{\"id\":\"9aacdd6f-c6e4-491b-9f89-243ae060a5a8\",\"subtype\":\"Figure\",\"type\":\"Plot\"},\"ticker\":{\"id\":\"d6654c63-9752-4cdf-874f-ac44a5428bb8\",\"type\":\"BasicTicker\"}},\"id\":\"37cc2a5d-18d0-45af-838e-b35e5566d086\",\"type\":\"LinearAxis\"},{\"attributes\":{},\"id\":\"d6654c63-9752-4cdf-874f-ac44a5428bb8\",\"type\":\"BasicTicker\"},{\"attributes\":{\"formatter\":{\"id\":\"087ee355-6a01-42fe-b4d8-be80e090a255\",\"type\":\"CategoricalTickFormatter\"},\"minor_tick_line_color\":{\"value\":null},\"plot\":{\"id\":\"9aacdd6f-c6e4-491b-9f89-243ae060a5a8\",\"subtype\":\"Figure\",\"type\":\"Plot\"},\"ticker\":{\"id\":\"d72a78b1-e561-4d21-bc5e-fde85f91b0f1\",\"type\":\"CategoricalTicker\"}},\"id\":\"0a5fe321-5d6e-49a8-9c35-5865e4d08178\",\"type\":\"CategoricalAxis\"},{\"attributes\":{},\"id\":\"d72a78b1-e561-4d21-bc5e-fde85f91b0f1\",\"type\":\"CategoricalTicker\"}],\"root_ids\":[\"9aacdd6f-c6e4-491b-9f89-243ae060a5a8\"]},\"title\":\"Bokeh Application\",\"version\":\"0.12.13\"}};\n",
       "  var render_items = [{\"docid\":\"6c3fcb0a-e14d-4b28-83e0-143ee7b512f1\",\"elementid\":\"a4d8ecc5-f04a-4a1a-a778-b57f9f92272c\",\"modelid\":\"9aacdd6f-c6e4-491b-9f89-243ae060a5a8\"}];\n",
       "  root.Bokeh.embed.embed_items_notebook(docs_json, render_items);\n",
       "\n",
       "  }\n",
       "  if (root.Bokeh !== undefined) {\n",
       "    embed_document(root);\n",
       "  } else {\n",
       "    var attempts = 0;\n",
       "    var timer = setInterval(function(root) {\n",
       "      if (root.Bokeh !== undefined) {\n",
       "        embed_document(root);\n",
       "        clearInterval(timer);\n",
       "      }\n",
       "      attempts++;\n",
       "      if (attempts > 100) {\n",
       "        console.log(\"Bokeh: ERROR: Unable to run BokehJS code because BokehJS library is missing\")\n",
       "        clearInterval(timer);\n",
       "      }\n",
       "    }, 10, root)\n",
       "  }\n",
       "})(window);"
      ],
      "application/vnd.bokehjs_exec.v0+json": ""
     },
     "metadata": {
      "application/vnd.bokehjs_exec.v0+json": {
       "id": "9aacdd6f-c6e4-491b-9f89-243ae060a5a8"
      }
     },
     "output_type": "display_data"
    }
   ],
   "source": [
    "data= {'Ethnicity': eth, 'Accidental injury caused by others' : death_eth_df['Accidental injury caused by others'].values, \n",
    "       'Natural Causes/Illness': death_eth_df['Natural Causes/Illness'].values,  'Other':death_eth_df['Other'].values, \n",
    "       'Accidental injury to self': death_eth_df['Accidental injury to self'].values,  \n",
    "       'Homicide by Law Enforcement/Correctional Staff': death_eth_df['Homicide by Law Enforcement/Correctional Staff'].values,\n",
    "       'Suicide': death_eth_df['Suicide'].values, 'Alcohol/Drug Intoxication': death_eth_df['Alcohol/Drug Intoxication'].values, \n",
    "       'Homicide by Other': death_eth_df['Homicide by Other'].values}\n",
    "\n",
    "source = ColumnDataSource(data=data)\n",
    "\n",
    "g = figure(y_range= data['Ethnicity'], plot_height=500,plot_width=900, title=\"Manner of Death by Ethnicity\",\n",
    "           toolbar_location=None, tools=\"\")\n",
    "\n",
    "\n",
    "g.hbar_stack(deathtype, y= 'Ethnicity', height=0.9, color=Spectral8, source=source,\n",
    "             legend=[value(x) for x in deathtype])\n",
    "\n",
    "g.x_range.start = 0\n",
    "g.x_range.end = 6000\n",
    "g.y_range.range_padding = 0.1\n",
    "g.xgrid.grid_line_color = None\n",
    "g.axis.minor_tick_line_color = None\n",
    "g.outline_line_color = None\n",
    "g.legend.location = \"top_right\"\n",
    "g.legend.orientation = \"vertical\"\n",
    "\n",
    "show(g)\n"
   ]
  },
  {
   "cell_type": "code",
   "execution_count": 23,
   "metadata": {
    "scrolled": true
   },
   "outputs": [
    {
     "data": {
      "text/html": [
       "<div>\n",
       "<style scoped>\n",
       "    .dataframe tbody tr th:only-of-type {\n",
       "        vertical-align: middle;\n",
       "    }\n",
       "\n",
       "    .dataframe tbody tr th {\n",
       "        vertical-align: top;\n",
       "    }\n",
       "\n",
       "    .dataframe thead th {\n",
       "        text-align: right;\n",
       "    }\n",
       "</style>\n",
       "<table border=\"1\" class=\"dataframe\">\n",
       "  <thead>\n",
       "    <tr style=\"text-align: right;\">\n",
       "      <th>Department Name</th>\n",
       "      <th>Austin Police Dept.</th>\n",
       "      <th>Dallas County Sheriff's Dept.</th>\n",
       "      <th>Dallas Police Dept.</th>\n",
       "      <th>Fort Worth Police Dept.</th>\n",
       "      <th>Harris County Sheriff's Dept.</th>\n",
       "      <th>Houston Police Dept.</th>\n",
       "      <th>San Antonio Police Dept.</th>\n",
       "      <th>Texas Department Of Criminal Justice</th>\n",
       "      <th>Texas Department Of Public Safety</th>\n",
       "      <th>Travis County Sheriff's Dept.</th>\n",
       "    </tr>\n",
       "    <tr>\n",
       "      <th>Ethnicity</th>\n",
       "      <th></th>\n",
       "      <th></th>\n",
       "      <th></th>\n",
       "      <th></th>\n",
       "      <th></th>\n",
       "      <th></th>\n",
       "      <th></th>\n",
       "      <th></th>\n",
       "      <th></th>\n",
       "      <th></th>\n",
       "    </tr>\n",
       "  </thead>\n",
       "  <tbody>\n",
       "    <tr>\n",
       "      <th>American Indian/Alaska Native</th>\n",
       "      <td>0</td>\n",
       "      <td>1</td>\n",
       "      <td>0</td>\n",
       "      <td>0</td>\n",
       "      <td>1</td>\n",
       "      <td>0</td>\n",
       "      <td>0</td>\n",
       "      <td>4</td>\n",
       "      <td>0</td>\n",
       "      <td>0</td>\n",
       "    </tr>\n",
       "    <tr>\n",
       "      <th>Anglo or White</th>\n",
       "      <td>21</td>\n",
       "      <td>29</td>\n",
       "      <td>30</td>\n",
       "      <td>29</td>\n",
       "      <td>66</td>\n",
       "      <td>50</td>\n",
       "      <td>27</td>\n",
       "      <td>2154</td>\n",
       "      <td>51</td>\n",
       "      <td>21</td>\n",
       "    </tr>\n",
       "    <tr>\n",
       "      <th>Asian</th>\n",
       "      <td>1</td>\n",
       "      <td>1</td>\n",
       "      <td>0</td>\n",
       "      <td>1</td>\n",
       "      <td>3</td>\n",
       "      <td>3</td>\n",
       "      <td>2</td>\n",
       "      <td>17</td>\n",
       "      <td>0</td>\n",
       "      <td>0</td>\n",
       "    </tr>\n",
       "    <tr>\n",
       "      <th>Black or African American</th>\n",
       "      <td>11</td>\n",
       "      <td>55</td>\n",
       "      <td>61</td>\n",
       "      <td>16</td>\n",
       "      <td>116</td>\n",
       "      <td>113</td>\n",
       "      <td>25</td>\n",
       "      <td>1546</td>\n",
       "      <td>9</td>\n",
       "      <td>16</td>\n",
       "    </tr>\n",
       "    <tr>\n",
       "      <th>Hispanic or Latino</th>\n",
       "      <td>6</td>\n",
       "      <td>12</td>\n",
       "      <td>27</td>\n",
       "      <td>16</td>\n",
       "      <td>42</td>\n",
       "      <td>65</td>\n",
       "      <td>82</td>\n",
       "      <td>1347</td>\n",
       "      <td>20</td>\n",
       "      <td>10</td>\n",
       "    </tr>\n",
       "    <tr>\n",
       "      <th>Middle East</th>\n",
       "      <td>0</td>\n",
       "      <td>0</td>\n",
       "      <td>1</td>\n",
       "      <td>0</td>\n",
       "      <td>2</td>\n",
       "      <td>2</td>\n",
       "      <td>1</td>\n",
       "      <td>3</td>\n",
       "      <td>0</td>\n",
       "      <td>0</td>\n",
       "    </tr>\n",
       "    <tr>\n",
       "      <th>Native Hawaiian/Pacific Islander</th>\n",
       "      <td>0</td>\n",
       "      <td>0</td>\n",
       "      <td>1</td>\n",
       "      <td>0</td>\n",
       "      <td>0</td>\n",
       "      <td>0</td>\n",
       "      <td>0</td>\n",
       "      <td>0</td>\n",
       "      <td>0</td>\n",
       "      <td>0</td>\n",
       "    </tr>\n",
       "    <tr>\n",
       "      <th>Other/Don't Know</th>\n",
       "      <td>0</td>\n",
       "      <td>0</td>\n",
       "      <td>0</td>\n",
       "      <td>0</td>\n",
       "      <td>1</td>\n",
       "      <td>0</td>\n",
       "      <td>1</td>\n",
       "      <td>6</td>\n",
       "      <td>0</td>\n",
       "      <td>0</td>\n",
       "    </tr>\n",
       "  </tbody>\n",
       "</table>\n",
       "</div>"
      ],
      "text/plain": [
       "Department Name                   Austin Police Dept.  \\\n",
       "Ethnicity                                               \n",
       "American Indian/Alaska Native                       0   \n",
       "Anglo or White                                     21   \n",
       "Asian                                               1   \n",
       "Black or African American                          11   \n",
       "Hispanic or Latino                                  6   \n",
       "Middle East                                         0   \n",
       "Native Hawaiian/Pacific Islander                    0   \n",
       "Other/Don't Know                                    0   \n",
       "\n",
       "Department Name                   Dallas County Sheriff's Dept.  \\\n",
       "Ethnicity                                                         \n",
       "American Indian/Alaska Native                                 1   \n",
       "Anglo or White                                               29   \n",
       "Asian                                                         1   \n",
       "Black or African American                                    55   \n",
       "Hispanic or Latino                                           12   \n",
       "Middle East                                                   0   \n",
       "Native Hawaiian/Pacific Islander                              0   \n",
       "Other/Don't Know                                              0   \n",
       "\n",
       "Department Name                   Dallas Police Dept.  \\\n",
       "Ethnicity                                               \n",
       "American Indian/Alaska Native                       0   \n",
       "Anglo or White                                     30   \n",
       "Asian                                               0   \n",
       "Black or African American                          61   \n",
       "Hispanic or Latino                                 27   \n",
       "Middle East                                         1   \n",
       "Native Hawaiian/Pacific Islander                    1   \n",
       "Other/Don't Know                                    0   \n",
       "\n",
       "Department Name                   Fort Worth Police Dept.  \\\n",
       "Ethnicity                                                   \n",
       "American Indian/Alaska Native                           0   \n",
       "Anglo or White                                         29   \n",
       "Asian                                                   1   \n",
       "Black or African American                              16   \n",
       "Hispanic or Latino                                     16   \n",
       "Middle East                                             0   \n",
       "Native Hawaiian/Pacific Islander                        0   \n",
       "Other/Don't Know                                        0   \n",
       "\n",
       "Department Name                   Harris County Sheriff's Dept.  \\\n",
       "Ethnicity                                                         \n",
       "American Indian/Alaska Native                                 1   \n",
       "Anglo or White                                               66   \n",
       "Asian                                                         3   \n",
       "Black or African American                                   116   \n",
       "Hispanic or Latino                                           42   \n",
       "Middle East                                                   2   \n",
       "Native Hawaiian/Pacific Islander                              0   \n",
       "Other/Don't Know                                              1   \n",
       "\n",
       "Department Name                   Houston Police Dept.  \\\n",
       "Ethnicity                                                \n",
       "American Indian/Alaska Native                        0   \n",
       "Anglo or White                                      50   \n",
       "Asian                                                3   \n",
       "Black or African American                          113   \n",
       "Hispanic or Latino                                  65   \n",
       "Middle East                                          2   \n",
       "Native Hawaiian/Pacific Islander                     0   \n",
       "Other/Don't Know                                     0   \n",
       "\n",
       "Department Name                   San Antonio Police Dept.  \\\n",
       "Ethnicity                                                    \n",
       "American Indian/Alaska Native                            0   \n",
       "Anglo or White                                          27   \n",
       "Asian                                                    2   \n",
       "Black or African American                               25   \n",
       "Hispanic or Latino                                      82   \n",
       "Middle East                                              1   \n",
       "Native Hawaiian/Pacific Islander                         0   \n",
       "Other/Don't Know                                         1   \n",
       "\n",
       "Department Name                   Texas Department Of Criminal Justice  \\\n",
       "Ethnicity                                                                \n",
       "American Indian/Alaska Native                                        4   \n",
       "Anglo or White                                                    2154   \n",
       "Asian                                                               17   \n",
       "Black or African American                                         1546   \n",
       "Hispanic or Latino                                                1347   \n",
       "Middle East                                                          3   \n",
       "Native Hawaiian/Pacific Islander                                     0   \n",
       "Other/Don't Know                                                     6   \n",
       "\n",
       "Department Name                   Texas Department Of Public Safety  \\\n",
       "Ethnicity                                                             \n",
       "American Indian/Alaska Native                                     0   \n",
       "Anglo or White                                                   51   \n",
       "Asian                                                             0   \n",
       "Black or African American                                         9   \n",
       "Hispanic or Latino                                               20   \n",
       "Middle East                                                       0   \n",
       "Native Hawaiian/Pacific Islander                                  0   \n",
       "Other/Don't Know                                                  0   \n",
       "\n",
       "Department Name                   Travis County Sheriff's Dept.  \n",
       "Ethnicity                                                        \n",
       "American Indian/Alaska Native                                 0  \n",
       "Anglo or White                                               21  \n",
       "Asian                                                         0  \n",
       "Black or African American                                    16  \n",
       "Hispanic or Latino                                           10  \n",
       "Middle East                                                   0  \n",
       "Native Hawaiian/Pacific Islander                              0  \n",
       "Other/Don't Know                                              0  "
      ]
     },
     "execution_count": 23,
     "metadata": {},
     "output_type": "execute_result"
    }
   ],
   "source": [
    "major = cust[(cust['Department Name'] == 'Texas Department Of Criminal Justice') | (cust['Department Name'] == 'Harris County Sheriff\\'s Dept.')| (cust['Department Name'] == 'Houston Police Dept.')| (cust['Department Name'] == 'San Antonio Police Dept.')| (cust['Department Name'] == 'Fort Worth Police Dept.')| (cust['Department Name'] == 'Dallas Police Dept.')| (cust['Department Name'] == 'Dallas County Sheriff\\'s Dept.') | (cust['Department Name'] == 'Bexar County Sheriff\\s Dept.')| (cust['Department Name'] == 'Texas Department Of Public Safety')| (cust['Department Name'] == 'Austin Police Dept.')| (cust['Department Name'] == 'Tarrant County Sheriff\\s Dept.')| (cust['Department Name'] == 'Travis County Sheriff\\'s Dept.')]  \n",
    "reduce =major.groupby(['Ethnicity', 'Department Name'])['Last Name'].count().sort_values(ascending = False)\n",
    "majdept = reduce.unstack()\n",
    "majdept = majdept.fillna(0).astype(int)\n",
    "majdept"
   ]
  },
  {
   "cell_type": "code",
   "execution_count": null,
   "metadata": {},
   "outputs": [],
   "source": []
  },
  {
   "cell_type": "code",
   "execution_count": 24,
   "metadata": {},
   "outputs": [],
   "source": [
    "dept = cust.groupby(['Department Name'])['Last Name'].count()"
   ]
  },
  {
   "cell_type": "code",
   "execution_count": 25,
   "metadata": {},
   "outputs": [
    {
     "data": {
      "text/plain": [
       "Index(['Austin Police Dept.', 'Dallas County Sheriff's Dept.',\n",
       "       'Dallas Police Dept.', 'Fort Worth Police Dept.',\n",
       "       'Harris County Sheriff's Dept.', 'Houston Police Dept.',\n",
       "       'San Antonio Police Dept.', 'Texas Department Of Criminal Justice',\n",
       "       'Texas Department Of Public Safety', 'Travis County Sheriff's Dept.'],\n",
       "      dtype='object', name='Department Name')"
      ]
     },
     "execution_count": 25,
     "metadata": {},
     "output_type": "execute_result"
    }
   ],
   "source": [
    "majdept.columns"
   ]
  },
  {
   "cell_type": "code",
   "execution_count": 26,
   "metadata": {},
   "outputs": [
    {
     "name": "stdout",
     "output_type": "stream",
     "text": [
      "% of deaths in custody of Houston PD that were Black: 0.484978540773\n"
     ]
    }
   ],
   "source": [
    "print (\"% of deaths in custody of Houston PD that were Black:\", majdept.loc['Black or African American', 'Houston Police Dept.']/dept['Houston Police Dept.'])"
   ]
  },
  {
   "cell_type": "code",
   "execution_count": 27,
   "metadata": {},
   "outputs": [
    {
     "name": "stdout",
     "output_type": "stream",
     "text": [
      "% of deaths in custody of Houston PD that were Black: 0.214592274678\n"
     ]
    }
   ],
   "source": [
    "print (\"% of deaths in custody of Houston PD that were Black:\", majdept.loc['Anglo or White', 'Houston Police Dept.']/dept['Houston Police Dept.'])"
   ]
  },
  {
   "cell_type": "code",
   "execution_count": 37,
   "metadata": {},
   "outputs": [
    {
     "data": {
      "text/plain": [
       "[0.0,\n",
       " 0.21459227467811159,\n",
       " 0.012875536480686695,\n",
       " 0.48497854077253216,\n",
       " 0.27896995708154504,\n",
       " 0.0085836909871244635,\n",
       " 0.0,\n",
       " 0.0]"
      ]
     },
     "execution_count": 37,
     "metadata": {},
     "output_type": "execute_result"
    }
   ],
   "source": [
    "percents = []\n",
    "for r in majdept['Houston Police Dept.']:\n",
    "    perc = int(r)/majdept['Houston Police Dept.'].sum()\n",
    "    percents.append(perc)\n",
    "\n",
    "percents"
   ]
  },
  {
   "cell_type": "code",
   "execution_count": 39,
   "metadata": {},
   "outputs": [
    {
     "name": "stderr",
     "output_type": "stream",
     "text": [
      "C:\\Users\\Lara\\Miniconda3\\lib\\site-packages\\bokeh\\models\\sources.py:137: BokehUserWarning: ColumnDataSource's columns must be of the same length. Current lengths: ('end_angle', 7), ('fill_color', 8), ('start_angle', 7)\n",
      "  \"Current lengths: %s\" % \", \".join(sorted(str((k, len(v))) for k, v in data.items())), BokehUserWarning))\n",
      "C:\\Users\\Lara\\Miniconda3\\lib\\site-packages\\bokeh\\models\\sources.py:137: BokehUserWarning: ColumnDataSource's columns must be of the same length. Current lengths: ('end_angle', 7), ('fill_color', 8), ('line_color', 8), ('start_angle', 7)\n",
      "  \"Current lengths: %s\" % \", \".join(sorted(str((k, len(v))) for k, v in data.items())), BokehUserWarning))\n"
     ]
    },
    {
     "data": {
      "text/html": [
       "\n",
       "<div class=\"bk-root\">\n",
       "    <div class=\"bk-plotdiv\" id=\"bc9dbad2-59dd-4471-82b4-758ce6429aab\"></div>\n",
       "</div>"
      ]
     },
     "metadata": {},
     "output_type": "display_data"
    },
    {
     "data": {
      "application/javascript": [
       "(function(root) {\n",
       "  function embed_document(root) {\n",
       "    \n",
       "  var docs_json = {\"a4603a20-0bca-4fcb-aa2d-85392a9d6c44\":{\"roots\":{\"references\":[{\"attributes\":{},\"id\":\"817c7bf1-9f17-4a5c-a7b8-2f7ae8b8d96e\",\"type\":\"ResetTool\"},{\"attributes\":{},\"id\":\"0cda7cab-f9ea-4f91-8378-663a839d7195\",\"type\":\"LinearScale\"},{\"attributes\":{\"plot\":null,\"text\":\"\"},\"id\":\"d451e822-f6a9-494c-8213-54f123889fbf\",\"type\":\"Title\"},{\"attributes\":{\"callback\":null,\"start\":-1},\"id\":\"851b1098-df2f-4cc0-9269-8f17aa4abb98\",\"type\":\"Range1d\"},{\"attributes\":{\"data_source\":{\"id\":\"3d172357-41f3-4196-88f8-c915a1ee50b5\",\"type\":\"ColumnDataSource\"},\"glyph\":{\"id\":\"9faa221e-e360-4bcf-bd0a-da2a800fe895\",\"type\":\"Wedge\"},\"hover_glyph\":null,\"muted_glyph\":null,\"nonselection_glyph\":{\"id\":\"1d8c6f9d-eda1-4a20-b4a2-13c004ad9b30\",\"type\":\"Wedge\"},\"selection_glyph\":null,\"view\":{\"id\":\"72010a94-18de-42d3-b08b-3b7b062f8e4a\",\"type\":\"CDSView\"}},\"id\":\"c3ba50b7-4fa0-43ef-aa8e-8124a27f9c21\",\"type\":\"GlyphRenderer\"},{\"attributes\":{\"callback\":null,\"start\":-1},\"id\":\"bcfbb46d-dbbd-41e3-8792-25b6458f25db\",\"type\":\"Range1d\"},{\"attributes\":{},\"id\":\"c26c267a-beac-4667-88c6-8839435c96d7\",\"type\":\"BasicTickFormatter\"},{\"attributes\":{},\"id\":\"b7224e1f-fb72-4e46-8f5a-2508fc7f28ea\",\"type\":\"HelpTool\"},{\"attributes\":{\"source\":{\"id\":\"3d172357-41f3-4196-88f8-c915a1ee50b5\",\"type\":\"ColumnDataSource\"}},\"id\":\"72010a94-18de-42d3-b08b-3b7b062f8e4a\",\"type\":\"CDSView\"},{\"attributes\":{},\"id\":\"fb31f0ae-d48d-472f-9b4c-7c68a48d2430\",\"type\":\"SaveTool\"},{\"attributes\":{\"below\":[{\"id\":\"33c81909-8e44-4a05-8258-da69aafdd580\",\"type\":\"LinearAxis\"}],\"left\":[{\"id\":\"4857b3c8-5573-4dd4-bec5-53a045a4f912\",\"type\":\"LinearAxis\"}],\"renderers\":[{\"id\":\"33c81909-8e44-4a05-8258-da69aafdd580\",\"type\":\"LinearAxis\"},{\"id\":\"9bde4609-66bb-4069-b4dd-9da0fbc2b4ed\",\"type\":\"Grid\"},{\"id\":\"4857b3c8-5573-4dd4-bec5-53a045a4f912\",\"type\":\"LinearAxis\"},{\"id\":\"8382f16d-45e2-43cd-9953-ee81c8ca474f\",\"type\":\"Grid\"},{\"id\":\"39a0913c-2731-4fc1-ae2e-f35e5b6843b2\",\"type\":\"BoxAnnotation\"},{\"id\":\"c3ba50b7-4fa0-43ef-aa8e-8124a27f9c21\",\"type\":\"GlyphRenderer\"}],\"title\":{\"id\":\"d451e822-f6a9-494c-8213-54f123889fbf\",\"type\":\"Title\"},\"toolbar\":{\"id\":\"77ff2f01-3340-413c-acc7-d583048cf1a9\",\"type\":\"Toolbar\"},\"x_range\":{\"id\":\"bcfbb46d-dbbd-41e3-8792-25b6458f25db\",\"type\":\"Range1d\"},\"x_scale\":{\"id\":\"0cda7cab-f9ea-4f91-8378-663a839d7195\",\"type\":\"LinearScale\"},\"y_range\":{\"id\":\"851b1098-df2f-4cc0-9269-8f17aa4abb98\",\"type\":\"Range1d\"},\"y_scale\":{\"id\":\"bfc2e189-d312-4a6b-bc64-cef266faf384\",\"type\":\"LinearScale\"}},\"id\":\"50258062-12a5-4f20-8b7d-e64d2fcf31f5\",\"subtype\":\"Figure\",\"type\":\"Plot\"},{\"attributes\":{\"active_drag\":\"auto\",\"active_inspect\":\"auto\",\"active_scroll\":\"auto\",\"active_tap\":\"auto\",\"tools\":[{\"id\":\"9345f3ed-82e2-4de1-889e-11984524e846\",\"type\":\"PanTool\"},{\"id\":\"a393c0ee-42ef-4496-b24a-95dacdf6335e\",\"type\":\"WheelZoomTool\"},{\"id\":\"dba5391c-f00c-4c4f-9f6f-b1bb97d727c7\",\"type\":\"BoxZoomTool\"},{\"id\":\"fb31f0ae-d48d-472f-9b4c-7c68a48d2430\",\"type\":\"SaveTool\"},{\"id\":\"817c7bf1-9f17-4a5c-a7b8-2f7ae8b8d96e\",\"type\":\"ResetTool\"},{\"id\":\"b7224e1f-fb72-4e46-8f5a-2508fc7f28ea\",\"type\":\"HelpTool\"}]},\"id\":\"77ff2f01-3340-413c-acc7-d583048cf1a9\",\"type\":\"Toolbar\"},{\"attributes\":{},\"id\":\"d1075d1d-3ca7-4be6-97ca-6dcb45dbbd4e\",\"type\":\"BasicTicker\"},{\"attributes\":{},\"id\":\"c5cce92e-cea4-4f87-8666-ad4d0010777b\",\"type\":\"BasicTickFormatter\"},{\"attributes\":{\"formatter\":{\"id\":\"c26c267a-beac-4667-88c6-8839435c96d7\",\"type\":\"BasicTickFormatter\"},\"plot\":{\"id\":\"50258062-12a5-4f20-8b7d-e64d2fcf31f5\",\"subtype\":\"Figure\",\"type\":\"Plot\"},\"ticker\":{\"id\":\"d1075d1d-3ca7-4be6-97ca-6dcb45dbbd4e\",\"type\":\"BasicTicker\"}},\"id\":\"33c81909-8e44-4a05-8258-da69aafdd580\",\"type\":\"LinearAxis\"},{\"attributes\":{\"callback\":null,\"column_names\":[\"start_angle\",\"end_angle\",\"fill_color\",\"line_color\"],\"data\":{\"end_angle\":[1.3483230272917568,0.0808993816375054,3.04721004167937,1.7528199354792835,0.05393292109167027,0.0,0.0],\"fill_color\":[\"#3288bd\",\"#66c2a5\",\"#abdda4\",\"#e6f598\",\"#fee08b\",\"#fdae61\",\"#f46d43\",\"#d53e4f\"],\"line_color\":[\"#3288bd\",\"#66c2a5\",\"#abdda4\",\"#e6f598\",\"#fee08b\",\"#fdae61\",\"#f46d43\",\"#d53e4f\"],\"start_angle\":[0.0,1.3483230272917568,0.0808993816375054,3.04721004167937,1.7528199354792835,0.05393292109167027,0.0]}},\"id\":\"3d172357-41f3-4196-88f8-c915a1ee50b5\",\"type\":\"ColumnDataSource\"},{\"attributes\":{\"plot\":{\"id\":\"50258062-12a5-4f20-8b7d-e64d2fcf31f5\",\"subtype\":\"Figure\",\"type\":\"Plot\"},\"ticker\":{\"id\":\"d1075d1d-3ca7-4be6-97ca-6dcb45dbbd4e\",\"type\":\"BasicTicker\"}},\"id\":\"9bde4609-66bb-4069-b4dd-9da0fbc2b4ed\",\"type\":\"Grid\"},{\"attributes\":{},\"id\":\"b4d9992e-6706-4ca2-b24d-e40542c501b0\",\"type\":\"BasicTicker\"},{\"attributes\":{\"formatter\":{\"id\":\"c5cce92e-cea4-4f87-8666-ad4d0010777b\",\"type\":\"BasicTickFormatter\"},\"plot\":{\"id\":\"50258062-12a5-4f20-8b7d-e64d2fcf31f5\",\"subtype\":\"Figure\",\"type\":\"Plot\"},\"ticker\":{\"id\":\"b4d9992e-6706-4ca2-b24d-e40542c501b0\",\"type\":\"BasicTicker\"}},\"id\":\"4857b3c8-5573-4dd4-bec5-53a045a4f912\",\"type\":\"LinearAxis\"},{\"attributes\":{\"bottom_units\":\"screen\",\"fill_alpha\":{\"value\":0.5},\"fill_color\":{\"value\":\"lightgrey\"},\"left_units\":\"screen\",\"level\":\"overlay\",\"line_alpha\":{\"value\":1.0},\"line_color\":{\"value\":\"black\"},\"line_dash\":[4,4],\"line_width\":{\"value\":2},\"plot\":null,\"render_mode\":\"css\",\"right_units\":\"screen\",\"top_units\":\"screen\"},\"id\":\"39a0913c-2731-4fc1-ae2e-f35e5b6843b2\",\"type\":\"BoxAnnotation\"},{\"attributes\":{\"end_angle\":{\"field\":\"end_angle\",\"units\":\"rad\"},\"fill_alpha\":{\"value\":0.1},\"fill_color\":{\"value\":\"#1f77b4\"},\"line_alpha\":{\"value\":0.1},\"line_color\":{\"value\":\"#1f77b4\"},\"radius\":{\"units\":\"data\",\"value\":1},\"start_angle\":{\"field\":\"start_angle\",\"units\":\"rad\"},\"x\":{\"value\":0},\"y\":{\"value\":0}},\"id\":\"1d8c6f9d-eda1-4a20-b4a2-13c004ad9b30\",\"type\":\"Wedge\"},{\"attributes\":{},\"id\":\"9345f3ed-82e2-4de1-889e-11984524e846\",\"type\":\"PanTool\"},{\"attributes\":{\"dimension\":1,\"plot\":{\"id\":\"50258062-12a5-4f20-8b7d-e64d2fcf31f5\",\"subtype\":\"Figure\",\"type\":\"Plot\"},\"ticker\":{\"id\":\"b4d9992e-6706-4ca2-b24d-e40542c501b0\",\"type\":\"BasicTicker\"}},\"id\":\"8382f16d-45e2-43cd-9953-ee81c8ca474f\",\"type\":\"Grid\"},{\"attributes\":{},\"id\":\"bfc2e189-d312-4a6b-bc64-cef266faf384\",\"type\":\"LinearScale\"},{\"attributes\":{\"end_angle\":{\"field\":\"end_angle\",\"units\":\"rad\"},\"fill_color\":{\"field\":\"fill_color\"},\"line_color\":{\"field\":\"line_color\"},\"radius\":{\"units\":\"data\",\"value\":1},\"start_angle\":{\"field\":\"start_angle\",\"units\":\"rad\"},\"x\":{\"value\":0},\"y\":{\"value\":0}},\"id\":\"9faa221e-e360-4bcf-bd0a-da2a800fe895\",\"type\":\"Wedge\"},{\"attributes\":{},\"id\":\"a393c0ee-42ef-4496-b24a-95dacdf6335e\",\"type\":\"WheelZoomTool\"},{\"attributes\":{\"overlay\":{\"id\":\"39a0913c-2731-4fc1-ae2e-f35e5b6843b2\",\"type\":\"BoxAnnotation\"}},\"id\":\"dba5391c-f00c-4c4f-9f6f-b1bb97d727c7\",\"type\":\"BoxZoomTool\"}],\"root_ids\":[\"50258062-12a5-4f20-8b7d-e64d2fcf31f5\"]},\"title\":\"Bokeh Application\",\"version\":\"0.12.13\"}};\n",
       "  var render_items = [{\"docid\":\"a4603a20-0bca-4fcb-aa2d-85392a9d6c44\",\"elementid\":\"bc9dbad2-59dd-4471-82b4-758ce6429aab\",\"modelid\":\"50258062-12a5-4f20-8b7d-e64d2fcf31f5\"}];\n",
       "  root.Bokeh.embed.embed_items_notebook(docs_json, render_items);\n",
       "\n",
       "  }\n",
       "  if (root.Bokeh !== undefined) {\n",
       "    embed_document(root);\n",
       "  } else {\n",
       "    var attempts = 0;\n",
       "    var timer = setInterval(function(root) {\n",
       "      if (root.Bokeh !== undefined) {\n",
       "        embed_document(root);\n",
       "        clearInterval(timer);\n",
       "      }\n",
       "      attempts++;\n",
       "      if (attempts > 100) {\n",
       "        console.log(\"Bokeh: ERROR: Unable to run BokehJS code because BokehJS library is missing\")\n",
       "        clearInterval(timer);\n",
       "      }\n",
       "    }, 10, root)\n",
       "  }\n",
       "})(window);"
      ],
      "application/vnd.bokehjs_exec.v0+json": ""
     },
     "metadata": {
      "application/vnd.bokehjs_exec.v0+json": {
       "id": "50258062-12a5-4f20-8b7d-e64d2fcf31f5"
      }
     },
     "output_type": "display_data"
    }
   ],
   "source": [
    "from numpy import pi\n",
    "\n",
    "# define starts/ends for wedges from percentages of a circle\n",
    "starts = [p*2*pi for p in percents[:-1]]\n",
    "ends = [p*2*pi for p in percents[1:]]\n",
    "\n",
    "pie = figure(x_range=(-1,1), y_range=(-1,1))\n",
    "\n",
    "pie.wedge(x=0, y=0, radius=1, start_angle=starts, end_angle=ends, color=Spectral8)\n",
    "\n",
    "show(pie)"
   ]
  },
  {
   "cell_type": "code",
   "execution_count": null,
   "metadata": {},
   "outputs": [],
   "source": []
  },
  {
   "cell_type": "code",
   "execution_count": null,
   "metadata": {},
   "outputs": [],
   "source": [
    "'''\n",
    "from bokeh.models import ColumnDataSource, HoverTool\n",
    "from bokeh.plotting import figure\n",
    "from bokeh.palettes import Spectral5\n",
    "from bokeh.sampledata.autompg import autompg_clean as df\n",
    "from bokeh.transform import factor_cmap\n",
    "\n",
    "output_file(\"bars.html\")\n",
    "\n",
    "df.cyl = df.cyl.astype(str)\n",
    "df.yr = df.yr.astype(str)\n",
    "\n",
    "group = df.groupby(('cyl', 'mfr'))\n",
    "\n",
    "source = ColumnDataSource(group)\n",
    "index_cmap = factor_cmap('cyl_mfr', palette=Spectral5, factors=sorted(df.cyl.unique()), end=1)\n",
    "\n",
    "p = figure(plot_width=800, plot_height=300, title=\"Mean MPG by # Cylinders and Manufacturer\",\n",
    "           x_range=group, toolbar_location=None, tools=\"\")\n",
    "\n",
    "p.vbar(x='cyl_mfr', top='mpg_mean', width=1, source=source,\n",
    "       line_color=\"white\", fill_color=index_cmap, )\n",
    "\n",
    "p.y_range.start = 0\n",
    "p.x_range.range_padding = 0.05\n",
    "p.xgrid.grid_line_color = None\n",
    "p.xaxis.axis_label = \"Manufacturer grouped by # Cylinders\"\n",
    "p.xaxis.major_label_orientation = 1.2\n",
    "p.outline_line_color = None\n",
    "\n",
    "p.add_tools(HoverTool(tooltips=[(\"MPG\", \"@mpg_mean\"), (\"Cyl, Mfr\", \"@cyl_mfr\")]))\n",
    "\n",
    "show(p)\n",
    "'''"
   ]
  }
 ],
 "metadata": {
  "kernelspec": {
   "display_name": "Python 3",
   "language": "python",
   "name": "python3"
  },
  "language_info": {
   "codemirror_mode": {
    "name": "ipython",
    "version": 3
   },
   "file_extension": ".py",
   "mimetype": "text/x-python",
   "name": "python",
   "nbconvert_exporter": "python",
   "pygments_lexer": "ipython3",
   "version": "3.6.3"
  }
 },
 "nbformat": 4,
 "nbformat_minor": 2
}
