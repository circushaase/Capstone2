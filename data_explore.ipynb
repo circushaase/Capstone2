{
 "cells": [
  {
   "cell_type": "code",
   "execution_count": 70,
   "metadata": {},
   "outputs": [
    {
     "name": "stdout",
     "output_type": "stream",
     "text": [
      "Populating the interactive namespace from numpy and matplotlib\n"
     ]
    },
    {
     "name": "stderr",
     "output_type": "stream",
     "text": [
      "C:\\Users\\Lara\\Miniconda3\\lib\\site-packages\\IPython\\core\\magics\\pylab.py:160: UserWarning: pylab import has clobbered these variables: ['source', 'GridSpec', 'save', 'legend', 'Figure', 'show', 'f', 'figure']\n",
      "`%matplotlib` prevents importing * from pylab and numpy\n",
      "  \"\\n`%matplotlib` prevents importing * from pylab and numpy\"\n"
     ]
    },
    {
     "data": {
      "text/html": [
       "\n",
       "    <div class=\"bk-root\">\n",
       "        <a href=\"https://bokeh.pydata.org\" target=\"_blank\" class=\"bk-logo bk-logo-small bk-logo-notebook\"></a>\n",
       "        <span id=\"0efff40e-3525-4b28-892a-730e4a3fb38e\">Loading BokehJS ...</span>\n",
       "    </div>"
      ]
     },
     "metadata": {},
     "output_type": "display_data"
    },
    {
     "data": {
      "application/javascript": [
       "\n",
       "(function(root) {\n",
       "  function now() {\n",
       "    return new Date();\n",
       "  }\n",
       "\n",
       "  var force = true;\n",
       "\n",
       "  if (typeof (root._bokeh_onload_callbacks) === \"undefined\" || force === true) {\n",
       "    root._bokeh_onload_callbacks = [];\n",
       "    root._bokeh_is_loading = undefined;\n",
       "  }\n",
       "\n",
       "  var JS_MIME_TYPE = 'application/javascript';\n",
       "  var HTML_MIME_TYPE = 'text/html';\n",
       "  var EXEC_MIME_TYPE = 'application/vnd.bokehjs_exec.v0+json';\n",
       "  var CLASS_NAME = 'output_bokeh rendered_html';\n",
       "\n",
       "  /**\n",
       "   * Render data to the DOM node\n",
       "   */\n",
       "  function render(props, node) {\n",
       "    var script = document.createElement(\"script\");\n",
       "    node.appendChild(script);\n",
       "  }\n",
       "\n",
       "  /**\n",
       "   * Handle when an output is cleared or removed\n",
       "   */\n",
       "  function handleClearOutput(event, handle) {\n",
       "    var cell = handle.cell;\n",
       "\n",
       "    var id = cell.output_area._bokeh_element_id;\n",
       "    var server_id = cell.output_area._bokeh_server_id;\n",
       "    // Clean up Bokeh references\n",
       "    if (id !== undefined) {\n",
       "      Bokeh.index[id].model.document.clear();\n",
       "      delete Bokeh.index[id];\n",
       "    }\n",
       "\n",
       "    if (server_id !== undefined) {\n",
       "      // Clean up Bokeh references\n",
       "      var cmd = \"from bokeh.io.state import curstate; print(curstate().uuid_to_server['\" + server_id + \"'].get_sessions()[0].document.roots[0]._id)\";\n",
       "      cell.notebook.kernel.execute(cmd, {\n",
       "        iopub: {\n",
       "          output: function(msg) {\n",
       "            var element_id = msg.content.text.trim();\n",
       "            Bokeh.index[element_id].model.document.clear();\n",
       "            delete Bokeh.index[element_id];\n",
       "          }\n",
       "        }\n",
       "      });\n",
       "      // Destroy server and session\n",
       "      var cmd = \"import bokeh.io.notebook as ion; ion.destroy_server('\" + server_id + \"')\";\n",
       "      cell.notebook.kernel.execute(cmd);\n",
       "    }\n",
       "  }\n",
       "\n",
       "  /**\n",
       "   * Handle when a new output is added\n",
       "   */\n",
       "  function handleAddOutput(event, handle) {\n",
       "    var output_area = handle.output_area;\n",
       "    var output = handle.output;\n",
       "\n",
       "    // limit handleAddOutput to display_data with EXEC_MIME_TYPE content only\n",
       "    if ((output.output_type != \"display_data\") || (!output.data.hasOwnProperty(EXEC_MIME_TYPE))) {\n",
       "      return\n",
       "    }\n",
       "\n",
       "    var toinsert = output_area.element.find(\".\" + CLASS_NAME.split(' ')[0]);\n",
       "\n",
       "    if (output.metadata[EXEC_MIME_TYPE][\"id\"] !== undefined) {\n",
       "      toinsert[0].firstChild.textContent = output.data[JS_MIME_TYPE];\n",
       "      // store reference to embed id on output_area\n",
       "      output_area._bokeh_element_id = output.metadata[EXEC_MIME_TYPE][\"id\"];\n",
       "    }\n",
       "    if (output.metadata[EXEC_MIME_TYPE][\"server_id\"] !== undefined) {\n",
       "      var bk_div = document.createElement(\"div\");\n",
       "      bk_div.innerHTML = output.data[HTML_MIME_TYPE];\n",
       "      var script_attrs = bk_div.children[0].attributes;\n",
       "      for (var i = 0; i < script_attrs.length; i++) {\n",
       "        toinsert[0].firstChild.setAttribute(script_attrs[i].name, script_attrs[i].value);\n",
       "      }\n",
       "      // store reference to server id on output_area\n",
       "      output_area._bokeh_server_id = output.metadata[EXEC_MIME_TYPE][\"server_id\"];\n",
       "    }\n",
       "  }\n",
       "\n",
       "  function register_renderer(events, OutputArea) {\n",
       "\n",
       "    function append_mime(data, metadata, element) {\n",
       "      // create a DOM node to render to\n",
       "      var toinsert = this.create_output_subarea(\n",
       "        metadata,\n",
       "        CLASS_NAME,\n",
       "        EXEC_MIME_TYPE\n",
       "      );\n",
       "      this.keyboard_manager.register_events(toinsert);\n",
       "      // Render to node\n",
       "      var props = {data: data, metadata: metadata[EXEC_MIME_TYPE]};\n",
       "      render(props, toinsert[0]);\n",
       "      element.append(toinsert);\n",
       "      return toinsert\n",
       "    }\n",
       "\n",
       "    /* Handle when an output is cleared or removed */\n",
       "    events.on('clear_output.CodeCell', handleClearOutput);\n",
       "    events.on('delete.Cell', handleClearOutput);\n",
       "\n",
       "    /* Handle when a new output is added */\n",
       "    events.on('output_added.OutputArea', handleAddOutput);\n",
       "\n",
       "    /**\n",
       "     * Register the mime type and append_mime function with output_area\n",
       "     */\n",
       "    OutputArea.prototype.register_mime_type(EXEC_MIME_TYPE, append_mime, {\n",
       "      /* Is output safe? */\n",
       "      safe: true,\n",
       "      /* Index of renderer in `output_area.display_order` */\n",
       "      index: 0\n",
       "    });\n",
       "  }\n",
       "\n",
       "  // register the mime type if in Jupyter Notebook environment and previously unregistered\n",
       "  if (root.Jupyter !== undefined) {\n",
       "    var events = require('base/js/events');\n",
       "    var OutputArea = require('notebook/js/outputarea').OutputArea;\n",
       "\n",
       "    if (OutputArea.prototype.mime_types().indexOf(EXEC_MIME_TYPE) == -1) {\n",
       "      register_renderer(events, OutputArea);\n",
       "    }\n",
       "  }\n",
       "\n",
       "  \n",
       "  if (typeof (root._bokeh_timeout) === \"undefined\" || force === true) {\n",
       "    root._bokeh_timeout = Date.now() + 5000;\n",
       "    root._bokeh_failed_load = false;\n",
       "  }\n",
       "\n",
       "  var NB_LOAD_WARNING = {'data': {'text/html':\n",
       "     \"<div style='background-color: #fdd'>\\n\"+\n",
       "     \"<p>\\n\"+\n",
       "     \"BokehJS does not appear to have successfully loaded. If loading BokehJS from CDN, this \\n\"+\n",
       "     \"may be due to a slow or bad network connection. Possible fixes:\\n\"+\n",
       "     \"</p>\\n\"+\n",
       "     \"<ul>\\n\"+\n",
       "     \"<li>re-rerun `output_notebook()` to attempt to load from CDN again, or</li>\\n\"+\n",
       "     \"<li>use INLINE resources instead, as so:</li>\\n\"+\n",
       "     \"</ul>\\n\"+\n",
       "     \"<code>\\n\"+\n",
       "     \"from bokeh.resources import INLINE\\n\"+\n",
       "     \"output_notebook(resources=INLINE)\\n\"+\n",
       "     \"</code>\\n\"+\n",
       "     \"</div>\"}};\n",
       "\n",
       "  function display_loaded() {\n",
       "    var el = document.getElementById(\"0efff40e-3525-4b28-892a-730e4a3fb38e\");\n",
       "    if (el != null) {\n",
       "      el.textContent = \"BokehJS is loading...\";\n",
       "    }\n",
       "    if (root.Bokeh !== undefined) {\n",
       "      if (el != null) {\n",
       "        el.textContent = \"BokehJS \" + root.Bokeh.version + \" successfully loaded.\";\n",
       "      }\n",
       "    } else if (Date.now() < root._bokeh_timeout) {\n",
       "      setTimeout(display_loaded, 100)\n",
       "    }\n",
       "  }\n",
       "\n",
       "\n",
       "  function run_callbacks() {\n",
       "    try {\n",
       "      root._bokeh_onload_callbacks.forEach(function(callback) { callback() });\n",
       "    }\n",
       "    finally {\n",
       "      delete root._bokeh_onload_callbacks\n",
       "    }\n",
       "    console.info(\"Bokeh: all callbacks have finished\");\n",
       "  }\n",
       "\n",
       "  function load_libs(js_urls, callback) {\n",
       "    root._bokeh_onload_callbacks.push(callback);\n",
       "    if (root._bokeh_is_loading > 0) {\n",
       "      console.log(\"Bokeh: BokehJS is being loaded, scheduling callback at\", now());\n",
       "      return null;\n",
       "    }\n",
       "    if (js_urls == null || js_urls.length === 0) {\n",
       "      run_callbacks();\n",
       "      return null;\n",
       "    }\n",
       "    console.log(\"Bokeh: BokehJS not loaded, scheduling load and callback at\", now());\n",
       "    root._bokeh_is_loading = js_urls.length;\n",
       "    for (var i = 0; i < js_urls.length; i++) {\n",
       "      var url = js_urls[i];\n",
       "      var s = document.createElement('script');\n",
       "      s.src = url;\n",
       "      s.async = false;\n",
       "      s.onreadystatechange = s.onload = function() {\n",
       "        root._bokeh_is_loading--;\n",
       "        if (root._bokeh_is_loading === 0) {\n",
       "          console.log(\"Bokeh: all BokehJS libraries loaded\");\n",
       "          run_callbacks()\n",
       "        }\n",
       "      };\n",
       "      s.onerror = function() {\n",
       "        console.warn(\"failed to load library \" + url);\n",
       "      };\n",
       "      console.log(\"Bokeh: injecting script tag for BokehJS library: \", url);\n",
       "      document.getElementsByTagName(\"head\")[0].appendChild(s);\n",
       "    }\n",
       "  };var element = document.getElementById(\"0efff40e-3525-4b28-892a-730e4a3fb38e\");\n",
       "  if (element == null) {\n",
       "    console.log(\"Bokeh: ERROR: autoload.js configured with elementid '0efff40e-3525-4b28-892a-730e4a3fb38e' but no matching script tag was found. \")\n",
       "    return false;\n",
       "  }\n",
       "\n",
       "  var js_urls = [\"https://cdn.pydata.org/bokeh/release/bokeh-0.12.13.min.js\", \"https://cdn.pydata.org/bokeh/release/bokeh-widgets-0.12.13.min.js\", \"https://cdn.pydata.org/bokeh/release/bokeh-tables-0.12.13.min.js\", \"https://cdn.pydata.org/bokeh/release/bokeh-gl-0.12.13.min.js\"];\n",
       "\n",
       "  var inline_js = [\n",
       "    function(Bokeh) {\n",
       "      Bokeh.set_log_level(\"info\");\n",
       "    },\n",
       "    \n",
       "    function(Bokeh) {\n",
       "      \n",
       "    },\n",
       "    function(Bokeh) {\n",
       "      console.log(\"Bokeh: injecting CSS: https://cdn.pydata.org/bokeh/release/bokeh-0.12.13.min.css\");\n",
       "      Bokeh.embed.inject_css(\"https://cdn.pydata.org/bokeh/release/bokeh-0.12.13.min.css\");\n",
       "      console.log(\"Bokeh: injecting CSS: https://cdn.pydata.org/bokeh/release/bokeh-widgets-0.12.13.min.css\");\n",
       "      Bokeh.embed.inject_css(\"https://cdn.pydata.org/bokeh/release/bokeh-widgets-0.12.13.min.css\");\n",
       "      console.log(\"Bokeh: injecting CSS: https://cdn.pydata.org/bokeh/release/bokeh-tables-0.12.13.min.css\");\n",
       "      Bokeh.embed.inject_css(\"https://cdn.pydata.org/bokeh/release/bokeh-tables-0.12.13.min.css\");\n",
       "    }\n",
       "  ];\n",
       "\n",
       "  function run_inline_js() {\n",
       "    \n",
       "    if ((root.Bokeh !== undefined) || (force === true)) {\n",
       "      for (var i = 0; i < inline_js.length; i++) {\n",
       "        inline_js[i].call(root, root.Bokeh);\n",
       "      }if (force === true) {\n",
       "        display_loaded();\n",
       "      }} else if (Date.now() < root._bokeh_timeout) {\n",
       "      setTimeout(run_inline_js, 100);\n",
       "    } else if (!root._bokeh_failed_load) {\n",
       "      console.log(\"Bokeh: BokehJS failed to load within specified timeout.\");\n",
       "      root._bokeh_failed_load = true;\n",
       "    } else if (force !== true) {\n",
       "      var cell = $(document.getElementById(\"0efff40e-3525-4b28-892a-730e4a3fb38e\")).parents('.cell').data().cell;\n",
       "      cell.output_area.append_execute_result(NB_LOAD_WARNING)\n",
       "    }\n",
       "\n",
       "  }\n",
       "\n",
       "  if (root._bokeh_is_loading === 0) {\n",
       "    console.log(\"Bokeh: BokehJS loaded, going straight to plotting\");\n",
       "    run_inline_js();\n",
       "  } else {\n",
       "    load_libs(js_urls, function() {\n",
       "      console.log(\"Bokeh: BokehJS plotting callback run at\", now());\n",
       "      run_inline_js();\n",
       "    });\n",
       "  }\n",
       "}(window));"
      ],
      "application/vnd.bokehjs_load.v0+json": "\n(function(root) {\n  function now() {\n    return new Date();\n  }\n\n  var force = true;\n\n  if (typeof (root._bokeh_onload_callbacks) === \"undefined\" || force === true) {\n    root._bokeh_onload_callbacks = [];\n    root._bokeh_is_loading = undefined;\n  }\n\n  \n\n  \n  if (typeof (root._bokeh_timeout) === \"undefined\" || force === true) {\n    root._bokeh_timeout = Date.now() + 5000;\n    root._bokeh_failed_load = false;\n  }\n\n  var NB_LOAD_WARNING = {'data': {'text/html':\n     \"<div style='background-color: #fdd'>\\n\"+\n     \"<p>\\n\"+\n     \"BokehJS does not appear to have successfully loaded. If loading BokehJS from CDN, this \\n\"+\n     \"may be due to a slow or bad network connection. Possible fixes:\\n\"+\n     \"</p>\\n\"+\n     \"<ul>\\n\"+\n     \"<li>re-rerun `output_notebook()` to attempt to load from CDN again, or</li>\\n\"+\n     \"<li>use INLINE resources instead, as so:</li>\\n\"+\n     \"</ul>\\n\"+\n     \"<code>\\n\"+\n     \"from bokeh.resources import INLINE\\n\"+\n     \"output_notebook(resources=INLINE)\\n\"+\n     \"</code>\\n\"+\n     \"</div>\"}};\n\n  function display_loaded() {\n    var el = document.getElementById(\"0efff40e-3525-4b28-892a-730e4a3fb38e\");\n    if (el != null) {\n      el.textContent = \"BokehJS is loading...\";\n    }\n    if (root.Bokeh !== undefined) {\n      if (el != null) {\n        el.textContent = \"BokehJS \" + root.Bokeh.version + \" successfully loaded.\";\n      }\n    } else if (Date.now() < root._bokeh_timeout) {\n      setTimeout(display_loaded, 100)\n    }\n  }\n\n\n  function run_callbacks() {\n    try {\n      root._bokeh_onload_callbacks.forEach(function(callback) { callback() });\n    }\n    finally {\n      delete root._bokeh_onload_callbacks\n    }\n    console.info(\"Bokeh: all callbacks have finished\");\n  }\n\n  function load_libs(js_urls, callback) {\n    root._bokeh_onload_callbacks.push(callback);\n    if (root._bokeh_is_loading > 0) {\n      console.log(\"Bokeh: BokehJS is being loaded, scheduling callback at\", now());\n      return null;\n    }\n    if (js_urls == null || js_urls.length === 0) {\n      run_callbacks();\n      return null;\n    }\n    console.log(\"Bokeh: BokehJS not loaded, scheduling load and callback at\", now());\n    root._bokeh_is_loading = js_urls.length;\n    for (var i = 0; i < js_urls.length; i++) {\n      var url = js_urls[i];\n      var s = document.createElement('script');\n      s.src = url;\n      s.async = false;\n      s.onreadystatechange = s.onload = function() {\n        root._bokeh_is_loading--;\n        if (root._bokeh_is_loading === 0) {\n          console.log(\"Bokeh: all BokehJS libraries loaded\");\n          run_callbacks()\n        }\n      };\n      s.onerror = function() {\n        console.warn(\"failed to load library \" + url);\n      };\n      console.log(\"Bokeh: injecting script tag for BokehJS library: \", url);\n      document.getElementsByTagName(\"head\")[0].appendChild(s);\n    }\n  };var element = document.getElementById(\"0efff40e-3525-4b28-892a-730e4a3fb38e\");\n  if (element == null) {\n    console.log(\"Bokeh: ERROR: autoload.js configured with elementid '0efff40e-3525-4b28-892a-730e4a3fb38e' but no matching script tag was found. \")\n    return false;\n  }\n\n  var js_urls = [\"https://cdn.pydata.org/bokeh/release/bokeh-0.12.13.min.js\", \"https://cdn.pydata.org/bokeh/release/bokeh-widgets-0.12.13.min.js\", \"https://cdn.pydata.org/bokeh/release/bokeh-tables-0.12.13.min.js\", \"https://cdn.pydata.org/bokeh/release/bokeh-gl-0.12.13.min.js\"];\n\n  var inline_js = [\n    function(Bokeh) {\n      Bokeh.set_log_level(\"info\");\n    },\n    \n    function(Bokeh) {\n      \n    },\n    function(Bokeh) {\n      console.log(\"Bokeh: injecting CSS: https://cdn.pydata.org/bokeh/release/bokeh-0.12.13.min.css\");\n      Bokeh.embed.inject_css(\"https://cdn.pydata.org/bokeh/release/bokeh-0.12.13.min.css\");\n      console.log(\"Bokeh: injecting CSS: https://cdn.pydata.org/bokeh/release/bokeh-widgets-0.12.13.min.css\");\n      Bokeh.embed.inject_css(\"https://cdn.pydata.org/bokeh/release/bokeh-widgets-0.12.13.min.css\");\n      console.log(\"Bokeh: injecting CSS: https://cdn.pydata.org/bokeh/release/bokeh-tables-0.12.13.min.css\");\n      Bokeh.embed.inject_css(\"https://cdn.pydata.org/bokeh/release/bokeh-tables-0.12.13.min.css\");\n    }\n  ];\n\n  function run_inline_js() {\n    \n    if ((root.Bokeh !== undefined) || (force === true)) {\n      for (var i = 0; i < inline_js.length; i++) {\n        inline_js[i].call(root, root.Bokeh);\n      }if (force === true) {\n        display_loaded();\n      }} else if (Date.now() < root._bokeh_timeout) {\n      setTimeout(run_inline_js, 100);\n    } else if (!root._bokeh_failed_load) {\n      console.log(\"Bokeh: BokehJS failed to load within specified timeout.\");\n      root._bokeh_failed_load = true;\n    } else if (force !== true) {\n      var cell = $(document.getElementById(\"0efff40e-3525-4b28-892a-730e4a3fb38e\")).parents('.cell').data().cell;\n      cell.output_area.append_execute_result(NB_LOAD_WARNING)\n    }\n\n  }\n\n  if (root._bokeh_is_loading === 0) {\n    console.log(\"Bokeh: BokehJS loaded, going straight to plotting\");\n    run_inline_js();\n  } else {\n    load_libs(js_urls, function() {\n      console.log(\"Bokeh: BokehJS plotting callback run at\", now());\n      run_inline_js();\n    });\n  }\n}(window));"
     },
     "metadata": {},
     "output_type": "display_data"
    }
   ],
   "source": [
    "import pandas as pd\n",
    "import numpy as np\n",
    "import matplotlib.pyplot as plt\n",
    "%pylab inline\n",
    "#import seaborn as sns\n",
    "from bokeh.core.properties import value\n",
    "from bokeh.io import show, output_notebook\n",
    "from bokeh.plotting import *\n",
    "from bokeh.models import ColumnDataSource, FactorRange, Legend\n",
    "from bokeh.palettes import Spectral6, Spectral8, Category20, Spectral3\n",
    "from bokeh.transform import factor_cmap\n",
    "\n",
    "output_notebook()\n",
    "\n",
    "cust = pd.read_csv('custodial-deaths.csv')\n",
    "shoot = pd.read_csv('officer_shootings.csv')"
   ]
  },
  {
   "cell_type": "code",
   "execution_count": 2,
   "metadata": {},
   "outputs": [
    {
     "data": {
      "text/html": [
       "<div>\n",
       "<style scoped>\n",
       "    .dataframe tbody tr th:only-of-type {\n",
       "        vertical-align: middle;\n",
       "    }\n",
       "\n",
       "    .dataframe tbody tr th {\n",
       "        vertical-align: top;\n",
       "    }\n",
       "\n",
       "    .dataframe thead th {\n",
       "        text-align: right;\n",
       "    }\n",
       "</style>\n",
       "<table border=\"1\" class=\"dataframe\">\n",
       "  <thead>\n",
       "    <tr style=\"text-align: right;\">\n",
       "      <th></th>\n",
       "      <th>Department Name</th>\n",
       "      <th>Custody Type</th>\n",
       "      <th>Custody Type Facility</th>\n",
       "      <th>First Name</th>\n",
       "      <th>Middle Name</th>\n",
       "      <th>Last Name</th>\n",
       "      <th>Ethnicity</th>\n",
       "      <th>Sex</th>\n",
       "      <th>Age</th>\n",
       "      <th>Death Date</th>\n",
       "      <th>Manner Death</th>\n",
       "      <th>Charges Status</th>\n",
       "      <th>Summary</th>\n",
       "      <th>Unnamed: 13</th>\n",
       "    </tr>\n",
       "  </thead>\n",
       "  <tbody>\n",
       "    <tr>\n",
       "      <th>0</th>\n",
       "      <td>Texas Department Of Criminal Justice</td>\n",
       "      <td>Penitentiary</td>\n",
       "      <td>Pack</td>\n",
       "      <td>A.</td>\n",
       "      <td>NaN</td>\n",
       "      <td>Gomez</td>\n",
       "      <td>Hispanic or Latino</td>\n",
       "      <td>Male</td>\n",
       "      <td>58.0</td>\n",
       "      <td>9/12/2012 0:00</td>\n",
       "      <td>Natural Causes/Illness</td>\n",
       "      <td>Convicted</td>\n",
       "      <td>NaN</td>\n",
       "      <td>NaN</td>\n",
       "    </tr>\n",
       "    <tr>\n",
       "      <th>1</th>\n",
       "      <td>Texas Department Of Criminal Justice</td>\n",
       "      <td>Penitentiary</td>\n",
       "      <td>Michael Unit</td>\n",
       "      <td>A.</td>\n",
       "      <td>D.</td>\n",
       "      <td>Randle</td>\n",
       "      <td>Black or African American</td>\n",
       "      <td>Male</td>\n",
       "      <td>76.0</td>\n",
       "      <td>9/29/2016 0:00</td>\n",
       "      <td>Natural Causes/Illness</td>\n",
       "      <td>Convicted</td>\n",
       "      <td>Offender Randle passed away while in attendanc...</td>\n",
       "      <td>NaN</td>\n",
       "    </tr>\n",
       "    <tr>\n",
       "      <th>2</th>\n",
       "      <td>Harlingen Police Dept.</td>\n",
       "      <td>Municipal Jail</td>\n",
       "      <td>0</td>\n",
       "      <td>Aaron</td>\n",
       "      <td>Omar</td>\n",
       "      <td>Cavazos</td>\n",
       "      <td>Hispanic or Latino</td>\n",
       "      <td>Male</td>\n",
       "      <td>30.0</td>\n",
       "      <td>12/14/2016 0:00</td>\n",
       "      <td>Other</td>\n",
       "      <td>Not filed at time of death</td>\n",
       "      <td>Officers responded to the decedent's residence...</td>\n",
       "      <td>NaN</td>\n",
       "    </tr>\n",
       "    <tr>\n",
       "      <th>3</th>\n",
       "      <td>Texas Department Of Criminal Justice</td>\n",
       "      <td>Penitentiary</td>\n",
       "      <td>Garza West</td>\n",
       "      <td>Aaron</td>\n",
       "      <td>NaN</td>\n",
       "      <td>Cramer</td>\n",
       "      <td>Anglo or White</td>\n",
       "      <td>Male</td>\n",
       "      <td>39.0</td>\n",
       "      <td>11/6/2011 0:00</td>\n",
       "      <td>Accidental injury to self</td>\n",
       "      <td>Convicted</td>\n",
       "      <td>Offender Aaron Cramer suffered a seizure and w...</td>\n",
       "      <td>NaN</td>\n",
       "    </tr>\n",
       "    <tr>\n",
       "      <th>4</th>\n",
       "      <td>Texas Department Of Criminal Justice</td>\n",
       "      <td>Penitentiary</td>\n",
       "      <td>Hospital Galveston</td>\n",
       "      <td>Aaron</td>\n",
       "      <td>NaN</td>\n",
       "      <td>Daffern</td>\n",
       "      <td>Anglo or White</td>\n",
       "      <td>Male</td>\n",
       "      <td>31.0</td>\n",
       "      <td>12/8/2014 0:00</td>\n",
       "      <td>Natural Causes/Illness</td>\n",
       "      <td>Convicted</td>\n",
       "      <td>On December 2, 2014, Offender Daffern was admi...</td>\n",
       "      <td>NaN</td>\n",
       "    </tr>\n",
       "  </tbody>\n",
       "</table>\n",
       "</div>"
      ],
      "text/plain": [
       "                        Department Name    Custody Type Custody Type Facility  \\\n",
       "0  Texas Department Of Criminal Justice    Penitentiary                  Pack   \n",
       "1  Texas Department Of Criminal Justice    Penitentiary          Michael Unit   \n",
       "2                Harlingen Police Dept.  Municipal Jail                     0   \n",
       "3  Texas Department Of Criminal Justice    Penitentiary            Garza West   \n",
       "4  Texas Department Of Criminal Justice    Penitentiary    Hospital Galveston   \n",
       "\n",
       "  First Name Middle Name Last Name                  Ethnicity   Sex   Age  \\\n",
       "0         A.         NaN     Gomez         Hispanic or Latino  Male  58.0   \n",
       "1         A.          D.    Randle  Black or African American  Male  76.0   \n",
       "2      Aaron        Omar   Cavazos         Hispanic or Latino  Male  30.0   \n",
       "3      Aaron         NaN    Cramer             Anglo or White  Male  39.0   \n",
       "4      Aaron         NaN   Daffern             Anglo or White  Male  31.0   \n",
       "\n",
       "        Death Date               Manner Death              Charges Status  \\\n",
       "0   9/12/2012 0:00     Natural Causes/Illness                   Convicted   \n",
       "1   9/29/2016 0:00     Natural Causes/Illness                   Convicted   \n",
       "2  12/14/2016 0:00                      Other  Not filed at time of death   \n",
       "3   11/6/2011 0:00  Accidental injury to self                   Convicted   \n",
       "4   12/8/2014 0:00     Natural Causes/Illness                   Convicted   \n",
       "\n",
       "                                             Summary Unnamed: 13  \n",
       "0                                                NaN         NaN  \n",
       "1  Offender Randle passed away while in attendanc...         NaN  \n",
       "2  Officers responded to the decedent's residence...         NaN  \n",
       "3  Offender Aaron Cramer suffered a seizure and w...         NaN  \n",
       "4  On December 2, 2014, Offender Daffern was admi...         NaN  "
      ]
     },
     "execution_count": 2,
     "metadata": {},
     "output_type": "execute_result"
    }
   ],
   "source": [
    "cust.head()"
   ]
  },
  {
   "cell_type": "code",
   "execution_count": 3,
   "metadata": {},
   "outputs": [],
   "source": [
    "#add column of years extracted \"Death Date\"\n",
    "cust['year'] = pd.DatetimeIndex(cust['Death Date']).year"
   ]
  },
  {
   "cell_type": "code",
   "execution_count": 71,
   "metadata": {},
   "outputs": [],
   "source": [
    "#Forward fill state abbreviation manually added to csv\n",
    "shoot['state'] = shoot['state'].ffill()"
   ]
  },
  {
   "cell_type": "code",
   "execution_count": 72,
   "metadata": {},
   "outputs": [],
   "source": [
    "#restrict Shooting df to only Texas departments\n",
    "shoot = shoot[shoot.state == 'TX']"
   ]
  },
  {
   "cell_type": "code",
   "execution_count": 6,
   "metadata": {
    "scrolled": true
   },
   "outputs": [],
   "source": [
    "#create list of Manner of Death types\n",
    "deathtype= list(cust['Manner Death'].unique())"
   ]
  },
  {
   "cell_type": "code",
   "execution_count": 7,
   "metadata": {},
   "outputs": [],
   "source": [
    "#create list of Ethnicity types\n",
    "eth = list(cust['Ethnicity'].unique())"
   ]
  },
  {
   "cell_type": "code",
   "execution_count": null,
   "metadata": {},
   "outputs": [],
   "source": []
  },
  {
   "cell_type": "code",
   "execution_count": 8,
   "metadata": {},
   "outputs": [
    {
     "data": {
      "text/plain": [
       "Text(0,0.5,'Number of Deaths from 2005-2016')"
      ]
     },
     "execution_count": 8,
     "metadata": {},
     "output_type": "execute_result"
    },
    {
     "data": {
      "image/png": "[encoded data removed]",
      "text/plain": [
       "<matplotlib.figure.Figure at 0x1f73a2fb7b8>"
      ]
     },
     "metadata": {},
     "output_type": "display_data"
    }
   ],
   "source": [
    "#bar graph of total deaths, broken sown by Manner of Death\n",
    "cust['Manner Death'].value_counts().plot(kind ='bar',figsize=(10,8), title = 'Manner of Death in Law Enforcement Custody in Texas from 2005-2016')\n",
    "plt.ylabel('Number of Deaths from 2005-2016')"
   ]
  },
  {
   "cell_type": "code",
   "execution_count": 9,
   "metadata": {},
   "outputs": [
    {
     "name": "stderr",
     "output_type": "stream",
     "text": [
      "C:\\Users\\Lara\\Miniconda3\\lib\\site-packages\\bokeh\\models\\mappers.py:82: UserWarning: Palette length does not match number of factors. ['Homicide by Other', 'Accidental injury caused by others'] will be assigned to `nan_color` gray\n",
      "  warnings.warn(\"Palette length does not match number of factors. %s will be assigned to `nan_color` %s\" % (extra_factors, self.nan_color))\n"
     ]
    },
    {
     "data": {
      "text/html": [
       "\n",
       "<div class=\"bk-root\">\n",
       "    <div class=\"bk-plotdiv\" id=\"6f413eec-3c1c-4506-9798-9946fd05112d\"></div>\n",
       "</div>"
      ]
     },
     "metadata": {},
     "output_type": "display_data"
    },
    {
     "data": {
      "application/javascript": [
       "(function(root) {\n",
       "  function embed_document(root) {\n",
       "    \n",
       "  var docs_json = {\"f3ccca11-ef37-4257-ae66-f98b41e9ba07\":{\"roots\":{\"references\":[{\"attributes\":{\"below\":[{\"id\":\"86002d0d-95c9-4092-ac69-014ddd2e7bb2\",\"type\":\"LinearAxis\"}],\"left\":[{\"id\":\"bafaa17d-1fe1-44c8-a2b2-02ef74b25789\",\"type\":\"CategoricalAxis\"}],\"plot_height\":500,\"plot_width\":900,\"renderers\":[{\"id\":\"86002d0d-95c9-4092-ac69-014ddd2e7bb2\",\"type\":\"LinearAxis\"},{\"id\":\"828f9792-bfd7-4dbb-ac6a-11343ed7b5e3\",\"type\":\"Grid\"},{\"id\":\"bafaa17d-1fe1-44c8-a2b2-02ef74b25789\",\"type\":\"CategoricalAxis\"},{\"id\":\"a105ddf8-51ad-4347-a6e2-6143951d62ba\",\"type\":\"Grid\"},{\"id\":\"2e5fe1a9-19ad-47e8-9948-6d6b81a6c185\",\"type\":\"Legend\"},{\"id\":\"fcc25629-48ce-46df-8ff2-17a2021b80d2\",\"type\":\"GlyphRenderer\"}],\"title\":{\"id\":\"6c13ab39-895e-40cc-b8ba-3cc33e6533f5\",\"type\":\"Title\"},\"toolbar\":{\"id\":\"c91aeebf-2112-4295-aaf7-bbcf2604d7bb\",\"type\":\"Toolbar\"},\"toolbar_location\":null,\"x_range\":{\"id\":\"061284b4-6c65-48d0-b79f-384191a3f416\",\"type\":\"DataRange1d\"},\"x_scale\":{\"id\":\"2a56ea16-76fb-4cae-bb2f-265a38b9019d\",\"type\":\"LinearScale\"},\"y_range\":{\"id\":\"b61bb2bd-4e0e-4781-be3e-ec6a58922fc2\",\"type\":\"FactorRange\"},\"y_scale\":{\"id\":\"721974d7-64f0-4538-ba10-3027edb1bc7e\",\"type\":\"CategoricalScale\"}},\"id\":\"3c530949-d2e9-45fa-a7ac-dd94cd5f3685\",\"subtype\":\"Figure\",\"type\":\"Plot\"},{\"attributes\":{\"callback\":null,\"factors\":[\"Natural Causes/Illness\",\"Other\",\"Accidental injury to self\",\"Homicide by Law Enforcement/Correctional Staff\",\"Suicide\",\"Alcohol/Drug Intoxication\",\"Homicide by Other\",\"Accidental injury caused by others\"]},\"id\":\"b61bb2bd-4e0e-4781-be3e-ec6a58922fc2\",\"type\":\"FactorRange\"},{\"attributes\":{\"fill_color\":{\"field\":\"deathtype\",\"transform\":{\"id\":\"eefd7944-b5ae-4b26-a608-61d8f1a85c2c\",\"type\":\"CategoricalColorMapper\"}},\"height\":{\"value\":0.5},\"line_color\":{\"value\":\"white\"},\"right\":{\"field\":\"counts\"},\"y\":{\"field\":\"deathtype\"}},\"id\":\"37d7851b-15bb-4994-87fe-f0c650c8ba4c\",\"type\":\"HBar\"},{\"attributes\":{},\"id\":\"721974d7-64f0-4538-ba10-3027edb1bc7e\",\"type\":\"CategoricalScale\"},{\"attributes\":{\"factors\":[\"Natural Causes/Illness\",\"Other\",\"Accidental injury to self\",\"Homicide by Law Enforcement/Correctional Staff\",\"Suicide\",\"Alcohol/Drug Intoxication\",\"Homicide by Other\",\"Accidental injury caused by others\"],\"palette\":[\"#3288bd\",\"#66c2a5\",\"#abdda4\",\"#e6f598\",\"#fee08b\",\"#fdae61\",\"#f46d43\",\"#d53e4f\"]},\"id\":\"eefd7944-b5ae-4b26-a608-61d8f1a85c2c\",\"type\":\"CategoricalColorMapper\"},{\"attributes\":{\"source\":{\"id\":\"31a1158b-6c25-4f4e-9177-470d93d15814\",\"type\":\"ColumnDataSource\"}},\"id\":\"2bf15a97-a6e6-4b1e-a451-d208be2f23c4\",\"type\":\"CDSView\"},{\"attributes\":{\"fill_alpha\":{\"value\":0.1},\"fill_color\":{\"value\":\"#1f77b4\"},\"height\":{\"value\":0.5},\"line_alpha\":{\"value\":0.1},\"line_color\":{\"value\":\"#1f77b4\"},\"right\":{\"field\":\"counts\"},\"y\":{\"field\":\"deathtype\"}},\"id\":\"44f7e27e-5e3e-438d-89ad-60db835c8020\",\"type\":\"HBar\"},{\"attributes\":{\"data_source\":{\"id\":\"31a1158b-6c25-4f4e-9177-470d93d15814\",\"type\":\"ColumnDataSource\"},\"glyph\":{\"id\":\"37d7851b-15bb-4994-87fe-f0c650c8ba4c\",\"type\":\"HBar\"},\"hover_glyph\":null,\"muted_glyph\":null,\"nonselection_glyph\":{\"id\":\"44f7e27e-5e3e-438d-89ad-60db835c8020\",\"type\":\"HBar\"},\"selection_glyph\":null,\"view\":{\"id\":\"2bf15a97-a6e6-4b1e-a451-d208be2f23c4\",\"type\":\"CDSView\"}},\"id\":\"fcc25629-48ce-46df-8ff2-17a2021b80d2\",\"type\":\"GlyphRenderer\"},{\"attributes\":{\"label\":{\"field\":\"deathtype\"},\"renderers\":[{\"id\":\"fcc25629-48ce-46df-8ff2-17a2021b80d2\",\"type\":\"GlyphRenderer\"}]},\"id\":\"9bc08811-f084-43ef-a789-4af93fc0e519\",\"type\":\"LegendItem\"},{\"attributes\":{\"items\":[{\"id\":\"9bc08811-f084-43ef-a789-4af93fc0e519\",\"type\":\"LegendItem\"}],\"plot\":{\"id\":\"3c530949-d2e9-45fa-a7ac-dd94cd5f3685\",\"subtype\":\"Figure\",\"type\":\"Plot\"}},\"id\":\"2e5fe1a9-19ad-47e8-9948-6d6b81a6c185\",\"type\":\"Legend\"},{\"attributes\":{},\"id\":\"2a56ea16-76fb-4cae-bb2f-265a38b9019d\",\"type\":\"LinearScale\"},{\"attributes\":{},\"id\":\"f352de17-020c-4686-bcf5-89e233c531f0\",\"type\":\"BasicTicker\"},{\"attributes\":{\"grid_line_color\":{\"value\":null},\"plot\":{\"id\":\"3c530949-d2e9-45fa-a7ac-dd94cd5f3685\",\"subtype\":\"Figure\",\"type\":\"Plot\"},\"ticker\":{\"id\":\"f352de17-020c-4686-bcf5-89e233c531f0\",\"type\":\"BasicTicker\"}},\"id\":\"828f9792-bfd7-4dbb-ac6a-11343ed7b5e3\",\"type\":\"Grid\"},{\"attributes\":{},\"id\":\"9d0d1634-2965-4624-a283-d9f2a09ad5eb\",\"type\":\"BasicTickFormatter\"},{\"attributes\":{\"formatter\":{\"id\":\"506bf999-9e9a-43bf-a1ed-ca465d456e8a\",\"type\":\"CategoricalTickFormatter\"},\"plot\":{\"id\":\"3c530949-d2e9-45fa-a7ac-dd94cd5f3685\",\"subtype\":\"Figure\",\"type\":\"Plot\"},\"ticker\":{\"id\":\"ea021968-ef5d-4479-bcfc-a7ed835eaf3b\",\"type\":\"CategoricalTicker\"}},\"id\":\"bafaa17d-1fe1-44c8-a2b2-02ef74b25789\",\"type\":\"CategoricalAxis\"},{\"attributes\":{\"dimension\":1,\"plot\":{\"id\":\"3c530949-d2e9-45fa-a7ac-dd94cd5f3685\",\"subtype\":\"Figure\",\"type\":\"Plot\"},\"ticker\":{\"id\":\"ea021968-ef5d-4479-bcfc-a7ed835eaf3b\",\"type\":\"CategoricalTicker\"}},\"id\":\"a105ddf8-51ad-4347-a6e2-6143951d62ba\",\"type\":\"Grid\"},{\"attributes\":{\"plot\":null,\"text\":\"Manner of Death in Custody from 2005-2016\"},\"id\":\"6c13ab39-895e-40cc-b8ba-3cc33e6533f5\",\"type\":\"Title\"},{\"attributes\":{\"callback\":null,\"column_names\":[\"deathtype\",\"counts\"],\"data\":{\"counts\":[5266,884,844,284,203,155,72,21],\"deathtype\":[\"Natural Causes/Illness\",\"Other\",\"Accidental injury to self\",\"Homicide by Law Enforcement/Correctional Staff\",\"Suicide\",\"Alcohol/Drug Intoxication\",\"Homicide by Other\",\"Accidental injury caused by others\"]}},\"id\":\"31a1158b-6c25-4f4e-9177-470d93d15814\",\"type\":\"ColumnDataSource\"},{\"attributes\":{},\"id\":\"ea021968-ef5d-4479-bcfc-a7ed835eaf3b\",\"type\":\"CategoricalTicker\"},{\"attributes\":{\"active_drag\":\"auto\",\"active_inspect\":\"auto\",\"active_scroll\":\"auto\",\"active_tap\":\"auto\"},\"id\":\"c91aeebf-2112-4295-aaf7-bbcf2604d7bb\",\"type\":\"Toolbar\"},{\"attributes\":{\"axis_label\":\"Number of Deaths from 2005-2016\",\"formatter\":{\"id\":\"9d0d1634-2965-4624-a283-d9f2a09ad5eb\",\"type\":\"BasicTickFormatter\"},\"plot\":{\"id\":\"3c530949-d2e9-45fa-a7ac-dd94cd5f3685\",\"subtype\":\"Figure\",\"type\":\"Plot\"},\"ticker\":{\"id\":\"f352de17-020c-4686-bcf5-89e233c531f0\",\"type\":\"BasicTicker\"}},\"id\":\"86002d0d-95c9-4092-ac69-014ddd2e7bb2\",\"type\":\"LinearAxis\"},{\"attributes\":{\"callback\":null,\"end\":6000,\"start\":0},\"id\":\"061284b4-6c65-48d0-b79f-384191a3f416\",\"type\":\"DataRange1d\"},{\"attributes\":{},\"id\":\"506bf999-9e9a-43bf-a1ed-ca465d456e8a\",\"type\":\"CategoricalTickFormatter\"}],\"root_ids\":[\"3c530949-d2e9-45fa-a7ac-dd94cd5f3685\"]},\"title\":\"Bokeh Application\",\"version\":\"0.12.13\"}};\n",
       "  var render_items = [{\"docid\":\"f3ccca11-ef37-4257-ae66-f98b41e9ba07\",\"elementid\":\"6f413eec-3c1c-4506-9798-9946fd05112d\",\"modelid\":\"3c530949-d2e9-45fa-a7ac-dd94cd5f3685\"}];\n",
       "  root.Bokeh.embed.embed_items_notebook(docs_json, render_items);\n",
       "\n",
       "  }\n",
       "  if (root.Bokeh !== undefined) {\n",
       "    embed_document(root);\n",
       "  } else {\n",
       "    var attempts = 0;\n",
       "    var timer = setInterval(function(root) {\n",
       "      if (root.Bokeh !== undefined) {\n",
       "        embed_document(root);\n",
       "        clearInterval(timer);\n",
       "      }\n",
       "      attempts++;\n",
       "      if (attempts > 100) {\n",
       "        console.log(\"Bokeh: ERROR: Unable to run BokehJS code because BokehJS library is missing\")\n",
       "        clearInterval(timer);\n",
       "      }\n",
       "    }, 10, root)\n",
       "  }\n",
       "})(window);"
      ],
      "application/vnd.bokehjs_exec.v0+json": ""
     },
     "metadata": {
      "application/vnd.bokehjs_exec.v0+json": {
       "id": "3c530949-d2e9-45fa-a7ac-dd94cd5f3685"
      }
     },
     "output_type": "display_data"
    }
   ],
   "source": [
    "#Horizontal bar graph (using Bokeh) of the numbers of occurances of each Manner of Death\n",
    "counts = cust['Manner Death'].value_counts()\n",
    "\n",
    "source = ColumnDataSource(data=dict(deathtype=deathtype, counts=counts))\n",
    "\n",
    "p = figure(y_range=deathtype, plot_height=500, plot_width=900, title=\"Manner of Death in Custody from 2005-2016\",x_axis_label='Number of Deaths from 2005-2016',\n",
    "           toolbar_location=None, tools=\"\")\n",
    "\n",
    "p.hbar(y='deathtype', right='counts', height=0.5, color='color', legend=\"deathtype\", source=source, \n",
    "       line_color='white', fill_color=factor_cmap('deathtype', palette=Spectral8, factors=deathtype))\n",
    "\n",
    "factor_cmap('deathtype', palette=Spectral6, factors=deathtype)\n",
    "\n",
    "p.xgrid.grid_line_color = None\n",
    "p.x_range.start = 0\n",
    "p.x_range.end = 6000\n",
    "p.legend.orientation = \"vertical\"\n",
    "p.legend.location = \"top_right\"\n",
    "\n",
    "show(p)"
   ]
  },
  {
   "cell_type": "code",
   "execution_count": 10,
   "metadata": {},
   "outputs": [
    {
     "name": "stderr",
     "output_type": "stream",
     "text": [
      "C:\\Users\\Lara\\Miniconda3\\lib\\site-packages\\bokeh\\models\\mappers.py:82: UserWarning: Palette length does not match number of factors. ['Homicide by Other', 'Accidental injury caused by others'] will be assigned to `nan_color` gray\n",
      "  warnings.warn(\"Palette length does not match number of factors. %s will be assigned to `nan_color` %s\" % (extra_factors, self.nan_color))\n"
     ]
    },
    {
     "data": {
      "text/html": [
       "\n",
       "<div class=\"bk-root\">\n",
       "    <div class=\"bk-plotdiv\" id=\"87109c45-cc15-4491-ad07-022b33d01269\"></div>\n",
       "</div>"
      ]
     },
     "metadata": {},
     "output_type": "display_data"
    },
    {
     "data": {
      "application/javascript": [
       "(function(root) {\n",
       "  function embed_document(root) {\n",
       "    \n",
       "  var docs_json = {\"3c68891b-8d17-4624-a651-713da4663f02\":{\"roots\":{\"references\":[{\"attributes\":{\"callback\":null,\"end\":4000,\"start\":0},\"id\":\"ccec9405-970a-40ab-8392-04c588224d40\",\"type\":\"DataRange1d\"},{\"attributes\":{\"active_drag\":\"auto\",\"active_inspect\":\"auto\",\"active_scroll\":\"auto\",\"active_tap\":\"auto\"},\"id\":\"7885fe1a-68ea-4f0e-8585-0ddd6a679e92\",\"type\":\"Toolbar\"},{\"attributes\":{\"factors\":[\"Hispanic or Latino\",\"Black or African American\",\"Anglo or White\",\"Middle East\",\"Asian\",\"Other/Don't Know\",\"Native Hawaiian/Pacific Islander\",\"American Indian/Alaska Native\"],\"palette\":[\"#3288bd\",\"#66c2a5\",\"#abdda4\",\"#e6f598\",\"#fee08b\",\"#fdae61\",\"#f46d43\",\"#d53e4f\"]},\"id\":\"3958f46b-b8e1-4d1b-ba36-6470da584688\",\"type\":\"CategoricalColorMapper\"},{\"attributes\":{\"below\":[{\"id\":\"c488ba0a-b418-45c6-8d92-5c560e439de6\",\"type\":\"LinearAxis\"}],\"left\":[{\"id\":\"938ce8df-d0be-4e70-b440-ecaeacb6a8c7\",\"type\":\"CategoricalAxis\"}],\"plot_height\":500,\"plot_width\":900,\"renderers\":[{\"id\":\"c488ba0a-b418-45c6-8d92-5c560e439de6\",\"type\":\"LinearAxis\"},{\"id\":\"c16a1a70-6580-471f-868c-a5b44d879ca5\",\"type\":\"Grid\"},{\"id\":\"938ce8df-d0be-4e70-b440-ecaeacb6a8c7\",\"type\":\"CategoricalAxis\"},{\"id\":\"fc6c2b96-1f96-4880-bf90-021b30a5f92e\",\"type\":\"Grid\"},{\"id\":\"d6bb25a3-7324-43bc-a3ec-03756eb513c6\",\"type\":\"Legend\"},{\"id\":\"3c740a91-604e-4d5a-b9f2-85557223fe43\",\"type\":\"GlyphRenderer\"}],\"title\":{\"id\":\"16beb7df-28e2-4e83-94c1-b6fda96a0617\",\"type\":\"Title\"},\"toolbar\":{\"id\":\"7885fe1a-68ea-4f0e-8585-0ddd6a679e92\",\"type\":\"Toolbar\"},\"toolbar_location\":null,\"x_range\":{\"id\":\"ccec9405-970a-40ab-8392-04c588224d40\",\"type\":\"DataRange1d\"},\"x_scale\":{\"id\":\"5d2394e3-b327-4f15-b70f-031e968d77ff\",\"type\":\"LinearScale\"},\"y_range\":{\"id\":\"816f294c-73ce-4053-a451-f4ab93472f83\",\"type\":\"FactorRange\"},\"y_scale\":{\"id\":\"a63d5cd1-38bd-421d-a135-613b76cfdceb\",\"type\":\"CategoricalScale\"}},\"id\":\"c213d33e-91cf-4788-9b59-e9c1a5b25bc3\",\"subtype\":\"Figure\",\"type\":\"Plot\"},{\"attributes\":{\"plot\":null,\"text\":\"Ethnicity of Deaths in Custody\"},\"id\":\"16beb7df-28e2-4e83-94c1-b6fda96a0617\",\"type\":\"Title\"},{\"attributes\":{\"formatter\":{\"id\":\"bd1b798b-abb3-4053-bec5-e27e32544ef0\",\"type\":\"CategoricalTickFormatter\"},\"plot\":{\"id\":\"c213d33e-91cf-4788-9b59-e9c1a5b25bc3\",\"subtype\":\"Figure\",\"type\":\"Plot\"},\"ticker\":{\"id\":\"f8b892d5-fff7-424a-a226-9b20e06b5444\",\"type\":\"CategoricalTicker\"}},\"id\":\"938ce8df-d0be-4e70-b440-ecaeacb6a8c7\",\"type\":\"CategoricalAxis\"},{\"attributes\":{\"grid_line_color\":{\"value\":null},\"plot\":{\"id\":\"c213d33e-91cf-4788-9b59-e9c1a5b25bc3\",\"subtype\":\"Figure\",\"type\":\"Plot\"},\"ticker\":{\"id\":\"c1a8ec42-f813-492f-85f7-152b6f253b70\",\"type\":\"BasicTicker\"}},\"id\":\"c16a1a70-6580-471f-868c-a5b44d879ca5\",\"type\":\"Grid\"},{\"attributes\":{\"axis_label\":\"Number of Deaths from 2005-2016\",\"formatter\":{\"id\":\"7f928a6d-370a-4edd-acd7-db7835aa7061\",\"type\":\"BasicTickFormatter\"},\"plot\":{\"id\":\"c213d33e-91cf-4788-9b59-e9c1a5b25bc3\",\"subtype\":\"Figure\",\"type\":\"Plot\"},\"ticker\":{\"id\":\"c1a8ec42-f813-492f-85f7-152b6f253b70\",\"type\":\"BasicTicker\"}},\"id\":\"c488ba0a-b418-45c6-8d92-5c560e439de6\",\"type\":\"LinearAxis\"},{\"attributes\":{\"callback\":null,\"column_names\":[\"eth\",\"counts\"],\"data\":{\"counts\":[3228,2274,2117,46,34,13,12,5],\"eth\":[\"Hispanic or Latino\",\"Black or African American\",\"Anglo or White\",\"Middle East\",\"Asian\",\"Other/Don't Know\",\"Native Hawaiian/Pacific Islander\",\"American Indian/Alaska Native\"]}},\"id\":\"02d289cf-213c-47cb-ba49-3505e49a7a66\",\"type\":\"ColumnDataSource\"},{\"attributes\":{},\"id\":\"c1a8ec42-f813-492f-85f7-152b6f253b70\",\"type\":\"BasicTicker\"},{\"attributes\":{\"dimension\":1,\"plot\":{\"id\":\"c213d33e-91cf-4788-9b59-e9c1a5b25bc3\",\"subtype\":\"Figure\",\"type\":\"Plot\"},\"ticker\":{\"id\":\"f8b892d5-fff7-424a-a226-9b20e06b5444\",\"type\":\"CategoricalTicker\"}},\"id\":\"fc6c2b96-1f96-4880-bf90-021b30a5f92e\",\"type\":\"Grid\"},{\"attributes\":{\"callback\":null,\"factors\":[\"Hispanic or Latino\",\"Black or African American\",\"Anglo or White\",\"Middle East\",\"Asian\",\"Other/Don't Know\",\"Native Hawaiian/Pacific Islander\",\"American Indian/Alaska Native\"]},\"id\":\"816f294c-73ce-4053-a451-f4ab93472f83\",\"type\":\"FactorRange\"},{\"attributes\":{\"source\":{\"id\":\"02d289cf-213c-47cb-ba49-3505e49a7a66\",\"type\":\"ColumnDataSource\"}},\"id\":\"b77b6ae3-f94b-425c-af76-7c1b6b80e796\",\"type\":\"CDSView\"},{\"attributes\":{},\"id\":\"5d2394e3-b327-4f15-b70f-031e968d77ff\",\"type\":\"LinearScale\"},{\"attributes\":{\"data_source\":{\"id\":\"02d289cf-213c-47cb-ba49-3505e49a7a66\",\"type\":\"ColumnDataSource\"},\"glyph\":{\"id\":\"e11071c8-62e0-4c67-9876-be5763e87058\",\"type\":\"HBar\"},\"hover_glyph\":null,\"muted_glyph\":null,\"nonselection_glyph\":{\"id\":\"4fef913f-0831-44d9-8f4e-afedb6c172f2\",\"type\":\"HBar\"},\"selection_glyph\":null,\"view\":{\"id\":\"b77b6ae3-f94b-425c-af76-7c1b6b80e796\",\"type\":\"CDSView\"}},\"id\":\"3c740a91-604e-4d5a-b9f2-85557223fe43\",\"type\":\"GlyphRenderer\"},{\"attributes\":{},\"id\":\"bd1b798b-abb3-4053-bec5-e27e32544ef0\",\"type\":\"CategoricalTickFormatter\"},{\"attributes\":{\"label\":{\"field\":\"eth\"},\"renderers\":[{\"id\":\"3c740a91-604e-4d5a-b9f2-85557223fe43\",\"type\":\"GlyphRenderer\"}]},\"id\":\"623dff8d-adc2-4209-8579-0ab8d3221dde\",\"type\":\"LegendItem\"},{\"attributes\":{},\"id\":\"a63d5cd1-38bd-421d-a135-613b76cfdceb\",\"type\":\"CategoricalScale\"},{\"attributes\":{\"fill_color\":{\"field\":\"eth\",\"transform\":{\"id\":\"3958f46b-b8e1-4d1b-ba36-6470da584688\",\"type\":\"CategoricalColorMapper\"}},\"height\":{\"value\":0.5},\"line_color\":{\"value\":\"white\"},\"right\":{\"field\":\"counts\"},\"y\":{\"field\":\"eth\"}},\"id\":\"e11071c8-62e0-4c67-9876-be5763e87058\",\"type\":\"HBar\"},{\"attributes\":{\"items\":[{\"id\":\"623dff8d-adc2-4209-8579-0ab8d3221dde\",\"type\":\"LegendItem\"}],\"plot\":{\"id\":\"c213d33e-91cf-4788-9b59-e9c1a5b25bc3\",\"subtype\":\"Figure\",\"type\":\"Plot\"}},\"id\":\"d6bb25a3-7324-43bc-a3ec-03756eb513c6\",\"type\":\"Legend\"},{\"attributes\":{},\"id\":\"f8b892d5-fff7-424a-a226-9b20e06b5444\",\"type\":\"CategoricalTicker\"},{\"attributes\":{\"fill_alpha\":{\"value\":0.1},\"fill_color\":{\"value\":\"#1f77b4\"},\"height\":{\"value\":0.5},\"line_alpha\":{\"value\":0.1},\"line_color\":{\"value\":\"#1f77b4\"},\"right\":{\"field\":\"counts\"},\"y\":{\"field\":\"eth\"}},\"id\":\"4fef913f-0831-44d9-8f4e-afedb6c172f2\",\"type\":\"HBar\"},{\"attributes\":{},\"id\":\"7f928a6d-370a-4edd-acd7-db7835aa7061\",\"type\":\"BasicTickFormatter\"}],\"root_ids\":[\"c213d33e-91cf-4788-9b59-e9c1a5b25bc3\"]},\"title\":\"Bokeh Application\",\"version\":\"0.12.13\"}};\n",
       "  var render_items = [{\"docid\":\"3c68891b-8d17-4624-a651-713da4663f02\",\"elementid\":\"87109c45-cc15-4491-ad07-022b33d01269\",\"modelid\":\"c213d33e-91cf-4788-9b59-e9c1a5b25bc3\"}];\n",
       "  root.Bokeh.embed.embed_items_notebook(docs_json, render_items);\n",
       "\n",
       "  }\n",
       "  if (root.Bokeh !== undefined) {\n",
       "    embed_document(root);\n",
       "  } else {\n",
       "    var attempts = 0;\n",
       "    var timer = setInterval(function(root) {\n",
       "      if (root.Bokeh !== undefined) {\n",
       "        embed_document(root);\n",
       "        clearInterval(timer);\n",
       "      }\n",
       "      attempts++;\n",
       "      if (attempts > 100) {\n",
       "        console.log(\"Bokeh: ERROR: Unable to run BokehJS code because BokehJS library is missing\")\n",
       "        clearInterval(timer);\n",
       "      }\n",
       "    }, 10, root)\n",
       "  }\n",
       "})(window);"
      ],
      "application/vnd.bokehjs_exec.v0+json": ""
     },
     "metadata": {
      "application/vnd.bokehjs_exec.v0+json": {
       "id": "c213d33e-91cf-4788-9b59-e9c1a5b25bc3"
      }
     },
     "output_type": "display_data"
    }
   ],
   "source": [
    "#Bar graph showing the Ethnicity of each death in custody\n",
    "counts = cust['Ethnicity'].value_counts()\n",
    "\n",
    "source = ColumnDataSource(data=dict(eth=eth, counts=counts))\n",
    "\n",
    "t = figure(y_range=eth, plot_height=500, plot_width=900, title=\"Ethnicity of Deaths in Custody\",x_axis_label='Number of Deaths from 2005-2016',\n",
    "           toolbar_location=None, tools=\"\")\n",
    "\n",
    "t.hbar(y='eth', right='counts', height=0.5, color='color', legend=\"eth\", source=source, \n",
    "       line_color='white', fill_color=factor_cmap('eth', palette=Spectral8, factors=eth))\n",
    "\n",
    "factor_cmap('deathtype', palette=Spectral6, factors=deathtype)\n",
    "\n",
    "t.xgrid.grid_line_color = None\n",
    "t.x_range.start = 0\n",
    "t.x_range.end = 4000\n",
    "t.legend.orientation = \"vertical\"\n",
    "t.legend.location = \"top_right\"\n",
    "\n",
    "show(t)"
   ]
  },
  {
   "cell_type": "code",
   "execution_count": 11,
   "metadata": {},
   "outputs": [],
   "source": [
    "#create binary/contingency tables for four variables\n",
    "race = cust['Ethnicity'].dropna()\n",
    "death = cust['Manner Death'].dropna()\n",
    "charge = cust['Charges Status'].dropna()\n",
    "\n",
    "#dfcharge = pd.get_dummies(custody)\n",
    "dfrace =pd.get_dummies(race)\n",
    "dfdeath = pd.get_dummies(death)\n",
    "dfcharge = pd.get_dummies(charge)"
   ]
  },
  {
   "cell_type": "code",
   "execution_count": 12,
   "metadata": {},
   "outputs": [
    {
     "data": {
      "text/html": [
       "<div>\n",
       "<style scoped>\n",
       "    .dataframe tbody tr th:only-of-type {\n",
       "        vertical-align: middle;\n",
       "    }\n",
       "\n",
       "    .dataframe tbody tr th {\n",
       "        vertical-align: top;\n",
       "    }\n",
       "\n",
       "    .dataframe thead th {\n",
       "        text-align: right;\n",
       "    }\n",
       "</style>\n",
       "<table border=\"1\" class=\"dataframe\">\n",
       "  <thead>\n",
       "    <tr style=\"text-align: right;\">\n",
       "      <th></th>\n",
       "      <th>Convicted</th>\n",
       "      <th>Filed</th>\n",
       "      <th>Not filed at time of death</th>\n",
       "      <th>Probation/Parole</th>\n",
       "    </tr>\n",
       "  </thead>\n",
       "  <tbody>\n",
       "    <tr>\n",
       "      <th>7724</th>\n",
       "      <td>0</td>\n",
       "      <td>0</td>\n",
       "      <td>1</td>\n",
       "      <td>0</td>\n",
       "    </tr>\n",
       "    <tr>\n",
       "      <th>7725</th>\n",
       "      <td>1</td>\n",
       "      <td>0</td>\n",
       "      <td>0</td>\n",
       "      <td>0</td>\n",
       "    </tr>\n",
       "    <tr>\n",
       "      <th>7726</th>\n",
       "      <td>0</td>\n",
       "      <td>0</td>\n",
       "      <td>1</td>\n",
       "      <td>0</td>\n",
       "    </tr>\n",
       "    <tr>\n",
       "      <th>7727</th>\n",
       "      <td>0</td>\n",
       "      <td>0</td>\n",
       "      <td>1</td>\n",
       "      <td>0</td>\n",
       "    </tr>\n",
       "    <tr>\n",
       "      <th>7728</th>\n",
       "      <td>1</td>\n",
       "      <td>0</td>\n",
       "      <td>0</td>\n",
       "      <td>0</td>\n",
       "    </tr>\n",
       "  </tbody>\n",
       "</table>\n",
       "</div>"
      ],
      "text/plain": [
       "      Convicted  Filed  Not filed at time of death  Probation/Parole\n",
       "7724          0      0                           1                 0\n",
       "7725          1      0                           0                 0\n",
       "7726          0      0                           1                 0\n",
       "7727          0      0                           1                 0\n",
       "7728          1      0                           0                 0"
      ]
     },
     "execution_count": 12,
     "metadata": {},
     "output_type": "execute_result"
    }
   ],
   "source": [
    "dfcharge.tail()"
   ]
  },
  {
   "cell_type": "code",
   "execution_count": 13,
   "metadata": {},
   "outputs": [
    {
     "data": {
      "text/plain": [
       "Accidental injury caused by others               NaN\n",
       "Accidental injury to self                        NaN\n",
       "Alcohol/Drug Intoxication                        NaN\n",
       "American Indian/Alaska Native                    NaN\n",
       "Anglo or White                                   NaN\n",
       "Asian                                            NaN\n",
       "Black or African American                        NaN\n",
       "Hispanic or Latino                               NaN\n",
       "Homicide by Law Enforcement/Correctional Staff   NaN\n",
       "Homicide by Other                                NaN\n",
       "Middle East                                      NaN\n",
       "Native Hawaiian/Pacific Islander                 NaN\n",
       "Natural Causes/Illness                           NaN\n",
       "Other                                            NaN\n",
       "Other/Don't Know                                 NaN\n",
       "Suicide                                          NaN\n",
       "dtype: float64"
      ]
     },
     "execution_count": 13,
     "metadata": {},
     "output_type": "execute_result"
    }
   ],
   "source": [
    "#Attempt to measure correlation between Manner of Death types and Ethnicity\n",
    "dfdeath.corrwith(dfrace)"
   ]
  },
  {
   "cell_type": "code",
   "execution_count": null,
   "metadata": {},
   "outputs": [],
   "source": []
  },
  {
   "cell_type": "code",
   "execution_count": 14,
   "metadata": {},
   "outputs": [],
   "source": [
    "#create small df counting deaths grouped by Cause and Ethnicity\n",
    "breakdown = cust.groupby(['Ethnicity', 'Manner Death'])['Last Name'].count()\n",
    "death_eth_df = breakdown.unstack()\n",
    "death_eth_df = death_eth_df.fillna(0).astype(int)"
   ]
  },
  {
   "cell_type": "code",
   "execution_count": 15,
   "metadata": {},
   "outputs": [
    {
     "data": {
      "text/html": [
       "<div>\n",
       "<style scoped>\n",
       "    .dataframe tbody tr th:only-of-type {\n",
       "        vertical-align: middle;\n",
       "    }\n",
       "\n",
       "    .dataframe tbody tr th {\n",
       "        vertical-align: top;\n",
       "    }\n",
       "\n",
       "    .dataframe thead th {\n",
       "        text-align: right;\n",
       "    }\n",
       "</style>\n",
       "<table border=\"1\" class=\"dataframe\">\n",
       "  <thead>\n",
       "    <tr style=\"text-align: right;\">\n",
       "      <th>Manner Death</th>\n",
       "      <th>Accidental injury caused by others</th>\n",
       "      <th>Accidental injury to self</th>\n",
       "      <th>Alcohol/Drug Intoxication</th>\n",
       "      <th>Homicide by Law Enforcement/Correctional Staff</th>\n",
       "      <th>Homicide by Other</th>\n",
       "      <th>Natural Causes/Illness</th>\n",
       "      <th>Other</th>\n",
       "      <th>Suicide</th>\n",
       "    </tr>\n",
       "    <tr>\n",
       "      <th>Ethnicity</th>\n",
       "      <th></th>\n",
       "      <th></th>\n",
       "      <th></th>\n",
       "      <th></th>\n",
       "      <th></th>\n",
       "      <th></th>\n",
       "      <th></th>\n",
       "      <th></th>\n",
       "    </tr>\n",
       "  </thead>\n",
       "  <tbody>\n",
       "    <tr>\n",
       "      <th>American Indian/Alaska Native</th>\n",
       "      <td>0</td>\n",
       "      <td>0</td>\n",
       "      <td>0</td>\n",
       "      <td>5</td>\n",
       "      <td>0</td>\n",
       "      <td>5</td>\n",
       "      <td>1</td>\n",
       "      <td>2</td>\n",
       "    </tr>\n",
       "    <tr>\n",
       "      <th>Anglo or White</th>\n",
       "      <td>3</td>\n",
       "      <td>63</td>\n",
       "      <td>99</td>\n",
       "      <td>321</td>\n",
       "      <td>25</td>\n",
       "      <td>2183</td>\n",
       "      <td>77</td>\n",
       "      <td>455</td>\n",
       "    </tr>\n",
       "    <tr>\n",
       "      <th>Asian</th>\n",
       "      <td>0</td>\n",
       "      <td>0</td>\n",
       "      <td>3</td>\n",
       "      <td>5</td>\n",
       "      <td>1</td>\n",
       "      <td>19</td>\n",
       "      <td>0</td>\n",
       "      <td>6</td>\n",
       "    </tr>\n",
       "    <tr>\n",
       "      <th>Black or African American</th>\n",
       "      <td>6</td>\n",
       "      <td>36</td>\n",
       "      <td>93</td>\n",
       "      <td>213</td>\n",
       "      <td>22</td>\n",
       "      <td>1687</td>\n",
       "      <td>68</td>\n",
       "      <td>147</td>\n",
       "    </tr>\n",
       "    <tr>\n",
       "      <th>Hispanic or Latino</th>\n",
       "      <td>11</td>\n",
       "      <td>54</td>\n",
       "      <td>88</td>\n",
       "      <td>291</td>\n",
       "      <td>24</td>\n",
       "      <td>1363</td>\n",
       "      <td>56</td>\n",
       "      <td>229</td>\n",
       "    </tr>\n",
       "    <tr>\n",
       "      <th>Middle East</th>\n",
       "      <td>0</td>\n",
       "      <td>1</td>\n",
       "      <td>0</td>\n",
       "      <td>7</td>\n",
       "      <td>0</td>\n",
       "      <td>2</td>\n",
       "      <td>0</td>\n",
       "      <td>2</td>\n",
       "    </tr>\n",
       "    <tr>\n",
       "      <th>Native Hawaiian/Pacific Islander</th>\n",
       "      <td>1</td>\n",
       "      <td>0</td>\n",
       "      <td>1</td>\n",
       "      <td>1</td>\n",
       "      <td>0</td>\n",
       "      <td>1</td>\n",
       "      <td>0</td>\n",
       "      <td>1</td>\n",
       "    </tr>\n",
       "    <tr>\n",
       "      <th>Other/Don't Know</th>\n",
       "      <td>0</td>\n",
       "      <td>1</td>\n",
       "      <td>0</td>\n",
       "      <td>35</td>\n",
       "      <td>0</td>\n",
       "      <td>6</td>\n",
       "      <td>1</td>\n",
       "      <td>2</td>\n",
       "    </tr>\n",
       "  </tbody>\n",
       "</table>\n",
       "</div>"
      ],
      "text/plain": [
       "Manner Death                      Accidental injury caused by others  \\\n",
       "Ethnicity                                                              \n",
       "American Indian/Alaska Native                                      0   \n",
       "Anglo or White                                                     3   \n",
       "Asian                                                              0   \n",
       "Black or African American                                          6   \n",
       "Hispanic or Latino                                                11   \n",
       "Middle East                                                        0   \n",
       "Native Hawaiian/Pacific Islander                                   1   \n",
       "Other/Don't Know                                                   0   \n",
       "\n",
       "Manner Death                      Accidental injury to self  \\\n",
       "Ethnicity                                                     \n",
       "American Indian/Alaska Native                             0   \n",
       "Anglo or White                                           63   \n",
       "Asian                                                     0   \n",
       "Black or African American                                36   \n",
       "Hispanic or Latino                                       54   \n",
       "Middle East                                               1   \n",
       "Native Hawaiian/Pacific Islander                          0   \n",
       "Other/Don't Know                                          1   \n",
       "\n",
       "Manner Death                      Alcohol/Drug Intoxication  \\\n",
       "Ethnicity                                                     \n",
       "American Indian/Alaska Native                             0   \n",
       "Anglo or White                                           99   \n",
       "Asian                                                     3   \n",
       "Black or African American                                93   \n",
       "Hispanic or Latino                                       88   \n",
       "Middle East                                               0   \n",
       "Native Hawaiian/Pacific Islander                          1   \n",
       "Other/Don't Know                                          0   \n",
       "\n",
       "Manner Death                      Homicide by Law Enforcement/Correctional Staff  \\\n",
       "Ethnicity                                                                          \n",
       "American Indian/Alaska Native                                                  5   \n",
       "Anglo or White                                                               321   \n",
       "Asian                                                                          5   \n",
       "Black or African American                                                    213   \n",
       "Hispanic or Latino                                                           291   \n",
       "Middle East                                                                    7   \n",
       "Native Hawaiian/Pacific Islander                                               1   \n",
       "Other/Don't Know                                                              35   \n",
       "\n",
       "Manner Death                      Homicide by Other  Natural Causes/Illness  \\\n",
       "Ethnicity                                                                     \n",
       "American Indian/Alaska Native                     0                       5   \n",
       "Anglo or White                                   25                    2183   \n",
       "Asian                                             1                      19   \n",
       "Black or African American                        22                    1687   \n",
       "Hispanic or Latino                               24                    1363   \n",
       "Middle East                                       0                       2   \n",
       "Native Hawaiian/Pacific Islander                  0                       1   \n",
       "Other/Don't Know                                  0                       6   \n",
       "\n",
       "Manner Death                      Other  Suicide  \n",
       "Ethnicity                                         \n",
       "American Indian/Alaska Native         1        2  \n",
       "Anglo or White                       77      455  \n",
       "Asian                                 0        6  \n",
       "Black or African American            68      147  \n",
       "Hispanic or Latino                   56      229  \n",
       "Middle East                           0        2  \n",
       "Native Hawaiian/Pacific Islander      0        1  \n",
       "Other/Don't Know                      1        2  "
      ]
     },
     "execution_count": 15,
     "metadata": {},
     "output_type": "execute_result"
    }
   ],
   "source": [
    "death_eth_df"
   ]
  },
  {
   "cell_type": "code",
   "execution_count": null,
   "metadata": {},
   "outputs": [],
   "source": []
  },
  {
   "cell_type": "code",
   "execution_count": 16,
   "metadata": {},
   "outputs": [],
   "source": [
    "#list of total counts for each ethnicity\n",
    "ethni = cust['Ethnicity'].value_counts()"
   ]
  },
  {
   "cell_type": "code",
   "execution_count": 17,
   "metadata": {
    "scrolled": true
   },
   "outputs": [
    {
     "name": "stdout",
     "output_type": "stream",
     "text": [
      "% of Whites killed by officers: 0.0994423791822\n"
     ]
    }
   ],
   "source": [
    "print (\"% of Whites killed by officers:\", breakdown['Anglo or White', 'Homicide by Law Enforcement/Correctional Staff']/ethni['Anglo or White'])"
   ]
  },
  {
   "cell_type": "code",
   "execution_count": 18,
   "metadata": {},
   "outputs": [
    {
     "name": "stdout",
     "output_type": "stream",
     "text": [
      "% of Latinos killed by officers: 0.137458667926\n"
     ]
    }
   ],
   "source": [
    "print (\"% of Latinos killed by officers:\", breakdown['Hispanic or Latino', 'Homicide by Law Enforcement/Correctional Staff']/ethni['Hispanic or Latino'])"
   ]
  },
  {
   "cell_type": "code",
   "execution_count": null,
   "metadata": {},
   "outputs": [],
   "source": []
  },
  {
   "cell_type": "code",
   "execution_count": 19,
   "metadata": {},
   "outputs": [
    {
     "data": {
      "text/html": [
       "\n",
       "<div class=\"bk-root\">\n",
       "    <div class=\"bk-plotdiv\" id=\"e7d66fc9-7eab-40eb-bb04-5ce19e477561\"></div>\n",
       "</div>"
      ]
     },
     "metadata": {},
     "output_type": "display_data"
    },
    {
     "data": {
      "application/javascript": [
       "(function(root) {\n",
       "  function embed_document(root) {\n",
       "    \n",
       "  var docs_json = {\"5262fa12-33a3-405c-9ab5-53ee99ea58dc\":{\"roots\":{\"references\":[{\"attributes\":{\"source\":{\"id\":\"3d1e9f46-32dc-4d04-9db3-05a2ff78e9b8\",\"type\":\"ColumnDataSource\"}},\"id\":\"e6e5e2df-1edb-4610-95d7-4a7e85d712c7\",\"type\":\"CDSView\"},{\"attributes\":{\"label\":{\"value\":\"Homicide by Other\"},\"renderers\":[{\"id\":\"d2d4019b-bf17-4f89-87a9-01bdd0a0624a\",\"type\":\"GlyphRenderer\"}]},\"id\":\"e68b0559-5249-4fe8-852a-8ba3702ad351\",\"type\":\"LegendItem\"},{\"attributes\":{\"below\":[{\"id\":\"7debf676-af18-40c1-99ed-83877ba3c78f\",\"type\":\"LinearAxis\"}],\"left\":[{\"id\":\"e693a0ec-c7e5-46ad-8a7f-9a1ca2a970e0\",\"type\":\"CategoricalAxis\"}],\"outline_line_color\":{\"value\":null},\"plot_height\":500,\"plot_width\":900,\"renderers\":[{\"id\":\"7debf676-af18-40c1-99ed-83877ba3c78f\",\"type\":\"LinearAxis\"},{\"id\":\"ad75ed69-bdda-4ce7-8e2f-52360241aae1\",\"type\":\"Grid\"},{\"id\":\"e693a0ec-c7e5-46ad-8a7f-9a1ca2a970e0\",\"type\":\"CategoricalAxis\"},{\"id\":\"a5a0a1b1-0a0c-43c6-a380-5b6ef08cdd68\",\"type\":\"Grid\"},{\"id\":\"5c01647a-9aee-43a3-965c-f3df768f8344\",\"type\":\"Legend\"},{\"id\":\"5a97f3be-d82f-49fa-99aa-50a9922e051a\",\"type\":\"GlyphRenderer\"},{\"id\":\"1eb252bd-8606-4718-8008-2f65446d325f\",\"type\":\"GlyphRenderer\"},{\"id\":\"02b095fa-27a3-41cf-9ff9-9d4903428b22\",\"type\":\"GlyphRenderer\"},{\"id\":\"358d439b-ff7b-429a-8ab4-f070f8546590\",\"type\":\"GlyphRenderer\"},{\"id\":\"94bfccbf-6ec0-4f9e-b77a-a10972b41682\",\"type\":\"GlyphRenderer\"},{\"id\":\"30086a7c-5189-4b18-93da-58dced8b32eb\",\"type\":\"GlyphRenderer\"},{\"id\":\"d2d4019b-bf17-4f89-87a9-01bdd0a0624a\",\"type\":\"GlyphRenderer\"},{\"id\":\"f446d273-bf33-484e-815b-d67c83469489\",\"type\":\"GlyphRenderer\"}],\"title\":{\"id\":\"a731ef65-321b-408a-b7dd-1d27b4a8ba3d\",\"type\":\"Title\"},\"toolbar\":{\"id\":\"adc8bf85-8201-4e36-ba9c-806fd92adbbe\",\"type\":\"Toolbar\"},\"toolbar_location\":null,\"x_range\":{\"id\":\"7448ee87-a326-418a-9854-5fa1402ca27b\",\"type\":\"DataRange1d\"},\"x_scale\":{\"id\":\"4fc53fed-09f3-44c9-b727-98ff5023973a\",\"type\":\"LinearScale\"},\"y_range\":{\"id\":\"df7ddef9-3db6-460e-a5bc-923bc8d8d7d7\",\"type\":\"FactorRange\"},\"y_scale\":{\"id\":\"a5ddba82-6f4c-4cf6-b7c8-50abb6ba49c5\",\"type\":\"CategoricalScale\"}},\"id\":\"83466db3-39d9-4c88-9d0a-03389ff55df0\",\"subtype\":\"Figure\",\"type\":\"Plot\"},{\"attributes\":{\"fill_color\":{\"value\":\"#d53e4f\"},\"height\":{\"value\":0.9},\"left\":{\"expr\":{\"id\":\"7f87474a-d515-4ccd-bd25-cc26c5b5e169\",\"type\":\"Stack\"}},\"line_color\":{\"value\":\"#d53e4f\"},\"right\":{\"expr\":{\"id\":\"d56d08ea-160c-460d-ac7e-334ebfb3ef1e\",\"type\":\"Stack\"}},\"y\":{\"field\":\"Ethnicity\"}},\"id\":\"6f700818-669a-4f3f-8cc9-7ab134e804da\",\"type\":\"HBar\"},{\"attributes\":{\"plot\":null,\"text\":\"Manner of Death by Ethnicity\"},\"id\":\"a731ef65-321b-408a-b7dd-1d27b4a8ba3d\",\"type\":\"Title\"},{\"attributes\":{\"callback\":null,\"end\":4000,\"start\":0},\"id\":\"7448ee87-a326-418a-9854-5fa1402ca27b\",\"type\":\"DataRange1d\"},{\"attributes\":{\"active_drag\":\"auto\",\"active_inspect\":\"auto\",\"active_scroll\":\"auto\",\"active_tap\":\"auto\"},\"id\":\"adc8bf85-8201-4e36-ba9c-806fd92adbbe\",\"type\":\"Toolbar\"},{\"attributes\":{\"fill_alpha\":{\"value\":0.1},\"fill_color\":{\"value\":\"#1f77b4\"},\"height\":{\"value\":0.9},\"left\":{\"expr\":{\"id\":\"7f87474a-d515-4ccd-bd25-cc26c5b5e169\",\"type\":\"Stack\"}},\"line_alpha\":{\"value\":0.1},\"line_color\":{\"value\":\"#1f77b4\"},\"right\":{\"expr\":{\"id\":\"d56d08ea-160c-460d-ac7e-334ebfb3ef1e\",\"type\":\"Stack\"}},\"y\":{\"field\":\"Ethnicity\"}},\"id\":\"1a314b85-8fcc-4461-b393-1959746c94e7\",\"type\":\"HBar\"},{\"attributes\":{\"label\":{\"value\":\"Accidental injury caused by others\"},\"renderers\":[{\"id\":\"f446d273-bf33-484e-815b-d67c83469489\",\"type\":\"GlyphRenderer\"}]},\"id\":\"4440f3c5-e3c1-445c-85b2-85f2c8325a94\",\"type\":\"LegendItem\"},{\"attributes\":{\"fields\":[]},\"id\":\"3c4aec49-06d1-408c-9c0b-7b997baf615c\",\"type\":\"Stack\"},{\"attributes\":{},\"id\":\"4fc53fed-09f3-44c9-b727-98ff5023973a\",\"type\":\"LinearScale\"},{\"attributes\":{\"callback\":null,\"factors\":[\"American Indian/Alaska Native\",\"Anglo or White\",\"Asian\",\"Black or African American\",\"Hispanic or Latino\",\"Middle East\",\"Native Hawaiian/Pacific Islander\",\"Other/Don't Know\"],\"range_padding\":0.1},\"id\":\"df7ddef9-3db6-460e-a5bc-923bc8d8d7d7\",\"type\":\"FactorRange\"},{\"attributes\":{\"data_source\":{\"id\":\"3d1e9f46-32dc-4d04-9db3-05a2ff78e9b8\",\"type\":\"ColumnDataSource\"},\"glyph\":{\"id\":\"6f700818-669a-4f3f-8cc9-7ab134e804da\",\"type\":\"HBar\"},\"hover_glyph\":null,\"muted_glyph\":null,\"nonselection_glyph\":{\"id\":\"1a314b85-8fcc-4461-b393-1959746c94e7\",\"type\":\"HBar\"},\"selection_glyph\":null,\"view\":{\"id\":\"d68daede-ac07-4681-82bb-6f3afa49324f\",\"type\":\"CDSView\"}},\"id\":\"f446d273-bf33-484e-815b-d67c83469489\",\"type\":\"GlyphRenderer\"},{\"attributes\":{},\"id\":\"a5ddba82-6f4c-4cf6-b7c8-50abb6ba49c5\",\"type\":\"CategoricalScale\"},{\"attributes\":{\"source\":{\"id\":\"3d1e9f46-32dc-4d04-9db3-05a2ff78e9b8\",\"type\":\"ColumnDataSource\"}},\"id\":\"d68daede-ac07-4681-82bb-6f3afa49324f\",\"type\":\"CDSView\"},{\"attributes\":{\"grid_line_color\":{\"value\":null},\"plot\":{\"id\":\"83466db3-39d9-4c88-9d0a-03389ff55df0\",\"subtype\":\"Figure\",\"type\":\"Plot\"},\"ticker\":{\"id\":\"75677e18-e84b-4df1-b630-5065d98bd166\",\"type\":\"BasicTicker\"}},\"id\":\"ad75ed69-bdda-4ce7-8e2f-52360241aae1\",\"type\":\"Grid\"},{\"attributes\":{\"axis_label\":\"Number of Deaths from 2005-2016\",\"formatter\":{\"id\":\"2f4ba26a-9b59-4df6-add4-9bfec79a9d60\",\"type\":\"BasicTickFormatter\"},\"minor_tick_line_color\":{\"value\":null},\"plot\":{\"id\":\"83466db3-39d9-4c88-9d0a-03389ff55df0\",\"subtype\":\"Figure\",\"type\":\"Plot\"},\"ticker\":{\"id\":\"75677e18-e84b-4df1-b630-5065d98bd166\",\"type\":\"BasicTicker\"}},\"id\":\"7debf676-af18-40c1-99ed-83877ba3c78f\",\"type\":\"LinearAxis\"},{\"attributes\":{},\"id\":\"75677e18-e84b-4df1-b630-5065d98bd166\",\"type\":\"BasicTicker\"},{\"attributes\":{\"formatter\":{\"id\":\"c9efeb35-e654-4d65-9be2-3bc38308e442\",\"type\":\"CategoricalTickFormatter\"},\"minor_tick_line_color\":{\"value\":null},\"plot\":{\"id\":\"83466db3-39d9-4c88-9d0a-03389ff55df0\",\"subtype\":\"Figure\",\"type\":\"Plot\"},\"ticker\":{\"id\":\"257d2cf5-cfd9-4faf-80e5-6b7878adb291\",\"type\":\"CategoricalTicker\"}},\"id\":\"e693a0ec-c7e5-46ad-8a7f-9a1ca2a970e0\",\"type\":\"CategoricalAxis\"},{\"attributes\":{},\"id\":\"257d2cf5-cfd9-4faf-80e5-6b7878adb291\",\"type\":\"CategoricalTicker\"},{\"attributes\":{\"dimension\":1,\"plot\":{\"id\":\"83466db3-39d9-4c88-9d0a-03389ff55df0\",\"subtype\":\"Figure\",\"type\":\"Plot\"},\"ticker\":{\"id\":\"257d2cf5-cfd9-4faf-80e5-6b7878adb291\",\"type\":\"CategoricalTicker\"}},\"id\":\"a5a0a1b1-0a0c-43c6-a380-5b6ef08cdd68\",\"type\":\"Grid\"},{\"attributes\":{\"fields\":[\"Natural Causes/Illness\",\"Other\",\"Accidental injury to self\",\"Homicide by Law Enforcement/Correctional Staff\"]},\"id\":\"d6a25095-6986-42a4-81b9-c81ddaa55fe8\",\"type\":\"Stack\"},{\"attributes\":{\"fields\":[\"Natural Causes/Illness\"]},\"id\":\"9d69a645-97d3-4d9e-8ab8-d7dcfaaf2a59\",\"type\":\"Stack\"},{\"attributes\":{\"fields\":[\"Natural Causes/Illness\"]},\"id\":\"bf5f9118-4746-45f2-86c2-102495d4b2f5\",\"type\":\"Stack\"},{\"attributes\":{\"fields\":[\"Natural Causes/Illness\",\"Other\"]},\"id\":\"600167c6-edfd-412b-8695-8a58dfc53c43\",\"type\":\"Stack\"},{\"attributes\":{\"fields\":[\"Natural Causes/Illness\",\"Other\"]},\"id\":\"ea02e783-9cba-4d1d-8e4a-91ad719852d7\",\"type\":\"Stack\"},{\"attributes\":{\"fields\":[\"Natural Causes/Illness\",\"Other\",\"Accidental injury to self\"]},\"id\":\"cc703c4a-e692-4840-98df-02af1cc23287\",\"type\":\"Stack\"},{\"attributes\":{\"fields\":[\"Natural Causes/Illness\",\"Other\",\"Accidental injury to self\"]},\"id\":\"faead1ff-9281-4cee-9138-4606d74efe23\",\"type\":\"Stack\"},{\"attributes\":{\"fields\":[\"Natural Causes/Illness\",\"Other\",\"Accidental injury to self\",\"Homicide by Law Enforcement/Correctional Staff\"]},\"id\":\"83b77b1e-097a-4d9e-b967-4d70ac217480\",\"type\":\"Stack\"},{\"attributes\":{\"fields\":[\"Natural Causes/Illness\",\"Other\",\"Accidental injury to self\",\"Homicide by Law Enforcement/Correctional Staff\",\"Suicide\"]},\"id\":\"3338b5ae-b937-4328-97c0-3f09c982bb41\",\"type\":\"Stack\"},{\"attributes\":{\"fields\":[\"Natural Causes/Illness\",\"Other\",\"Accidental injury to self\",\"Homicide by Law Enforcement/Correctional Staff\",\"Suicide\",\"Alcohol/Drug Intoxication\"]},\"id\":\"fa155447-5f13-4657-9cdc-5bf31d4427ee\",\"type\":\"Stack\"},{\"attributes\":{\"fields\":[\"Natural Causes/Illness\",\"Other\",\"Accidental injury to self\",\"Homicide by Law Enforcement/Correctional Staff\",\"Suicide\"]},\"id\":\"f53b3e36-1db1-4b28-9418-cc10bd206012\",\"type\":\"Stack\"},{\"attributes\":{},\"id\":\"c9efeb35-e654-4d65-9be2-3bc38308e442\",\"type\":\"CategoricalTickFormatter\"},{\"attributes\":{\"fields\":[\"Natural Causes/Illness\",\"Other\",\"Accidental injury to self\",\"Homicide by Law Enforcement/Correctional Staff\",\"Suicide\",\"Alcohol/Drug Intoxication\"]},\"id\":\"6a652240-0f5f-4f1e-9ccf-40517d1324e3\",\"type\":\"Stack\"},{\"attributes\":{\"fields\":[\"Natural Causes/Illness\",\"Other\",\"Accidental injury to self\",\"Homicide by Law Enforcement/Correctional Staff\",\"Suicide\",\"Alcohol/Drug Intoxication\",\"Homicide by Other\"]},\"id\":\"c72917c7-0617-4593-9286-169947b87227\",\"type\":\"Stack\"},{\"attributes\":{\"fields\":[\"Natural Causes/Illness\",\"Other\",\"Accidental injury to self\",\"Homicide by Law Enforcement/Correctional Staff\",\"Suicide\",\"Alcohol/Drug Intoxication\",\"Homicide by Other\"]},\"id\":\"7f87474a-d515-4ccd-bd25-cc26c5b5e169\",\"type\":\"Stack\"},{\"attributes\":{\"fields\":[\"Natural Causes/Illness\",\"Other\",\"Accidental injury to self\",\"Homicide by Law Enforcement/Correctional Staff\",\"Suicide\",\"Alcohol/Drug Intoxication\",\"Homicide by Other\",\"Accidental injury caused by others\"]},\"id\":\"d56d08ea-160c-460d-ac7e-334ebfb3ef1e\",\"type\":\"Stack\"},{\"attributes\":{\"fill_color\":{\"value\":\"#f46d43\"},\"height\":{\"value\":0.9},\"left\":{\"expr\":{\"id\":\"6a652240-0f5f-4f1e-9ccf-40517d1324e3\",\"type\":\"Stack\"}},\"line_color\":{\"value\":\"#f46d43\"},\"right\":{\"expr\":{\"id\":\"c72917c7-0617-4593-9286-169947b87227\",\"type\":\"Stack\"}},\"y\":{\"field\":\"Ethnicity\"}},\"id\":\"c3461a82-6a5f-46fe-a583-b6bd9d2be99d\",\"type\":\"HBar\"},{\"attributes\":{\"fill_color\":{\"value\":\"#3288bd\"},\"height\":{\"value\":0.9},\"left\":{\"expr\":{\"id\":\"3c4aec49-06d1-408c-9c0b-7b997baf615c\",\"type\":\"Stack\"}},\"line_color\":{\"value\":\"#3288bd\"},\"right\":{\"expr\":{\"id\":\"9d69a645-97d3-4d9e-8ab8-d7dcfaaf2a59\",\"type\":\"Stack\"}},\"y\":{\"field\":\"Ethnicity\"}},\"id\":\"14c48dc4-5ad1-4f37-9c99-6c5e5c6c9f51\",\"type\":\"HBar\"},{\"attributes\":{\"fill_alpha\":{\"value\":0.1},\"fill_color\":{\"value\":\"#1f77b4\"},\"height\":{\"value\":0.9},\"left\":{\"expr\":{\"id\":\"3c4aec49-06d1-408c-9c0b-7b997baf615c\",\"type\":\"Stack\"}},\"line_alpha\":{\"value\":0.1},\"line_color\":{\"value\":\"#1f77b4\"},\"right\":{\"expr\":{\"id\":\"9d69a645-97d3-4d9e-8ab8-d7dcfaaf2a59\",\"type\":\"Stack\"}},\"y\":{\"field\":\"Ethnicity\"}},\"id\":\"5f102969-13e5-4743-a1b2-b7a80afb203d\",\"type\":\"HBar\"},{\"attributes\":{\"items\":[{\"id\":\"1895c39c-ba16-409a-9c7f-ccd251100d4a\",\"type\":\"LegendItem\"},{\"id\":\"0539614c-e67f-42df-8ea8-675379eb998b\",\"type\":\"LegendItem\"},{\"id\":\"e72a076a-0b67-4b70-b082-6dc03ee32493\",\"type\":\"LegendItem\"},{\"id\":\"d3d47450-ec9d-482a-926b-0a9e5fd4a0d5\",\"type\":\"LegendItem\"},{\"id\":\"f3b595ca-a115-480d-9f31-01e202cd5ee8\",\"type\":\"LegendItem\"},{\"id\":\"0adae3f0-9daf-4ecc-8212-ba0da5113173\",\"type\":\"LegendItem\"},{\"id\":\"e68b0559-5249-4fe8-852a-8ba3702ad351\",\"type\":\"LegendItem\"},{\"id\":\"4440f3c5-e3c1-445c-85b2-85f2c8325a94\",\"type\":\"LegendItem\"}],\"plot\":{\"id\":\"83466db3-39d9-4c88-9d0a-03389ff55df0\",\"subtype\":\"Figure\",\"type\":\"Plot\"}},\"id\":\"5c01647a-9aee-43a3-965c-f3df768f8344\",\"type\":\"Legend\"},{\"attributes\":{\"fill_color\":{\"value\":\"#abdda4\"},\"height\":{\"value\":0.9},\"left\":{\"expr\":{\"id\":\"ea02e783-9cba-4d1d-8e4a-91ad719852d7\",\"type\":\"Stack\"}},\"line_color\":{\"value\":\"#abdda4\"},\"right\":{\"expr\":{\"id\":\"cc703c4a-e692-4840-98df-02af1cc23287\",\"type\":\"Stack\"}},\"y\":{\"field\":\"Ethnicity\"}},\"id\":\"dc507b9d-a39c-4346-8439-8c032b87f3de\",\"type\":\"HBar\"},{\"attributes\":{\"fill_color\":{\"value\":\"#66c2a5\"},\"height\":{\"value\":0.9},\"left\":{\"expr\":{\"id\":\"bf5f9118-4746-45f2-86c2-102495d4b2f5\",\"type\":\"Stack\"}},\"line_color\":{\"value\":\"#66c2a5\"},\"right\":{\"expr\":{\"id\":\"600167c6-edfd-412b-8695-8a58dfc53c43\",\"type\":\"Stack\"}},\"y\":{\"field\":\"Ethnicity\"}},\"id\":\"9bb761b6-a39c-49e4-a2f7-8eab160b1ae6\",\"type\":\"HBar\"},{\"attributes\":{},\"id\":\"2f4ba26a-9b59-4df6-add4-9bfec79a9d60\",\"type\":\"BasicTickFormatter\"},{\"attributes\":{\"data_source\":{\"id\":\"3d1e9f46-32dc-4d04-9db3-05a2ff78e9b8\",\"type\":\"ColumnDataSource\"},\"glyph\":{\"id\":\"14c48dc4-5ad1-4f37-9c99-6c5e5c6c9f51\",\"type\":\"HBar\"},\"hover_glyph\":null,\"muted_glyph\":null,\"nonselection_glyph\":{\"id\":\"5f102969-13e5-4743-a1b2-b7a80afb203d\",\"type\":\"HBar\"},\"selection_glyph\":null,\"view\":{\"id\":\"df186b08-96d9-4768-b243-f2f4074db4f4\",\"type\":\"CDSView\"}},\"id\":\"5a97f3be-d82f-49fa-99aa-50a9922e051a\",\"type\":\"GlyphRenderer\"},{\"attributes\":{\"source\":{\"id\":\"3d1e9f46-32dc-4d04-9db3-05a2ff78e9b8\",\"type\":\"ColumnDataSource\"}},\"id\":\"df186b08-96d9-4768-b243-f2f4074db4f4\",\"type\":\"CDSView\"},{\"attributes\":{\"fill_color\":{\"value\":\"#e6f598\"},\"height\":{\"value\":0.9},\"left\":{\"expr\":{\"id\":\"faead1ff-9281-4cee-9138-4606d74efe23\",\"type\":\"Stack\"}},\"line_color\":{\"value\":\"#e6f598\"},\"right\":{\"expr\":{\"id\":\"83b77b1e-097a-4d9e-b967-4d70ac217480\",\"type\":\"Stack\"}},\"y\":{\"field\":\"Ethnicity\"}},\"id\":\"de480c11-acdd-4c10-88d3-4f2354f469cd\",\"type\":\"HBar\"},{\"attributes\":{\"fill_color\":{\"value\":\"#fdae61\"},\"height\":{\"value\":0.9},\"left\":{\"expr\":{\"id\":\"3338b5ae-b937-4328-97c0-3f09c982bb41\",\"type\":\"Stack\"}},\"line_color\":{\"value\":\"#fdae61\"},\"right\":{\"expr\":{\"id\":\"fa155447-5f13-4657-9cdc-5bf31d4427ee\",\"type\":\"Stack\"}},\"y\":{\"field\":\"Ethnicity\"}},\"id\":\"6feb487d-82e8-41dc-82e1-ef222ef92ed7\",\"type\":\"HBar\"},{\"attributes\":{\"fill_alpha\":{\"value\":0.1},\"fill_color\":{\"value\":\"#1f77b4\"},\"height\":{\"value\":0.9},\"left\":{\"expr\":{\"id\":\"bf5f9118-4746-45f2-86c2-102495d4b2f5\",\"type\":\"Stack\"}},\"line_alpha\":{\"value\":0.1},\"line_color\":{\"value\":\"#1f77b4\"},\"right\":{\"expr\":{\"id\":\"600167c6-edfd-412b-8695-8a58dfc53c43\",\"type\":\"Stack\"}},\"y\":{\"field\":\"Ethnicity\"}},\"id\":\"a9bd82b3-d9c2-4cd6-9b61-96810018c2ce\",\"type\":\"HBar\"},{\"attributes\":{\"label\":{\"value\":\"Other\"},\"renderers\":[{\"id\":\"1eb252bd-8606-4718-8008-2f65446d325f\",\"type\":\"GlyphRenderer\"}]},\"id\":\"0539614c-e67f-42df-8ea8-675379eb998b\",\"type\":\"LegendItem\"},{\"attributes\":{\"fill_color\":{\"value\":\"#fee08b\"},\"height\":{\"value\":0.9},\"left\":{\"expr\":{\"id\":\"d6a25095-6986-42a4-81b9-c81ddaa55fe8\",\"type\":\"Stack\"}},\"line_color\":{\"value\":\"#fee08b\"},\"right\":{\"expr\":{\"id\":\"f53b3e36-1db1-4b28-9418-cc10bd206012\",\"type\":\"Stack\"}},\"y\":{\"field\":\"Ethnicity\"}},\"id\":\"2880945c-9abb-4719-aa8a-7fdc8cbe1f20\",\"type\":\"HBar\"},{\"attributes\":{\"data_source\":{\"id\":\"3d1e9f46-32dc-4d04-9db3-05a2ff78e9b8\",\"type\":\"ColumnDataSource\"},\"glyph\":{\"id\":\"9bb761b6-a39c-49e4-a2f7-8eab160b1ae6\",\"type\":\"HBar\"},\"hover_glyph\":null,\"muted_glyph\":null,\"nonselection_glyph\":{\"id\":\"a9bd82b3-d9c2-4cd6-9b61-96810018c2ce\",\"type\":\"HBar\"},\"selection_glyph\":null,\"view\":{\"id\":\"5d74de99-09f2-4cee-9752-1cb2cbcdb30e\",\"type\":\"CDSView\"}},\"id\":\"1eb252bd-8606-4718-8008-2f65446d325f\",\"type\":\"GlyphRenderer\"},{\"attributes\":{\"source\":{\"id\":\"3d1e9f46-32dc-4d04-9db3-05a2ff78e9b8\",\"type\":\"ColumnDataSource\"}},\"id\":\"5d74de99-09f2-4cee-9752-1cb2cbcdb30e\",\"type\":\"CDSView\"},{\"attributes\":{\"source\":{\"id\":\"3d1e9f46-32dc-4d04-9db3-05a2ff78e9b8\",\"type\":\"ColumnDataSource\"}},\"id\":\"878231f1-91b1-4f75-a7e3-a65f3acc8136\",\"type\":\"CDSView\"},{\"attributes\":{\"fill_alpha\":{\"value\":0.1},\"fill_color\":{\"value\":\"#1f77b4\"},\"height\":{\"value\":0.9},\"left\":{\"expr\":{\"id\":\"ea02e783-9cba-4d1d-8e4a-91ad719852d7\",\"type\":\"Stack\"}},\"line_alpha\":{\"value\":0.1},\"line_color\":{\"value\":\"#1f77b4\"},\"right\":{\"expr\":{\"id\":\"cc703c4a-e692-4840-98df-02af1cc23287\",\"type\":\"Stack\"}},\"y\":{\"field\":\"Ethnicity\"}},\"id\":\"530b889f-da59-472f-bbef-dc14408621ec\",\"type\":\"HBar\"},{\"attributes\":{\"label\":{\"value\":\"Accidental injury to self\"},\"renderers\":[{\"id\":\"02b095fa-27a3-41cf-9ff9-9d4903428b22\",\"type\":\"GlyphRenderer\"}]},\"id\":\"e72a076a-0b67-4b70-b082-6dc03ee32493\",\"type\":\"LegendItem\"},{\"attributes\":{\"data_source\":{\"id\":\"3d1e9f46-32dc-4d04-9db3-05a2ff78e9b8\",\"type\":\"ColumnDataSource\"},\"glyph\":{\"id\":\"dc507b9d-a39c-4346-8439-8c032b87f3de\",\"type\":\"HBar\"},\"hover_glyph\":null,\"muted_glyph\":null,\"nonselection_glyph\":{\"id\":\"530b889f-da59-472f-bbef-dc14408621ec\",\"type\":\"HBar\"},\"selection_glyph\":null,\"view\":{\"id\":\"a3a3cf11-0125-4322-8dd1-f300ab12decf\",\"type\":\"CDSView\"}},\"id\":\"02b095fa-27a3-41cf-9ff9-9d4903428b22\",\"type\":\"GlyphRenderer\"},{\"attributes\":{\"source\":{\"id\":\"3d1e9f46-32dc-4d04-9db3-05a2ff78e9b8\",\"type\":\"ColumnDataSource\"}},\"id\":\"a3a3cf11-0125-4322-8dd1-f300ab12decf\",\"type\":\"CDSView\"},{\"attributes\":{\"label\":{\"value\":\"Suicide\"},\"renderers\":[{\"id\":\"94bfccbf-6ec0-4f9e-b77a-a10972b41682\",\"type\":\"GlyphRenderer\"}]},\"id\":\"f3b595ca-a115-480d-9f31-01e202cd5ee8\",\"type\":\"LegendItem\"},{\"attributes\":{\"fill_alpha\":{\"value\":0.1},\"fill_color\":{\"value\":\"#1f77b4\"},\"height\":{\"value\":0.9},\"left\":{\"expr\":{\"id\":\"faead1ff-9281-4cee-9138-4606d74efe23\",\"type\":\"Stack\"}},\"line_alpha\":{\"value\":0.1},\"line_color\":{\"value\":\"#1f77b4\"},\"right\":{\"expr\":{\"id\":\"83b77b1e-097a-4d9e-b967-4d70ac217480\",\"type\":\"Stack\"}},\"y\":{\"field\":\"Ethnicity\"}},\"id\":\"3a466443-f0db-4d36-aecd-6f7f30794dab\",\"type\":\"HBar\"},{\"attributes\":{\"label\":{\"value\":\"Homicide by Law Enforcement/Correctional Staff\"},\"renderers\":[{\"id\":\"358d439b-ff7b-429a-8ab4-f070f8546590\",\"type\":\"GlyphRenderer\"}]},\"id\":\"d3d47450-ec9d-482a-926b-0a9e5fd4a0d5\",\"type\":\"LegendItem\"},{\"attributes\":{\"fill_alpha\":{\"value\":0.1},\"fill_color\":{\"value\":\"#1f77b4\"},\"height\":{\"value\":0.9},\"left\":{\"expr\":{\"id\":\"d6a25095-6986-42a4-81b9-c81ddaa55fe8\",\"type\":\"Stack\"}},\"line_alpha\":{\"value\":0.1},\"line_color\":{\"value\":\"#1f77b4\"},\"right\":{\"expr\":{\"id\":\"f53b3e36-1db1-4b28-9418-cc10bd206012\",\"type\":\"Stack\"}},\"y\":{\"field\":\"Ethnicity\"}},\"id\":\"da416cc7-ec7a-49d9-a922-2bd347b0b468\",\"type\":\"HBar\"},{\"attributes\":{\"data_source\":{\"id\":\"3d1e9f46-32dc-4d04-9db3-05a2ff78e9b8\",\"type\":\"ColumnDataSource\"},\"glyph\":{\"id\":\"de480c11-acdd-4c10-88d3-4f2354f469cd\",\"type\":\"HBar\"},\"hover_glyph\":null,\"muted_glyph\":null,\"nonselection_glyph\":{\"id\":\"3a466443-f0db-4d36-aecd-6f7f30794dab\",\"type\":\"HBar\"},\"selection_glyph\":null,\"view\":{\"id\":\"3f5dcf64-6d2b-41a8-a09b-fa95c8513609\",\"type\":\"CDSView\"}},\"id\":\"358d439b-ff7b-429a-8ab4-f070f8546590\",\"type\":\"GlyphRenderer\"},{\"attributes\":{\"source\":{\"id\":\"3d1e9f46-32dc-4d04-9db3-05a2ff78e9b8\",\"type\":\"ColumnDataSource\"}},\"id\":\"3f5dcf64-6d2b-41a8-a09b-fa95c8513609\",\"type\":\"CDSView\"},{\"attributes\":{\"data_source\":{\"id\":\"3d1e9f46-32dc-4d04-9db3-05a2ff78e9b8\",\"type\":\"ColumnDataSource\"},\"glyph\":{\"id\":\"2880945c-9abb-4719-aa8a-7fdc8cbe1f20\",\"type\":\"HBar\"},\"hover_glyph\":null,\"muted_glyph\":null,\"nonselection_glyph\":{\"id\":\"da416cc7-ec7a-49d9-a922-2bd347b0b468\",\"type\":\"HBar\"},\"selection_glyph\":null,\"view\":{\"id\":\"5c799118-e41e-4a50-a536-fca752f31304\",\"type\":\"CDSView\"}},\"id\":\"94bfccbf-6ec0-4f9e-b77a-a10972b41682\",\"type\":\"GlyphRenderer\"},{\"attributes\":{\"label\":{\"value\":\"Natural Causes/Illness\"},\"renderers\":[{\"id\":\"5a97f3be-d82f-49fa-99aa-50a9922e051a\",\"type\":\"GlyphRenderer\"}]},\"id\":\"1895c39c-ba16-409a-9c7f-ccd251100d4a\",\"type\":\"LegendItem\"},{\"attributes\":{\"callback\":null,\"column_names\":[\"Ethnicity\",\"Accidental injury caused by others\",\"Natural Causes/Illness\",\"Other\",\"Accidental injury to self\",\"Homicide by Law Enforcement/Correctional Staff\",\"Suicide\",\"Alcohol/Drug Intoxication\",\"Homicide by Other\"],\"data\":{\"Accidental injury caused by others\":{\"__ndarray__\":\"AAAAAAMAAAAAAAAABgAAAAsAAAAAAAAAAQAAAAAAAAA=\",\"dtype\":\"int32\",\"shape\":[8]},\"Accidental injury to self\":{\"__ndarray__\":\"AAAAAD8AAAAAAAAAJAAAADYAAAABAAAAAAAAAAEAAAA=\",\"dtype\":\"int32\",\"shape\":[8]},\"Alcohol/Drug Intoxication\":{\"__ndarray__\":\"AAAAAGMAAAADAAAAXQAAAFgAAAAAAAAAAQAAAAAAAAA=\",\"dtype\":\"int32\",\"shape\":[8]},\"Ethnicity\":[\"American Indian/Alaska Native\",\"Anglo or White\",\"Asian\",\"Black or African American\",\"Hispanic or Latino\",\"Middle East\",\"Native Hawaiian/Pacific Islander\",\"Other/Don't Know\"],\"Homicide by Law Enforcement/Correctional Staff\":{\"__ndarray__\":\"BQAAAEEBAAAFAAAA1QAAACMBAAAHAAAAAQAAACMAAAA=\",\"dtype\":\"int32\",\"shape\":[8]},\"Homicide by Other\":{\"__ndarray__\":\"AAAAABkAAAABAAAAFgAAABgAAAAAAAAAAAAAAAAAAAA=\",\"dtype\":\"int32\",\"shape\":[8]},\"Natural Causes/Illness\":{\"__ndarray__\":\"BQAAAIcIAAATAAAAlwYAAFMFAAACAAAAAQAAAAYAAAA=\",\"dtype\":\"int32\",\"shape\":[8]},\"Other\":{\"__ndarray__\":\"AQAAAE0AAAAAAAAARAAAADgAAAAAAAAAAAAAAAEAAAA=\",\"dtype\":\"int32\",\"shape\":[8]},\"Suicide\":{\"__ndarray__\":\"AgAAAMcBAAAGAAAAkwAAAOUAAAACAAAAAQAAAAIAAAA=\",\"dtype\":\"int32\",\"shape\":[8]}}},\"id\":\"3d1e9f46-32dc-4d04-9db3-05a2ff78e9b8\",\"type\":\"ColumnDataSource\"},{\"attributes\":{\"source\":{\"id\":\"3d1e9f46-32dc-4d04-9db3-05a2ff78e9b8\",\"type\":\"ColumnDataSource\"}},\"id\":\"5c799118-e41e-4a50-a536-fca752f31304\",\"type\":\"CDSView\"},{\"attributes\":{\"label\":{\"value\":\"Alcohol/Drug Intoxication\"},\"renderers\":[{\"id\":\"30086a7c-5189-4b18-93da-58dced8b32eb\",\"type\":\"GlyphRenderer\"}]},\"id\":\"0adae3f0-9daf-4ecc-8212-ba0da5113173\",\"type\":\"LegendItem\"},{\"attributes\":{\"fill_alpha\":{\"value\":0.1},\"fill_color\":{\"value\":\"#1f77b4\"},\"height\":{\"value\":0.9},\"left\":{\"expr\":{\"id\":\"3338b5ae-b937-4328-97c0-3f09c982bb41\",\"type\":\"Stack\"}},\"line_alpha\":{\"value\":0.1},\"line_color\":{\"value\":\"#1f77b4\"},\"right\":{\"expr\":{\"id\":\"fa155447-5f13-4657-9cdc-5bf31d4427ee\",\"type\":\"Stack\"}},\"y\":{\"field\":\"Ethnicity\"}},\"id\":\"e098cdc6-aab3-48b7-a98d-81e0dd7d746e\",\"type\":\"HBar\"},{\"attributes\":{\"data_source\":{\"id\":\"3d1e9f46-32dc-4d04-9db3-05a2ff78e9b8\",\"type\":\"ColumnDataSource\"},\"glyph\":{\"id\":\"c3461a82-6a5f-46fe-a583-b6bd9d2be99d\",\"type\":\"HBar\"},\"hover_glyph\":null,\"muted_glyph\":null,\"nonselection_glyph\":{\"id\":\"c3cca50a-98b0-43da-beb2-fa1fde2530f9\",\"type\":\"HBar\"},\"selection_glyph\":null,\"view\":{\"id\":\"e6e5e2df-1edb-4610-95d7-4a7e85d712c7\",\"type\":\"CDSView\"}},\"id\":\"d2d4019b-bf17-4f89-87a9-01bdd0a0624a\",\"type\":\"GlyphRenderer\"},{\"attributes\":{\"fill_alpha\":{\"value\":0.1},\"fill_color\":{\"value\":\"#1f77b4\"},\"height\":{\"value\":0.9},\"left\":{\"expr\":{\"id\":\"6a652240-0f5f-4f1e-9ccf-40517d1324e3\",\"type\":\"Stack\"}},\"line_alpha\":{\"value\":0.1},\"line_color\":{\"value\":\"#1f77b4\"},\"right\":{\"expr\":{\"id\":\"c72917c7-0617-4593-9286-169947b87227\",\"type\":\"Stack\"}},\"y\":{\"field\":\"Ethnicity\"}},\"id\":\"c3cca50a-98b0-43da-beb2-fa1fde2530f9\",\"type\":\"HBar\"},{\"attributes\":{\"data_source\":{\"id\":\"3d1e9f46-32dc-4d04-9db3-05a2ff78e9b8\",\"type\":\"ColumnDataSource\"},\"glyph\":{\"id\":\"6feb487d-82e8-41dc-82e1-ef222ef92ed7\",\"type\":\"HBar\"},\"hover_glyph\":null,\"muted_glyph\":null,\"nonselection_glyph\":{\"id\":\"e098cdc6-aab3-48b7-a98d-81e0dd7d746e\",\"type\":\"HBar\"},\"selection_glyph\":null,\"view\":{\"id\":\"878231f1-91b1-4f75-a7e3-a65f3acc8136\",\"type\":\"CDSView\"}},\"id\":\"30086a7c-5189-4b18-93da-58dced8b32eb\",\"type\":\"GlyphRenderer\"}],\"root_ids\":[\"83466db3-39d9-4c88-9d0a-03389ff55df0\"]},\"title\":\"Bokeh Application\",\"version\":\"0.12.13\"}};\n",
       "  var render_items = [{\"docid\":\"5262fa12-33a3-405c-9ab5-53ee99ea58dc\",\"elementid\":\"e7d66fc9-7eab-40eb-bb04-5ce19e477561\",\"modelid\":\"83466db3-39d9-4c88-9d0a-03389ff55df0\"}];\n",
       "  root.Bokeh.embed.embed_items_notebook(docs_json, render_items);\n",
       "\n",
       "  }\n",
       "  if (root.Bokeh !== undefined) {\n",
       "    embed_document(root);\n",
       "  } else {\n",
       "    var attempts = 0;\n",
       "    var timer = setInterval(function(root) {\n",
       "      if (root.Bokeh !== undefined) {\n",
       "        embed_document(root);\n",
       "        clearInterval(timer);\n",
       "      }\n",
       "      attempts++;\n",
       "      if (attempts > 100) {\n",
       "        console.log(\"Bokeh: ERROR: Unable to run BokehJS code because BokehJS library is missing\")\n",
       "        clearInterval(timer);\n",
       "      }\n",
       "    }, 10, root)\n",
       "  }\n",
       "})(window);"
      ],
      "application/vnd.bokehjs_exec.v0+json": ""
     },
     "metadata": {
      "application/vnd.bokehjs_exec.v0+json": {
       "id": "83466db3-39d9-4c88-9d0a-03389ff55df0"
      }
     },
     "output_type": "display_data"
    }
   ],
   "source": [
    "#stacked horizontal bar graph showing deaths by Ethnicity and broken down by Cause of Death\n",
    "data= {'Ethnicity': list(death_eth_df.index), 'Accidental injury caused by others' : death_eth_df['Accidental injury caused by others'].values, \n",
    "       'Natural Causes/Illness': death_eth_df['Natural Causes/Illness'].values,  'Other':death_eth_df['Other'].values, \n",
    "       'Accidental injury to self': death_eth_df['Accidental injury to self'].values,  \n",
    "       'Homicide by Law Enforcement/Correctional Staff': death_eth_df['Homicide by Law Enforcement/Correctional Staff'].values,\n",
    "       'Suicide': death_eth_df['Suicide'].values, 'Alcohol/Drug Intoxication': death_eth_df['Alcohol/Drug Intoxication'].values, \n",
    "       'Homicide by Other': death_eth_df['Homicide by Other'].values}\n",
    "\n",
    "source = ColumnDataSource(data=data)\n",
    "\n",
    "g = figure(y_range= data['Ethnicity'], plot_height=500,plot_width=900, title=\"Manner of Death by Ethnicity\",x_axis_label='Number of Deaths from 2005-2016',\n",
    "           toolbar_location=None, tools=\"\")\n",
    "\n",
    "\n",
    "g.hbar_stack(deathtype, y= 'Ethnicity', height=0.9, color=Spectral8, source=source,\n",
    "             legend=[value(x) for x in deathtype])\n",
    "\n",
    "g.x_range.start = 0\n",
    "g.x_range.end = 4000\n",
    "g.y_range.range_padding = 0.1\n",
    "g.xgrid.grid_line_color = None\n",
    "g.axis.minor_tick_line_color = None\n",
    "g.outline_line_color = None\n",
    "g.legend.location = \"top_right\"\n",
    "g.legend.orientation = \"vertical\"\n",
    "\n",
    "show(g)\n"
   ]
  },
  {
   "cell_type": "code",
   "execution_count": 20,
   "metadata": {
    "scrolled": true
   },
   "outputs": [
    {
     "data": {
      "text/html": [
       "<div>\n",
       "<style scoped>\n",
       "    .dataframe tbody tr th:only-of-type {\n",
       "        vertical-align: middle;\n",
       "    }\n",
       "\n",
       "    .dataframe tbody tr th {\n",
       "        vertical-align: top;\n",
       "    }\n",
       "\n",
       "    .dataframe thead th {\n",
       "        text-align: right;\n",
       "    }\n",
       "</style>\n",
       "<table border=\"1\" class=\"dataframe\">\n",
       "  <thead>\n",
       "    <tr style=\"text-align: right;\">\n",
       "      <th>Department Name</th>\n",
       "      <th>Austin Police Dept.</th>\n",
       "      <th>Bexar County Sheriff's Dept.</th>\n",
       "      <th>Dallas County Sheriff's Dept.</th>\n",
       "      <th>Dallas Police Dept.</th>\n",
       "      <th>Fort Worth Police Dept.</th>\n",
       "      <th>Harris County Sheriff's Dept.</th>\n",
       "      <th>Houston Police Dept.</th>\n",
       "      <th>San Antonio Police Dept.</th>\n",
       "      <th>Texas Department Of Criminal Justice</th>\n",
       "      <th>Texas Department Of Public Safety</th>\n",
       "      <th>Travis County Sheriff's Dept.</th>\n",
       "    </tr>\n",
       "    <tr>\n",
       "      <th>Ethnicity</th>\n",
       "      <th></th>\n",
       "      <th></th>\n",
       "      <th></th>\n",
       "      <th></th>\n",
       "      <th></th>\n",
       "      <th></th>\n",
       "      <th></th>\n",
       "      <th></th>\n",
       "      <th></th>\n",
       "      <th></th>\n",
       "      <th></th>\n",
       "    </tr>\n",
       "  </thead>\n",
       "  <tbody>\n",
       "    <tr>\n",
       "      <th>American Indian/Alaska Native</th>\n",
       "      <td>NaN</td>\n",
       "      <td>NaN</td>\n",
       "      <td>1.0</td>\n",
       "      <td>NaN</td>\n",
       "      <td>NaN</td>\n",
       "      <td>1.0</td>\n",
       "      <td>NaN</td>\n",
       "      <td>NaN</td>\n",
       "      <td>4.0</td>\n",
       "      <td>NaN</td>\n",
       "      <td>NaN</td>\n",
       "    </tr>\n",
       "    <tr>\n",
       "      <th>Anglo or White</th>\n",
       "      <td>21.0</td>\n",
       "      <td>19.0</td>\n",
       "      <td>29.0</td>\n",
       "      <td>30.0</td>\n",
       "      <td>29.0</td>\n",
       "      <td>66.0</td>\n",
       "      <td>50.0</td>\n",
       "      <td>27.0</td>\n",
       "      <td>2154.0</td>\n",
       "      <td>51.0</td>\n",
       "      <td>21.0</td>\n",
       "    </tr>\n",
       "    <tr>\n",
       "      <th>Asian</th>\n",
       "      <td>1.0</td>\n",
       "      <td>NaN</td>\n",
       "      <td>1.0</td>\n",
       "      <td>NaN</td>\n",
       "      <td>1.0</td>\n",
       "      <td>3.0</td>\n",
       "      <td>3.0</td>\n",
       "      <td>2.0</td>\n",
       "      <td>17.0</td>\n",
       "      <td>NaN</td>\n",
       "      <td>NaN</td>\n",
       "    </tr>\n",
       "    <tr>\n",
       "      <th>Black or African American</th>\n",
       "      <td>11.0</td>\n",
       "      <td>15.0</td>\n",
       "      <td>55.0</td>\n",
       "      <td>61.0</td>\n",
       "      <td>16.0</td>\n",
       "      <td>116.0</td>\n",
       "      <td>113.0</td>\n",
       "      <td>25.0</td>\n",
       "      <td>1546.0</td>\n",
       "      <td>9.0</td>\n",
       "      <td>16.0</td>\n",
       "    </tr>\n",
       "    <tr>\n",
       "      <th>Hispanic or Latino</th>\n",
       "      <td>6.0</td>\n",
       "      <td>54.0</td>\n",
       "      <td>12.0</td>\n",
       "      <td>27.0</td>\n",
       "      <td>16.0</td>\n",
       "      <td>42.0</td>\n",
       "      <td>65.0</td>\n",
       "      <td>82.0</td>\n",
       "      <td>1347.0</td>\n",
       "      <td>20.0</td>\n",
       "      <td>10.0</td>\n",
       "    </tr>\n",
       "    <tr>\n",
       "      <th>Middle East</th>\n",
       "      <td>NaN</td>\n",
       "      <td>NaN</td>\n",
       "      <td>NaN</td>\n",
       "      <td>1.0</td>\n",
       "      <td>NaN</td>\n",
       "      <td>2.0</td>\n",
       "      <td>2.0</td>\n",
       "      <td>1.0</td>\n",
       "      <td>3.0</td>\n",
       "      <td>NaN</td>\n",
       "      <td>NaN</td>\n",
       "    </tr>\n",
       "    <tr>\n",
       "      <th>Native Hawaiian/Pacific Islander</th>\n",
       "      <td>NaN</td>\n",
       "      <td>NaN</td>\n",
       "      <td>NaN</td>\n",
       "      <td>1.0</td>\n",
       "      <td>NaN</td>\n",
       "      <td>NaN</td>\n",
       "      <td>NaN</td>\n",
       "      <td>NaN</td>\n",
       "      <td>NaN</td>\n",
       "      <td>NaN</td>\n",
       "      <td>NaN</td>\n",
       "    </tr>\n",
       "    <tr>\n",
       "      <th>Other/Don't Know</th>\n",
       "      <td>NaN</td>\n",
       "      <td>2.0</td>\n",
       "      <td>NaN</td>\n",
       "      <td>NaN</td>\n",
       "      <td>NaN</td>\n",
       "      <td>1.0</td>\n",
       "      <td>NaN</td>\n",
       "      <td>1.0</td>\n",
       "      <td>6.0</td>\n",
       "      <td>NaN</td>\n",
       "      <td>NaN</td>\n",
       "    </tr>\n",
       "  </tbody>\n",
       "</table>\n",
       "</div>"
      ],
      "text/plain": [
       "Department Name                   Austin Police Dept.  \\\n",
       "Ethnicity                                               \n",
       "American Indian/Alaska Native                     NaN   \n",
       "Anglo or White                                   21.0   \n",
       "Asian                                             1.0   \n",
       "Black or African American                        11.0   \n",
       "Hispanic or Latino                                6.0   \n",
       "Middle East                                       NaN   \n",
       "Native Hawaiian/Pacific Islander                  NaN   \n",
       "Other/Don't Know                                  NaN   \n",
       "\n",
       "Department Name                   Bexar County Sheriff's Dept.  \\\n",
       "Ethnicity                                                        \n",
       "American Indian/Alaska Native                              NaN   \n",
       "Anglo or White                                            19.0   \n",
       "Asian                                                      NaN   \n",
       "Black or African American                                 15.0   \n",
       "Hispanic or Latino                                        54.0   \n",
       "Middle East                                                NaN   \n",
       "Native Hawaiian/Pacific Islander                           NaN   \n",
       "Other/Don't Know                                           2.0   \n",
       "\n",
       "Department Name                   Dallas County Sheriff's Dept.  \\\n",
       "Ethnicity                                                         \n",
       "American Indian/Alaska Native                               1.0   \n",
       "Anglo or White                                             29.0   \n",
       "Asian                                                       1.0   \n",
       "Black or African American                                  55.0   \n",
       "Hispanic or Latino                                         12.0   \n",
       "Middle East                                                 NaN   \n",
       "Native Hawaiian/Pacific Islander                            NaN   \n",
       "Other/Don't Know                                            NaN   \n",
       "\n",
       "Department Name                   Dallas Police Dept.  \\\n",
       "Ethnicity                                               \n",
       "American Indian/Alaska Native                     NaN   \n",
       "Anglo or White                                   30.0   \n",
       "Asian                                             NaN   \n",
       "Black or African American                        61.0   \n",
       "Hispanic or Latino                               27.0   \n",
       "Middle East                                       1.0   \n",
       "Native Hawaiian/Pacific Islander                  1.0   \n",
       "Other/Don't Know                                  NaN   \n",
       "\n",
       "Department Name                   Fort Worth Police Dept.  \\\n",
       "Ethnicity                                                   \n",
       "American Indian/Alaska Native                         NaN   \n",
       "Anglo or White                                       29.0   \n",
       "Asian                                                 1.0   \n",
       "Black or African American                            16.0   \n",
       "Hispanic or Latino                                   16.0   \n",
       "Middle East                                           NaN   \n",
       "Native Hawaiian/Pacific Islander                      NaN   \n",
       "Other/Don't Know                                      NaN   \n",
       "\n",
       "Department Name                   Harris County Sheriff's Dept.  \\\n",
       "Ethnicity                                                         \n",
       "American Indian/Alaska Native                               1.0   \n",
       "Anglo or White                                             66.0   \n",
       "Asian                                                       3.0   \n",
       "Black or African American                                 116.0   \n",
       "Hispanic or Latino                                         42.0   \n",
       "Middle East                                                 2.0   \n",
       "Native Hawaiian/Pacific Islander                            NaN   \n",
       "Other/Don't Know                                            1.0   \n",
       "\n",
       "Department Name                   Houston Police Dept.  \\\n",
       "Ethnicity                                                \n",
       "American Indian/Alaska Native                      NaN   \n",
       "Anglo or White                                    50.0   \n",
       "Asian                                              3.0   \n",
       "Black or African American                        113.0   \n",
       "Hispanic or Latino                                65.0   \n",
       "Middle East                                        2.0   \n",
       "Native Hawaiian/Pacific Islander                   NaN   \n",
       "Other/Don't Know                                   NaN   \n",
       "\n",
       "Department Name                   San Antonio Police Dept.  \\\n",
       "Ethnicity                                                    \n",
       "American Indian/Alaska Native                          NaN   \n",
       "Anglo or White                                        27.0   \n",
       "Asian                                                  2.0   \n",
       "Black or African American                             25.0   \n",
       "Hispanic or Latino                                    82.0   \n",
       "Middle East                                            1.0   \n",
       "Native Hawaiian/Pacific Islander                       NaN   \n",
       "Other/Don't Know                                       1.0   \n",
       "\n",
       "Department Name                   Texas Department Of Criminal Justice  \\\n",
       "Ethnicity                                                                \n",
       "American Indian/Alaska Native                                      4.0   \n",
       "Anglo or White                                                  2154.0   \n",
       "Asian                                                             17.0   \n",
       "Black or African American                                       1546.0   \n",
       "Hispanic or Latino                                              1347.0   \n",
       "Middle East                                                        3.0   \n",
       "Native Hawaiian/Pacific Islander                                   NaN   \n",
       "Other/Don't Know                                                   6.0   \n",
       "\n",
       "Department Name                   Texas Department Of Public Safety  \\\n",
       "Ethnicity                                                             \n",
       "American Indian/Alaska Native                                   NaN   \n",
       "Anglo or White                                                 51.0   \n",
       "Asian                                                           NaN   \n",
       "Black or African American                                       9.0   \n",
       "Hispanic or Latino                                             20.0   \n",
       "Middle East                                                     NaN   \n",
       "Native Hawaiian/Pacific Islander                                NaN   \n",
       "Other/Don't Know                                                NaN   \n",
       "\n",
       "Department Name                   Travis County Sheriff's Dept.  \n",
       "Ethnicity                                                        \n",
       "American Indian/Alaska Native                               NaN  \n",
       "Anglo or White                                             21.0  \n",
       "Asian                                                       NaN  \n",
       "Black or African American                                  16.0  \n",
       "Hispanic or Latino                                         10.0  \n",
       "Middle East                                                 NaN  \n",
       "Native Hawaiian/Pacific Islander                            NaN  \n",
       "Other/Don't Know                                            NaN  "
      ]
     },
     "execution_count": 20,
     "metadata": {},
     "output_type": "execute_result"
    }
   ],
   "source": [
    "#create smaller df of major cities and their counties in Texas and the Ethnic break down of deaths for each\n",
    "major = cust[(cust['Department Name'] == 'Texas Department Of Criminal Justice') | (cust['Department Name'] == 'Harris County Sheriff\\'s Dept.')| (cust['Department Name'] == 'Houston Police Dept.')| (cust['Department Name'] == 'San Antonio Police Dept.')| (cust['Department Name'] == 'Fort Worth Police Dept.')| (cust['Department Name'] == 'Dallas Police Dept.')| (cust['Department Name'] == 'Dallas County Sheriff\\'s Dept.') | (cust['Department Name'] == 'Bexar County Sheriff\\'s Dept.')| (cust['Department Name'] == 'Texas Department Of Public Safety')| (cust['Department Name'] == 'Austin Police Dept.')| (cust['Department Name'] == 'Tarrant County Sheriff\\s Dept.')| (cust['Department Name'] == 'Travis County Sheriff\\'s Dept.')]  \n",
    "reduce =major.groupby(['Ethnicity', 'Department Name'])['Last Name'].count().sort_values(ascending = False)\n",
    "majdept = reduce.unstack()\n",
    "#majdept = majdept.fillna(0).astype(int)\n",
    "majdept"
   ]
  },
  {
   "cell_type": "code",
   "execution_count": 21,
   "metadata": {},
   "outputs": [],
   "source": [
    "#list of total death counts for each Department\n",
    "dept = cust.groupby(['Department Name'])['Last Name'].count()"
   ]
  },
  {
   "cell_type": "code",
   "execution_count": 22,
   "metadata": {},
   "outputs": [
    {
     "name": "stdout",
     "output_type": "stream",
     "text": [
      "% of deaths in custody of Houston PD that were Black: 0.484978540773\n"
     ]
    }
   ],
   "source": [
    "print (\"% of deaths in custody of Houston PD that were Black:\", majdept.loc['Black or African American', 'Houston Police Dept.']/dept['Houston Police Dept.'])"
   ]
  },
  {
   "cell_type": "code",
   "execution_count": 23,
   "metadata": {},
   "outputs": [
    {
     "name": "stdout",
     "output_type": "stream",
     "text": [
      "% of deaths in custody of Houston PD that were White: 0.214592274678\n"
     ]
    }
   ],
   "source": [
    "print (\"% of deaths in custody of Houston PD that were White:\", majdept.loc['Anglo or White', 'Houston Police Dept.']/dept['Houston Police Dept.'])"
   ]
  },
  {
   "cell_type": "code",
   "execution_count": 24,
   "metadata": {},
   "outputs": [],
   "source": [
    "#Create small df with info for deaths on Houston PD custudy, brokendown by Ethnicity\n",
    "total= []\n",
    "for r in majdept['Houston Police Dept.']:\n",
    "    total.append(r)\n",
    "hpd = pd.DataFrame()\n",
    "hpd['ethnicity'] = majdept.index\n",
    "hpd['value'] = total\n",
    "hpd = hpd.dropna()"
   ]
  },
  {
   "cell_type": "code",
   "execution_count": 25,
   "metadata": {},
   "outputs": [
    {
     "data": {
      "image/png": "[encoded data removed]",
      "text/plain": [
       "<matplotlib.figure.Figure at 0x1f73a71cac8>"
      ]
     },
     "metadata": {},
     "output_type": "display_data"
    }
   ],
   "source": [
    "# Pie graph of Ethnicity of Death in Houston PD custody\n",
    "labels = hpd['ethnicity']\n",
    "sizes = hpd['value']\n",
    "#explode = (0.1, 0, 0, 0)  # explode 1st slice\n",
    " \n",
    "# Plot\n",
    "plt.pie(sizes, explode= None, labels=labels, colors=Spectral8,\n",
    "        autopct='%1.1f%%', shadow=True, startangle=140)\n",
    " \n",
    "plt.axis('equal')\n",
    "plt.suptitle('Deaths in Houston PD custody by Ethnicity')\n",
    "plt.rcParams[\"figure.figsize\"] = (10,19)\n",
    "plt.show()"
   ]
  },
  {
   "cell_type": "code",
   "execution_count": 26,
   "metadata": {},
   "outputs": [],
   "source": [
    "#Create df for Harris County\n",
    "total= []\n",
    "for r in majdept['Harris County Sheriff\\'s Dept.']:\n",
    "    total.append(r)\n",
    "harris = pd.DataFrame()\n",
    "harris['ethnicity'] = majdept.index\n",
    "harris['value'] = total\n",
    "harris = harris.dropna()"
   ]
  },
  {
   "cell_type": "code",
   "execution_count": 27,
   "metadata": {},
   "outputs": [
    {
     "data": {
      "image/png": "[encoded data removed]",
      "text/plain": [
       "<matplotlib.figure.Figure at 0x1f73a7bc390>"
      ]
     },
     "metadata": {},
     "output_type": "display_data"
    }
   ],
   "source": [
    "# Pie chart of Harris County Deaths by Ethnicity\n",
    "labels = harris['ethnicity']\n",
    "sizes = harris['value']\n",
    "#explode = (0.1, 0, 0, 0)  # explode 1st slice\n",
    " \n",
    "# Plot\n",
    "plt.pie(sizes, explode= None, labels=labels, colors=Spectral8,\n",
    "        autopct='%1.1f%%', shadow=True, startangle=140)\n",
    " \n",
    "plt.axis('equal')\n",
    "plt.suptitle('Deaths in Custody of Harris County Sherrif\\'s Department by Ethnicity')\n",
    "plt.rcParams[\"figure.figsize\"] = (10,1)\n",
    "plt.show()"
   ]
  },
  {
   "cell_type": "code",
   "execution_count": 28,
   "metadata": {},
   "outputs": [],
   "source": [
    "#Create df for San Antonio Police Dept.\n",
    "total= []\n",
    "for r in majdept['San Antonio Police Dept.']:\n",
    "    total.append(r)\n",
    "sa = pd.DataFrame()\n",
    "sa['ethnicity'] = majdept.index\n",
    "sa['value'] = total\n",
    "sa = sa.dropna()"
   ]
  },
  {
   "cell_type": "code",
   "execution_count": 29,
   "metadata": {},
   "outputs": [
    {
     "data": {
      "image/png": "[encoded data removed]",
      "text/plain": [
       "<matplotlib.figure.Figure at 0x1f73a82b0b8>"
      ]
     },
     "metadata": {},
     "output_type": "display_data"
    }
   ],
   "source": [
    "# Pie chart of San Antonio Police Dept. Deaths by Ethnicity\n",
    "labels = sa['ethnicity']\n",
    "sizes = sa['value']\n",
    "#explode = (0.1, 0, 0, 0)  # explode 1st slice\n",
    " \n",
    "# Plot\n",
    "plt.pie(sizes, explode= None, labels=labels, colors=Spectral8,\n",
    "        autopct='%1.1f%%', shadow=True, startangle=140)\n",
    " \n",
    "plt.axis('equal')\n",
    "plt.suptitle('Deaths in Custody of San Antonio Police Department by Ethnicity')\n",
    "plt.rcParams[\"figure.figsize\"] = (20,12)\n",
    "plt.show()"
   ]
  },
  {
   "cell_type": "code",
   "execution_count": 30,
   "metadata": {},
   "outputs": [],
   "source": [
    "#Create df for Harris County\n",
    "total= []\n",
    "for r in majdept['Bexar County Sheriff\\'s Dept.']:\n",
    "    total.append(r)\n",
    "bexar = pd.DataFrame()\n",
    "bexar['ethnicity'] = majdept.index\n",
    "bexar['value'] = total\n",
    "bexar = bexar.dropna()"
   ]
  },
  {
   "cell_type": "code",
   "execution_count": 31,
   "metadata": {},
   "outputs": [
    {
     "data": {
      "image/png": "[encoded data removed]",
      "text/plain": [
       "<matplotlib.figure.Figure at 0x1f73aab86a0>"
      ]
     },
     "metadata": {},
     "output_type": "display_data"
    }
   ],
   "source": [
    "# Pie chart of Bexar County Deaths by Ethnicity\n",
    "labels = bexar['ethnicity']\n",
    "sizes = bexar['value']\n",
    "#explode = (0.1, 0, 0, 0)  # explode 1st slice\n",
    " \n",
    "# Plot\n",
    "plt.pie(sizes, explode= None, labels=labels, colors=Spectral8,\n",
    "        autopct='%1.1f%%', shadow=True, startangle=140)\n",
    " \n",
    "plt.axis('equal')\n",
    "plt.suptitle('Deaths in Custody of Harris County Sherrif\\'s Department by Ethnicity')\n",
    "plt.rcParams[\"figure.figsize\"] = (10,1)\n",
    "plt.show()"
   ]
  },
  {
   "cell_type": "code",
   "execution_count": 32,
   "metadata": {},
   "outputs": [
    {
     "data": {
      "text/html": [
       "<div>\n",
       "<style scoped>\n",
       "    .dataframe tbody tr th:only-of-type {\n",
       "        vertical-align: middle;\n",
       "    }\n",
       "\n",
       "    .dataframe tbody tr th {\n",
       "        vertical-align: top;\n",
       "    }\n",
       "\n",
       "    .dataframe thead th {\n",
       "        text-align: right;\n",
       "    }\n",
       "</style>\n",
       "<table border=\"1\" class=\"dataframe\">\n",
       "  <thead>\n",
       "    <tr style=\"text-align: right;\">\n",
       "      <th>Manner Death</th>\n",
       "      <th>Accidental injury caused by others</th>\n",
       "      <th>Accidental injury to self</th>\n",
       "      <th>Alcohol/Drug Intoxication</th>\n",
       "      <th>Homicide by Law Enforcement/Correctional Staff</th>\n",
       "      <th>Homicide by Other</th>\n",
       "      <th>Natural Causes/Illness</th>\n",
       "      <th>Other</th>\n",
       "      <th>Suicide</th>\n",
       "    </tr>\n",
       "    <tr>\n",
       "      <th>year</th>\n",
       "      <th></th>\n",
       "      <th></th>\n",
       "      <th></th>\n",
       "      <th></th>\n",
       "      <th></th>\n",
       "      <th></th>\n",
       "      <th></th>\n",
       "      <th></th>\n",
       "    </tr>\n",
       "  </thead>\n",
       "  <tbody>\n",
       "    <tr>\n",
       "      <th>2005</th>\n",
       "      <td>1</td>\n",
       "      <td>12</td>\n",
       "      <td>25</td>\n",
       "      <td>41</td>\n",
       "      <td>3</td>\n",
       "      <td>382</td>\n",
       "      <td>6</td>\n",
       "      <td>76</td>\n",
       "    </tr>\n",
       "    <tr>\n",
       "      <th>2006</th>\n",
       "      <td>0</td>\n",
       "      <td>10</td>\n",
       "      <td>36</td>\n",
       "      <td>46</td>\n",
       "      <td>11</td>\n",
       "      <td>483</td>\n",
       "      <td>4</td>\n",
       "      <td>67</td>\n",
       "    </tr>\n",
       "    <tr>\n",
       "      <th>2007</th>\n",
       "      <td>6</td>\n",
       "      <td>14</td>\n",
       "      <td>43</td>\n",
       "      <td>65</td>\n",
       "      <td>2</td>\n",
       "      <td>465</td>\n",
       "      <td>3</td>\n",
       "      <td>72</td>\n",
       "    </tr>\n",
       "    <tr>\n",
       "      <th>2008</th>\n",
       "      <td>4</td>\n",
       "      <td>15</td>\n",
       "      <td>24</td>\n",
       "      <td>66</td>\n",
       "      <td>6</td>\n",
       "      <td>498</td>\n",
       "      <td>11</td>\n",
       "      <td>58</td>\n",
       "    </tr>\n",
       "    <tr>\n",
       "      <th>2009</th>\n",
       "      <td>2</td>\n",
       "      <td>10</td>\n",
       "      <td>18</td>\n",
       "      <td>74</td>\n",
       "      <td>2</td>\n",
       "      <td>446</td>\n",
       "      <td>6</td>\n",
       "      <td>64</td>\n",
       "    </tr>\n",
       "    <tr>\n",
       "      <th>2010</th>\n",
       "      <td>0</td>\n",
       "      <td>14</td>\n",
       "      <td>15</td>\n",
       "      <td>65</td>\n",
       "      <td>7</td>\n",
       "      <td>399</td>\n",
       "      <td>12</td>\n",
       "      <td>76</td>\n",
       "    </tr>\n",
       "    <tr>\n",
       "      <th>2011</th>\n",
       "      <td>2</td>\n",
       "      <td>21</td>\n",
       "      <td>24</td>\n",
       "      <td>57</td>\n",
       "      <td>9</td>\n",
       "      <td>426</td>\n",
       "      <td>12</td>\n",
       "      <td>62</td>\n",
       "    </tr>\n",
       "    <tr>\n",
       "      <th>2012</th>\n",
       "      <td>1</td>\n",
       "      <td>17</td>\n",
       "      <td>22</td>\n",
       "      <td>97</td>\n",
       "      <td>13</td>\n",
       "      <td>449</td>\n",
       "      <td>15</td>\n",
       "      <td>76</td>\n",
       "    </tr>\n",
       "    <tr>\n",
       "      <th>2013</th>\n",
       "      <td>0</td>\n",
       "      <td>13</td>\n",
       "      <td>27</td>\n",
       "      <td>91</td>\n",
       "      <td>6</td>\n",
       "      <td>479</td>\n",
       "      <td>13</td>\n",
       "      <td>64</td>\n",
       "    </tr>\n",
       "    <tr>\n",
       "      <th>2014</th>\n",
       "      <td>1</td>\n",
       "      <td>14</td>\n",
       "      <td>19</td>\n",
       "      <td>94</td>\n",
       "      <td>2</td>\n",
       "      <td>421</td>\n",
       "      <td>15</td>\n",
       "      <td>74</td>\n",
       "    </tr>\n",
       "    <tr>\n",
       "      <th>2015</th>\n",
       "      <td>3</td>\n",
       "      <td>7</td>\n",
       "      <td>22</td>\n",
       "      <td>106</td>\n",
       "      <td>4</td>\n",
       "      <td>423</td>\n",
       "      <td>53</td>\n",
       "      <td>86</td>\n",
       "    </tr>\n",
       "    <tr>\n",
       "      <th>2016</th>\n",
       "      <td>1</td>\n",
       "      <td>8</td>\n",
       "      <td>9</td>\n",
       "      <td>82</td>\n",
       "      <td>7</td>\n",
       "      <td>395</td>\n",
       "      <td>53</td>\n",
       "      <td>69</td>\n",
       "    </tr>\n",
       "  </tbody>\n",
       "</table>\n",
       "</div>"
      ],
      "text/plain": [
       "Manner Death  Accidental injury caused by others  Accidental injury to self  \\\n",
       "year                                                                          \n",
       "2005                                           1                         12   \n",
       "2006                                           0                         10   \n",
       "2007                                           6                         14   \n",
       "2008                                           4                         15   \n",
       "2009                                           2                         10   \n",
       "2010                                           0                         14   \n",
       "2011                                           2                         21   \n",
       "2012                                           1                         17   \n",
       "2013                                           0                         13   \n",
       "2014                                           1                         14   \n",
       "2015                                           3                          7   \n",
       "2016                                           1                          8   \n",
       "\n",
       "Manner Death  Alcohol/Drug Intoxication  \\\n",
       "year                                      \n",
       "2005                                 25   \n",
       "2006                                 36   \n",
       "2007                                 43   \n",
       "2008                                 24   \n",
       "2009                                 18   \n",
       "2010                                 15   \n",
       "2011                                 24   \n",
       "2012                                 22   \n",
       "2013                                 27   \n",
       "2014                                 19   \n",
       "2015                                 22   \n",
       "2016                                  9   \n",
       "\n",
       "Manner Death  Homicide by Law Enforcement/Correctional Staff  \\\n",
       "year                                                           \n",
       "2005                                                      41   \n",
       "2006                                                      46   \n",
       "2007                                                      65   \n",
       "2008                                                      66   \n",
       "2009                                                      74   \n",
       "2010                                                      65   \n",
       "2011                                                      57   \n",
       "2012                                                      97   \n",
       "2013                                                      91   \n",
       "2014                                                      94   \n",
       "2015                                                     106   \n",
       "2016                                                      82   \n",
       "\n",
       "Manner Death  Homicide by Other  Natural Causes/Illness  Other  Suicide  \n",
       "year                                                                     \n",
       "2005                          3                     382      6       76  \n",
       "2006                         11                     483      4       67  \n",
       "2007                          2                     465      3       72  \n",
       "2008                          6                     498     11       58  \n",
       "2009                          2                     446      6       64  \n",
       "2010                          7                     399     12       76  \n",
       "2011                          9                     426     12       62  \n",
       "2012                         13                     449     15       76  \n",
       "2013                          6                     479     13       64  \n",
       "2014                          2                     421     15       74  \n",
       "2015                          4                     423     53       86  \n",
       "2016                          7                     395     53       69  "
      ]
     },
     "execution_count": 32,
     "metadata": {},
     "output_type": "execute_result"
    }
   ],
   "source": [
    "#create small df of deaths grouped by year and counts for each Manner of Death\n",
    "line = cust.groupby('year')['Manner Death'].value_counts()\n",
    "line =line.unstack().fillna(0).astype(int)\n",
    "line"
   ]
  },
  {
   "cell_type": "code",
   "execution_count": 33,
   "metadata": {},
   "outputs": [
    {
     "data": {
      "text/html": [
       "\n",
       "<div class=\"bk-root\">\n",
       "    <div class=\"bk-plotdiv\" id=\"6394032b-ce1e-45aa-92aa-e297a2751057\"></div>\n",
       "</div>"
      ]
     },
     "metadata": {},
     "output_type": "display_data"
    },
    {
     "data": {
      "application/javascript": [
       "(function(root) {\n",
       "  function embed_document(root) {\n",
       "    \n",
       "  var docs_json = {\"b5903a21-c8a5-4c02-8dd3-6b4759c712df\":{\"roots\":{\"references\":[{\"attributes\":{\"callback\":null,\"end\":500},\"id\":\"2c322783-9639-4339-aa77-80fb6f06cb4f\",\"type\":\"Range1d\"},{\"attributes\":{\"callback\":null,\"column_names\":[\"x\",\"y\"],\"data\":{\"x\":[2005,2006,2007,2008,2009,2010,2011,2012,2013,2014,2015,2016],\"y\":{\"__ndarray__\":\"TAAAAEMAAABIAAAAOgAAAEAAAABMAAAAPgAAAEwAAABAAAAASgAAAFYAAABFAAAA\",\"dtype\":\"int32\",\"shape\":[12]}}},\"id\":\"28b225ad-1007-4dc9-8aac-d00000cf2b6c\",\"type\":\"ColumnDataSource\"},{\"attributes\":{\"items\":[{\"id\":\"b2170ec5-52ab-47a8-95da-33bccf95acfe\",\"type\":\"LegendItem\"},{\"id\":\"d25a922c-debd-4b17-b1a4-f0127183b325\",\"type\":\"LegendItem\"},{\"id\":\"0bfc8775-a463-4416-9882-734cfc783b9b\",\"type\":\"LegendItem\"},{\"id\":\"6d244995-1d85-4eef-b07e-00c48f53cc01\",\"type\":\"LegendItem\"},{\"id\":\"c832fad0-f9c2-4ad0-ae7d-eb67b4039e32\",\"type\":\"LegendItem\"},{\"id\":\"f13e2e8e-0a9b-452f-9a16-85337b745799\",\"type\":\"LegendItem\"},{\"id\":\"532a2741-2088-4fe4-8c37-d274ee5b62c9\",\"type\":\"LegendItem\"},{\"id\":\"2d74025a-ac54-4e48-8f97-1a7bcf5e1d1a\",\"type\":\"LegendItem\"}],\"location\":[0,-30],\"plot\":{\"id\":\"c94294dc-506b-40fc-b8bd-275168518bef\",\"subtype\":\"Figure\",\"type\":\"Plot\"}},\"id\":\"38d97be3-3e17-48a4-a69d-1aca0936632f\",\"type\":\"Legend\"},{\"attributes\":{\"line_alpha\":0.1,\"line_color\":\"#1f77b4\",\"line_dash\":[2,4,6,4],\"x\":{\"field\":\"x\"},\"y\":{\"field\":\"y\"}},\"id\":\"ea46901d-cae4-4bfd-b6b9-8d3db696c686\",\"type\":\"Line\"},{\"attributes\":{},\"id\":\"6b23c664-05e8-42f6-9b2b-761e55b4e2a4\",\"type\":\"LinearScale\"},{\"attributes\":{\"line_color\":\"orange\",\"x\":{\"field\":\"x\"},\"y\":{\"field\":\"y\"}},\"id\":\"aa60550e-f438-4b1a-bf24-45c1e2aeabc7\",\"type\":\"Line\"},{\"attributes\":{},\"id\":\"d1d1477a-a4a0-48a9-9606-eb2d4dcaadb7\",\"type\":\"LinearScale\"},{\"attributes\":{\"line_alpha\":0.1,\"line_color\":\"#1f77b4\",\"x\":{\"field\":\"x\"},\"y\":{\"field\":\"y\"}},\"id\":\"85a96f36-b476-45b5-b6f1-4228045f4f67\",\"type\":\"Line\"},{\"attributes\":{\"plot\":{\"id\":\"c94294dc-506b-40fc-b8bd-275168518bef\",\"subtype\":\"Figure\",\"type\":\"Plot\"},\"ticker\":{\"id\":\"1733eef0-4d3e-422c-869a-7b4e1492d565\",\"type\":\"BasicTicker\"}},\"id\":\"2e36a55c-d418-4c87-a42d-aec414f3247e\",\"type\":\"Grid\"},{\"attributes\":{\"data_source\":{\"id\":\"28b225ad-1007-4dc9-8aac-d00000cf2b6c\",\"type\":\"ColumnDataSource\"},\"glyph\":{\"id\":\"aa60550e-f438-4b1a-bf24-45c1e2aeabc7\",\"type\":\"Line\"},\"hover_glyph\":null,\"muted_glyph\":null,\"nonselection_glyph\":{\"id\":\"85a96f36-b476-45b5-b6f1-4228045f4f67\",\"type\":\"Line\"},\"selection_glyph\":null,\"view\":{\"id\":\"9e16fccf-871e-4d0a-a59a-c112fa681162\",\"type\":\"CDSView\"}},\"id\":\"21035d6c-5c03-44dd-b89b-ca59d854a21d\",\"type\":\"GlyphRenderer\"},{\"attributes\":{\"axis_label\":\"Year\",\"formatter\":{\"id\":\"909877e9-8aeb-46d6-a965-6678adc2e974\",\"type\":\"BasicTickFormatter\"},\"plot\":{\"id\":\"c94294dc-506b-40fc-b8bd-275168518bef\",\"subtype\":\"Figure\",\"type\":\"Plot\"},\"ticker\":{\"id\":\"1733eef0-4d3e-422c-869a-7b4e1492d565\",\"type\":\"BasicTicker\"}},\"id\":\"0b15ce4a-56c1-48e9-9d4f-53719e2c5595\",\"type\":\"LinearAxis\"},{\"attributes\":{\"source\":{\"id\":\"28b225ad-1007-4dc9-8aac-d00000cf2b6c\",\"type\":\"ColumnDataSource\"}},\"id\":\"9e16fccf-871e-4d0a-a59a-c112fa681162\",\"type\":\"CDSView\"},{\"attributes\":{},\"id\":\"1733eef0-4d3e-422c-869a-7b4e1492d565\",\"type\":\"BasicTicker\"},{\"attributes\":{\"fill_color\":{\"value\":\"#1f77b4\"},\"line_color\":{\"value\":\"orange\"},\"x\":{\"field\":\"x\"},\"y\":{\"field\":\"y\"}},\"id\":\"89555578-44b5-40bd-9952-03fc1e1672a9\",\"type\":\"Cross\"},{\"attributes\":{\"axis_label\":\"Number of Deaths\",\"formatter\":{\"id\":\"320564e5-a54b-4c97-b95d-9a75ceb7015e\",\"type\":\"BasicTickFormatter\"},\"plot\":{\"id\":\"c94294dc-506b-40fc-b8bd-275168518bef\",\"subtype\":\"Figure\",\"type\":\"Plot\"},\"ticker\":{\"id\":\"620a3c3e-31fe-4077-90b4-09806d6a13fa\",\"type\":\"BasicTicker\"}},\"id\":\"5c0b02ff-f1fe-45d3-8f1e-9ea68cded5da\",\"type\":\"LinearAxis\"},{\"attributes\":{\"data_source\":{\"id\":\"e10707a0-4af6-4a9d-b314-e10459243daa\",\"type\":\"ColumnDataSource\"},\"glyph\":{\"id\":\"89555578-44b5-40bd-9952-03fc1e1672a9\",\"type\":\"Cross\"},\"hover_glyph\":null,\"muted_glyph\":null,\"nonselection_glyph\":{\"id\":\"c0d8adfb-53c3-490b-a497-c7646d74ba77\",\"type\":\"Cross\"},\"selection_glyph\":null,\"view\":{\"id\":\"1959e520-e201-4de6-8bc4-7598dc9684ad\",\"type\":\"CDSView\"}},\"id\":\"0acae7ee-d3d3-443c-a7a5-2e06d1980441\",\"type\":\"GlyphRenderer\"},{\"attributes\":{},\"id\":\"620a3c3e-31fe-4077-90b4-09806d6a13fa\",\"type\":\"BasicTicker\"},{\"attributes\":{\"dimension\":1,\"plot\":{\"id\":\"c94294dc-506b-40fc-b8bd-275168518bef\",\"subtype\":\"Figure\",\"type\":\"Plot\"},\"ticker\":{\"id\":\"620a3c3e-31fe-4077-90b4-09806d6a13fa\",\"type\":\"BasicTicker\"}},\"id\":\"c210c874-f4ba-4c8e-9ca2-ddeacf847c92\",\"type\":\"Grid\"},{\"attributes\":{\"data_source\":{\"id\":\"ce2138fe-a206-4e89-a3de-5f59b4cae0ce\",\"type\":\"ColumnDataSource\"},\"glyph\":{\"id\":\"9db36f7c-5751-4fb9-ac3e-c54e314180e5\",\"type\":\"Line\"},\"hover_glyph\":null,\"muted_glyph\":null,\"nonselection_glyph\":{\"id\":\"ea46901d-cae4-4bfd-b6b9-8d3db696c686\",\"type\":\"Line\"},\"selection_glyph\":null,\"view\":{\"id\":\"8de6445e-6b06-4641-8478-c721e5726f15\",\"type\":\"CDSView\"}},\"id\":\"d77daa7d-3488-4f70-88e9-f8f7f276d780\",\"type\":\"GlyphRenderer\"},{\"attributes\":{\"line_color\":\"tomato\",\"line_dash\":[2,4,6,4],\"x\":{\"field\":\"x\"},\"y\":{\"field\":\"y\"}},\"id\":\"9db36f7c-5751-4fb9-ac3e-c54e314180e5\",\"type\":\"Line\"},{\"attributes\":{\"fill_alpha\":{\"value\":0.1},\"fill_color\":{\"value\":\"#1f77b4\"},\"line_alpha\":{\"value\":0.1},\"line_color\":{\"value\":\"#1f77b4\"},\"x\":{\"field\":\"x\"},\"y\":{\"field\":\"y\"}},\"id\":\"c0d8adfb-53c3-490b-a497-c7646d74ba77\",\"type\":\"Cross\"},{\"attributes\":{\"source\":{\"id\":\"ab7118e8-d953-4fb5-9ee8-94db26c02ce8\",\"type\":\"ColumnDataSource\"}},\"id\":\"2eccd18f-c0f9-4393-ac5d-666d545a637c\",\"type\":\"CDSView\"},{\"attributes\":{\"source\":{\"id\":\"e10707a0-4af6-4a9d-b314-e10459243daa\",\"type\":\"ColumnDataSource\"}},\"id\":\"1959e520-e201-4de6-8bc4-7598dc9684ad\",\"type\":\"CDSView\"},{\"attributes\":{\"bottom_units\":\"screen\",\"fill_alpha\":{\"value\":0.5},\"fill_color\":{\"value\":\"lightgrey\"},\"left_units\":\"screen\",\"level\":\"overlay\",\"line_alpha\":{\"value\":1.0},\"line_color\":{\"value\":\"black\"},\"line_dash\":[4,4],\"line_width\":{\"value\":2},\"plot\":null,\"render_mode\":\"css\",\"right_units\":\"screen\",\"top_units\":\"screen\"},\"id\":\"28e6c5e8-1ce6-48c6-8a1c-8cfb717d2316\",\"type\":\"BoxAnnotation\"},{\"attributes\":{},\"id\":\"96ed5705-ac15-4239-b061-18cb608fbb14\",\"type\":\"PanTool\"},{\"attributes\":{\"label\":{\"value\":\"Accidental injury to self\"},\"renderers\":[{\"id\":\"c8e3a350-c07c-4c71-b6b7-ca3fb876b72c\",\"type\":\"GlyphRenderer\"},{\"id\":\"58a54923-bb45-4107-9e10-9ceee83c51c4\",\"type\":\"GlyphRenderer\"}]},\"id\":\"d25a922c-debd-4b17-b1a4-f0127183b325\",\"type\":\"LegendItem\"},{\"attributes\":{\"source\":{\"id\":\"ce2138fe-a206-4e89-a3de-5f59b4cae0ce\",\"type\":\"ColumnDataSource\"}},\"id\":\"8de6445e-6b06-4641-8478-c721e5726f15\",\"type\":\"CDSView\"},{\"attributes\":{},\"id\":\"b936ddf3-d92e-4667-9df6-fbc50c5bb319\",\"type\":\"WheelZoomTool\"},{\"attributes\":{\"overlay\":{\"id\":\"28e6c5e8-1ce6-48c6-8a1c-8cfb717d2316\",\"type\":\"BoxAnnotation\"}},\"id\":\"256e2377-9dcd-4472-80ce-303c28d1bbda\",\"type\":\"BoxZoomTool\"},{\"attributes\":{},\"id\":\"1dafa3b9-59bc-4bda-8450-76ec807a51be\",\"type\":\"SaveTool\"},{\"attributes\":{\"label\":{\"value\":\"Accidental injury caused by others\"},\"renderers\":[{\"id\":\"d77daa7d-3488-4f70-88e9-f8f7f276d780\",\"type\":\"GlyphRenderer\"}]},\"id\":\"b2170ec5-52ab-47a8-95da-33bccf95acfe\",\"type\":\"LegendItem\"},{\"attributes\":{},\"id\":\"35433bc8-1b3f-439d-a613-4e85dccce6e1\",\"type\":\"ResetTool\"},{\"attributes\":{\"label\":{\"value\":\"Alcohol/Drug Intoxication\"},\"renderers\":[{\"id\":\"c76218ef-e6c2-471b-9c35-edeb3a4e7d39\",\"type\":\"GlyphRenderer\"}]},\"id\":\"0bfc8775-a463-4416-9882-734cfc783b9b\",\"type\":\"LegendItem\"},{\"attributes\":{},\"id\":\"ca01f374-760b-42dd-bac2-5ba51a0ae062\",\"type\":\"HelpTool\"},{\"attributes\":{\"callback\":null,\"column_names\":[\"x\",\"y\"],\"data\":{\"x\":[2005,2006,2007,2008,2009,2010,2011,2012,2013,2014,2015,2016],\"y\":{\"__ndarray__\":\"DAAAAAoAAAAOAAAADwAAAAoAAAAOAAAAFQAAABEAAAANAAAADgAAAAcAAAAIAAAA\",\"dtype\":\"int32\",\"shape\":[12]}}},\"id\":\"bbe5f2d9-ccc6-4f5d-9fba-e802665f5fb2\",\"type\":\"ColumnDataSource\"},{\"attributes\":{\"label\":{\"value\":\"Homicide by Law Enforcement/Correctional Staff\"},\"renderers\":[{\"id\":\"d62f689d-4e71-4f72-915f-7c0c36277908\",\"type\":\"GlyphRenderer\"}]},\"id\":\"6d244995-1d85-4eef-b07e-00c48f53cc01\",\"type\":\"LegendItem\"},{\"attributes\":{\"fill_color\":{\"value\":\"#1f77b4\"},\"line_color\":{\"value\":\"#1f77b4\"},\"x\":{\"field\":\"x\"},\"y\":{\"field\":\"y\"}},\"id\":\"d6f96dbe-d792-4e5c-80e0-76ae82c2e581\",\"type\":\"Circle\"},{\"attributes\":{\"label\":{\"value\":\"Homicide by Other\"},\"renderers\":[{\"id\":\"043f1fe7-22d2-48a0-b406-bee5080718ff\",\"type\":\"GlyphRenderer\"}]},\"id\":\"c832fad0-f9c2-4ad0-ae7d-eb67b4039e32\",\"type\":\"LegendItem\"},{\"attributes\":{\"callback\":null,\"column_names\":[\"x\",\"y\"],\"data\":{\"x\":[2005,2006,2007,2008,2009,2010,2011,2012,2013,2014,2015,2016],\"y\":{\"__ndarray__\":\"KQAAAC4AAABBAAAAQgAAAEoAAABBAAAAOQAAAGEAAABbAAAAXgAAAGoAAABSAAAA\",\"dtype\":\"int32\",\"shape\":[12]}}},\"id\":\"9019e03f-796f-435a-a115-64360ecb6c46\",\"type\":\"ColumnDataSource\"},{\"attributes\":{\"label\":{\"value\":\"Natural Causes/Illness\"},\"renderers\":[{\"id\":\"ff33df77-678f-497c-8e98-a3a5eb69203c\",\"type\":\"GlyphRenderer\"},{\"id\":\"57168a73-8d9f-42c0-bb6c-286c78159c98\",\"type\":\"GlyphRenderer\"}]},\"id\":\"f13e2e8e-0a9b-452f-9a16-85337b745799\",\"type\":\"LegendItem\"},{\"attributes\":{\"label\":{\"value\":\"Other\"},\"renderers\":[{\"id\":\"fcc5305b-100e-4afd-ba70-03cd4666eca0\",\"type\":\"GlyphRenderer\"},{\"id\":\"822ae846-2ee9-4e49-9e2f-4b0f2c6e4640\",\"type\":\"GlyphRenderer\"}]},\"id\":\"532a2741-2088-4fe4-8c37-d274ee5b62c9\",\"type\":\"LegendItem\"},{\"attributes\":{\"callback\":null,\"column_names\":[\"x\",\"y\"],\"data\":{\"x\":[2005,2006,2007,2008,2009,2010,2011,2012,2013,2014,2015,2016],\"y\":{\"__ndarray__\":\"GQAAACQAAAArAAAAGAAAABIAAAAPAAAAGAAAABYAAAAbAAAAEwAAABYAAAAJAAAA\",\"dtype\":\"int32\",\"shape\":[12]}}},\"id\":\"9547d1de-cefc-4787-ae5d-c742349d344a\",\"type\":\"ColumnDataSource\"},{\"attributes\":{\"label\":{\"value\":\"Suicide\"},\"renderers\":[{\"id\":\"21035d6c-5c03-44dd-b89b-ca59d854a21d\",\"type\":\"GlyphRenderer\"},{\"id\":\"0acae7ee-d3d3-443c-a7a5-2e06d1980441\",\"type\":\"GlyphRenderer\"}]},\"id\":\"2d74025a-ac54-4e48-8f97-1a7bcf5e1d1a\",\"type\":\"LegendItem\"},{\"attributes\":{\"line_color\":\"#1f77b4\",\"x\":{\"field\":\"x\"},\"y\":{\"field\":\"y\"}},\"id\":\"e7e5cc7c-0abf-4948-99b3-6f427090d855\",\"type\":\"Line\"},{\"attributes\":{\"callback\":null,\"column_names\":[\"x\",\"y\"],\"data\":{\"x\":[2005,2006,2007,2008,2009,2010,2011,2012,2013,2014,2015,2016],\"y\":{\"__ndarray__\":\"DAAAAAoAAAAOAAAADwAAAAoAAAAOAAAAFQAAABEAAAANAAAADgAAAAcAAAAIAAAA\",\"dtype\":\"int32\",\"shape\":[12]}}},\"id\":\"ab7118e8-d953-4fb5-9ee8-94db26c02ce8\",\"type\":\"ColumnDataSource\"},{\"attributes\":{\"data_source\":{\"id\":\"ab7118e8-d953-4fb5-9ee8-94db26c02ce8\",\"type\":\"ColumnDataSource\"},\"glyph\":{\"id\":\"e7e5cc7c-0abf-4948-99b3-6f427090d855\",\"type\":\"Line\"},\"hover_glyph\":null,\"muted_glyph\":null,\"nonselection_glyph\":{\"id\":\"6ce3257e-3f55-4c8f-84b4-cf4bb8686bd3\",\"type\":\"Line\"},\"selection_glyph\":null,\"view\":{\"id\":\"2eccd18f-c0f9-4393-ac5d-666d545a637c\",\"type\":\"CDSView\"}},\"id\":\"c8e3a350-c07c-4c71-b6b7-ca3fb876b72c\",\"type\":\"GlyphRenderer\"},{\"attributes\":{\"line_alpha\":0.1,\"line_color\":\"#1f77b4\",\"x\":{\"field\":\"x\"},\"y\":{\"field\":\"y\"}},\"id\":\"6ce3257e-3f55-4c8f-84b4-cf4bb8686bd3\",\"type\":\"Line\"},{\"attributes\":{\"data_source\":{\"id\":\"bbe5f2d9-ccc6-4f5d-9fba-e802665f5fb2\",\"type\":\"ColumnDataSource\"},\"glyph\":{\"id\":\"d6f96dbe-d792-4e5c-80e0-76ae82c2e581\",\"type\":\"Circle\"},\"hover_glyph\":null,\"muted_glyph\":null,\"nonselection_glyph\":{\"id\":\"8c115fd8-d44f-4528-b56b-2934d849831e\",\"type\":\"Circle\"},\"selection_glyph\":null,\"view\":{\"id\":\"0d96ac97-47ff-41bc-86ec-89c31f70b2d4\",\"type\":\"CDSView\"}},\"id\":\"58a54923-bb45-4107-9e10-9ceee83c51c4\",\"type\":\"GlyphRenderer\"},{\"attributes\":{\"data_source\":{\"id\":\"9547d1de-cefc-4787-ae5d-c742349d344a\",\"type\":\"ColumnDataSource\"},\"glyph\":{\"id\":\"dbbf76ee-b666-48ea-b9fc-79068e519a78\",\"type\":\"Line\"},\"hover_glyph\":null,\"muted_glyph\":null,\"nonselection_glyph\":{\"id\":\"0f1af61e-6892-415c-b1c5-9a10063d2496\",\"type\":\"Line\"},\"selection_glyph\":null,\"view\":{\"id\":\"0aecd16b-b167-47bf-a4cd-c45cc18e1e64\",\"type\":\"CDSView\"}},\"id\":\"c76218ef-e6c2-471b-9c35-edeb3a4e7d39\",\"type\":\"GlyphRenderer\"},{\"attributes\":{\"fill_alpha\":{\"value\":0.1},\"fill_color\":{\"value\":\"#1f77b4\"},\"line_alpha\":{\"value\":0.1},\"line_color\":{\"value\":\"#1f77b4\"},\"x\":{\"field\":\"x\"},\"y\":{\"field\":\"y\"}},\"id\":\"8c115fd8-d44f-4528-b56b-2934d849831e\",\"type\":\"Circle\"},{\"attributes\":{\"source\":{\"id\":\"bbe5f2d9-ccc6-4f5d-9fba-e802665f5fb2\",\"type\":\"ColumnDataSource\"}},\"id\":\"0d96ac97-47ff-41bc-86ec-89c31f70b2d4\",\"type\":\"CDSView\"},{\"attributes\":{\"line_color\":\"olivedrab\",\"line_width\":2,\"x\":{\"field\":\"x\"},\"y\":{\"field\":\"y\"}},\"id\":\"dbbf76ee-b666-48ea-b9fc-79068e519a78\",\"type\":\"Line\"},{\"attributes\":{\"line_alpha\":0.1,\"line_color\":\"#1f77b4\",\"line_dash\":[2,4],\"x\":{\"field\":\"x\"},\"y\":{\"field\":\"y\"}},\"id\":\"eded8fb2-a547-4615-8957-648e36b7521f\",\"type\":\"Line\"},{\"attributes\":{\"line_alpha\":0.1,\"line_color\":\"#1f77b4\",\"line_width\":2,\"x\":{\"field\":\"x\"},\"y\":{\"field\":\"y\"}},\"id\":\"0f1af61e-6892-415c-b1c5-9a10063d2496\",\"type\":\"Line\"},{\"attributes\":{\"source\":{\"id\":\"9547d1de-cefc-4787-ae5d-c742349d344a\",\"type\":\"ColumnDataSource\"}},\"id\":\"0aecd16b-b167-47bf-a4cd-c45cc18e1e64\",\"type\":\"CDSView\"},{\"attributes\":{\"callback\":null,\"column_names\":[\"x\",\"y\"],\"data\":{\"x\":[2005,2006,2007,2008,2009,2010,2011,2012,2013,2014,2015,2016],\"y\":{\"__ndarray__\":\"AwAAAAsAAAACAAAABgAAAAIAAAAHAAAACQAAAA0AAAAGAAAAAgAAAAQAAAAHAAAA\",\"dtype\":\"int32\",\"shape\":[12]}}},\"id\":\"19e8bf25-ef07-4d0c-ad3b-5e46796e48c8\",\"type\":\"ColumnDataSource\"},{\"attributes\":{\"callback\":null,\"column_names\":[\"x\",\"y\"],\"data\":{\"x\":[2005,2006,2007,2008,2009,2010,2011,2012,2013,2014,2015,2016],\"y\":{\"__ndarray__\":\"fgEAAOMBAADRAQAA8gEAAL4BAACPAQAAqgEAAMEBAADfAQAApQEAAKcBAACLAQAA\",\"dtype\":\"int32\",\"shape\":[12]}}},\"id\":\"200d6912-6d64-42e8-a1b0-a9f09052ea27\",\"type\":\"ColumnDataSource\"},{\"attributes\":{\"line_color\":\"gold\",\"line_dash\":[2,4],\"x\":{\"field\":\"x\"},\"y\":{\"field\":\"y\"}},\"id\":\"4cfa42a7-1b3f-482a-a905-45c265f0a913\",\"type\":\"Line\"},{\"attributes\":{\"data_source\":{\"id\":\"9019e03f-796f-435a-a115-64360ecb6c46\",\"type\":\"ColumnDataSource\"},\"glyph\":{\"id\":\"4cfa42a7-1b3f-482a-a905-45c265f0a913\",\"type\":\"Line\"},\"hover_glyph\":null,\"muted_glyph\":null,\"nonselection_glyph\":{\"id\":\"eded8fb2-a547-4615-8957-648e36b7521f\",\"type\":\"Line\"},\"selection_glyph\":null,\"view\":{\"id\":\"2ab6e0f9-8a00-4d4e-b12b-e549ab87a294\",\"type\":\"CDSView\"}},\"id\":\"d62f689d-4e71-4f72-915f-7c0c36277908\",\"type\":\"GlyphRenderer\"},{\"attributes\":{\"source\":{\"id\":\"9019e03f-796f-435a-a115-64360ecb6c46\",\"type\":\"ColumnDataSource\"}},\"id\":\"2ab6e0f9-8a00-4d4e-b12b-e549ab87a294\",\"type\":\"CDSView\"},{\"attributes\":{\"line_alpha\":0.1,\"line_color\":\"#1f77b4\",\"line_dash\":[6],\"line_width\":2,\"x\":{\"field\":\"x\"},\"y\":{\"field\":\"y\"}},\"id\":\"6b37ae87-851c-4430-bf87-2579c449a7a8\",\"type\":\"Line\"},{\"attributes\":{\"callback\":null,\"column_names\":[\"x\",\"y\"],\"data\":{\"x\":[2005,2006,2007,2008,2009,2010,2011,2012,2013,2014,2015,2016],\"y\":{\"__ndarray__\":\"BgAAAAQAAAADAAAACwAAAAYAAAAMAAAADAAAAA8AAAANAAAADwAAADUAAAA1AAAA\",\"dtype\":\"int32\",\"shape\":[12]}}},\"id\":\"65a4406a-93a2-40f2-868e-360396a669e9\",\"type\":\"ColumnDataSource\"},{\"attributes\":{\"callback\":null,\"column_names\":[\"x\",\"y\"],\"data\":{\"x\":[2005,2006,2007,2008,2009,2010,2011,2012,2013,2014,2015,2016],\"y\":{\"__ndarray__\":\"fgEAAOMBAADRAQAA8gEAAL4BAACPAQAAqgEAAMEBAADfAQAApQEAAKcBAACLAQAA\",\"dtype\":\"int32\",\"shape\":[12]}}},\"id\":\"0d7f2425-7b08-4be0-8936-8feae9f82b0e\",\"type\":\"ColumnDataSource\"},{\"attributes\":{\"line_color\":\"indigo\",\"line_dash\":[6],\"line_width\":2,\"x\":{\"field\":\"x\"},\"y\":{\"field\":\"y\"}},\"id\":\"5f8e11b2-19cf-412c-bef6-5acb9263c32a\",\"type\":\"Line\"},{\"attributes\":{\"data_source\":{\"id\":\"19e8bf25-ef07-4d0c-ad3b-5e46796e48c8\",\"type\":\"ColumnDataSource\"},\"glyph\":{\"id\":\"5f8e11b2-19cf-412c-bef6-5acb9263c32a\",\"type\":\"Line\"},\"hover_glyph\":null,\"muted_glyph\":null,\"nonselection_glyph\":{\"id\":\"6b37ae87-851c-4430-bf87-2579c449a7a8\",\"type\":\"Line\"},\"selection_glyph\":null,\"view\":{\"id\":\"44f1c821-ab76-444a-a515-d7ccac461b71\",\"type\":\"CDSView\"}},\"id\":\"043f1fe7-22d2-48a0-b406-bee5080718ff\",\"type\":\"GlyphRenderer\"},{\"attributes\":{\"source\":{\"id\":\"19e8bf25-ef07-4d0c-ad3b-5e46796e48c8\",\"type\":\"ColumnDataSource\"}},\"id\":\"44f1c821-ab76-444a-a515-d7ccac461b71\",\"type\":\"CDSView\"},{\"attributes\":{\"line_alpha\":0.1,\"line_color\":\"#1f77b4\",\"x\":{\"field\":\"x\"},\"y\":{\"field\":\"y\"}},\"id\":\"1623ea91-030c-4148-9e97-ad567cdfb69e\",\"type\":\"Line\"},{\"attributes\":{\"fill_alpha\":{\"value\":0.1},\"fill_color\":{\"value\":\"#1f77b4\"},\"line_alpha\":{\"value\":0.1},\"line_color\":{\"value\":\"#1f77b4\"},\"x\":{\"field\":\"x\"},\"y\":{\"field\":\"y\"}},\"id\":\"29894361-c719-4bb3-85ae-33dea76b8146\",\"type\":\"Triangle\"},{\"attributes\":{\"fill_color\":{\"value\":null},\"line_color\":{\"value\":\"coral\"},\"x\":{\"field\":\"x\"},\"y\":{\"field\":\"y\"}},\"id\":\"363c642a-0714-41b4-a317-9bf8192d8e8e\",\"type\":\"Square\"},{\"attributes\":{\"line_color\":\"coral\",\"x\":{\"field\":\"x\"},\"y\":{\"field\":\"y\"}},\"id\":\"417a690e-a2ba-4ea7-8692-4b585cb67bca\",\"type\":\"Line\"},{\"attributes\":{\"data_source\":{\"id\":\"200d6912-6d64-42e8-a1b0-a9f09052ea27\",\"type\":\"ColumnDataSource\"},\"glyph\":{\"id\":\"417a690e-a2ba-4ea7-8692-4b585cb67bca\",\"type\":\"Line\"},\"hover_glyph\":null,\"muted_glyph\":null,\"nonselection_glyph\":{\"id\":\"1623ea91-030c-4148-9e97-ad567cdfb69e\",\"type\":\"Line\"},\"selection_glyph\":null,\"view\":{\"id\":\"4bace39b-aadf-4b0a-b6ff-1ee9c45135f0\",\"type\":\"CDSView\"}},\"id\":\"ff33df77-678f-497c-8e98-a3a5eb69203c\",\"type\":\"GlyphRenderer\"},{\"attributes\":{\"source\":{\"id\":\"200d6912-6d64-42e8-a1b0-a9f09052ea27\",\"type\":\"ColumnDataSource\"}},\"id\":\"4bace39b-aadf-4b0a-b6ff-1ee9c45135f0\",\"type\":\"CDSView\"},{\"attributes\":{\"data_source\":{\"id\":\"0d7f2425-7b08-4be0-8936-8feae9f82b0e\",\"type\":\"ColumnDataSource\"},\"glyph\":{\"id\":\"363c642a-0714-41b4-a317-9bf8192d8e8e\",\"type\":\"Square\"},\"hover_glyph\":null,\"muted_glyph\":null,\"nonselection_glyph\":{\"id\":\"68b0dad6-97eb-4da3-9be0-04ee85a69bfc\",\"type\":\"Square\"},\"selection_glyph\":null,\"view\":{\"id\":\"0b561d50-052d-46bc-bc16-fd4549e3b0f6\",\"type\":\"CDSView\"}},\"id\":\"57168a73-8d9f-42c0-bb6c-286c78159c98\",\"type\":\"GlyphRenderer\"},{\"attributes\":{\"source\":{\"id\":\"ad46e7e4-a48a-4d57-bdf1-ae3c22711576\",\"type\":\"ColumnDataSource\"}},\"id\":\"6be97ee4-3621-4c58-9d73-29e732aadeea\",\"type\":\"CDSView\"},{\"attributes\":{\"callback\":null,\"column_names\":[\"x\",\"y\"],\"data\":{\"x\":[2005,2006,2007,2008,2009,2010,2011,2012,2013,2014,2015,2016],\"y\":{\"__ndarray__\":\"BgAAAAQAAAADAAAACwAAAAYAAAAMAAAADAAAAA8AAAANAAAADwAAADUAAAA1AAAA\",\"dtype\":\"int32\",\"shape\":[12]}}},\"id\":\"ad46e7e4-a48a-4d57-bdf1-ae3c22711576\",\"type\":\"ColumnDataSource\"},{\"attributes\":{\"line_alpha\":0.1,\"line_color\":\"#1f77b4\",\"x\":{\"field\":\"x\"},\"y\":{\"field\":\"y\"}},\"id\":\"7bb377de-1920-46f7-8203-6dbd92c60592\",\"type\":\"Line\"},{\"attributes\":{\"fill_alpha\":{\"value\":0.1},\"fill_color\":{\"value\":\"#1f77b4\"},\"line_alpha\":{\"value\":0.1},\"line_color\":{\"value\":\"#1f77b4\"},\"x\":{\"field\":\"x\"},\"y\":{\"field\":\"y\"}},\"id\":\"68b0dad6-97eb-4da3-9be0-04ee85a69bfc\",\"type\":\"Square\"},{\"attributes\":{\"source\":{\"id\":\"0d7f2425-7b08-4be0-8936-8feae9f82b0e\",\"type\":\"ColumnDataSource\"}},\"id\":\"0b561d50-052d-46bc-bc16-fd4549e3b0f6\",\"type\":\"CDSView\"},{\"attributes\":{\"callback\":null,\"column_names\":[\"x\",\"y\"],\"data\":{\"x\":[2005,2006,2007,2008,2009,2010,2011,2012,2013,2014,2015,2016],\"y\":{\"__ndarray__\":\"TAAAAEMAAABIAAAAOgAAAEAAAABMAAAAPgAAAEwAAABAAAAASgAAAFYAAABFAAAA\",\"dtype\":\"int32\",\"shape\":[12]}}},\"id\":\"e10707a0-4af6-4a9d-b314-e10459243daa\",\"type\":\"ColumnDataSource\"},{\"attributes\":{\"callback\":null,\"column_names\":[\"x\",\"y\"],\"data\":{\"x\":[2005,2006,2007,2008,2009,2010,2011,2012,2013,2014,2015,2016],\"y\":{\"__ndarray__\":\"AQAAAAAAAAAGAAAABAAAAAIAAAAAAAAAAgAAAAEAAAAAAAAAAQAAAAMAAAABAAAA\",\"dtype\":\"int32\",\"shape\":[12]}}},\"id\":\"ce2138fe-a206-4e89-a3de-5f59b4cae0ce\",\"type\":\"ColumnDataSource\"},{\"attributes\":{\"fill_color\":{\"value\":\"#1f77b4\"},\"line_color\":{\"value\":\"green\"},\"x\":{\"field\":\"x\"},\"y\":{\"field\":\"y\"}},\"id\":\"77c689b1-1f51-4fc1-ba1d-212f4461da80\",\"type\":\"Triangle\"},{\"attributes\":{\"below\":[{\"id\":\"0b15ce4a-56c1-48e9-9d4f-53719e2c5595\",\"type\":\"LinearAxis\"}],\"left\":[{\"id\":\"5c0b02ff-f1fe-45d3-8f1e-9ea68cded5da\",\"type\":\"LinearAxis\"}],\"plot_width\":1000,\"renderers\":[{\"id\":\"0b15ce4a-56c1-48e9-9d4f-53719e2c5595\",\"type\":\"LinearAxis\"},{\"id\":\"2e36a55c-d418-4c87-a42d-aec414f3247e\",\"type\":\"Grid\"},{\"id\":\"5c0b02ff-f1fe-45d3-8f1e-9ea68cded5da\",\"type\":\"LinearAxis\"},{\"id\":\"c210c874-f4ba-4c8e-9ca2-ddeacf847c92\",\"type\":\"Grid\"},{\"id\":\"28e6c5e8-1ce6-48c6-8a1c-8cfb717d2316\",\"type\":\"BoxAnnotation\"},{\"id\":\"d77daa7d-3488-4f70-88e9-f8f7f276d780\",\"type\":\"GlyphRenderer\"},{\"id\":\"c8e3a350-c07c-4c71-b6b7-ca3fb876b72c\",\"type\":\"GlyphRenderer\"},{\"id\":\"58a54923-bb45-4107-9e10-9ceee83c51c4\",\"type\":\"GlyphRenderer\"},{\"id\":\"c76218ef-e6c2-471b-9c35-edeb3a4e7d39\",\"type\":\"GlyphRenderer\"},{\"id\":\"d62f689d-4e71-4f72-915f-7c0c36277908\",\"type\":\"GlyphRenderer\"},{\"id\":\"043f1fe7-22d2-48a0-b406-bee5080718ff\",\"type\":\"GlyphRenderer\"},{\"id\":\"ff33df77-678f-497c-8e98-a3a5eb69203c\",\"type\":\"GlyphRenderer\"},{\"id\":\"57168a73-8d9f-42c0-bb6c-286c78159c98\",\"type\":\"GlyphRenderer\"},{\"id\":\"fcc5305b-100e-4afd-ba70-03cd4666eca0\",\"type\":\"GlyphRenderer\"},{\"id\":\"822ae846-2ee9-4e49-9e2f-4b0f2c6e4640\",\"type\":\"GlyphRenderer\"},{\"id\":\"21035d6c-5c03-44dd-b89b-ca59d854a21d\",\"type\":\"GlyphRenderer\"},{\"id\":\"0acae7ee-d3d3-443c-a7a5-2e06d1980441\",\"type\":\"GlyphRenderer\"},{\"id\":\"38d97be3-3e17-48a4-a69d-1aca0936632f\",\"type\":\"Legend\"}],\"right\":[{\"id\":\"38d97be3-3e17-48a4-a69d-1aca0936632f\",\"type\":\"Legend\"}],\"title\":{\"id\":\"558bac60-a2eb-4427-83d2-169f984e2c30\",\"type\":\"Title\"},\"toolbar\":{\"id\":\"8b12e75f-d4f3-457a-9b42-df73ea334463\",\"type\":\"Toolbar\"},\"x_range\":{\"id\":\"96dcb969-8784-4e62-82f4-b99a9039f4fc\",\"type\":\"DataRange1d\"},\"x_scale\":{\"id\":\"6b23c664-05e8-42f6-9b2b-761e55b4e2a4\",\"type\":\"LinearScale\"},\"y_range\":{\"id\":\"2c322783-9639-4339-aa77-80fb6f06cb4f\",\"type\":\"Range1d\"},\"y_scale\":{\"id\":\"d1d1477a-a4a0-48a9-9606-eb2d4dcaadb7\",\"type\":\"LinearScale\"}},\"id\":\"c94294dc-506b-40fc-b8bd-275168518bef\",\"subtype\":\"Figure\",\"type\":\"Plot\"},{\"attributes\":{\"line_color\":\"green\",\"x\":{\"field\":\"x\"},\"y\":{\"field\":\"y\"}},\"id\":\"7406c15d-d86c-4a93-a94c-ef995d42dddc\",\"type\":\"Line\"},{\"attributes\":{\"data_source\":{\"id\":\"65a4406a-93a2-40f2-868e-360396a669e9\",\"type\":\"ColumnDataSource\"},\"glyph\":{\"id\":\"7406c15d-d86c-4a93-a94c-ef995d42dddc\",\"type\":\"Line\"},\"hover_glyph\":null,\"muted_glyph\":null,\"nonselection_glyph\":{\"id\":\"7bb377de-1920-46f7-8203-6dbd92c60592\",\"type\":\"Line\"},\"selection_glyph\":null,\"view\":{\"id\":\"03e64ae8-51d9-436f-a740-8d3657e44821\",\"type\":\"CDSView\"}},\"id\":\"fcc5305b-100e-4afd-ba70-03cd4666eca0\",\"type\":\"GlyphRenderer\"},{\"attributes\":{\"plot\":null,\"text\":\"Manner of Death by year\"},\"id\":\"558bac60-a2eb-4427-83d2-169f984e2c30\",\"type\":\"Title\"},{\"attributes\":{\"callback\":null},\"id\":\"96dcb969-8784-4e62-82f4-b99a9039f4fc\",\"type\":\"DataRange1d\"},{\"attributes\":{\"source\":{\"id\":\"65a4406a-93a2-40f2-868e-360396a669e9\",\"type\":\"ColumnDataSource\"}},\"id\":\"03e64ae8-51d9-436f-a740-8d3657e44821\",\"type\":\"CDSView\"},{\"attributes\":{\"active_drag\":\"auto\",\"active_inspect\":\"auto\",\"active_scroll\":\"auto\",\"active_tap\":\"auto\",\"tools\":[{\"id\":\"96ed5705-ac15-4239-b061-18cb608fbb14\",\"type\":\"PanTool\"},{\"id\":\"b936ddf3-d92e-4667-9df6-fbc50c5bb319\",\"type\":\"WheelZoomTool\"},{\"id\":\"256e2377-9dcd-4472-80ce-303c28d1bbda\",\"type\":\"BoxZoomTool\"},{\"id\":\"1dafa3b9-59bc-4bda-8450-76ec807a51be\",\"type\":\"SaveTool\"},{\"id\":\"35433bc8-1b3f-439d-a613-4e85dccce6e1\",\"type\":\"ResetTool\"},{\"id\":\"ca01f374-760b-42dd-bac2-5ba51a0ae062\",\"type\":\"HelpTool\"}]},\"id\":\"8b12e75f-d4f3-457a-9b42-df73ea334463\",\"type\":\"Toolbar\"},{\"attributes\":{\"data_source\":{\"id\":\"ad46e7e4-a48a-4d57-bdf1-ae3c22711576\",\"type\":\"ColumnDataSource\"},\"glyph\":{\"id\":\"77c689b1-1f51-4fc1-ba1d-212f4461da80\",\"type\":\"Triangle\"},\"hover_glyph\":null,\"muted_glyph\":null,\"nonselection_glyph\":{\"id\":\"29894361-c719-4bb3-85ae-33dea76b8146\",\"type\":\"Triangle\"},\"selection_glyph\":null,\"view\":{\"id\":\"6be97ee4-3621-4c58-9d73-29e732aadeea\",\"type\":\"CDSView\"}},\"id\":\"822ae846-2ee9-4e49-9e2f-4b0f2c6e4640\",\"type\":\"GlyphRenderer\"},{\"attributes\":{},\"id\":\"320564e5-a54b-4c97-b95d-9a75ceb7015e\",\"type\":\"BasicTickFormatter\"},{\"attributes\":{},\"id\":\"909877e9-8aeb-46d6-a965-6678adc2e974\",\"type\":\"BasicTickFormatter\"}],\"root_ids\":[\"c94294dc-506b-40fc-b8bd-275168518bef\"]},\"title\":\"Bokeh Application\",\"version\":\"0.12.13\"}};\n",
       "  var render_items = [{\"docid\":\"b5903a21-c8a5-4c02-8dd3-6b4759c712df\",\"elementid\":\"6394032b-ce1e-45aa-92aa-e297a2751057\",\"modelid\":\"c94294dc-506b-40fc-b8bd-275168518bef\"}];\n",
       "  root.Bokeh.embed.embed_items_notebook(docs_json, render_items);\n",
       "\n",
       "  }\n",
       "  if (root.Bokeh !== undefined) {\n",
       "    embed_document(root);\n",
       "  } else {\n",
       "    var attempts = 0;\n",
       "    var timer = setInterval(function(root) {\n",
       "      if (root.Bokeh !== undefined) {\n",
       "        embed_document(root);\n",
       "        clearInterval(timer);\n",
       "      }\n",
       "      attempts++;\n",
       "      if (attempts > 100) {\n",
       "        console.log(\"Bokeh: ERROR: Unable to run BokehJS code because BokehJS library is missing\")\n",
       "        clearInterval(timer);\n",
       "      }\n",
       "    }, 10, root)\n",
       "  }\n",
       "})(window);"
      ],
      "application/vnd.bokehjs_exec.v0+json": ""
     },
     "metadata": {
      "application/vnd.bokehjs_exec.v0+json": {
       "id": "c94294dc-506b-40fc-b8bd-275168518bef"
      }
     },
     "output_type": "display_data"
    }
   ],
   "source": [
    "#line graph showing number of death in each year for each type of Manner of Death\n",
    "\n",
    "x= list(line.index)\n",
    "\n",
    "l = figure(title=\"Manner of Death by year\", y_range=(0, 500), y_axis_label='Number of Deaths',x_axis_label='Year', plot_width=1000)\n",
    "\n",
    "r0= l.line(x, line['Accidental injury caused by others'], line_color=\"tomato\", line_dash=\"dotdash\")\n",
    "\n",
    "r1= l.line(x, line['Accidental injury to self'])\n",
    "r2= l.circle(x, line['Accidental injury to self'])\n",
    "\n",
    "r3= l.line(x, line['Alcohol/Drug Intoxication'],line_width=2, line_color=\"olivedrab\") \n",
    "\n",
    "r4= l.line(x, line['Homicide by Law Enforcement/Correctional Staff'], line_dash=\"dotted\", line_color=\"gold\") \n",
    "\n",
    "r5= l.line(x, line['Homicide by Other'], line_dash=\"dashed\", line_width=2, line_color=\"indigo\") \n",
    "\n",
    "r6 = l.line(x, line['Natural Causes/Illness'], line_color=\"coral\") \n",
    "r7 = l.square(x, line['Natural Causes/Illness'], fill_color=None, line_color=\"coral\")\n",
    "\n",
    "r8 = l.line(x, line['Other'], line_color=\"green\") \n",
    "r9 = l.triangle(x, line['Other'], line_color= \"green\")\n",
    "\n",
    "r10 = l.line(x, line['Suicide'], line_color=\"orange\") \n",
    "r11 = l.cross(x, line['Suicide'], line_color = \"orange\")\n",
    "\n",
    "legend = Legend(items=[\n",
    "    (\"Accidental injury caused by others\", [r0]), \n",
    "    (\"Accidental injury to self\", [r1, r2]), \n",
    "    (\"Alcohol/Drug Intoxication\", [r3]), \n",
    "    (\"Homicide by Law Enforcement/Correctional Staff\", [r4]), \n",
    "    (\"Homicide by Other\", [r5]),(\"Natural Causes/Illness\", [r6, r7]), \n",
    "    (\"Other\", [r8, r9]),\n",
    "    (\"Suicide\", [r10, r11]),\n",
    "], location=(0, -30))\n",
    "\n",
    "l.add_layout(legend, 'right')\n",
    "\n",
    "show(l)"
   ]
  },
  {
   "cell_type": "code",
   "execution_count": 34,
   "metadata": {},
   "outputs": [
    {
     "data": {
      "text/html": [
       "<div>\n",
       "<style scoped>\n",
       "    .dataframe tbody tr th:only-of-type {\n",
       "        vertical-align: middle;\n",
       "    }\n",
       "\n",
       "    .dataframe tbody tr th {\n",
       "        vertical-align: top;\n",
       "    }\n",
       "\n",
       "    .dataframe thead th {\n",
       "        text-align: right;\n",
       "    }\n",
       "</style>\n",
       "<table border=\"1\" class=\"dataframe\">\n",
       "  <thead>\n",
       "    <tr style=\"text-align: right;\">\n",
       "      <th></th>\n",
       "      <th>Date</th>\n",
       "      <th>NumberOfSubjects</th>\n",
       "      <th>Fatal</th>\n",
       "      <th>SubjectArmed</th>\n",
       "      <th>Notes</th>\n",
       "      <th>SubjectRace</th>\n",
       "      <th>SubjectGender</th>\n",
       "      <th>SubjectAge</th>\n",
       "      <th>NatureOfStop</th>\n",
       "      <th>NumberOfShots</th>\n",
       "      <th>NumberOfOfficers</th>\n",
       "      <th>OfficerRace</th>\n",
       "      <th>OfficerGender</th>\n",
       "      <th>Department</th>\n",
       "      <th>FullNarrative</th>\n",
       "      <th>city</th>\n",
       "      <th>state</th>\n",
       "    </tr>\n",
       "  </thead>\n",
       "  <tbody>\n",
       "    <tr>\n",
       "      <th>103</th>\n",
       "      <td>9/25/2010</td>\n",
       "      <td>1</td>\n",
       "      <td>F</td>\n",
       "      <td>Y</td>\n",
       "      <td>NaN</td>\n",
       "      <td>W</td>\n",
       "      <td>M</td>\n",
       "      <td>26</td>\n",
       "      <td>Domestic Disturbance</td>\n",
       "      <td>NaN</td>\n",
       "      <td>1</td>\n",
       "      <td>H</td>\n",
       "      <td>M</td>\n",
       "      <td>Austin PD</td>\n",
       "      <td>NaN</td>\n",
       "      <td>Austin</td>\n",
       "      <td>TX</td>\n",
       "    </tr>\n",
       "    <tr>\n",
       "      <th>104</th>\n",
       "      <td>10/1/2010</td>\n",
       "      <td>1</td>\n",
       "      <td>F</td>\n",
       "      <td>Y</td>\n",
       "      <td>NaN</td>\n",
       "      <td>L</td>\n",
       "      <td>M</td>\n",
       "      <td>16</td>\n",
       "      <td>Burglary / home invasion</td>\n",
       "      <td>NaN</td>\n",
       "      <td>1</td>\n",
       "      <td>W</td>\n",
       "      <td>M</td>\n",
       "      <td>Austin PD</td>\n",
       "      <td>NaN</td>\n",
       "      <td>Austin</td>\n",
       "      <td>TX</td>\n",
       "    </tr>\n",
       "    <tr>\n",
       "      <th>105</th>\n",
       "      <td>11/2/2010</td>\n",
       "      <td>1</td>\n",
       "      <td>F</td>\n",
       "      <td>Y</td>\n",
       "      <td>NaN</td>\n",
       "      <td>A</td>\n",
       "      <td>M</td>\n",
       "      <td>26</td>\n",
       "      <td>Shots fired / shooting</td>\n",
       "      <td>NaN</td>\n",
       "      <td>2</td>\n",
       "      <td>W,W</td>\n",
       "      <td>M,M</td>\n",
       "      <td>Austin PD</td>\n",
       "      <td>NaN</td>\n",
       "      <td>Austin</td>\n",
       "      <td>TX</td>\n",
       "    </tr>\n",
       "    <tr>\n",
       "      <th>106</th>\n",
       "      <td>12/23/2010</td>\n",
       "      <td>1</td>\n",
       "      <td>F</td>\n",
       "      <td>N</td>\n",
       "      <td>Fired, knife</td>\n",
       "      <td>W</td>\n",
       "      <td>M</td>\n",
       "      <td>35</td>\n",
       "      <td>Traffic stop</td>\n",
       "      <td>NaN</td>\n",
       "      <td>1</td>\n",
       "      <td>B</td>\n",
       "      <td>M</td>\n",
       "      <td>Austin PD</td>\n",
       "      <td>NaN</td>\n",
       "      <td>Austin</td>\n",
       "      <td>TX</td>\n",
       "    </tr>\n",
       "    <tr>\n",
       "      <th>107</th>\n",
       "      <td>5/9/2011</td>\n",
       "      <td>1</td>\n",
       "      <td>F</td>\n",
       "      <td>Y</td>\n",
       "      <td>NaN</td>\n",
       "      <td>L</td>\n",
       "      <td>M</td>\n",
       "      <td>30</td>\n",
       "      <td>Shots fired / shooting</td>\n",
       "      <td>NaN</td>\n",
       "      <td>1</td>\n",
       "      <td>H</td>\n",
       "      <td>M</td>\n",
       "      <td>Austin PD</td>\n",
       "      <td>NaN</td>\n",
       "      <td>Austin</td>\n",
       "      <td>TX</td>\n",
       "    </tr>\n",
       "  </tbody>\n",
       "</table>\n",
       "</div>"
      ],
      "text/plain": [
       "           Date  NumberOfSubjects Fatal SubjectArmed         Notes  \\\n",
       "103   9/25/2010                 1     F            Y           NaN   \n",
       "104   10/1/2010                 1     F            Y           NaN   \n",
       "105   11/2/2010                 1     F            Y           NaN   \n",
       "106  12/23/2010                 1     F            N  Fired, knife   \n",
       "107    5/9/2011                 1     F            Y           NaN   \n",
       "\n",
       "    SubjectRace SubjectGender SubjectAge              NatureOfStop  \\\n",
       "103           W             M         26      Domestic Disturbance   \n",
       "104           L             M         16  Burglary / home invasion   \n",
       "105           A             M         26    Shots fired / shooting   \n",
       "106           W             M         35              Traffic stop   \n",
       "107           L             M         30    Shots fired / shooting   \n",
       "\n",
       "    NumberOfShots NumberOfOfficers OfficerRace OfficerGender Department  \\\n",
       "103           NaN                1           H             M  Austin PD   \n",
       "104           NaN                1           W             M  Austin PD   \n",
       "105           NaN                2         W,W           M,M  Austin PD   \n",
       "106           NaN                1           B             M  Austin PD   \n",
       "107           NaN                1           H             M  Austin PD   \n",
       "\n",
       "    FullNarrative    city state  \n",
       "103           NaN  Austin    TX  \n",
       "104           NaN  Austin    TX  \n",
       "105           NaN  Austin    TX  \n",
       "106           NaN  Austin    TX  \n",
       "107           NaN  Austin    TX  "
      ]
     },
     "execution_count": 34,
     "metadata": {},
     "output_type": "execute_result"
    }
   ],
   "source": [
    "shoot.head()"
   ]
  },
  {
   "cell_type": "code",
   "execution_count": 35,
   "metadata": {},
   "outputs": [],
   "source": [
    "race = shoot.groupby('Department')['SubjectRace'].value_counts().unstack('Department')"
   ]
  },
  {
   "cell_type": "code",
   "execution_count": 36,
   "metadata": {},
   "outputs": [
    {
     "data": {
      "text/html": [
       "<div>\n",
       "<style scoped>\n",
       "    .dataframe tbody tr th:only-of-type {\n",
       "        vertical-align: middle;\n",
       "    }\n",
       "\n",
       "    .dataframe tbody tr th {\n",
       "        vertical-align: top;\n",
       "    }\n",
       "\n",
       "    .dataframe thead th {\n",
       "        text-align: right;\n",
       "    }\n",
       "</style>\n",
       "<table border=\"1\" class=\"dataframe\">\n",
       "  <thead>\n",
       "    <tr style=\"text-align: right;\">\n",
       "      <th>Department</th>\n",
       "      <th>Austin PD</th>\n",
       "      <th>Dallas Police Department</th>\n",
       "      <th>El Paso PD</th>\n",
       "      <th>El Paso Police Department</th>\n",
       "      <th>Fort Worth PD</th>\n",
       "      <th>Houston Police Department</th>\n",
       "      <th>San Antonio PD</th>\n",
       "      <th>San Antonio Police Department</th>\n",
       "      <th>San Antonio Police Dept</th>\n",
       "    </tr>\n",
       "    <tr>\n",
       "      <th>SubjectRace</th>\n",
       "      <th></th>\n",
       "      <th></th>\n",
       "      <th></th>\n",
       "      <th></th>\n",
       "      <th></th>\n",
       "      <th></th>\n",
       "      <th></th>\n",
       "      <th></th>\n",
       "      <th></th>\n",
       "    </tr>\n",
       "  </thead>\n",
       "  <tbody>\n",
       "    <tr>\n",
       "      <th>Asian</th>\n",
       "      <td>1.0</td>\n",
       "      <td>1.0</td>\n",
       "      <td>NaN</td>\n",
       "      <td>NaN</td>\n",
       "      <td>NaN</td>\n",
       "      <td>4.0</td>\n",
       "      <td>NaN</td>\n",
       "      <td>NaN</td>\n",
       "      <td>NaN</td>\n",
       "    </tr>\n",
       "    <tr>\n",
       "      <th>Black</th>\n",
       "      <td>11.0</td>\n",
       "      <td>58.0</td>\n",
       "      <td>NaN</td>\n",
       "      <td>1.0</td>\n",
       "      <td>15.0</td>\n",
       "      <td>163.0</td>\n",
       "      <td>14.0</td>\n",
       "      <td>1.0</td>\n",
       "      <td>1.0</td>\n",
       "    </tr>\n",
       "    <tr>\n",
       "      <th>Latino</th>\n",
       "      <td>8.0</td>\n",
       "      <td>38.0</td>\n",
       "      <td>3.0</td>\n",
       "      <td>1.0</td>\n",
       "      <td>6.0</td>\n",
       "      <td>81.0</td>\n",
       "      <td>26.0</td>\n",
       "      <td>10.0</td>\n",
       "      <td>NaN</td>\n",
       "    </tr>\n",
       "    <tr>\n",
       "      <th>Unknown</th>\n",
       "      <td>NaN</td>\n",
       "      <td>NaN</td>\n",
       "      <td>1.0</td>\n",
       "      <td>NaN</td>\n",
       "      <td>2.0</td>\n",
       "      <td>30.0</td>\n",
       "      <td>14.0</td>\n",
       "      <td>NaN</td>\n",
       "      <td>NaN</td>\n",
       "    </tr>\n",
       "    <tr>\n",
       "      <th>White</th>\n",
       "      <td>26.0</td>\n",
       "      <td>22.0</td>\n",
       "      <td>14.0</td>\n",
       "      <td>1.0</td>\n",
       "      <td>23.0</td>\n",
       "      <td>34.0</td>\n",
       "      <td>24.0</td>\n",
       "      <td>NaN</td>\n",
       "      <td>2.0</td>\n",
       "    </tr>\n",
       "  </tbody>\n",
       "</table>\n",
       "</div>"
      ],
      "text/plain": [
       "Department   Austin PD  Dallas Police Department  El Paso PD  \\\n",
       "SubjectRace                                                    \n",
       "Asian              1.0                       1.0         NaN   \n",
       "Black             11.0                      58.0         NaN   \n",
       "Latino             8.0                      38.0         3.0   \n",
       "Unknown            NaN                       NaN         1.0   \n",
       "White             26.0                      22.0        14.0   \n",
       "\n",
       "Department   El Paso Police Department  Fort Worth PD  \\\n",
       "SubjectRace                                             \n",
       "Asian                              NaN            NaN   \n",
       "Black                              1.0           15.0   \n",
       "Latino                             1.0            6.0   \n",
       "Unknown                            NaN            2.0   \n",
       "White                              1.0           23.0   \n",
       "\n",
       "Department   Houston Police Department  San Antonio PD  \\\n",
       "SubjectRace                                              \n",
       "Asian                              4.0             NaN   \n",
       "Black                            163.0            14.0   \n",
       "Latino                            81.0            26.0   \n",
       "Unknown                           30.0            14.0   \n",
       "White                             34.0            24.0   \n",
       "\n",
       "Department   San Antonio Police Department  San Antonio Police Dept  \n",
       "SubjectRace                                                          \n",
       "Asian                                  NaN                      NaN  \n",
       "Black                                  1.0                      1.0  \n",
       "Latino                                10.0                      NaN  \n",
       "Unknown                                NaN                      NaN  \n",
       "White                                  NaN                      2.0  "
      ]
     },
     "execution_count": 36,
     "metadata": {},
     "output_type": "execute_result"
    }
   ],
   "source": [
    "race.rename({'A': 'Asian', 'B':'Black', 'L':'Latino', 'U':'Unknown', 'W':'White'}, inplace=True)\n",
    "race"
   ]
  },
  {
   "cell_type": "code",
   "execution_count": 37,
   "metadata": {},
   "outputs": [
    {
     "data": {
      "image/png": "[encoded data removed]",
      "text/plain": [
       "<matplotlib.figure.Figure at 0x1f73ab0d9b0>"
      ]
     },
     "metadata": {},
     "output_type": "display_data"
    }
   ],
   "source": [
    "# Pie chart of Bexar County Deaths by Ethnicity\n",
    "labels = race.index\n",
    "sizes = race['Houston Police Department']\n",
    "#explode = (0.1, 0, 0, 0)  # explode 1st slice\n",
    " \n",
    "# Plot\n",
    "plt.pie(sizes, explode= None, labels=labels, colors=Spectral8,\n",
    "        autopct='%1.1f%%', shadow=True, startangle=140)\n",
    " \n",
    "plt.axis('equal')\n",
    "plt.suptitle('Officer Involved Shooting by Houston PD, by Ethnicity, 2010-2016')\n",
    "plt.rcParams[\"figure.figsize\"] = (20,10)\n",
    "plt.show()"
   ]
  },
  {
   "cell_type": "code",
   "execution_count": 38,
   "metadata": {},
   "outputs": [
    {
     "data": {
      "text/plain": [
       "4"
      ]
     },
     "execution_count": 38,
     "metadata": {},
     "output_type": "execute_result"
    }
   ],
   "source": [
    "shoot.SubjectRace.isnull().sum()"
   ]
  },
  {
   "cell_type": "code",
   "execution_count": 39,
   "metadata": {},
   "outputs": [
    {
     "data": {
      "text/plain": [
       "147"
      ]
     },
     "execution_count": 39,
     "metadata": {},
     "output_type": "execute_result"
    }
   ],
   "source": [
    "shoot.SubjectGender.isnull().sum()"
   ]
  },
  {
   "cell_type": "code",
   "execution_count": 40,
   "metadata": {},
   "outputs": [
    {
     "data": {
      "text/plain": [
       "1    147\n",
       "Name: NumberOfSubjects, dtype: int64"
      ]
     },
     "execution_count": 40,
     "metadata": {},
     "output_type": "execute_result"
    }
   ],
   "source": [
    "gender = shoot[shoot.SubjectGender.isnull()]\n",
    "gender.NumberOfSubjects.value_counts()"
   ]
  },
  {
   "cell_type": "code",
   "execution_count": 41,
   "metadata": {},
   "outputs": [],
   "source": [
    "fatal = shoot[shoot.Fatal == 'F']\n",
    "non = shoot[shoot.Fatal == 'N']"
   ]
  },
  {
   "cell_type": "code",
   "execution_count": 42,
   "metadata": {},
   "outputs": [],
   "source": [
    "frace= fatal.SubjectRace.value_counts()\n",
    "frace.rename({'A': 'Asian', 'B':'Black', 'L':'Latino', 'U':'Unknown', 'W':'White'}, inplace=True)"
   ]
  },
  {
   "cell_type": "code",
   "execution_count": 43,
   "metadata": {},
   "outputs": [],
   "source": [
    "nrace= non.SubjectRace.value_counts()\n",
    "nrace.rename({'A': 'Asian', 'B':'Black', 'L':'Latino', 'U':'Unknown', 'W':'White'}, inplace=True)"
   ]
  },
  {
   "cell_type": "code",
   "execution_count": 44,
   "metadata": {},
   "outputs": [
    {
     "data": {
      "text/plain": [
       "Text(0.5,1,'Non-fatal Shootings by Ethnicity')"
      ]
     },
     "execution_count": 44,
     "metadata": {},
     "output_type": "execute_result"
    },
    {
     "data": {
      "image/png": "[encoded data removed]",
      "text/plain": [
       "<matplotlib.figure.Figure at 0x1f73abcf320>"
      ]
     },
     "metadata": {},
     "output_type": "display_data"
    }
   ],
   "source": [
    "f, (ax1, ax2) = plt.subplots(1, 2, sharey=True, figsize = (18,8))\n",
    "\n",
    "flabels = frace.index\n",
    "fsizes = frace\n",
    "nlabels = nrace.index\n",
    "nsizes = nrace\n",
    "\n",
    "ax1.pie(fsizes, explode= None, labels=flabels, colors=Spectral8,\n",
    "        autopct='%1.1f%%', shadow=True, startangle=140)\n",
    "#plt.axis('equal')\n",
    "ax1.set_title('Fatal Shootings by Ethnicity')\n",
    "#plt.rcParams[\"figure.figsize\"] = (20,20)\n",
    "\n",
    "ax2.pie(nsizes, explode= None, labels=nlabels, colors=Spectral8,\n",
    "        autopct='%1.1f%%', shadow=True, startangle=140)\n",
    "#plt.axis('equal')\n",
    "ax2.set_title('Non-fatal Shootings by Ethnicity')\n",
    "#plt.rcParams[\"figure.figsize\"] = (20,20)\n"
   ]
  },
  {
   "cell_type": "code",
   "execution_count": 45,
   "metadata": {
    "scrolled": true
   },
   "outputs": [
    {
     "data": {
      "text/html": [
       "<div>\n",
       "<style scoped>\n",
       "    .dataframe tbody tr th:only-of-type {\n",
       "        vertical-align: middle;\n",
       "    }\n",
       "\n",
       "    .dataframe tbody tr th {\n",
       "        vertical-align: top;\n",
       "    }\n",
       "\n",
       "    .dataframe thead th {\n",
       "        text-align: right;\n",
       "    }\n",
       "</style>\n",
       "<table border=\"1\" class=\"dataframe\">\n",
       "  <thead>\n",
       "    <tr style=\"text-align: right;\">\n",
       "      <th></th>\n",
       "      <th>Date</th>\n",
       "      <th>NumberOfSubjects</th>\n",
       "      <th>Fatal</th>\n",
       "      <th>SubjectArmed</th>\n",
       "      <th>Notes</th>\n",
       "      <th>SubjectRace</th>\n",
       "      <th>SubjectGender</th>\n",
       "      <th>SubjectAge</th>\n",
       "      <th>NatureOfStop</th>\n",
       "      <th>NumberOfShots</th>\n",
       "      <th>NumberOfOfficers</th>\n",
       "      <th>OfficerRace</th>\n",
       "      <th>OfficerGender</th>\n",
       "      <th>Department</th>\n",
       "      <th>FullNarrative</th>\n",
       "      <th>city</th>\n",
       "      <th>state</th>\n",
       "    </tr>\n",
       "  </thead>\n",
       "  <tbody>\n",
       "    <tr>\n",
       "      <th>103</th>\n",
       "      <td>9/25/2010</td>\n",
       "      <td>1</td>\n",
       "      <td>F</td>\n",
       "      <td>Y</td>\n",
       "      <td>NaN</td>\n",
       "      <td>W</td>\n",
       "      <td>M</td>\n",
       "      <td>26</td>\n",
       "      <td>Domestic Disturbance</td>\n",
       "      <td>NaN</td>\n",
       "      <td>1</td>\n",
       "      <td>H</td>\n",
       "      <td>M</td>\n",
       "      <td>Austin PD</td>\n",
       "      <td>NaN</td>\n",
       "      <td>Austin</td>\n",
       "      <td>TX</td>\n",
       "    </tr>\n",
       "    <tr>\n",
       "      <th>104</th>\n",
       "      <td>10/1/2010</td>\n",
       "      <td>1</td>\n",
       "      <td>F</td>\n",
       "      <td>Y</td>\n",
       "      <td>NaN</td>\n",
       "      <td>L</td>\n",
       "      <td>M</td>\n",
       "      <td>16</td>\n",
       "      <td>Burglary / home invasion</td>\n",
       "      <td>NaN</td>\n",
       "      <td>1</td>\n",
       "      <td>W</td>\n",
       "      <td>M</td>\n",
       "      <td>Austin PD</td>\n",
       "      <td>NaN</td>\n",
       "      <td>Austin</td>\n",
       "      <td>TX</td>\n",
       "    </tr>\n",
       "    <tr>\n",
       "      <th>105</th>\n",
       "      <td>11/2/2010</td>\n",
       "      <td>1</td>\n",
       "      <td>F</td>\n",
       "      <td>Y</td>\n",
       "      <td>NaN</td>\n",
       "      <td>A</td>\n",
       "      <td>M</td>\n",
       "      <td>26</td>\n",
       "      <td>Shots fired / shooting</td>\n",
       "      <td>NaN</td>\n",
       "      <td>2</td>\n",
       "      <td>W,W</td>\n",
       "      <td>M,M</td>\n",
       "      <td>Austin PD</td>\n",
       "      <td>NaN</td>\n",
       "      <td>Austin</td>\n",
       "      <td>TX</td>\n",
       "    </tr>\n",
       "    <tr>\n",
       "      <th>106</th>\n",
       "      <td>12/23/2010</td>\n",
       "      <td>1</td>\n",
       "      <td>F</td>\n",
       "      <td>N</td>\n",
       "      <td>Fired, knife</td>\n",
       "      <td>W</td>\n",
       "      <td>M</td>\n",
       "      <td>35</td>\n",
       "      <td>Traffic stop</td>\n",
       "      <td>NaN</td>\n",
       "      <td>1</td>\n",
       "      <td>B</td>\n",
       "      <td>M</td>\n",
       "      <td>Austin PD</td>\n",
       "      <td>NaN</td>\n",
       "      <td>Austin</td>\n",
       "      <td>TX</td>\n",
       "    </tr>\n",
       "    <tr>\n",
       "      <th>107</th>\n",
       "      <td>5/9/2011</td>\n",
       "      <td>1</td>\n",
       "      <td>F</td>\n",
       "      <td>Y</td>\n",
       "      <td>NaN</td>\n",
       "      <td>L</td>\n",
       "      <td>M</td>\n",
       "      <td>30</td>\n",
       "      <td>Shots fired / shooting</td>\n",
       "      <td>NaN</td>\n",
       "      <td>1</td>\n",
       "      <td>H</td>\n",
       "      <td>M</td>\n",
       "      <td>Austin PD</td>\n",
       "      <td>NaN</td>\n",
       "      <td>Austin</td>\n",
       "      <td>TX</td>\n",
       "    </tr>\n",
       "  </tbody>\n",
       "</table>\n",
       "</div>"
      ],
      "text/plain": [
       "           Date  NumberOfSubjects Fatal SubjectArmed         Notes  \\\n",
       "103   9/25/2010                 1     F            Y           NaN   \n",
       "104   10/1/2010                 1     F            Y           NaN   \n",
       "105   11/2/2010                 1     F            Y           NaN   \n",
       "106  12/23/2010                 1     F            N  Fired, knife   \n",
       "107    5/9/2011                 1     F            Y           NaN   \n",
       "\n",
       "    SubjectRace SubjectGender SubjectAge              NatureOfStop  \\\n",
       "103           W             M         26      Domestic Disturbance   \n",
       "104           L             M         16  Burglary / home invasion   \n",
       "105           A             M         26    Shots fired / shooting   \n",
       "106           W             M         35              Traffic stop   \n",
       "107           L             M         30    Shots fired / shooting   \n",
       "\n",
       "    NumberOfShots NumberOfOfficers OfficerRace OfficerGender Department  \\\n",
       "103           NaN                1           H             M  Austin PD   \n",
       "104           NaN                1           W             M  Austin PD   \n",
       "105           NaN                2         W,W           M,M  Austin PD   \n",
       "106           NaN                1           B             M  Austin PD   \n",
       "107           NaN                1           H             M  Austin PD   \n",
       "\n",
       "    FullNarrative    city state  \n",
       "103           NaN  Austin    TX  \n",
       "104           NaN  Austin    TX  \n",
       "105           NaN  Austin    TX  \n",
       "106           NaN  Austin    TX  \n",
       "107           NaN  Austin    TX  "
      ]
     },
     "execution_count": 45,
     "metadata": {},
     "output_type": "execute_result"
    }
   ],
   "source": [
    "shoot.head()"
   ]
  },
  {
   "cell_type": "code",
   "execution_count": 46,
   "metadata": {},
   "outputs": [],
   "source": [
    "armed = shoot[shoot.SubjectArmed == 'Y']\n",
    "notarmed= shoot[shoot.SubjectArmed == 'N']"
   ]
  },
  {
   "cell_type": "code",
   "execution_count": 47,
   "metadata": {},
   "outputs": [
    {
     "data": {
      "text/plain": [
       "N    193\n",
       "F    123\n",
       "U      7\n",
       "Name: Fatal, dtype: int64"
      ]
     },
     "execution_count": 47,
     "metadata": {},
     "output_type": "execute_result"
    }
   ],
   "source": [
    "armed.Fatal.value_counts()"
   ]
  },
  {
   "cell_type": "code",
   "execution_count": 48,
   "metadata": {},
   "outputs": [
    {
     "data": {
      "text/plain": [
       "N    218\n",
       "F     83\n",
       "U      3\n",
       "Name: Fatal, dtype: int64"
      ]
     },
     "execution_count": 48,
     "metadata": {},
     "output_type": "execute_result"
    }
   ],
   "source": [
    "notarmed.Fatal.value_counts()"
   ]
  },
  {
   "cell_type": "code",
   "execution_count": 49,
   "metadata": {
    "scrolled": false
   },
   "outputs": [
    {
     "data": {
      "text/plain": [
       "N    420\n",
       "F    208\n",
       "U     12\n",
       "Name: Fatal, dtype: int64"
      ]
     },
     "execution_count": 49,
     "metadata": {},
     "output_type": "execute_result"
    }
   ],
   "source": [
    "shoot.Fatal.value_counts()"
   ]
  },
  {
   "cell_type": "code",
   "execution_count": 50,
   "metadata": {
    "scrolled": true
   },
   "outputs": [
    {
     "data": {
      "text/html": [
       "<div>\n",
       "<style scoped>\n",
       "    .dataframe tbody tr th:only-of-type {\n",
       "        vertical-align: middle;\n",
       "    }\n",
       "\n",
       "    .dataframe tbody tr th {\n",
       "        vertical-align: top;\n",
       "    }\n",
       "\n",
       "    .dataframe thead th {\n",
       "        text-align: right;\n",
       "    }\n",
       "</style>\n",
       "<table border=\"1\" class=\"dataframe\">\n",
       "  <thead>\n",
       "    <tr style=\"text-align: right;\">\n",
       "      <th>Fatal</th>\n",
       "      <th>F</th>\n",
       "      <th>N</th>\n",
       "      <th>U</th>\n",
       "    </tr>\n",
       "    <tr>\n",
       "      <th>SubjectRace</th>\n",
       "      <th></th>\n",
       "      <th></th>\n",
       "      <th></th>\n",
       "    </tr>\n",
       "  </thead>\n",
       "  <tbody>\n",
       "    <tr>\n",
       "      <th>Asian</th>\n",
       "      <td>1.0</td>\n",
       "      <td>5.0</td>\n",
       "      <td>NaN</td>\n",
       "    </tr>\n",
       "    <tr>\n",
       "      <th>Black</th>\n",
       "      <td>41.0</td>\n",
       "      <td>92.0</td>\n",
       "      <td>5.0</td>\n",
       "    </tr>\n",
       "    <tr>\n",
       "      <th>Latino</th>\n",
       "      <td>33.0</td>\n",
       "      <td>54.0</td>\n",
       "      <td>1.0</td>\n",
       "    </tr>\n",
       "    <tr>\n",
       "      <th>Unknown</th>\n",
       "      <td>3.0</td>\n",
       "      <td>9.0</td>\n",
       "      <td>1.0</td>\n",
       "    </tr>\n",
       "    <tr>\n",
       "      <th>White</th>\n",
       "      <td>45.0</td>\n",
       "      <td>32.0</td>\n",
       "      <td>NaN</td>\n",
       "    </tr>\n",
       "  </tbody>\n",
       "</table>\n",
       "</div>"
      ],
      "text/plain": [
       "Fatal           F     N    U\n",
       "SubjectRace                 \n",
       "Asian         1.0   5.0  NaN\n",
       "Black        41.0  92.0  5.0\n",
       "Latino       33.0  54.0  1.0\n",
       "Unknown       3.0   9.0  1.0\n",
       "White        45.0  32.0  NaN"
      ]
     },
     "execution_count": 50,
     "metadata": {},
     "output_type": "execute_result"
    }
   ],
   "source": [
    "armfatal = armed.groupby('SubjectRace')['Fatal'].value_counts().unstack()\n",
    "armfatal.rename({'A': 'Asian', 'B':'Black', 'L':'Latino', 'U':'Unknown', 'W':'White'}, inplace=True)\n",
    "armfatal"
   ]
  },
  {
   "cell_type": "code",
   "execution_count": 51,
   "metadata": {},
   "outputs": [],
   "source": [
    "notarmfatal = notarmed.groupby('SubjectRace')['Fatal'].value_counts().unstack()\n",
    "notarmfatal.rename({'A': 'Asian', 'B':'Black', 'L':'Latino', 'U':'Unknown', 'W':'White'}, inplace=True)"
   ]
  },
  {
   "cell_type": "code",
   "execution_count": 52,
   "metadata": {
    "scrolled": false
   },
   "outputs": [
    {
     "data": {
      "text/plain": [
       "Text(0.5,1,'Non-fatal Shootings of Armed Subjects')"
      ]
     },
     "execution_count": 52,
     "metadata": {},
     "output_type": "execute_result"
    },
    {
     "data": {
      "image/png": "[encoded data removed]",
      "text/plain": [
       "<matplotlib.figure.Figure at 0x1f73abcf0b8>"
      ]
     },
     "metadata": {},
     "output_type": "display_data"
    }
   ],
   "source": [
    "f, (ax1, ax2) = plt.subplots(1, 2, sharey=True, figsize = (18,8))\n",
    "\n",
    "alabels = armfatal.index\n",
    "asizes = armfatal.F\n",
    "ntlabels = armfatal.index\n",
    "ntsizes = armfatal.N\n",
    "\n",
    "ax1.pie(asizes, explode= None, labels=alabels, colors=Spectral8,\n",
    "        autopct='%1.1f%%', shadow=True, startangle=140)\n",
    "ax1.set_title('Fatal Shootings of Armed Subjects')\n",
    "\n",
    "ax2.pie(ntsizes, explode= None, labels=ntlabels, colors=Spectral8,\n",
    "        autopct='%1.1f%%', shadow=True, startangle=140)\n",
    "ax2.set_title('Non-fatal Shootings of Armed Subjects')"
   ]
  },
  {
   "cell_type": "code",
   "execution_count": 53,
   "metadata": {
    "scrolled": false
   },
   "outputs": [
    {
     "data": {
      "text/plain": [
       "Text(0.5,1,'Non-fatal Shootings of Unarmed Subjects')"
      ]
     },
     "execution_count": 53,
     "metadata": {},
     "output_type": "execute_result"
    },
    {
     "data": {
      "image/png": "[encoded data removed]",
      "text/plain": [
       "<matplotlib.figure.Figure at 0x1f73acd5c88>"
      ]
     },
     "metadata": {},
     "output_type": "display_data"
    }
   ],
   "source": [
    "f, (ax1, ax2) = plt.subplots(1, 2, sharey=True, figsize = (18,8))\n",
    "\n",
    "nflabels = notarmfatal.index\n",
    "nfsizes = notarmfatal.F\n",
    "nntsizes = notarmfatal.N\n",
    "\n",
    "ax1.pie(nfsizes, explode= None, labels=nflabels, colors=Spectral8,\n",
    "        autopct='%1.1f%%', shadow=True, startangle=140)\n",
    "ax1.set_title('Fatal Shootings of Unarmed Subjects')\n",
    "\n",
    "ax2.pie(ntsizes, explode= None, labels=ntlabels, colors=Spectral8,\n",
    "        autopct='%1.1f%%', shadow=True, startangle=140)\n",
    "ax2.set_title('Non-fatal Shootings of Unarmed Subjects')"
   ]
  },
  {
   "cell_type": "code",
   "execution_count": 56,
   "metadata": {
    "scrolled": true
   },
   "outputs": [],
   "source": [
    "armfat = shoot.groupby('SubjectArmed')['Fatal'].value_counts().unstack()"
   ]
  },
  {
   "cell_type": "code",
   "execution_count": 57,
   "metadata": {},
   "outputs": [],
   "source": [
    "armfat.rename({'N': 'Not Armed', 'U':'Unknown', 'Y':'Armed'}, inplace=True)"
   ]
  },
  {
   "cell_type": "code",
   "execution_count": 60,
   "metadata": {},
   "outputs": [],
   "source": [
    "armfat.rename(columns ={'F': 'Fatal', 'U':'Unknown', 'N':'Not Fatal'}, inplace=True)"
   ]
  },
  {
   "cell_type": "code",
   "execution_count": 62,
   "metadata": {},
   "outputs": [
    {
     "data": {
      "text/html": [
       "<div>\n",
       "<style scoped>\n",
       "    .dataframe tbody tr th:only-of-type {\n",
       "        vertical-align: middle;\n",
       "    }\n",
       "\n",
       "    .dataframe tbody tr th {\n",
       "        vertical-align: top;\n",
       "    }\n",
       "\n",
       "    .dataframe thead th {\n",
       "        text-align: right;\n",
       "    }\n",
       "</style>\n",
       "<table border=\"1\" class=\"dataframe\">\n",
       "  <thead>\n",
       "    <tr style=\"text-align: right;\">\n",
       "      <th>Fatal</th>\n",
       "      <th>Fatal</th>\n",
       "      <th>Not Fatal</th>\n",
       "      <th>Unknown</th>\n",
       "    </tr>\n",
       "    <tr>\n",
       "      <th>SubjectArmed</th>\n",
       "      <th></th>\n",
       "      <th></th>\n",
       "      <th></th>\n",
       "    </tr>\n",
       "  </thead>\n",
       "  <tbody>\n",
       "    <tr>\n",
       "      <th>Not Armed</th>\n",
       "      <td>83</td>\n",
       "      <td>218</td>\n",
       "      <td>3</td>\n",
       "    </tr>\n",
       "    <tr>\n",
       "      <th>Unknown</th>\n",
       "      <td>2</td>\n",
       "      <td>9</td>\n",
       "      <td>2</td>\n",
       "    </tr>\n",
       "    <tr>\n",
       "      <th>Armed</th>\n",
       "      <td>123</td>\n",
       "      <td>193</td>\n",
       "      <td>7</td>\n",
       "    </tr>\n",
       "  </tbody>\n",
       "</table>\n",
       "</div>"
      ],
      "text/plain": [
       "Fatal         Fatal  Not Fatal  Unknown\n",
       "SubjectArmed                           \n",
       "Not Armed        83        218        3\n",
       "Unknown           2          9        2\n",
       "Armed           123        193        7"
      ]
     },
     "execution_count": 62,
     "metadata": {},
     "output_type": "execute_result"
    }
   ],
   "source": [
    "armfat"
   ]
  },
  {
   "cell_type": "code",
   "execution_count": 68,
   "metadata": {},
   "outputs": [
    {
     "data": {
      "text/plain": [
       "Index(['Fatal', 'Not Fatal', 'Unknown'], dtype='object', name='Fatal')"
      ]
     },
     "execution_count": 68,
     "metadata": {},
     "output_type": "execute_result"
    }
   ],
   "source": [
    "fatality = armfat.columns\n",
    "fatality"
   ]
  },
  {
   "cell_type": "code",
   "execution_count": 78,
   "metadata": {},
   "outputs": [
    {
     "data": {
      "text/html": [
       "\n",
       "<div class=\"bk-root\">\n",
       "    <div class=\"bk-plotdiv\" id=\"1f493482-93da-473e-b5a2-0b45dd66b0dc\"></div>\n",
       "</div>"
      ]
     },
     "metadata": {},
     "output_type": "display_data"
    },
    {
     "data": {
      "application/javascript": [
       "(function(root) {\n",
       "  function embed_document(root) {\n",
       "    \n",
       "  var docs_json = {\"ba282b4b-49b1-4c7e-83b8-d70adf6583d6\":{\"roots\":{\"references\":[{\"attributes\":{\"fields\":[]},\"id\":\"86505535-1b96-4d73-8942-184413f85bf7\",\"type\":\"Stack\"},{\"attributes\":{},\"id\":\"b8c221b7-5440-40a6-ac8b-66df992d9893\",\"type\":\"BasicTicker\"},{\"attributes\":{\"label\":{\"value\":\"Not Fatal\"},\"renderers\":[{\"id\":\"5418e813-244f-469c-b1f9-ec36969016dd\",\"type\":\"GlyphRenderer\"}]},\"id\":\"19d11bdf-0d7f-4d82-8c8e-75eca76bb97d\",\"type\":\"LegendItem\"},{\"attributes\":{\"fields\":[\"Fatal\"]},\"id\":\"7e22f183-6870-4961-aa13-68bfea1fd79e\",\"type\":\"Stack\"},{\"attributes\":{\"fill_alpha\":{\"value\":0.1},\"fill_color\":{\"value\":\"#1f77b4\"},\"height\":{\"value\":0.5},\"left\":{\"expr\":{\"id\":\"8fbf0f79-ee68-49b0-a531-7a260c0aea80\",\"type\":\"Stack\"}},\"line_alpha\":{\"value\":0.1},\"line_color\":{\"value\":\"#1f77b4\"},\"right\":{\"expr\":{\"id\":\"e1367781-9683-4dcf-b291-d77fceadff2c\",\"type\":\"Stack\"}},\"y\":{\"field\":\"Subject Armed\"}},\"id\":\"fa9f2725-9e50-40b8-8a55-de0d0b7f4912\",\"type\":\"HBar\"},{\"attributes\":{\"formatter\":{\"id\":\"97b25d4b-c440-4299-bd65-2571a71440bf\",\"type\":\"CategoricalTickFormatter\"},\"minor_tick_line_color\":{\"value\":null},\"plot\":{\"id\":\"044acb1a-0aee-48c2-a26e-0b7be3bd6e27\",\"subtype\":\"Figure\",\"type\":\"Plot\"},\"ticker\":{\"id\":\"258a7705-7609-4ddc-8237-ab9d34ba7b0a\",\"type\":\"CategoricalTicker\"}},\"id\":\"bce477d0-8a7b-4e6e-a812-cb8c45324d81\",\"type\":\"CategoricalAxis\"},{\"attributes\":{},\"id\":\"258a7705-7609-4ddc-8237-ab9d34ba7b0a\",\"type\":\"CategoricalTicker\"},{\"attributes\":{\"data_source\":{\"id\":\"80804947-48bb-46e2-ba7e-40b1e61e4b88\",\"type\":\"ColumnDataSource\"},\"glyph\":{\"id\":\"b41e9189-77df-4e5e-a894-06dc346340d5\",\"type\":\"HBar\"},\"hover_glyph\":null,\"muted_glyph\":null,\"nonselection_glyph\":{\"id\":\"fa9f2725-9e50-40b8-8a55-de0d0b7f4912\",\"type\":\"HBar\"},\"selection_glyph\":null,\"view\":{\"id\":\"df58bc65-9369-43ee-bc88-be2d95453be7\",\"type\":\"CDSView\"}},\"id\":\"49d63c9c-37b7-4915-a863-fc7d2c4787a5\",\"type\":\"GlyphRenderer\"},{\"attributes\":{\"grid_line_color\":{\"value\":null},\"plot\":{\"id\":\"044acb1a-0aee-48c2-a26e-0b7be3bd6e27\",\"subtype\":\"Figure\",\"type\":\"Plot\"},\"ticker\":{\"id\":\"b8c221b7-5440-40a6-ac8b-66df992d9893\",\"type\":\"BasicTicker\"}},\"id\":\"723e2f46-f27b-4bae-b728-687cfe113acb\",\"type\":\"Grid\"},{\"attributes\":{\"source\":{\"id\":\"80804947-48bb-46e2-ba7e-40b1e61e4b88\",\"type\":\"ColumnDataSource\"}},\"id\":\"a385090f-3a18-4412-8545-211424911fca\",\"type\":\"CDSView\"},{\"attributes\":{\"items\":[{\"id\":\"3051e295-c27a-4535-8a07-513215dd3ebd\",\"type\":\"LegendItem\"},{\"id\":\"19d11bdf-0d7f-4d82-8c8e-75eca76bb97d\",\"type\":\"LegendItem\"},{\"id\":\"e0eaa190-a520-4bc9-b0b0-aba8ab17adb8\",\"type\":\"LegendItem\"}],\"plot\":{\"id\":\"044acb1a-0aee-48c2-a26e-0b7be3bd6e27\",\"subtype\":\"Figure\",\"type\":\"Plot\"}},\"id\":\"dc558a41-27d9-4691-9eaa-f440aec28026\",\"type\":\"Legend\"},{\"attributes\":{},\"id\":\"bf59a190-a45e-43c9-83a1-420c9a4746d8\",\"type\":\"LinearScale\"},{\"attributes\":{\"label\":{\"value\":\"Fatal\"},\"renderers\":[{\"id\":\"bb69ca45-7dae-4e14-bd54-7bff634a1628\",\"type\":\"GlyphRenderer\"}]},\"id\":\"3051e295-c27a-4535-8a07-513215dd3ebd\",\"type\":\"LegendItem\"},{\"attributes\":{\"callback\":null,\"column_names\":[\"Subject Armed\",\"Fatal\",\"Not Fatal\",\"Unknown\"],\"data\":{\"Fatal\":[83,2,123],\"Not Fatal\":[218,9,193],\"Subject Armed\":[\"Not Armed\",\"Unknown\",\"Armed\"],\"Unknown\":[3,2,7]}},\"id\":\"80804947-48bb-46e2-ba7e-40b1e61e4b88\",\"type\":\"ColumnDataSource\"},{\"attributes\":{\"plot\":null,\"text\":\"Officer Involved Shooting by Fatality and Armed Subject\"},\"id\":\"01a35eac-271e-41da-b662-b602206c56f0\",\"type\":\"Title\"},{\"attributes\":{\"label\":{\"value\":\"Unknown\"},\"renderers\":[{\"id\":\"49d63c9c-37b7-4915-a863-fc7d2c4787a5\",\"type\":\"GlyphRenderer\"}]},\"id\":\"e0eaa190-a520-4bc9-b0b0-aba8ab17adb8\",\"type\":\"LegendItem\"},{\"attributes\":{\"callback\":null,\"factors\":[\"Not Armed\",\"Unknown\",\"Armed\"],\"range_padding\":0.1},\"id\":\"11869ab6-299e-49c6-84c0-4e2944199aa0\",\"type\":\"FactorRange\"},{\"attributes\":{\"source\":{\"id\":\"80804947-48bb-46e2-ba7e-40b1e61e4b88\",\"type\":\"ColumnDataSource\"}},\"id\":\"1391d4e0-93a8-4736-894d-224cc2209061\",\"type\":\"CDSView\"},{\"attributes\":{\"fill_color\":{\"value\":\"#fc8d59\"},\"height\":{\"value\":0.5},\"left\":{\"expr\":{\"id\":\"8fbf0f79-ee68-49b0-a531-7a260c0aea80\",\"type\":\"Stack\"}},\"line_color\":{\"value\":\"#fc8d59\"},\"right\":{\"expr\":{\"id\":\"e1367781-9683-4dcf-b291-d77fceadff2c\",\"type\":\"Stack\"}},\"y\":{\"field\":\"Subject Armed\"}},\"id\":\"b41e9189-77df-4e5e-a894-06dc346340d5\",\"type\":\"HBar\"},{\"attributes\":{\"data_source\":{\"id\":\"80804947-48bb-46e2-ba7e-40b1e61e4b88\",\"type\":\"ColumnDataSource\"},\"glyph\":{\"id\":\"8ddc5c52-a66b-4fcd-8f34-b7e42ff6a35d\",\"type\":\"HBar\"},\"hover_glyph\":null,\"muted_glyph\":null,\"nonselection_glyph\":{\"id\":\"d04e35cf-31e3-489d-9d0a-e9e101a8b751\",\"type\":\"HBar\"},\"selection_glyph\":null,\"view\":{\"id\":\"a385090f-3a18-4412-8545-211424911fca\",\"type\":\"CDSView\"}},\"id\":\"5418e813-244f-469c-b1f9-ec36969016dd\",\"type\":\"GlyphRenderer\"},{\"attributes\":{\"fill_color\":{\"value\":\"#ffffbf\"},\"height\":{\"value\":0.5},\"left\":{\"expr\":{\"id\":\"7e22f183-6870-4961-aa13-68bfea1fd79e\",\"type\":\"Stack\"}},\"line_color\":{\"value\":\"#ffffbf\"},\"right\":{\"expr\":{\"id\":\"2054f8d2-27fa-4f99-aaa9-9df9e111c137\",\"type\":\"Stack\"}},\"y\":{\"field\":\"Subject Armed\"}},\"id\":\"8ddc5c52-a66b-4fcd-8f34-b7e42ff6a35d\",\"type\":\"HBar\"},{\"attributes\":{\"below\":[{\"id\":\"acc7813e-5a13-47cc-81d6-0972cf861839\",\"type\":\"LinearAxis\"}],\"left\":[{\"id\":\"bce477d0-8a7b-4e6e-a812-cb8c45324d81\",\"type\":\"CategoricalAxis\"}],\"outline_line_color\":{\"value\":null},\"plot_height\":300,\"plot_width\":900,\"renderers\":[{\"id\":\"acc7813e-5a13-47cc-81d6-0972cf861839\",\"type\":\"LinearAxis\"},{\"id\":\"723e2f46-f27b-4bae-b728-687cfe113acb\",\"type\":\"Grid\"},{\"id\":\"bce477d0-8a7b-4e6e-a812-cb8c45324d81\",\"type\":\"CategoricalAxis\"},{\"id\":\"8dccb7d7-8eef-4810-80bd-dae5ec6fa5c5\",\"type\":\"Grid\"},{\"id\":\"dc558a41-27d9-4691-9eaa-f440aec28026\",\"type\":\"Legend\"},{\"id\":\"bb69ca45-7dae-4e14-bd54-7bff634a1628\",\"type\":\"GlyphRenderer\"},{\"id\":\"5418e813-244f-469c-b1f9-ec36969016dd\",\"type\":\"GlyphRenderer\"},{\"id\":\"49d63c9c-37b7-4915-a863-fc7d2c4787a5\",\"type\":\"GlyphRenderer\"}],\"title\":{\"id\":\"01a35eac-271e-41da-b662-b602206c56f0\",\"type\":\"Title\"},\"toolbar\":{\"id\":\"8d845cbb-af8d-4c9a-a3e0-1317ac4f2814\",\"type\":\"Toolbar\"},\"toolbar_location\":null,\"x_range\":{\"id\":\"893bddde-becb-4506-a20f-4b51921b101a\",\"type\":\"DataRange1d\"},\"x_scale\":{\"id\":\"bf59a190-a45e-43c9-83a1-420c9a4746d8\",\"type\":\"LinearScale\"},\"y_range\":{\"id\":\"11869ab6-299e-49c6-84c0-4e2944199aa0\",\"type\":\"FactorRange\"},\"y_scale\":{\"id\":\"c35bdf86-7ccf-4c22-9f25-d608b459c37c\",\"type\":\"CategoricalScale\"}},\"id\":\"044acb1a-0aee-48c2-a26e-0b7be3bd6e27\",\"subtype\":\"Figure\",\"type\":\"Plot\"},{\"attributes\":{\"callback\":null,\"end\":500,\"start\":0},\"id\":\"893bddde-becb-4506-a20f-4b51921b101a\",\"type\":\"DataRange1d\"},{\"attributes\":{\"axis_label\":\"Number of Incidents\",\"formatter\":{\"id\":\"0d07c50e-15ca-4ac6-a7ad-2e8add07848c\",\"type\":\"BasicTickFormatter\"},\"minor_tick_line_color\":{\"value\":null},\"plot\":{\"id\":\"044acb1a-0aee-48c2-a26e-0b7be3bd6e27\",\"subtype\":\"Figure\",\"type\":\"Plot\"},\"ticker\":{\"id\":\"b8c221b7-5440-40a6-ac8b-66df992d9893\",\"type\":\"BasicTicker\"}},\"id\":\"acc7813e-5a13-47cc-81d6-0972cf861839\",\"type\":\"LinearAxis\"},{\"attributes\":{\"fill_alpha\":{\"value\":0.1},\"fill_color\":{\"value\":\"#1f77b4\"},\"height\":{\"value\":0.5},\"left\":{\"expr\":{\"id\":\"86505535-1b96-4d73-8942-184413f85bf7\",\"type\":\"Stack\"}},\"line_alpha\":{\"value\":0.1},\"line_color\":{\"value\":\"#1f77b4\"},\"right\":{\"expr\":{\"id\":\"b318d9ef-dc78-43ca-aafa-9a1783160adf\",\"type\":\"Stack\"}},\"y\":{\"field\":\"Subject Armed\"}},\"id\":\"6bb34931-3875-4376-b246-b1230e9dcb7c\",\"type\":\"HBar\"},{\"attributes\":{\"fill_alpha\":{\"value\":0.1},\"fill_color\":{\"value\":\"#1f77b4\"},\"height\":{\"value\":0.5},\"left\":{\"expr\":{\"id\":\"7e22f183-6870-4961-aa13-68bfea1fd79e\",\"type\":\"Stack\"}},\"line_alpha\":{\"value\":0.1},\"line_color\":{\"value\":\"#1f77b4\"},\"right\":{\"expr\":{\"id\":\"2054f8d2-27fa-4f99-aaa9-9df9e111c137\",\"type\":\"Stack\"}},\"y\":{\"field\":\"Subject Armed\"}},\"id\":\"d04e35cf-31e3-489d-9d0a-e9e101a8b751\",\"type\":\"HBar\"},{\"attributes\":{\"fields\":[\"Fatal\",\"Not Fatal\"]},\"id\":\"8fbf0f79-ee68-49b0-a531-7a260c0aea80\",\"type\":\"Stack\"},{\"attributes\":{},\"id\":\"0d07c50e-15ca-4ac6-a7ad-2e8add07848c\",\"type\":\"BasicTickFormatter\"},{\"attributes\":{\"source\":{\"id\":\"80804947-48bb-46e2-ba7e-40b1e61e4b88\",\"type\":\"ColumnDataSource\"}},\"id\":\"df58bc65-9369-43ee-bc88-be2d95453be7\",\"type\":\"CDSView\"},{\"attributes\":{\"fields\":[\"Fatal\",\"Not Fatal\"]},\"id\":\"2054f8d2-27fa-4f99-aaa9-9df9e111c137\",\"type\":\"Stack\"},{\"attributes\":{},\"id\":\"97b25d4b-c440-4299-bd65-2571a71440bf\",\"type\":\"CategoricalTickFormatter\"},{\"attributes\":{\"dimension\":1,\"plot\":{\"id\":\"044acb1a-0aee-48c2-a26e-0b7be3bd6e27\",\"subtype\":\"Figure\",\"type\":\"Plot\"},\"ticker\":{\"id\":\"258a7705-7609-4ddc-8237-ab9d34ba7b0a\",\"type\":\"CategoricalTicker\"}},\"id\":\"8dccb7d7-8eef-4810-80bd-dae5ec6fa5c5\",\"type\":\"Grid\"},{\"attributes\":{\"fields\":[\"Fatal\"]},\"id\":\"b318d9ef-dc78-43ca-aafa-9a1783160adf\",\"type\":\"Stack\"},{\"attributes\":{},\"id\":\"c35bdf86-7ccf-4c22-9f25-d608b459c37c\",\"type\":\"CategoricalScale\"},{\"attributes\":{\"fill_color\":{\"value\":\"#99d594\"},\"height\":{\"value\":0.5},\"left\":{\"expr\":{\"id\":\"86505535-1b96-4d73-8942-184413f85bf7\",\"type\":\"Stack\"}},\"line_color\":{\"value\":\"#99d594\"},\"right\":{\"expr\":{\"id\":\"b318d9ef-dc78-43ca-aafa-9a1783160adf\",\"type\":\"Stack\"}},\"y\":{\"field\":\"Subject Armed\"}},\"id\":\"bc1854a1-fa59-4ed6-bb9e-9fc92d42e6d2\",\"type\":\"HBar\"},{\"attributes\":{\"active_drag\":\"auto\",\"active_inspect\":\"auto\",\"active_scroll\":\"auto\",\"active_tap\":\"auto\"},\"id\":\"8d845cbb-af8d-4c9a-a3e0-1317ac4f2814\",\"type\":\"Toolbar\"},{\"attributes\":{\"fields\":[\"Fatal\",\"Not Fatal\",\"Unknown\"]},\"id\":\"e1367781-9683-4dcf-b291-d77fceadff2c\",\"type\":\"Stack\"},{\"attributes\":{\"data_source\":{\"id\":\"80804947-48bb-46e2-ba7e-40b1e61e4b88\",\"type\":\"ColumnDataSource\"},\"glyph\":{\"id\":\"bc1854a1-fa59-4ed6-bb9e-9fc92d42e6d2\",\"type\":\"HBar\"},\"hover_glyph\":null,\"muted_glyph\":null,\"nonselection_glyph\":{\"id\":\"6bb34931-3875-4376-b246-b1230e9dcb7c\",\"type\":\"HBar\"},\"selection_glyph\":null,\"view\":{\"id\":\"1391d4e0-93a8-4736-894d-224cc2209061\",\"type\":\"CDSView\"}},\"id\":\"bb69ca45-7dae-4e14-bd54-7bff634a1628\",\"type\":\"GlyphRenderer\"}],\"root_ids\":[\"044acb1a-0aee-48c2-a26e-0b7be3bd6e27\"]},\"title\":\"Bokeh Application\",\"version\":\"0.12.13\"}};\n",
       "  var render_items = [{\"docid\":\"ba282b4b-49b1-4c7e-83b8-d70adf6583d6\",\"elementid\":\"1f493482-93da-473e-b5a2-0b45dd66b0dc\",\"modelid\":\"044acb1a-0aee-48c2-a26e-0b7be3bd6e27\"}];\n",
       "  root.Bokeh.embed.embed_items_notebook(docs_json, render_items);\n",
       "\n",
       "  }\n",
       "  if (root.Bokeh !== undefined) {\n",
       "    embed_document(root);\n",
       "  } else {\n",
       "    var attempts = 0;\n",
       "    var timer = setInterval(function(root) {\n",
       "      if (root.Bokeh !== undefined) {\n",
       "        embed_document(root);\n",
       "        clearInterval(timer);\n",
       "      }\n",
       "      attempts++;\n",
       "      if (attempts > 100) {\n",
       "        console.log(\"Bokeh: ERROR: Unable to run BokehJS code because BokehJS library is missing\")\n",
       "        clearInterval(timer);\n",
       "      }\n",
       "    }, 10, root)\n",
       "  }\n",
       "})(window);"
      ],
      "application/vnd.bokehjs_exec.v0+json": ""
     },
     "metadata": {
      "application/vnd.bokehjs_exec.v0+json": {
       "id": "044acb1a-0aee-48c2-a26e-0b7be3bd6e27"
      }
     },
     "output_type": "display_data"
    }
   ],
   "source": [
    "#stacked horizontal bar graph showing Officer involved shootings Fatality vs Subject Armed\n",
    "data= {'Subject Armed': list(armfat.index), 'Fatal' : armfat['Fatal'].values, \n",
    "       'Not Fatal': armfat['Not Fatal'].values,  'Unknown':armfat['Unknown'].values}\n",
    "\n",
    "source = ColumnDataSource(data=data)\n",
    "\n",
    "s = figure(y_range= data['Subject Armed'], plot_height=300,plot_width=900, title=\"Officer Involved Shooting by Fatality and Armed Subject\",x_axis_label='Number of Incidents',\n",
    "           toolbar_location=None, tools=\"\")\n",
    "\n",
    "\n",
    "s.hbar_stack(fatality, y= 'Subject Armed', height=0.5, color=Spectral3, source=source,\n",
    "             legend=[value(x) for x in fatality])\n",
    "\n",
    "s.x_range.start = 0\n",
    "s.x_range.end = 500\n",
    "s.y_range.range_padding = 0.1\n",
    "s.xgrid.grid_line_color = None\n",
    "s.axis.minor_tick_line_color = None\n",
    "s.outline_line_color = None\n",
    "s.legend.location = \"top_right\"\n",
    "s.legend.orientation = \"vertical\"\n",
    "\n",
    "show(s)\n"
   ]
  },
  {
   "cell_type": "code",
   "execution_count": 104,
   "metadata": {},
   "outputs": [],
   "source": [
    "unarmed = shoot[shoot.SubjectArmed == 'N']\n",
    "racedict ={'A': 'Asian', 'B':'Black', 'L':'Latino', 'U':'Unknown', 'W':'White'} \n",
    "unarmed = unarmed.replace({\"SubjectRace\": racedict})"
   ]
  },
  {
   "cell_type": "code",
   "execution_count": 107,
   "metadata": {},
   "outputs": [],
   "source": [
    "armed = shoot[shoot.SubjectArmed == 'Y']\n",
    "armed = armed.replace({\"SubjectRace\": racedict})"
   ]
  },
  {
   "cell_type": "code",
   "execution_count": 114,
   "metadata": {},
   "outputs": [
    {
     "data": {
      "text/plain": [
       "Text(0,0.5,'Number of Incidents')"
      ]
     },
     "execution_count": 114,
     "metadata": {},
     "output_type": "execute_result"
    },
    {
     "data": {
      "image/png": "[encoded data removed]",
      "text/plain": [
       "<matplotlib.figure.Figure at 0x1f73bc55278>"
      ]
     },
     "metadata": {},
     "output_type": "display_data"
    }
   ],
   "source": [
    "#bar graph of Race of Unarmed subjects\n",
    "unarmed.SubjectRace.value_counts().plot(kind ='bar',figsize=(10,8), title = 'Ethnicity of Unarmed Subjects')\n",
    "plt.ylabel('Number of Incidents')"
   ]
  },
  {
   "cell_type": "code",
   "execution_count": 123,
   "metadata": {},
   "outputs": [
    {
     "data": {
      "text/plain": [
       "Text(0,0.5,'Number of Incidents')"
      ]
     },
     "execution_count": 123,
     "metadata": {},
     "output_type": "execute_result"
    },
    {
     "data": {
      "image/png": "[encoded data removed]",
      "text/plain": [
       "<matplotlib.figure.Figure at 0x1f73e4df6a0>"
      ]
     },
     "metadata": {},
     "output_type": "display_data"
    }
   ],
   "source": [
    "#bar graph of Race of Armed vs Unarmed subjects \n",
    "x =['Black', 'Latino', 'White', 'Unknown']\n",
    "f, (ax1, ax2) = plt.subplots(1, 2, sharey=True)\n",
    "\n",
    "ax2 = armed.SubjectRace.value_counts().plot(kind ='bar')\n",
    "\n",
    "\n",
    "ax1.bar(x, unarmed.SubjectRace.value_counts())\n",
    "ax1.set_title('Ethnicity of Unarmed Subjects')\n",
    "#ax2.bar(x, armed.SubjectRace.value_counts())\n",
    "ax2.set_title('Ethnicity of Armed Subjects')\n",
    "\n",
    "\n",
    "plt.ylabel('Number of Incidents')"
   ]
  },
  {
   "cell_type": "code",
   "execution_count": null,
   "metadata": {},
   "outputs": [],
   "source": []
  }
 ],
 "metadata": {
  "kernelspec": {
   "display_name": "Python 3",
   "language": "python",
   "name": "python3"
  },
  "language_info": {
   "codemirror_mode": {
    "name": "ipython",
    "version": 3
   },
   "file_extension": ".py",
   "mimetype": "text/x-python",
   "name": "python",
   "nbconvert_exporter": "python",
   "pygments_lexer": "ipython3",
   "version": "3.6.3"
  }
 },
 "nbformat": 4,
 "nbformat_minor": 2
}
