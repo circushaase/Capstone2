{
 "cells": [
  {
   "cell_type": "code",
   "execution_count": 1,
   "metadata": {},
   "outputs": [
    {
     "data": {
      "text/html": [
       "\n",
       "    <div class=\"bk-root\">\n",
       "        <a href=\"https://bokeh.pydata.org\" target=\"_blank\" class=\"bk-logo bk-logo-small bk-logo-notebook\"></a>\n",
       "        <span id=\"a69d337a-8d10-4e43-9528-38c23166dbce\">Loading BokehJS ...</span>\n",
       "    </div>"
      ]
     },
     "metadata": {},
     "output_type": "display_data"
    },
    {
     "data": {
      "application/javascript": [
       "\n",
       "(function(root) {\n",
       "  function now() {\n",
       "    return new Date();\n",
       "  }\n",
       "\n",
       "  var force = true;\n",
       "\n",
       "  if (typeof (root._bokeh_onload_callbacks) === \"undefined\" || force === true) {\n",
       "    root._bokeh_onload_callbacks = [];\n",
       "    root._bokeh_is_loading = undefined;\n",
       "  }\n",
       "\n",
       "  var JS_MIME_TYPE = 'application/javascript';\n",
       "  var HTML_MIME_TYPE = 'text/html';\n",
       "  var EXEC_MIME_TYPE = 'application/vnd.bokehjs_exec.v0+json';\n",
       "  var CLASS_NAME = 'output_bokeh rendered_html';\n",
       "\n",
       "  /**\n",
       "   * Render data to the DOM node\n",
       "   */\n",
       "  function render(props, node) {\n",
       "    var script = document.createElement(\"script\");\n",
       "    node.appendChild(script);\n",
       "  }\n",
       "\n",
       "  /**\n",
       "   * Handle when an output is cleared or removed\n",
       "   */\n",
       "  function handleClearOutput(event, handle) {\n",
       "    var cell = handle.cell;\n",
       "\n",
       "    var id = cell.output_area._bokeh_element_id;\n",
       "    var server_id = cell.output_area._bokeh_server_id;\n",
       "    // Clean up Bokeh references\n",
       "    if (id !== undefined) {\n",
       "      Bokeh.index[id].model.document.clear();\n",
       "      delete Bokeh.index[id];\n",
       "    }\n",
       "\n",
       "    if (server_id !== undefined) {\n",
       "      // Clean up Bokeh references\n",
       "      var cmd = \"from bokeh.io.state import curstate; print(curstate().uuid_to_server['\" + server_id + \"'].get_sessions()[0].document.roots[0]._id)\";\n",
       "      cell.notebook.kernel.execute(cmd, {\n",
       "        iopub: {\n",
       "          output: function(msg) {\n",
       "            var element_id = msg.content.text.trim();\n",
       "            Bokeh.index[element_id].model.document.clear();\n",
       "            delete Bokeh.index[element_id];\n",
       "          }\n",
       "        }\n",
       "      });\n",
       "      // Destroy server and session\n",
       "      var cmd = \"import bokeh.io.notebook as ion; ion.destroy_server('\" + server_id + \"')\";\n",
       "      cell.notebook.kernel.execute(cmd);\n",
       "    }\n",
       "  }\n",
       "\n",
       "  /**\n",
       "   * Handle when a new output is added\n",
       "   */\n",
       "  function handleAddOutput(event, handle) {\n",
       "    var output_area = handle.output_area;\n",
       "    var output = handle.output;\n",
       "\n",
       "    // limit handleAddOutput to display_data with EXEC_MIME_TYPE content only\n",
       "    if ((output.output_type != \"display_data\") || (!output.data.hasOwnProperty(EXEC_MIME_TYPE))) {\n",
       "      return\n",
       "    }\n",
       "\n",
       "    var toinsert = output_area.element.find(\".\" + CLASS_NAME.split(' ')[0]);\n",
       "\n",
       "    if (output.metadata[EXEC_MIME_TYPE][\"id\"] !== undefined) {\n",
       "      toinsert[0].firstChild.textContent = output.data[JS_MIME_TYPE];\n",
       "      // store reference to embed id on output_area\n",
       "      output_area._bokeh_element_id = output.metadata[EXEC_MIME_TYPE][\"id\"];\n",
       "    }\n",
       "    if (output.metadata[EXEC_MIME_TYPE][\"server_id\"] !== undefined) {\n",
       "      var bk_div = document.createElement(\"div\");\n",
       "      bk_div.innerHTML = output.data[HTML_MIME_TYPE];\n",
       "      var script_attrs = bk_div.children[0].attributes;\n",
       "      for (var i = 0; i < script_attrs.length; i++) {\n",
       "        toinsert[0].firstChild.setAttribute(script_attrs[i].name, script_attrs[i].value);\n",
       "      }\n",
       "      // store reference to server id on output_area\n",
       "      output_area._bokeh_server_id = output.metadata[EXEC_MIME_TYPE][\"server_id\"];\n",
       "    }\n",
       "  }\n",
       "\n",
       "  function register_renderer(events, OutputArea) {\n",
       "\n",
       "    function append_mime(data, metadata, element) {\n",
       "      // create a DOM node to render to\n",
       "      var toinsert = this.create_output_subarea(\n",
       "        metadata,\n",
       "        CLASS_NAME,\n",
       "        EXEC_MIME_TYPE\n",
       "      );\n",
       "      this.keyboard_manager.register_events(toinsert);\n",
       "      // Render to node\n",
       "      var props = {data: data, metadata: metadata[EXEC_MIME_TYPE]};\n",
       "      render(props, toinsert[0]);\n",
       "      element.append(toinsert);\n",
       "      return toinsert\n",
       "    }\n",
       "\n",
       "    /* Handle when an output is cleared or removed */\n",
       "    events.on('clear_output.CodeCell', handleClearOutput);\n",
       "    events.on('delete.Cell', handleClearOutput);\n",
       "\n",
       "    /* Handle when a new output is added */\n",
       "    events.on('output_added.OutputArea', handleAddOutput);\n",
       "\n",
       "    /**\n",
       "     * Register the mime type and append_mime function with output_area\n",
       "     */\n",
       "    OutputArea.prototype.register_mime_type(EXEC_MIME_TYPE, append_mime, {\n",
       "      /* Is output safe? */\n",
       "      safe: true,\n",
       "      /* Index of renderer in `output_area.display_order` */\n",
       "      index: 0\n",
       "    });\n",
       "  }\n",
       "\n",
       "  // register the mime type if in Jupyter Notebook environment and previously unregistered\n",
       "  if (root.Jupyter !== undefined) {\n",
       "    var events = require('base/js/events');\n",
       "    var OutputArea = require('notebook/js/outputarea').OutputArea;\n",
       "\n",
       "    if (OutputArea.prototype.mime_types().indexOf(EXEC_MIME_TYPE) == -1) {\n",
       "      register_renderer(events, OutputArea);\n",
       "    }\n",
       "  }\n",
       "\n",
       "  \n",
       "  if (typeof (root._bokeh_timeout) === \"undefined\" || force === true) {\n",
       "    root._bokeh_timeout = Date.now() + 5000;\n",
       "    root._bokeh_failed_load = false;\n",
       "  }\n",
       "\n",
       "  var NB_LOAD_WARNING = {'data': {'text/html':\n",
       "     \"<div style='background-color: #fdd'>\\n\"+\n",
       "     \"<p>\\n\"+\n",
       "     \"BokehJS does not appear to have successfully loaded. If loading BokehJS from CDN, this \\n\"+\n",
       "     \"may be due to a slow or bad network connection. Possible fixes:\\n\"+\n",
       "     \"</p>\\n\"+\n",
       "     \"<ul>\\n\"+\n",
       "     \"<li>re-rerun `output_notebook()` to attempt to load from CDN again, or</li>\\n\"+\n",
       "     \"<li>use INLINE resources instead, as so:</li>\\n\"+\n",
       "     \"</ul>\\n\"+\n",
       "     \"<code>\\n\"+\n",
       "     \"from bokeh.resources import INLINE\\n\"+\n",
       "     \"output_notebook(resources=INLINE)\\n\"+\n",
       "     \"</code>\\n\"+\n",
       "     \"</div>\"}};\n",
       "\n",
       "  function display_loaded() {\n",
       "    var el = document.getElementById(\"a69d337a-8d10-4e43-9528-38c23166dbce\");\n",
       "    if (el != null) {\n",
       "      el.textContent = \"BokehJS is loading...\";\n",
       "    }\n",
       "    if (root.Bokeh !== undefined) {\n",
       "      if (el != null) {\n",
       "        el.textContent = \"BokehJS \" + root.Bokeh.version + \" successfully loaded.\";\n",
       "      }\n",
       "    } else if (Date.now() < root._bokeh_timeout) {\n",
       "      setTimeout(display_loaded, 100)\n",
       "    }\n",
       "  }\n",
       "\n",
       "\n",
       "  function run_callbacks() {\n",
       "    try {\n",
       "      root._bokeh_onload_callbacks.forEach(function(callback) { callback() });\n",
       "    }\n",
       "    finally {\n",
       "      delete root._bokeh_onload_callbacks\n",
       "    }\n",
       "    console.info(\"Bokeh: all callbacks have finished\");\n",
       "  }\n",
       "\n",
       "  function load_libs(js_urls, callback) {\n",
       "    root._bokeh_onload_callbacks.push(callback);\n",
       "    if (root._bokeh_is_loading > 0) {\n",
       "      console.log(\"Bokeh: BokehJS is being loaded, scheduling callback at\", now());\n",
       "      return null;\n",
       "    }\n",
       "    if (js_urls == null || js_urls.length === 0) {\n",
       "      run_callbacks();\n",
       "      return null;\n",
       "    }\n",
       "    console.log(\"Bokeh: BokehJS not loaded, scheduling load and callback at\", now());\n",
       "    root._bokeh_is_loading = js_urls.length;\n",
       "    for (var i = 0; i < js_urls.length; i++) {\n",
       "      var url = js_urls[i];\n",
       "      var s = document.createElement('script');\n",
       "      s.src = url;\n",
       "      s.async = false;\n",
       "      s.onreadystatechange = s.onload = function() {\n",
       "        root._bokeh_is_loading--;\n",
       "        if (root._bokeh_is_loading === 0) {\n",
       "          console.log(\"Bokeh: all BokehJS libraries loaded\");\n",
       "          run_callbacks()\n",
       "        }\n",
       "      };\n",
       "      s.onerror = function() {\n",
       "        console.warn(\"failed to load library \" + url);\n",
       "      };\n",
       "      console.log(\"Bokeh: injecting script tag for BokehJS library: \", url);\n",
       "      document.getElementsByTagName(\"head\")[0].appendChild(s);\n",
       "    }\n",
       "  };var element = document.getElementById(\"a69d337a-8d10-4e43-9528-38c23166dbce\");\n",
       "  if (element == null) {\n",
       "    console.log(\"Bokeh: ERROR: autoload.js configured with elementid 'a69d337a-8d10-4e43-9528-38c23166dbce' but no matching script tag was found. \")\n",
       "    return false;\n",
       "  }\n",
       "\n",
       "  var js_urls = [\"https://cdn.pydata.org/bokeh/release/bokeh-0.12.13.min.js\", \"https://cdn.pydata.org/bokeh/release/bokeh-widgets-0.12.13.min.js\", \"https://cdn.pydata.org/bokeh/release/bokeh-tables-0.12.13.min.js\", \"https://cdn.pydata.org/bokeh/release/bokeh-gl-0.12.13.min.js\"];\n",
       "\n",
       "  var inline_js = [\n",
       "    function(Bokeh) {\n",
       "      Bokeh.set_log_level(\"info\");\n",
       "    },\n",
       "    \n",
       "    function(Bokeh) {\n",
       "      \n",
       "    },\n",
       "    function(Bokeh) {\n",
       "      console.log(\"Bokeh: injecting CSS: https://cdn.pydata.org/bokeh/release/bokeh-0.12.13.min.css\");\n",
       "      Bokeh.embed.inject_css(\"https://cdn.pydata.org/bokeh/release/bokeh-0.12.13.min.css\");\n",
       "      console.log(\"Bokeh: injecting CSS: https://cdn.pydata.org/bokeh/release/bokeh-widgets-0.12.13.min.css\");\n",
       "      Bokeh.embed.inject_css(\"https://cdn.pydata.org/bokeh/release/bokeh-widgets-0.12.13.min.css\");\n",
       "      console.log(\"Bokeh: injecting CSS: https://cdn.pydata.org/bokeh/release/bokeh-tables-0.12.13.min.css\");\n",
       "      Bokeh.embed.inject_css(\"https://cdn.pydata.org/bokeh/release/bokeh-tables-0.12.13.min.css\");\n",
       "    }\n",
       "  ];\n",
       "\n",
       "  function run_inline_js() {\n",
       "    \n",
       "    if ((root.Bokeh !== undefined) || (force === true)) {\n",
       "      for (var i = 0; i < inline_js.length; i++) {\n",
       "        inline_js[i].call(root, root.Bokeh);\n",
       "      }if (force === true) {\n",
       "        display_loaded();\n",
       "      }} else if (Date.now() < root._bokeh_timeout) {\n",
       "      setTimeout(run_inline_js, 100);\n",
       "    } else if (!root._bokeh_failed_load) {\n",
       "      console.log(\"Bokeh: BokehJS failed to load within specified timeout.\");\n",
       "      root._bokeh_failed_load = true;\n",
       "    } else if (force !== true) {\n",
       "      var cell = $(document.getElementById(\"a69d337a-8d10-4e43-9528-38c23166dbce\")).parents('.cell').data().cell;\n",
       "      cell.output_area.append_execute_result(NB_LOAD_WARNING)\n",
       "    }\n",
       "\n",
       "  }\n",
       "\n",
       "  if (root._bokeh_is_loading === 0) {\n",
       "    console.log(\"Bokeh: BokehJS loaded, going straight to plotting\");\n",
       "    run_inline_js();\n",
       "  } else {\n",
       "    load_libs(js_urls, function() {\n",
       "      console.log(\"Bokeh: BokehJS plotting callback run at\", now());\n",
       "      run_inline_js();\n",
       "    });\n",
       "  }\n",
       "}(window));"
      ],
      "application/vnd.bokehjs_load.v0+json": "\n(function(root) {\n  function now() {\n    return new Date();\n  }\n\n  var force = true;\n\n  if (typeof (root._bokeh_onload_callbacks) === \"undefined\" || force === true) {\n    root._bokeh_onload_callbacks = [];\n    root._bokeh_is_loading = undefined;\n  }\n\n  \n\n  \n  if (typeof (root._bokeh_timeout) === \"undefined\" || force === true) {\n    root._bokeh_timeout = Date.now() + 5000;\n    root._bokeh_failed_load = false;\n  }\n\n  var NB_LOAD_WARNING = {'data': {'text/html':\n     \"<div style='background-color: #fdd'>\\n\"+\n     \"<p>\\n\"+\n     \"BokehJS does not appear to have successfully loaded. If loading BokehJS from CDN, this \\n\"+\n     \"may be due to a slow or bad network connection. Possible fixes:\\n\"+\n     \"</p>\\n\"+\n     \"<ul>\\n\"+\n     \"<li>re-rerun `output_notebook()` to attempt to load from CDN again, or</li>\\n\"+\n     \"<li>use INLINE resources instead, as so:</li>\\n\"+\n     \"</ul>\\n\"+\n     \"<code>\\n\"+\n     \"from bokeh.resources import INLINE\\n\"+\n     \"output_notebook(resources=INLINE)\\n\"+\n     \"</code>\\n\"+\n     \"</div>\"}};\n\n  function display_loaded() {\n    var el = document.getElementById(\"a69d337a-8d10-4e43-9528-38c23166dbce\");\n    if (el != null) {\n      el.textContent = \"BokehJS is loading...\";\n    }\n    if (root.Bokeh !== undefined) {\n      if (el != null) {\n        el.textContent = \"BokehJS \" + root.Bokeh.version + \" successfully loaded.\";\n      }\n    } else if (Date.now() < root._bokeh_timeout) {\n      setTimeout(display_loaded, 100)\n    }\n  }\n\n\n  function run_callbacks() {\n    try {\n      root._bokeh_onload_callbacks.forEach(function(callback) { callback() });\n    }\n    finally {\n      delete root._bokeh_onload_callbacks\n    }\n    console.info(\"Bokeh: all callbacks have finished\");\n  }\n\n  function load_libs(js_urls, callback) {\n    root._bokeh_onload_callbacks.push(callback);\n    if (root._bokeh_is_loading > 0) {\n      console.log(\"Bokeh: BokehJS is being loaded, scheduling callback at\", now());\n      return null;\n    }\n    if (js_urls == null || js_urls.length === 0) {\n      run_callbacks();\n      return null;\n    }\n    console.log(\"Bokeh: BokehJS not loaded, scheduling load and callback at\", now());\n    root._bokeh_is_loading = js_urls.length;\n    for (var i = 0; i < js_urls.length; i++) {\n      var url = js_urls[i];\n      var s = document.createElement('script');\n      s.src = url;\n      s.async = false;\n      s.onreadystatechange = s.onload = function() {\n        root._bokeh_is_loading--;\n        if (root._bokeh_is_loading === 0) {\n          console.log(\"Bokeh: all BokehJS libraries loaded\");\n          run_callbacks()\n        }\n      };\n      s.onerror = function() {\n        console.warn(\"failed to load library \" + url);\n      };\n      console.log(\"Bokeh: injecting script tag for BokehJS library: \", url);\n      document.getElementsByTagName(\"head\")[0].appendChild(s);\n    }\n  };var element = document.getElementById(\"a69d337a-8d10-4e43-9528-38c23166dbce\");\n  if (element == null) {\n    console.log(\"Bokeh: ERROR: autoload.js configured with elementid 'a69d337a-8d10-4e43-9528-38c23166dbce' but no matching script tag was found. \")\n    return false;\n  }\n\n  var js_urls = [\"https://cdn.pydata.org/bokeh/release/bokeh-0.12.13.min.js\", \"https://cdn.pydata.org/bokeh/release/bokeh-widgets-0.12.13.min.js\", \"https://cdn.pydata.org/bokeh/release/bokeh-tables-0.12.13.min.js\", \"https://cdn.pydata.org/bokeh/release/bokeh-gl-0.12.13.min.js\"];\n\n  var inline_js = [\n    function(Bokeh) {\n      Bokeh.set_log_level(\"info\");\n    },\n    \n    function(Bokeh) {\n      \n    },\n    function(Bokeh) {\n      console.log(\"Bokeh: injecting CSS: https://cdn.pydata.org/bokeh/release/bokeh-0.12.13.min.css\");\n      Bokeh.embed.inject_css(\"https://cdn.pydata.org/bokeh/release/bokeh-0.12.13.min.css\");\n      console.log(\"Bokeh: injecting CSS: https://cdn.pydata.org/bokeh/release/bokeh-widgets-0.12.13.min.css\");\n      Bokeh.embed.inject_css(\"https://cdn.pydata.org/bokeh/release/bokeh-widgets-0.12.13.min.css\");\n      console.log(\"Bokeh: injecting CSS: https://cdn.pydata.org/bokeh/release/bokeh-tables-0.12.13.min.css\");\n      Bokeh.embed.inject_css(\"https://cdn.pydata.org/bokeh/release/bokeh-tables-0.12.13.min.css\");\n    }\n  ];\n\n  function run_inline_js() {\n    \n    if ((root.Bokeh !== undefined) || (force === true)) {\n      for (var i = 0; i < inline_js.length; i++) {\n        inline_js[i].call(root, root.Bokeh);\n      }if (force === true) {\n        display_loaded();\n      }} else if (Date.now() < root._bokeh_timeout) {\n      setTimeout(run_inline_js, 100);\n    } else if (!root._bokeh_failed_load) {\n      console.log(\"Bokeh: BokehJS failed to load within specified timeout.\");\n      root._bokeh_failed_load = true;\n    } else if (force !== true) {\n      var cell = $(document.getElementById(\"a69d337a-8d10-4e43-9528-38c23166dbce\")).parents('.cell').data().cell;\n      cell.output_area.append_execute_result(NB_LOAD_WARNING)\n    }\n\n  }\n\n  if (root._bokeh_is_loading === 0) {\n    console.log(\"Bokeh: BokehJS loaded, going straight to plotting\");\n    run_inline_js();\n  } else {\n    load_libs(js_urls, function() {\n      console.log(\"Bokeh: BokehJS plotting callback run at\", now());\n      run_inline_js();\n    });\n  }\n}(window));"
     },
     "metadata": {},
     "output_type": "display_data"
    }
   ],
   "source": [
    "import pandas as pd\n",
    "import numpy as np\n",
    "#import matplotlib.pyplot as plt\n",
    "#%pylab inline\n",
    "#import seaborn as sns\n",
    "from bokeh.core.properties import value\n",
    "from bokeh.io import show, output_notebook\n",
    "from bokeh.plotting import *\n",
    "from bokeh.models import ColumnDataSource, FactorRange\n",
    "from bokeh.palettes import Spectral6, Spectral8, Category20\n",
    "from bokeh.transform import factor_cmap\n",
    "\n",
    "output_notebook()\n",
    "\n",
    "cust = pd.read_csv('custodial-deaths.csv')\n",
    "shoot = pd.read_csv('officer_shootings.csv')"
   ]
  },
  {
   "cell_type": "code",
   "execution_count": 2,
   "metadata": {},
   "outputs": [],
   "source": [
    "shoot['state'] = shoot['state'].ffill()"
   ]
  },
  {
   "cell_type": "code",
   "execution_count": 3,
   "metadata": {},
   "outputs": [],
   "source": [
    "shoot = shoot[shoot.state == 'TX']"
   ]
  },
  {
   "cell_type": "code",
   "execution_count": 4,
   "metadata": {},
   "outputs": [
    {
     "data": {
      "text/plain": [
       "440"
      ]
     },
     "execution_count": 4,
     "metadata": {},
     "output_type": "execute_result"
    }
   ],
   "source": [
    "len(cust['Department Name'].value_counts())"
   ]
  },
  {
   "cell_type": "code",
   "execution_count": 5,
   "metadata": {
    "scrolled": true
   },
   "outputs": [],
   "source": [
    "deathtype= list(cust['Manner Death'].unique())"
   ]
  },
  {
   "cell_type": "code",
   "execution_count": 6,
   "metadata": {},
   "outputs": [],
   "source": [
    "eth = list(cust['Ethnicity'].unique())"
   ]
  },
  {
   "cell_type": "code",
   "execution_count": 7,
   "metadata": {},
   "outputs": [
    {
     "data": {
      "text/plain": [
       "'\\ncreate dictionary and use to designate number values to each \"Ethnicity\"\\nethdict = {\\'Black or African American\\':1,\\'Hispanic or Latino\\':2, \\'Anglo or White\\': 3, \\'Middle East\\':4, \\'Asian\\':5, \\'Native Hawaiian/Pacific Islander\\':6, \\'American Indian/Alaska Native\\':7, \\'Other/Don\\'t Know\\':8}\\ncust[\\'race\\'] = [ ethdict[x] for x in cust[\\'Ethnicity\\'] ]\\n'"
      ]
     },
     "execution_count": 7,
     "metadata": {},
     "output_type": "execute_result"
    }
   ],
   "source": [
    "'''\n",
    "create dictionary and use to designate number values to each \"Ethnicity\"\n",
    "ethdict = {'Black or African American':1,'Hispanic or Latino':2, 'Anglo or White': 3, 'Middle East':4, 'Asian':5, 'Native Hawaiian/Pacific Islander':6, 'American Indian/Alaska Native':7, 'Other/Don\\'t Know':8}\n",
    "cust['race'] = [ ethdict[x] for x in cust['Ethnicity'] ]\n",
    "'''"
   ]
  },
  {
   "cell_type": "code",
   "execution_count": 8,
   "metadata": {},
   "outputs": [
    {
     "data": {
      "text/plain": [
       "<matplotlib.axes._subplots.AxesSubplot at 0x1ab30379cc0>"
      ]
     },
     "execution_count": 8,
     "metadata": {},
     "output_type": "execute_result"
    }
   ],
   "source": [
    "cust['Manner Death'].value_counts().plot(kind ='bar',figsize=(10,8), title = 'Manner of Death in Custody')"
   ]
  },
  {
   "cell_type": "code",
   "execution_count": 9,
   "metadata": {},
   "outputs": [
    {
     "name": "stderr",
     "output_type": "stream",
     "text": [
      "C:\\Users\\Lara\\Miniconda3\\lib\\site-packages\\bokeh\\models\\mappers.py:82: UserWarning: Palette length does not match number of factors. ['Homicide by Other', 'Accidental injury caused by others'] will be assigned to `nan_color` gray\n",
      "  warnings.warn(\"Palette length does not match number of factors. %s will be assigned to `nan_color` %s\" % (extra_factors, self.nan_color))\n"
     ]
    },
    {
     "data": {
      "text/html": [
       "\n",
       "<div class=\"bk-root\">\n",
       "    <div class=\"bk-plotdiv\" id=\"fd77e4e5-f3bd-4215-9473-ea46ae2d164c\"></div>\n",
       "</div>"
      ]
     },
     "metadata": {},
     "output_type": "display_data"
    },
    {
     "data": {
      "application/javascript": [
       "(function(root) {\n",
       "  function embed_document(root) {\n",
       "    \n",
       "  var docs_json = {\"82f7ae5f-035a-473e-9bc0-63a3d950e580\":{\"roots\":{\"references\":[{\"attributes\":{\"factors\":[\"Natural Causes/Illness\",\"Other\",\"Accidental injury to self\",\"Homicide by Law Enforcement/Correctional Staff\",\"Suicide\",\"Alcohol/Drug Intoxication\",\"Homicide by Other\",\"Accidental injury caused by others\"],\"palette\":[\"#3288bd\",\"#66c2a5\",\"#abdda4\",\"#e6f598\",\"#fee08b\",\"#fdae61\",\"#f46d43\",\"#d53e4f\"]},\"id\":\"b3f0cbbb-e444-4456-94db-f78821737bf8\",\"type\":\"CategoricalColorMapper\"},{\"attributes\":{\"label\":{\"field\":\"deathtype\"},\"renderers\":[{\"id\":\"e07f1ba2-a3f3-41e7-86f5-ce87bebef966\",\"type\":\"GlyphRenderer\"}]},\"id\":\"f2203c46-334c-4f60-9a50-9b80edbcb673\",\"type\":\"LegendItem\"},{\"attributes\":{},\"id\":\"ea81b299-645d-4f45-adc3-096b22761e0e\",\"type\":\"LinearScale\"},{\"attributes\":{\"callback\":null,\"factors\":[\"Natural Causes/Illness\",\"Other\",\"Accidental injury to self\",\"Homicide by Law Enforcement/Correctional Staff\",\"Suicide\",\"Alcohol/Drug Intoxication\",\"Homicide by Other\",\"Accidental injury caused by others\"]},\"id\":\"e6dcd033-b6f7-41b7-8e9f-8aa9b916f2b8\",\"type\":\"FactorRange\"},{\"attributes\":{},\"id\":\"c6de16c3-4455-434c-8c1c-fe655e1e6229\",\"type\":\"CategoricalScale\"},{\"attributes\":{\"data_source\":{\"id\":\"9a58e96f-c8c9-46b1-b608-7f907184c798\",\"type\":\"ColumnDataSource\"},\"glyph\":{\"id\":\"a836b950-e10f-4f05-bd79-c22e9fbc7b86\",\"type\":\"HBar\"},\"hover_glyph\":null,\"muted_glyph\":null,\"nonselection_glyph\":{\"id\":\"756d1be9-16dc-4cda-918c-c7a24da25fb5\",\"type\":\"HBar\"},\"selection_glyph\":null,\"view\":{\"id\":\"2ea4904e-ac8c-4d27-9061-f0b6425cafd8\",\"type\":\"CDSView\"}},\"id\":\"e07f1ba2-a3f3-41e7-86f5-ce87bebef966\",\"type\":\"GlyphRenderer\"},{\"attributes\":{\"formatter\":{\"id\":\"f5ef5a5a-aefe-46ce-bcbb-06cb5558ddf9\",\"type\":\"BasicTickFormatter\"},\"plot\":{\"id\":\"be5321da-4042-4c01-a1ec-b246871f9ed7\",\"subtype\":\"Figure\",\"type\":\"Plot\"},\"ticker\":{\"id\":\"da33f400-8229-4bfb-b004-07db6bc95536\",\"type\":\"BasicTicker\"}},\"id\":\"bd37d89f-083a-4940-8501-7a9e7f7b1343\",\"type\":\"LinearAxis\"},{\"attributes\":{},\"id\":\"da33f400-8229-4bfb-b004-07db6bc95536\",\"type\":\"BasicTicker\"},{\"attributes\":{\"grid_line_color\":{\"value\":null},\"plot\":{\"id\":\"be5321da-4042-4c01-a1ec-b246871f9ed7\",\"subtype\":\"Figure\",\"type\":\"Plot\"},\"ticker\":{\"id\":\"da33f400-8229-4bfb-b004-07db6bc95536\",\"type\":\"BasicTicker\"}},\"id\":\"0fef17a9-cfc9-4322-9f17-82642bff768d\",\"type\":\"Grid\"},{\"attributes\":{\"formatter\":{\"id\":\"99b5a74f-4da7-4542-993b-e6be61e5db49\",\"type\":\"CategoricalTickFormatter\"},\"plot\":{\"id\":\"be5321da-4042-4c01-a1ec-b246871f9ed7\",\"subtype\":\"Figure\",\"type\":\"Plot\"},\"ticker\":{\"id\":\"eee6736c-2231-4f60-b412-41d4e1f87350\",\"type\":\"CategoricalTicker\"}},\"id\":\"9b56c256-a475-469e-a3dc-b5c16ed8e8f0\",\"type\":\"CategoricalAxis\"},{\"attributes\":{},\"id\":\"eee6736c-2231-4f60-b412-41d4e1f87350\",\"type\":\"CategoricalTicker\"},{\"attributes\":{\"callback\":null,\"column_names\":[\"deathtype\",\"counts\"],\"data\":{\"counts\":[5266,884,844,284,203,155,72,21],\"deathtype\":[\"Natural Causes/Illness\",\"Other\",\"Accidental injury to self\",\"Homicide by Law Enforcement/Correctional Staff\",\"Suicide\",\"Alcohol/Drug Intoxication\",\"Homicide by Other\",\"Accidental injury caused by others\"]}},\"id\":\"9a58e96f-c8c9-46b1-b608-7f907184c798\",\"type\":\"ColumnDataSource\"},{\"attributes\":{\"dimension\":1,\"plot\":{\"id\":\"be5321da-4042-4c01-a1ec-b246871f9ed7\",\"subtype\":\"Figure\",\"type\":\"Plot\"},\"ticker\":{\"id\":\"eee6736c-2231-4f60-b412-41d4e1f87350\",\"type\":\"CategoricalTicker\"}},\"id\":\"fb065df8-f48b-4f54-a9b5-2d89ecf795cf\",\"type\":\"Grid\"},{\"attributes\":{\"items\":[{\"id\":\"f2203c46-334c-4f60-9a50-9b80edbcb673\",\"type\":\"LegendItem\"}],\"plot\":{\"id\":\"be5321da-4042-4c01-a1ec-b246871f9ed7\",\"subtype\":\"Figure\",\"type\":\"Plot\"}},\"id\":\"daee5571-bce6-48c0-b848-b87ae6b50de8\",\"type\":\"Legend\"},{\"attributes\":{\"fill_color\":{\"field\":\"deathtype\",\"transform\":{\"id\":\"b3f0cbbb-e444-4456-94db-f78821737bf8\",\"type\":\"CategoricalColorMapper\"}},\"height\":{\"value\":0.5},\"line_color\":{\"value\":\"white\"},\"right\":{\"field\":\"counts\"},\"y\":{\"field\":\"deathtype\"}},\"id\":\"a836b950-e10f-4f05-bd79-c22e9fbc7b86\",\"type\":\"HBar\"},{\"attributes\":{\"below\":[{\"id\":\"bd37d89f-083a-4940-8501-7a9e7f7b1343\",\"type\":\"LinearAxis\"}],\"left\":[{\"id\":\"9b56c256-a475-469e-a3dc-b5c16ed8e8f0\",\"type\":\"CategoricalAxis\"}],\"plot_height\":500,\"plot_width\":900,\"renderers\":[{\"id\":\"bd37d89f-083a-4940-8501-7a9e7f7b1343\",\"type\":\"LinearAxis\"},{\"id\":\"0fef17a9-cfc9-4322-9f17-82642bff768d\",\"type\":\"Grid\"},{\"id\":\"9b56c256-a475-469e-a3dc-b5c16ed8e8f0\",\"type\":\"CategoricalAxis\"},{\"id\":\"fb065df8-f48b-4f54-a9b5-2d89ecf795cf\",\"type\":\"Grid\"},{\"id\":\"daee5571-bce6-48c0-b848-b87ae6b50de8\",\"type\":\"Legend\"},{\"id\":\"e07f1ba2-a3f3-41e7-86f5-ce87bebef966\",\"type\":\"GlyphRenderer\"}],\"title\":{\"id\":\"9d607b62-764d-4a8d-b77a-f1e8d1ad073f\",\"type\":\"Title\"},\"toolbar\":{\"id\":\"98f48f4b-e214-4a11-b305-dd712b167cca\",\"type\":\"Toolbar\"},\"toolbar_location\":null,\"x_range\":{\"id\":\"8219fe09-d21c-49fb-b84d-bbcd7a712eef\",\"type\":\"DataRange1d\"},\"x_scale\":{\"id\":\"ea81b299-645d-4f45-adc3-096b22761e0e\",\"type\":\"LinearScale\"},\"y_range\":{\"id\":\"e6dcd033-b6f7-41b7-8e9f-8aa9b916f2b8\",\"type\":\"FactorRange\"},\"y_scale\":{\"id\":\"c6de16c3-4455-434c-8c1c-fe655e1e6229\",\"type\":\"CategoricalScale\"}},\"id\":\"be5321da-4042-4c01-a1ec-b246871f9ed7\",\"subtype\":\"Figure\",\"type\":\"Plot\"},{\"attributes\":{},\"id\":\"f5ef5a5a-aefe-46ce-bcbb-06cb5558ddf9\",\"type\":\"BasicTickFormatter\"},{\"attributes\":{\"plot\":null,\"text\":\"Manner of Death in Custody\"},\"id\":\"9d607b62-764d-4a8d-b77a-f1e8d1ad073f\",\"type\":\"Title\"},{\"attributes\":{\"fill_alpha\":{\"value\":0.1},\"fill_color\":{\"value\":\"#1f77b4\"},\"height\":{\"value\":0.5},\"line_alpha\":{\"value\":0.1},\"line_color\":{\"value\":\"#1f77b4\"},\"right\":{\"field\":\"counts\"},\"y\":{\"field\":\"deathtype\"}},\"id\":\"756d1be9-16dc-4cda-918c-c7a24da25fb5\",\"type\":\"HBar\"},{\"attributes\":{\"active_drag\":\"auto\",\"active_inspect\":\"auto\",\"active_scroll\":\"auto\",\"active_tap\":\"auto\"},\"id\":\"98f48f4b-e214-4a11-b305-dd712b167cca\",\"type\":\"Toolbar\"},{\"attributes\":{\"source\":{\"id\":\"9a58e96f-c8c9-46b1-b608-7f907184c798\",\"type\":\"ColumnDataSource\"}},\"id\":\"2ea4904e-ac8c-4d27-9061-f0b6425cafd8\",\"type\":\"CDSView\"},{\"attributes\":{\"callback\":null,\"end\":6000,\"start\":0},\"id\":\"8219fe09-d21c-49fb-b84d-bbcd7a712eef\",\"type\":\"DataRange1d\"},{\"attributes\":{},\"id\":\"99b5a74f-4da7-4542-993b-e6be61e5db49\",\"type\":\"CategoricalTickFormatter\"}],\"root_ids\":[\"be5321da-4042-4c01-a1ec-b246871f9ed7\"]},\"title\":\"Bokeh Application\",\"version\":\"0.12.13\"}};\n",
       "  var render_items = [{\"docid\":\"82f7ae5f-035a-473e-9bc0-63a3d950e580\",\"elementid\":\"fd77e4e5-f3bd-4215-9473-ea46ae2d164c\",\"modelid\":\"be5321da-4042-4c01-a1ec-b246871f9ed7\"}];\n",
       "  root.Bokeh.embed.embed_items_notebook(docs_json, render_items);\n",
       "\n",
       "  }\n",
       "  if (root.Bokeh !== undefined) {\n",
       "    embed_document(root);\n",
       "  } else {\n",
       "    var attempts = 0;\n",
       "    var timer = setInterval(function(root) {\n",
       "      if (root.Bokeh !== undefined) {\n",
       "        embed_document(root);\n",
       "        clearInterval(timer);\n",
       "      }\n",
       "      attempts++;\n",
       "      if (attempts > 100) {\n",
       "        console.log(\"Bokeh: ERROR: Unable to run BokehJS code because BokehJS library is missing\")\n",
       "        clearInterval(timer);\n",
       "      }\n",
       "    }, 10, root)\n",
       "  }\n",
       "})(window);"
      ],
      "application/vnd.bokehjs_exec.v0+json": ""
     },
     "metadata": {
      "application/vnd.bokehjs_exec.v0+json": {
       "id": "be5321da-4042-4c01-a1ec-b246871f9ed7"
      }
     },
     "output_type": "display_data"
    }
   ],
   "source": [
    "counts = cust['Manner Death'].value_counts()\n",
    "\n",
    "source = ColumnDataSource(data=dict(deathtype=deathtype, counts=counts))\n",
    "\n",
    "p = figure(y_range=deathtype, plot_height=500, plot_width=900, title=\"Manner of Death in Custody\",\n",
    "           toolbar_location=None, tools=\"\")\n",
    "\n",
    "p.hbar(y='deathtype', right='counts', height=0.5, color='color', legend=\"deathtype\", source=source, \n",
    "       line_color='white', fill_color=factor_cmap('deathtype', palette=Spectral8, factors=deathtype))\n",
    "\n",
    "factor_cmap('deathtype', palette=Spectral6, factors=deathtype)\n",
    "\n",
    "p.xgrid.grid_line_color = None\n",
    "p.x_range.start = 0\n",
    "p.x_range.end = 6000\n",
    "p.legend.orientation = \"vertical\"\n",
    "p.legend.location = \"top_right\"\n",
    "\n",
    "show(p)"
   ]
  },
  {
   "cell_type": "code",
   "execution_count": 10,
   "metadata": {
    "scrolled": true
   },
   "outputs": [
    {
     "name": "stderr",
     "output_type": "stream",
     "text": [
      "C:\\Users\\Lara\\Miniconda3\\lib\\site-packages\\bokeh\\models\\mappers.py:82: UserWarning: Palette length does not match number of factors. ['Homicide by Other', 'Accidental injury caused by others'] will be assigned to `nan_color` gray\n",
      "  warnings.warn(\"Palette length does not match number of factors. %s will be assigned to `nan_color` %s\" % (extra_factors, self.nan_color))\n"
     ]
    },
    {
     "data": {
      "text/html": [
       "\n",
       "<div class=\"bk-root\">\n",
       "    <div class=\"bk-plotdiv\" id=\"213bcbc9-05a6-49dd-be3d-3156781256c4\"></div>\n",
       "</div>"
      ]
     },
     "metadata": {},
     "output_type": "display_data"
    },
    {
     "data": {
      "application/javascript": [
       "(function(root) {\n",
       "  function embed_document(root) {\n",
       "    \n",
       "  var docs_json = {\"2f85c0a8-b879-422f-bad7-7ed3fccb87f8\":{\"roots\":{\"references\":[{\"attributes\":{\"callback\":null,\"end\":6000,\"start\":0},\"id\":\"69d2e11c-ebfc-4722-86b5-bc60dc8f88cb\",\"type\":\"DataRange1d\"},{\"attributes\":{},\"id\":\"f8b42b60-87f6-45ab-91d3-d526fb198e15\",\"type\":\"CategoricalScale\"},{\"attributes\":{\"callback\":null,\"factors\":[\"Hispanic or Latino\",\"Black or African American\",\"Anglo or White\",\"Middle East\",\"Asian\",\"Other/Don't Know\",\"Native Hawaiian/Pacific Islander\",\"American Indian/Alaska Native\"]},\"id\":\"41212dee-58a6-4a4e-b8e9-8475bf7c4a48\",\"type\":\"FactorRange\"},{\"attributes\":{\"factors\":[\"Hispanic or Latino\",\"Black or African American\",\"Anglo or White\",\"Middle East\",\"Asian\",\"Other/Don't Know\",\"Native Hawaiian/Pacific Islander\",\"American Indian/Alaska Native\"],\"palette\":[\"#3288bd\",\"#66c2a5\",\"#abdda4\",\"#e6f598\",\"#fee08b\",\"#fdae61\",\"#f46d43\",\"#d53e4f\"]},\"id\":\"9069c57a-0732-41fc-9d86-f660ec3bf543\",\"type\":\"CategoricalColorMapper\"},{\"attributes\":{\"fill_alpha\":{\"value\":0.1},\"fill_color\":{\"value\":\"#1f77b4\"},\"height\":{\"value\":0.5},\"line_alpha\":{\"value\":0.1},\"line_color\":{\"value\":\"#1f77b4\"},\"right\":{\"field\":\"counts\"},\"y\":{\"field\":\"eth\"}},\"id\":\"95e3c8a5-9f77-48f1-8e13-b175e5e3ef38\",\"type\":\"HBar\"},{\"attributes\":{\"fill_color\":{\"field\":\"eth\",\"transform\":{\"id\":\"9069c57a-0732-41fc-9d86-f660ec3bf543\",\"type\":\"CategoricalColorMapper\"}},\"height\":{\"value\":0.5},\"line_color\":{\"value\":\"white\"},\"right\":{\"field\":\"counts\"},\"y\":{\"field\":\"eth\"}},\"id\":\"97175a69-76d9-4cde-8923-63515db7f5b2\",\"type\":\"HBar\"},{\"attributes\":{\"callback\":null,\"column_names\":[\"eth\",\"counts\"],\"data\":{\"counts\":[3228,2274,2117,46,34,13,12,5],\"eth\":[\"Hispanic or Latino\",\"Black or African American\",\"Anglo or White\",\"Middle East\",\"Asian\",\"Other/Don't Know\",\"Native Hawaiian/Pacific Islander\",\"American Indian/Alaska Native\"]}},\"id\":\"3cdbb01d-a572-4fb3-9fea-a68a143e18b4\",\"type\":\"ColumnDataSource\"},{\"attributes\":{\"dimension\":1,\"plot\":{\"id\":\"dc12b2a5-ea9f-4818-ab49-b4a8e4b5d2cb\",\"subtype\":\"Figure\",\"type\":\"Plot\"},\"ticker\":{\"id\":\"b75896bc-02cb-4979-852e-b9b8146884e2\",\"type\":\"CategoricalTicker\"}},\"id\":\"54f372e5-3f09-4a62-9be5-1536a898f90d\",\"type\":\"Grid\"},{\"attributes\":{},\"id\":\"b75896bc-02cb-4979-852e-b9b8146884e2\",\"type\":\"CategoricalTicker\"},{\"attributes\":{\"label\":{\"field\":\"eth\"},\"renderers\":[{\"id\":\"ac188ec7-959a-45d2-8953-07a39f70acc5\",\"type\":\"GlyphRenderer\"}]},\"id\":\"a3687c91-ce34-44d3-a74d-6970ad852cd8\",\"type\":\"LegendItem\"},{\"attributes\":{\"active_drag\":\"auto\",\"active_inspect\":\"auto\",\"active_scroll\":\"auto\",\"active_tap\":\"auto\"},\"id\":\"f7f2acd6-ed9a-4bbf-9560-75197740623a\",\"type\":\"Toolbar\"},{\"attributes\":{},\"id\":\"a15390ba-342d-493d-8b26-9030f11431fe\",\"type\":\"CategoricalTickFormatter\"},{\"attributes\":{},\"id\":\"b932b21e-87db-4383-b162-5a0e4526d608\",\"type\":\"BasicTickFormatter\"},{\"attributes\":{\"data_source\":{\"id\":\"3cdbb01d-a572-4fb3-9fea-a68a143e18b4\",\"type\":\"ColumnDataSource\"},\"glyph\":{\"id\":\"97175a69-76d9-4cde-8923-63515db7f5b2\",\"type\":\"HBar\"},\"hover_glyph\":null,\"muted_glyph\":null,\"nonselection_glyph\":{\"id\":\"95e3c8a5-9f77-48f1-8e13-b175e5e3ef38\",\"type\":\"HBar\"},\"selection_glyph\":null,\"view\":{\"id\":\"89c2b6fc-ef7c-477a-ae76-bd7abf335b98\",\"type\":\"CDSView\"}},\"id\":\"ac188ec7-959a-45d2-8953-07a39f70acc5\",\"type\":\"GlyphRenderer\"},{\"attributes\":{},\"id\":\"a2ac01db-ba45-4d5a-800c-1537b408f072\",\"type\":\"LinearScale\"},{\"attributes\":{\"source\":{\"id\":\"3cdbb01d-a572-4fb3-9fea-a68a143e18b4\",\"type\":\"ColumnDataSource\"}},\"id\":\"89c2b6fc-ef7c-477a-ae76-bd7abf335b98\",\"type\":\"CDSView\"},{\"attributes\":{\"grid_line_color\":{\"value\":null},\"plot\":{\"id\":\"dc12b2a5-ea9f-4818-ab49-b4a8e4b5d2cb\",\"subtype\":\"Figure\",\"type\":\"Plot\"},\"ticker\":{\"id\":\"6097673e-0473-4bff-8aaf-582e572b96da\",\"type\":\"BasicTicker\"}},\"id\":\"1e2a95bc-8027-4aa3-a728-4e6d7a048de1\",\"type\":\"Grid\"},{\"attributes\":{\"below\":[{\"id\":\"ecf05935-f8ee-4777-886d-f24fef97ea38\",\"type\":\"LinearAxis\"}],\"left\":[{\"id\":\"5142e821-0e9a-48e0-933f-2a4c23ef8fd4\",\"type\":\"CategoricalAxis\"}],\"plot_height\":500,\"plot_width\":900,\"renderers\":[{\"id\":\"ecf05935-f8ee-4777-886d-f24fef97ea38\",\"type\":\"LinearAxis\"},{\"id\":\"1e2a95bc-8027-4aa3-a728-4e6d7a048de1\",\"type\":\"Grid\"},{\"id\":\"5142e821-0e9a-48e0-933f-2a4c23ef8fd4\",\"type\":\"CategoricalAxis\"},{\"id\":\"54f372e5-3f09-4a62-9be5-1536a898f90d\",\"type\":\"Grid\"},{\"id\":\"359800e8-d17b-42ee-ad09-434d47346a88\",\"type\":\"Legend\"},{\"id\":\"ac188ec7-959a-45d2-8953-07a39f70acc5\",\"type\":\"GlyphRenderer\"}],\"title\":{\"id\":\"b15b85fd-30ac-4190-8e67-1667aaaa8565\",\"type\":\"Title\"},\"toolbar\":{\"id\":\"f7f2acd6-ed9a-4bbf-9560-75197740623a\",\"type\":\"Toolbar\"},\"toolbar_location\":null,\"x_range\":{\"id\":\"69d2e11c-ebfc-4722-86b5-bc60dc8f88cb\",\"type\":\"DataRange1d\"},\"x_scale\":{\"id\":\"a2ac01db-ba45-4d5a-800c-1537b408f072\",\"type\":\"LinearScale\"},\"y_range\":{\"id\":\"41212dee-58a6-4a4e-b8e9-8475bf7c4a48\",\"type\":\"FactorRange\"},\"y_scale\":{\"id\":\"f8b42b60-87f6-45ab-91d3-d526fb198e15\",\"type\":\"CategoricalScale\"}},\"id\":\"dc12b2a5-ea9f-4818-ab49-b4a8e4b5d2cb\",\"subtype\":\"Figure\",\"type\":\"Plot\"},{\"attributes\":{},\"id\":\"6097673e-0473-4bff-8aaf-582e572b96da\",\"type\":\"BasicTicker\"},{\"attributes\":{\"items\":[{\"id\":\"a3687c91-ce34-44d3-a74d-6970ad852cd8\",\"type\":\"LegendItem\"}],\"plot\":{\"id\":\"dc12b2a5-ea9f-4818-ab49-b4a8e4b5d2cb\",\"subtype\":\"Figure\",\"type\":\"Plot\"}},\"id\":\"359800e8-d17b-42ee-ad09-434d47346a88\",\"type\":\"Legend\"},{\"attributes\":{\"formatter\":{\"id\":\"b932b21e-87db-4383-b162-5a0e4526d608\",\"type\":\"BasicTickFormatter\"},\"plot\":{\"id\":\"dc12b2a5-ea9f-4818-ab49-b4a8e4b5d2cb\",\"subtype\":\"Figure\",\"type\":\"Plot\"},\"ticker\":{\"id\":\"6097673e-0473-4bff-8aaf-582e572b96da\",\"type\":\"BasicTicker\"}},\"id\":\"ecf05935-f8ee-4777-886d-f24fef97ea38\",\"type\":\"LinearAxis\"},{\"attributes\":{\"plot\":null,\"text\":\"Ethnicity of Deaths in Custody\"},\"id\":\"b15b85fd-30ac-4190-8e67-1667aaaa8565\",\"type\":\"Title\"},{\"attributes\":{\"formatter\":{\"id\":\"a15390ba-342d-493d-8b26-9030f11431fe\",\"type\":\"CategoricalTickFormatter\"},\"plot\":{\"id\":\"dc12b2a5-ea9f-4818-ab49-b4a8e4b5d2cb\",\"subtype\":\"Figure\",\"type\":\"Plot\"},\"ticker\":{\"id\":\"b75896bc-02cb-4979-852e-b9b8146884e2\",\"type\":\"CategoricalTicker\"}},\"id\":\"5142e821-0e9a-48e0-933f-2a4c23ef8fd4\",\"type\":\"CategoricalAxis\"}],\"root_ids\":[\"dc12b2a5-ea9f-4818-ab49-b4a8e4b5d2cb\"]},\"title\":\"Bokeh Application\",\"version\":\"0.12.13\"}};\n",
       "  var render_items = [{\"docid\":\"2f85c0a8-b879-422f-bad7-7ed3fccb87f8\",\"elementid\":\"213bcbc9-05a6-49dd-be3d-3156781256c4\",\"modelid\":\"dc12b2a5-ea9f-4818-ab49-b4a8e4b5d2cb\"}];\n",
       "  root.Bokeh.embed.embed_items_notebook(docs_json, render_items);\n",
       "\n",
       "  }\n",
       "  if (root.Bokeh !== undefined) {\n",
       "    embed_document(root);\n",
       "  } else {\n",
       "    var attempts = 0;\n",
       "    var timer = setInterval(function(root) {\n",
       "      if (root.Bokeh !== undefined) {\n",
       "        embed_document(root);\n",
       "        clearInterval(timer);\n",
       "      }\n",
       "      attempts++;\n",
       "      if (attempts > 100) {\n",
       "        console.log(\"Bokeh: ERROR: Unable to run BokehJS code because BokehJS library is missing\")\n",
       "        clearInterval(timer);\n",
       "      }\n",
       "    }, 10, root)\n",
       "  }\n",
       "})(window);"
      ],
      "application/vnd.bokehjs_exec.v0+json": ""
     },
     "metadata": {
      "application/vnd.bokehjs_exec.v0+json": {
       "id": "dc12b2a5-ea9f-4818-ab49-b4a8e4b5d2cb"
      }
     },
     "output_type": "display_data"
    }
   ],
   "source": [
    "counts = cust['Ethnicity'].value_counts()\n",
    "\n",
    "source = ColumnDataSource(data=dict(eth=eth, counts=counts))\n",
    "\n",
    "t = figure(y_range=eth, plot_height=500, plot_width=900, title=\"Ethnicity of Deaths in Custody\",\n",
    "           toolbar_location=None, tools=\"\")\n",
    "\n",
    "t.hbar(y='eth', right='counts', height=0.5, color='color', legend=\"eth\", source=source, \n",
    "       line_color='white', fill_color=factor_cmap('eth', palette=Spectral8, factors=eth))\n",
    "\n",
    "factor_cmap('deathtype', palette=Spectral6, factors=deathtype)\n",
    "\n",
    "t.xgrid.grid_line_color = None\n",
    "t.x_range.start = 0\n",
    "t.x_range.end = 6000\n",
    "t.legend.orientation = \"vertical\"\n",
    "t.legend.location = \"top_right\"\n",
    "\n",
    "show(t)"
   ]
  },
  {
   "cell_type": "code",
   "execution_count": 11,
   "metadata": {},
   "outputs": [],
   "source": [
    "#custna = cust[(cust['Custody Type'].dropna()) & (cust['Ethnicity'].dropna()) & (cust['Manner Death'].dropna()) & (cust['Charges Status'].dropna())]\n",
    "custody= cust['Custody Type'].dropna()\n",
    "race = cust['Ethnicity'].dropna()\n",
    "death = cust['Manner Death'].dropna()\n",
    "charge = cust['Charges Status'].dropna()\n",
    "\n",
    "dfcharge = pd.get_dummies(custody)\n",
    "dfrace =pd.get_dummies(race)\n",
    "dfdeath = pd.get_dummies(death)\n",
    "dfcharge = pd.get_dummies(charge)"
   ]
  },
  {
   "cell_type": "code",
   "execution_count": 12,
   "metadata": {},
   "outputs": [
    {
     "data": {
      "text/html": [
       "<div>\n",
       "<style scoped>\n",
       "    .dataframe tbody tr th:only-of-type {\n",
       "        vertical-align: middle;\n",
       "    }\n",
       "\n",
       "    .dataframe tbody tr th {\n",
       "        vertical-align: top;\n",
       "    }\n",
       "\n",
       "    .dataframe thead th {\n",
       "        text-align: right;\n",
       "    }\n",
       "</style>\n",
       "<table border=\"1\" class=\"dataframe\">\n",
       "  <thead>\n",
       "    <tr style=\"text-align: right;\">\n",
       "      <th></th>\n",
       "      <th>Convicted</th>\n",
       "      <th>Filed</th>\n",
       "      <th>Not filed at time of death</th>\n",
       "      <th>Probation/Parole</th>\n",
       "    </tr>\n",
       "  </thead>\n",
       "  <tbody>\n",
       "    <tr>\n",
       "      <th>7724</th>\n",
       "      <td>0</td>\n",
       "      <td>0</td>\n",
       "      <td>1</td>\n",
       "      <td>0</td>\n",
       "    </tr>\n",
       "    <tr>\n",
       "      <th>7725</th>\n",
       "      <td>1</td>\n",
       "      <td>0</td>\n",
       "      <td>0</td>\n",
       "      <td>0</td>\n",
       "    </tr>\n",
       "    <tr>\n",
       "      <th>7726</th>\n",
       "      <td>0</td>\n",
       "      <td>0</td>\n",
       "      <td>1</td>\n",
       "      <td>0</td>\n",
       "    </tr>\n",
       "    <tr>\n",
       "      <th>7727</th>\n",
       "      <td>0</td>\n",
       "      <td>0</td>\n",
       "      <td>1</td>\n",
       "      <td>0</td>\n",
       "    </tr>\n",
       "    <tr>\n",
       "      <th>7728</th>\n",
       "      <td>1</td>\n",
       "      <td>0</td>\n",
       "      <td>0</td>\n",
       "      <td>0</td>\n",
       "    </tr>\n",
       "  </tbody>\n",
       "</table>\n",
       "</div>"
      ],
      "text/plain": [
       "      Convicted  Filed  Not filed at time of death  Probation/Parole\n",
       "7724          0      0                           1                 0\n",
       "7725          1      0                           0                 0\n",
       "7726          0      0                           1                 0\n",
       "7727          0      0                           1                 0\n",
       "7728          1      0                           0                 0"
      ]
     },
     "execution_count": 12,
     "metadata": {},
     "output_type": "execute_result"
    }
   ],
   "source": [
    "dfcharge.tail()"
   ]
  },
  {
   "cell_type": "code",
   "execution_count": 13,
   "metadata": {},
   "outputs": [
    {
     "data": {
      "text/plain": [
       "Accidental injury caused by others               NaN\n",
       "Accidental injury to self                        NaN\n",
       "Alcohol/Drug Intoxication                        NaN\n",
       "American Indian/Alaska Native                    NaN\n",
       "Anglo or White                                   NaN\n",
       "Asian                                            NaN\n",
       "Black or African American                        NaN\n",
       "Hispanic or Latino                               NaN\n",
       "Homicide by Law Enforcement/Correctional Staff   NaN\n",
       "Homicide by Other                                NaN\n",
       "Middle East                                      NaN\n",
       "Native Hawaiian/Pacific Islander                 NaN\n",
       "Natural Causes/Illness                           NaN\n",
       "Other                                            NaN\n",
       "Other/Don't Know                                 NaN\n",
       "Suicide                                          NaN\n",
       "dtype: float64"
      ]
     },
     "execution_count": 13,
     "metadata": {},
     "output_type": "execute_result"
    }
   ],
   "source": [
    "dfdeath.corrwith(dfrace)"
   ]
  },
  {
   "cell_type": "code",
   "execution_count": 14,
   "metadata": {},
   "outputs": [
    {
     "data": {
      "text/plain": [
       "'\\nFor Grouped/Nested bat chart\\n\\n# this creates tuple pairs of Manner of Death and Ethnicity\\nx = [ (deathtype, eth) for type in deathtype for race in eth ]\\n\\nsource = ColumnDataSource(data=dict(x=x, counts=counts))\\n\\nq = figure(x_range=FactorRange(*x), plot_height=250, title=\"Manner of Death by Ethnicity\",\\n           toolbar_location=None, tools=\"\")\\n\\nq.vbar(x=\\'x\\', top=\\'counts\\', width=0.9, source=source)\\n\\nq.y_range.start = 0\\nq.x_range.range_padding = 0.1\\nq.xaxis.major_label_orientation = 1\\nq.xgrid.grid_line_color = None\\n\\nshow(q)\\n'"
      ]
     },
     "execution_count": 14,
     "metadata": {},
     "output_type": "execute_result"
    }
   ],
   "source": [
    "'''\n",
    "For Grouped/Nested bat chart\n",
    "\n",
    "# this creates tuple pairs of Manner of Death and Ethnicity\n",
    "x = [ (deathtype, eth) for type in deathtype for race in eth ]\n",
    "\n",
    "source = ColumnDataSource(data=dict(x=x, counts=counts))\n",
    "\n",
    "q = figure(x_range=FactorRange(*x), plot_height=250, title=\"Manner of Death by Ethnicity\",\n",
    "           toolbar_location=None, tools=\"\")\n",
    "\n",
    "q.vbar(x='x', top='counts', width=0.9, source=source)\n",
    "\n",
    "q.y_range.start = 0\n",
    "q.x_range.range_padding = 0.1\n",
    "q.xaxis.major_label_orientation = 1\n",
    "q.xgrid.grid_line_color = None\n",
    "\n",
    "show(q)\n",
    "'''"
   ]
  },
  {
   "cell_type": "code",
   "execution_count": null,
   "metadata": {},
   "outputs": [],
   "source": []
  },
  {
   "cell_type": "code",
   "execution_count": 15,
   "metadata": {},
   "outputs": [],
   "source": [
    "breakdown = cust.groupby(['Ethnicity', 'Manner Death'])['Last Name'].count()"
   ]
  },
  {
   "cell_type": "code",
   "execution_count": 16,
   "metadata": {
    "scrolled": false
   },
   "outputs": [],
   "source": [
    "death_eth_df = breakdown.unstack()"
   ]
  },
  {
   "cell_type": "code",
   "execution_count": 17,
   "metadata": {},
   "outputs": [],
   "source": [
    "death_eth_df = death_eth_df.fillna(0).astype(int)"
   ]
  },
  {
   "cell_type": "code",
   "execution_count": 18,
   "metadata": {},
   "outputs": [
    {
     "data": {
      "text/html": [
       "<div>\n",
       "<style scoped>\n",
       "    .dataframe tbody tr th:only-of-type {\n",
       "        vertical-align: middle;\n",
       "    }\n",
       "\n",
       "    .dataframe tbody tr th {\n",
       "        vertical-align: top;\n",
       "    }\n",
       "\n",
       "    .dataframe thead th {\n",
       "        text-align: right;\n",
       "    }\n",
       "</style>\n",
       "<table border=\"1\" class=\"dataframe\">\n",
       "  <thead>\n",
       "    <tr style=\"text-align: right;\">\n",
       "      <th>Manner Death</th>\n",
       "      <th>Accidental injury caused by others</th>\n",
       "      <th>Accidental injury to self</th>\n",
       "      <th>Alcohol/Drug Intoxication</th>\n",
       "      <th>Homicide by Law Enforcement/Correctional Staff</th>\n",
       "      <th>Homicide by Other</th>\n",
       "      <th>Natural Causes/Illness</th>\n",
       "      <th>Other</th>\n",
       "      <th>Suicide</th>\n",
       "    </tr>\n",
       "    <tr>\n",
       "      <th>Ethnicity</th>\n",
       "      <th></th>\n",
       "      <th></th>\n",
       "      <th></th>\n",
       "      <th></th>\n",
       "      <th></th>\n",
       "      <th></th>\n",
       "      <th></th>\n",
       "      <th></th>\n",
       "    </tr>\n",
       "  </thead>\n",
       "  <tbody>\n",
       "    <tr>\n",
       "      <th>American Indian/Alaska Native</th>\n",
       "      <td>0</td>\n",
       "      <td>0</td>\n",
       "      <td>0</td>\n",
       "      <td>5</td>\n",
       "      <td>0</td>\n",
       "      <td>5</td>\n",
       "      <td>1</td>\n",
       "      <td>2</td>\n",
       "    </tr>\n",
       "    <tr>\n",
       "      <th>Anglo or White</th>\n",
       "      <td>3</td>\n",
       "      <td>63</td>\n",
       "      <td>99</td>\n",
       "      <td>321</td>\n",
       "      <td>25</td>\n",
       "      <td>2183</td>\n",
       "      <td>77</td>\n",
       "      <td>455</td>\n",
       "    </tr>\n",
       "    <tr>\n",
       "      <th>Asian</th>\n",
       "      <td>0</td>\n",
       "      <td>0</td>\n",
       "      <td>3</td>\n",
       "      <td>5</td>\n",
       "      <td>1</td>\n",
       "      <td>19</td>\n",
       "      <td>0</td>\n",
       "      <td>6</td>\n",
       "    </tr>\n",
       "    <tr>\n",
       "      <th>Black or African American</th>\n",
       "      <td>6</td>\n",
       "      <td>36</td>\n",
       "      <td>93</td>\n",
       "      <td>213</td>\n",
       "      <td>22</td>\n",
       "      <td>1687</td>\n",
       "      <td>68</td>\n",
       "      <td>147</td>\n",
       "    </tr>\n",
       "    <tr>\n",
       "      <th>Hispanic or Latino</th>\n",
       "      <td>11</td>\n",
       "      <td>54</td>\n",
       "      <td>88</td>\n",
       "      <td>291</td>\n",
       "      <td>24</td>\n",
       "      <td>1363</td>\n",
       "      <td>56</td>\n",
       "      <td>229</td>\n",
       "    </tr>\n",
       "    <tr>\n",
       "      <th>Middle East</th>\n",
       "      <td>0</td>\n",
       "      <td>1</td>\n",
       "      <td>0</td>\n",
       "      <td>7</td>\n",
       "      <td>0</td>\n",
       "      <td>2</td>\n",
       "      <td>0</td>\n",
       "      <td>2</td>\n",
       "    </tr>\n",
       "    <tr>\n",
       "      <th>Native Hawaiian/Pacific Islander</th>\n",
       "      <td>1</td>\n",
       "      <td>0</td>\n",
       "      <td>1</td>\n",
       "      <td>1</td>\n",
       "      <td>0</td>\n",
       "      <td>1</td>\n",
       "      <td>0</td>\n",
       "      <td>1</td>\n",
       "    </tr>\n",
       "    <tr>\n",
       "      <th>Other/Don't Know</th>\n",
       "      <td>0</td>\n",
       "      <td>1</td>\n",
       "      <td>0</td>\n",
       "      <td>35</td>\n",
       "      <td>0</td>\n",
       "      <td>6</td>\n",
       "      <td>1</td>\n",
       "      <td>2</td>\n",
       "    </tr>\n",
       "  </tbody>\n",
       "</table>\n",
       "</div>"
      ],
      "text/plain": [
       "Manner Death                      Accidental injury caused by others  \\\n",
       "Ethnicity                                                              \n",
       "American Indian/Alaska Native                                      0   \n",
       "Anglo or White                                                     3   \n",
       "Asian                                                              0   \n",
       "Black or African American                                          6   \n",
       "Hispanic or Latino                                                11   \n",
       "Middle East                                                        0   \n",
       "Native Hawaiian/Pacific Islander                                   1   \n",
       "Other/Don't Know                                                   0   \n",
       "\n",
       "Manner Death                      Accidental injury to self  \\\n",
       "Ethnicity                                                     \n",
       "American Indian/Alaska Native                             0   \n",
       "Anglo or White                                           63   \n",
       "Asian                                                     0   \n",
       "Black or African American                                36   \n",
       "Hispanic or Latino                                       54   \n",
       "Middle East                                               1   \n",
       "Native Hawaiian/Pacific Islander                          0   \n",
       "Other/Don't Know                                          1   \n",
       "\n",
       "Manner Death                      Alcohol/Drug Intoxication  \\\n",
       "Ethnicity                                                     \n",
       "American Indian/Alaska Native                             0   \n",
       "Anglo or White                                           99   \n",
       "Asian                                                     3   \n",
       "Black or African American                                93   \n",
       "Hispanic or Latino                                       88   \n",
       "Middle East                                               0   \n",
       "Native Hawaiian/Pacific Islander                          1   \n",
       "Other/Don't Know                                          0   \n",
       "\n",
       "Manner Death                      Homicide by Law Enforcement/Correctional Staff  \\\n",
       "Ethnicity                                                                          \n",
       "American Indian/Alaska Native                                                  5   \n",
       "Anglo or White                                                               321   \n",
       "Asian                                                                          5   \n",
       "Black or African American                                                    213   \n",
       "Hispanic or Latino                                                           291   \n",
       "Middle East                                                                    7   \n",
       "Native Hawaiian/Pacific Islander                                               1   \n",
       "Other/Don't Know                                                              35   \n",
       "\n",
       "Manner Death                      Homicide by Other  Natural Causes/Illness  \\\n",
       "Ethnicity                                                                     \n",
       "American Indian/Alaska Native                     0                       5   \n",
       "Anglo or White                                   25                    2183   \n",
       "Asian                                             1                      19   \n",
       "Black or African American                        22                    1687   \n",
       "Hispanic or Latino                               24                    1363   \n",
       "Middle East                                       0                       2   \n",
       "Native Hawaiian/Pacific Islander                  0                       1   \n",
       "Other/Don't Know                                  0                       6   \n",
       "\n",
       "Manner Death                      Other  Suicide  \n",
       "Ethnicity                                         \n",
       "American Indian/Alaska Native         1        2  \n",
       "Anglo or White                       77      455  \n",
       "Asian                                 0        6  \n",
       "Black or African American            68      147  \n",
       "Hispanic or Latino                   56      229  \n",
       "Middle East                           0        2  \n",
       "Native Hawaiian/Pacific Islander      0        1  \n",
       "Other/Don't Know                      1        2  "
      ]
     },
     "execution_count": 18,
     "metadata": {},
     "output_type": "execute_result"
    }
   ],
   "source": [
    "death_eth_df"
   ]
  },
  {
   "cell_type": "code",
   "execution_count": null,
   "metadata": {},
   "outputs": [],
   "source": []
  },
  {
   "cell_type": "code",
   "execution_count": 39,
   "metadata": {},
   "outputs": [],
   "source": [
    "ethni = cust['Ethnicity'].value_counts()"
   ]
  },
  {
   "cell_type": "code",
   "execution_count": null,
   "metadata": {},
   "outputs": [],
   "source": []
  },
  {
   "cell_type": "code",
   "execution_count": 40,
   "metadata": {},
   "outputs": [
    {
     "name": "stdout",
     "output_type": "stream",
     "text": [
      "% of Whites killed by officer: 0.0994423791822\n"
     ]
    }
   ],
   "source": [
    "print (\"% of Whites killed by officer:\", breakdown['Anglo or White', 'Homicide by Law Enforcement/Correctional Staff']/ethni['Anglo or White'])"
   ]
  },
  {
   "cell_type": "code",
   "execution_count": 41,
   "metadata": {},
   "outputs": [
    {
     "name": "stdout",
     "output_type": "stream",
     "text": [
      "% of Latinos killed by officer: 0.137458667926\n"
     ]
    }
   ],
   "source": [
    "print (\"% of Latinos killed by officer:\", breakdown['Hispanic or Latino', 'Homicide by Law Enforcement/Correctional Staff']/ethni['Hispanic or Latino'])"
   ]
  },
  {
   "cell_type": "code",
   "execution_count": 42,
   "metadata": {},
   "outputs": [
    {
     "data": {
      "text/plain": [
       "array([   5, 2183,   19, 1687, 1363,    2,    1,    6])"
      ]
     },
     "execution_count": 42,
     "metadata": {},
     "output_type": "execute_result"
    }
   ],
   "source": [
    "death_eth_df['Natural Causes/Illness'].values"
   ]
  },
  {
   "cell_type": "code",
   "execution_count": null,
   "metadata": {},
   "outputs": [],
   "source": []
  },
  {
   "cell_type": "code",
   "execution_count": 45,
   "metadata": {},
   "outputs": [
    {
     "data": {
      "text/html": [
       "\n",
       "<div class=\"bk-root\">\n",
       "    <div class=\"bk-plotdiv\" id=\"a65f014f-f76d-4a5f-958c-2236e839cb2b\"></div>\n",
       "</div>"
      ]
     },
     "metadata": {},
     "output_type": "display_data"
    },
    {
     "data": {
      "application/javascript": [
       "(function(root) {\n",
       "  function embed_document(root) {\n",
       "    \n",
       "  var docs_json = {\"13737645-9cdf-466d-b9dc-96132f8d54b0\":{\"roots\":{\"references\":[{\"attributes\":{\"source\":{\"id\":\"2a62c0a9-514f-4bf9-adfd-e67171280dea\",\"type\":\"ColumnDataSource\"}},\"id\":\"0646130c-9b2c-42f6-b498-cc8a7c4ec325\",\"type\":\"CDSView\"},{\"attributes\":{\"label\":{\"value\":\"Homicide by Law Enforcement/Correctional Staff\"},\"renderers\":[{\"id\":\"53621825-f24e-406b-b4f8-4ff8270a66d4\",\"type\":\"GlyphRenderer\"}]},\"id\":\"15d92cf8-079c-4eae-996c-ea9e7b0e846e\",\"type\":\"LegendItem\"},{\"attributes\":{\"fill_color\":{\"value\":\"#fdae61\"},\"height\":{\"value\":0.9},\"left\":{\"expr\":{\"id\":\"f18462e8-02a4-4b93-936f-7f44e3b53c37\",\"type\":\"Stack\"}},\"line_color\":{\"value\":\"#fdae61\"},\"right\":{\"expr\":{\"id\":\"62932ca9-f638-47a3-8449-3ec963335c3a\",\"type\":\"Stack\"}},\"y\":{\"field\":\"Ethnicity\"}},\"id\":\"6a5681a5-a675-4451-9fe8-ebd9c2252fd5\",\"type\":\"HBar\"},{\"attributes\":{\"data_source\":{\"id\":\"2a62c0a9-514f-4bf9-adfd-e67171280dea\",\"type\":\"ColumnDataSource\"},\"glyph\":{\"id\":\"858d9f17-f6c1-4178-956f-3467698a8e5f\",\"type\":\"HBar\"},\"hover_glyph\":null,\"muted_glyph\":null,\"nonselection_glyph\":{\"id\":\"cb03d3e0-4ae3-424b-846d-d03fd1e23bf6\",\"type\":\"HBar\"},\"selection_glyph\":null,\"view\":{\"id\":\"4b0cd2b9-7a8e-4f5f-a1c5-d9bf492e964b\",\"type\":\"CDSView\"}},\"id\":\"53b6ece0-314a-40a3-a557-5f67092df44f\",\"type\":\"GlyphRenderer\"},{\"attributes\":{\"data_source\":{\"id\":\"2a62c0a9-514f-4bf9-adfd-e67171280dea\",\"type\":\"ColumnDataSource\"},\"glyph\":{\"id\":\"a565ca2e-f4da-4aef-9b88-7eb604eb70d3\",\"type\":\"HBar\"},\"hover_glyph\":null,\"muted_glyph\":null,\"nonselection_glyph\":{\"id\":\"e113e635-176a-46b5-a4b7-1f08c7b371cf\",\"type\":\"HBar\"},\"selection_glyph\":null,\"view\":{\"id\":\"0646130c-9b2c-42f6-b498-cc8a7c4ec325\",\"type\":\"CDSView\"}},\"id\":\"53621825-f24e-406b-b4f8-4ff8270a66d4\",\"type\":\"GlyphRenderer\"},{\"attributes\":{},\"id\":\"446bdb9a-615c-43b3-ab8a-1490bb6b7972\",\"type\":\"BasicTickFormatter\"},{\"attributes\":{\"label\":{\"value\":\"Other\"},\"renderers\":[{\"id\":\"b6661968-65d7-4141-82f3-89741a61fdc5\",\"type\":\"GlyphRenderer\"}]},\"id\":\"5f0e33cb-6a06-47b6-aa11-65221445f971\",\"type\":\"LegendItem\"},{\"attributes\":{\"fill_color\":{\"value\":\"#f46d43\"},\"height\":{\"value\":0.9},\"left\":{\"expr\":{\"id\":\"c374e63e-d3dd-4a32-ad67-8a9f97f75317\",\"type\":\"Stack\"}},\"line_color\":{\"value\":\"#f46d43\"},\"right\":{\"expr\":{\"id\":\"029cf8d6-127b-44f5-ba1d-fa65a59f2332\",\"type\":\"Stack\"}},\"y\":{\"field\":\"Ethnicity\"}},\"id\":\"5ce0f200-df39-46fe-b2af-2a2824f99e5c\",\"type\":\"HBar\"},{\"attributes\":{\"source\":{\"id\":\"2a62c0a9-514f-4bf9-adfd-e67171280dea\",\"type\":\"ColumnDataSource\"}},\"id\":\"6a44fc03-e1c0-4a71-b285-87b9c088962a\",\"type\":\"CDSView\"},{\"attributes\":{\"fill_alpha\":{\"value\":0.1},\"fill_color\":{\"value\":\"#1f77b4\"},\"height\":{\"value\":0.9},\"left\":{\"expr\":{\"id\":\"f18462e8-02a4-4b93-936f-7f44e3b53c37\",\"type\":\"Stack\"}},\"line_alpha\":{\"value\":0.1},\"line_color\":{\"value\":\"#1f77b4\"},\"right\":{\"expr\":{\"id\":\"62932ca9-f638-47a3-8449-3ec963335c3a\",\"type\":\"Stack\"}},\"y\":{\"field\":\"Ethnicity\"}},\"id\":\"5503ef49-1062-474f-b58e-7757f0e90edb\",\"type\":\"HBar\"},{\"attributes\":{\"label\":{\"value\":\"Natural Causes/Illness\"},\"renderers\":[{\"id\":\"da47a114-5c62-4bf7-99eb-d3dc8bc9816e\",\"type\":\"GlyphRenderer\"}]},\"id\":\"ba7c19e8-b630-4315-967d-f777a5a5ae9e\",\"type\":\"LegendItem\"},{\"attributes\":{\"callback\":null,\"column_names\":[\"Ethnicity\",\"Accidental injury caused by others\",\"Natural Causes/Illness\",\"Other\",\"Accidental injury to self\",\"Homicide by Law Enforcement/Correctional Staff\",\"Suicide\",\"Alcohol/Drug Intoxication\",\"Homicide by Other\"],\"data\":{\"Accidental injury caused by others\":{\"__ndarray__\":\"AAAAAAMAAAAAAAAABgAAAAsAAAAAAAAAAQAAAAAAAAA=\",\"dtype\":\"int32\",\"shape\":[8]},\"Accidental injury to self\":{\"__ndarray__\":\"AAAAAD8AAAAAAAAAJAAAADYAAAABAAAAAAAAAAEAAAA=\",\"dtype\":\"int32\",\"shape\":[8]},\"Alcohol/Drug Intoxication\":{\"__ndarray__\":\"AAAAAGMAAAADAAAAXQAAAFgAAAAAAAAAAQAAAAAAAAA=\",\"dtype\":\"int32\",\"shape\":[8]},\"Ethnicity\":[\"American Indian/Alaska Native\",\"Anglo or White\",\"Asian\",\"Black or African American\",\"Hispanic or Latino\",\"Middle East\",\"Native Hawaiian/Pacific Islander\",\"Other/Don't Know\"],\"Homicide by Law Enforcement/Correctional Staff\":{\"__ndarray__\":\"BQAAAEEBAAAFAAAA1QAAACMBAAAHAAAAAQAAACMAAAA=\",\"dtype\":\"int32\",\"shape\":[8]},\"Homicide by Other\":{\"__ndarray__\":\"AAAAABkAAAABAAAAFgAAABgAAAAAAAAAAAAAAAAAAAA=\",\"dtype\":\"int32\",\"shape\":[8]},\"Natural Causes/Illness\":{\"__ndarray__\":\"BQAAAIcIAAATAAAAlwYAAFMFAAACAAAAAQAAAAYAAAA=\",\"dtype\":\"int32\",\"shape\":[8]},\"Other\":{\"__ndarray__\":\"AQAAAE0AAAAAAAAARAAAADgAAAAAAAAAAAAAAAEAAAA=\",\"dtype\":\"int32\",\"shape\":[8]},\"Suicide\":{\"__ndarray__\":\"AgAAAMcBAAAGAAAAkwAAAOUAAAACAAAAAQAAAAIAAAA=\",\"dtype\":\"int32\",\"shape\":[8]}}},\"id\":\"2a62c0a9-514f-4bf9-adfd-e67171280dea\",\"type\":\"ColumnDataSource\"},{\"attributes\":{\"below\":[{\"id\":\"b6bb73d7-e688-40ad-a0fd-685c2a3e7d54\",\"type\":\"LinearAxis\"}],\"left\":[{\"id\":\"c0be1413-a8da-4d7e-ab27-7bdfa8633ce9\",\"type\":\"CategoricalAxis\"}],\"outline_line_color\":{\"value\":null},\"plot_height\":500,\"plot_width\":900,\"renderers\":[{\"id\":\"b6bb73d7-e688-40ad-a0fd-685c2a3e7d54\",\"type\":\"LinearAxis\"},{\"id\":\"88f31a5e-20bd-4ab2-bf8c-9682ab253650\",\"type\":\"Grid\"},{\"id\":\"c0be1413-a8da-4d7e-ab27-7bdfa8633ce9\",\"type\":\"CategoricalAxis\"},{\"id\":\"ea4f220e-5d88-4064-a991-70f43d9343ca\",\"type\":\"Grid\"},{\"id\":\"1b06ce6e-c5f8-4bf1-a400-b93de0c9f5b0\",\"type\":\"Legend\"},{\"id\":\"da47a114-5c62-4bf7-99eb-d3dc8bc9816e\",\"type\":\"GlyphRenderer\"},{\"id\":\"b6661968-65d7-4141-82f3-89741a61fdc5\",\"type\":\"GlyphRenderer\"},{\"id\":\"53b6ece0-314a-40a3-a557-5f67092df44f\",\"type\":\"GlyphRenderer\"},{\"id\":\"53621825-f24e-406b-b4f8-4ff8270a66d4\",\"type\":\"GlyphRenderer\"},{\"id\":\"505e24ec-e717-4bd2-b8ab-382b0a391dae\",\"type\":\"GlyphRenderer\"},{\"id\":\"c105eafc-d766-4abe-89d2-3a0c6cd82905\",\"type\":\"GlyphRenderer\"},{\"id\":\"efe7c8d2-20f4-426f-a579-fb633003f8ea\",\"type\":\"GlyphRenderer\"},{\"id\":\"9358caaf-c6f2-4524-89e0-682bd87478dd\",\"type\":\"GlyphRenderer\"}],\"title\":{\"id\":\"425b0fdc-3c1f-4dab-8976-0279209626df\",\"type\":\"Title\"},\"toolbar\":{\"id\":\"215bfaf5-0e61-417c-8703-207270a1998c\",\"type\":\"Toolbar\"},\"toolbar_location\":null,\"x_range\":{\"id\":\"68c346fe-4ac1-47b6-b02f-afc5e4220627\",\"type\":\"DataRange1d\"},\"x_scale\":{\"id\":\"c64c84bd-0901-4b1c-b7c1-1879989bfc3e\",\"type\":\"LinearScale\"},\"y_range\":{\"id\":\"246b82b7-e6de-4a29-8a9c-6bf750a12bfd\",\"type\":\"FactorRange\"},\"y_scale\":{\"id\":\"2f677d39-cbca-426a-8686-f1cc4f9e574b\",\"type\":\"CategoricalScale\"}},\"id\":\"94317da4-4139-44a4-bb4b-830a3fb84db4\",\"subtype\":\"Figure\",\"type\":\"Plot\"},{\"attributes\":{\"label\":{\"value\":\"Homicide by Other\"},\"renderers\":[{\"id\":\"efe7c8d2-20f4-426f-a579-fb633003f8ea\",\"type\":\"GlyphRenderer\"}]},\"id\":\"f4ca40c4-3194-4f93-856e-df5f7f3c42aa\",\"type\":\"LegendItem\"},{\"attributes\":{\"plot\":null,\"text\":\"Manner of Death by Ethnicity\"},\"id\":\"425b0fdc-3c1f-4dab-8976-0279209626df\",\"type\":\"Title\"},{\"attributes\":{},\"id\":\"c6e47e62-995c-4516-822b-e08b9c22c140\",\"type\":\"CategoricalTickFormatter\"},{\"attributes\":{\"callback\":null,\"end\":6000,\"start\":0},\"id\":\"68c346fe-4ac1-47b6-b02f-afc5e4220627\",\"type\":\"DataRange1d\"},{\"attributes\":{\"label\":{\"value\":\"Accidental injury to self\"},\"renderers\":[{\"id\":\"53b6ece0-314a-40a3-a557-5f67092df44f\",\"type\":\"GlyphRenderer\"}]},\"id\":\"6ba82880-8192-4e08-8318-56a9b1aabf2e\",\"type\":\"LegendItem\"},{\"attributes\":{\"active_drag\":\"auto\",\"active_inspect\":\"auto\",\"active_scroll\":\"auto\",\"active_tap\":\"auto\"},\"id\":\"215bfaf5-0e61-417c-8703-207270a1998c\",\"type\":\"Toolbar\"},{\"attributes\":{\"fields\":[]},\"id\":\"beccf66e-64fb-4305-8261-ce730dd6f686\",\"type\":\"Stack\"},{\"attributes\":{},\"id\":\"c64c84bd-0901-4b1c-b7c1-1879989bfc3e\",\"type\":\"LinearScale\"},{\"attributes\":{\"callback\":null,\"factors\":[\"American Indian/Alaska Native\",\"Anglo or White\",\"Asian\",\"Black or African American\",\"Hispanic or Latino\",\"Middle East\",\"Native Hawaiian/Pacific Islander\",\"Other/Don't Know\"],\"range_padding\":0.1},\"id\":\"246b82b7-e6de-4a29-8a9c-6bf750a12bfd\",\"type\":\"FactorRange\"},{\"attributes\":{},\"id\":\"2f677d39-cbca-426a-8686-f1cc4f9e574b\",\"type\":\"CategoricalScale\"},{\"attributes\":{\"fill_alpha\":{\"value\":0.1},\"fill_color\":{\"value\":\"#1f77b4\"},\"height\":{\"value\":0.9},\"left\":{\"expr\":{\"id\":\"b0e73bb2-bed0-4c78-8183-206f165713ac\",\"type\":\"Stack\"}},\"line_alpha\":{\"value\":0.1},\"line_color\":{\"value\":\"#1f77b4\"},\"right\":{\"expr\":{\"id\":\"b6f48a94-050b-4c25-8860-16e6b745240c\",\"type\":\"Stack\"}},\"y\":{\"field\":\"Ethnicity\"}},\"id\":\"e113e635-176a-46b5-a4b7-1f08c7b371cf\",\"type\":\"HBar\"},{\"attributes\":{\"grid_line_color\":{\"value\":null},\"plot\":{\"id\":\"94317da4-4139-44a4-bb4b-830a3fb84db4\",\"subtype\":\"Figure\",\"type\":\"Plot\"},\"ticker\":{\"id\":\"c1113cfb-3100-4624-9186-42ebea7027dd\",\"type\":\"BasicTicker\"}},\"id\":\"88f31a5e-20bd-4ab2-bf8c-9682ab253650\",\"type\":\"Grid\"},{\"attributes\":{\"data_source\":{\"id\":\"2a62c0a9-514f-4bf9-adfd-e67171280dea\",\"type\":\"ColumnDataSource\"},\"glyph\":{\"id\":\"5ce0f200-df39-46fe-b2af-2a2824f99e5c\",\"type\":\"HBar\"},\"hover_glyph\":null,\"muted_glyph\":null,\"nonselection_glyph\":{\"id\":\"927b78db-f389-4a11-9220-c53d915bac4e\",\"type\":\"HBar\"},\"selection_glyph\":null,\"view\":{\"id\":\"25321c1d-e2ce-4cff-9373-40af0b11e96b\",\"type\":\"CDSView\"}},\"id\":\"efe7c8d2-20f4-426f-a579-fb633003f8ea\",\"type\":\"GlyphRenderer\"},{\"attributes\":{\"formatter\":{\"id\":\"446bdb9a-615c-43b3-ab8a-1490bb6b7972\",\"type\":\"BasicTickFormatter\"},\"minor_tick_line_color\":{\"value\":null},\"plot\":{\"id\":\"94317da4-4139-44a4-bb4b-830a3fb84db4\",\"subtype\":\"Figure\",\"type\":\"Plot\"},\"ticker\":{\"id\":\"c1113cfb-3100-4624-9186-42ebea7027dd\",\"type\":\"BasicTicker\"}},\"id\":\"b6bb73d7-e688-40ad-a0fd-685c2a3e7d54\",\"type\":\"LinearAxis\"},{\"attributes\":{},\"id\":\"c1113cfb-3100-4624-9186-42ebea7027dd\",\"type\":\"BasicTicker\"},{\"attributes\":{\"formatter\":{\"id\":\"c6e47e62-995c-4516-822b-e08b9c22c140\",\"type\":\"CategoricalTickFormatter\"},\"minor_tick_line_color\":{\"value\":null},\"plot\":{\"id\":\"94317da4-4139-44a4-bb4b-830a3fb84db4\",\"subtype\":\"Figure\",\"type\":\"Plot\"},\"ticker\":{\"id\":\"ab34c7df-7fb3-4bf7-94a2-d017c706afe7\",\"type\":\"CategoricalTicker\"}},\"id\":\"c0be1413-a8da-4d7e-ab27-7bdfa8633ce9\",\"type\":\"CategoricalAxis\"},{\"attributes\":{},\"id\":\"ab34c7df-7fb3-4bf7-94a2-d017c706afe7\",\"type\":\"CategoricalTicker\"},{\"attributes\":{\"fill_alpha\":{\"value\":0.1},\"fill_color\":{\"value\":\"#1f77b4\"},\"height\":{\"value\":0.9},\"left\":{\"expr\":{\"id\":\"da9d60f8-4970-4024-b884-f8d628c73708\",\"type\":\"Stack\"}},\"line_alpha\":{\"value\":0.1},\"line_color\":{\"value\":\"#1f77b4\"},\"right\":{\"expr\":{\"id\":\"b3178d11-abaa-4d4e-97a8-fe070f8f6c91\",\"type\":\"Stack\"}},\"y\":{\"field\":\"Ethnicity\"}},\"id\":\"bda83eb9-88e8-4d53-9277-76c7c0ff9fb8\",\"type\":\"HBar\"},{\"attributes\":{\"source\":{\"id\":\"2a62c0a9-514f-4bf9-adfd-e67171280dea\",\"type\":\"ColumnDataSource\"}},\"id\":\"61749199-a338-423f-96e7-31517fc34465\",\"type\":\"CDSView\"},{\"attributes\":{\"dimension\":1,\"plot\":{\"id\":\"94317da4-4139-44a4-bb4b-830a3fb84db4\",\"subtype\":\"Figure\",\"type\":\"Plot\"},\"ticker\":{\"id\":\"ab34c7df-7fb3-4bf7-94a2-d017c706afe7\",\"type\":\"CategoricalTicker\"}},\"id\":\"ea4f220e-5d88-4064-a991-70f43d9343ca\",\"type\":\"Grid\"},{\"attributes\":{\"fill_color\":{\"value\":\"#66c2a5\"},\"height\":{\"value\":0.9},\"left\":{\"expr\":{\"id\":\"925851bd-ef79-42a0-b99a-aabc4dbb504b\",\"type\":\"Stack\"}},\"line_color\":{\"value\":\"#66c2a5\"},\"right\":{\"expr\":{\"id\":\"48523afc-b007-4882-a9b4-a8e5f16dded2\",\"type\":\"Stack\"}},\"y\":{\"field\":\"Ethnicity\"}},\"id\":\"24df63ce-b403-4b39-aaa2-b7165b08b758\",\"type\":\"HBar\"},{\"attributes\":{\"fields\":[\"Natural Causes/Illness\",\"Other\",\"Accidental injury to self\",\"Homicide by Law Enforcement/Correctional Staff\"]},\"id\":\"e8be9797-4c46-4623-ad61-2c75f0f569f9\",\"type\":\"Stack\"},{\"attributes\":{\"fill_alpha\":{\"value\":0.1},\"fill_color\":{\"value\":\"#1f77b4\"},\"height\":{\"value\":0.9},\"left\":{\"expr\":{\"id\":\"6e62b16e-3b9c-453e-b01a-2a3011d5c2fd\",\"type\":\"Stack\"}},\"line_alpha\":{\"value\":0.1},\"line_color\":{\"value\":\"#1f77b4\"},\"right\":{\"expr\":{\"id\":\"82c22d91-25a3-49dc-a675-e36d8c95d0eb\",\"type\":\"Stack\"}},\"y\":{\"field\":\"Ethnicity\"}},\"id\":\"cb03d3e0-4ae3-424b-846d-d03fd1e23bf6\",\"type\":\"HBar\"},{\"attributes\":{\"fields\":[\"Natural Causes/Illness\"]},\"id\":\"3e0ed371-09b3-4424-9b34-3fc57907b395\",\"type\":\"Stack\"},{\"attributes\":{\"data_source\":{\"id\":\"2a62c0a9-514f-4bf9-adfd-e67171280dea\",\"type\":\"ColumnDataSource\"},\"glyph\":{\"id\":\"24df63ce-b403-4b39-aaa2-b7165b08b758\",\"type\":\"HBar\"},\"hover_glyph\":null,\"muted_glyph\":null,\"nonselection_glyph\":{\"id\":\"46649987-9594-4204-9125-c10350d1249c\",\"type\":\"HBar\"},\"selection_glyph\":null,\"view\":{\"id\":\"6a44fc03-e1c0-4a71-b285-87b9c088962a\",\"type\":\"CDSView\"}},\"id\":\"b6661968-65d7-4141-82f3-89741a61fdc5\",\"type\":\"GlyphRenderer\"},{\"attributes\":{\"fill_alpha\":{\"value\":0.1},\"fill_color\":{\"value\":\"#1f77b4\"},\"height\":{\"value\":0.9},\"left\":{\"expr\":{\"id\":\"e8be9797-4c46-4623-ad61-2c75f0f569f9\",\"type\":\"Stack\"}},\"line_alpha\":{\"value\":0.1},\"line_color\":{\"value\":\"#1f77b4\"},\"right\":{\"expr\":{\"id\":\"c49db9e7-ed8b-4d90-b1e9-d99c3e834070\",\"type\":\"Stack\"}},\"y\":{\"field\":\"Ethnicity\"}},\"id\":\"47fea463-55eb-4368-b732-2239d108734c\",\"type\":\"HBar\"},{\"attributes\":{\"fields\":[\"Natural Causes/Illness\"]},\"id\":\"925851bd-ef79-42a0-b99a-aabc4dbb504b\",\"type\":\"Stack\"},{\"attributes\":{\"fill_color\":{\"value\":\"#fee08b\"},\"height\":{\"value\":0.9},\"left\":{\"expr\":{\"id\":\"e8be9797-4c46-4623-ad61-2c75f0f569f9\",\"type\":\"Stack\"}},\"line_color\":{\"value\":\"#fee08b\"},\"right\":{\"expr\":{\"id\":\"c49db9e7-ed8b-4d90-b1e9-d99c3e834070\",\"type\":\"Stack\"}},\"y\":{\"field\":\"Ethnicity\"}},\"id\":\"7ffdba58-e6a8-40d7-a547-ad1ae051bc71\",\"type\":\"HBar\"},{\"attributes\":{\"fields\":[\"Natural Causes/Illness\",\"Other\"]},\"id\":\"48523afc-b007-4882-a9b4-a8e5f16dded2\",\"type\":\"Stack\"},{\"attributes\":{\"fields\":[\"Natural Causes/Illness\",\"Other\"]},\"id\":\"6e62b16e-3b9c-453e-b01a-2a3011d5c2fd\",\"type\":\"Stack\"},{\"attributes\":{\"fields\":[\"Natural Causes/Illness\",\"Other\",\"Accidental injury to self\"]},\"id\":\"82c22d91-25a3-49dc-a675-e36d8c95d0eb\",\"type\":\"Stack\"},{\"attributes\":{\"label\":{\"value\":\"Alcohol/Drug Intoxication\"},\"renderers\":[{\"id\":\"c105eafc-d766-4abe-89d2-3a0c6cd82905\",\"type\":\"GlyphRenderer\"}]},\"id\":\"facb011a-3fc0-4250-8e51-4e7112c0e3ae\",\"type\":\"LegendItem\"},{\"attributes\":{\"fields\":[\"Natural Causes/Illness\",\"Other\",\"Accidental injury to self\"]},\"id\":\"b0e73bb2-bed0-4c78-8183-206f165713ac\",\"type\":\"Stack\"},{\"attributes\":{\"fields\":[\"Natural Causes/Illness\",\"Other\",\"Accidental injury to self\",\"Homicide by Law Enforcement/Correctional Staff\"]},\"id\":\"b6f48a94-050b-4c25-8860-16e6b745240c\",\"type\":\"Stack\"},{\"attributes\":{\"source\":{\"id\":\"2a62c0a9-514f-4bf9-adfd-e67171280dea\",\"type\":\"ColumnDataSource\"}},\"id\":\"25321c1d-e2ce-4cff-9373-40af0b11e96b\",\"type\":\"CDSView\"},{\"attributes\":{\"fields\":[\"Natural Causes/Illness\",\"Other\",\"Accidental injury to self\",\"Homicide by Law Enforcement/Correctional Staff\",\"Suicide\"]},\"id\":\"f18462e8-02a4-4b93-936f-7f44e3b53c37\",\"type\":\"Stack\"},{\"attributes\":{\"fields\":[\"Natural Causes/Illness\",\"Other\",\"Accidental injury to self\",\"Homicide by Law Enforcement/Correctional Staff\",\"Suicide\",\"Alcohol/Drug Intoxication\"]},\"id\":\"62932ca9-f638-47a3-8449-3ec963335c3a\",\"type\":\"Stack\"},{\"attributes\":{\"fill_alpha\":{\"value\":0.1},\"fill_color\":{\"value\":\"#1f77b4\"},\"height\":{\"value\":0.9},\"left\":{\"expr\":{\"id\":\"925851bd-ef79-42a0-b99a-aabc4dbb504b\",\"type\":\"Stack\"}},\"line_alpha\":{\"value\":0.1},\"line_color\":{\"value\":\"#1f77b4\"},\"right\":{\"expr\":{\"id\":\"48523afc-b007-4882-a9b4-a8e5f16dded2\",\"type\":\"Stack\"}},\"y\":{\"field\":\"Ethnicity\"}},\"id\":\"46649987-9594-4204-9125-c10350d1249c\",\"type\":\"HBar\"},{\"attributes\":{\"fill_alpha\":{\"value\":0.1},\"fill_color\":{\"value\":\"#1f77b4\"},\"height\":{\"value\":0.9},\"left\":{\"expr\":{\"id\":\"c374e63e-d3dd-4a32-ad67-8a9f97f75317\",\"type\":\"Stack\"}},\"line_alpha\":{\"value\":0.1},\"line_color\":{\"value\":\"#1f77b4\"},\"right\":{\"expr\":{\"id\":\"029cf8d6-127b-44f5-ba1d-fa65a59f2332\",\"type\":\"Stack\"}},\"y\":{\"field\":\"Ethnicity\"}},\"id\":\"927b78db-f389-4a11-9220-c53d915bac4e\",\"type\":\"HBar\"},{\"attributes\":{\"fields\":[\"Natural Causes/Illness\",\"Other\",\"Accidental injury to self\",\"Homicide by Law Enforcement/Correctional Staff\",\"Suicide\"]},\"id\":\"c49db9e7-ed8b-4d90-b1e9-d99c3e834070\",\"type\":\"Stack\"},{\"attributes\":{\"fill_color\":{\"value\":\"#d53e4f\"},\"height\":{\"value\":0.9},\"left\":{\"expr\":{\"id\":\"da9d60f8-4970-4024-b884-f8d628c73708\",\"type\":\"Stack\"}},\"line_color\":{\"value\":\"#d53e4f\"},\"right\":{\"expr\":{\"id\":\"b3178d11-abaa-4d4e-97a8-fe070f8f6c91\",\"type\":\"Stack\"}},\"y\":{\"field\":\"Ethnicity\"}},\"id\":\"225c86d4-f0ea-4f8d-a980-37ba9325ba26\",\"type\":\"HBar\"},{\"attributes\":{\"data_source\":{\"id\":\"2a62c0a9-514f-4bf9-adfd-e67171280dea\",\"type\":\"ColumnDataSource\"},\"glyph\":{\"id\":\"225c86d4-f0ea-4f8d-a980-37ba9325ba26\",\"type\":\"HBar\"},\"hover_glyph\":null,\"muted_glyph\":null,\"nonselection_glyph\":{\"id\":\"bda83eb9-88e8-4d53-9277-76c7c0ff9fb8\",\"type\":\"HBar\"},\"selection_glyph\":null,\"view\":{\"id\":\"61749199-a338-423f-96e7-31517fc34465\",\"type\":\"CDSView\"}},\"id\":\"9358caaf-c6f2-4524-89e0-682bd87478dd\",\"type\":\"GlyphRenderer\"},{\"attributes\":{\"fill_color\":{\"value\":\"#abdda4\"},\"height\":{\"value\":0.9},\"left\":{\"expr\":{\"id\":\"6e62b16e-3b9c-453e-b01a-2a3011d5c2fd\",\"type\":\"Stack\"}},\"line_color\":{\"value\":\"#abdda4\"},\"right\":{\"expr\":{\"id\":\"82c22d91-25a3-49dc-a675-e36d8c95d0eb\",\"type\":\"Stack\"}},\"y\":{\"field\":\"Ethnicity\"}},\"id\":\"858d9f17-f6c1-4178-956f-3467698a8e5f\",\"type\":\"HBar\"},{\"attributes\":{\"fields\":[\"Natural Causes/Illness\",\"Other\",\"Accidental injury to self\",\"Homicide by Law Enforcement/Correctional Staff\",\"Suicide\",\"Alcohol/Drug Intoxication\"]},\"id\":\"c374e63e-d3dd-4a32-ad67-8a9f97f75317\",\"type\":\"Stack\"},{\"attributes\":{\"label\":{\"value\":\"Accidental injury caused by others\"},\"renderers\":[{\"id\":\"9358caaf-c6f2-4524-89e0-682bd87478dd\",\"type\":\"GlyphRenderer\"}]},\"id\":\"6d68d2c2-35c0-43d0-a874-6ed02ad08d65\",\"type\":\"LegendItem\"},{\"attributes\":{\"fields\":[\"Natural Causes/Illness\",\"Other\",\"Accidental injury to self\",\"Homicide by Law Enforcement/Correctional Staff\",\"Suicide\",\"Alcohol/Drug Intoxication\",\"Homicide by Other\"]},\"id\":\"029cf8d6-127b-44f5-ba1d-fa65a59f2332\",\"type\":\"Stack\"},{\"attributes\":{\"data_source\":{\"id\":\"2a62c0a9-514f-4bf9-adfd-e67171280dea\",\"type\":\"ColumnDataSource\"},\"glyph\":{\"id\":\"7ffdba58-e6a8-40d7-a547-ad1ae051bc71\",\"type\":\"HBar\"},\"hover_glyph\":null,\"muted_glyph\":null,\"nonselection_glyph\":{\"id\":\"47fea463-55eb-4368-b732-2239d108734c\",\"type\":\"HBar\"},\"selection_glyph\":null,\"view\":{\"id\":\"10d47d9c-23c8-4e3e-a619-64fd598ff915\",\"type\":\"CDSView\"}},\"id\":\"505e24ec-e717-4bd2-b8ab-382b0a391dae\",\"type\":\"GlyphRenderer\"},{\"attributes\":{\"items\":[{\"id\":\"ba7c19e8-b630-4315-967d-f777a5a5ae9e\",\"type\":\"LegendItem\"},{\"id\":\"5f0e33cb-6a06-47b6-aa11-65221445f971\",\"type\":\"LegendItem\"},{\"id\":\"6ba82880-8192-4e08-8318-56a9b1aabf2e\",\"type\":\"LegendItem\"},{\"id\":\"15d92cf8-079c-4eae-996c-ea9e7b0e846e\",\"type\":\"LegendItem\"},{\"id\":\"8f73aed7-634a-4d62-ac21-2f453121de94\",\"type\":\"LegendItem\"},{\"id\":\"facb011a-3fc0-4250-8e51-4e7112c0e3ae\",\"type\":\"LegendItem\"},{\"id\":\"f4ca40c4-3194-4f93-856e-df5f7f3c42aa\",\"type\":\"LegendItem\"},{\"id\":\"6d68d2c2-35c0-43d0-a874-6ed02ad08d65\",\"type\":\"LegendItem\"}],\"plot\":{\"id\":\"94317da4-4139-44a4-bb4b-830a3fb84db4\",\"subtype\":\"Figure\",\"type\":\"Plot\"}},\"id\":\"1b06ce6e-c5f8-4bf1-a400-b93de0c9f5b0\",\"type\":\"Legend\"},{\"attributes\":{\"fields\":[\"Natural Causes/Illness\",\"Other\",\"Accidental injury to self\",\"Homicide by Law Enforcement/Correctional Staff\",\"Suicide\",\"Alcohol/Drug Intoxication\",\"Homicide by Other\"]},\"id\":\"da9d60f8-4970-4024-b884-f8d628c73708\",\"type\":\"Stack\"},{\"attributes\":{\"fields\":[\"Natural Causes/Illness\",\"Other\",\"Accidental injury to self\",\"Homicide by Law Enforcement/Correctional Staff\",\"Suicide\",\"Alcohol/Drug Intoxication\",\"Homicide by Other\",\"Accidental injury caused by others\"]},\"id\":\"b3178d11-abaa-4d4e-97a8-fe070f8f6c91\",\"type\":\"Stack\"},{\"attributes\":{\"fill_color\":{\"value\":\"#3288bd\"},\"height\":{\"value\":0.9},\"left\":{\"expr\":{\"id\":\"beccf66e-64fb-4305-8261-ce730dd6f686\",\"type\":\"Stack\"}},\"line_color\":{\"value\":\"#3288bd\"},\"right\":{\"expr\":{\"id\":\"3e0ed371-09b3-4424-9b34-3fc57907b395\",\"type\":\"Stack\"}},\"y\":{\"field\":\"Ethnicity\"}},\"id\":\"d03e96f2-1d32-46b4-9d9d-67db3217aa54\",\"type\":\"HBar\"},{\"attributes\":{\"fill_alpha\":{\"value\":0.1},\"fill_color\":{\"value\":\"#1f77b4\"},\"height\":{\"value\":0.9},\"left\":{\"expr\":{\"id\":\"beccf66e-64fb-4305-8261-ce730dd6f686\",\"type\":\"Stack\"}},\"line_alpha\":{\"value\":0.1},\"line_color\":{\"value\":\"#1f77b4\"},\"right\":{\"expr\":{\"id\":\"3e0ed371-09b3-4424-9b34-3fc57907b395\",\"type\":\"Stack\"}},\"y\":{\"field\":\"Ethnicity\"}},\"id\":\"dc4992d4-2bcb-459d-86df-152dd09be069\",\"type\":\"HBar\"},{\"attributes\":{\"source\":{\"id\":\"2a62c0a9-514f-4bf9-adfd-e67171280dea\",\"type\":\"ColumnDataSource\"}},\"id\":\"10d47d9c-23c8-4e3e-a619-64fd598ff915\",\"type\":\"CDSView\"},{\"attributes\":{\"source\":{\"id\":\"2a62c0a9-514f-4bf9-adfd-e67171280dea\",\"type\":\"ColumnDataSource\"}},\"id\":\"890d2c96-4abf-449d-90c7-92d6749f5a18\",\"type\":\"CDSView\"},{\"attributes\":{\"source\":{\"id\":\"2a62c0a9-514f-4bf9-adfd-e67171280dea\",\"type\":\"ColumnDataSource\"}},\"id\":\"4b0cd2b9-7a8e-4f5f-a1c5-d9bf492e964b\",\"type\":\"CDSView\"},{\"attributes\":{\"source\":{\"id\":\"2a62c0a9-514f-4bf9-adfd-e67171280dea\",\"type\":\"ColumnDataSource\"}},\"id\":\"b8a6b667-efb2-462e-9eb6-c7e7c361d4c7\",\"type\":\"CDSView\"},{\"attributes\":{\"data_source\":{\"id\":\"2a62c0a9-514f-4bf9-adfd-e67171280dea\",\"type\":\"ColumnDataSource\"},\"glyph\":{\"id\":\"d03e96f2-1d32-46b4-9d9d-67db3217aa54\",\"type\":\"HBar\"},\"hover_glyph\":null,\"muted_glyph\":null,\"nonselection_glyph\":{\"id\":\"dc4992d4-2bcb-459d-86df-152dd09be069\",\"type\":\"HBar\"},\"selection_glyph\":null,\"view\":{\"id\":\"890d2c96-4abf-449d-90c7-92d6749f5a18\",\"type\":\"CDSView\"}},\"id\":\"da47a114-5c62-4bf7-99eb-d3dc8bc9816e\",\"type\":\"GlyphRenderer\"},{\"attributes\":{\"label\":{\"value\":\"Suicide\"},\"renderers\":[{\"id\":\"505e24ec-e717-4bd2-b8ab-382b0a391dae\",\"type\":\"GlyphRenderer\"}]},\"id\":\"8f73aed7-634a-4d62-ac21-2f453121de94\",\"type\":\"LegendItem\"},{\"attributes\":{\"fill_color\":{\"value\":\"#e6f598\"},\"height\":{\"value\":0.9},\"left\":{\"expr\":{\"id\":\"b0e73bb2-bed0-4c78-8183-206f165713ac\",\"type\":\"Stack\"}},\"line_color\":{\"value\":\"#e6f598\"},\"right\":{\"expr\":{\"id\":\"b6f48a94-050b-4c25-8860-16e6b745240c\",\"type\":\"Stack\"}},\"y\":{\"field\":\"Ethnicity\"}},\"id\":\"a565ca2e-f4da-4aef-9b88-7eb604eb70d3\",\"type\":\"HBar\"},{\"attributes\":{\"data_source\":{\"id\":\"2a62c0a9-514f-4bf9-adfd-e67171280dea\",\"type\":\"ColumnDataSource\"},\"glyph\":{\"id\":\"6a5681a5-a675-4451-9fe8-ebd9c2252fd5\",\"type\":\"HBar\"},\"hover_glyph\":null,\"muted_glyph\":null,\"nonselection_glyph\":{\"id\":\"5503ef49-1062-474f-b58e-7757f0e90edb\",\"type\":\"HBar\"},\"selection_glyph\":null,\"view\":{\"id\":\"b8a6b667-efb2-462e-9eb6-c7e7c361d4c7\",\"type\":\"CDSView\"}},\"id\":\"c105eafc-d766-4abe-89d2-3a0c6cd82905\",\"type\":\"GlyphRenderer\"}],\"root_ids\":[\"94317da4-4139-44a4-bb4b-830a3fb84db4\"]},\"title\":\"Bokeh Application\",\"version\":\"0.12.13\"}};\n",
       "  var render_items = [{\"docid\":\"13737645-9cdf-466d-b9dc-96132f8d54b0\",\"elementid\":\"a65f014f-f76d-4a5f-958c-2236e839cb2b\",\"modelid\":\"94317da4-4139-44a4-bb4b-830a3fb84db4\"}];\n",
       "  root.Bokeh.embed.embed_items_notebook(docs_json, render_items);\n",
       "\n",
       "  }\n",
       "  if (root.Bokeh !== undefined) {\n",
       "    embed_document(root);\n",
       "  } else {\n",
       "    var attempts = 0;\n",
       "    var timer = setInterval(function(root) {\n",
       "      if (root.Bokeh !== undefined) {\n",
       "        embed_document(root);\n",
       "        clearInterval(timer);\n",
       "      }\n",
       "      attempts++;\n",
       "      if (attempts > 100) {\n",
       "        console.log(\"Bokeh: ERROR: Unable to run BokehJS code because BokehJS library is missing\")\n",
       "        clearInterval(timer);\n",
       "      }\n",
       "    }, 10, root)\n",
       "  }\n",
       "})(window);"
      ],
      "application/vnd.bokehjs_exec.v0+json": ""
     },
     "metadata": {
      "application/vnd.bokehjs_exec.v0+json": {
       "id": "94317da4-4139-44a4-bb4b-830a3fb84db4"
      }
     },
     "output_type": "display_data"
    }
   ],
   "source": [
    "data= {'Ethnicity': list(death_eth_df.index), 'Accidental injury caused by others' : death_eth_df['Accidental injury caused by others'].values, \n",
    "       'Natural Causes/Illness': death_eth_df['Natural Causes/Illness'].values,  'Other':death_eth_df['Other'].values, \n",
    "       'Accidental injury to self': death_eth_df['Accidental injury to self'].values,  \n",
    "       'Homicide by Law Enforcement/Correctional Staff': death_eth_df['Homicide by Law Enforcement/Correctional Staff'].values,\n",
    "       'Suicide': death_eth_df['Suicide'].values, 'Alcohol/Drug Intoxication': death_eth_df['Alcohol/Drug Intoxication'].values, \n",
    "       'Homicide by Other': death_eth_df['Homicide by Other'].values}\n",
    "\n",
    "source = ColumnDataSource(data=data)\n",
    "\n",
    "g = figure(y_range= data['Ethnicity'], plot_height=500,plot_width=900, title=\"Manner of Death by Ethnicity\",\n",
    "           toolbar_location=None, tools=\"\")\n",
    "\n",
    "\n",
    "g.hbar_stack(deathtype, y= 'Ethnicity', height=0.9, color=Spectral8, source=source,\n",
    "             legend=[value(x) for x in deathtype])\n",
    "\n",
    "g.x_range.start = 0\n",
    "g.x_range.end = 6000\n",
    "g.y_range.range_padding = 0.1\n",
    "g.xgrid.grid_line_color = None\n",
    "g.axis.minor_tick_line_color = None\n",
    "g.outline_line_color = None\n",
    "g.legend.location = \"top_right\"\n",
    "g.legend.orientation = \"vertical\"\n",
    "\n",
    "show(g)\n"
   ]
  },
  {
   "cell_type": "code",
   "execution_count": 23,
   "metadata": {
    "scrolled": true
   },
   "outputs": [
    {
     "data": {
      "text/html": [
       "<div>\n",
       "<style scoped>\n",
       "    .dataframe tbody tr th:only-of-type {\n",
       "        vertical-align: middle;\n",
       "    }\n",
       "\n",
       "    .dataframe tbody tr th {\n",
       "        vertical-align: top;\n",
       "    }\n",
       "\n",
       "    .dataframe thead th {\n",
       "        text-align: right;\n",
       "    }\n",
       "</style>\n",
       "<table border=\"1\" class=\"dataframe\">\n",
       "  <thead>\n",
       "    <tr style=\"text-align: right;\">\n",
       "      <th>Department Name</th>\n",
       "      <th>Austin Police Dept.</th>\n",
       "      <th>Dallas County Sheriff's Dept.</th>\n",
       "      <th>Dallas Police Dept.</th>\n",
       "      <th>Fort Worth Police Dept.</th>\n",
       "      <th>Harris County Sheriff's Dept.</th>\n",
       "      <th>Houston Police Dept.</th>\n",
       "      <th>San Antonio Police Dept.</th>\n",
       "      <th>Texas Department Of Criminal Justice</th>\n",
       "      <th>Texas Department Of Public Safety</th>\n",
       "      <th>Travis County Sheriff's Dept.</th>\n",
       "    </tr>\n",
       "    <tr>\n",
       "      <th>Ethnicity</th>\n",
       "      <th></th>\n",
       "      <th></th>\n",
       "      <th></th>\n",
       "      <th></th>\n",
       "      <th></th>\n",
       "      <th></th>\n",
       "      <th></th>\n",
       "      <th></th>\n",
       "      <th></th>\n",
       "      <th></th>\n",
       "    </tr>\n",
       "  </thead>\n",
       "  <tbody>\n",
       "    <tr>\n",
       "      <th>American Indian/Alaska Native</th>\n",
       "      <td>0</td>\n",
       "      <td>1</td>\n",
       "      <td>0</td>\n",
       "      <td>0</td>\n",
       "      <td>1</td>\n",
       "      <td>0</td>\n",
       "      <td>0</td>\n",
       "      <td>4</td>\n",
       "      <td>0</td>\n",
       "      <td>0</td>\n",
       "    </tr>\n",
       "    <tr>\n",
       "      <th>Anglo or White</th>\n",
       "      <td>21</td>\n",
       "      <td>29</td>\n",
       "      <td>30</td>\n",
       "      <td>29</td>\n",
       "      <td>66</td>\n",
       "      <td>50</td>\n",
       "      <td>27</td>\n",
       "      <td>2154</td>\n",
       "      <td>51</td>\n",
       "      <td>21</td>\n",
       "    </tr>\n",
       "    <tr>\n",
       "      <th>Asian</th>\n",
       "      <td>1</td>\n",
       "      <td>1</td>\n",
       "      <td>0</td>\n",
       "      <td>1</td>\n",
       "      <td>3</td>\n",
       "      <td>3</td>\n",
       "      <td>2</td>\n",
       "      <td>17</td>\n",
       "      <td>0</td>\n",
       "      <td>0</td>\n",
       "    </tr>\n",
       "    <tr>\n",
       "      <th>Black or African American</th>\n",
       "      <td>11</td>\n",
       "      <td>55</td>\n",
       "      <td>61</td>\n",
       "      <td>16</td>\n",
       "      <td>116</td>\n",
       "      <td>113</td>\n",
       "      <td>25</td>\n",
       "      <td>1546</td>\n",
       "      <td>9</td>\n",
       "      <td>16</td>\n",
       "    </tr>\n",
       "    <tr>\n",
       "      <th>Hispanic or Latino</th>\n",
       "      <td>6</td>\n",
       "      <td>12</td>\n",
       "      <td>27</td>\n",
       "      <td>16</td>\n",
       "      <td>42</td>\n",
       "      <td>65</td>\n",
       "      <td>82</td>\n",
       "      <td>1347</td>\n",
       "      <td>20</td>\n",
       "      <td>10</td>\n",
       "    </tr>\n",
       "    <tr>\n",
       "      <th>Middle East</th>\n",
       "      <td>0</td>\n",
       "      <td>0</td>\n",
       "      <td>1</td>\n",
       "      <td>0</td>\n",
       "      <td>2</td>\n",
       "      <td>2</td>\n",
       "      <td>1</td>\n",
       "      <td>3</td>\n",
       "      <td>0</td>\n",
       "      <td>0</td>\n",
       "    </tr>\n",
       "    <tr>\n",
       "      <th>Native Hawaiian/Pacific Islander</th>\n",
       "      <td>0</td>\n",
       "      <td>0</td>\n",
       "      <td>1</td>\n",
       "      <td>0</td>\n",
       "      <td>0</td>\n",
       "      <td>0</td>\n",
       "      <td>0</td>\n",
       "      <td>0</td>\n",
       "      <td>0</td>\n",
       "      <td>0</td>\n",
       "    </tr>\n",
       "    <tr>\n",
       "      <th>Other/Don't Know</th>\n",
       "      <td>0</td>\n",
       "      <td>0</td>\n",
       "      <td>0</td>\n",
       "      <td>0</td>\n",
       "      <td>1</td>\n",
       "      <td>0</td>\n",
       "      <td>1</td>\n",
       "      <td>6</td>\n",
       "      <td>0</td>\n",
       "      <td>0</td>\n",
       "    </tr>\n",
       "  </tbody>\n",
       "</table>\n",
       "</div>"
      ],
      "text/plain": [
       "Department Name                   Austin Police Dept.  \\\n",
       "Ethnicity                                               \n",
       "American Indian/Alaska Native                       0   \n",
       "Anglo or White                                     21   \n",
       "Asian                                               1   \n",
       "Black or African American                          11   \n",
       "Hispanic or Latino                                  6   \n",
       "Middle East                                         0   \n",
       "Native Hawaiian/Pacific Islander                    0   \n",
       "Other/Don't Know                                    0   \n",
       "\n",
       "Department Name                   Dallas County Sheriff's Dept.  \\\n",
       "Ethnicity                                                         \n",
       "American Indian/Alaska Native                                 1   \n",
       "Anglo or White                                               29   \n",
       "Asian                                                         1   \n",
       "Black or African American                                    55   \n",
       "Hispanic or Latino                                           12   \n",
       "Middle East                                                   0   \n",
       "Native Hawaiian/Pacific Islander                              0   \n",
       "Other/Don't Know                                              0   \n",
       "\n",
       "Department Name                   Dallas Police Dept.  \\\n",
       "Ethnicity                                               \n",
       "American Indian/Alaska Native                       0   \n",
       "Anglo or White                                     30   \n",
       "Asian                                               0   \n",
       "Black or African American                          61   \n",
       "Hispanic or Latino                                 27   \n",
       "Middle East                                         1   \n",
       "Native Hawaiian/Pacific Islander                    1   \n",
       "Other/Don't Know                                    0   \n",
       "\n",
       "Department Name                   Fort Worth Police Dept.  \\\n",
       "Ethnicity                                                   \n",
       "American Indian/Alaska Native                           0   \n",
       "Anglo or White                                         29   \n",
       "Asian                                                   1   \n",
       "Black or African American                              16   \n",
       "Hispanic or Latino                                     16   \n",
       "Middle East                                             0   \n",
       "Native Hawaiian/Pacific Islander                        0   \n",
       "Other/Don't Know                                        0   \n",
       "\n",
       "Department Name                   Harris County Sheriff's Dept.  \\\n",
       "Ethnicity                                                         \n",
       "American Indian/Alaska Native                                 1   \n",
       "Anglo or White                                               66   \n",
       "Asian                                                         3   \n",
       "Black or African American                                   116   \n",
       "Hispanic or Latino                                           42   \n",
       "Middle East                                                   2   \n",
       "Native Hawaiian/Pacific Islander                              0   \n",
       "Other/Don't Know                                              1   \n",
       "\n",
       "Department Name                   Houston Police Dept.  \\\n",
       "Ethnicity                                                \n",
       "American Indian/Alaska Native                        0   \n",
       "Anglo or White                                      50   \n",
       "Asian                                                3   \n",
       "Black or African American                          113   \n",
       "Hispanic or Latino                                  65   \n",
       "Middle East                                          2   \n",
       "Native Hawaiian/Pacific Islander                     0   \n",
       "Other/Don't Know                                     0   \n",
       "\n",
       "Department Name                   San Antonio Police Dept.  \\\n",
       "Ethnicity                                                    \n",
       "American Indian/Alaska Native                            0   \n",
       "Anglo or White                                          27   \n",
       "Asian                                                    2   \n",
       "Black or African American                               25   \n",
       "Hispanic or Latino                                      82   \n",
       "Middle East                                              1   \n",
       "Native Hawaiian/Pacific Islander                         0   \n",
       "Other/Don't Know                                         1   \n",
       "\n",
       "Department Name                   Texas Department Of Criminal Justice  \\\n",
       "Ethnicity                                                                \n",
       "American Indian/Alaska Native                                        4   \n",
       "Anglo or White                                                    2154   \n",
       "Asian                                                               17   \n",
       "Black or African American                                         1546   \n",
       "Hispanic or Latino                                                1347   \n",
       "Middle East                                                          3   \n",
       "Native Hawaiian/Pacific Islander                                     0   \n",
       "Other/Don't Know                                                     6   \n",
       "\n",
       "Department Name                   Texas Department Of Public Safety  \\\n",
       "Ethnicity                                                             \n",
       "American Indian/Alaska Native                                     0   \n",
       "Anglo or White                                                   51   \n",
       "Asian                                                             0   \n",
       "Black or African American                                         9   \n",
       "Hispanic or Latino                                               20   \n",
       "Middle East                                                       0   \n",
       "Native Hawaiian/Pacific Islander                                  0   \n",
       "Other/Don't Know                                                  0   \n",
       "\n",
       "Department Name                   Travis County Sheriff's Dept.  \n",
       "Ethnicity                                                        \n",
       "American Indian/Alaska Native                                 0  \n",
       "Anglo or White                                               21  \n",
       "Asian                                                         0  \n",
       "Black or African American                                    16  \n",
       "Hispanic or Latino                                           10  \n",
       "Middle East                                                   0  \n",
       "Native Hawaiian/Pacific Islander                              0  \n",
       "Other/Don't Know                                              0  "
      ]
     },
     "execution_count": 23,
     "metadata": {},
     "output_type": "execute_result"
    }
   ],
   "source": [
    "major = cust[(cust['Department Name'] == 'Texas Department Of Criminal Justice') | (cust['Department Name'] == 'Harris County Sheriff\\'s Dept.')| (cust['Department Name'] == 'Houston Police Dept.')| (cust['Department Name'] == 'San Antonio Police Dept.')| (cust['Department Name'] == 'Fort Worth Police Dept.')| (cust['Department Name'] == 'Dallas Police Dept.')| (cust['Department Name'] == 'Dallas County Sheriff\\'s Dept.') | (cust['Department Name'] == 'Bexar County Sheriff\\s Dept.')| (cust['Department Name'] == 'Texas Department Of Public Safety')| (cust['Department Name'] == 'Austin Police Dept.')| (cust['Department Name'] == 'Tarrant County Sheriff\\s Dept.')| (cust['Department Name'] == 'Travis County Sheriff\\'s Dept.')]  \n",
    "reduce =major.groupby(['Ethnicity', 'Department Name'])['Last Name'].count().sort_values(ascending = False)\n",
    "majdept = reduce.unstack()\n",
    "majdept = majdept.fillna(0).astype(int)\n",
    "majdept"
   ]
  },
  {
   "cell_type": "code",
   "execution_count": null,
   "metadata": {},
   "outputs": [],
   "source": []
  },
  {
   "cell_type": "code",
   "execution_count": 24,
   "metadata": {},
   "outputs": [],
   "source": [
    "dept = cust.groupby(['Department Name'])['Last Name'].count()"
   ]
  },
  {
   "cell_type": "code",
   "execution_count": 25,
   "metadata": {},
   "outputs": [
    {
     "data": {
      "text/plain": [
       "Index(['Austin Police Dept.', 'Dallas County Sheriff's Dept.',\n",
       "       'Dallas Police Dept.', 'Fort Worth Police Dept.',\n",
       "       'Harris County Sheriff's Dept.', 'Houston Police Dept.',\n",
       "       'San Antonio Police Dept.', 'Texas Department Of Criminal Justice',\n",
       "       'Texas Department Of Public Safety', 'Travis County Sheriff's Dept.'],\n",
       "      dtype='object', name='Department Name')"
      ]
     },
     "execution_count": 25,
     "metadata": {},
     "output_type": "execute_result"
    }
   ],
   "source": [
    "majdept.columns"
   ]
  },
  {
   "cell_type": "code",
   "execution_count": 26,
   "metadata": {},
   "outputs": [
    {
     "name": "stdout",
     "output_type": "stream",
     "text": [
      "% of deaths in custody of Houston PD that were Black: 0.484978540773\n"
     ]
    }
   ],
   "source": [
    "print (\"% of deaths in custody of Houston PD that were Black:\", majdept.loc['Black or African American', 'Houston Police Dept.']/dept['Houston Police Dept.'])"
   ]
  },
  {
   "cell_type": "code",
   "execution_count": 27,
   "metadata": {},
   "outputs": [
    {
     "name": "stdout",
     "output_type": "stream",
     "text": [
      "% of deaths in custody of Houston PD that were Black: 0.214592274678\n"
     ]
    }
   ],
   "source": [
    "print (\"% of deaths in custody of Houston PD that were Black:\", majdept.loc['Anglo or White', 'Houston Police Dept.']/dept['Houston Police Dept.'])"
   ]
  },
  {
   "cell_type": "code",
   "execution_count": 28,
   "metadata": {},
   "outputs": [
    {
     "data": {
      "text/plain": [
       "[0.0,\n",
       " 0.21459227467811159,\n",
       " 0.012875536480686695,\n",
       " 0.48497854077253216,\n",
       " 0.27896995708154504,\n",
       " 0.0085836909871244635,\n",
       " 0.0,\n",
       " 0.0]"
      ]
     },
     "execution_count": 28,
     "metadata": {},
     "output_type": "execute_result"
    }
   ],
   "source": [
    "percents = []\n",
    "for r in majdept['Houston Police Dept.']:\n",
    "    perc = int(r)/majdept['Houston Police Dept.'].sum()\n",
    "    percents.append(perc)\n",
    "\n",
    "percents"
   ]
  },
  {
   "cell_type": "code",
   "execution_count": 29,
   "metadata": {},
   "outputs": [
    {
     "name": "stderr",
     "output_type": "stream",
     "text": [
      "C:\\Users\\Lara\\Miniconda3\\lib\\site-packages\\bokeh\\models\\sources.py:137: BokehUserWarning: ColumnDataSource's columns must be of the same length. Current lengths: ('end_angle', 7), ('fill_color', 8), ('start_angle', 7)\n",
      "  \"Current lengths: %s\" % \", \".join(sorted(str((k, len(v))) for k, v in data.items())), BokehUserWarning))\n",
      "C:\\Users\\Lara\\Miniconda3\\lib\\site-packages\\bokeh\\models\\sources.py:137: BokehUserWarning: ColumnDataSource's columns must be of the same length. Current lengths: ('end_angle', 7), ('fill_color', 8), ('line_color', 8), ('start_angle', 7)\n",
      "  \"Current lengths: %s\" % \", \".join(sorted(str((k, len(v))) for k, v in data.items())), BokehUserWarning))\n"
     ]
    },
    {
     "data": {
      "text/html": [
       "\n",
       "<div class=\"bk-root\">\n",
       "    <div class=\"bk-plotdiv\" id=\"01dd29e5-fdc5-4d88-b70d-f4071fd13cca\"></div>\n",
       "</div>"
      ]
     },
     "metadata": {},
     "output_type": "display_data"
    },
    {
     "data": {
      "application/javascript": [
       "(function(root) {\n",
       "  function embed_document(root) {\n",
       "    \n",
       "  var docs_json = {\"a373b2a3-b3d9-4a6c-9aca-e43dbd1a8cc1\":{\"roots\":{\"references\":[{\"attributes\":{},\"id\":\"b623db65-bd0d-40a2-9aef-65160db3b0a7\",\"type\":\"HelpTool\"},{\"attributes\":{\"source\":{\"id\":\"43ca1a46-6e8c-47eb-ba8b-3fe237c80285\",\"type\":\"ColumnDataSource\"}},\"id\":\"4a359738-7324-4337-b7ec-14d573e7bc82\",\"type\":\"CDSView\"},{\"attributes\":{\"plot\":{\"id\":\"60d6f672-c40f-4644-ae4c-08278993cb68\",\"subtype\":\"Figure\",\"type\":\"Plot\"},\"ticker\":{\"id\":\"ebe85694-ee0a-401f-8583-6ec4ba567585\",\"type\":\"BasicTicker\"}},\"id\":\"1314b8f6-39d8-44f7-b033-245fe533a76f\",\"type\":\"Grid\"},{\"attributes\":{\"plot\":null,\"text\":\"\"},\"id\":\"8b247910-3a8b-419d-a52e-20d9e7949993\",\"type\":\"Title\"},{\"attributes\":{\"formatter\":{\"id\":\"8a21219f-c304-4764-8313-42d97ad028e5\",\"type\":\"BasicTickFormatter\"},\"plot\":{\"id\":\"60d6f672-c40f-4644-ae4c-08278993cb68\",\"subtype\":\"Figure\",\"type\":\"Plot\"},\"ticker\":{\"id\":\"ebe85694-ee0a-401f-8583-6ec4ba567585\",\"type\":\"BasicTicker\"}},\"id\":\"0c3a9596-5c87-4e1a-b985-ee14573d8406\",\"type\":\"LinearAxis\"},{\"attributes\":{},\"id\":\"a3b7e19b-9a2f-451f-b743-6fc3196ebb01\",\"type\":\"ResetTool\"},{\"attributes\":{\"bottom_units\":\"screen\",\"fill_alpha\":{\"value\":0.5},\"fill_color\":{\"value\":\"lightgrey\"},\"left_units\":\"screen\",\"level\":\"overlay\",\"line_alpha\":{\"value\":1.0},\"line_color\":{\"value\":\"black\"},\"line_dash\":[4,4],\"line_width\":{\"value\":2},\"plot\":null,\"render_mode\":\"css\",\"right_units\":\"screen\",\"top_units\":\"screen\"},\"id\":\"33a87a0e-384a-45e6-9c4c-af26ea80cb88\",\"type\":\"BoxAnnotation\"},{\"attributes\":{\"data_source\":{\"id\":\"43ca1a46-6e8c-47eb-ba8b-3fe237c80285\",\"type\":\"ColumnDataSource\"},\"glyph\":{\"id\":\"e5ef1762-1769-4443-adae-41b1201c517b\",\"type\":\"Wedge\"},\"hover_glyph\":null,\"muted_glyph\":null,\"nonselection_glyph\":{\"id\":\"65d53e6c-b8e2-4d3b-8d84-3d9593b55735\",\"type\":\"Wedge\"},\"selection_glyph\":null,\"view\":{\"id\":\"4a359738-7324-4337-b7ec-14d573e7bc82\",\"type\":\"CDSView\"}},\"id\":\"205a1f1e-c3c8-49ad-be56-cb2633a8629e\",\"type\":\"GlyphRenderer\"},{\"attributes\":{\"callback\":null,\"start\":-1},\"id\":\"9d2ea919-72c4-47ea-8db1-1e405adef6cf\",\"type\":\"Range1d\"},{\"attributes\":{\"below\":[{\"id\":\"0c3a9596-5c87-4e1a-b985-ee14573d8406\",\"type\":\"LinearAxis\"}],\"left\":[{\"id\":\"7a27210e-abd7-448b-a9ee-7bac492a020f\",\"type\":\"LinearAxis\"}],\"renderers\":[{\"id\":\"0c3a9596-5c87-4e1a-b985-ee14573d8406\",\"type\":\"LinearAxis\"},{\"id\":\"1314b8f6-39d8-44f7-b033-245fe533a76f\",\"type\":\"Grid\"},{\"id\":\"7a27210e-abd7-448b-a9ee-7bac492a020f\",\"type\":\"LinearAxis\"},{\"id\":\"65716b51-7130-442a-94c3-8f111b6f67f2\",\"type\":\"Grid\"},{\"id\":\"33a87a0e-384a-45e6-9c4c-af26ea80cb88\",\"type\":\"BoxAnnotation\"},{\"id\":\"205a1f1e-c3c8-49ad-be56-cb2633a8629e\",\"type\":\"GlyphRenderer\"}],\"title\":{\"id\":\"8b247910-3a8b-419d-a52e-20d9e7949993\",\"type\":\"Title\"},\"toolbar\":{\"id\":\"c908d971-75ba-4f89-b79a-bdfee04757e1\",\"type\":\"Toolbar\"},\"x_range\":{\"id\":\"b31e874b-f4f4-410b-830e-2ae46f513715\",\"type\":\"Range1d\"},\"x_scale\":{\"id\":\"013f9712-a44d-4bfe-b22e-4943ddc0a44d\",\"type\":\"LinearScale\"},\"y_range\":{\"id\":\"9d2ea919-72c4-47ea-8db1-1e405adef6cf\",\"type\":\"Range1d\"},\"y_scale\":{\"id\":\"b21d089a-d741-429a-b8e0-9f3ccf5dc4a4\",\"type\":\"LinearScale\"}},\"id\":\"60d6f672-c40f-4644-ae4c-08278993cb68\",\"subtype\":\"Figure\",\"type\":\"Plot\"},{\"attributes\":{},\"id\":\"e3705648-7ad9-4e47-82da-51e28ad63324\",\"type\":\"BasicTicker\"},{\"attributes\":{\"end_angle\":{\"field\":\"end_angle\",\"units\":\"rad\"},\"fill_color\":{\"field\":\"fill_color\"},\"line_color\":{\"field\":\"line_color\"},\"radius\":{\"units\":\"data\",\"value\":1},\"start_angle\":{\"field\":\"start_angle\",\"units\":\"rad\"},\"x\":{\"value\":0},\"y\":{\"value\":0}},\"id\":\"e5ef1762-1769-4443-adae-41b1201c517b\",\"type\":\"Wedge\"},{\"attributes\":{\"formatter\":{\"id\":\"64311e54-78ac-4e62-bf61-d013689da087\",\"type\":\"BasicTickFormatter\"},\"plot\":{\"id\":\"60d6f672-c40f-4644-ae4c-08278993cb68\",\"subtype\":\"Figure\",\"type\":\"Plot\"},\"ticker\":{\"id\":\"e3705648-7ad9-4e47-82da-51e28ad63324\",\"type\":\"BasicTicker\"}},\"id\":\"7a27210e-abd7-448b-a9ee-7bac492a020f\",\"type\":\"LinearAxis\"},{\"attributes\":{},\"id\":\"013f9712-a44d-4bfe-b22e-4943ddc0a44d\",\"type\":\"LinearScale\"},{\"attributes\":{},\"id\":\"354f0a64-bf1b-42cd-aff6-65a6a17bc508\",\"type\":\"PanTool\"},{\"attributes\":{},\"id\":\"b21d089a-d741-429a-b8e0-9f3ccf5dc4a4\",\"type\":\"LinearScale\"},{\"attributes\":{},\"id\":\"1aa4a3eb-b86e-45c4-ba8a-b300fa612e72\",\"type\":\"SaveTool\"},{\"attributes\":{\"callback\":null,\"column_names\":[\"start_angle\",\"end_angle\",\"fill_color\",\"line_color\"],\"data\":{\"end_angle\":[1.3483230272917568,0.0808993816375054,3.04721004167937,1.7528199354792835,0.05393292109167027,0.0,0.0],\"fill_color\":[\"#3288bd\",\"#66c2a5\",\"#abdda4\",\"#e6f598\",\"#fee08b\",\"#fdae61\",\"#f46d43\",\"#d53e4f\"],\"line_color\":[\"#3288bd\",\"#66c2a5\",\"#abdda4\",\"#e6f598\",\"#fee08b\",\"#fdae61\",\"#f46d43\",\"#d53e4f\"],\"start_angle\":[0.0,1.3483230272917568,0.0808993816375054,3.04721004167937,1.7528199354792835,0.05393292109167027,0.0]}},\"id\":\"43ca1a46-6e8c-47eb-ba8b-3fe237c80285\",\"type\":\"ColumnDataSource\"},{\"attributes\":{},\"id\":\"ebe85694-ee0a-401f-8583-6ec4ba567585\",\"type\":\"BasicTicker\"},{\"attributes\":{\"active_drag\":\"auto\",\"active_inspect\":\"auto\",\"active_scroll\":\"auto\",\"active_tap\":\"auto\",\"tools\":[{\"id\":\"354f0a64-bf1b-42cd-aff6-65a6a17bc508\",\"type\":\"PanTool\"},{\"id\":\"e5fe1d97-d82a-441c-a6a4-64ae290e964e\",\"type\":\"WheelZoomTool\"},{\"id\":\"275ccb06-880e-4887-9602-254fbffe1d97\",\"type\":\"BoxZoomTool\"},{\"id\":\"1aa4a3eb-b86e-45c4-ba8a-b300fa612e72\",\"type\":\"SaveTool\"},{\"id\":\"a3b7e19b-9a2f-451f-b743-6fc3196ebb01\",\"type\":\"ResetTool\"},{\"id\":\"b623db65-bd0d-40a2-9aef-65160db3b0a7\",\"type\":\"HelpTool\"}]},\"id\":\"c908d971-75ba-4f89-b79a-bdfee04757e1\",\"type\":\"Toolbar\"},{\"attributes\":{\"overlay\":{\"id\":\"33a87a0e-384a-45e6-9c4c-af26ea80cb88\",\"type\":\"BoxAnnotation\"}},\"id\":\"275ccb06-880e-4887-9602-254fbffe1d97\",\"type\":\"BoxZoomTool\"},{\"attributes\":{\"end_angle\":{\"field\":\"end_angle\",\"units\":\"rad\"},\"fill_alpha\":{\"value\":0.1},\"fill_color\":{\"value\":\"#1f77b4\"},\"line_alpha\":{\"value\":0.1},\"line_color\":{\"value\":\"#1f77b4\"},\"radius\":{\"units\":\"data\",\"value\":1},\"start_angle\":{\"field\":\"start_angle\",\"units\":\"rad\"},\"x\":{\"value\":0},\"y\":{\"value\":0}},\"id\":\"65d53e6c-b8e2-4d3b-8d84-3d9593b55735\",\"type\":\"Wedge\"},{\"attributes\":{},\"id\":\"e5fe1d97-d82a-441c-a6a4-64ae290e964e\",\"type\":\"WheelZoomTool\"},{\"attributes\":{\"dimension\":1,\"plot\":{\"id\":\"60d6f672-c40f-4644-ae4c-08278993cb68\",\"subtype\":\"Figure\",\"type\":\"Plot\"},\"ticker\":{\"id\":\"e3705648-7ad9-4e47-82da-51e28ad63324\",\"type\":\"BasicTicker\"}},\"id\":\"65716b51-7130-442a-94c3-8f111b6f67f2\",\"type\":\"Grid\"},{\"attributes\":{\"callback\":null,\"start\":-1},\"id\":\"b31e874b-f4f4-410b-830e-2ae46f513715\",\"type\":\"Range1d\"},{\"attributes\":{},\"id\":\"64311e54-78ac-4e62-bf61-d013689da087\",\"type\":\"BasicTickFormatter\"},{\"attributes\":{},\"id\":\"8a21219f-c304-4764-8313-42d97ad028e5\",\"type\":\"BasicTickFormatter\"}],\"root_ids\":[\"60d6f672-c40f-4644-ae4c-08278993cb68\"]},\"title\":\"Bokeh Application\",\"version\":\"0.12.13\"}};\n",
       "  var render_items = [{\"docid\":\"a373b2a3-b3d9-4a6c-9aca-e43dbd1a8cc1\",\"elementid\":\"01dd29e5-fdc5-4d88-b70d-f4071fd13cca\",\"modelid\":\"60d6f672-c40f-4644-ae4c-08278993cb68\"}];\n",
       "  root.Bokeh.embed.embed_items_notebook(docs_json, render_items);\n",
       "\n",
       "  }\n",
       "  if (root.Bokeh !== undefined) {\n",
       "    embed_document(root);\n",
       "  } else {\n",
       "    var attempts = 0;\n",
       "    var timer = setInterval(function(root) {\n",
       "      if (root.Bokeh !== undefined) {\n",
       "        embed_document(root);\n",
       "        clearInterval(timer);\n",
       "      }\n",
       "      attempts++;\n",
       "      if (attempts > 100) {\n",
       "        console.log(\"Bokeh: ERROR: Unable to run BokehJS code because BokehJS library is missing\")\n",
       "        clearInterval(timer);\n",
       "      }\n",
       "    }, 10, root)\n",
       "  }\n",
       "})(window);"
      ],
      "application/vnd.bokehjs_exec.v0+json": ""
     },
     "metadata": {
      "application/vnd.bokehjs_exec.v0+json": {
       "id": "60d6f672-c40f-4644-ae4c-08278993cb68"
      }
     },
     "output_type": "display_data"
    }
   ],
   "source": [
    "from numpy import pi\n",
    "\n",
    "# define starts/ends for wedges from percentages of a circle\n",
    "starts = [p*2*pi for p in percents[:-1]]\n",
    "ends = [p*2*pi for p in percents[1:]]\n",
    "\n",
    "pie = figure(x_range=(-1,1), y_range=(-1,1))\n",
    "\n",
    "pie.wedge(x=0, y=0, radius=1, start_angle=starts, end_angle=ends, color=Spectral8)\n",
    "\n",
    "show(pie)"
   ]
  },
  {
   "cell_type": "code",
   "execution_count": null,
   "metadata": {},
   "outputs": [],
   "source": []
  },
  {
   "cell_type": "code",
   "execution_count": 30,
   "metadata": {},
   "outputs": [
    {
     "data": {
      "text/plain": [
       "'\\nfrom bokeh.models import ColumnDataSource, HoverTool\\nfrom bokeh.plotting import figure\\nfrom bokeh.palettes import Spectral5\\nfrom bokeh.sampledata.autompg import autompg_clean as df\\nfrom bokeh.transform import factor_cmap\\n\\noutput_file(\"bars.html\")\\n\\ndf.cyl = df.cyl.astype(str)\\ndf.yr = df.yr.astype(str)\\n\\ngroup = df.groupby((\\'cyl\\', \\'mfr\\'))\\n\\nsource = ColumnDataSource(group)\\nindex_cmap = factor_cmap(\\'cyl_mfr\\', palette=Spectral5, factors=sorted(df.cyl.unique()), end=1)\\n\\np = figure(plot_width=800, plot_height=300, title=\"Mean MPG by # Cylinders and Manufacturer\",\\n           x_range=group, toolbar_location=None, tools=\"\")\\n\\np.vbar(x=\\'cyl_mfr\\', top=\\'mpg_mean\\', width=1, source=source,\\n       line_color=\"white\", fill_color=index_cmap, )\\n\\np.y_range.start = 0\\np.x_range.range_padding = 0.05\\np.xgrid.grid_line_color = None\\np.xaxis.axis_label = \"Manufacturer grouped by # Cylinders\"\\np.xaxis.major_label_orientation = 1.2\\np.outline_line_color = None\\n\\np.add_tools(HoverTool(tooltips=[(\"MPG\", \"@mpg_mean\"), (\"Cyl, Mfr\", \"@cyl_mfr\")]))\\n\\nshow(p)\\n'"
      ]
     },
     "execution_count": 30,
     "metadata": {},
     "output_type": "execute_result"
    }
   ],
   "source": [
    "'''\n",
    "from bokeh.models import ColumnDataSource, HoverTool\n",
    "from bokeh.plotting import figure\n",
    "from bokeh.palettes import Spectral5\n",
    "from bokeh.sampledata.autompg import autompg_clean as df\n",
    "from bokeh.transform import factor_cmap\n",
    "\n",
    "output_file(\"bars.html\")\n",
    "\n",
    "df.cyl = df.cyl.astype(str)\n",
    "df.yr = df.yr.astype(str)\n",
    "\n",
    "group = df.groupby(('cyl', 'mfr'))\n",
    "\n",
    "source = ColumnDataSource(group)\n",
    "index_cmap = factor_cmap('cyl_mfr', palette=Spectral5, factors=sorted(df.cyl.unique()), end=1)\n",
    "\n",
    "p = figure(plot_width=800, plot_height=300, title=\"Mean MPG by # Cylinders and Manufacturer\",\n",
    "           x_range=group, toolbar_location=None, tools=\"\")\n",
    "\n",
    "p.vbar(x='cyl_mfr', top='mpg_mean', width=1, source=source,\n",
    "       line_color=\"white\", fill_color=index_cmap, )\n",
    "\n",
    "p.y_range.start = 0\n",
    "p.x_range.range_padding = 0.05\n",
    "p.xgrid.grid_line_color = None\n",
    "p.xaxis.axis_label = \"Manufacturer grouped by # Cylinders\"\n",
    "p.xaxis.major_label_orientation = 1.2\n",
    "p.outline_line_color = None\n",
    "\n",
    "p.add_tools(HoverTool(tooltips=[(\"MPG\", \"@mpg_mean\"), (\"Cyl, Mfr\", \"@cyl_mfr\")]))\n",
    "\n",
    "show(p)\n",
    "'''"
   ]
  }
 ],
 "metadata": {
  "kernelspec": {
   "display_name": "Python 3",
   "language": "python",
   "name": "python3"
  },
  "language_info": {
   "codemirror_mode": {
    "name": "ipython",
    "version": 3
   },
   "file_extension": ".py",
   "mimetype": "text/x-python",
   "name": "python",
   "nbconvert_exporter": "python",
   "pygments_lexer": "ipython3",
   "version": "3.6.3"
  }
 },
 "nbformat": 4,
 "nbformat_minor": 2
}
